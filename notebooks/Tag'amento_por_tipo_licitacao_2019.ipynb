{
 "cells": [
  {
   "cell_type": "markdown",
   "id": "fa466ffd",
   "metadata": {},
   "source": [
    "## Neste documento, adicionaremos a tag legal/ilegal nos dados\n",
    "- Importação dos dados\n",
    "- Divisão por grupo de tipo de licitação\n",
    "- Criação do algorítmo de classificação\n",
    "- Implementação nas bases divididas por modalidade de licitação"
   ]
  },
  {
   "cell_type": "code",
   "execution_count": 1,
   "id": "d4318096",
   "metadata": {},
   "outputs": [],
   "source": [
    "import pandas as pd\n",
    "import glob\n",
    "import numpy as np\n",
    "import matplotlib.pyplot as plt"
   ]
  },
  {
   "cell_type": "code",
   "execution_count": 2,
   "id": "4defb4fa",
   "metadata": {},
   "outputs": [
    {
     "name": "stdout",
     "output_type": "stream",
     "text": [
      "Wall time: 0 ns\n"
     ]
    }
   ],
   "source": [
    "%time\n",
    "path = r'C:\\licitacoes_2019'\n",
    "filenames = glob.glob(path + \"/*.csv\")\n",
    "\n",
    "li= []\n",
    "\n",
    "for filename in filenames:\n",
    "    df = pd.read_csv(filename, index_col=None, header=0, decimal=',',sep=';',encoding='latin1')\n",
    "    li.append(df)\n",
    "\n",
    "df_lic_2019 = pd.concat(li, axis=0, ignore_index=True)"
   ]
  },
  {
   "cell_type": "code",
   "execution_count": 3,
   "id": "27a67660",
   "metadata": {},
   "outputs": [],
   "source": [
    "pd.options.display.max_colwidth = 1000"
   ]
  },
  {
   "cell_type": "code",
   "execution_count": 4,
   "id": "4bcdd0ed",
   "metadata": {},
   "outputs": [
    {
     "data": {
      "text/html": [
       "<div>\n",
       "<style scoped>\n",
       "    .dataframe tbody tr th:only-of-type {\n",
       "        vertical-align: middle;\n",
       "    }\n",
       "\n",
       "    .dataframe tbody tr th {\n",
       "        vertical-align: top;\n",
       "    }\n",
       "\n",
       "    .dataframe thead th {\n",
       "        text-align: right;\n",
       "    }\n",
       "</style>\n",
       "<table border=\"1\" class=\"dataframe\">\n",
       "  <thead>\n",
       "    <tr style=\"text-align: right;\">\n",
       "      <th></th>\n",
       "      <th>Número Licitação</th>\n",
       "      <th>Código UG</th>\n",
       "      <th>Nome UG</th>\n",
       "      <th>Código Modalidade Compra</th>\n",
       "      <th>Modalidade Compra</th>\n",
       "      <th>Número Processo</th>\n",
       "      <th>Objeto</th>\n",
       "      <th>Situação Licitação</th>\n",
       "      <th>Código Órgão Superior</th>\n",
       "      <th>Nome Órgão Superior</th>\n",
       "      <th>Código Órgão</th>\n",
       "      <th>Nome Órgão</th>\n",
       "      <th>Município</th>\n",
       "      <th>Data Resultado Compra</th>\n",
       "      <th>Data Abertura</th>\n",
       "      <th>Valor Licitação</th>\n",
       "    </tr>\n",
       "  </thead>\n",
       "  <tbody>\n",
       "    <tr>\n",
       "      <th>0</th>\n",
       "      <td>12017</td>\n",
       "      <td>160501</td>\n",
       "      <td>MUSEU HISTORICO DO EXERCITO FORTE COPACABANA</td>\n",
       "      <td>2</td>\n",
       "      <td>Tomada de Preços</td>\n",
       "      <td>64615003280201719</td>\n",
       "      <td>Objeto: Obra de restauração da rede de esgoto do Museu Histórico do Exército e Forte de Copacabana.</td>\n",
       "      <td>Evento de Resultado de Julgame</td>\n",
       "      <td>52000</td>\n",
       "      <td>Ministério da Defesa</td>\n",
       "      <td>52121</td>\n",
       "      <td>Comando do Exército</td>\n",
       "      <td>RIO DE JANEIRO</td>\n",
       "      <td>17/01/2019</td>\n",
       "      <td>NaN</td>\n",
       "      <td>564266.95</td>\n",
       "    </tr>\n",
       "  </tbody>\n",
       "</table>\n",
       "</div>"
      ],
      "text/plain": [
       "   Número Licitação  Código UG                                       Nome UG  \\\n",
       "0             12017     160501  MUSEU HISTORICO DO EXERCITO FORTE COPACABANA   \n",
       "\n",
       "   Código Modalidade Compra Modalidade Compra    Número Processo  \\\n",
       "0                         2  Tomada de Preços  64615003280201719   \n",
       "\n",
       "                                                                                                Objeto  \\\n",
       "0  Objeto: Obra de restauração da rede de esgoto do Museu Histórico do Exército e Forte de Copacabana.   \n",
       "\n",
       "               Situação Licitação  Código Órgão Superior  \\\n",
       "0  Evento de Resultado de Julgame                  52000   \n",
       "\n",
       "    Nome Órgão Superior  Código Órgão           Nome Órgão       Município  \\\n",
       "0  Ministério da Defesa         52121  Comando do Exército  RIO DE JANEIRO   \n",
       "\n",
       "  Data Resultado Compra Data Abertura  Valor Licitação  \n",
       "0            17/01/2019           NaN        564266.95  "
      ]
     },
     "execution_count": 4,
     "metadata": {},
     "output_type": "execute_result"
    }
   ],
   "source": [
    "df_lic_2019.head(1)"
   ]
  },
  {
   "cell_type": "code",
   "execution_count": 5,
   "id": "7420d3ea",
   "metadata": {},
   "outputs": [
    {
     "name": "stdout",
     "output_type": "stream",
     "text": [
      "<class 'pandas.core.frame.DataFrame'>\n",
      "RangeIndex: 169396 entries, 0 to 169395\n",
      "Data columns (total 16 columns):\n",
      " #   Column                    Non-Null Count   Dtype  \n",
      "---  ------                    --------------   -----  \n",
      " 0   Número Licitação          169396 non-null  int64  \n",
      " 1   Código UG                 169396 non-null  int64  \n",
      " 2   Nome UG                   169396 non-null  object \n",
      " 3   Código Modalidade Compra  169396 non-null  int64  \n",
      " 4   Modalidade Compra         169396 non-null  object \n",
      " 5   Número Processo           169390 non-null  object \n",
      " 6   Objeto                    169392 non-null  object \n",
      " 7   Situação Licitação        169396 non-null  object \n",
      " 8   Código Órgão Superior     169396 non-null  int64  \n",
      " 9   Nome Órgão Superior       169396 non-null  object \n",
      " 10  Código Órgão              169396 non-null  int64  \n",
      " 11  Nome Órgão                169396 non-null  object \n",
      " 12  Município                 169396 non-null  object \n",
      " 13  Data Resultado Compra     169396 non-null  object \n",
      " 14  Data Abertura             47292 non-null   object \n",
      " 15  Valor Licitação           169396 non-null  float64\n",
      "dtypes: float64(1), int64(5), object(10)\n",
      "memory usage: 20.7+ MB\n"
     ]
    }
   ],
   "source": [
    "df_lic_2019.info()"
   ]
  },
  {
   "cell_type": "code",
   "execution_count": 6,
   "id": "7a7c3db9",
   "metadata": {},
   "outputs": [
    {
     "data": {
      "text/plain": [
       "(169396, 16)"
      ]
     },
     "execution_count": 6,
     "metadata": {},
     "output_type": "execute_result"
    }
   ],
   "source": [
    "df_lic_2019.shape"
   ]
  },
  {
   "cell_type": "code",
   "execution_count": 7,
   "id": "14c347ee",
   "metadata": {},
   "outputs": [],
   "source": [
    "df_lic_2019.rename(columns={\"Valor Licitação\": \"Total\"},inplace=True)"
   ]
  },
  {
   "cell_type": "code",
   "execution_count": 8,
   "id": "3b7c8951",
   "metadata": {},
   "outputs": [
    {
     "data": {
      "text/plain": [
       "Dispensa de Licitação               111021\n",
       "Inexigibilidade de Licitação         21538\n",
       "Pregão - Registro de Preço           19894\n",
       "Pregão                               15963\n",
       "Tomada de Preços                       624\n",
       "Concorrência                           186\n",
       "Convite                                145\n",
       "Concurso                                17\n",
       "Concorrência - Registro de Preço         5\n",
       "Concorrência Internacional               3\n",
       "Name: Modalidade Compra, dtype: int64"
      ]
     },
     "execution_count": 8,
     "metadata": {},
     "output_type": "execute_result"
    }
   ],
   "source": [
    "df_lic_2019['Modalidade Compra'].value_counts()"
   ]
  },
  {
   "cell_type": "markdown",
   "id": "7ffac887",
   "metadata": {},
   "source": [
    "## É Obra ?"
   ]
  },
  {
   "cell_type": "code",
   "execution_count": 9,
   "id": "5786a7aa",
   "metadata": {},
   "outputs": [],
   "source": [
    "df_lic_2019['Obras'] = df_lic_2019['Objeto'].str.contains(\"OBRAS|OBRA|obras|obra|ENGENHARIA|engenharia|CONSTRU-CAO|constru-cao\", na=False)"
   ]
  },
  {
   "cell_type": "code",
   "execution_count": 10,
   "id": "9178dc81",
   "metadata": {},
   "outputs": [
    {
     "data": {
      "text/plain": [
       "False    164656\n",
       "True       4740\n",
       "Name: Obras, dtype: int64"
      ]
     },
     "execution_count": 10,
     "metadata": {},
     "output_type": "execute_result"
    }
   ],
   "source": [
    "df_lic_2019['Obras'].value_counts()"
   ]
  },
  {
   "cell_type": "code",
   "execution_count": 11,
   "id": "0a17cbfc",
   "metadata": {},
   "outputs": [],
   "source": [
    "df_lic_2019['Tipo'] = 1"
   ]
  },
  {
   "cell_type": "code",
   "execution_count": 12,
   "id": "77c321ce",
   "metadata": {},
   "outputs": [],
   "source": [
    "df_lic_2019.loc[df_lic_2019['Obras'] == True, 'Tipo'] = 'Obras'\n",
    "df_lic_2019.loc[df_lic_2019['Obras'] == False, 'Tipo'] = 'Compras/Servicos'"
   ]
  },
  {
   "cell_type": "code",
   "execution_count": 13,
   "id": "d9fd7462",
   "metadata": {},
   "outputs": [
    {
     "data": {
      "text/plain": [
       "Compras/Servicos    164656\n",
       "Obras                 4740\n",
       "Name: Tipo, dtype: int64"
      ]
     },
     "execution_count": 13,
     "metadata": {},
     "output_type": "execute_result"
    }
   ],
   "source": [
    "df_lic_2019['Tipo'].value_counts()"
   ]
  },
  {
   "cell_type": "code",
   "execution_count": 14,
   "id": "15e15e06",
   "metadata": {},
   "outputs": [],
   "source": [
    "#Excluindo o atributo Obras que não será utilizado nas análises posteriores.\n",
    "df_lic_2019.drop(columns=['Obras'], axis=1, inplace=True)"
   ]
  },
  {
   "cell_type": "code",
   "execution_count": 15,
   "id": "dbbd8a88",
   "metadata": {},
   "outputs": [
    {
     "name": "stdout",
     "output_type": "stream",
     "text": [
      "<class 'pandas.core.frame.DataFrame'>\n",
      "RangeIndex: 169396 entries, 0 to 169395\n",
      "Data columns (total 17 columns):\n",
      " #   Column                    Non-Null Count   Dtype  \n",
      "---  ------                    --------------   -----  \n",
      " 0   Número Licitação          169396 non-null  int64  \n",
      " 1   Código UG                 169396 non-null  int64  \n",
      " 2   Nome UG                   169396 non-null  object \n",
      " 3   Código Modalidade Compra  169396 non-null  int64  \n",
      " 4   Modalidade Compra         169396 non-null  object \n",
      " 5   Número Processo           169390 non-null  object \n",
      " 6   Objeto                    169392 non-null  object \n",
      " 7   Situação Licitação        169396 non-null  object \n",
      " 8   Código Órgão Superior     169396 non-null  int64  \n",
      " 9   Nome Órgão Superior       169396 non-null  object \n",
      " 10  Código Órgão              169396 non-null  int64  \n",
      " 11  Nome Órgão                169396 non-null  object \n",
      " 12  Município                 169396 non-null  object \n",
      " 13  Data Resultado Compra     169396 non-null  object \n",
      " 14  Data Abertura             47292 non-null   object \n",
      " 15  Total                     169396 non-null  float64\n",
      " 16  Tipo                      169396 non-null  object \n",
      "dtypes: float64(1), int64(5), object(11)\n",
      "memory usage: 22.0+ MB\n"
     ]
    }
   ],
   "source": [
    "df_lic_2019.info()"
   ]
  },
  {
   "cell_type": "markdown",
   "id": "d75b1db9",
   "metadata": {},
   "source": [
    "# Separando as Licitações por Modalidade de Compra e aplicando as regras de acordo com os valores a partir do Decreto n. 9.412, de 18 de Junho de 2019."
   ]
  },
  {
   "cell_type": "markdown",
   "id": "d973d9ab",
   "metadata": {},
   "source": [
    "## Registro de Preço/ Concorrência/Concorrência - Registro de Preço"
   ]
  },
  {
   "cell_type": "code",
   "execution_count": 16,
   "id": "cc898712",
   "metadata": {},
   "outputs": [],
   "source": [
    "df_lic_2019_RP = df_lic_2019[(df_lic_2019['Modalidade Compra']  == 'Pregão - Registro de Preço') | (df_lic_2019['Modalidade Compra'] == 'Concorrência - Registro de Preço') | (df_lic_2019['Modalidade Compra'] == 'Concorrência')]"
   ]
  },
  {
   "cell_type": "code",
   "execution_count": 17,
   "id": "81d1ae53",
   "metadata": {},
   "outputs": [
    {
     "data": {
      "text/plain": [
       "Pregão - Registro de Preço          19894\n",
       "Concorrência                          186\n",
       "Concorrência - Registro de Preço        5\n",
       "Name: Modalidade Compra, dtype: int64"
      ]
     },
     "execution_count": 17,
     "metadata": {},
     "output_type": "execute_result"
    }
   ],
   "source": [
    "df_lic_2019_RP['Modalidade Compra'].value_counts()"
   ]
  },
  {
   "cell_type": "code",
   "execution_count": 18,
   "id": "5ac16e8d",
   "metadata": {},
   "outputs": [
    {
     "data": {
      "text/plain": [
       "Compras/Servicos    19572\n",
       "Obras                 513\n",
       "Name: Tipo, dtype: int64"
      ]
     },
     "execution_count": 18,
     "metadata": {},
     "output_type": "execute_result"
    }
   ],
   "source": [
    "df_lic_2019_RP['Tipo'].value_counts()"
   ]
  },
  {
   "cell_type": "code",
   "execution_count": 19,
   "id": "b36a707f",
   "metadata": {},
   "outputs": [],
   "source": [
    "# Separando a modalidade em Obras e Compras/Serviços\n",
    "lic_obras_RP_2019 = df_lic_2019_RP[df_lic_2019_RP['Tipo'] == 'Obras']\n",
    "lic_compras_RP_2019 = df_lic_2019_RP[df_lic_2019_RP['Tipo'] != 'Obras']"
   ]
  },
  {
   "cell_type": "markdown",
   "id": "0eb3ae8a",
   "metadata": {},
   "source": [
    "## Tag'ando como legal ou ilegal de acordo  com Decreto nº 9.412, de 18 de Junho de 2019"
   ]
  },
  {
   "cell_type": "markdown",
   "id": "eb7ae123",
   "metadata": {},
   "source": [
    "#### 0: ilegal\n",
    "#### 1: legal"
   ]
  },
  {
   "cell_type": "code",
   "execution_count": 20,
   "id": "a53dc491",
   "metadata": {},
   "outputs": [
    {
     "name": "stderr",
     "output_type": "stream",
     "text": [
      "C:\\Users\\lrr\\AppData\\Local\\Temp/ipykernel_11512/279326536.py:1: SettingWithCopyWarning: \n",
      "A value is trying to be set on a copy of a slice from a DataFrame.\n",
      "Try using .loc[row_indexer,col_indexer] = value instead\n",
      "\n",
      "See the caveats in the documentation: https://pandas.pydata.org/pandas-docs/stable/user_guide/indexing.html#returning-a-view-versus-a-copy\n",
      "  lic_obras_RP_2019['Tag'] = 0\n",
      "C:\\Users\\lrr\\AppData\\Local\\Temp/ipykernel_11512/279326536.py:2: SettingWithCopyWarning: \n",
      "A value is trying to be set on a copy of a slice from a DataFrame.\n",
      "Try using .loc[row_indexer,col_indexer] = value instead\n",
      "\n",
      "See the caveats in the documentation: https://pandas.pydata.org/pandas-docs/stable/user_guide/indexing.html#returning-a-view-versus-a-copy\n",
      "  lic_compras_RP_2019['Tag'] = 0\n"
     ]
    }
   ],
   "source": [
    "lic_obras_RP_2019['Tag'] = 0\n",
    "lic_compras_RP_2019['Tag'] = 0"
   ]
  },
  {
   "cell_type": "code",
   "execution_count": 21,
   "id": "2480e499",
   "metadata": {},
   "outputs": [
    {
     "name": "stderr",
     "output_type": "stream",
     "text": [
      "C:\\Users\\lrr\\anaconda3\\lib\\site-packages\\pandas\\core\\indexing.py:1817: SettingWithCopyWarning: \n",
      "A value is trying to be set on a copy of a slice from a DataFrame.\n",
      "Try using .loc[row_indexer,col_indexer] = value instead\n",
      "\n",
      "See the caveats in the documentation: https://pandas.pydata.org/pandas-docs/stable/user_guide/indexing.html#returning-a-view-versus-a-copy\n",
      "  self._setitem_single_column(loc, value, pi)\n"
     ]
    }
   ],
   "source": [
    "#regra de limite de valor\n",
    "#Considerando REGISTRO DE PREÇO como CONCORRENCIA e CONCORRENCIA - REGISTRO DE PREÇO\n",
    "lic_obras_RP_2019.loc[lic_obras_RP_2019['Total'] > 3300000, 'Tag'] = 1\n",
    "lic_compras_RP_2019.loc[lic_compras_RP_2019['Total'] > 1430000, 'Tag'] = 1"
   ]
  },
  {
   "cell_type": "code",
   "execution_count": 22,
   "id": "a5364635",
   "metadata": {},
   "outputs": [
    {
     "data": {
      "text/plain": [
       "0    455\n",
       "1     58\n",
       "Name: Tag, dtype: int64"
      ]
     },
     "execution_count": 22,
     "metadata": {},
     "output_type": "execute_result"
    }
   ],
   "source": [
    "lic_obras_RP_2019['Tag'].value_counts()"
   ]
  },
  {
   "cell_type": "code",
   "execution_count": 23,
   "id": "d3d600e5",
   "metadata": {},
   "outputs": [
    {
     "data": {
      "image/png": "[encoded data removed]",
      "text/plain": [
       "<Figure size 432x288 with 1 Axes>"
      ]
     },
     "metadata": {
      "needs_background": "light"
     },
     "output_type": "display_data"
    }
   ],
   "source": [
    "# Análise visual das licitações Ilegais para esta modalidade\n",
    "lic_obras_RP_2019[lic_obras_RP_2019['Tag'] == 0]['Total'].plot.box()\n",
    "plt.show()"
   ]
  },
  {
   "cell_type": "code",
   "execution_count": 24,
   "id": "c4df5a34",
   "metadata": {},
   "outputs": [
    {
     "data": {
      "text/plain": [
       "count    4.550000e+02\n",
       "mean     2.522252e+05\n",
       "std      5.814601e+05\n",
       "min      0.000000e+00\n",
       "25%      3.649000e+03\n",
       "50%      2.800000e+04\n",
       "75%      1.552992e+05\n",
       "max      3.272064e+06\n",
       "Name: Total, dtype: float64"
      ]
     },
     "execution_count": 24,
     "metadata": {},
     "output_type": "execute_result"
    }
   ],
   "source": [
    "lic_obras_RP_2019[lic_obras_RP_2019['Tag'] == 0]['Total'].describe()"
   ]
  },
  {
   "cell_type": "code",
   "execution_count": 25,
   "id": "b92fdf13",
   "metadata": {},
   "outputs": [
    {
     "data": {
      "text/plain": [
       "<AxesSubplot:>"
      ]
     },
     "execution_count": 25,
     "metadata": {},
     "output_type": "execute_result"
    },
    {
     "data": {
      "image/png": "[encoded data removed]",
      "text/plain": [
       "<Figure size 432x288 with 1 Axes>"
      ]
     },
     "metadata": {
      "needs_background": "light"
     },
     "output_type": "display_data"
    }
   ],
   "source": [
    "lic_obras_RP_2019[lic_obras_RP_2019['Tag'] == 1]['Total'].plot.box()"
   ]
  },
  {
   "cell_type": "code",
   "execution_count": 26,
   "id": "9b84db06",
   "metadata": {},
   "outputs": [
    {
     "data": {
      "text/plain": [
       "0    19144\n",
       "1      428\n",
       "Name: Tag, dtype: int64"
      ]
     },
     "execution_count": 26,
     "metadata": {},
     "output_type": "execute_result"
    }
   ],
   "source": [
    "lic_compras_RP_2019['Tag'].value_counts()"
   ]
  },
  {
   "cell_type": "code",
   "execution_count": 27,
   "id": "bf4096fe",
   "metadata": {},
   "outputs": [
    {
     "data": {
      "text/plain": [
       "<AxesSubplot:>"
      ]
     },
     "execution_count": 27,
     "metadata": {},
     "output_type": "execute_result"
    },
    {
     "data": {
      "image/png": "[encoded data removed]",
      "text/plain": [
       "<Figure size 432x288 with 1 Axes>"
      ]
     },
     "metadata": {
      "needs_background": "light"
     },
     "output_type": "display_data"
    }
   ],
   "source": [
    "# Visualizando as licitações do tipo Registro de Preço que foram Ilegais\n",
    "lic_compras_RP_2019[lic_compras_RP_2019['Tag'] == 0]['Total'].plot.box()"
   ]
  },
  {
   "cell_type": "code",
   "execution_count": 28,
   "id": "c607d662",
   "metadata": {},
   "outputs": [
    {
     "data": {
      "text/plain": [
       "count    1.914400e+04\n",
       "mean     5.362206e+04\n",
       "std      1.543893e+05\n",
       "min      0.000000e+00\n",
       "25%      3.258325e+02\n",
       "50%      4.847330e+03\n",
       "75%      3.060000e+04\n",
       "max      1.430000e+06\n",
       "Name: Total, dtype: float64"
      ]
     },
     "execution_count": 28,
     "metadata": {},
     "output_type": "execute_result"
    }
   ],
   "source": [
    "lic_compras_RP_2019[lic_compras_RP_2019['Tag'] == 0]['Total'].describe()"
   ]
  },
  {
   "cell_type": "code",
   "execution_count": 29,
   "id": "b261e2d7",
   "metadata": {},
   "outputs": [
    {
     "data": {
      "text/plain": [
       "<AxesSubplot:>"
      ]
     },
     "execution_count": 29,
     "metadata": {},
     "output_type": "execute_result"
    },
    {
     "data": {
      "image/png": "[encoded data removed]",
      "text/plain": [
       "<Figure size 432x288 with 1 Axes>"
      ]
     },
     "metadata": {
      "needs_background": "light"
     },
     "output_type": "display_data"
    }
   ],
   "source": [
    "# Visualizando as licitações do tipo Registro de Preço que foram Legais\n",
    "lic_compras_RP_2019[lic_compras_RP_2019['Tag'] == 1]['Total'].plot.box()"
   ]
  },
  {
   "cell_type": "code",
   "execution_count": 30,
   "id": "b52ec2c7",
   "metadata": {},
   "outputs": [
    {
     "data": {
      "text/plain": [
       "count    4.280000e+02\n",
       "mean     6.531219e+07\n",
       "std      1.088769e+09\n",
       "min      1.433604e+06\n",
       "25%      2.210588e+06\n",
       "50%      3.742204e+06\n",
       "75%      8.030066e+06\n",
       "max      2.250000e+10\n",
       "Name: Total, dtype: float64"
      ]
     },
     "execution_count": 30,
     "metadata": {},
     "output_type": "execute_result"
    }
   ],
   "source": [
    "lic_compras_RP_2019[lic_compras_RP_2019['Tag'] == 1]['Total'].describe()"
   ]
  },
  {
   "cell_type": "markdown",
   "id": "3beba261",
   "metadata": {},
   "source": [
    "## Dispensa de Licitação"
   ]
  },
  {
   "cell_type": "code",
   "execution_count": 31,
   "id": "1417effc",
   "metadata": {},
   "outputs": [],
   "source": [
    "df_lic_2019_Dispensa = df_lic_2019[df_lic_2019['Modalidade Compra'] == 'Dispensa de Licitação']"
   ]
  },
  {
   "cell_type": "code",
   "execution_count": 32,
   "id": "e06a1757",
   "metadata": {},
   "outputs": [
    {
     "data": {
      "text/plain": [
       "Dispensa de Licitação    111021\n",
       "Name: Modalidade Compra, dtype: int64"
      ]
     },
     "execution_count": 32,
     "metadata": {},
     "output_type": "execute_result"
    }
   ],
   "source": [
    "df_lic_2019_Dispensa['Modalidade Compra'].value_counts()"
   ]
  },
  {
   "cell_type": "code",
   "execution_count": 33,
   "id": "4584d7dc",
   "metadata": {},
   "outputs": [
    {
     "data": {
      "text/plain": [
       "Compras/Servicos    108960\n",
       "Obras                 2061\n",
       "Name: Tipo, dtype: int64"
      ]
     },
     "execution_count": 33,
     "metadata": {},
     "output_type": "execute_result"
    }
   ],
   "source": [
    "df_lic_2019_Dispensa['Tipo'].value_counts()"
   ]
  },
  {
   "cell_type": "code",
   "execution_count": 34,
   "id": "4dd345bf",
   "metadata": {},
   "outputs": [],
   "source": [
    "lic_obras_Dispensa_2019 = df_lic_2019_Dispensa[df_lic_2019_Dispensa['Tipo'] == 'Obras']\n",
    "lic_compras_Dispensa_2019 = df_lic_2019_Dispensa[df_lic_2019_Dispensa['Tipo'] != 'Obras']"
   ]
  },
  {
   "cell_type": "code",
   "execution_count": 35,
   "id": "0b03f2b5",
   "metadata": {},
   "outputs": [
    {
     "data": {
      "text/plain": [
       "Obras    2061\n",
       "Name: Tipo, dtype: int64"
      ]
     },
     "execution_count": 35,
     "metadata": {},
     "output_type": "execute_result"
    }
   ],
   "source": [
    "lic_obras_Dispensa_2019['Tipo'].value_counts()"
   ]
  },
  {
   "cell_type": "code",
   "execution_count": 36,
   "id": "5da097b1",
   "metadata": {},
   "outputs": [
    {
     "data": {
      "text/plain": [
       "Compras/Servicos    108960\n",
       "Name: Tipo, dtype: int64"
      ]
     },
     "execution_count": 36,
     "metadata": {},
     "output_type": "execute_result"
    }
   ],
   "source": [
    "lic_compras_Dispensa_2019['Tipo'].value_counts()"
   ]
  },
  {
   "cell_type": "markdown",
   "id": "1ab70b41",
   "metadata": {},
   "source": [
    "## Tag'ando como legal ou ilegal de acordo com Decreto nº 9.412, de 18 de Junho de 2019\n",
    "\n",
    "#### 0: ilegal\n",
    "#### 1: legal"
   ]
  },
  {
   "cell_type": "code",
   "execution_count": 37,
   "id": "33ea8c83",
   "metadata": {},
   "outputs": [
    {
     "name": "stderr",
     "output_type": "stream",
     "text": [
      "C:\\Users\\lrr\\AppData\\Local\\Temp/ipykernel_11512/3261363645.py:1: SettingWithCopyWarning: \n",
      "A value is trying to be set on a copy of a slice from a DataFrame.\n",
      "Try using .loc[row_indexer,col_indexer] = value instead\n",
      "\n",
      "See the caveats in the documentation: https://pandas.pydata.org/pandas-docs/stable/user_guide/indexing.html#returning-a-view-versus-a-copy\n",
      "  lic_obras_Dispensa_2019['Tag'] = 0\n",
      "C:\\Users\\lrr\\AppData\\Local\\Temp/ipykernel_11512/3261363645.py:2: SettingWithCopyWarning: \n",
      "A value is trying to be set on a copy of a slice from a DataFrame.\n",
      "Try using .loc[row_indexer,col_indexer] = value instead\n",
      "\n",
      "See the caveats in the documentation: https://pandas.pydata.org/pandas-docs/stable/user_guide/indexing.html#returning-a-view-versus-a-copy\n",
      "  lic_compras_Dispensa_2019['Tag'] = 0\n"
     ]
    }
   ],
   "source": [
    "lic_obras_Dispensa_2019['Tag'] = 0\n",
    "lic_compras_Dispensa_2019['Tag'] = 0"
   ]
  },
  {
   "cell_type": "code",
   "execution_count": 38,
   "id": "d52917c7",
   "metadata": {},
   "outputs": [
    {
     "name": "stderr",
     "output_type": "stream",
     "text": [
      "C:\\Users\\lrr\\anaconda3\\lib\\site-packages\\pandas\\core\\indexing.py:1817: SettingWithCopyWarning: \n",
      "A value is trying to be set on a copy of a slice from a DataFrame.\n",
      "Try using .loc[row_indexer,col_indexer] = value instead\n",
      "\n",
      "See the caveats in the documentation: https://pandas.pydata.org/pandas-docs/stable/user_guide/indexing.html#returning-a-view-versus-a-copy\n",
      "  self._setitem_single_column(loc, value, pi)\n"
     ]
    }
   ],
   "source": [
    "#regra de limite de valor\n",
    "lic_obras_Dispensa_2019.loc[lic_obras_Dispensa_2019['Total'] <= 33000 , 'Tag'] = 1\n",
    "lic_compras_Dispensa_2019.loc[lic_compras_Dispensa_2019['Total'] <= 17600, 'Tag'] = 1"
   ]
  },
  {
   "cell_type": "code",
   "execution_count": 39,
   "id": "7c43bf62",
   "metadata": {},
   "outputs": [
    {
     "data": {
      "text/plain": [
       "1    1797\n",
       "0     264\n",
       "Name: Tag, dtype: int64"
      ]
     },
     "execution_count": 39,
     "metadata": {},
     "output_type": "execute_result"
    }
   ],
   "source": [
    "lic_obras_Dispensa_2019['Tag'].value_counts()"
   ]
  },
  {
   "cell_type": "code",
   "execution_count": 40,
   "id": "71a9884c",
   "metadata": {},
   "outputs": [
    {
     "data": {
      "image/png": "[encoded data removed]",
      "text/plain": [
       "<Figure size 432x288 with 1 Axes>"
      ]
     },
     "metadata": {
      "needs_background": "light"
     },
     "output_type": "display_data"
    }
   ],
   "source": [
    "lic_obras_Dispensa_2019[lic_obras_Dispensa_2019['Tag'] == 1]['Total'].plot.box()\n",
    "plt.show()"
   ]
  },
  {
   "cell_type": "code",
   "execution_count": 41,
   "id": "4fd077bb",
   "metadata": {},
   "outputs": [
    {
     "data": {
      "text/plain": [
       "count     1797.000000\n",
       "mean      7977.030223\n",
       "std       8694.307743\n",
       "min          1.000000\n",
       "25%       1385.500000\n",
       "50%       4324.000000\n",
       "75%      12613.140000\n",
       "max      33000.000000\n",
       "Name: Total, dtype: float64"
      ]
     },
     "execution_count": 41,
     "metadata": {},
     "output_type": "execute_result"
    }
   ],
   "source": [
    "lic_obras_Dispensa_2019[lic_obras_Dispensa_2019['Tag'] == 1]['Total'].describe()"
   ]
  },
  {
   "cell_type": "code",
   "execution_count": 42,
   "id": "a72ea562",
   "metadata": {},
   "outputs": [
    {
     "data": {
      "image/png": "[encoded data removed]",
      "text/plain": [
       "<Figure size 432x288 with 1 Axes>"
      ]
     },
     "metadata": {
      "needs_background": "light"
     },
     "output_type": "display_data"
    }
   ],
   "source": [
    "lic_obras_Dispensa_2019[lic_obras_Dispensa_2019['Tag'] == 0]['Total'].plot.box()\n",
    "plt.show()"
   ]
  },
  {
   "cell_type": "code",
   "execution_count": 43,
   "id": "555438f8",
   "metadata": {},
   "outputs": [
    {
     "data": {
      "text/plain": [
       "count    2.640000e+02\n",
       "mean     1.351722e+06\n",
       "std      3.387311e+06\n",
       "min      3.571234e+04\n",
       "25%      8.745128e+04\n",
       "50%      2.742784e+05\n",
       "75%      8.077608e+05\n",
       "max      3.442936e+07\n",
       "Name: Total, dtype: float64"
      ]
     },
     "execution_count": 43,
     "metadata": {},
     "output_type": "execute_result"
    }
   ],
   "source": [
    "lic_obras_Dispensa_2019[lic_obras_Dispensa_2019['Tag'] == 0]['Total'].describe()"
   ]
  },
  {
   "cell_type": "code",
   "execution_count": 44,
   "id": "43349d12",
   "metadata": {},
   "outputs": [
    {
     "data": {
      "text/plain": [
       "1    102074\n",
       "0      6886\n",
       "Name: Tag, dtype: int64"
      ]
     },
     "execution_count": 44,
     "metadata": {},
     "output_type": "execute_result"
    }
   ],
   "source": [
    "lic_compras_Dispensa_2019['Tag'].value_counts()"
   ]
  },
  {
   "cell_type": "code",
   "execution_count": 45,
   "id": "8469acf4",
   "metadata": {},
   "outputs": [
    {
     "data": {
      "image/png": "[encoded data removed]",
      "text/plain": [
       "<Figure size 432x288 with 1 Axes>"
      ]
     },
     "metadata": {
      "needs_background": "light"
     },
     "output_type": "display_data"
    }
   ],
   "source": [
    "lic_compras_Dispensa_2019[lic_compras_Dispensa_2019['Tag'] == 1]['Total'].plot.box()\n",
    "plt.show()"
   ]
  },
  {
   "cell_type": "code",
   "execution_count": 46,
   "id": "4ea1aab7",
   "metadata": {},
   "outputs": [
    {
     "data": {
      "text/plain": [
       "count    102074.000000\n",
       "mean       4123.038055\n",
       "std        4500.305806\n",
       "min           0.000000\n",
       "25%         856.000000\n",
       "50%        2290.000000\n",
       "75%        5819.825000\n",
       "max       17600.000000\n",
       "Name: Total, dtype: float64"
      ]
     },
     "execution_count": 46,
     "metadata": {},
     "output_type": "execute_result"
    }
   ],
   "source": [
    "lic_compras_Dispensa_2019[lic_compras_Dispensa_2019['Tag'] == 1]['Total'].describe()"
   ]
  },
  {
   "cell_type": "code",
   "execution_count": 47,
   "id": "eb1b0438",
   "metadata": {},
   "outputs": [
    {
     "data": {
      "image/png": "[encoded data removed]",
      "text/plain": [
       "<Figure size 432x288 with 1 Axes>"
      ]
     },
     "metadata": {
      "needs_background": "light"
     },
     "output_type": "display_data"
    }
   ],
   "source": [
    "lic_compras_Dispensa_2019[lic_compras_Dispensa_2019['Tag'] == 0]['Total'].plot.box()\n",
    "plt.show()"
   ]
  },
  {
   "cell_type": "code",
   "execution_count": 48,
   "id": "7869a53a",
   "metadata": {},
   "outputs": [
    {
     "data": {
      "text/plain": [
       "count    6.886000e+03\n",
       "mean     1.568725e+06\n",
       "std      2.071970e+07\n",
       "min      1.760200e+04\n",
       "25%      3.044706e+04\n",
       "50%      6.952000e+04\n",
       "75%      3.367689e+05\n",
       "max      1.134000e+09\n",
       "Name: Total, dtype: float64"
      ]
     },
     "execution_count": 48,
     "metadata": {},
     "output_type": "execute_result"
    }
   ],
   "source": [
    "lic_compras_Dispensa_2019[lic_compras_Dispensa_2019['Tag'] == 0]['Total'].describe()"
   ]
  },
  {
   "cell_type": "markdown",
   "id": "a33dc1f7",
   "metadata": {},
   "source": [
    "## Tomada de Preço"
   ]
  },
  {
   "cell_type": "code",
   "execution_count": 49,
   "id": "aa38f8c9",
   "metadata": {},
   "outputs": [],
   "source": [
    "df_lic_2019_tomada_de_preco = df_lic_2019[df_lic_2019['Modalidade Compra'] == 'Tomada de Preços']"
   ]
  },
  {
   "cell_type": "code",
   "execution_count": 50,
   "id": "88c845c8",
   "metadata": {},
   "outputs": [
    {
     "data": {
      "text/plain": [
       "Tomada de Preços    624\n",
       "Name: Modalidade Compra, dtype: int64"
      ]
     },
     "execution_count": 50,
     "metadata": {},
     "output_type": "execute_result"
    }
   ],
   "source": [
    "df_lic_2019_tomada_de_preco['Modalidade Compra'].value_counts()"
   ]
  },
  {
   "cell_type": "code",
   "execution_count": 51,
   "id": "b719bb05",
   "metadata": {},
   "outputs": [
    {
     "data": {
      "text/plain": [
       "Compras/Servicos    417\n",
       "Obras               207\n",
       "Name: Tipo, dtype: int64"
      ]
     },
     "execution_count": 51,
     "metadata": {},
     "output_type": "execute_result"
    }
   ],
   "source": [
    "df_lic_2019_tomada_de_preco['Tipo'].value_counts()"
   ]
  },
  {
   "cell_type": "code",
   "execution_count": 52,
   "id": "abb02694",
   "metadata": {},
   "outputs": [],
   "source": [
    "lic_obras_tomada_de_preco_2019 = df_lic_2019_tomada_de_preco[df_lic_2019_tomada_de_preco['Tipo'] == 'Obras']\n",
    "lic_compras_tomada_de_preco_2019 = df_lic_2019_tomada_de_preco[df_lic_2019_tomada_de_preco['Tipo'] != 'Obras']"
   ]
  },
  {
   "cell_type": "code",
   "execution_count": 53,
   "id": "f16edbb3",
   "metadata": {},
   "outputs": [
    {
     "data": {
      "text/plain": [
       "Obras    207\n",
       "Name: Tipo, dtype: int64"
      ]
     },
     "execution_count": 53,
     "metadata": {},
     "output_type": "execute_result"
    }
   ],
   "source": [
    "lic_obras_tomada_de_preco_2019['Tipo'].value_counts()"
   ]
  },
  {
   "cell_type": "code",
   "execution_count": 54,
   "id": "c2b5b125",
   "metadata": {},
   "outputs": [
    {
     "data": {
      "text/plain": [
       "Compras/Servicos    417\n",
       "Name: Tipo, dtype: int64"
      ]
     },
     "execution_count": 54,
     "metadata": {},
     "output_type": "execute_result"
    }
   ],
   "source": [
    "lic_compras_tomada_de_preco_2019['Tipo'].value_counts()"
   ]
  },
  {
   "cell_type": "code",
   "execution_count": 55,
   "id": "06769485",
   "metadata": {},
   "outputs": [
    {
     "name": "stderr",
     "output_type": "stream",
     "text": [
      "C:\\Users\\lrr\\AppData\\Local\\Temp/ipykernel_11512/1560496682.py:6: SettingWithCopyWarning: \n",
      "A value is trying to be set on a copy of a slice from a DataFrame.\n",
      "Try using .loc[row_indexer,col_indexer] = value instead\n",
      "\n",
      "See the caveats in the documentation: https://pandas.pydata.org/pandas-docs/stable/user_guide/indexing.html#returning-a-view-versus-a-copy\n",
      "  lic_obras_tomada_de_preco_2019['Tag'] = 0\n",
      "C:\\Users\\lrr\\AppData\\Local\\Temp/ipykernel_11512/1560496682.py:7: SettingWithCopyWarning: \n",
      "A value is trying to be set on a copy of a slice from a DataFrame.\n",
      "Try using .loc[row_indexer,col_indexer] = value instead\n",
      "\n",
      "See the caveats in the documentation: https://pandas.pydata.org/pandas-docs/stable/user_guide/indexing.html#returning-a-view-versus-a-copy\n",
      "  lic_compras_tomada_de_preco_2019['Tag'] = 0\n",
      "C:\\Users\\lrr\\anaconda3\\lib\\site-packages\\pandas\\core\\indexing.py:1817: SettingWithCopyWarning: \n",
      "A value is trying to be set on a copy of a slice from a DataFrame.\n",
      "Try using .loc[row_indexer,col_indexer] = value instead\n",
      "\n",
      "See the caveats in the documentation: https://pandas.pydata.org/pandas-docs/stable/user_guide/indexing.html#returning-a-view-versus-a-copy\n",
      "  self._setitem_single_column(loc, value, pi)\n"
     ]
    }
   ],
   "source": [
    "## Tag'ando como legal ou ilegal de acordo com Decreto nº 9.412, de 18 de Junho de 2019\n",
    "\n",
    "#### 0: ilegal\n",
    "#### 1: legal\n",
    "\n",
    "lic_obras_tomada_de_preco_2019['Tag'] = 0\n",
    "lic_compras_tomada_de_preco_2019['Tag'] = 0\n",
    "\n",
    "#regra de limite de valor\n",
    "lic_obras_tomada_de_preco_2019.loc[(lic_obras_tomada_de_preco_2019['Total'] >  330000) & (lic_obras_tomada_de_preco_2019['Total'] <=   3300000) , 'Tag'] = 1\n",
    "lic_compras_tomada_de_preco_2019.loc[(lic_compras_tomada_de_preco_2019['Total'] >  176000) & (lic_compras_tomada_de_preco_2019['Total'] <=  1400000), 'Tag'] = 1"
   ]
  },
  {
   "cell_type": "code",
   "execution_count": 56,
   "id": "e0ea498c",
   "metadata": {},
   "outputs": [
    {
     "data": {
      "text/plain": [
       "1    116\n",
       "0     91\n",
       "Name: Tag, dtype: int64"
      ]
     },
     "execution_count": 56,
     "metadata": {},
     "output_type": "execute_result"
    }
   ],
   "source": [
    "lic_obras_tomada_de_preco_2019['Tag'].value_counts()"
   ]
  },
  {
   "cell_type": "code",
   "execution_count": 57,
   "id": "58dcba1f",
   "metadata": {},
   "outputs": [
    {
     "data": {
      "image/png": "[encoded data removed]",
      "text/plain": [
       "<Figure size 432x288 with 1 Axes>"
      ]
     },
     "metadata": {
      "needs_background": "light"
     },
     "output_type": "display_data"
    }
   ],
   "source": [
    "lic_obras_tomada_de_preco_2019[lic_obras_tomada_de_preco_2019['Tag'] == 1]['Total'].plot.box()\n",
    "plt.show()"
   ]
  },
  {
   "cell_type": "code",
   "execution_count": 58,
   "id": "0e2a8ff8",
   "metadata": {},
   "outputs": [
    {
     "data": {
      "text/plain": [
       "count    1.160000e+02\n",
       "mean     9.261138e+05\n",
       "std      5.825803e+05\n",
       "min      3.524821e+05\n",
       "25%      5.287377e+05\n",
       "50%      7.306693e+05\n",
       "75%      1.172320e+06\n",
       "max      3.078745e+06\n",
       "Name: Total, dtype: float64"
      ]
     },
     "execution_count": 58,
     "metadata": {},
     "output_type": "execute_result"
    }
   ],
   "source": [
    "lic_obras_tomada_de_preco_2019[lic_obras_tomada_de_preco_2019['Tag'] == 1]['Total'].describe()"
   ]
  },
  {
   "cell_type": "code",
   "execution_count": 59,
   "id": "e7af3874",
   "metadata": {},
   "outputs": [
    {
     "data": {
      "image/png": "[encoded data removed]",
      "text/plain": [
       "<Figure size 432x288 with 1 Axes>"
      ]
     },
     "metadata": {
      "needs_background": "light"
     },
     "output_type": "display_data"
    }
   ],
   "source": [
    "lic_obras_tomada_de_preco_2019[lic_obras_tomada_de_preco_2019['Tag'] == 0]['Total'].plot.box()\n",
    "plt.show()"
   ]
  },
  {
   "cell_type": "code",
   "execution_count": 60,
   "id": "2d79e582",
   "metadata": {},
   "outputs": [
    {
     "data": {
      "text/plain": [
       "1    264\n",
       "0    153\n",
       "Name: Tag, dtype: int64"
      ]
     },
     "execution_count": 60,
     "metadata": {},
     "output_type": "execute_result"
    }
   ],
   "source": [
    "lic_compras_tomada_de_preco_2019['Tag'].value_counts()"
   ]
  },
  {
   "cell_type": "code",
   "execution_count": 61,
   "id": "f4283f09",
   "metadata": {},
   "outputs": [
    {
     "data": {
      "text/plain": [
       "count    2.640000e+02\n",
       "mean     5.286806e+05\n",
       "std      3.077656e+05\n",
       "min      1.781517e+05\n",
       "25%      2.819303e+05\n",
       "50%      4.434251e+05\n",
       "75%      6.938468e+05\n",
       "max      1.387719e+06\n",
       "Name: Total, dtype: float64"
      ]
     },
     "execution_count": 61,
     "metadata": {},
     "output_type": "execute_result"
    }
   ],
   "source": [
    "# Licitaçoes Legais\n",
    "lic_compras_tomada_de_preco_2019[lic_compras_tomada_de_preco_2019['Tag'] == 1]['Total'].describe()"
   ]
  },
  {
   "cell_type": "code",
   "execution_count": 62,
   "id": "258ae46a",
   "metadata": {},
   "outputs": [
    {
     "data": {
      "text/plain": [
       "count    2.640000e+02\n",
       "mean     5.286806e+05\n",
       "std      3.077656e+05\n",
       "min      1.781517e+05\n",
       "25%      2.819303e+05\n",
       "50%      4.434251e+05\n",
       "75%      6.938468e+05\n",
       "max      1.387719e+06\n",
       "Name: Total, dtype: float64"
      ]
     },
     "execution_count": 62,
     "metadata": {},
     "output_type": "execute_result"
    }
   ],
   "source": [
    "lic_compras_tomada_de_preco_2019[lic_compras_tomada_de_preco_2019['Tag'] == 1]['Total'].describe()"
   ]
  },
  {
   "cell_type": "code",
   "execution_count": 63,
   "id": "a90132c0",
   "metadata": {},
   "outputs": [
    {
     "data": {
      "image/png": "[encoded data removed]",
      "text/plain": [
       "<Figure size 432x288 with 1 Axes>"
      ]
     },
     "metadata": {
      "needs_background": "light"
     },
     "output_type": "display_data"
    }
   ],
   "source": [
    "# Licitações Ilegais\n",
    "lic_compras_tomada_de_preco_2019[lic_compras_tomada_de_preco_2019['Tag'] == 0]['Total'].plot.box()\n",
    "plt.show()"
   ]
  },
  {
   "cell_type": "code",
   "execution_count": 64,
   "id": "5c112e1d",
   "metadata": {},
   "outputs": [
    {
     "data": {
      "text/plain": [
       "count    1.530000e+02\n",
       "mean     5.567642e+05\n",
       "std      8.712525e+05\n",
       "min      0.000000e+00\n",
       "25%      5.178062e+04\n",
       "50%      1.057411e+05\n",
       "75%      1.740058e+05\n",
       "max      3.222674e+06\n",
       "Name: Total, dtype: float64"
      ]
     },
     "execution_count": 64,
     "metadata": {},
     "output_type": "execute_result"
    }
   ],
   "source": [
    "lic_compras_tomada_de_preco_2019[lic_compras_tomada_de_preco_2019['Tag'] == 0]['Total'].describe()"
   ]
  },
  {
   "cell_type": "markdown",
   "id": "2f751147",
   "metadata": {},
   "source": [
    "## Convite"
   ]
  },
  {
   "cell_type": "code",
   "execution_count": 65,
   "id": "2c6e1364",
   "metadata": {},
   "outputs": [],
   "source": [
    "df_lic_2019_convite = df_lic_2019[df_lic_2019['Modalidade Compra'] == 'Convite']"
   ]
  },
  {
   "cell_type": "code",
   "execution_count": 66,
   "id": "7bec1082",
   "metadata": {},
   "outputs": [
    {
     "data": {
      "text/plain": [
       "Convite    145\n",
       "Name: Modalidade Compra, dtype: int64"
      ]
     },
     "execution_count": 66,
     "metadata": {},
     "output_type": "execute_result"
    }
   ],
   "source": [
    "df_lic_2019_convite['Modalidade Compra'].value_counts()"
   ]
  },
  {
   "cell_type": "code",
   "execution_count": 67,
   "id": "038bd8e1",
   "metadata": {},
   "outputs": [
    {
     "data": {
      "text/plain": [
       "Compras/Servicos    81\n",
       "Obras               64\n",
       "Name: Tipo, dtype: int64"
      ]
     },
     "execution_count": 67,
     "metadata": {},
     "output_type": "execute_result"
    }
   ],
   "source": [
    "df_lic_2019_convite['Tipo'].value_counts()"
   ]
  },
  {
   "cell_type": "code",
   "execution_count": 68,
   "id": "322cc1b8",
   "metadata": {},
   "outputs": [],
   "source": [
    "lic_compras_convite_2019 = df_lic_2019_convite[df_lic_2019_convite['Tipo'] != 'Obras']\n",
    "lic_obras_convite_2019 = df_lic_2019_convite[df_lic_2019_convite['Tipo'] == 'Obras']"
   ]
  },
  {
   "cell_type": "code",
   "execution_count": 69,
   "id": "5d8d74c0",
   "metadata": {},
   "outputs": [
    {
     "data": {
      "text/plain": [
       "Compras/Servicos    81\n",
       "Name: Tipo, dtype: int64"
      ]
     },
     "execution_count": 69,
     "metadata": {},
     "output_type": "execute_result"
    }
   ],
   "source": [
    "lic_compras_convite_2019['Tipo'].value_counts()"
   ]
  },
  {
   "cell_type": "code",
   "execution_count": 70,
   "id": "8b864ccc",
   "metadata": {},
   "outputs": [
    {
     "data": {
      "text/plain": [
       "Obras    64\n",
       "Name: Tipo, dtype: int64"
      ]
     },
     "execution_count": 70,
     "metadata": {},
     "output_type": "execute_result"
    }
   ],
   "source": [
    "lic_obras_convite_2019['Tipo'].value_counts()"
   ]
  },
  {
   "cell_type": "code",
   "execution_count": 71,
   "id": "8f93edd0",
   "metadata": {},
   "outputs": [
    {
     "name": "stderr",
     "output_type": "stream",
     "text": [
      "C:\\Users\\lrr\\AppData\\Local\\Temp/ipykernel_11512/1789816130.py:6: SettingWithCopyWarning: \n",
      "A value is trying to be set on a copy of a slice from a DataFrame.\n",
      "Try using .loc[row_indexer,col_indexer] = value instead\n",
      "\n",
      "See the caveats in the documentation: https://pandas.pydata.org/pandas-docs/stable/user_guide/indexing.html#returning-a-view-versus-a-copy\n",
      "  lic_compras_convite_2019['Tag'] = 0\n",
      "C:\\Users\\lrr\\AppData\\Local\\Temp/ipykernel_11512/1789816130.py:7: SettingWithCopyWarning: \n",
      "A value is trying to be set on a copy of a slice from a DataFrame.\n",
      "Try using .loc[row_indexer,col_indexer] = value instead\n",
      "\n",
      "See the caveats in the documentation: https://pandas.pydata.org/pandas-docs/stable/user_guide/indexing.html#returning-a-view-versus-a-copy\n",
      "  lic_obras_convite_2019['Tag'] = 0\n",
      "C:\\Users\\lrr\\anaconda3\\lib\\site-packages\\pandas\\core\\indexing.py:1817: SettingWithCopyWarning: \n",
      "A value is trying to be set on a copy of a slice from a DataFrame.\n",
      "Try using .loc[row_indexer,col_indexer] = value instead\n",
      "\n",
      "See the caveats in the documentation: https://pandas.pydata.org/pandas-docs/stable/user_guide/indexing.html#returning-a-view-versus-a-copy\n",
      "  self._setitem_single_column(loc, value, pi)\n"
     ]
    }
   ],
   "source": [
    "## Tag'ando como legal ou ilegal de acordo com Decreto nº 9.412, de 18 de Junho de 2019\n",
    "\n",
    "#### 0: ilegal\n",
    "#### 1: legal\n",
    "\n",
    "lic_compras_convite_2019['Tag'] = 0\n",
    "lic_obras_convite_2019['Tag'] = 0\n",
    "\n",
    "#regra de limite de valor\n",
    "lic_compras_convite_2019.loc[(lic_compras_convite_2019['Total'] >  17600) & (lic_compras_convite_2019['Total'] <=   176000) , 'Tag'] = 1\n",
    "lic_obras_convite_2019.loc[(lic_obras_convite_2019['Total'] >  33000) & (lic_obras_convite_2019['Total'] <=   330000), 'Tag'] = 1\n"
   ]
  },
  {
   "cell_type": "code",
   "execution_count": 72,
   "id": "b5b17127",
   "metadata": {},
   "outputs": [
    {
     "data": {
      "text/plain": [
       "1    57\n",
       "0    24\n",
       "Name: Tag, dtype: int64"
      ]
     },
     "execution_count": 72,
     "metadata": {},
     "output_type": "execute_result"
    }
   ],
   "source": [
    "lic_compras_convite_2019['Tag'].value_counts()"
   ]
  },
  {
   "cell_type": "code",
   "execution_count": 73,
   "id": "851fabda",
   "metadata": {},
   "outputs": [
    {
     "data": {
      "image/png": "[encoded data removed]",
      "text/plain": [
       "<Figure size 432x288 with 1 Axes>"
      ]
     },
     "metadata": {
      "needs_background": "light"
     },
     "output_type": "display_data"
    }
   ],
   "source": [
    "lic_compras_convite_2019[lic_compras_convite_2019['Tag'] == 1]['Total'].plot.box()\n",
    "plt.show()"
   ]
  },
  {
   "cell_type": "code",
   "execution_count": 74,
   "id": "28c5ee7c",
   "metadata": {},
   "outputs": [
    {
     "data": {
      "text/plain": [
       "count        57.000000\n",
       "mean      86998.272281\n",
       "std       43456.338554\n",
       "min       20879.040000\n",
       "25%       54432.000000\n",
       "50%       79385.040000\n",
       "75%      123815.550000\n",
       "max      175000.000000\n",
       "Name: Total, dtype: float64"
      ]
     },
     "execution_count": 74,
     "metadata": {},
     "output_type": "execute_result"
    }
   ],
   "source": [
    "lic_compras_convite_2019[lic_compras_convite_2019['Tag'] == 1]['Total'].describe()"
   ]
  },
  {
   "cell_type": "code",
   "execution_count": 75,
   "id": "d3ec16cb",
   "metadata": {},
   "outputs": [
    {
     "data": {
      "image/png": "[encoded data removed]",
      "text/plain": [
       "<Figure size 432x288 with 1 Axes>"
      ]
     },
     "metadata": {
      "needs_background": "light"
     },
     "output_type": "display_data"
    }
   ],
   "source": [
    "lic_compras_convite_2019[lic_compras_convite_2019['Tag'] == 0]['Total'].plot.box()\n",
    "plt.show()"
   ]
  },
  {
   "cell_type": "code",
   "execution_count": 76,
   "id": "661a50d1",
   "metadata": {},
   "outputs": [
    {
     "data": {
      "text/plain": [
       "count        24.000000\n",
       "mean     140056.008333\n",
       "std      120815.284198\n",
       "min           0.000000\n",
       "25%           0.000000\n",
       "50%      192299.125000\n",
       "75%      253530.710000\n",
       "max      297884.880000\n",
       "Name: Total, dtype: float64"
      ]
     },
     "execution_count": 76,
     "metadata": {},
     "output_type": "execute_result"
    }
   ],
   "source": [
    "lic_compras_convite_2019[lic_compras_convite_2019['Tag'] == 0]['Total'].describe()"
   ]
  },
  {
   "cell_type": "code",
   "execution_count": 77,
   "id": "e6e82815",
   "metadata": {},
   "outputs": [
    {
     "data": {
      "text/plain": [
       "1    57\n",
       "0     7\n",
       "Name: Tag, dtype: int64"
      ]
     },
     "execution_count": 77,
     "metadata": {},
     "output_type": "execute_result"
    }
   ],
   "source": [
    "lic_obras_convite_2019['Tag'].value_counts()"
   ]
  },
  {
   "cell_type": "code",
   "execution_count": 78,
   "id": "e27eaeff",
   "metadata": {},
   "outputs": [
    {
     "data": {
      "image/png": "[encoded data removed]",
      "text/plain": [
       "<Figure size 432x288 with 1 Axes>"
      ]
     },
     "metadata": {
      "needs_background": "light"
     },
     "output_type": "display_data"
    }
   ],
   "source": [
    "lic_obras_convite_2019[lic_obras_convite_2019['Tag'] == 1]['Total'].plot.box()\n",
    "plt.show()"
   ]
  },
  {
   "cell_type": "code",
   "execution_count": 79,
   "id": "71098714",
   "metadata": {},
   "outputs": [
    {
     "data": {
      "text/plain": [
       "count        57.000000\n",
       "mean     137386.037368\n",
       "std       67580.145751\n",
       "min       39471.600000\n",
       "25%       87679.260000\n",
       "50%      119961.320000\n",
       "75%      185384.260000\n",
       "max      310956.240000\n",
       "Name: Total, dtype: float64"
      ]
     },
     "execution_count": 79,
     "metadata": {},
     "output_type": "execute_result"
    }
   ],
   "source": [
    "lic_obras_convite_2019[lic_obras_convite_2019['Tag'] == 1]['Total'].describe()"
   ]
  },
  {
   "cell_type": "code",
   "execution_count": 80,
   "id": "d5ae81df",
   "metadata": {},
   "outputs": [
    {
     "data": {
      "image/png": "[encoded data removed]",
      "text/plain": [
       "<Figure size 432x288 with 1 Axes>"
      ]
     },
     "metadata": {
      "needs_background": "light"
     },
     "output_type": "display_data"
    }
   ],
   "source": [
    "lic_obras_convite_2019[lic_obras_convite_2019['Tag'] == 0]['Total'].plot.box()\n",
    "plt.show()"
   ]
  },
  {
   "cell_type": "code",
   "execution_count": 81,
   "id": "c58f4bae",
   "metadata": {},
   "outputs": [
    {
     "data": {
      "text/plain": [
       "count        7.000000\n",
       "mean     26169.190000\n",
       "std      11606.516075\n",
       "min          0.000000\n",
       "25%      29271.935000\n",
       "50%      30411.560000\n",
       "75%      31113.500000\n",
       "max      32001.900000\n",
       "Name: Total, dtype: float64"
      ]
     },
     "execution_count": 81,
     "metadata": {},
     "output_type": "execute_result"
    }
   ],
   "source": [
    "lic_obras_convite_2019[lic_obras_convite_2019['Tag'] == 0]['Total'].describe()"
   ]
  },
  {
   "cell_type": "markdown",
   "id": "2faf049e",
   "metadata": {},
   "source": [
    "### As modalidades abaixo não possuem uma regra bem definida para os valores de Licitação. Dessa forma, será atribuido a tag legal como padrão."
   ]
  },
  {
   "cell_type": "markdown",
   "id": "f137ebc4",
   "metadata": {},
   "source": [
    "## Pregão"
   ]
  },
  {
   "cell_type": "code",
   "execution_count": 82,
   "id": "e760f35e",
   "metadata": {},
   "outputs": [],
   "source": [
    "df_lic_2019_Pregao = df_lic_2019[df_lic_2019['Modalidade Compra'] == 'Pregão']"
   ]
  },
  {
   "cell_type": "code",
   "execution_count": 83,
   "id": "bca4a79b",
   "metadata": {},
   "outputs": [
    {
     "data": {
      "text/plain": [
       "Pregão    15963\n",
       "Name: Modalidade Compra, dtype: int64"
      ]
     },
     "execution_count": 83,
     "metadata": {},
     "output_type": "execute_result"
    }
   ],
   "source": [
    "df_lic_2019_Pregao['Modalidade Compra'].value_counts()"
   ]
  },
  {
   "cell_type": "code",
   "execution_count": 84,
   "id": "f49479ba",
   "metadata": {},
   "outputs": [
    {
     "data": {
      "text/plain": [
       "Compras/Servicos    14443\n",
       "Obras                1520\n",
       "Name: Tipo, dtype: int64"
      ]
     },
     "execution_count": 84,
     "metadata": {},
     "output_type": "execute_result"
    }
   ],
   "source": [
    "df_lic_2019_Pregao['Tipo'].value_counts()"
   ]
  },
  {
   "cell_type": "code",
   "execution_count": 85,
   "id": "5f01cb2f",
   "metadata": {},
   "outputs": [],
   "source": [
    "# Separando a modalidade em Obras e Compras/Serviços\n",
    "lic_obras_Pregao_2019 = df_lic_2019_Pregao[df_lic_2019_Pregao['Tipo'] == 'Obras']\n",
    "lic_compras_Pregao_2019 = df_lic_2019_Pregao[df_lic_2019_Pregao['Tipo'] != 'Obras']"
   ]
  },
  {
   "cell_type": "code",
   "execution_count": 86,
   "id": "0e7f3414",
   "metadata": {},
   "outputs": [
    {
     "data": {
      "text/plain": [
       "Obras    1520\n",
       "Name: Tipo, dtype: int64"
      ]
     },
     "execution_count": 86,
     "metadata": {},
     "output_type": "execute_result"
    }
   ],
   "source": [
    "lic_obras_Pregao_2019['Tipo'].value_counts()"
   ]
  },
  {
   "cell_type": "code",
   "execution_count": 87,
   "id": "fab090d4",
   "metadata": {},
   "outputs": [
    {
     "data": {
      "image/png": "[encoded data removed]",
      "text/plain": [
       "<Figure size 432x288 with 1 Axes>"
      ]
     },
     "metadata": {
      "needs_background": "light"
     },
     "output_type": "display_data"
    }
   ],
   "source": [
    "lic_obras_Pregao_2019['Total'].plot.box()\n",
    "plt.show()"
   ]
  },
  {
   "cell_type": "code",
   "execution_count": 88,
   "id": "014aae4e",
   "metadata": {},
   "outputs": [
    {
     "data": {
      "text/plain": [
       "count    1.520000e+03\n",
       "mean     1.223781e+06\n",
       "std      4.751897e+06\n",
       "min      0.000000e+00\n",
       "25%      5.594957e+04\n",
       "50%      2.086996e+05\n",
       "75%      7.045492e+05\n",
       "max      9.870000e+07\n",
       "Name: Total, dtype: float64"
      ]
     },
     "execution_count": 88,
     "metadata": {},
     "output_type": "execute_result"
    }
   ],
   "source": [
    "lic_obras_Pregao_2019['Total'].describe()"
   ]
  },
  {
   "cell_type": "code",
   "execution_count": 89,
   "id": "2e676375",
   "metadata": {},
   "outputs": [
    {
     "data": {
      "text/plain": [
       "Compras/Servicos    14443\n",
       "Name: Tipo, dtype: int64"
      ]
     },
     "execution_count": 89,
     "metadata": {},
     "output_type": "execute_result"
    }
   ],
   "source": [
    "lic_compras_Pregao_2019['Tipo'].value_counts()"
   ]
  },
  {
   "cell_type": "code",
   "execution_count": 90,
   "id": "b685131a",
   "metadata": {},
   "outputs": [
    {
     "data": {
      "text/plain": [
       "<AxesSubplot:>"
      ]
     },
     "execution_count": 90,
     "metadata": {},
     "output_type": "execute_result"
    },
    {
     "data": {
      "image/png": "[encoded data removed]",
      "text/plain": [
       "<Figure size 432x288 with 1 Axes>"
      ]
     },
     "metadata": {
      "needs_background": "light"
     },
     "output_type": "display_data"
    }
   ],
   "source": [
    "lic_compras_Pregao_2019['Total'].plot.box()"
   ]
  },
  {
   "cell_type": "code",
   "execution_count": 91,
   "id": "9516995e",
   "metadata": {},
   "outputs": [
    {
     "data": {
      "text/plain": [
       "count    1.444300e+04\n",
       "mean     1.009878e+06\n",
       "std      1.623632e+07\n",
       "min      0.000000e+00\n",
       "25%      1.449976e+04\n",
       "50%      6.249400e+04\n",
       "75%      2.560000e+05\n",
       "max      1.711541e+09\n",
       "Name: Total, dtype: float64"
      ]
     },
     "execution_count": 91,
     "metadata": {},
     "output_type": "execute_result"
    }
   ],
   "source": [
    "lic_compras_Pregao_2019['Total'].describe()"
   ]
  },
  {
   "cell_type": "code",
   "execution_count": 92,
   "id": "93e7c265",
   "metadata": {},
   "outputs": [
    {
     "name": "stderr",
     "output_type": "stream",
     "text": [
      "C:\\Users\\lrr\\AppData\\Local\\Temp/ipykernel_11512/2361053330.py:5: SettingWithCopyWarning: \n",
      "A value is trying to be set on a copy of a slice from a DataFrame.\n",
      "Try using .loc[row_indexer,col_indexer] = value instead\n",
      "\n",
      "See the caveats in the documentation: https://pandas.pydata.org/pandas-docs/stable/user_guide/indexing.html#returning-a-view-versus-a-copy\n",
      "  lic_obras_Pregao_2019['Tag'] = 1\n",
      "C:\\Users\\lrr\\AppData\\Local\\Temp/ipykernel_11512/2361053330.py:6: SettingWithCopyWarning: \n",
      "A value is trying to be set on a copy of a slice from a DataFrame.\n",
      "Try using .loc[row_indexer,col_indexer] = value instead\n",
      "\n",
      "See the caveats in the documentation: https://pandas.pydata.org/pandas-docs/stable/user_guide/indexing.html#returning-a-view-versus-a-copy\n",
      "  lic_compras_Pregao_2019['Tag'] = 1\n"
     ]
    }
   ],
   "source": [
    "## Tag'ando como legal já que não existe uma regra bem definida para a modalidade Pregão\n",
    "\n",
    "#### 0: ilegal\n",
    "#### 1: legal\n",
    "lic_obras_Pregao_2019['Tag'] = 1\n",
    "lic_compras_Pregao_2019['Tag'] = 1"
   ]
  },
  {
   "cell_type": "code",
   "execution_count": 93,
   "id": "178a18cc",
   "metadata": {},
   "outputs": [
    {
     "data": {
      "text/plain": [
       "1    1520\n",
       "Name: Tag, dtype: int64"
      ]
     },
     "execution_count": 93,
     "metadata": {},
     "output_type": "execute_result"
    }
   ],
   "source": [
    "lic_obras_Pregao_2019['Tag'].value_counts()"
   ]
  },
  {
   "cell_type": "code",
   "execution_count": 94,
   "id": "f9545ad8",
   "metadata": {},
   "outputs": [
    {
     "data": {
      "text/plain": [
       "1    14443\n",
       "Name: Tag, dtype: int64"
      ]
     },
     "execution_count": 94,
     "metadata": {},
     "output_type": "execute_result"
    }
   ],
   "source": [
    "lic_compras_Pregao_2019['Tag'].value_counts()"
   ]
  },
  {
   "cell_type": "markdown",
   "id": "37ebfe7a",
   "metadata": {},
   "source": [
    "## Inexigibilidade de Licitação "
   ]
  },
  {
   "cell_type": "code",
   "execution_count": 95,
   "id": "b931a3c4",
   "metadata": {},
   "outputs": [],
   "source": [
    "df_lic_2019_Inex_2019 = df_lic_2019[df_lic_2019['Modalidade Compra'] == 'Inexigibilidade de Licitação']"
   ]
  },
  {
   "cell_type": "code",
   "execution_count": 96,
   "id": "111a7583",
   "metadata": {},
   "outputs": [
    {
     "data": {
      "text/plain": [
       "Inexigibilidade de Licitação    21538\n",
       "Name: Modalidade Compra, dtype: int64"
      ]
     },
     "execution_count": 96,
     "metadata": {},
     "output_type": "execute_result"
    }
   ],
   "source": [
    "df_lic_2019_Inex_2019['Modalidade Compra'].value_counts()"
   ]
  },
  {
   "cell_type": "code",
   "execution_count": 97,
   "id": "3739094f",
   "metadata": {},
   "outputs": [
    {
     "data": {
      "text/plain": [
       "Compras/Servicos    21166\n",
       "Obras                 372\n",
       "Name: Tipo, dtype: int64"
      ]
     },
     "execution_count": 97,
     "metadata": {},
     "output_type": "execute_result"
    }
   ],
   "source": [
    "df_lic_2019_Inex_2019['Tipo'].value_counts()"
   ]
  },
  {
   "cell_type": "code",
   "execution_count": 98,
   "id": "8ab839e6",
   "metadata": {},
   "outputs": [],
   "source": [
    "# Separando a modalidade em Obras e Compras/Serviços\n",
    "lic_obras_Inex_2019 = df_lic_2019_Inex_2019[df_lic_2019_Inex_2019['Tipo'] == 'Obras']\n",
    "lic_compras_Inex_2019 = df_lic_2019_Inex_2019[df_lic_2019_Inex_2019['Tipo'] != 'Obras']"
   ]
  },
  {
   "cell_type": "code",
   "execution_count": 99,
   "id": "96e81299",
   "metadata": {},
   "outputs": [
    {
     "data": {
      "text/plain": [
       "Obras    372\n",
       "Name: Tipo, dtype: int64"
      ]
     },
     "execution_count": 99,
     "metadata": {},
     "output_type": "execute_result"
    }
   ],
   "source": [
    "lic_obras_Inex_2019['Tipo'].value_counts()"
   ]
  },
  {
   "cell_type": "code",
   "execution_count": 100,
   "id": "8e398292",
   "metadata": {},
   "outputs": [
    {
     "data": {
      "image/png": "[encoded data removed]",
      "text/plain": [
       "<Figure size 432x288 with 1 Axes>"
      ]
     },
     "metadata": {
      "needs_background": "light"
     },
     "output_type": "display_data"
    }
   ],
   "source": [
    "lic_obras_Inex_2019['Total'].plot.box()\n",
    "plt.show()"
   ]
  },
  {
   "cell_type": "code",
   "execution_count": 101,
   "id": "8ffc2980",
   "metadata": {},
   "outputs": [
    {
     "data": {
      "text/plain": [
       "count    3.720000e+02\n",
       "mean     6.894279e+05\n",
       "std      3.831799e+06\n",
       "min      1.000000e-02\n",
       "25%      3.290000e+03\n",
       "50%      1.263000e+04\n",
       "75%      5.226578e+05\n",
       "max      6.949661e+07\n",
       "Name: Total, dtype: float64"
      ]
     },
     "execution_count": 101,
     "metadata": {},
     "output_type": "execute_result"
    }
   ],
   "source": [
    "lic_obras_Inex_2019['Total'].describe()"
   ]
  },
  {
   "cell_type": "code",
   "execution_count": 102,
   "id": "96cc04c9",
   "metadata": {},
   "outputs": [
    {
     "data": {
      "text/plain": [
       "Compras/Servicos    21166\n",
       "Name: Tipo, dtype: int64"
      ]
     },
     "execution_count": 102,
     "metadata": {},
     "output_type": "execute_result"
    }
   ],
   "source": [
    "lic_compras_Inex_2019['Tipo'].value_counts()"
   ]
  },
  {
   "cell_type": "code",
   "execution_count": 103,
   "id": "a03e251f",
   "metadata": {},
   "outputs": [
    {
     "data": {
      "text/plain": [
       "<AxesSubplot:>"
      ]
     },
     "execution_count": 103,
     "metadata": {},
     "output_type": "execute_result"
    },
    {
     "data": {
      "image/png": "[encoded data removed]",
      "text/plain": [
       "<Figure size 432x288 with 1 Axes>"
      ]
     },
     "metadata": {
      "needs_background": "light"
     },
     "output_type": "display_data"
    }
   ],
   "source": [
    "lic_compras_Inex_2019['Total'].plot.box()"
   ]
  },
  {
   "cell_type": "code",
   "execution_count": 104,
   "id": "d1743a0b",
   "metadata": {},
   "outputs": [
    {
     "data": {
      "text/plain": [
       "count    2.116600e+04\n",
       "mean     5.754203e+05\n",
       "std      7.295838e+06\n",
       "min      1.000000e-02\n",
       "25%      1.822015e+03\n",
       "50%      5.990000e+03\n",
       "75%      3.000000e+04\n",
       "max      4.074005e+08\n",
       "Name: Total, dtype: float64"
      ]
     },
     "execution_count": 104,
     "metadata": {},
     "output_type": "execute_result"
    }
   ],
   "source": [
    "lic_compras_Inex_2019['Total'].describe()"
   ]
  },
  {
   "cell_type": "code",
   "execution_count": 105,
   "id": "91ba7d11",
   "metadata": {},
   "outputs": [
    {
     "name": "stderr",
     "output_type": "stream",
     "text": [
      "C:\\Users\\lrr\\AppData\\Local\\Temp/ipykernel_11512/508744298.py:5: SettingWithCopyWarning: \n",
      "A value is trying to be set on a copy of a slice from a DataFrame.\n",
      "Try using .loc[row_indexer,col_indexer] = value instead\n",
      "\n",
      "See the caveats in the documentation: https://pandas.pydata.org/pandas-docs/stable/user_guide/indexing.html#returning-a-view-versus-a-copy\n",
      "  lic_obras_Inex_2019['Tag'] = 1\n",
      "C:\\Users\\lrr\\AppData\\Local\\Temp/ipykernel_11512/508744298.py:6: SettingWithCopyWarning: \n",
      "A value is trying to be set on a copy of a slice from a DataFrame.\n",
      "Try using .loc[row_indexer,col_indexer] = value instead\n",
      "\n",
      "See the caveats in the documentation: https://pandas.pydata.org/pandas-docs/stable/user_guide/indexing.html#returning-a-view-versus-a-copy\n",
      "  lic_compras_Inex_2019['Tag'] = 1\n"
     ]
    }
   ],
   "source": [
    "## Tag'ando como legal já que não existe uma regra bem definida para esta modalidade\n",
    "\n",
    "#### 0: ilegal\n",
    "#### 1: legal\n",
    "lic_obras_Inex_2019['Tag'] = 1\n",
    "lic_compras_Inex_2019['Tag'] = 1"
   ]
  },
  {
   "cell_type": "code",
   "execution_count": 106,
   "id": "26b50f39",
   "metadata": {},
   "outputs": [
    {
     "data": {
      "text/plain": [
       "1    372\n",
       "Name: Tag, dtype: int64"
      ]
     },
     "execution_count": 106,
     "metadata": {},
     "output_type": "execute_result"
    }
   ],
   "source": [
    "lic_obras_Inex_2019['Tag'].value_counts()"
   ]
  },
  {
   "cell_type": "code",
   "execution_count": 107,
   "id": "426d6020",
   "metadata": {},
   "outputs": [
    {
     "data": {
      "text/plain": [
       "1    21166\n",
       "Name: Tag, dtype: int64"
      ]
     },
     "execution_count": 107,
     "metadata": {},
     "output_type": "execute_result"
    }
   ],
   "source": [
    "lic_compras_Inex_2019['Tag'].value_counts()"
   ]
  },
  {
   "cell_type": "markdown",
   "id": "c6a5eee4",
   "metadata": {},
   "source": [
    "## Concurso"
   ]
  },
  {
   "cell_type": "code",
   "execution_count": 108,
   "id": "82b03c50",
   "metadata": {},
   "outputs": [],
   "source": [
    "df_lic_2019_concurso = df_lic_2019[df_lic_2019['Modalidade Compra'] == 'Concurso']"
   ]
  },
  {
   "cell_type": "code",
   "execution_count": 109,
   "id": "2a6b093d",
   "metadata": {},
   "outputs": [
    {
     "data": {
      "text/plain": [
       "Concurso    17\n",
       "Name: Modalidade Compra, dtype: int64"
      ]
     },
     "execution_count": 109,
     "metadata": {},
     "output_type": "execute_result"
    }
   ],
   "source": [
    "df_lic_2019_concurso['Modalidade Compra'].value_counts()"
   ]
  },
  {
   "cell_type": "code",
   "execution_count": 110,
   "id": "41e71311",
   "metadata": {},
   "outputs": [
    {
     "data": {
      "text/plain": [
       "Compras/Servicos    14\n",
       "Obras                3\n",
       "Name: Tipo, dtype: int64"
      ]
     },
     "execution_count": 110,
     "metadata": {},
     "output_type": "execute_result"
    }
   ],
   "source": [
    "df_lic_2019_concurso['Tipo'].value_counts()"
   ]
  },
  {
   "cell_type": "code",
   "execution_count": 111,
   "id": "dbdec176",
   "metadata": {},
   "outputs": [],
   "source": [
    "# Separando a modalidade em Obras e Compras/Serviços\n",
    "lic_obras_concurso_2019 = df_lic_2019_concurso[df_lic_2019_concurso['Tipo'] == 'Obras']\n",
    "lic_compras_concurso_2019 = df_lic_2019_concurso[df_lic_2019_concurso['Tipo'] != 'Obras']"
   ]
  },
  {
   "cell_type": "code",
   "execution_count": 112,
   "id": "734a295a",
   "metadata": {},
   "outputs": [
    {
     "data": {
      "text/plain": [
       "Obras    3\n",
       "Name: Tipo, dtype: int64"
      ]
     },
     "execution_count": 112,
     "metadata": {},
     "output_type": "execute_result"
    }
   ],
   "source": [
    "lic_obras_concurso_2019['Tipo'].value_counts()"
   ]
  },
  {
   "cell_type": "code",
   "execution_count": 113,
   "id": "c3b6050b",
   "metadata": {},
   "outputs": [
    {
     "data": {
      "image/png": "[encoded data removed]",
      "text/plain": [
       "<Figure size 432x288 with 1 Axes>"
      ]
     },
     "metadata": {
      "needs_background": "light"
     },
     "output_type": "display_data"
    }
   ],
   "source": [
    "lic_obras_concurso_2019['Total'].plot.box()\n",
    "plt.show()"
   ]
  },
  {
   "cell_type": "code",
   "execution_count": 114,
   "id": "7ad05514",
   "metadata": {},
   "outputs": [
    {
     "data": {
      "text/plain": [
       "<AxesSubplot:>"
      ]
     },
     "execution_count": 114,
     "metadata": {},
     "output_type": "execute_result"
    },
    {
     "data": {
      "image/png": "[encoded data removed]",
      "text/plain": [
       "<Figure size 432x288 with 1 Axes>"
      ]
     },
     "metadata": {
      "needs_background": "light"
     },
     "output_type": "display_data"
    }
   ],
   "source": [
    "lic_compras_concurso_2019['Total'].plot.box()"
   ]
  },
  {
   "cell_type": "code",
   "execution_count": 115,
   "id": "1bae18e3",
   "metadata": {},
   "outputs": [
    {
     "data": {
      "text/plain": [
       "count        14.000000\n",
       "mean      52000.000000\n",
       "std       70220.487915\n",
       "min        4000.000000\n",
       "25%       10875.000000\n",
       "50%       18950.000000\n",
       "75%       55500.000000\n",
       "max      240000.000000\n",
       "Name: Total, dtype: float64"
      ]
     },
     "execution_count": 115,
     "metadata": {},
     "output_type": "execute_result"
    }
   ],
   "source": [
    "lic_compras_concurso_2019['Total'].describe()"
   ]
  },
  {
   "cell_type": "code",
   "execution_count": 116,
   "id": "3d16fc46",
   "metadata": {},
   "outputs": [
    {
     "name": "stderr",
     "output_type": "stream",
     "text": [
      "C:\\Users\\lrr\\AppData\\Local\\Temp/ipykernel_11512/337068040.py:5: SettingWithCopyWarning: \n",
      "A value is trying to be set on a copy of a slice from a DataFrame.\n",
      "Try using .loc[row_indexer,col_indexer] = value instead\n",
      "\n",
      "See the caveats in the documentation: https://pandas.pydata.org/pandas-docs/stable/user_guide/indexing.html#returning-a-view-versus-a-copy\n",
      "  lic_obras_concurso_2019['Tag'] = 1\n",
      "C:\\Users\\lrr\\AppData\\Local\\Temp/ipykernel_11512/337068040.py:6: SettingWithCopyWarning: \n",
      "A value is trying to be set on a copy of a slice from a DataFrame.\n",
      "Try using .loc[row_indexer,col_indexer] = value instead\n",
      "\n",
      "See the caveats in the documentation: https://pandas.pydata.org/pandas-docs/stable/user_guide/indexing.html#returning-a-view-versus-a-copy\n",
      "  lic_compras_concurso_2019['Tag'] = 1\n"
     ]
    }
   ],
   "source": [
    "## Tag'ando como legal já que não existe uma regra bem definida para esta modalidade\n",
    "\n",
    "#### 0: ilegal\n",
    "#### 1: legal\n",
    "lic_obras_concurso_2019['Tag'] = 1\n",
    "lic_compras_concurso_2019['Tag'] = 1"
   ]
  },
  {
   "cell_type": "code",
   "execution_count": 117,
   "id": "01a95ae0",
   "metadata": {},
   "outputs": [
    {
     "data": {
      "text/plain": [
       "1    3\n",
       "Name: Tag, dtype: int64"
      ]
     },
     "execution_count": 117,
     "metadata": {},
     "output_type": "execute_result"
    }
   ],
   "source": [
    "lic_obras_concurso_2019['Tag'].value_counts()"
   ]
  },
  {
   "cell_type": "code",
   "execution_count": 118,
   "id": "c0bc6594",
   "metadata": {},
   "outputs": [
    {
     "data": {
      "text/plain": [
       "1    14\n",
       "Name: Tag, dtype: int64"
      ]
     },
     "execution_count": 118,
     "metadata": {},
     "output_type": "execute_result"
    }
   ],
   "source": [
    "lic_compras_concurso_2019['Tag'].value_counts()"
   ]
  },
  {
   "cell_type": "markdown",
   "id": "f36aa7f8",
   "metadata": {},
   "source": [
    "### Concorrência Internacional"
   ]
  },
  {
   "cell_type": "code",
   "execution_count": 119,
   "id": "7b2fea0a",
   "metadata": {},
   "outputs": [],
   "source": [
    "df_lic_2019_concorrencia_internacional = df_lic_2019[df_lic_2019['Modalidade Compra'] == 'Concorrência Internacional']"
   ]
  },
  {
   "cell_type": "code",
   "execution_count": 120,
   "id": "28d38193",
   "metadata": {},
   "outputs": [
    {
     "data": {
      "text/plain": [
       "Concorrência Internacional    3\n",
       "Name: Modalidade Compra, dtype: int64"
      ]
     },
     "execution_count": 120,
     "metadata": {},
     "output_type": "execute_result"
    }
   ],
   "source": [
    "df_lic_2019_concorrencia_internacional['Modalidade Compra'].value_counts()"
   ]
  },
  {
   "cell_type": "code",
   "execution_count": 121,
   "id": "6b11beb9",
   "metadata": {},
   "outputs": [],
   "source": [
    "# Separando a modalidade em Obras e Compras/Serviços\n",
    "lic_obras_concorrencia_internacional_2019 = df_lic_2019_concorrencia_internacional[df_lic_2019_concorrencia_internacional['Tipo'] == 'Obras']\n",
    "lic_compras_concorrencia_internacional_2019 = df_lic_2019_concorrencia_internacional[df_lic_2019_concorrencia_internacional['Tipo'] != 'Obras']"
   ]
  },
  {
   "cell_type": "code",
   "execution_count": 122,
   "id": "7f259ad7",
   "metadata": {},
   "outputs": [
    {
     "data": {
      "text/plain": [
       "Series([], Name: Tipo, dtype: int64)"
      ]
     },
     "execution_count": 122,
     "metadata": {},
     "output_type": "execute_result"
    }
   ],
   "source": [
    "lic_obras_concorrencia_internacional_2019['Tipo'].value_counts()"
   ]
  },
  {
   "cell_type": "code",
   "execution_count": 123,
   "id": "08b20345",
   "metadata": {},
   "outputs": [
    {
     "data": {
      "text/plain": [
       "Compras/Servicos    3\n",
       "Name: Tipo, dtype: int64"
      ]
     },
     "execution_count": 123,
     "metadata": {},
     "output_type": "execute_result"
    }
   ],
   "source": [
    "lic_compras_concorrencia_internacional_2019['Tipo'].value_counts()"
   ]
  },
  {
   "cell_type": "code",
   "execution_count": 124,
   "id": "f92d3ab6",
   "metadata": {},
   "outputs": [
    {
     "data": {
      "text/plain": [
       "<AxesSubplot:>"
      ]
     },
     "execution_count": 124,
     "metadata": {},
     "output_type": "execute_result"
    },
    {
     "data": {
      "image/png": "[encoded data removed]",
      "text/plain": [
       "<Figure size 432x288 with 1 Axes>"
      ]
     },
     "metadata": {
      "needs_background": "light"
     },
     "output_type": "display_data"
    }
   ],
   "source": [
    "lic_compras_concorrencia_internacional_2019['Total'].plot.box()"
   ]
  },
  {
   "cell_type": "code",
   "execution_count": 125,
   "id": "81915b26",
   "metadata": {},
   "outputs": [
    {
     "data": {
      "text/plain": [
       "count         3.000000\n",
       "mean     265434.636667\n",
       "std      120327.502071\n",
       "min      134640.000000\n",
       "25%      212436.470000\n",
       "50%      290232.940000\n",
       "75%      330831.955000\n",
       "max      371430.970000\n",
       "Name: Total, dtype: float64"
      ]
     },
     "execution_count": 125,
     "metadata": {},
     "output_type": "execute_result"
    }
   ],
   "source": [
    "lic_compras_concorrencia_internacional_2019['Total'].describe()"
   ]
  },
  {
   "cell_type": "code",
   "execution_count": 126,
   "id": "5c5a88c8",
   "metadata": {},
   "outputs": [],
   "source": [
    "## Tag'ando como legal já que não existe uma regra bem definida para esta modalidade\n",
    "\n",
    "#### 0: ilegal\n",
    "#### 1: legal\n",
    "lic_obras_concorrencia_internacional_2019['Tag'] = 1\n",
    "lic_compras_concorrencia_internacional_2019['Tag'] = 1"
   ]
  },
  {
   "cell_type": "code",
   "execution_count": 127,
   "id": "d4cbacb7",
   "metadata": {},
   "outputs": [
    {
     "data": {
      "text/plain": [
       "Series([], Name: Tag, dtype: int64)"
      ]
     },
     "execution_count": 127,
     "metadata": {},
     "output_type": "execute_result"
    }
   ],
   "source": [
    "lic_obras_concorrencia_internacional_2019['Tag'].value_counts()"
   ]
  },
  {
   "cell_type": "code",
   "execution_count": 128,
   "id": "2845caba",
   "metadata": {},
   "outputs": [
    {
     "data": {
      "text/plain": [
       "1    3\n",
       "Name: Tag, dtype: int64"
      ]
     },
     "execution_count": 128,
     "metadata": {},
     "output_type": "execute_result"
    }
   ],
   "source": [
    "lic_compras_concorrencia_internacional_2019['Tag'].value_counts()"
   ]
  },
  {
   "cell_type": "markdown",
   "id": "a852f9af",
   "metadata": {},
   "source": [
    "### Salvando todas as analises em uma única base de dados."
   ]
  },
  {
   "cell_type": "code",
   "execution_count": 129,
   "id": "dc5f27ae",
   "metadata": {},
   "outputs": [],
   "source": [
    "lic_2019_com_tag = pd.concat([lic_obras_RP_2019, lic_compras_RP_2019, lic_obras_Dispensa_2019, lic_compras_Dispensa_2019, lic_obras_tomada_de_preco_2019, lic_compras_tomada_de_preco_2019, lic_compras_convite_2019, lic_obras_convite_2019, lic_obras_Pregao_2019, lic_compras_Pregao_2019, lic_obras_Inex_2019, lic_compras_Inex_2019, lic_obras_concurso_2019, lic_compras_concurso_2019, lic_obras_concorrencia_internacional_2019, lic_compras_concorrencia_internacional_2019])"
   ]
  },
  {
   "cell_type": "code",
   "execution_count": 130,
   "id": "ccf15bf4",
   "metadata": {},
   "outputs": [],
   "source": [
    "lic_2019_com_tag.to_csv('lic_2019_com_tag.csv')"
   ]
  },
  {
   "cell_type": "code",
   "execution_count": 131,
   "id": "3fc5c4e9",
   "metadata": {},
   "outputs": [
    {
     "data": {
      "text/plain": [
       "1    142372\n",
       "0     27024\n",
       "Name: Tag, dtype: int64"
      ]
     },
     "execution_count": 131,
     "metadata": {},
     "output_type": "execute_result"
    }
   ],
   "source": [
    "lic_2019_com_tag['Tag'].value_counts()"
   ]
  },
  {
   "cell_type": "code",
   "execution_count": 132,
   "id": "92e2ace5",
   "metadata": {},
   "outputs": [
    {
     "data": {
      "text/html": [
       "<div>\n",
       "<style scoped>\n",
       "    .dataframe tbody tr th:only-of-type {\n",
       "        vertical-align: middle;\n",
       "    }\n",
       "\n",
       "    .dataframe tbody tr th {\n",
       "        vertical-align: top;\n",
       "    }\n",
       "\n",
       "    .dataframe thead tr th {\n",
       "        text-align: left;\n",
       "    }\n",
       "\n",
       "    .dataframe thead tr:last-of-type th {\n",
       "        text-align: right;\n",
       "    }\n",
       "</style>\n",
       "<table border=\"1\" class=\"dataframe\">\n",
       "  <thead>\n",
       "    <tr>\n",
       "      <th></th>\n",
       "      <th></th>\n",
       "      <th></th>\n",
       "      <th colspan=\"8\" halign=\"left\">Número Licitação</th>\n",
       "      <th colspan=\"2\" halign=\"left\">Código UG</th>\n",
       "      <th>...</th>\n",
       "      <th colspan=\"2\" halign=\"left\">Código Órgão</th>\n",
       "      <th colspan=\"8\" halign=\"left\">Total</th>\n",
       "    </tr>\n",
       "    <tr>\n",
       "      <th></th>\n",
       "      <th></th>\n",
       "      <th></th>\n",
       "      <th>count</th>\n",
       "      <th>mean</th>\n",
       "      <th>std</th>\n",
       "      <th>min</th>\n",
       "      <th>25%</th>\n",
       "      <th>50%</th>\n",
       "      <th>75%</th>\n",
       "      <th>max</th>\n",
       "      <th>count</th>\n",
       "      <th>mean</th>\n",
       "      <th>...</th>\n",
       "      <th>75%</th>\n",
       "      <th>max</th>\n",
       "      <th>count</th>\n",
       "      <th>mean</th>\n",
       "      <th>std</th>\n",
       "      <th>min</th>\n",
       "      <th>25%</th>\n",
       "      <th>50%</th>\n",
       "      <th>75%</th>\n",
       "      <th>max</th>\n",
       "    </tr>\n",
       "    <tr>\n",
       "      <th>Modalidade Compra</th>\n",
       "      <th>Tag</th>\n",
       "      <th>Tipo</th>\n",
       "      <th></th>\n",
       "      <th></th>\n",
       "      <th></th>\n",
       "      <th></th>\n",
       "      <th></th>\n",
       "      <th></th>\n",
       "      <th></th>\n",
       "      <th></th>\n",
       "      <th></th>\n",
       "      <th></th>\n",
       "      <th></th>\n",
       "      <th></th>\n",
       "      <th></th>\n",
       "      <th></th>\n",
       "      <th></th>\n",
       "      <th></th>\n",
       "      <th></th>\n",
       "      <th></th>\n",
       "      <th></th>\n",
       "      <th></th>\n",
       "      <th></th>\n",
       "    </tr>\n",
       "  </thead>\n",
       "  <tbody>\n",
       "    <tr>\n",
       "      <th rowspan=\"4\" valign=\"top\">Concorrência</th>\n",
       "      <th rowspan=\"2\" valign=\"top\">0</th>\n",
       "      <th>Compras/Servicos</th>\n",
       "      <td>55.0</td>\n",
       "      <td>1.278367e+05</td>\n",
       "      <td>4.208793e+05</td>\n",
       "      <td>12018.0</td>\n",
       "      <td>12019.00</td>\n",
       "      <td>22018.0</td>\n",
       "      <td>57018.50</td>\n",
       "      <td>2672017.0</td>\n",
       "      <td>55.0</td>\n",
       "      <td>238074.636364</td>\n",
       "      <td>...</td>\n",
       "      <td>36000.0</td>\n",
       "      <td>52131.0</td>\n",
       "      <td>55.0</td>\n",
       "      <td>3.850278e+05</td>\n",
       "      <td>4.301480e+05</td>\n",
       "      <td>0.00</td>\n",
       "      <td>2.452275e+03</td>\n",
       "      <td>230000.000</td>\n",
       "      <td>6.202762e+05</td>\n",
       "      <td>1.360321e+06</td>\n",
       "    </tr>\n",
       "    <tr>\n",
       "      <th>Obras</th>\n",
       "      <td>26.0</td>\n",
       "      <td>4.663408e+04</td>\n",
       "      <td>4.571496e+04</td>\n",
       "      <td>12017.0</td>\n",
       "      <td>22018.00</td>\n",
       "      <td>32019.0</td>\n",
       "      <td>59518.25</td>\n",
       "      <td>212019.0</td>\n",
       "      <td>26.0</td>\n",
       "      <td>216251.807692</td>\n",
       "      <td>...</td>\n",
       "      <td>48000.0</td>\n",
       "      <td>52131.0</td>\n",
       "      <td>26.0</td>\n",
       "      <td>1.254568e+06</td>\n",
       "      <td>1.143980e+06</td>\n",
       "      <td>0.00</td>\n",
       "      <td>3.079099e+05</td>\n",
       "      <td>738259.590</td>\n",
       "      <td>2.396302e+06</td>\n",
       "      <td>3.272064e+06</td>\n",
       "    </tr>\n",
       "    <tr>\n",
       "      <th rowspan=\"2\" valign=\"top\">1</th>\n",
       "      <th>Compras/Servicos</th>\n",
       "      <td>65.0</td>\n",
       "      <td>1.003262e+05</td>\n",
       "      <td>3.246802e+05</td>\n",
       "      <td>12018.0</td>\n",
       "      <td>12019.00</td>\n",
       "      <td>22019.0</td>\n",
       "      <td>52019.00</td>\n",
       "      <td>2332017.0</td>\n",
       "      <td>65.0</td>\n",
       "      <td>227973.415385</td>\n",
       "      <td>...</td>\n",
       "      <td>52121.0</td>\n",
       "      <td>55000.0</td>\n",
       "      <td>65.0</td>\n",
       "      <td>6.285347e+06</td>\n",
       "      <td>7.484179e+06</td>\n",
       "      <td>1664520.50</td>\n",
       "      <td>3.345638e+06</td>\n",
       "      <td>4671336.200</td>\n",
       "      <td>5.909459e+06</td>\n",
       "      <td>4.840002e+07</td>\n",
       "    </tr>\n",
       "    <tr>\n",
       "      <th>Obras</th>\n",
       "      <td>40.0</td>\n",
       "      <td>1.642686e+05</td>\n",
       "      <td>3.956524e+05</td>\n",
       "      <td>12018.0</td>\n",
       "      <td>12019.00</td>\n",
       "      <td>22019.0</td>\n",
       "      <td>54518.75</td>\n",
       "      <td>1552019.0</td>\n",
       "      <td>40.0</td>\n",
       "      <td>264658.575000</td>\n",
       "      <td>...</td>\n",
       "      <td>52111.0</td>\n",
       "      <td>52131.0</td>\n",
       "      <td>40.0</td>\n",
       "      <td>8.404070e+06</td>\n",
       "      <td>6.017556e+06</td>\n",
       "      <td>3316329.71</td>\n",
       "      <td>4.510033e+06</td>\n",
       "      <td>6516609.670</td>\n",
       "      <td>8.835446e+06</td>\n",
       "      <td>2.837000e+07</td>\n",
       "    </tr>\n",
       "    <tr>\n",
       "      <th rowspan=\"2\" valign=\"top\">Concorrência - Registro de Preço</th>\n",
       "      <th rowspan=\"2\" valign=\"top\">0</th>\n",
       "      <th>Compras/Servicos</th>\n",
       "      <td>4.0</td>\n",
       "      <td>2.951900e+04</td>\n",
       "      <td>3.500000e+04</td>\n",
       "      <td>12019.0</td>\n",
       "      <td>12019.00</td>\n",
       "      <td>12019.0</td>\n",
       "      <td>29519.00</td>\n",
       "      <td>82019.0</td>\n",
       "      <td>4.0</td>\n",
       "      <td>148138.500000</td>\n",
       "      <td>...</td>\n",
       "      <td>52113.5</td>\n",
       "      <td>52121.0</td>\n",
       "      <td>4.0</td>\n",
       "      <td>0.000000e+00</td>\n",
       "      <td>0.000000e+00</td>\n",
       "      <td>0.00</td>\n",
       "      <td>0.000000e+00</td>\n",
       "      <td>0.000</td>\n",
       "      <td>0.000000e+00</td>\n",
       "      <td>0.000000e+00</td>\n",
       "    </tr>\n",
       "    <tr>\n",
       "      <th>Obras</th>\n",
       "      <td>1.0</td>\n",
       "      <td>1.020180e+05</td>\n",
       "      <td>NaN</td>\n",
       "      <td>102018.0</td>\n",
       "      <td>102018.00</td>\n",
       "      <td>102018.0</td>\n",
       "      <td>102018.00</td>\n",
       "      <td>102018.0</td>\n",
       "      <td>1.0</td>\n",
       "      <td>153052.000000</td>\n",
       "      <td>...</td>\n",
       "      <td>26235.0</td>\n",
       "      <td>26235.0</td>\n",
       "      <td>1.0</td>\n",
       "      <td>0.000000e+00</td>\n",
       "      <td>NaN</td>\n",
       "      <td>0.00</td>\n",
       "      <td>0.000000e+00</td>\n",
       "      <td>0.000</td>\n",
       "      <td>0.000000e+00</td>\n",
       "      <td>0.000000e+00</td>\n",
       "    </tr>\n",
       "    <tr>\n",
       "      <th>Concorrência Internacional</th>\n",
       "      <th>1</th>\n",
       "      <th>Compras/Servicos</th>\n",
       "      <td>3.0</td>\n",
       "      <td>3.535200e+04</td>\n",
       "      <td>2.516558e+04</td>\n",
       "      <td>12019.0</td>\n",
       "      <td>22019.00</td>\n",
       "      <td>32019.0</td>\n",
       "      <td>47018.50</td>\n",
       "      <td>62018.0</td>\n",
       "      <td>3.0</td>\n",
       "      <td>250052.000000</td>\n",
       "      <td>...</td>\n",
       "      <td>36000.0</td>\n",
       "      <td>36000.0</td>\n",
       "      <td>3.0</td>\n",
       "      <td>2.654346e+05</td>\n",
       "      <td>1.203275e+05</td>\n",
       "      <td>134640.00</td>\n",
       "      <td>2.124365e+05</td>\n",
       "      <td>290232.940</td>\n",
       "      <td>3.308320e+05</td>\n",
       "      <td>3.714310e+05</td>\n",
       "    </tr>\n",
       "    <tr>\n",
       "      <th rowspan=\"2\" valign=\"top\">Concurso</th>\n",
       "      <th rowspan=\"2\" valign=\"top\">1</th>\n",
       "      <th>Compras/Servicos</th>\n",
       "      <td>14.0</td>\n",
       "      <td>2.773314e+04</td>\n",
       "      <td>1.910042e+04</td>\n",
       "      <td>12019.0</td>\n",
       "      <td>12019.00</td>\n",
       "      <td>22019.0</td>\n",
       "      <td>32019.00</td>\n",
       "      <td>82018.0</td>\n",
       "      <td>14.0</td>\n",
       "      <td>213924.214286</td>\n",
       "      <td>...</td>\n",
       "      <td>26350.0</td>\n",
       "      <td>42207.0</td>\n",
       "      <td>14.0</td>\n",
       "      <td>5.200000e+04</td>\n",
       "      <td>7.022049e+04</td>\n",
       "      <td>4000.00</td>\n",
       "      <td>1.087500e+04</td>\n",
       "      <td>18950.000</td>\n",
       "      <td>5.550000e+04</td>\n",
       "      <td>2.400000e+05</td>\n",
       "    </tr>\n",
       "    <tr>\n",
       "      <th>Obras</th>\n",
       "      <td>3.0</td>\n",
       "      <td>2.535133e+04</td>\n",
       "      <td>1.527525e+04</td>\n",
       "      <td>12018.0</td>\n",
       "      <td>17018.00</td>\n",
       "      <td>22018.0</td>\n",
       "      <td>32018.00</td>\n",
       "      <td>42018.0</td>\n",
       "      <td>3.0</td>\n",
       "      <td>344002.000000</td>\n",
       "      <td>...</td>\n",
       "      <td>26292.0</td>\n",
       "      <td>26292.0</td>\n",
       "      <td>3.0</td>\n",
       "      <td>3.933333e+04</td>\n",
       "      <td>1.436431e+04</td>\n",
       "      <td>23000.00</td>\n",
       "      <td>3.400000e+04</td>\n",
       "      <td>45000.000</td>\n",
       "      <td>4.750000e+04</td>\n",
       "      <td>5.000000e+04</td>\n",
       "    </tr>\n",
       "    <tr>\n",
       "      <th rowspan=\"4\" valign=\"top\">Convite</th>\n",
       "      <th rowspan=\"2\" valign=\"top\">0</th>\n",
       "      <th>Compras/Servicos</th>\n",
       "      <td>24.0</td>\n",
       "      <td>2.566022e+05</td>\n",
       "      <td>1.159929e+06</td>\n",
       "      <td>12018.0</td>\n",
       "      <td>12019.00</td>\n",
       "      <td>12019.0</td>\n",
       "      <td>24519.00</td>\n",
       "      <td>5702018.0</td>\n",
       "      <td>24.0</td>\n",
       "      <td>273578.000000</td>\n",
       "      <td>...</td>\n",
       "      <td>52121.0</td>\n",
       "      <td>52131.0</td>\n",
       "      <td>24.0</td>\n",
       "      <td>1.400560e+05</td>\n",
       "      <td>1.208153e+05</td>\n",
       "      <td>0.00</td>\n",
       "      <td>0.000000e+00</td>\n",
       "      <td>192299.125</td>\n",
       "      <td>2.535307e+05</td>\n",
       "      <td>2.978849e+05</td>\n",
       "    </tr>\n",
       "    <tr>\n",
       "      <th>Obras</th>\n",
       "      <td>7.0</td>\n",
       "      <td>2.630457e+04</td>\n",
       "      <td>1.397281e+04</td>\n",
       "      <td>12019.0</td>\n",
       "      <td>17018.50</td>\n",
       "      <td>22019.0</td>\n",
       "      <td>32019.00</td>\n",
       "      <td>52019.0</td>\n",
       "      <td>7.0</td>\n",
       "      <td>233991.428571</td>\n",
       "      <td>...</td>\n",
       "      <td>44661.5</td>\n",
       "      <td>52121.0</td>\n",
       "      <td>7.0</td>\n",
       "      <td>2.616919e+04</td>\n",
       "      <td>1.160652e+04</td>\n",
       "      <td>0.00</td>\n",
       "      <td>2.927193e+04</td>\n",
       "      <td>30411.560</td>\n",
       "      <td>3.111350e+04</td>\n",
       "      <td>3.200190e+04</td>\n",
       "    </tr>\n",
       "    <tr>\n",
       "      <th rowspan=\"2\" valign=\"top\">1</th>\n",
       "      <th>Compras/Servicos</th>\n",
       "      <td>57.0</td>\n",
       "      <td>2.592117e+05</td>\n",
       "      <td>8.976252e+05</td>\n",
       "      <td>12018.0</td>\n",
       "      <td>12019.00</td>\n",
       "      <td>22019.0</td>\n",
       "      <td>42018.00</td>\n",
       "      <td>5012018.0</td>\n",
       "      <td>57.0</td>\n",
       "      <td>236177.807018</td>\n",
       "      <td>...</td>\n",
       "      <td>52111.0</td>\n",
       "      <td>52131.0</td>\n",
       "      <td>57.0</td>\n",
       "      <td>8.699827e+04</td>\n",
       "      <td>4.345634e+04</td>\n",
       "      <td>20879.04</td>\n",
       "      <td>5.443200e+04</td>\n",
       "      <td>79385.040</td>\n",
       "      <td>1.238156e+05</td>\n",
       "      <td>1.750000e+05</td>\n",
       "    </tr>\n",
       "    <tr>\n",
       "      <th>Obras</th>\n",
       "      <td>57.0</td>\n",
       "      <td>4.956261e+04</td>\n",
       "      <td>4.660924e+04</td>\n",
       "      <td>12018.0</td>\n",
       "      <td>12019.00</td>\n",
       "      <td>32018.0</td>\n",
       "      <td>72019.00</td>\n",
       "      <td>182018.0</td>\n",
       "      <td>57.0</td>\n",
       "      <td>233749.368421</td>\n",
       "      <td>...</td>\n",
       "      <td>36000.0</td>\n",
       "      <td>52211.0</td>\n",
       "      <td>57.0</td>\n",
       "      <td>1.373860e+05</td>\n",
       "      <td>6.758015e+04</td>\n",
       "      <td>39471.60</td>\n",
       "      <td>8.767926e+04</td>\n",
       "      <td>119961.320</td>\n",
       "      <td>1.853843e+05</td>\n",
       "      <td>3.109562e+05</td>\n",
       "    </tr>\n",
       "    <tr>\n",
       "      <th rowspan=\"4\" valign=\"top\">Dispensa de Licitação</th>\n",
       "      <th rowspan=\"2\" valign=\"top\">0</th>\n",
       "      <th>Compras/Servicos</th>\n",
       "      <td>6886.0</td>\n",
       "      <td>1.710900e+07</td>\n",
       "      <td>8.778499e+07</td>\n",
       "      <td>12016.0</td>\n",
       "      <td>142019.00</td>\n",
       "      <td>502019.0</td>\n",
       "      <td>1722019.00</td>\n",
       "      <td>997242019.0</td>\n",
       "      <td>6886.0</td>\n",
       "      <td>221406.881208</td>\n",
       "      <td>...</td>\n",
       "      <td>36201.0</td>\n",
       "      <td>95420.0</td>\n",
       "      <td>6886.0</td>\n",
       "      <td>1.568725e+06</td>\n",
       "      <td>2.071970e+07</td>\n",
       "      <td>17602.00</td>\n",
       "      <td>3.044706e+04</td>\n",
       "      <td>69520.000</td>\n",
       "      <td>3.367689e+05</td>\n",
       "      <td>1.134000e+09</td>\n",
       "    </tr>\n",
       "    <tr>\n",
       "      <th>Obras</th>\n",
       "      <td>264.0</td>\n",
       "      <td>7.102246e+06</td>\n",
       "      <td>5.376533e+07</td>\n",
       "      <td>12019.0</td>\n",
       "      <td>79519.00</td>\n",
       "      <td>217019.0</td>\n",
       "      <td>812019.00</td>\n",
       "      <td>601872019.0</td>\n",
       "      <td>264.0</td>\n",
       "      <td>223809.284091</td>\n",
       "      <td>...</td>\n",
       "      <td>36000.0</td>\n",
       "      <td>95320.0</td>\n",
       "      <td>264.0</td>\n",
       "      <td>1.351722e+06</td>\n",
       "      <td>3.387311e+06</td>\n",
       "      <td>35712.34</td>\n",
       "      <td>8.745128e+04</td>\n",
       "      <td>274278.365</td>\n",
       "      <td>8.077608e+05</td>\n",
       "      <td>3.442936e+07</td>\n",
       "    </tr>\n",
       "    <tr>\n",
       "      <th rowspan=\"2\" valign=\"top\">1</th>\n",
       "      <th>Compras/Servicos</th>\n",
       "      <td>102074.0</td>\n",
       "      <td>1.576805e+07</td>\n",
       "      <td>8.777542e+07</td>\n",
       "      <td>12018.0</td>\n",
       "      <td>192019.00</td>\n",
       "      <td>522019.0</td>\n",
       "      <td>1362019.00</td>\n",
       "      <td>997822019.0</td>\n",
       "      <td>102074.0</td>\n",
       "      <td>253971.641593</td>\n",
       "      <td>...</td>\n",
       "      <td>52121.0</td>\n",
       "      <td>97400.0</td>\n",
       "      <td>102074.0</td>\n",
       "      <td>4.123038e+03</td>\n",
       "      <td>4.500306e+03</td>\n",
       "      <td>0.00</td>\n",
       "      <td>8.560000e+02</td>\n",
       "      <td>2290.000</td>\n",
       "      <td>5.819825e+03</td>\n",
       "      <td>1.760000e+04</td>\n",
       "    </tr>\n",
       "    <tr>\n",
       "      <th>Obras</th>\n",
       "      <td>1797.0</td>\n",
       "      <td>6.675803e+06</td>\n",
       "      <td>4.938546e+07</td>\n",
       "      <td>12019.0</td>\n",
       "      <td>142019.00</td>\n",
       "      <td>402019.0</td>\n",
       "      <td>1102019.00</td>\n",
       "      <td>860012019.0</td>\n",
       "      <td>1797.0</td>\n",
       "      <td>241392.904285</td>\n",
       "      <td>...</td>\n",
       "      <td>52121.0</td>\n",
       "      <td>97400.0</td>\n",
       "      <td>1797.0</td>\n",
       "      <td>7.977030e+03</td>\n",
       "      <td>8.694308e+03</td>\n",
       "      <td>1.00</td>\n",
       "      <td>1.385500e+03</td>\n",
       "      <td>4324.000</td>\n",
       "      <td>1.261314e+04</td>\n",
       "      <td>3.300000e+04</td>\n",
       "    </tr>\n",
       "    <tr>\n",
       "      <th rowspan=\"2\" valign=\"top\">Inexigibilidade de Licitação</th>\n",
       "      <th rowspan=\"2\" valign=\"top\">1</th>\n",
       "      <th>Compras/Servicos</th>\n",
       "      <td>21166.0</td>\n",
       "      <td>1.334088e+07</td>\n",
       "      <td>8.459524e+07</td>\n",
       "      <td>12015.0</td>\n",
       "      <td>52019.00</td>\n",
       "      <td>192019.0</td>\n",
       "      <td>652019.00</td>\n",
       "      <td>997812019.0</td>\n",
       "      <td>21166.0</td>\n",
       "      <td>226514.187470</td>\n",
       "      <td>...</td>\n",
       "      <td>52111.0</td>\n",
       "      <td>97320.0</td>\n",
       "      <td>21166.0</td>\n",
       "      <td>5.754203e+05</td>\n",
       "      <td>7.295838e+06</td>\n",
       "      <td>0.01</td>\n",
       "      <td>1.822015e+03</td>\n",
       "      <td>5990.000</td>\n",
       "      <td>3.000000e+04</td>\n",
       "      <td>4.074005e+08</td>\n",
       "    </tr>\n",
       "    <tr>\n",
       "      <th>Obras</th>\n",
       "      <td>372.0</td>\n",
       "      <td>4.156696e+06</td>\n",
       "      <td>4.776856e+07</td>\n",
       "      <td>12019.0</td>\n",
       "      <td>89519.00</td>\n",
       "      <td>232019.0</td>\n",
       "      <td>804519.00</td>\n",
       "      <td>900102019.0</td>\n",
       "      <td>372.0</td>\n",
       "      <td>209823.301075</td>\n",
       "      <td>...</td>\n",
       "      <td>26435.0</td>\n",
       "      <td>81000.0</td>\n",
       "      <td>372.0</td>\n",
       "      <td>6.894279e+05</td>\n",
       "      <td>3.831799e+06</td>\n",
       "      <td>0.01</td>\n",
       "      <td>3.290000e+03</td>\n",
       "      <td>12630.000</td>\n",
       "      <td>5.226578e+05</td>\n",
       "      <td>6.949661e+07</td>\n",
       "    </tr>\n",
       "    <tr>\n",
       "      <th rowspan=\"2\" valign=\"top\">Pregão</th>\n",
       "      <th rowspan=\"2\" valign=\"top\">1</th>\n",
       "      <th>Compras/Servicos</th>\n",
       "      <td>14443.0</td>\n",
       "      <td>7.671944e+06</td>\n",
       "      <td>4.797837e+07</td>\n",
       "      <td>12013.0</td>\n",
       "      <td>72019.00</td>\n",
       "      <td>222018.0</td>\n",
       "      <td>687018.50</td>\n",
       "      <td>900462018.0</td>\n",
       "      <td>14443.0</td>\n",
       "      <td>483481.333033</td>\n",
       "      <td>...</td>\n",
       "      <td>93420.0</td>\n",
       "      <td>97400.0</td>\n",
       "      <td>14443.0</td>\n",
       "      <td>1.009878e+06</td>\n",
       "      <td>1.623632e+07</td>\n",
       "      <td>0.00</td>\n",
       "      <td>1.449976e+04</td>\n",
       "      <td>62494.000</td>\n",
       "      <td>2.560000e+05</td>\n",
       "      <td>1.711541e+09</td>\n",
       "    </tr>\n",
       "    <tr>\n",
       "      <th>Obras</th>\n",
       "      <td>1520.0</td>\n",
       "      <td>6.884460e+06</td>\n",
       "      <td>3.406220e+07</td>\n",
       "      <td>12018.0</td>\n",
       "      <td>42018.75</td>\n",
       "      <td>122019.0</td>\n",
       "      <td>412019.00</td>\n",
       "      <td>720192019.0</td>\n",
       "      <td>1520.0</td>\n",
       "      <td>340090.884868</td>\n",
       "      <td>...</td>\n",
       "      <td>41231.0</td>\n",
       "      <td>97400.0</td>\n",
       "      <td>1520.0</td>\n",
       "      <td>1.223781e+06</td>\n",
       "      <td>4.751897e+06</td>\n",
       "      <td>0.00</td>\n",
       "      <td>5.594957e+04</td>\n",
       "      <td>208699.585</td>\n",
       "      <td>7.045492e+05</td>\n",
       "      <td>9.870000e+07</td>\n",
       "    </tr>\n",
       "    <tr>\n",
       "      <th rowspan=\"4\" valign=\"top\">Pregão - Registro de Preço</th>\n",
       "      <th rowspan=\"2\" valign=\"top\">0</th>\n",
       "      <th>Compras/Servicos</th>\n",
       "      <td>19085.0</td>\n",
       "      <td>1.660407e+06</td>\n",
       "      <td>1.777218e+07</td>\n",
       "      <td>12017.0</td>\n",
       "      <td>72019.00</td>\n",
       "      <td>202019.0</td>\n",
       "      <td>542019.00</td>\n",
       "      <td>920182019.0</td>\n",
       "      <td>19085.0</td>\n",
       "      <td>319248.754257</td>\n",
       "      <td>...</td>\n",
       "      <td>52121.0</td>\n",
       "      <td>97400.0</td>\n",
       "      <td>19085.0</td>\n",
       "      <td>5.267823e+04</td>\n",
       "      <td>1.518821e+05</td>\n",
       "      <td>0.00</td>\n",
       "      <td>3.250800e+02</td>\n",
       "      <td>4815.360</td>\n",
       "      <td>3.013660e+04</td>\n",
       "      <td>1.430000e+06</td>\n",
       "    </tr>\n",
       "    <tr>\n",
       "      <th>Obras</th>\n",
       "      <td>428.0</td>\n",
       "      <td>1.364752e+06</td>\n",
       "      <td>1.248285e+07</td>\n",
       "      <td>12019.0</td>\n",
       "      <td>52019.00</td>\n",
       "      <td>122019.0</td>\n",
       "      <td>342019.00</td>\n",
       "      <td>163802019.0</td>\n",
       "      <td>428.0</td>\n",
       "      <td>283678.119159</td>\n",
       "      <td>...</td>\n",
       "      <td>52121.0</td>\n",
       "      <td>97400.0</td>\n",
       "      <td>428.0</td>\n",
       "      <td>1.919245e+05</td>\n",
       "      <td>4.667803e+05</td>\n",
       "      <td>0.00</td>\n",
       "      <td>3.008500e+03</td>\n",
       "      <td>24380.000</td>\n",
       "      <td>1.056619e+05</td>\n",
       "      <td>2.802061e+06</td>\n",
       "    </tr>\n",
       "    <tr>\n",
       "      <th rowspan=\"2\" valign=\"top\">1</th>\n",
       "      <th>Compras/Servicos</th>\n",
       "      <td>363.0</td>\n",
       "      <td>2.814085e+06</td>\n",
       "      <td>2.137730e+07</td>\n",
       "      <td>12018.0</td>\n",
       "      <td>82019.00</td>\n",
       "      <td>222019.0</td>\n",
       "      <td>562018.50</td>\n",
       "      <td>241272019.0</td>\n",
       "      <td>363.0</td>\n",
       "      <td>391459.176309</td>\n",
       "      <td>...</td>\n",
       "      <td>52176.0</td>\n",
       "      <td>97400.0</td>\n",
       "      <td>363.0</td>\n",
       "      <td>7.588174e+07</td>\n",
       "      <td>1.182168e+09</td>\n",
       "      <td>1433604.12</td>\n",
       "      <td>2.095730e+06</td>\n",
       "      <td>3463600.000</td>\n",
       "      <td>8.673844e+06</td>\n",
       "      <td>2.250000e+10</td>\n",
       "    </tr>\n",
       "    <tr>\n",
       "      <th>Obras</th>\n",
       "      <td>18.0</td>\n",
       "      <td>2.286854e+05</td>\n",
       "      <td>3.251604e+05</td>\n",
       "      <td>12019.0</td>\n",
       "      <td>69519.00</td>\n",
       "      <td>132018.5</td>\n",
       "      <td>269519.00</td>\n",
       "      <td>1422018.0</td>\n",
       "      <td>18.0</td>\n",
       "      <td>460484.888889</td>\n",
       "      <td>...</td>\n",
       "      <td>93420.0</td>\n",
       "      <td>97400.0</td>\n",
       "      <td>18.0</td>\n",
       "      <td>6.578784e+06</td>\n",
       "      <td>2.516383e+06</td>\n",
       "      <td>3466945.00</td>\n",
       "      <td>4.660516e+06</td>\n",
       "      <td>5729023.295</td>\n",
       "      <td>9.270962e+06</td>\n",
       "      <td>1.068000e+07</td>\n",
       "    </tr>\n",
       "    <tr>\n",
       "      <th rowspan=\"4\" valign=\"top\">Tomada de Preços</th>\n",
       "      <th rowspan=\"2\" valign=\"top\">0</th>\n",
       "      <th>Compras/Servicos</th>\n",
       "      <td>153.0</td>\n",
       "      <td>6.862012e+04</td>\n",
       "      <td>1.264971e+05</td>\n",
       "      <td>12018.0</td>\n",
       "      <td>12019.00</td>\n",
       "      <td>32019.0</td>\n",
       "      <td>82019.00</td>\n",
       "      <td>1382018.0</td>\n",
       "      <td>153.0</td>\n",
       "      <td>210036.542484</td>\n",
       "      <td>...</td>\n",
       "      <td>52121.0</td>\n",
       "      <td>52131.0</td>\n",
       "      <td>153.0</td>\n",
       "      <td>5.567642e+05</td>\n",
       "      <td>8.712525e+05</td>\n",
       "      <td>0.00</td>\n",
       "      <td>5.178062e+04</td>\n",
       "      <td>105741.080</td>\n",
       "      <td>1.740058e+05</td>\n",
       "      <td>3.222674e+06</td>\n",
       "    </tr>\n",
       "    <tr>\n",
       "      <th>Obras</th>\n",
       "      <td>91.0</td>\n",
       "      <td>1.400041e+06</td>\n",
       "      <td>1.259260e+07</td>\n",
       "      <td>12018.0</td>\n",
       "      <td>12019.00</td>\n",
       "      <td>22019.0</td>\n",
       "      <td>57019.00</td>\n",
       "      <td>120182019.0</td>\n",
       "      <td>91.0</td>\n",
       "      <td>256166.967033</td>\n",
       "      <td>...</td>\n",
       "      <td>52121.0</td>\n",
       "      <td>94420.0</td>\n",
       "      <td>91.0</td>\n",
       "      <td>1.728556e+05</td>\n",
       "      <td>9.800374e+04</td>\n",
       "      <td>0.00</td>\n",
       "      <td>1.054965e+05</td>\n",
       "      <td>171030.300</td>\n",
       "      <td>2.636000e+05</td>\n",
       "      <td>3.291031e+05</td>\n",
       "    </tr>\n",
       "    <tr>\n",
       "      <th rowspan=\"2\" valign=\"top\">1</th>\n",
       "      <th>Compras/Servicos</th>\n",
       "      <td>264.0</td>\n",
       "      <td>7.974604e+04</td>\n",
       "      <td>2.340439e+05</td>\n",
       "      <td>12017.0</td>\n",
       "      <td>12019.00</td>\n",
       "      <td>32019.0</td>\n",
       "      <td>72019.00</td>\n",
       "      <td>2852018.0</td>\n",
       "      <td>264.0</td>\n",
       "      <td>192040.613636</td>\n",
       "      <td>...</td>\n",
       "      <td>52121.0</td>\n",
       "      <td>52131.0</td>\n",
       "      <td>264.0</td>\n",
       "      <td>5.286806e+05</td>\n",
       "      <td>3.077656e+05</td>\n",
       "      <td>178151.66</td>\n",
       "      <td>2.819303e+05</td>\n",
       "      <td>443425.075</td>\n",
       "      <td>6.938468e+05</td>\n",
       "      <td>1.387719e+06</td>\n",
       "    </tr>\n",
       "    <tr>\n",
       "      <th>Obras</th>\n",
       "      <td>116.0</td>\n",
       "      <td>4.132918e+04</td>\n",
       "      <td>4.260481e+04</td>\n",
       "      <td>12018.0</td>\n",
       "      <td>12019.00</td>\n",
       "      <td>22019.0</td>\n",
       "      <td>52019.00</td>\n",
       "      <td>262019.0</td>\n",
       "      <td>116.0</td>\n",
       "      <td>210484.025862</td>\n",
       "      <td>...</td>\n",
       "      <td>52111.0</td>\n",
       "      <td>52222.0</td>\n",
       "      <td>116.0</td>\n",
       "      <td>9.261138e+05</td>\n",
       "      <td>5.825803e+05</td>\n",
       "      <td>352482.10</td>\n",
       "      <td>5.287377e+05</td>\n",
       "      <td>730669.330</td>\n",
       "      <td>1.172320e+06</td>\n",
       "      <td>3.078745e+06</td>\n",
       "    </tr>\n",
       "  </tbody>\n",
       "</table>\n",
       "<p>29 rows × 48 columns</p>\n",
       "</div>"
      ],
      "text/plain": [
       "                                                      Número Licitação  \\\n",
       "                                                                 count   \n",
       "Modalidade Compra                Tag Tipo                                \n",
       "Concorrência                     0   Compras/Servicos             55.0   \n",
       "                                     Obras                        26.0   \n",
       "                                 1   Compras/Servicos             65.0   \n",
       "                                     Obras                        40.0   \n",
       "Concorrência - Registro de Preço 0   Compras/Servicos              4.0   \n",
       "                                     Obras                         1.0   \n",
       "Concorrência Internacional       1   Compras/Servicos              3.0   \n",
       "Concurso                         1   Compras/Servicos             14.0   \n",
       "                                     Obras                         3.0   \n",
       "Convite                          0   Compras/Servicos             24.0   \n",
       "                                     Obras                         7.0   \n",
       "                                 1   Compras/Servicos             57.0   \n",
       "                                     Obras                        57.0   \n",
       "Dispensa de Licitação            0   Compras/Servicos           6886.0   \n",
       "                                     Obras                       264.0   \n",
       "                                 1   Compras/Servicos         102074.0   \n",
       "                                     Obras                      1797.0   \n",
       "Inexigibilidade de Licitação     1   Compras/Servicos          21166.0   \n",
       "                                     Obras                       372.0   \n",
       "Pregão                           1   Compras/Servicos          14443.0   \n",
       "                                     Obras                      1520.0   \n",
       "Pregão - Registro de Preço       0   Compras/Servicos          19085.0   \n",
       "                                     Obras                       428.0   \n",
       "                                 1   Compras/Servicos            363.0   \n",
       "                                     Obras                        18.0   \n",
       "Tomada de Preços                 0   Compras/Servicos            153.0   \n",
       "                                     Obras                        91.0   \n",
       "                                 1   Compras/Servicos            264.0   \n",
       "                                     Obras                       116.0   \n",
       "\n",
       "                                                                     \\\n",
       "                                                               mean   \n",
       "Modalidade Compra                Tag Tipo                             \n",
       "Concorrência                     0   Compras/Servicos  1.278367e+05   \n",
       "                                     Obras             4.663408e+04   \n",
       "                                 1   Compras/Servicos  1.003262e+05   \n",
       "                                     Obras             1.642686e+05   \n",
       "Concorrência - Registro de Preço 0   Compras/Servicos  2.951900e+04   \n",
       "                                     Obras             1.020180e+05   \n",
       "Concorrência Internacional       1   Compras/Servicos  3.535200e+04   \n",
       "Concurso                         1   Compras/Servicos  2.773314e+04   \n",
       "                                     Obras             2.535133e+04   \n",
       "Convite                          0   Compras/Servicos  2.566022e+05   \n",
       "                                     Obras             2.630457e+04   \n",
       "                                 1   Compras/Servicos  2.592117e+05   \n",
       "                                     Obras             4.956261e+04   \n",
       "Dispensa de Licitação            0   Compras/Servicos  1.710900e+07   \n",
       "                                     Obras             7.102246e+06   \n",
       "                                 1   Compras/Servicos  1.576805e+07   \n",
       "                                     Obras             6.675803e+06   \n",
       "Inexigibilidade de Licitação     1   Compras/Servicos  1.334088e+07   \n",
       "                                     Obras             4.156696e+06   \n",
       "Pregão                           1   Compras/Servicos  7.671944e+06   \n",
       "                                     Obras             6.884460e+06   \n",
       "Pregão - Registro de Preço       0   Compras/Servicos  1.660407e+06   \n",
       "                                     Obras             1.364752e+06   \n",
       "                                 1   Compras/Servicos  2.814085e+06   \n",
       "                                     Obras             2.286854e+05   \n",
       "Tomada de Preços                 0   Compras/Servicos  6.862012e+04   \n",
       "                                     Obras             1.400041e+06   \n",
       "                                 1   Compras/Servicos  7.974604e+04   \n",
       "                                     Obras             4.132918e+04   \n",
       "\n",
       "                                                                               \\\n",
       "                                                                std       min   \n",
       "Modalidade Compra                Tag Tipo                                       \n",
       "Concorrência                     0   Compras/Servicos  4.208793e+05   12018.0   \n",
       "                                     Obras             4.571496e+04   12017.0   \n",
       "                                 1   Compras/Servicos  3.246802e+05   12018.0   \n",
       "                                     Obras             3.956524e+05   12018.0   \n",
       "Concorrência - Registro de Preço 0   Compras/Servicos  3.500000e+04   12019.0   \n",
       "                                     Obras                      NaN  102018.0   \n",
       "Concorrência Internacional       1   Compras/Servicos  2.516558e+04   12019.0   \n",
       "Concurso                         1   Compras/Servicos  1.910042e+04   12019.0   \n",
       "                                     Obras             1.527525e+04   12018.0   \n",
       "Convite                          0   Compras/Servicos  1.159929e+06   12018.0   \n",
       "                                     Obras             1.397281e+04   12019.0   \n",
       "                                 1   Compras/Servicos  8.976252e+05   12018.0   \n",
       "                                     Obras             4.660924e+04   12018.0   \n",
       "Dispensa de Licitação            0   Compras/Servicos  8.778499e+07   12016.0   \n",
       "                                     Obras             5.376533e+07   12019.0   \n",
       "                                 1   Compras/Servicos  8.777542e+07   12018.0   \n",
       "                                     Obras             4.938546e+07   12019.0   \n",
       "Inexigibilidade de Licitação     1   Compras/Servicos  8.459524e+07   12015.0   \n",
       "                                     Obras             4.776856e+07   12019.0   \n",
       "Pregão                           1   Compras/Servicos  4.797837e+07   12013.0   \n",
       "                                     Obras             3.406220e+07   12018.0   \n",
       "Pregão - Registro de Preço       0   Compras/Servicos  1.777218e+07   12017.0   \n",
       "                                     Obras             1.248285e+07   12019.0   \n",
       "                                 1   Compras/Servicos  2.137730e+07   12018.0   \n",
       "                                     Obras             3.251604e+05   12019.0   \n",
       "Tomada de Preços                 0   Compras/Servicos  1.264971e+05   12018.0   \n",
       "                                     Obras             1.259260e+07   12018.0   \n",
       "                                 1   Compras/Servicos  2.340439e+05   12017.0   \n",
       "                                     Obras             4.260481e+04   12018.0   \n",
       "\n",
       "                                                                            \\\n",
       "                                                             25%       50%   \n",
       "Modalidade Compra                Tag Tipo                                    \n",
       "Concorrência                     0   Compras/Servicos   12019.00   22018.0   \n",
       "                                     Obras              22018.00   32019.0   \n",
       "                                 1   Compras/Servicos   12019.00   22019.0   \n",
       "                                     Obras              12019.00   22019.0   \n",
       "Concorrência - Registro de Preço 0   Compras/Servicos   12019.00   12019.0   \n",
       "                                     Obras             102018.00  102018.0   \n",
       "Concorrência Internacional       1   Compras/Servicos   22019.00   32019.0   \n",
       "Concurso                         1   Compras/Servicos   12019.00   22019.0   \n",
       "                                     Obras              17018.00   22018.0   \n",
       "Convite                          0   Compras/Servicos   12019.00   12019.0   \n",
       "                                     Obras              17018.50   22019.0   \n",
       "                                 1   Compras/Servicos   12019.00   22019.0   \n",
       "                                     Obras              12019.00   32018.0   \n",
       "Dispensa de Licitação            0   Compras/Servicos  142019.00  502019.0   \n",
       "                                     Obras              79519.00  217019.0   \n",
       "                                 1   Compras/Servicos  192019.00  522019.0   \n",
       "                                     Obras             142019.00  402019.0   \n",
       "Inexigibilidade de Licitação     1   Compras/Servicos   52019.00  192019.0   \n",
       "                                     Obras              89519.00  232019.0   \n",
       "Pregão                           1   Compras/Servicos   72019.00  222018.0   \n",
       "                                     Obras              42018.75  122019.0   \n",
       "Pregão - Registro de Preço       0   Compras/Servicos   72019.00  202019.0   \n",
       "                                     Obras              52019.00  122019.0   \n",
       "                                 1   Compras/Servicos   82019.00  222019.0   \n",
       "                                     Obras              69519.00  132018.5   \n",
       "Tomada de Preços                 0   Compras/Servicos   12019.00   32019.0   \n",
       "                                     Obras              12019.00   22019.0   \n",
       "                                 1   Compras/Servicos   12019.00   32019.0   \n",
       "                                     Obras              12019.00   22019.0   \n",
       "\n",
       "                                                                   \\\n",
       "                                                              75%   \n",
       "Modalidade Compra                Tag Tipo                           \n",
       "Concorrência                     0   Compras/Servicos    57018.50   \n",
       "                                     Obras               59518.25   \n",
       "                                 1   Compras/Servicos    52019.00   \n",
       "                                     Obras               54518.75   \n",
       "Concorrência - Registro de Preço 0   Compras/Servicos    29519.00   \n",
       "                                     Obras              102018.00   \n",
       "Concorrência Internacional       1   Compras/Servicos    47018.50   \n",
       "Concurso                         1   Compras/Servicos    32019.00   \n",
       "                                     Obras               32018.00   \n",
       "Convite                          0   Compras/Servicos    24519.00   \n",
       "                                     Obras               32019.00   \n",
       "                                 1   Compras/Servicos    42018.00   \n",
       "                                     Obras               72019.00   \n",
       "Dispensa de Licitação            0   Compras/Servicos  1722019.00   \n",
       "                                     Obras              812019.00   \n",
       "                                 1   Compras/Servicos  1362019.00   \n",
       "                                     Obras             1102019.00   \n",
       "Inexigibilidade de Licitação     1   Compras/Servicos   652019.00   \n",
       "                                     Obras              804519.00   \n",
       "Pregão                           1   Compras/Servicos   687018.50   \n",
       "                                     Obras              412019.00   \n",
       "Pregão - Registro de Preço       0   Compras/Servicos   542019.00   \n",
       "                                     Obras              342019.00   \n",
       "                                 1   Compras/Servicos   562018.50   \n",
       "                                     Obras              269519.00   \n",
       "Tomada de Preços                 0   Compras/Servicos    82019.00   \n",
       "                                     Obras               57019.00   \n",
       "                                 1   Compras/Servicos    72019.00   \n",
       "                                     Obras               52019.00   \n",
       "\n",
       "                                                                   Código UG  \\\n",
       "                                                               max     count   \n",
       "Modalidade Compra                Tag Tipo                                      \n",
       "Concorrência                     0   Compras/Servicos    2672017.0      55.0   \n",
       "                                     Obras                212019.0      26.0   \n",
       "                                 1   Compras/Servicos    2332017.0      65.0   \n",
       "                                     Obras               1552019.0      40.0   \n",
       "Concorrência - Registro de Preço 0   Compras/Servicos      82019.0       4.0   \n",
       "                                     Obras                102018.0       1.0   \n",
       "Concorrência Internacional       1   Compras/Servicos      62018.0       3.0   \n",
       "Concurso                         1   Compras/Servicos      82018.0      14.0   \n",
       "                                     Obras                 42018.0       3.0   \n",
       "Convite                          0   Compras/Servicos    5702018.0      24.0   \n",
       "                                     Obras                 52019.0       7.0   \n",
       "                                 1   Compras/Servicos    5012018.0      57.0   \n",
       "                                     Obras                182018.0      57.0   \n",
       "Dispensa de Licitação            0   Compras/Servicos  997242019.0    6886.0   \n",
       "                                     Obras             601872019.0     264.0   \n",
       "                                 1   Compras/Servicos  997822019.0  102074.0   \n",
       "                                     Obras             860012019.0    1797.0   \n",
       "Inexigibilidade de Licitação     1   Compras/Servicos  997812019.0   21166.0   \n",
       "                                     Obras             900102019.0     372.0   \n",
       "Pregão                           1   Compras/Servicos  900462018.0   14443.0   \n",
       "                                     Obras             720192019.0    1520.0   \n",
       "Pregão - Registro de Preço       0   Compras/Servicos  920182019.0   19085.0   \n",
       "                                     Obras             163802019.0     428.0   \n",
       "                                 1   Compras/Servicos  241272019.0     363.0   \n",
       "                                     Obras               1422018.0      18.0   \n",
       "Tomada de Preços                 0   Compras/Servicos    1382018.0     153.0   \n",
       "                                     Obras             120182019.0      91.0   \n",
       "                                 1   Compras/Servicos    2852018.0     264.0   \n",
       "                                     Obras                262019.0     116.0   \n",
       "\n",
       "                                                                      ...  \\\n",
       "                                                                mean  ...   \n",
       "Modalidade Compra                Tag Tipo                             ...   \n",
       "Concorrência                     0   Compras/Servicos  238074.636364  ...   \n",
       "                                     Obras             216251.807692  ...   \n",
       "                                 1   Compras/Servicos  227973.415385  ...   \n",
       "                                     Obras             264658.575000  ...   \n",
       "Concorrência - Registro de Preço 0   Compras/Servicos  148138.500000  ...   \n",
       "                                     Obras             153052.000000  ...   \n",
       "Concorrência Internacional       1   Compras/Servicos  250052.000000  ...   \n",
       "Concurso                         1   Compras/Servicos  213924.214286  ...   \n",
       "                                     Obras             344002.000000  ...   \n",
       "Convite                          0   Compras/Servicos  273578.000000  ...   \n",
       "                                     Obras             233991.428571  ...   \n",
       "                                 1   Compras/Servicos  236177.807018  ...   \n",
       "                                     Obras             233749.368421  ...   \n",
       "Dispensa de Licitação            0   Compras/Servicos  221406.881208  ...   \n",
       "                                     Obras             223809.284091  ...   \n",
       "                                 1   Compras/Servicos  253971.641593  ...   \n",
       "                                     Obras             241392.904285  ...   \n",
       "Inexigibilidade de Licitação     1   Compras/Servicos  226514.187470  ...   \n",
       "                                     Obras             209823.301075  ...   \n",
       "Pregão                           1   Compras/Servicos  483481.333033  ...   \n",
       "                                     Obras             340090.884868  ...   \n",
       "Pregão - Registro de Preço       0   Compras/Servicos  319248.754257  ...   \n",
       "                                     Obras             283678.119159  ...   \n",
       "                                 1   Compras/Servicos  391459.176309  ...   \n",
       "                                     Obras             460484.888889  ...   \n",
       "Tomada de Preços                 0   Compras/Servicos  210036.542484  ...   \n",
       "                                     Obras             256166.967033  ...   \n",
       "                                 1   Compras/Servicos  192040.613636  ...   \n",
       "                                     Obras             210484.025862  ...   \n",
       "\n",
       "                                                      Código Órgão           \\\n",
       "                                                               75%      max   \n",
       "Modalidade Compra                Tag Tipo                                     \n",
       "Concorrência                     0   Compras/Servicos      36000.0  52131.0   \n",
       "                                     Obras                 48000.0  52131.0   \n",
       "                                 1   Compras/Servicos      52121.0  55000.0   \n",
       "                                     Obras                 52111.0  52131.0   \n",
       "Concorrência - Registro de Preço 0   Compras/Servicos      52113.5  52121.0   \n",
       "                                     Obras                 26235.0  26235.0   \n",
       "Concorrência Internacional       1   Compras/Servicos      36000.0  36000.0   \n",
       "Concurso                         1   Compras/Servicos      26350.0  42207.0   \n",
       "                                     Obras                 26292.0  26292.0   \n",
       "Convite                          0   Compras/Servicos      52121.0  52131.0   \n",
       "                                     Obras                 44661.5  52121.0   \n",
       "                                 1   Compras/Servicos      52111.0  52131.0   \n",
       "                                     Obras                 36000.0  52211.0   \n",
       "Dispensa de Licitação            0   Compras/Servicos      36201.0  95420.0   \n",
       "                                     Obras                 36000.0  95320.0   \n",
       "                                 1   Compras/Servicos      52121.0  97400.0   \n",
       "                                     Obras                 52121.0  97400.0   \n",
       "Inexigibilidade de Licitação     1   Compras/Servicos      52111.0  97320.0   \n",
       "                                     Obras                 26435.0  81000.0   \n",
       "Pregão                           1   Compras/Servicos      93420.0  97400.0   \n",
       "                                     Obras                 41231.0  97400.0   \n",
       "Pregão - Registro de Preço       0   Compras/Servicos      52121.0  97400.0   \n",
       "                                     Obras                 52121.0  97400.0   \n",
       "                                 1   Compras/Servicos      52176.0  97400.0   \n",
       "                                     Obras                 93420.0  97400.0   \n",
       "Tomada de Preços                 0   Compras/Servicos      52121.0  52131.0   \n",
       "                                     Obras                 52121.0  94420.0   \n",
       "                                 1   Compras/Servicos      52121.0  52131.0   \n",
       "                                     Obras                 52111.0  52222.0   \n",
       "\n",
       "                                                          Total                \\\n",
       "                                                          count          mean   \n",
       "Modalidade Compra                Tag Tipo                                       \n",
       "Concorrência                     0   Compras/Servicos      55.0  3.850278e+05   \n",
       "                                     Obras                 26.0  1.254568e+06   \n",
       "                                 1   Compras/Servicos      65.0  6.285347e+06   \n",
       "                                     Obras                 40.0  8.404070e+06   \n",
       "Concorrência - Registro de Preço 0   Compras/Servicos       4.0  0.000000e+00   \n",
       "                                     Obras                  1.0  0.000000e+00   \n",
       "Concorrência Internacional       1   Compras/Servicos       3.0  2.654346e+05   \n",
       "Concurso                         1   Compras/Servicos      14.0  5.200000e+04   \n",
       "                                     Obras                  3.0  3.933333e+04   \n",
       "Convite                          0   Compras/Servicos      24.0  1.400560e+05   \n",
       "                                     Obras                  7.0  2.616919e+04   \n",
       "                                 1   Compras/Servicos      57.0  8.699827e+04   \n",
       "                                     Obras                 57.0  1.373860e+05   \n",
       "Dispensa de Licitação            0   Compras/Servicos    6886.0  1.568725e+06   \n",
       "                                     Obras                264.0  1.351722e+06   \n",
       "                                 1   Compras/Servicos  102074.0  4.123038e+03   \n",
       "                                     Obras               1797.0  7.977030e+03   \n",
       "Inexigibilidade de Licitação     1   Compras/Servicos   21166.0  5.754203e+05   \n",
       "                                     Obras                372.0  6.894279e+05   \n",
       "Pregão                           1   Compras/Servicos   14443.0  1.009878e+06   \n",
       "                                     Obras               1520.0  1.223781e+06   \n",
       "Pregão - Registro de Preço       0   Compras/Servicos   19085.0  5.267823e+04   \n",
       "                                     Obras                428.0  1.919245e+05   \n",
       "                                 1   Compras/Servicos     363.0  7.588174e+07   \n",
       "                                     Obras                 18.0  6.578784e+06   \n",
       "Tomada de Preços                 0   Compras/Servicos     153.0  5.567642e+05   \n",
       "                                     Obras                 91.0  1.728556e+05   \n",
       "                                 1   Compras/Servicos     264.0  5.286806e+05   \n",
       "                                     Obras                116.0  9.261138e+05   \n",
       "\n",
       "                                                                     \\\n",
       "                                                                std   \n",
       "Modalidade Compra                Tag Tipo                             \n",
       "Concorrência                     0   Compras/Servicos  4.301480e+05   \n",
       "                                     Obras             1.143980e+06   \n",
       "                                 1   Compras/Servicos  7.484179e+06   \n",
       "                                     Obras             6.017556e+06   \n",
       "Concorrência - Registro de Preço 0   Compras/Servicos  0.000000e+00   \n",
       "                                     Obras                      NaN   \n",
       "Concorrência Internacional       1   Compras/Servicos  1.203275e+05   \n",
       "Concurso                         1   Compras/Servicos  7.022049e+04   \n",
       "                                     Obras             1.436431e+04   \n",
       "Convite                          0   Compras/Servicos  1.208153e+05   \n",
       "                                     Obras             1.160652e+04   \n",
       "                                 1   Compras/Servicos  4.345634e+04   \n",
       "                                     Obras             6.758015e+04   \n",
       "Dispensa de Licitação            0   Compras/Servicos  2.071970e+07   \n",
       "                                     Obras             3.387311e+06   \n",
       "                                 1   Compras/Servicos  4.500306e+03   \n",
       "                                     Obras             8.694308e+03   \n",
       "Inexigibilidade de Licitação     1   Compras/Servicos  7.295838e+06   \n",
       "                                     Obras             3.831799e+06   \n",
       "Pregão                           1   Compras/Servicos  1.623632e+07   \n",
       "                                     Obras             4.751897e+06   \n",
       "Pregão - Registro de Preço       0   Compras/Servicos  1.518821e+05   \n",
       "                                     Obras             4.667803e+05   \n",
       "                                 1   Compras/Servicos  1.182168e+09   \n",
       "                                     Obras             2.516383e+06   \n",
       "Tomada de Preços                 0   Compras/Servicos  8.712525e+05   \n",
       "                                     Obras             9.800374e+04   \n",
       "                                 1   Compras/Servicos  3.077656e+05   \n",
       "                                     Obras             5.825803e+05   \n",
       "\n",
       "                                                                   \\\n",
       "                                                              min   \n",
       "Modalidade Compra                Tag Tipo                           \n",
       "Concorrência                     0   Compras/Servicos        0.00   \n",
       "                                     Obras                   0.00   \n",
       "                                 1   Compras/Servicos  1664520.50   \n",
       "                                     Obras             3316329.71   \n",
       "Concorrência - Registro de Preço 0   Compras/Servicos        0.00   \n",
       "                                     Obras                   0.00   \n",
       "Concorrência Internacional       1   Compras/Servicos   134640.00   \n",
       "Concurso                         1   Compras/Servicos     4000.00   \n",
       "                                     Obras               23000.00   \n",
       "Convite                          0   Compras/Servicos        0.00   \n",
       "                                     Obras                   0.00   \n",
       "                                 1   Compras/Servicos    20879.04   \n",
       "                                     Obras               39471.60   \n",
       "Dispensa de Licitação            0   Compras/Servicos    17602.00   \n",
       "                                     Obras               35712.34   \n",
       "                                 1   Compras/Servicos        0.00   \n",
       "                                     Obras                   1.00   \n",
       "Inexigibilidade de Licitação     1   Compras/Servicos        0.01   \n",
       "                                     Obras                   0.01   \n",
       "Pregão                           1   Compras/Servicos        0.00   \n",
       "                                     Obras                   0.00   \n",
       "Pregão - Registro de Preço       0   Compras/Servicos        0.00   \n",
       "                                     Obras                   0.00   \n",
       "                                 1   Compras/Servicos  1433604.12   \n",
       "                                     Obras             3466945.00   \n",
       "Tomada de Preços                 0   Compras/Servicos        0.00   \n",
       "                                     Obras                   0.00   \n",
       "                                 1   Compras/Servicos   178151.66   \n",
       "                                     Obras              352482.10   \n",
       "\n",
       "                                                                     \\\n",
       "                                                                25%   \n",
       "Modalidade Compra                Tag Tipo                             \n",
       "Concorrência                     0   Compras/Servicos  2.452275e+03   \n",
       "                                     Obras             3.079099e+05   \n",
       "                                 1   Compras/Servicos  3.345638e+06   \n",
       "                                     Obras             4.510033e+06   \n",
       "Concorrência - Registro de Preço 0   Compras/Servicos  0.000000e+00   \n",
       "                                     Obras             0.000000e+00   \n",
       "Concorrência Internacional       1   Compras/Servicos  2.124365e+05   \n",
       "Concurso                         1   Compras/Servicos  1.087500e+04   \n",
       "                                     Obras             3.400000e+04   \n",
       "Convite                          0   Compras/Servicos  0.000000e+00   \n",
       "                                     Obras             2.927193e+04   \n",
       "                                 1   Compras/Servicos  5.443200e+04   \n",
       "                                     Obras             8.767926e+04   \n",
       "Dispensa de Licitação            0   Compras/Servicos  3.044706e+04   \n",
       "                                     Obras             8.745128e+04   \n",
       "                                 1   Compras/Servicos  8.560000e+02   \n",
       "                                     Obras             1.385500e+03   \n",
       "Inexigibilidade de Licitação     1   Compras/Servicos  1.822015e+03   \n",
       "                                     Obras             3.290000e+03   \n",
       "Pregão                           1   Compras/Servicos  1.449976e+04   \n",
       "                                     Obras             5.594957e+04   \n",
       "Pregão - Registro de Preço       0   Compras/Servicos  3.250800e+02   \n",
       "                                     Obras             3.008500e+03   \n",
       "                                 1   Compras/Servicos  2.095730e+06   \n",
       "                                     Obras             4.660516e+06   \n",
       "Tomada de Preços                 0   Compras/Servicos  5.178062e+04   \n",
       "                                     Obras             1.054965e+05   \n",
       "                                 1   Compras/Servicos  2.819303e+05   \n",
       "                                     Obras             5.287377e+05   \n",
       "\n",
       "                                                                    \\\n",
       "                                                               50%   \n",
       "Modalidade Compra                Tag Tipo                            \n",
       "Concorrência                     0   Compras/Servicos   230000.000   \n",
       "                                     Obras              738259.590   \n",
       "                                 1   Compras/Servicos  4671336.200   \n",
       "                                     Obras             6516609.670   \n",
       "Concorrência - Registro de Preço 0   Compras/Servicos        0.000   \n",
       "                                     Obras                   0.000   \n",
       "Concorrência Internacional       1   Compras/Servicos   290232.940   \n",
       "Concurso                         1   Compras/Servicos    18950.000   \n",
       "                                     Obras               45000.000   \n",
       "Convite                          0   Compras/Servicos   192299.125   \n",
       "                                     Obras               30411.560   \n",
       "                                 1   Compras/Servicos    79385.040   \n",
       "                                     Obras              119961.320   \n",
       "Dispensa de Licitação            0   Compras/Servicos    69520.000   \n",
       "                                     Obras              274278.365   \n",
       "                                 1   Compras/Servicos     2290.000   \n",
       "                                     Obras                4324.000   \n",
       "Inexigibilidade de Licitação     1   Compras/Servicos     5990.000   \n",
       "                                     Obras               12630.000   \n",
       "Pregão                           1   Compras/Servicos    62494.000   \n",
       "                                     Obras              208699.585   \n",
       "Pregão - Registro de Preço       0   Compras/Servicos     4815.360   \n",
       "                                     Obras               24380.000   \n",
       "                                 1   Compras/Servicos  3463600.000   \n",
       "                                     Obras             5729023.295   \n",
       "Tomada de Preços                 0   Compras/Servicos   105741.080   \n",
       "                                     Obras              171030.300   \n",
       "                                 1   Compras/Servicos   443425.075   \n",
       "                                     Obras              730669.330   \n",
       "\n",
       "                                                                     \\\n",
       "                                                                75%   \n",
       "Modalidade Compra                Tag Tipo                             \n",
       "Concorrência                     0   Compras/Servicos  6.202762e+05   \n",
       "                                     Obras             2.396302e+06   \n",
       "                                 1   Compras/Servicos  5.909459e+06   \n",
       "                                     Obras             8.835446e+06   \n",
       "Concorrência - Registro de Preço 0   Compras/Servicos  0.000000e+00   \n",
       "                                     Obras             0.000000e+00   \n",
       "Concorrência Internacional       1   Compras/Servicos  3.308320e+05   \n",
       "Concurso                         1   Compras/Servicos  5.550000e+04   \n",
       "                                     Obras             4.750000e+04   \n",
       "Convite                          0   Compras/Servicos  2.535307e+05   \n",
       "                                     Obras             3.111350e+04   \n",
       "                                 1   Compras/Servicos  1.238156e+05   \n",
       "                                     Obras             1.853843e+05   \n",
       "Dispensa de Licitação            0   Compras/Servicos  3.367689e+05   \n",
       "                                     Obras             8.077608e+05   \n",
       "                                 1   Compras/Servicos  5.819825e+03   \n",
       "                                     Obras             1.261314e+04   \n",
       "Inexigibilidade de Licitação     1   Compras/Servicos  3.000000e+04   \n",
       "                                     Obras             5.226578e+05   \n",
       "Pregão                           1   Compras/Servicos  2.560000e+05   \n",
       "                                     Obras             7.045492e+05   \n",
       "Pregão - Registro de Preço       0   Compras/Servicos  3.013660e+04   \n",
       "                                     Obras             1.056619e+05   \n",
       "                                 1   Compras/Servicos  8.673844e+06   \n",
       "                                     Obras             9.270962e+06   \n",
       "Tomada de Preços                 0   Compras/Servicos  1.740058e+05   \n",
       "                                     Obras             2.636000e+05   \n",
       "                                 1   Compras/Servicos  6.938468e+05   \n",
       "                                     Obras             1.172320e+06   \n",
       "\n",
       "                                                                     \n",
       "                                                                max  \n",
       "Modalidade Compra                Tag Tipo                            \n",
       "Concorrência                     0   Compras/Servicos  1.360321e+06  \n",
       "                                     Obras             3.272064e+06  \n",
       "                                 1   Compras/Servicos  4.840002e+07  \n",
       "                                     Obras             2.837000e+07  \n",
       "Concorrência - Registro de Preço 0   Compras/Servicos  0.000000e+00  \n",
       "                                     Obras             0.000000e+00  \n",
       "Concorrência Internacional       1   Compras/Servicos  3.714310e+05  \n",
       "Concurso                         1   Compras/Servicos  2.400000e+05  \n",
       "                                     Obras             5.000000e+04  \n",
       "Convite                          0   Compras/Servicos  2.978849e+05  \n",
       "                                     Obras             3.200190e+04  \n",
       "                                 1   Compras/Servicos  1.750000e+05  \n",
       "                                     Obras             3.109562e+05  \n",
       "Dispensa de Licitação            0   Compras/Servicos  1.134000e+09  \n",
       "                                     Obras             3.442936e+07  \n",
       "                                 1   Compras/Servicos  1.760000e+04  \n",
       "                                     Obras             3.300000e+04  \n",
       "Inexigibilidade de Licitação     1   Compras/Servicos  4.074005e+08  \n",
       "                                     Obras             6.949661e+07  \n",
       "Pregão                           1   Compras/Servicos  1.711541e+09  \n",
       "                                     Obras             9.870000e+07  \n",
       "Pregão - Registro de Preço       0   Compras/Servicos  1.430000e+06  \n",
       "                                     Obras             2.802061e+06  \n",
       "                                 1   Compras/Servicos  2.250000e+10  \n",
       "                                     Obras             1.068000e+07  \n",
       "Tomada de Preços                 0   Compras/Servicos  3.222674e+06  \n",
       "                                     Obras             3.291031e+05  \n",
       "                                 1   Compras/Servicos  1.387719e+06  \n",
       "                                     Obras             3.078745e+06  \n",
       "\n",
       "[29 rows x 48 columns]"
      ]
     },
     "execution_count": 132,
     "metadata": {},
     "output_type": "execute_result"
    }
   ],
   "source": [
    "lic_2019_com_tag.groupby(['Modalidade Compra','Tag', 'Tipo']).describe()"
   ]
  },
  {
   "cell_type": "code",
   "execution_count": 133,
   "id": "1d5180c8",
   "metadata": {},
   "outputs": [],
   "source": [
    "import numpy as np\n",
    "%matplotlib inline"
   ]
  },
  {
   "cell_type": "code",
   "execution_count": 134,
   "id": "5f4a5c19",
   "metadata": {},
   "outputs": [
    {
     "name": "stdout",
     "output_type": "stream",
     "text": [
      "<class 'pandas.core.frame.DataFrame'>\n",
      "Int64Index: 169396 entries, 12 to 152726\n",
      "Data columns (total 18 columns):\n",
      " #   Column                    Non-Null Count   Dtype  \n",
      "---  ------                    --------------   -----  \n",
      " 0   Número Licitação          169396 non-null  int64  \n",
      " 1   Código UG                 169396 non-null  int64  \n",
      " 2   Nome UG                   169396 non-null  object \n",
      " 3   Código Modalidade Compra  169396 non-null  int64  \n",
      " 4   Modalidade Compra         169396 non-null  object \n",
      " 5   Número Processo           169390 non-null  object \n",
      " 6   Objeto                    169392 non-null  object \n",
      " 7   Situação Licitação        169396 non-null  object \n",
      " 8   Código Órgão Superior     169396 non-null  int64  \n",
      " 9   Nome Órgão Superior       169396 non-null  object \n",
      " 10  Código Órgão              169396 non-null  int64  \n",
      " 11  Nome Órgão                169396 non-null  object \n",
      " 12  Município                 169396 non-null  object \n",
      " 13  Data Resultado Compra     169396 non-null  object \n",
      " 14  Data Abertura             47292 non-null   object \n",
      " 15  Total                     169396 non-null  float64\n",
      " 16  Tipo                      169396 non-null  object \n",
      " 17  Tag                       169396 non-null  int64  \n",
      "dtypes: float64(1), int64(6), object(11)\n",
      "memory usage: 24.6+ MB\n"
     ]
    }
   ],
   "source": [
    "lic_2019_com_tag.info()"
   ]
  },
  {
   "cell_type": "code",
   "execution_count": null,
   "id": "3980ebb5",
   "metadata": {},
   "outputs": [],
   "source": []
  }
 ],
 "metadata": {
  "kernelspec": {
   "display_name": "Python 3 (ipykernel)",
   "language": "python",
   "name": "python3"
  },
  "language_info": {
   "codemirror_mode": {
    "name": "ipython",
    "version": 3
   },
   "file_extension": ".py",
   "mimetype": "text/x-python",
   "name": "python",
   "nbconvert_exporter": "python",
   "pygments_lexer": "ipython3",
   "version": "3.9.7"
  }
 },
 "nbformat": 4,
 "nbformat_minor": 5
}
