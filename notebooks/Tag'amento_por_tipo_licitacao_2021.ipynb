{
 "cells": [
  {
   "cell_type": "markdown",
   "id": "fa466ffd",
   "metadata": {},
   "source": [
    "## Neste documento, adicionaremos a tag legal/ilegal nos dados\n",
    "- Importação dos dados\n",
    "- Divisão por grupo de tipo de licitação\n",
    "- Criação do algorítmo de classificação\n",
    "- Implementação nas bases divididas por modalidade de licitação"
   ]
  },
  {
   "cell_type": "code",
   "execution_count": 1,
   "id": "d4318096",
   "metadata": {},
   "outputs": [],
   "source": [
    "import pandas as pd\n",
    "import glob\n",
    "import numpy as np\n",
    "import matplotlib.pyplot as plt"
   ]
  },
  {
   "cell_type": "code",
   "execution_count": 2,
   "id": "4defb4fa",
   "metadata": {},
   "outputs": [
    {
     "name": "stdout",
     "output_type": "stream",
     "text": [
      "Wall time: 0 ns\n"
     ]
    }
   ],
   "source": [
    "%time\n",
    "path = r'C:\\licitacoes_08_a_12_2021'\n",
    "filenames = glob.glob(path + \"/*.csv\")\n",
    "\n",
    "li= []\n",
    "\n",
    "for filename in filenames:\n",
    "    df = pd.read_csv(filename, index_col=None, header=0, decimal=',',sep=';',encoding='latin1')\n",
    "    li.append(df)\n",
    "\n",
    "df_lic_2021 = pd.concat(li, axis=0, ignore_index=True)"
   ]
  },
  {
   "cell_type": "code",
   "execution_count": 3,
   "id": "27a67660",
   "metadata": {},
   "outputs": [],
   "source": [
    "pd.options.display.max_colwidth = 1000"
   ]
  },
  {
   "cell_type": "code",
   "execution_count": 4,
   "id": "4bcdd0ed",
   "metadata": {},
   "outputs": [
    {
     "data": {
      "text/html": [
       "<div>\n",
       "<style scoped>\n",
       "    .dataframe tbody tr th:only-of-type {\n",
       "        vertical-align: middle;\n",
       "    }\n",
       "\n",
       "    .dataframe tbody tr th {\n",
       "        vertical-align: top;\n",
       "    }\n",
       "\n",
       "    .dataframe thead th {\n",
       "        text-align: right;\n",
       "    }\n",
       "</style>\n",
       "<table border=\"1\" class=\"dataframe\">\n",
       "  <thead>\n",
       "    <tr style=\"text-align: right;\">\n",
       "      <th></th>\n",
       "      <th>Número Licitação</th>\n",
       "      <th>Código UG</th>\n",
       "      <th>Nome UG</th>\n",
       "      <th>Código Modalidade Compra</th>\n",
       "      <th>Modalidade Compra</th>\n",
       "      <th>Número Processo</th>\n",
       "      <th>Objeto</th>\n",
       "      <th>Situação Licitação</th>\n",
       "      <th>Código Órgão Superior</th>\n",
       "      <th>Nome Órgão Superior</th>\n",
       "      <th>Código Órgão</th>\n",
       "      <th>Nome Órgão</th>\n",
       "      <th>Município</th>\n",
       "      <th>Data Resultado Compra</th>\n",
       "      <th>Data Abertura</th>\n",
       "      <th>Valor Licitação</th>\n",
       "    </tr>\n",
       "  </thead>\n",
       "  <tbody>\n",
       "    <tr>\n",
       "      <th>0</th>\n",
       "      <td>12019</td>\n",
       "      <td>154628</td>\n",
       "      <td>INST.FEDERAL FARROUPILHA CAMPUS JAGUARI</td>\n",
       "      <td>2</td>\n",
       "      <td>Tomada de Preços</td>\n",
       "      <td>26420000767201908</td>\n",
       "      <td>Objeto: Contratação de pessoa jurídica especializada na prestação de serviços de engenharia para elaboração e aprovação do plano de prevenção e proteção contra incêndio, com a emissão do certificado de aprovação pelo corpo de bombeiros de Santiago, e respectivo projeto executivo completo, das edificações existentes do Campus Jaguari, conforme condições, quantidades e exigências estabelecidas no edital e seus anexos</td>\n",
       "      <td>Evento de Resultado de Julgame</td>\n",
       "      <td>26000</td>\n",
       "      <td>Ministério da Educação</td>\n",
       "      <td>26420</td>\n",
       "      <td>Instituto Federal Farroupilha</td>\n",
       "      <td>JAGUARI</td>\n",
       "      <td>28/01/2021</td>\n",
       "      <td>NaN</td>\n",
       "      <td>14784.85</td>\n",
       "    </tr>\n",
       "  </tbody>\n",
       "</table>\n",
       "</div>"
      ],
      "text/plain": [
       "   Número Licitação  Código UG                                  Nome UG  \\\n",
       "0             12019     154628  INST.FEDERAL FARROUPILHA CAMPUS JAGUARI   \n",
       "\n",
       "   Código Modalidade Compra Modalidade Compra    Número Processo  \\\n",
       "0                         2  Tomada de Preços  26420000767201908   \n",
       "\n",
       "                                                                                                                                                                                                                                                                                                                                                                                                                               Objeto  \\\n",
       "0  Objeto: Contratação de pessoa jurídica especializada na prestação de serviços de engenharia para elaboração e aprovação do plano de prevenção e proteção contra incêndio, com a emissão do certificado de aprovação pelo corpo de bombeiros de Santiago, e respectivo projeto executivo completo, das edificações existentes do Campus Jaguari, conforme condições, quantidades e exigências estabelecidas no edital e seus anexos   \n",
       "\n",
       "               Situação Licitação  Código Órgão Superior  \\\n",
       "0  Evento de Resultado de Julgame                  26000   \n",
       "\n",
       "      Nome Órgão Superior  Código Órgão                     Nome Órgão  \\\n",
       "0  Ministério da Educação         26420  Instituto Federal Farroupilha   \n",
       "\n",
       "  Município Data Resultado Compra Data Abertura  Valor Licitação  \n",
       "0   JAGUARI            28/01/2021           NaN         14784.85  "
      ]
     },
     "execution_count": 4,
     "metadata": {},
     "output_type": "execute_result"
    }
   ],
   "source": [
    "df_lic_2021.head(1)"
   ]
  },
  {
   "cell_type": "code",
   "execution_count": 5,
   "id": "7420d3ea",
   "metadata": {},
   "outputs": [
    {
     "name": "stdout",
     "output_type": "stream",
     "text": [
      "<class 'pandas.core.frame.DataFrame'>\n",
      "RangeIndex: 60501 entries, 0 to 60500\n",
      "Data columns (total 16 columns):\n",
      " #   Column                    Non-Null Count  Dtype  \n",
      "---  ------                    --------------  -----  \n",
      " 0   Número Licitação          60501 non-null  int64  \n",
      " 1   Código UG                 60501 non-null  int64  \n",
      " 2   Nome UG                   60501 non-null  object \n",
      " 3   Código Modalidade Compra  60501 non-null  int64  \n",
      " 4   Modalidade Compra         60501 non-null  object \n",
      " 5   Número Processo           60501 non-null  object \n",
      " 6   Objeto                    60501 non-null  object \n",
      " 7   Situação Licitação        60501 non-null  object \n",
      " 8   Código Órgão Superior     60501 non-null  int64  \n",
      " 9   Nome Órgão Superior       60501 non-null  object \n",
      " 10  Código Órgão              60501 non-null  int64  \n",
      " 11  Nome Órgão                60501 non-null  object \n",
      " 12  Município                 60501 non-null  object \n",
      " 13  Data Resultado Compra     60501 non-null  object \n",
      " 14  Data Abertura             26011 non-null  object \n",
      " 15  Valor Licitação           60501 non-null  float64\n",
      "dtypes: float64(1), int64(5), object(10)\n",
      "memory usage: 7.4+ MB\n"
     ]
    }
   ],
   "source": [
    "df_lic_2021.info()"
   ]
  },
  {
   "cell_type": "code",
   "execution_count": 6,
   "id": "7a7c3db9",
   "metadata": {},
   "outputs": [
    {
     "data": {
      "text/plain": [
       "(60501, 16)"
      ]
     },
     "execution_count": 6,
     "metadata": {},
     "output_type": "execute_result"
    }
   ],
   "source": [
    "df_lic_2021.shape"
   ]
  },
  {
   "cell_type": "code",
   "execution_count": 7,
   "id": "14c347ee",
   "metadata": {},
   "outputs": [],
   "source": [
    "df_lic_2021.rename(columns={\"Valor Licitação\": \"Total\"},inplace=True)"
   ]
  },
  {
   "cell_type": "code",
   "execution_count": 8,
   "id": "3b7c8951",
   "metadata": {},
   "outputs": [
    {
     "data": {
      "text/plain": [
       "Dispensa de Licitação               32774\n",
       "Pregão - Registro de Preço          11654\n",
       "Pregão                               8695\n",
       "Inexigibilidade de Licitação         7200\n",
       "Tomada de Preços                      124\n",
       "Concorrência                           39\n",
       "Convite                                 7\n",
       "Concurso                                4\n",
       "Concorrência - Registro de Preço        4\n",
       "Name: Modalidade Compra, dtype: int64"
      ]
     },
     "execution_count": 8,
     "metadata": {},
     "output_type": "execute_result"
    }
   ],
   "source": [
    "df_lic_2021['Modalidade Compra'].value_counts()"
   ]
  },
  {
   "cell_type": "markdown",
   "id": "7ffac887",
   "metadata": {},
   "source": [
    "## É Obra ?"
   ]
  },
  {
   "cell_type": "code",
   "execution_count": 9,
   "id": "5786a7aa",
   "metadata": {},
   "outputs": [],
   "source": [
    "df_lic_2021['Obras'] = df_lic_2021['Objeto'].str.contains(\"OBRAS|OBRA|obras|obra|ENGENHARIA|engenharia|CONSTRU-CAO|constru-cao\", na=False)"
   ]
  },
  {
   "cell_type": "code",
   "execution_count": 10,
   "id": "9178dc81",
   "metadata": {},
   "outputs": [
    {
     "data": {
      "text/plain": [
       "False    58493\n",
       "True      2008\n",
       "Name: Obras, dtype: int64"
      ]
     },
     "execution_count": 10,
     "metadata": {},
     "output_type": "execute_result"
    }
   ],
   "source": [
    "df_lic_2021['Obras'].value_counts()"
   ]
  },
  {
   "cell_type": "code",
   "execution_count": 11,
   "id": "0a17cbfc",
   "metadata": {},
   "outputs": [],
   "source": [
    "df_lic_2021['Tipo'] = 1"
   ]
  },
  {
   "cell_type": "code",
   "execution_count": 12,
   "id": "77c321ce",
   "metadata": {},
   "outputs": [],
   "source": [
    "df_lic_2021.loc[df_lic_2021['Obras'] == True, 'Tipo'] = 'Obras'\n",
    "df_lic_2021.loc[df_lic_2021['Obras'] == False, 'Tipo'] = 'Compras/Servicos'"
   ]
  },
  {
   "cell_type": "code",
   "execution_count": 13,
   "id": "d9fd7462",
   "metadata": {},
   "outputs": [
    {
     "data": {
      "text/plain": [
       "Compras/Servicos    58493\n",
       "Obras                2008\n",
       "Name: Tipo, dtype: int64"
      ]
     },
     "execution_count": 13,
     "metadata": {},
     "output_type": "execute_result"
    }
   ],
   "source": [
    "df_lic_2021['Tipo'].value_counts()"
   ]
  },
  {
   "cell_type": "code",
   "execution_count": 14,
   "id": "15e15e06",
   "metadata": {},
   "outputs": [],
   "source": [
    "#Excluindo o atributo Obras que não será utilizado nas análises posteriores.\n",
    "df_lic_2021.drop(columns=['Obras'], axis=1, inplace=True)"
   ]
  },
  {
   "cell_type": "code",
   "execution_count": 15,
   "id": "dbbd8a88",
   "metadata": {},
   "outputs": [
    {
     "name": "stdout",
     "output_type": "stream",
     "text": [
      "<class 'pandas.core.frame.DataFrame'>\n",
      "RangeIndex: 60501 entries, 0 to 60500\n",
      "Data columns (total 17 columns):\n",
      " #   Column                    Non-Null Count  Dtype  \n",
      "---  ------                    --------------  -----  \n",
      " 0   Número Licitação          60501 non-null  int64  \n",
      " 1   Código UG                 60501 non-null  int64  \n",
      " 2   Nome UG                   60501 non-null  object \n",
      " 3   Código Modalidade Compra  60501 non-null  int64  \n",
      " 4   Modalidade Compra         60501 non-null  object \n",
      " 5   Número Processo           60501 non-null  object \n",
      " 6   Objeto                    60501 non-null  object \n",
      " 7   Situação Licitação        60501 non-null  object \n",
      " 8   Código Órgão Superior     60501 non-null  int64  \n",
      " 9   Nome Órgão Superior       60501 non-null  object \n",
      " 10  Código Órgão              60501 non-null  int64  \n",
      " 11  Nome Órgão                60501 non-null  object \n",
      " 12  Município                 60501 non-null  object \n",
      " 13  Data Resultado Compra     60501 non-null  object \n",
      " 14  Data Abertura             26011 non-null  object \n",
      " 15  Total                     60501 non-null  float64\n",
      " 16  Tipo                      60501 non-null  object \n",
      "dtypes: float64(1), int64(5), object(11)\n",
      "memory usage: 7.8+ MB\n"
     ]
    }
   ],
   "source": [
    "df_lic_2021.info()"
   ]
  },
  {
   "cell_type": "markdown",
   "id": "d75b1db9",
   "metadata": {},
   "source": [
    "# Separando as Licitações por Modalidade de Compra e aplicando as regras de acordo com os valores a partir do Decreto n. 9.412, de 18 de Junho de 2021."
   ]
  },
  {
   "cell_type": "markdown",
   "id": "d973d9ab",
   "metadata": {},
   "source": [
    "## Registro de Preço/ Concorrência/Concorrência - Registro de Preço"
   ]
  },
  {
   "cell_type": "code",
   "execution_count": 16,
   "id": "cc898712",
   "metadata": {},
   "outputs": [],
   "source": [
    "df_lic_2021_RP = df_lic_2021[(df_lic_2021['Modalidade Compra']  == 'Pregão - Registro de Preço') | (df_lic_2021['Modalidade Compra'] == 'Concorrência - Registro de Preço') | (df_lic_2021['Modalidade Compra'] == 'Concorrência')]"
   ]
  },
  {
   "cell_type": "code",
   "execution_count": 17,
   "id": "81d1ae53",
   "metadata": {},
   "outputs": [
    {
     "data": {
      "text/plain": [
       "Pregão - Registro de Preço          11654\n",
       "Concorrência                           39\n",
       "Concorrência - Registro de Preço        4\n",
       "Name: Modalidade Compra, dtype: int64"
      ]
     },
     "execution_count": 17,
     "metadata": {},
     "output_type": "execute_result"
    }
   ],
   "source": [
    "df_lic_2021_RP['Modalidade Compra'].value_counts()"
   ]
  },
  {
   "cell_type": "code",
   "execution_count": 18,
   "id": "5ac16e8d",
   "metadata": {},
   "outputs": [
    {
     "data": {
      "text/plain": [
       "Compras/Servicos    11381\n",
       "Obras                 316\n",
       "Name: Tipo, dtype: int64"
      ]
     },
     "execution_count": 18,
     "metadata": {},
     "output_type": "execute_result"
    }
   ],
   "source": [
    "df_lic_2021_RP['Tipo'].value_counts()"
   ]
  },
  {
   "cell_type": "code",
   "execution_count": 19,
   "id": "b36a707f",
   "metadata": {},
   "outputs": [],
   "source": [
    "# Separando a modalidade em Obras e Compras/Serviços\n",
    "lic_obras_RP_2021 = df_lic_2021_RP[df_lic_2021_RP['Tipo'] == 'Obras']\n",
    "lic_compras_RP_2021 = df_lic_2021_RP[df_lic_2021_RP['Tipo'] != 'Obras']"
   ]
  },
  {
   "cell_type": "markdown",
   "id": "0eb3ae8a",
   "metadata": {},
   "source": [
    "## Tag'ando como legal ou ilegal de acordo  com Decreto nº 9.412, de 18 de Junho de 2021"
   ]
  },
  {
   "cell_type": "markdown",
   "id": "eb7ae123",
   "metadata": {},
   "source": [
    "#### 0: ilegal\n",
    "#### 1: legal"
   ]
  },
  {
   "cell_type": "code",
   "execution_count": 20,
   "id": "a53dc491",
   "metadata": {},
   "outputs": [
    {
     "name": "stderr",
     "output_type": "stream",
     "text": [
      "C:\\Users\\lrr\\AppData\\Local\\Temp/ipykernel_22940/1138545667.py:1: SettingWithCopyWarning: \n",
      "A value is trying to be set on a copy of a slice from a DataFrame.\n",
      "Try using .loc[row_indexer,col_indexer] = value instead\n",
      "\n",
      "See the caveats in the documentation: https://pandas.pydata.org/pandas-docs/stable/user_guide/indexing.html#returning-a-view-versus-a-copy\n",
      "  lic_obras_RP_2021['Tag'] = 0\n",
      "C:\\Users\\lrr\\AppData\\Local\\Temp/ipykernel_22940/1138545667.py:2: SettingWithCopyWarning: \n",
      "A value is trying to be set on a copy of a slice from a DataFrame.\n",
      "Try using .loc[row_indexer,col_indexer] = value instead\n",
      "\n",
      "See the caveats in the documentation: https://pandas.pydata.org/pandas-docs/stable/user_guide/indexing.html#returning-a-view-versus-a-copy\n",
      "  lic_compras_RP_2021['Tag'] = 0\n"
     ]
    }
   ],
   "source": [
    "lic_obras_RP_2021['Tag'] = 0\n",
    "lic_compras_RP_2021['Tag'] = 0"
   ]
  },
  {
   "cell_type": "code",
   "execution_count": 21,
   "id": "2480e499",
   "metadata": {},
   "outputs": [
    {
     "name": "stderr",
     "output_type": "stream",
     "text": [
      "C:\\Users\\lrr\\anaconda3\\lib\\site-packages\\pandas\\core\\indexing.py:1817: SettingWithCopyWarning: \n",
      "A value is trying to be set on a copy of a slice from a DataFrame.\n",
      "Try using .loc[row_indexer,col_indexer] = value instead\n",
      "\n",
      "See the caveats in the documentation: https://pandas.pydata.org/pandas-docs/stable/user_guide/indexing.html#returning-a-view-versus-a-copy\n",
      "  self._setitem_single_column(loc, value, pi)\n"
     ]
    }
   ],
   "source": [
    "#regra de limite de valor\n",
    "#Considerando REGISTRO DE PREÇO como CONCORRENCIA e CONCORRENCIA - REGISTRO DE PREÇO\n",
    "lic_obras_RP_2021.loc[lic_obras_RP_2021['Total'] > 3300000, 'Tag'] = 1\n",
    "lic_compras_RP_2021.loc[lic_compras_RP_2021['Total'] > 1430000, 'Tag'] = 1"
   ]
  },
  {
   "cell_type": "code",
   "execution_count": 22,
   "id": "a5364635",
   "metadata": {},
   "outputs": [
    {
     "data": {
      "text/plain": [
       "0    293\n",
       "1     23\n",
       "Name: Tag, dtype: int64"
      ]
     },
     "execution_count": 22,
     "metadata": {},
     "output_type": "execute_result"
    }
   ],
   "source": [
    "lic_obras_RP_2021['Tag'].value_counts()"
   ]
  },
  {
   "cell_type": "code",
   "execution_count": 23,
   "id": "d3d600e5",
   "metadata": {},
   "outputs": [
    {
     "data": {
      "image/png": "[encoded data removed]",
      "text/plain": [
       "<Figure size 432x288 with 1 Axes>"
      ]
     },
     "metadata": {
      "needs_background": "light"
     },
     "output_type": "display_data"
    }
   ],
   "source": [
    "# Análise visual das licitações Ilegais para esta modalidade\n",
    "lic_obras_RP_2021[lic_obras_RP_2021['Tag'] == 0]['Total'].plot.box()\n",
    "plt.show()"
   ]
  },
  {
   "cell_type": "code",
   "execution_count": 24,
   "id": "c4df5a34",
   "metadata": {},
   "outputs": [
    {
     "data": {
      "text/plain": [
       "count    2.930000e+02\n",
       "mean     2.433340e+05\n",
       "std      5.568933e+05\n",
       "min      0.000000e+00\n",
       "25%      2.196000e+03\n",
       "50%      3.532800e+04\n",
       "75%      1.505868e+05\n",
       "max      3.221162e+06\n",
       "Name: Total, dtype: float64"
      ]
     },
     "execution_count": 24,
     "metadata": {},
     "output_type": "execute_result"
    }
   ],
   "source": [
    "lic_obras_RP_2021[lic_obras_RP_2021['Tag'] == 0]['Total'].describe()"
   ]
  },
  {
   "cell_type": "code",
   "execution_count": 25,
   "id": "b92fdf13",
   "metadata": {},
   "outputs": [
    {
     "data": {
      "text/plain": [
       "<AxesSubplot:>"
      ]
     },
     "execution_count": 25,
     "metadata": {},
     "output_type": "execute_result"
    },
    {
     "data": {
      "image/png": "[encoded data removed]",
      "text/plain": [
       "<Figure size 432x288 with 1 Axes>"
      ]
     },
     "metadata": {
      "needs_background": "light"
     },
     "output_type": "display_data"
    }
   ],
   "source": [
    "lic_obras_RP_2021[lic_obras_RP_2021['Tag'] == 1]['Total'].plot.box()"
   ]
  },
  {
   "cell_type": "code",
   "execution_count": 26,
   "id": "9b84db06",
   "metadata": {},
   "outputs": [
    {
     "data": {
      "text/plain": [
       "0    11089\n",
       "1      292\n",
       "Name: Tag, dtype: int64"
      ]
     },
     "execution_count": 26,
     "metadata": {},
     "output_type": "execute_result"
    }
   ],
   "source": [
    "lic_compras_RP_2021['Tag'].value_counts()"
   ]
  },
  {
   "cell_type": "code",
   "execution_count": 27,
   "id": "bf4096fe",
   "metadata": {},
   "outputs": [
    {
     "data": {
      "text/plain": [
       "<AxesSubplot:>"
      ]
     },
     "execution_count": 27,
     "metadata": {},
     "output_type": "execute_result"
    },
    {
     "data": {
      "image/png": "[encoded data removed]",
      "text/plain": [
       "<Figure size 432x288 with 1 Axes>"
      ]
     },
     "metadata": {
      "needs_background": "light"
     },
     "output_type": "display_data"
    }
   ],
   "source": [
    "# Visualizando as licitações do tipo Registro de Preço que foram Ilegais\n",
    "lic_compras_RP_2021[lic_compras_RP_2021['Tag'] == 0]['Total'].plot.box()"
   ]
  },
  {
   "cell_type": "code",
   "execution_count": 28,
   "id": "c607d662",
   "metadata": {},
   "outputs": [
    {
     "data": {
      "text/plain": [
       "count    1.108900e+04\n",
       "mean     5.806539e+04\n",
       "std      1.608484e+05\n",
       "min      0.000000e+00\n",
       "25%      0.000000e+00\n",
       "50%      4.375000e+03\n",
       "75%      3.392500e+04\n",
       "max      1.420000e+06\n",
       "Name: Total, dtype: float64"
      ]
     },
     "execution_count": 28,
     "metadata": {},
     "output_type": "execute_result"
    }
   ],
   "source": [
    "lic_compras_RP_2021[lic_compras_RP_2021['Tag'] == 0]['Total'].describe()"
   ]
  },
  {
   "cell_type": "code",
   "execution_count": 29,
   "id": "b261e2d7",
   "metadata": {},
   "outputs": [
    {
     "data": {
      "text/plain": [
       "<AxesSubplot:>"
      ]
     },
     "execution_count": 29,
     "metadata": {},
     "output_type": "execute_result"
    },
    {
     "data": {
      "image/png": "[encoded data removed]",
      "text/plain": [
       "<Figure size 432x288 with 1 Axes>"
      ]
     },
     "metadata": {
      "needs_background": "light"
     },
     "output_type": "display_data"
    }
   ],
   "source": [
    "# Visualizando as licitações do tipo Registro de Preço que foram Legais\n",
    "lic_compras_RP_2021[lic_compras_RP_2021['Tag'] == 1]['Total'].plot.box()"
   ]
  },
  {
   "cell_type": "code",
   "execution_count": 30,
   "id": "b52ec2c7",
   "metadata": {},
   "outputs": [
    {
     "data": {
      "text/plain": [
       "count    2.920000e+02\n",
       "mean     3.992714e+09\n",
       "std      6.800897e+10\n",
       "min      1.431500e+06\n",
       "25%      2.098638e+06\n",
       "50%      3.326234e+06\n",
       "75%      7.981748e+06\n",
       "max      1.162150e+12\n",
       "Name: Total, dtype: float64"
      ]
     },
     "execution_count": 30,
     "metadata": {},
     "output_type": "execute_result"
    }
   ],
   "source": [
    "lic_compras_RP_2021[lic_compras_RP_2021['Tag'] == 1]['Total'].describe()"
   ]
  },
  {
   "cell_type": "markdown",
   "id": "3beba261",
   "metadata": {},
   "source": [
    "## Dispensa de Licitação"
   ]
  },
  {
   "cell_type": "code",
   "execution_count": 31,
   "id": "1417effc",
   "metadata": {},
   "outputs": [],
   "source": [
    "df_lic_2021_Dispensa = df_lic_2021[df_lic_2021['Modalidade Compra'] == 'Dispensa de Licitação']"
   ]
  },
  {
   "cell_type": "code",
   "execution_count": 32,
   "id": "e06a1757",
   "metadata": {},
   "outputs": [
    {
     "data": {
      "text/plain": [
       "Dispensa de Licitação    32774\n",
       "Name: Modalidade Compra, dtype: int64"
      ]
     },
     "execution_count": 32,
     "metadata": {},
     "output_type": "execute_result"
    }
   ],
   "source": [
    "df_lic_2021_Dispensa['Modalidade Compra'].value_counts()"
   ]
  },
  {
   "cell_type": "code",
   "execution_count": 33,
   "id": "76fe5998",
   "metadata": {},
   "outputs": [
    {
     "data": {
      "text/plain": [
       "Compras/Servicos    32110\n",
       "Obras                 664\n",
       "Name: Tipo, dtype: int64"
      ]
     },
     "execution_count": 33,
     "metadata": {},
     "output_type": "execute_result"
    }
   ],
   "source": [
    "df_lic_2021_Dispensa['Tipo'].value_counts()"
   ]
  },
  {
   "cell_type": "code",
   "execution_count": 34,
   "id": "da6b9494",
   "metadata": {},
   "outputs": [],
   "source": [
    "lic_obras_Dispensa_2021 = df_lic_2021_Dispensa[df_lic_2021_Dispensa['Tipo'] == 'Obras']\n",
    "lic_compras_Dispensa_2021 = df_lic_2021_Dispensa[df_lic_2021_Dispensa['Tipo'] != 'Obras']"
   ]
  },
  {
   "cell_type": "code",
   "execution_count": 35,
   "id": "6f843f21",
   "metadata": {},
   "outputs": [
    {
     "data": {
      "text/plain": [
       "Obras    664\n",
       "Name: Tipo, dtype: int64"
      ]
     },
     "execution_count": 35,
     "metadata": {},
     "output_type": "execute_result"
    }
   ],
   "source": [
    "lic_obras_Dispensa_2021['Tipo'].value_counts()"
   ]
  },
  {
   "cell_type": "code",
   "execution_count": 36,
   "id": "67d1db58",
   "metadata": {},
   "outputs": [
    {
     "data": {
      "text/plain": [
       "Compras/Servicos    32110\n",
       "Name: Tipo, dtype: int64"
      ]
     },
     "execution_count": 36,
     "metadata": {},
     "output_type": "execute_result"
    }
   ],
   "source": [
    "lic_compras_Dispensa_2021['Tipo'].value_counts()"
   ]
  },
  {
   "cell_type": "markdown",
   "id": "98225a20",
   "metadata": {},
   "source": [
    "## Tag'ando como legal ou ilegal de acordo com Decreto nº 9.412, de 18 de Junho de 2021\n",
    "\n",
    "#### 0: ilegal\n",
    "#### 1: legal"
   ]
  },
  {
   "cell_type": "code",
   "execution_count": 37,
   "id": "efc3a9bc",
   "metadata": {},
   "outputs": [
    {
     "name": "stderr",
     "output_type": "stream",
     "text": [
      "C:\\Users\\lrr\\AppData\\Local\\Temp/ipykernel_22940/361519389.py:1: SettingWithCopyWarning: \n",
      "A value is trying to be set on a copy of a slice from a DataFrame.\n",
      "Try using .loc[row_indexer,col_indexer] = value instead\n",
      "\n",
      "See the caveats in the documentation: https://pandas.pydata.org/pandas-docs/stable/user_guide/indexing.html#returning-a-view-versus-a-copy\n",
      "  lic_obras_Dispensa_2021['Tag'] = 0\n",
      "C:\\Users\\lrr\\AppData\\Local\\Temp/ipykernel_22940/361519389.py:2: SettingWithCopyWarning: \n",
      "A value is trying to be set on a copy of a slice from a DataFrame.\n",
      "Try using .loc[row_indexer,col_indexer] = value instead\n",
      "\n",
      "See the caveats in the documentation: https://pandas.pydata.org/pandas-docs/stable/user_guide/indexing.html#returning-a-view-versus-a-copy\n",
      "  lic_compras_Dispensa_2021['Tag'] = 0\n"
     ]
    }
   ],
   "source": [
    "lic_obras_Dispensa_2021['Tag'] = 0\n",
    "lic_compras_Dispensa_2021['Tag'] = 0"
   ]
  },
  {
   "cell_type": "code",
   "execution_count": 38,
   "id": "018f575e",
   "metadata": {},
   "outputs": [
    {
     "name": "stderr",
     "output_type": "stream",
     "text": [
      "C:\\Users\\lrr\\anaconda3\\lib\\site-packages\\pandas\\core\\indexing.py:1817: SettingWithCopyWarning: \n",
      "A value is trying to be set on a copy of a slice from a DataFrame.\n",
      "Try using .loc[row_indexer,col_indexer] = value instead\n",
      "\n",
      "See the caveats in the documentation: https://pandas.pydata.org/pandas-docs/stable/user_guide/indexing.html#returning-a-view-versus-a-copy\n",
      "  self._setitem_single_column(loc, value, pi)\n"
     ]
    }
   ],
   "source": [
    "#regra de limite de valor\n",
    "lic_obras_Dispensa_2021.loc[lic_obras_Dispensa_2021['Total'] <= 33000 , 'Tag'] = 1\n",
    "lic_compras_Dispensa_2021.loc[lic_compras_Dispensa_2021['Total'] <= 17600, 'Tag'] = 1"
   ]
  },
  {
   "cell_type": "code",
   "execution_count": 39,
   "id": "c95f4a49",
   "metadata": {},
   "outputs": [
    {
     "data": {
      "text/plain": [
       "1    527\n",
       "0    137\n",
       "Name: Tag, dtype: int64"
      ]
     },
     "execution_count": 39,
     "metadata": {},
     "output_type": "execute_result"
    }
   ],
   "source": [
    "lic_obras_Dispensa_2021['Tag'].value_counts()"
   ]
  },
  {
   "cell_type": "code",
   "execution_count": 40,
   "id": "265477ce",
   "metadata": {},
   "outputs": [
    {
     "data": {
      "image/png": "[encoded data removed]",
      "text/plain": [
       "<Figure size 432x288 with 1 Axes>"
      ]
     },
     "metadata": {
      "needs_background": "light"
     },
     "output_type": "display_data"
    }
   ],
   "source": [
    "lic_obras_Dispensa_2021[lic_obras_Dispensa_2021['Tag'] == 1]['Total'].plot.box()\n",
    "plt.show()"
   ]
  },
  {
   "cell_type": "code",
   "execution_count": 41,
   "id": "d3afbc45",
   "metadata": {},
   "outputs": [
    {
     "data": {
      "text/plain": [
       "count      527.000000\n",
       "mean      8185.570645\n",
       "std       8411.252362\n",
       "min         65.960000\n",
       "25%       1824.140000\n",
       "50%       4690.000000\n",
       "75%      12850.000000\n",
       "max      32980.000000\n",
       "Name: Total, dtype: float64"
      ]
     },
     "execution_count": 41,
     "metadata": {},
     "output_type": "execute_result"
    }
   ],
   "source": [
    "lic_obras_Dispensa_2021[lic_obras_Dispensa_2021['Tag'] == 1]['Total'].describe()"
   ]
  },
  {
   "cell_type": "code",
   "execution_count": 42,
   "id": "a5178d68",
   "metadata": {},
   "outputs": [
    {
     "data": {
      "image/png": "[encoded data removed]",
      "text/plain": [
       "<Figure size 432x288 with 1 Axes>"
      ]
     },
     "metadata": {
      "needs_background": "light"
     },
     "output_type": "display_data"
    }
   ],
   "source": [
    "lic_obras_Dispensa_2021[lic_obras_Dispensa_2021['Tag'] == 0]['Total'].plot.box()\n",
    "plt.show()"
   ]
  },
  {
   "cell_type": "code",
   "execution_count": 43,
   "id": "6154085f",
   "metadata": {},
   "outputs": [
    {
     "data": {
      "text/plain": [
       "count    1.370000e+02\n",
       "mean     1.799213e+06\n",
       "std      5.976249e+06\n",
       "min      3.546900e+04\n",
       "25%      1.318560e+05\n",
       "50%      3.039840e+05\n",
       "75%      1.046310e+06\n",
       "max      6.109862e+07\n",
       "Name: Total, dtype: float64"
      ]
     },
     "execution_count": 43,
     "metadata": {},
     "output_type": "execute_result"
    }
   ],
   "source": [
    "lic_obras_Dispensa_2021[lic_obras_Dispensa_2021['Tag'] == 0]['Total'].describe()"
   ]
  },
  {
   "cell_type": "code",
   "execution_count": 44,
   "id": "6f6f0859",
   "metadata": {},
   "outputs": [
    {
     "data": {
      "text/plain": [
       "1    29144\n",
       "0     2966\n",
       "Name: Tag, dtype: int64"
      ]
     },
     "execution_count": 44,
     "metadata": {},
     "output_type": "execute_result"
    }
   ],
   "source": [
    "lic_compras_Dispensa_2021['Tag'].value_counts()"
   ]
  },
  {
   "cell_type": "code",
   "execution_count": 45,
   "id": "e279be76",
   "metadata": {},
   "outputs": [
    {
     "data": {
      "image/png": "[encoded data removed]",
      "text/plain": [
       "<Figure size 432x288 with 1 Axes>"
      ]
     },
     "metadata": {
      "needs_background": "light"
     },
     "output_type": "display_data"
    }
   ],
   "source": [
    "lic_compras_Dispensa_2021[lic_compras_Dispensa_2021['Tag'] == 1]['Total'].plot.box()\n",
    "plt.show()"
   ]
  },
  {
   "cell_type": "code",
   "execution_count": 46,
   "id": "6da866b5",
   "metadata": {},
   "outputs": [
    {
     "data": {
      "text/plain": [
       "count    29144.000000\n",
       "mean      4066.511690\n",
       "std       4458.889281\n",
       "min          0.000000\n",
       "25%        878.000000\n",
       "50%       2250.000000\n",
       "75%       5670.000000\n",
       "max      17600.000000\n",
       "Name: Total, dtype: float64"
      ]
     },
     "execution_count": 46,
     "metadata": {},
     "output_type": "execute_result"
    }
   ],
   "source": [
    "lic_compras_Dispensa_2021[lic_compras_Dispensa_2021['Tag'] == 1]['Total'].describe()"
   ]
  },
  {
   "cell_type": "code",
   "execution_count": 47,
   "id": "326221f9",
   "metadata": {},
   "outputs": [
    {
     "data": {
      "image/png": "[encoded data removed]",
      "text/plain": [
       "<Figure size 432x288 with 1 Axes>"
      ]
     },
     "metadata": {
      "needs_background": "light"
     },
     "output_type": "display_data"
    }
   ],
   "source": [
    "lic_compras_Dispensa_2021[lic_compras_Dispensa_2021['Tag'] == 0]['Total'].plot.box()\n",
    "plt.show()"
   ]
  },
  {
   "cell_type": "code",
   "execution_count": 48,
   "id": "668c102d",
   "metadata": {},
   "outputs": [
    {
     "data": {
      "text/plain": [
       "count    2.966000e+03\n",
       "mean     3.269302e+06\n",
       "std      3.433755e+07\n",
       "min      1.761047e+04\n",
       "25%      3.252295e+04\n",
       "50%      8.802750e+04\n",
       "75%      3.996757e+05\n",
       "max      1.305345e+09\n",
       "Name: Total, dtype: float64"
      ]
     },
     "execution_count": 48,
     "metadata": {},
     "output_type": "execute_result"
    }
   ],
   "source": [
    "lic_compras_Dispensa_2021[lic_compras_Dispensa_2021['Tag'] == 0]['Total'].describe()"
   ]
  },
  {
   "cell_type": "markdown",
   "id": "8a760c37",
   "metadata": {},
   "source": [
    "## Tomada de Preço"
   ]
  },
  {
   "cell_type": "code",
   "execution_count": 49,
   "id": "b2207a17",
   "metadata": {},
   "outputs": [],
   "source": [
    "df_lic_2021_tomada_de_preco = df_lic_2021[df_lic_2021['Modalidade Compra'] == 'Tomada de Preços']"
   ]
  },
  {
   "cell_type": "code",
   "execution_count": 50,
   "id": "8a2c7a06",
   "metadata": {},
   "outputs": [
    {
     "data": {
      "text/plain": [
       "Tomada de Preços    124\n",
       "Name: Modalidade Compra, dtype: int64"
      ]
     },
     "execution_count": 50,
     "metadata": {},
     "output_type": "execute_result"
    }
   ],
   "source": [
    "df_lic_2021_tomada_de_preco['Modalidade Compra'].value_counts()"
   ]
  },
  {
   "cell_type": "code",
   "execution_count": 51,
   "id": "a4ccdc8e",
   "metadata": {},
   "outputs": [
    {
     "data": {
      "text/plain": [
       "Compras/Servicos    83\n",
       "Obras               41\n",
       "Name: Tipo, dtype: int64"
      ]
     },
     "execution_count": 51,
     "metadata": {},
     "output_type": "execute_result"
    }
   ],
   "source": [
    "df_lic_2021_tomada_de_preco['Tipo'].value_counts()"
   ]
  },
  {
   "cell_type": "code",
   "execution_count": 52,
   "id": "9687c13d",
   "metadata": {},
   "outputs": [],
   "source": [
    "lic_obras_tomada_de_preco_2021 = df_lic_2021_tomada_de_preco[df_lic_2021_tomada_de_preco['Tipo'] == 'Obras']\n",
    "lic_compras_tomada_de_preco_2021 = df_lic_2021_tomada_de_preco[df_lic_2021_tomada_de_preco['Tipo'] != 'Obras']"
   ]
  },
  {
   "cell_type": "code",
   "execution_count": 53,
   "id": "26a8333b",
   "metadata": {},
   "outputs": [
    {
     "data": {
      "text/plain": [
       "Obras    41\n",
       "Name: Tipo, dtype: int64"
      ]
     },
     "execution_count": 53,
     "metadata": {},
     "output_type": "execute_result"
    }
   ],
   "source": [
    "lic_obras_tomada_de_preco_2021['Tipo'].value_counts()"
   ]
  },
  {
   "cell_type": "code",
   "execution_count": 54,
   "id": "efe98d02",
   "metadata": {},
   "outputs": [
    {
     "data": {
      "text/plain": [
       "Compras/Servicos    83\n",
       "Name: Tipo, dtype: int64"
      ]
     },
     "execution_count": 54,
     "metadata": {},
     "output_type": "execute_result"
    }
   ],
   "source": [
    "lic_compras_tomada_de_preco_2021['Tipo'].value_counts()"
   ]
  },
  {
   "cell_type": "code",
   "execution_count": 55,
   "id": "a334d411",
   "metadata": {},
   "outputs": [
    {
     "name": "stderr",
     "output_type": "stream",
     "text": [
      "C:\\Users\\lrr\\AppData\\Local\\Temp/ipykernel_22940/1523434533.py:6: SettingWithCopyWarning: \n",
      "A value is trying to be set on a copy of a slice from a DataFrame.\n",
      "Try using .loc[row_indexer,col_indexer] = value instead\n",
      "\n",
      "See the caveats in the documentation: https://pandas.pydata.org/pandas-docs/stable/user_guide/indexing.html#returning-a-view-versus-a-copy\n",
      "  lic_obras_tomada_de_preco_2021['Tag'] = 0\n",
      "C:\\Users\\lrr\\AppData\\Local\\Temp/ipykernel_22940/1523434533.py:7: SettingWithCopyWarning: \n",
      "A value is trying to be set on a copy of a slice from a DataFrame.\n",
      "Try using .loc[row_indexer,col_indexer] = value instead\n",
      "\n",
      "See the caveats in the documentation: https://pandas.pydata.org/pandas-docs/stable/user_guide/indexing.html#returning-a-view-versus-a-copy\n",
      "  lic_compras_tomada_de_preco_2021['Tag'] = 0\n",
      "C:\\Users\\lrr\\anaconda3\\lib\\site-packages\\pandas\\core\\indexing.py:1817: SettingWithCopyWarning: \n",
      "A value is trying to be set on a copy of a slice from a DataFrame.\n",
      "Try using .loc[row_indexer,col_indexer] = value instead\n",
      "\n",
      "See the caveats in the documentation: https://pandas.pydata.org/pandas-docs/stable/user_guide/indexing.html#returning-a-view-versus-a-copy\n",
      "  self._setitem_single_column(loc, value, pi)\n"
     ]
    }
   ],
   "source": [
    "## Tag'ando como legal ou ilegal de acordo com Decreto nº 9.412, de 18 de Junho de 2021\n",
    "\n",
    "#### 0: ilegal\n",
    "#### 1: legal\n",
    "\n",
    "lic_obras_tomada_de_preco_2021['Tag'] = 0\n",
    "lic_compras_tomada_de_preco_2021['Tag'] = 0\n",
    "\n",
    "#regra de limite de valor\n",
    "lic_obras_tomada_de_preco_2021.loc[(lic_obras_tomada_de_preco_2021['Total'] >  330000) & (lic_obras_tomada_de_preco_2021['Total'] <=   3300000) , 'Tag'] = 1\n",
    "lic_compras_tomada_de_preco_2021.loc[(lic_compras_tomada_de_preco_2021['Total'] >  176000) & (lic_compras_tomada_de_preco_2021['Total'] <=  1400000), 'Tag'] = 1"
   ]
  },
  {
   "cell_type": "code",
   "execution_count": 56,
   "id": "a5019991",
   "metadata": {},
   "outputs": [
    {
     "data": {
      "text/plain": [
       "0    21\n",
       "1    20\n",
       "Name: Tag, dtype: int64"
      ]
     },
     "execution_count": 56,
     "metadata": {},
     "output_type": "execute_result"
    }
   ],
   "source": [
    "lic_obras_tomada_de_preco_2021['Tag'].value_counts()"
   ]
  },
  {
   "cell_type": "code",
   "execution_count": 57,
   "id": "6001fdbc",
   "metadata": {},
   "outputs": [
    {
     "data": {
      "image/png": "[encoded data removed]",
      "text/plain": [
       "<Figure size 432x288 with 1 Axes>"
      ]
     },
     "metadata": {
      "needs_background": "light"
     },
     "output_type": "display_data"
    }
   ],
   "source": [
    "lic_obras_tomada_de_preco_2021[lic_obras_tomada_de_preco_2021['Tag'] == 1]['Total'].plot.box()\n",
    "plt.show()"
   ]
  },
  {
   "cell_type": "code",
   "execution_count": 58,
   "id": "e994a724",
   "metadata": {},
   "outputs": [
    {
     "data": {
      "text/plain": [
       "count    2.000000e+01\n",
       "mean     7.185772e+05\n",
       "std      4.269313e+05\n",
       "min      3.327172e+05\n",
       "25%      4.219672e+05\n",
       "50%      4.828682e+05\n",
       "75%      9.792962e+05\n",
       "max      1.990524e+06\n",
       "Name: Total, dtype: float64"
      ]
     },
     "execution_count": 58,
     "metadata": {},
     "output_type": "execute_result"
    }
   ],
   "source": [
    "lic_obras_tomada_de_preco_2021[lic_obras_tomada_de_preco_2021['Tag'] == 1]['Total'].describe()"
   ]
  },
  {
   "cell_type": "code",
   "execution_count": 59,
   "id": "81cf0071",
   "metadata": {},
   "outputs": [
    {
     "data": {
      "image/png": "[encoded data removed]",
      "text/plain": [
       "<Figure size 432x288 with 1 Axes>"
      ]
     },
     "metadata": {
      "needs_background": "light"
     },
     "output_type": "display_data"
    }
   ],
   "source": [
    "lic_obras_tomada_de_preco_2021[lic_obras_tomada_de_preco_2021['Tag'] == 0]['Total'].plot.box()\n",
    "plt.show()"
   ]
  },
  {
   "cell_type": "code",
   "execution_count": 60,
   "id": "3ed7fa5e",
   "metadata": {},
   "outputs": [
    {
     "data": {
      "text/plain": [
       "1    52\n",
       "0    31\n",
       "Name: Tag, dtype: int64"
      ]
     },
     "execution_count": 60,
     "metadata": {},
     "output_type": "execute_result"
    }
   ],
   "source": [
    "lic_compras_tomada_de_preco_2021['Tag'].value_counts()"
   ]
  },
  {
   "cell_type": "code",
   "execution_count": 61,
   "id": "bc36e0dc",
   "metadata": {},
   "outputs": [
    {
     "data": {
      "text/plain": [
       "count    5.200000e+01\n",
       "mean     5.474011e+05\n",
       "std      3.499048e+05\n",
       "min      1.769928e+05\n",
       "25%      2.795192e+05\n",
       "50%      4.012408e+05\n",
       "75%      8.320564e+05\n",
       "max      1.303755e+06\n",
       "Name: Total, dtype: float64"
      ]
     },
     "execution_count": 61,
     "metadata": {},
     "output_type": "execute_result"
    }
   ],
   "source": [
    "# Licitaçoes Legais\n",
    "lic_compras_tomada_de_preco_2021[lic_compras_tomada_de_preco_2021['Tag'] == 1]['Total'].describe()"
   ]
  },
  {
   "cell_type": "code",
   "execution_count": 62,
   "id": "2e744c84",
   "metadata": {},
   "outputs": [
    {
     "data": {
      "text/plain": [
       "count    5.200000e+01\n",
       "mean     5.474011e+05\n",
       "std      3.499048e+05\n",
       "min      1.769928e+05\n",
       "25%      2.795192e+05\n",
       "50%      4.012408e+05\n",
       "75%      8.320564e+05\n",
       "max      1.303755e+06\n",
       "Name: Total, dtype: float64"
      ]
     },
     "execution_count": 62,
     "metadata": {},
     "output_type": "execute_result"
    }
   ],
   "source": [
    "lic_compras_tomada_de_preco_2021[lic_compras_tomada_de_preco_2021['Tag'] == 1]['Total'].describe()"
   ]
  },
  {
   "cell_type": "code",
   "execution_count": 63,
   "id": "b693ec7d",
   "metadata": {},
   "outputs": [
    {
     "data": {
      "image/png": "[encoded data removed]",
      "text/plain": [
       "<Figure size 432x288 with 1 Axes>"
      ]
     },
     "metadata": {
      "needs_background": "light"
     },
     "output_type": "display_data"
    }
   ],
   "source": [
    "# Licitações Ilegais\n",
    "lic_compras_tomada_de_preco_2021[lic_compras_tomada_de_preco_2021['Tag'] == 0]['Total'].plot.box()\n",
    "plt.show()"
   ]
  },
  {
   "cell_type": "code",
   "execution_count": 64,
   "id": "a698cf10",
   "metadata": {},
   "outputs": [
    {
     "data": {
      "text/plain": [
       "count    3.100000e+01\n",
       "mean     2.297660e+05\n",
       "std      4.352609e+05\n",
       "min      0.000000e+00\n",
       "25%      5.803279e+04\n",
       "50%      1.027142e+05\n",
       "75%      1.567267e+05\n",
       "max      1.591122e+06\n",
       "Name: Total, dtype: float64"
      ]
     },
     "execution_count": 64,
     "metadata": {},
     "output_type": "execute_result"
    }
   ],
   "source": [
    "lic_compras_tomada_de_preco_2021[lic_compras_tomada_de_preco_2021['Tag'] == 0]['Total'].describe()"
   ]
  },
  {
   "cell_type": "markdown",
   "id": "3325f671",
   "metadata": {},
   "source": [
    "## Convite"
   ]
  },
  {
   "cell_type": "code",
   "execution_count": 65,
   "id": "d567af3e",
   "metadata": {},
   "outputs": [],
   "source": [
    "df_lic_2021_convite = df_lic_2021[df_lic_2021['Modalidade Compra'] == 'Convite']"
   ]
  },
  {
   "cell_type": "code",
   "execution_count": 66,
   "id": "1f865105",
   "metadata": {},
   "outputs": [
    {
     "data": {
      "text/plain": [
       "Convite    7\n",
       "Name: Modalidade Compra, dtype: int64"
      ]
     },
     "execution_count": 66,
     "metadata": {},
     "output_type": "execute_result"
    }
   ],
   "source": [
    "df_lic_2021_convite['Modalidade Compra'].value_counts()"
   ]
  },
  {
   "cell_type": "code",
   "execution_count": 67,
   "id": "34821941",
   "metadata": {},
   "outputs": [
    {
     "data": {
      "text/plain": [
       "Compras/Servicos    5\n",
       "Obras               2\n",
       "Name: Tipo, dtype: int64"
      ]
     },
     "execution_count": 67,
     "metadata": {},
     "output_type": "execute_result"
    }
   ],
   "source": [
    "df_lic_2021_convite['Tipo'].value_counts()"
   ]
  },
  {
   "cell_type": "code",
   "execution_count": 68,
   "id": "08a232ed",
   "metadata": {},
   "outputs": [],
   "source": [
    "lic_compras_convite_2021 = df_lic_2021_convite[df_lic_2021_convite['Tipo'] != 'Obras']\n",
    "lic_obras_convite_2021 = df_lic_2021_convite[df_lic_2021_convite['Tipo'] == 'Obras']"
   ]
  },
  {
   "cell_type": "code",
   "execution_count": 69,
   "id": "5dfebf33",
   "metadata": {},
   "outputs": [
    {
     "data": {
      "text/plain": [
       "Compras/Servicos    5\n",
       "Name: Tipo, dtype: int64"
      ]
     },
     "execution_count": 69,
     "metadata": {},
     "output_type": "execute_result"
    }
   ],
   "source": [
    "lic_compras_convite_2021['Tipo'].value_counts()"
   ]
  },
  {
   "cell_type": "code",
   "execution_count": 70,
   "id": "2ba44bb0",
   "metadata": {},
   "outputs": [
    {
     "data": {
      "text/plain": [
       "Obras    2\n",
       "Name: Tipo, dtype: int64"
      ]
     },
     "execution_count": 70,
     "metadata": {},
     "output_type": "execute_result"
    }
   ],
   "source": [
    "lic_obras_convite_2021['Tipo'].value_counts()"
   ]
  },
  {
   "cell_type": "code",
   "execution_count": 71,
   "id": "e443fe5d",
   "metadata": {},
   "outputs": [
    {
     "name": "stderr",
     "output_type": "stream",
     "text": [
      "C:\\Users\\lrr\\AppData\\Local\\Temp/ipykernel_22940/2312457054.py:6: SettingWithCopyWarning: \n",
      "A value is trying to be set on a copy of a slice from a DataFrame.\n",
      "Try using .loc[row_indexer,col_indexer] = value instead\n",
      "\n",
      "See the caveats in the documentation: https://pandas.pydata.org/pandas-docs/stable/user_guide/indexing.html#returning-a-view-versus-a-copy\n",
      "  lic_compras_convite_2021['Tag'] = 0\n",
      "C:\\Users\\lrr\\AppData\\Local\\Temp/ipykernel_22940/2312457054.py:7: SettingWithCopyWarning: \n",
      "A value is trying to be set on a copy of a slice from a DataFrame.\n",
      "Try using .loc[row_indexer,col_indexer] = value instead\n",
      "\n",
      "See the caveats in the documentation: https://pandas.pydata.org/pandas-docs/stable/user_guide/indexing.html#returning-a-view-versus-a-copy\n",
      "  lic_obras_convite_2021['Tag'] = 0\n",
      "C:\\Users\\lrr\\anaconda3\\lib\\site-packages\\pandas\\core\\indexing.py:1817: SettingWithCopyWarning: \n",
      "A value is trying to be set on a copy of a slice from a DataFrame.\n",
      "Try using .loc[row_indexer,col_indexer] = value instead\n",
      "\n",
      "See the caveats in the documentation: https://pandas.pydata.org/pandas-docs/stable/user_guide/indexing.html#returning-a-view-versus-a-copy\n",
      "  self._setitem_single_column(loc, value, pi)\n"
     ]
    }
   ],
   "source": [
    "## Tag'ando como legal ou ilegal de acordo com Decreto nº 9.412, de 18 de Junho de 2021\n",
    "\n",
    "#### 0: ilegal\n",
    "#### 1: legal\n",
    "\n",
    "lic_compras_convite_2021['Tag'] = 0\n",
    "lic_obras_convite_2021['Tag'] = 0\n",
    "\n",
    "#regra de limite de valor\n",
    "lic_compras_convite_2021.loc[(lic_compras_convite_2021['Total'] >  17600) & (lic_compras_convite_2021['Total'] <=   176000) , 'Tag'] = 1\n",
    "lic_obras_convite_2021.loc[(lic_obras_convite_2021['Total'] >  33000) & (lic_obras_convite_2021['Total'] <=   330000), 'Tag'] = 1\n"
   ]
  },
  {
   "cell_type": "code",
   "execution_count": 72,
   "id": "95bd97a0",
   "metadata": {},
   "outputs": [
    {
     "data": {
      "text/plain": [
       "1    4\n",
       "0    1\n",
       "Name: Tag, dtype: int64"
      ]
     },
     "execution_count": 72,
     "metadata": {},
     "output_type": "execute_result"
    }
   ],
   "source": [
    "lic_compras_convite_2021['Tag'].value_counts()"
   ]
  },
  {
   "cell_type": "code",
   "execution_count": 73,
   "id": "93926d9e",
   "metadata": {},
   "outputs": [
    {
     "data": {
      "image/png": "[encoded data removed]",
      "text/plain": [
       "<Figure size 432x288 with 1 Axes>"
      ]
     },
     "metadata": {
      "needs_background": "light"
     },
     "output_type": "display_data"
    }
   ],
   "source": [
    "lic_compras_convite_2021[lic_compras_convite_2021['Tag'] == 1]['Total'].plot.box()\n",
    "plt.show()"
   ]
  },
  {
   "cell_type": "code",
   "execution_count": 74,
   "id": "ba95fbc8",
   "metadata": {},
   "outputs": [
    {
     "data": {
      "text/plain": [
       "count         4.000000\n",
       "mean     115417.777500\n",
       "std       63899.355168\n",
       "min       33580.000000\n",
       "25%       80145.385000\n",
       "50%      130468.420000\n",
       "75%      165740.812500\n",
       "max      167154.270000\n",
       "Name: Total, dtype: float64"
      ]
     },
     "execution_count": 74,
     "metadata": {},
     "output_type": "execute_result"
    }
   ],
   "source": [
    "lic_compras_convite_2021[lic_compras_convite_2021['Tag'] == 1]['Total'].describe()"
   ]
  },
  {
   "cell_type": "code",
   "execution_count": 75,
   "id": "ec336f27",
   "metadata": {},
   "outputs": [
    {
     "data": {
      "image/png": "[encoded data removed]",
      "text/plain": [
       "<Figure size 432x288 with 1 Axes>"
      ]
     },
     "metadata": {
      "needs_background": "light"
     },
     "output_type": "display_data"
    }
   ],
   "source": [
    "lic_compras_convite_2021[lic_compras_convite_2021['Tag'] == 0]['Total'].plot.box()\n",
    "plt.show()"
   ]
  },
  {
   "cell_type": "code",
   "execution_count": 76,
   "id": "f4e32973",
   "metadata": {},
   "outputs": [
    {
     "data": {
      "text/plain": [
       "count         1.00\n",
       "mean     274132.22\n",
       "std            NaN\n",
       "min      274132.22\n",
       "25%      274132.22\n",
       "50%      274132.22\n",
       "75%      274132.22\n",
       "max      274132.22\n",
       "Name: Total, dtype: float64"
      ]
     },
     "execution_count": 76,
     "metadata": {},
     "output_type": "execute_result"
    }
   ],
   "source": [
    "lic_compras_convite_2021[lic_compras_convite_2021['Tag'] == 0]['Total'].describe()"
   ]
  },
  {
   "cell_type": "code",
   "execution_count": 77,
   "id": "7ed91c4b",
   "metadata": {},
   "outputs": [
    {
     "data": {
      "text/plain": [
       "1    2\n",
       "Name: Tag, dtype: int64"
      ]
     },
     "execution_count": 77,
     "metadata": {},
     "output_type": "execute_result"
    }
   ],
   "source": [
    "lic_obras_convite_2021['Tag'].value_counts()"
   ]
  },
  {
   "cell_type": "code",
   "execution_count": 78,
   "id": "aced3344",
   "metadata": {},
   "outputs": [
    {
     "data": {
      "image/png": "[encoded data removed]",
      "text/plain": [
       "<Figure size 432x288 with 1 Axes>"
      ]
     },
     "metadata": {
      "needs_background": "light"
     },
     "output_type": "display_data"
    }
   ],
   "source": [
    "lic_obras_convite_2021[lic_obras_convite_2021['Tag'] == 1]['Total'].plot.box()\n",
    "plt.show()"
   ]
  },
  {
   "cell_type": "code",
   "execution_count": 79,
   "id": "72393f18",
   "metadata": {},
   "outputs": [
    {
     "data": {
      "text/plain": [
       "count         2.000000\n",
       "mean     202582.835000\n",
       "std       46899.953278\n",
       "min      169419.560000\n",
       "25%      186001.197500\n",
       "50%      202582.835000\n",
       "75%      219164.472500\n",
       "max      235746.110000\n",
       "Name: Total, dtype: float64"
      ]
     },
     "execution_count": 79,
     "metadata": {},
     "output_type": "execute_result"
    }
   ],
   "source": [
    "lic_obras_convite_2021[lic_obras_convite_2021['Tag'] == 1]['Total'].describe()"
   ]
  },
  {
   "cell_type": "code",
   "execution_count": 80,
   "id": "6d8aa6e4",
   "metadata": {},
   "outputs": [
    {
     "data": {
      "image/png": "[encoded data removed]",
      "text/plain": [
       "<Figure size 432x288 with 1 Axes>"
      ]
     },
     "metadata": {
      "needs_background": "light"
     },
     "output_type": "display_data"
    }
   ],
   "source": [
    "lic_obras_convite_2021[lic_obras_convite_2021['Tag'] == 0]['Total'].plot.box()\n",
    "plt.show()"
   ]
  },
  {
   "cell_type": "code",
   "execution_count": 81,
   "id": "7551cf6c",
   "metadata": {},
   "outputs": [
    {
     "data": {
      "text/plain": [
       "count    0.0\n",
       "mean     NaN\n",
       "std      NaN\n",
       "min      NaN\n",
       "25%      NaN\n",
       "50%      NaN\n",
       "75%      NaN\n",
       "max      NaN\n",
       "Name: Total, dtype: float64"
      ]
     },
     "execution_count": 81,
     "metadata": {},
     "output_type": "execute_result"
    }
   ],
   "source": [
    "lic_obras_convite_2021[lic_obras_convite_2021['Tag'] == 0]['Total'].describe()"
   ]
  },
  {
   "cell_type": "markdown",
   "id": "b7b4c084",
   "metadata": {},
   "source": [
    "### As modalidades abaixo não possuem uma regra bem definida para os valores de Licitação. Dessa forma, será atribuido a tag legal como padrão."
   ]
  },
  {
   "cell_type": "markdown",
   "id": "f137ebc4",
   "metadata": {},
   "source": [
    "## Pregão"
   ]
  },
  {
   "cell_type": "code",
   "execution_count": 82,
   "id": "e760f35e",
   "metadata": {},
   "outputs": [],
   "source": [
    "df_lic_2021_Pregao = df_lic_2021[df_lic_2021['Modalidade Compra'] == 'Pregão']"
   ]
  },
  {
   "cell_type": "code",
   "execution_count": 83,
   "id": "bca4a79b",
   "metadata": {},
   "outputs": [
    {
     "data": {
      "text/plain": [
       "Pregão    8695\n",
       "Name: Modalidade Compra, dtype: int64"
      ]
     },
     "execution_count": 83,
     "metadata": {},
     "output_type": "execute_result"
    }
   ],
   "source": [
    "df_lic_2021_Pregao['Modalidade Compra'].value_counts()"
   ]
  },
  {
   "cell_type": "code",
   "execution_count": 84,
   "id": "f49479ba",
   "metadata": {},
   "outputs": [
    {
     "data": {
      "text/plain": [
       "Compras/Servicos    7813\n",
       "Obras                882\n",
       "Name: Tipo, dtype: int64"
      ]
     },
     "execution_count": 84,
     "metadata": {},
     "output_type": "execute_result"
    }
   ],
   "source": [
    "df_lic_2021_Pregao['Tipo'].value_counts()"
   ]
  },
  {
   "cell_type": "code",
   "execution_count": 85,
   "id": "5f01cb2f",
   "metadata": {},
   "outputs": [],
   "source": [
    "# Separando a modalidade em Obras e Compras/Serviços\n",
    "lic_obras_Pregao_2021 = df_lic_2021_Pregao[df_lic_2021_Pregao['Tipo'] == 'Obras']\n",
    "lic_compras_Pregao_2021 = df_lic_2021_Pregao[df_lic_2021_Pregao['Tipo'] != 'Obras']"
   ]
  },
  {
   "cell_type": "code",
   "execution_count": 86,
   "id": "0e7f3414",
   "metadata": {},
   "outputs": [
    {
     "data": {
      "text/plain": [
       "Obras    882\n",
       "Name: Tipo, dtype: int64"
      ]
     },
     "execution_count": 86,
     "metadata": {},
     "output_type": "execute_result"
    }
   ],
   "source": [
    "lic_obras_Pregao_2021['Tipo'].value_counts()"
   ]
  },
  {
   "cell_type": "code",
   "execution_count": 87,
   "id": "c815a988",
   "metadata": {},
   "outputs": [
    {
     "data": {
      "image/png": "[encoded data removed]",
      "text/plain": [
       "<Figure size 432x288 with 1 Axes>"
      ]
     },
     "metadata": {
      "needs_background": "light"
     },
     "output_type": "display_data"
    }
   ],
   "source": [
    "lic_obras_Pregao_2021['Total'].plot.box()\n",
    "plt.show()"
   ]
  },
  {
   "cell_type": "code",
   "execution_count": 88,
   "id": "850bfd57",
   "metadata": {},
   "outputs": [
    {
     "data": {
      "text/plain": [
       "count    8.820000e+02\n",
       "mean     1.762575e+06\n",
       "std      5.904885e+06\n",
       "min      0.000000e+00\n",
       "25%      4.809994e+04\n",
       "50%      2.459634e+05\n",
       "75%      9.189452e+05\n",
       "max      9.437908e+07\n",
       "Name: Total, dtype: float64"
      ]
     },
     "execution_count": 88,
     "metadata": {},
     "output_type": "execute_result"
    }
   ],
   "source": [
    "lic_obras_Pregao_2021['Total'].describe()"
   ]
  },
  {
   "cell_type": "code",
   "execution_count": 89,
   "id": "ac66f8e4",
   "metadata": {},
   "outputs": [
    {
     "data": {
      "text/plain": [
       "Compras/Servicos    7813\n",
       "Name: Tipo, dtype: int64"
      ]
     },
     "execution_count": 89,
     "metadata": {},
     "output_type": "execute_result"
    }
   ],
   "source": [
    "lic_compras_Pregao_2021['Tipo'].value_counts()"
   ]
  },
  {
   "cell_type": "code",
   "execution_count": 90,
   "id": "1480b92d",
   "metadata": {},
   "outputs": [
    {
     "data": {
      "text/plain": [
       "<AxesSubplot:>"
      ]
     },
     "execution_count": 90,
     "metadata": {},
     "output_type": "execute_result"
    },
    {
     "data": {
      "image/png": "[encoded data removed]",
      "text/plain": [
       "<Figure size 432x288 with 1 Axes>"
      ]
     },
     "metadata": {
      "needs_background": "light"
     },
     "output_type": "display_data"
    }
   ],
   "source": [
    "lic_compras_Pregao_2021['Total'].plot.box()"
   ]
  },
  {
   "cell_type": "code",
   "execution_count": 91,
   "id": "e4334b9b",
   "metadata": {},
   "outputs": [
    {
     "data": {
      "text/plain": [
       "count    7.813000e+03\n",
       "mean     1.350010e+06\n",
       "std      6.942012e+06\n",
       "min      0.000000e+00\n",
       "25%      1.103000e+04\n",
       "50%      7.292575e+04\n",
       "75%      3.717270e+05\n",
       "max      2.243618e+08\n",
       "Name: Total, dtype: float64"
      ]
     },
     "execution_count": 91,
     "metadata": {},
     "output_type": "execute_result"
    }
   ],
   "source": [
    "lic_compras_Pregao_2021['Total'].describe()"
   ]
  },
  {
   "cell_type": "code",
   "execution_count": 92,
   "id": "0d9d6a83",
   "metadata": {},
   "outputs": [
    {
     "name": "stderr",
     "output_type": "stream",
     "text": [
      "C:\\Users\\lrr\\AppData\\Local\\Temp/ipykernel_22940/2157594586.py:5: SettingWithCopyWarning: \n",
      "A value is trying to be set on a copy of a slice from a DataFrame.\n",
      "Try using .loc[row_indexer,col_indexer] = value instead\n",
      "\n",
      "See the caveats in the documentation: https://pandas.pydata.org/pandas-docs/stable/user_guide/indexing.html#returning-a-view-versus-a-copy\n",
      "  lic_obras_Pregao_2021['Tag'] = 1\n",
      "C:\\Users\\lrr\\AppData\\Local\\Temp/ipykernel_22940/2157594586.py:6: SettingWithCopyWarning: \n",
      "A value is trying to be set on a copy of a slice from a DataFrame.\n",
      "Try using .loc[row_indexer,col_indexer] = value instead\n",
      "\n",
      "See the caveats in the documentation: https://pandas.pydata.org/pandas-docs/stable/user_guide/indexing.html#returning-a-view-versus-a-copy\n",
      "  lic_compras_Pregao_2021['Tag'] = 1\n"
     ]
    }
   ],
   "source": [
    "## Tag'ando como legal já que não existe uma regra bem definida para a modalidade Pregão\n",
    "\n",
    "#### 0: ilegal\n",
    "#### 1: legal\n",
    "lic_obras_Pregao_2021['Tag'] = 1\n",
    "lic_compras_Pregao_2021['Tag'] = 1"
   ]
  },
  {
   "cell_type": "code",
   "execution_count": 93,
   "id": "397bd3fd",
   "metadata": {},
   "outputs": [
    {
     "data": {
      "text/plain": [
       "1    882\n",
       "Name: Tag, dtype: int64"
      ]
     },
     "execution_count": 93,
     "metadata": {},
     "output_type": "execute_result"
    }
   ],
   "source": [
    "lic_obras_Pregao_2021['Tag'].value_counts()"
   ]
  },
  {
   "cell_type": "code",
   "execution_count": 94,
   "id": "eead82d5",
   "metadata": {},
   "outputs": [
    {
     "data": {
      "text/plain": [
       "1    7813\n",
       "Name: Tag, dtype: int64"
      ]
     },
     "execution_count": 94,
     "metadata": {},
     "output_type": "execute_result"
    }
   ],
   "source": [
    "lic_compras_Pregao_2021['Tag'].value_counts()"
   ]
  },
  {
   "cell_type": "markdown",
   "id": "37ebfe7a",
   "metadata": {},
   "source": [
    "## Inexigibilidade de Licitação "
   ]
  },
  {
   "cell_type": "code",
   "execution_count": 95,
   "id": "4ad9bcf5",
   "metadata": {},
   "outputs": [],
   "source": [
    "df_lic_2021_Inex_2021 = df_lic_2021[df_lic_2021['Modalidade Compra'] == 'Inexigibilidade de Licitação']"
   ]
  },
  {
   "cell_type": "code",
   "execution_count": 96,
   "id": "c02d4e0c",
   "metadata": {},
   "outputs": [
    {
     "data": {
      "text/plain": [
       "Inexigibilidade de Licitação    7200\n",
       "Name: Modalidade Compra, dtype: int64"
      ]
     },
     "execution_count": 96,
     "metadata": {},
     "output_type": "execute_result"
    }
   ],
   "source": [
    "df_lic_2021_Inex_2021['Modalidade Compra'].value_counts()"
   ]
  },
  {
   "cell_type": "code",
   "execution_count": 97,
   "id": "5b1b61dd",
   "metadata": {},
   "outputs": [
    {
     "data": {
      "text/plain": [
       "Compras/Servicos    7098\n",
       "Obras                102\n",
       "Name: Tipo, dtype: int64"
      ]
     },
     "execution_count": 97,
     "metadata": {},
     "output_type": "execute_result"
    }
   ],
   "source": [
    "df_lic_2021_Inex_2021['Tipo'].value_counts()"
   ]
  },
  {
   "cell_type": "code",
   "execution_count": 98,
   "id": "038d14fe",
   "metadata": {},
   "outputs": [],
   "source": [
    "# Separando a modalidade em Obras e Compras/Serviços\n",
    "lic_obras_Inex_2021 = df_lic_2021_Inex_2021[df_lic_2021_Inex_2021['Tipo'] == 'Obras']\n",
    "lic_compras_Inex_2021 = df_lic_2021_Inex_2021[df_lic_2021_Inex_2021['Tipo'] != 'Obras']"
   ]
  },
  {
   "cell_type": "code",
   "execution_count": 99,
   "id": "0ad6ed97",
   "metadata": {},
   "outputs": [
    {
     "data": {
      "text/plain": [
       "Obras    102\n",
       "Name: Tipo, dtype: int64"
      ]
     },
     "execution_count": 99,
     "metadata": {},
     "output_type": "execute_result"
    }
   ],
   "source": [
    "lic_obras_Inex_2021['Tipo'].value_counts()"
   ]
  },
  {
   "cell_type": "code",
   "execution_count": 100,
   "id": "5cdd4337",
   "metadata": {},
   "outputs": [
    {
     "data": {
      "image/png": "[encoded data removed]",
      "text/plain": [
       "<Figure size 432x288 with 1 Axes>"
      ]
     },
     "metadata": {
      "needs_background": "light"
     },
     "output_type": "display_data"
    }
   ],
   "source": [
    "lic_obras_Inex_2021['Total'].plot.box()\n",
    "plt.show()"
   ]
  },
  {
   "cell_type": "code",
   "execution_count": 101,
   "id": "bdb17d4d",
   "metadata": {},
   "outputs": [
    {
     "data": {
      "text/plain": [
       "count    1.020000e+02\n",
       "mean     8.055013e+04\n",
       "std      2.761753e+05\n",
       "min      1.000000e-02\n",
       "25%      9.992500e+02\n",
       "50%      4.230570e+03\n",
       "75%      1.921847e+04\n",
       "max      2.152080e+06\n",
       "Name: Total, dtype: float64"
      ]
     },
     "execution_count": 101,
     "metadata": {},
     "output_type": "execute_result"
    }
   ],
   "source": [
    "lic_obras_Inex_2021['Total'].describe()"
   ]
  },
  {
   "cell_type": "code",
   "execution_count": 102,
   "id": "aa440fba",
   "metadata": {},
   "outputs": [
    {
     "data": {
      "text/plain": [
       "Compras/Servicos    7098\n",
       "Name: Tipo, dtype: int64"
      ]
     },
     "execution_count": 102,
     "metadata": {},
     "output_type": "execute_result"
    }
   ],
   "source": [
    "lic_compras_Inex_2021['Tipo'].value_counts()"
   ]
  },
  {
   "cell_type": "code",
   "execution_count": 103,
   "id": "17d3cc39",
   "metadata": {},
   "outputs": [
    {
     "data": {
      "text/plain": [
       "<AxesSubplot:>"
      ]
     },
     "execution_count": 103,
     "metadata": {},
     "output_type": "execute_result"
    },
    {
     "data": {
      "image/png": "[encoded data removed]",
      "text/plain": [
       "<Figure size 432x288 with 1 Axes>"
      ]
     },
     "metadata": {
      "needs_background": "light"
     },
     "output_type": "display_data"
    }
   ],
   "source": [
    "lic_compras_Inex_2021['Total'].plot.box()"
   ]
  },
  {
   "cell_type": "code",
   "execution_count": 104,
   "id": "8e07a372",
   "metadata": {},
   "outputs": [
    {
     "data": {
      "text/plain": [
       "count    7.098000e+03\n",
       "mean     1.550605e+06\n",
       "std      2.515202e+07\n",
       "min      1.000000e-02\n",
       "25%      2.305300e+03\n",
       "50%      1.078200e+04\n",
       "75%      8.563152e+04\n",
       "max      1.672397e+09\n",
       "Name: Total, dtype: float64"
      ]
     },
     "execution_count": 104,
     "metadata": {},
     "output_type": "execute_result"
    }
   ],
   "source": [
    "lic_compras_Inex_2021['Total'].describe()"
   ]
  },
  {
   "cell_type": "code",
   "execution_count": 105,
   "id": "155294d3",
   "metadata": {},
   "outputs": [
    {
     "name": "stderr",
     "output_type": "stream",
     "text": [
      "C:\\Users\\lrr\\AppData\\Local\\Temp/ipykernel_22940/2614257969.py:5: SettingWithCopyWarning: \n",
      "A value is trying to be set on a copy of a slice from a DataFrame.\n",
      "Try using .loc[row_indexer,col_indexer] = value instead\n",
      "\n",
      "See the caveats in the documentation: https://pandas.pydata.org/pandas-docs/stable/user_guide/indexing.html#returning-a-view-versus-a-copy\n",
      "  lic_obras_Inex_2021['Tag'] = 1\n",
      "C:\\Users\\lrr\\AppData\\Local\\Temp/ipykernel_22940/2614257969.py:6: SettingWithCopyWarning: \n",
      "A value is trying to be set on a copy of a slice from a DataFrame.\n",
      "Try using .loc[row_indexer,col_indexer] = value instead\n",
      "\n",
      "See the caveats in the documentation: https://pandas.pydata.org/pandas-docs/stable/user_guide/indexing.html#returning-a-view-versus-a-copy\n",
      "  lic_compras_Inex_2021['Tag'] = 1\n"
     ]
    }
   ],
   "source": [
    "## Tag'ando como legal já que não existe uma regra bem definida para esta modalidade\n",
    "\n",
    "#### 0: ilegal\n",
    "#### 1: legal\n",
    "lic_obras_Inex_2021['Tag'] = 1\n",
    "lic_compras_Inex_2021['Tag'] = 1"
   ]
  },
  {
   "cell_type": "code",
   "execution_count": 106,
   "id": "26b50f39",
   "metadata": {},
   "outputs": [
    {
     "data": {
      "text/plain": [
       "1    102\n",
       "Name: Tag, dtype: int64"
      ]
     },
     "execution_count": 106,
     "metadata": {},
     "output_type": "execute_result"
    }
   ],
   "source": [
    "lic_obras_Inex_2021['Tag'].value_counts()"
   ]
  },
  {
   "cell_type": "code",
   "execution_count": 107,
   "id": "599c7ee4",
   "metadata": {},
   "outputs": [
    {
     "data": {
      "text/plain": [
       "1    7098\n",
       "Name: Tag, dtype: int64"
      ]
     },
     "execution_count": 107,
     "metadata": {},
     "output_type": "execute_result"
    }
   ],
   "source": [
    "lic_compras_Inex_2021['Tag'].value_counts()"
   ]
  },
  {
   "cell_type": "markdown",
   "id": "17e69d3e",
   "metadata": {},
   "source": [
    "## Concurso"
   ]
  },
  {
   "cell_type": "code",
   "execution_count": 108,
   "id": "45baca32",
   "metadata": {},
   "outputs": [],
   "source": [
    "df_lic_2021_concurso = df_lic_2021[df_lic_2021['Modalidade Compra'] == 'Concurso']"
   ]
  },
  {
   "cell_type": "code",
   "execution_count": 109,
   "id": "3e165945",
   "metadata": {},
   "outputs": [
    {
     "data": {
      "text/plain": [
       "Concurso    4\n",
       "Name: Modalidade Compra, dtype: int64"
      ]
     },
     "execution_count": 109,
     "metadata": {},
     "output_type": "execute_result"
    }
   ],
   "source": [
    "df_lic_2021_concurso['Modalidade Compra'].value_counts()"
   ]
  },
  {
   "cell_type": "code",
   "execution_count": 110,
   "id": "de4361f0",
   "metadata": {},
   "outputs": [
    {
     "data": {
      "text/plain": [
       "Compras/Servicos    3\n",
       "Obras               1\n",
       "Name: Tipo, dtype: int64"
      ]
     },
     "execution_count": 110,
     "metadata": {},
     "output_type": "execute_result"
    }
   ],
   "source": [
    "df_lic_2021_concurso['Tipo'].value_counts()"
   ]
  },
  {
   "cell_type": "code",
   "execution_count": 111,
   "id": "0432ba62",
   "metadata": {},
   "outputs": [],
   "source": [
    "# Separando a modalidade em Obras e Compras/Serviços\n",
    "lic_obras_concurso_2021 = df_lic_2021_concurso[df_lic_2021_concurso['Tipo'] == 'Obras']\n",
    "lic_compras_concurso_2021 = df_lic_2021_concurso[df_lic_2021_concurso['Tipo'] != 'Obras']"
   ]
  },
  {
   "cell_type": "code",
   "execution_count": 112,
   "id": "9510b8b1",
   "metadata": {},
   "outputs": [
    {
     "data": {
      "text/plain": [
       "Obras    1\n",
       "Name: Tipo, dtype: int64"
      ]
     },
     "execution_count": 112,
     "metadata": {},
     "output_type": "execute_result"
    }
   ],
   "source": [
    "lic_obras_concurso_2021['Tipo'].value_counts()"
   ]
  },
  {
   "cell_type": "code",
   "execution_count": 113,
   "id": "5a94e46a",
   "metadata": {},
   "outputs": [
    {
     "data": {
      "image/png": "[encoded data removed]",
      "text/plain": [
       "<Figure size 432x288 with 1 Axes>"
      ]
     },
     "metadata": {
      "needs_background": "light"
     },
     "output_type": "display_data"
    }
   ],
   "source": [
    "lic_obras_concurso_2021['Total'].plot.box()\n",
    "plt.show()"
   ]
  },
  {
   "cell_type": "code",
   "execution_count": 114,
   "id": "8ef3bbe5",
   "metadata": {},
   "outputs": [
    {
     "data": {
      "text/plain": [
       "<AxesSubplot:>"
      ]
     },
     "execution_count": 114,
     "metadata": {},
     "output_type": "execute_result"
    },
    {
     "data": {
      "image/png": "[encoded data removed]",
      "text/plain": [
       "<Figure size 432x288 with 1 Axes>"
      ]
     },
     "metadata": {
      "needs_background": "light"
     },
     "output_type": "display_data"
    }
   ],
   "source": [
    "lic_compras_concurso_2021['Total'].plot.box()"
   ]
  },
  {
   "cell_type": "code",
   "execution_count": 115,
   "id": "741ecdde",
   "metadata": {},
   "outputs": [
    {
     "data": {
      "text/plain": [
       "count        3.000000\n",
       "mean     12930.180000\n",
       "std       7803.924814\n",
       "min       4300.000000\n",
       "25%       9650.000000\n",
       "50%      15000.000000\n",
       "75%      17245.270000\n",
       "max      19490.540000\n",
       "Name: Total, dtype: float64"
      ]
     },
     "execution_count": 115,
     "metadata": {},
     "output_type": "execute_result"
    }
   ],
   "source": [
    "lic_compras_concurso_2021['Total'].describe()"
   ]
  },
  {
   "cell_type": "code",
   "execution_count": 116,
   "id": "ae784b51",
   "metadata": {},
   "outputs": [
    {
     "name": "stderr",
     "output_type": "stream",
     "text": [
      "C:\\Users\\lrr\\AppData\\Local\\Temp/ipykernel_22940/2737587005.py:5: SettingWithCopyWarning: \n",
      "A value is trying to be set on a copy of a slice from a DataFrame.\n",
      "Try using .loc[row_indexer,col_indexer] = value instead\n",
      "\n",
      "See the caveats in the documentation: https://pandas.pydata.org/pandas-docs/stable/user_guide/indexing.html#returning-a-view-versus-a-copy\n",
      "  lic_obras_concurso_2021['Tag'] = 1\n",
      "C:\\Users\\lrr\\AppData\\Local\\Temp/ipykernel_22940/2737587005.py:6: SettingWithCopyWarning: \n",
      "A value is trying to be set on a copy of a slice from a DataFrame.\n",
      "Try using .loc[row_indexer,col_indexer] = value instead\n",
      "\n",
      "See the caveats in the documentation: https://pandas.pydata.org/pandas-docs/stable/user_guide/indexing.html#returning-a-view-versus-a-copy\n",
      "  lic_compras_concurso_2021['Tag'] = 1\n"
     ]
    }
   ],
   "source": [
    "## Tag'ando como legal já que não existe uma regra bem definida para esta modalidade\n",
    "\n",
    "#### 0: ilegal\n",
    "#### 1: legal\n",
    "lic_obras_concurso_2021['Tag'] = 1\n",
    "lic_compras_concurso_2021['Tag'] = 1"
   ]
  },
  {
   "cell_type": "code",
   "execution_count": 117,
   "id": "b663af80",
   "metadata": {},
   "outputs": [
    {
     "data": {
      "text/plain": [
       "1    1\n",
       "Name: Tag, dtype: int64"
      ]
     },
     "execution_count": 117,
     "metadata": {},
     "output_type": "execute_result"
    }
   ],
   "source": [
    "lic_obras_concurso_2021['Tag'].value_counts()"
   ]
  },
  {
   "cell_type": "code",
   "execution_count": 118,
   "id": "76bccc0b",
   "metadata": {},
   "outputs": [
    {
     "data": {
      "text/plain": [
       "1    3\n",
       "Name: Tag, dtype: int64"
      ]
     },
     "execution_count": 118,
     "metadata": {},
     "output_type": "execute_result"
    }
   ],
   "source": [
    "lic_compras_concurso_2021['Tag'].value_counts()"
   ]
  },
  {
   "cell_type": "markdown",
   "id": "3d4c64d6",
   "metadata": {},
   "source": [
    "### Concorrência Internacional"
   ]
  },
  {
   "cell_type": "code",
   "execution_count": 119,
   "id": "4d569c6b",
   "metadata": {},
   "outputs": [],
   "source": [
    "df_lic_2021_concorrencia_internacional = df_lic_2021[df_lic_2021['Modalidade Compra'] == 'Concorrência Internacional']"
   ]
  },
  {
   "cell_type": "code",
   "execution_count": 120,
   "id": "b77f5d09",
   "metadata": {},
   "outputs": [
    {
     "data": {
      "text/plain": [
       "Series([], Name: Modalidade Compra, dtype: int64)"
      ]
     },
     "execution_count": 120,
     "metadata": {},
     "output_type": "execute_result"
    }
   ],
   "source": [
    "df_lic_2021_concorrencia_internacional['Modalidade Compra'].value_counts()"
   ]
  },
  {
   "cell_type": "code",
   "execution_count": 121,
   "id": "eb3e9324",
   "metadata": {},
   "outputs": [],
   "source": [
    "# Separando a modalidade em Obras e Compras/Serviços\n",
    "lic_obras_concorrencia_internacional_2021 = df_lic_2021_concorrencia_internacional[df_lic_2021_concorrencia_internacional['Tipo'] == 'Obras']\n",
    "lic_compras_concorrencia_internacional_2021 = df_lic_2021_concorrencia_internacional[df_lic_2021_concorrencia_internacional['Tipo'] != 'Obras']"
   ]
  },
  {
   "cell_type": "code",
   "execution_count": 122,
   "id": "9141246e",
   "metadata": {},
   "outputs": [
    {
     "data": {
      "text/plain": [
       "Series([], Name: Tipo, dtype: int64)"
      ]
     },
     "execution_count": 122,
     "metadata": {},
     "output_type": "execute_result"
    }
   ],
   "source": [
    "lic_obras_concorrencia_internacional_2021['Tipo'].value_counts()"
   ]
  },
  {
   "cell_type": "code",
   "execution_count": 123,
   "id": "eb898c8b",
   "metadata": {},
   "outputs": [
    {
     "data": {
      "text/plain": [
       "Series([], Name: Tipo, dtype: int64)"
      ]
     },
     "execution_count": 123,
     "metadata": {},
     "output_type": "execute_result"
    }
   ],
   "source": [
    "lic_compras_concorrencia_internacional_2021['Tipo'].value_counts()"
   ]
  },
  {
   "cell_type": "code",
   "execution_count": 124,
   "id": "c60501ee",
   "metadata": {},
   "outputs": [
    {
     "data": {
      "text/plain": [
       "<AxesSubplot:>"
      ]
     },
     "execution_count": 124,
     "metadata": {},
     "output_type": "execute_result"
    },
    {
     "data": {
      "image/png": "[encoded data removed]",
      "text/plain": [
       "<Figure size 432x288 with 1 Axes>"
      ]
     },
     "metadata": {
      "needs_background": "light"
     },
     "output_type": "display_data"
    }
   ],
   "source": [
    "lic_compras_concorrencia_internacional_2021['Total'].plot.box()"
   ]
  },
  {
   "cell_type": "code",
   "execution_count": 125,
   "id": "2d930e63",
   "metadata": {},
   "outputs": [
    {
     "data": {
      "text/plain": [
       "count    0.0\n",
       "mean     NaN\n",
       "std      NaN\n",
       "min      NaN\n",
       "25%      NaN\n",
       "50%      NaN\n",
       "75%      NaN\n",
       "max      NaN\n",
       "Name: Total, dtype: float64"
      ]
     },
     "execution_count": 125,
     "metadata": {},
     "output_type": "execute_result"
    }
   ],
   "source": [
    "lic_compras_concorrencia_internacional_2021['Total'].describe()"
   ]
  },
  {
   "cell_type": "code",
   "execution_count": 126,
   "id": "992c19d1",
   "metadata": {},
   "outputs": [],
   "source": [
    "## Tag'ando como legal já que não existe uma regra bem definida para esta modalidade\n",
    "\n",
    "#### 0: ilegal\n",
    "#### 1: legal\n",
    "lic_obras_concorrencia_internacional_2021['Tag'] = 1\n",
    "lic_compras_concorrencia_internacional_2021['Tag'] = 1"
   ]
  },
  {
   "cell_type": "code",
   "execution_count": 127,
   "id": "ad4ba4d4",
   "metadata": {},
   "outputs": [
    {
     "data": {
      "text/plain": [
       "Series([], Name: Tag, dtype: int64)"
      ]
     },
     "execution_count": 127,
     "metadata": {},
     "output_type": "execute_result"
    }
   ],
   "source": [
    "lic_obras_concorrencia_internacional_2021['Tag'].value_counts()"
   ]
  },
  {
   "cell_type": "code",
   "execution_count": 128,
   "id": "dfa6fde0",
   "metadata": {},
   "outputs": [
    {
     "data": {
      "text/plain": [
       "Series([], Name: Tag, dtype: int64)"
      ]
     },
     "execution_count": 128,
     "metadata": {},
     "output_type": "execute_result"
    }
   ],
   "source": [
    "lic_compras_concorrencia_internacional_2021['Tag'].value_counts()"
   ]
  },
  {
   "cell_type": "markdown",
   "id": "9dee2f6d",
   "metadata": {},
   "source": [
    "### Salvando todas as analises em uma única base de dados."
   ]
  },
  {
   "cell_type": "code",
   "execution_count": 129,
   "id": "dc5f27ae",
   "metadata": {},
   "outputs": [],
   "source": [
    "lic_2021_com_tag = pd.concat([lic_obras_RP_2021, lic_compras_RP_2021, lic_obras_Dispensa_2021, lic_compras_Dispensa_2021, lic_obras_tomada_de_preco_2021, lic_compras_tomada_de_preco_2021, lic_compras_convite_2021, lic_obras_convite_2021, lic_obras_Pregao_2021, lic_compras_Pregao_2021, lic_obras_Inex_2021, lic_compras_Inex_2021, lic_obras_concurso_2021, lic_compras_concurso_2021, lic_obras_concorrencia_internacional_2021, lic_compras_concorrencia_internacional_2021])"
   ]
  },
  {
   "cell_type": "code",
   "execution_count": 130,
   "id": "ccf15bf4",
   "metadata": {},
   "outputs": [],
   "source": [
    "lic_2021_com_tag.to_csv('lic_2021_com_tag.csv')"
   ]
  },
  {
   "cell_type": "code",
   "execution_count": 131,
   "id": "3fc5c4e9",
   "metadata": {},
   "outputs": [
    {
     "data": {
      "text/plain": [
       "1    45963\n",
       "0    14538\n",
       "Name: Tag, dtype: int64"
      ]
     },
     "execution_count": 131,
     "metadata": {},
     "output_type": "execute_result"
    }
   ],
   "source": [
    "lic_2021_com_tag['Tag'].value_counts()"
   ]
  },
  {
   "cell_type": "code",
   "execution_count": 132,
   "id": "92e2ace5",
   "metadata": {},
   "outputs": [
    {
     "data": {
      "text/html": [
       "<div>\n",
       "<style scoped>\n",
       "    .dataframe tbody tr th:only-of-type {\n",
       "        vertical-align: middle;\n",
       "    }\n",
       "\n",
       "    .dataframe tbody tr th {\n",
       "        vertical-align: top;\n",
       "    }\n",
       "\n",
       "    .dataframe thead tr th {\n",
       "        text-align: left;\n",
       "    }\n",
       "\n",
       "    .dataframe thead tr:last-of-type th {\n",
       "        text-align: right;\n",
       "    }\n",
       "</style>\n",
       "<table border=\"1\" class=\"dataframe\">\n",
       "  <thead>\n",
       "    <tr>\n",
       "      <th></th>\n",
       "      <th></th>\n",
       "      <th></th>\n",
       "      <th colspan=\"8\" halign=\"left\">Número Licitação</th>\n",
       "      <th colspan=\"2\" halign=\"left\">Código UG</th>\n",
       "      <th>...</th>\n",
       "      <th colspan=\"2\" halign=\"left\">Código Órgão</th>\n",
       "      <th colspan=\"8\" halign=\"left\">Total</th>\n",
       "    </tr>\n",
       "    <tr>\n",
       "      <th></th>\n",
       "      <th></th>\n",
       "      <th></th>\n",
       "      <th>count</th>\n",
       "      <th>mean</th>\n",
       "      <th>std</th>\n",
       "      <th>min</th>\n",
       "      <th>25%</th>\n",
       "      <th>50%</th>\n",
       "      <th>75%</th>\n",
       "      <th>max</th>\n",
       "      <th>count</th>\n",
       "      <th>mean</th>\n",
       "      <th>...</th>\n",
       "      <th>75%</th>\n",
       "      <th>max</th>\n",
       "      <th>count</th>\n",
       "      <th>mean</th>\n",
       "      <th>std</th>\n",
       "      <th>min</th>\n",
       "      <th>25%</th>\n",
       "      <th>50%</th>\n",
       "      <th>75%</th>\n",
       "      <th>max</th>\n",
       "    </tr>\n",
       "    <tr>\n",
       "      <th>Modalidade Compra</th>\n",
       "      <th>Tag</th>\n",
       "      <th>Tipo</th>\n",
       "      <th></th>\n",
       "      <th></th>\n",
       "      <th></th>\n",
       "      <th></th>\n",
       "      <th></th>\n",
       "      <th></th>\n",
       "      <th></th>\n",
       "      <th></th>\n",
       "      <th></th>\n",
       "      <th></th>\n",
       "      <th></th>\n",
       "      <th></th>\n",
       "      <th></th>\n",
       "      <th></th>\n",
       "      <th></th>\n",
       "      <th></th>\n",
       "      <th></th>\n",
       "      <th></th>\n",
       "      <th></th>\n",
       "      <th></th>\n",
       "      <th></th>\n",
       "    </tr>\n",
       "  </thead>\n",
       "  <tbody>\n",
       "    <tr>\n",
       "      <th rowspan=\"4\" valign=\"top\">Concorrência</th>\n",
       "      <th rowspan=\"2\" valign=\"top\">0</th>\n",
       "      <th>Compras/Servicos</th>\n",
       "      <td>10.0</td>\n",
       "      <td>4.180201e+05</td>\n",
       "      <td>1.211080e+06</td>\n",
       "      <td>12020.0</td>\n",
       "      <td>12021.00</td>\n",
       "      <td>22020.0</td>\n",
       "      <td>29520.75</td>\n",
       "      <td>3862019.0</td>\n",
       "      <td>10.0</td>\n",
       "      <td>241495.600000</td>\n",
       "      <td>...</td>\n",
       "      <td>52111.00</td>\n",
       "      <td>52131.0</td>\n",
       "      <td>10.0</td>\n",
       "      <td>4.424555e+05</td>\n",
       "      <td>3.411860e+05</td>\n",
       "      <td>0.00</td>\n",
       "      <td>1.853392e+05</td>\n",
       "      <td>385700.000</td>\n",
       "      <td>7.359532e+05</td>\n",
       "      <td>9.956000e+05</td>\n",
       "    </tr>\n",
       "    <tr>\n",
       "      <th>Obras</th>\n",
       "      <td>8.0</td>\n",
       "      <td>2.826988e+04</td>\n",
       "      <td>1.846817e+04</td>\n",
       "      <td>12020.0</td>\n",
       "      <td>12020.00</td>\n",
       "      <td>22019.5</td>\n",
       "      <td>42020.00</td>\n",
       "      <td>62020.0</td>\n",
       "      <td>8.0</td>\n",
       "      <td>190811.125000</td>\n",
       "      <td>...</td>\n",
       "      <td>52121.00</td>\n",
       "      <td>52121.0</td>\n",
       "      <td>8.0</td>\n",
       "      <td>2.136792e+06</td>\n",
       "      <td>1.139094e+06</td>\n",
       "      <td>347810.08</td>\n",
       "      <td>1.753661e+06</td>\n",
       "      <td>2503324.740</td>\n",
       "      <td>2.822162e+06</td>\n",
       "      <td>3.221162e+06</td>\n",
       "    </tr>\n",
       "    <tr>\n",
       "      <th rowspan=\"2\" valign=\"top\">1</th>\n",
       "      <th>Compras/Servicos</th>\n",
       "      <td>15.0</td>\n",
       "      <td>3.535333e+04</td>\n",
       "      <td>5.080291e+04</td>\n",
       "      <td>12020.0</td>\n",
       "      <td>12020.00</td>\n",
       "      <td>12021.0</td>\n",
       "      <td>32017.50</td>\n",
       "      <td>192020.0</td>\n",
       "      <td>15.0</td>\n",
       "      <td>250147.066667</td>\n",
       "      <td>...</td>\n",
       "      <td>52121.00</td>\n",
       "      <td>53000.0</td>\n",
       "      <td>15.0</td>\n",
       "      <td>5.697094e+06</td>\n",
       "      <td>5.174291e+06</td>\n",
       "      <td>1869339.89</td>\n",
       "      <td>2.464552e+06</td>\n",
       "      <td>4173551.140</td>\n",
       "      <td>6.867271e+06</td>\n",
       "      <td>2.160010e+07</td>\n",
       "    </tr>\n",
       "    <tr>\n",
       "      <th>Obras</th>\n",
       "      <td>6.0</td>\n",
       "      <td>2.535350e+04</td>\n",
       "      <td>1.751175e+04</td>\n",
       "      <td>12020.0</td>\n",
       "      <td>12020.25</td>\n",
       "      <td>17020.5</td>\n",
       "      <td>37020.00</td>\n",
       "      <td>52020.0</td>\n",
       "      <td>6.0</td>\n",
       "      <td>246366.666667</td>\n",
       "      <td>...</td>\n",
       "      <td>52121.00</td>\n",
       "      <td>52131.0</td>\n",
       "      <td>6.0</td>\n",
       "      <td>8.318206e+06</td>\n",
       "      <td>3.742357e+06</td>\n",
       "      <td>4473329.19</td>\n",
       "      <td>5.562165e+06</td>\n",
       "      <td>7187929.850</td>\n",
       "      <td>1.121159e+07</td>\n",
       "      <td>1.348700e+07</td>\n",
       "    </tr>\n",
       "    <tr>\n",
       "      <th rowspan=\"2\" valign=\"top\">Concorrência - Registro de Preço</th>\n",
       "      <th rowspan=\"2\" valign=\"top\">0</th>\n",
       "      <th>Compras/Servicos</th>\n",
       "      <td>3.0</td>\n",
       "      <td>2.202000e+04</td>\n",
       "      <td>1.000000e+04</td>\n",
       "      <td>12020.0</td>\n",
       "      <td>17020.00</td>\n",
       "      <td>22020.0</td>\n",
       "      <td>27020.00</td>\n",
       "      <td>32020.0</td>\n",
       "      <td>3.0</td>\n",
       "      <td>146437.333333</td>\n",
       "      <td>...</td>\n",
       "      <td>52116.00</td>\n",
       "      <td>52121.0</td>\n",
       "      <td>3.0</td>\n",
       "      <td>0.000000e+00</td>\n",
       "      <td>0.000000e+00</td>\n",
       "      <td>0.00</td>\n",
       "      <td>0.000000e+00</td>\n",
       "      <td>0.000</td>\n",
       "      <td>0.000000e+00</td>\n",
       "      <td>0.000000e+00</td>\n",
       "    </tr>\n",
       "    <tr>\n",
       "      <th>Obras</th>\n",
       "      <td>1.0</td>\n",
       "      <td>2.202000e+04</td>\n",
       "      <td>NaN</td>\n",
       "      <td>22020.0</td>\n",
       "      <td>22020.00</td>\n",
       "      <td>22020.0</td>\n",
       "      <td>22020.00</td>\n",
       "      <td>22020.0</td>\n",
       "      <td>1.0</td>\n",
       "      <td>160176.000000</td>\n",
       "      <td>...</td>\n",
       "      <td>52121.00</td>\n",
       "      <td>52121.0</td>\n",
       "      <td>1.0</td>\n",
       "      <td>0.000000e+00</td>\n",
       "      <td>NaN</td>\n",
       "      <td>0.00</td>\n",
       "      <td>0.000000e+00</td>\n",
       "      <td>0.000</td>\n",
       "      <td>0.000000e+00</td>\n",
       "      <td>0.000000e+00</td>\n",
       "    </tr>\n",
       "    <tr>\n",
       "      <th rowspan=\"2\" valign=\"top\">Concurso</th>\n",
       "      <th rowspan=\"2\" valign=\"top\">1</th>\n",
       "      <th>Compras/Servicos</th>\n",
       "      <td>3.0</td>\n",
       "      <td>1.535400e+04</td>\n",
       "      <td>5.772925e+03</td>\n",
       "      <td>12021.0</td>\n",
       "      <td>12021.00</td>\n",
       "      <td>12021.0</td>\n",
       "      <td>17020.50</td>\n",
       "      <td>22020.0</td>\n",
       "      <td>3.0</td>\n",
       "      <td>227036.333333</td>\n",
       "      <td>...</td>\n",
       "      <td>28248.00</td>\n",
       "      <td>30204.0</td>\n",
       "      <td>3.0</td>\n",
       "      <td>1.293018e+04</td>\n",
       "      <td>7.803925e+03</td>\n",
       "      <td>4300.00</td>\n",
       "      <td>9.650000e+03</td>\n",
       "      <td>15000.000</td>\n",
       "      <td>1.724527e+04</td>\n",
       "      <td>1.949054e+04</td>\n",
       "    </tr>\n",
       "    <tr>\n",
       "      <th>Obras</th>\n",
       "      <td>1.0</td>\n",
       "      <td>1.202000e+04</td>\n",
       "      <td>NaN</td>\n",
       "      <td>12020.0</td>\n",
       "      <td>12020.00</td>\n",
       "      <td>12020.0</td>\n",
       "      <td>12020.00</td>\n",
       "      <td>12020.0</td>\n",
       "      <td>1.0</td>\n",
       "      <td>344002.000000</td>\n",
       "      <td>...</td>\n",
       "      <td>26292.00</td>\n",
       "      <td>26292.0</td>\n",
       "      <td>1.0</td>\n",
       "      <td>4.500000e+04</td>\n",
       "      <td>NaN</td>\n",
       "      <td>45000.00</td>\n",
       "      <td>4.500000e+04</td>\n",
       "      <td>45000.000</td>\n",
       "      <td>4.500000e+04</td>\n",
       "      <td>4.500000e+04</td>\n",
       "    </tr>\n",
       "    <tr>\n",
       "      <th rowspan=\"3\" valign=\"top\">Convite</th>\n",
       "      <th>0</th>\n",
       "      <th>Compras/Servicos</th>\n",
       "      <td>1.0</td>\n",
       "      <td>1.202100e+04</td>\n",
       "      <td>NaN</td>\n",
       "      <td>12021.0</td>\n",
       "      <td>12021.00</td>\n",
       "      <td>12021.0</td>\n",
       "      <td>12021.00</td>\n",
       "      <td>12021.0</td>\n",
       "      <td>1.0</td>\n",
       "      <td>160163.000000</td>\n",
       "      <td>...</td>\n",
       "      <td>52121.00</td>\n",
       "      <td>52121.0</td>\n",
       "      <td>1.0</td>\n",
       "      <td>2.741322e+05</td>\n",
       "      <td>NaN</td>\n",
       "      <td>274132.22</td>\n",
       "      <td>2.741322e+05</td>\n",
       "      <td>274132.220</td>\n",
       "      <td>2.741322e+05</td>\n",
       "      <td>2.741322e+05</td>\n",
       "    </tr>\n",
       "    <tr>\n",
       "      <th rowspan=\"2\" valign=\"top\">1</th>\n",
       "      <th>Compras/Servicos</th>\n",
       "      <td>4.0</td>\n",
       "      <td>1.702025e+04</td>\n",
       "      <td>9.999833e+03</td>\n",
       "      <td>12020.0</td>\n",
       "      <td>12020.00</td>\n",
       "      <td>12020.5</td>\n",
       "      <td>17020.75</td>\n",
       "      <td>32020.0</td>\n",
       "      <td>4.0</td>\n",
       "      <td>223450.500000</td>\n",
       "      <td>...</td>\n",
       "      <td>52121.00</td>\n",
       "      <td>52121.0</td>\n",
       "      <td>4.0</td>\n",
       "      <td>1.154178e+05</td>\n",
       "      <td>6.389936e+04</td>\n",
       "      <td>33580.00</td>\n",
       "      <td>8.014538e+04</td>\n",
       "      <td>130468.420</td>\n",
       "      <td>1.657408e+05</td>\n",
       "      <td>1.671543e+05</td>\n",
       "    </tr>\n",
       "    <tr>\n",
       "      <th>Obras</th>\n",
       "      <td>2.0</td>\n",
       "      <td>1.202050e+04</td>\n",
       "      <td>7.071068e-01</td>\n",
       "      <td>12020.0</td>\n",
       "      <td>12020.25</td>\n",
       "      <td>12020.5</td>\n",
       "      <td>12020.75</td>\n",
       "      <td>12021.0</td>\n",
       "      <td>2.0</td>\n",
       "      <td>208566.000000</td>\n",
       "      <td>...</td>\n",
       "      <td>48090.75</td>\n",
       "      <td>52121.0</td>\n",
       "      <td>2.0</td>\n",
       "      <td>2.025828e+05</td>\n",
       "      <td>4.689995e+04</td>\n",
       "      <td>169419.56</td>\n",
       "      <td>1.860012e+05</td>\n",
       "      <td>202582.835</td>\n",
       "      <td>2.191645e+05</td>\n",
       "      <td>2.357461e+05</td>\n",
       "    </tr>\n",
       "    <tr>\n",
       "      <th rowspan=\"4\" valign=\"top\">Dispensa de Licitação</th>\n",
       "      <th rowspan=\"2\" valign=\"top\">0</th>\n",
       "      <th>Compras/Servicos</th>\n",
       "      <td>2966.0</td>\n",
       "      <td>1.067763e+07</td>\n",
       "      <td>6.950292e+07</td>\n",
       "      <td>12020.0</td>\n",
       "      <td>52021.00</td>\n",
       "      <td>182021.0</td>\n",
       "      <td>572021.00</td>\n",
       "      <td>901402021.0</td>\n",
       "      <td>2966.0</td>\n",
       "      <td>228777.265003</td>\n",
       "      <td>...</td>\n",
       "      <td>38550.50</td>\n",
       "      <td>96220.0</td>\n",
       "      <td>2966.0</td>\n",
       "      <td>3.269302e+06</td>\n",
       "      <td>3.433755e+07</td>\n",
       "      <td>17610.47</td>\n",
       "      <td>3.252295e+04</td>\n",
       "      <td>88027.500</td>\n",
       "      <td>3.996757e+05</td>\n",
       "      <td>1.305345e+09</td>\n",
       "    </tr>\n",
       "    <tr>\n",
       "      <th>Obras</th>\n",
       "      <td>137.0</td>\n",
       "      <td>1.167618e+07</td>\n",
       "      <td>7.584801e+07</td>\n",
       "      <td>12021.0</td>\n",
       "      <td>32021.00</td>\n",
       "      <td>72021.0</td>\n",
       "      <td>222021.00</td>\n",
       "      <td>600402021.0</td>\n",
       "      <td>137.0</td>\n",
       "      <td>237009.620438</td>\n",
       "      <td>...</td>\n",
       "      <td>36000.00</td>\n",
       "      <td>63000.0</td>\n",
       "      <td>137.0</td>\n",
       "      <td>1.799213e+06</td>\n",
       "      <td>5.976249e+06</td>\n",
       "      <td>35469.00</td>\n",
       "      <td>1.318560e+05</td>\n",
       "      <td>303984.040</td>\n",
       "      <td>1.046310e+06</td>\n",
       "      <td>6.109862e+07</td>\n",
       "    </tr>\n",
       "    <tr>\n",
       "      <th rowspan=\"2\" valign=\"top\">1</th>\n",
       "      <th>Compras/Servicos</th>\n",
       "      <td>29144.0</td>\n",
       "      <td>9.067363e+06</td>\n",
       "      <td>6.538430e+07</td>\n",
       "      <td>12020.0</td>\n",
       "      <td>82021.00</td>\n",
       "      <td>232021.0</td>\n",
       "      <td>542021.00</td>\n",
       "      <td>970832020.0</td>\n",
       "      <td>29144.0</td>\n",
       "      <td>246049.740290</td>\n",
       "      <td>...</td>\n",
       "      <td>52121.00</td>\n",
       "      <td>97400.0</td>\n",
       "      <td>29144.0</td>\n",
       "      <td>4.066512e+03</td>\n",
       "      <td>4.458889e+03</td>\n",
       "      <td>0.00</td>\n",
       "      <td>8.780000e+02</td>\n",
       "      <td>2250.000</td>\n",
       "      <td>5.670000e+03</td>\n",
       "      <td>1.760000e+04</td>\n",
       "    </tr>\n",
       "    <tr>\n",
       "      <th>Obras</th>\n",
       "      <td>527.0</td>\n",
       "      <td>2.552401e+06</td>\n",
       "      <td>2.820271e+07</td>\n",
       "      <td>12021.0</td>\n",
       "      <td>62021.00</td>\n",
       "      <td>162021.0</td>\n",
       "      <td>412021.00</td>\n",
       "      <td>530042021.0</td>\n",
       "      <td>527.0</td>\n",
       "      <td>242033.007590</td>\n",
       "      <td>...</td>\n",
       "      <td>52121.00</td>\n",
       "      <td>96220.0</td>\n",
       "      <td>527.0</td>\n",
       "      <td>8.185571e+03</td>\n",
       "      <td>8.411252e+03</td>\n",
       "      <td>65.96</td>\n",
       "      <td>1.824140e+03</td>\n",
       "      <td>4690.000</td>\n",
       "      <td>1.285000e+04</td>\n",
       "      <td>3.298000e+04</td>\n",
       "    </tr>\n",
       "    <tr>\n",
       "      <th rowspan=\"2\" valign=\"top\">Inexigibilidade de Licitação</th>\n",
       "      <th rowspan=\"2\" valign=\"top\">1</th>\n",
       "      <th>Compras/Servicos</th>\n",
       "      <td>7098.0</td>\n",
       "      <td>1.442265e+07</td>\n",
       "      <td>9.197194e+07</td>\n",
       "      <td>12020.0</td>\n",
       "      <td>32021.00</td>\n",
       "      <td>92021.0</td>\n",
       "      <td>302021.00</td>\n",
       "      <td>954632021.0</td>\n",
       "      <td>7098.0</td>\n",
       "      <td>249477.213159</td>\n",
       "      <td>...</td>\n",
       "      <td>52121.00</td>\n",
       "      <td>97400.0</td>\n",
       "      <td>7098.0</td>\n",
       "      <td>1.550605e+06</td>\n",
       "      <td>2.515202e+07</td>\n",
       "      <td>0.01</td>\n",
       "      <td>2.305300e+03</td>\n",
       "      <td>10782.000</td>\n",
       "      <td>8.563152e+04</td>\n",
       "      <td>1.672397e+09</td>\n",
       "    </tr>\n",
       "    <tr>\n",
       "      <th>Obras</th>\n",
       "      <td>102.0</td>\n",
       "      <td>2.841139e+06</td>\n",
       "      <td>2.481778e+07</td>\n",
       "      <td>12021.0</td>\n",
       "      <td>22021.00</td>\n",
       "      <td>47021.0</td>\n",
       "      <td>132021.00</td>\n",
       "      <td>250162021.0</td>\n",
       "      <td>102.0</td>\n",
       "      <td>209600.264706</td>\n",
       "      <td>...</td>\n",
       "      <td>30802.00</td>\n",
       "      <td>63000.0</td>\n",
       "      <td>102.0</td>\n",
       "      <td>8.055013e+04</td>\n",
       "      <td>2.761753e+05</td>\n",
       "      <td>0.01</td>\n",
       "      <td>9.992500e+02</td>\n",
       "      <td>4230.570</td>\n",
       "      <td>1.921847e+04</td>\n",
       "      <td>2.152080e+06</td>\n",
       "    </tr>\n",
       "    <tr>\n",
       "      <th rowspan=\"2\" valign=\"top\">Pregão</th>\n",
       "      <th rowspan=\"2\" valign=\"top\">1</th>\n",
       "      <th>Compras/Servicos</th>\n",
       "      <td>7813.0</td>\n",
       "      <td>1.042952e+07</td>\n",
       "      <td>6.903551e+07</td>\n",
       "      <td>12013.0</td>\n",
       "      <td>52021.00</td>\n",
       "      <td>172021.0</td>\n",
       "      <td>622020.00</td>\n",
       "      <td>993712019.0</td>\n",
       "      <td>7813.0</td>\n",
       "      <td>621431.825291</td>\n",
       "      <td>...</td>\n",
       "      <td>94420.00</td>\n",
       "      <td>97400.0</td>\n",
       "      <td>7813.0</td>\n",
       "      <td>1.350010e+06</td>\n",
       "      <td>6.942012e+06</td>\n",
       "      <td>0.00</td>\n",
       "      <td>1.103000e+04</td>\n",
       "      <td>72925.750</td>\n",
       "      <td>3.717270e+05</td>\n",
       "      <td>2.243618e+08</td>\n",
       "    </tr>\n",
       "    <tr>\n",
       "      <th>Obras</th>\n",
       "      <td>882.0</td>\n",
       "      <td>8.900989e+06</td>\n",
       "      <td>5.330097e+07</td>\n",
       "      <td>12020.0</td>\n",
       "      <td>32021.00</td>\n",
       "      <td>102021.0</td>\n",
       "      <td>372020.75</td>\n",
       "      <td>469142021.0</td>\n",
       "      <td>882.0</td>\n",
       "      <td>394523.664399</td>\n",
       "      <td>...</td>\n",
       "      <td>52121.00</td>\n",
       "      <td>97400.0</td>\n",
       "      <td>882.0</td>\n",
       "      <td>1.762575e+06</td>\n",
       "      <td>5.904885e+06</td>\n",
       "      <td>0.00</td>\n",
       "      <td>4.809994e+04</td>\n",
       "      <td>245963.415</td>\n",
       "      <td>9.189452e+05</td>\n",
       "      <td>9.437908e+07</td>\n",
       "    </tr>\n",
       "    <tr>\n",
       "      <th rowspan=\"4\" valign=\"top\">Pregão - Registro de Preço</th>\n",
       "      <th rowspan=\"2\" valign=\"top\">0</th>\n",
       "      <th>Compras/Servicos</th>\n",
       "      <td>11076.0</td>\n",
       "      <td>9.728314e+06</td>\n",
       "      <td>7.961567e+07</td>\n",
       "      <td>12020.0</td>\n",
       "      <td>62021.00</td>\n",
       "      <td>182021.0</td>\n",
       "      <td>512020.00</td>\n",
       "      <td>993152019.0</td>\n",
       "      <td>11076.0</td>\n",
       "      <td>402005.075479</td>\n",
       "      <td>...</td>\n",
       "      <td>93120.00</td>\n",
       "      <td>97400.0</td>\n",
       "      <td>11076.0</td>\n",
       "      <td>5.773407e+04</td>\n",
       "      <td>1.602296e+05</td>\n",
       "      <td>0.00</td>\n",
       "      <td>0.000000e+00</td>\n",
       "      <td>4365.900</td>\n",
       "      <td>3.372169e+04</td>\n",
       "      <td>1.420000e+06</td>\n",
       "    </tr>\n",
       "    <tr>\n",
       "      <th>Obras</th>\n",
       "      <td>284.0</td>\n",
       "      <td>1.315787e+07</td>\n",
       "      <td>7.436590e+07</td>\n",
       "      <td>12020.0</td>\n",
       "      <td>52020.00</td>\n",
       "      <td>132020.0</td>\n",
       "      <td>354520.75</td>\n",
       "      <td>731542020.0</td>\n",
       "      <td>284.0</td>\n",
       "      <td>312274.637324</td>\n",
       "      <td>...</td>\n",
       "      <td>52121.00</td>\n",
       "      <td>97400.0</td>\n",
       "      <td>284.0</td>\n",
       "      <td>1.908540e+05</td>\n",
       "      <td>4.284592e+05</td>\n",
       "      <td>0.00</td>\n",
       "      <td>2.129175e+03</td>\n",
       "      <td>31376.000</td>\n",
       "      <td>1.285139e+05</td>\n",
       "      <td>3.120000e+06</td>\n",
       "    </tr>\n",
       "    <tr>\n",
       "      <th rowspan=\"2\" valign=\"top\">1</th>\n",
       "      <th>Compras/Servicos</th>\n",
       "      <td>277.0</td>\n",
       "      <td>5.601118e+06</td>\n",
       "      <td>5.683041e+07</td>\n",
       "      <td>12021.0</td>\n",
       "      <td>82021.00</td>\n",
       "      <td>282021.0</td>\n",
       "      <td>632020.00</td>\n",
       "      <td>900392021.0</td>\n",
       "      <td>277.0</td>\n",
       "      <td>503739.736462</td>\n",
       "      <td>...</td>\n",
       "      <td>94120.00</td>\n",
       "      <td>97400.0</td>\n",
       "      <td>277.0</td>\n",
       "      <td>4.208617e+09</td>\n",
       "      <td>6.982607e+10</td>\n",
       "      <td>1431500.00</td>\n",
       "      <td>2.065766e+06</td>\n",
       "      <td>3273660.000</td>\n",
       "      <td>8.011890e+06</td>\n",
       "      <td>1.162150e+12</td>\n",
       "    </tr>\n",
       "    <tr>\n",
       "      <th>Obras</th>\n",
       "      <td>17.0</td>\n",
       "      <td>2.443733e+05</td>\n",
       "      <td>2.075304e+05</td>\n",
       "      <td>12021.0</td>\n",
       "      <td>82020.00</td>\n",
       "      <td>182020.0</td>\n",
       "      <td>322021.00</td>\n",
       "      <td>732017.0</td>\n",
       "      <td>17.0</td>\n",
       "      <td>466077.411765</td>\n",
       "      <td>...</td>\n",
       "      <td>94120.00</td>\n",
       "      <td>97400.0</td>\n",
       "      <td>17.0</td>\n",
       "      <td>9.624715e+06</td>\n",
       "      <td>5.931800e+06</td>\n",
       "      <td>3520000.00</td>\n",
       "      <td>5.946625e+06</td>\n",
       "      <td>8466891.950</td>\n",
       "      <td>1.076700e+07</td>\n",
       "      <td>2.695750e+07</td>\n",
       "    </tr>\n",
       "    <tr>\n",
       "      <th rowspan=\"4\" valign=\"top\">Tomada de Preços</th>\n",
       "      <th rowspan=\"2\" valign=\"top\">0</th>\n",
       "      <th>Compras/Servicos</th>\n",
       "      <td>31.0</td>\n",
       "      <td>4.976258e+04</td>\n",
       "      <td>8.709016e+04</td>\n",
       "      <td>12020.0</td>\n",
       "      <td>12021.00</td>\n",
       "      <td>22021.0</td>\n",
       "      <td>42021.00</td>\n",
       "      <td>482020.0</td>\n",
       "      <td>31.0</td>\n",
       "      <td>219614.935484</td>\n",
       "      <td>...</td>\n",
       "      <td>52121.00</td>\n",
       "      <td>97120.0</td>\n",
       "      <td>31.0</td>\n",
       "      <td>2.297660e+05</td>\n",
       "      <td>4.352609e+05</td>\n",
       "      <td>0.00</td>\n",
       "      <td>5.803279e+04</td>\n",
       "      <td>102714.210</td>\n",
       "      <td>1.567267e+05</td>\n",
       "      <td>1.591122e+06</td>\n",
       "    </tr>\n",
       "    <tr>\n",
       "      <th>Obras</th>\n",
       "      <td>21.0</td>\n",
       "      <td>3.297286e+04</td>\n",
       "      <td>3.160765e+04</td>\n",
       "      <td>12019.0</td>\n",
       "      <td>12021.00</td>\n",
       "      <td>22021.0</td>\n",
       "      <td>32021.00</td>\n",
       "      <td>142020.0</td>\n",
       "      <td>21.0</td>\n",
       "      <td>251521.809524</td>\n",
       "      <td>...</td>\n",
       "      <td>52121.00</td>\n",
       "      <td>52131.0</td>\n",
       "      <td>21.0</td>\n",
       "      <td>1.129755e+05</td>\n",
       "      <td>9.550618e+04</td>\n",
       "      <td>0.00</td>\n",
       "      <td>0.000000e+00</td>\n",
       "      <td>150099.800</td>\n",
       "      <td>1.967886e+05</td>\n",
       "      <td>2.401067e+05</td>\n",
       "    </tr>\n",
       "    <tr>\n",
       "      <th rowspan=\"2\" valign=\"top\">1</th>\n",
       "      <th>Compras/Servicos</th>\n",
       "      <td>52.0</td>\n",
       "      <td>6.644340e+04</td>\n",
       "      <td>1.040439e+05</td>\n",
       "      <td>12019.0</td>\n",
       "      <td>12021.00</td>\n",
       "      <td>32020.0</td>\n",
       "      <td>64520.00</td>\n",
       "      <td>522020.0</td>\n",
       "      <td>52.0</td>\n",
       "      <td>228554.634615</td>\n",
       "      <td>...</td>\n",
       "      <td>52121.00</td>\n",
       "      <td>52131.0</td>\n",
       "      <td>52.0</td>\n",
       "      <td>5.474011e+05</td>\n",
       "      <td>3.499048e+05</td>\n",
       "      <td>176992.75</td>\n",
       "      <td>2.795192e+05</td>\n",
       "      <td>401240.760</td>\n",
       "      <td>8.320564e+05</td>\n",
       "      <td>1.303755e+06</td>\n",
       "    </tr>\n",
       "    <tr>\n",
       "      <th>Obras</th>\n",
       "      <td>20.0</td>\n",
       "      <td>4.052035e+04</td>\n",
       "      <td>3.558143e+04</td>\n",
       "      <td>12019.0</td>\n",
       "      <td>12021.00</td>\n",
       "      <td>32020.0</td>\n",
       "      <td>42020.25</td>\n",
       "      <td>132020.0</td>\n",
       "      <td>20.0</td>\n",
       "      <td>223784.950000</td>\n",
       "      <td>...</td>\n",
       "      <td>52111.00</td>\n",
       "      <td>52131.0</td>\n",
       "      <td>20.0</td>\n",
       "      <td>7.185772e+05</td>\n",
       "      <td>4.269313e+05</td>\n",
       "      <td>332717.18</td>\n",
       "      <td>4.219672e+05</td>\n",
       "      <td>482868.185</td>\n",
       "      <td>9.792962e+05</td>\n",
       "      <td>1.990524e+06</td>\n",
       "    </tr>\n",
       "  </tbody>\n",
       "</table>\n",
       "<p>27 rows × 48 columns</p>\n",
       "</div>"
      ],
      "text/plain": [
       "                                                      Número Licitação  \\\n",
       "                                                                 count   \n",
       "Modalidade Compra                Tag Tipo                                \n",
       "Concorrência                     0   Compras/Servicos             10.0   \n",
       "                                     Obras                         8.0   \n",
       "                                 1   Compras/Servicos             15.0   \n",
       "                                     Obras                         6.0   \n",
       "Concorrência - Registro de Preço 0   Compras/Servicos              3.0   \n",
       "                                     Obras                         1.0   \n",
       "Concurso                         1   Compras/Servicos              3.0   \n",
       "                                     Obras                         1.0   \n",
       "Convite                          0   Compras/Servicos              1.0   \n",
       "                                 1   Compras/Servicos              4.0   \n",
       "                                     Obras                         2.0   \n",
       "Dispensa de Licitação            0   Compras/Servicos           2966.0   \n",
       "                                     Obras                       137.0   \n",
       "                                 1   Compras/Servicos          29144.0   \n",
       "                                     Obras                       527.0   \n",
       "Inexigibilidade de Licitação     1   Compras/Servicos           7098.0   \n",
       "                                     Obras                       102.0   \n",
       "Pregão                           1   Compras/Servicos           7813.0   \n",
       "                                     Obras                       882.0   \n",
       "Pregão - Registro de Preço       0   Compras/Servicos          11076.0   \n",
       "                                     Obras                       284.0   \n",
       "                                 1   Compras/Servicos            277.0   \n",
       "                                     Obras                        17.0   \n",
       "Tomada de Preços                 0   Compras/Servicos             31.0   \n",
       "                                     Obras                        21.0   \n",
       "                                 1   Compras/Servicos             52.0   \n",
       "                                     Obras                        20.0   \n",
       "\n",
       "                                                                     \\\n",
       "                                                               mean   \n",
       "Modalidade Compra                Tag Tipo                             \n",
       "Concorrência                     0   Compras/Servicos  4.180201e+05   \n",
       "                                     Obras             2.826988e+04   \n",
       "                                 1   Compras/Servicos  3.535333e+04   \n",
       "                                     Obras             2.535350e+04   \n",
       "Concorrência - Registro de Preço 0   Compras/Servicos  2.202000e+04   \n",
       "                                     Obras             2.202000e+04   \n",
       "Concurso                         1   Compras/Servicos  1.535400e+04   \n",
       "                                     Obras             1.202000e+04   \n",
       "Convite                          0   Compras/Servicos  1.202100e+04   \n",
       "                                 1   Compras/Servicos  1.702025e+04   \n",
       "                                     Obras             1.202050e+04   \n",
       "Dispensa de Licitação            0   Compras/Servicos  1.067763e+07   \n",
       "                                     Obras             1.167618e+07   \n",
       "                                 1   Compras/Servicos  9.067363e+06   \n",
       "                                     Obras             2.552401e+06   \n",
       "Inexigibilidade de Licitação     1   Compras/Servicos  1.442265e+07   \n",
       "                                     Obras             2.841139e+06   \n",
       "Pregão                           1   Compras/Servicos  1.042952e+07   \n",
       "                                     Obras             8.900989e+06   \n",
       "Pregão - Registro de Preço       0   Compras/Servicos  9.728314e+06   \n",
       "                                     Obras             1.315787e+07   \n",
       "                                 1   Compras/Servicos  5.601118e+06   \n",
       "                                     Obras             2.443733e+05   \n",
       "Tomada de Preços                 0   Compras/Servicos  4.976258e+04   \n",
       "                                     Obras             3.297286e+04   \n",
       "                                 1   Compras/Servicos  6.644340e+04   \n",
       "                                     Obras             4.052035e+04   \n",
       "\n",
       "                                                                              \\\n",
       "                                                                std      min   \n",
       "Modalidade Compra                Tag Tipo                                      \n",
       "Concorrência                     0   Compras/Servicos  1.211080e+06  12020.0   \n",
       "                                     Obras             1.846817e+04  12020.0   \n",
       "                                 1   Compras/Servicos  5.080291e+04  12020.0   \n",
       "                                     Obras             1.751175e+04  12020.0   \n",
       "Concorrência - Registro de Preço 0   Compras/Servicos  1.000000e+04  12020.0   \n",
       "                                     Obras                      NaN  22020.0   \n",
       "Concurso                         1   Compras/Servicos  5.772925e+03  12021.0   \n",
       "                                     Obras                      NaN  12020.0   \n",
       "Convite                          0   Compras/Servicos           NaN  12021.0   \n",
       "                                 1   Compras/Servicos  9.999833e+03  12020.0   \n",
       "                                     Obras             7.071068e-01  12020.0   \n",
       "Dispensa de Licitação            0   Compras/Servicos  6.950292e+07  12020.0   \n",
       "                                     Obras             7.584801e+07  12021.0   \n",
       "                                 1   Compras/Servicos  6.538430e+07  12020.0   \n",
       "                                     Obras             2.820271e+07  12021.0   \n",
       "Inexigibilidade de Licitação     1   Compras/Servicos  9.197194e+07  12020.0   \n",
       "                                     Obras             2.481778e+07  12021.0   \n",
       "Pregão                           1   Compras/Servicos  6.903551e+07  12013.0   \n",
       "                                     Obras             5.330097e+07  12020.0   \n",
       "Pregão - Registro de Preço       0   Compras/Servicos  7.961567e+07  12020.0   \n",
       "                                     Obras             7.436590e+07  12020.0   \n",
       "                                 1   Compras/Servicos  5.683041e+07  12021.0   \n",
       "                                     Obras             2.075304e+05  12021.0   \n",
       "Tomada de Preços                 0   Compras/Servicos  8.709016e+04  12020.0   \n",
       "                                     Obras             3.160765e+04  12019.0   \n",
       "                                 1   Compras/Servicos  1.040439e+05  12019.0   \n",
       "                                     Obras             3.558143e+04  12019.0   \n",
       "\n",
       "                                                                           \\\n",
       "                                                            25%       50%   \n",
       "Modalidade Compra                Tag Tipo                                   \n",
       "Concorrência                     0   Compras/Servicos  12021.00   22020.0   \n",
       "                                     Obras             12020.00   22019.5   \n",
       "                                 1   Compras/Servicos  12020.00   12021.0   \n",
       "                                     Obras             12020.25   17020.5   \n",
       "Concorrência - Registro de Preço 0   Compras/Servicos  17020.00   22020.0   \n",
       "                                     Obras             22020.00   22020.0   \n",
       "Concurso                         1   Compras/Servicos  12021.00   12021.0   \n",
       "                                     Obras             12020.00   12020.0   \n",
       "Convite                          0   Compras/Servicos  12021.00   12021.0   \n",
       "                                 1   Compras/Servicos  12020.00   12020.5   \n",
       "                                     Obras             12020.25   12020.5   \n",
       "Dispensa de Licitação            0   Compras/Servicos  52021.00  182021.0   \n",
       "                                     Obras             32021.00   72021.0   \n",
       "                                 1   Compras/Servicos  82021.00  232021.0   \n",
       "                                     Obras             62021.00  162021.0   \n",
       "Inexigibilidade de Licitação     1   Compras/Servicos  32021.00   92021.0   \n",
       "                                     Obras             22021.00   47021.0   \n",
       "Pregão                           1   Compras/Servicos  52021.00  172021.0   \n",
       "                                     Obras             32021.00  102021.0   \n",
       "Pregão - Registro de Preço       0   Compras/Servicos  62021.00  182021.0   \n",
       "                                     Obras             52020.00  132020.0   \n",
       "                                 1   Compras/Servicos  82021.00  282021.0   \n",
       "                                     Obras             82020.00  182020.0   \n",
       "Tomada de Preços                 0   Compras/Servicos  12021.00   22021.0   \n",
       "                                     Obras             12021.00   22021.0   \n",
       "                                 1   Compras/Servicos  12021.00   32020.0   \n",
       "                                     Obras             12021.00   32020.0   \n",
       "\n",
       "                                                                               \\\n",
       "                                                             75%          max   \n",
       "Modalidade Compra                Tag Tipo                                       \n",
       "Concorrência                     0   Compras/Servicos   29520.75    3862019.0   \n",
       "                                     Obras              42020.00      62020.0   \n",
       "                                 1   Compras/Servicos   32017.50     192020.0   \n",
       "                                     Obras              37020.00      52020.0   \n",
       "Concorrência - Registro de Preço 0   Compras/Servicos   27020.00      32020.0   \n",
       "                                     Obras              22020.00      22020.0   \n",
       "Concurso                         1   Compras/Servicos   17020.50      22020.0   \n",
       "                                     Obras              12020.00      12020.0   \n",
       "Convite                          0   Compras/Servicos   12021.00      12021.0   \n",
       "                                 1   Compras/Servicos   17020.75      32020.0   \n",
       "                                     Obras              12020.75      12021.0   \n",
       "Dispensa de Licitação            0   Compras/Servicos  572021.00  901402021.0   \n",
       "                                     Obras             222021.00  600402021.0   \n",
       "                                 1   Compras/Servicos  542021.00  970832020.0   \n",
       "                                     Obras             412021.00  530042021.0   \n",
       "Inexigibilidade de Licitação     1   Compras/Servicos  302021.00  954632021.0   \n",
       "                                     Obras             132021.00  250162021.0   \n",
       "Pregão                           1   Compras/Servicos  622020.00  993712019.0   \n",
       "                                     Obras             372020.75  469142021.0   \n",
       "Pregão - Registro de Preço       0   Compras/Servicos  512020.00  993152019.0   \n",
       "                                     Obras             354520.75  731542020.0   \n",
       "                                 1   Compras/Servicos  632020.00  900392021.0   \n",
       "                                     Obras             322021.00     732017.0   \n",
       "Tomada de Preços                 0   Compras/Servicos   42021.00     482020.0   \n",
       "                                     Obras              32021.00     142020.0   \n",
       "                                 1   Compras/Servicos   64520.00     522020.0   \n",
       "                                     Obras              42020.25     132020.0   \n",
       "\n",
       "                                                      Código UG  \\\n",
       "                                                          count   \n",
       "Modalidade Compra                Tag Tipo                         \n",
       "Concorrência                     0   Compras/Servicos      10.0   \n",
       "                                     Obras                  8.0   \n",
       "                                 1   Compras/Servicos      15.0   \n",
       "                                     Obras                  6.0   \n",
       "Concorrência - Registro de Preço 0   Compras/Servicos       3.0   \n",
       "                                     Obras                  1.0   \n",
       "Concurso                         1   Compras/Servicos       3.0   \n",
       "                                     Obras                  1.0   \n",
       "Convite                          0   Compras/Servicos       1.0   \n",
       "                                 1   Compras/Servicos       4.0   \n",
       "                                     Obras                  2.0   \n",
       "Dispensa de Licitação            0   Compras/Servicos    2966.0   \n",
       "                                     Obras                137.0   \n",
       "                                 1   Compras/Servicos   29144.0   \n",
       "                                     Obras                527.0   \n",
       "Inexigibilidade de Licitação     1   Compras/Servicos    7098.0   \n",
       "                                     Obras                102.0   \n",
       "Pregão                           1   Compras/Servicos    7813.0   \n",
       "                                     Obras                882.0   \n",
       "Pregão - Registro de Preço       0   Compras/Servicos   11076.0   \n",
       "                                     Obras                284.0   \n",
       "                                 1   Compras/Servicos     277.0   \n",
       "                                     Obras                 17.0   \n",
       "Tomada de Preços                 0   Compras/Servicos      31.0   \n",
       "                                     Obras                 21.0   \n",
       "                                 1   Compras/Servicos      52.0   \n",
       "                                     Obras                 20.0   \n",
       "\n",
       "                                                                      ...  \\\n",
       "                                                                mean  ...   \n",
       "Modalidade Compra                Tag Tipo                             ...   \n",
       "Concorrência                     0   Compras/Servicos  241495.600000  ...   \n",
       "                                     Obras             190811.125000  ...   \n",
       "                                 1   Compras/Servicos  250147.066667  ...   \n",
       "                                     Obras             246366.666667  ...   \n",
       "Concorrência - Registro de Preço 0   Compras/Servicos  146437.333333  ...   \n",
       "                                     Obras             160176.000000  ...   \n",
       "Concurso                         1   Compras/Servicos  227036.333333  ...   \n",
       "                                     Obras             344002.000000  ...   \n",
       "Convite                          0   Compras/Servicos  160163.000000  ...   \n",
       "                                 1   Compras/Servicos  223450.500000  ...   \n",
       "                                     Obras             208566.000000  ...   \n",
       "Dispensa de Licitação            0   Compras/Servicos  228777.265003  ...   \n",
       "                                     Obras             237009.620438  ...   \n",
       "                                 1   Compras/Servicos  246049.740290  ...   \n",
       "                                     Obras             242033.007590  ...   \n",
       "Inexigibilidade de Licitação     1   Compras/Servicos  249477.213159  ...   \n",
       "                                     Obras             209600.264706  ...   \n",
       "Pregão                           1   Compras/Servicos  621431.825291  ...   \n",
       "                                     Obras             394523.664399  ...   \n",
       "Pregão - Registro de Preço       0   Compras/Servicos  402005.075479  ...   \n",
       "                                     Obras             312274.637324  ...   \n",
       "                                 1   Compras/Servicos  503739.736462  ...   \n",
       "                                     Obras             466077.411765  ...   \n",
       "Tomada de Preços                 0   Compras/Servicos  219614.935484  ...   \n",
       "                                     Obras             251521.809524  ...   \n",
       "                                 1   Compras/Servicos  228554.634615  ...   \n",
       "                                     Obras             223784.950000  ...   \n",
       "\n",
       "                                                      Código Órgão           \\\n",
       "                                                               75%      max   \n",
       "Modalidade Compra                Tag Tipo                                     \n",
       "Concorrência                     0   Compras/Servicos     52111.00  52131.0   \n",
       "                                     Obras                52121.00  52121.0   \n",
       "                                 1   Compras/Servicos     52121.00  53000.0   \n",
       "                                     Obras                52121.00  52131.0   \n",
       "Concorrência - Registro de Preço 0   Compras/Servicos     52116.00  52121.0   \n",
       "                                     Obras                52121.00  52121.0   \n",
       "Concurso                         1   Compras/Servicos     28248.00  30204.0   \n",
       "                                     Obras                26292.00  26292.0   \n",
       "Convite                          0   Compras/Servicos     52121.00  52121.0   \n",
       "                                 1   Compras/Servicos     52121.00  52121.0   \n",
       "                                     Obras                48090.75  52121.0   \n",
       "Dispensa de Licitação            0   Compras/Servicos     38550.50  96220.0   \n",
       "                                     Obras                36000.00  63000.0   \n",
       "                                 1   Compras/Servicos     52121.00  97400.0   \n",
       "                                     Obras                52121.00  96220.0   \n",
       "Inexigibilidade de Licitação     1   Compras/Servicos     52121.00  97400.0   \n",
       "                                     Obras                30802.00  63000.0   \n",
       "Pregão                           1   Compras/Servicos     94420.00  97400.0   \n",
       "                                     Obras                52121.00  97400.0   \n",
       "Pregão - Registro de Preço       0   Compras/Servicos     93120.00  97400.0   \n",
       "                                     Obras                52121.00  97400.0   \n",
       "                                 1   Compras/Servicos     94120.00  97400.0   \n",
       "                                     Obras                94120.00  97400.0   \n",
       "Tomada de Preços                 0   Compras/Servicos     52121.00  97120.0   \n",
       "                                     Obras                52121.00  52131.0   \n",
       "                                 1   Compras/Servicos     52121.00  52131.0   \n",
       "                                     Obras                52111.00  52131.0   \n",
       "\n",
       "                                                         Total                \\\n",
       "                                                         count          mean   \n",
       "Modalidade Compra                Tag Tipo                                      \n",
       "Concorrência                     0   Compras/Servicos     10.0  4.424555e+05   \n",
       "                                     Obras                 8.0  2.136792e+06   \n",
       "                                 1   Compras/Servicos     15.0  5.697094e+06   \n",
       "                                     Obras                 6.0  8.318206e+06   \n",
       "Concorrência - Registro de Preço 0   Compras/Servicos      3.0  0.000000e+00   \n",
       "                                     Obras                 1.0  0.000000e+00   \n",
       "Concurso                         1   Compras/Servicos      3.0  1.293018e+04   \n",
       "                                     Obras                 1.0  4.500000e+04   \n",
       "Convite                          0   Compras/Servicos      1.0  2.741322e+05   \n",
       "                                 1   Compras/Servicos      4.0  1.154178e+05   \n",
       "                                     Obras                 2.0  2.025828e+05   \n",
       "Dispensa de Licitação            0   Compras/Servicos   2966.0  3.269302e+06   \n",
       "                                     Obras               137.0  1.799213e+06   \n",
       "                                 1   Compras/Servicos  29144.0  4.066512e+03   \n",
       "                                     Obras               527.0  8.185571e+03   \n",
       "Inexigibilidade de Licitação     1   Compras/Servicos   7098.0  1.550605e+06   \n",
       "                                     Obras               102.0  8.055013e+04   \n",
       "Pregão                           1   Compras/Servicos   7813.0  1.350010e+06   \n",
       "                                     Obras               882.0  1.762575e+06   \n",
       "Pregão - Registro de Preço       0   Compras/Servicos  11076.0  5.773407e+04   \n",
       "                                     Obras               284.0  1.908540e+05   \n",
       "                                 1   Compras/Servicos    277.0  4.208617e+09   \n",
       "                                     Obras                17.0  9.624715e+06   \n",
       "Tomada de Preços                 0   Compras/Servicos     31.0  2.297660e+05   \n",
       "                                     Obras                21.0  1.129755e+05   \n",
       "                                 1   Compras/Servicos     52.0  5.474011e+05   \n",
       "                                     Obras                20.0  7.185772e+05   \n",
       "\n",
       "                                                                     \\\n",
       "                                                                std   \n",
       "Modalidade Compra                Tag Tipo                             \n",
       "Concorrência                     0   Compras/Servicos  3.411860e+05   \n",
       "                                     Obras             1.139094e+06   \n",
       "                                 1   Compras/Servicos  5.174291e+06   \n",
       "                                     Obras             3.742357e+06   \n",
       "Concorrência - Registro de Preço 0   Compras/Servicos  0.000000e+00   \n",
       "                                     Obras                      NaN   \n",
       "Concurso                         1   Compras/Servicos  7.803925e+03   \n",
       "                                     Obras                      NaN   \n",
       "Convite                          0   Compras/Servicos           NaN   \n",
       "                                 1   Compras/Servicos  6.389936e+04   \n",
       "                                     Obras             4.689995e+04   \n",
       "Dispensa de Licitação            0   Compras/Servicos  3.433755e+07   \n",
       "                                     Obras             5.976249e+06   \n",
       "                                 1   Compras/Servicos  4.458889e+03   \n",
       "                                     Obras             8.411252e+03   \n",
       "Inexigibilidade de Licitação     1   Compras/Servicos  2.515202e+07   \n",
       "                                     Obras             2.761753e+05   \n",
       "Pregão                           1   Compras/Servicos  6.942012e+06   \n",
       "                                     Obras             5.904885e+06   \n",
       "Pregão - Registro de Preço       0   Compras/Servicos  1.602296e+05   \n",
       "                                     Obras             4.284592e+05   \n",
       "                                 1   Compras/Servicos  6.982607e+10   \n",
       "                                     Obras             5.931800e+06   \n",
       "Tomada de Preços                 0   Compras/Servicos  4.352609e+05   \n",
       "                                     Obras             9.550618e+04   \n",
       "                                 1   Compras/Servicos  3.499048e+05   \n",
       "                                     Obras             4.269313e+05   \n",
       "\n",
       "                                                                   \\\n",
       "                                                              min   \n",
       "Modalidade Compra                Tag Tipo                           \n",
       "Concorrência                     0   Compras/Servicos        0.00   \n",
       "                                     Obras              347810.08   \n",
       "                                 1   Compras/Servicos  1869339.89   \n",
       "                                     Obras             4473329.19   \n",
       "Concorrência - Registro de Preço 0   Compras/Servicos        0.00   \n",
       "                                     Obras                   0.00   \n",
       "Concurso                         1   Compras/Servicos     4300.00   \n",
       "                                     Obras               45000.00   \n",
       "Convite                          0   Compras/Servicos   274132.22   \n",
       "                                 1   Compras/Servicos    33580.00   \n",
       "                                     Obras              169419.56   \n",
       "Dispensa de Licitação            0   Compras/Servicos    17610.47   \n",
       "                                     Obras               35469.00   \n",
       "                                 1   Compras/Servicos        0.00   \n",
       "                                     Obras                  65.96   \n",
       "Inexigibilidade de Licitação     1   Compras/Servicos        0.01   \n",
       "                                     Obras                   0.01   \n",
       "Pregão                           1   Compras/Servicos        0.00   \n",
       "                                     Obras                   0.00   \n",
       "Pregão - Registro de Preço       0   Compras/Servicos        0.00   \n",
       "                                     Obras                   0.00   \n",
       "                                 1   Compras/Servicos  1431500.00   \n",
       "                                     Obras             3520000.00   \n",
       "Tomada de Preços                 0   Compras/Servicos        0.00   \n",
       "                                     Obras                   0.00   \n",
       "                                 1   Compras/Servicos   176992.75   \n",
       "                                     Obras              332717.18   \n",
       "\n",
       "                                                                     \\\n",
       "                                                                25%   \n",
       "Modalidade Compra                Tag Tipo                             \n",
       "Concorrência                     0   Compras/Servicos  1.853392e+05   \n",
       "                                     Obras             1.753661e+06   \n",
       "                                 1   Compras/Servicos  2.464552e+06   \n",
       "                                     Obras             5.562165e+06   \n",
       "Concorrência - Registro de Preço 0   Compras/Servicos  0.000000e+00   \n",
       "                                     Obras             0.000000e+00   \n",
       "Concurso                         1   Compras/Servicos  9.650000e+03   \n",
       "                                     Obras             4.500000e+04   \n",
       "Convite                          0   Compras/Servicos  2.741322e+05   \n",
       "                                 1   Compras/Servicos  8.014538e+04   \n",
       "                                     Obras             1.860012e+05   \n",
       "Dispensa de Licitação            0   Compras/Servicos  3.252295e+04   \n",
       "                                     Obras             1.318560e+05   \n",
       "                                 1   Compras/Servicos  8.780000e+02   \n",
       "                                     Obras             1.824140e+03   \n",
       "Inexigibilidade de Licitação     1   Compras/Servicos  2.305300e+03   \n",
       "                                     Obras             9.992500e+02   \n",
       "Pregão                           1   Compras/Servicos  1.103000e+04   \n",
       "                                     Obras             4.809994e+04   \n",
       "Pregão - Registro de Preço       0   Compras/Servicos  0.000000e+00   \n",
       "                                     Obras             2.129175e+03   \n",
       "                                 1   Compras/Servicos  2.065766e+06   \n",
       "                                     Obras             5.946625e+06   \n",
       "Tomada de Preços                 0   Compras/Servicos  5.803279e+04   \n",
       "                                     Obras             0.000000e+00   \n",
       "                                 1   Compras/Servicos  2.795192e+05   \n",
       "                                     Obras             4.219672e+05   \n",
       "\n",
       "                                                                    \\\n",
       "                                                               50%   \n",
       "Modalidade Compra                Tag Tipo                            \n",
       "Concorrência                     0   Compras/Servicos   385700.000   \n",
       "                                     Obras             2503324.740   \n",
       "                                 1   Compras/Servicos  4173551.140   \n",
       "                                     Obras             7187929.850   \n",
       "Concorrência - Registro de Preço 0   Compras/Servicos        0.000   \n",
       "                                     Obras                   0.000   \n",
       "Concurso                         1   Compras/Servicos    15000.000   \n",
       "                                     Obras               45000.000   \n",
       "Convite                          0   Compras/Servicos   274132.220   \n",
       "                                 1   Compras/Servicos   130468.420   \n",
       "                                     Obras              202582.835   \n",
       "Dispensa de Licitação            0   Compras/Servicos    88027.500   \n",
       "                                     Obras              303984.040   \n",
       "                                 1   Compras/Servicos     2250.000   \n",
       "                                     Obras                4690.000   \n",
       "Inexigibilidade de Licitação     1   Compras/Servicos    10782.000   \n",
       "                                     Obras                4230.570   \n",
       "Pregão                           1   Compras/Servicos    72925.750   \n",
       "                                     Obras              245963.415   \n",
       "Pregão - Registro de Preço       0   Compras/Servicos     4365.900   \n",
       "                                     Obras               31376.000   \n",
       "                                 1   Compras/Servicos  3273660.000   \n",
       "                                     Obras             8466891.950   \n",
       "Tomada de Preços                 0   Compras/Servicos   102714.210   \n",
       "                                     Obras              150099.800   \n",
       "                                 1   Compras/Servicos   401240.760   \n",
       "                                     Obras              482868.185   \n",
       "\n",
       "                                                                     \\\n",
       "                                                                75%   \n",
       "Modalidade Compra                Tag Tipo                             \n",
       "Concorrência                     0   Compras/Servicos  7.359532e+05   \n",
       "                                     Obras             2.822162e+06   \n",
       "                                 1   Compras/Servicos  6.867271e+06   \n",
       "                                     Obras             1.121159e+07   \n",
       "Concorrência - Registro de Preço 0   Compras/Servicos  0.000000e+00   \n",
       "                                     Obras             0.000000e+00   \n",
       "Concurso                         1   Compras/Servicos  1.724527e+04   \n",
       "                                     Obras             4.500000e+04   \n",
       "Convite                          0   Compras/Servicos  2.741322e+05   \n",
       "                                 1   Compras/Servicos  1.657408e+05   \n",
       "                                     Obras             2.191645e+05   \n",
       "Dispensa de Licitação            0   Compras/Servicos  3.996757e+05   \n",
       "                                     Obras             1.046310e+06   \n",
       "                                 1   Compras/Servicos  5.670000e+03   \n",
       "                                     Obras             1.285000e+04   \n",
       "Inexigibilidade de Licitação     1   Compras/Servicos  8.563152e+04   \n",
       "                                     Obras             1.921847e+04   \n",
       "Pregão                           1   Compras/Servicos  3.717270e+05   \n",
       "                                     Obras             9.189452e+05   \n",
       "Pregão - Registro de Preço       0   Compras/Servicos  3.372169e+04   \n",
       "                                     Obras             1.285139e+05   \n",
       "                                 1   Compras/Servicos  8.011890e+06   \n",
       "                                     Obras             1.076700e+07   \n",
       "Tomada de Preços                 0   Compras/Servicos  1.567267e+05   \n",
       "                                     Obras             1.967886e+05   \n",
       "                                 1   Compras/Servicos  8.320564e+05   \n",
       "                                     Obras             9.792962e+05   \n",
       "\n",
       "                                                                     \n",
       "                                                                max  \n",
       "Modalidade Compra                Tag Tipo                            \n",
       "Concorrência                     0   Compras/Servicos  9.956000e+05  \n",
       "                                     Obras             3.221162e+06  \n",
       "                                 1   Compras/Servicos  2.160010e+07  \n",
       "                                     Obras             1.348700e+07  \n",
       "Concorrência - Registro de Preço 0   Compras/Servicos  0.000000e+00  \n",
       "                                     Obras             0.000000e+00  \n",
       "Concurso                         1   Compras/Servicos  1.949054e+04  \n",
       "                                     Obras             4.500000e+04  \n",
       "Convite                          0   Compras/Servicos  2.741322e+05  \n",
       "                                 1   Compras/Servicos  1.671543e+05  \n",
       "                                     Obras             2.357461e+05  \n",
       "Dispensa de Licitação            0   Compras/Servicos  1.305345e+09  \n",
       "                                     Obras             6.109862e+07  \n",
       "                                 1   Compras/Servicos  1.760000e+04  \n",
       "                                     Obras             3.298000e+04  \n",
       "Inexigibilidade de Licitação     1   Compras/Servicos  1.672397e+09  \n",
       "                                     Obras             2.152080e+06  \n",
       "Pregão                           1   Compras/Servicos  2.243618e+08  \n",
       "                                     Obras             9.437908e+07  \n",
       "Pregão - Registro de Preço       0   Compras/Servicos  1.420000e+06  \n",
       "                                     Obras             3.120000e+06  \n",
       "                                 1   Compras/Servicos  1.162150e+12  \n",
       "                                     Obras             2.695750e+07  \n",
       "Tomada de Preços                 0   Compras/Servicos  1.591122e+06  \n",
       "                                     Obras             2.401067e+05  \n",
       "                                 1   Compras/Servicos  1.303755e+06  \n",
       "                                     Obras             1.990524e+06  \n",
       "\n",
       "[27 rows x 48 columns]"
      ]
     },
     "execution_count": 132,
     "metadata": {},
     "output_type": "execute_result"
    }
   ],
   "source": [
    "lic_2021_com_tag.groupby(['Modalidade Compra','Tag', 'Tipo']).describe()"
   ]
  },
  {
   "cell_type": "code",
   "execution_count": null,
   "id": "edba3f18",
   "metadata": {},
   "outputs": [],
   "source": []
  }
 ],
 "metadata": {
  "kernelspec": {
   "display_name": "Python 3 (ipykernel)",
   "language": "python",
   "name": "python3"
  },
  "language_info": {
   "codemirror_mode": {
    "name": "ipython",
    "version": 3
   },
   "file_extension": ".py",
   "mimetype": "text/x-python",
   "name": "python",
   "nbconvert_exporter": "python",
   "pygments_lexer": "ipython3",
   "version": "3.9.7"
  }
 },
 "nbformat": 4,
 "nbformat_minor": 5
}
