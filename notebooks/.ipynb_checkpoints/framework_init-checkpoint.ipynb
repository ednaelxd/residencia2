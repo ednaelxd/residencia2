{
 "cells": [
  {
   "cell_type": "markdown",
   "id": "0428684c",
   "metadata": {},
   "source": [
    "# Importando e pré-processando os dados"
   ]
  },
  {
   "cell_type": "code",
   "execution_count": 2,
   "id": "621ac256",
   "metadata": {},
   "outputs": [],
   "source": [
    "import pandas as pd\n",
    "import glob\n",
    "import numpy as np"
   ]
  },
  {
   "cell_type": "markdown",
   "id": "e703d683",
   "metadata": {},
   "source": [
    "Os dados dessa base, costumam serem apresentados de forma mensal, fazendo-se necessário sua concatenação prévia para posterior análise dos dados. Para este trabalho, foram usados dados de Janeiro de 2018 até agosto de 2021\n",
    "\n",
    "Para este documento trabalharemos com a base já concatenada, no entanto, caso haja necessidade há uma função pronta neste diretório do github, podendo ser acessada via:\n",
    "\n",
    "- from functions import concatenador"
   ]
  },
  {
   "cell_type": "code",
   "execution_count": 5,
   "id": "790c0e0c",
   "metadata": {},
   "outputs": [],
   "source": [
    "df=pd.read_csv(r'C:\\Users\\efvs\\Documents\\Residencia Ednael\\Repositórios\\data_all.zip',compression='zip')"
   ]
  },
  {
   "cell_type": "code",
   "execution_count": 6,
   "id": "3d9b1d1c",
   "metadata": {},
   "outputs": [
    {
     "data": {
      "text/html": [
       "<div>\n",
       "<style scoped>\n",
       "    .dataframe tbody tr th:only-of-type {\n",
       "        vertical-align: middle;\n",
       "    }\n",
       "\n",
       "    .dataframe tbody tr th {\n",
       "        vertical-align: top;\n",
       "    }\n",
       "\n",
       "    .dataframe thead th {\n",
       "        text-align: right;\n",
       "    }\n",
       "</style>\n",
       "<table border=\"1\" class=\"dataframe\">\n",
       "  <thead>\n",
       "    <tr style=\"text-align: right;\">\n",
       "      <th></th>\n",
       "      <th>Unnamed: 0</th>\n",
       "      <th>Número Licitação</th>\n",
       "      <th>Código UG</th>\n",
       "      <th>Nome UG</th>\n",
       "      <th>Código Modalidade Compra</th>\n",
       "      <th>Modalidade Compra</th>\n",
       "      <th>Número Processo</th>\n",
       "      <th>Objeto</th>\n",
       "      <th>Situação Licitação</th>\n",
       "      <th>Código Órgão Superior</th>\n",
       "      <th>Nome Órgão Superior</th>\n",
       "      <th>Código Órgão</th>\n",
       "      <th>Nome Órgão</th>\n",
       "      <th>Município</th>\n",
       "      <th>Data Resultado Compra</th>\n",
       "      <th>Data Abertura</th>\n",
       "      <th>Total</th>\n",
       "    </tr>\n",
       "  </thead>\n",
       "  <tbody>\n",
       "    <tr>\n",
       "      <th>0</th>\n",
       "      <td>0</td>\n",
       "      <td>12018</td>\n",
       "      <td>120630</td>\n",
       "      <td>BASE AEREA DE DE MANAUS</td>\n",
       "      <td>3</td>\n",
       "      <td>Concorrência</td>\n",
       "      <td>67290015424201435</td>\n",
       "      <td>Objeto: Contratação de empresa de engenharia e...</td>\n",
       "      <td>Evento de Resultado de Julgame</td>\n",
       "      <td>52000</td>\n",
       "      <td>Ministério da Defesa</td>\n",
       "      <td>52111</td>\n",
       "      <td>Comando da Aeronáutica</td>\n",
       "      <td>MANAUS</td>\n",
       "      <td>19/07/2018</td>\n",
       "      <td>NaN</td>\n",
       "      <td>1063307.91</td>\n",
       "    </tr>\n",
       "    <tr>\n",
       "      <th>1</th>\n",
       "      <td>1</td>\n",
       "      <td>12018</td>\n",
       "      <td>153015</td>\n",
       "      <td>CENTRO FEDERAL DE EDUCACAO TECNOLOGICA DE MG</td>\n",
       "      <td>3</td>\n",
       "      <td>Concorrência</td>\n",
       "      <td>23062002056/18-26</td>\n",
       "      <td>Objeto: A presente Licitação tem como objeto a...</td>\n",
       "      <td>Evento de Resultado de Julgame</td>\n",
       "      <td>26000</td>\n",
       "      <td>Ministério da Educação</td>\n",
       "      <td>26257</td>\n",
       "      <td>Centro Federal de Educação Tecnológica de Min</td>\n",
       "      <td>BELO HORIZONTE</td>\n",
       "      <td>19/07/2018</td>\n",
       "      <td>NaN</td>\n",
       "      <td>689750.64</td>\n",
       "    </tr>\n",
       "    <tr>\n",
       "      <th>2</th>\n",
       "      <td>2</td>\n",
       "      <td>12018</td>\n",
       "      <td>153036</td>\n",
       "      <td>UNIVERSIDADE FED.VALES JEQUITINHONHA E MUCURI</td>\n",
       "      <td>-99</td>\n",
       "      <td>Pregão - Registro de Preço</td>\n",
       "      <td>23086000649201861</td>\n",
       "      <td>Objeto: Pregão Eletrônico -  Sistema de Regist...</td>\n",
       "      <td>Evento de Suspensão Publicado</td>\n",
       "      <td>26000</td>\n",
       "      <td>Ministério da Educação</td>\n",
       "      <td>26255</td>\n",
       "      <td>Universidade Federal dos Vales do Jequitinhon</td>\n",
       "      <td>DIAMANTINA</td>\n",
       "      <td>12/07/2018</td>\n",
       "      <td>19/06/2018</td>\n",
       "      <td>714.57</td>\n",
       "    </tr>\n",
       "    <tr>\n",
       "      <th>3</th>\n",
       "      <td>3</td>\n",
       "      <td>12018</td>\n",
       "      <td>160141</td>\n",
       "      <td>COMISSAO REGIONAL DE OBRAS DA 9ª RM</td>\n",
       "      <td>3</td>\n",
       "      <td>Concorrência</td>\n",
       "      <td>65328001557201858</td>\n",
       "      <td>Objeto: OBRA DE CONSTRUÇÃO DO PAVILHÃO COMPANH...</td>\n",
       "      <td>Evento de Resultado de Julgame</td>\n",
       "      <td>52000</td>\n",
       "      <td>Ministério da Defesa</td>\n",
       "      <td>52121</td>\n",
       "      <td>Comando do Exército</td>\n",
       "      <td>CAMPO GRANDE</td>\n",
       "      <td>23/07/2018</td>\n",
       "      <td>NaN</td>\n",
       "      <td>3241361.87</td>\n",
       "    </tr>\n",
       "    <tr>\n",
       "      <th>4</th>\n",
       "      <td>4</td>\n",
       "      <td>12018</td>\n",
       "      <td>200130</td>\n",
       "      <td>SUPERINTENDENCIA REG. POL. RODV. FEDERAL-SE</td>\n",
       "      <td>3</td>\n",
       "      <td>Concorrência</td>\n",
       "      <td>08672001011/2017-</td>\n",
       "      <td>Objeto: Contratação de empresa de engenharia p...</td>\n",
       "      <td>Evento de Alteração Publicado</td>\n",
       "      <td>30000</td>\n",
       "      <td>Ministério da Justiça e Segurança Pública</td>\n",
       "      <td>30802</td>\n",
       "      <td>Departamento de Polícia Rodoviária Federal</td>\n",
       "      <td>ARACAJU</td>\n",
       "      <td>18/07/2018</td>\n",
       "      <td>NaN</td>\n",
       "      <td>3222277.60</td>\n",
       "    </tr>\n",
       "  </tbody>\n",
       "</table>\n",
       "</div>"
      ],
      "text/plain": [
       "   Unnamed: 0  Número Licitação  Código UG  \\\n",
       "0           0             12018     120630   \n",
       "1           1             12018     153015   \n",
       "2           2             12018     153036   \n",
       "3           3             12018     160141   \n",
       "4           4             12018     200130   \n",
       "\n",
       "                                         Nome UG  Código Modalidade Compra  \\\n",
       "0                        BASE AEREA DE DE MANAUS                         3   \n",
       "1   CENTRO FEDERAL DE EDUCACAO TECNOLOGICA DE MG                         3   \n",
       "2  UNIVERSIDADE FED.VALES JEQUITINHONHA E MUCURI                       -99   \n",
       "3            COMISSAO REGIONAL DE OBRAS DA 9ª RM                         3   \n",
       "4    SUPERINTENDENCIA REG. POL. RODV. FEDERAL-SE                         3   \n",
       "\n",
       "            Modalidade Compra    Número Processo  \\\n",
       "0                Concorrência  67290015424201435   \n",
       "1                Concorrência  23062002056/18-26   \n",
       "2  Pregão - Registro de Preço  23086000649201861   \n",
       "3                Concorrência  65328001557201858   \n",
       "4                Concorrência  08672001011/2017-   \n",
       "\n",
       "                                              Objeto  \\\n",
       "0  Objeto: Contratação de empresa de engenharia e...   \n",
       "1  Objeto: A presente Licitação tem como objeto a...   \n",
       "2  Objeto: Pregão Eletrônico -  Sistema de Regist...   \n",
       "3  Objeto: OBRA DE CONSTRUÇÃO DO PAVILHÃO COMPANH...   \n",
       "4  Objeto: Contratação de empresa de engenharia p...   \n",
       "\n",
       "               Situação Licitação  Código Órgão Superior  \\\n",
       "0  Evento de Resultado de Julgame                  52000   \n",
       "1  Evento de Resultado de Julgame                  26000   \n",
       "2   Evento de Suspensão Publicado                  26000   \n",
       "3  Evento de Resultado de Julgame                  52000   \n",
       "4   Evento de Alteração Publicado                  30000   \n",
       "\n",
       "                         Nome Órgão Superior  Código Órgão  \\\n",
       "0                       Ministério da Defesa         52111   \n",
       "1                     Ministério da Educação         26257   \n",
       "2                     Ministério da Educação         26255   \n",
       "3                       Ministério da Defesa         52121   \n",
       "4  Ministério da Justiça e Segurança Pública         30802   \n",
       "\n",
       "                                      Nome Órgão       Município  \\\n",
       "0                         Comando da Aeronáutica          MANAUS   \n",
       "1  Centro Federal de Educação Tecnológica de Min  BELO HORIZONTE   \n",
       "2  Universidade Federal dos Vales do Jequitinhon      DIAMANTINA   \n",
       "3                            Comando do Exército    CAMPO GRANDE   \n",
       "4     Departamento de Polícia Rodoviária Federal         ARACAJU   \n",
       "\n",
       "  Data Resultado Compra Data Abertura       Total  \n",
       "0            19/07/2018           NaN  1063307.91  \n",
       "1            19/07/2018           NaN   689750.64  \n",
       "2            12/07/2018    19/06/2018      714.57  \n",
       "3            23/07/2018           NaN  3241361.87  \n",
       "4            18/07/2018           NaN  3222277.60  "
      ]
     },
     "execution_count": 6,
     "metadata": {},
     "output_type": "execute_result"
    }
   ],
   "source": [
    "df.head()"
   ]
  },
  {
   "cell_type": "code",
   "execution_count": 7,
   "id": "56efea43",
   "metadata": {},
   "outputs": [],
   "source": []
  },
  {
   "cell_type": "markdown",
   "id": "6892814e",
   "metadata": {},
   "source": [
    "# Feature Engineering\n",
    "\n",
    "- Adding information about the licitation type\n",
    "- Removing duplicated\n",
    "- Encoding"
   ]
  },
  {
   "cell_type": "code",
   "execution_count": 70,
   "id": "be0f244c",
   "metadata": {},
   "outputs": [],
   "source": [
    "import pandas as pd\n",
    "\n",
    "def importa_dados_zip(url):\n",
    "    \n",
    "    # url = link para o local onde os dados estão armazenados\n",
    "    df = pd.read_csv(url,compression='zip')\n",
    "    \n",
    "    # Deletando/criando coluna desnecessaria\n",
    "    del(df['Unnamed: 0'])\n",
    "    df['Tag'] = 0 #serah usado posteriormente, na fase de taguiamento\n",
    "    \n",
    "    # Ajustando nomes\n",
    "    df.rename(columns={'Data Resultado Compra':'data'},inplace=True)\n",
    "    \n",
    "    return (df)"
   ]
  },
  {
   "cell_type": "code",
   "execution_count": 71,
   "id": "e3a62d07",
   "metadata": {},
   "outputs": [],
   "source": [
    "df = importa_dados_zip(r'C:\\Users\\efvs\\Documents\\Residencia Ednael\\Repositórios\\data_all.zip')"
   ]
  },
  {
   "cell_type": "code",
   "execution_count": 29,
   "id": "24dff778",
   "metadata": {},
   "outputs": [],
   "source": [
    "def define_obra(data):\n",
    "    \n",
    "    result = data.Objeto.str.contains(\"OBRAS|OBRA|obras|obra|ENGENHARIA|engenharia|CONSTRU-CAO|constru-cao\", na=False)\n",
    "    \n",
    "    return (result.replace({True:'Obra',False:'Compras/Servicos'}))"
   ]
  },
  {
   "cell_type": "code",
   "execution_count": 73,
   "id": "27010914",
   "metadata": {},
   "outputs": [],
   "source": [
    "df['Obras'] = define_obra(df)"
   ]
  },
  {
   "cell_type": "markdown",
   "id": "5db60b23",
   "metadata": {},
   "source": [
    "First classification - Based on law <i>`Decreto nº 9.412, de 18 de Junho de 2018`"
   ]
  },
  {
   "cell_type": "code",
   "execution_count": 108,
   "id": "5cbbc1c7",
   "metadata": {},
   "outputs": [],
   "source": [
    "def classificador(aa):\n",
    "    \n",
    "    #dados no formato Numpy\n",
    "    \n",
    "    for linhas in aa:\n",
    "\n",
    "        #TAG'AMENTO DAS LICITACOES DDO TIPO: REGISTRO DE PRECO\n",
    "        if (linhas[4]=='Pregão - Registro de Preço' or linhas[4]=='Concorrência - Registro de Preço' or linhas[4]=='Concorrência')  and linhas[-3]>3300000 and linhas[-2]=='Obras':\n",
    "            linhas[-1] = 1 #EH LEGAL\n",
    "        if(linhas[4]=='Pregão - Registro de Preço')  and (linhas[-3] > 1430000) and (linhas[-2]=='Compras/Servicos'):\n",
    "            linhas[-1] = 1 #EH LEGAL\n",
    "            \n",
    "            \n",
    "        #TAG'AMENTO DAS LICITACOES DO TIPO: DISPENSA LICITACAO\n",
    "        if(linhas[4]=='Dispensa de Licitação')  and (linhas[-3] <= 33000) and (linhas[-2]=='Obras'):\n",
    "            linhas[-1] = 1 #EH LEGAL\n",
    "        if(linhas[4]=='Dispensa de Licitação')  and (linhas[-3] <= 17600) and (linhas[-2]=='Compras/Servicos'):\n",
    "            linhas[-1] = 1 #EH LEGAL\n",
    "            \n",
    "            \n",
    "        #TAG'AMENTO DAS LICITACOES DO TIPO: TOMADA DE PREÇOS\n",
    "        if(linhas[4]=='Tomada de Preços')  and (linhas[-3] > 330000 and linhas[-3] <= 3300000) and (linhas[-2]=='Obras'):\n",
    "            linhas[-1] = 1\n",
    "        if(linhas[4]=='Tomada de Preços')  and (linhas[-3] > 176000 and linhas[-3] <= 1400000) and (linhas[-2]=='Compras/Servicos'):\n",
    "            linhas[-1] = 1 #EH LEGAL\n",
    "            \n",
    "        #TAG'AMENTO DAS LICITACOES DO TIPO: CONVITE\n",
    "        if(linhas[4]=='Convite')  and (linhas[-3] > 17600 and linhas[-3] <= 176000) and (linhas[-2]=='Obras'):\n",
    "            linhas[-1] = 1 #EH LEGAL\n",
    "        if(linhas[4]=='Convite')  and (linhas[-3] > 33000 and linhas[-3] <= 330000) and (linhas[-2]=='Compras/Servicos'):\n",
    "            linhas[-1] = 1 #EH LEGAL\n",
    "            \n",
    "        #TAG'AMENTO DAS LICITACOES DO TIPO: PREGÃO | INEXIGIBILIDADE DE LICITAÇÃO | CONCURSO | CONCORRENCIA INTERNACIONAL\n",
    "        if(linhas[4]=='Pregão' or linhas[4]=='Inexigibilidade de Licitação' or linhas[4]=='Concurso' or linhas[4]=='Concorrência Internacional'):\n",
    "            linhas[-1]=1 #EH LEGAL\n",
    "    \n",
    "    return(aa)"
   ]
  },
  {
   "cell_type": "code",
   "execution_count": 111,
   "id": "5ddaddd1",
   "metadata": {},
   "outputs": [],
   "source": [
    "df_rotulado = pd.DataFrame(classificador(df2),columns=colunas)"
   ]
  },
  {
   "cell_type": "code",
   "execution_count": 114,
   "id": "f4f09e45",
   "metadata": {},
   "outputs": [
    {
     "data": {
      "text/plain": [
       "1    406195\n",
       "0     94011\n",
       "Name: Tag, dtype: int64"
      ]
     },
     "execution_count": 114,
     "metadata": {},
     "output_type": "execute_result"
    }
   ],
   "source": [
    "df_rotulado['Tag'].value_counts()"
   ]
  },
  {
   "cell_type": "code",
   "execution_count": 115,
   "id": "a51c8265",
   "metadata": {},
   "outputs": [],
   "source": [
    "df_rotulado.to_csv('../data/dados_taguiados.csv')"
   ]
  },
  {
   "cell_type": "code",
   "execution_count": 93,
   "id": "48f6e0b3",
   "metadata": {},
   "outputs": [],
   "source": [
    "import framework_00"
   ]
  },
  {
   "cell_type": "code",
   "execution_count": null,
   "id": "70b8454b",
   "metadata": {},
   "outputs": [],
   "source": []
  }
 ],
 "metadata": {
  "kernelspec": {
   "display_name": "Python 3 (ipykernel)",
   "language": "python",
   "name": "python3"
  },
  "language_info": {
   "codemirror_mode": {
    "name": "ipython",
    "version": 3
   },
   "file_extension": ".py",
   "mimetype": "text/x-python",
   "name": "python",
   "nbconvert_exporter": "python",
   "pygments_lexer": "ipython3",
   "version": "3.9.7"
  }
 },
 "nbformat": 4,
 "nbformat_minor": 5
}
