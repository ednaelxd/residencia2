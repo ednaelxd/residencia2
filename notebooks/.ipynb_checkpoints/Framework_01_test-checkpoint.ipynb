{
 "cells": [
  {
   "cell_type": "code",
   "execution_count": 1,
   "id": "7a4f0994",
   "metadata": {},
   "outputs": [],
   "source": [
    "import pandas as pd\n",
    "import numpy as np \n",
    "import glob"
   ]
  },
  {
   "cell_type": "markdown",
   "id": "d563a7ff",
   "metadata": {},
   "source": [
    "# Defininddo Funções"
   ]
  },
  {
   "cell_type": "code",
   "execution_count": 2,
   "id": "59cdafed",
   "metadata": {},
   "outputs": [],
   "source": [
    "def importa_dados_participantes(url): \n",
    "    \n",
    "    # url = link para o local onde os dados estão armazenados\n",
    "    df = pd.read_csv(url,compression='zip')\n",
    "    \n",
    "    # Deletando/criando coluna desnecessaria\n",
    "    df.drop(columns=['Nome UG', 'Modalidade Compra','Nome Órgão','Código Item Compra','Código UG', 'Código Modalidade Compra', 'Código Órgão'], axis=1, inplace=True)\n",
    "    \n",
    "    return (df)"
   ]
  },
  {
   "cell_type": "code",
   "execution_count": 3,
   "id": "29f4e721",
   "metadata": {},
   "outputs": [],
   "source": [
    "def imparta_dados_taguiados():\n",
    "    # importando os dados do framework_00\n",
    "    from framework_00 import df\n",
    "    df_tag = df\n",
    "    \n",
    "    # Deletando/criando coluna desnecessaria\n",
    "    df_tag.drop(columns=['Unnamed: 0','Nome UG','Modalidade Compra','Objeto','Situação Licitação','Código Órgão Superior','Nome Órgão Superior','Código Órgão','Município','data','Data Abertura','Total','Tipo','Código Modalidade Compra','Código UG'], axis=1, inplace=True)\n",
    "    \n",
    "    return (df_tag)"
   ]
  },
  {
   "cell_type": "code",
   "execution_count": 4,
   "id": "2f1e44f3",
   "metadata": {},
   "outputs": [],
   "source": [
    "def merge_dados_taguiados(df_part , df_tag):\n",
    "    # Aplicando o merge nos dataframes\n",
    "    m = pd.merge(df_tag, df, how = 'inner', on = ('Número Processo','Número Licitação'))\n",
    "    \n",
    "    # Retirando dados nulos\n",
    "    m = m.dropna()\n",
    "    \n",
    "    # criando dataframe com os dados fraudulentos\n",
    "    df_0 = m[m[\"Tag\"]==0] \n",
    "    \n",
    "    return (m, df_0)"
   ]
  },
  {
   "cell_type": "code",
   "execution_count": 5,
   "id": "594ff9b7",
   "metadata": {},
   "outputs": [],
   "source": [
    "def analise_exploratória(df_0):\n",
    "    # Número de participantes\n",
    "    n_part = len(df_0[\"CNPJ Participante\"].unique())\n",
    "    \n",
    "    # Número de empresas vencedoras\n",
    "    n_venc = len(df_0[df_0[\"Flag Vencedor\"]== \"SIM\"][\"CNPJ Participante\"].unique())\n",
    "    \n",
    "    # Número de processos e licitações fraudulentas\n",
    "    n_proc = len(df_0[\"Número Processo\"].unique())\n",
    "    n_lic = len(df_0[\"Número Licitação\"].unique())\n",
    "    \n",
    "    # Número de itens diferentes\n",
    "    n_itens = len(df_0[\"Descrição Item Compra\"].unique())\n",
    "    \n",
    "    return (n_part, n_venc, n_proc, n_lic, n_itens)"
   ]
  },
  {
   "cell_type": "code",
   "execution_count": 6,
   "id": "5a307c85",
   "metadata": {},
   "outputs": [],
   "source": [
    "def list_part_itens(df_0):\n",
    "    # Participantes com maior número de participações em licitações fraudulentas\n",
    "    print(\"Participantes com maior número de participações em licitações fraudulentas: \\n\")\n",
    "    print(df_0.loc[:,[\"CNPJ Participante\" , \"Nome Participante\"]].value_counts().head(10))\n",
    "    \n",
    "    # Participantes com maior número de vitórias em licitações fraudulentas\n",
    "    print(\"Participantes com maior número de vitórias em licitações fraudulentas: \\n\")\n",
    "    print(df_0[df_0[\"Flag Vencedor\"]== 'SIM'].loc[:,[\"CNPJ Participante\" , \"Nome Participante\"]].value_counts().head(10))\n",
    "    \n",
    "    # Itens com maior número de aparições em licitações fraudulentas\n",
    "    print(\"Itens com maior número de aparições em licitações fraudulentas: \\n\")\n",
    "    print(df_0[df_0[\"Flag Vencedor\"]== 'SIM'].loc[:,[\"Descrição Item Compra\"]].value_counts().head(10))\n",
    "    \n",
    "    # Orgão com maior número de processos fraudulentos\n",
    "    print(\"Orgão com maior número de processos fraudulentos: \\n\")\n",
    "    print(df_0[df_0[\"Flag Vencedor\"]== 'SIM'].loc[:,[\"Nome Órgão\"]].value_counts().head(10))"
   ]
  },
  {
   "cell_type": "markdown",
   "id": "2fe24e92",
   "metadata": {},
   "source": [
    "Saber se boto uma variavel para o usuário definir o número de instancias que quer ser visto"
   ]
  },
  {
   "cell_type": "markdown",
   "id": "61e3f5e8",
   "metadata": {},
   "source": [
    "# Testando as funções para o framework"
   ]
  },
  {
   "cell_type": "markdown",
   "id": "5c814f4c",
   "metadata": {},
   "source": [
    "fazer os testes das funções aqui e depois fazer o arquivo .py, ajustar os prints e alinhar com ednael "
   ]
  },
  {
   "cell_type": "code",
   "execution_count": null,
   "id": "ff0883f0",
   "metadata": {},
   "outputs": [],
   "source": []
  }
 ],
 "metadata": {
  "kernelspec": {
   "display_name": "Python 3",
   "language": "python",
   "name": "python3"
  },
  "language_info": {
   "codemirror_mode": {
    "name": "ipython",
    "version": 3
   },
   "file_extension": ".py",
   "mimetype": "text/x-python",
   "name": "python",
   "nbconvert_exporter": "python",
   "pygments_lexer": "ipython3",
   "version": "3.8.8"
  }
 },
 "nbformat": 4,
 "nbformat_minor": 5
}
