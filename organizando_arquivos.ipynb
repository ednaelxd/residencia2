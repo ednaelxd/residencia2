{
 "cells": [
  {
   "cell_type": "code",
   "execution_count": 1,
   "id": "a5873ec1",
   "metadata": {},
   "outputs": [],
   "source": [
    "import pandas as pd\n",
    "import numpy as np\n",
    "from matplotlib import pyplot as plt\n",
    "import glob"
   ]
  },
  {
   "cell_type": "code",
   "execution_count": 2,
   "id": "f31a0712",
   "metadata": {},
   "outputs": [],
   "source": [
    "path = r'C:\\Users\\ednae\\Documents\\DS\\Dados\\Despesas públicas\\2014'\n",
    "filenames = glob.glob(path + \"/*.csv\")\n",
    "\n",
    "li= []\n",
    "\n",
    "for filename in filenames:\n",
    "    df = pd.read_csv(filename, index_col=None, header=0, encoding='latin-1',sep=';',decimal=',')\n",
    "    li.append(df)\n",
    "\n",
    "df_2014 = pd.concat(li, axis=0, ignore_index=True)"
   ]
  },
  {
   "cell_type": "code",
   "execution_count": 6,
   "id": "fff56cef",
   "metadata": {
    "scrolled": true
   },
   "outputs": [
    {
     "data": {
      "text/plain": [
       "(10283456, 12)"
      ]
     },
     "execution_count": 6,
     "metadata": {},
     "output_type": "execute_result"
    }
   ],
   "source": [
    "df_2014.shape"
   ]
  },
  {
   "cell_type": "code",
   "execution_count": 7,
   "id": "d94c3d10",
   "metadata": {},
   "outputs": [],
   "source": [
    "path = r'C:\\Users\\ednae\\Documents\\DS\\Dados\\Despesas públicas\\2015'\n",
    "filenames = glob.glob(path + \"/*.csv\")\n",
    "\n",
    "li= []\n",
    "\n",
    "for filename in filenames:\n",
    "    df = pd.read_csv(filename, index_col=None, header=0, encoding='latin-1',sep=';',decimal=',')\n",
    "    li.append(df)\n",
    "\n",
    "df_2015 = pd.concat(li, axis=0, ignore_index=True)"
   ]
  },
  {
   "cell_type": "code",
   "execution_count": 8,
   "id": "b6317532",
   "metadata": {},
   "outputs": [],
   "source": [
    "path = r'C:\\Users\\ednae\\Documents\\DS\\Dados\\Despesas públicas\\2016'\n",
    "filenames = glob.glob(path + \"/*.csv\")\n",
    "\n",
    "li= []\n",
    "\n",
    "for filename in filenames:\n",
    "    df = pd.read_csv(filename, index_col=None, header=0, encoding='latin-1',sep=';',decimal=',')\n",
    "    li.append(df)\n",
    "\n",
    "df_2016 = pd.concat(li, axis=0, ignore_index=True)"
   ]
  },
  {
   "cell_type": "code",
   "execution_count": 12,
   "id": "bd03448f",
   "metadata": {},
   "outputs": [],
   "source": [
    "path = r'C:\\Users\\ednae\\Documents\\DS\\Dados\\Despesas públicas\\2017'\n",
    "filenames = glob.glob(path + \"/*.csv\")\n",
    "\n",
    "li= []\n",
    "\n",
    "for filename in filenames:\n",
    "    df = pd.read_csv(filename, index_col=None, header=0, encoding='latin-1',sep=';',decimal=',')\n",
    "    li.append(df)\n",
    "\n",
    "df_2017 = pd.concat(li, axis=0, ignore_index=True)"
   ]
  },
  {
   "cell_type": "code",
   "execution_count": 13,
   "id": "0505e95c",
   "metadata": {},
   "outputs": [],
   "source": [
    "path = r'C:\\Users\\ednae\\Documents\\DS\\Dados\\Despesas públicas\\2018'\n",
    "filenames = glob.glob(path + \"/*.csv\")\n",
    "\n",
    "li= []\n",
    "\n",
    "for filename in filenames:\n",
    "    df = pd.read_csv(filename, index_col=None, header=0, encoding='latin-1',sep=';',decimal=',')\n",
    "    li.append(df)\n",
    "\n",
    "df_2018 = pd.concat(li, axis=0, ignore_index=True)"
   ]
  },
  {
   "cell_type": "code",
   "execution_count": 14,
   "id": "2f023e5c",
   "metadata": {},
   "outputs": [],
   "source": [
    "path = r'C:\\Users\\ednae\\Documents\\DS\\Dados\\Despesas públicas\\2019'\n",
    "filenames = glob.glob(path + \"/*.csv\")\n",
    "\n",
    "li= []\n",
    "\n",
    "for filename in filenames:\n",
    "    df = pd.read_csv(filename, index_col=None, header=0, encoding='latin-1',sep=';',decimal=',')\n",
    "    li.append(df)\n",
    "\n",
    "df_2019 = pd.concat(li, axis=0, ignore_index=True)"
   ]
  },
  {
   "cell_type": "code",
   "execution_count": 15,
   "id": "e588ef51",
   "metadata": {},
   "outputs": [
    {
     "data": {
      "text/plain": [
       "(10103599, 12)"
      ]
     },
     "execution_count": 15,
     "metadata": {},
     "output_type": "execute_result"
    }
   ],
   "source": [
    "df_2019.shape"
   ]
  },
  {
   "cell_type": "code",
   "execution_count": 16,
   "id": "e8dda309",
   "metadata": {},
   "outputs": [],
   "source": [
    "path = r'C:\\Users\\ednae\\Documents\\DS\\Dados\\Despesas públicas\\2020'\n",
    "filenames = glob.glob(path + \"/*.csv\")\n",
    "\n",
    "li= []\n",
    "\n",
    "for filename in filenames:\n",
    "    df = pd.read_csv(filename, index_col=None, header=0, encoding='latin-1',sep=';',decimal=',')\n",
    "    li.append(df)\n",
    "\n",
    "df_2020 = pd.concat(li, axis=0, ignore_index=True)"
   ]
  },
  {
   "cell_type": "code",
   "execution_count": 17,
   "id": "189a8c63",
   "metadata": {},
   "outputs": [],
   "source": [
    "path = r'C:\\Users\\ednae\\Documents\\DS\\Dados\\Despesas públicas\\2021'\n",
    "filenames = glob.glob(path + \"/*.csv\")\n",
    "\n",
    "li= []\n",
    "\n",
    "for filename in filenames:\n",
    "    df = pd.read_csv(filename, index_col=None, header=0, encoding='latin-1',sep=';',decimal=',')\n",
    "    li.append(df)\n",
    "\n",
    "df_2021 = pd.concat(li, axis=0, ignore_index=True)"
   ]
  },
  {
   "cell_type": "code",
   "execution_count": 18,
   "id": "5a588f3d",
   "metadata": {},
   "outputs": [],
   "source": [
    "df_2014.to_csv(\"data2014.csv\")"
   ]
  },
  {
   "cell_type": "code",
   "execution_count": 19,
   "id": "2c988f3e",
   "metadata": {},
   "outputs": [],
   "source": [
    "df_2015.to_csv(\"data2015.csv\")"
   ]
  },
  {
   "cell_type": "code",
   "execution_count": 20,
   "id": "bf9f840a",
   "metadata": {},
   "outputs": [],
   "source": [
    "df_2016.to_csv(\"data2016.csv\")"
   ]
  },
  {
   "cell_type": "code",
   "execution_count": 21,
   "id": "5cc283c6",
   "metadata": {},
   "outputs": [],
   "source": [
    "df_2017.to_csv(\"data2017.csv\")"
   ]
  },
  {
   "cell_type": "code",
   "execution_count": 22,
   "id": "1e71776c",
   "metadata": {},
   "outputs": [],
   "source": [
    "df_2018.to_csv(\"data2018.csv\")"
   ]
  },
  {
   "cell_type": "code",
   "execution_count": 23,
   "id": "7055a956",
   "metadata": {},
   "outputs": [],
   "source": [
    "df_2019.to_csv(\"data2019.csv\")"
   ]
  },
  {
   "cell_type": "code",
   "execution_count": 24,
   "id": "e738d42c",
   "metadata": {},
   "outputs": [],
   "source": [
    "df_2020.to_csv(\"data2020.csv\")"
   ]
  },
  {
   "cell_type": "code",
   "execution_count": 25,
   "id": "91e64ab3",
   "metadata": {},
   "outputs": [],
   "source": [
    "df_2021.to_csv(\"data2021.csv\")"
   ]
  },
  {
   "cell_type": "code",
   "execution_count": null,
   "id": "9636c4ce",
   "metadata": {},
   "outputs": [],
   "source": []
  }
 ],
 "metadata": {
  "kernelspec": {
   "display_name": "Python 3 (ipykernel)",
   "language": "python",
   "name": "python3"
  },
  "language_info": {
   "codemirror_mode": {
    "name": "ipython",
    "version": 3
   },
   "file_extension": ".py",
   "mimetype": "text/x-python",
   "name": "python",
   "nbconvert_exporter": "python",
   "pygments_lexer": "ipython3",
   "version": "3.9.7"
  }
 },
 "nbformat": 4,
 "nbformat_minor": 5
}
