{
 "cells": [
  {
   "cell_type": "code",
   "execution_count": 2,
   "id": "d450959c",
   "metadata": {},
   "outputs": [],
   "source": [
    "import pandas as pd"
   ]
  },
  {
   "cell_type": "markdown",
   "id": "b4efef34",
   "metadata": {},
   "source": [
    "### Importação"
   ]
  },
  {
   "cell_type": "code",
   "execution_count": 3,
   "id": "11d8f113",
   "metadata": {},
   "outputs": [],
   "source": [
    "df_2014=pd.read_csv(r\"C:\\Users\\ednae\\Documents\\DS\\Residencia II\\Dados\\Despesas públicas\\Agrupados\\data2014.csv\")\n",
    "df_2015=pd.read_csv(r\"C:\\Users\\ednae\\Documents\\DS\\Residencia II\\Dados\\Despesas públicas\\Agrupados\\data2015.csv\")\n",
    "df_2016=pd.read_csv(r\"C:\\Users\\ednae\\Documents\\DS\\Residencia II\\Dados\\Despesas públicas\\Agrupados\\data2016.csv\")\n",
    "df_2017=pd.read_csv(r\"C:\\Users\\ednae\\Documents\\DS\\Residencia II\\Dados\\Despesas públicas\\Agrupados\\data2017.csv\")\n",
    "df_2018=pd.read_csv(r\"C:\\Users\\ednae\\Documents\\DS\\Residencia II\\Dados\\Despesas públicas\\Agrupados\\data2018.csv\")\n",
    "df_2019=pd.read_csv(r\"C:\\Users\\ednae\\Documents\\DS\\Residencia II\\Dados\\Despesas públicas\\Agrupados\\data2019.csv\")\n",
    "df_2020=pd.read_csv(r\"C:\\Users\\ednae\\Documents\\DS\\Residencia II\\Dados\\Despesas públicas\\Agrupados\\data2020.csv\")\n",
    "df_2021=pd.read_csv(r\"C:\\Users\\ednae\\Documents\\DS\\Residencia II\\Dados\\Despesas públicas\\Agrupados\\data2021.csv\")"
   ]
  },
  {
   "cell_type": "markdown",
   "id": "751a8647",
   "metadata": {},
   "source": [
    "### Coleta dos órgãos que mais se repetem"
   ]
  },
  {
   "cell_type": "code",
   "execution_count": 4,
   "id": "4d391af7",
   "metadata": {},
   "outputs": [],
   "source": [
    "freq14=pd.DataFrame(df_2014['Nome Órgão Superior'].value_counts())\n",
    "freq15=pd.DataFrame(df_2015['Nome Órgão Superior'].value_counts())\n",
    "freq16=pd.DataFrame(df_2016['Nome Órgão Superior'].value_counts())\n",
    "freq17=pd.DataFrame(df_2017['Nome Órgão Superior'].value_counts())\n",
    "freq18=pd.DataFrame(df_2018['Nome Órgão Superior'].value_counts())\n",
    "freq19=pd.DataFrame(df_2019['Nome Órgão Superior'].value_counts())\n",
    "freq20=pd.DataFrame(df_2020['Nome Órgão Superior'].value_counts())\n",
    "freq21=pd.DataFrame(df_2021['Nome Órgão Superior'].value_counts())"
   ]
  },
  {
   "cell_type": "code",
   "execution_count": 5,
   "id": "641003fd",
   "metadata": {},
   "outputs": [],
   "source": [
    "freq_geral=pd.concat([freq14,freq15,freq16,freq17,freq18,freq19,freq20,freq21],axis=1)"
   ]
  },
  {
   "cell_type": "code",
   "execution_count": 6,
   "id": "868cd536",
   "metadata": {},
   "outputs": [],
   "source": [
    "del(freq14,freq15,freq16,freq17,freq18,freq19,freq20,freq21)"
   ]
  },
  {
   "cell_type": "code",
   "execution_count": 7,
   "id": "64138ea1",
   "metadata": {},
   "outputs": [],
   "source": [
    "principais=freq_geral.index\n",
    "principais=principais[0:9]\n",
    "principais=list(principais)"
   ]
  },
  {
   "cell_type": "markdown",
   "id": "0aab9780",
   "metadata": {},
   "source": [
    "#### Checagem do tamanho antes do slice"
   ]
  },
  {
   "cell_type": "code",
   "execution_count": 8,
   "id": "f635a7d9",
   "metadata": {},
   "outputs": [
    {
     "data": {
      "text/plain": [
       "'print(df_2014.shape,\\n     df_2015.shape,\\n     df_2016.shape,\\n     df_2017.shape,\\n     df_2018.shape,\\n     df_2019.shape,\\n     df_2020.shape,\\n     df_2021.shape)'"
      ]
     },
     "execution_count": 8,
     "metadata": {},
     "output_type": "execute_result"
    }
   ],
   "source": [
    "'''print(df_2014.shape,\n",
    "     df_2015.shape,\n",
    "     df_2016.shape,\n",
    "     df_2017.shape,\n",
    "     df_2018.shape,\n",
    "     df_2019.shape,\n",
    "     df_2020.shape,\n",
    "     df_2021.shape)'''"
   ]
  },
  {
   "cell_type": "markdown",
   "id": "2a389267",
   "metadata": {},
   "source": [
    "### Fatiamento"
   ]
  },
  {
   "cell_type": "code",
   "execution_count": 9,
   "id": "9a2910f3",
   "metadata": {},
   "outputs": [],
   "source": [
    "df_2014['eh_principal']=df_2014['Nome Órgão Superior'].apply(lambda x:x in principais)\n",
    "df_2015['eh_principal']=df_2015['Nome Órgão Superior'].apply(lambda x:x in principais)\n",
    "df_2016['eh_principal']=df_2016['Nome Órgão Superior'].apply(lambda x:x in principais)\n",
    "df_2017['eh_principal']=df_2017['Nome Órgão Superior'].apply(lambda x:x in principais)\n",
    "df_2018['eh_principal']=df_2018['Nome Órgão Superior'].apply(lambda x:x in principais)\n",
    "df_2019['eh_principal']=df_2019['Nome Órgão Superior'].apply(lambda x:x in principais)\n",
    "df_2020['eh_principal']=df_2020['Nome Órgão Superior'].apply(lambda x:x in principais)\n",
    "df_2021['eh_principal']=df_2021['Nome Órgão Superior'].apply(lambda x:x in principais)"
   ]
  },
  {
   "cell_type": "code",
   "execution_count": 10,
   "id": "a04485e1",
   "metadata": {},
   "outputs": [],
   "source": [
    "df_2014=df_2014[df_2014['eh_principal']==True]\n",
    "df_2015=df_2015[df_2015['eh_principal']==True]\n",
    "df_2016=df_2016[df_2016['eh_principal']==True]\n",
    "df_2017=df_2017[df_2017['eh_principal']==True]\n",
    "df_2018=df_2018[df_2018['eh_principal']==True]\n",
    "df_2019=df_2019[df_2019['eh_principal']==True]\n",
    "df_2020=df_2020[df_2020['eh_principal']==True]\n",
    "df_2021=df_2021[df_2021['eh_principal']==True]"
   ]
  },
  {
   "cell_type": "markdown",
   "id": "5ab9337c",
   "metadata": {},
   "source": [
    "#### Tamanho após o slice"
   ]
  },
  {
   "cell_type": "code",
   "execution_count": 11,
   "id": "e25bb550",
   "metadata": {},
   "outputs": [
    {
     "data": {
      "text/plain": [
       "'print(df_2014.shape,\\n     df_2015.shape,\\n     df_2016.shape,\\n     df_2017.shape,\\n     df_2018.shape,\\n     df_2019.shape,\\n     df_2020.shape,\\n     df_2021.shape)'"
      ]
     },
     "execution_count": 11,
     "metadata": {},
     "output_type": "execute_result"
    }
   ],
   "source": [
    "'''print(df_2014.shape,\n",
    "     df_2015.shape,\n",
    "     df_2016.shape,\n",
    "     df_2017.shape,\n",
    "     df_2018.shape,\n",
    "     df_2019.shape,\n",
    "     df_2020.shape,\n",
    "     df_2021.shape)'''"
   ]
  },
  {
   "cell_type": "code",
   "execution_count": 12,
   "id": "73dcd262",
   "metadata": {},
   "outputs": [],
   "source": [
    "#'pd.options.display.float_format = '{:,}'.format'\n",
    "#lib que convert pra reais\n",
    "\n",
    "#pd. set_option('display.max_rows', 500)\n",
    "#pd.set_option('display.float_format', lambda x: '%.5f' % x)"
   ]
  },
  {
   "cell_type": "markdown",
   "id": "eda9a3d6",
   "metadata": {},
   "source": [
    "## Agrupamentos para compreensão geral"
   ]
  },
  {
   "cell_type": "code",
   "execution_count": 13,
   "id": "e9570120",
   "metadata": {},
   "outputs": [],
   "source": [
    "# resumo_14=df_2014.groupby(['Sigla UF','Nome Órgão Superior']).agg({'Valor Recebido':['sum','mean','std','max','min']})"
   ]
  },
  {
   "cell_type": "code",
   "execution_count": 14,
   "id": "adeb57eb",
   "metadata": {},
   "outputs": [],
   "source": [
    "# resumo2_14=df_2014.groupby(['Ano e mês do lançamento','Nome Órgão Superior']).agg({'Valor Recebido':['sum','mean','std','max','min']}).style.format(\"{:,.0f}\")"
   ]
  },
  {
   "cell_type": "markdown",
   "id": "9c935815",
   "metadata": {},
   "source": [
    "## Conversão dos tipos"
   ]
  },
  {
   "cell_type": "code",
   "execution_count": 15,
   "id": "2ea1b0e9",
   "metadata": {},
   "outputs": [],
   "source": [
    "df_2014=df_2014.astype({'Nome Favorecido':'category',\n",
    "                        'Sigla UF':'category',\n",
    "                        'Nome Município':'category',\n",
    "                        'Código Órgão Superior':'int',\n",
    "                        'Nome Órgão Superior':'category',\n",
    "                        'Código Órgão':'int',\n",
    "                        'Nome Órgão':'category',\n",
    "                        'Código Unidade Gestora':'int',\n",
    "                        'Nome Unidade Gestora':'category'})"
   ]
  },
  {
   "cell_type": "code",
   "execution_count": 16,
   "id": "cb5bba91",
   "metadata": {},
   "outputs": [],
   "source": [
    "df_2015=df_2015.astype({'Nome Favorecido':'category',\n",
    "                        'Sigla UF':'category',\n",
    "                        'Nome Município':'category',\n",
    "                        'Código Órgão Superior':'int',\n",
    "                        'Nome Órgão Superior':'category',\n",
    "                        'Código Órgão':'int',\n",
    "                        'Nome Órgão':'category',\n",
    "                        'Código Unidade Gestora':'int',\n",
    "                        'Nome Unidade Gestora':'category'})"
   ]
  },
  {
   "cell_type": "code",
   "execution_count": 17,
   "id": "14c3e8c5",
   "metadata": {},
   "outputs": [],
   "source": [
    "df_2016=df_2016.astype({'Nome Favorecido':'category',\n",
    "                        'Sigla UF':'category',\n",
    "                        'Nome Município':'category',\n",
    "                        'Código Órgão Superior':'int',\n",
    "                        'Nome Órgão Superior':'category',\n",
    "                        'Código Órgão':'int',\n",
    "                        'Nome Órgão':'category',\n",
    "                        'Código Unidade Gestora':'int',\n",
    "                        'Nome Unidade Gestora':'category'})"
   ]
  },
  {
   "cell_type": "code",
   "execution_count": 18,
   "id": "555a2656",
   "metadata": {},
   "outputs": [],
   "source": [
    "df_2017=df_2017.astype({'Nome Favorecido':'category',\n",
    "                        'Sigla UF':'category',\n",
    "                        'Nome Município':'category',\n",
    "                        'Código Órgão Superior':'int',\n",
    "                        'Nome Órgão Superior':'category',\n",
    "                        'Código Órgão':'int',\n",
    "                        'Nome Órgão':'category',\n",
    "                        'Código Unidade Gestora':'int',\n",
    "                        'Nome Unidade Gestora':'category'})"
   ]
  },
  {
   "cell_type": "code",
   "execution_count": 19,
   "id": "4b3ea2ec",
   "metadata": {},
   "outputs": [],
   "source": [
    "df_2018=df_2018.astype({'Nome Favorecido':'category',\n",
    "                        'Sigla UF':'category',\n",
    "                        'Nome Município':'category',\n",
    "                        'Código Órgão Superior':'int',\n",
    "                        'Nome Órgão Superior':'category',\n",
    "                        'Código Órgão':'int',\n",
    "                        'Nome Órgão':'category',\n",
    "                        'Código Unidade Gestora':'int',\n",
    "                        'Nome Unidade Gestora':'category'})"
   ]
  },
  {
   "cell_type": "code",
   "execution_count": 20,
   "id": "50b8312d",
   "metadata": {},
   "outputs": [],
   "source": [
    "df_2019=df_2019.astype({'Nome Favorecido':'category',\n",
    "                        'Sigla UF':'category',\n",
    "                        'Nome Município':'category',\n",
    "                        'Código Órgão Superior':'int',\n",
    "                        'Nome Órgão Superior':'category',\n",
    "                        'Código Órgão':'int',\n",
    "                        'Nome Órgão':'category',\n",
    "                        'Código Unidade Gestora':'int',\n",
    "                        'Nome Unidade Gestora':'category'})"
   ]
  },
  {
   "cell_type": "code",
   "execution_count": 21,
   "id": "ceaf65e1",
   "metadata": {},
   "outputs": [],
   "source": [
    "df_2020=df_2020.astype({'Nome Favorecido':'category',\n",
    "                        'Sigla UF':'category',\n",
    "                        'Nome Município':'category',\n",
    "                        'Código Órgão Superior':'int',\n",
    "                        'Nome Órgão Superior':'category',\n",
    "                        'Código Órgão':'int',\n",
    "                        'Nome Órgão':'category',\n",
    "                        'Código Unidade Gestora':'int',\n",
    "                        'Nome Unidade Gestora':'category'})"
   ]
  },
  {
   "cell_type": "code",
   "execution_count": 22,
   "id": "b923ac36",
   "metadata": {},
   "outputs": [],
   "source": [
    "df_2021=df_2021.astype({'Nome Favorecido':'category',\n",
    "                        'Sigla UF':'category',\n",
    "                        'Nome Município':'category',\n",
    "                        'Código Órgão Superior':'int',\n",
    "                        'Nome Órgão Superior':'category',\n",
    "                        'Código Órgão':'int',\n",
    "                        'Nome Órgão':'category',\n",
    "                        'Código Unidade Gestora':'int',\n",
    "                        'Nome Unidade Gestora':'category'})"
   ]
  },
  {
   "cell_type": "markdown",
   "id": "21ea7c38",
   "metadata": {},
   "source": [
    "## Sobrescrição dos arquivos existentes"
   ]
  },
  {
   "cell_type": "code",
   "execution_count": 23,
   "id": "1521e44d",
   "metadata": {},
   "outputs": [],
   "source": [
    "df_2014.to_csv(\"data2014.csv\")\n",
    "df_2015.to_csv(\"data2015.csv\")\n",
    "df_2016.to_csv(\"data2016.csv\")\n",
    "df_2017.to_csv(\"data2017.csv\")\n",
    "df_2018.to_csv(\"data2018.csv\")\n",
    "df_2019.to_csv(\"data2019.csv\")\n",
    "df_2020.to_csv(\"data2020.csv\")\n",
    "df_2021.to_csv(\"data2021.csv\")"
   ]
  }
 ],
 "metadata": {
  "kernelspec": {
   "display_name": "Python 3 (ipykernel)",
   "language": "python",
   "name": "python3"
  },
  "language_info": {
   "codemirror_mode": {
    "name": "ipython",
    "version": 3
   },
   "file_extension": ".py",
   "mimetype": "text/x-python",
   "name": "python",
   "nbconvert_exporter": "python",
   "pygments_lexer": "ipython3",
   "version": "3.9.7"
  }
 },
 "nbformat": 4,
 "nbformat_minor": 5
}
