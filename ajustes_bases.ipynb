{
 "cells": [
  {
   "cell_type": "code",
   "execution_count": 1,
   "id": "d0c31989",
   "metadata": {},
   "outputs": [],
   "source": [
    "import pandas as pd"
   ]
  },
  {
   "cell_type": "code",
   "execution_count": 4,
   "id": "976fca6d",
   "metadata": {},
   "outputs": [],
   "source": [
    "df_2014=pd.read_csv(\"C:/Users/ednae/Documents/DS/Dados/data2014.csv\")\n",
    "df_2015=pd.read_csv(\"C:/Users/ednae/Documents/DS/Dados/data2015.csv\")\n",
    "df_2016=pd.read_csv(\"C:/Users/ednae/Documents/DS/Dados/data2016.csv\")\n",
    "df_2017=pd.read_csv(\"C:/Users/ednae/Documents/DS/Dados/data2017.csv\")\n",
    "df_2018=pd.read_csv(\"C:/Users/ednae/Documents/DS/Dados/data2018.csv\")\n",
    "df_2019=pd.read_csv(\"C:/Users/ednae/Documents/DS/Dados/data2019.csv\")\n",
    "df_2020=pd.read_csv(\"C:/Users/ednae/Documents/DS/Dados/data2020.csv\")\n",
    "df_2021=pd.read_csv(\"C:/Users/ednae/Documents/DS/Dados/data2021.csv\")"
   ]
  },
  {
   "cell_type": "markdown",
   "id": "96677e23",
   "metadata": {},
   "source": [
    "## Tratamento de dados"
   ]
  },
  {
   "cell_type": "markdown",
   "id": "fb4acf36",
   "metadata": {},
   "source": [
    "### - Dados ausentes"
   ]
  },
  {
   "cell_type": "code",
   "execution_count": 7,
   "id": "0cf680ac",
   "metadata": {},
   "outputs": [
    {
     "name": "stdout",
     "output_type": "stream",
     "text": [
      "Unnamed: 0                 0\n",
      "Código Favorecido          0\n",
      "Nome Favorecido            0\n",
      "Sigla UF                   0\n",
      "Nome Município             0\n",
      "Código Órgão Superior      0\n",
      "Nome Órgão Superior        0\n",
      "Código Órgão               0\n",
      "Nome Órgão                 0\n",
      "Código Unidade Gestora     0\n",
      "Nome Unidade Gestora       0\n",
      "Ano e mês do lançamento    0\n",
      "Valor Recebido             0\n",
      "dtype: int64 Unnamed: 0                 0\n",
      "Código Favorecido          0\n",
      "Nome Favorecido            0\n",
      "Sigla UF                   0\n",
      "Nome Município             0\n",
      "Código Órgão Superior      0\n",
      "Nome Órgão Superior        0\n",
      "Código Órgão               0\n",
      "Nome Órgão                 0\n",
      "Código Unidade Gestora     0\n",
      "Nome Unidade Gestora       0\n",
      "Ano e mês do lançamento    0\n",
      "Valor Recebido             0\n",
      "dtype: int64 Unnamed: 0                 0\n",
      "Código Favorecido          0\n",
      "Nome Favorecido            0\n",
      "Sigla UF                   0\n",
      "Nome Município             0\n",
      "Código Órgão Superior      0\n",
      "Nome Órgão Superior        0\n",
      "Código Órgão               0\n",
      "Nome Órgão                 0\n",
      "Código Unidade Gestora     0\n",
      "Nome Unidade Gestora       0\n",
      "Ano e mês do lançamento    0\n",
      "Valor Recebido             0\n",
      "dtype: int64 Unnamed: 0                 0\n",
      "Código Favorecido          0\n",
      "Nome Favorecido            0\n",
      "Sigla UF                   0\n",
      "Nome Município             0\n",
      "Código Órgão Superior      0\n",
      "Nome Órgão Superior        0\n",
      "Código Órgão               0\n",
      "Nome Órgão                 0\n",
      "Código Unidade Gestora     0\n",
      "Nome Unidade Gestora       0\n",
      "Ano e mês do lançamento    0\n",
      "Valor Recebido             0\n",
      "dtype: int64 Unnamed: 0                 0\n",
      "Código Favorecido          0\n",
      "Nome Favorecido            0\n",
      "Sigla UF                   0\n",
      "Nome Município             0\n",
      "Código Órgão Superior      0\n",
      "Nome Órgão Superior        0\n",
      "Código Órgão               0\n",
      "Nome Órgão                 0\n",
      "Código Unidade Gestora     0\n",
      "Nome Unidade Gestora       0\n",
      "Ano e mês do lançamento    0\n",
      "Valor Recebido             0\n",
      "dtype: int64 Unnamed: 0                 0\n",
      "Código Favorecido          0\n",
      "Nome Favorecido            0\n",
      "Sigla UF                   0\n",
      "Nome Município             0\n",
      "Código Órgão Superior      0\n",
      "Nome Órgão Superior        0\n",
      "Código Órgão               0\n",
      "Nome Órgão                 0\n",
      "Código Unidade Gestora     0\n",
      "Nome Unidade Gestora       0\n",
      "Ano e mês do lançamento    0\n",
      "Valor Recebido             0\n",
      "dtype: int64 Unnamed: 0                 0\n",
      "Código Favorecido          0\n",
      "Nome Favorecido            0\n",
      "Sigla UF                   0\n",
      "Nome Município             0\n",
      "Código Órgão Superior      0\n",
      "Nome Órgão Superior        0\n",
      "Código Órgão               0\n",
      "Nome Órgão                 0\n",
      "Código Unidade Gestora     0\n",
      "Nome Unidade Gestora       0\n",
      "Ano e mês do lançamento    0\n",
      "Valor Recebido             0\n",
      "dtype: int64 Unnamed: 0                 0\n",
      "Código Favorecido          0\n",
      "Nome Favorecido            0\n",
      "Sigla UF                   0\n",
      "Nome Município             0\n",
      "Código Órgão Superior      0\n",
      "Nome Órgão Superior        0\n",
      "Código Órgão               0\n",
      "Nome Órgão                 0\n",
      "Código Unidade Gestora     0\n",
      "Nome Unidade Gestora       0\n",
      "Ano e mês do lançamento    0\n",
      "Valor Recebido             0\n",
      "dtype: int64\n"
     ]
    }
   ],
   "source": [
    "print(df_2014.isna().sum(),\n",
    "df_2015.isna().sum(),\n",
    "df_2016.isna().sum(),\n",
    "df_2017.isna().sum(),\n",
    "df_2018.isna().sum(),\n",
    "df_2019.isna().sum(),\n",
    "df_2020.isna().sum(),\n",
    "df_2021.isna().sum())"
   ]
  },
  {
   "cell_type": "code",
   "execution_count": 9,
   "id": "e4915b1f",
   "metadata": {
    "scrolled": true
   },
   "outputs": [
    {
     "name": "stdout",
     "output_type": "stream",
     "text": [
      "<class 'pandas.core.frame.DataFrame'>\n",
      "RangeIndex: 10283456 entries, 0 to 10283455\n",
      "Data columns (total 13 columns):\n",
      " #   Column                   Dtype  \n",
      "---  ------                   -----  \n",
      " 0   Unnamed: 0               int64  \n",
      " 1   Código Favorecido        object \n",
      " 2   Nome Favorecido          object \n",
      " 3   Sigla UF                 object \n",
      " 4   Nome Município           object \n",
      " 5   Código Órgão Superior    int64  \n",
      " 6   Nome Órgão Superior      object \n",
      " 7   Código Órgão             int64  \n",
      " 8   Nome Órgão               object \n",
      " 9   Código Unidade Gestora   int64  \n",
      " 10  Nome Unidade Gestora     object \n",
      " 11  Ano e mês do lançamento  object \n",
      " 12  Valor Recebido           float64\n",
      "dtypes: float64(1), int64(4), object(8)\n",
      "memory usage: 1019.9+ MB\n"
     ]
    }
   ],
   "source": [
    "df_2014.info()"
   ]
  },
  {
   "cell_type": "code",
   "execution_count": 19,
   "id": "5681d64c",
   "metadata": {},
   "outputs": [],
   "source": [
    "df_2014['Ano e mês do lançamento']=pd.to_datetime(df_2014['Ano e mês do lançamento'])\n",
    "df_2015['Ano e mês do lançamento']=pd.to_datetime(df_2015['Ano e mês do lançamento'])\n",
    "df_2016['Ano e mês do lançamento']=pd.to_datetime(df_2016['Ano e mês do lançamento'])\n",
    "df_2017['Ano e mês do lançamento']=pd.to_datetime(df_2017['Ano e mês do lançamento'])\n",
    "df_2018['Ano e mês do lançamento']=pd.to_datetime(df_2018['Ano e mês do lançamento'])\n",
    "df_2019['Ano e mês do lançamento']=pd.to_datetime(df_2019['Ano e mês do lançamento'])\n",
    "df_2020['Ano e mês do lançamento']=pd.to_datetime(df_2020['Ano e mês do lançamento'])\n",
    "df_2021['Ano e mês do lançamento']=pd.to_datetime(df_2021['Ano e mês do lançamento'])"
   ]
  },
  {
   "cell_type": "code",
   "execution_count": 24,
   "id": "d38f41cb",
   "metadata": {},
   "outputs": [],
   "source": [
    "df_2014.drop('Unnamed: 0',axis=1,inplace=True)\n",
    "df_2015.drop('Unnamed: 0',axis=1,inplace=True)\n",
    "df_2016.drop('Unnamed: 0',axis=1,inplace=True)\n",
    "df_2017.drop('Unnamed: 0',axis=1,inplace=True)\n",
    "df_2018.drop('Unnamed: 0',axis=1,inplace=True)\n",
    "df_2019.drop('Unnamed: 0',axis=1,inplace=True)\n",
    "df_2020.drop('Unnamed: 0',axis=1,inplace=True)\n",
    "df_2021.drop('Unnamed: 0',axis=1,inplace=True)"
   ]
  },
  {
   "cell_type": "code",
   "execution_count": 28,
   "id": "06698f27",
   "metadata": {},
   "outputs": [],
   "source": [
    "df_2014.to_csv(\"data2014.csv\")\n",
    "df_2015.to_csv(\"data2015.csv\")\n",
    "df_2016.to_csv(\"data2016.csv\")\n",
    "df_2017.to_csv(\"data2017.csv\")\n",
    "df_2018.to_csv(\"data2018.csv\")\n",
    "df_2019.to_csv(\"data2019.csv\")\n",
    "df_2020.to_csv(\"data2020.csv\")\n",
    "df_2021.to_csv(\"data2021.csv\")"
   ]
  },
  {
   "cell_type": "code",
   "execution_count": null,
   "id": "db23455f",
   "metadata": {},
   "outputs": [],
   "source": []
  }
 ],
 "metadata": {
  "kernelspec": {
   "display_name": "Python 3 (ipykernel)",
   "language": "python",
   "name": "python3"
  },
  "language_info": {
   "codemirror_mode": {
    "name": "ipython",
    "version": 3
   },
   "file_extension": ".py",
   "mimetype": "text/x-python",
   "name": "python",
   "nbconvert_exporter": "python",
   "pygments_lexer": "ipython3",
   "version": "3.9.7"
  }
 },
 "nbformat": 4,
 "nbformat_minor": 5
}
