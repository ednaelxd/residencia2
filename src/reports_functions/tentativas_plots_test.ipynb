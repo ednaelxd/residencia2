{
 "cells": [
  {
   "cell_type": "code",
   "execution_count": 1,
   "id": "d5717db6-67df-4049-8b30-9312c9eaa50c",
   "metadata": {},
   "outputs": [],
   "source": [
    "#import streamlit as st\n",
    "import plotly.figure_factory as ff\n",
    "import numpy as np\n",
    "import pandas as pd"
   ]
  },
  {
   "cell_type": "code",
   "execution_count": 2,
   "id": "c6c2c11d-0d21-426f-86d6-a56da1872816",
   "metadata": {},
   "outputs": [],
   "source": [
    "df = pd.read_csv('C:/Users/efvs/Documents/Residencia Ednael/Repositórios/residencia2/data/fraudes.csv', index_col=[0])"
   ]
  },
  {
   "cell_type": "code",
   "execution_count": 4,
   "id": "dbb2732b-054b-486c-b42a-1c4b39b5d108",
   "metadata": {},
   "outputs": [],
   "source": [
    "#import streamlit as st"
   ]
  },
  {
   "cell_type": "code",
   "execution_count": 3,
   "id": "134d1bd1",
   "metadata": {},
   "outputs": [
    {
     "data": {
      "text/html": [
       "<div>\n",
       "<style scoped>\n",
       "    .dataframe tbody tr th:only-of-type {\n",
       "        vertical-align: middle;\n",
       "    }\n",
       "\n",
       "    .dataframe tbody tr th {\n",
       "        vertical-align: top;\n",
       "    }\n",
       "\n",
       "    .dataframe thead th {\n",
       "        text-align: right;\n",
       "    }\n",
       "</style>\n",
       "<table border=\"1\" class=\"dataframe\">\n",
       "  <thead>\n",
       "    <tr style=\"text-align: right;\">\n",
       "      <th></th>\n",
       "      <th>{%} de Ilegalidades</th>\n",
       "      <th>Total de Licitações</th>\n",
       "      <th>Total de Ilegais</th>\n",
       "      <th>Valor Licitado</th>\n",
       "      <th>Valor Ilegal</th>\n",
       "      <th>{%} Valor Ilegal</th>\n",
       "    </tr>\n",
       "  </thead>\n",
       "  <tbody>\n",
       "    <tr>\n",
       "      <th>GO</th>\n",
       "      <td>0.695833</td>\n",
       "      <td>240</td>\n",
       "      <td>167</td>\n",
       "      <td>3.245370e+07</td>\n",
       "      <td>1.978798e+07</td>\n",
       "      <td>0.609730</td>\n",
       "    </tr>\n",
       "    <tr>\n",
       "      <th>MT</th>\n",
       "      <td>0.694789</td>\n",
       "      <td>403</td>\n",
       "      <td>280</td>\n",
       "      <td>9.268363e+08</td>\n",
       "      <td>2.966935e+07</td>\n",
       "      <td>0.032011</td>\n",
       "    </tr>\n",
       "    <tr>\n",
       "      <th>PB</th>\n",
       "      <td>0.678335</td>\n",
       "      <td>1057</td>\n",
       "      <td>717</td>\n",
       "      <td>5.108516e+08</td>\n",
       "      <td>7.155202e+07</td>\n",
       "      <td>0.140064</td>\n",
       "    </tr>\n",
       "    <tr>\n",
       "      <th>RN</th>\n",
       "      <td>0.667060</td>\n",
       "      <td>1694</td>\n",
       "      <td>1130</td>\n",
       "      <td>5.908024e+08</td>\n",
       "      <td>1.262819e+08</td>\n",
       "      <td>0.213746</td>\n",
       "    </tr>\n",
       "    <tr>\n",
       "      <th>RR</th>\n",
       "      <td>0.652778</td>\n",
       "      <td>504</td>\n",
       "      <td>329</td>\n",
       "      <td>4.011057e+08</td>\n",
       "      <td>5.468588e+07</td>\n",
       "      <td>0.136338</td>\n",
       "    </tr>\n",
       "  </tbody>\n",
       "</table>\n",
       "</div>"
      ],
      "text/plain": [
       "    {%} de Ilegalidades  Total de Licitações  Total de Ilegais  \\\n",
       "GO             0.695833                  240               167   \n",
       "MT             0.694789                  403               280   \n",
       "PB             0.678335                 1057               717   \n",
       "RN             0.667060                 1694              1130   \n",
       "RR             0.652778                  504               329   \n",
       "\n",
       "    Valor Licitado  Valor Ilegal  {%} Valor Ilegal  \n",
       "GO    3.245370e+07  1.978798e+07          0.609730  \n",
       "MT    9.268363e+08  2.966935e+07          0.032011  \n",
       "PB    5.108516e+08  7.155202e+07          0.140064  \n",
       "RN    5.908024e+08  1.262819e+08          0.213746  \n",
       "RR    4.011057e+08  5.468588e+07          0.136338  "
      ]
     },
     "execution_count": 3,
     "metadata": {},
     "output_type": "execute_result"
    }
   ],
   "source": [
    "df.head()"
   ]
  },
  {
   "cell_type": "code",
   "execution_count": 4,
   "id": "3f532633",
   "metadata": {},
   "outputs": [],
   "source": [
    "cont = df.iloc[:,0:3]\n",
    "valor = df.iloc[:,3:]"
   ]
  },
  {
   "cell_type": "code",
   "execution_count": 7,
   "id": "e288e7d7",
   "metadata": {},
   "outputs": [
    {
     "data": {
      "text/plain": [
       "<AxesSubplot:>"
      ]
     },
     "execution_count": 7,
     "metadata": {},
     "output_type": "execute_result"
    },
    {
     "data": {
      "image/png": "[encoded data removed]",
      "text/plain": [
       "<Figure size 432x288 with 1 Axes>"
      ]
     },
     "metadata": {
      "needs_background": "light"
     },
     "output_type": "display_data"
    }
   ],
   "source": [
    "from matplotlib import pyplot as plt\n",
    "cont.plot.bar()"
   ]
  },
  {
   "cell_type": "code",
   "execution_count": 8,
   "id": "2c61a25b",
   "metadata": {},
   "outputs": [
    {
     "ename": "AttributeError",
     "evalue": "'NoneType' object has no attribute 'gaussian_kde'",
     "output_type": "error",
     "traceback": [
      "\u001b[1;31m---------------------------------------------------------------------------\u001b[0m",
      "\u001b[1;31mAttributeError\u001b[0m                            Traceback (most recent call last)",
      "\u001b[1;32m~\\AppData\\Local\\Temp/ipykernel_23292/1739107464.py\u001b[0m in \u001b[0;36m<module>\u001b[1;34m\u001b[0m\n\u001b[0;32m      8\u001b[0m \u001b[1;33m\u001b[0m\u001b[0m\n\u001b[0;32m      9\u001b[0m \u001b[1;31m# Create distplot with custom bin_size\u001b[0m\u001b[1;33m\u001b[0m\u001b[1;33m\u001b[0m\u001b[0m\n\u001b[1;32m---> 10\u001b[1;33m fig = ff.create_distplot(\n\u001b[0m\u001b[0;32m     11\u001b[0m          hist_data, group_labels, bin_size=[.1, .25, .5])\n",
      "\u001b[1;32m~\\miniconda3\\envs\\rsd\\lib\\site-packages\\plotly\\figure_factory\\_distplot.py\u001b[0m in \u001b[0;36mcreate_distplot\u001b[1;34m(hist_data, group_labels, bin_size, curve_type, colors, rug_text, histnorm, show_hist, show_curve, show_rug)\u001b[0m\n\u001b[0;32m    216\u001b[0m             ).make_normal()\n\u001b[0;32m    217\u001b[0m         \u001b[1;32melse\u001b[0m\u001b[1;33m:\u001b[0m\u001b[1;33m\u001b[0m\u001b[1;33m\u001b[0m\u001b[0m\n\u001b[1;32m--> 218\u001b[1;33m             curve = _Distplot(\n\u001b[0m\u001b[0;32m    219\u001b[0m                 \u001b[0mhist_data\u001b[0m\u001b[1;33m,\u001b[0m\u001b[1;33m\u001b[0m\u001b[1;33m\u001b[0m\u001b[0m\n\u001b[0;32m    220\u001b[0m                 \u001b[0mhistnorm\u001b[0m\u001b[1;33m,\u001b[0m\u001b[1;33m\u001b[0m\u001b[1;33m\u001b[0m\u001b[0m\n",
      "\u001b[1;32m~\\miniconda3\\envs\\rsd\\lib\\site-packages\\plotly\\figure_factory\\_distplot.py\u001b[0m in \u001b[0;36mmake_kde\u001b[1;34m(self)\u001b[0m\n\u001b[0;32m    361\u001b[0m                 \u001b[1;32mfor\u001b[0m \u001b[0mx\u001b[0m \u001b[1;32min\u001b[0m \u001b[0mrange\u001b[0m\u001b[1;33m(\u001b[0m\u001b[1;36m500\u001b[0m\u001b[1;33m)\u001b[0m\u001b[1;33m\u001b[0m\u001b[1;33m\u001b[0m\u001b[0m\n\u001b[0;32m    362\u001b[0m             ]\n\u001b[1;32m--> 363\u001b[1;33m             self.curve_y[index] = scipy_stats.gaussian_kde(self.hist_data[index])(\n\u001b[0m\u001b[0;32m    364\u001b[0m                 \u001b[0mself\u001b[0m\u001b[1;33m.\u001b[0m\u001b[0mcurve_x\u001b[0m\u001b[1;33m[\u001b[0m\u001b[0mindex\u001b[0m\u001b[1;33m]\u001b[0m\u001b[1;33m\u001b[0m\u001b[1;33m\u001b[0m\u001b[0m\n\u001b[0;32m    365\u001b[0m             )\n",
      "\u001b[1;31mAttributeError\u001b[0m: 'NoneType' object has no attribute 'gaussian_kde'"
     ]
    }
   ],
   "source": [
    "x1 = cont.iloc[:,0].values\n",
    "x2 = cont.iloc[:,1].values\n",
    "x3 = cont.iloc[:,2].values\n",
    "# Group data together\n",
    "hist_data = [x1, x2, x3]\n",
    "\n",
    "group_labels = ['Group 1', 'Group 2', 'Group 3']\n",
    "\n",
    "# Create distplot with custom bin_size\n",
    "fig = ff.create_distplot(\n",
    "         hist_data, group_labels, bin_size=[.1, .25, .5])"
   ]
  },
  {
   "cell_type": "code",
   "execution_count": null,
   "id": "52bbca9b",
   "metadata": {},
   "outputs": [],
   "source": []
  }
 ],
 "metadata": {
  "kernelspec": {
   "display_name": "Python 3 (ipykernel)",
   "language": "python",
   "name": "python3"
  },
  "language_info": {
   "codemirror_mode": {
    "name": "ipython",
    "version": 3
   },
   "file_extension": ".py",
   "mimetype": "text/x-python",
   "name": "python",
   "nbconvert_exporter": "python",
   "pygments_lexer": "ipython3",
   "version": "3.9.7"
  }
 },
 "nbformat": 4,
 "nbformat_minor": 5
}
