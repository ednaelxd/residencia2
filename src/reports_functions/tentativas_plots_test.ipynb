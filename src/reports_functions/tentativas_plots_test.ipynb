{
 "cells": [
  {
   "cell_type": "code",
   "execution_count": 1,
   "id": "d5717db6-67df-4049-8b30-9312c9eaa50c",
   "metadata": {},
   "outputs": [],
   "source": [
    "#import streamlit as st\n",
    "import plotly.figure_factory as ff\n",
    "import numpy as np\n",
    "import pandas as pd"
   ]
  },
  {
   "cell_type": "code",
   "execution_count": 324,
   "id": "c6c2c11d-0d21-426f-86d6-a56da1872816",
   "metadata": {},
   "outputs": [],
   "source": [
    "df = pd.read_csv('C:/Users/efvs/Documents/Residencia Ednael/Repositórios/residencia2/data/fraudes.csv', index_col=[0])"
   ]
  },
  {
   "cell_type": "code",
   "execution_count": 4,
   "id": "dbb2732b-054b-486c-b42a-1c4b39b5d108",
   "metadata": {},
   "outputs": [],
   "source": [
    "#import streamlit as st"
   ]
  },
  {
   "cell_type": "code",
   "execution_count": 3,
   "id": "134d1bd1",
   "metadata": {},
   "outputs": [
    {
     "data": {
      "text/html": [
       "<div>\n",
       "<style scoped>\n",
       "    .dataframe tbody tr th:only-of-type {\n",
       "        vertical-align: middle;\n",
       "    }\n",
       "\n",
       "    .dataframe tbody tr th {\n",
       "        vertical-align: top;\n",
       "    }\n",
       "\n",
       "    .dataframe thead th {\n",
       "        text-align: right;\n",
       "    }\n",
       "</style>\n",
       "<table border=\"1\" class=\"dataframe\">\n",
       "  <thead>\n",
       "    <tr style=\"text-align: right;\">\n",
       "      <th></th>\n",
       "      <th>{%} de Ilegalidades</th>\n",
       "      <th>Total de Licitações</th>\n",
       "      <th>Total de Ilegais</th>\n",
       "      <th>Valor Licitado</th>\n",
       "      <th>Valor Ilegal</th>\n",
       "      <th>{%} Valor Ilegal</th>\n",
       "    </tr>\n",
       "  </thead>\n",
       "  <tbody>\n",
       "    <tr>\n",
       "      <th>GO</th>\n",
       "      <td>0.695833</td>\n",
       "      <td>240</td>\n",
       "      <td>167</td>\n",
       "      <td>3.245370e+07</td>\n",
       "      <td>1.978798e+07</td>\n",
       "      <td>0.609730</td>\n",
       "    </tr>\n",
       "    <tr>\n",
       "      <th>MT</th>\n",
       "      <td>0.694789</td>\n",
       "      <td>403</td>\n",
       "      <td>280</td>\n",
       "      <td>9.268363e+08</td>\n",
       "      <td>2.966935e+07</td>\n",
       "      <td>0.032011</td>\n",
       "    </tr>\n",
       "    <tr>\n",
       "      <th>PB</th>\n",
       "      <td>0.678335</td>\n",
       "      <td>1057</td>\n",
       "      <td>717</td>\n",
       "      <td>5.108516e+08</td>\n",
       "      <td>7.155202e+07</td>\n",
       "      <td>0.140064</td>\n",
       "    </tr>\n",
       "    <tr>\n",
       "      <th>RN</th>\n",
       "      <td>0.667060</td>\n",
       "      <td>1694</td>\n",
       "      <td>1130</td>\n",
       "      <td>5.908024e+08</td>\n",
       "      <td>1.262819e+08</td>\n",
       "      <td>0.213746</td>\n",
       "    </tr>\n",
       "    <tr>\n",
       "      <th>RR</th>\n",
       "      <td>0.652778</td>\n",
       "      <td>504</td>\n",
       "      <td>329</td>\n",
       "      <td>4.011057e+08</td>\n",
       "      <td>5.468588e+07</td>\n",
       "      <td>0.136338</td>\n",
       "    </tr>\n",
       "  </tbody>\n",
       "</table>\n",
       "</div>"
      ],
      "text/plain": [
       "    {%} de Ilegalidades  Total de Licitações  Total de Ilegais  \\\n",
       "GO             0.695833                  240               167   \n",
       "MT             0.694789                  403               280   \n",
       "PB             0.678335                 1057               717   \n",
       "RN             0.667060                 1694              1130   \n",
       "RR             0.652778                  504               329   \n",
       "\n",
       "    Valor Licitado  Valor Ilegal  {%} Valor Ilegal  \n",
       "GO    3.245370e+07  1.978798e+07          0.609730  \n",
       "MT    9.268363e+08  2.966935e+07          0.032011  \n",
       "PB    5.108516e+08  7.155202e+07          0.140064  \n",
       "RN    5.908024e+08  1.262819e+08          0.213746  \n",
       "RR    4.011057e+08  5.468588e+07          0.136338  "
      ]
     },
     "execution_count": 3,
     "metadata": {},
     "output_type": "execute_result"
    }
   ],
   "source": [
    "df.head()"
   ]
  },
  {
   "cell_type": "code",
   "execution_count": 4,
   "id": "3f532633",
   "metadata": {},
   "outputs": [],
   "source": [
    "cont = df.iloc[:,0:3]\n",
    "valor = df.iloc[:,3:]"
   ]
  },
  {
   "cell_type": "code",
   "execution_count": 7,
   "id": "e288e7d7",
   "metadata": {},
   "outputs": [
    {
     "data": {
      "text/plain": [
       "<AxesSubplot:>"
      ]
     },
     "execution_count": 7,
     "metadata": {},
     "output_type": "execute_result"
    },
    {
     "data": {
      "image/png": "[encoded data removed]",
      "text/plain": [
       "<Figure size 432x288 with 1 Axes>"
      ]
     },
     "metadata": {
      "needs_background": "light"
     },
     "output_type": "display_data"
    }
   ],
   "source": [
    "from matplotlib import pyplot as plt\n",
    "cont.plot.bar()"
   ]
  },
  {
   "cell_type": "code",
   "execution_count": 2,
   "id": "2c61a25b",
   "metadata": {},
   "outputs": [],
   "source": [
    "# DASHBOARD DOS RESULTADOS POR ESTADO\n",
    "import matplotlib.pyplot as plt\n",
    "import squarify\n",
    "import pandas as pd"
   ]
  },
  {
   "cell_type": "code",
   "execution_count": 325,
   "id": "52bbca9b",
   "metadata": {},
   "outputs": [],
   "source": [
    "df = pd.read_csv('C:/Users/efvs/Documents/Residencia Ednael/Repositórios/residencia2/data/fraudes.csv',index_col=[0])"
   ]
  },
  {
   "cell_type": "code",
   "execution_count": 19,
   "id": "7a685c4a",
   "metadata": {},
   "outputs": [
    {
     "data": {
      "text/html": [
       "<div>\n",
       "<style scoped>\n",
       "    .dataframe tbody tr th:only-of-type {\n",
       "        vertical-align: middle;\n",
       "    }\n",
       "\n",
       "    .dataframe tbody tr th {\n",
       "        vertical-align: top;\n",
       "    }\n",
       "\n",
       "    .dataframe thead th {\n",
       "        text-align: right;\n",
       "    }\n",
       "</style>\n",
       "<table border=\"1\" class=\"dataframe\">\n",
       "  <thead>\n",
       "    <tr style=\"text-align: right;\">\n",
       "      <th></th>\n",
       "      <th>{%} de Ilegalidades</th>\n",
       "      <th>Total de Licitações</th>\n",
       "      <th>Total de Ilegais</th>\n",
       "      <th>Valor Licitado</th>\n",
       "      <th>Valor Ilegal</th>\n",
       "      <th>{%} Valor Ilegal</th>\n",
       "    </tr>\n",
       "  </thead>\n",
       "  <tbody>\n",
       "    <tr>\n",
       "      <th>GO</th>\n",
       "      <td>0.695833</td>\n",
       "      <td>240</td>\n",
       "      <td>167</td>\n",
       "      <td>3.245370e+07</td>\n",
       "      <td>1.978798e+07</td>\n",
       "      <td>0.609730</td>\n",
       "    </tr>\n",
       "    <tr>\n",
       "      <th>MT</th>\n",
       "      <td>0.694789</td>\n",
       "      <td>403</td>\n",
       "      <td>280</td>\n",
       "      <td>9.268363e+08</td>\n",
       "      <td>2.966935e+07</td>\n",
       "      <td>0.032011</td>\n",
       "    </tr>\n",
       "    <tr>\n",
       "      <th>PB</th>\n",
       "      <td>0.678335</td>\n",
       "      <td>1057</td>\n",
       "      <td>717</td>\n",
       "      <td>5.108516e+08</td>\n",
       "      <td>7.155202e+07</td>\n",
       "      <td>0.140064</td>\n",
       "    </tr>\n",
       "    <tr>\n",
       "      <th>RN</th>\n",
       "      <td>0.667060</td>\n",
       "      <td>1694</td>\n",
       "      <td>1130</td>\n",
       "      <td>5.908024e+08</td>\n",
       "      <td>1.262819e+08</td>\n",
       "      <td>0.213746</td>\n",
       "    </tr>\n",
       "    <tr>\n",
       "      <th>RR</th>\n",
       "      <td>0.652778</td>\n",
       "      <td>504</td>\n",
       "      <td>329</td>\n",
       "      <td>4.011057e+08</td>\n",
       "      <td>5.468588e+07</td>\n",
       "      <td>0.136338</td>\n",
       "    </tr>\n",
       "  </tbody>\n",
       "</table>\n",
       "</div>"
      ],
      "text/plain": [
       "    {%} de Ilegalidades  Total de Licitações  Total de Ilegais  \\\n",
       "GO             0.695833                  240               167   \n",
       "MT             0.694789                  403               280   \n",
       "PB             0.678335                 1057               717   \n",
       "RN             0.667060                 1694              1130   \n",
       "RR             0.652778                  504               329   \n",
       "\n",
       "    Valor Licitado  Valor Ilegal  {%} Valor Ilegal  \n",
       "GO    3.245370e+07  1.978798e+07          0.609730  \n",
       "MT    9.268363e+08  2.966935e+07          0.032011  \n",
       "PB    5.108516e+08  7.155202e+07          0.140064  \n",
       "RN    5.908024e+08  1.262819e+08          0.213746  \n",
       "RR    4.011057e+08  5.468588e+07          0.136338  "
      ]
     },
     "execution_count": 19,
     "metadata": {},
     "output_type": "execute_result"
    }
   ],
   "source": [
    "df.head()"
   ]
  },
  {
   "cell_type": "code",
   "execution_count": 326,
   "id": "c13a504b",
   "metadata": {},
   "outputs": [],
   "source": [
    "df2 = df.sort_values(by='Total de Licitações',ascending=False)"
   ]
  },
  {
   "cell_type": "code",
   "execution_count": 71,
   "id": "0daa673e",
   "metadata": {},
   "outputs": [
    {
     "data": {
      "text/plain": [
       "(0.0, 100.0, 0.0, 100.0)"
      ]
     },
     "execution_count": 71,
     "metadata": {},
     "output_type": "execute_result"
    },
    {
     "data": {
      "image/png": "[encoded data removed]",
      "text/plain": [
       "<Figure size 432x288 with 1 Axes>"
      ]
     },
     "metadata": {
      "needs_background": "light"
     },
     "output_type": "display_data"
    }
   ],
   "source": [
    "volume = df2['Total de Licitações'].values\n",
    "labels = df2.index\n",
    "color_list = ['#0f7216', '#b2790c', '#ffe9a3',\n",
    "             '#f9d4d4', '#d35158', '#ea3033']\n",
    "\n",
    "plt.rc('font', size=14)\n",
    "squarify.plot(sizes=volume, label=labels,\n",
    "             color=color_list, alpha=0.7)\n",
    "plt.axis('off')\n",
    "#st.pyplot()"
   ]
  },
  {
   "cell_type": "code",
   "execution_count": 263,
   "id": "8db48800",
   "metadata": {},
   "outputs": [
    {
     "ename": "NameError",
     "evalue": "name 'dados' is not defined",
     "output_type": "error",
     "traceback": [
      "\u001b[1;31m---------------------------------------------------------------------------\u001b[0m",
      "\u001b[1;31mNameError\u001b[0m                                 Traceback (most recent call last)",
      "\u001b[1;32m~\\AppData\\Local\\Temp/ipykernel_21660/1431606780.py\u001b[0m in \u001b[0;36m<module>\u001b[1;34m\u001b[0m\n\u001b[0;32m      9\u001b[0m \u001b[1;33m\u001b[0m\u001b[0m\n\u001b[0;32m     10\u001b[0m fig.add_traces(go.Treemap(labels=df.columns,\n\u001b[1;32m---> 11\u001b[1;33m \u001b[0mparents\u001b[0m\u001b[1;33m=\u001b[0m\u001b[0mdados\u001b[0m\u001b[1;33m[\u001b[0m\u001b[1;34m'contagem'\u001b[0m\u001b[1;33m]\u001b[0m\u001b[1;33m[\u001b[0m\u001b[1;34m'Total de Licitações'\u001b[0m\u001b[1;33m]\u001b[0m\u001b[1;33m.\u001b[0m\u001b[0mindex\u001b[0m\u001b[1;33m,\u001b[0m\u001b[1;33m\u001b[0m\u001b[1;33m\u001b[0m\u001b[0m\n\u001b[0m\u001b[0;32m     12\u001b[0m values=dados['contagem']['Total de Licitações'].values))\n\u001b[0;32m     13\u001b[0m \u001b[1;33m\u001b[0m\u001b[0m\n",
      "\u001b[1;31mNameError\u001b[0m: name 'dados' is not defined"
     ]
    }
   ],
   "source": [
    "import plotly.graph_objects as go\n",
    "from plotly.subplots import make_subplots\n",
    "fig = make_subplots(\n",
    "    cols = 2, rows = 1,\n",
    "    column_widths = [0.4, 0.4],\n",
    "    subplot_titles = ('branchvalues: <b>total<br />&nbsp;<br />', 'branchvalues: <b>total<br />&nbsp;<br />'),\n",
    "    specs = [[{'type': 'treemap', 'rowspan': 1}, {'type': 'treemap'}]]\n",
    ")\n",
    "\n",
    "fig.add_traces(go.Treemap(labels=df.columns,\n",
    "parents=dados['contagem']['Total de Licitações'].index,\n",
    "values=dados['contagem']['Total de Licitações'].values))\n",
    "\n",
    "#,'Total de Ilegais','{%} de Ilegalidades'])\n",
    "\n",
    "\n",
    "fig.add_traces(go.Treemap(labels=df.columns,\n",
    "parents=dados['contagem']['Total de Licitações'],\n",
    "values=dados['contagem']['Total de Licitações'].values))\n",
    "\n",
    "fig.update_layout(margin = dict(t=50, l=25, r=25, b=25))\n",
    "fig.show()"
   ]
  },
  {
   "cell_type": "code",
   "execution_count": 334,
   "id": "e9a95b70",
   "metadata": {},
   "outputs": [
    {
     "data": {
      "text/html": [
       "<div>\n",
       "<style scoped>\n",
       "    .dataframe tbody tr th:only-of-type {\n",
       "        vertical-align: middle;\n",
       "    }\n",
       "\n",
       "    .dataframe tbody tr th {\n",
       "        vertical-align: top;\n",
       "    }\n",
       "\n",
       "    .dataframe thead th {\n",
       "        text-align: right;\n",
       "    }\n",
       "</style>\n",
       "<table border=\"1\" class=\"dataframe\">\n",
       "  <thead>\n",
       "    <tr style=\"text-align: right;\">\n",
       "      <th></th>\n",
       "      <th>{%} de Ilegalidades</th>\n",
       "      <th>Total de Licitações</th>\n",
       "      <th>Total de Ilegais</th>\n",
       "      <th>Valor Licitado</th>\n",
       "      <th>Valor Ilegal</th>\n",
       "      <th>{%} Valor Ilegal</th>\n",
       "    </tr>\n",
       "  </thead>\n",
       "  <tbody>\n",
       "    <tr>\n",
       "      <th>RJ</th>\n",
       "      <td>0.3296</td>\n",
       "      <td>12780</td>\n",
       "      <td>4212</td>\n",
       "      <td>9.458141e+09</td>\n",
       "      <td>6.545752e+08</td>\n",
       "      <td>0.0692</td>\n",
       "    </tr>\n",
       "    <tr>\n",
       "      <th>AC</th>\n",
       "      <td>0.3011</td>\n",
       "      <td>6148</td>\n",
       "      <td>1851</td>\n",
       "      <td>1.182799e+12</td>\n",
       "      <td>4.434937e+08</td>\n",
       "      <td>0.0004</td>\n",
       "    </tr>\n",
       "    <tr>\n",
       "      <th>MG</th>\n",
       "      <td>0.4239</td>\n",
       "      <td>4393</td>\n",
       "      <td>1862</td>\n",
       "      <td>1.913881e+09</td>\n",
       "      <td>1.600558e+08</td>\n",
       "      <td>0.0836</td>\n",
       "    </tr>\n",
       "    <tr>\n",
       "      <th>RS</th>\n",
       "      <td>0.5538</td>\n",
       "      <td>3696</td>\n",
       "      <td>2047</td>\n",
       "      <td>2.509245e+09</td>\n",
       "      <td>1.943357e+08</td>\n",
       "      <td>0.0774</td>\n",
       "    </tr>\n",
       "    <tr>\n",
       "      <th>PR</th>\n",
       "      <td>0.4778</td>\n",
       "      <td>3022</td>\n",
       "      <td>1444</td>\n",
       "      <td>1.332462e+09</td>\n",
       "      <td>1.157482e+08</td>\n",
       "      <td>0.0869</td>\n",
       "    </tr>\n",
       "    <tr>\n",
       "      <th>PE</th>\n",
       "      <td>0.4036</td>\n",
       "      <td>2641</td>\n",
       "      <td>1066</td>\n",
       "      <td>3.249519e+09</td>\n",
       "      <td>1.360687e+08</td>\n",
       "      <td>0.0419</td>\n",
       "    </tr>\n",
       "    <tr>\n",
       "      <th>SP</th>\n",
       "      <td>0.2711</td>\n",
       "      <td>1863</td>\n",
       "      <td>505</td>\n",
       "      <td>1.734550e+08</td>\n",
       "      <td>4.566277e+07</td>\n",
       "      <td>0.2633</td>\n",
       "    </tr>\n",
       "    <tr>\n",
       "      <th>BA</th>\n",
       "      <td>0.5860</td>\n",
       "      <td>1785</td>\n",
       "      <td>1046</td>\n",
       "      <td>1.656193e+09</td>\n",
       "      <td>2.719578e+08</td>\n",
       "      <td>0.1642</td>\n",
       "    </tr>\n",
       "    <tr>\n",
       "      <th>RN</th>\n",
       "      <td>0.6671</td>\n",
       "      <td>1694</td>\n",
       "      <td>1130</td>\n",
       "      <td>5.908024e+08</td>\n",
       "      <td>1.262819e+08</td>\n",
       "      <td>0.2137</td>\n",
       "    </tr>\n",
       "    <tr>\n",
       "      <th>CE</th>\n",
       "      <td>0.3870</td>\n",
       "      <td>1504</td>\n",
       "      <td>582</td>\n",
       "      <td>1.816121e+09</td>\n",
       "      <td>5.952300e+07</td>\n",
       "      <td>0.0328</td>\n",
       "    </tr>\n",
       "    <tr>\n",
       "      <th>MS</th>\n",
       "      <td>0.5657</td>\n",
       "      <td>1483</td>\n",
       "      <td>839</td>\n",
       "      <td>7.491854e+08</td>\n",
       "      <td>5.936413e+07</td>\n",
       "      <td>0.0792</td>\n",
       "    </tr>\n",
       "    <tr>\n",
       "      <th>AM</th>\n",
       "      <td>0.5327</td>\n",
       "      <td>1254</td>\n",
       "      <td>668</td>\n",
       "      <td>1.725935e+09</td>\n",
       "      <td>7.838323e+07</td>\n",
       "      <td>0.0454</td>\n",
       "    </tr>\n",
       "    <tr>\n",
       "      <th>PB</th>\n",
       "      <td>0.6783</td>\n",
       "      <td>1057</td>\n",
       "      <td>717</td>\n",
       "      <td>5.108516e+08</td>\n",
       "      <td>7.155202e+07</td>\n",
       "      <td>0.1401</td>\n",
       "    </tr>\n",
       "    <tr>\n",
       "      <th>AL</th>\n",
       "      <td>0.5119</td>\n",
       "      <td>1047</td>\n",
       "      <td>536</td>\n",
       "      <td>7.894329e+08</td>\n",
       "      <td>4.824847e+07</td>\n",
       "      <td>0.0611</td>\n",
       "    </tr>\n",
       "    <tr>\n",
       "      <th>PI</th>\n",
       "      <td>0.5534</td>\n",
       "      <td>842</td>\n",
       "      <td>466</td>\n",
       "      <td>9.053433e+08</td>\n",
       "      <td>5.609857e+07</td>\n",
       "      <td>0.0620</td>\n",
       "    </tr>\n",
       "    <tr>\n",
       "      <th>RO</th>\n",
       "      <td>0.5839</td>\n",
       "      <td>644</td>\n",
       "      <td>376</td>\n",
       "      <td>5.711486e+08</td>\n",
       "      <td>2.187153e+07</td>\n",
       "      <td>0.0383</td>\n",
       "    </tr>\n",
       "    <tr>\n",
       "      <th>SE</th>\n",
       "      <td>0.4864</td>\n",
       "      <td>627</td>\n",
       "      <td>305</td>\n",
       "      <td>2.273619e+10</td>\n",
       "      <td>4.050302e+07</td>\n",
       "      <td>0.0018</td>\n",
       "    </tr>\n",
       "    <tr>\n",
       "      <th>PA</th>\n",
       "      <td>0.2876</td>\n",
       "      <td>532</td>\n",
       "      <td>153</td>\n",
       "      <td>1.144147e+08</td>\n",
       "      <td>1.003554e+07</td>\n",
       "      <td>0.0877</td>\n",
       "    </tr>\n",
       "    <tr>\n",
       "      <th>RR</th>\n",
       "      <td>0.6528</td>\n",
       "      <td>504</td>\n",
       "      <td>329</td>\n",
       "      <td>4.011057e+08</td>\n",
       "      <td>5.468588e+07</td>\n",
       "      <td>0.1363</td>\n",
       "    </tr>\n",
       "    <tr>\n",
       "      <th>MT</th>\n",
       "      <td>0.6948</td>\n",
       "      <td>403</td>\n",
       "      <td>280</td>\n",
       "      <td>9.268363e+08</td>\n",
       "      <td>2.966935e+07</td>\n",
       "      <td>0.0320</td>\n",
       "    </tr>\n",
       "    <tr>\n",
       "      <th>SC</th>\n",
       "      <td>0.5192</td>\n",
       "      <td>391</td>\n",
       "      <td>203</td>\n",
       "      <td>1.048124e+08</td>\n",
       "      <td>1.608656e+07</td>\n",
       "      <td>0.1535</td>\n",
       "    </tr>\n",
       "    <tr>\n",
       "      <th>TO</th>\n",
       "      <td>0.5016</td>\n",
       "      <td>305</td>\n",
       "      <td>153</td>\n",
       "      <td>4.719210e+08</td>\n",
       "      <td>1.842559e+07</td>\n",
       "      <td>0.0390</td>\n",
       "    </tr>\n",
       "    <tr>\n",
       "      <th>ES</th>\n",
       "      <td>0.5911</td>\n",
       "      <td>291</td>\n",
       "      <td>172</td>\n",
       "      <td>4.856658e+07</td>\n",
       "      <td>1.189464e+07</td>\n",
       "      <td>0.2449</td>\n",
       "    </tr>\n",
       "    <tr>\n",
       "      <th>GO</th>\n",
       "      <td>0.6958</td>\n",
       "      <td>240</td>\n",
       "      <td>167</td>\n",
       "      <td>3.245370e+07</td>\n",
       "      <td>1.978798e+07</td>\n",
       "      <td>0.6097</td>\n",
       "    </tr>\n",
       "    <tr>\n",
       "      <th>MA</th>\n",
       "      <td>0.5290</td>\n",
       "      <td>138</td>\n",
       "      <td>73</td>\n",
       "      <td>1.209535e+07</td>\n",
       "      <td>5.512820e+06</td>\n",
       "      <td>0.4558</td>\n",
       "    </tr>\n",
       "    <tr>\n",
       "      <th>AP</th>\n",
       "      <td>0.5750</td>\n",
       "      <td>40</td>\n",
       "      <td>23</td>\n",
       "      <td>2.358455e+06</td>\n",
       "      <td>1.414054e+06</td>\n",
       "      <td>0.5996</td>\n",
       "    </tr>\n",
       "  </tbody>\n",
       "</table>\n",
       "</div>"
      ],
      "text/plain": [
       "    {%} de Ilegalidades  Total de Licitações  Total de Ilegais  \\\n",
       "RJ               0.3296                12780              4212   \n",
       "AC               0.3011                 6148              1851   \n",
       "MG               0.4239                 4393              1862   \n",
       "RS               0.5538                 3696              2047   \n",
       "PR               0.4778                 3022              1444   \n",
       "PE               0.4036                 2641              1066   \n",
       "SP               0.2711                 1863               505   \n",
       "BA               0.5860                 1785              1046   \n",
       "RN               0.6671                 1694              1130   \n",
       "CE               0.3870                 1504               582   \n",
       "MS               0.5657                 1483               839   \n",
       "AM               0.5327                 1254               668   \n",
       "PB               0.6783                 1057               717   \n",
       "AL               0.5119                 1047               536   \n",
       "PI               0.5534                  842               466   \n",
       "RO               0.5839                  644               376   \n",
       "SE               0.4864                  627               305   \n",
       "PA               0.2876                  532               153   \n",
       "RR               0.6528                  504               329   \n",
       "MT               0.6948                  403               280   \n",
       "SC               0.5192                  391               203   \n",
       "TO               0.5016                  305               153   \n",
       "ES               0.5911                  291               172   \n",
       "GO               0.6958                  240               167   \n",
       "MA               0.5290                  138                73   \n",
       "AP               0.5750                   40                23   \n",
       "\n",
       "    Valor Licitado  Valor Ilegal  {%} Valor Ilegal  \n",
       "RJ    9.458141e+09  6.545752e+08            0.0692  \n",
       "AC    1.182799e+12  4.434937e+08            0.0004  \n",
       "MG    1.913881e+09  1.600558e+08            0.0836  \n",
       "RS    2.509245e+09  1.943357e+08            0.0774  \n",
       "PR    1.332462e+09  1.157482e+08            0.0869  \n",
       "PE    3.249519e+09  1.360687e+08            0.0419  \n",
       "SP    1.734550e+08  4.566277e+07            0.2633  \n",
       "BA    1.656193e+09  2.719578e+08            0.1642  \n",
       "RN    5.908024e+08  1.262819e+08            0.2137  \n",
       "CE    1.816121e+09  5.952300e+07            0.0328  \n",
       "MS    7.491854e+08  5.936413e+07            0.0792  \n",
       "AM    1.725935e+09  7.838323e+07            0.0454  \n",
       "PB    5.108516e+08  7.155202e+07            0.1401  \n",
       "AL    7.894329e+08  4.824847e+07            0.0611  \n",
       "PI    9.053433e+08  5.609857e+07            0.0620  \n",
       "RO    5.711486e+08  2.187153e+07            0.0383  \n",
       "SE    2.273619e+10  4.050302e+07            0.0018  \n",
       "PA    1.144147e+08  1.003554e+07            0.0877  \n",
       "RR    4.011057e+08  5.468588e+07            0.1363  \n",
       "MT    9.268363e+08  2.966935e+07            0.0320  \n",
       "SC    1.048124e+08  1.608656e+07            0.1535  \n",
       "TO    4.719210e+08  1.842559e+07            0.0390  \n",
       "ES    4.856658e+07  1.189464e+07            0.2449  \n",
       "GO    3.245370e+07  1.978798e+07            0.6097  \n",
       "MA    1.209535e+07  5.512820e+06            0.4558  \n",
       "AP    2.358455e+06  1.414054e+06            0.5996  "
      ]
     },
     "execution_count": 334,
     "metadata": {},
     "output_type": "execute_result"
    }
   ],
   "source": [
    "df2"
   ]
  },
  {
   "cell_type": "code",
   "execution_count": 331,
   "id": "ee857449",
   "metadata": {},
   "outputs": [],
   "source": [
    "df2['{%} Valor Ilegal']=df2['{%} Valor Ilegal'].round(4)\n",
    "df2['{%} de Ilegalidades']=df2['{%} de Ilegalidades'].round(4)"
   ]
  },
  {
   "cell_type": "code",
   "execution_count": 270,
   "id": "517b53a7",
   "metadata": {},
   "outputs": [],
   "source": [
    "import math as mt"
   ]
  },
  {
   "cell_type": "code",
   "execution_count": 342,
   "id": "94ca3c60",
   "metadata": {},
   "outputs": [
    {
     "data": {
      "application/vnd.plotly.v1+json": {
       "config": {
        "plotlyServerURL": "https://plot.ly"
       },
       "data": [
        {
         "mode": "lines+markers",
         "name": "Valor Licitado",
         "type": "scatter",
         "x": [
          "MG",
          "RS",
          "PR",
          "PE",
          "SP",
          "BA",
          "RN",
          "CE",
          "MS",
          "AM",
          "PB",
          "AL",
          "PI",
          "RO",
          "PA",
          "RR",
          "MT",
          "SC",
          "TO",
          "ES",
          "GO",
          "MA",
          "AP"
         ],
         "y": [
          1913880595.2,
          2509244565.02,
          1332462250.28,
          3249519325.04,
          173454988.48,
          1656192822.2,
          590802355.6,
          1816121013.89,
          749185416.02,
          1725935402.4,
          510851616.51,
          789432939.73,
          905343347.8,
          571148597.49,
          114414666.82,
          401105658.61,
          926836304.31,
          104812356.5,
          471920972.75,
          48566583.14,
          32453700.09,
          12095345.17,
          2358454.82
         ]
        },
        {
         "name": "Valor Ilegal",
         "text": [
          0.0836,
          0.0774,
          0.0869,
          0.0419,
          0.2633,
          0.1642,
          0.2137,
          0.0328,
          0.0792,
          0.0454,
          0.1401,
          0.0611,
          0.062,
          0.0383,
          0.0877,
          0.1363,
          0.032,
          0.1535,
          0.039,
          0.2449,
          0.6097,
          0.4558,
          0.5996
         ],
         "textposition": "outside",
         "type": "bar",
         "x": [
          "MG",
          "RS",
          "PR",
          "PE",
          "SP",
          "BA",
          "RN",
          "CE",
          "MS",
          "AM",
          "PB",
          "AL",
          "PI",
          "RO",
          "PA",
          "RR",
          "MT",
          "SC",
          "TO",
          "ES",
          "GO",
          "MA",
          "AP"
         ],
         "y": [
          160055761.34,
          194335705.27,
          115748160.19,
          136068729.28,
          45662767.9,
          271957835.44,
          126281858.89,
          59523002.43,
          59364134.28,
          78383229.24,
          71552023.58,
          48248474.3,
          56098574.01,
          21871528.36,
          10035538.62,
          54685881.23,
          29669353.11,
          16086559.73,
          18425586.41,
          11894638.86,
          19787980.36,
          5512819.73,
          1414054
         ]
        }
       ],
       "layout": {
        "barmode": "group",
        "template": {
         "data": {
          "bar": [
           {
            "error_x": {
             "color": "#2a3f5f"
            },
            "error_y": {
             "color": "#2a3f5f"
            },
            "marker": {
             "line": {
              "color": "#E5ECF6",
              "width": 0.5
             },
             "pattern": {
              "fillmode": "overlay",
              "size": 10,
              "solidity": 0.2
             }
            },
            "type": "bar"
           }
          ],
          "barpolar": [
           {
            "marker": {
             "line": {
              "color": "#E5ECF6",
              "width": 0.5
             },
             "pattern": {
              "fillmode": "overlay",
              "size": 10,
              "solidity": 0.2
             }
            },
            "type": "barpolar"
           }
          ],
          "carpet": [
           {
            "aaxis": {
             "endlinecolor": "#2a3f5f",
             "gridcolor": "white",
             "linecolor": "white",
             "minorgridcolor": "white",
             "startlinecolor": "#2a3f5f"
            },
            "baxis": {
             "endlinecolor": "#2a3f5f",
             "gridcolor": "white",
             "linecolor": "white",
             "minorgridcolor": "white",
             "startlinecolor": "#2a3f5f"
            },
            "type": "carpet"
           }
          ],
          "choropleth": [
           {
            "colorbar": {
             "outlinewidth": 0,
             "ticks": ""
            },
            "type": "choropleth"
           }
          ],
          "contour": [
           {
            "colorbar": {
             "outlinewidth": 0,
             "ticks": ""
            },
            "colorscale": [
             [
              0,
              "#0d0887"
             ],
             [
              0.1111111111111111,
              "#46039f"
             ],
             [
              0.2222222222222222,
              "#7201a8"
             ],
             [
              0.3333333333333333,
              "#9c179e"
             ],
             [
              0.4444444444444444,
              "#bd3786"
             ],
             [
              0.5555555555555556,
              "#d8576b"
             ],
             [
              0.6666666666666666,
              "#ed7953"
             ],
             [
              0.7777777777777778,
              "#fb9f3a"
             ],
             [
              0.8888888888888888,
              "#fdca26"
             ],
             [
              1,
              "#f0f921"
             ]
            ],
            "type": "contour"
           }
          ],
          "contourcarpet": [
           {
            "colorbar": {
             "outlinewidth": 0,
             "ticks": ""
            },
            "type": "contourcarpet"
           }
          ],
          "heatmap": [
           {
            "colorbar": {
             "outlinewidth": 0,
             "ticks": ""
            },
            "colorscale": [
             [
              0,
              "#0d0887"
             ],
             [
              0.1111111111111111,
              "#46039f"
             ],
             [
              0.2222222222222222,
              "#7201a8"
             ],
             [
              0.3333333333333333,
              "#9c179e"
             ],
             [
              0.4444444444444444,
              "#bd3786"
             ],
             [
              0.5555555555555556,
              "#d8576b"
             ],
             [
              0.6666666666666666,
              "#ed7953"
             ],
             [
              0.7777777777777778,
              "#fb9f3a"
             ],
             [
              0.8888888888888888,
              "#fdca26"
             ],
             [
              1,
              "#f0f921"
             ]
            ],
            "type": "heatmap"
           }
          ],
          "heatmapgl": [
           {
            "colorbar": {
             "outlinewidth": 0,
             "ticks": ""
            },
            "colorscale": [
             [
              0,
              "#0d0887"
             ],
             [
              0.1111111111111111,
              "#46039f"
             ],
             [
              0.2222222222222222,
              "#7201a8"
             ],
             [
              0.3333333333333333,
              "#9c179e"
             ],
             [
              0.4444444444444444,
              "#bd3786"
             ],
             [
              0.5555555555555556,
              "#d8576b"
             ],
             [
              0.6666666666666666,
              "#ed7953"
             ],
             [
              0.7777777777777778,
              "#fb9f3a"
             ],
             [
              0.8888888888888888,
              "#fdca26"
             ],
             [
              1,
              "#f0f921"
             ]
            ],
            "type": "heatmapgl"
           }
          ],
          "histogram": [
           {
            "marker": {
             "pattern": {
              "fillmode": "overlay",
              "size": 10,
              "solidity": 0.2
             }
            },
            "type": "histogram"
           }
          ],
          "histogram2d": [
           {
            "colorbar": {
             "outlinewidth": 0,
             "ticks": ""
            },
            "colorscale": [
             [
              0,
              "#0d0887"
             ],
             [
              0.1111111111111111,
              "#46039f"
             ],
             [
              0.2222222222222222,
              "#7201a8"
             ],
             [
              0.3333333333333333,
              "#9c179e"
             ],
             [
              0.4444444444444444,
              "#bd3786"
             ],
             [
              0.5555555555555556,
              "#d8576b"
             ],
             [
              0.6666666666666666,
              "#ed7953"
             ],
             [
              0.7777777777777778,
              "#fb9f3a"
             ],
             [
              0.8888888888888888,
              "#fdca26"
             ],
             [
              1,
              "#f0f921"
             ]
            ],
            "type": "histogram2d"
           }
          ],
          "histogram2dcontour": [
           {
            "colorbar": {
             "outlinewidth": 0,
             "ticks": ""
            },
            "colorscale": [
             [
              0,
              "#0d0887"
             ],
             [
              0.1111111111111111,
              "#46039f"
             ],
             [
              0.2222222222222222,
              "#7201a8"
             ],
             [
              0.3333333333333333,
              "#9c179e"
             ],
             [
              0.4444444444444444,
              "#bd3786"
             ],
             [
              0.5555555555555556,
              "#d8576b"
             ],
             [
              0.6666666666666666,
              "#ed7953"
             ],
             [
              0.7777777777777778,
              "#fb9f3a"
             ],
             [
              0.8888888888888888,
              "#fdca26"
             ],
             [
              1,
              "#f0f921"
             ]
            ],
            "type": "histogram2dcontour"
           }
          ],
          "mesh3d": [
           {
            "colorbar": {
             "outlinewidth": 0,
             "ticks": ""
            },
            "type": "mesh3d"
           }
          ],
          "parcoords": [
           {
            "line": {
             "colorbar": {
              "outlinewidth": 0,
              "ticks": ""
             }
            },
            "type": "parcoords"
           }
          ],
          "pie": [
           {
            "automargin": true,
            "type": "pie"
           }
          ],
          "scatter": [
           {
            "marker": {
             "colorbar": {
              "outlinewidth": 0,
              "ticks": ""
             }
            },
            "type": "scatter"
           }
          ],
          "scatter3d": [
           {
            "line": {
             "colorbar": {
              "outlinewidth": 0,
              "ticks": ""
             }
            },
            "marker": {
             "colorbar": {
              "outlinewidth": 0,
              "ticks": ""
             }
            },
            "type": "scatter3d"
           }
          ],
          "scattercarpet": [
           {
            "marker": {
             "colorbar": {
              "outlinewidth": 0,
              "ticks": ""
             }
            },
            "type": "scattercarpet"
           }
          ],
          "scattergeo": [
           {
            "marker": {
             "colorbar": {
              "outlinewidth": 0,
              "ticks": ""
             }
            },
            "type": "scattergeo"
           }
          ],
          "scattergl": [
           {
            "marker": {
             "colorbar": {
              "outlinewidth": 0,
              "ticks": ""
             }
            },
            "type": "scattergl"
           }
          ],
          "scattermapbox": [
           {
            "marker": {
             "colorbar": {
              "outlinewidth": 0,
              "ticks": ""
             }
            },
            "type": "scattermapbox"
           }
          ],
          "scatterpolar": [
           {
            "marker": {
             "colorbar": {
              "outlinewidth": 0,
              "ticks": ""
             }
            },
            "type": "scatterpolar"
           }
          ],
          "scatterpolargl": [
           {
            "marker": {
             "colorbar": {
              "outlinewidth": 0,
              "ticks": ""
             }
            },
            "type": "scatterpolargl"
           }
          ],
          "scatterternary": [
           {
            "marker": {
             "colorbar": {
              "outlinewidth": 0,
              "ticks": ""
             }
            },
            "type": "scatterternary"
           }
          ],
          "surface": [
           {
            "colorbar": {
             "outlinewidth": 0,
             "ticks": ""
            },
            "colorscale": [
             [
              0,
              "#0d0887"
             ],
             [
              0.1111111111111111,
              "#46039f"
             ],
             [
              0.2222222222222222,
              "#7201a8"
             ],
             [
              0.3333333333333333,
              "#9c179e"
             ],
             [
              0.4444444444444444,
              "#bd3786"
             ],
             [
              0.5555555555555556,
              "#d8576b"
             ],
             [
              0.6666666666666666,
              "#ed7953"
             ],
             [
              0.7777777777777778,
              "#fb9f3a"
             ],
             [
              0.8888888888888888,
              "#fdca26"
             ],
             [
              1,
              "#f0f921"
             ]
            ],
            "type": "surface"
           }
          ],
          "table": [
           {
            "cells": {
             "fill": {
              "color": "#EBF0F8"
             },
             "line": {
              "color": "white"
             }
            },
            "header": {
             "fill": {
              "color": "#C8D4E3"
             },
             "line": {
              "color": "white"
             }
            },
            "type": "table"
           }
          ]
         },
         "layout": {
          "annotationdefaults": {
           "arrowcolor": "#2a3f5f",
           "arrowhead": 0,
           "arrowwidth": 1
          },
          "autotypenumbers": "strict",
          "coloraxis": {
           "colorbar": {
            "outlinewidth": 0,
            "ticks": ""
           }
          },
          "colorscale": {
           "diverging": [
            [
             0,
             "#8e0152"
            ],
            [
             0.1,
             "#c51b7d"
            ],
            [
             0.2,
             "#de77ae"
            ],
            [
             0.3,
             "#f1b6da"
            ],
            [
             0.4,
             "#fde0ef"
            ],
            [
             0.5,
             "#f7f7f7"
            ],
            [
             0.6,
             "#e6f5d0"
            ],
            [
             0.7,
             "#b8e186"
            ],
            [
             0.8,
             "#7fbc41"
            ],
            [
             0.9,
             "#4d9221"
            ],
            [
             1,
             "#276419"
            ]
           ],
           "sequential": [
            [
             0,
             "#0d0887"
            ],
            [
             0.1111111111111111,
             "#46039f"
            ],
            [
             0.2222222222222222,
             "#7201a8"
            ],
            [
             0.3333333333333333,
             "#9c179e"
            ],
            [
             0.4444444444444444,
             "#bd3786"
            ],
            [
             0.5555555555555556,
             "#d8576b"
            ],
            [
             0.6666666666666666,
             "#ed7953"
            ],
            [
             0.7777777777777778,
             "#fb9f3a"
            ],
            [
             0.8888888888888888,
             "#fdca26"
            ],
            [
             1,
             "#f0f921"
            ]
           ],
           "sequentialminus": [
            [
             0,
             "#0d0887"
            ],
            [
             0.1111111111111111,
             "#46039f"
            ],
            [
             0.2222222222222222,
             "#7201a8"
            ],
            [
             0.3333333333333333,
             "#9c179e"
            ],
            [
             0.4444444444444444,
             "#bd3786"
            ],
            [
             0.5555555555555556,
             "#d8576b"
            ],
            [
             0.6666666666666666,
             "#ed7953"
            ],
            [
             0.7777777777777778,
             "#fb9f3a"
            ],
            [
             0.8888888888888888,
             "#fdca26"
            ],
            [
             1,
             "#f0f921"
            ]
           ]
          },
          "colorway": [
           "#636efa",
           "#EF553B",
           "#00cc96",
           "#ab63fa",
           "#FFA15A",
           "#19d3f3",
           "#FF6692",
           "#B6E880",
           "#FF97FF",
           "#FECB52"
          ],
          "font": {
           "color": "#2a3f5f"
          },
          "geo": {
           "bgcolor": "white",
           "lakecolor": "white",
           "landcolor": "#E5ECF6",
           "showlakes": true,
           "showland": true,
           "subunitcolor": "white"
          },
          "hoverlabel": {
           "align": "left"
          },
          "hovermode": "closest",
          "mapbox": {
           "style": "light"
          },
          "paper_bgcolor": "white",
          "plot_bgcolor": "#E5ECF6",
          "polar": {
           "angularaxis": {
            "gridcolor": "white",
            "linecolor": "white",
            "ticks": ""
           },
           "bgcolor": "#E5ECF6",
           "radialaxis": {
            "gridcolor": "white",
            "linecolor": "white",
            "ticks": ""
           }
          },
          "scene": {
           "xaxis": {
            "backgroundcolor": "#E5ECF6",
            "gridcolor": "white",
            "gridwidth": 2,
            "linecolor": "white",
            "showbackground": true,
            "ticks": "",
            "zerolinecolor": "white"
           },
           "yaxis": {
            "backgroundcolor": "#E5ECF6",
            "gridcolor": "white",
            "gridwidth": 2,
            "linecolor": "white",
            "showbackground": true,
            "ticks": "",
            "zerolinecolor": "white"
           },
           "zaxis": {
            "backgroundcolor": "#E5ECF6",
            "gridcolor": "white",
            "gridwidth": 2,
            "linecolor": "white",
            "showbackground": true,
            "ticks": "",
            "zerolinecolor": "white"
           }
          },
          "shapedefaults": {
           "line": {
            "color": "#2a3f5f"
           }
          },
          "ternary": {
           "aaxis": {
            "gridcolor": "white",
            "linecolor": "white",
            "ticks": ""
           },
           "baxis": {
            "gridcolor": "white",
            "linecolor": "white",
            "ticks": ""
           },
           "bgcolor": "#E5ECF6",
           "caxis": {
            "gridcolor": "white",
            "linecolor": "white",
            "ticks": ""
           }
          },
          "title": {
           "x": 0.05
          },
          "xaxis": {
           "automargin": true,
           "gridcolor": "white",
           "linecolor": "white",
           "ticks": "",
           "title": {
            "standoff": 15
           },
           "zerolinecolor": "white",
           "zerolinewidth": 2
          },
          "yaxis": {
           "automargin": true,
           "gridcolor": "white",
           "linecolor": "white",
           "ticks": "",
           "title": {
            "standoff": 15
           },
           "zerolinecolor": "white",
           "zerolinewidth": 2
          }
         }
        },
        "xaxis": {
         "rangeslider": {
          "visible": true
         }
        }
       }
      }
     },
     "metadata": {},
     "output_type": "display_data"
    }
   ],
   "source": [
    "import plotly.graph_objects as go\n",
    "from plotly.subplots import make_subplots\n",
    "fig2 = make_subplots(rows=1, cols=2)\n",
    "\n",
    "df_bal=df2.drop(['AC','SE','RJ'],axis=0)\n",
    "indexes=df_bal.index\n",
    "\n",
    "fig = go.Figure(data=[\n",
    "    go.Scatter(name=df_bal.columns[3], x=indexes, \n",
    "           y=df_bal['Valor Licitado'].values,mode='lines+markers'\n",
    "          ),\n",
    "\n",
    "    go.Bar(name=df_bal.columns[4], \n",
    "           x=indexes, y=df_bal['Valor Ilegal'].values,\n",
    "           text=df_bal['{%} Valor Ilegal'],\n",
    "           textposition='outside')        \n",
    "])\n",
    "\n",
    "# Change the bar mode\n",
    "fig.update_layout(barmode='group')\n",
    "fig.update_xaxes(rangeslider_visible=True)\n",
    "fig.show()"
   ]
  },
  {
   "cell_type": "code",
   "execution_count": 337,
   "id": "b760a40d",
   "metadata": {},
   "outputs": [
    {
     "data": {
      "text/html": [
       "<div>\n",
       "<style scoped>\n",
       "    .dataframe tbody tr th:only-of-type {\n",
       "        vertical-align: middle;\n",
       "    }\n",
       "\n",
       "    .dataframe tbody tr th {\n",
       "        vertical-align: top;\n",
       "    }\n",
       "\n",
       "    .dataframe thead th {\n",
       "        text-align: right;\n",
       "    }\n",
       "</style>\n",
       "<table border=\"1\" class=\"dataframe\">\n",
       "  <thead>\n",
       "    <tr style=\"text-align: right;\">\n",
       "      <th></th>\n",
       "      <th>{%} de Ilegalidades</th>\n",
       "      <th>Total de Licitações</th>\n",
       "      <th>Total de Ilegais</th>\n",
       "      <th>Valor Licitado</th>\n",
       "      <th>Valor Ilegal</th>\n",
       "      <th>{%} Valor Ilegal</th>\n",
       "    </tr>\n",
       "  </thead>\n",
       "  <tbody>\n",
       "    <tr>\n",
       "      <th>GO</th>\n",
       "      <td>0.695833</td>\n",
       "      <td>240</td>\n",
       "      <td>167</td>\n",
       "      <td>3.245370e+07</td>\n",
       "      <td>1.978798e+07</td>\n",
       "      <td>0.609730</td>\n",
       "    </tr>\n",
       "    <tr>\n",
       "      <th>MT</th>\n",
       "      <td>0.694789</td>\n",
       "      <td>403</td>\n",
       "      <td>280</td>\n",
       "      <td>9.268363e+08</td>\n",
       "      <td>2.966935e+07</td>\n",
       "      <td>0.032011</td>\n",
       "    </tr>\n",
       "    <tr>\n",
       "      <th>PB</th>\n",
       "      <td>0.678335</td>\n",
       "      <td>1057</td>\n",
       "      <td>717</td>\n",
       "      <td>5.108516e+08</td>\n",
       "      <td>7.155202e+07</td>\n",
       "      <td>0.140064</td>\n",
       "    </tr>\n",
       "    <tr>\n",
       "      <th>RN</th>\n",
       "      <td>0.667060</td>\n",
       "      <td>1694</td>\n",
       "      <td>1130</td>\n",
       "      <td>5.908024e+08</td>\n",
       "      <td>1.262819e+08</td>\n",
       "      <td>0.213746</td>\n",
       "    </tr>\n",
       "    <tr>\n",
       "      <th>RR</th>\n",
       "      <td>0.652778</td>\n",
       "      <td>504</td>\n",
       "      <td>329</td>\n",
       "      <td>4.011057e+08</td>\n",
       "      <td>5.468588e+07</td>\n",
       "      <td>0.136338</td>\n",
       "    </tr>\n",
       "  </tbody>\n",
       "</table>\n",
       "</div>"
      ],
      "text/plain": [
       "    {%} de Ilegalidades  Total de Licitações  Total de Ilegais  \\\n",
       "GO             0.695833                  240               167   \n",
       "MT             0.694789                  403               280   \n",
       "PB             0.678335                 1057               717   \n",
       "RN             0.667060                 1694              1130   \n",
       "RR             0.652778                  504               329   \n",
       "\n",
       "    Valor Licitado  Valor Ilegal  {%} Valor Ilegal  \n",
       "GO    3.245370e+07  1.978798e+07          0.609730  \n",
       "MT    9.268363e+08  2.966935e+07          0.032011  \n",
       "PB    5.108516e+08  7.155202e+07          0.140064  \n",
       "RN    5.908024e+08  1.262819e+08          0.213746  \n",
       "RR    4.011057e+08  5.468588e+07          0.136338  "
      ]
     },
     "execution_count": 337,
     "metadata": {},
     "output_type": "execute_result"
    }
   ],
   "source": [
    "df.head()"
   ]
  },
  {
   "cell_type": "code",
   "execution_count": 336,
   "id": "45ffddd6",
   "metadata": {},
   "outputs": [
    {
     "data": {
      "application/vnd.plotly.v1+json": {
       "config": {
        "plotlyServerURL": "https://plot.ly"
       },
       "data": [
        {
         "mode": "lines+markers",
         "name": "Valor Licitado",
         "type": "scatter",
         "x": [
          "MG",
          "RS",
          "PR",
          "PE",
          "SP",
          "BA",
          "RN",
          "CE",
          "MS",
          "AM",
          "PB",
          "AL",
          "PI",
          "RO",
          "PA",
          "RR",
          "MT",
          "SC",
          "TO",
          "ES",
          "GO",
          "MA",
          "AP"
         ],
         "xaxis": "x3",
         "y": [
          1913880595.2,
          2509244565.02,
          1332462250.28,
          3249519325.04,
          173454988.48,
          1656192822.2,
          590802355.6,
          1816121013.89,
          749185416.02,
          1725935402.4,
          510851616.51,
          789432939.73,
          905343347.8,
          571148597.49,
          114414666.82,
          401105658.61,
          926836304.31,
          104812356.5,
          471920972.75,
          48566583.14,
          32453700.09,
          12095345.17,
          2358454.82
         ],
         "yaxis": "y3"
        },
        {
         "name": "Valor Ilegal",
         "text": [
          0.0836,
          0.0774,
          0.0869,
          0.0419,
          0.2633,
          0.1642,
          0.2137,
          0.0328,
          0.0792,
          0.0454,
          0.1401,
          0.0611,
          0.062,
          0.0383,
          0.0877,
          0.1363,
          0.032,
          0.1535,
          0.039,
          0.2449,
          0.6097,
          0.4558,
          0.5996
         ],
         "textposition": "outside",
         "type": "bar",
         "x": [
          "MG",
          "RS",
          "PR",
          "PE",
          "SP",
          "BA",
          "RN",
          "CE",
          "MS",
          "AM",
          "PB",
          "AL",
          "PI",
          "RO",
          "PA",
          "RR",
          "MT",
          "SC",
          "TO",
          "ES",
          "GO",
          "MA",
          "AP"
         ],
         "xaxis": "x3",
         "y": [
          160055761.34,
          194335705.27,
          115748160.19,
          136068729.28,
          45662767.9,
          271957835.44,
          126281858.89,
          59523002.43,
          59364134.28,
          78383229.24,
          71552023.58,
          48248474.3,
          56098574.01,
          21871528.36,
          10035538.62,
          54685881.23,
          29669353.11,
          16086559.73,
          18425586.41,
          11894638.86,
          19787980.36,
          5512819.73,
          1414054
         ],
         "yaxis": "y3"
        },
        {
         "mode": "lines+markers",
         "name": "Valor Licitado",
         "type": "scatter",
         "x": [
          "SE",
          "RJ"
         ],
         "xaxis": "x",
         "y": [
          22736188562.4,
          9458140620.62
         ],
         "yaxis": "y"
        },
        {
         "name": "Valor Ilegal",
         "text": [
          0.0018,
          0.0692
         ],
         "textposition": "outside",
         "type": "bar",
         "x": [
          "SE",
          "RJ"
         ],
         "xaxis": "x",
         "y": [
          40503017.43,
          654575161.92
         ],
         "yaxis": "y"
        },
        {
         "mode": "lines+markers",
         "name": "Valor Licitado",
         "type": "scatter",
         "x": [
          "AC"
         ],
         "xaxis": "x2",
         "y": [
          1182798788321.47
         ],
         "yaxis": "y2"
        },
        {
         "name": "Valor Ilegal",
         "text": [
          0.0004
         ],
         "textposition": "outside",
         "type": "bar",
         "x": [
          "AC"
         ],
         "xaxis": "x2",
         "y": [
          443493664.41
         ],
         "yaxis": "y2"
        }
       ],
       "layout": {
        "barmode": "group",
        "template": {
         "data": {
          "bar": [
           {
            "error_x": {
             "color": "#2a3f5f"
            },
            "error_y": {
             "color": "#2a3f5f"
            },
            "marker": {
             "line": {
              "color": "#E5ECF6",
              "width": 0.5
             },
             "pattern": {
              "fillmode": "overlay",
              "size": 10,
              "solidity": 0.2
             }
            },
            "type": "bar"
           }
          ],
          "barpolar": [
           {
            "marker": {
             "line": {
              "color": "#E5ECF6",
              "width": 0.5
             },
             "pattern": {
              "fillmode": "overlay",
              "size": 10,
              "solidity": 0.2
             }
            },
            "type": "barpolar"
           }
          ],
          "carpet": [
           {
            "aaxis": {
             "endlinecolor": "#2a3f5f",
             "gridcolor": "white",
             "linecolor": "white",
             "minorgridcolor": "white",
             "startlinecolor": "#2a3f5f"
            },
            "baxis": {
             "endlinecolor": "#2a3f5f",
             "gridcolor": "white",
             "linecolor": "white",
             "minorgridcolor": "white",
             "startlinecolor": "#2a3f5f"
            },
            "type": "carpet"
           }
          ],
          "choropleth": [
           {
            "colorbar": {
             "outlinewidth": 0,
             "ticks": ""
            },
            "type": "choropleth"
           }
          ],
          "contour": [
           {
            "colorbar": {
             "outlinewidth": 0,
             "ticks": ""
            },
            "colorscale": [
             [
              0,
              "#0d0887"
             ],
             [
              0.1111111111111111,
              "#46039f"
             ],
             [
              0.2222222222222222,
              "#7201a8"
             ],
             [
              0.3333333333333333,
              "#9c179e"
             ],
             [
              0.4444444444444444,
              "#bd3786"
             ],
             [
              0.5555555555555556,
              "#d8576b"
             ],
             [
              0.6666666666666666,
              "#ed7953"
             ],
             [
              0.7777777777777778,
              "#fb9f3a"
             ],
             [
              0.8888888888888888,
              "#fdca26"
             ],
             [
              1,
              "#f0f921"
             ]
            ],
            "type": "contour"
           }
          ],
          "contourcarpet": [
           {
            "colorbar": {
             "outlinewidth": 0,
             "ticks": ""
            },
            "type": "contourcarpet"
           }
          ],
          "heatmap": [
           {
            "colorbar": {
             "outlinewidth": 0,
             "ticks": ""
            },
            "colorscale": [
             [
              0,
              "#0d0887"
             ],
             [
              0.1111111111111111,
              "#46039f"
             ],
             [
              0.2222222222222222,
              "#7201a8"
             ],
             [
              0.3333333333333333,
              "#9c179e"
             ],
             [
              0.4444444444444444,
              "#bd3786"
             ],
             [
              0.5555555555555556,
              "#d8576b"
             ],
             [
              0.6666666666666666,
              "#ed7953"
             ],
             [
              0.7777777777777778,
              "#fb9f3a"
             ],
             [
              0.8888888888888888,
              "#fdca26"
             ],
             [
              1,
              "#f0f921"
             ]
            ],
            "type": "heatmap"
           }
          ],
          "heatmapgl": [
           {
            "colorbar": {
             "outlinewidth": 0,
             "ticks": ""
            },
            "colorscale": [
             [
              0,
              "#0d0887"
             ],
             [
              0.1111111111111111,
              "#46039f"
             ],
             [
              0.2222222222222222,
              "#7201a8"
             ],
             [
              0.3333333333333333,
              "#9c179e"
             ],
             [
              0.4444444444444444,
              "#bd3786"
             ],
             [
              0.5555555555555556,
              "#d8576b"
             ],
             [
              0.6666666666666666,
              "#ed7953"
             ],
             [
              0.7777777777777778,
              "#fb9f3a"
             ],
             [
              0.8888888888888888,
              "#fdca26"
             ],
             [
              1,
              "#f0f921"
             ]
            ],
            "type": "heatmapgl"
           }
          ],
          "histogram": [
           {
            "marker": {
             "pattern": {
              "fillmode": "overlay",
              "size": 10,
              "solidity": 0.2
             }
            },
            "type": "histogram"
           }
          ],
          "histogram2d": [
           {
            "colorbar": {
             "outlinewidth": 0,
             "ticks": ""
            },
            "colorscale": [
             [
              0,
              "#0d0887"
             ],
             [
              0.1111111111111111,
              "#46039f"
             ],
             [
              0.2222222222222222,
              "#7201a8"
             ],
             [
              0.3333333333333333,
              "#9c179e"
             ],
             [
              0.4444444444444444,
              "#bd3786"
             ],
             [
              0.5555555555555556,
              "#d8576b"
             ],
             [
              0.6666666666666666,
              "#ed7953"
             ],
             [
              0.7777777777777778,
              "#fb9f3a"
             ],
             [
              0.8888888888888888,
              "#fdca26"
             ],
             [
              1,
              "#f0f921"
             ]
            ],
            "type": "histogram2d"
           }
          ],
          "histogram2dcontour": [
           {
            "colorbar": {
             "outlinewidth": 0,
             "ticks": ""
            },
            "colorscale": [
             [
              0,
              "#0d0887"
             ],
             [
              0.1111111111111111,
              "#46039f"
             ],
             [
              0.2222222222222222,
              "#7201a8"
             ],
             [
              0.3333333333333333,
              "#9c179e"
             ],
             [
              0.4444444444444444,
              "#bd3786"
             ],
             [
              0.5555555555555556,
              "#d8576b"
             ],
             [
              0.6666666666666666,
              "#ed7953"
             ],
             [
              0.7777777777777778,
              "#fb9f3a"
             ],
             [
              0.8888888888888888,
              "#fdca26"
             ],
             [
              1,
              "#f0f921"
             ]
            ],
            "type": "histogram2dcontour"
           }
          ],
          "mesh3d": [
           {
            "colorbar": {
             "outlinewidth": 0,
             "ticks": ""
            },
            "type": "mesh3d"
           }
          ],
          "parcoords": [
           {
            "line": {
             "colorbar": {
              "outlinewidth": 0,
              "ticks": ""
             }
            },
            "type": "parcoords"
           }
          ],
          "pie": [
           {
            "automargin": true,
            "type": "pie"
           }
          ],
          "scatter": [
           {
            "marker": {
             "colorbar": {
              "outlinewidth": 0,
              "ticks": ""
             }
            },
            "type": "scatter"
           }
          ],
          "scatter3d": [
           {
            "line": {
             "colorbar": {
              "outlinewidth": 0,
              "ticks": ""
             }
            },
            "marker": {
             "colorbar": {
              "outlinewidth": 0,
              "ticks": ""
             }
            },
            "type": "scatter3d"
           }
          ],
          "scattercarpet": [
           {
            "marker": {
             "colorbar": {
              "outlinewidth": 0,
              "ticks": ""
             }
            },
            "type": "scattercarpet"
           }
          ],
          "scattergeo": [
           {
            "marker": {
             "colorbar": {
              "outlinewidth": 0,
              "ticks": ""
             }
            },
            "type": "scattergeo"
           }
          ],
          "scattergl": [
           {
            "marker": {
             "colorbar": {
              "outlinewidth": 0,
              "ticks": ""
             }
            },
            "type": "scattergl"
           }
          ],
          "scattermapbox": [
           {
            "marker": {
             "colorbar": {
              "outlinewidth": 0,
              "ticks": ""
             }
            },
            "type": "scattermapbox"
           }
          ],
          "scatterpolar": [
           {
            "marker": {
             "colorbar": {
              "outlinewidth": 0,
              "ticks": ""
             }
            },
            "type": "scatterpolar"
           }
          ],
          "scatterpolargl": [
           {
            "marker": {
             "colorbar": {
              "outlinewidth": 0,
              "ticks": ""
             }
            },
            "type": "scatterpolargl"
           }
          ],
          "scatterternary": [
           {
            "marker": {
             "colorbar": {
              "outlinewidth": 0,
              "ticks": ""
             }
            },
            "type": "scatterternary"
           }
          ],
          "surface": [
           {
            "colorbar": {
             "outlinewidth": 0,
             "ticks": ""
            },
            "colorscale": [
             [
              0,
              "#0d0887"
             ],
             [
              0.1111111111111111,
              "#46039f"
             ],
             [
              0.2222222222222222,
              "#7201a8"
             ],
             [
              0.3333333333333333,
              "#9c179e"
             ],
             [
              0.4444444444444444,
              "#bd3786"
             ],
             [
              0.5555555555555556,
              "#d8576b"
             ],
             [
              0.6666666666666666,
              "#ed7953"
             ],
             [
              0.7777777777777778,
              "#fb9f3a"
             ],
             [
              0.8888888888888888,
              "#fdca26"
             ],
             [
              1,
              "#f0f921"
             ]
            ],
            "type": "surface"
           }
          ],
          "table": [
           {
            "cells": {
             "fill": {
              "color": "#EBF0F8"
             },
             "line": {
              "color": "white"
             }
            },
            "header": {
             "fill": {
              "color": "#C8D4E3"
             },
             "line": {
              "color": "white"
             }
            },
            "type": "table"
           }
          ]
         },
         "layout": {
          "annotationdefaults": {
           "arrowcolor": "#2a3f5f",
           "arrowhead": 0,
           "arrowwidth": 1
          },
          "autotypenumbers": "strict",
          "coloraxis": {
           "colorbar": {
            "outlinewidth": 0,
            "ticks": ""
           }
          },
          "colorscale": {
           "diverging": [
            [
             0,
             "#8e0152"
            ],
            [
             0.1,
             "#c51b7d"
            ],
            [
             0.2,
             "#de77ae"
            ],
            [
             0.3,
             "#f1b6da"
            ],
            [
             0.4,
             "#fde0ef"
            ],
            [
             0.5,
             "#f7f7f7"
            ],
            [
             0.6,
             "#e6f5d0"
            ],
            [
             0.7,
             "#b8e186"
            ],
            [
             0.8,
             "#7fbc41"
            ],
            [
             0.9,
             "#4d9221"
            ],
            [
             1,
             "#276419"
            ]
           ],
           "sequential": [
            [
             0,
             "#0d0887"
            ],
            [
             0.1111111111111111,
             "#46039f"
            ],
            [
             0.2222222222222222,
             "#7201a8"
            ],
            [
             0.3333333333333333,
             "#9c179e"
            ],
            [
             0.4444444444444444,
             "#bd3786"
            ],
            [
             0.5555555555555556,
             "#d8576b"
            ],
            [
             0.6666666666666666,
             "#ed7953"
            ],
            [
             0.7777777777777778,
             "#fb9f3a"
            ],
            [
             0.8888888888888888,
             "#fdca26"
            ],
            [
             1,
             "#f0f921"
            ]
           ],
           "sequentialminus": [
            [
             0,
             "#0d0887"
            ],
            [
             0.1111111111111111,
             "#46039f"
            ],
            [
             0.2222222222222222,
             "#7201a8"
            ],
            [
             0.3333333333333333,
             "#9c179e"
            ],
            [
             0.4444444444444444,
             "#bd3786"
            ],
            [
             0.5555555555555556,
             "#d8576b"
            ],
            [
             0.6666666666666666,
             "#ed7953"
            ],
            [
             0.7777777777777778,
             "#fb9f3a"
            ],
            [
             0.8888888888888888,
             "#fdca26"
            ],
            [
             1,
             "#f0f921"
            ]
           ]
          },
          "colorway": [
           "#636efa",
           "#EF553B",
           "#00cc96",
           "#ab63fa",
           "#FFA15A",
           "#19d3f3",
           "#FF6692",
           "#B6E880",
           "#FF97FF",
           "#FECB52"
          ],
          "font": {
           "color": "#2a3f5f"
          },
          "geo": {
           "bgcolor": "white",
           "lakecolor": "white",
           "landcolor": "#E5ECF6",
           "showlakes": true,
           "showland": true,
           "subunitcolor": "white"
          },
          "hoverlabel": {
           "align": "left"
          },
          "hovermode": "closest",
          "mapbox": {
           "style": "light"
          },
          "paper_bgcolor": "white",
          "plot_bgcolor": "#E5ECF6",
          "polar": {
           "angularaxis": {
            "gridcolor": "white",
            "linecolor": "white",
            "ticks": ""
           },
           "bgcolor": "#E5ECF6",
           "radialaxis": {
            "gridcolor": "white",
            "linecolor": "white",
            "ticks": ""
           }
          },
          "scene": {
           "xaxis": {
            "backgroundcolor": "#E5ECF6",
            "gridcolor": "white",
            "gridwidth": 2,
            "linecolor": "white",
            "showbackground": true,
            "ticks": "",
            "zerolinecolor": "white"
           },
           "yaxis": {
            "backgroundcolor": "#E5ECF6",
            "gridcolor": "white",
            "gridwidth": 2,
            "linecolor": "white",
            "showbackground": true,
            "ticks": "",
            "zerolinecolor": "white"
           },
           "zaxis": {
            "backgroundcolor": "#E5ECF6",
            "gridcolor": "white",
            "gridwidth": 2,
            "linecolor": "white",
            "showbackground": true,
            "ticks": "",
            "zerolinecolor": "white"
           }
          },
          "shapedefaults": {
           "line": {
            "color": "#2a3f5f"
           }
          },
          "ternary": {
           "aaxis": {
            "gridcolor": "white",
            "linecolor": "white",
            "ticks": ""
           },
           "baxis": {
            "gridcolor": "white",
            "linecolor": "white",
            "ticks": ""
           },
           "bgcolor": "#E5ECF6",
           "caxis": {
            "gridcolor": "white",
            "linecolor": "white",
            "ticks": ""
           }
          },
          "title": {
           "x": 0.05
          },
          "xaxis": {
           "automargin": true,
           "gridcolor": "white",
           "linecolor": "white",
           "ticks": "",
           "title": {
            "standoff": 15
           },
           "zerolinecolor": "white",
           "zerolinewidth": 2
          },
          "yaxis": {
           "automargin": true,
           "gridcolor": "white",
           "linecolor": "white",
           "ticks": "",
           "title": {
            "standoff": 15
           },
           "zerolinecolor": "white",
           "zerolinewidth": 2
          }
         }
        },
        "xaxis": {
         "anchor": "y",
         "domain": [
          0,
          0.45
         ]
        },
        "xaxis2": {
         "anchor": "y2",
         "domain": [
          0.55,
          1
         ]
        },
        "xaxis3": {
         "anchor": "y3",
         "domain": [
          0,
          1
         ]
        },
        "yaxis": {
         "anchor": "x",
         "domain": [
          0.575,
          1
         ]
        },
        "yaxis2": {
         "anchor": "x2",
         "domain": [
          0.575,
          1
         ]
        },
        "yaxis3": {
         "anchor": "x3",
         "domain": [
          0,
          0.425
         ]
        }
       }
      }
     },
     "metadata": {},
     "output_type": "display_data"
    }
   ],
   "source": [
    "import plotly.graph_objects as go\n",
    "from plotly.subplots import make_subplots\n",
    "\n",
    "fig = make_subplots(rows=2, cols=2,specs=[[{}, {}],\n",
    "           [{\"colspan\": 2}, None]])\n",
    "\n",
    "df_bal=df2.drop(['AC','SE','RJ'],axis=0)\n",
    "indexes=df_bal.index\n",
    "\n",
    "#\n",
    "fig.add_trace(go.Scatter(name=df_bal.columns[3], x=indexes, \n",
    "           y=df_bal['Valor Licitado'].values,mode='lines+markers'\n",
    "          ),2,1)\n",
    "fig.add_trace(go.Bar(name=df_bal.columns[4], \n",
    "           x=indexes, y=df_bal['Valor Ilegal'].values,\n",
    "           text=df_bal['{%} Valor Ilegal'],\n",
    "           textposition='outside'        \n",
    "       ),row=2,col=1)\n",
    "\n",
    "fig.add_trace(go.Scatter(name=df2.columns[3], x=['SE','RJ'], \n",
    "           y=df2['Valor Licitado'][['SE','RJ']].values,mode='lines+markers'\n",
    "          ),1,1)\n",
    "fig.add_trace(go.Bar(name=df2.columns[4], \n",
    "           x=['SE','RJ'], y=df['Valor Ilegal'][['SE','RJ']].values,\n",
    "           text=df2['{%} Valor Ilegal'][['SE','RJ']],\n",
    "           textposition='outside'        \n",
    "       ),row=1,col=1)\n",
    "\n",
    "fig.add_trace(go.Scatter(name=df2.columns[3], x=['AC'], \n",
    "           y=df2['Valor Licitado'][['AC']].values,mode='lines+markers'\n",
    "          ),1,2)\n",
    "fig.add_trace(go.Bar(name=df2.columns[4], \n",
    "           x=['AC'], y=df['Valor Ilegal'][['AC']].values,\n",
    "           text=df2['{%} Valor Ilegal'][['AC']],\n",
    "           textposition='outside'        \n",
    "       ),row=1,col=2)\n",
    "\n",
    "fig.update_layout(barmode='group')\n",
    "#fig.update_xaxes(rangeslider_visible=True)\n",
    "fig.show()"
   ]
  },
  {
   "cell_type": "code",
   "execution_count": 203,
   "id": "52e9e3a5",
   "metadata": {},
   "outputs": [
    {
     "data": {
      "application/vnd.plotly.v1+json": {
       "config": {
        "plotlyServerURL": "https://plot.ly"
       },
       "data": [
        {
         "alignmentgroup": "True",
         "hovertemplate": "index=%{x}<br>Total de Licitações=%{y}<extra></extra>",
         "legendgroup": "",
         "marker": {
          "color": "#636efa",
          "pattern": {
           "shape": ""
          }
         },
         "name": "",
         "offsetgroup": "",
         "orientation": "v",
         "showlegend": false,
         "textposition": "auto",
         "texttemplate": "%{y}",
         "type": "bar",
         "x": [
          "RJ",
          "AC",
          "MG",
          "RS",
          "PR",
          "PE",
          "SP",
          "BA",
          "RN",
          "CE",
          "MS",
          "AM",
          "PB",
          "AL",
          "PI",
          "RO",
          "SE",
          "PA",
          "RR",
          "MT",
          "SC",
          "TO",
          "ES",
          "GO",
          "MA",
          "AP"
         ],
         "xaxis": "x",
         "y": [
          12780,
          6148,
          4393,
          3696,
          3022,
          2641,
          1863,
          1785,
          1694,
          1504,
          1483,
          1254,
          1057,
          1047,
          842,
          644,
          627,
          532,
          504,
          403,
          391,
          305,
          291,
          240,
          138,
          40
         ],
         "yaxis": "y"
        }
       ],
       "layout": {
        "barmode": "relative",
        "legend": {
         "tracegroupgap": 0
        },
        "margin": {
         "t": 60
        },
        "template": {
         "data": {
          "bar": [
           {
            "error_x": {
             "color": "#2a3f5f"
            },
            "error_y": {
             "color": "#2a3f5f"
            },
            "marker": {
             "line": {
              "color": "#E5ECF6",
              "width": 0.5
             },
             "pattern": {
              "fillmode": "overlay",
              "size": 10,
              "solidity": 0.2
             }
            },
            "type": "bar"
           }
          ],
          "barpolar": [
           {
            "marker": {
             "line": {
              "color": "#E5ECF6",
              "width": 0.5
             },
             "pattern": {
              "fillmode": "overlay",
              "size": 10,
              "solidity": 0.2
             }
            },
            "type": "barpolar"
           }
          ],
          "carpet": [
           {
            "aaxis": {
             "endlinecolor": "#2a3f5f",
             "gridcolor": "white",
             "linecolor": "white",
             "minorgridcolor": "white",
             "startlinecolor": "#2a3f5f"
            },
            "baxis": {
             "endlinecolor": "#2a3f5f",
             "gridcolor": "white",
             "linecolor": "white",
             "minorgridcolor": "white",
             "startlinecolor": "#2a3f5f"
            },
            "type": "carpet"
           }
          ],
          "choropleth": [
           {
            "colorbar": {
             "outlinewidth": 0,
             "ticks": ""
            },
            "type": "choropleth"
           }
          ],
          "contour": [
           {
            "colorbar": {
             "outlinewidth": 0,
             "ticks": ""
            },
            "colorscale": [
             [
              0,
              "#0d0887"
             ],
             [
              0.1111111111111111,
              "#46039f"
             ],
             [
              0.2222222222222222,
              "#7201a8"
             ],
             [
              0.3333333333333333,
              "#9c179e"
             ],
             [
              0.4444444444444444,
              "#bd3786"
             ],
             [
              0.5555555555555556,
              "#d8576b"
             ],
             [
              0.6666666666666666,
              "#ed7953"
             ],
             [
              0.7777777777777778,
              "#fb9f3a"
             ],
             [
              0.8888888888888888,
              "#fdca26"
             ],
             [
              1,
              "#f0f921"
             ]
            ],
            "type": "contour"
           }
          ],
          "contourcarpet": [
           {
            "colorbar": {
             "outlinewidth": 0,
             "ticks": ""
            },
            "type": "contourcarpet"
           }
          ],
          "heatmap": [
           {
            "colorbar": {
             "outlinewidth": 0,
             "ticks": ""
            },
            "colorscale": [
             [
              0,
              "#0d0887"
             ],
             [
              0.1111111111111111,
              "#46039f"
             ],
             [
              0.2222222222222222,
              "#7201a8"
             ],
             [
              0.3333333333333333,
              "#9c179e"
             ],
             [
              0.4444444444444444,
              "#bd3786"
             ],
             [
              0.5555555555555556,
              "#d8576b"
             ],
             [
              0.6666666666666666,
              "#ed7953"
             ],
             [
              0.7777777777777778,
              "#fb9f3a"
             ],
             [
              0.8888888888888888,
              "#fdca26"
             ],
             [
              1,
              "#f0f921"
             ]
            ],
            "type": "heatmap"
           }
          ],
          "heatmapgl": [
           {
            "colorbar": {
             "outlinewidth": 0,
             "ticks": ""
            },
            "colorscale": [
             [
              0,
              "#0d0887"
             ],
             [
              0.1111111111111111,
              "#46039f"
             ],
             [
              0.2222222222222222,
              "#7201a8"
             ],
             [
              0.3333333333333333,
              "#9c179e"
             ],
             [
              0.4444444444444444,
              "#bd3786"
             ],
             [
              0.5555555555555556,
              "#d8576b"
             ],
             [
              0.6666666666666666,
              "#ed7953"
             ],
             [
              0.7777777777777778,
              "#fb9f3a"
             ],
             [
              0.8888888888888888,
              "#fdca26"
             ],
             [
              1,
              "#f0f921"
             ]
            ],
            "type": "heatmapgl"
           }
          ],
          "histogram": [
           {
            "marker": {
             "pattern": {
              "fillmode": "overlay",
              "size": 10,
              "solidity": 0.2
             }
            },
            "type": "histogram"
           }
          ],
          "histogram2d": [
           {
            "colorbar": {
             "outlinewidth": 0,
             "ticks": ""
            },
            "colorscale": [
             [
              0,
              "#0d0887"
             ],
             [
              0.1111111111111111,
              "#46039f"
             ],
             [
              0.2222222222222222,
              "#7201a8"
             ],
             [
              0.3333333333333333,
              "#9c179e"
             ],
             [
              0.4444444444444444,
              "#bd3786"
             ],
             [
              0.5555555555555556,
              "#d8576b"
             ],
             [
              0.6666666666666666,
              "#ed7953"
             ],
             [
              0.7777777777777778,
              "#fb9f3a"
             ],
             [
              0.8888888888888888,
              "#fdca26"
             ],
             [
              1,
              "#f0f921"
             ]
            ],
            "type": "histogram2d"
           }
          ],
          "histogram2dcontour": [
           {
            "colorbar": {
             "outlinewidth": 0,
             "ticks": ""
            },
            "colorscale": [
             [
              0,
              "#0d0887"
             ],
             [
              0.1111111111111111,
              "#46039f"
             ],
             [
              0.2222222222222222,
              "#7201a8"
             ],
             [
              0.3333333333333333,
              "#9c179e"
             ],
             [
              0.4444444444444444,
              "#bd3786"
             ],
             [
              0.5555555555555556,
              "#d8576b"
             ],
             [
              0.6666666666666666,
              "#ed7953"
             ],
             [
              0.7777777777777778,
              "#fb9f3a"
             ],
             [
              0.8888888888888888,
              "#fdca26"
             ],
             [
              1,
              "#f0f921"
             ]
            ],
            "type": "histogram2dcontour"
           }
          ],
          "mesh3d": [
           {
            "colorbar": {
             "outlinewidth": 0,
             "ticks": ""
            },
            "type": "mesh3d"
           }
          ],
          "parcoords": [
           {
            "line": {
             "colorbar": {
              "outlinewidth": 0,
              "ticks": ""
             }
            },
            "type": "parcoords"
           }
          ],
          "pie": [
           {
            "automargin": true,
            "type": "pie"
           }
          ],
          "scatter": [
           {
            "marker": {
             "colorbar": {
              "outlinewidth": 0,
              "ticks": ""
             }
            },
            "type": "scatter"
           }
          ],
          "scatter3d": [
           {
            "line": {
             "colorbar": {
              "outlinewidth": 0,
              "ticks": ""
             }
            },
            "marker": {
             "colorbar": {
              "outlinewidth": 0,
              "ticks": ""
             }
            },
            "type": "scatter3d"
           }
          ],
          "scattercarpet": [
           {
            "marker": {
             "colorbar": {
              "outlinewidth": 0,
              "ticks": ""
             }
            },
            "type": "scattercarpet"
           }
          ],
          "scattergeo": [
           {
            "marker": {
             "colorbar": {
              "outlinewidth": 0,
              "ticks": ""
             }
            },
            "type": "scattergeo"
           }
          ],
          "scattergl": [
           {
            "marker": {
             "colorbar": {
              "outlinewidth": 0,
              "ticks": ""
             }
            },
            "type": "scattergl"
           }
          ],
          "scattermapbox": [
           {
            "marker": {
             "colorbar": {
              "outlinewidth": 0,
              "ticks": ""
             }
            },
            "type": "scattermapbox"
           }
          ],
          "scatterpolar": [
           {
            "marker": {
             "colorbar": {
              "outlinewidth": 0,
              "ticks": ""
             }
            },
            "type": "scatterpolar"
           }
          ],
          "scatterpolargl": [
           {
            "marker": {
             "colorbar": {
              "outlinewidth": 0,
              "ticks": ""
             }
            },
            "type": "scatterpolargl"
           }
          ],
          "scatterternary": [
           {
            "marker": {
             "colorbar": {
              "outlinewidth": 0,
              "ticks": ""
             }
            },
            "type": "scatterternary"
           }
          ],
          "surface": [
           {
            "colorbar": {
             "outlinewidth": 0,
             "ticks": ""
            },
            "colorscale": [
             [
              0,
              "#0d0887"
             ],
             [
              0.1111111111111111,
              "#46039f"
             ],
             [
              0.2222222222222222,
              "#7201a8"
             ],
             [
              0.3333333333333333,
              "#9c179e"
             ],
             [
              0.4444444444444444,
              "#bd3786"
             ],
             [
              0.5555555555555556,
              "#d8576b"
             ],
             [
              0.6666666666666666,
              "#ed7953"
             ],
             [
              0.7777777777777778,
              "#fb9f3a"
             ],
             [
              0.8888888888888888,
              "#fdca26"
             ],
             [
              1,
              "#f0f921"
             ]
            ],
            "type": "surface"
           }
          ],
          "table": [
           {
            "cells": {
             "fill": {
              "color": "#EBF0F8"
             },
             "line": {
              "color": "white"
             }
            },
            "header": {
             "fill": {
              "color": "#C8D4E3"
             },
             "line": {
              "color": "white"
             }
            },
            "type": "table"
           }
          ]
         },
         "layout": {
          "annotationdefaults": {
           "arrowcolor": "#2a3f5f",
           "arrowhead": 0,
           "arrowwidth": 1
          },
          "autotypenumbers": "strict",
          "coloraxis": {
           "colorbar": {
            "outlinewidth": 0,
            "ticks": ""
           }
          },
          "colorscale": {
           "diverging": [
            [
             0,
             "#8e0152"
            ],
            [
             0.1,
             "#c51b7d"
            ],
            [
             0.2,
             "#de77ae"
            ],
            [
             0.3,
             "#f1b6da"
            ],
            [
             0.4,
             "#fde0ef"
            ],
            [
             0.5,
             "#f7f7f7"
            ],
            [
             0.6,
             "#e6f5d0"
            ],
            [
             0.7,
             "#b8e186"
            ],
            [
             0.8,
             "#7fbc41"
            ],
            [
             0.9,
             "#4d9221"
            ],
            [
             1,
             "#276419"
            ]
           ],
           "sequential": [
            [
             0,
             "#0d0887"
            ],
            [
             0.1111111111111111,
             "#46039f"
            ],
            [
             0.2222222222222222,
             "#7201a8"
            ],
            [
             0.3333333333333333,
             "#9c179e"
            ],
            [
             0.4444444444444444,
             "#bd3786"
            ],
            [
             0.5555555555555556,
             "#d8576b"
            ],
            [
             0.6666666666666666,
             "#ed7953"
            ],
            [
             0.7777777777777778,
             "#fb9f3a"
            ],
            [
             0.8888888888888888,
             "#fdca26"
            ],
            [
             1,
             "#f0f921"
            ]
           ],
           "sequentialminus": [
            [
             0,
             "#0d0887"
            ],
            [
             0.1111111111111111,
             "#46039f"
            ],
            [
             0.2222222222222222,
             "#7201a8"
            ],
            [
             0.3333333333333333,
             "#9c179e"
            ],
            [
             0.4444444444444444,
             "#bd3786"
            ],
            [
             0.5555555555555556,
             "#d8576b"
            ],
            [
             0.6666666666666666,
             "#ed7953"
            ],
            [
             0.7777777777777778,
             "#fb9f3a"
            ],
            [
             0.8888888888888888,
             "#fdca26"
            ],
            [
             1,
             "#f0f921"
            ]
           ]
          },
          "colorway": [
           "#636efa",
           "#EF553B",
           "#00cc96",
           "#ab63fa",
           "#FFA15A",
           "#19d3f3",
           "#FF6692",
           "#B6E880",
           "#FF97FF",
           "#FECB52"
          ],
          "font": {
           "color": "#2a3f5f"
          },
          "geo": {
           "bgcolor": "white",
           "lakecolor": "white",
           "landcolor": "#E5ECF6",
           "showlakes": true,
           "showland": true,
           "subunitcolor": "white"
          },
          "hoverlabel": {
           "align": "left"
          },
          "hovermode": "closest",
          "mapbox": {
           "style": "light"
          },
          "paper_bgcolor": "white",
          "plot_bgcolor": "#E5ECF6",
          "polar": {
           "angularaxis": {
            "gridcolor": "white",
            "linecolor": "white",
            "ticks": ""
           },
           "bgcolor": "#E5ECF6",
           "radialaxis": {
            "gridcolor": "white",
            "linecolor": "white",
            "ticks": ""
           }
          },
          "scene": {
           "xaxis": {
            "backgroundcolor": "#E5ECF6",
            "gridcolor": "white",
            "gridwidth": 2,
            "linecolor": "white",
            "showbackground": true,
            "ticks": "",
            "zerolinecolor": "white"
           },
           "yaxis": {
            "backgroundcolor": "#E5ECF6",
            "gridcolor": "white",
            "gridwidth": 2,
            "linecolor": "white",
            "showbackground": true,
            "ticks": "",
            "zerolinecolor": "white"
           },
           "zaxis": {
            "backgroundcolor": "#E5ECF6",
            "gridcolor": "white",
            "gridwidth": 2,
            "linecolor": "white",
            "showbackground": true,
            "ticks": "",
            "zerolinecolor": "white"
           }
          },
          "shapedefaults": {
           "line": {
            "color": "#2a3f5f"
           }
          },
          "ternary": {
           "aaxis": {
            "gridcolor": "white",
            "linecolor": "white",
            "ticks": ""
           },
           "baxis": {
            "gridcolor": "white",
            "linecolor": "white",
            "ticks": ""
           },
           "bgcolor": "#E5ECF6",
           "caxis": {
            "gridcolor": "white",
            "linecolor": "white",
            "ticks": ""
           }
          },
          "title": {
           "x": 0.05
          },
          "xaxis": {
           "automargin": true,
           "gridcolor": "white",
           "linecolor": "white",
           "ticks": "",
           "title": {
            "standoff": 15
           },
           "zerolinecolor": "white",
           "zerolinewidth": 2
          },
          "yaxis": {
           "automargin": true,
           "gridcolor": "white",
           "linecolor": "white",
           "ticks": "",
           "title": {
            "standoff": 15
           },
           "zerolinecolor": "white",
           "zerolinewidth": 2
          }
         }
        },
        "xaxis": {
         "anchor": "y",
         "domain": [
          0,
          1
         ],
         "title": {
          "text": "index"
         }
        },
        "yaxis": {
         "anchor": "x",
         "domain": [
          0,
          1
         ],
         "title": {
          "text": "Total de Licitações"
         }
        }
       }
      }
     },
     "metadata": {},
     "output_type": "display_data"
    }
   ],
   "source": [
    "import plotly.express as px\n",
    " \n",
    "fig = px.bar(df2,x=df2.index,\n",
    "            y='Total de Licitações',\n",
    "            text_auto=True\n",
    "            )\n",
    " #           values='Total de Licitações')\n",
    "'''fig.update_layout(uniformtext_minsize=14, uniformtext_mode='hide')\n",
    "fig.update_traces(root_color=\"lightgrey\")\n",
    "fig.update_layout(\n",
    "    title_text='KPIs estatais'\n",
    ")'''\n",
    "fig.show()"
   ]
  },
  {
   "cell_type": "code",
   "execution_count": 174,
   "id": "f63a62eb",
   "metadata": {},
   "outputs": [
    {
     "name": "stderr",
     "output_type": "stream",
     "text": [
      "c:\\Users\\efvs\\miniconda3\\envs\\rsd\\lib\\site-packages\\plotly\\express\\_core.py:1637: FutureWarning:\n",
      "\n",
      "The frame.append method is deprecated and will be removed from pandas in a future version. Use pandas.concat instead.\n",
      "\n",
      "c:\\Users\\efvs\\miniconda3\\envs\\rsd\\lib\\site-packages\\plotly\\express\\_core.py:1637: FutureWarning:\n",
      "\n",
      "The frame.append method is deprecated and will be removed from pandas in a future version. Use pandas.concat instead.\n",
      "\n",
      "c:\\Users\\efvs\\miniconda3\\envs\\rsd\\lib\\site-packages\\plotly\\express\\_core.py:1637: FutureWarning:\n",
      "\n",
      "The frame.append method is deprecated and will be removed from pandas in a future version. Use pandas.concat instead.\n",
      "\n",
      "c:\\Users\\efvs\\miniconda3\\envs\\rsd\\lib\\site-packages\\plotly\\express\\_core.py:1637: FutureWarning:\n",
      "\n",
      "The frame.append method is deprecated and will be removed from pandas in a future version. Use pandas.concat instead.\n",
      "\n"
     ]
    },
    {
     "data": {
      "application/vnd.plotly.v1+json": {
       "config": {
        "plotlyServerURL": "https://plot.ly"
       },
       "data": [
        {
         "branchvalues": "total",
         "domain": {
          "x": [
           0,
           1
          ],
          "y": [
           0,
           1
          ]
         },
         "hovertemplate": "labels=%{label}<br>Total de Licitações=%{value}<br>parent=%{parent}<br>id=%{id}<extra></extra>",
         "ids": [
          "SP/1863/505/0.2710681696188942",
          "PA/532/153/0.287593984962406",
          "AC/6148/1851/0.3010735198438516",
          "RJ/12780/4212/0.3295774647887324",
          "CE/1504/582/0.386968085106383",
          "PE/2641/1066/0.4036349867474441",
          "MG/4393/1862/0.4238561347598452",
          "PR/3022/1444/0.4778292521508934",
          "SE/627/305/0.4864433811802233",
          "TO/305/153/0.5016393442622951",
          "AL/1047/536/0.5119388729703916",
          "SC/391/203/0.5191815856777494",
          "MA/138/73/0.5289855072463768",
          "AM/1254/668/0.532695374800638",
          "PI/842/466/0.5534441805225653",
          "RS/3696/2047/0.5538419913419913",
          "MS/1483/839/0.5657451112609575",
          "AP/40/23/0.575",
          "RO/644/376/0.5838509316770186",
          "BA/1785/1046/0.5859943977591037",
          "ES/291/172/0.5910652920962199",
          "RR/504/329/0.6527777777777778",
          "RN/1694/1130/0.667060212514758",
          "PB/1057/717/0.6783349101229896",
          "MT/403/280/0.6947890818858561",
          "GO/240/167/0.6958333333333333",
          "AP/40/23",
          "MA/138/73",
          "TO/305/153",
          "PA/532/153",
          "GO/240/167",
          "ES/291/172",
          "SC/391/203",
          "MT/403/280",
          "SE/627/305",
          "RR/504/329",
          "RO/644/376",
          "PI/842/466",
          "SP/1863/505",
          "AL/1047/536",
          "CE/1504/582",
          "AM/1254/668",
          "PB/1057/717",
          "MS/1483/839",
          "BA/1785/1046",
          "PE/2641/1066",
          "RN/1694/1130",
          "PR/3022/1444",
          "AC/6148/1851",
          "MG/4393/1862",
          "RS/3696/2047",
          "RJ/12780/4212",
          "AP/40",
          "MA/138",
          "GO/240",
          "ES/291",
          "TO/305",
          "SC/391",
          "MT/403",
          "RR/504",
          "PA/532",
          "SE/627",
          "RO/644",
          "PI/842",
          "AL/1047",
          "PB/1057",
          "AM/1254",
          "MS/1483",
          "CE/1504",
          "RN/1694",
          "BA/1785",
          "SP/1863",
          "PE/2641",
          "PR/3022",
          "RS/3696",
          "MG/4393",
          "AC/6148",
          "RJ/12780",
          "AC",
          "AL",
          "AM",
          "AP",
          "BA",
          "CE",
          "ES",
          "GO",
          "MA",
          "MG",
          "MS",
          "MT",
          "PA",
          "PB",
          "PE",
          "PI",
          "PR",
          "RJ",
          "RN",
          "RO",
          "RR",
          "RS",
          "SC",
          "SE",
          "SP",
          "TO"
         ],
         "labels": [
          "0.2710681696188942",
          "0.287593984962406",
          "0.3010735198438516",
          "0.3295774647887324",
          "0.386968085106383",
          "0.4036349867474441",
          "0.4238561347598452",
          "0.4778292521508934",
          "0.4864433811802233",
          "0.5016393442622951",
          "0.5119388729703916",
          "0.5191815856777494",
          "0.5289855072463768",
          "0.532695374800638",
          "0.5534441805225653",
          "0.5538419913419913",
          "0.5657451112609575",
          "0.575",
          "0.5838509316770186",
          "0.5859943977591037",
          "0.5910652920962199",
          "0.6527777777777778",
          "0.667060212514758",
          "0.6783349101229896",
          "0.6947890818858561",
          "0.6958333333333333",
          "23",
          "73",
          "153",
          "153",
          "167",
          "172",
          "203",
          "280",
          "305",
          "329",
          "376",
          "466",
          "505",
          "536",
          "582",
          "668",
          "717",
          "839",
          "1046",
          "1066",
          "1130",
          "1444",
          "1851",
          "1862",
          "2047",
          "4212",
          "40",
          "138",
          "240",
          "291",
          "305",
          "391",
          "403",
          "504",
          "532",
          "627",
          "644",
          "842",
          "1047",
          "1057",
          "1254",
          "1483",
          "1504",
          "1694",
          "1785",
          "1863",
          "2641",
          "3022",
          "3696",
          "4393",
          "6148",
          "12780",
          "AC",
          "AL",
          "AM",
          "AP",
          "BA",
          "CE",
          "ES",
          "GO",
          "MA",
          "MG",
          "MS",
          "MT",
          "PA",
          "PB",
          "PE",
          "PI",
          "PR",
          "RJ",
          "RN",
          "RO",
          "RR",
          "RS",
          "SC",
          "SE",
          "SP",
          "TO"
         ],
         "name": "",
         "parents": [
          "SP/1863/505",
          "PA/532/153",
          "AC/6148/1851",
          "RJ/12780/4212",
          "CE/1504/582",
          "PE/2641/1066",
          "MG/4393/1862",
          "PR/3022/1444",
          "SE/627/305",
          "TO/305/153",
          "AL/1047/536",
          "SC/391/203",
          "MA/138/73",
          "AM/1254/668",
          "PI/842/466",
          "RS/3696/2047",
          "MS/1483/839",
          "AP/40/23",
          "RO/644/376",
          "BA/1785/1046",
          "ES/291/172",
          "RR/504/329",
          "RN/1694/1130",
          "PB/1057/717",
          "MT/403/280",
          "GO/240/167",
          "AP/40",
          "MA/138",
          "TO/305",
          "PA/532",
          "GO/240",
          "ES/291",
          "SC/391",
          "MT/403",
          "SE/627",
          "RR/504",
          "RO/644",
          "PI/842",
          "SP/1863",
          "AL/1047",
          "CE/1504",
          "AM/1254",
          "PB/1057",
          "MS/1483",
          "BA/1785",
          "PE/2641",
          "RN/1694",
          "PR/3022",
          "AC/6148",
          "MG/4393",
          "RS/3696",
          "RJ/12780",
          "AP",
          "MA",
          "GO",
          "ES",
          "TO",
          "SC",
          "MT",
          "RR",
          "PA",
          "SE",
          "RO",
          "PI",
          "AL",
          "PB",
          "AM",
          "MS",
          "CE",
          "RN",
          "BA",
          "SP",
          "PE",
          "PR",
          "RS",
          "MG",
          "AC",
          "RJ",
          "",
          "",
          "",
          "",
          "",
          "",
          "",
          "",
          "",
          "",
          "",
          "",
          "",
          "",
          "",
          "",
          "",
          "",
          "",
          "",
          "",
          "",
          "",
          "",
          "",
          ""
         ],
         "root": {
          "color": "lightgrey"
         },
         "type": "treemap",
         "values": [
          1863,
          532,
          6148,
          12780,
          1504,
          2641,
          4393,
          3022,
          627,
          305,
          1047,
          391,
          138,
          1254,
          842,
          3696,
          1483,
          40,
          644,
          1785,
          291,
          504,
          1694,
          1057,
          403,
          240,
          40,
          138,
          305,
          532,
          240,
          291,
          391,
          403,
          627,
          504,
          644,
          842,
          1863,
          1047,
          1504,
          1254,
          1057,
          1483,
          1785,
          2641,
          1694,
          3022,
          6148,
          4393,
          3696,
          12780,
          40,
          138,
          240,
          291,
          305,
          391,
          403,
          504,
          532,
          627,
          644,
          842,
          1047,
          1057,
          1254,
          1483,
          1504,
          1694,
          1785,
          1863,
          2641,
          3022,
          3696,
          4393,
          6148,
          12780,
          6148,
          1047,
          1254,
          40,
          1785,
          1504,
          291,
          240,
          138,
          4393,
          1483,
          403,
          532,
          1057,
          2641,
          842,
          3022,
          12780,
          1694,
          644,
          504,
          3696,
          391,
          627,
          1863,
          305
         ]
        }
       ],
       "layout": {
        "legend": {
         "tracegroupgap": 0
        },
        "margin": {
         "t": 60
        },
        "template": {
         "data": {
          "bar": [
           {
            "error_x": {
             "color": "#2a3f5f"
            },
            "error_y": {
             "color": "#2a3f5f"
            },
            "marker": {
             "line": {
              "color": "#E5ECF6",
              "width": 0.5
             },
             "pattern": {
              "fillmode": "overlay",
              "size": 10,
              "solidity": 0.2
             }
            },
            "type": "bar"
           }
          ],
          "barpolar": [
           {
            "marker": {
             "line": {
              "color": "#E5ECF6",
              "width": 0.5
             },
             "pattern": {
              "fillmode": "overlay",
              "size": 10,
              "solidity": 0.2
             }
            },
            "type": "barpolar"
           }
          ],
          "carpet": [
           {
            "aaxis": {
             "endlinecolor": "#2a3f5f",
             "gridcolor": "white",
             "linecolor": "white",
             "minorgridcolor": "white",
             "startlinecolor": "#2a3f5f"
            },
            "baxis": {
             "endlinecolor": "#2a3f5f",
             "gridcolor": "white",
             "linecolor": "white",
             "minorgridcolor": "white",
             "startlinecolor": "#2a3f5f"
            },
            "type": "carpet"
           }
          ],
          "choropleth": [
           {
            "colorbar": {
             "outlinewidth": 0,
             "ticks": ""
            },
            "type": "choropleth"
           }
          ],
          "contour": [
           {
            "colorbar": {
             "outlinewidth": 0,
             "ticks": ""
            },
            "colorscale": [
             [
              0,
              "#0d0887"
             ],
             [
              0.1111111111111111,
              "#46039f"
             ],
             [
              0.2222222222222222,
              "#7201a8"
             ],
             [
              0.3333333333333333,
              "#9c179e"
             ],
             [
              0.4444444444444444,
              "#bd3786"
             ],
             [
              0.5555555555555556,
              "#d8576b"
             ],
             [
              0.6666666666666666,
              "#ed7953"
             ],
             [
              0.7777777777777778,
              "#fb9f3a"
             ],
             [
              0.8888888888888888,
              "#fdca26"
             ],
             [
              1,
              "#f0f921"
             ]
            ],
            "type": "contour"
           }
          ],
          "contourcarpet": [
           {
            "colorbar": {
             "outlinewidth": 0,
             "ticks": ""
            },
            "type": "contourcarpet"
           }
          ],
          "heatmap": [
           {
            "colorbar": {
             "outlinewidth": 0,
             "ticks": ""
            },
            "colorscale": [
             [
              0,
              "#0d0887"
             ],
             [
              0.1111111111111111,
              "#46039f"
             ],
             [
              0.2222222222222222,
              "#7201a8"
             ],
             [
              0.3333333333333333,
              "#9c179e"
             ],
             [
              0.4444444444444444,
              "#bd3786"
             ],
             [
              0.5555555555555556,
              "#d8576b"
             ],
             [
              0.6666666666666666,
              "#ed7953"
             ],
             [
              0.7777777777777778,
              "#fb9f3a"
             ],
             [
              0.8888888888888888,
              "#fdca26"
             ],
             [
              1,
              "#f0f921"
             ]
            ],
            "type": "heatmap"
           }
          ],
          "heatmapgl": [
           {
            "colorbar": {
             "outlinewidth": 0,
             "ticks": ""
            },
            "colorscale": [
             [
              0,
              "#0d0887"
             ],
             [
              0.1111111111111111,
              "#46039f"
             ],
             [
              0.2222222222222222,
              "#7201a8"
             ],
             [
              0.3333333333333333,
              "#9c179e"
             ],
             [
              0.4444444444444444,
              "#bd3786"
             ],
             [
              0.5555555555555556,
              "#d8576b"
             ],
             [
              0.6666666666666666,
              "#ed7953"
             ],
             [
              0.7777777777777778,
              "#fb9f3a"
             ],
             [
              0.8888888888888888,
              "#fdca26"
             ],
             [
              1,
              "#f0f921"
             ]
            ],
            "type": "heatmapgl"
           }
          ],
          "histogram": [
           {
            "marker": {
             "pattern": {
              "fillmode": "overlay",
              "size": 10,
              "solidity": 0.2
             }
            },
            "type": "histogram"
           }
          ],
          "histogram2d": [
           {
            "colorbar": {
             "outlinewidth": 0,
             "ticks": ""
            },
            "colorscale": [
             [
              0,
              "#0d0887"
             ],
             [
              0.1111111111111111,
              "#46039f"
             ],
             [
              0.2222222222222222,
              "#7201a8"
             ],
             [
              0.3333333333333333,
              "#9c179e"
             ],
             [
              0.4444444444444444,
              "#bd3786"
             ],
             [
              0.5555555555555556,
              "#d8576b"
             ],
             [
              0.6666666666666666,
              "#ed7953"
             ],
             [
              0.7777777777777778,
              "#fb9f3a"
             ],
             [
              0.8888888888888888,
              "#fdca26"
             ],
             [
              1,
              "#f0f921"
             ]
            ],
            "type": "histogram2d"
           }
          ],
          "histogram2dcontour": [
           {
            "colorbar": {
             "outlinewidth": 0,
             "ticks": ""
            },
            "colorscale": [
             [
              0,
              "#0d0887"
             ],
             [
              0.1111111111111111,
              "#46039f"
             ],
             [
              0.2222222222222222,
              "#7201a8"
             ],
             [
              0.3333333333333333,
              "#9c179e"
             ],
             [
              0.4444444444444444,
              "#bd3786"
             ],
             [
              0.5555555555555556,
              "#d8576b"
             ],
             [
              0.6666666666666666,
              "#ed7953"
             ],
             [
              0.7777777777777778,
              "#fb9f3a"
             ],
             [
              0.8888888888888888,
              "#fdca26"
             ],
             [
              1,
              "#f0f921"
             ]
            ],
            "type": "histogram2dcontour"
           }
          ],
          "mesh3d": [
           {
            "colorbar": {
             "outlinewidth": 0,
             "ticks": ""
            },
            "type": "mesh3d"
           }
          ],
          "parcoords": [
           {
            "line": {
             "colorbar": {
              "outlinewidth": 0,
              "ticks": ""
             }
            },
            "type": "parcoords"
           }
          ],
          "pie": [
           {
            "automargin": true,
            "type": "pie"
           }
          ],
          "scatter": [
           {
            "marker": {
             "colorbar": {
              "outlinewidth": 0,
              "ticks": ""
             }
            },
            "type": "scatter"
           }
          ],
          "scatter3d": [
           {
            "line": {
             "colorbar": {
              "outlinewidth": 0,
              "ticks": ""
             }
            },
            "marker": {
             "colorbar": {
              "outlinewidth": 0,
              "ticks": ""
             }
            },
            "type": "scatter3d"
           }
          ],
          "scattercarpet": [
           {
            "marker": {
             "colorbar": {
              "outlinewidth": 0,
              "ticks": ""
             }
            },
            "type": "scattercarpet"
           }
          ],
          "scattergeo": [
           {
            "marker": {
             "colorbar": {
              "outlinewidth": 0,
              "ticks": ""
             }
            },
            "type": "scattergeo"
           }
          ],
          "scattergl": [
           {
            "marker": {
             "colorbar": {
              "outlinewidth": 0,
              "ticks": ""
             }
            },
            "type": "scattergl"
           }
          ],
          "scattermapbox": [
           {
            "marker": {
             "colorbar": {
              "outlinewidth": 0,
              "ticks": ""
             }
            },
            "type": "scattermapbox"
           }
          ],
          "scatterpolar": [
           {
            "marker": {
             "colorbar": {
              "outlinewidth": 0,
              "ticks": ""
             }
            },
            "type": "scatterpolar"
           }
          ],
          "scatterpolargl": [
           {
            "marker": {
             "colorbar": {
              "outlinewidth": 0,
              "ticks": ""
             }
            },
            "type": "scatterpolargl"
           }
          ],
          "scatterternary": [
           {
            "marker": {
             "colorbar": {
              "outlinewidth": 0,
              "ticks": ""
             }
            },
            "type": "scatterternary"
           }
          ],
          "surface": [
           {
            "colorbar": {
             "outlinewidth": 0,
             "ticks": ""
            },
            "colorscale": [
             [
              0,
              "#0d0887"
             ],
             [
              0.1111111111111111,
              "#46039f"
             ],
             [
              0.2222222222222222,
              "#7201a8"
             ],
             [
              0.3333333333333333,
              "#9c179e"
             ],
             [
              0.4444444444444444,
              "#bd3786"
             ],
             [
              0.5555555555555556,
              "#d8576b"
             ],
             [
              0.6666666666666666,
              "#ed7953"
             ],
             [
              0.7777777777777778,
              "#fb9f3a"
             ],
             [
              0.8888888888888888,
              "#fdca26"
             ],
             [
              1,
              "#f0f921"
             ]
            ],
            "type": "surface"
           }
          ],
          "table": [
           {
            "cells": {
             "fill": {
              "color": "#EBF0F8"
             },
             "line": {
              "color": "white"
             }
            },
            "header": {
             "fill": {
              "color": "#C8D4E3"
             },
             "line": {
              "color": "white"
             }
            },
            "type": "table"
           }
          ]
         },
         "layout": {
          "annotationdefaults": {
           "arrowcolor": "#2a3f5f",
           "arrowhead": 0,
           "arrowwidth": 1
          },
          "autotypenumbers": "strict",
          "coloraxis": {
           "colorbar": {
            "outlinewidth": 0,
            "ticks": ""
           }
          },
          "colorscale": {
           "diverging": [
            [
             0,
             "#8e0152"
            ],
            [
             0.1,
             "#c51b7d"
            ],
            [
             0.2,
             "#de77ae"
            ],
            [
             0.3,
             "#f1b6da"
            ],
            [
             0.4,
             "#fde0ef"
            ],
            [
             0.5,
             "#f7f7f7"
            ],
            [
             0.6,
             "#e6f5d0"
            ],
            [
             0.7,
             "#b8e186"
            ],
            [
             0.8,
             "#7fbc41"
            ],
            [
             0.9,
             "#4d9221"
            ],
            [
             1,
             "#276419"
            ]
           ],
           "sequential": [
            [
             0,
             "#0d0887"
            ],
            [
             0.1111111111111111,
             "#46039f"
            ],
            [
             0.2222222222222222,
             "#7201a8"
            ],
            [
             0.3333333333333333,
             "#9c179e"
            ],
            [
             0.4444444444444444,
             "#bd3786"
            ],
            [
             0.5555555555555556,
             "#d8576b"
            ],
            [
             0.6666666666666666,
             "#ed7953"
            ],
            [
             0.7777777777777778,
             "#fb9f3a"
            ],
            [
             0.8888888888888888,
             "#fdca26"
            ],
            [
             1,
             "#f0f921"
            ]
           ],
           "sequentialminus": [
            [
             0,
             "#0d0887"
            ],
            [
             0.1111111111111111,
             "#46039f"
            ],
            [
             0.2222222222222222,
             "#7201a8"
            ],
            [
             0.3333333333333333,
             "#9c179e"
            ],
            [
             0.4444444444444444,
             "#bd3786"
            ],
            [
             0.5555555555555556,
             "#d8576b"
            ],
            [
             0.6666666666666666,
             "#ed7953"
            ],
            [
             0.7777777777777778,
             "#fb9f3a"
            ],
            [
             0.8888888888888888,
             "#fdca26"
            ],
            [
             1,
             "#f0f921"
            ]
           ]
          },
          "colorway": [
           "#636efa",
           "#EF553B",
           "#00cc96",
           "#ab63fa",
           "#FFA15A",
           "#19d3f3",
           "#FF6692",
           "#B6E880",
           "#FF97FF",
           "#FECB52"
          ],
          "font": {
           "color": "#2a3f5f"
          },
          "geo": {
           "bgcolor": "white",
           "lakecolor": "white",
           "landcolor": "#E5ECF6",
           "showlakes": true,
           "showland": true,
           "subunitcolor": "white"
          },
          "hoverlabel": {
           "align": "left"
          },
          "hovermode": "closest",
          "mapbox": {
           "style": "light"
          },
          "paper_bgcolor": "white",
          "plot_bgcolor": "#E5ECF6",
          "polar": {
           "angularaxis": {
            "gridcolor": "white",
            "linecolor": "white",
            "ticks": ""
           },
           "bgcolor": "#E5ECF6",
           "radialaxis": {
            "gridcolor": "white",
            "linecolor": "white",
            "ticks": ""
           }
          },
          "scene": {
           "xaxis": {
            "backgroundcolor": "#E5ECF6",
            "gridcolor": "white",
            "gridwidth": 2,
            "linecolor": "white",
            "showbackground": true,
            "ticks": "",
            "zerolinecolor": "white"
           },
           "yaxis": {
            "backgroundcolor": "#E5ECF6",
            "gridcolor": "white",
            "gridwidth": 2,
            "linecolor": "white",
            "showbackground": true,
            "ticks": "",
            "zerolinecolor": "white"
           },
           "zaxis": {
            "backgroundcolor": "#E5ECF6",
            "gridcolor": "white",
            "gridwidth": 2,
            "linecolor": "white",
            "showbackground": true,
            "ticks": "",
            "zerolinecolor": "white"
           }
          },
          "shapedefaults": {
           "line": {
            "color": "#2a3f5f"
           }
          },
          "ternary": {
           "aaxis": {
            "gridcolor": "white",
            "linecolor": "white",
            "ticks": ""
           },
           "baxis": {
            "gridcolor": "white",
            "linecolor": "white",
            "ticks": ""
           },
           "bgcolor": "#E5ECF6",
           "caxis": {
            "gridcolor": "white",
            "linecolor": "white",
            "ticks": ""
           }
          },
          "title": {
           "x": 0.05
          },
          "xaxis": {
           "automargin": true,
           "gridcolor": "white",
           "linecolor": "white",
           "ticks": "",
           "title": {
            "standoff": 15
           },
           "zerolinecolor": "white",
           "zerolinewidth": 2
          },
          "yaxis": {
           "automargin": true,
           "gridcolor": "white",
           "linecolor": "white",
           "ticks": "",
           "title": {
            "standoff": 15
           },
           "zerolinecolor": "white",
           "zerolinewidth": 2
          }
         }
        },
        "title": {
         "text": "KPIs estatais"
        },
        "uniformtext": {
         "minsize": 14,
         "mode": "hide"
        }
       }
      }
     },
     "metadata": {},
     "output_type": "display_data"
    }
   ],
   "source": [
    "import plotly.express as px\n",
    " \n",
    "fig = px.treemap(dict(df2),path=[df2.index,'Total de Licitações','Total de Ilegais','{%} de Ilegalidades'],\n",
    "                 values='Total de Licitações',\n",
    "                 labels='aaaa')\n",
    " #           values='Total de Licitações')\n",
    "fig.update_layout(uniformtext_minsize=14, uniformtext_mode='hide')\n",
    "fig.update_traces(root_color=\"lightgrey\")\n",
    "fig.update_layout(\n",
    "    title_text='KPIs estatais'\n",
    ")\n",
    "fig.show()"
   ]
  },
  {
   "cell_type": "code",
   "execution_count": null,
   "id": "7f88f8b4",
   "metadata": {},
   "outputs": [],
   "source": []
  }
 ],
 "metadata": {
  "interpreter": {
   "hash": "50dab69fff78360556d5658a4e20acdc011508dd645a6812d1dd4e32552e63b0"
  },
  "kernelspec": {
   "display_name": "Python 3.9.7 ('rsd')",
   "language": "python",
   "name": "python3"
  },
  "language_info": {
   "codemirror_mode": {
    "name": "ipython",
    "version": 3
   },
   "file_extension": ".py",
   "mimetype": "text/x-python",
   "name": "python",
   "nbconvert_exporter": "python",
   "pygments_lexer": "ipython3",
   "version": "3.9.7"
  }
 },
 "nbformat": 4,
 "nbformat_minor": 5
}
