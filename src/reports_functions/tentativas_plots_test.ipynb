{
 "cells": [
  {
   "cell_type": "code",
   "execution_count": 1,
   "id": "d5717db6-67df-4049-8b30-9312c9eaa50c",
   "metadata": {},
   "outputs": [],
   "source": [
    "#import streamlit as st\n",
    "import plotly.figure_factory as ff\n",
    "import numpy as np\n",
    "import pandas as pd"
   ]
  },
  {
   "cell_type": "code",
   "execution_count": 2,
   "id": "c6c2c11d-0d21-426f-86d6-a56da1872816",
   "metadata": {},
   "outputs": [],
   "source": [
    "df = pd.read_csv('C:/Users/efvs/Documents/Residencia Ednael/Repositórios/residencia2/data/fraudes.csv', index_col=[0])"
   ]
  },
  {
   "cell_type": "code",
   "execution_count": 3,
   "id": "c13a504b",
   "metadata": {},
   "outputs": [],
   "source": [
    "df2 = df.sort_values(by='Total de Licitações',ascending=False)"
   ]
  },
  {
   "cell_type": "code",
   "execution_count": 4,
   "id": "e9a95b70",
   "metadata": {},
   "outputs": [
    {
     "data": {
      "text/html": [
       "<div>\n",
       "<style scoped>\n",
       "    .dataframe tbody tr th:only-of-type {\n",
       "        vertical-align: middle;\n",
       "    }\n",
       "\n",
       "    .dataframe tbody tr th {\n",
       "        vertical-align: top;\n",
       "    }\n",
       "\n",
       "    .dataframe thead th {\n",
       "        text-align: right;\n",
       "    }\n",
       "</style>\n",
       "<table border=\"1\" class=\"dataframe\">\n",
       "  <thead>\n",
       "    <tr style=\"text-align: right;\">\n",
       "      <th></th>\n",
       "      <th>{%} de Ilegalidades</th>\n",
       "      <th>Total de Licitações</th>\n",
       "      <th>Total de Ilegais</th>\n",
       "      <th>Valor Licitado</th>\n",
       "      <th>Valor Ilegal</th>\n",
       "      <th>{%} Valor Ilegal</th>\n",
       "    </tr>\n",
       "  </thead>\n",
       "  <tbody>\n",
       "    <tr>\n",
       "      <th>RJ</th>\n",
       "      <td>0.329577</td>\n",
       "      <td>12780</td>\n",
       "      <td>4212</td>\n",
       "      <td>9.458141e+09</td>\n",
       "      <td>6.545752e+08</td>\n",
       "      <td>0.069208</td>\n",
       "    </tr>\n",
       "    <tr>\n",
       "      <th>AC</th>\n",
       "      <td>0.301074</td>\n",
       "      <td>6148</td>\n",
       "      <td>1851</td>\n",
       "      <td>1.182799e+12</td>\n",
       "      <td>4.434937e+08</td>\n",
       "      <td>0.000375</td>\n",
       "    </tr>\n",
       "    <tr>\n",
       "      <th>MG</th>\n",
       "      <td>0.423856</td>\n",
       "      <td>4393</td>\n",
       "      <td>1862</td>\n",
       "      <td>1.913881e+09</td>\n",
       "      <td>1.600558e+08</td>\n",
       "      <td>0.083629</td>\n",
       "    </tr>\n",
       "  </tbody>\n",
       "</table>\n",
       "</div>"
      ],
      "text/plain": [
       "    {%} de Ilegalidades  Total de Licitações  Total de Ilegais  \\\n",
       "RJ             0.329577                12780              4212   \n",
       "AC             0.301074                 6148              1851   \n",
       "MG             0.423856                 4393              1862   \n",
       "\n",
       "    Valor Licitado  Valor Ilegal  {%} Valor Ilegal  \n",
       "RJ    9.458141e+09  6.545752e+08          0.069208  \n",
       "AC    1.182799e+12  4.434937e+08          0.000375  \n",
       "MG    1.913881e+09  1.600558e+08          0.083629  "
      ]
     },
     "execution_count": 4,
     "metadata": {},
     "output_type": "execute_result"
    }
   ],
   "source": [
    "df2.head(3)"
   ]
  },
  {
   "cell_type": "code",
   "execution_count": 5,
   "id": "ee857449",
   "metadata": {},
   "outputs": [],
   "source": [
    "df2['{%} Valor Ilegal']=df2['{%} Valor Ilegal'].round(4)\n",
    "df2['{%} de Ilegalidades']=df2['{%} de Ilegalidades'].round(4)"
   ]
  },
  {
   "cell_type": "code",
   "execution_count": 6,
   "id": "94ca3c60",
   "metadata": {},
   "outputs": [
    {
     "data": {
      "application/vnd.plotly.v1+json": {
       "config": {
        "plotlyServerURL": "https://plot.ly"
       },
       "data": [
        {
         "mode": "lines+markers",
         "name": "Valor Licitado",
         "type": "scatter",
         "x": [
          "MG",
          "RS",
          "PR",
          "PE",
          "SP",
          "BA",
          "RN",
          "CE",
          "MS",
          "AM",
          "PB",
          "AL",
          "PI",
          "RO",
          "PA",
          "RR",
          "MT",
          "SC",
          "TO",
          "ES",
          "GO",
          "MA",
          "AP"
         ],
         "y": [
          1913880595.2,
          2509244565.02,
          1332462250.28,
          3249519325.04,
          173454988.48,
          1656192822.2,
          590802355.6,
          1816121013.89,
          749185416.02,
          1725935402.4,
          510851616.51,
          789432939.73,
          905343347.8,
          571148597.49,
          114414666.82,
          401105658.61,
          926836304.31,
          104812356.5,
          471920972.75,
          48566583.14,
          32453700.09,
          12095345.17,
          2358454.82
         ]
        },
        {
         "name": "Valor Ilegal",
         "text": [
          0.0836,
          0.0774,
          0.0869,
          0.0419,
          0.2633,
          0.1642,
          0.2137,
          0.0328,
          0.0792,
          0.0454,
          0.1401,
          0.0611,
          0.062,
          0.0383,
          0.0877,
          0.1363,
          0.032,
          0.1535,
          0.039,
          0.2449,
          0.6097,
          0.4558,
          0.5996
         ],
         "textposition": "outside",
         "type": "bar",
         "x": [
          "MG",
          "RS",
          "PR",
          "PE",
          "SP",
          "BA",
          "RN",
          "CE",
          "MS",
          "AM",
          "PB",
          "AL",
          "PI",
          "RO",
          "PA",
          "RR",
          "MT",
          "SC",
          "TO",
          "ES",
          "GO",
          "MA",
          "AP"
         ],
         "y": [
          160055761.34,
          194335705.27,
          115748160.19,
          136068729.28,
          45662767.9,
          271957835.44,
          126281858.89,
          59523002.43,
          59364134.28,
          78383229.24,
          71552023.58,
          48248474.3,
          56098574.01,
          21871528.36,
          10035538.62,
          54685881.23,
          29669353.11,
          16086559.73,
          18425586.41,
          11894638.86,
          19787980.36,
          5512819.73,
          1414054
         ]
        }
       ],
       "layout": {
        "barmode": "group",
        "template": {
         "data": {
          "bar": [
           {
            "error_x": {
             "color": "#2a3f5f"
            },
            "error_y": {
             "color": "#2a3f5f"
            },
            "marker": {
             "line": {
              "color": "#E5ECF6",
              "width": 0.5
             },
             "pattern": {
              "fillmode": "overlay",
              "size": 10,
              "solidity": 0.2
             }
            },
            "type": "bar"
           }
          ],
          "barpolar": [
           {
            "marker": {
             "line": {
              "color": "#E5ECF6",
              "width": 0.5
             },
             "pattern": {
              "fillmode": "overlay",
              "size": 10,
              "solidity": 0.2
             }
            },
            "type": "barpolar"
           }
          ],
          "carpet": [
           {
            "aaxis": {
             "endlinecolor": "#2a3f5f",
             "gridcolor": "white",
             "linecolor": "white",
             "minorgridcolor": "white",
             "startlinecolor": "#2a3f5f"
            },
            "baxis": {
             "endlinecolor": "#2a3f5f",
             "gridcolor": "white",
             "linecolor": "white",
             "minorgridcolor": "white",
             "startlinecolor": "#2a3f5f"
            },
            "type": "carpet"
           }
          ],
          "choropleth": [
           {
            "colorbar": {
             "outlinewidth": 0,
             "ticks": ""
            },
            "type": "choropleth"
           }
          ],
          "contour": [
           {
            "colorbar": {
             "outlinewidth": 0,
             "ticks": ""
            },
            "colorscale": [
             [
              0,
              "#0d0887"
             ],
             [
              0.1111111111111111,
              "#46039f"
             ],
             [
              0.2222222222222222,
              "#7201a8"
             ],
             [
              0.3333333333333333,
              "#9c179e"
             ],
             [
              0.4444444444444444,
              "#bd3786"
             ],
             [
              0.5555555555555556,
              "#d8576b"
             ],
             [
              0.6666666666666666,
              "#ed7953"
             ],
             [
              0.7777777777777778,
              "#fb9f3a"
             ],
             [
              0.8888888888888888,
              "#fdca26"
             ],
             [
              1,
              "#f0f921"
             ]
            ],
            "type": "contour"
           }
          ],
          "contourcarpet": [
           {
            "colorbar": {
             "outlinewidth": 0,
             "ticks": ""
            },
            "type": "contourcarpet"
           }
          ],
          "heatmap": [
           {
            "colorbar": {
             "outlinewidth": 0,
             "ticks": ""
            },
            "colorscale": [
             [
              0,
              "#0d0887"
             ],
             [
              0.1111111111111111,
              "#46039f"
             ],
             [
              0.2222222222222222,
              "#7201a8"
             ],
             [
              0.3333333333333333,
              "#9c179e"
             ],
             [
              0.4444444444444444,
              "#bd3786"
             ],
             [
              0.5555555555555556,
              "#d8576b"
             ],
             [
              0.6666666666666666,
              "#ed7953"
             ],
             [
              0.7777777777777778,
              "#fb9f3a"
             ],
             [
              0.8888888888888888,
              "#fdca26"
             ],
             [
              1,
              "#f0f921"
             ]
            ],
            "type": "heatmap"
           }
          ],
          "heatmapgl": [
           {
            "colorbar": {
             "outlinewidth": 0,
             "ticks": ""
            },
            "colorscale": [
             [
              0,
              "#0d0887"
             ],
             [
              0.1111111111111111,
              "#46039f"
             ],
             [
              0.2222222222222222,
              "#7201a8"
             ],
             [
              0.3333333333333333,
              "#9c179e"
             ],
             [
              0.4444444444444444,
              "#bd3786"
             ],
             [
              0.5555555555555556,
              "#d8576b"
             ],
             [
              0.6666666666666666,
              "#ed7953"
             ],
             [
              0.7777777777777778,
              "#fb9f3a"
             ],
             [
              0.8888888888888888,
              "#fdca26"
             ],
             [
              1,
              "#f0f921"
             ]
            ],
            "type": "heatmapgl"
           }
          ],
          "histogram": [
           {
            "marker": {
             "pattern": {
              "fillmode": "overlay",
              "size": 10,
              "solidity": 0.2
             }
            },
            "type": "histogram"
           }
          ],
          "histogram2d": [
           {
            "colorbar": {
             "outlinewidth": 0,
             "ticks": ""
            },
            "colorscale": [
             [
              0,
              "#0d0887"
             ],
             [
              0.1111111111111111,
              "#46039f"
             ],
             [
              0.2222222222222222,
              "#7201a8"
             ],
             [
              0.3333333333333333,
              "#9c179e"
             ],
             [
              0.4444444444444444,
              "#bd3786"
             ],
             [
              0.5555555555555556,
              "#d8576b"
             ],
             [
              0.6666666666666666,
              "#ed7953"
             ],
             [
              0.7777777777777778,
              "#fb9f3a"
             ],
             [
              0.8888888888888888,
              "#fdca26"
             ],
             [
              1,
              "#f0f921"
             ]
            ],
            "type": "histogram2d"
           }
          ],
          "histogram2dcontour": [
           {
            "colorbar": {
             "outlinewidth": 0,
             "ticks": ""
            },
            "colorscale": [
             [
              0,
              "#0d0887"
             ],
             [
              0.1111111111111111,
              "#46039f"
             ],
             [
              0.2222222222222222,
              "#7201a8"
             ],
             [
              0.3333333333333333,
              "#9c179e"
             ],
             [
              0.4444444444444444,
              "#bd3786"
             ],
             [
              0.5555555555555556,
              "#d8576b"
             ],
             [
              0.6666666666666666,
              "#ed7953"
             ],
             [
              0.7777777777777778,
              "#fb9f3a"
             ],
             [
              0.8888888888888888,
              "#fdca26"
             ],
             [
              1,
              "#f0f921"
             ]
            ],
            "type": "histogram2dcontour"
           }
          ],
          "mesh3d": [
           {
            "colorbar": {
             "outlinewidth": 0,
             "ticks": ""
            },
            "type": "mesh3d"
           }
          ],
          "parcoords": [
           {
            "line": {
             "colorbar": {
              "outlinewidth": 0,
              "ticks": ""
             }
            },
            "type": "parcoords"
           }
          ],
          "pie": [
           {
            "automargin": true,
            "type": "pie"
           }
          ],
          "scatter": [
           {
            "marker": {
             "colorbar": {
              "outlinewidth": 0,
              "ticks": ""
             }
            },
            "type": "scatter"
           }
          ],
          "scatter3d": [
           {
            "line": {
             "colorbar": {
              "outlinewidth": 0,
              "ticks": ""
             }
            },
            "marker": {
             "colorbar": {
              "outlinewidth": 0,
              "ticks": ""
             }
            },
            "type": "scatter3d"
           }
          ],
          "scattercarpet": [
           {
            "marker": {
             "colorbar": {
              "outlinewidth": 0,
              "ticks": ""
             }
            },
            "type": "scattercarpet"
           }
          ],
          "scattergeo": [
           {
            "marker": {
             "colorbar": {
              "outlinewidth": 0,
              "ticks": ""
             }
            },
            "type": "scattergeo"
           }
          ],
          "scattergl": [
           {
            "marker": {
             "colorbar": {
              "outlinewidth": 0,
              "ticks": ""
             }
            },
            "type": "scattergl"
           }
          ],
          "scattermapbox": [
           {
            "marker": {
             "colorbar": {
              "outlinewidth": 0,
              "ticks": ""
             }
            },
            "type": "scattermapbox"
           }
          ],
          "scatterpolar": [
           {
            "marker": {
             "colorbar": {
              "outlinewidth": 0,
              "ticks": ""
             }
            },
            "type": "scatterpolar"
           }
          ],
          "scatterpolargl": [
           {
            "marker": {
             "colorbar": {
              "outlinewidth": 0,
              "ticks": ""
             }
            },
            "type": "scatterpolargl"
           }
          ],
          "scatterternary": [
           {
            "marker": {
             "colorbar": {
              "outlinewidth": 0,
              "ticks": ""
             }
            },
            "type": "scatterternary"
           }
          ],
          "surface": [
           {
            "colorbar": {
             "outlinewidth": 0,
             "ticks": ""
            },
            "colorscale": [
             [
              0,
              "#0d0887"
             ],
             [
              0.1111111111111111,
              "#46039f"
             ],
             [
              0.2222222222222222,
              "#7201a8"
             ],
             [
              0.3333333333333333,
              "#9c179e"
             ],
             [
              0.4444444444444444,
              "#bd3786"
             ],
             [
              0.5555555555555556,
              "#d8576b"
             ],
             [
              0.6666666666666666,
              "#ed7953"
             ],
             [
              0.7777777777777778,
              "#fb9f3a"
             ],
             [
              0.8888888888888888,
              "#fdca26"
             ],
             [
              1,
              "#f0f921"
             ]
            ],
            "type": "surface"
           }
          ],
          "table": [
           {
            "cells": {
             "fill": {
              "color": "#EBF0F8"
             },
             "line": {
              "color": "white"
             }
            },
            "header": {
             "fill": {
              "color": "#C8D4E3"
             },
             "line": {
              "color": "white"
             }
            },
            "type": "table"
           }
          ]
         },
         "layout": {
          "annotationdefaults": {
           "arrowcolor": "#2a3f5f",
           "arrowhead": 0,
           "arrowwidth": 1
          },
          "autotypenumbers": "strict",
          "coloraxis": {
           "colorbar": {
            "outlinewidth": 0,
            "ticks": ""
           }
          },
          "colorscale": {
           "diverging": [
            [
             0,
             "#8e0152"
            ],
            [
             0.1,
             "#c51b7d"
            ],
            [
             0.2,
             "#de77ae"
            ],
            [
             0.3,
             "#f1b6da"
            ],
            [
             0.4,
             "#fde0ef"
            ],
            [
             0.5,
             "#f7f7f7"
            ],
            [
             0.6,
             "#e6f5d0"
            ],
            [
             0.7,
             "#b8e186"
            ],
            [
             0.8,
             "#7fbc41"
            ],
            [
             0.9,
             "#4d9221"
            ],
            [
             1,
             "#276419"
            ]
           ],
           "sequential": [
            [
             0,
             "#0d0887"
            ],
            [
             0.1111111111111111,
             "#46039f"
            ],
            [
             0.2222222222222222,
             "#7201a8"
            ],
            [
             0.3333333333333333,
             "#9c179e"
            ],
            [
             0.4444444444444444,
             "#bd3786"
            ],
            [
             0.5555555555555556,
             "#d8576b"
            ],
            [
             0.6666666666666666,
             "#ed7953"
            ],
            [
             0.7777777777777778,
             "#fb9f3a"
            ],
            [
             0.8888888888888888,
             "#fdca26"
            ],
            [
             1,
             "#f0f921"
            ]
           ],
           "sequentialminus": [
            [
             0,
             "#0d0887"
            ],
            [
             0.1111111111111111,
             "#46039f"
            ],
            [
             0.2222222222222222,
             "#7201a8"
            ],
            [
             0.3333333333333333,
             "#9c179e"
            ],
            [
             0.4444444444444444,
             "#bd3786"
            ],
            [
             0.5555555555555556,
             "#d8576b"
            ],
            [
             0.6666666666666666,
             "#ed7953"
            ],
            [
             0.7777777777777778,
             "#fb9f3a"
            ],
            [
             0.8888888888888888,
             "#fdca26"
            ],
            [
             1,
             "#f0f921"
            ]
           ]
          },
          "colorway": [
           "#636efa",
           "#EF553B",
           "#00cc96",
           "#ab63fa",
           "#FFA15A",
           "#19d3f3",
           "#FF6692",
           "#B6E880",
           "#FF97FF",
           "#FECB52"
          ],
          "font": {
           "color": "#2a3f5f"
          },
          "geo": {
           "bgcolor": "white",
           "lakecolor": "white",
           "landcolor": "#E5ECF6",
           "showlakes": true,
           "showland": true,
           "subunitcolor": "white"
          },
          "hoverlabel": {
           "align": "left"
          },
          "hovermode": "closest",
          "mapbox": {
           "style": "light"
          },
          "paper_bgcolor": "white",
          "plot_bgcolor": "#E5ECF6",
          "polar": {
           "angularaxis": {
            "gridcolor": "white",
            "linecolor": "white",
            "ticks": ""
           },
           "bgcolor": "#E5ECF6",
           "radialaxis": {
            "gridcolor": "white",
            "linecolor": "white",
            "ticks": ""
           }
          },
          "scene": {
           "xaxis": {
            "backgroundcolor": "#E5ECF6",
            "gridcolor": "white",
            "gridwidth": 2,
            "linecolor": "white",
            "showbackground": true,
            "ticks": "",
            "zerolinecolor": "white"
           },
           "yaxis": {
            "backgroundcolor": "#E5ECF6",
            "gridcolor": "white",
            "gridwidth": 2,
            "linecolor": "white",
            "showbackground": true,
            "ticks": "",
            "zerolinecolor": "white"
           },
           "zaxis": {
            "backgroundcolor": "#E5ECF6",
            "gridcolor": "white",
            "gridwidth": 2,
            "linecolor": "white",
            "showbackground": true,
            "ticks": "",
            "zerolinecolor": "white"
           }
          },
          "shapedefaults": {
           "line": {
            "color": "#2a3f5f"
           }
          },
          "ternary": {
           "aaxis": {
            "gridcolor": "white",
            "linecolor": "white",
            "ticks": ""
           },
           "baxis": {
            "gridcolor": "white",
            "linecolor": "white",
            "ticks": ""
           },
           "bgcolor": "#E5ECF6",
           "caxis": {
            "gridcolor": "white",
            "linecolor": "white",
            "ticks": ""
           }
          },
          "title": {
           "x": 0.05
          },
          "xaxis": {
           "automargin": true,
           "gridcolor": "white",
           "linecolor": "white",
           "ticks": "",
           "title": {
            "standoff": 15
           },
           "zerolinecolor": "white",
           "zerolinewidth": 2
          },
          "yaxis": {
           "automargin": true,
           "gridcolor": "white",
           "linecolor": "white",
           "ticks": "",
           "title": {
            "standoff": 15
           },
           "zerolinecolor": "white",
           "zerolinewidth": 2
          }
         }
        },
        "xaxis": {
         "rangeslider": {
          "visible": true
         }
        }
       }
      }
     },
     "metadata": {},
     "output_type": "display_data"
    }
   ],
   "source": [
    "import plotly.graph_objects as go\n",
    "from plotly.subplots import make_subplots\n",
    "fig2 = make_subplots(rows=1, cols=2)\n",
    "\n",
    "df_bal=df2.drop(['AC','SE','RJ'],axis=0)\n",
    "indexes=df_bal.index\n",
    "\n",
    "fig = go.Figure(data=[\n",
    "    go.Scatter(name=df_bal.columns[3], x=indexes, \n",
    "           y=df_bal['Valor Licitado'].values,mode='lines+markers'\n",
    "          ),\n",
    "\n",
    "    go.Bar(name=df_bal.columns[4], \n",
    "           x=indexes, y=df_bal['Valor Ilegal'].values,\n",
    "           text=df_bal['{%} Valor Ilegal'],\n",
    "           textposition='outside')        \n",
    "])\n",
    "\n",
    "# Change the bar mode\n",
    "fig.update_layout(barmode='group')\n",
    "fig.update_xaxes(rangeslider_visible=True)\n",
    "fig.show()"
   ]
  },
  {
   "cell_type": "markdown",
   "id": "521fae79",
   "metadata": {},
   "source": [
    "### DADOS NORMAIS - IMPORT"
   ]
  },
  {
   "cell_type": "code",
   "execution_count": 4,
   "id": "1e1ea992",
   "metadata": {},
   "outputs": [],
   "source": [
    "dd = pd.read_csv('C:/Users/efvs/Documents/Residencia Ednael/Repositórios/residencia2/data/lic_taguiado.csv', index_col=[0])"
   ]
  },
  {
   "cell_type": "code",
   "execution_count": 5,
   "id": "3048b37d",
   "metadata": {},
   "outputs": [
    {
     "data": {
      "text/html": [
       "<div>\n",
       "<style scoped>\n",
       "    .dataframe tbody tr th:only-of-type {\n",
       "        vertical-align: middle;\n",
       "    }\n",
       "\n",
       "    .dataframe tbody tr th {\n",
       "        vertical-align: top;\n",
       "    }\n",
       "\n",
       "    .dataframe thead th {\n",
       "        text-align: right;\n",
       "    }\n",
       "</style>\n",
       "<table border=\"1\" class=\"dataframe\">\n",
       "  <thead>\n",
       "    <tr style=\"text-align: right;\">\n",
       "      <th></th>\n",
       "      <th>Número Licitação</th>\n",
       "      <th>Código UG</th>\n",
       "      <th>Nome UG</th>\n",
       "      <th>Código Modalidade Compra</th>\n",
       "      <th>Modalidade Compra</th>\n",
       "      <th>Número Processo</th>\n",
       "      <th>Objeto</th>\n",
       "      <th>Situação Licitação</th>\n",
       "      <th>Código Órgão Superior</th>\n",
       "      <th>Nome Órgão Superior</th>\n",
       "      <th>Código Órgão</th>\n",
       "      <th>Nome Órgão</th>\n",
       "      <th>Município</th>\n",
       "      <th>data</th>\n",
       "      <th>Data Abertura</th>\n",
       "      <th>Total</th>\n",
       "      <th>Obras</th>\n",
       "      <th>Tag</th>\n",
       "      <th>UF</th>\n",
       "    </tr>\n",
       "  </thead>\n",
       "  <tbody>\n",
       "    <tr>\n",
       "      <th>1</th>\n",
       "      <td>32018</td>\n",
       "      <td>788810</td>\n",
       "      <td>ESTACAO NAVAL DO RIO NEGRO</td>\n",
       "      <td>-99</td>\n",
       "      <td>Pregão - Registro de Preço</td>\n",
       "      <td>63160.000202/2018</td>\n",
       "      <td>Objeto: Pregão Eletrônico -  Serviço de manute...</td>\n",
       "      <td>Evento de Alteração Publicado</td>\n",
       "      <td>52000</td>\n",
       "      <td>Ministério da Defesa</td>\n",
       "      <td>52131</td>\n",
       "      <td>Comando da Marinha</td>\n",
       "      <td>MANAUS</td>\n",
       "      <td>2018-07-17</td>\n",
       "      <td>29/05/2018</td>\n",
       "      <td>28272.0</td>\n",
       "      <td>Obra</td>\n",
       "      <td>0</td>\n",
       "      <td>AM</td>\n",
       "    </tr>\n",
       "  </tbody>\n",
       "</table>\n",
       "</div>"
      ],
      "text/plain": [
       "   Número Licitação  Código UG                     Nome UG  \\\n",
       "1             32018     788810  ESTACAO NAVAL DO RIO NEGRO   \n",
       "\n",
       "   Código Modalidade Compra           Modalidade Compra    Número Processo  \\\n",
       "1                       -99  Pregão - Registro de Preço  63160.000202/2018   \n",
       "\n",
       "                                              Objeto  \\\n",
       "1  Objeto: Pregão Eletrônico -  Serviço de manute...   \n",
       "\n",
       "              Situação Licitação  Código Órgão Superior   Nome Órgão Superior  \\\n",
       "1  Evento de Alteração Publicado                  52000  Ministério da Defesa   \n",
       "\n",
       "   Código Órgão          Nome Órgão Município        data Data Abertura  \\\n",
       "1         52131  Comando da Marinha    MANAUS  2018-07-17    29/05/2018   \n",
       "\n",
       "     Total Obras  Tag  UF  \n",
       "1  28272.0  Obra    0  AM  "
      ]
     },
     "execution_count": 5,
     "metadata": {},
     "output_type": "execute_result"
    }
   ],
   "source": [
    "dd.head(1)"
   ]
  },
  {
   "cell_type": "markdown",
   "id": "2b6200e3",
   "metadata": {},
   "source": [
    "### INVESTIGAÇÃO - CASO ACRE"
   ]
  },
  {
   "cell_type": "code",
   "execution_count": 101,
   "id": "2addef89",
   "metadata": {},
   "outputs": [
    {
     "data": {
      "text/plain": [
       "array([77208, 222020, 200331,\n",
       "       'FUNDO NACIONAL DE SEGURANCA PUBLICA - FNSP', -99,\n",
       "       'Pregão - Registro de Preço', '08020.008738/2019',\n",
       "       'Objeto: Pregão Eletrônico -  Aquisição de Sistemas de Identificação Balística (SIB) e Licença de Software de Servidor de Correlação, Armazenamento e Gerenciamento para implementação do Sistema Nacional de Análise Balística (SINAB) com o Banco Nacional de Perfis Balísticos (BNPB), para atender as demandas da Diretoria de Políticas de Segurança Pública.',\n",
       "       'Evento de Resultado de Julgame', 30000,\n",
       "       'Ministério da Justiça e Segurança Pública', 30911,\n",
       "       'Fundo Nacional de Segurança Pública', 'BRASILIA', '2021-02-22',\n",
       "       '16/10/2020', 1162150270000.0, 'Compras/Servicos', 1, 'AC'],\n",
       "      dtype=object)"
      ]
     },
     "execution_count": 101,
     "metadata": {},
     "output_type": "execute_result"
    }
   ],
   "source": [
    "dd[dd['UF']=='AC'].sort_values(by='Total',ascending=False).values[0]"
   ]
  },
  {
   "cell_type": "markdown",
   "id": "7f6c6b14",
   "metadata": {},
   "source": [
    "### PLOT GERAL"
   ]
  },
  {
   "cell_type": "code",
   "execution_count": 10,
   "id": "45ffddd6",
   "metadata": {},
   "outputs": [
    {
     "data": {
      "application/vnd.plotly.v1+json": {
       "config": {
        "plotlyServerURL": "https://plot.ly"
       },
       "data": [
        {
         "marker": {
          "color": "rgb(0,0,0)",
          "line": {
           "color": "rgb(0,0,0)",
           "width": 1.5
          }
         },
         "mode": "lines+markers",
         "name": "Valor Licitado",
         "opacity": 1,
         "type": "scatter",
         "x": [
          "MG",
          "RS",
          "PR",
          "PE",
          "SP",
          "BA",
          "RN",
          "CE",
          "MS",
          "AM",
          "PB",
          "AL",
          "PI",
          "RO",
          "PA",
          "RR",
          "MT",
          "SC",
          "TO",
          "ES",
          "GO",
          "MA",
          "AP"
         ],
         "xaxis": "x3",
         "y": [
          1913880595.2,
          2509244565.02,
          1332462250.28,
          3249519325.04,
          173454988.48,
          1656192822.2,
          590802355.6,
          1816121013.89,
          749185416.02,
          1725935402.4,
          510851616.51,
          789432939.73,
          905343347.8,
          571148597.49,
          114414666.82,
          401105658.61,
          926836304.31,
          104812356.5,
          471920972.75,
          48566583.14,
          32453700.09,
          12095345.17,
          2358454.82
         ],
         "yaxis": "y3"
        },
        {
         "marker": {
          "color": "rgb(0,0,0)",
          "line": {
           "color": "rgb(0,0,0)",
           "width": 1.5
          }
         },
         "name": "Valor Ilegal",
         "opacity": 1,
         "text": [
          0.0836,
          0.0774,
          0.0869,
          0.0419,
          0.2633,
          0.1642,
          0.2137,
          0.0328,
          0.0792,
          0.0454,
          0.1401,
          0.0611,
          0.062,
          0.0383,
          0.0877,
          0.1363,
          0.032,
          0.1535,
          0.039,
          0.2449,
          0.6097,
          0.4558,
          0.5996
         ],
         "textposition": "outside",
         "type": "bar",
         "x": [
          "MG",
          "RS",
          "PR",
          "PE",
          "SP",
          "BA",
          "RN",
          "CE",
          "MS",
          "AM",
          "PB",
          "AL",
          "PI",
          "RO",
          "PA",
          "RR",
          "MT",
          "SC",
          "TO",
          "ES",
          "GO",
          "MA",
          "AP"
         ],
         "xaxis": "x3",
         "y": [
          160055761.34,
          194335705.27,
          115748160.19,
          136068729.28,
          45662767.9,
          271957835.44,
          126281858.89,
          59523002.43,
          59364134.28,
          78383229.24,
          71552023.58,
          48248474.3,
          56098574.01,
          21871528.36,
          10035538.62,
          54685881.23,
          29669353.11,
          16086559.73,
          18425586.41,
          11894638.86,
          19787980.36,
          5512819.73,
          1414054
         ],
         "yaxis": "y3"
        },
        {
         "marker": {
          "color": "rgb(0,0,0)",
          "line": {
           "color": "rgb(0,0,0)",
           "width": 1.5
          }
         },
         "mode": "lines+markers",
         "name": "Valor Licitado",
         "opacity": 1,
         "type": "scatter",
         "x": [
          "SE",
          "RJ"
         ],
         "xaxis": "x",
         "y": [
          22736188562.4,
          9458140620.62
         ],
         "yaxis": "y"
        },
        {
         "marker": {
          "color": "rgb(0,0,0)",
          "line": {
           "color": "rgb(0,0,0)",
           "width": 1.5
          }
         },
         "name": "Valor Ilegal",
         "opacity": 1,
         "text": [
          0.0018,
          0.0692
         ],
         "textposition": "outside",
         "type": "bar",
         "x": [
          "SE",
          "RJ"
         ],
         "xaxis": "x",
         "y": [
          40503017.43,
          654575161.92
         ],
         "yaxis": "y"
        },
        {
         "marker": {
          "color": "rgb(0,0,0)",
          "line": {
           "color": "rgb(0,0,0)",
           "width": 1.5
          }
         },
         "mode": "lines+markers",
         "name": "Valor Licitado",
         "opacity": 1,
         "type": "scatter",
         "x": [
          "AC"
         ],
         "xaxis": "x2",
         "y": [
          1182798788321.47
         ],
         "yaxis": "y2"
        },
        {
         "marker": {
          "color": "rgb(0,0,0)",
          "line": {
           "color": "rgb(0,0,0)",
           "width": 1.5
          }
         },
         "name": "Valor Ilegal",
         "opacity": 1,
         "text": [
          0.0004
         ],
         "textposition": "outside",
         "type": "bar",
         "x": [
          "AC"
         ],
         "xaxis": "x2",
         "y": [
          443493664.41
         ],
         "yaxis": "y2"
        }
       ],
       "layout": {
        "annotations": [
         {
          "font": {
           "size": 16
          },
          "showarrow": false,
          "text": "Agrupamento 1",
          "x": 0.225,
          "xanchor": "center",
          "xref": "paper",
          "y": 1,
          "yanchor": "bottom",
          "yref": "paper"
         },
         {
          "font": {
           "size": 16
          },
          "showarrow": false,
          "text": "Agrupamento 2",
          "x": 0.775,
          "xanchor": "center",
          "xref": "paper",
          "y": 1,
          "yanchor": "bottom",
          "yref": "paper"
         },
         {
          "font": {
           "size": 16
          },
          "showarrow": false,
          "text": "Panorama geral",
          "x": 0.5,
          "xanchor": "center",
          "xref": "paper",
          "y": 0.375,
          "yanchor": "bottom",
          "yref": "paper"
         }
        ],
        "barmode": "group",
        "showlegend": true,
        "template": {
         "data": {
          "bar": [
           {
            "error_x": {
             "color": "#2a3f5f"
            },
            "error_y": {
             "color": "#2a3f5f"
            },
            "marker": {
             "line": {
              "color": "#E5ECF6",
              "width": 0.5
             },
             "pattern": {
              "fillmode": "overlay",
              "size": 10,
              "solidity": 0.2
             }
            },
            "type": "bar"
           }
          ],
          "barpolar": [
           {
            "marker": {
             "line": {
              "color": "#E5ECF6",
              "width": 0.5
             },
             "pattern": {
              "fillmode": "overlay",
              "size": 10,
              "solidity": 0.2
             }
            },
            "type": "barpolar"
           }
          ],
          "carpet": [
           {
            "aaxis": {
             "endlinecolor": "#2a3f5f",
             "gridcolor": "white",
             "linecolor": "white",
             "minorgridcolor": "white",
             "startlinecolor": "#2a3f5f"
            },
            "baxis": {
             "endlinecolor": "#2a3f5f",
             "gridcolor": "white",
             "linecolor": "white",
             "minorgridcolor": "white",
             "startlinecolor": "#2a3f5f"
            },
            "type": "carpet"
           }
          ],
          "choropleth": [
           {
            "colorbar": {
             "outlinewidth": 0,
             "ticks": ""
            },
            "type": "choropleth"
           }
          ],
          "contour": [
           {
            "colorbar": {
             "outlinewidth": 0,
             "ticks": ""
            },
            "colorscale": [
             [
              0,
              "#0d0887"
             ],
             [
              0.1111111111111111,
              "#46039f"
             ],
             [
              0.2222222222222222,
              "#7201a8"
             ],
             [
              0.3333333333333333,
              "#9c179e"
             ],
             [
              0.4444444444444444,
              "#bd3786"
             ],
             [
              0.5555555555555556,
              "#d8576b"
             ],
             [
              0.6666666666666666,
              "#ed7953"
             ],
             [
              0.7777777777777778,
              "#fb9f3a"
             ],
             [
              0.8888888888888888,
              "#fdca26"
             ],
             [
              1,
              "#f0f921"
             ]
            ],
            "type": "contour"
           }
          ],
          "contourcarpet": [
           {
            "colorbar": {
             "outlinewidth": 0,
             "ticks": ""
            },
            "type": "contourcarpet"
           }
          ],
          "heatmap": [
           {
            "colorbar": {
             "outlinewidth": 0,
             "ticks": ""
            },
            "colorscale": [
             [
              0,
              "#0d0887"
             ],
             [
              0.1111111111111111,
              "#46039f"
             ],
             [
              0.2222222222222222,
              "#7201a8"
             ],
             [
              0.3333333333333333,
              "#9c179e"
             ],
             [
              0.4444444444444444,
              "#bd3786"
             ],
             [
              0.5555555555555556,
              "#d8576b"
             ],
             [
              0.6666666666666666,
              "#ed7953"
             ],
             [
              0.7777777777777778,
              "#fb9f3a"
             ],
             [
              0.8888888888888888,
              "#fdca26"
             ],
             [
              1,
              "#f0f921"
             ]
            ],
            "type": "heatmap"
           }
          ],
          "heatmapgl": [
           {
            "colorbar": {
             "outlinewidth": 0,
             "ticks": ""
            },
            "colorscale": [
             [
              0,
              "#0d0887"
             ],
             [
              0.1111111111111111,
              "#46039f"
             ],
             [
              0.2222222222222222,
              "#7201a8"
             ],
             [
              0.3333333333333333,
              "#9c179e"
             ],
             [
              0.4444444444444444,
              "#bd3786"
             ],
             [
              0.5555555555555556,
              "#d8576b"
             ],
             [
              0.6666666666666666,
              "#ed7953"
             ],
             [
              0.7777777777777778,
              "#fb9f3a"
             ],
             [
              0.8888888888888888,
              "#fdca26"
             ],
             [
              1,
              "#f0f921"
             ]
            ],
            "type": "heatmapgl"
           }
          ],
          "histogram": [
           {
            "marker": {
             "pattern": {
              "fillmode": "overlay",
              "size": 10,
              "solidity": 0.2
             }
            },
            "type": "histogram"
           }
          ],
          "histogram2d": [
           {
            "colorbar": {
             "outlinewidth": 0,
             "ticks": ""
            },
            "colorscale": [
             [
              0,
              "#0d0887"
             ],
             [
              0.1111111111111111,
              "#46039f"
             ],
             [
              0.2222222222222222,
              "#7201a8"
             ],
             [
              0.3333333333333333,
              "#9c179e"
             ],
             [
              0.4444444444444444,
              "#bd3786"
             ],
             [
              0.5555555555555556,
              "#d8576b"
             ],
             [
              0.6666666666666666,
              "#ed7953"
             ],
             [
              0.7777777777777778,
              "#fb9f3a"
             ],
             [
              0.8888888888888888,
              "#fdca26"
             ],
             [
              1,
              "#f0f921"
             ]
            ],
            "type": "histogram2d"
           }
          ],
          "histogram2dcontour": [
           {
            "colorbar": {
             "outlinewidth": 0,
             "ticks": ""
            },
            "colorscale": [
             [
              0,
              "#0d0887"
             ],
             [
              0.1111111111111111,
              "#46039f"
             ],
             [
              0.2222222222222222,
              "#7201a8"
             ],
             [
              0.3333333333333333,
              "#9c179e"
             ],
             [
              0.4444444444444444,
              "#bd3786"
             ],
             [
              0.5555555555555556,
              "#d8576b"
             ],
             [
              0.6666666666666666,
              "#ed7953"
             ],
             [
              0.7777777777777778,
              "#fb9f3a"
             ],
             [
              0.8888888888888888,
              "#fdca26"
             ],
             [
              1,
              "#f0f921"
             ]
            ],
            "type": "histogram2dcontour"
           }
          ],
          "mesh3d": [
           {
            "colorbar": {
             "outlinewidth": 0,
             "ticks": ""
            },
            "type": "mesh3d"
           }
          ],
          "parcoords": [
           {
            "line": {
             "colorbar": {
              "outlinewidth": 0,
              "ticks": ""
             }
            },
            "type": "parcoords"
           }
          ],
          "pie": [
           {
            "automargin": true,
            "type": "pie"
           }
          ],
          "scatter": [
           {
            "marker": {
             "colorbar": {
              "outlinewidth": 0,
              "ticks": ""
             }
            },
            "type": "scatter"
           }
          ],
          "scatter3d": [
           {
            "line": {
             "colorbar": {
              "outlinewidth": 0,
              "ticks": ""
             }
            },
            "marker": {
             "colorbar": {
              "outlinewidth": 0,
              "ticks": ""
             }
            },
            "type": "scatter3d"
           }
          ],
          "scattercarpet": [
           {
            "marker": {
             "colorbar": {
              "outlinewidth": 0,
              "ticks": ""
             }
            },
            "type": "scattercarpet"
           }
          ],
          "scattergeo": [
           {
            "marker": {
             "colorbar": {
              "outlinewidth": 0,
              "ticks": ""
             }
            },
            "type": "scattergeo"
           }
          ],
          "scattergl": [
           {
            "marker": {
             "colorbar": {
              "outlinewidth": 0,
              "ticks": ""
             }
            },
            "type": "scattergl"
           }
          ],
          "scattermapbox": [
           {
            "marker": {
             "colorbar": {
              "outlinewidth": 0,
              "ticks": ""
             }
            },
            "type": "scattermapbox"
           }
          ],
          "scatterpolar": [
           {
            "marker": {
             "colorbar": {
              "outlinewidth": 0,
              "ticks": ""
             }
            },
            "type": "scatterpolar"
           }
          ],
          "scatterpolargl": [
           {
            "marker": {
             "colorbar": {
              "outlinewidth": 0,
              "ticks": ""
             }
            },
            "type": "scatterpolargl"
           }
          ],
          "scatterternary": [
           {
            "marker": {
             "colorbar": {
              "outlinewidth": 0,
              "ticks": ""
             }
            },
            "type": "scatterternary"
           }
          ],
          "surface": [
           {
            "colorbar": {
             "outlinewidth": 0,
             "ticks": ""
            },
            "colorscale": [
             [
              0,
              "#0d0887"
             ],
             [
              0.1111111111111111,
              "#46039f"
             ],
             [
              0.2222222222222222,
              "#7201a8"
             ],
             [
              0.3333333333333333,
              "#9c179e"
             ],
             [
              0.4444444444444444,
              "#bd3786"
             ],
             [
              0.5555555555555556,
              "#d8576b"
             ],
             [
              0.6666666666666666,
              "#ed7953"
             ],
             [
              0.7777777777777778,
              "#fb9f3a"
             ],
             [
              0.8888888888888888,
              "#fdca26"
             ],
             [
              1,
              "#f0f921"
             ]
            ],
            "type": "surface"
           }
          ],
          "table": [
           {
            "cells": {
             "fill": {
              "color": "#EBF0F8"
             },
             "line": {
              "color": "white"
             }
            },
            "header": {
             "fill": {
              "color": "#C8D4E3"
             },
             "line": {
              "color": "white"
             }
            },
            "type": "table"
           }
          ]
         },
         "layout": {
          "annotationdefaults": {
           "arrowcolor": "#2a3f5f",
           "arrowhead": 0,
           "arrowwidth": 1
          },
          "autotypenumbers": "strict",
          "coloraxis": {
           "colorbar": {
            "outlinewidth": 0,
            "ticks": ""
           }
          },
          "colorscale": {
           "diverging": [
            [
             0,
             "#8e0152"
            ],
            [
             0.1,
             "#c51b7d"
            ],
            [
             0.2,
             "#de77ae"
            ],
            [
             0.3,
             "#f1b6da"
            ],
            [
             0.4,
             "#fde0ef"
            ],
            [
             0.5,
             "#f7f7f7"
            ],
            [
             0.6,
             "#e6f5d0"
            ],
            [
             0.7,
             "#b8e186"
            ],
            [
             0.8,
             "#7fbc41"
            ],
            [
             0.9,
             "#4d9221"
            ],
            [
             1,
             "#276419"
            ]
           ],
           "sequential": [
            [
             0,
             "#0d0887"
            ],
            [
             0.1111111111111111,
             "#46039f"
            ],
            [
             0.2222222222222222,
             "#7201a8"
            ],
            [
             0.3333333333333333,
             "#9c179e"
            ],
            [
             0.4444444444444444,
             "#bd3786"
            ],
            [
             0.5555555555555556,
             "#d8576b"
            ],
            [
             0.6666666666666666,
             "#ed7953"
            ],
            [
             0.7777777777777778,
             "#fb9f3a"
            ],
            [
             0.8888888888888888,
             "#fdca26"
            ],
            [
             1,
             "#f0f921"
            ]
           ],
           "sequentialminus": [
            [
             0,
             "#0d0887"
            ],
            [
             0.1111111111111111,
             "#46039f"
            ],
            [
             0.2222222222222222,
             "#7201a8"
            ],
            [
             0.3333333333333333,
             "#9c179e"
            ],
            [
             0.4444444444444444,
             "#bd3786"
            ],
            [
             0.5555555555555556,
             "#d8576b"
            ],
            [
             0.6666666666666666,
             "#ed7953"
            ],
            [
             0.7777777777777778,
             "#fb9f3a"
            ],
            [
             0.8888888888888888,
             "#fdca26"
            ],
            [
             1,
             "#f0f921"
            ]
           ]
          },
          "colorway": [
           "#636efa",
           "#EF553B",
           "#00cc96",
           "#ab63fa",
           "#FFA15A",
           "#19d3f3",
           "#FF6692",
           "#B6E880",
           "#FF97FF",
           "#FECB52"
          ],
          "font": {
           "color": "#2a3f5f"
          },
          "geo": {
           "bgcolor": "white",
           "lakecolor": "white",
           "landcolor": "#E5ECF6",
           "showlakes": true,
           "showland": true,
           "subunitcolor": "white"
          },
          "hoverlabel": {
           "align": "left"
          },
          "hovermode": "closest",
          "mapbox": {
           "style": "light"
          },
          "paper_bgcolor": "white",
          "plot_bgcolor": "#E5ECF6",
          "polar": {
           "angularaxis": {
            "gridcolor": "white",
            "linecolor": "white",
            "ticks": ""
           },
           "bgcolor": "#E5ECF6",
           "radialaxis": {
            "gridcolor": "white",
            "linecolor": "white",
            "ticks": ""
           }
          },
          "scene": {
           "xaxis": {
            "backgroundcolor": "#E5ECF6",
            "gridcolor": "white",
            "gridwidth": 2,
            "linecolor": "white",
            "showbackground": true,
            "ticks": "",
            "zerolinecolor": "white"
           },
           "yaxis": {
            "backgroundcolor": "#E5ECF6",
            "gridcolor": "white",
            "gridwidth": 2,
            "linecolor": "white",
            "showbackground": true,
            "ticks": "",
            "zerolinecolor": "white"
           },
           "zaxis": {
            "backgroundcolor": "#E5ECF6",
            "gridcolor": "white",
            "gridwidth": 2,
            "linecolor": "white",
            "showbackground": true,
            "ticks": "",
            "zerolinecolor": "white"
           }
          },
          "shapedefaults": {
           "line": {
            "color": "#2a3f5f"
           }
          },
          "ternary": {
           "aaxis": {
            "gridcolor": "white",
            "linecolor": "white",
            "ticks": ""
           },
           "baxis": {
            "gridcolor": "white",
            "linecolor": "white",
            "ticks": ""
           },
           "bgcolor": "#E5ECF6",
           "caxis": {
            "gridcolor": "white",
            "linecolor": "white",
            "ticks": ""
           }
          },
          "title": {
           "x": 0.05
          },
          "xaxis": {
           "automargin": true,
           "gridcolor": "white",
           "linecolor": "white",
           "ticks": "",
           "title": {
            "standoff": 15
           },
           "zerolinecolor": "white",
           "zerolinewidth": 2
          },
          "yaxis": {
           "automargin": true,
           "gridcolor": "white",
           "linecolor": "white",
           "ticks": "",
           "title": {
            "standoff": 15
           },
           "zerolinecolor": "white",
           "zerolinewidth": 2
          }
         }
        },
        "xaxis": {
         "anchor": "y",
         "domain": [
          0,
          0.45
         ]
        },
        "xaxis2": {
         "anchor": "y2",
         "domain": [
          0.55,
          1
         ]
        },
        "xaxis3": {
         "anchor": "y3",
         "domain": [
          0,
          1
         ]
        },
        "yaxis": {
         "anchor": "x",
         "domain": [
          0.625,
          1
         ]
        },
        "yaxis2": {
         "anchor": "x2",
         "domain": [
          0.625,
          1
         ]
        },
        "yaxis3": {
         "anchor": "x3",
         "domain": [
          0,
          0.375
         ]
        }
       }
      }
     },
     "metadata": {},
     "output_type": "display_data"
    }
   ],
   "source": [
    "import plotly.graph_objects as go\n",
    "from plotly.subplots import make_subplots\n",
    "\n",
    "fig = make_subplots(rows=2, cols=2,specs=[[{}, {}],\n",
    "           [{\"colspan\": 2}, None]],\n",
    "           subplot_titles=(\"Agrupamento 1\",\"Agrupamento 2\", \"Panorama geral\"))\n",
    "\n",
    "df_bal=df2.drop(['AC','SE','RJ'],axis=0)\n",
    "indexes=df_bal.index\n",
    "\n",
    "#Geral##\n",
    "fig.add_trace(go.Scatter(name=df_bal.columns[3], x=indexes, \n",
    "           y=df_bal['Valor Licitado'].values,mode='lines+markers'\n",
    "          ),2,1)\n",
    "          #.update_traces(marker_color='rgb(65,105,225)', marker_line_color='rgb(65,105,225)',\n",
    "        #       marker_line_width=1.5, opacity=1)\n",
    "#for d in fig.data:\n",
    "#    d.line.color = 'rgb(169,169,169)'\n",
    "fig.add_trace(go.Bar(name=df_bal.columns[4], \n",
    "           x=indexes, y=df_bal['Valor Ilegal'].values,\n",
    "           text=df_bal['{%} Valor Ilegal'],\n",
    "           textposition='outside'      \n",
    "       ),row=2,col=1)\n",
    "\n",
    "\n",
    "## SERGIPE E RJ\n",
    "fig.add_trace(go.Scatter(name=df2.columns[3], x=['SE','RJ'], \n",
    "           y=df2['Valor Licitado'][['SE','RJ']].values,mode='lines+markers'\n",
    "          ),1,1)\n",
    "fig.add_trace(go.Bar(name=df2.columns[4], \n",
    "           x=['SE','RJ'], y=df['Valor Ilegal'][['SE','RJ']].values,\n",
    "           text=df2['{%} Valor Ilegal'][['SE','RJ']],\n",
    "           textposition='outside'        \n",
    "       ),row=1,col=1)\n",
    "## ACRE\n",
    "fig.add_trace(go.Scatter(name=df2.columns[3], x=['AC'], \n",
    "           y=df2['Valor Licitado'][['AC']].values,mode='lines+markers'\n",
    "          ),1,2)\n",
    "fig.add_trace(go.Bar(name=df2.columns[4], \n",
    "           x=['AC'], y=df['Valor Ilegal'][['AC']].values,\n",
    "           text=df2['{%} Valor Ilegal'][['AC']],\n",
    "           textposition='outside'        \n",
    "       ),row=1,col=2)\n",
    "\n",
    "#COLORAÇÃO TEST\n",
    "fig.update_traces(marker_color='rgb(0,0,0)', marker_line_color='rgb(0,0,0)',\n",
    "                  marker_line_width=1.5, opacity=1)\n",
    "\n",
    "fig.update_layout(barmode='group',showlegend=True)\n",
    "#fig.update_xaxes(rangeslider_visible=True)\n",
    "fig.show()"
   ]
  },
  {
   "cell_type": "code",
   "execution_count": 58,
   "id": "490a7367",
   "metadata": {},
   "outputs": [],
   "source": [
    "import plotly.express as px\n",
    "from itertools import cycle\n",
    "colors = cycle(list(set(px.colors.sequential.Greys)))"
   ]
  },
  {
   "cell_type": "code",
   "execution_count": 59,
   "id": "2584b433",
   "metadata": {},
   "outputs": [
    {
     "data": {
      "text/plain": [
       "<itertools.cycle at 0x1739ead8980>"
      ]
     },
     "execution_count": 59,
     "metadata": {},
     "output_type": "execute_result"
    }
   ],
   "source": [
    "colors"
   ]
  },
  {
   "cell_type": "code",
   "execution_count": 203,
   "id": "52e9e3a5",
   "metadata": {},
   "outputs": [
    {
     "data": {
      "application/vnd.plotly.v1+json": {
       "config": {
        "plotlyServerURL": "https://plot.ly"
       },
       "data": [
        {
         "alignmentgroup": "True",
         "hovertemplate": "index=%{x}<br>Total de Licitações=%{y}<extra></extra>",
         "legendgroup": "",
         "marker": {
          "color": "#636efa",
          "pattern": {
           "shape": ""
          }
         },
         "name": "",
         "offsetgroup": "",
         "orientation": "v",
         "showlegend": false,
         "textposition": "auto",
         "texttemplate": "%{y}",
         "type": "bar",
         "x": [
          "RJ",
          "AC",
          "MG",
          "RS",
          "PR",
          "PE",
          "SP",
          "BA",
          "RN",
          "CE",
          "MS",
          "AM",
          "PB",
          "AL",
          "PI",
          "RO",
          "SE",
          "PA",
          "RR",
          "MT",
          "SC",
          "TO",
          "ES",
          "GO",
          "MA",
          "AP"
         ],
         "xaxis": "x",
         "y": [
          12780,
          6148,
          4393,
          3696,
          3022,
          2641,
          1863,
          1785,
          1694,
          1504,
          1483,
          1254,
          1057,
          1047,
          842,
          644,
          627,
          532,
          504,
          403,
          391,
          305,
          291,
          240,
          138,
          40
         ],
         "yaxis": "y"
        }
       ],
       "layout": {
        "autosize": true,
        "barmode": "relative",
        "legend": {
         "tracegroupgap": 0
        },
        "margin": {
         "t": 60
        },
        "template": {
         "data": {
          "bar": [
           {
            "error_x": {
             "color": "#2a3f5f"
            },
            "error_y": {
             "color": "#2a3f5f"
            },
            "marker": {
             "line": {
              "color": "#E5ECF6",
              "width": 0.5
             },
             "pattern": {
              "fillmode": "overlay",
              "size": 10,
              "solidity": 0.2
             }
            },
            "type": "bar"
           }
          ],
          "barpolar": [
           {
            "marker": {
             "line": {
              "color": "#E5ECF6",
              "width": 0.5
             },
             "pattern": {
              "fillmode": "overlay",
              "size": 10,
              "solidity": 0.2
             }
            },
            "type": "barpolar"
           }
          ],
          "carpet": [
           {
            "aaxis": {
             "endlinecolor": "#2a3f5f",
             "gridcolor": "white",
             "linecolor": "white",
             "minorgridcolor": "white",
             "startlinecolor": "#2a3f5f"
            },
            "baxis": {
             "endlinecolor": "#2a3f5f",
             "gridcolor": "white",
             "linecolor": "white",
             "minorgridcolor": "white",
             "startlinecolor": "#2a3f5f"
            },
            "type": "carpet"
           }
          ],
          "choropleth": [
           {
            "colorbar": {
             "outlinewidth": 0,
             "ticks": ""
            },
            "type": "choropleth"
           }
          ],
          "contour": [
           {
            "colorbar": {
             "outlinewidth": 0,
             "ticks": ""
            },
            "colorscale": [
             [
              0,
              "#0d0887"
             ],
             [
              0.1111111111111111,
              "#46039f"
             ],
             [
              0.2222222222222222,
              "#7201a8"
             ],
             [
              0.3333333333333333,
              "#9c179e"
             ],
             [
              0.4444444444444444,
              "#bd3786"
             ],
             [
              0.5555555555555556,
              "#d8576b"
             ],
             [
              0.6666666666666666,
              "#ed7953"
             ],
             [
              0.7777777777777778,
              "#fb9f3a"
             ],
             [
              0.8888888888888888,
              "#fdca26"
             ],
             [
              1,
              "#f0f921"
             ]
            ],
            "type": "contour"
           }
          ],
          "contourcarpet": [
           {
            "colorbar": {
             "outlinewidth": 0,
             "ticks": ""
            },
            "type": "contourcarpet"
           }
          ],
          "heatmap": [
           {
            "colorbar": {
             "outlinewidth": 0,
             "ticks": ""
            },
            "colorscale": [
             [
              0,
              "#0d0887"
             ],
             [
              0.1111111111111111,
              "#46039f"
             ],
             [
              0.2222222222222222,
              "#7201a8"
             ],
             [
              0.3333333333333333,
              "#9c179e"
             ],
             [
              0.4444444444444444,
              "#bd3786"
             ],
             [
              0.5555555555555556,
              "#d8576b"
             ],
             [
              0.6666666666666666,
              "#ed7953"
             ],
             [
              0.7777777777777778,
              "#fb9f3a"
             ],
             [
              0.8888888888888888,
              "#fdca26"
             ],
             [
              1,
              "#f0f921"
             ]
            ],
            "type": "heatmap"
           }
          ],
          "heatmapgl": [
           {
            "colorbar": {
             "outlinewidth": 0,
             "ticks": ""
            },
            "colorscale": [
             [
              0,
              "#0d0887"
             ],
             [
              0.1111111111111111,
              "#46039f"
             ],
             [
              0.2222222222222222,
              "#7201a8"
             ],
             [
              0.3333333333333333,
              "#9c179e"
             ],
             [
              0.4444444444444444,
              "#bd3786"
             ],
             [
              0.5555555555555556,
              "#d8576b"
             ],
             [
              0.6666666666666666,
              "#ed7953"
             ],
             [
              0.7777777777777778,
              "#fb9f3a"
             ],
             [
              0.8888888888888888,
              "#fdca26"
             ],
             [
              1,
              "#f0f921"
             ]
            ],
            "type": "heatmapgl"
           }
          ],
          "histogram": [
           {
            "marker": {
             "pattern": {
              "fillmode": "overlay",
              "size": 10,
              "solidity": 0.2
             }
            },
            "type": "histogram"
           }
          ],
          "histogram2d": [
           {
            "colorbar": {
             "outlinewidth": 0,
             "ticks": ""
            },
            "colorscale": [
             [
              0,
              "#0d0887"
             ],
             [
              0.1111111111111111,
              "#46039f"
             ],
             [
              0.2222222222222222,
              "#7201a8"
             ],
             [
              0.3333333333333333,
              "#9c179e"
             ],
             [
              0.4444444444444444,
              "#bd3786"
             ],
             [
              0.5555555555555556,
              "#d8576b"
             ],
             [
              0.6666666666666666,
              "#ed7953"
             ],
             [
              0.7777777777777778,
              "#fb9f3a"
             ],
             [
              0.8888888888888888,
              "#fdca26"
             ],
             [
              1,
              "#f0f921"
             ]
            ],
            "type": "histogram2d"
           }
          ],
          "histogram2dcontour": [
           {
            "colorbar": {
             "outlinewidth": 0,
             "ticks": ""
            },
            "colorscale": [
             [
              0,
              "#0d0887"
             ],
             [
              0.1111111111111111,
              "#46039f"
             ],
             [
              0.2222222222222222,
              "#7201a8"
             ],
             [
              0.3333333333333333,
              "#9c179e"
             ],
             [
              0.4444444444444444,
              "#bd3786"
             ],
             [
              0.5555555555555556,
              "#d8576b"
             ],
             [
              0.6666666666666666,
              "#ed7953"
             ],
             [
              0.7777777777777778,
              "#fb9f3a"
             ],
             [
              0.8888888888888888,
              "#fdca26"
             ],
             [
              1,
              "#f0f921"
             ]
            ],
            "type": "histogram2dcontour"
           }
          ],
          "mesh3d": [
           {
            "colorbar": {
             "outlinewidth": 0,
             "ticks": ""
            },
            "type": "mesh3d"
           }
          ],
          "parcoords": [
           {
            "line": {
             "colorbar": {
              "outlinewidth": 0,
              "ticks": ""
             }
            },
            "type": "parcoords"
           }
          ],
          "pie": [
           {
            "automargin": true,
            "type": "pie"
           }
          ],
          "scatter": [
           {
            "marker": {
             "colorbar": {
              "outlinewidth": 0,
              "ticks": ""
             }
            },
            "type": "scatter"
           }
          ],
          "scatter3d": [
           {
            "line": {
             "colorbar": {
              "outlinewidth": 0,
              "ticks": ""
             }
            },
            "marker": {
             "colorbar": {
              "outlinewidth": 0,
              "ticks": ""
             }
            },
            "type": "scatter3d"
           }
          ],
          "scattercarpet": [
           {
            "marker": {
             "colorbar": {
              "outlinewidth": 0,
              "ticks": ""
             }
            },
            "type": "scattercarpet"
           }
          ],
          "scattergeo": [
           {
            "marker": {
             "colorbar": {
              "outlinewidth": 0,
              "ticks": ""
             }
            },
            "type": "scattergeo"
           }
          ],
          "scattergl": [
           {
            "marker": {
             "colorbar": {
              "outlinewidth": 0,
              "ticks": ""
             }
            },
            "type": "scattergl"
           }
          ],
          "scattermapbox": [
           {
            "marker": {
             "colorbar": {
              "outlinewidth": 0,
              "ticks": ""
             }
            },
            "type": "scattermapbox"
           }
          ],
          "scatterpolar": [
           {
            "marker": {
             "colorbar": {
              "outlinewidth": 0,
              "ticks": ""
             }
            },
            "type": "scatterpolar"
           }
          ],
          "scatterpolargl": [
           {
            "marker": {
             "colorbar": {
              "outlinewidth": 0,
              "ticks": ""
             }
            },
            "type": "scatterpolargl"
           }
          ],
          "scatterternary": [
           {
            "marker": {
             "colorbar": {
              "outlinewidth": 0,
              "ticks": ""
             }
            },
            "type": "scatterternary"
           }
          ],
          "surface": [
           {
            "colorbar": {
             "outlinewidth": 0,
             "ticks": ""
            },
            "colorscale": [
             [
              0,
              "#0d0887"
             ],
             [
              0.1111111111111111,
              "#46039f"
             ],
             [
              0.2222222222222222,
              "#7201a8"
             ],
             [
              0.3333333333333333,
              "#9c179e"
             ],
             [
              0.4444444444444444,
              "#bd3786"
             ],
             [
              0.5555555555555556,
              "#d8576b"
             ],
             [
              0.6666666666666666,
              "#ed7953"
             ],
             [
              0.7777777777777778,
              "#fb9f3a"
             ],
             [
              0.8888888888888888,
              "#fdca26"
             ],
             [
              1,
              "#f0f921"
             ]
            ],
            "type": "surface"
           }
          ],
          "table": [
           {
            "cells": {
             "fill": {
              "color": "#EBF0F8"
             },
             "line": {
              "color": "white"
             }
            },
            "header": {
             "fill": {
              "color": "#C8D4E3"
             },
             "line": {
              "color": "white"
             }
            },
            "type": "table"
           }
          ]
         },
         "layout": {
          "annotationdefaults": {
           "arrowcolor": "#2a3f5f",
           "arrowhead": 0,
           "arrowwidth": 1
          },
          "autotypenumbers": "strict",
          "coloraxis": {
           "colorbar": {
            "outlinewidth": 0,
            "ticks": ""
           }
          },
          "colorscale": {
           "diverging": [
            [
             0,
             "#8e0152"
            ],
            [
             0.1,
             "#c51b7d"
            ],
            [
             0.2,
             "#de77ae"
            ],
            [
             0.3,
             "#f1b6da"
            ],
            [
             0.4,
             "#fde0ef"
            ],
            [
             0.5,
             "#f7f7f7"
            ],
            [
             0.6,
             "#e6f5d0"
            ],
            [
             0.7,
             "#b8e186"
            ],
            [
             0.8,
             "#7fbc41"
            ],
            [
             0.9,
             "#4d9221"
            ],
            [
             1,
             "#276419"
            ]
           ],
           "sequential": [
            [
             0,
             "#0d0887"
            ],
            [
             0.1111111111111111,
             "#46039f"
            ],
            [
             0.2222222222222222,
             "#7201a8"
            ],
            [
             0.3333333333333333,
             "#9c179e"
            ],
            [
             0.4444444444444444,
             "#bd3786"
            ],
            [
             0.5555555555555556,
             "#d8576b"
            ],
            [
             0.6666666666666666,
             "#ed7953"
            ],
            [
             0.7777777777777778,
             "#fb9f3a"
            ],
            [
             0.8888888888888888,
             "#fdca26"
            ],
            [
             1,
             "#f0f921"
            ]
           ],
           "sequentialminus": [
            [
             0,
             "#0d0887"
            ],
            [
             0.1111111111111111,
             "#46039f"
            ],
            [
             0.2222222222222222,
             "#7201a8"
            ],
            [
             0.3333333333333333,
             "#9c179e"
            ],
            [
             0.4444444444444444,
             "#bd3786"
            ],
            [
             0.5555555555555556,
             "#d8576b"
            ],
            [
             0.6666666666666666,
             "#ed7953"
            ],
            [
             0.7777777777777778,
             "#fb9f3a"
            ],
            [
             0.8888888888888888,
             "#fdca26"
            ],
            [
             1,
             "#f0f921"
            ]
           ]
          },
          "colorway": [
           "#636efa",
           "#EF553B",
           "#00cc96",
           "#ab63fa",
           "#FFA15A",
           "#19d3f3",
           "#FF6692",
           "#B6E880",
           "#FF97FF",
           "#FECB52"
          ],
          "font": {
           "color": "#2a3f5f"
          },
          "geo": {
           "bgcolor": "white",
           "lakecolor": "white",
           "landcolor": "#E5ECF6",
           "showlakes": true,
           "showland": true,
           "subunitcolor": "white"
          },
          "hoverlabel": {
           "align": "left"
          },
          "hovermode": "closest",
          "mapbox": {
           "style": "light"
          },
          "paper_bgcolor": "white",
          "plot_bgcolor": "#E5ECF6",
          "polar": {
           "angularaxis": {
            "gridcolor": "white",
            "linecolor": "white",
            "ticks": ""
           },
           "bgcolor": "#E5ECF6",
           "radialaxis": {
            "gridcolor": "white",
            "linecolor": "white",
            "ticks": ""
           }
          },
          "scene": {
           "xaxis": {
            "backgroundcolor": "#E5ECF6",
            "gridcolor": "white",
            "gridwidth": 2,
            "linecolor": "white",
            "showbackground": true,
            "ticks": "",
            "zerolinecolor": "white"
           },
           "yaxis": {
            "backgroundcolor": "#E5ECF6",
            "gridcolor": "white",
            "gridwidth": 2,
            "linecolor": "white",
            "showbackground": true,
            "ticks": "",
            "zerolinecolor": "white"
           },
           "zaxis": {
            "backgroundcolor": "#E5ECF6",
            "gridcolor": "white",
            "gridwidth": 2,
            "linecolor": "white",
            "showbackground": true,
            "ticks": "",
            "zerolinecolor": "white"
           }
          },
          "shapedefaults": {
           "line": {
            "color": "#2a3f5f"
           }
          },
          "ternary": {
           "aaxis": {
            "gridcolor": "white",
            "linecolor": "white",
            "ticks": ""
           },
           "baxis": {
            "gridcolor": "white",
            "linecolor": "white",
            "ticks": ""
           },
           "bgcolor": "#E5ECF6",
           "caxis": {
            "gridcolor": "white",
            "linecolor": "white",
            "ticks": ""
           }
          },
          "title": {
           "x": 0.05
          },
          "xaxis": {
           "automargin": true,
           "gridcolor": "white",
           "linecolor": "white",
           "ticks": "",
           "title": {
            "standoff": 15
           },
           "zerolinecolor": "white",
           "zerolinewidth": 2
          },
          "yaxis": {
           "automargin": true,
           "gridcolor": "white",
           "linecolor": "white",
           "ticks": "",
           "title": {
            "standoff": 15
           },
           "zerolinecolor": "white",
           "zerolinewidth": 2
          }
         }
        },
        "xaxis": {
         "anchor": "y",
         "autorange": true,
         "domain": [
          0,
          1
         ],
         "range": [
          -0.5,
          25.5
         ],
         "title": {
          "text": "index"
         },
         "type": "category"
        },
        "yaxis": {
         "anchor": "x",
         "autorange": true,
         "domain": [
          0,
          1
         ],
         "range": [
          0,
          13452.631578947368
         ],
         "title": {
          "text": "Total de Licitações"
         },
         "type": "linear"
        }
       }
      }
     },
     "metadata": {},
     "output_type": "display_data"
    }
   ],
   "source": [
    "import plotly.express as px\n",
    " \n",
    "fig = px.bar(df2,x=df2.index,\n",
    "            y='Total de Licitações',\n",
    "            text_auto=True\n",
    "            )\n",
    " #           values='Total de Licitações')\n",
    "'''fig.update_layout(uniformtext_minsize=14, uniformtext_mode='hide')\n",
    "fig.update_traces(root_color=\"lightgrey\")\n",
    "fig.update_layout(\n",
    "    title_text='KPIs estatais'\n",
    ")'''\n",
    "fig.show()"
   ]
  },
  {
   "cell_type": "code",
   "execution_count": 1,
   "id": "36720559",
   "metadata": {},
   "outputs": [],
   "source": [
    "import pandas as pd\n",
    "import numpy as np\n",
    "dd = pd.read_csv('C:/Users/efvs/Documents/Residencia Ednael/Repositórios/residencia2/data/lic_taguiado.csv', index_col=[0])"
   ]
  },
  {
   "cell_type": "code",
   "execution_count": 7,
   "id": "2b47c62d",
   "metadata": {},
   "outputs": [
    {
     "data": {
      "text/plain": [
       "3.6"
      ]
     },
     "execution_count": 7,
     "metadata": {},
     "output_type": "execute_result"
    }
   ],
   "source": [
    "(25/7).__round__(1)"
   ]
  },
  {
   "cell_type": "code",
   "execution_count": 2,
   "id": "bd768967",
   "metadata": {},
   "outputs": [
    {
     "data": {
      "text/plain": [
       "0.0"
      ]
     },
     "execution_count": 2,
     "metadata": {},
     "output_type": "execute_result"
    }
   ],
   "source": [
    "np.zeros(5)[0]"
   ]
  },
  {
   "cell_type": "code",
   "execution_count": 2,
   "id": "f324c0ad",
   "metadata": {},
   "outputs": [],
   "source": [
    "dd2=dd[(dd['Tag']==0) & (dd['Total']!=0)]"
   ]
  },
  {
   "cell_type": "code",
   "execution_count": 3,
   "id": "d5a3d256",
   "metadata": {},
   "outputs": [],
   "source": [
    "from src.feature_engeneering._03_plus_times_total import calcula_pct_teto\n",
    "\n",
    "abc = pd.DataFrame(calcula_pct_teto(dd2))"
   ]
  },
  {
   "cell_type": "code",
   "execution_count": 53,
   "id": "af3a41de",
   "metadata": {},
   "outputs": [
    {
     "name": "stderr",
     "output_type": "stream",
     "text": [
      "C:\\Users\\efvs\\AppData\\Local\\Temp/ipykernel_10256/4165839301.py:1: SettingWithCopyWarning:\n",
      "\n",
      "\n",
      "A value is trying to be set on a copy of a slice from a DataFrame.\n",
      "Try using .loc[row_indexer,col_indexer] = value instead\n",
      "\n",
      "See the caveats in the documentation: https://pandas.pydata.org/pandas-docs/stable/user_guide/indexing.html#returning-a-view-versus-a-copy\n",
      "\n"
     ]
    }
   ],
   "source": [
    "dd2.loc[:,'pct_do_teto']=abc[0].values"
   ]
  },
  {
   "cell_type": "code",
   "execution_count": 54,
   "id": "25aaccfe",
   "metadata": {},
   "outputs": [
    {
     "data": {
      "text/html": [
       "<div>\n",
       "<style scoped>\n",
       "    .dataframe tbody tr th:only-of-type {\n",
       "        vertical-align: middle;\n",
       "    }\n",
       "\n",
       "    .dataframe tbody tr th {\n",
       "        vertical-align: top;\n",
       "    }\n",
       "\n",
       "    .dataframe thead th {\n",
       "        text-align: right;\n",
       "    }\n",
       "</style>\n",
       "<table border=\"1\" class=\"dataframe\">\n",
       "  <thead>\n",
       "    <tr style=\"text-align: right;\">\n",
       "      <th></th>\n",
       "      <th>Número Licitação</th>\n",
       "      <th>Código UG</th>\n",
       "      <th>Nome UG</th>\n",
       "      <th>Código Modalidade Compra</th>\n",
       "      <th>Modalidade Compra</th>\n",
       "      <th>Número Processo</th>\n",
       "      <th>Objeto</th>\n",
       "      <th>Situação Licitação</th>\n",
       "      <th>Código Órgão Superior</th>\n",
       "      <th>Nome Órgão Superior</th>\n",
       "      <th>Código Órgão</th>\n",
       "      <th>Nome Órgão</th>\n",
       "      <th>Município</th>\n",
       "      <th>data</th>\n",
       "      <th>Data Abertura</th>\n",
       "      <th>Total</th>\n",
       "      <th>Obras</th>\n",
       "      <th>Tag</th>\n",
       "      <th>UF</th>\n",
       "      <th>pct_do_teto</th>\n",
       "    </tr>\n",
       "  </thead>\n",
       "  <tbody>\n",
       "    <tr>\n",
       "      <th>1</th>\n",
       "      <td>32018</td>\n",
       "      <td>788810</td>\n",
       "      <td>ESTACAO NAVAL DO RIO NEGRO</td>\n",
       "      <td>-99</td>\n",
       "      <td>Pregão - Registro de Preço</td>\n",
       "      <td>63160.000202/2018</td>\n",
       "      <td>Objeto: Pregão Eletrônico -  Serviço de manute...</td>\n",
       "      <td>Evento de Alteração Publicado</td>\n",
       "      <td>52000</td>\n",
       "      <td>Ministério da Defesa</td>\n",
       "      <td>52131</td>\n",
       "      <td>Comando da Marinha</td>\n",
       "      <td>MANAUS</td>\n",
       "      <td>2018-07-17</td>\n",
       "      <td>29/05/2018</td>\n",
       "      <td>28272.00</td>\n",
       "      <td>Obra</td>\n",
       "      <td>0</td>\n",
       "      <td>AM</td>\n",
       "      <td>0.008567</td>\n",
       "    </tr>\n",
       "    <tr>\n",
       "      <th>4</th>\n",
       "      <td>212018</td>\n",
       "      <td>120630</td>\n",
       "      <td>BASE AEREA DE DE MANAUS</td>\n",
       "      <td>-99</td>\n",
       "      <td>Pregão - Registro de Preço</td>\n",
       "      <td>67298004388201838</td>\n",
       "      <td>Objeto: Pregão Eletrônico -  Registro de preço...</td>\n",
       "      <td>Publicado</td>\n",
       "      <td>52000</td>\n",
       "      <td>Ministério da Defesa</td>\n",
       "      <td>52111</td>\n",
       "      <td>Comando da Aeronáutica</td>\n",
       "      <td>MANAUS</td>\n",
       "      <td>2018-10-30</td>\n",
       "      <td>13/08/2018</td>\n",
       "      <td>9628.00</td>\n",
       "      <td>Obra</td>\n",
       "      <td>0</td>\n",
       "      <td>AM</td>\n",
       "      <td>0.002918</td>\n",
       "    </tr>\n",
       "    <tr>\n",
       "      <th>5</th>\n",
       "      <td>312018</td>\n",
       "      <td>120630</td>\n",
       "      <td>BASE AEREA DE DE MANAUS</td>\n",
       "      <td>-99</td>\n",
       "      <td>Pregão - Registro de Preço</td>\n",
       "      <td>67298004454201870</td>\n",
       "      <td>Objeto: Pregão Eletrônico -  Registro de preço...</td>\n",
       "      <td>Publicado</td>\n",
       "      <td>52000</td>\n",
       "      <td>Ministério da Defesa</td>\n",
       "      <td>52111</td>\n",
       "      <td>Comando da Aeronáutica</td>\n",
       "      <td>MANAUS</td>\n",
       "      <td>2018-08-10</td>\n",
       "      <td>17/09/2018</td>\n",
       "      <td>225045.73</td>\n",
       "      <td>Obra</td>\n",
       "      <td>0</td>\n",
       "      <td>AM</td>\n",
       "      <td>0.068196</td>\n",
       "    </tr>\n",
       "    <tr>\n",
       "      <th>7</th>\n",
       "      <td>52018</td>\n",
       "      <td>788820</td>\n",
       "      <td>CENTRO DE INTENDENCIA DA MARINHA EM MANAUS</td>\n",
       "      <td>-99</td>\n",
       "      <td>Pregão - Registro de Preço</td>\n",
       "      <td>788820/2018/005</td>\n",
       "      <td>Objeto: Pregão Eletrônico -  Contratação de se...</td>\n",
       "      <td>Publicado</td>\n",
       "      <td>52000</td>\n",
       "      <td>Ministério da Defesa</td>\n",
       "      <td>52131</td>\n",
       "      <td>Comando da Marinha</td>\n",
       "      <td>MANAUS</td>\n",
       "      <td>2018-07-11</td>\n",
       "      <td>08/08/2018</td>\n",
       "      <td>37317.57</td>\n",
       "      <td>Obra</td>\n",
       "      <td>0</td>\n",
       "      <td>AM</td>\n",
       "      <td>0.011308</td>\n",
       "    </tr>\n",
       "    <tr>\n",
       "      <th>9</th>\n",
       "      <td>32018</td>\n",
       "      <td>160007</td>\n",
       "      <td>4 BATALHAO DE AVIACAO DO EXERCITO</td>\n",
       "      <td>-99</td>\n",
       "      <td>Pregão - Registro de Preço</td>\n",
       "      <td>64020.000081/2018</td>\n",
       "      <td>Objeto: Pregão Eletrônico -  O objeto da prese...</td>\n",
       "      <td>Evento de Alteração Publicado</td>\n",
       "      <td>52000</td>\n",
       "      <td>Ministério da Defesa</td>\n",
       "      <td>52121</td>\n",
       "      <td>Comando do Exército</td>\n",
       "      <td>MANAUS</td>\n",
       "      <td>2018-07-25</td>\n",
       "      <td>20/06/2018</td>\n",
       "      <td>1369.92</td>\n",
       "      <td>Compras/Servicos</td>\n",
       "      <td>0</td>\n",
       "      <td>AM</td>\n",
       "      <td>0.000958</td>\n",
       "    </tr>\n",
       "    <tr>\n",
       "      <th>...</th>\n",
       "      <td>...</td>\n",
       "      <td>...</td>\n",
       "      <td>...</td>\n",
       "      <td>...</td>\n",
       "      <td>...</td>\n",
       "      <td>...</td>\n",
       "      <td>...</td>\n",
       "      <td>...</td>\n",
       "      <td>...</td>\n",
       "      <td>...</td>\n",
       "      <td>...</td>\n",
       "      <td>...</td>\n",
       "      <td>...</td>\n",
       "      <td>...</td>\n",
       "      <td>...</td>\n",
       "      <td>...</td>\n",
       "      <td>...</td>\n",
       "      <td>...</td>\n",
       "      <td>...</td>\n",
       "      <td>...</td>\n",
       "    </tr>\n",
       "    <tr>\n",
       "      <th>359728</th>\n",
       "      <td>162020</td>\n",
       "      <td>156059</td>\n",
       "      <td>INSTITUTO FEDERAL DA BAHIA-BRUMADO</td>\n",
       "      <td>6</td>\n",
       "      <td>Dispensa de Licitação</td>\n",
       "      <td>23846000949202015</td>\n",
       "      <td>Objeto: A aquisição de equipamentos de climati...</td>\n",
       "      <td>Encerrado</td>\n",
       "      <td>26000</td>\n",
       "      <td>Ministério da Educação</td>\n",
       "      <td>26427</td>\n",
       "      <td>Instituto Federal da Bahia</td>\n",
       "      <td>BRUMADO</td>\n",
       "      <td>2020-11-18</td>\n",
       "      <td>09/11/2020</td>\n",
       "      <td>33050.99</td>\n",
       "      <td>Compras/Servicos</td>\n",
       "      <td>0</td>\n",
       "      <td>BA</td>\n",
       "      <td>1.877897</td>\n",
       "    </tr>\n",
       "    <tr>\n",
       "      <th>359741</th>\n",
       "      <td>292020</td>\n",
       "      <td>156059</td>\n",
       "      <td>INSTITUTO FEDERAL DA BAHIA-BRUMADO</td>\n",
       "      <td>6</td>\n",
       "      <td>Dispensa de Licitação</td>\n",
       "      <td>23846001221202019</td>\n",
       "      <td>Objeto: Aquisição  de materiais/suprimentos de...</td>\n",
       "      <td>Encerrado</td>\n",
       "      <td>26000</td>\n",
       "      <td>Ministério da Educação</td>\n",
       "      <td>26427</td>\n",
       "      <td>Instituto Federal da Bahia</td>\n",
       "      <td>BRUMADO</td>\n",
       "      <td>2020-12-23</td>\n",
       "      <td>15/12/2020</td>\n",
       "      <td>27628.53</td>\n",
       "      <td>Compras/Servicos</td>\n",
       "      <td>0</td>\n",
       "      <td>BA</td>\n",
       "      <td>1.569803</td>\n",
       "    </tr>\n",
       "    <tr>\n",
       "      <th>359742</th>\n",
       "      <td>302020</td>\n",
       "      <td>156059</td>\n",
       "      <td>INSTITUTO FEDERAL DA BAHIA-BRUMADO</td>\n",
       "      <td>6</td>\n",
       "      <td>Dispensa de Licitação</td>\n",
       "      <td>23846001220202066</td>\n",
       "      <td>Objeto: Aquisição  de equipamentos de Tecnolog...</td>\n",
       "      <td>Encerrado</td>\n",
       "      <td>26000</td>\n",
       "      <td>Ministério da Educação</td>\n",
       "      <td>26427</td>\n",
       "      <td>Instituto Federal da Bahia</td>\n",
       "      <td>BRUMADO</td>\n",
       "      <td>2020-12-22</td>\n",
       "      <td>15/12/2020</td>\n",
       "      <td>24444.30</td>\n",
       "      <td>Compras/Servicos</td>\n",
       "      <td>0</td>\n",
       "      <td>BA</td>\n",
       "      <td>1.388881</td>\n",
       "    </tr>\n",
       "    <tr>\n",
       "      <th>359922</th>\n",
       "      <td>12020</td>\n",
       "      <td>158973</td>\n",
       "      <td>CAMPUS MARANGUAPE/IFCE</td>\n",
       "      <td>-99</td>\n",
       "      <td>Pregão - Registro de Preço</td>\n",
       "      <td>23849000701202024</td>\n",
       "      <td>Objeto: Pregão Eletrônico -  Contratação de pe...</td>\n",
       "      <td>Evento de Resultado de Julgame</td>\n",
       "      <td>26000</td>\n",
       "      <td>Ministério da Educação</td>\n",
       "      <td>26405</td>\n",
       "      <td>Instituto Federal do Ceará</td>\n",
       "      <td>MARANGUAPE</td>\n",
       "      <td>2020-10-12</td>\n",
       "      <td>16/11/2020</td>\n",
       "      <td>76727.00</td>\n",
       "      <td>Compras/Servicos</td>\n",
       "      <td>0</td>\n",
       "      <td>CE</td>\n",
       "      <td>0.053655</td>\n",
       "    </tr>\n",
       "    <tr>\n",
       "      <th>359997</th>\n",
       "      <td>62020</td>\n",
       "      <td>156623</td>\n",
       "      <td>IFAM - CAMPUS AVANCADO IRANDUBA</td>\n",
       "      <td>6</td>\n",
       "      <td>Dispensa de Licitação</td>\n",
       "      <td>23851000027202039</td>\n",
       "      <td>Objeto: Aquisição de utensílios de copa, cozin...</td>\n",
       "      <td>Encerrado</td>\n",
       "      <td>26000</td>\n",
       "      <td>Ministério da Educação</td>\n",
       "      <td>26403</td>\n",
       "      <td>Instituto Federal do Amazonas</td>\n",
       "      <td>IRANDUBA</td>\n",
       "      <td>2020-12-21</td>\n",
       "      <td>16/12/2020</td>\n",
       "      <td>27516.93</td>\n",
       "      <td>Compras/Servicos</td>\n",
       "      <td>0</td>\n",
       "      <td>AM</td>\n",
       "      <td>1.563462</td>\n",
       "    </tr>\n",
       "  </tbody>\n",
       "</table>\n",
       "<p>32782 rows × 20 columns</p>\n",
       "</div>"
      ],
      "text/plain": [
       "        Número Licitação  Código UG  \\\n",
       "1                  32018     788810   \n",
       "4                 212018     120630   \n",
       "5                 312018     120630   \n",
       "7                  52018     788820   \n",
       "9                  32018     160007   \n",
       "...                  ...        ...   \n",
       "359728            162020     156059   \n",
       "359741            292020     156059   \n",
       "359742            302020     156059   \n",
       "359922             12020     158973   \n",
       "359997             62020     156623   \n",
       "\n",
       "                                           Nome UG  Código Modalidade Compra  \\\n",
       "1                       ESTACAO NAVAL DO RIO NEGRO                       -99   \n",
       "4                          BASE AEREA DE DE MANAUS                       -99   \n",
       "5                          BASE AEREA DE DE MANAUS                       -99   \n",
       "7       CENTRO DE INTENDENCIA DA MARINHA EM MANAUS                       -99   \n",
       "9                4 BATALHAO DE AVIACAO DO EXERCITO                       -99   \n",
       "...                                            ...                       ...   \n",
       "359728          INSTITUTO FEDERAL DA BAHIA-BRUMADO                         6   \n",
       "359741          INSTITUTO FEDERAL DA BAHIA-BRUMADO                         6   \n",
       "359742          INSTITUTO FEDERAL DA BAHIA-BRUMADO                         6   \n",
       "359922                      CAMPUS MARANGUAPE/IFCE                       -99   \n",
       "359997             IFAM - CAMPUS AVANCADO IRANDUBA                         6   \n",
       "\n",
       "                 Modalidade Compra    Número Processo  \\\n",
       "1       Pregão - Registro de Preço  63160.000202/2018   \n",
       "4       Pregão - Registro de Preço  67298004388201838   \n",
       "5       Pregão - Registro de Preço  67298004454201870   \n",
       "7       Pregão - Registro de Preço    788820/2018/005   \n",
       "9       Pregão - Registro de Preço  64020.000081/2018   \n",
       "...                            ...                ...   \n",
       "359728       Dispensa de Licitação  23846000949202015   \n",
       "359741       Dispensa de Licitação  23846001221202019   \n",
       "359742       Dispensa de Licitação  23846001220202066   \n",
       "359922  Pregão - Registro de Preço  23849000701202024   \n",
       "359997       Dispensa de Licitação  23851000027202039   \n",
       "\n",
       "                                                   Objeto  \\\n",
       "1       Objeto: Pregão Eletrônico -  Serviço de manute...   \n",
       "4       Objeto: Pregão Eletrônico -  Registro de preço...   \n",
       "5       Objeto: Pregão Eletrônico -  Registro de preço...   \n",
       "7       Objeto: Pregão Eletrônico -  Contratação de se...   \n",
       "9       Objeto: Pregão Eletrônico -  O objeto da prese...   \n",
       "...                                                   ...   \n",
       "359728  Objeto: A aquisição de equipamentos de climati...   \n",
       "359741  Objeto: Aquisição  de materiais/suprimentos de...   \n",
       "359742  Objeto: Aquisição  de equipamentos de Tecnolog...   \n",
       "359922  Objeto: Pregão Eletrônico -  Contratação de pe...   \n",
       "359997  Objeto: Aquisição de utensílios de copa, cozin...   \n",
       "\n",
       "                    Situação Licitação  Código Órgão Superior  \\\n",
       "1        Evento de Alteração Publicado                  52000   \n",
       "4                            Publicado                  52000   \n",
       "5                            Publicado                  52000   \n",
       "7                            Publicado                  52000   \n",
       "9        Evento de Alteração Publicado                  52000   \n",
       "...                                ...                    ...   \n",
       "359728                       Encerrado                  26000   \n",
       "359741                       Encerrado                  26000   \n",
       "359742                       Encerrado                  26000   \n",
       "359922  Evento de Resultado de Julgame                  26000   \n",
       "359997                       Encerrado                  26000   \n",
       "\n",
       "           Nome Órgão Superior  Código Órgão                     Nome Órgão  \\\n",
       "1         Ministério da Defesa         52131             Comando da Marinha   \n",
       "4         Ministério da Defesa         52111         Comando da Aeronáutica   \n",
       "5         Ministério da Defesa         52111         Comando da Aeronáutica   \n",
       "7         Ministério da Defesa         52131             Comando da Marinha   \n",
       "9         Ministério da Defesa         52121            Comando do Exército   \n",
       "...                        ...           ...                            ...   \n",
       "359728  Ministério da Educação         26427     Instituto Federal da Bahia   \n",
       "359741  Ministério da Educação         26427     Instituto Federal da Bahia   \n",
       "359742  Ministério da Educação         26427     Instituto Federal da Bahia   \n",
       "359922  Ministério da Educação         26405     Instituto Federal do Ceará   \n",
       "359997  Ministério da Educação         26403  Instituto Federal do Amazonas   \n",
       "\n",
       "         Município        data Data Abertura      Total             Obras  \\\n",
       "1           MANAUS  2018-07-17    29/05/2018   28272.00              Obra   \n",
       "4           MANAUS  2018-10-30    13/08/2018    9628.00              Obra   \n",
       "5           MANAUS  2018-08-10    17/09/2018  225045.73              Obra   \n",
       "7           MANAUS  2018-07-11    08/08/2018   37317.57              Obra   \n",
       "9           MANAUS  2018-07-25    20/06/2018    1369.92  Compras/Servicos   \n",
       "...            ...         ...           ...        ...               ...   \n",
       "359728     BRUMADO  2020-11-18    09/11/2020   33050.99  Compras/Servicos   \n",
       "359741     BRUMADO  2020-12-23    15/12/2020   27628.53  Compras/Servicos   \n",
       "359742     BRUMADO  2020-12-22    15/12/2020   24444.30  Compras/Servicos   \n",
       "359922  MARANGUAPE  2020-10-12    16/11/2020   76727.00  Compras/Servicos   \n",
       "359997    IRANDUBA  2020-12-21    16/12/2020   27516.93  Compras/Servicos   \n",
       "\n",
       "        Tag  UF  pct_do_teto  \n",
       "1         0  AM     0.008567  \n",
       "4         0  AM     0.002918  \n",
       "5         0  AM     0.068196  \n",
       "7         0  AM     0.011308  \n",
       "9         0  AM     0.000958  \n",
       "...     ...  ..          ...  \n",
       "359728    0  BA     1.877897  \n",
       "359741    0  BA     1.569803  \n",
       "359742    0  BA     1.388881  \n",
       "359922    0  CE     0.053655  \n",
       "359997    0  AM     1.563462  \n",
       "\n",
       "[32782 rows x 20 columns]"
      ]
     },
     "execution_count": 54,
     "metadata": {},
     "output_type": "execute_result"
    }
   ],
   "source": [
    "dd2"
   ]
  },
  {
   "cell_type": "code",
   "execution_count": null,
   "id": "c155a4fb",
   "metadata": {},
   "outputs": [],
   "source": [
    "from matplotlib import pyplot as plt"
   ]
  },
  {
   "cell_type": "code",
   "execution_count": 5,
   "id": "404f5f9e",
   "metadata": {},
   "outputs": [
    {
     "data": {
      "text/plain": [
       "0    40815\n",
       "Name: Tag, dtype: int64"
      ]
     },
     "execution_count": 5,
     "metadata": {},
     "output_type": "execute_result"
    }
   ],
   "source": [
    "dd2['Tag'].value_counts()"
   ]
  },
  {
   "cell_type": "code",
   "execution_count": 30,
   "id": "5a3d4cd1",
   "metadata": {},
   "outputs": [
    {
     "data": {
      "text/plain": [
       "Compras/Servicos    39613\n",
       "Obra                 1202\n",
       "Name: Obras, dtype: int64"
      ]
     },
     "execution_count": 30,
     "metadata": {},
     "output_type": "execute_result"
    }
   ],
   "source": [
    "#CONFERINDO PELAS TIPOS\n",
    "dd[dd['Tag']==0]['Obras'].value_counts()"
   ]
  },
  {
   "cell_type": "code",
   "execution_count": 140,
   "id": "3db81352",
   "metadata": {},
   "outputs": [
    {
     "data": {
      "text/html": [
       "<div>\n",
       "<style scoped>\n",
       "    .dataframe tbody tr th:only-of-type {\n",
       "        vertical-align: middle;\n",
       "    }\n",
       "\n",
       "    .dataframe tbody tr th {\n",
       "        vertical-align: top;\n",
       "    }\n",
       "\n",
       "    .dataframe thead th {\n",
       "        text-align: right;\n",
       "    }\n",
       "</style>\n",
       "<table border=\"1\" class=\"dataframe\">\n",
       "  <thead>\n",
       "    <tr style=\"text-align: right;\">\n",
       "      <th></th>\n",
       "      <th>0</th>\n",
       "    </tr>\n",
       "  </thead>\n",
       "  <tbody>\n",
       "    <tr>\n",
       "      <th>count</th>\n",
       "      <td>3.278200e+04</td>\n",
       "    </tr>\n",
       "    <tr>\n",
       "      <th>mean</th>\n",
       "      <td>8.968452e-02</td>\n",
       "    </tr>\n",
       "    <tr>\n",
       "      <th>std</th>\n",
       "      <td>3.034498e-01</td>\n",
       "    </tr>\n",
       "    <tr>\n",
       "      <th>min</th>\n",
       "      <td>3.030303e-09</td>\n",
       "    </tr>\n",
       "    <tr>\n",
       "      <th>25%</th>\n",
       "      <td>1.526958e-03</td>\n",
       "    </tr>\n",
       "    <tr>\n",
       "      <th>50%</th>\n",
       "      <td>8.391608e-03</td>\n",
       "    </tr>\n",
       "    <tr>\n",
       "      <th>75%</th>\n",
       "      <td>3.916084e-02</td>\n",
       "    </tr>\n",
       "    <tr>\n",
       "      <th>max</th>\n",
       "      <td>8.363636e+00</td>\n",
       "    </tr>\n",
       "  </tbody>\n",
       "</table>\n",
       "</div>"
      ],
      "text/plain": [
       "                  0\n",
       "count  3.278200e+04\n",
       "mean   8.968452e-02\n",
       "std    3.034498e-01\n",
       "min    3.030303e-09\n",
       "25%    1.526958e-03\n",
       "50%    8.391608e-03\n",
       "75%    3.916084e-02\n",
       "max    8.363636e+00"
      ]
     },
     "execution_count": 140,
     "metadata": {},
     "output_type": "execute_result"
    }
   ],
   "source": [
    "abc.describe()"
   ]
  },
  {
   "cell_type": "code",
   "execution_count": 33,
   "id": "b8379b4f",
   "metadata": {},
   "outputs": [
    {
     "data": {
      "text/plain": [
       "0.0"
      ]
     },
     "execution_count": 33,
     "metadata": {},
     "output_type": "execute_result"
    }
   ],
   "source": [
    "dd2[dd2['UF']=='AC']['pct_do_teto'].sum()"
   ]
  },
  {
   "cell_type": "code",
   "execution_count": null,
   "id": "9904188b",
   "metadata": {},
   "outputs": [],
   "source": [
    "dd2.drop(['Código Modalidade Compra','Situação Licitação','Código Órgão','Data Abertura'],axis=1)"
   ]
  },
  {
   "cell_type": "code",
   "execution_count": 143,
   "id": "b2302188",
   "metadata": {},
   "outputs": [
    {
     "data": {
      "text/html": [
       "<div>\n",
       "<style scoped>\n",
       "    .dataframe tbody tr th:only-of-type {\n",
       "        vertical-align: middle;\n",
       "    }\n",
       "\n",
       "    .dataframe tbody tr th {\n",
       "        vertical-align: top;\n",
       "    }\n",
       "\n",
       "    .dataframe thead th {\n",
       "        text-align: right;\n",
       "    }\n",
       "</style>\n",
       "<table border=\"1\" class=\"dataframe\">\n",
       "  <thead>\n",
       "    <tr style=\"text-align: right;\">\n",
       "      <th></th>\n",
       "      <th>Nome UG</th>\n",
       "      <th>Modalidade Compra</th>\n",
       "      <th>Número Processo</th>\n",
       "      <th>Objeto</th>\n",
       "      <th>Código Órgão Superior</th>\n",
       "      <th>Nome Órgão Superior</th>\n",
       "      <th>Nome Órgão</th>\n",
       "      <th>Município</th>\n",
       "      <th>data</th>\n",
       "      <th>Total</th>\n",
       "      <th>Obras</th>\n",
       "      <th>Tag</th>\n",
       "      <th>UF</th>\n",
       "      <th>pct_do_teto</th>\n",
       "    </tr>\n",
       "  </thead>\n",
       "  <tbody>\n",
       "    <tr>\n",
       "      <th>311562</th>\n",
       "      <td>CIA DE DES.DOS VALES DO S.FRANC.E DO PARNAIBA</td>\n",
       "      <td>Pregão - Registro de Preço</td>\n",
       "      <td>59520001453202089</td>\n",
       "      <td>Objeto: Pregão Eletrônico -  Execução dos serv...</td>\n",
       "      <td>53000</td>\n",
       "      <td>Ministério do Desenvolvimento Regional</td>\n",
       "      <td>Companhia de Desenvolvimento dos Vales do São</td>\n",
       "      <td>BOM JESUS DA LAPA</td>\n",
       "      <td>2020-12-28</td>\n",
       "      <td>27600000.0</td>\n",
       "      <td>Obra</td>\n",
       "      <td>0</td>\n",
       "      <td>BA</td>\n",
       "      <td>8.363636</td>\n",
       "    </tr>\n",
       "    <tr>\n",
       "      <th>351715</th>\n",
       "      <td>CIA DE DES.DOS VALES DO S.FRANC.E DO PARNAIBA</td>\n",
       "      <td>Pregão - Registro de Preço</td>\n",
       "      <td>59560001216202041</td>\n",
       "      <td>Objeto: Pregão Eletrônico -  Contratação de se...</td>\n",
       "      <td>53000</td>\n",
       "      <td>Ministério do Desenvolvimento Regional</td>\n",
       "      <td>Companhia de Desenvolvimento dos Vales do São</td>\n",
       "      <td>JUAZEIRO</td>\n",
       "      <td>2020-12-16</td>\n",
       "      <td>27300720.0</td>\n",
       "      <td>Obra</td>\n",
       "      <td>0</td>\n",
       "      <td>BA</td>\n",
       "      <td>8.272945</td>\n",
       "    </tr>\n",
       "    <tr>\n",
       "      <th>351716</th>\n",
       "      <td>CIA DE DES.DOS VALES DO S.FRANC.E DO PARNAIBA</td>\n",
       "      <td>Pregão - Registro de Preço</td>\n",
       "      <td>59560001333202013</td>\n",
       "      <td>Objeto: Pregão Eletrônico -  Contratação de se...</td>\n",
       "      <td>53000</td>\n",
       "      <td>Ministério do Desenvolvimento Regional</td>\n",
       "      <td>Companhia de Desenvolvimento dos Vales do São</td>\n",
       "      <td>JUAZEIRO</td>\n",
       "      <td>2020-12-29</td>\n",
       "      <td>26171400.0</td>\n",
       "      <td>Obra</td>\n",
       "      <td>0</td>\n",
       "      <td>BA</td>\n",
       "      <td>7.930727</td>\n",
       "    </tr>\n",
       "    <tr>\n",
       "      <th>351776</th>\n",
       "      <td>CIA DE DES.DOS VALES DO S.FRANC.E DO PARNAIBA</td>\n",
       "      <td>Pregão - Registro de Preço</td>\n",
       "      <td>59560001156202067</td>\n",
       "      <td>Objeto: Pregão Eletrônico -  Execução dos serv...</td>\n",
       "      <td>53000</td>\n",
       "      <td>Ministério do Desenvolvimento Regional</td>\n",
       "      <td>Companhia de Desenvolvimento dos Vales do São</td>\n",
       "      <td>JUAZEIRO</td>\n",
       "      <td>2021-06-01</td>\n",
       "      <td>18572400.0</td>\n",
       "      <td>Obra</td>\n",
       "      <td>0</td>\n",
       "      <td>BA</td>\n",
       "      <td>5.628000</td>\n",
       "    </tr>\n",
       "    <tr>\n",
       "      <th>311561</th>\n",
       "      <td>CIA DE DES.DOS VALES DO S.FRANC.E DO PARNAIBA</td>\n",
       "      <td>Pregão - Registro de Preço</td>\n",
       "      <td>59520001452202034</td>\n",
       "      <td>Objeto: Pregão Eletrônico -  Execução dos serv...</td>\n",
       "      <td>53000</td>\n",
       "      <td>Ministério do Desenvolvimento Regional</td>\n",
       "      <td>Companhia de Desenvolvimento dos Vales do São</td>\n",
       "      <td>BOM JESUS DA LAPA</td>\n",
       "      <td>2020-12-28</td>\n",
       "      <td>18216000.0</td>\n",
       "      <td>Obra</td>\n",
       "      <td>0</td>\n",
       "      <td>BA</td>\n",
       "      <td>5.520000</td>\n",
       "    </tr>\n",
       "    <tr>\n",
       "      <th>217617</th>\n",
       "      <td>UNIVERSIDADE FEDERAL DE PERNAMBUCO</td>\n",
       "      <td>Pregão - Registro de Preço</td>\n",
       "      <td>23536000510201871</td>\n",
       "      <td>Objeto: Pregão Eletrônico -  Registro de preço...</td>\n",
       "      <td>26000</td>\n",
       "      <td>Ministério da Educação</td>\n",
       "      <td>Universidade Federal de Pernambuco</td>\n",
       "      <td>RECIFE</td>\n",
       "      <td>2018-12-11</td>\n",
       "      <td>15000000.0</td>\n",
       "      <td>Obra</td>\n",
       "      <td>0</td>\n",
       "      <td>PE</td>\n",
       "      <td>4.545455</td>\n",
       "    </tr>\n",
       "    <tr>\n",
       "      <th>42015</th>\n",
       "      <td>CG DE MATERIAL E PATRIMONIO - CGMAP/SAA</td>\n",
       "      <td>Pregão - Registro de Preço</td>\n",
       "      <td>25000.405248/2017</td>\n",
       "      <td>Objeto: Pregão Eletrônico -  Registro de Preço...</td>\n",
       "      <td>36000</td>\n",
       "      <td>Ministério da Saúde</td>\n",
       "      <td>Ministério da Saúde - Unidades com vínculo di</td>\n",
       "      <td>BRASILIA</td>\n",
       "      <td>2018-12-27</td>\n",
       "      <td>12593191.0</td>\n",
       "      <td>Obra</td>\n",
       "      <td>0</td>\n",
       "      <td>AC</td>\n",
       "      <td>3.816118</td>\n",
       "    </tr>\n",
       "    <tr>\n",
       "      <th>130584</th>\n",
       "      <td>COLEGIO PEDRO II</td>\n",
       "      <td>Pregão - Registro de Preço</td>\n",
       "      <td>23040001720202073</td>\n",
       "      <td>Objeto: Pregão Eletrônico -  Contratação de em...</td>\n",
       "      <td>26000</td>\n",
       "      <td>Ministério da Educação</td>\n",
       "      <td>Colégio Pedro II</td>\n",
       "      <td>RIO DE JANEIRO</td>\n",
       "      <td>2020-09-16</td>\n",
       "      <td>12422349.0</td>\n",
       "      <td>Obra</td>\n",
       "      <td>0</td>\n",
       "      <td>RJ</td>\n",
       "      <td>3.764348</td>\n",
       "    </tr>\n",
       "    <tr>\n",
       "      <th>77078</th>\n",
       "      <td>COORDENACAO GERAL DE LICITACOES E CONTRATOS.</td>\n",
       "      <td>Pregão - Registro de Preço</td>\n",
       "      <td>71000053095202064</td>\n",
       "      <td>Objeto: Pregão Eletrônico -  O objeto da prese...</td>\n",
       "      <td>55000</td>\n",
       "      <td>Ministério da Cidadania</td>\n",
       "      <td>Ministério da Cidadania - Unidades com víncul</td>\n",
       "      <td>BRASILIA</td>\n",
       "      <td>2021-01-29</td>\n",
       "      <td>10701205.8</td>\n",
       "      <td>Obra</td>\n",
       "      <td>0</td>\n",
       "      <td>AC</td>\n",
       "      <td>3.242790</td>\n",
       "    </tr>\n",
       "    <tr>\n",
       "      <th>52311</th>\n",
       "      <td>DEPARTAMENTO DE ENGENHARIA E CONSTRUCAO</td>\n",
       "      <td>Pregão - Registro de Preço</td>\n",
       "      <td>64444002114201976</td>\n",
       "      <td>Objeto: Pregão Eletrônico -  Registro de preço...</td>\n",
       "      <td>52000</td>\n",
       "      <td>Ministério da Defesa</td>\n",
       "      <td>Comando do Exército</td>\n",
       "      <td>BRASILIA</td>\n",
       "      <td>2019-09-23</td>\n",
       "      <td>10680000.0</td>\n",
       "      <td>Obra</td>\n",
       "      <td>0</td>\n",
       "      <td>AC</td>\n",
       "      <td>3.236364</td>\n",
       "    </tr>\n",
       "  </tbody>\n",
       "</table>\n",
       "</div>"
      ],
      "text/plain": [
       "                                              Nome UG  \\\n",
       "311562  CIA DE DES.DOS VALES DO S.FRANC.E DO PARNAIBA   \n",
       "351715  CIA DE DES.DOS VALES DO S.FRANC.E DO PARNAIBA   \n",
       "351716  CIA DE DES.DOS VALES DO S.FRANC.E DO PARNAIBA   \n",
       "351776  CIA DE DES.DOS VALES DO S.FRANC.E DO PARNAIBA   \n",
       "311561  CIA DE DES.DOS VALES DO S.FRANC.E DO PARNAIBA   \n",
       "217617             UNIVERSIDADE FEDERAL DE PERNAMBUCO   \n",
       "42015         CG DE MATERIAL E PATRIMONIO - CGMAP/SAA   \n",
       "130584                               COLEGIO PEDRO II   \n",
       "77078    COORDENACAO GERAL DE LICITACOES E CONTRATOS.   \n",
       "52311         DEPARTAMENTO DE ENGENHARIA E CONSTRUCAO   \n",
       "\n",
       "                 Modalidade Compra    Número Processo  \\\n",
       "311562  Pregão - Registro de Preço  59520001453202089   \n",
       "351715  Pregão - Registro de Preço  59560001216202041   \n",
       "351716  Pregão - Registro de Preço  59560001333202013   \n",
       "351776  Pregão - Registro de Preço  59560001156202067   \n",
       "311561  Pregão - Registro de Preço  59520001452202034   \n",
       "217617  Pregão - Registro de Preço  23536000510201871   \n",
       "42015   Pregão - Registro de Preço  25000.405248/2017   \n",
       "130584  Pregão - Registro de Preço  23040001720202073   \n",
       "77078   Pregão - Registro de Preço  71000053095202064   \n",
       "52311   Pregão - Registro de Preço  64444002114201976   \n",
       "\n",
       "                                                   Objeto  \\\n",
       "311562  Objeto: Pregão Eletrônico -  Execução dos serv...   \n",
       "351715  Objeto: Pregão Eletrônico -  Contratação de se...   \n",
       "351716  Objeto: Pregão Eletrônico -  Contratação de se...   \n",
       "351776  Objeto: Pregão Eletrônico -  Execução dos serv...   \n",
       "311561  Objeto: Pregão Eletrônico -  Execução dos serv...   \n",
       "217617  Objeto: Pregão Eletrônico -  Registro de preço...   \n",
       "42015   Objeto: Pregão Eletrônico -  Registro de Preço...   \n",
       "130584  Objeto: Pregão Eletrônico -  Contratação de em...   \n",
       "77078   Objeto: Pregão Eletrônico -  O objeto da prese...   \n",
       "52311   Objeto: Pregão Eletrônico -  Registro de preço...   \n",
       "\n",
       "        Código Órgão Superior                     Nome Órgão Superior  \\\n",
       "311562                  53000  Ministério do Desenvolvimento Regional   \n",
       "351715                  53000  Ministério do Desenvolvimento Regional   \n",
       "351716                  53000  Ministério do Desenvolvimento Regional   \n",
       "351776                  53000  Ministério do Desenvolvimento Regional   \n",
       "311561                  53000  Ministério do Desenvolvimento Regional   \n",
       "217617                  26000                  Ministério da Educação   \n",
       "42015                   36000                     Ministério da Saúde   \n",
       "130584                  26000                  Ministério da Educação   \n",
       "77078                   55000                 Ministério da Cidadania   \n",
       "52311                   52000                    Ministério da Defesa   \n",
       "\n",
       "                                           Nome Órgão          Município  \\\n",
       "311562  Companhia de Desenvolvimento dos Vales do São  BOM JESUS DA LAPA   \n",
       "351715  Companhia de Desenvolvimento dos Vales do São           JUAZEIRO   \n",
       "351716  Companhia de Desenvolvimento dos Vales do São           JUAZEIRO   \n",
       "351776  Companhia de Desenvolvimento dos Vales do São           JUAZEIRO   \n",
       "311561  Companhia de Desenvolvimento dos Vales do São  BOM JESUS DA LAPA   \n",
       "217617             Universidade Federal de Pernambuco             RECIFE   \n",
       "42015   Ministério da Saúde - Unidades com vínculo di           BRASILIA   \n",
       "130584                               Colégio Pedro II     RIO DE JANEIRO   \n",
       "77078   Ministério da Cidadania - Unidades com víncul           BRASILIA   \n",
       "52311                             Comando do Exército           BRASILIA   \n",
       "\n",
       "              data       Total Obras  Tag  UF  pct_do_teto  \n",
       "311562  2020-12-28  27600000.0  Obra    0  BA     8.363636  \n",
       "351715  2020-12-16  27300720.0  Obra    0  BA     8.272945  \n",
       "351716  2020-12-29  26171400.0  Obra    0  BA     7.930727  \n",
       "351776  2021-06-01  18572400.0  Obra    0  BA     5.628000  \n",
       "311561  2020-12-28  18216000.0  Obra    0  BA     5.520000  \n",
       "217617  2018-12-11  15000000.0  Obra    0  PE     4.545455  \n",
       "42015   2018-12-27  12593191.0  Obra    0  AC     3.816118  \n",
       "130584  2020-09-16  12422349.0  Obra    0  RJ     3.764348  \n",
       "77078   2021-01-29  10701205.8  Obra    0  AC     3.242790  \n",
       "52311   2019-09-23  10680000.0  Obra    0  AC     3.236364  "
      ]
     },
     "execution_count": 143,
     "metadata": {},
     "output_type": "execute_result"
    }
   ],
   "source": [
    "(dd2.drop(['Código Modalidade Compra','Situação Licitação','Código Órgão','Data Abertura'],axis=1)).iloc[:, 2:].sort_values(by='pct_do_teto',ascending=False)[0:10]\n"
   ]
  },
  {
   "cell_type": "code",
   "execution_count": 115,
   "id": "a5b413aa",
   "metadata": {},
   "outputs": [],
   "source": [
    "resum1=dd2.groupby(['UF']).agg({'pct_do_teto':['sum','count','mean','max']})['pct_do_teto']"
   ]
  },
  {
   "cell_type": "code",
   "execution_count": 116,
   "id": "e1292ceb",
   "metadata": {},
   "outputs": [
    {
     "data": {
      "text/html": [
       "<div>\n",
       "<style scoped>\n",
       "    .dataframe tbody tr th:only-of-type {\n",
       "        vertical-align: middle;\n",
       "    }\n",
       "\n",
       "    .dataframe tbody tr th {\n",
       "        vertical-align: top;\n",
       "    }\n",
       "\n",
       "    .dataframe thead th {\n",
       "        text-align: right;\n",
       "    }\n",
       "</style>\n",
       "<table border=\"1\" class=\"dataframe\">\n",
       "  <thead>\n",
       "    <tr style=\"text-align: right;\">\n",
       "      <th></th>\n",
       "      <th>UF</th>\n",
       "      <th>sum</th>\n",
       "      <th>count</th>\n",
       "      <th>mean</th>\n",
       "      <th>max</th>\n",
       "    </tr>\n",
       "  </thead>\n",
       "  <tbody>\n",
       "    <tr>\n",
       "      <th>0</th>\n",
       "      <td>AC</td>\n",
       "      <td>392.420111</td>\n",
       "      <td>2939</td>\n",
       "      <td>0.133522</td>\n",
       "      <td>3.816118</td>\n",
       "    </tr>\n",
       "    <tr>\n",
       "      <th>1</th>\n",
       "      <td>AL</td>\n",
       "      <td>52.786278</td>\n",
       "      <td>835</td>\n",
       "      <td>0.063217</td>\n",
       "      <td>2.776080</td>\n",
       "    </tr>\n",
       "    <tr>\n",
       "      <th>2</th>\n",
       "      <td>AM</td>\n",
       "      <td>73.302025</td>\n",
       "      <td>1016</td>\n",
       "      <td>0.072148</td>\n",
       "      <td>2.724309</td>\n",
       "    </tr>\n",
       "    <tr>\n",
       "      <th>3</th>\n",
       "      <td>AP</td>\n",
       "      <td>0.988849</td>\n",
       "      <td>28</td>\n",
       "      <td>0.035316</td>\n",
       "      <td>0.332867</td>\n",
       "    </tr>\n",
       "    <tr>\n",
       "      <th>4</th>\n",
       "      <td>BA</td>\n",
       "      <td>155.550860</td>\n",
       "      <td>1546</td>\n",
       "      <td>0.100615</td>\n",
       "      <td>8.363636</td>\n",
       "    </tr>\n",
       "    <tr>\n",
       "      <th>5</th>\n",
       "      <td>CE</td>\n",
       "      <td>51.483638</td>\n",
       "      <td>827</td>\n",
       "      <td>0.062253</td>\n",
       "      <td>2.535511</td>\n",
       "    </tr>\n",
       "    <tr>\n",
       "      <th>6</th>\n",
       "      <td>ES</td>\n",
       "      <td>9.619062</td>\n",
       "      <td>267</td>\n",
       "      <td>0.036026</td>\n",
       "      <td>1.718555</td>\n",
       "    </tr>\n",
       "    <tr>\n",
       "      <th>7</th>\n",
       "      <td>GO</td>\n",
       "      <td>13.343986</td>\n",
       "      <td>270</td>\n",
       "      <td>0.049422</td>\n",
       "      <td>2.932121</td>\n",
       "    </tr>\n",
       "    <tr>\n",
       "      <th>8</th>\n",
       "      <td>MA</td>\n",
       "      <td>3.863218</td>\n",
       "      <td>100</td>\n",
       "      <td>0.038632</td>\n",
       "      <td>0.726051</td>\n",
       "    </tr>\n",
       "    <tr>\n",
       "      <th>9</th>\n",
       "      <td>MG</td>\n",
       "      <td>162.769449</td>\n",
       "      <td>2958</td>\n",
       "      <td>0.055027</td>\n",
       "      <td>2.776080</td>\n",
       "    </tr>\n",
       "    <tr>\n",
       "      <th>10</th>\n",
       "      <td>MS</td>\n",
       "      <td>60.031385</td>\n",
       "      <td>1271</td>\n",
       "      <td>0.047232</td>\n",
       "      <td>2.241923</td>\n",
       "    </tr>\n",
       "    <tr>\n",
       "      <th>11</th>\n",
       "      <td>MT</td>\n",
       "      <td>23.237756</td>\n",
       "      <td>405</td>\n",
       "      <td>0.057377</td>\n",
       "      <td>2.085795</td>\n",
       "    </tr>\n",
       "    <tr>\n",
       "      <th>12</th>\n",
       "      <td>PA</td>\n",
       "      <td>15.453925</td>\n",
       "      <td>224</td>\n",
       "      <td>0.068991</td>\n",
       "      <td>1.935142</td>\n",
       "    </tr>\n",
       "    <tr>\n",
       "      <th>13</th>\n",
       "      <td>PB</td>\n",
       "      <td>56.053267</td>\n",
       "      <td>1033</td>\n",
       "      <td>0.054263</td>\n",
       "      <td>2.337671</td>\n",
       "    </tr>\n",
       "    <tr>\n",
       "      <th>14</th>\n",
       "      <td>PE</td>\n",
       "      <td>113.142263</td>\n",
       "      <td>1620</td>\n",
       "      <td>0.069841</td>\n",
       "      <td>4.545455</td>\n",
       "    </tr>\n",
       "    <tr>\n",
       "      <th>15</th>\n",
       "      <td>PI</td>\n",
       "      <td>39.288595</td>\n",
       "      <td>710</td>\n",
       "      <td>0.055336</td>\n",
       "      <td>2.495260</td>\n",
       "    </tr>\n",
       "    <tr>\n",
       "      <th>16</th>\n",
       "      <td>PR</td>\n",
       "      <td>126.429560</td>\n",
       "      <td>2169</td>\n",
       "      <td>0.058289</td>\n",
       "      <td>2.802159</td>\n",
       "    </tr>\n",
       "    <tr>\n",
       "      <th>17</th>\n",
       "      <td>RJ</td>\n",
       "      <td>1101.827358</td>\n",
       "      <td>6471</td>\n",
       "      <td>0.170272</td>\n",
       "      <td>3.764348</td>\n",
       "    </tr>\n",
       "    <tr>\n",
       "      <th>18</th>\n",
       "      <td>RN</td>\n",
       "      <td>112.205082</td>\n",
       "      <td>1890</td>\n",
       "      <td>0.059368</td>\n",
       "      <td>2.776080</td>\n",
       "    </tr>\n",
       "    <tr>\n",
       "      <th>19</th>\n",
       "      <td>RO</td>\n",
       "      <td>28.793113</td>\n",
       "      <td>584</td>\n",
       "      <td>0.049303</td>\n",
       "      <td>2.210227</td>\n",
       "    </tr>\n",
       "    <tr>\n",
       "      <th>20</th>\n",
       "      <td>RR</td>\n",
       "      <td>39.942534</td>\n",
       "      <td>492</td>\n",
       "      <td>0.081184</td>\n",
       "      <td>1.552397</td>\n",
       "    </tr>\n",
       "    <tr>\n",
       "      <th>21</th>\n",
       "      <td>RS</td>\n",
       "      <td>165.693982</td>\n",
       "      <td>3215</td>\n",
       "      <td>0.051538</td>\n",
       "      <td>3.027273</td>\n",
       "    </tr>\n",
       "    <tr>\n",
       "      <th>22</th>\n",
       "      <td>SC</td>\n",
       "      <td>23.844536</td>\n",
       "      <td>327</td>\n",
       "      <td>0.072919</td>\n",
       "      <td>2.802159</td>\n",
       "    </tr>\n",
       "    <tr>\n",
       "      <th>23</th>\n",
       "      <td>SE</td>\n",
       "      <td>37.258627</td>\n",
       "      <td>498</td>\n",
       "      <td>0.074817</td>\n",
       "      <td>2.784091</td>\n",
       "    </tr>\n",
       "    <tr>\n",
       "      <th>24</th>\n",
       "      <td>SP</td>\n",
       "      <td>63.000790</td>\n",
       "      <td>834</td>\n",
       "      <td>0.075541</td>\n",
       "      <td>2.527159</td>\n",
       "    </tr>\n",
       "    <tr>\n",
       "      <th>25</th>\n",
       "      <td>TO</td>\n",
       "      <td>17.707686</td>\n",
       "      <td>253</td>\n",
       "      <td>0.069991</td>\n",
       "      <td>2.078863</td>\n",
       "    </tr>\n",
       "  </tbody>\n",
       "</table>\n",
       "</div>"
      ],
      "text/plain": [
       "    UF          sum  count      mean       max\n",
       "0   AC   392.420111   2939  0.133522  3.816118\n",
       "1   AL    52.786278    835  0.063217  2.776080\n",
       "2   AM    73.302025   1016  0.072148  2.724309\n",
       "3   AP     0.988849     28  0.035316  0.332867\n",
       "4   BA   155.550860   1546  0.100615  8.363636\n",
       "5   CE    51.483638    827  0.062253  2.535511\n",
       "6   ES     9.619062    267  0.036026  1.718555\n",
       "7   GO    13.343986    270  0.049422  2.932121\n",
       "8   MA     3.863218    100  0.038632  0.726051\n",
       "9   MG   162.769449   2958  0.055027  2.776080\n",
       "10  MS    60.031385   1271  0.047232  2.241923\n",
       "11  MT    23.237756    405  0.057377  2.085795\n",
       "12  PA    15.453925    224  0.068991  1.935142\n",
       "13  PB    56.053267   1033  0.054263  2.337671\n",
       "14  PE   113.142263   1620  0.069841  4.545455\n",
       "15  PI    39.288595    710  0.055336  2.495260\n",
       "16  PR   126.429560   2169  0.058289  2.802159\n",
       "17  RJ  1101.827358   6471  0.170272  3.764348\n",
       "18  RN   112.205082   1890  0.059368  2.776080\n",
       "19  RO    28.793113    584  0.049303  2.210227\n",
       "20  RR    39.942534    492  0.081184  1.552397\n",
       "21  RS   165.693982   3215  0.051538  3.027273\n",
       "22  SC    23.844536    327  0.072919  2.802159\n",
       "23  SE    37.258627    498  0.074817  2.784091\n",
       "24  SP    63.000790    834  0.075541  2.527159\n",
       "25  TO    17.707686    253  0.069991  2.078863"
      ]
     },
     "execution_count": 116,
     "metadata": {},
     "output_type": "execute_result"
    }
   ],
   "source": [
    "resum1.reset_index()"
   ]
  },
  {
   "cell_type": "code",
   "execution_count": 117,
   "id": "07ff4acf",
   "metadata": {},
   "outputs": [],
   "source": [
    "resum1=resum1.reset_index()"
   ]
  },
  {
   "cell_type": "code",
   "execution_count": 118,
   "id": "44bf9e24",
   "metadata": {},
   "outputs": [],
   "source": [
    "resum1['mean']=resum1['mean'].round(2)"
   ]
  },
  {
   "cell_type": "code",
   "execution_count": 122,
   "id": "fec377eb",
   "metadata": {},
   "outputs": [
    {
     "data": {
      "text/html": [
       "<div>\n",
       "<style scoped>\n",
       "    .dataframe tbody tr th:only-of-type {\n",
       "        vertical-align: middle;\n",
       "    }\n",
       "\n",
       "    .dataframe tbody tr th {\n",
       "        vertical-align: top;\n",
       "    }\n",
       "\n",
       "    .dataframe thead th {\n",
       "        text-align: right;\n",
       "    }\n",
       "</style>\n",
       "<table border=\"1\" class=\"dataframe\">\n",
       "  <thead>\n",
       "    <tr style=\"text-align: right;\">\n",
       "      <th></th>\n",
       "      <th>UF</th>\n",
       "      <th>sum</th>\n",
       "      <th>count</th>\n",
       "      <th>mean</th>\n",
       "      <th>max</th>\n",
       "    </tr>\n",
       "  </thead>\n",
       "  <tbody>\n",
       "    <tr>\n",
       "      <th>17</th>\n",
       "      <td>RJ</td>\n",
       "      <td>1101.827358</td>\n",
       "      <td>6471</td>\n",
       "      <td>0.17</td>\n",
       "      <td>3.764348</td>\n",
       "    </tr>\n",
       "    <tr>\n",
       "      <th>0</th>\n",
       "      <td>AC</td>\n",
       "      <td>392.420111</td>\n",
       "      <td>2939</td>\n",
       "      <td>0.13</td>\n",
       "      <td>3.816118</td>\n",
       "    </tr>\n",
       "    <tr>\n",
       "      <th>4</th>\n",
       "      <td>BA</td>\n",
       "      <td>155.550860</td>\n",
       "      <td>1546</td>\n",
       "      <td>0.10</td>\n",
       "      <td>8.363636</td>\n",
       "    </tr>\n",
       "    <tr>\n",
       "      <th>24</th>\n",
       "      <td>SP</td>\n",
       "      <td>63.000790</td>\n",
       "      <td>834</td>\n",
       "      <td>0.08</td>\n",
       "      <td>2.527159</td>\n",
       "    </tr>\n",
       "    <tr>\n",
       "      <th>20</th>\n",
       "      <td>RR</td>\n",
       "      <td>39.942534</td>\n",
       "      <td>492</td>\n",
       "      <td>0.08</td>\n",
       "      <td>1.552397</td>\n",
       "    </tr>\n",
       "    <tr>\n",
       "      <th>12</th>\n",
       "      <td>PA</td>\n",
       "      <td>15.453925</td>\n",
       "      <td>224</td>\n",
       "      <td>0.07</td>\n",
       "      <td>1.935142</td>\n",
       "    </tr>\n",
       "    <tr>\n",
       "      <th>23</th>\n",
       "      <td>SE</td>\n",
       "      <td>37.258627</td>\n",
       "      <td>498</td>\n",
       "      <td>0.07</td>\n",
       "      <td>2.784091</td>\n",
       "    </tr>\n",
       "    <tr>\n",
       "      <th>22</th>\n",
       "      <td>SC</td>\n",
       "      <td>23.844536</td>\n",
       "      <td>327</td>\n",
       "      <td>0.07</td>\n",
       "      <td>2.802159</td>\n",
       "    </tr>\n",
       "    <tr>\n",
       "      <th>14</th>\n",
       "      <td>PE</td>\n",
       "      <td>113.142263</td>\n",
       "      <td>1620</td>\n",
       "      <td>0.07</td>\n",
       "      <td>4.545455</td>\n",
       "    </tr>\n",
       "    <tr>\n",
       "      <th>25</th>\n",
       "      <td>TO</td>\n",
       "      <td>17.707686</td>\n",
       "      <td>253</td>\n",
       "      <td>0.07</td>\n",
       "      <td>2.078863</td>\n",
       "    </tr>\n",
       "    <tr>\n",
       "      <th>2</th>\n",
       "      <td>AM</td>\n",
       "      <td>73.302025</td>\n",
       "      <td>1016</td>\n",
       "      <td>0.07</td>\n",
       "      <td>2.724309</td>\n",
       "    </tr>\n",
       "    <tr>\n",
       "      <th>11</th>\n",
       "      <td>MT</td>\n",
       "      <td>23.237756</td>\n",
       "      <td>405</td>\n",
       "      <td>0.06</td>\n",
       "      <td>2.085795</td>\n",
       "    </tr>\n",
       "    <tr>\n",
       "      <th>9</th>\n",
       "      <td>MG</td>\n",
       "      <td>162.769449</td>\n",
       "      <td>2958</td>\n",
       "      <td>0.06</td>\n",
       "      <td>2.776080</td>\n",
       "    </tr>\n",
       "    <tr>\n",
       "      <th>1</th>\n",
       "      <td>AL</td>\n",
       "      <td>52.786278</td>\n",
       "      <td>835</td>\n",
       "      <td>0.06</td>\n",
       "      <td>2.776080</td>\n",
       "    </tr>\n",
       "    <tr>\n",
       "      <th>15</th>\n",
       "      <td>PI</td>\n",
       "      <td>39.288595</td>\n",
       "      <td>710</td>\n",
       "      <td>0.06</td>\n",
       "      <td>2.495260</td>\n",
       "    </tr>\n",
       "    <tr>\n",
       "      <th>16</th>\n",
       "      <td>PR</td>\n",
       "      <td>126.429560</td>\n",
       "      <td>2169</td>\n",
       "      <td>0.06</td>\n",
       "      <td>2.802159</td>\n",
       "    </tr>\n",
       "    <tr>\n",
       "      <th>18</th>\n",
       "      <td>RN</td>\n",
       "      <td>112.205082</td>\n",
       "      <td>1890</td>\n",
       "      <td>0.06</td>\n",
       "      <td>2.776080</td>\n",
       "    </tr>\n",
       "    <tr>\n",
       "      <th>5</th>\n",
       "      <td>CE</td>\n",
       "      <td>51.483638</td>\n",
       "      <td>827</td>\n",
       "      <td>0.06</td>\n",
       "      <td>2.535511</td>\n",
       "    </tr>\n",
       "    <tr>\n",
       "      <th>10</th>\n",
       "      <td>MS</td>\n",
       "      <td>60.031385</td>\n",
       "      <td>1271</td>\n",
       "      <td>0.05</td>\n",
       "      <td>2.241923</td>\n",
       "    </tr>\n",
       "    <tr>\n",
       "      <th>7</th>\n",
       "      <td>GO</td>\n",
       "      <td>13.343986</td>\n",
       "      <td>270</td>\n",
       "      <td>0.05</td>\n",
       "      <td>2.932121</td>\n",
       "    </tr>\n",
       "    <tr>\n",
       "      <th>19</th>\n",
       "      <td>RO</td>\n",
       "      <td>28.793113</td>\n",
       "      <td>584</td>\n",
       "      <td>0.05</td>\n",
       "      <td>2.210227</td>\n",
       "    </tr>\n",
       "    <tr>\n",
       "      <th>21</th>\n",
       "      <td>RS</td>\n",
       "      <td>165.693982</td>\n",
       "      <td>3215</td>\n",
       "      <td>0.05</td>\n",
       "      <td>3.027273</td>\n",
       "    </tr>\n",
       "    <tr>\n",
       "      <th>13</th>\n",
       "      <td>PB</td>\n",
       "      <td>56.053267</td>\n",
       "      <td>1033</td>\n",
       "      <td>0.05</td>\n",
       "      <td>2.337671</td>\n",
       "    </tr>\n",
       "    <tr>\n",
       "      <th>8</th>\n",
       "      <td>MA</td>\n",
       "      <td>3.863218</td>\n",
       "      <td>100</td>\n",
       "      <td>0.04</td>\n",
       "      <td>0.726051</td>\n",
       "    </tr>\n",
       "    <tr>\n",
       "      <th>6</th>\n",
       "      <td>ES</td>\n",
       "      <td>9.619062</td>\n",
       "      <td>267</td>\n",
       "      <td>0.04</td>\n",
       "      <td>1.718555</td>\n",
       "    </tr>\n",
       "    <tr>\n",
       "      <th>3</th>\n",
       "      <td>AP</td>\n",
       "      <td>0.988849</td>\n",
       "      <td>28</td>\n",
       "      <td>0.04</td>\n",
       "      <td>0.332867</td>\n",
       "    </tr>\n",
       "  </tbody>\n",
       "</table>\n",
       "</div>"
      ],
      "text/plain": [
       "    UF          sum  count  mean       max\n",
       "17  RJ  1101.827358   6471  0.17  3.764348\n",
       "0   AC   392.420111   2939  0.13  3.816118\n",
       "4   BA   155.550860   1546  0.10  8.363636\n",
       "24  SP    63.000790    834  0.08  2.527159\n",
       "20  RR    39.942534    492  0.08  1.552397\n",
       "12  PA    15.453925    224  0.07  1.935142\n",
       "23  SE    37.258627    498  0.07  2.784091\n",
       "22  SC    23.844536    327  0.07  2.802159\n",
       "14  PE   113.142263   1620  0.07  4.545455\n",
       "25  TO    17.707686    253  0.07  2.078863\n",
       "2   AM    73.302025   1016  0.07  2.724309\n",
       "11  MT    23.237756    405  0.06  2.085795\n",
       "9   MG   162.769449   2958  0.06  2.776080\n",
       "1   AL    52.786278    835  0.06  2.776080\n",
       "15  PI    39.288595    710  0.06  2.495260\n",
       "16  PR   126.429560   2169  0.06  2.802159\n",
       "18  RN   112.205082   1890  0.06  2.776080\n",
       "5   CE    51.483638    827  0.06  2.535511\n",
       "10  MS    60.031385   1271  0.05  2.241923\n",
       "7   GO    13.343986    270  0.05  2.932121\n",
       "19  RO    28.793113    584  0.05  2.210227\n",
       "21  RS   165.693982   3215  0.05  3.027273\n",
       "13  PB    56.053267   1033  0.05  2.337671\n",
       "8   MA     3.863218    100  0.04  0.726051\n",
       "6   ES     9.619062    267  0.04  1.718555\n",
       "3   AP     0.988849     28  0.04  0.332867"
      ]
     },
     "execution_count": 122,
     "metadata": {},
     "output_type": "execute_result"
    }
   ],
   "source": [
    "resum1.sort_values(by='mean',ascending=False)"
   ]
  },
  {
   "cell_type": "code",
   "execution_count": null,
   "id": "858b5026",
   "metadata": {},
   "outputs": [],
   "source": []
  },
  {
   "cell_type": "code",
   "execution_count": 105,
   "id": "d623f290",
   "metadata": {},
   "outputs": [
    {
     "name": "stderr",
     "output_type": "stream",
     "text": [
      "c:\\Users\\efvs\\miniconda3\\envs\\rsd\\lib\\site-packages\\plotly\\express\\_core.py:1637: FutureWarning:\n",
      "\n",
      "The frame.append method is deprecated and will be removed from pandas in a future version. Use pandas.concat instead.\n",
      "\n",
      "c:\\Users\\efvs\\miniconda3\\envs\\rsd\\lib\\site-packages\\plotly\\express\\_core.py:1637: FutureWarning:\n",
      "\n",
      "The frame.append method is deprecated and will be removed from pandas in a future version. Use pandas.concat instead.\n",
      "\n"
     ]
    },
    {
     "data": {
      "application/vnd.plotly.v1+json": {
       "config": {
        "plotlyServerURL": "https://plot.ly"
       },
       "data": [
        {
         "branchvalues": "total",
         "domain": {
          "x": [
           0,
           1
          ],
          "y": [
           0,
           1
          ]
         },
         "hovertemplate": "labels=%{label}<br>mean=%{value}<br>parent=%{parent}<br>id=%{id}<extra></extra>",
         "ids": [
          "Estados/AC",
          "Estados/AL",
          "Estados/AM",
          "Estados/AP",
          "Estados/BA",
          "Estados/CE",
          "Estados/ES",
          "Estados/GO",
          "Estados/MA",
          "Estados/MG",
          "Estados/MS",
          "Estados/MT",
          "Estados/PA",
          "Estados/PB",
          "Estados/PE",
          "Estados/PI",
          "Estados/PR",
          "Estados/RJ",
          "Estados/RN",
          "Estados/RO",
          "Estados/RR",
          "Estados/RS",
          "Estados/SC",
          "Estados/SE",
          "Estados/SP",
          "Estados/TO",
          "Estados"
         ],
         "labels": [
          "AC",
          "AL",
          "AM",
          "AP",
          "BA",
          "CE",
          "ES",
          "GO",
          "MA",
          "MG",
          "MS",
          "MT",
          "PA",
          "PB",
          "PE",
          "PI",
          "PR",
          "RJ",
          "RN",
          "RO",
          "RR",
          "RS",
          "SC",
          "SE",
          "SP",
          "TO",
          "Estados"
         ],
         "maxdepth": 3,
         "name": "",
         "parents": [
          "Estados",
          "Estados",
          "Estados",
          "Estados",
          "Estados",
          "Estados",
          "Estados",
          "Estados",
          "Estados",
          "Estados",
          "Estados",
          "Estados",
          "Estados",
          "Estados",
          "Estados",
          "Estados",
          "Estados",
          "Estados",
          "Estados",
          "Estados",
          "Estados",
          "Estados",
          "Estados",
          "Estados",
          "Estados",
          "Estados",
          ""
         ],
         "root": {
          "color": "lightgrey"
         },
         "type": "treemap",
         "values": [
          3.95,
          0.75,
          0.72,
          0.07,
          1.51,
          1,
          2,
          0.11,
          0.1,
          1.5699999999999998,
          0.44,
          0.49,
          0.3,
          1.13,
          1.1,
          2.1599999999999997,
          1.43,
          1.68,
          0.9700000000000001,
          0.66,
          0.64,
          1.62,
          2.15,
          0.79,
          0.49000000000000005,
          0.42,
          28.25
         ]
        }
       ],
       "layout": {
        "legend": {
         "tracegroupgap": 0
        },
        "margin": {
         "t": 60
        },
        "template": {
         "data": {
          "bar": [
           {
            "error_x": {
             "color": "#2a3f5f"
            },
            "error_y": {
             "color": "#2a3f5f"
            },
            "marker": {
             "line": {
              "color": "#E5ECF6",
              "width": 0.5
             },
             "pattern": {
              "fillmode": "overlay",
              "size": 10,
              "solidity": 0.2
             }
            },
            "type": "bar"
           }
          ],
          "barpolar": [
           {
            "marker": {
             "line": {
              "color": "#E5ECF6",
              "width": 0.5
             },
             "pattern": {
              "fillmode": "overlay",
              "size": 10,
              "solidity": 0.2
             }
            },
            "type": "barpolar"
           }
          ],
          "carpet": [
           {
            "aaxis": {
             "endlinecolor": "#2a3f5f",
             "gridcolor": "white",
             "linecolor": "white",
             "minorgridcolor": "white",
             "startlinecolor": "#2a3f5f"
            },
            "baxis": {
             "endlinecolor": "#2a3f5f",
             "gridcolor": "white",
             "linecolor": "white",
             "minorgridcolor": "white",
             "startlinecolor": "#2a3f5f"
            },
            "type": "carpet"
           }
          ],
          "choropleth": [
           {
            "colorbar": {
             "outlinewidth": 0,
             "ticks": ""
            },
            "type": "choropleth"
           }
          ],
          "contour": [
           {
            "colorbar": {
             "outlinewidth": 0,
             "ticks": ""
            },
            "colorscale": [
             [
              0,
              "#0d0887"
             ],
             [
              0.1111111111111111,
              "#46039f"
             ],
             [
              0.2222222222222222,
              "#7201a8"
             ],
             [
              0.3333333333333333,
              "#9c179e"
             ],
             [
              0.4444444444444444,
              "#bd3786"
             ],
             [
              0.5555555555555556,
              "#d8576b"
             ],
             [
              0.6666666666666666,
              "#ed7953"
             ],
             [
              0.7777777777777778,
              "#fb9f3a"
             ],
             [
              0.8888888888888888,
              "#fdca26"
             ],
             [
              1,
              "#f0f921"
             ]
            ],
            "type": "contour"
           }
          ],
          "contourcarpet": [
           {
            "colorbar": {
             "outlinewidth": 0,
             "ticks": ""
            },
            "type": "contourcarpet"
           }
          ],
          "heatmap": [
           {
            "colorbar": {
             "outlinewidth": 0,
             "ticks": ""
            },
            "colorscale": [
             [
              0,
              "#0d0887"
             ],
             [
              0.1111111111111111,
              "#46039f"
             ],
             [
              0.2222222222222222,
              "#7201a8"
             ],
             [
              0.3333333333333333,
              "#9c179e"
             ],
             [
              0.4444444444444444,
              "#bd3786"
             ],
             [
              0.5555555555555556,
              "#d8576b"
             ],
             [
              0.6666666666666666,
              "#ed7953"
             ],
             [
              0.7777777777777778,
              "#fb9f3a"
             ],
             [
              0.8888888888888888,
              "#fdca26"
             ],
             [
              1,
              "#f0f921"
             ]
            ],
            "type": "heatmap"
           }
          ],
          "heatmapgl": [
           {
            "colorbar": {
             "outlinewidth": 0,
             "ticks": ""
            },
            "colorscale": [
             [
              0,
              "#0d0887"
             ],
             [
              0.1111111111111111,
              "#46039f"
             ],
             [
              0.2222222222222222,
              "#7201a8"
             ],
             [
              0.3333333333333333,
              "#9c179e"
             ],
             [
              0.4444444444444444,
              "#bd3786"
             ],
             [
              0.5555555555555556,
              "#d8576b"
             ],
             [
              0.6666666666666666,
              "#ed7953"
             ],
             [
              0.7777777777777778,
              "#fb9f3a"
             ],
             [
              0.8888888888888888,
              "#fdca26"
             ],
             [
              1,
              "#f0f921"
             ]
            ],
            "type": "heatmapgl"
           }
          ],
          "histogram": [
           {
            "marker": {
             "pattern": {
              "fillmode": "overlay",
              "size": 10,
              "solidity": 0.2
             }
            },
            "type": "histogram"
           }
          ],
          "histogram2d": [
           {
            "colorbar": {
             "outlinewidth": 0,
             "ticks": ""
            },
            "colorscale": [
             [
              0,
              "#0d0887"
             ],
             [
              0.1111111111111111,
              "#46039f"
             ],
             [
              0.2222222222222222,
              "#7201a8"
             ],
             [
              0.3333333333333333,
              "#9c179e"
             ],
             [
              0.4444444444444444,
              "#bd3786"
             ],
             [
              0.5555555555555556,
              "#d8576b"
             ],
             [
              0.6666666666666666,
              "#ed7953"
             ],
             [
              0.7777777777777778,
              "#fb9f3a"
             ],
             [
              0.8888888888888888,
              "#fdca26"
             ],
             [
              1,
              "#f0f921"
             ]
            ],
            "type": "histogram2d"
           }
          ],
          "histogram2dcontour": [
           {
            "colorbar": {
             "outlinewidth": 0,
             "ticks": ""
            },
            "colorscale": [
             [
              0,
              "#0d0887"
             ],
             [
              0.1111111111111111,
              "#46039f"
             ],
             [
              0.2222222222222222,
              "#7201a8"
             ],
             [
              0.3333333333333333,
              "#9c179e"
             ],
             [
              0.4444444444444444,
              "#bd3786"
             ],
             [
              0.5555555555555556,
              "#d8576b"
             ],
             [
              0.6666666666666666,
              "#ed7953"
             ],
             [
              0.7777777777777778,
              "#fb9f3a"
             ],
             [
              0.8888888888888888,
              "#fdca26"
             ],
             [
              1,
              "#f0f921"
             ]
            ],
            "type": "histogram2dcontour"
           }
          ],
          "mesh3d": [
           {
            "colorbar": {
             "outlinewidth": 0,
             "ticks": ""
            },
            "type": "mesh3d"
           }
          ],
          "parcoords": [
           {
            "line": {
             "colorbar": {
              "outlinewidth": 0,
              "ticks": ""
             }
            },
            "type": "parcoords"
           }
          ],
          "pie": [
           {
            "automargin": true,
            "type": "pie"
           }
          ],
          "scatter": [
           {
            "marker": {
             "colorbar": {
              "outlinewidth": 0,
              "ticks": ""
             }
            },
            "type": "scatter"
           }
          ],
          "scatter3d": [
           {
            "line": {
             "colorbar": {
              "outlinewidth": 0,
              "ticks": ""
             }
            },
            "marker": {
             "colorbar": {
              "outlinewidth": 0,
              "ticks": ""
             }
            },
            "type": "scatter3d"
           }
          ],
          "scattercarpet": [
           {
            "marker": {
             "colorbar": {
              "outlinewidth": 0,
              "ticks": ""
             }
            },
            "type": "scattercarpet"
           }
          ],
          "scattergeo": [
           {
            "marker": {
             "colorbar": {
              "outlinewidth": 0,
              "ticks": ""
             }
            },
            "type": "scattergeo"
           }
          ],
          "scattergl": [
           {
            "marker": {
             "colorbar": {
              "outlinewidth": 0,
              "ticks": ""
             }
            },
            "type": "scattergl"
           }
          ],
          "scattermapbox": [
           {
            "marker": {
             "colorbar": {
              "outlinewidth": 0,
              "ticks": ""
             }
            },
            "type": "scattermapbox"
           }
          ],
          "scatterpolar": [
           {
            "marker": {
             "colorbar": {
              "outlinewidth": 0,
              "ticks": ""
             }
            },
            "type": "scatterpolar"
           }
          ],
          "scatterpolargl": [
           {
            "marker": {
             "colorbar": {
              "outlinewidth": 0,
              "ticks": ""
             }
            },
            "type": "scatterpolargl"
           }
          ],
          "scatterternary": [
           {
            "marker": {
             "colorbar": {
              "outlinewidth": 0,
              "ticks": ""
             }
            },
            "type": "scatterternary"
           }
          ],
          "surface": [
           {
            "colorbar": {
             "outlinewidth": 0,
             "ticks": ""
            },
            "colorscale": [
             [
              0,
              "#0d0887"
             ],
             [
              0.1111111111111111,
              "#46039f"
             ],
             [
              0.2222222222222222,
              "#7201a8"
             ],
             [
              0.3333333333333333,
              "#9c179e"
             ],
             [
              0.4444444444444444,
              "#bd3786"
             ],
             [
              0.5555555555555556,
              "#d8576b"
             ],
             [
              0.6666666666666666,
              "#ed7953"
             ],
             [
              0.7777777777777778,
              "#fb9f3a"
             ],
             [
              0.8888888888888888,
              "#fdca26"
             ],
             [
              1,
              "#f0f921"
             ]
            ],
            "type": "surface"
           }
          ],
          "table": [
           {
            "cells": {
             "fill": {
              "color": "#EBF0F8"
             },
             "line": {
              "color": "white"
             }
            },
            "header": {
             "fill": {
              "color": "#C8D4E3"
             },
             "line": {
              "color": "white"
             }
            },
            "type": "table"
           }
          ]
         },
         "layout": {
          "annotationdefaults": {
           "arrowcolor": "#2a3f5f",
           "arrowhead": 0,
           "arrowwidth": 1
          },
          "autotypenumbers": "strict",
          "coloraxis": {
           "colorbar": {
            "outlinewidth": 0,
            "ticks": ""
           }
          },
          "colorscale": {
           "diverging": [
            [
             0,
             "#8e0152"
            ],
            [
             0.1,
             "#c51b7d"
            ],
            [
             0.2,
             "#de77ae"
            ],
            [
             0.3,
             "#f1b6da"
            ],
            [
             0.4,
             "#fde0ef"
            ],
            [
             0.5,
             "#f7f7f7"
            ],
            [
             0.6,
             "#e6f5d0"
            ],
            [
             0.7,
             "#b8e186"
            ],
            [
             0.8,
             "#7fbc41"
            ],
            [
             0.9,
             "#4d9221"
            ],
            [
             1,
             "#276419"
            ]
           ],
           "sequential": [
            [
             0,
             "#0d0887"
            ],
            [
             0.1111111111111111,
             "#46039f"
            ],
            [
             0.2222222222222222,
             "#7201a8"
            ],
            [
             0.3333333333333333,
             "#9c179e"
            ],
            [
             0.4444444444444444,
             "#bd3786"
            ],
            [
             0.5555555555555556,
             "#d8576b"
            ],
            [
             0.6666666666666666,
             "#ed7953"
            ],
            [
             0.7777777777777778,
             "#fb9f3a"
            ],
            [
             0.8888888888888888,
             "#fdca26"
            ],
            [
             1,
             "#f0f921"
            ]
           ],
           "sequentialminus": [
            [
             0,
             "#0d0887"
            ],
            [
             0.1111111111111111,
             "#46039f"
            ],
            [
             0.2222222222222222,
             "#7201a8"
            ],
            [
             0.3333333333333333,
             "#9c179e"
            ],
            [
             0.4444444444444444,
             "#bd3786"
            ],
            [
             0.5555555555555556,
             "#d8576b"
            ],
            [
             0.6666666666666666,
             "#ed7953"
            ],
            [
             0.7777777777777778,
             "#fb9f3a"
            ],
            [
             0.8888888888888888,
             "#fdca26"
            ],
            [
             1,
             "#f0f921"
            ]
           ]
          },
          "colorway": [
           "#636efa",
           "#EF553B",
           "#00cc96",
           "#ab63fa",
           "#FFA15A",
           "#19d3f3",
           "#FF6692",
           "#B6E880",
           "#FF97FF",
           "#FECB52"
          ],
          "font": {
           "color": "#2a3f5f"
          },
          "geo": {
           "bgcolor": "white",
           "lakecolor": "white",
           "landcolor": "#E5ECF6",
           "showlakes": true,
           "showland": true,
           "subunitcolor": "white"
          },
          "hoverlabel": {
           "align": "left"
          },
          "hovermode": "closest",
          "mapbox": {
           "style": "light"
          },
          "paper_bgcolor": "white",
          "plot_bgcolor": "#E5ECF6",
          "polar": {
           "angularaxis": {
            "gridcolor": "white",
            "linecolor": "white",
            "ticks": ""
           },
           "bgcolor": "#E5ECF6",
           "radialaxis": {
            "gridcolor": "white",
            "linecolor": "white",
            "ticks": ""
           }
          },
          "scene": {
           "xaxis": {
            "backgroundcolor": "#E5ECF6",
            "gridcolor": "white",
            "gridwidth": 2,
            "linecolor": "white",
            "showbackground": true,
            "ticks": "",
            "zerolinecolor": "white"
           },
           "yaxis": {
            "backgroundcolor": "#E5ECF6",
            "gridcolor": "white",
            "gridwidth": 2,
            "linecolor": "white",
            "showbackground": true,
            "ticks": "",
            "zerolinecolor": "white"
           },
           "zaxis": {
            "backgroundcolor": "#E5ECF6",
            "gridcolor": "white",
            "gridwidth": 2,
            "linecolor": "white",
            "showbackground": true,
            "ticks": "",
            "zerolinecolor": "white"
           }
          },
          "shapedefaults": {
           "line": {
            "color": "#2a3f5f"
           }
          },
          "ternary": {
           "aaxis": {
            "gridcolor": "white",
            "linecolor": "white",
            "ticks": ""
           },
           "baxis": {
            "gridcolor": "white",
            "linecolor": "white",
            "ticks": ""
           },
           "bgcolor": "#E5ECF6",
           "caxis": {
            "gridcolor": "white",
            "linecolor": "white",
            "ticks": ""
           }
          },
          "title": {
           "x": 0.05
          },
          "xaxis": {
           "automargin": true,
           "gridcolor": "white",
           "linecolor": "white",
           "ticks": "",
           "title": {
            "standoff": 15
           },
           "zerolinecolor": "white",
           "zerolinewidth": 2
          },
          "yaxis": {
           "automargin": true,
           "gridcolor": "white",
           "linecolor": "white",
           "ticks": "",
           "title": {
            "standoff": 15
           },
           "zerolinecolor": "white",
           "zerolinewidth": 2
          }
         }
        },
        "title": {
         "text": "Quantas vezes o teto cada estádio licita em média?"
        },
        "uniformtext": {
         "minsize": 14
        }
       }
      }
     },
     "metadata": {},
     "output_type": "display_data"
    }
   ],
   "source": [
    " \n",
    "fig = px.treemap(dict(resum1),path=[px.Constant('Estados'),resum1['UF']],\n",
    "                 values='mean',\n",
    "                 labels=['Estados'],maxdepth=3)\n",
    " #           values='Total de Licitações')\n",
    "fig.update_layout(uniformtext_minsize=14)\n",
    "fig.update_traces(root_color=\"lightgrey\")\n",
    "fig.update_layout(\n",
    "    title_text='Quantas vezes o teto cada estádio licita em média?'\n",
    ")\n",
    "fig.show()"
   ]
  },
  {
   "cell_type": "code",
   "execution_count": 100,
   "id": "5960aa66",
   "metadata": {},
   "outputs": [
    {
     "name": "stderr",
     "output_type": "stream",
     "text": [
      "c:\\Users\\efvs\\miniconda3\\envs\\rsd\\lib\\site-packages\\plotly\\express\\_core.py:1637: FutureWarning:\n",
      "\n",
      "The frame.append method is deprecated and will be removed from pandas in a future version. Use pandas.concat instead.\n",
      "\n",
      "c:\\Users\\efvs\\miniconda3\\envs\\rsd\\lib\\site-packages\\plotly\\express\\_core.py:1637: FutureWarning:\n",
      "\n",
      "The frame.append method is deprecated and will be removed from pandas in a future version. Use pandas.concat instead.\n",
      "\n",
      "c:\\Users\\efvs\\miniconda3\\envs\\rsd\\lib\\site-packages\\plotly\\express\\_core.py:1637: FutureWarning:\n",
      "\n",
      "The frame.append method is deprecated and will be removed from pandas in a future version. Use pandas.concat instead.\n",
      "\n"
     ]
    },
    {
     "data": {
      "application/vnd.plotly.v1+json": {
       "config": {
        "plotlyServerURL": "https://plot.ly"
       },
       "data": [
        {
         "branchvalues": "total",
         "domain": {
          "x": [
           0,
           1
          ],
          "y": [
           0,
           1
          ]
         },
         "hovertemplate": "labels=%{label}<br>pct_do_teto=%{value}<br>parent=%{parent}<br>id=%{id}<extra></extra>",
         "ids": [
          "Estados/AC/Advocacia-Geral da União",
          "Estados/MG/Advocacia-Geral da União",
          "Estados/PE/Advocacia-Geral da União",
          "Estados/RJ/Advocacia-Geral da União",
          "Estados/RS/Advocacia-Geral da União",
          "Estados/AC/Controladoria-Geral da União",
          "Estados/AC/Ministério da Agricultura, Pecuária e Abastec",
          "Estados/AL/Ministério da Agricultura, Pecuária e Abastec",
          "Estados/AM/Ministério da Agricultura, Pecuária e Abastec",
          "Estados/BA/Ministério da Agricultura, Pecuária e Abastec",
          "Estados/CE/Ministério da Agricultura, Pecuária e Abastec",
          "Estados/ES/Ministério da Agricultura, Pecuária e Abastec",
          "Estados/MG/Ministério da Agricultura, Pecuária e Abastec",
          "Estados/MS/Ministério da Agricultura, Pecuária e Abastec",
          "Estados/MT/Ministério da Agricultura, Pecuária e Abastec",
          "Estados/PA/Ministério da Agricultura, Pecuária e Abastec",
          "Estados/PB/Ministério da Agricultura, Pecuária e Abastec",
          "Estados/PE/Ministério da Agricultura, Pecuária e Abastec",
          "Estados/PI/Ministério da Agricultura, Pecuária e Abastec",
          "Estados/PR/Ministério da Agricultura, Pecuária e Abastec",
          "Estados/RJ/Ministério da Agricultura, Pecuária e Abastec",
          "Estados/RN/Ministério da Agricultura, Pecuária e Abastec",
          "Estados/RO/Ministério da Agricultura, Pecuária e Abastec",
          "Estados/RR/Ministério da Agricultura, Pecuária e Abastec",
          "Estados/RS/Ministério da Agricultura, Pecuária e Abastec",
          "Estados/SE/Ministério da Agricultura, Pecuária e Abastec",
          "Estados/SP/Ministério da Agricultura, Pecuária e Abastec",
          "Estados/TO/Ministério da Agricultura, Pecuária e Abastec",
          "Estados/AC/Ministério da Cidadania",
          "Estados/AC/Ministério da Ciência, Tecnologia, Inovações ",
          "Estados/AM/Ministério da Ciência, Tecnologia, Inovações ",
          "Estados/ES/Ministério da Ciência, Tecnologia, Inovações ",
          "Estados/MG/Ministério da Ciência, Tecnologia, Inovações ",
          "Estados/PB/Ministério da Ciência, Tecnologia, Inovações ",
          "Estados/PE/Ministério da Ciência, Tecnologia, Inovações ",
          "Estados/RJ/Ministério da Ciência, Tecnologia, Inovações ",
          "Estados/RN/Ministério da Ciência, Tecnologia, Inovações ",
          "Estados/RS/Ministério da Ciência, Tecnologia, Inovações ",
          "Estados/SP/Ministério da Ciência, Tecnologia, Inovações ",
          "Estados/AC/Ministério da Defesa",
          "Estados/AL/Ministério da Defesa",
          "Estados/AM/Ministério da Defesa",
          "Estados/AP/Ministério da Defesa",
          "Estados/BA/Ministério da Defesa",
          "Estados/CE/Ministério da Defesa",
          "Estados/ES/Ministério da Defesa",
          "Estados/GO/Ministério da Defesa",
          "Estados/MA/Ministério da Defesa",
          "Estados/MG/Ministério da Defesa",
          "Estados/MS/Ministério da Defesa",
          "Estados/MT/Ministério da Defesa",
          "Estados/PA/Ministério da Defesa",
          "Estados/PB/Ministério da Defesa",
          "Estados/PE/Ministério da Defesa",
          "Estados/PI/Ministério da Defesa",
          "Estados/PR/Ministério da Defesa",
          "Estados/RJ/Ministério da Defesa",
          "Estados/RN/Ministério da Defesa",
          "Estados/RO/Ministério da Defesa",
          "Estados/RR/Ministério da Defesa",
          "Estados/RS/Ministério da Defesa",
          "Estados/SC/Ministério da Defesa",
          "Estados/SE/Ministério da Defesa",
          "Estados/SP/Ministério da Defesa",
          "Estados/TO/Ministério da Defesa",
          "Estados/AC/Ministério da Economia",
          "Estados/AL/Ministério da Economia",
          "Estados/AM/Ministério da Economia",
          "Estados/BA/Ministério da Economia",
          "Estados/CE/Ministério da Economia",
          "Estados/MG/Ministério da Economia",
          "Estados/MS/Ministério da Economia",
          "Estados/MT/Ministério da Economia",
          "Estados/PB/Ministério da Economia",
          "Estados/PE/Ministério da Economia",
          "Estados/PI/Ministério da Economia",
          "Estados/PR/Ministério da Economia",
          "Estados/RJ/Ministério da Economia",
          "Estados/RN/Ministério da Economia",
          "Estados/RO/Ministério da Economia",
          "Estados/RR/Ministério da Economia",
          "Estados/RS/Ministério da Economia",
          "Estados/SC/Ministério da Economia",
          "Estados/SE/Ministério da Economia",
          "Estados/SP/Ministério da Economia",
          "Estados/AC/Ministério da Educação",
          "Estados/AL/Ministério da Educação",
          "Estados/AM/Ministério da Educação",
          "Estados/AP/Ministério da Educação",
          "Estados/BA/Ministério da Educação",
          "Estados/CE/Ministério da Educação",
          "Estados/ES/Ministério da Educação",
          "Estados/GO/Ministério da Educação",
          "Estados/MA/Ministério da Educação",
          "Estados/MG/Ministério da Educação",
          "Estados/MS/Ministério da Educação",
          "Estados/MT/Ministério da Educação",
          "Estados/PA/Ministério da Educação",
          "Estados/PB/Ministério da Educação",
          "Estados/PE/Ministério da Educação",
          "Estados/PI/Ministério da Educação",
          "Estados/PR/Ministério da Educação",
          "Estados/RJ/Ministério da Educação",
          "Estados/RN/Ministério da Educação",
          "Estados/RO/Ministério da Educação",
          "Estados/RR/Ministério da Educação",
          "Estados/RS/Ministério da Educação",
          "Estados/SC/Ministério da Educação",
          "Estados/SE/Ministério da Educação",
          "Estados/SP/Ministério da Educação",
          "Estados/TO/Ministério da Educação",
          "Estados/MG/Ministério da Indústria, Comércio Exterior e ",
          "Estados/AC/Ministério da Infraestrutura",
          "Estados/AL/Ministério da Infraestrutura",
          "Estados/BA/Ministério da Infraestrutura",
          "Estados/MS/Ministério da Infraestrutura",
          "Estados/MT/Ministério da Infraestrutura",
          "Estados/PE/Ministério da Infraestrutura",
          "Estados/PR/Ministério da Infraestrutura",
          "Estados/RJ/Ministério da Infraestrutura",
          "Estados/RN/Ministério da Infraestrutura",
          "Estados/RO/Ministério da Infraestrutura",
          "Estados/RS/Ministério da Infraestrutura",
          "Estados/AC/Ministério da Justiça e Segurança Pública",
          "Estados/AL/Ministério da Justiça e Segurança Pública",
          "Estados/AM/Ministério da Justiça e Segurança Pública",
          "Estados/BA/Ministério da Justiça e Segurança Pública",
          "Estados/CE/Ministério da Justiça e Segurança Pública",
          "Estados/ES/Ministério da Justiça e Segurança Pública",
          "Estados/MA/Ministério da Justiça e Segurança Pública",
          "Estados/MG/Ministério da Justiça e Segurança Pública",
          "Estados/MS/Ministério da Justiça e Segurança Pública",
          "Estados/MT/Ministério da Justiça e Segurança Pública",
          "Estados/PA/Ministério da Justiça e Segurança Pública",
          "Estados/PB/Ministério da Justiça e Segurança Pública",
          "Estados/PE/Ministério da Justiça e Segurança Pública",
          "Estados/PI/Ministério da Justiça e Segurança Pública",
          "Estados/PR/Ministério da Justiça e Segurança Pública",
          "Estados/RJ/Ministério da Justiça e Segurança Pública",
          "Estados/RN/Ministério da Justiça e Segurança Pública",
          "Estados/RO/Ministério da Justiça e Segurança Pública",
          "Estados/RR/Ministério da Justiça e Segurança Pública",
          "Estados/RS/Ministério da Justiça e Segurança Pública",
          "Estados/SC/Ministério da Justiça e Segurança Pública",
          "Estados/SE/Ministério da Justiça e Segurança Pública",
          "Estados/TO/Ministério da Justiça e Segurança Pública",
          "Estados/AC/Ministério da Mulher, Família e Direitos Huma",
          "Estados/AC/Ministério da Saúde",
          "Estados/AL/Ministério da Saúde",
          "Estados/AM/Ministério da Saúde",
          "Estados/BA/Ministério da Saúde",
          "Estados/CE/Ministério da Saúde",
          "Estados/MG/Ministério da Saúde",
          "Estados/MS/Ministério da Saúde",
          "Estados/MT/Ministério da Saúde",
          "Estados/PA/Ministério da Saúde",
          "Estados/PB/Ministério da Saúde",
          "Estados/PE/Ministério da Saúde",
          "Estados/PI/Ministério da Saúde",
          "Estados/PR/Ministério da Saúde",
          "Estados/RJ/Ministério da Saúde",
          "Estados/RN/Ministério da Saúde",
          "Estados/RO/Ministério da Saúde",
          "Estados/RR/Ministério da Saúde",
          "Estados/RS/Ministério da Saúde",
          "Estados/SE/Ministério da Saúde",
          "Estados/SP/Ministério da Saúde",
          "Estados/TO/Ministério da Saúde",
          "Estados/AC/Ministério das Comunicações",
          "Estados/BA/Ministério das Comunicações",
          "Estados/MG/Ministério das Comunicações",
          "Estados/PR/Ministério das Comunicações",
          "Estados/RJ/Ministério das Comunicações",
          "Estados/AC/Ministério das Relações Exteriores",
          "Estados/AC/Ministério de Minas e Energia",
          "Estados/AM/Ministério de Minas e Energia",
          "Estados/BA/Ministério de Minas e Energia",
          "Estados/CE/Ministério de Minas e Energia",
          "Estados/MG/Ministério de Minas e Energia",
          "Estados/PB/Ministério de Minas e Energia",
          "Estados/PI/Ministério de Minas e Energia",
          "Estados/PR/Ministério de Minas e Energia",
          "Estados/RJ/Ministério de Minas e Energia",
          "Estados/RO/Ministério de Minas e Energia",
          "Estados/RR/Ministério de Minas e Energia",
          "Estados/RS/Ministério de Minas e Energia",
          "Estados/AC/Ministério do Desenvolvimento Regional",
          "Estados/AL/Ministério do Desenvolvimento Regional",
          "Estados/BA/Ministério do Desenvolvimento Regional",
          "Estados/CE/Ministério do Desenvolvimento Regional",
          "Estados/MG/Ministério do Desenvolvimento Regional",
          "Estados/PE/Ministério do Desenvolvimento Regional",
          "Estados/PI/Ministério do Desenvolvimento Regional",
          "Estados/RN/Ministério do Desenvolvimento Regional",
          "Estados/SE/Ministério do Desenvolvimento Regional",
          "Estados/AC/Ministério do Meio Ambiente",
          "Estados/AL/Ministério do Meio Ambiente",
          "Estados/AM/Ministério do Meio Ambiente",
          "Estados/BA/Ministério do Meio Ambiente",
          "Estados/CE/Ministério do Meio Ambiente",
          "Estados/MG/Ministério do Meio Ambiente",
          "Estados/MS/Ministério do Meio Ambiente",
          "Estados/MT/Ministério do Meio Ambiente",
          "Estados/PB/Ministério do Meio Ambiente",
          "Estados/PI/Ministério do Meio Ambiente",
          "Estados/PR/Ministério do Meio Ambiente",
          "Estados/RJ/Ministério do Meio Ambiente",
          "Estados/RR/Ministério do Meio Ambiente",
          "Estados/RS/Ministério do Meio Ambiente",
          "Estados/CE/Ministério do Trabalho e Emprego",
          "Estados/PI/Ministério do Trabalho e Emprego",
          "Estados/RN/Ministério do Trabalho e Emprego",
          "Estados/AC/Ministério do Turismo",
          "Estados/MG/Ministério do Turismo",
          "Estados/PR/Ministério do Turismo",
          "Estados/RJ/Ministério do Turismo",
          "Estados/TO/Ministério do Turismo",
          "Estados/AC/Presidência da República",
          "Estados/AC",
          "Estados/AL",
          "Estados/AM",
          "Estados/AP",
          "Estados/BA",
          "Estados/CE",
          "Estados/ES",
          "Estados/GO",
          "Estados/MA",
          "Estados/MG",
          "Estados/MS",
          "Estados/MT",
          "Estados/PA",
          "Estados/PB",
          "Estados/PE",
          "Estados/PI",
          "Estados/PR",
          "Estados/RJ",
          "Estados/RN",
          "Estados/RO",
          "Estados/RR",
          "Estados/RS",
          "Estados/SC",
          "Estados/SE",
          "Estados/SP",
          "Estados/TO",
          "Estados"
         ],
         "labels": [
          "Advocacia-Geral da União",
          "Advocacia-Geral da União",
          "Advocacia-Geral da União",
          "Advocacia-Geral da União",
          "Advocacia-Geral da União",
          "Controladoria-Geral da União",
          "Ministério da Agricultura, Pecuária e Abastec",
          "Ministério da Agricultura, Pecuária e Abastec",
          "Ministério da Agricultura, Pecuária e Abastec",
          "Ministério da Agricultura, Pecuária e Abastec",
          "Ministério da Agricultura, Pecuária e Abastec",
          "Ministério da Agricultura, Pecuária e Abastec",
          "Ministério da Agricultura, Pecuária e Abastec",
          "Ministério da Agricultura, Pecuária e Abastec",
          "Ministério da Agricultura, Pecuária e Abastec",
          "Ministério da Agricultura, Pecuária e Abastec",
          "Ministério da Agricultura, Pecuária e Abastec",
          "Ministério da Agricultura, Pecuária e Abastec",
          "Ministério da Agricultura, Pecuária e Abastec",
          "Ministério da Agricultura, Pecuária e Abastec",
          "Ministério da Agricultura, Pecuária e Abastec",
          "Ministério da Agricultura, Pecuária e Abastec",
          "Ministério da Agricultura, Pecuária e Abastec",
          "Ministério da Agricultura, Pecuária e Abastec",
          "Ministério da Agricultura, Pecuária e Abastec",
          "Ministério da Agricultura, Pecuária e Abastec",
          "Ministério da Agricultura, Pecuária e Abastec",
          "Ministério da Agricultura, Pecuária e Abastec",
          "Ministério da Cidadania",
          "Ministério da Ciência, Tecnologia, Inovações ",
          "Ministério da Ciência, Tecnologia, Inovações ",
          "Ministério da Ciência, Tecnologia, Inovações ",
          "Ministério da Ciência, Tecnologia, Inovações ",
          "Ministério da Ciência, Tecnologia, Inovações ",
          "Ministério da Ciência, Tecnologia, Inovações ",
          "Ministério da Ciência, Tecnologia, Inovações ",
          "Ministério da Ciência, Tecnologia, Inovações ",
          "Ministério da Ciência, Tecnologia, Inovações ",
          "Ministério da Ciência, Tecnologia, Inovações ",
          "Ministério da Defesa",
          "Ministério da Defesa",
          "Ministério da Defesa",
          "Ministério da Defesa",
          "Ministério da Defesa",
          "Ministério da Defesa",
          "Ministério da Defesa",
          "Ministério da Defesa",
          "Ministério da Defesa",
          "Ministério da Defesa",
          "Ministério da Defesa",
          "Ministério da Defesa",
          "Ministério da Defesa",
          "Ministério da Defesa",
          "Ministério da Defesa",
          "Ministério da Defesa",
          "Ministério da Defesa",
          "Ministério da Defesa",
          "Ministério da Defesa",
          "Ministério da Defesa",
          "Ministério da Defesa",
          "Ministério da Defesa",
          "Ministério da Defesa",
          "Ministério da Defesa",
          "Ministério da Defesa",
          "Ministério da Defesa",
          "Ministério da Economia",
          "Ministério da Economia",
          "Ministério da Economia",
          "Ministério da Economia",
          "Ministério da Economia",
          "Ministério da Economia",
          "Ministério da Economia",
          "Ministério da Economia",
          "Ministério da Economia",
          "Ministério da Economia",
          "Ministério da Economia",
          "Ministério da Economia",
          "Ministério da Economia",
          "Ministério da Economia",
          "Ministério da Economia",
          "Ministério da Economia",
          "Ministério da Economia",
          "Ministério da Economia",
          "Ministério da Economia",
          "Ministério da Economia",
          "Ministério da Educação",
          "Ministério da Educação",
          "Ministério da Educação",
          "Ministério da Educação",
          "Ministério da Educação",
          "Ministério da Educação",
          "Ministério da Educação",
          "Ministério da Educação",
          "Ministério da Educação",
          "Ministério da Educação",
          "Ministério da Educação",
          "Ministério da Educação",
          "Ministério da Educação",
          "Ministério da Educação",
          "Ministério da Educação",
          "Ministério da Educação",
          "Ministério da Educação",
          "Ministério da Educação",
          "Ministério da Educação",
          "Ministério da Educação",
          "Ministério da Educação",
          "Ministério da Educação",
          "Ministério da Educação",
          "Ministério da Educação",
          "Ministério da Educação",
          "Ministério da Educação",
          "Ministério da Indústria, Comércio Exterior e ",
          "Ministério da Infraestrutura",
          "Ministério da Infraestrutura",
          "Ministério da Infraestrutura",
          "Ministério da Infraestrutura",
          "Ministério da Infraestrutura",
          "Ministério da Infraestrutura",
          "Ministério da Infraestrutura",
          "Ministério da Infraestrutura",
          "Ministério da Infraestrutura",
          "Ministério da Infraestrutura",
          "Ministério da Infraestrutura",
          "Ministério da Justiça e Segurança Pública",
          "Ministério da Justiça e Segurança Pública",
          "Ministério da Justiça e Segurança Pública",
          "Ministério da Justiça e Segurança Pública",
          "Ministério da Justiça e Segurança Pública",
          "Ministério da Justiça e Segurança Pública",
          "Ministério da Justiça e Segurança Pública",
          "Ministério da Justiça e Segurança Pública",
          "Ministério da Justiça e Segurança Pública",
          "Ministério da Justiça e Segurança Pública",
          "Ministério da Justiça e Segurança Pública",
          "Ministério da Justiça e Segurança Pública",
          "Ministério da Justiça e Segurança Pública",
          "Ministério da Justiça e Segurança Pública",
          "Ministério da Justiça e Segurança Pública",
          "Ministério da Justiça e Segurança Pública",
          "Ministério da Justiça e Segurança Pública",
          "Ministério da Justiça e Segurança Pública",
          "Ministério da Justiça e Segurança Pública",
          "Ministério da Justiça e Segurança Pública",
          "Ministério da Justiça e Segurança Pública",
          "Ministério da Justiça e Segurança Pública",
          "Ministério da Justiça e Segurança Pública",
          "Ministério da Mulher, Família e Direitos Huma",
          "Ministério da Saúde",
          "Ministério da Saúde",
          "Ministério da Saúde",
          "Ministério da Saúde",
          "Ministério da Saúde",
          "Ministério da Saúde",
          "Ministério da Saúde",
          "Ministério da Saúde",
          "Ministério da Saúde",
          "Ministério da Saúde",
          "Ministério da Saúde",
          "Ministério da Saúde",
          "Ministério da Saúde",
          "Ministério da Saúde",
          "Ministério da Saúde",
          "Ministério da Saúde",
          "Ministério da Saúde",
          "Ministério da Saúde",
          "Ministério da Saúde",
          "Ministério da Saúde",
          "Ministério da Saúde",
          "Ministério das Comunicações",
          "Ministério das Comunicações",
          "Ministério das Comunicações",
          "Ministério das Comunicações",
          "Ministério das Comunicações",
          "Ministério das Relações Exteriores",
          "Ministério de Minas e Energia",
          "Ministério de Minas e Energia",
          "Ministério de Minas e Energia",
          "Ministério de Minas e Energia",
          "Ministério de Minas e Energia",
          "Ministério de Minas e Energia",
          "Ministério de Minas e Energia",
          "Ministério de Minas e Energia",
          "Ministério de Minas e Energia",
          "Ministério de Minas e Energia",
          "Ministério de Minas e Energia",
          "Ministério de Minas e Energia",
          "Ministério do Desenvolvimento Regional",
          "Ministério do Desenvolvimento Regional",
          "Ministério do Desenvolvimento Regional",
          "Ministério do Desenvolvimento Regional",
          "Ministério do Desenvolvimento Regional",
          "Ministério do Desenvolvimento Regional",
          "Ministério do Desenvolvimento Regional",
          "Ministério do Desenvolvimento Regional",
          "Ministério do Desenvolvimento Regional",
          "Ministério do Meio Ambiente",
          "Ministério do Meio Ambiente",
          "Ministério do Meio Ambiente",
          "Ministério do Meio Ambiente",
          "Ministério do Meio Ambiente",
          "Ministério do Meio Ambiente",
          "Ministério do Meio Ambiente",
          "Ministério do Meio Ambiente",
          "Ministério do Meio Ambiente",
          "Ministério do Meio Ambiente",
          "Ministério do Meio Ambiente",
          "Ministério do Meio Ambiente",
          "Ministério do Meio Ambiente",
          "Ministério do Meio Ambiente",
          "Ministério do Trabalho e Emprego",
          "Ministério do Trabalho e Emprego",
          "Ministério do Trabalho e Emprego",
          "Ministério do Turismo",
          "Ministério do Turismo",
          "Ministério do Turismo",
          "Ministério do Turismo",
          "Ministério do Turismo",
          "Presidência da República",
          "AC",
          "AL",
          "AM",
          "AP",
          "BA",
          "CE",
          "ES",
          "GO",
          "MA",
          "MG",
          "MS",
          "MT",
          "PA",
          "PB",
          "PE",
          "PI",
          "PR",
          "RJ",
          "RN",
          "RO",
          "RR",
          "RS",
          "SC",
          "SE",
          "SP",
          "TO",
          "Estados"
         ],
         "maxdepth": 3,
         "name": "",
         "parents": [
          "Estados/AC",
          "Estados/MG",
          "Estados/PE",
          "Estados/RJ",
          "Estados/RS",
          "Estados/AC",
          "Estados/AC",
          "Estados/AL",
          "Estados/AM",
          "Estados/BA",
          "Estados/CE",
          "Estados/ES",
          "Estados/MG",
          "Estados/MS",
          "Estados/MT",
          "Estados/PA",
          "Estados/PB",
          "Estados/PE",
          "Estados/PI",
          "Estados/PR",
          "Estados/RJ",
          "Estados/RN",
          "Estados/RO",
          "Estados/RR",
          "Estados/RS",
          "Estados/SE",
          "Estados/SP",
          "Estados/TO",
          "Estados/AC",
          "Estados/AC",
          "Estados/AM",
          "Estados/ES",
          "Estados/MG",
          "Estados/PB",
          "Estados/PE",
          "Estados/RJ",
          "Estados/RN",
          "Estados/RS",
          "Estados/SP",
          "Estados/AC",
          "Estados/AL",
          "Estados/AM",
          "Estados/AP",
          "Estados/BA",
          "Estados/CE",
          "Estados/ES",
          "Estados/GO",
          "Estados/MA",
          "Estados/MG",
          "Estados/MS",
          "Estados/MT",
          "Estados/PA",
          "Estados/PB",
          "Estados/PE",
          "Estados/PI",
          "Estados/PR",
          "Estados/RJ",
          "Estados/RN",
          "Estados/RO",
          "Estados/RR",
          "Estados/RS",
          "Estados/SC",
          "Estados/SE",
          "Estados/SP",
          "Estados/TO",
          "Estados/AC",
          "Estados/AL",
          "Estados/AM",
          "Estados/BA",
          "Estados/CE",
          "Estados/MG",
          "Estados/MS",
          "Estados/MT",
          "Estados/PB",
          "Estados/PE",
          "Estados/PI",
          "Estados/PR",
          "Estados/RJ",
          "Estados/RN",
          "Estados/RO",
          "Estados/RR",
          "Estados/RS",
          "Estados/SC",
          "Estados/SE",
          "Estados/SP",
          "Estados/AC",
          "Estados/AL",
          "Estados/AM",
          "Estados/AP",
          "Estados/BA",
          "Estados/CE",
          "Estados/ES",
          "Estados/GO",
          "Estados/MA",
          "Estados/MG",
          "Estados/MS",
          "Estados/MT",
          "Estados/PA",
          "Estados/PB",
          "Estados/PE",
          "Estados/PI",
          "Estados/PR",
          "Estados/RJ",
          "Estados/RN",
          "Estados/RO",
          "Estados/RR",
          "Estados/RS",
          "Estados/SC",
          "Estados/SE",
          "Estados/SP",
          "Estados/TO",
          "Estados/MG",
          "Estados/AC",
          "Estados/AL",
          "Estados/BA",
          "Estados/MS",
          "Estados/MT",
          "Estados/PE",
          "Estados/PR",
          "Estados/RJ",
          "Estados/RN",
          "Estados/RO",
          "Estados/RS",
          "Estados/AC",
          "Estados/AL",
          "Estados/AM",
          "Estados/BA",
          "Estados/CE",
          "Estados/ES",
          "Estados/MA",
          "Estados/MG",
          "Estados/MS",
          "Estados/MT",
          "Estados/PA",
          "Estados/PB",
          "Estados/PE",
          "Estados/PI",
          "Estados/PR",
          "Estados/RJ",
          "Estados/RN",
          "Estados/RO",
          "Estados/RR",
          "Estados/RS",
          "Estados/SC",
          "Estados/SE",
          "Estados/TO",
          "Estados/AC",
          "Estados/AC",
          "Estados/AL",
          "Estados/AM",
          "Estados/BA",
          "Estados/CE",
          "Estados/MG",
          "Estados/MS",
          "Estados/MT",
          "Estados/PA",
          "Estados/PB",
          "Estados/PE",
          "Estados/PI",
          "Estados/PR",
          "Estados/RJ",
          "Estados/RN",
          "Estados/RO",
          "Estados/RR",
          "Estados/RS",
          "Estados/SE",
          "Estados/SP",
          "Estados/TO",
          "Estados/AC",
          "Estados/BA",
          "Estados/MG",
          "Estados/PR",
          "Estados/RJ",
          "Estados/AC",
          "Estados/AC",
          "Estados/AM",
          "Estados/BA",
          "Estados/CE",
          "Estados/MG",
          "Estados/PB",
          "Estados/PI",
          "Estados/PR",
          "Estados/RJ",
          "Estados/RO",
          "Estados/RR",
          "Estados/RS",
          "Estados/AC",
          "Estados/AL",
          "Estados/BA",
          "Estados/CE",
          "Estados/MG",
          "Estados/PE",
          "Estados/PI",
          "Estados/RN",
          "Estados/SE",
          "Estados/AC",
          "Estados/AL",
          "Estados/AM",
          "Estados/BA",
          "Estados/CE",
          "Estados/MG",
          "Estados/MS",
          "Estados/MT",
          "Estados/PB",
          "Estados/PI",
          "Estados/PR",
          "Estados/RJ",
          "Estados/RR",
          "Estados/RS",
          "Estados/CE",
          "Estados/PI",
          "Estados/RN",
          "Estados/AC",
          "Estados/MG",
          "Estados/PR",
          "Estados/RJ",
          "Estados/TO",
          "Estados/AC",
          "Estados",
          "Estados",
          "Estados",
          "Estados",
          "Estados",
          "Estados",
          "Estados",
          "Estados",
          "Estados",
          "Estados",
          "Estados",
          "Estados",
          "Estados",
          "Estados",
          "Estados",
          "Estados",
          "Estados",
          "Estados",
          "Estados",
          "Estados",
          "Estados",
          "Estados",
          "Estados",
          "Estados",
          "Estados",
          "Estados",
          ""
         ],
         "root": {
          "color": "lightgrey"
         },
         "type": "treemap",
         "values": [
          7.373210769230769,
          0.037234265734265734,
          0.2584654685314685,
          2.763046635897436,
          0.3126023216783217,
          7.6272485641025645,
          51.06981655303031,
          5.471731354312355,
          1.559855839160839,
          1.4073480512820513,
          0.7902398951048951,
          0.7161975104895105,
          4.644320107342658,
          5.614587564102564,
          2.805383888111888,
          0.2851055944055944,
          3.4681226893939394,
          7.2923700944055945,
          3.095016272027972,
          7.013598874009324,
          1.5698346293706293,
          0.22636363636363635,
          0.277757006993007,
          3.326192745337995,
          6.255739455594405,
          2.4862825571095573,
          9.261745088111889,
          1.5578116438228438,
          5.204008909090909,
          8.911771698368298,
          1.2119252622377623,
          1.7185545454545454,
          0.0012886713286713286,
          2.204565026223776,
          2.2216125314685313,
          16.354894288461537,
          0.06993048951048951,
          2.842030748251748,
          0.5052051468531469,
          88.56705395920746,
          20.618831727272728,
          51.76205895920746,
          0.5907312237762238,
          44.18747161829837,
          10.075192466200466,
          1.631052972027972,
          9.02160056037296,
          0.9262205454545455,
          34.04614615815851,
          27.515322375407926,
          8.455062171095571,
          11.045835460955711,
          26.008412904545455,
          44.25634687972028,
          12.840202274358974,
          36.484835152331,
          305.0685238983683,
          47.99766628403263,
          8.552956836829837,
          25.661003470979022,
          83.34170796620046,
          5.444486673659674,
          1.4883211421911422,
          48.20507928787879,
          1.412433221911422,
          25.793874505244755,
          1.2272648324009323,
          1.6930184475524475,
          2.4919837156177156,
          15.712691414918416,
          1.2065443822843822,
          1.2624474198135198,
          1.0763835244755244,
          0.159489051981352,
          2.079412944055944,
          1.4792977272727272,
          1.5693022494172495,
          32.7655529020979,
          0.07758405594405594,
          0.29412498414918414,
          0.15127135967365968,
          9.024326651515151,
          0.003986013986013986,
          0.10763134778554778,
          4.677824562004662,
          38.568225101748254,
          19.082138014219115,
          12.764786803613054,
          0.39811772727272726,
          50.631894173776224,
          18.164623508624707,
          5.0931830792540795,
          4.322385567365967,
          2.77798868997669,
          97.58105917995339,
          19.898097084149185,
          5.668478763170163,
          0.695112289044289,
          17.184232754195804,
          36.8752448495338,
          16.070001846153847,
          57.954303335198134,
          169.49959530664336,
          54.71347800757576,
          13.821121748368299,
          3.775621776223776,
          56.51951077202797,
          6.003557472261073,
          17.76400338974359,
          0.14009152447552448,
          10.3069436993007,
          0.021278986013986013,
          12.045511426573427,
          0.07468181818181818,
          1.8236128951048953,
          0.07468181818181818,
          0.002951048951048951,
          0.004832746853146853,
          0.001567867132867133,
          0.22753055944055944,
          0.02984848484848485,
          0.06952369930069931,
          1.3142048041958043,
          31.662727519463868,
          4.558804044289045,
          0.8879389160839162,
          0.11816617132867133,
          2.13813187004662,
          0.46007387412587414,
          0.15900885780885782,
          4.896617977389278,
          4.738282995337995,
          4.004323842657342,
          2.487052,
          1.904487848018648,
          1.9046565524475525,
          0.1118226153846154,
          20.704558977855477,
          10.272204621911422,
          7.561953540209791,
          4.902436802447553,
          1.904487848018648,
          5.571881097902098,
          12.392505681818182,
          0.4726146993006993,
          2.9866203146853145,
          1.23340062004662,
          47.89533883986014,
          0.7370352540792541,
          2.562253917832168,
          8.563573362470862,
          2.1220308251748254,
          3.5357027016317013,
          0.7370352540792541,
          1.2182816522144522,
          0.9408193613053613,
          3.3671345804195805,
          3.7747766503496503,
          0.00907972027972028,
          2.2140726083916085,
          556.3525951386946,
          0.008038027972027972,
          0.8583287202797203,
          3.3671345804195805,
          0.4386155874125874,
          0.5338479953379954,
          0.2108442027972028,
          1.4394716153846154,
          5.23603272027972,
          0.09693911888111889,
          0.020435454545454545,
          0.002004741258741259,
          0.04303602797202797,
          0.6658303076923077,
          12.268023168065268,
          0.8591121818181818,
          0.17763995804195803,
          0.0006167832167832168,
          1.4374387237762238,
          0.25842867132867137,
          1.0353138024475526,
          0.44594575757575755,
          4.830718287296037,
          0.016862937062937063,
          0.25842867132867137,
          0.013062937062937064,
          7.342829414918415,
          0.8248601398601398,
          45.90648986993007,
          1.209929867132867,
          14.177833933682983,
          14.474544538461538,
          3.4387939650349653,
          1.5116016503496503,
          14.405925465967366,
          7.127438216783217,
          0.1909304195804196,
          0.0010742657342657344,
          0.14574109090909093,
          0.256216013986014,
          1.1299765192307691,
          0.1909304195804196,
          0.006891608391608391,
          1.498393277972028,
          0.0017665734265734268,
          0.03496497902097902,
          0.2974998041958042,
          1.498393277972028,
          0.0603,
          1.013965034965035,
          1.207299993006993,
          0.008618181818181818,
          1.6004185314685313,
          0.03357147319347319,
          0.004405594405594406,
          1.782325557109557,
          0.004405594405594406,
          32.22735048601399,
          392.4201113111888,
          52.7862776041958,
          73.30202459324009,
          0.9888489510489511,
          155.55086002564101,
          51.48363767937063,
          9.619061981351981,
          13.343986127738928,
          3.8632180932400932,
          162.76944853426573,
          60.03138493065268,
          23.2377564990676,
          15.453924705710955,
          56.05326680407925,
          113.1422632558275,
          39.28859478939394,
          126.42956013659673,
          1101.8273576574593,
          112.20508235862471,
          28.793112735431237,
          39.94253372995338,
          165.6939823418415,
          23.84453584172494,
          37.2586265974359,
          63.00078981212121,
          17.70768608951049,
          2940.0379331867134
         ]
        }
       ],
       "layout": {
        "legend": {
         "tracegroupgap": 0
        },
        "margin": {
         "t": 60
        },
        "template": {
         "data": {
          "bar": [
           {
            "error_x": {
             "color": "#2a3f5f"
            },
            "error_y": {
             "color": "#2a3f5f"
            },
            "marker": {
             "line": {
              "color": "#E5ECF6",
              "width": 0.5
             },
             "pattern": {
              "fillmode": "overlay",
              "size": 10,
              "solidity": 0.2
             }
            },
            "type": "bar"
           }
          ],
          "barpolar": [
           {
            "marker": {
             "line": {
              "color": "#E5ECF6",
              "width": 0.5
             },
             "pattern": {
              "fillmode": "overlay",
              "size": 10,
              "solidity": 0.2
             }
            },
            "type": "barpolar"
           }
          ],
          "carpet": [
           {
            "aaxis": {
             "endlinecolor": "#2a3f5f",
             "gridcolor": "white",
             "linecolor": "white",
             "minorgridcolor": "white",
             "startlinecolor": "#2a3f5f"
            },
            "baxis": {
             "endlinecolor": "#2a3f5f",
             "gridcolor": "white",
             "linecolor": "white",
             "minorgridcolor": "white",
             "startlinecolor": "#2a3f5f"
            },
            "type": "carpet"
           }
          ],
          "choropleth": [
           {
            "colorbar": {
             "outlinewidth": 0,
             "ticks": ""
            },
            "type": "choropleth"
           }
          ],
          "contour": [
           {
            "colorbar": {
             "outlinewidth": 0,
             "ticks": ""
            },
            "colorscale": [
             [
              0,
              "#0d0887"
             ],
             [
              0.1111111111111111,
              "#46039f"
             ],
             [
              0.2222222222222222,
              "#7201a8"
             ],
             [
              0.3333333333333333,
              "#9c179e"
             ],
             [
              0.4444444444444444,
              "#bd3786"
             ],
             [
              0.5555555555555556,
              "#d8576b"
             ],
             [
              0.6666666666666666,
              "#ed7953"
             ],
             [
              0.7777777777777778,
              "#fb9f3a"
             ],
             [
              0.8888888888888888,
              "#fdca26"
             ],
             [
              1,
              "#f0f921"
             ]
            ],
            "type": "contour"
           }
          ],
          "contourcarpet": [
           {
            "colorbar": {
             "outlinewidth": 0,
             "ticks": ""
            },
            "type": "contourcarpet"
           }
          ],
          "heatmap": [
           {
            "colorbar": {
             "outlinewidth": 0,
             "ticks": ""
            },
            "colorscale": [
             [
              0,
              "#0d0887"
             ],
             [
              0.1111111111111111,
              "#46039f"
             ],
             [
              0.2222222222222222,
              "#7201a8"
             ],
             [
              0.3333333333333333,
              "#9c179e"
             ],
             [
              0.4444444444444444,
              "#bd3786"
             ],
             [
              0.5555555555555556,
              "#d8576b"
             ],
             [
              0.6666666666666666,
              "#ed7953"
             ],
             [
              0.7777777777777778,
              "#fb9f3a"
             ],
             [
              0.8888888888888888,
              "#fdca26"
             ],
             [
              1,
              "#f0f921"
             ]
            ],
            "type": "heatmap"
           }
          ],
          "heatmapgl": [
           {
            "colorbar": {
             "outlinewidth": 0,
             "ticks": ""
            },
            "colorscale": [
             [
              0,
              "#0d0887"
             ],
             [
              0.1111111111111111,
              "#46039f"
             ],
             [
              0.2222222222222222,
              "#7201a8"
             ],
             [
              0.3333333333333333,
              "#9c179e"
             ],
             [
              0.4444444444444444,
              "#bd3786"
             ],
             [
              0.5555555555555556,
              "#d8576b"
             ],
             [
              0.6666666666666666,
              "#ed7953"
             ],
             [
              0.7777777777777778,
              "#fb9f3a"
             ],
             [
              0.8888888888888888,
              "#fdca26"
             ],
             [
              1,
              "#f0f921"
             ]
            ],
            "type": "heatmapgl"
           }
          ],
          "histogram": [
           {
            "marker": {
             "pattern": {
              "fillmode": "overlay",
              "size": 10,
              "solidity": 0.2
             }
            },
            "type": "histogram"
           }
          ],
          "histogram2d": [
           {
            "colorbar": {
             "outlinewidth": 0,
             "ticks": ""
            },
            "colorscale": [
             [
              0,
              "#0d0887"
             ],
             [
              0.1111111111111111,
              "#46039f"
             ],
             [
              0.2222222222222222,
              "#7201a8"
             ],
             [
              0.3333333333333333,
              "#9c179e"
             ],
             [
              0.4444444444444444,
              "#bd3786"
             ],
             [
              0.5555555555555556,
              "#d8576b"
             ],
             [
              0.6666666666666666,
              "#ed7953"
             ],
             [
              0.7777777777777778,
              "#fb9f3a"
             ],
             [
              0.8888888888888888,
              "#fdca26"
             ],
             [
              1,
              "#f0f921"
             ]
            ],
            "type": "histogram2d"
           }
          ],
          "histogram2dcontour": [
           {
            "colorbar": {
             "outlinewidth": 0,
             "ticks": ""
            },
            "colorscale": [
             [
              0,
              "#0d0887"
             ],
             [
              0.1111111111111111,
              "#46039f"
             ],
             [
              0.2222222222222222,
              "#7201a8"
             ],
             [
              0.3333333333333333,
              "#9c179e"
             ],
             [
              0.4444444444444444,
              "#bd3786"
             ],
             [
              0.5555555555555556,
              "#d8576b"
             ],
             [
              0.6666666666666666,
              "#ed7953"
             ],
             [
              0.7777777777777778,
              "#fb9f3a"
             ],
             [
              0.8888888888888888,
              "#fdca26"
             ],
             [
              1,
              "#f0f921"
             ]
            ],
            "type": "histogram2dcontour"
           }
          ],
          "mesh3d": [
           {
            "colorbar": {
             "outlinewidth": 0,
             "ticks": ""
            },
            "type": "mesh3d"
           }
          ],
          "parcoords": [
           {
            "line": {
             "colorbar": {
              "outlinewidth": 0,
              "ticks": ""
             }
            },
            "type": "parcoords"
           }
          ],
          "pie": [
           {
            "automargin": true,
            "type": "pie"
           }
          ],
          "scatter": [
           {
            "marker": {
             "colorbar": {
              "outlinewidth": 0,
              "ticks": ""
             }
            },
            "type": "scatter"
           }
          ],
          "scatter3d": [
           {
            "line": {
             "colorbar": {
              "outlinewidth": 0,
              "ticks": ""
             }
            },
            "marker": {
             "colorbar": {
              "outlinewidth": 0,
              "ticks": ""
             }
            },
            "type": "scatter3d"
           }
          ],
          "scattercarpet": [
           {
            "marker": {
             "colorbar": {
              "outlinewidth": 0,
              "ticks": ""
             }
            },
            "type": "scattercarpet"
           }
          ],
          "scattergeo": [
           {
            "marker": {
             "colorbar": {
              "outlinewidth": 0,
              "ticks": ""
             }
            },
            "type": "scattergeo"
           }
          ],
          "scattergl": [
           {
            "marker": {
             "colorbar": {
              "outlinewidth": 0,
              "ticks": ""
             }
            },
            "type": "scattergl"
           }
          ],
          "scattermapbox": [
           {
            "marker": {
             "colorbar": {
              "outlinewidth": 0,
              "ticks": ""
             }
            },
            "type": "scattermapbox"
           }
          ],
          "scatterpolar": [
           {
            "marker": {
             "colorbar": {
              "outlinewidth": 0,
              "ticks": ""
             }
            },
            "type": "scatterpolar"
           }
          ],
          "scatterpolargl": [
           {
            "marker": {
             "colorbar": {
              "outlinewidth": 0,
              "ticks": ""
             }
            },
            "type": "scatterpolargl"
           }
          ],
          "scatterternary": [
           {
            "marker": {
             "colorbar": {
              "outlinewidth": 0,
              "ticks": ""
             }
            },
            "type": "scatterternary"
           }
          ],
          "surface": [
           {
            "colorbar": {
             "outlinewidth": 0,
             "ticks": ""
            },
            "colorscale": [
             [
              0,
              "#0d0887"
             ],
             [
              0.1111111111111111,
              "#46039f"
             ],
             [
              0.2222222222222222,
              "#7201a8"
             ],
             [
              0.3333333333333333,
              "#9c179e"
             ],
             [
              0.4444444444444444,
              "#bd3786"
             ],
             [
              0.5555555555555556,
              "#d8576b"
             ],
             [
              0.6666666666666666,
              "#ed7953"
             ],
             [
              0.7777777777777778,
              "#fb9f3a"
             ],
             [
              0.8888888888888888,
              "#fdca26"
             ],
             [
              1,
              "#f0f921"
             ]
            ],
            "type": "surface"
           }
          ],
          "table": [
           {
            "cells": {
             "fill": {
              "color": "#EBF0F8"
             },
             "line": {
              "color": "white"
             }
            },
            "header": {
             "fill": {
              "color": "#C8D4E3"
             },
             "line": {
              "color": "white"
             }
            },
            "type": "table"
           }
          ]
         },
         "layout": {
          "annotationdefaults": {
           "arrowcolor": "#2a3f5f",
           "arrowhead": 0,
           "arrowwidth": 1
          },
          "autotypenumbers": "strict",
          "coloraxis": {
           "colorbar": {
            "outlinewidth": 0,
            "ticks": ""
           }
          },
          "colorscale": {
           "diverging": [
            [
             0,
             "#8e0152"
            ],
            [
             0.1,
             "#c51b7d"
            ],
            [
             0.2,
             "#de77ae"
            ],
            [
             0.3,
             "#f1b6da"
            ],
            [
             0.4,
             "#fde0ef"
            ],
            [
             0.5,
             "#f7f7f7"
            ],
            [
             0.6,
             "#e6f5d0"
            ],
            [
             0.7,
             "#b8e186"
            ],
            [
             0.8,
             "#7fbc41"
            ],
            [
             0.9,
             "#4d9221"
            ],
            [
             1,
             "#276419"
            ]
           ],
           "sequential": [
            [
             0,
             "#0d0887"
            ],
            [
             0.1111111111111111,
             "#46039f"
            ],
            [
             0.2222222222222222,
             "#7201a8"
            ],
            [
             0.3333333333333333,
             "#9c179e"
            ],
            [
             0.4444444444444444,
             "#bd3786"
            ],
            [
             0.5555555555555556,
             "#d8576b"
            ],
            [
             0.6666666666666666,
             "#ed7953"
            ],
            [
             0.7777777777777778,
             "#fb9f3a"
            ],
            [
             0.8888888888888888,
             "#fdca26"
            ],
            [
             1,
             "#f0f921"
            ]
           ],
           "sequentialminus": [
            [
             0,
             "#0d0887"
            ],
            [
             0.1111111111111111,
             "#46039f"
            ],
            [
             0.2222222222222222,
             "#7201a8"
            ],
            [
             0.3333333333333333,
             "#9c179e"
            ],
            [
             0.4444444444444444,
             "#bd3786"
            ],
            [
             0.5555555555555556,
             "#d8576b"
            ],
            [
             0.6666666666666666,
             "#ed7953"
            ],
            [
             0.7777777777777778,
             "#fb9f3a"
            ],
            [
             0.8888888888888888,
             "#fdca26"
            ],
            [
             1,
             "#f0f921"
            ]
           ]
          },
          "colorway": [
           "#636efa",
           "#EF553B",
           "#00cc96",
           "#ab63fa",
           "#FFA15A",
           "#19d3f3",
           "#FF6692",
           "#B6E880",
           "#FF97FF",
           "#FECB52"
          ],
          "font": {
           "color": "#2a3f5f"
          },
          "geo": {
           "bgcolor": "white",
           "lakecolor": "white",
           "landcolor": "#E5ECF6",
           "showlakes": true,
           "showland": true,
           "subunitcolor": "white"
          },
          "hoverlabel": {
           "align": "left"
          },
          "hovermode": "closest",
          "mapbox": {
           "style": "light"
          },
          "paper_bgcolor": "white",
          "plot_bgcolor": "#E5ECF6",
          "polar": {
           "angularaxis": {
            "gridcolor": "white",
            "linecolor": "white",
            "ticks": ""
           },
           "bgcolor": "#E5ECF6",
           "radialaxis": {
            "gridcolor": "white",
            "linecolor": "white",
            "ticks": ""
           }
          },
          "scene": {
           "xaxis": {
            "backgroundcolor": "#E5ECF6",
            "gridcolor": "white",
            "gridwidth": 2,
            "linecolor": "white",
            "showbackground": true,
            "ticks": "",
            "zerolinecolor": "white"
           },
           "yaxis": {
            "backgroundcolor": "#E5ECF6",
            "gridcolor": "white",
            "gridwidth": 2,
            "linecolor": "white",
            "showbackground": true,
            "ticks": "",
            "zerolinecolor": "white"
           },
           "zaxis": {
            "backgroundcolor": "#E5ECF6",
            "gridcolor": "white",
            "gridwidth": 2,
            "linecolor": "white",
            "showbackground": true,
            "ticks": "",
            "zerolinecolor": "white"
           }
          },
          "shapedefaults": {
           "line": {
            "color": "#2a3f5f"
           }
          },
          "ternary": {
           "aaxis": {
            "gridcolor": "white",
            "linecolor": "white",
            "ticks": ""
           },
           "baxis": {
            "gridcolor": "white",
            "linecolor": "white",
            "ticks": ""
           },
           "bgcolor": "#E5ECF6",
           "caxis": {
            "gridcolor": "white",
            "linecolor": "white",
            "ticks": ""
           }
          },
          "title": {
           "x": 0.05
          },
          "xaxis": {
           "automargin": true,
           "gridcolor": "white",
           "linecolor": "white",
           "ticks": "",
           "title": {
            "standoff": 15
           },
           "zerolinecolor": "white",
           "zerolinewidth": 2
          },
          "yaxis": {
           "automargin": true,
           "gridcolor": "white",
           "linecolor": "white",
           "ticks": "",
           "title": {
            "standoff": 15
           },
           "zerolinecolor": "white",
           "zerolinewidth": 2
          }
         }
        },
        "title": {
         "text": "KPIs estatais"
        },
        "uniformtext": {
         "minsize": 14
        }
       }
      }
     },
     "metadata": {},
     "output_type": "display_data"
    }
   ],
   "source": [
    "import plotly.express as px\n",
    " \n",
    "fig = px.treemap(dict(dd2),path=[px.Constant('Estados'),dd2['UF'],'Nome Órgão Superior'],\n",
    "                 values='pct_do_teto',\n",
    "                 labels=['Estados'],maxdepth=3)\n",
    " #           values='Total de Licitações')\n",
    "fig.update_layout(uniformtext_minsize=14)\n",
    "fig.update_traces(root_color=\"lightgrey\")\n",
    "fig.update_layout(\n",
    "    title_text='KPIs estatais'\n",
    ")\n",
    "fig.show()"
   ]
  },
  {
   "cell_type": "code",
   "execution_count": 16,
   "id": "3236a0be",
   "metadata": {},
   "outputs": [
    {
     "name": "stderr",
     "output_type": "stream",
     "text": [
      "c:\\Users\\efvs\\miniconda3\\envs\\rsd\\lib\\site-packages\\plotly\\express\\_core.py:1637: FutureWarning:\n",
      "\n",
      "The frame.append method is deprecated and will be removed from pandas in a future version. Use pandas.concat instead.\n",
      "\n",
      "c:\\Users\\efvs\\miniconda3\\envs\\rsd\\lib\\site-packages\\plotly\\express\\_core.py:1637: FutureWarning:\n",
      "\n",
      "The frame.append method is deprecated and will be removed from pandas in a future version. Use pandas.concat instead.\n",
      "\n",
      "c:\\Users\\efvs\\miniconda3\\envs\\rsd\\lib\\site-packages\\plotly\\express\\_core.py:1637: FutureWarning:\n",
      "\n",
      "The frame.append method is deprecated and will be removed from pandas in a future version. Use pandas.concat instead.\n",
      "\n"
     ]
    },
    {
     "data": {
      "application/vnd.plotly.v1+json": {
       "config": {
        "plotlyServerURL": "https://plot.ly"
       },
       "data": [
        {
         "branchvalues": "total",
         "domain": {
          "x": [
           0,
           1
          ],
          "y": [
           0,
           1
          ]
         },
         "hovertemplate": "labels=%{label}<br>Total=%{value}<br>parent=%{parent}<br>id=%{id}<extra></extra>",
         "ids": [
          "Estados/AC/Advocacia-Geral da União",
          "Estados/MG/Advocacia-Geral da União",
          "Estados/PE/Advocacia-Geral da União",
          "Estados/RJ/Advocacia-Geral da União",
          "Estados/RS/Advocacia-Geral da União",
          "Estados/AC/Controladoria-Geral da União",
          "Estados/AC/Ministério da Agricultura, Pecuária e Abastec",
          "Estados/AL/Ministério da Agricultura, Pecuária e Abastec",
          "Estados/AM/Ministério da Agricultura, Pecuária e Abastec",
          "Estados/BA/Ministério da Agricultura, Pecuária e Abastec",
          "Estados/CE/Ministério da Agricultura, Pecuária e Abastec",
          "Estados/ES/Ministério da Agricultura, Pecuária e Abastec",
          "Estados/MG/Ministério da Agricultura, Pecuária e Abastec",
          "Estados/MS/Ministério da Agricultura, Pecuária e Abastec",
          "Estados/MT/Ministério da Agricultura, Pecuária e Abastec",
          "Estados/PA/Ministério da Agricultura, Pecuária e Abastec",
          "Estados/PB/Ministério da Agricultura, Pecuária e Abastec",
          "Estados/PE/Ministério da Agricultura, Pecuária e Abastec",
          "Estados/PI/Ministério da Agricultura, Pecuária e Abastec",
          "Estados/PR/Ministério da Agricultura, Pecuária e Abastec",
          "Estados/RJ/Ministério da Agricultura, Pecuária e Abastec",
          "Estados/RN/Ministério da Agricultura, Pecuária e Abastec",
          "Estados/RO/Ministério da Agricultura, Pecuária e Abastec",
          "Estados/RR/Ministério da Agricultura, Pecuária e Abastec",
          "Estados/RS/Ministério da Agricultura, Pecuária e Abastec",
          "Estados/SE/Ministério da Agricultura, Pecuária e Abastec",
          "Estados/SP/Ministério da Agricultura, Pecuária e Abastec",
          "Estados/TO/Ministério da Agricultura, Pecuária e Abastec",
          "Estados/AC/Ministério da Cidadania",
          "Estados/AC/Ministério da Ciência, Tecnologia, Inovações ",
          "Estados/AM/Ministério da Ciência, Tecnologia, Inovações ",
          "Estados/ES/Ministério da Ciência, Tecnologia, Inovações ",
          "Estados/MG/Ministério da Ciência, Tecnologia, Inovações ",
          "Estados/PB/Ministério da Ciência, Tecnologia, Inovações ",
          "Estados/PE/Ministério da Ciência, Tecnologia, Inovações ",
          "Estados/RJ/Ministério da Ciência, Tecnologia, Inovações ",
          "Estados/RN/Ministério da Ciência, Tecnologia, Inovações ",
          "Estados/RS/Ministério da Ciência, Tecnologia, Inovações ",
          "Estados/SP/Ministério da Ciência, Tecnologia, Inovações ",
          "Estados/AC/Ministério da Defesa",
          "Estados/AL/Ministério da Defesa",
          "Estados/AM/Ministério da Defesa",
          "Estados/AP/Ministério da Defesa",
          "Estados/BA/Ministério da Defesa",
          "Estados/CE/Ministério da Defesa",
          "Estados/ES/Ministério da Defesa",
          "Estados/GO/Ministério da Defesa",
          "Estados/MA/Ministério da Defesa",
          "Estados/MG/Ministério da Defesa",
          "Estados/MS/Ministério da Defesa",
          "Estados/MT/Ministério da Defesa",
          "Estados/PA/Ministério da Defesa",
          "Estados/PB/Ministério da Defesa",
          "Estados/PE/Ministério da Defesa",
          "Estados/PI/Ministério da Defesa",
          "Estados/PR/Ministério da Defesa",
          "Estados/RJ/Ministério da Defesa",
          "Estados/RN/Ministério da Defesa",
          "Estados/RO/Ministério da Defesa",
          "Estados/RR/Ministério da Defesa",
          "Estados/RS/Ministério da Defesa",
          "Estados/SC/Ministério da Defesa",
          "Estados/SE/Ministério da Defesa",
          "Estados/SP/Ministério da Defesa",
          "Estados/TO/Ministério da Defesa",
          "Estados/AC/Ministério da Economia",
          "Estados/AL/Ministério da Economia",
          "Estados/AM/Ministério da Economia",
          "Estados/BA/Ministério da Economia",
          "Estados/CE/Ministério da Economia",
          "Estados/MG/Ministério da Economia",
          "Estados/MS/Ministério da Economia",
          "Estados/MT/Ministério da Economia",
          "Estados/PB/Ministério da Economia",
          "Estados/PE/Ministério da Economia",
          "Estados/PI/Ministério da Economia",
          "Estados/PR/Ministério da Economia",
          "Estados/RJ/Ministério da Economia",
          "Estados/RN/Ministério da Economia",
          "Estados/RO/Ministério da Economia",
          "Estados/RR/Ministério da Economia",
          "Estados/RS/Ministério da Economia",
          "Estados/SC/Ministério da Economia",
          "Estados/SE/Ministério da Economia",
          "Estados/SP/Ministério da Economia",
          "Estados/AC/Ministério da Educação",
          "Estados/AL/Ministério da Educação",
          "Estados/AM/Ministério da Educação",
          "Estados/AP/Ministério da Educação",
          "Estados/BA/Ministério da Educação",
          "Estados/CE/Ministério da Educação",
          "Estados/ES/Ministério da Educação",
          "Estados/GO/Ministério da Educação",
          "Estados/MA/Ministério da Educação",
          "Estados/MG/Ministério da Educação",
          "Estados/MS/Ministério da Educação",
          "Estados/MT/Ministério da Educação",
          "Estados/PA/Ministério da Educação",
          "Estados/PB/Ministério da Educação",
          "Estados/PE/Ministério da Educação",
          "Estados/PI/Ministério da Educação",
          "Estados/PR/Ministério da Educação",
          "Estados/RJ/Ministério da Educação",
          "Estados/RN/Ministério da Educação",
          "Estados/RO/Ministério da Educação",
          "Estados/RR/Ministério da Educação",
          "Estados/RS/Ministério da Educação",
          "Estados/SC/Ministério da Educação",
          "Estados/SE/Ministério da Educação",
          "Estados/SP/Ministério da Educação",
          "Estados/TO/Ministério da Educação",
          "Estados/MG/Ministério da Indústria, Comércio Exterior e ",
          "Estados/AC/Ministério da Infraestrutura",
          "Estados/AL/Ministério da Infraestrutura",
          "Estados/BA/Ministério da Infraestrutura",
          "Estados/MS/Ministério da Infraestrutura",
          "Estados/MT/Ministério da Infraestrutura",
          "Estados/PB/Ministério da Infraestrutura",
          "Estados/PE/Ministério da Infraestrutura",
          "Estados/PR/Ministério da Infraestrutura",
          "Estados/RJ/Ministério da Infraestrutura",
          "Estados/RN/Ministério da Infraestrutura",
          "Estados/RO/Ministério da Infraestrutura",
          "Estados/RR/Ministério da Infraestrutura",
          "Estados/RS/Ministério da Infraestrutura",
          "Estados/SE/Ministério da Infraestrutura",
          "Estados/AC/Ministério da Justiça e Segurança Pública",
          "Estados/AL/Ministério da Justiça e Segurança Pública",
          "Estados/AM/Ministério da Justiça e Segurança Pública",
          "Estados/BA/Ministério da Justiça e Segurança Pública",
          "Estados/CE/Ministério da Justiça e Segurança Pública",
          "Estados/ES/Ministério da Justiça e Segurança Pública",
          "Estados/MA/Ministério da Justiça e Segurança Pública",
          "Estados/MG/Ministério da Justiça e Segurança Pública",
          "Estados/MS/Ministério da Justiça e Segurança Pública",
          "Estados/MT/Ministério da Justiça e Segurança Pública",
          "Estados/PA/Ministério da Justiça e Segurança Pública",
          "Estados/PB/Ministério da Justiça e Segurança Pública",
          "Estados/PE/Ministério da Justiça e Segurança Pública",
          "Estados/PI/Ministério da Justiça e Segurança Pública",
          "Estados/PR/Ministério da Justiça e Segurança Pública",
          "Estados/RJ/Ministério da Justiça e Segurança Pública",
          "Estados/RN/Ministério da Justiça e Segurança Pública",
          "Estados/RO/Ministério da Justiça e Segurança Pública",
          "Estados/RR/Ministério da Justiça e Segurança Pública",
          "Estados/RS/Ministério da Justiça e Segurança Pública",
          "Estados/SC/Ministério da Justiça e Segurança Pública",
          "Estados/SE/Ministério da Justiça e Segurança Pública",
          "Estados/TO/Ministério da Justiça e Segurança Pública",
          "Estados/AC/Ministério da Mulher, Família e Direitos Huma",
          "Estados/AC/Ministério da Saúde",
          "Estados/AL/Ministério da Saúde",
          "Estados/AM/Ministério da Saúde",
          "Estados/BA/Ministério da Saúde",
          "Estados/CE/Ministério da Saúde",
          "Estados/MG/Ministério da Saúde",
          "Estados/MS/Ministério da Saúde",
          "Estados/MT/Ministério da Saúde",
          "Estados/PA/Ministério da Saúde",
          "Estados/PB/Ministério da Saúde",
          "Estados/PE/Ministério da Saúde",
          "Estados/PI/Ministério da Saúde",
          "Estados/PR/Ministério da Saúde",
          "Estados/RJ/Ministério da Saúde",
          "Estados/RN/Ministério da Saúde",
          "Estados/RO/Ministério da Saúde",
          "Estados/RR/Ministério da Saúde",
          "Estados/RS/Ministério da Saúde",
          "Estados/SE/Ministério da Saúde",
          "Estados/SP/Ministério da Saúde",
          "Estados/TO/Ministério da Saúde",
          "Estados/AC/Ministério das Comunicações",
          "Estados/BA/Ministério das Comunicações",
          "Estados/MG/Ministério das Comunicações",
          "Estados/PE/Ministério das Comunicações",
          "Estados/PR/Ministério das Comunicações",
          "Estados/RJ/Ministério das Comunicações",
          "Estados/AC/Ministério das Relações Exteriores",
          "Estados/AC/Ministério de Minas e Energia",
          "Estados/AM/Ministério de Minas e Energia",
          "Estados/BA/Ministério de Minas e Energia",
          "Estados/CE/Ministério de Minas e Energia",
          "Estados/MG/Ministério de Minas e Energia",
          "Estados/PB/Ministério de Minas e Energia",
          "Estados/PI/Ministério de Minas e Energia",
          "Estados/PR/Ministério de Minas e Energia",
          "Estados/RJ/Ministério de Minas e Energia",
          "Estados/RO/Ministério de Minas e Energia",
          "Estados/RR/Ministério de Minas e Energia",
          "Estados/RS/Ministério de Minas e Energia",
          "Estados/AC/Ministério do Desenvolvimento Regional",
          "Estados/AL/Ministério do Desenvolvimento Regional",
          "Estados/BA/Ministério do Desenvolvimento Regional",
          "Estados/CE/Ministério do Desenvolvimento Regional",
          "Estados/MG/Ministério do Desenvolvimento Regional",
          "Estados/PE/Ministério do Desenvolvimento Regional",
          "Estados/PI/Ministério do Desenvolvimento Regional",
          "Estados/RN/Ministério do Desenvolvimento Regional",
          "Estados/SE/Ministério do Desenvolvimento Regional",
          "Estados/AC/Ministério do Meio Ambiente",
          "Estados/AL/Ministério do Meio Ambiente",
          "Estados/AM/Ministério do Meio Ambiente",
          "Estados/BA/Ministério do Meio Ambiente",
          "Estados/CE/Ministério do Meio Ambiente",
          "Estados/MG/Ministério do Meio Ambiente",
          "Estados/MS/Ministério do Meio Ambiente",
          "Estados/MT/Ministério do Meio Ambiente",
          "Estados/PB/Ministério do Meio Ambiente",
          "Estados/PI/Ministério do Meio Ambiente",
          "Estados/PR/Ministério do Meio Ambiente",
          "Estados/RJ/Ministério do Meio Ambiente",
          "Estados/RO/Ministério do Meio Ambiente",
          "Estados/RR/Ministério do Meio Ambiente",
          "Estados/RS/Ministério do Meio Ambiente",
          "Estados/TO/Ministério do Meio Ambiente",
          "Estados/CE/Ministério do Trabalho e Emprego",
          "Estados/PI/Ministério do Trabalho e Emprego",
          "Estados/RN/Ministério do Trabalho e Emprego",
          "Estados/AC/Ministério do Turismo",
          "Estados/MG/Ministério do Turismo",
          "Estados/PR/Ministério do Turismo",
          "Estados/RJ/Ministério do Turismo",
          "Estados/TO/Ministério do Turismo",
          "Estados/AC/Presidência da República",
          "Estados/AC",
          "Estados/AL",
          "Estados/AM",
          "Estados/AP",
          "Estados/BA",
          "Estados/CE",
          "Estados/ES",
          "Estados/GO",
          "Estados/MA",
          "Estados/MG",
          "Estados/MS",
          "Estados/MT",
          "Estados/PA",
          "Estados/PB",
          "Estados/PE",
          "Estados/PI",
          "Estados/PR",
          "Estados/RJ",
          "Estados/RN",
          "Estados/RO",
          "Estados/RR",
          "Estados/RS",
          "Estados/SC",
          "Estados/SE",
          "Estados/SP",
          "Estados/TO",
          "Estados"
         ],
         "labels": [
          "Advocacia-Geral da União",
          "Advocacia-Geral da União",
          "Advocacia-Geral da União",
          "Advocacia-Geral da União",
          "Advocacia-Geral da União",
          "Controladoria-Geral da União",
          "Ministério da Agricultura, Pecuária e Abastec",
          "Ministério da Agricultura, Pecuária e Abastec",
          "Ministério da Agricultura, Pecuária e Abastec",
          "Ministério da Agricultura, Pecuária e Abastec",
          "Ministério da Agricultura, Pecuária e Abastec",
          "Ministério da Agricultura, Pecuária e Abastec",
          "Ministério da Agricultura, Pecuária e Abastec",
          "Ministério da Agricultura, Pecuária e Abastec",
          "Ministério da Agricultura, Pecuária e Abastec",
          "Ministério da Agricultura, Pecuária e Abastec",
          "Ministério da Agricultura, Pecuária e Abastec",
          "Ministério da Agricultura, Pecuária e Abastec",
          "Ministério da Agricultura, Pecuária e Abastec",
          "Ministério da Agricultura, Pecuária e Abastec",
          "Ministério da Agricultura, Pecuária e Abastec",
          "Ministério da Agricultura, Pecuária e Abastec",
          "Ministério da Agricultura, Pecuária e Abastec",
          "Ministério da Agricultura, Pecuária e Abastec",
          "Ministério da Agricultura, Pecuária e Abastec",
          "Ministério da Agricultura, Pecuária e Abastec",
          "Ministério da Agricultura, Pecuária e Abastec",
          "Ministério da Agricultura, Pecuária e Abastec",
          "Ministério da Cidadania",
          "Ministério da Ciência, Tecnologia, Inovações ",
          "Ministério da Ciência, Tecnologia, Inovações ",
          "Ministério da Ciência, Tecnologia, Inovações ",
          "Ministério da Ciência, Tecnologia, Inovações ",
          "Ministério da Ciência, Tecnologia, Inovações ",
          "Ministério da Ciência, Tecnologia, Inovações ",
          "Ministério da Ciência, Tecnologia, Inovações ",
          "Ministério da Ciência, Tecnologia, Inovações ",
          "Ministério da Ciência, Tecnologia, Inovações ",
          "Ministério da Ciência, Tecnologia, Inovações ",
          "Ministério da Defesa",
          "Ministério da Defesa",
          "Ministério da Defesa",
          "Ministério da Defesa",
          "Ministério da Defesa",
          "Ministério da Defesa",
          "Ministério da Defesa",
          "Ministério da Defesa",
          "Ministério da Defesa",
          "Ministério da Defesa",
          "Ministério da Defesa",
          "Ministério da Defesa",
          "Ministério da Defesa",
          "Ministério da Defesa",
          "Ministério da Defesa",
          "Ministério da Defesa",
          "Ministério da Defesa",
          "Ministério da Defesa",
          "Ministério da Defesa",
          "Ministério da Defesa",
          "Ministério da Defesa",
          "Ministério da Defesa",
          "Ministério da Defesa",
          "Ministério da Defesa",
          "Ministério da Defesa",
          "Ministério da Defesa",
          "Ministério da Economia",
          "Ministério da Economia",
          "Ministério da Economia",
          "Ministério da Economia",
          "Ministério da Economia",
          "Ministério da Economia",
          "Ministério da Economia",
          "Ministério da Economia",
          "Ministério da Economia",
          "Ministério da Economia",
          "Ministério da Economia",
          "Ministério da Economia",
          "Ministério da Economia",
          "Ministério da Economia",
          "Ministério da Economia",
          "Ministério da Economia",
          "Ministério da Economia",
          "Ministério da Economia",
          "Ministério da Economia",
          "Ministério da Economia",
          "Ministério da Educação",
          "Ministério da Educação",
          "Ministério da Educação",
          "Ministério da Educação",
          "Ministério da Educação",
          "Ministério da Educação",
          "Ministério da Educação",
          "Ministério da Educação",
          "Ministério da Educação",
          "Ministério da Educação",
          "Ministério da Educação",
          "Ministério da Educação",
          "Ministério da Educação",
          "Ministério da Educação",
          "Ministério da Educação",
          "Ministério da Educação",
          "Ministério da Educação",
          "Ministério da Educação",
          "Ministério da Educação",
          "Ministério da Educação",
          "Ministério da Educação",
          "Ministério da Educação",
          "Ministério da Educação",
          "Ministério da Educação",
          "Ministério da Educação",
          "Ministério da Educação",
          "Ministério da Indústria, Comércio Exterior e ",
          "Ministério da Infraestrutura",
          "Ministério da Infraestrutura",
          "Ministério da Infraestrutura",
          "Ministério da Infraestrutura",
          "Ministério da Infraestrutura",
          "Ministério da Infraestrutura",
          "Ministério da Infraestrutura",
          "Ministério da Infraestrutura",
          "Ministério da Infraestrutura",
          "Ministério da Infraestrutura",
          "Ministério da Infraestrutura",
          "Ministério da Infraestrutura",
          "Ministério da Infraestrutura",
          "Ministério da Infraestrutura",
          "Ministério da Justiça e Segurança Pública",
          "Ministério da Justiça e Segurança Pública",
          "Ministério da Justiça e Segurança Pública",
          "Ministério da Justiça e Segurança Pública",
          "Ministério da Justiça e Segurança Pública",
          "Ministério da Justiça e Segurança Pública",
          "Ministério da Justiça e Segurança Pública",
          "Ministério da Justiça e Segurança Pública",
          "Ministério da Justiça e Segurança Pública",
          "Ministério da Justiça e Segurança Pública",
          "Ministério da Justiça e Segurança Pública",
          "Ministério da Justiça e Segurança Pública",
          "Ministério da Justiça e Segurança Pública",
          "Ministério da Justiça e Segurança Pública",
          "Ministério da Justiça e Segurança Pública",
          "Ministério da Justiça e Segurança Pública",
          "Ministério da Justiça e Segurança Pública",
          "Ministério da Justiça e Segurança Pública",
          "Ministério da Justiça e Segurança Pública",
          "Ministério da Justiça e Segurança Pública",
          "Ministério da Justiça e Segurança Pública",
          "Ministério da Justiça e Segurança Pública",
          "Ministério da Justiça e Segurança Pública",
          "Ministério da Mulher, Família e Direitos Huma",
          "Ministério da Saúde",
          "Ministério da Saúde",
          "Ministério da Saúde",
          "Ministério da Saúde",
          "Ministério da Saúde",
          "Ministério da Saúde",
          "Ministério da Saúde",
          "Ministério da Saúde",
          "Ministério da Saúde",
          "Ministério da Saúde",
          "Ministério da Saúde",
          "Ministério da Saúde",
          "Ministério da Saúde",
          "Ministério da Saúde",
          "Ministério da Saúde",
          "Ministério da Saúde",
          "Ministério da Saúde",
          "Ministério da Saúde",
          "Ministério da Saúde",
          "Ministério da Saúde",
          "Ministério da Saúde",
          "Ministério das Comunicações",
          "Ministério das Comunicações",
          "Ministério das Comunicações",
          "Ministério das Comunicações",
          "Ministério das Comunicações",
          "Ministério das Comunicações",
          "Ministério das Relações Exteriores",
          "Ministério de Minas e Energia",
          "Ministério de Minas e Energia",
          "Ministério de Minas e Energia",
          "Ministério de Minas e Energia",
          "Ministério de Minas e Energia",
          "Ministério de Minas e Energia",
          "Ministério de Minas e Energia",
          "Ministério de Minas e Energia",
          "Ministério de Minas e Energia",
          "Ministério de Minas e Energia",
          "Ministério de Minas e Energia",
          "Ministério de Minas e Energia",
          "Ministério do Desenvolvimento Regional",
          "Ministério do Desenvolvimento Regional",
          "Ministério do Desenvolvimento Regional",
          "Ministério do Desenvolvimento Regional",
          "Ministério do Desenvolvimento Regional",
          "Ministério do Desenvolvimento Regional",
          "Ministério do Desenvolvimento Regional",
          "Ministério do Desenvolvimento Regional",
          "Ministério do Desenvolvimento Regional",
          "Ministério do Meio Ambiente",
          "Ministério do Meio Ambiente",
          "Ministério do Meio Ambiente",
          "Ministério do Meio Ambiente",
          "Ministério do Meio Ambiente",
          "Ministério do Meio Ambiente",
          "Ministério do Meio Ambiente",
          "Ministério do Meio Ambiente",
          "Ministério do Meio Ambiente",
          "Ministério do Meio Ambiente",
          "Ministério do Meio Ambiente",
          "Ministério do Meio Ambiente",
          "Ministério do Meio Ambiente",
          "Ministério do Meio Ambiente",
          "Ministério do Meio Ambiente",
          "Ministério do Meio Ambiente",
          "Ministério do Trabalho e Emprego",
          "Ministério do Trabalho e Emprego",
          "Ministério do Trabalho e Emprego",
          "Ministério do Turismo",
          "Ministério do Turismo",
          "Ministério do Turismo",
          "Ministério do Turismo",
          "Ministério do Turismo",
          "Presidência da República",
          "AC",
          "AL",
          "AM",
          "AP",
          "BA",
          "CE",
          "ES",
          "GO",
          "MA",
          "MG",
          "MS",
          "MT",
          "PA",
          "PB",
          "PE",
          "PI",
          "PR",
          "RJ",
          "RN",
          "RO",
          "RR",
          "RS",
          "SC",
          "SE",
          "SP",
          "TO",
          "Estados"
         ],
         "maxdepth": 3,
         "name": "",
         "parents": [
          "Estados/AC",
          "Estados/MG",
          "Estados/PE",
          "Estados/RJ",
          "Estados/RS",
          "Estados/AC",
          "Estados/AC",
          "Estados/AL",
          "Estados/AM",
          "Estados/BA",
          "Estados/CE",
          "Estados/ES",
          "Estados/MG",
          "Estados/MS",
          "Estados/MT",
          "Estados/PA",
          "Estados/PB",
          "Estados/PE",
          "Estados/PI",
          "Estados/PR",
          "Estados/RJ",
          "Estados/RN",
          "Estados/RO",
          "Estados/RR",
          "Estados/RS",
          "Estados/SE",
          "Estados/SP",
          "Estados/TO",
          "Estados/AC",
          "Estados/AC",
          "Estados/AM",
          "Estados/ES",
          "Estados/MG",
          "Estados/PB",
          "Estados/PE",
          "Estados/RJ",
          "Estados/RN",
          "Estados/RS",
          "Estados/SP",
          "Estados/AC",
          "Estados/AL",
          "Estados/AM",
          "Estados/AP",
          "Estados/BA",
          "Estados/CE",
          "Estados/ES",
          "Estados/GO",
          "Estados/MA",
          "Estados/MG",
          "Estados/MS",
          "Estados/MT",
          "Estados/PA",
          "Estados/PB",
          "Estados/PE",
          "Estados/PI",
          "Estados/PR",
          "Estados/RJ",
          "Estados/RN",
          "Estados/RO",
          "Estados/RR",
          "Estados/RS",
          "Estados/SC",
          "Estados/SE",
          "Estados/SP",
          "Estados/TO",
          "Estados/AC",
          "Estados/AL",
          "Estados/AM",
          "Estados/BA",
          "Estados/CE",
          "Estados/MG",
          "Estados/MS",
          "Estados/MT",
          "Estados/PB",
          "Estados/PE",
          "Estados/PI",
          "Estados/PR",
          "Estados/RJ",
          "Estados/RN",
          "Estados/RO",
          "Estados/RR",
          "Estados/RS",
          "Estados/SC",
          "Estados/SE",
          "Estados/SP",
          "Estados/AC",
          "Estados/AL",
          "Estados/AM",
          "Estados/AP",
          "Estados/BA",
          "Estados/CE",
          "Estados/ES",
          "Estados/GO",
          "Estados/MA",
          "Estados/MG",
          "Estados/MS",
          "Estados/MT",
          "Estados/PA",
          "Estados/PB",
          "Estados/PE",
          "Estados/PI",
          "Estados/PR",
          "Estados/RJ",
          "Estados/RN",
          "Estados/RO",
          "Estados/RR",
          "Estados/RS",
          "Estados/SC",
          "Estados/SE",
          "Estados/SP",
          "Estados/TO",
          "Estados/MG",
          "Estados/AC",
          "Estados/AL",
          "Estados/BA",
          "Estados/MS",
          "Estados/MT",
          "Estados/PB",
          "Estados/PE",
          "Estados/PR",
          "Estados/RJ",
          "Estados/RN",
          "Estados/RO",
          "Estados/RR",
          "Estados/RS",
          "Estados/SE",
          "Estados/AC",
          "Estados/AL",
          "Estados/AM",
          "Estados/BA",
          "Estados/CE",
          "Estados/ES",
          "Estados/MA",
          "Estados/MG",
          "Estados/MS",
          "Estados/MT",
          "Estados/PA",
          "Estados/PB",
          "Estados/PE",
          "Estados/PI",
          "Estados/PR",
          "Estados/RJ",
          "Estados/RN",
          "Estados/RO",
          "Estados/RR",
          "Estados/RS",
          "Estados/SC",
          "Estados/SE",
          "Estados/TO",
          "Estados/AC",
          "Estados/AC",
          "Estados/AL",
          "Estados/AM",
          "Estados/BA",
          "Estados/CE",
          "Estados/MG",
          "Estados/MS",
          "Estados/MT",
          "Estados/PA",
          "Estados/PB",
          "Estados/PE",
          "Estados/PI",
          "Estados/PR",
          "Estados/RJ",
          "Estados/RN",
          "Estados/RO",
          "Estados/RR",
          "Estados/RS",
          "Estados/SE",
          "Estados/SP",
          "Estados/TO",
          "Estados/AC",
          "Estados/BA",
          "Estados/MG",
          "Estados/PE",
          "Estados/PR",
          "Estados/RJ",
          "Estados/AC",
          "Estados/AC",
          "Estados/AM",
          "Estados/BA",
          "Estados/CE",
          "Estados/MG",
          "Estados/PB",
          "Estados/PI",
          "Estados/PR",
          "Estados/RJ",
          "Estados/RO",
          "Estados/RR",
          "Estados/RS",
          "Estados/AC",
          "Estados/AL",
          "Estados/BA",
          "Estados/CE",
          "Estados/MG",
          "Estados/PE",
          "Estados/PI",
          "Estados/RN",
          "Estados/SE",
          "Estados/AC",
          "Estados/AL",
          "Estados/AM",
          "Estados/BA",
          "Estados/CE",
          "Estados/MG",
          "Estados/MS",
          "Estados/MT",
          "Estados/PB",
          "Estados/PI",
          "Estados/PR",
          "Estados/RJ",
          "Estados/RO",
          "Estados/RR",
          "Estados/RS",
          "Estados/TO",
          "Estados/CE",
          "Estados/PI",
          "Estados/RN",
          "Estados/AC",
          "Estados/MG",
          "Estados/PR",
          "Estados/RJ",
          "Estados/TO",
          "Estados/AC",
          "Estados",
          "Estados",
          "Estados",
          "Estados",
          "Estados",
          "Estados",
          "Estados",
          "Estados",
          "Estados",
          "Estados",
          "Estados",
          "Estados",
          "Estados",
          "Estados",
          "Estados",
          "Estados",
          "Estados",
          "Estados",
          "Estados",
          "Estados",
          "Estados",
          "Estados",
          "Estados",
          "Estados",
          "Estados",
          "Estados",
          ""
         ],
         "root": {
          "color": "lightgrey"
         },
         "type": "treemap",
         "values": [
          4594568.4,
          53245,
          369605.62,
          1109853.68,
          447021.32,
          2392134.67,
          14401734.08,
          2826456.56,
          272895.1,
          283761.58,
          1130043.05,
          1024162.4400000001,
          2516681.4,
          3030740.94,
          2430773.96,
          407701,
          4625225.95,
          2822165.9699999997,
          1125277.52,
          3493234.54,
          357070.38,
          7470,
          397192.52,
          4422266.13,
          5497610.4399999995,
          921078.99,
          3475020.44,
          2567570.94,
          13505749.36,
          14618472.709999999,
          201746.7,
          30246.56,
          1842.8,
          216816.87,
          650234.6699999999,
          2434041.52,
          100000.6,
          833518.24,
          722443.36,
          135564934.21,
          23624028.88,
          54904661.58,
          844745.65,
          52128487.01,
          14721121.28,
          2332405.75,
          7756359.34,
          1294100.47,
          41549979.65,
          28114377.26,
          12637479.790000001,
          3664713.22,
          33179578.88,
          49356867.04,
          24854280.490000002,
          43609690.32,
          303137997.93,
          45261337.48,
          13396101.68,
          32654285.95,
          86627537.55,
          7005342.51,
          2292547.34,
          38353233.03,
          2116671.37,
          27406240.66,
          2019964.69,
          2421016.38,
          5546419.66,
          12301806.62,
          1535281.7999999998,
          2070275.79,
          1539228.44,
          413910.29,
          2973560.51,
          26035.64,
          2268780.55,
          20620623.8,
          16584.2,
          650881.77,
          402158.99,
          6339877.57,
          5700,
          278630.29000000004,
          2610232.98,
          45506354.81,
          13743726.26,
          16046736.93,
          569308.35,
          66930659.67,
          26092577.34,
          7849918.47,
          12031621.02,
          3975923.26,
          102914058.01,
          21037337.48,
          9737296.3,
          1042565.86,
          22535194.17,
          47696858.730000004,
          23222367.11,
          60750849.09,
          104891125.83,
          76007282.64,
          5788828.04,
          6625872.74,
          81980153.87,
          8857409.12,
          28783042.02,
          200330.88,
          10197864.47,
          30428.95,
          8233777.38,
          2464.5,
          2607766.44,
          2464.5,
          4220,
          0,
          15236.68,
          2242.05,
          325368.7,
          985,
          149235.69,
          0,
          24976.12,
          0,
          26524265.76,
          3688181.85,
          1269752.65,
          179116,
          154998.35,
          657905.64,
          242796,
          3212155.88,
          3944836.75,
          454414.54,
          3557555.36,
          3949144.12,
          385103.37,
          159906.34,
          2383356.9,
          9444888.79,
          2702790.23,
          237764.59,
          3949144.12,
          11937119.97,
          218108.1,
          845839.02,
          1478735.22,
          1900930.22,
          86720185.23,
          891071.0599999999,
          2036353.28,
          1498484.63,
          1180729.08,
          1660342.53,
          891071.0599999999,
          2856085.08,
          1363003.18,
          5927210.11,
          1440925.45,
          12984,
          3166123.83,
          207914571.82,
          11494.38,
          1227410.07,
          5927210.11,
          627220.29,
          36314.51,
          301507.21,
          2058444.4100000001,
          7487526.79,
          10194.189999999999,
          674.37,
          0,
          2866.78,
          61541.52,
          952137.34,
          16943609.19,
          1228530.42,
          98294.09,
          882,
          28417.56,
          407990,
          51282.35,
          14716.21,
          2518007.99,
          24114,
          407990,
          18680,
          10502665.73,
          1179550,
          142466242.41,
          1730199.71,
          6497239.92,
          30358171.24,
          4917475.37,
          2161590.36,
          7345565.26,
          8208005.45,
          273030.5,
          1536.2,
          208409.76,
          760675,
          52245.729999999996,
          273030.5,
          9855,
          296953.19,
          2526.2,
          49999.92,
          447184.72000000003,
          0,
          296953.19,
          1989.9,
          0,
          1449970,
          1726438.99,
          12324,
          2288598.5,
          3167.74,
          6300,
          1312885.24,
          6300,
          15741773.92,
          443493664.41,
          48248474.3,
          78383229.24,
          1414054,
          271957835.44,
          59523002.43,
          11894638.86,
          19787980.36,
          5512819.7299999995,
          160055761.34,
          59364134.28,
          29669353.11,
          10035538.62,
          71552023.58,
          136068729.28,
          56098574.01,
          115748160.19,
          654575161.92,
          126281858.89,
          21871528.36,
          54685881.23,
          194335705.27,
          16086559.73,
          40503017.43,
          45662767.9,
          18425586.41,
          2751236040.32
         ]
        }
       ],
       "layout": {
        "legend": {
         "tracegroupgap": 0
        },
        "margin": {
         "t": 60
        },
        "template": {
         "data": {
          "bar": [
           {
            "error_x": {
             "color": "#2a3f5f"
            },
            "error_y": {
             "color": "#2a3f5f"
            },
            "marker": {
             "line": {
              "color": "#E5ECF6",
              "width": 0.5
             },
             "pattern": {
              "fillmode": "overlay",
              "size": 10,
              "solidity": 0.2
             }
            },
            "type": "bar"
           }
          ],
          "barpolar": [
           {
            "marker": {
             "line": {
              "color": "#E5ECF6",
              "width": 0.5
             },
             "pattern": {
              "fillmode": "overlay",
              "size": 10,
              "solidity": 0.2
             }
            },
            "type": "barpolar"
           }
          ],
          "carpet": [
           {
            "aaxis": {
             "endlinecolor": "#2a3f5f",
             "gridcolor": "white",
             "linecolor": "white",
             "minorgridcolor": "white",
             "startlinecolor": "#2a3f5f"
            },
            "baxis": {
             "endlinecolor": "#2a3f5f",
             "gridcolor": "white",
             "linecolor": "white",
             "minorgridcolor": "white",
             "startlinecolor": "#2a3f5f"
            },
            "type": "carpet"
           }
          ],
          "choropleth": [
           {
            "colorbar": {
             "outlinewidth": 0,
             "ticks": ""
            },
            "type": "choropleth"
           }
          ],
          "contour": [
           {
            "colorbar": {
             "outlinewidth": 0,
             "ticks": ""
            },
            "colorscale": [
             [
              0,
              "#0d0887"
             ],
             [
              0.1111111111111111,
              "#46039f"
             ],
             [
              0.2222222222222222,
              "#7201a8"
             ],
             [
              0.3333333333333333,
              "#9c179e"
             ],
             [
              0.4444444444444444,
              "#bd3786"
             ],
             [
              0.5555555555555556,
              "#d8576b"
             ],
             [
              0.6666666666666666,
              "#ed7953"
             ],
             [
              0.7777777777777778,
              "#fb9f3a"
             ],
             [
              0.8888888888888888,
              "#fdca26"
             ],
             [
              1,
              "#f0f921"
             ]
            ],
            "type": "contour"
           }
          ],
          "contourcarpet": [
           {
            "colorbar": {
             "outlinewidth": 0,
             "ticks": ""
            },
            "type": "contourcarpet"
           }
          ],
          "heatmap": [
           {
            "colorbar": {
             "outlinewidth": 0,
             "ticks": ""
            },
            "colorscale": [
             [
              0,
              "#0d0887"
             ],
             [
              0.1111111111111111,
              "#46039f"
             ],
             [
              0.2222222222222222,
              "#7201a8"
             ],
             [
              0.3333333333333333,
              "#9c179e"
             ],
             [
              0.4444444444444444,
              "#bd3786"
             ],
             [
              0.5555555555555556,
              "#d8576b"
             ],
             [
              0.6666666666666666,
              "#ed7953"
             ],
             [
              0.7777777777777778,
              "#fb9f3a"
             ],
             [
              0.8888888888888888,
              "#fdca26"
             ],
             [
              1,
              "#f0f921"
             ]
            ],
            "type": "heatmap"
           }
          ],
          "heatmapgl": [
           {
            "colorbar": {
             "outlinewidth": 0,
             "ticks": ""
            },
            "colorscale": [
             [
              0,
              "#0d0887"
             ],
             [
              0.1111111111111111,
              "#46039f"
             ],
             [
              0.2222222222222222,
              "#7201a8"
             ],
             [
              0.3333333333333333,
              "#9c179e"
             ],
             [
              0.4444444444444444,
              "#bd3786"
             ],
             [
              0.5555555555555556,
              "#d8576b"
             ],
             [
              0.6666666666666666,
              "#ed7953"
             ],
             [
              0.7777777777777778,
              "#fb9f3a"
             ],
             [
              0.8888888888888888,
              "#fdca26"
             ],
             [
              1,
              "#f0f921"
             ]
            ],
            "type": "heatmapgl"
           }
          ],
          "histogram": [
           {
            "marker": {
             "pattern": {
              "fillmode": "overlay",
              "size": 10,
              "solidity": 0.2
             }
            },
            "type": "histogram"
           }
          ],
          "histogram2d": [
           {
            "colorbar": {
             "outlinewidth": 0,
             "ticks": ""
            },
            "colorscale": [
             [
              0,
              "#0d0887"
             ],
             [
              0.1111111111111111,
              "#46039f"
             ],
             [
              0.2222222222222222,
              "#7201a8"
             ],
             [
              0.3333333333333333,
              "#9c179e"
             ],
             [
              0.4444444444444444,
              "#bd3786"
             ],
             [
              0.5555555555555556,
              "#d8576b"
             ],
             [
              0.6666666666666666,
              "#ed7953"
             ],
             [
              0.7777777777777778,
              "#fb9f3a"
             ],
             [
              0.8888888888888888,
              "#fdca26"
             ],
             [
              1,
              "#f0f921"
             ]
            ],
            "type": "histogram2d"
           }
          ],
          "histogram2dcontour": [
           {
            "colorbar": {
             "outlinewidth": 0,
             "ticks": ""
            },
            "colorscale": [
             [
              0,
              "#0d0887"
             ],
             [
              0.1111111111111111,
              "#46039f"
             ],
             [
              0.2222222222222222,
              "#7201a8"
             ],
             [
              0.3333333333333333,
              "#9c179e"
             ],
             [
              0.4444444444444444,
              "#bd3786"
             ],
             [
              0.5555555555555556,
              "#d8576b"
             ],
             [
              0.6666666666666666,
              "#ed7953"
             ],
             [
              0.7777777777777778,
              "#fb9f3a"
             ],
             [
              0.8888888888888888,
              "#fdca26"
             ],
             [
              1,
              "#f0f921"
             ]
            ],
            "type": "histogram2dcontour"
           }
          ],
          "mesh3d": [
           {
            "colorbar": {
             "outlinewidth": 0,
             "ticks": ""
            },
            "type": "mesh3d"
           }
          ],
          "parcoords": [
           {
            "line": {
             "colorbar": {
              "outlinewidth": 0,
              "ticks": ""
             }
            },
            "type": "parcoords"
           }
          ],
          "pie": [
           {
            "automargin": true,
            "type": "pie"
           }
          ],
          "scatter": [
           {
            "marker": {
             "colorbar": {
              "outlinewidth": 0,
              "ticks": ""
             }
            },
            "type": "scatter"
           }
          ],
          "scatter3d": [
           {
            "line": {
             "colorbar": {
              "outlinewidth": 0,
              "ticks": ""
             }
            },
            "marker": {
             "colorbar": {
              "outlinewidth": 0,
              "ticks": ""
             }
            },
            "type": "scatter3d"
           }
          ],
          "scattercarpet": [
           {
            "marker": {
             "colorbar": {
              "outlinewidth": 0,
              "ticks": ""
             }
            },
            "type": "scattercarpet"
           }
          ],
          "scattergeo": [
           {
            "marker": {
             "colorbar": {
              "outlinewidth": 0,
              "ticks": ""
             }
            },
            "type": "scattergeo"
           }
          ],
          "scattergl": [
           {
            "marker": {
             "colorbar": {
              "outlinewidth": 0,
              "ticks": ""
             }
            },
            "type": "scattergl"
           }
          ],
          "scattermapbox": [
           {
            "marker": {
             "colorbar": {
              "outlinewidth": 0,
              "ticks": ""
             }
            },
            "type": "scattermapbox"
           }
          ],
          "scatterpolar": [
           {
            "marker": {
             "colorbar": {
              "outlinewidth": 0,
              "ticks": ""
             }
            },
            "type": "scatterpolar"
           }
          ],
          "scatterpolargl": [
           {
            "marker": {
             "colorbar": {
              "outlinewidth": 0,
              "ticks": ""
             }
            },
            "type": "scatterpolargl"
           }
          ],
          "scatterternary": [
           {
            "marker": {
             "colorbar": {
              "outlinewidth": 0,
              "ticks": ""
             }
            },
            "type": "scatterternary"
           }
          ],
          "surface": [
           {
            "colorbar": {
             "outlinewidth": 0,
             "ticks": ""
            },
            "colorscale": [
             [
              0,
              "#0d0887"
             ],
             [
              0.1111111111111111,
              "#46039f"
             ],
             [
              0.2222222222222222,
              "#7201a8"
             ],
             [
              0.3333333333333333,
              "#9c179e"
             ],
             [
              0.4444444444444444,
              "#bd3786"
             ],
             [
              0.5555555555555556,
              "#d8576b"
             ],
             [
              0.6666666666666666,
              "#ed7953"
             ],
             [
              0.7777777777777778,
              "#fb9f3a"
             ],
             [
              0.8888888888888888,
              "#fdca26"
             ],
             [
              1,
              "#f0f921"
             ]
            ],
            "type": "surface"
           }
          ],
          "table": [
           {
            "cells": {
             "fill": {
              "color": "#EBF0F8"
             },
             "line": {
              "color": "white"
             }
            },
            "header": {
             "fill": {
              "color": "#C8D4E3"
             },
             "line": {
              "color": "white"
             }
            },
            "type": "table"
           }
          ]
         },
         "layout": {
          "annotationdefaults": {
           "arrowcolor": "#2a3f5f",
           "arrowhead": 0,
           "arrowwidth": 1
          },
          "autotypenumbers": "strict",
          "coloraxis": {
           "colorbar": {
            "outlinewidth": 0,
            "ticks": ""
           }
          },
          "colorscale": {
           "diverging": [
            [
             0,
             "#8e0152"
            ],
            [
             0.1,
             "#c51b7d"
            ],
            [
             0.2,
             "#de77ae"
            ],
            [
             0.3,
             "#f1b6da"
            ],
            [
             0.4,
             "#fde0ef"
            ],
            [
             0.5,
             "#f7f7f7"
            ],
            [
             0.6,
             "#e6f5d0"
            ],
            [
             0.7,
             "#b8e186"
            ],
            [
             0.8,
             "#7fbc41"
            ],
            [
             0.9,
             "#4d9221"
            ],
            [
             1,
             "#276419"
            ]
           ],
           "sequential": [
            [
             0,
             "#0d0887"
            ],
            [
             0.1111111111111111,
             "#46039f"
            ],
            [
             0.2222222222222222,
             "#7201a8"
            ],
            [
             0.3333333333333333,
             "#9c179e"
            ],
            [
             0.4444444444444444,
             "#bd3786"
            ],
            [
             0.5555555555555556,
             "#d8576b"
            ],
            [
             0.6666666666666666,
             "#ed7953"
            ],
            [
             0.7777777777777778,
             "#fb9f3a"
            ],
            [
             0.8888888888888888,
             "#fdca26"
            ],
            [
             1,
             "#f0f921"
            ]
           ],
           "sequentialminus": [
            [
             0,
             "#0d0887"
            ],
            [
             0.1111111111111111,
             "#46039f"
            ],
            [
             0.2222222222222222,
             "#7201a8"
            ],
            [
             0.3333333333333333,
             "#9c179e"
            ],
            [
             0.4444444444444444,
             "#bd3786"
            ],
            [
             0.5555555555555556,
             "#d8576b"
            ],
            [
             0.6666666666666666,
             "#ed7953"
            ],
            [
             0.7777777777777778,
             "#fb9f3a"
            ],
            [
             0.8888888888888888,
             "#fdca26"
            ],
            [
             1,
             "#f0f921"
            ]
           ]
          },
          "colorway": [
           "#636efa",
           "#EF553B",
           "#00cc96",
           "#ab63fa",
           "#FFA15A",
           "#19d3f3",
           "#FF6692",
           "#B6E880",
           "#FF97FF",
           "#FECB52"
          ],
          "font": {
           "color": "#2a3f5f"
          },
          "geo": {
           "bgcolor": "white",
           "lakecolor": "white",
           "landcolor": "#E5ECF6",
           "showlakes": true,
           "showland": true,
           "subunitcolor": "white"
          },
          "hoverlabel": {
           "align": "left"
          },
          "hovermode": "closest",
          "mapbox": {
           "style": "light"
          },
          "paper_bgcolor": "white",
          "plot_bgcolor": "#E5ECF6",
          "polar": {
           "angularaxis": {
            "gridcolor": "white",
            "linecolor": "white",
            "ticks": ""
           },
           "bgcolor": "#E5ECF6",
           "radialaxis": {
            "gridcolor": "white",
            "linecolor": "white",
            "ticks": ""
           }
          },
          "scene": {
           "xaxis": {
            "backgroundcolor": "#E5ECF6",
            "gridcolor": "white",
            "gridwidth": 2,
            "linecolor": "white",
            "showbackground": true,
            "ticks": "",
            "zerolinecolor": "white"
           },
           "yaxis": {
            "backgroundcolor": "#E5ECF6",
            "gridcolor": "white",
            "gridwidth": 2,
            "linecolor": "white",
            "showbackground": true,
            "ticks": "",
            "zerolinecolor": "white"
           },
           "zaxis": {
            "backgroundcolor": "#E5ECF6",
            "gridcolor": "white",
            "gridwidth": 2,
            "linecolor": "white",
            "showbackground": true,
            "ticks": "",
            "zerolinecolor": "white"
           }
          },
          "shapedefaults": {
           "line": {
            "color": "#2a3f5f"
           }
          },
          "ternary": {
           "aaxis": {
            "gridcolor": "white",
            "linecolor": "white",
            "ticks": ""
           },
           "baxis": {
            "gridcolor": "white",
            "linecolor": "white",
            "ticks": ""
           },
           "bgcolor": "#E5ECF6",
           "caxis": {
            "gridcolor": "white",
            "linecolor": "white",
            "ticks": ""
           }
          },
          "title": {
           "x": 0.05
          },
          "xaxis": {
           "automargin": true,
           "gridcolor": "white",
           "linecolor": "white",
           "ticks": "",
           "title": {
            "standoff": 15
           },
           "zerolinecolor": "white",
           "zerolinewidth": 2
          },
          "yaxis": {
           "automargin": true,
           "gridcolor": "white",
           "linecolor": "white",
           "ticks": "",
           "title": {
            "standoff": 15
           },
           "zerolinecolor": "white",
           "zerolinewidth": 2
          }
         }
        },
        "title": {
         "text": "KPIs estatais"
        },
        "uniformtext": {
         "minsize": 14
        }
       }
      }
     },
     "metadata": {},
     "output_type": "display_data"
    }
   ],
   "source": [
    "import plotly.express as px\n",
    " \n",
    "fig = px.treemap(dict(dd2),path=[px.Constant('Estados'),dd2['UF'],'Nome Órgão Superior'],\n",
    "                 values='Total',\n",
    "                 labels=['Estados'],maxdepth=3)\n",
    " #           values='Total de Licitações')\n",
    "fig.update_layout(uniformtext_minsize=14)\n",
    "fig.update_traces(root_color=\"lightgrey\")\n",
    "fig.update_layout(\n",
    "    title_text='KPIs estatais'\n",
    ")\n",
    "fig.show()"
   ]
  },
  {
   "cell_type": "code",
   "execution_count": 174,
   "id": "f63a62eb",
   "metadata": {},
   "outputs": [
    {
     "name": "stderr",
     "output_type": "stream",
     "text": [
      "c:\\Users\\efvs\\miniconda3\\envs\\rsd\\lib\\site-packages\\plotly\\express\\_core.py:1637: FutureWarning:\n",
      "\n",
      "The frame.append method is deprecated and will be removed from pandas in a future version. Use pandas.concat instead.\n",
      "\n",
      "c:\\Users\\efvs\\miniconda3\\envs\\rsd\\lib\\site-packages\\plotly\\express\\_core.py:1637: FutureWarning:\n",
      "\n",
      "The frame.append method is deprecated and will be removed from pandas in a future version. Use pandas.concat instead.\n",
      "\n",
      "c:\\Users\\efvs\\miniconda3\\envs\\rsd\\lib\\site-packages\\plotly\\express\\_core.py:1637: FutureWarning:\n",
      "\n",
      "The frame.append method is deprecated and will be removed from pandas in a future version. Use pandas.concat instead.\n",
      "\n",
      "c:\\Users\\efvs\\miniconda3\\envs\\rsd\\lib\\site-packages\\plotly\\express\\_core.py:1637: FutureWarning:\n",
      "\n",
      "The frame.append method is deprecated and will be removed from pandas in a future version. Use pandas.concat instead.\n",
      "\n"
     ]
    },
    {
     "data": {
      "application/vnd.plotly.v1+json": {
       "config": {
        "plotlyServerURL": "https://plot.ly"
       },
       "data": [
        {
         "branchvalues": "total",
         "domain": {
          "x": [
           0,
           1
          ],
          "y": [
           0,
           1
          ]
         },
         "hovertemplate": "labels=%{label}<br>Total de Licitações=%{value}<br>parent=%{parent}<br>id=%{id}<extra></extra>",
         "ids": [
          "SP/1863/505/0.2710681696188942",
          "PA/532/153/0.287593984962406",
          "AC/6148/1851/0.3010735198438516",
          "RJ/12780/4212/0.3295774647887324",
          "CE/1504/582/0.386968085106383",
          "PE/2641/1066/0.4036349867474441",
          "MG/4393/1862/0.4238561347598452",
          "PR/3022/1444/0.4778292521508934",
          "SE/627/305/0.4864433811802233",
          "TO/305/153/0.5016393442622951",
          "AL/1047/536/0.5119388729703916",
          "SC/391/203/0.5191815856777494",
          "MA/138/73/0.5289855072463768",
          "AM/1254/668/0.532695374800638",
          "PI/842/466/0.5534441805225653",
          "RS/3696/2047/0.5538419913419913",
          "MS/1483/839/0.5657451112609575",
          "AP/40/23/0.575",
          "RO/644/376/0.5838509316770186",
          "BA/1785/1046/0.5859943977591037",
          "ES/291/172/0.5910652920962199",
          "RR/504/329/0.6527777777777778",
          "RN/1694/1130/0.667060212514758",
          "PB/1057/717/0.6783349101229896",
          "MT/403/280/0.6947890818858561",
          "GO/240/167/0.6958333333333333",
          "AP/40/23",
          "MA/138/73",
          "TO/305/153",
          "PA/532/153",
          "GO/240/167",
          "ES/291/172",
          "SC/391/203",
          "MT/403/280",
          "SE/627/305",
          "RR/504/329",
          "RO/644/376",
          "PI/842/466",
          "SP/1863/505",
          "AL/1047/536",
          "CE/1504/582",
          "AM/1254/668",
          "PB/1057/717",
          "MS/1483/839",
          "BA/1785/1046",
          "PE/2641/1066",
          "RN/1694/1130",
          "PR/3022/1444",
          "AC/6148/1851",
          "MG/4393/1862",
          "RS/3696/2047",
          "RJ/12780/4212",
          "AP/40",
          "MA/138",
          "GO/240",
          "ES/291",
          "TO/305",
          "SC/391",
          "MT/403",
          "RR/504",
          "PA/532",
          "SE/627",
          "RO/644",
          "PI/842",
          "AL/1047",
          "PB/1057",
          "AM/1254",
          "MS/1483",
          "CE/1504",
          "RN/1694",
          "BA/1785",
          "SP/1863",
          "PE/2641",
          "PR/3022",
          "RS/3696",
          "MG/4393",
          "AC/6148",
          "RJ/12780",
          "AC",
          "AL",
          "AM",
          "AP",
          "BA",
          "CE",
          "ES",
          "GO",
          "MA",
          "MG",
          "MS",
          "MT",
          "PA",
          "PB",
          "PE",
          "PI",
          "PR",
          "RJ",
          "RN",
          "RO",
          "RR",
          "RS",
          "SC",
          "SE",
          "SP",
          "TO"
         ],
         "labels": [
          "0.2710681696188942",
          "0.287593984962406",
          "0.3010735198438516",
          "0.3295774647887324",
          "0.386968085106383",
          "0.4036349867474441",
          "0.4238561347598452",
          "0.4778292521508934",
          "0.4864433811802233",
          "0.5016393442622951",
          "0.5119388729703916",
          "0.5191815856777494",
          "0.5289855072463768",
          "0.532695374800638",
          "0.5534441805225653",
          "0.5538419913419913",
          "0.5657451112609575",
          "0.575",
          "0.5838509316770186",
          "0.5859943977591037",
          "0.5910652920962199",
          "0.6527777777777778",
          "0.667060212514758",
          "0.6783349101229896",
          "0.6947890818858561",
          "0.6958333333333333",
          "23",
          "73",
          "153",
          "153",
          "167",
          "172",
          "203",
          "280",
          "305",
          "329",
          "376",
          "466",
          "505",
          "536",
          "582",
          "668",
          "717",
          "839",
          "1046",
          "1066",
          "1130",
          "1444",
          "1851",
          "1862",
          "2047",
          "4212",
          "40",
          "138",
          "240",
          "291",
          "305",
          "391",
          "403",
          "504",
          "532",
          "627",
          "644",
          "842",
          "1047",
          "1057",
          "1254",
          "1483",
          "1504",
          "1694",
          "1785",
          "1863",
          "2641",
          "3022",
          "3696",
          "4393",
          "6148",
          "12780",
          "AC",
          "AL",
          "AM",
          "AP",
          "BA",
          "CE",
          "ES",
          "GO",
          "MA",
          "MG",
          "MS",
          "MT",
          "PA",
          "PB",
          "PE",
          "PI",
          "PR",
          "RJ",
          "RN",
          "RO",
          "RR",
          "RS",
          "SC",
          "SE",
          "SP",
          "TO"
         ],
         "name": "",
         "parents": [
          "SP/1863/505",
          "PA/532/153",
          "AC/6148/1851",
          "RJ/12780/4212",
          "CE/1504/582",
          "PE/2641/1066",
          "MG/4393/1862",
          "PR/3022/1444",
          "SE/627/305",
          "TO/305/153",
          "AL/1047/536",
          "SC/391/203",
          "MA/138/73",
          "AM/1254/668",
          "PI/842/466",
          "RS/3696/2047",
          "MS/1483/839",
          "AP/40/23",
          "RO/644/376",
          "BA/1785/1046",
          "ES/291/172",
          "RR/504/329",
          "RN/1694/1130",
          "PB/1057/717",
          "MT/403/280",
          "GO/240/167",
          "AP/40",
          "MA/138",
          "TO/305",
          "PA/532",
          "GO/240",
          "ES/291",
          "SC/391",
          "MT/403",
          "SE/627",
          "RR/504",
          "RO/644",
          "PI/842",
          "SP/1863",
          "AL/1047",
          "CE/1504",
          "AM/1254",
          "PB/1057",
          "MS/1483",
          "BA/1785",
          "PE/2641",
          "RN/1694",
          "PR/3022",
          "AC/6148",
          "MG/4393",
          "RS/3696",
          "RJ/12780",
          "AP",
          "MA",
          "GO",
          "ES",
          "TO",
          "SC",
          "MT",
          "RR",
          "PA",
          "SE",
          "RO",
          "PI",
          "AL",
          "PB",
          "AM",
          "MS",
          "CE",
          "RN",
          "BA",
          "SP",
          "PE",
          "PR",
          "RS",
          "MG",
          "AC",
          "RJ",
          "",
          "",
          "",
          "",
          "",
          "",
          "",
          "",
          "",
          "",
          "",
          "",
          "",
          "",
          "",
          "",
          "",
          "",
          "",
          "",
          "",
          "",
          "",
          "",
          "",
          ""
         ],
         "root": {
          "color": "lightgrey"
         },
         "type": "treemap",
         "values": [
          1863,
          532,
          6148,
          12780,
          1504,
          2641,
          4393,
          3022,
          627,
          305,
          1047,
          391,
          138,
          1254,
          842,
          3696,
          1483,
          40,
          644,
          1785,
          291,
          504,
          1694,
          1057,
          403,
          240,
          40,
          138,
          305,
          532,
          240,
          291,
          391,
          403,
          627,
          504,
          644,
          842,
          1863,
          1047,
          1504,
          1254,
          1057,
          1483,
          1785,
          2641,
          1694,
          3022,
          6148,
          4393,
          3696,
          12780,
          40,
          138,
          240,
          291,
          305,
          391,
          403,
          504,
          532,
          627,
          644,
          842,
          1047,
          1057,
          1254,
          1483,
          1504,
          1694,
          1785,
          1863,
          2641,
          3022,
          3696,
          4393,
          6148,
          12780,
          6148,
          1047,
          1254,
          40,
          1785,
          1504,
          291,
          240,
          138,
          4393,
          1483,
          403,
          532,
          1057,
          2641,
          842,
          3022,
          12780,
          1694,
          644,
          504,
          3696,
          391,
          627,
          1863,
          305
         ]
        }
       ],
       "layout": {
        "autosize": true,
        "legend": {
         "tracegroupgap": 0
        },
        "margin": {
         "t": 60
        },
        "template": {
         "data": {
          "bar": [
           {
            "error_x": {
             "color": "#2a3f5f"
            },
            "error_y": {
             "color": "#2a3f5f"
            },
            "marker": {
             "line": {
              "color": "#E5ECF6",
              "width": 0.5
             },
             "pattern": {
              "fillmode": "overlay",
              "size": 10,
              "solidity": 0.2
             }
            },
            "type": "bar"
           }
          ],
          "barpolar": [
           {
            "marker": {
             "line": {
              "color": "#E5ECF6",
              "width": 0.5
             },
             "pattern": {
              "fillmode": "overlay",
              "size": 10,
              "solidity": 0.2
             }
            },
            "type": "barpolar"
           }
          ],
          "carpet": [
           {
            "aaxis": {
             "endlinecolor": "#2a3f5f",
             "gridcolor": "white",
             "linecolor": "white",
             "minorgridcolor": "white",
             "startlinecolor": "#2a3f5f"
            },
            "baxis": {
             "endlinecolor": "#2a3f5f",
             "gridcolor": "white",
             "linecolor": "white",
             "minorgridcolor": "white",
             "startlinecolor": "#2a3f5f"
            },
            "type": "carpet"
           }
          ],
          "choropleth": [
           {
            "colorbar": {
             "outlinewidth": 0,
             "ticks": ""
            },
            "type": "choropleth"
           }
          ],
          "contour": [
           {
            "colorbar": {
             "outlinewidth": 0,
             "ticks": ""
            },
            "colorscale": [
             [
              0,
              "#0d0887"
             ],
             [
              0.1111111111111111,
              "#46039f"
             ],
             [
              0.2222222222222222,
              "#7201a8"
             ],
             [
              0.3333333333333333,
              "#9c179e"
             ],
             [
              0.4444444444444444,
              "#bd3786"
             ],
             [
              0.5555555555555556,
              "#d8576b"
             ],
             [
              0.6666666666666666,
              "#ed7953"
             ],
             [
              0.7777777777777778,
              "#fb9f3a"
             ],
             [
              0.8888888888888888,
              "#fdca26"
             ],
             [
              1,
              "#f0f921"
             ]
            ],
            "type": "contour"
           }
          ],
          "contourcarpet": [
           {
            "colorbar": {
             "outlinewidth": 0,
             "ticks": ""
            },
            "type": "contourcarpet"
           }
          ],
          "heatmap": [
           {
            "colorbar": {
             "outlinewidth": 0,
             "ticks": ""
            },
            "colorscale": [
             [
              0,
              "#0d0887"
             ],
             [
              0.1111111111111111,
              "#46039f"
             ],
             [
              0.2222222222222222,
              "#7201a8"
             ],
             [
              0.3333333333333333,
              "#9c179e"
             ],
             [
              0.4444444444444444,
              "#bd3786"
             ],
             [
              0.5555555555555556,
              "#d8576b"
             ],
             [
              0.6666666666666666,
              "#ed7953"
             ],
             [
              0.7777777777777778,
              "#fb9f3a"
             ],
             [
              0.8888888888888888,
              "#fdca26"
             ],
             [
              1,
              "#f0f921"
             ]
            ],
            "type": "heatmap"
           }
          ],
          "heatmapgl": [
           {
            "colorbar": {
             "outlinewidth": 0,
             "ticks": ""
            },
            "colorscale": [
             [
              0,
              "#0d0887"
             ],
             [
              0.1111111111111111,
              "#46039f"
             ],
             [
              0.2222222222222222,
              "#7201a8"
             ],
             [
              0.3333333333333333,
              "#9c179e"
             ],
             [
              0.4444444444444444,
              "#bd3786"
             ],
             [
              0.5555555555555556,
              "#d8576b"
             ],
             [
              0.6666666666666666,
              "#ed7953"
             ],
             [
              0.7777777777777778,
              "#fb9f3a"
             ],
             [
              0.8888888888888888,
              "#fdca26"
             ],
             [
              1,
              "#f0f921"
             ]
            ],
            "type": "heatmapgl"
           }
          ],
          "histogram": [
           {
            "marker": {
             "pattern": {
              "fillmode": "overlay",
              "size": 10,
              "solidity": 0.2
             }
            },
            "type": "histogram"
           }
          ],
          "histogram2d": [
           {
            "colorbar": {
             "outlinewidth": 0,
             "ticks": ""
            },
            "colorscale": [
             [
              0,
              "#0d0887"
             ],
             [
              0.1111111111111111,
              "#46039f"
             ],
             [
              0.2222222222222222,
              "#7201a8"
             ],
             [
              0.3333333333333333,
              "#9c179e"
             ],
             [
              0.4444444444444444,
              "#bd3786"
             ],
             [
              0.5555555555555556,
              "#d8576b"
             ],
             [
              0.6666666666666666,
              "#ed7953"
             ],
             [
              0.7777777777777778,
              "#fb9f3a"
             ],
             [
              0.8888888888888888,
              "#fdca26"
             ],
             [
              1,
              "#f0f921"
             ]
            ],
            "type": "histogram2d"
           }
          ],
          "histogram2dcontour": [
           {
            "colorbar": {
             "outlinewidth": 0,
             "ticks": ""
            },
            "colorscale": [
             [
              0,
              "#0d0887"
             ],
             [
              0.1111111111111111,
              "#46039f"
             ],
             [
              0.2222222222222222,
              "#7201a8"
             ],
             [
              0.3333333333333333,
              "#9c179e"
             ],
             [
              0.4444444444444444,
              "#bd3786"
             ],
             [
              0.5555555555555556,
              "#d8576b"
             ],
             [
              0.6666666666666666,
              "#ed7953"
             ],
             [
              0.7777777777777778,
              "#fb9f3a"
             ],
             [
              0.8888888888888888,
              "#fdca26"
             ],
             [
              1,
              "#f0f921"
             ]
            ],
            "type": "histogram2dcontour"
           }
          ],
          "mesh3d": [
           {
            "colorbar": {
             "outlinewidth": 0,
             "ticks": ""
            },
            "type": "mesh3d"
           }
          ],
          "parcoords": [
           {
            "line": {
             "colorbar": {
              "outlinewidth": 0,
              "ticks": ""
             }
            },
            "type": "parcoords"
           }
          ],
          "pie": [
           {
            "automargin": true,
            "type": "pie"
           }
          ],
          "scatter": [
           {
            "marker": {
             "colorbar": {
              "outlinewidth": 0,
              "ticks": ""
             }
            },
            "type": "scatter"
           }
          ],
          "scatter3d": [
           {
            "line": {
             "colorbar": {
              "outlinewidth": 0,
              "ticks": ""
             }
            },
            "marker": {
             "colorbar": {
              "outlinewidth": 0,
              "ticks": ""
             }
            },
            "type": "scatter3d"
           }
          ],
          "scattercarpet": [
           {
            "marker": {
             "colorbar": {
              "outlinewidth": 0,
              "ticks": ""
             }
            },
            "type": "scattercarpet"
           }
          ],
          "scattergeo": [
           {
            "marker": {
             "colorbar": {
              "outlinewidth": 0,
              "ticks": ""
             }
            },
            "type": "scattergeo"
           }
          ],
          "scattergl": [
           {
            "marker": {
             "colorbar": {
              "outlinewidth": 0,
              "ticks": ""
             }
            },
            "type": "scattergl"
           }
          ],
          "scattermapbox": [
           {
            "marker": {
             "colorbar": {
              "outlinewidth": 0,
              "ticks": ""
             }
            },
            "type": "scattermapbox"
           }
          ],
          "scatterpolar": [
           {
            "marker": {
             "colorbar": {
              "outlinewidth": 0,
              "ticks": ""
             }
            },
            "type": "scatterpolar"
           }
          ],
          "scatterpolargl": [
           {
            "marker": {
             "colorbar": {
              "outlinewidth": 0,
              "ticks": ""
             }
            },
            "type": "scatterpolargl"
           }
          ],
          "scatterternary": [
           {
            "marker": {
             "colorbar": {
              "outlinewidth": 0,
              "ticks": ""
             }
            },
            "type": "scatterternary"
           }
          ],
          "surface": [
           {
            "colorbar": {
             "outlinewidth": 0,
             "ticks": ""
            },
            "colorscale": [
             [
              0,
              "#0d0887"
             ],
             [
              0.1111111111111111,
              "#46039f"
             ],
             [
              0.2222222222222222,
              "#7201a8"
             ],
             [
              0.3333333333333333,
              "#9c179e"
             ],
             [
              0.4444444444444444,
              "#bd3786"
             ],
             [
              0.5555555555555556,
              "#d8576b"
             ],
             [
              0.6666666666666666,
              "#ed7953"
             ],
             [
              0.7777777777777778,
              "#fb9f3a"
             ],
             [
              0.8888888888888888,
              "#fdca26"
             ],
             [
              1,
              "#f0f921"
             ]
            ],
            "type": "surface"
           }
          ],
          "table": [
           {
            "cells": {
             "fill": {
              "color": "#EBF0F8"
             },
             "line": {
              "color": "white"
             }
            },
            "header": {
             "fill": {
              "color": "#C8D4E3"
             },
             "line": {
              "color": "white"
             }
            },
            "type": "table"
           }
          ]
         },
         "layout": {
          "annotationdefaults": {
           "arrowcolor": "#2a3f5f",
           "arrowhead": 0,
           "arrowwidth": 1
          },
          "autotypenumbers": "strict",
          "coloraxis": {
           "colorbar": {
            "outlinewidth": 0,
            "ticks": ""
           }
          },
          "colorscale": {
           "diverging": [
            [
             0,
             "#8e0152"
            ],
            [
             0.1,
             "#c51b7d"
            ],
            [
             0.2,
             "#de77ae"
            ],
            [
             0.3,
             "#f1b6da"
            ],
            [
             0.4,
             "#fde0ef"
            ],
            [
             0.5,
             "#f7f7f7"
            ],
            [
             0.6,
             "#e6f5d0"
            ],
            [
             0.7,
             "#b8e186"
            ],
            [
             0.8,
             "#7fbc41"
            ],
            [
             0.9,
             "#4d9221"
            ],
            [
             1,
             "#276419"
            ]
           ],
           "sequential": [
            [
             0,
             "#0d0887"
            ],
            [
             0.1111111111111111,
             "#46039f"
            ],
            [
             0.2222222222222222,
             "#7201a8"
            ],
            [
             0.3333333333333333,
             "#9c179e"
            ],
            [
             0.4444444444444444,
             "#bd3786"
            ],
            [
             0.5555555555555556,
             "#d8576b"
            ],
            [
             0.6666666666666666,
             "#ed7953"
            ],
            [
             0.7777777777777778,
             "#fb9f3a"
            ],
            [
             0.8888888888888888,
             "#fdca26"
            ],
            [
             1,
             "#f0f921"
            ]
           ],
           "sequentialminus": [
            [
             0,
             "#0d0887"
            ],
            [
             0.1111111111111111,
             "#46039f"
            ],
            [
             0.2222222222222222,
             "#7201a8"
            ],
            [
             0.3333333333333333,
             "#9c179e"
            ],
            [
             0.4444444444444444,
             "#bd3786"
            ],
            [
             0.5555555555555556,
             "#d8576b"
            ],
            [
             0.6666666666666666,
             "#ed7953"
            ],
            [
             0.7777777777777778,
             "#fb9f3a"
            ],
            [
             0.8888888888888888,
             "#fdca26"
            ],
            [
             1,
             "#f0f921"
            ]
           ]
          },
          "colorway": [
           "#636efa",
           "#EF553B",
           "#00cc96",
           "#ab63fa",
           "#FFA15A",
           "#19d3f3",
           "#FF6692",
           "#B6E880",
           "#FF97FF",
           "#FECB52"
          ],
          "font": {
           "color": "#2a3f5f"
          },
          "geo": {
           "bgcolor": "white",
           "lakecolor": "white",
           "landcolor": "#E5ECF6",
           "showlakes": true,
           "showland": true,
           "subunitcolor": "white"
          },
          "hoverlabel": {
           "align": "left"
          },
          "hovermode": "closest",
          "mapbox": {
           "style": "light"
          },
          "paper_bgcolor": "white",
          "plot_bgcolor": "#E5ECF6",
          "polar": {
           "angularaxis": {
            "gridcolor": "white",
            "linecolor": "white",
            "ticks": ""
           },
           "bgcolor": "#E5ECF6",
           "radialaxis": {
            "gridcolor": "white",
            "linecolor": "white",
            "ticks": ""
           }
          },
          "scene": {
           "xaxis": {
            "backgroundcolor": "#E5ECF6",
            "gridcolor": "white",
            "gridwidth": 2,
            "linecolor": "white",
            "showbackground": true,
            "ticks": "",
            "zerolinecolor": "white"
           },
           "yaxis": {
            "backgroundcolor": "#E5ECF6",
            "gridcolor": "white",
            "gridwidth": 2,
            "linecolor": "white",
            "showbackground": true,
            "ticks": "",
            "zerolinecolor": "white"
           },
           "zaxis": {
            "backgroundcolor": "#E5ECF6",
            "gridcolor": "white",
            "gridwidth": 2,
            "linecolor": "white",
            "showbackground": true,
            "ticks": "",
            "zerolinecolor": "white"
           }
          },
          "shapedefaults": {
           "line": {
            "color": "#2a3f5f"
           }
          },
          "ternary": {
           "aaxis": {
            "gridcolor": "white",
            "linecolor": "white",
            "ticks": ""
           },
           "baxis": {
            "gridcolor": "white",
            "linecolor": "white",
            "ticks": ""
           },
           "bgcolor": "#E5ECF6",
           "caxis": {
            "gridcolor": "white",
            "linecolor": "white",
            "ticks": ""
           }
          },
          "title": {
           "x": 0.05
          },
          "xaxis": {
           "automargin": true,
           "gridcolor": "white",
           "linecolor": "white",
           "ticks": "",
           "title": {
            "standoff": 15
           },
           "zerolinecolor": "white",
           "zerolinewidth": 2
          },
          "yaxis": {
           "automargin": true,
           "gridcolor": "white",
           "linecolor": "white",
           "ticks": "",
           "title": {
            "standoff": 15
           },
           "zerolinecolor": "white",
           "zerolinewidth": 2
          }
         }
        },
        "title": {
         "text": "KPIs estatais"
        },
        "uniformtext": {
         "minsize": 14,
         "mode": "hide"
        }
       }
      }
     },
     "metadata": {},
     "output_type": "display_data"
    }
   ],
   "source": [
    "import plotly.express as px\n",
    " \n",
    "fig = px.treemap(dict(df2),path=[df2.index,'Total de Licitações','Total de Ilegais','{%} de Ilegalidades'],\n",
    "                 values='Total de Licitações',\n",
    "                 labels='aaaa')\n",
    " #           values='Total de Licitações')\n",
    "fig.update_layout(uniformtext_minsize=14, uniformtext_mode='hide')\n",
    "fig.update_traces(root_color=\"lightgrey\")\n",
    "fig.update_layout(\n",
    "    title_text='KPIs estatais'\n",
    ")\n",
    "fig.show()"
   ]
  },
  {
   "cell_type": "code",
   "execution_count": null,
   "id": "7f88f8b4",
   "metadata": {},
   "outputs": [],
   "source": []
  }
 ],
 "metadata": {
  "interpreter": {
   "hash": "50dab69fff78360556d5658a4e20acdc011508dd645a6812d1dd4e32552e63b0"
  },
  "kernelspec": {
   "display_name": "Python 3 (ipykernel)",
   "language": "python",
   "name": "python3"
  },
  "language_info": {
   "codemirror_mode": {
    "name": "ipython",
    "version": 3
   },
   "file_extension": ".py",
   "mimetype": "text/x-python",
   "name": "python",
   "nbconvert_exporter": "python",
   "pygments_lexer": "ipython3",
   "version": "3.9.7"
  }
 },
 "nbformat": 4,
 "nbformat_minor": 5
}
