{
 "cells": [
  {
   "cell_type": "code",
   "execution_count": 2,
   "metadata": {},
   "outputs": [],
   "source": [
    "import pandas as pd\n",
    "from mlxtend.frequent_patterns import apriori, association_rules\n",
    "\n",
    "def apriori_generator(df):\n",
    "    #separando dataset\n",
    "    df_o = df[df['Tipo']=='Obras']\n",
    "    df_c = df[df['Tipo']=='Compras/Servicos']\n",
    "\n",
    "    #contagens\n",
    "    count_per_trans1 =df_o.groupby(['Número Licitação','Descrição'])['Descrição'].count().reset_index(name='Count')\n",
    "    count_per_trans2 =df_c.groupby(['Número Licitação','Descrição'])['Descrição'].count().reset_index(name='Count')\n",
    "\n",
    "    #pivot tables\n",
    "    Item_based_matrix1 = count_per_trans1.pivot_table(index='Número Licitação', columns='Descrição', values='Count', aggfunc='sum').fillna(0)\n",
    "    Item_based_matrix2 = count_per_trans2.pivot_table(index='Número Licitação', columns='Descrição', values='Count', aggfunc='sum').fillna(0)\n",
    "\n",
    "    #binarização\n",
    "    # Convert entries as 0 and 1\n",
    "    def encode(x):\n",
    "        if x <=0:\n",
    "            return 0\n",
    "\n",
    "        elif x >=1:\n",
    "            return 1\n",
    "\n",
    "    # apply the function\n",
    "    Item_based_matrix1 = Item_based_matrix1.applymap(encode)\n",
    "    Item_based_matrix2 = Item_based_matrix2.applymap(encode)\n",
    "\n",
    "    #apriori run\n",
    "    frequent_itemsets1 = apriori(Item_based_matrix1, min_support = 0.05, use_colnames = True)\n",
    "    frequent_itemsets2 = apriori(Item_based_matrix2, min_support = 0.05, use_colnames = True)\n",
    "\n",
    "    rules1 = association_rules(frequent_itemsets1, metric=\"confidence\", min_threshold=0.7)\n",
    "    obras_fim = rules1.sort_values('support').head(20)\n",
    "\n",
    "    rules2 = association_rules(frequent_itemsets2, metric=\"confidence\", min_threshold=0.7)\n",
    "    serv_fim = rules2.sort_values('support').head(20)\n",
    "\n",
    "    return(obras_fim,serv_fim)\n",
    "\n",
    "\n"
   ]
  },
  {
   "cell_type": "code",
   "execution_count": 3,
   "metadata": {},
   "outputs": [],
   "source": [
    "df = pd.read_csv(\"C:/Users/efvs/Documents/Residencia Ednael/Repositórios/residencia2/data/df_licitacao_itens_ilegais.zip\",compression='zip')"
   ]
  },
  {
   "cell_type": "code",
   "execution_count": 5,
   "metadata": {},
   "outputs": [
    {
     "name": "stderr",
     "output_type": "stream",
     "text": [
      "c:\\Users\\efvs\\miniconda3\\envs\\rsd\\lib\\site-packages\\mlxtend\\frequent_patterns\\fpcommon.py:111: DeprecationWarning: DataFrames with non-bool types result in worse computationalperformance and their support might be discontinued in the future.Please use a DataFrame with bool type\n",
      "  warnings.warn(\n",
      "c:\\Users\\efvs\\miniconda3\\envs\\rsd\\lib\\site-packages\\mlxtend\\frequent_patterns\\fpcommon.py:111: DeprecationWarning: DataFrames with non-bool types result in worse computationalperformance and their support might be discontinued in the future.Please use a DataFrame with bool type\n",
      "  warnings.warn(\n"
     ]
    }
   ],
   "source": [
    "obras_fim, serv_fim = apriori_generator(df)"
   ]
  },
  {
   "cell_type": "code",
   "execution_count": 7,
   "metadata": {},
   "outputs": [
    {
     "data": {
      "text/plain": [
       "0                                                 BRITA\n",
       "1                                                 AREIA\n",
       "21                         MANUTENCAO / REFORMA PREDIAL\n",
       "22                                   SERVICO ENGENHARIA\n",
       "14                                      ÓCULOS PROTEÇÃO\n",
       "11                 INSTALACAO / MANUTENCAO - PISO GERAL\n",
       "17                                   PROTETOR AURICULAR\n",
       "8                                                 CORDA\n",
       "9                                       ÓCULOS PROTEÇÃO\n",
       "6                                                 CORDA\n",
       "5                                    PROTETOR AURICULAR\n",
       "3                                      CONE SINALIZAÇÃO\n",
       "2                                                 CORDA\n",
       "7                                                 CORDA\n",
       "18                                      ÓCULOS PROTEÇÃO\n",
       "13                                SERVICOS DE ALVENARIA\n",
       "16    PRESTACAO DE SERVICO DE LIMPEZA E CONSERVACAO ...\n",
       "4                                                 CORDA\n",
       "15                                SERVICOS DE ALVENARIA\n",
       "24                                   SERVICO ENGENHARIA\n",
       "Name: antecedents, dtype: object"
      ]
     },
     "execution_count": 7,
     "metadata": {},
     "output_type": "execute_result"
    }
   ],
   "source": [
    "obras_fim['antecedents'].apply(lambda x: list(x)[0])"
   ]
  },
  {
   "cell_type": "code",
   "execution_count": 53,
   "metadata": {},
   "outputs": [
    {
     "name": "stderr",
     "output_type": "stream",
     "text": [
      "c:\\Users\\efvs\\miniconda3\\envs\\rsd\\lib\\site-packages\\plotly\\express\\_core.py:1637: FutureWarning:\n",
      "\n",
      "The frame.append method is deprecated and will be removed from pandas in a future version. Use pandas.concat instead.\n",
      "\n",
      "c:\\Users\\efvs\\miniconda3\\envs\\rsd\\lib\\site-packages\\plotly\\express\\_core.py:1637: FutureWarning:\n",
      "\n",
      "The frame.append method is deprecated and will be removed from pandas in a future version. Use pandas.concat instead.\n",
      "\n",
      "c:\\Users\\efvs\\miniconda3\\envs\\rsd\\lib\\site-packages\\plotly\\express\\_core.py:1637: FutureWarning:\n",
      "\n",
      "The frame.append method is deprecated and will be removed from pandas in a future version. Use pandas.concat instead.\n",
      "\n"
     ]
    }
   ],
   "source": [
    "import plotly.express as px\n",
    "\n",
    "fig = px.treemap(obras_fim,path=[px.Constant('Itens'),'antecedents','consequents'],\n",
    "                        values='confidence',maxdepth=3,color='support',color_continuous_scale='Viridis')"
   ]
  },
  {
   "cell_type": "code",
   "execution_count": 54,
   "metadata": {},
   "outputs": [
    {
     "name": "stderr",
     "output_type": "stream",
     "text": [
      "c:\\Users\\efvs\\miniconda3\\envs\\rsd\\lib\\site-packages\\plotly\\io\\_renderers.py:396: DeprecationWarning:\n",
      "\n",
      "distutils Version classes are deprecated. Use packaging.version instead.\n",
      "\n",
      "c:\\Users\\efvs\\miniconda3\\envs\\rsd\\lib\\site-packages\\plotly\\io\\_renderers.py:396: DeprecationWarning:\n",
      "\n",
      "distutils Version classes are deprecated. Use packaging.version instead.\n",
      "\n"
     ]
    },
    {
     "data": {
      "application/vnd.plotly.v1+json": {
       "config": {
        "plotlyServerURL": "https://plot.ly"
       },
       "data": [
        {
         "branchvalues": "total",
         "customdata": [
          [
           0.05008347245409015
          ],
          [
           0.05008347245409015
          ],
          [
           0.05008347245409016
          ],
          [
           0.05175292153589316
          ],
          [
           0.05676126878130217
          ],
          [
           0.05509181969949917
          ],
          [
           0.05008347245409015
          ],
          [
           0.05175292153589316
          ],
          [
           0.05509181969949917
          ],
          [
           0.05843071786310517
          ],
          [
           0.05175292153589316
          ],
          [
           0.05676126878130217
          ],
          [
           0.05175292153589316
          ],
          [
           0.05175292153589316
          ],
          [
           0.05175292153589316
          ],
          [
           0.05175292153589316
          ],
          [
           0.05175292153589316
          ],
          [
           0.05175292153589316
          ],
          [
           0.05175292153589316
          ],
          [
           0.05175292153589316
          ],
          [
           0.05008347245409015
          ],
          [
           0.05008347245409015
          ],
          [
           0.05008347245409016
          ],
          [
           0.05008347245409015
          ],
          [
           0.05175292153589316
          ],
          [
           0.05175292153589316
          ],
          [
           0.052830667145664714
          ],
          [
           0.05175292153589316
          ],
          [
           0.05175292153589316
          ],
          [
           0.055939002815638
          ],
          [
           0.05509181969949917
          ],
          [
           0.05843071786310517
          ],
          [
           0.05260266270886211
          ]
         ],
         "domain": {
          "x": [
           0,
           1
          ],
          "y": [
           0,
           1
          ]
         },
         "hovertemplate": "labels=%{label}<br>confidence=%{value}<br>parent=%{parent}<br>id=%{id}<br>support=%{color}<extra></extra>",
         "ids": [
          "Itens/frozenset({'AREIA'})/frozenset({'BRITA'})",
          "Itens/frozenset({'BRITA'})/frozenset({'AREIA'})",
          "Itens/frozenset({'PRESTACAO DE SERVICOS DE APOIO ADMINISTRATIVO', 'SERVICO ENGENHARIA'})/frozenset({'MANUTENCAO / REFORMA PREDIAL'})",
          "Itens/frozenset({'ÓCULOS PROTEÇÃO'})/frozenset({'MANUTENCAO / REFORMA PREDIAL'})",
          "Itens/frozenset({'CORDA'})/frozenset({'MANUTENCAO / REFORMA PREDIAL'})",
          "Itens/frozenset({'SERVICOS DE ALVENARIA'})/frozenset({'MANUTENCAO / REFORMA PREDIAL'})",
          "Itens/frozenset({'MANUTENCAO / REFORMA PREDIAL', 'PRESTACAO DE SERVICOS DE APOIO ADMINISTRATIVO'})/frozenset({'SERVICO ENGENHARIA'})",
          "Itens/frozenset({'CORDA'})/frozenset({'SERVICO ENGENHARIA'})",
          "Itens/frozenset({'PRESTACAO DE SERVICO DE LIMPEZA E CONSERVACAO - OUTRAS      NECESSIDADES'})/frozenset({'SERVICO ENGENHARIA'})",
          "Itens/frozenset({'SERVICO ESPECIALIZADO DE LIMPEZA', 'MANUTENCAO / REFORMA PREDIAL'})/frozenset({'SERVICO ENGENHARIA'})",
          "Itens/frozenset({'INSTALACAO / MANUTENCAO - PISO GERAL'})/frozenset({'OBRAS CIVIS - PEQUENAS OBRAS / PINTURA EM GERAL'})",
          "Itens/frozenset({'SERVICOS DE ALVENARIA'})/frozenset({'OBRAS CIVIS - PEQUENAS OBRAS / PINTURA EM GERAL'})",
          "Itens/frozenset({'ÓCULOS PROTEÇÃO'})/frozenset({'PROTETOR AURICULAR'})",
          "Itens/frozenset({'CORDA'})/frozenset({'PROTETOR AURICULAR'})",
          "Itens/frozenset({'ÓCULOS PROTEÇÃO'})/frozenset({'CORDA'})",
          "Itens/frozenset({'PROTETOR AURICULAR'})/frozenset({'CORDA'})",
          "Itens/frozenset({'CONE SINALIZAÇÃO'})/frozenset({'CORDA'})",
          "Itens/frozenset({'CORDA'})/frozenset({'ÓCULOS PROTEÇÃO'})",
          "Itens/frozenset({'PROTETOR AURICULAR'})/frozenset({'ÓCULOS PROTEÇÃO'})",
          "Itens/frozenset({'CORDA'})/frozenset({'CONE SINALIZAÇÃO'})",
          "Itens/frozenset({'AREIA'})",
          "Itens/frozenset({'BRITA'})",
          "Itens/frozenset({'PRESTACAO DE SERVICOS DE APOIO ADMINISTRATIVO', 'SERVICO ENGENHARIA'})",
          "Itens/frozenset({'MANUTENCAO / REFORMA PREDIAL', 'PRESTACAO DE SERVICOS DE APOIO ADMINISTRATIVO'})",
          "Itens/frozenset({'ÓCULOS PROTEÇÃO'})",
          "Itens/frozenset({'INSTALACAO / MANUTENCAO - PISO GERAL'})",
          "Itens/frozenset({'CORDA'})",
          "Itens/frozenset({'PROTETOR AURICULAR'})",
          "Itens/frozenset({'CONE SINALIZAÇÃO'})",
          "Itens/frozenset({'SERVICOS DE ALVENARIA'})",
          "Itens/frozenset({'PRESTACAO DE SERVICO DE LIMPEZA E CONSERVACAO - OUTRAS      NECESSIDADES'})",
          "Itens/frozenset({'SERVICO ESPECIALIZADO DE LIMPEZA', 'MANUTENCAO / REFORMA PREDIAL'})",
          "Itens"
         ],
         "labels": [
          "frozenset({'BRITA'})",
          "frozenset({'AREIA'})",
          "frozenset({'MANUTENCAO / REFORMA PREDIAL'})",
          "frozenset({'MANUTENCAO / REFORMA PREDIAL'})",
          "frozenset({'MANUTENCAO / REFORMA PREDIAL'})",
          "frozenset({'MANUTENCAO / REFORMA PREDIAL'})",
          "frozenset({'SERVICO ENGENHARIA'})",
          "frozenset({'SERVICO ENGENHARIA'})",
          "frozenset({'SERVICO ENGENHARIA'})",
          "frozenset({'SERVICO ENGENHARIA'})",
          "frozenset({'OBRAS CIVIS - PEQUENAS OBRAS / PINTURA EM GERAL'})",
          "frozenset({'OBRAS CIVIS - PEQUENAS OBRAS / PINTURA EM GERAL'})",
          "frozenset({'PROTETOR AURICULAR'})",
          "frozenset({'PROTETOR AURICULAR'})",
          "frozenset({'CORDA'})",
          "frozenset({'CORDA'})",
          "frozenset({'CORDA'})",
          "frozenset({'ÓCULOS PROTEÇÃO'})",
          "frozenset({'ÓCULOS PROTEÇÃO'})",
          "frozenset({'CONE SINALIZAÇÃO'})",
          "frozenset({'AREIA'})",
          "frozenset({'BRITA'})",
          "frozenset({'PRESTACAO DE SERVICOS DE APOIO ADMINISTRATIVO', 'SERVICO ENGENHARIA'})",
          "frozenset({'MANUTENCAO / REFORMA PREDIAL', 'PRESTACAO DE SERVICOS DE APOIO ADMINISTRATIVO'})",
          "frozenset({'ÓCULOS PROTEÇÃO'})",
          "frozenset({'INSTALACAO / MANUTENCAO - PISO GERAL'})",
          "frozenset({'CORDA'})",
          "frozenset({'PROTETOR AURICULAR'})",
          "frozenset({'CONE SINALIZAÇÃO'})",
          "frozenset({'SERVICOS DE ALVENARIA'})",
          "frozenset({'PRESTACAO DE SERVICO DE LIMPEZA E CONSERVACAO - OUTRAS      NECESSIDADES'})",
          "frozenset({'SERVICO ESPECIALIZADO DE LIMPEZA', 'MANUTENCAO / REFORMA PREDIAL'})",
          "Itens"
         ],
         "marker": {
          "coloraxis": "coloraxis",
          "colors": [
           0.05008347245409015,
           0.05008347245409015,
           0.05008347245409016,
           0.05175292153589316,
           0.05676126878130217,
           0.05509181969949917,
           0.05008347245409015,
           0.05175292153589316,
           0.05509181969949917,
           0.05843071786310517,
           0.05175292153589316,
           0.05676126878130217,
           0.05175292153589316,
           0.05175292153589316,
           0.05175292153589316,
           0.05175292153589316,
           0.05175292153589316,
           0.05175292153589316,
           0.05175292153589316,
           0.05175292153589316,
           0.05008347245409015,
           0.05008347245409015,
           0.05008347245409016,
           0.05008347245409015,
           0.05175292153589316,
           0.05175292153589316,
           0.052830667145664714,
           0.05175292153589316,
           0.05175292153589316,
           0.055939002815638,
           0.05509181969949917,
           0.05843071786310517,
           0.05260266270886211
          ]
         },
         "maxdepth": 3,
         "name": "",
         "parents": [
          "Itens/frozenset({'AREIA'})",
          "Itens/frozenset({'BRITA'})",
          "Itens/frozenset({'PRESTACAO DE SERVICOS DE APOIO ADMINISTRATIVO', 'SERVICO ENGENHARIA'})",
          "Itens/frozenset({'ÓCULOS PROTEÇÃO'})",
          "Itens/frozenset({'CORDA'})",
          "Itens/frozenset({'SERVICOS DE ALVENARIA'})",
          "Itens/frozenset({'MANUTENCAO / REFORMA PREDIAL', 'PRESTACAO DE SERVICOS DE APOIO ADMINISTRATIVO'})",
          "Itens/frozenset({'CORDA'})",
          "Itens/frozenset({'PRESTACAO DE SERVICO DE LIMPEZA E CONSERVACAO - OUTRAS      NECESSIDADES'})",
          "Itens/frozenset({'SERVICO ESPECIALIZADO DE LIMPEZA', 'MANUTENCAO / REFORMA PREDIAL'})",
          "Itens/frozenset({'INSTALACAO / MANUTENCAO - PISO GERAL'})",
          "Itens/frozenset({'SERVICOS DE ALVENARIA'})",
          "Itens/frozenset({'ÓCULOS PROTEÇÃO'})",
          "Itens/frozenset({'CORDA'})",
          "Itens/frozenset({'ÓCULOS PROTEÇÃO'})",
          "Itens/frozenset({'PROTETOR AURICULAR'})",
          "Itens/frozenset({'CONE SINALIZAÇÃO'})",
          "Itens/frozenset({'CORDA'})",
          "Itens/frozenset({'PROTETOR AURICULAR'})",
          "Itens/frozenset({'CORDA'})",
          "Itens",
          "Itens",
          "Itens",
          "Itens",
          "Itens",
          "Itens",
          "Itens",
          "Itens",
          "Itens",
          "Itens",
          "Itens",
          "Itens",
          ""
         ],
         "type": "treemap",
         "values": [
          0.7692307692307692,
          0.7317073170731707,
          0.8108108108108107,
          0.775,
          0.7906976744186046,
          0.8250000000000001,
          0.7894736842105263,
          0.7209302325581395,
          0.7333333333333333,
          0.7142857142857143,
          0.7209302325581395,
          0.8500000000000001,
          0.775,
          0.7209302325581395,
          0.775,
          0.8157894736842106,
          0.7380952380952381,
          0.7209302325581395,
          0.8157894736842106,
          0.7209302325581395,
          0.7692307692307692,
          0.7317073170731707,
          0.8108108108108107,
          0.7894736842105263,
          2.325,
          0.7209302325581395,
          3.6744186046511627,
          1.6315789473684212,
          0.7380952380952381,
          1.6750000000000003,
          0.7333333333333333,
          0.7142857142857143,
          15.313864651617287
         ]
        }
       ],
       "layout": {
        "coloraxis": {
         "colorbar": {
          "title": {
           "text": "support"
          }
         },
         "colorscale": [
          [
           0,
           "#440154"
          ],
          [
           0.1111111111111111,
           "#482878"
          ],
          [
           0.2222222222222222,
           "#3e4989"
          ],
          [
           0.3333333333333333,
           "#31688e"
          ],
          [
           0.4444444444444444,
           "#26828e"
          ],
          [
           0.5555555555555556,
           "#1f9e89"
          ],
          [
           0.6666666666666666,
           "#35b779"
          ],
          [
           0.7777777777777778,
           "#6ece58"
          ],
          [
           0.8888888888888888,
           "#b5de2b"
          ],
          [
           1,
           "#fde725"
          ]
         ]
        },
        "legend": {
         "tracegroupgap": 0
        },
        "margin": {
         "t": 60
        },
        "template": {
         "data": {
          "bar": [
           {
            "error_x": {
             "color": "#2a3f5f"
            },
            "error_y": {
             "color": "#2a3f5f"
            },
            "marker": {
             "line": {
              "color": "#E5ECF6",
              "width": 0.5
             },
             "pattern": {
              "fillmode": "overlay",
              "size": 10,
              "solidity": 0.2
             }
            },
            "type": "bar"
           }
          ],
          "barpolar": [
           {
            "marker": {
             "line": {
              "color": "#E5ECF6",
              "width": 0.5
             },
             "pattern": {
              "fillmode": "overlay",
              "size": 10,
              "solidity": 0.2
             }
            },
            "type": "barpolar"
           }
          ],
          "carpet": [
           {
            "aaxis": {
             "endlinecolor": "#2a3f5f",
             "gridcolor": "white",
             "linecolor": "white",
             "minorgridcolor": "white",
             "startlinecolor": "#2a3f5f"
            },
            "baxis": {
             "endlinecolor": "#2a3f5f",
             "gridcolor": "white",
             "linecolor": "white",
             "minorgridcolor": "white",
             "startlinecolor": "#2a3f5f"
            },
            "type": "carpet"
           }
          ],
          "choropleth": [
           {
            "colorbar": {
             "outlinewidth": 0,
             "ticks": ""
            },
            "type": "choropleth"
           }
          ],
          "contour": [
           {
            "colorbar": {
             "outlinewidth": 0,
             "ticks": ""
            },
            "colorscale": [
             [
              0,
              "#0d0887"
             ],
             [
              0.1111111111111111,
              "#46039f"
             ],
             [
              0.2222222222222222,
              "#7201a8"
             ],
             [
              0.3333333333333333,
              "#9c179e"
             ],
             [
              0.4444444444444444,
              "#bd3786"
             ],
             [
              0.5555555555555556,
              "#d8576b"
             ],
             [
              0.6666666666666666,
              "#ed7953"
             ],
             [
              0.7777777777777778,
              "#fb9f3a"
             ],
             [
              0.8888888888888888,
              "#fdca26"
             ],
             [
              1,
              "#f0f921"
             ]
            ],
            "type": "contour"
           }
          ],
          "contourcarpet": [
           {
            "colorbar": {
             "outlinewidth": 0,
             "ticks": ""
            },
            "type": "contourcarpet"
           }
          ],
          "heatmap": [
           {
            "colorbar": {
             "outlinewidth": 0,
             "ticks": ""
            },
            "colorscale": [
             [
              0,
              "#0d0887"
             ],
             [
              0.1111111111111111,
              "#46039f"
             ],
             [
              0.2222222222222222,
              "#7201a8"
             ],
             [
              0.3333333333333333,
              "#9c179e"
             ],
             [
              0.4444444444444444,
              "#bd3786"
             ],
             [
              0.5555555555555556,
              "#d8576b"
             ],
             [
              0.6666666666666666,
              "#ed7953"
             ],
             [
              0.7777777777777778,
              "#fb9f3a"
             ],
             [
              0.8888888888888888,
              "#fdca26"
             ],
             [
              1,
              "#f0f921"
             ]
            ],
            "type": "heatmap"
           }
          ],
          "heatmapgl": [
           {
            "colorbar": {
             "outlinewidth": 0,
             "ticks": ""
            },
            "colorscale": [
             [
              0,
              "#0d0887"
             ],
             [
              0.1111111111111111,
              "#46039f"
             ],
             [
              0.2222222222222222,
              "#7201a8"
             ],
             [
              0.3333333333333333,
              "#9c179e"
             ],
             [
              0.4444444444444444,
              "#bd3786"
             ],
             [
              0.5555555555555556,
              "#d8576b"
             ],
             [
              0.6666666666666666,
              "#ed7953"
             ],
             [
              0.7777777777777778,
              "#fb9f3a"
             ],
             [
              0.8888888888888888,
              "#fdca26"
             ],
             [
              1,
              "#f0f921"
             ]
            ],
            "type": "heatmapgl"
           }
          ],
          "histogram": [
           {
            "marker": {
             "pattern": {
              "fillmode": "overlay",
              "size": 10,
              "solidity": 0.2
             }
            },
            "type": "histogram"
           }
          ],
          "histogram2d": [
           {
            "colorbar": {
             "outlinewidth": 0,
             "ticks": ""
            },
            "colorscale": [
             [
              0,
              "#0d0887"
             ],
             [
              0.1111111111111111,
              "#46039f"
             ],
             [
              0.2222222222222222,
              "#7201a8"
             ],
             [
              0.3333333333333333,
              "#9c179e"
             ],
             [
              0.4444444444444444,
              "#bd3786"
             ],
             [
              0.5555555555555556,
              "#d8576b"
             ],
             [
              0.6666666666666666,
              "#ed7953"
             ],
             [
              0.7777777777777778,
              "#fb9f3a"
             ],
             [
              0.8888888888888888,
              "#fdca26"
             ],
             [
              1,
              "#f0f921"
             ]
            ],
            "type": "histogram2d"
           }
          ],
          "histogram2dcontour": [
           {
            "colorbar": {
             "outlinewidth": 0,
             "ticks": ""
            },
            "colorscale": [
             [
              0,
              "#0d0887"
             ],
             [
              0.1111111111111111,
              "#46039f"
             ],
             [
              0.2222222222222222,
              "#7201a8"
             ],
             [
              0.3333333333333333,
              "#9c179e"
             ],
             [
              0.4444444444444444,
              "#bd3786"
             ],
             [
              0.5555555555555556,
              "#d8576b"
             ],
             [
              0.6666666666666666,
              "#ed7953"
             ],
             [
              0.7777777777777778,
              "#fb9f3a"
             ],
             [
              0.8888888888888888,
              "#fdca26"
             ],
             [
              1,
              "#f0f921"
             ]
            ],
            "type": "histogram2dcontour"
           }
          ],
          "mesh3d": [
           {
            "colorbar": {
             "outlinewidth": 0,
             "ticks": ""
            },
            "type": "mesh3d"
           }
          ],
          "parcoords": [
           {
            "line": {
             "colorbar": {
              "outlinewidth": 0,
              "ticks": ""
             }
            },
            "type": "parcoords"
           }
          ],
          "pie": [
           {
            "automargin": true,
            "type": "pie"
           }
          ],
          "scatter": [
           {
            "marker": {
             "colorbar": {
              "outlinewidth": 0,
              "ticks": ""
             }
            },
            "type": "scatter"
           }
          ],
          "scatter3d": [
           {
            "line": {
             "colorbar": {
              "outlinewidth": 0,
              "ticks": ""
             }
            },
            "marker": {
             "colorbar": {
              "outlinewidth": 0,
              "ticks": ""
             }
            },
            "type": "scatter3d"
           }
          ],
          "scattercarpet": [
           {
            "marker": {
             "colorbar": {
              "outlinewidth": 0,
              "ticks": ""
             }
            },
            "type": "scattercarpet"
           }
          ],
          "scattergeo": [
           {
            "marker": {
             "colorbar": {
              "outlinewidth": 0,
              "ticks": ""
             }
            },
            "type": "scattergeo"
           }
          ],
          "scattergl": [
           {
            "marker": {
             "colorbar": {
              "outlinewidth": 0,
              "ticks": ""
             }
            },
            "type": "scattergl"
           }
          ],
          "scattermapbox": [
           {
            "marker": {
             "colorbar": {
              "outlinewidth": 0,
              "ticks": ""
             }
            },
            "type": "scattermapbox"
           }
          ],
          "scatterpolar": [
           {
            "marker": {
             "colorbar": {
              "outlinewidth": 0,
              "ticks": ""
             }
            },
            "type": "scatterpolar"
           }
          ],
          "scatterpolargl": [
           {
            "marker": {
             "colorbar": {
              "outlinewidth": 0,
              "ticks": ""
             }
            },
            "type": "scatterpolargl"
           }
          ],
          "scatterternary": [
           {
            "marker": {
             "colorbar": {
              "outlinewidth": 0,
              "ticks": ""
             }
            },
            "type": "scatterternary"
           }
          ],
          "surface": [
           {
            "colorbar": {
             "outlinewidth": 0,
             "ticks": ""
            },
            "colorscale": [
             [
              0,
              "#0d0887"
             ],
             [
              0.1111111111111111,
              "#46039f"
             ],
             [
              0.2222222222222222,
              "#7201a8"
             ],
             [
              0.3333333333333333,
              "#9c179e"
             ],
             [
              0.4444444444444444,
              "#bd3786"
             ],
             [
              0.5555555555555556,
              "#d8576b"
             ],
             [
              0.6666666666666666,
              "#ed7953"
             ],
             [
              0.7777777777777778,
              "#fb9f3a"
             ],
             [
              0.8888888888888888,
              "#fdca26"
             ],
             [
              1,
              "#f0f921"
             ]
            ],
            "type": "surface"
           }
          ],
          "table": [
           {
            "cells": {
             "fill": {
              "color": "#EBF0F8"
             },
             "line": {
              "color": "white"
             }
            },
            "header": {
             "fill": {
              "color": "#C8D4E3"
             },
             "line": {
              "color": "white"
             }
            },
            "type": "table"
           }
          ]
         },
         "layout": {
          "annotationdefaults": {
           "arrowcolor": "#2a3f5f",
           "arrowhead": 0,
           "arrowwidth": 1
          },
          "autotypenumbers": "strict",
          "coloraxis": {
           "colorbar": {
            "outlinewidth": 0,
            "ticks": ""
           }
          },
          "colorscale": {
           "diverging": [
            [
             0,
             "#8e0152"
            ],
            [
             0.1,
             "#c51b7d"
            ],
            [
             0.2,
             "#de77ae"
            ],
            [
             0.3,
             "#f1b6da"
            ],
            [
             0.4,
             "#fde0ef"
            ],
            [
             0.5,
             "#f7f7f7"
            ],
            [
             0.6,
             "#e6f5d0"
            ],
            [
             0.7,
             "#b8e186"
            ],
            [
             0.8,
             "#7fbc41"
            ],
            [
             0.9,
             "#4d9221"
            ],
            [
             1,
             "#276419"
            ]
           ],
           "sequential": [
            [
             0,
             "#0d0887"
            ],
            [
             0.1111111111111111,
             "#46039f"
            ],
            [
             0.2222222222222222,
             "#7201a8"
            ],
            [
             0.3333333333333333,
             "#9c179e"
            ],
            [
             0.4444444444444444,
             "#bd3786"
            ],
            [
             0.5555555555555556,
             "#d8576b"
            ],
            [
             0.6666666666666666,
             "#ed7953"
            ],
            [
             0.7777777777777778,
             "#fb9f3a"
            ],
            [
             0.8888888888888888,
             "#fdca26"
            ],
            [
             1,
             "#f0f921"
            ]
           ],
           "sequentialminus": [
            [
             0,
             "#0d0887"
            ],
            [
             0.1111111111111111,
             "#46039f"
            ],
            [
             0.2222222222222222,
             "#7201a8"
            ],
            [
             0.3333333333333333,
             "#9c179e"
            ],
            [
             0.4444444444444444,
             "#bd3786"
            ],
            [
             0.5555555555555556,
             "#d8576b"
            ],
            [
             0.6666666666666666,
             "#ed7953"
            ],
            [
             0.7777777777777778,
             "#fb9f3a"
            ],
            [
             0.8888888888888888,
             "#fdca26"
            ],
            [
             1,
             "#f0f921"
            ]
           ]
          },
          "colorway": [
           "#636efa",
           "#EF553B",
           "#00cc96",
           "#ab63fa",
           "#FFA15A",
           "#19d3f3",
           "#FF6692",
           "#B6E880",
           "#FF97FF",
           "#FECB52"
          ],
          "font": {
           "color": "#2a3f5f"
          },
          "geo": {
           "bgcolor": "white",
           "lakecolor": "white",
           "landcolor": "#E5ECF6",
           "showlakes": true,
           "showland": true,
           "subunitcolor": "white"
          },
          "hoverlabel": {
           "align": "left"
          },
          "hovermode": "closest",
          "mapbox": {
           "style": "light"
          },
          "paper_bgcolor": "white",
          "plot_bgcolor": "#E5ECF6",
          "polar": {
           "angularaxis": {
            "gridcolor": "white",
            "linecolor": "white",
            "ticks": ""
           },
           "bgcolor": "#E5ECF6",
           "radialaxis": {
            "gridcolor": "white",
            "linecolor": "white",
            "ticks": ""
           }
          },
          "scene": {
           "xaxis": {
            "backgroundcolor": "#E5ECF6",
            "gridcolor": "white",
            "gridwidth": 2,
            "linecolor": "white",
            "showbackground": true,
            "ticks": "",
            "zerolinecolor": "white"
           },
           "yaxis": {
            "backgroundcolor": "#E5ECF6",
            "gridcolor": "white",
            "gridwidth": 2,
            "linecolor": "white",
            "showbackground": true,
            "ticks": "",
            "zerolinecolor": "white"
           },
           "zaxis": {
            "backgroundcolor": "#E5ECF6",
            "gridcolor": "white",
            "gridwidth": 2,
            "linecolor": "white",
            "showbackground": true,
            "ticks": "",
            "zerolinecolor": "white"
           }
          },
          "shapedefaults": {
           "line": {
            "color": "#2a3f5f"
           }
          },
          "ternary": {
           "aaxis": {
            "gridcolor": "white",
            "linecolor": "white",
            "ticks": ""
           },
           "baxis": {
            "gridcolor": "white",
            "linecolor": "white",
            "ticks": ""
           },
           "bgcolor": "#E5ECF6",
           "caxis": {
            "gridcolor": "white",
            "linecolor": "white",
            "ticks": ""
           }
          },
          "title": {
           "x": 0.05
          },
          "xaxis": {
           "automargin": true,
           "gridcolor": "white",
           "linecolor": "white",
           "ticks": "",
           "title": {
            "standoff": 15
           },
           "zerolinecolor": "white",
           "zerolinewidth": 2
          },
          "yaxis": {
           "automargin": true,
           "gridcolor": "white",
           "linecolor": "white",
           "ticks": "",
           "title": {
            "standoff": 15
           },
           "zerolinecolor": "white",
           "zerolinewidth": 2
          }
         }
        }
       }
      }
     },
     "metadata": {},
     "output_type": "display_data"
    }
   ],
   "source": [
    "fig.show()"
   ]
  },
  {
   "cell_type": "code",
   "execution_count": null,
   "metadata": {},
   "outputs": [],
   "source": []
  }
 ],
 "metadata": {
  "kernelspec": {
   "display_name": "Python 3.9.7 ('rsd')",
   "language": "python",
   "name": "python3"
  },
  "language_info": {
   "codemirror_mode": {
    "name": "ipython",
    "version": 3
   },
   "file_extension": ".py",
   "mimetype": "text/x-python",
   "name": "python",
   "nbconvert_exporter": "python",
   "pygments_lexer": "ipython3",
   "version": "3.9.7"
  },
  "orig_nbformat": 4,
  "vscode": {
   "interpreter": {
    "hash": "50dab69fff78360556d5658a4e20acdc011508dd645a6812d1dd4e32552e63b0"
   }
  }
 },
 "nbformat": 4,
 "nbformat_minor": 2
}
