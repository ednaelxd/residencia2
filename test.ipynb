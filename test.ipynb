{
 "cells": [
  {
   "cell_type": "code",
   "execution_count": 1,
   "metadata": {},
   "outputs": [
    {
     "name": "stdout",
     "output_type": "stream",
     "text": [
      ". . . . . Importando dados lict . . . . .\n",
      "\n",
      ". . . . . . .Adc Coluna Obras . . . . . .\n",
      "\n",
      ". . . . . . .TAGUIANDO . . . . . .\n",
      "\n",
      ". . . . . . .Importando base participantes . . . . . .\n",
      "\n",
      ". . .Concatenando Informações part. . . .\n",
      "\n",
      ". . . .  . Adicionando Cidades. . . . . .\n",
      "\n"
     ]
    }
   ],
   "source": [
    "from functions import generate_data"
   ]
  },
  {
   "cell_type": "code",
   "execution_count": 2,
   "metadata": {},
   "outputs": [
    {
     "name": "stderr",
     "output_type": "stream",
     "text": [
      "C:\\Users\\efvs\\miniconda3\\envs\\rsd\\lib\\site-packages\\IPython\\core\\interactiveshell.py:3457: DtypeWarning: Columns (6,21) have mixed types.Specify dtype option on import or set low_memory=False.\n",
      "  exec(code_obj, self.user_global_ns, self.user_ns)\n"
     ]
    }
   ],
   "source": [
    "import pandas as pd\n",
    "\n",
    "df = pd.read_csv('df_geral.csv')"
   ]
  },
  {
   "cell_type": "code",
   "execution_count": 9,
   "metadata": {},
   "outputs": [
    {
     "data": {
      "text/plain": [
       "(17591101, 26)"
      ]
     },
     "execution_count": 9,
     "metadata": {},
     "output_type": "execute_result"
    }
   ],
   "source": [
    "df.shape"
   ]
  },
  {
   "cell_type": "code",
   "execution_count": 4,
   "metadata": {},
   "outputs": [
    {
     "data": {
      "text/plain": [
       "Pregão - Registro de Preço    14130168\n",
       "Dispensa de Licitação          1910184\n",
       "Pregão                         1550749\n",
       "Name: Modalidade Compra, dtype: int64"
      ]
     },
     "execution_count": 4,
     "metadata": {},
     "output_type": "execute_result"
    }
   ],
   "source": [
    "df['Modalidade Compra'].value_counts()"
   ]
  },
  {
   "cell_type": "code",
   "execution_count": 5,
   "metadata": {},
   "outputs": [
    {
     "data": {
      "text/html": [
       "<div>\n",
       "<style scoped>\n",
       "    .dataframe tbody tr th:only-of-type {\n",
       "        vertical-align: middle;\n",
       "    }\n",
       "\n",
       "    .dataframe tbody tr th {\n",
       "        vertical-align: top;\n",
       "    }\n",
       "\n",
       "    .dataframe thead th {\n",
       "        text-align: right;\n",
       "    }\n",
       "</style>\n",
       "<table border=\"1\" class=\"dataframe\">\n",
       "  <thead>\n",
       "    <tr style=\"text-align: right;\">\n",
       "      <th></th>\n",
       "      <th>Unnamed: 0</th>\n",
       "      <th>Número Licitação_x</th>\n",
       "      <th>Código UG</th>\n",
       "      <th>Nome UG</th>\n",
       "      <th>Código Modalidade Compra</th>\n",
       "      <th>Modalidade Compra</th>\n",
       "      <th>Número Processo</th>\n",
       "      <th>Objeto</th>\n",
       "      <th>Situação Licitação</th>\n",
       "      <th>Código Órgão Superior</th>\n",
       "      <th>...</th>\n",
       "      <th>Total</th>\n",
       "      <th>Obras</th>\n",
       "      <th>Tag</th>\n",
       "      <th>Número Licitação_y</th>\n",
       "      <th>Descrição Item Compra</th>\n",
       "      <th>CNPJ Participante</th>\n",
       "      <th>Nome Participante</th>\n",
       "      <th>Flag Vencedor</th>\n",
       "      <th>Unnamed: 0.1</th>\n",
       "      <th>UF</th>\n",
       "    </tr>\n",
       "  </thead>\n",
       "  <tbody>\n",
       "    <tr>\n",
       "      <th>0</th>\n",
       "      <td>0</td>\n",
       "      <td>12018</td>\n",
       "      <td>153036</td>\n",
       "      <td>UNIVERSIDADE FED.VALES JEQUITINHONHA E MUCURI</td>\n",
       "      <td>-99</td>\n",
       "      <td>Pregão - Registro de Preço</td>\n",
       "      <td>23086000649201861</td>\n",
       "      <td>Objeto: Pregão Eletrônico -  Sistema de Regist...</td>\n",
       "      <td>Evento de Suspensão Publicado</td>\n",
       "      <td>26000</td>\n",
       "      <td>...</td>\n",
       "      <td>714.57</td>\n",
       "      <td>Obra</td>\n",
       "      <td>0</td>\n",
       "      <td>12018</td>\n",
       "      <td>MANUTENCAO / INSTALACOES PREDIAIS ELETRONICAS</td>\n",
       "      <td>5202938000108</td>\n",
       "      <td>HC COMUNICACAO DE DADOS LTDA</td>\n",
       "      <td>NÃO</td>\n",
       "      <td>2483</td>\n",
       "      <td>MG</td>\n",
       "    </tr>\n",
       "    <tr>\n",
       "      <th>1</th>\n",
       "      <td>1</td>\n",
       "      <td>12018</td>\n",
       "      <td>153036</td>\n",
       "      <td>UNIVERSIDADE FED.VALES JEQUITINHONHA E MUCURI</td>\n",
       "      <td>-99</td>\n",
       "      <td>Pregão - Registro de Preço</td>\n",
       "      <td>23086000649201861</td>\n",
       "      <td>Objeto: Pregão Eletrônico -  Sistema de Regist...</td>\n",
       "      <td>Evento de Suspensão Publicado</td>\n",
       "      <td>26000</td>\n",
       "      <td>...</td>\n",
       "      <td>714.57</td>\n",
       "      <td>Obra</td>\n",
       "      <td>0</td>\n",
       "      <td>12018</td>\n",
       "      <td>MANUTENCAO / INSTALACOES PREDIAIS ELETRONICAS</td>\n",
       "      <td>4503070000113</td>\n",
       "      <td>DINIZ TECNOLOGIA E SOLUCOES EIRELI</td>\n",
       "      <td>NÃO</td>\n",
       "      <td>2483</td>\n",
       "      <td>MG</td>\n",
       "    </tr>\n",
       "    <tr>\n",
       "      <th>2</th>\n",
       "      <td>2</td>\n",
       "      <td>12018</td>\n",
       "      <td>153036</td>\n",
       "      <td>UNIVERSIDADE FED.VALES JEQUITINHONHA E MUCURI</td>\n",
       "      <td>-99</td>\n",
       "      <td>Pregão - Registro de Preço</td>\n",
       "      <td>23086000649201861</td>\n",
       "      <td>Objeto: Pregão Eletrônico -  Sistema de Regist...</td>\n",
       "      <td>Evento de Suspensão Publicado</td>\n",
       "      <td>26000</td>\n",
       "      <td>...</td>\n",
       "      <td>714.57</td>\n",
       "      <td>Obra</td>\n",
       "      <td>0</td>\n",
       "      <td>12018</td>\n",
       "      <td>MANUTENCAO / INSTALACOES PREDIAIS ELETRONICAS</td>\n",
       "      <td>960027000126</td>\n",
       "      <td>BLINK TECNOLOGIA SOB MEDIDA LTDA</td>\n",
       "      <td>NÃO</td>\n",
       "      <td>2483</td>\n",
       "      <td>MG</td>\n",
       "    </tr>\n",
       "    <tr>\n",
       "      <th>3</th>\n",
       "      <td>3</td>\n",
       "      <td>12018</td>\n",
       "      <td>153036</td>\n",
       "      <td>UNIVERSIDADE FED.VALES JEQUITINHONHA E MUCURI</td>\n",
       "      <td>-99</td>\n",
       "      <td>Pregão - Registro de Preço</td>\n",
       "      <td>23086000649201861</td>\n",
       "      <td>Objeto: Pregão Eletrônico -  Sistema de Regist...</td>\n",
       "      <td>Evento de Suspensão Publicado</td>\n",
       "      <td>26000</td>\n",
       "      <td>...</td>\n",
       "      <td>714.57</td>\n",
       "      <td>Obra</td>\n",
       "      <td>0</td>\n",
       "      <td>12018</td>\n",
       "      <td>MANUTENCAO / INSTALACOES PREDIAIS ELETRONICAS</td>\n",
       "      <td>5437291000101</td>\n",
       "      <td>MAXIMA NET TECNOLOGIA E CONSTRUCOES EIRELI</td>\n",
       "      <td>NÃO</td>\n",
       "      <td>2483</td>\n",
       "      <td>MG</td>\n",
       "    </tr>\n",
       "    <tr>\n",
       "      <th>4</th>\n",
       "      <td>4</td>\n",
       "      <td>12018</td>\n",
       "      <td>153036</td>\n",
       "      <td>UNIVERSIDADE FED.VALES JEQUITINHONHA E MUCURI</td>\n",
       "      <td>-99</td>\n",
       "      <td>Pregão - Registro de Preço</td>\n",
       "      <td>23086000649201861</td>\n",
       "      <td>Objeto: Pregão Eletrônico -  Sistema de Regist...</td>\n",
       "      <td>Evento de Suspensão Publicado</td>\n",
       "      <td>26000</td>\n",
       "      <td>...</td>\n",
       "      <td>714.57</td>\n",
       "      <td>Obra</td>\n",
       "      <td>0</td>\n",
       "      <td>12018</td>\n",
       "      <td>MANUTENCAO / INSTALACOES PREDIAIS ELETRONICAS</td>\n",
       "      <td>73442360000117</td>\n",
       "      <td>TELTEX TECNOLOGIA S/A</td>\n",
       "      <td>NÃO</td>\n",
       "      <td>2483</td>\n",
       "      <td>MG</td>\n",
       "    </tr>\n",
       "  </tbody>\n",
       "</table>\n",
       "<p>5 rows × 26 columns</p>\n",
       "</div>"
      ],
      "text/plain": [
       "   Unnamed: 0  Número Licitação_x  Código UG  \\\n",
       "0           0               12018     153036   \n",
       "1           1               12018     153036   \n",
       "2           2               12018     153036   \n",
       "3           3               12018     153036   \n",
       "4           4               12018     153036   \n",
       "\n",
       "                                         Nome UG  Código Modalidade Compra  \\\n",
       "0  UNIVERSIDADE FED.VALES JEQUITINHONHA E MUCURI                       -99   \n",
       "1  UNIVERSIDADE FED.VALES JEQUITINHONHA E MUCURI                       -99   \n",
       "2  UNIVERSIDADE FED.VALES JEQUITINHONHA E MUCURI                       -99   \n",
       "3  UNIVERSIDADE FED.VALES JEQUITINHONHA E MUCURI                       -99   \n",
       "4  UNIVERSIDADE FED.VALES JEQUITINHONHA E MUCURI                       -99   \n",
       "\n",
       "            Modalidade Compra    Número Processo  \\\n",
       "0  Pregão - Registro de Preço  23086000649201861   \n",
       "1  Pregão - Registro de Preço  23086000649201861   \n",
       "2  Pregão - Registro de Preço  23086000649201861   \n",
       "3  Pregão - Registro de Preço  23086000649201861   \n",
       "4  Pregão - Registro de Preço  23086000649201861   \n",
       "\n",
       "                                              Objeto  \\\n",
       "0  Objeto: Pregão Eletrônico -  Sistema de Regist...   \n",
       "1  Objeto: Pregão Eletrônico -  Sistema de Regist...   \n",
       "2  Objeto: Pregão Eletrônico -  Sistema de Regist...   \n",
       "3  Objeto: Pregão Eletrônico -  Sistema de Regist...   \n",
       "4  Objeto: Pregão Eletrônico -  Sistema de Regist...   \n",
       "\n",
       "              Situação Licitação  Código Órgão Superior  ...   Total  Obras  \\\n",
       "0  Evento de Suspensão Publicado                  26000  ...  714.57   Obra   \n",
       "1  Evento de Suspensão Publicado                  26000  ...  714.57   Obra   \n",
       "2  Evento de Suspensão Publicado                  26000  ...  714.57   Obra   \n",
       "3  Evento de Suspensão Publicado                  26000  ...  714.57   Obra   \n",
       "4  Evento de Suspensão Publicado                  26000  ...  714.57   Obra   \n",
       "\n",
       "  Tag Número Licitação_y                          Descrição Item Compra  \\\n",
       "0   0              12018  MANUTENCAO / INSTALACOES PREDIAIS ELETRONICAS   \n",
       "1   0              12018  MANUTENCAO / INSTALACOES PREDIAIS ELETRONICAS   \n",
       "2   0              12018  MANUTENCAO / INSTALACOES PREDIAIS ELETRONICAS   \n",
       "3   0              12018  MANUTENCAO / INSTALACOES PREDIAIS ELETRONICAS   \n",
       "4   0              12018  MANUTENCAO / INSTALACOES PREDIAIS ELETRONICAS   \n",
       "\n",
       "  CNPJ Participante                           Nome Participante Flag Vencedor  \\\n",
       "0     5202938000108                HC COMUNICACAO DE DADOS LTDA           NÃO   \n",
       "1     4503070000113          DINIZ TECNOLOGIA E SOLUCOES EIRELI           NÃO   \n",
       "2      960027000126            BLINK TECNOLOGIA SOB MEDIDA LTDA           NÃO   \n",
       "3     5437291000101  MAXIMA NET TECNOLOGIA E CONSTRUCOES EIRELI           NÃO   \n",
       "4    73442360000117                       TELTEX TECNOLOGIA S/A           NÃO   \n",
       "\n",
       "   Unnamed: 0.1  UF  \n",
       "0          2483  MG  \n",
       "1          2483  MG  \n",
       "2          2483  MG  \n",
       "3          2483  MG  \n",
       "4          2483  MG  \n",
       "\n",
       "[5 rows x 26 columns]"
      ]
     },
     "execution_count": 5,
     "metadata": {},
     "output_type": "execute_result"
    }
   ],
   "source": [
    "df.head()"
   ]
  },
  {
   "cell_type": "code",
   "execution_count": null,
   "metadata": {},
   "outputs": [],
   "source": []
  }
 ],
 "metadata": {
  "interpreter": {
   "hash": "453156fc89230ec575e49de4f0ac9fbc18f15b8427811846d311762aef4f3609"
  },
  "kernelspec": {
   "display_name": "Python 3.9.7 ('rsd')",
   "language": "python",
   "name": "python3"
  },
  "language_info": {
   "codemirror_mode": {
    "name": "ipython",
    "version": 3
   },
   "file_extension": ".py",
   "mimetype": "text/x-python",
   "name": "python",
   "nbconvert_exporter": "python",
   "pygments_lexer": "ipython3",
   "version": "3.9.7"
  },
  "orig_nbformat": 4
 },
 "nbformat": 4,
 "nbformat_minor": 2
}
