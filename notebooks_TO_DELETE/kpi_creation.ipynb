{
 "cells": [
  {
   "cell_type": "code",
   "execution_count": 1,
   "id": "da1a718c",
   "metadata": {},
   "outputs": [
    {
     "name": "stdout",
     "output_type": "stream",
     "text": [
      ". . . . . Importando dados . . . . .\n",
      "\n",
      "EXEMPLO: C:\\Users\\efvs\\Documents\\Residencia Ednael\\Repositórios\\data_all.zip\n",
      "Digite o endereço do arquivo zip no seu pc: C:\\Users\\efvs\\Documents\\Residencia Ednael\\Repositórios\\data_all.zip\n",
      ". . . . . Rotulando Obras . . . . .\n",
      ". . . . . Taguiando os dados . . . . .\n",
      "\n",
      "\n",
      "\n",
      "Estrutura Final dos dados\n",
      "  Número Licitação Código UG                                        Nome UG  \\\n",
      "0            12018    120630                        BASE AEREA DE DE MANAUS   \n",
      "1            12018    153015   CENTRO FEDERAL DE EDUCACAO TECNOLOGICA DE MG   \n",
      "2            12018    153036  UNIVERSIDADE FED.VALES JEQUITINHONHA E MUCURI   \n",
      "3            12018    160141            COMISSAO REGIONAL DE OBRAS DA 9ª RM   \n",
      "4            12018    200130    SUPERINTENDENCIA REG. POL. RODV. FEDERAL-SE   \n",
      "\n",
      "  Código Modalidade Compra           Modalidade Compra    Número Processo  \\\n",
      "0                        3                Concorrência  67290015424201435   \n",
      "1                        3                Concorrência  23062002056/18-26   \n",
      "2                      -99  Pregão - Registro de Preço  23086000649201861   \n",
      "3                        3                Concorrência  65328001557201858   \n",
      "4                        3                Concorrência  08672001011/2017-   \n",
      "\n",
      "                                              Objeto  \\\n",
      "0  Objeto: Contratação de empresa de engenharia e...   \n",
      "1  Objeto: A presente Licitação tem como objeto a...   \n",
      "2  Objeto: Pregão Eletrônico -  Sistema de Regist...   \n",
      "3  Objeto: OBRA DE CONSTRUÇÃO DO PAVILHÃO COMPANH...   \n",
      "4  Objeto: Contratação de empresa de engenharia p...   \n",
      "\n",
      "               Situação Licitação Código Órgão Superior  \\\n",
      "0  Evento de Resultado de Julgame                 52000   \n",
      "1  Evento de Resultado de Julgame                 26000   \n",
      "2   Evento de Suspensão Publicado                 26000   \n",
      "3  Evento de Resultado de Julgame                 52000   \n",
      "4   Evento de Alteração Publicado                 30000   \n",
      "\n",
      "                         Nome Órgão Superior Código Órgão  \\\n",
      "0                       Ministério da Defesa        52111   \n",
      "1                     Ministério da Educação        26257   \n",
      "2                     Ministério da Educação        26255   \n",
      "3                       Ministério da Defesa        52121   \n",
      "4  Ministério da Justiça e Segurança Pública        30802   \n",
      "\n",
      "                                      Nome Órgão       Município        data  \\\n",
      "0                         Comando da Aeronáutica          MANAUS  19/07/2018   \n",
      "1  Centro Federal de Educação Tecnológica de Min  BELO HORIZONTE  19/07/2018   \n",
      "2  Universidade Federal dos Vales do Jequitinhon      DIAMANTINA  12/07/2018   \n",
      "3                            Comando do Exército    CAMPO GRANDE  23/07/2018   \n",
      "4     Departamento de Polícia Rodoviária Federal         ARACAJU  18/07/2018   \n",
      "\n",
      "  Data Abertura       Total Obras Tag  \n",
      "0           NaN  1063307.91  Obra   0  \n",
      "1           NaN   689750.64  Obra   0  \n",
      "2    19/06/2018      714.57  Obra   0  \n",
      "3           NaN  3241361.87  Obra   0  \n",
      "4           NaN   3222277.6  Obra   0  \n",
      "\n",
      "\n",
      "\n",
      "Distribuição percentual da legalidade das licitações\n",
      "1    0.800392\n",
      "0    0.199608\n",
      "Name: Tag, dtype: float64\n"
     ]
    }
   ],
   "source": [
    "import framework_00"
   ]
  },
  {
   "cell_type": "code",
   "execution_count": 3,
   "id": "b9b1eb46",
   "metadata": {},
   "outputs": [],
   "source": [
    "from framework_00 import df as df"
   ]
  },
  {
   "cell_type": "code",
   "execution_count": 5,
   "id": "cac73320",
   "metadata": {},
   "outputs": [],
   "source": [
    "import pandas as pd"
   ]
  },
  {
   "cell_type": "code",
   "execution_count": 9,
   "id": "9fc0e9ee",
   "metadata": {},
   "outputs": [],
   "source": [
    "cidades_br = pd.read_csv(r'C:\\Users\\efvs\\Documents\\Residencia Ednael\\data\\Lista_Municípios_com_IBGE_Brasil_Versao_CSV.csv',sep=';',encoding='latin1')"
   ]
  },
  {
   "cell_type": "code",
   "execution_count": 61,
   "id": "62973b9d",
   "metadata": {},
   "outputs": [],
   "source": [
    "df2 = pd.merge(df, cidades_br, how = 'inner', on = ('Município'))"
   ]
  },
  {
   "cell_type": "markdown",
   "id": "2655f7d5",
   "metadata": {},
   "source": [
    "# Indice de fraude por estado"
   ]
  },
  {
   "cell_type": "code",
   "execution_count": 73,
   "id": "deb2e5a8",
   "metadata": {},
   "outputs": [],
   "source": [
    "lat = {\n",
    "    'AC': [ -8.77, -70.55]\n",
    "  , 'AL': [ -9.71, -35.73]\n",
    "  , 'AM': [ -3.07, -61.66]\n",
    "  , 'AP': [  1.41, -51.77]\n",
    "  , 'BA': [-12.96, -38.51]\n",
    "  , 'CE': [ -3.71, -38.54]\n",
    "  , 'DF': [-15.83, -47.86]\n",
    "  , 'ES': [-19.19, -40.34]\n",
    "  , 'GO': [-16.64, -49.31]\n",
    "  , 'MA': [ -2.55, -44.30]\n",
    "  , 'MT': [-12.64, -55.42]\n",
    "  , 'MS': [-20.51, -54.54]\n",
    "  , 'MG': [-18.10, -44.38]\n",
    "  , 'PA': [ -5.53, -52.29]\n",
    "  , 'PB': [ -7.06, -35.55]\n",
    "  , 'PR': [-24.89, -51.55]\n",
    "  , 'PE': [ -8.28, -35.07]\n",
    "  , 'PI': [ -8.28, -43.68]\n",
    "  , 'RJ': [-22.84, -43.15]\n",
    "  , 'RN': [ -5.22, -36.52]\n",
    "  , 'RO': [-11.22, -62.80]\n",
    "  , 'RS': [-30.01, -51.22]\n",
    "  , 'RR': [  1.89, -61.22]\n",
    "  , 'SC': [-27.33, -49.44]\n",
    "  , 'SE': [-10.90, -37.07]\n",
    "  , 'SP': [-23.55, -46.64]\n",
    "  , 'TO': [-10.25, -48.25]\n",
    "}\n",
    "\n",
    "lat = pd.DataFrame(lat).transpose()"
   ]
  },
  {
   "cell_type": "markdown",
   "id": "f8e43033",
   "metadata": {},
   "source": [
    "`Indice de Fraude por estado`"
   ]
  },
  {
   "cell_type": "code",
   "execution_count": 116,
   "id": "ac93b560",
   "metadata": {},
   "outputs": [],
   "source": [
    "df2['data']=pd.to_datetime(df2['data'])"
   ]
  },
  {
   "cell_type": "code",
   "execution_count": 126,
   "id": "1f4b0169",
   "metadata": {},
   "outputs": [],
   "source": [
    "'''def indice_fraude_estado(dados,data_inicio,data_final):\n",
    "\n",
    "    print(\"Para o perído de {} à {}\".format(data_inicio,data_final))\n",
    "    print(\"________________\")\n",
    "    print((dados['UF'][(dados['Tag']==0) & (dados['data']>=data_inicio) & (dados['data']<=data_final)].value_counts()/dados['UF'].value_counts()).sort_values(ascending=False))\n",
    "    print(\"________________\")'''"
   ]
  },
  {
   "cell_type": "code",
   "execution_count": 127,
   "id": "60d3f873",
   "metadata": {},
   "outputs": [
    {
     "name": "stdout",
     "output_type": "stream",
     "text": [
      "Para o perído de 2018 à 2020\n",
      "________________\n",
      "AP    0.369231\n",
      "RR    0.184950\n",
      "PB    0.166201\n",
      "PI    0.159572\n",
      "AL    0.129800\n",
      "SE    0.127553\n",
      "MT    0.126355\n",
      "MS    0.123057\n",
      "RN    0.122396\n",
      "TO    0.121932\n",
      "BA    0.115193\n",
      "RO    0.113281\n",
      "PA    0.099193\n",
      "AM    0.098552\n",
      "CE    0.094750\n",
      "PR    0.090173\n",
      "AC    0.088552\n",
      "PE    0.087954\n",
      "GO    0.087621\n",
      "MG    0.087299\n",
      "SC    0.086512\n",
      "SP    0.082189\n",
      "MA    0.080292\n",
      "RJ    0.078699\n",
      "RS    0.074907\n",
      "ES    0.068096\n",
      "Name: UF, dtype: float64\n",
      "________________\n"
     ]
    }
   ],
   "source": [
    "indice_fraude_estado(df2,'2018','2020')"
   ]
  },
  {
   "cell_type": "markdown",
   "id": "e30b455e",
   "metadata": {},
   "source": [
    "`Estados com maior número de fraudes`"
   ]
  },
  {
   "cell_type": "code",
   "execution_count": 92,
   "id": "ed81fb4b",
   "metadata": {},
   "outputs": [
    {
     "data": {
      "text/plain": [
       "RJ    14028\n",
       "AC     7353\n",
       "RS     6677\n",
       "MG     6397\n",
       "PR     4570\n",
       "RN     3564\n",
       "PE     3122\n",
       "BA     3117\n",
       "MS     2394\n",
       "AM     2302\n",
       "CE     2000\n",
       "AL     1693\n",
       "PB     1688\n",
       "SP     1610\n",
       "PI     1386\n",
       "RO      973\n",
       "MT      866\n",
       "SE      825\n",
       "RR      796\n",
       "TO      582\n",
       "SC      582\n",
       "ES      526\n",
       "GO      520\n",
       "PA      389\n",
       "MA      212\n",
       "AP       30\n",
       "Name: UF, dtype: int64"
      ]
     },
     "execution_count": 92,
     "metadata": {},
     "output_type": "execute_result"
    }
   ],
   "source": [
    "(df2['UF'][df2['Tag']==0].value_counts()).sort_values(ascending=False)"
   ]
  },
  {
   "cell_type": "code",
   "execution_count": null,
   "id": "f028c745",
   "metadata": {},
   "outputs": [],
   "source": []
  }
 ],
 "metadata": {
  "kernelspec": {
   "display_name": "Python 3 (ipykernel)",
   "language": "python",
   "name": "python3"
  },
  "language_info": {
   "codemirror_mode": {
    "name": "ipython",
    "version": 3
   },
   "file_extension": ".py",
   "mimetype": "text/x-python",
   "name": "python",
   "nbconvert_exporter": "python",
   "pygments_lexer": "ipython3",
   "version": "3.9.7"
  }
 },
 "nbformat": 4,
 "nbformat_minor": 5
}
