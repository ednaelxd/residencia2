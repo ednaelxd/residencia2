{
 "cells": [
  {
   "cell_type": "code",
   "execution_count": 1,
   "id": "7a4f0994",
   "metadata": {},
   "outputs": [],
   "source": [
    "import pandas as pd\n",
    "import numpy as np \n",
    "import glob"
   ]
  },
  {
   "cell_type": "markdown",
   "id": "d563a7ff",
   "metadata": {},
   "source": [
    "# Defininddo Funções"
   ]
  },
  {
   "cell_type": "code",
   "execution_count": 11,
   "id": "59cdafed",
   "metadata": {},
   "outputs": [],
   "source": [
    "def importa_dados_participantes(url): \n",
    "    \n",
    "    # url = link para o local onde os dados estão armazenados\n",
    "    df = pd.read_csv(url)\n",
    "    \n",
    "    # Deletando/criando coluna desnecessaria\n",
    "    df.drop(columns=['Unnamed: 0','Nome UG', 'Modalidade Compra','Nome Órgão','Código Item Compra','Código UG', 'Código Modalidade Compra', 'Código Órgão'], axis=1, inplace=True)\n",
    "    \n",
    "    return (df)"
   ]
  },
  {
   "cell_type": "markdown",
   "id": "75dfbee6",
   "metadata": {},
   "source": [
    "Quando eu boto os dados zipados dar erro, por isso trirei o compression = \"zip\""
   ]
  },
  {
   "cell_type": "code",
   "execution_count": 3,
   "id": "29f4e721",
   "metadata": {},
   "outputs": [],
   "source": [
    "def importa_dados_taguiados():\n",
    "    # importando os dados do framework_00\n",
    "    from framework_00 import df\n",
    "    df_tag = df\n",
    "    \n",
    "    # Deletando/criando coluna desnecessaria\n",
    "    df_tag.drop(columns=['Nome UG','Modalidade Compra','Objeto','Situação Licitação','Código Órgão Superior','Nome Órgão Superior','Código Órgão','Município','data','Data Abertura','Total','Obras','Código Modalidade Compra','Código UG'], axis=1, inplace=True)\n",
    "    \n",
    "    return (df_tag)"
   ]
  },
  {
   "cell_type": "code",
   "execution_count": 4,
   "id": "2f1e44f3",
   "metadata": {},
   "outputs": [],
   "source": [
    "def merge_dados_taguiados(df_part , df_tag):\n",
    "    # Aplicando o merge nos dataframes\n",
    "    m = pd.merge(df_tag, df, how = 'inner', on = ('Número Processo','Número Licitação'))\n",
    "    \n",
    "    # Retirando dados nulos\n",
    "    m = m.dropna()\n",
    "    \n",
    "    # criando dataframe com os dados fraudulentos\n",
    "    df_0 = m[m[\"Tag\"]==0] \n",
    "    \n",
    "    return (m, df_0)"
   ]
  },
  {
   "cell_type": "code",
   "execution_count": 17,
   "id": "594ff9b7",
   "metadata": {},
   "outputs": [],
   "source": [
    "def analise_exploratória(df_0):\n",
    "    # Número de participantes\n",
    "    n_part = len(df_0[\"CNPJ Participante\"].unique())\n",
    "    \n",
    "    # Número de empresas vencedoras\n",
    "    n_venc = len(df_0[df_0[\"Flag Vencedor\"]== \"SIM\"][\"CNPJ Participante\"].unique())\n",
    "    \n",
    "    # Número de processos e licitações fraudulentas\n",
    "    n_proc = len(df_0[\"Número Processo\"].unique())\n",
    "    n_lic = len(df_0[\"Número Licitação\"].unique())\n",
    "    \n",
    "    # Número de itens diferentes\n",
    "    n_itens = len(df_0[\"Descrição Item Compra\"].unique())\n",
    "    \n",
    "    #Printando os resultados\n",
    "    print(\"\\nNúmero de Empresas Participantes em Processos Fraudulentos: \", n_part,\n",
    "          \"\\nNúmero de Empresas Vencedoras de Processos Fraudulentos: \", n_venc,\n",
    "          \"\\nNúmero de Processos Fraudulentos: \",n_proc,\n",
    "          \"\\nNúmero de Licitações Fraudulentas: \",n_lic,\n",
    "          \"\\nNúmero de Itens Fraudulentos: \", n_itens)\n",
    "    #n_part, n_venc, n_proc, n_lic, n_itens\n",
    "    return ()"
   ]
  },
  {
   "cell_type": "code",
   "execution_count": 22,
   "id": "5a307c85",
   "metadata": {},
   "outputs": [],
   "source": [
    "def list_part_itens(df_0):\n",
    "    # Participantes com maior número de participações em licitações fraudulentas\n",
    "    print(\"\\nParticipantes com maior número de participações em licitações fraudulentas: \\n\")\n",
    "    print(df_0.loc[:,[\"CNPJ Participante\" , \"Nome Participante\"]].value_counts().head(10))\n",
    "    \n",
    "    # Participantes com maior número de vitórias em licitações fraudulentas\n",
    "    print(\"\\n\\nParticipantes com maior número de vitórias em licitações fraudulentas: \\n\")\n",
    "    print(df_0[df_0[\"Flag Vencedor\"]== 'SIM'].loc[:,[\"CNPJ Participante\" , \"Nome Participante\"]].value_counts().head(10))\n",
    "    \n",
    "    # Itens com maior número de aparições em licitações fraudulentas\n",
    "    print(\"\\n\\nItens com maior número de aparições em licitações fraudulentas: \\n\")\n",
    "    print(df_0[df_0[\"Flag Vencedor\"]== 'SIM'].loc[:,[\"Descrição Item Compra\"]].value_counts().head(10))\n",
    "    \n",
    "    # Orgão com maior número de processos fraudulentos\n",
    "    print(\"\\n\\nOrgão com maior número de processos fraudulentos: \\n\")\n",
    "    print(df_0[df_0[\"Flag Vencedor\"]== 'SIM'].loc[:,[\"Nome Órgão\"]].value_counts().head(10))"
   ]
  },
  {
   "cell_type": "markdown",
   "id": "2fe24e92",
   "metadata": {},
   "source": [
    "Saber se boto uma variavel para o usuário definir o número de instancias que quer ser visto"
   ]
  },
  {
   "cell_type": "markdown",
   "id": "61e3f5e8",
   "metadata": {},
   "source": [
    "# Testando as funções para o framework"
   ]
  },
  {
   "cell_type": "markdown",
   "id": "5c814f4c",
   "metadata": {},
   "source": [
    "fazer os testes das funções aqui e depois fazer o arquivo .py, ajustar os prints e alinhar com ednael "
   ]
  },
  {
   "cell_type": "code",
   "execution_count": 26,
   "id": "43baa6d6",
   "metadata": {},
   "outputs": [
    {
     "name": "stdout",
     "output_type": "stream",
     "text": [
      "C:\\Users\\gabri\\Desktop\\Data\\dados_participantes_.csv\n"
     ]
    }
   ],
   "source": [
    "url = input()"
   ]
  },
  {
   "cell_type": "code",
   "execution_count": 27,
   "id": "50ec005c",
   "metadata": {},
   "outputs": [],
   "source": [
    "df = importa_dados_participantes(url)"
   ]
  },
  {
   "cell_type": "code",
   "execution_count": 8,
   "id": "594c36e0",
   "metadata": {
    "scrolled": true
   },
   "outputs": [
    {
     "name": "stdout",
     "output_type": "stream",
     "text": [
      ". . . . . Importando dados . . . . .\n",
      "\n",
      "EXEMPLO: C:\\Users\\efvs\\Documents\\Residencia Ednael\\Repositórios\\data_all.zip\n",
      "Digite o endereço do arquivo zip no seu pc: C:\\Users\\gabri\\Desktop\\Data\\data_all.zip\n",
      ". . . . . Rotulando Obras . . . . .\n",
      ". . . . . Taguiando os dados . . . . .\n",
      "\n",
      "\n",
      "\n",
      "Estrutura Final dos dados\n",
      "  Número Licitação Código UG                                        Nome UG  \\\n",
      "0            12018    120630                        BASE AEREA DE DE MANAUS   \n",
      "1            12018    153015   CENTRO FEDERAL DE EDUCACAO TECNOLOGICA DE MG   \n",
      "2            12018    153036  UNIVERSIDADE FED.VALES JEQUITINHONHA E MUCURI   \n",
      "3            12018    160141            COMISSAO REGIONAL DE OBRAS DA 9ª RM   \n",
      "4            12018    200130    SUPERINTENDENCIA REG. POL. RODV. FEDERAL-SE   \n",
      "\n",
      "  Código Modalidade Compra           Modalidade Compra    Número Processo  \\\n",
      "0                        3                Concorrência  67290015424201435   \n",
      "1                        3                Concorrência  23062002056/18-26   \n",
      "2                      -99  Pregão - Registro de Preço  23086000649201861   \n",
      "3                        3                Concorrência  65328001557201858   \n",
      "4                        3                Concorrência  08672001011/2017-   \n",
      "\n",
      "                                              Objeto  \\\n",
      "0  Objeto: Contratação de empresa de engenharia e...   \n",
      "1  Objeto: A presente Licitação tem como objeto a...   \n",
      "2  Objeto: Pregão Eletrônico -  Sistema de Regist...   \n",
      "3  Objeto: OBRA DE CONSTRUÇÃO DO PAVILHÃO COMPANH...   \n",
      "4  Objeto: Contratação de empresa de engenharia p...   \n",
      "\n",
      "               Situação Licitação Código Órgão Superior  \\\n",
      "0  Evento de Resultado de Julgame                 52000   \n",
      "1  Evento de Resultado de Julgame                 26000   \n",
      "2   Evento de Suspensão Publicado                 26000   \n",
      "3  Evento de Resultado de Julgame                 52000   \n",
      "4   Evento de Alteração Publicado                 30000   \n",
      "\n",
      "                         Nome Órgão Superior Código Órgão  \\\n",
      "0                       Ministério da Defesa        52111   \n",
      "1                     Ministério da Educação        26257   \n",
      "2                     Ministério da Educação        26255   \n",
      "3                       Ministério da Defesa        52121   \n",
      "4  Ministério da Justiça e Segurança Pública        30802   \n",
      "\n",
      "                                      Nome Órgão       Município        data  \\\n",
      "0                         Comando da Aeronáutica          MANAUS  19/07/2018   \n",
      "1  Centro Federal de Educação Tecnológica de Min  BELO HORIZONTE  19/07/2018   \n",
      "2  Universidade Federal dos Vales do Jequitinhon      DIAMANTINA  12/07/2018   \n",
      "3                            Comando do Exército    CAMPO GRANDE  23/07/2018   \n",
      "4     Departamento de Polícia Rodoviária Federal         ARACAJU  18/07/2018   \n",
      "\n",
      "  Data Abertura       Total Obras Tag  \n",
      "0           NaN  1063307.91  Obra   0  \n",
      "1           NaN   689750.64  Obra   0  \n",
      "2    19/06/2018      714.57  Obra   0  \n",
      "3           NaN  3241361.87  Obra   0  \n",
      "4           NaN   3222277.6  Obra   0  \n",
      "\n",
      "\n",
      "\n",
      "Distribuição percentual da legalidade das licitações\n",
      "1    0.800392\n",
      "0    0.199608\n",
      "Name: Tag, dtype: float64\n"
     ]
    }
   ],
   "source": [
    "df_tag = importa_dados_taguiados()"
   ]
  },
  {
   "cell_type": "markdown",
   "id": "955c0e3d",
   "metadata": {},
   "source": [
    "Ver se tem como tirar essa saída do framework_00"
   ]
  },
  {
   "cell_type": "code",
   "execution_count": 11,
   "id": "bad3c5f1",
   "metadata": {},
   "outputs": [],
   "source": [
    "m , df_0 = merge_dados_taguiados(df , df_tag)"
   ]
  },
  {
   "cell_type": "code",
   "execution_count": 18,
   "id": "e3bcbdff",
   "metadata": {},
   "outputs": [
    {
     "name": "stdout",
     "output_type": "stream",
     "text": [
      "\n",
      "Número de Empresas Participantes em Processos Fraudulentos:  80157 \n",
      "Número de Empresas Vencedoras de Processos Fraudulentos:  52268 \n",
      "Número de Processos Fraudulentos:  90772 \n",
      "Número de Licitações Fraudulentas:  5932 \n",
      "Número de itens Fraudulentos:  12616\n"
     ]
    },
    {
     "data": {
      "text/plain": [
       "()"
      ]
     },
     "execution_count": 18,
     "metadata": {},
     "output_type": "execute_result"
    }
   ],
   "source": [
    "analise_exploratória(df_0)"
   ]
  },
  {
   "cell_type": "code",
   "execution_count": 21,
   "id": "c7f76972",
   "metadata": {},
   "outputs": [
    {
     "name": "stdout",
     "output_type": "stream",
     "text": [
      "\n",
      "\n",
      "Participantes com maior número de participações em licitações fraudulentas: \n",
      "\n",
      "CNPJ Participante  Nome Participante                                              \n",
      "26469541000157     SUL.COM ATACADO E VAREJO LTDA                                      77887\n",
      "08658622000113     J. J. VITALLI                                                      56046\n",
      "26240632000116     DENTAL HIGIX PRODUTOS ODONTOLOGICOS MEDICOS HOSPITALARES EIRELI    55495\n",
      "-11                Sigiloso                                                           54470\n",
      "33658130000175     FIEL COMERCIAL E SERVICOS EIRELI                                   53423\n",
      "32796968000162     ATAIAS SERVICOS E AUTO PECAS LTDA                                  48124\n",
      "24845457000165     ITACA LTDA                                                         46216\n",
      "28288798000138     J. ALFANO COMERCIAL E SERVICOS EIRELI                              43782\n",
      "20784313000195     RM COMERCIO DE MERCADORIAS E MATERIAIS LTDA                        38920\n",
      "05075962000123     MAXIM QUALITTA COMERCIO LTDA                                       35924\n",
      "dtype: int64\n",
      "\n",
      "\n",
      "Participantes com maior número de vitórias em licitações fraudulentas: \n",
      "\n",
      "CNPJ Participante  Nome Participante                                                                \n",
      "26469541000157     SUL.COM ATACADO E VAREJO LTDA                                                        18060\n",
      "08658622000113     J. J. VITALLI                                                                        13352\n",
      "11301724000191     QUALY COMERCIAL EIRELI                                                               11584\n",
      "44734671000151     CRISTALIA PRODUTOS QUIMICOS FARMACEUTICOS LTDA                                        9990\n",
      "67403154000103     A. M. MOLITERNO EIRELI                                                                9814\n",
      "-11                Sigiloso                                                                              9260\n",
      "24845457000165     ITACA LTDA                                                                            8692\n",
      "30082076000174     ABSOLUTA SAUDE IMP. EXP. E COMERCIO DE PRODUTOS PARA SAUDE EIRELI                     8554\n",
      "05075962000123     MAXIM QUALITTA COMERCIO LTDA                                                          7930\n",
      "28820255000110     SUPREMA DENTAL IMPORTACAO, EXPORTACAO E COMERCIO DE PRODUTOS ODONTOLOGICOS EIRELI     7502\n",
      "dtype: int64\n",
      "\n",
      "\n",
      "Itens com maior número de aparições em licitações fraudulentas: \n",
      "\n",
      "Descrição Item Compra                      \n",
      "MANUTENCAO / REFORMA PREDIAL                   47517\n",
      "CONEXÃO HIDRÁULICA                             29863\n",
      "SERVICO ENGENHARIA                             28950\n",
      "FIO DE SUTURA                                  17364\n",
      "CESTA BÁSICA - GÊNEROS ALIMENTÍCIOS            16453\n",
      "PEÇA MECÂNICA/ELÉTRICA - VEÍCULO AUTOMOTIVO    16263\n",
      "FRUTA IN NATURA                                16086\n",
      "LEGUME IN NATURA                               15092\n",
      "REAGENTE PARA DIAGNÓSTICO CLÍNICO 5            14589\n",
      "ACESSÓRIOS PARA ESTUDO/TREINAMENTO             14447\n",
      "dtype: int64\n",
      "\n",
      "\n",
      "Orgão com maior número de processos fraudulentos: \n",
      "\n",
      "Nome Órgão                                   \n",
      "Comando do Exército                              917146\n",
      "Comando da Aeronáutica                           275175\n",
      "Comando da Marinha                               188853\n",
      "Empresa Brasileira de Serviços Hospitalares      152222\n",
      "Ministério da Saúde - Unidades com vínculo di     53754\n",
      "Empresa Brasileira de Pesquisa Agropecuária       44447\n",
      "Universidade Federal de Santa Maria               36295\n",
      "Fundação Oswaldo Cruz                             35447\n",
      "ESTADO DO PARA                                    29154\n",
      "Universidade Federal de Santa Catarina            24440\n",
      "dtype: int64\n"
     ]
    }
   ],
   "source": [
    "list_part_itens(df_0)"
   ]
  }
 ],
 "metadata": {
  "kernelspec": {
   "display_name": "Python 3",
   "language": "python",
   "name": "python3"
  },
  "language_info": {
   "codemirror_mode": {
    "name": "ipython",
    "version": 3
   },
   "file_extension": ".py",
   "mimetype": "text/x-python",
   "name": "python",
   "nbconvert_exporter": "python",
   "pygments_lexer": "ipython3",
   "version": "3.8.8"
  }
 },
 "nbformat": 4,
 "nbformat_minor": 5
}
