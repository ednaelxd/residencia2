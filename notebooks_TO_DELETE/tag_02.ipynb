{
 "cells": [
  {
   "cell_type": "code",
   "execution_count": 184,
   "id": "67d3fa06",
   "metadata": {},
   "outputs": [],
   "source": [
    "import pandas as pd\n",
    "import matplotlib.pyplot as plt\n",
    "import numpy as np\n",
    "\n",
    "# Preprocessing\n",
    "from sklearn.preprocessing import OrdinalEncoder\n",
    "from sklearn.preprocessing import LabelEncoder\n",
    "from sklearn.preprocessing import MinMaxScaler\n",
    "\n",
    "# Modeling\n",
    "from sklearn.cluster import KMeans\n",
    "from sklearn.decomposition import PCA"
   ]
  },
  {
   "cell_type": "markdown",
   "id": "e3e9886d",
   "metadata": {},
   "source": [
    "### DataPrep"
   ]
  },
  {
   "cell_type": "code",
   "execution_count": 232,
   "id": "b3deee49",
   "metadata": {},
   "outputs": [],
   "source": [
    "df = pd.read_csv(r\"C:\\Users\\efvs\\Documents\\Residencia Ednael\\Dados licitações\\Licitação\\lic_com_tag.csv\")"
   ]
  },
  {
   "cell_type": "code",
   "execution_count": 233,
   "id": "47185e26",
   "metadata": {},
   "outputs": [],
   "source": [
    "df.rename({'Data Resultado Compra':'data'},axis=1,inplace=True)"
   ]
  },
  {
   "cell_type": "code",
   "execution_count": 234,
   "id": "fac58fb0",
   "metadata": {},
   "outputs": [
    {
     "data": {
      "text/plain": [
       "Index(['Unnamed: 0', 'Unnamed: 0.1', 'Número Licitação', 'Código UG',\n",
       "       'Nome UG', 'Código Modalidade Compra', 'Modalidade Compra',\n",
       "       'Número Processo', 'Objeto', 'Situação Licitação',\n",
       "       'Código Órgão Superior', 'Nome Órgão Superior', 'Código Órgão',\n",
       "       'Nome Órgão', 'Município', 'data', 'Data Abertura', 'Total', 'Tipo',\n",
       "       'Tag'],\n",
       "      dtype='object')"
      ]
     },
     "execution_count": 234,
     "metadata": {},
     "output_type": "execute_result"
    }
   ],
   "source": [
    "df.columns"
   ]
  },
  {
   "cell_type": "code",
   "execution_count": 235,
   "id": "514c0029",
   "metadata": {},
   "outputs": [],
   "source": [
    "df.drop(['Unnamed: 0','Nome UG','Modalidade Compra','Situação Licitação','Nome Órgão Superior','Nome Órgão',\n",
    "        'Município','Data Abertura'],axis=1,inplace=True)"
   ]
  },
  {
   "cell_type": "code",
   "execution_count": 236,
   "id": "a79fa746",
   "metadata": {},
   "outputs": [],
   "source": [
    "od = OrdinalEncoder()"
   ]
  },
  {
   "cell_type": "code",
   "execution_count": 237,
   "id": "06dc5b60",
   "metadata": {},
   "outputs": [],
   "source": [
    "enc = LabelEncoder()\n",
    "enc2 = LabelEncoder()\n",
    "enc3 = LabelEncoder()"
   ]
  },
  {
   "cell_type": "code",
   "execution_count": 240,
   "id": "8e69abd8",
   "metadata": {},
   "outputs": [],
   "source": [
    "df['Objeto'] = enc.fit_transform(df['Objeto'])\n",
    "df['Número Processo'] = enc2.fit_transform(df['Número Processo'])\n",
    "df['Tipo'] = enc2.fit_transform(df['Tipo'])"
   ]
  },
  {
   "cell_type": "code",
   "execution_count": 241,
   "id": "43d630b1",
   "metadata": {},
   "outputs": [],
   "source": [
    "aa = np.array(df['data'])\n",
    "aa=aa.reshape(-1,1)\n",
    "df['data'] = od.fit_transform(aa)"
   ]
  },
  {
   "cell_type": "code",
   "execution_count": 243,
   "id": "f3fd2d8b",
   "metadata": {},
   "outputs": [],
   "source": [
    "norm = MinMaxScaler()\n",
    "bb = np.array(df['Total'])\n",
    "bb = bb.reshape(-1,1)\n",
    "df['Total'] = norm.fit_transform(bb)"
   ]
  },
  {
   "cell_type": "markdown",
   "id": "2ec19789",
   "metadata": {},
   "source": [
    "### Elbow Method"
   ]
  },
  {
   "cell_type": "code",
   "execution_count": 244,
   "id": "8d6ae848",
   "metadata": {},
   "outputs": [],
   "source": [
    "distortions = []\n",
    "K = range(1,10)\n",
    "for k in K:\n",
    "    kmeanModel = KMeans(n_clusters=k)\n",
    "    kmeanModel.fit(df)\n",
    "    distortions.append(kmeanModel.inertia_)"
   ]
  },
  {
   "cell_type": "code",
   "execution_count": 245,
   "id": "fd308a16",
   "metadata": {},
   "outputs": [
    {
     "data": {
      "image/png": "[encoded data removed]",
      "text/plain": [
       "<Figure size 720x576 with 1 Axes>"
      ]
     },
     "metadata": {
      "needs_background": "light"
     },
     "output_type": "display_data"
    }
   ],
   "source": [
    "plt.figure(figsize=(10,8))\n",
    "plt.plot(K, distortions, 'bx-')\n",
    "plt.xlabel('k')\n",
    "plt.ylabel('Distortion')\n",
    "plt.title('The Elbow Method showing the optimal k')\n",
    "plt.show()"
   ]
  },
  {
   "cell_type": "code",
   "execution_count": 246,
   "id": "a28f16fa",
   "metadata": {},
   "outputs": [
    {
     "data": {
      "text/plain": [
       "KMeans(n_clusters=5, random_state=0)"
      ]
     },
     "execution_count": 246,
     "metadata": {},
     "output_type": "execute_result"
    }
   ],
   "source": [
    "kmeans = KMeans(n_clusters=5, random_state=0)\n",
    "kmeans.fit(df)"
   ]
  },
  {
   "cell_type": "code",
   "execution_count": 247,
   "id": "1654a7eb",
   "metadata": {},
   "outputs": [],
   "source": [
    "predictions = kmeans.predict(df)\n",
    "centers=kmeans.cluster_centers_"
   ]
  },
  {
   "cell_type": "code",
   "execution_count": 248,
   "id": "39cb5c8b",
   "metadata": {},
   "outputs": [
    {
     "data": {
      "text/plain": [
       "array([0, 0, 0, ..., 0, 0, 0])"
      ]
     },
     "execution_count": 248,
     "metadata": {},
     "output_type": "execute_result"
    }
   ],
   "source": [
    "predictions"
   ]
  },
  {
   "cell_type": "code",
   "execution_count": 249,
   "id": "0549b289",
   "metadata": {},
   "outputs": [
    {
     "data": {
      "text/plain": [
       "array([[ 6.94769101e+04,  1.25749879e+06,  2.77359693e+05,\n",
       "        -7.80933344e+00,  2.13490812e+05,  2.08992362e+05,\n",
       "         4.13702760e+04,  4.14399096e+04,  5.43656891e+02,\n",
       "         3.22848291e-06,  3.08228329e-02,  8.09606864e-01],\n",
       "       [ 7.76790407e+04,  5.47973347e+08,  2.51648317e+05,\n",
       "         5.28232858e+00,  1.71558193e+05,  2.13747123e+05,\n",
       "         3.11305108e+04,  3.21680808e+04,  5.25398527e+02,\n",
       "         7.49198457e-08,  8.74367234e-03,  9.16935113e-01],\n",
       "       [ 8.00315974e+04,  8.34946100e+08,  3.22822968e+05,\n",
       "        -1.87621462e+00,  2.10415784e+05,  2.00887821e+05,\n",
       "         3.16392057e+04,  3.94298597e+04,  5.33640473e+02,\n",
       "         8.85721690e-08,  5.91465991e-03,  8.68187579e-01],\n",
       "       [ 7.64205290e+04,  2.59748676e+08,  3.76768687e+05,\n",
       "        -1.28930595e+00,  1.67180170e+05,  2.40299487e+05,\n",
       "         3.98843336e+04,  4.29076586e+04,  5.32375354e+02,\n",
       "         4.78020838e-08,  2.12464589e-02,  8.92705382e-01],\n",
       "       [ 8.27301291e+04,  9.16343729e+07,  3.70511857e+05,\n",
       "         3.05714286e+00,  2.11327278e+05,  2.18546352e+05,\n",
       "         3.56013759e+04,  4.09981370e+04,  5.48607712e+02,\n",
       "         6.19574814e-08,  2.52844501e-02,  8.84197219e-01]])"
      ]
     },
     "execution_count": 249,
     "metadata": {},
     "output_type": "execute_result"
    }
   ],
   "source": [
    "centers"
   ]
  },
  {
   "cell_type": "code",
   "execution_count": 250,
   "id": "9fc39703",
   "metadata": {},
   "outputs": [
    {
     "data": {
      "text/plain": [
       "KMeans(n_clusters=4, n_init=4)"
      ]
     },
     "execution_count": 250,
     "metadata": {},
     "output_type": "execute_result"
    }
   ],
   "source": [
    "import matplotlib.pyplot as plt\n",
    "\n",
    "reduced_data = PCA(n_components=2).fit_transform(df)\n",
    "kmeans = KMeans(init=\"k-means++\", n_clusters=4, n_init=4)\n",
    "kmeans.fit(reduced_data)"
   ]
  },
  {
   "cell_type": "code",
   "execution_count": 251,
   "id": "51efa201",
   "metadata": {},
   "outputs": [],
   "source": [
    "x_min, x_max = reduced_data[:, 0].min() - 1, reduced_data[:, 0].max() + 1\n",
    "y_min, y_max = reduced_data[:, 1].min() - 1, reduced_data[:, 1].max() + 1"
   ]
  },
  {
   "cell_type": "code",
   "execution_count": 252,
   "id": "5072ef9e",
   "metadata": {},
   "outputs": [
    {
     "data": {
      "text/plain": [
       "-12829187.1833512"
      ]
     },
     "execution_count": 252,
     "metadata": {},
     "output_type": "execute_result"
    }
   ],
   "source": [
    "x_min"
   ]
  },
  {
   "cell_type": "code",
   "execution_count": 253,
   "id": "06b4b448",
   "metadata": {},
   "outputs": [
    {
     "data": {
      "text/plain": [
       "99999"
      ]
     },
     "execution_count": 253,
     "metadata": {},
     "output_type": "execute_result"
    }
   ],
   "source": [
    "len(np.arange(x_min, x_max, 10000))"
   ]
  },
  {
   "cell_type": "code",
   "execution_count": 254,
   "id": "5d4700ca",
   "metadata": {},
   "outputs": [],
   "source": [
    "reduced_data = PCA(n_components=2).fit_transform(df)"
   ]
  },
  {
   "cell_type": "code",
   "execution_count": 198,
   "id": "df9a377d",
   "metadata": {
    "scrolled": true
   },
   "outputs": [
    {
     "data": {
      "image/png": "[encoded data removed]",
      "text/plain": [
       "<Figure size 432x288 with 1 Axes>"
      ]
     },
     "metadata": {},
     "output_type": "display_data"
    }
   ],
   "source": [
    "import matplotlib.pyplot as plt\n",
    "\n",
    "\n",
    "reduced_data = PCA(n_components=2).fit_transform(df)\n",
    "kmeans = KMeans(init=\"k-means++\", n_clusters=4, n_init=4)\n",
    "kmeans.fit(reduced_data)\n",
    "\n",
    "# Step size of the mesh. Decrease to increase the quality of the VQ.\n",
    "h = 9000  # point in the mesh [x_min, x_max]x[y_min, y_max].\n",
    "\n",
    "# Plot the decision boundary. For that, we will assign a color to each\n",
    "x_min, x_max = reduced_data[:, 0].min() - 1, reduced_data[:, 0].max() + 1\n",
    "y_min, y_max = reduced_data[:, 1].min() - 1, reduced_data[:, 1].max() + 1\n",
    "xx, yy = np.meshgrid(np.arange(x_min, x_max, h), np.arange(y_min, y_max, h))\n",
    "\n",
    "# Obtain labels for each point in mesh. Use last trained model.\n",
    "Z = kmeans.predict(np.c_[xx.ravel(), yy.ravel()])\n",
    "\n",
    "# Put the result into a color plot\n",
    "Z = Z.reshape(xx.shape)\n",
    "plt.figure(1)\n",
    "plt.clf()\n",
    "plt.imshow(\n",
    "    Z,\n",
    "    interpolation=\"nearest\",\n",
    "    extent=(xx.min(), xx.max(), yy.min(), yy.max()),\n",
    "    cmap=plt.cm.Paired,\n",
    "    aspect=\"auto\",\n",
    "    origin=\"lower\",\n",
    ")\n",
    "\n",
    "plt.plot(reduced_data[:, 0], reduced_data[:, 1], \"k.\", markersize=2)\n",
    "# Plot the centroids as a white X\n",
    "centroids = kmeans.cluster_centers_\n",
    "plt.scatter(\n",
    "    centroids[:, 0],\n",
    "    centroids[:, 1],\n",
    "    marker=\"x\",\n",
    "    s=169,\n",
    "    linewidths=3,\n",
    "    color=\"w\",\n",
    "    zorder=10,\n",
    ")\n",
    "plt.title(\n",
    "    \"K-means clustering on the digits dataset (PCA-reduced data)\\n\"\n",
    "    \"Centroids are marked with white cross\"\n",
    ")\n",
    "plt.xlim(x_min, x_max)\n",
    "plt.ylim(y_min, y_max)\n",
    "plt.xticks(())\n",
    "plt.yticks(())\n",
    "plt.show()"
   ]
  },
  {
   "cell_type": "code",
   "execution_count": 255,
   "id": "69b10574",
   "metadata": {},
   "outputs": [],
   "source": [
    "rd = pd.DataFrame(reduced_data)"
   ]
  },
  {
   "cell_type": "code",
   "execution_count": 258,
   "id": "a7ee3032",
   "metadata": {},
   "outputs": [
    {
     "data": {
      "text/plain": [
       "0    487068\n",
       "2      6138\n",
       "1      4618\n",
       "3      2382\n",
       "Name: tags_02, dtype: int64"
      ]
     },
     "execution_count": 258,
     "metadata": {},
     "output_type": "execute_result"
    }
   ],
   "source": [
    "rd['tags_02'].value_counts()"
   ]
  },
  {
   "cell_type": "code",
   "execution_count": 257,
   "id": "2a49db9e",
   "metadata": {},
   "outputs": [],
   "source": [
    "rd['tags_02']= pd.DataFrame(kmeans.labels_)"
   ]
  },
  {
   "cell_type": "code",
   "execution_count": 266,
   "id": "ff1af190",
   "metadata": {},
   "outputs": [],
   "source": [
    "predictions = kmeans.predict(reduced_data)"
   ]
  },
  {
   "cell_type": "code",
   "execution_count": 261,
   "id": "87acef93",
   "metadata": {},
   "outputs": [
    {
     "data": {
      "text/html": [
       "<div>\n",
       "<style scoped>\n",
       "    .dataframe tbody tr th:only-of-type {\n",
       "        vertical-align: middle;\n",
       "    }\n",
       "\n",
       "    .dataframe tbody tr th {\n",
       "        vertical-align: top;\n",
       "    }\n",
       "\n",
       "    .dataframe thead tr th {\n",
       "        text-align: left;\n",
       "    }\n",
       "\n",
       "    .dataframe thead tr:last-of-type th {\n",
       "        text-align: right;\n",
       "    }\n",
       "</style>\n",
       "<table border=\"1\" class=\"dataframe\">\n",
       "  <thead>\n",
       "    <tr>\n",
       "      <th></th>\n",
       "      <th colspan=\"4\" halign=\"left\">0</th>\n",
       "      <th colspan=\"4\" halign=\"left\">1</th>\n",
       "    </tr>\n",
       "    <tr>\n",
       "      <th></th>\n",
       "      <th>mean</th>\n",
       "      <th>std</th>\n",
       "      <th>max</th>\n",
       "      <th>min</th>\n",
       "      <th>mean</th>\n",
       "      <th>std</th>\n",
       "      <th>max</th>\n",
       "      <th>min</th>\n",
       "    </tr>\n",
       "    <tr>\n",
       "      <th>tags_02</th>\n",
       "      <th></th>\n",
       "      <th></th>\n",
       "      <th></th>\n",
       "      <th></th>\n",
       "      <th></th>\n",
       "      <th></th>\n",
       "      <th></th>\n",
       "      <th></th>\n",
       "    </tr>\n",
       "  </thead>\n",
       "  <tbody>\n",
       "    <tr>\n",
       "      <th>0</th>\n",
       "      <td>-1.100128e+07</td>\n",
       "      <td>7.150851e+06</td>\n",
       "      <td>7.437083e+07</td>\n",
       "      <td>-1.282919e+07</td>\n",
       "      <td>-1068.741217</td>\n",
       "      <td>249238.427305</td>\n",
       "      <td>726729.265482</td>\n",
       "      <td>-241508.702703</td>\n",
       "    </tr>\n",
       "    <tr>\n",
       "      <th>1</th>\n",
       "      <td>5.244052e+08</td>\n",
       "      <td>6.465923e+07</td>\n",
       "      <td>6.719308e+08</td>\n",
       "      <td>3.421609e+08</td>\n",
       "      <td>-56343.210470</td>\n",
       "      <td>237390.099867</td>\n",
       "      <td>641255.997544</td>\n",
       "      <td>-232336.131386</td>\n",
       "    </tr>\n",
       "    <tr>\n",
       "      <th>2</th>\n",
       "      <td>1.597610e+08</td>\n",
       "      <td>6.882713e+07</td>\n",
       "      <td>3.420209e+08</td>\n",
       "      <td>7.442085e+07</td>\n",
       "      <td>131533.342999</td>\n",
       "      <td>347469.613652</td>\n",
       "      <td>668653.552963</td>\n",
       "      <td>-210333.196145</td>\n",
       "    </tr>\n",
       "    <tr>\n",
       "      <th>3</th>\n",
       "      <td>8.211821e+08</td>\n",
       "      <td>7.968223e+07</td>\n",
       "      <td>9.871508e+08</td>\n",
       "      <td>6.728708e+08</td>\n",
       "      <td>-11170.892699</td>\n",
       "      <td>314993.720197</td>\n",
       "      <td>621156.702355</td>\n",
       "      <td>-246286.201472</td>\n",
       "    </tr>\n",
       "  </tbody>\n",
       "</table>\n",
       "</div>"
      ],
      "text/plain": [
       "                    0                                            \\\n",
       "                 mean           std           max           min   \n",
       "tags_02                                                           \n",
       "0       -1.100128e+07  7.150851e+06  7.437083e+07 -1.282919e+07   \n",
       "1        5.244052e+08  6.465923e+07  6.719308e+08  3.421609e+08   \n",
       "2        1.597610e+08  6.882713e+07  3.420209e+08  7.442085e+07   \n",
       "3        8.211821e+08  7.968223e+07  9.871508e+08  6.728708e+08   \n",
       "\n",
       "                     1                                               \n",
       "                  mean            std            max            min  \n",
       "tags_02                                                              \n",
       "0         -1068.741217  249238.427305  726729.265482 -241508.702703  \n",
       "1        -56343.210470  237390.099867  641255.997544 -232336.131386  \n",
       "2        131533.342999  347469.613652  668653.552963 -210333.196145  \n",
       "3        -11170.892699  314993.720197  621156.702355 -246286.201472  "
      ]
     },
     "execution_count": 261,
     "metadata": {},
     "output_type": "execute_result"
    }
   ],
   "source": [
    "rd.groupby(rd['tags_02']).agg(['mean','std','max','min'])"
   ]
  },
  {
   "cell_type": "code",
   "execution_count": 262,
   "id": "a4396cde",
   "metadata": {},
   "outputs": [],
   "source": [
    "df['tags_02'] = rd['tags_02']"
   ]
  },
  {
   "cell_type": "code",
   "execution_count": 264,
   "id": "be0d8cb2",
   "metadata": {},
   "outputs": [
    {
     "data": {
      "text/html": [
       "<div>\n",
       "<style scoped>\n",
       "    .dataframe tbody tr th:only-of-type {\n",
       "        vertical-align: middle;\n",
       "    }\n",
       "\n",
       "    .dataframe tbody tr th {\n",
       "        vertical-align: top;\n",
       "    }\n",
       "\n",
       "    .dataframe thead tr th {\n",
       "        text-align: left;\n",
       "    }\n",
       "\n",
       "    .dataframe thead tr:last-of-type th {\n",
       "        text-align: right;\n",
       "    }\n",
       "</style>\n",
       "<table border=\"1\" class=\"dataframe\">\n",
       "  <thead>\n",
       "    <tr>\n",
       "      <th></th>\n",
       "      <th colspan=\"4\" halign=\"left\">Total</th>\n",
       "    </tr>\n",
       "    <tr>\n",
       "      <th></th>\n",
       "      <th>mean</th>\n",
       "      <th>std</th>\n",
       "      <th>max</th>\n",
       "      <th>min</th>\n",
       "    </tr>\n",
       "    <tr>\n",
       "      <th>tags_02</th>\n",
       "      <th></th>\n",
       "      <th></th>\n",
       "      <th></th>\n",
       "      <th></th>\n",
       "    </tr>\n",
       "  </thead>\n",
       "  <tbody>\n",
       "    <tr>\n",
       "      <th>0</th>\n",
       "      <td>3.200350e-06</td>\n",
       "      <td>1.587833e-03</td>\n",
       "      <td>1.000000</td>\n",
       "      <td>0.0</td>\n",
       "    </tr>\n",
       "    <tr>\n",
       "      <th>1</th>\n",
       "      <td>7.313425e-08</td>\n",
       "      <td>1.007446e-06</td>\n",
       "      <td>0.000037</td>\n",
       "      <td>0.0</td>\n",
       "    </tr>\n",
       "    <tr>\n",
       "      <th>2</th>\n",
       "      <td>6.580299e-08</td>\n",
       "      <td>6.577446e-07</td>\n",
       "      <td>0.000029</td>\n",
       "      <td>0.0</td>\n",
       "    </tr>\n",
       "    <tr>\n",
       "      <th>3</th>\n",
       "      <td>8.802499e-08</td>\n",
       "      <td>1.414068e-06</td>\n",
       "      <td>0.000056</td>\n",
       "      <td>0.0</td>\n",
       "    </tr>\n",
       "  </tbody>\n",
       "</table>\n",
       "</div>"
      ],
      "text/plain": [
       "                Total                             \n",
       "                 mean           std       max  min\n",
       "tags_02                                           \n",
       "0        3.200350e-06  1.587833e-03  1.000000  0.0\n",
       "1        7.313425e-08  1.007446e-06  0.000037  0.0\n",
       "2        6.580299e-08  6.577446e-07  0.000029  0.0\n",
       "3        8.802499e-08  1.414068e-06  0.000056  0.0"
      ]
     },
     "execution_count": 264,
     "metadata": {},
     "output_type": "execute_result"
    }
   ],
   "source": [
    "df.groupby(['tags_02']).agg({'Total':['mean','std','max','min']})"
   ]
  },
  {
   "cell_type": "code",
   "execution_count": 267,
   "id": "4a97719c",
   "metadata": {
    "scrolled": false
   },
   "outputs": [
    {
     "data": {
      "text/plain": [
       "<matplotlib.collections.PathCollection at 0x2a510163880>"
      ]
     },
     "execution_count": 267,
     "metadata": {},
     "output_type": "execute_result"
    },
    {
     "data": {
      "image/png": "[encoded data removed]",
      "text/plain": [
       "<Figure size 720x504 with 1 Axes>"
      ]
     },
     "metadata": {
      "needs_background": "light"
     },
     "output_type": "display_data"
    }
   ],
   "source": [
    "plt.figure(figsize=(10,7))\n",
    "plt.scatter(reduced_data[:, 0],reduced_data[:, 1],c=predictions, s=30, cmap='tab10')"
   ]
  },
  {
   "cell_type": "code",
   "execution_count": null,
   "id": "e3fb0e78",
   "metadata": {},
   "outputs": [],
   "source": []
  }
 ],
 "metadata": {
  "kernelspec": {
   "display_name": "Python 3 (ipykernel)",
   "language": "python",
   "name": "python3"
  },
  "language_info": {
   "codemirror_mode": {
    "name": "ipython",
    "version": 3
   },
   "file_extension": ".py",
   "mimetype": "text/x-python",
   "name": "python",
   "nbconvert_exporter": "python",
   "pygments_lexer": "ipython3",
   "version": "3.9.7"
  }
 },
 "nbformat": 4,
 "nbformat_minor": 5
}
