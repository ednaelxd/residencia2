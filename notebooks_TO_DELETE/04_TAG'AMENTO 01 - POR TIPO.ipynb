{
 "cells": [
  {
   "cell_type": "markdown",
   "id": "fa466ffd",
   "metadata": {},
   "source": [
    "## Neste documento, adicionaremos a tag legal/ilegal nos dados\n",
    "- Importação dos dados\n",
    "- Divisão por grupo de tipo de licitação\n",
    "- Criação do algorítmo de clsasificação\n",
    "- Implementação nas bases divididas"
   ]
  },
  {
   "cell_type": "code",
   "execution_count": 1,
   "id": "d4318096",
   "metadata": {},
   "outputs": [],
   "source": [
    "import pandas as pd"
   ]
  },
  {
   "cell_type": "code",
   "execution_count": 2,
   "id": "4defb4fa",
   "metadata": {},
   "outputs": [],
   "source": [
    "lic=pd.read_csv(r\"C:\\Users\\efvs\\Documents\\Residencia Ednael\\Dados licitações\\202101_Licitação.csv\", encoding='latin-1',sep=';',decimal=',')"
   ]
  },
  {
   "cell_type": "code",
   "execution_count": 3,
   "id": "27a67660",
   "metadata": {},
   "outputs": [],
   "source": [
    "pd.options.display.max_colwidth = 1000"
   ]
  },
  {
   "cell_type": "code",
   "execution_count": 4,
   "id": "7a7c3db9",
   "metadata": {},
   "outputs": [
    {
     "data": {
      "text/plain": [
       "(4031, 16)"
      ]
     },
     "execution_count": 4,
     "metadata": {},
     "output_type": "execute_result"
    }
   ],
   "source": [
    "lic.shape"
   ]
  },
  {
   "cell_type": "code",
   "execution_count": 5,
   "id": "37cd50a8",
   "metadata": {},
   "outputs": [],
   "source": [
    "lic=pd.read_csv(r\"C:\\Users\\efvs\\Documents\\Residencia Ednael\\Dados licitações\\202101_Licitação.csv\", encoding='latin-1',sep=';',decimal=',')"
   ]
  },
  {
   "cell_type": "code",
   "execution_count": 6,
   "id": "14c347ee",
   "metadata": {},
   "outputs": [],
   "source": [
    "lic.rename(columns={\"Valor Licitação\": \"total\"},inplace=True)"
   ]
  },
  {
   "cell_type": "code",
   "execution_count": 7,
   "id": "3b7c8951",
   "metadata": {},
   "outputs": [
    {
     "data": {
      "text/plain": [
       "Dispensa de Licitação               1372\n",
       "Pregão - Registro de Preço          1115\n",
       "Pregão                               892\n",
       "Inexigibilidade de Licitação         635\n",
       "Tomada de Preços                      11\n",
       "Concorrência                           3\n",
       "Convite                                1\n",
       "Concurso                               1\n",
       "Concorrência - Registro de Preço       1\n",
       "Name: Modalidade Compra, dtype: int64"
      ]
     },
     "execution_count": 7,
     "metadata": {},
     "output_type": "execute_result"
    }
   ],
   "source": [
    "lic['Modalidade Compra'].value_counts()"
   ]
  },
  {
   "cell_type": "markdown",
   "id": "d75b1db9",
   "metadata": {},
   "source": [
    "### Separar o tipo de pedido"
   ]
  },
  {
   "cell_type": "code",
   "execution_count": 8,
   "id": "cc898712",
   "metadata": {},
   "outputs": [],
   "source": [
    "lic_RP=lic[lic['Modalidade Compra']=='Pregão - Registro de Preço']"
   ]
  },
  {
   "cell_type": "code",
   "execution_count": 9,
   "id": "81d1ae53",
   "metadata": {},
   "outputs": [
    {
     "data": {
      "text/plain": [
       "Pregão - Registro de Preço    1115\n",
       "Name: Modalidade Compra, dtype: int64"
      ]
     },
     "execution_count": 9,
     "metadata": {},
     "output_type": "execute_result"
    }
   ],
   "source": [
    "lic_RP['Modalidade Compra'].value_counts()"
   ]
  },
  {
   "cell_type": "code",
   "execution_count": 10,
   "id": "e760f35e",
   "metadata": {},
   "outputs": [],
   "source": [
    "lic_Pregao=lic[lic['Modalidade Compra']=='Pregão']"
   ]
  },
  {
   "cell_type": "code",
   "execution_count": 11,
   "id": "bca4a79b",
   "metadata": {},
   "outputs": [
    {
     "data": {
      "text/plain": [
       "Pregão    892\n",
       "Name: Modalidade Compra, dtype: int64"
      ]
     },
     "execution_count": 11,
     "metadata": {},
     "output_type": "execute_result"
    }
   ],
   "source": [
    "lic_Pregao['Modalidade Compra'].value_counts()"
   ]
  },
  {
   "cell_type": "code",
   "execution_count": 12,
   "id": "1417effc",
   "metadata": {},
   "outputs": [],
   "source": [
    "lic_Dispensa=lic[lic['Modalidade Compra']=='Dispensa de Licitação']"
   ]
  },
  {
   "cell_type": "code",
   "execution_count": 13,
   "id": "e06a1757",
   "metadata": {},
   "outputs": [
    {
     "data": {
      "text/plain": [
       "Dispensa de Licitação    1372\n",
       "Name: Modalidade Compra, dtype: int64"
      ]
     },
     "execution_count": 13,
     "metadata": {},
     "output_type": "execute_result"
    }
   ],
   "source": [
    "lic_Dispensa['Modalidade Compra'].value_counts()"
   ]
  },
  {
   "cell_type": "code",
   "execution_count": 14,
   "id": "26b50f39",
   "metadata": {},
   "outputs": [],
   "source": [
    "lic_INEX=lic[lic['Modalidade Compra']=='Inexigibilidade de Licitação']"
   ]
  },
  {
   "cell_type": "code",
   "execution_count": 15,
   "id": "3c6579f5",
   "metadata": {},
   "outputs": [
    {
     "data": {
      "text/plain": [
       "Inexigibilidade de Licitação    635\n",
       "Name: Modalidade Compra, dtype: int64"
      ]
     },
     "execution_count": 15,
     "metadata": {},
     "output_type": "execute_result"
    }
   ],
   "source": [
    "lic_INEX['Modalidade Compra'].value_counts()"
   ]
  },
  {
   "cell_type": "markdown",
   "id": "754eb304",
   "metadata": {},
   "source": [
    "### É obra?"
   ]
  },
  {
   "cell_type": "code",
   "execution_count": 16,
   "id": "7ce3c6c7",
   "metadata": {},
   "outputs": [],
   "source": [
    "#varre todos o objetos e identifica se possui relação com obras\n",
    "#caso sim, nomeia\n",
    "def eh_obra(x):\n",
    "    y=[]\n",
    "    if ('OBRAS' in x) or ('OBRA' in x) or ('ENGENHARIA' in x) or ('engenharia' in x) or ('obras' in x) or ('obra' in x) or ('CONTRU-CAO' in x) or ('constru-cao' in x):\n",
    "        y.append('OBRAS')\n",
    "    else:\n",
    "        y.append('COMPRA/SERVIÇOS')\n",
    "    y=y.pop(0)\n",
    "    return(y)"
   ]
  },
  {
   "cell_type": "code",
   "execution_count": 17,
   "id": "cd24d836",
   "metadata": {},
   "outputs": [],
   "source": [
    "#aplica a função de descobrimento de obras de forma mais rápida no dataframe\n",
    "def separaObra(df2):\n",
    "    return pd.Series(eh_obra(row.Objeto)\n",
    "        for row in df2.itertuples()\n",
    "  )"
   ]
  },
  {
   "cell_type": "markdown",
   "id": "e3e44922",
   "metadata": {},
   "source": [
    "#### REGISTRO DE PREÇO"
   ]
  },
  {
   "cell_type": "code",
   "execution_count": 18,
   "id": "219d208b",
   "metadata": {
    "scrolled": true
   },
   "outputs": [],
   "source": [
    "abc=pd.DataFrame(separaObra(lic_RP))"
   ]
  },
  {
   "cell_type": "code",
   "execution_count": 19,
   "id": "2f3e823f",
   "metadata": {},
   "outputs": [],
   "source": [
    "abc.rename(columns={0:'col1'},inplace=True)"
   ]
  },
  {
   "cell_type": "code",
   "execution_count": 20,
   "id": "4bc0ded8",
   "metadata": {
    "scrolled": true
   },
   "outputs": [
    {
     "data": {
      "text/plain": [
       "COMPRA/SERVIÇOS    1085\n",
       "OBRAS                30\n",
       "Name: col1, dtype: int64"
      ]
     },
     "execution_count": 20,
     "metadata": {},
     "output_type": "execute_result"
    }
   ],
   "source": [
    "abc['col1'].value_counts()"
   ]
  },
  {
   "cell_type": "code",
   "execution_count": 21,
   "id": "bd795ae9",
   "metadata": {},
   "outputs": [],
   "source": [
    "abc.reset_index(drop=True, inplace=True)"
   ]
  },
  {
   "cell_type": "code",
   "execution_count": 22,
   "id": "61caf897",
   "metadata": {},
   "outputs": [],
   "source": [
    "lic_RP.reset_index(drop=True, inplace=True)"
   ]
  },
  {
   "cell_type": "code",
   "execution_count": 23,
   "id": "e6045000",
   "metadata": {
    "scrolled": false
   },
   "outputs": [
    {
     "name": "stderr",
     "output_type": "stream",
     "text": [
      "C:\\Users\\efvs\\AppData\\Local\\Temp/ipykernel_15132/3902945742.py:1: SettingWithCopyWarning: \n",
      "A value is trying to be set on a copy of a slice from a DataFrame.\n",
      "Try using .loc[row_indexer,col_indexer] = value instead\n",
      "\n",
      "See the caveats in the documentation: https://pandas.pydata.org/pandas-docs/stable/user_guide/indexing.html#returning-a-view-versus-a-copy\n",
      "  lic_RP['tipo']=abc['col1']\n"
     ]
    }
   ],
   "source": [
    "lic_RP['tipo']=abc['col1']"
   ]
  },
  {
   "cell_type": "code",
   "execution_count": 24,
   "id": "6ae69280",
   "metadata": {},
   "outputs": [],
   "source": [
    "lic_obras_RP=lic_RP[lic_RP['tipo']=='OBRAS']\n",
    "lic_compras_RP=lic_RP[lic_RP['tipo']!='OBRAS']"
   ]
  },
  {
   "cell_type": "code",
   "execution_count": 25,
   "id": "ef3ae747",
   "metadata": {},
   "outputs": [
    {
     "data": {
      "text/plain": [
       "OBRAS    30\n",
       "Name: tipo, dtype: int64"
      ]
     },
     "execution_count": 25,
     "metadata": {},
     "output_type": "execute_result"
    }
   ],
   "source": [
    "lic_obras_RP['tipo'].value_counts()"
   ]
  },
  {
   "cell_type": "markdown",
   "id": "ec913c69",
   "metadata": {},
   "source": [
    "#### Tag'ando como legal ou ilegal\n",
    "######  0: ilegal\n",
    "######  1: legal"
   ]
  },
  {
   "cell_type": "code",
   "execution_count": 26,
   "id": "ebfefa64",
   "metadata": {
    "scrolled": false
   },
   "outputs": [
    {
     "name": "stderr",
     "output_type": "stream",
     "text": [
      "C:\\Users\\efvs\\AppData\\Local\\Temp/ipykernel_15132/3604007373.py:1: SettingWithCopyWarning: \n",
      "A value is trying to be set on a copy of a slice from a DataFrame.\n",
      "Try using .loc[row_indexer,col_indexer] = value instead\n",
      "\n",
      "See the caveats in the documentation: https://pandas.pydata.org/pandas-docs/stable/user_guide/indexing.html#returning-a-view-versus-a-copy\n",
      "  lic_obras_RP['TAG']=0\n",
      "C:\\Users\\efvs\\AppData\\Local\\Temp/ipykernel_15132/3604007373.py:2: SettingWithCopyWarning: \n",
      "A value is trying to be set on a copy of a slice from a DataFrame.\n",
      "Try using .loc[row_indexer,col_indexer] = value instead\n",
      "\n",
      "See the caveats in the documentation: https://pandas.pydata.org/pandas-docs/stable/user_guide/indexing.html#returning-a-view-versus-a-copy\n",
      "  lic_compras_RP['TAG']=0\n"
     ]
    }
   ],
   "source": [
    "lic_obras_RP['TAG']=0\n",
    "lic_compras_RP['TAG']=0"
   ]
  },
  {
   "cell_type": "code",
   "execution_count": 27,
   "id": "dec5ad36",
   "metadata": {
    "scrolled": true
   },
   "outputs": [
    {
     "name": "stderr",
     "output_type": "stream",
     "text": [
      "C:\\Users\\efvs\\miniconda3\\envs\\rsd\\lib\\site-packages\\pandas\\core\\indexing.py:1817: SettingWithCopyWarning: \n",
      "A value is trying to be set on a copy of a slice from a DataFrame.\n",
      "Try using .loc[row_indexer,col_indexer] = value instead\n",
      "\n",
      "See the caveats in the documentation: https://pandas.pydata.org/pandas-docs/stable/user_guide/indexing.html#returning-a-view-versus-a-copy\n",
      "  self._setitem_single_column(loc, value, pi)\n"
     ]
    }
   ],
   "source": [
    "#regra de limite de valor\n",
    "#Considerando REGISTRO DE PREÇO como CONCORRENCIA\n",
    "lic_obras_RP.loc[lic_obras_RP['total']>3300000, 'TAG'] = 1\n",
    "lic_compras_RP.loc[lic_compras_RP['total']>1430000, 'TAG'] = 1"
   ]
  },
  {
   "cell_type": "code",
   "execution_count": 28,
   "id": "716853f4",
   "metadata": {},
   "outputs": [
    {
     "data": {
      "text/plain": [
       "0    25\n",
       "1     5\n",
       "Name: TAG, dtype: int64"
      ]
     },
     "execution_count": 28,
     "metadata": {},
     "output_type": "execute_result"
    }
   ],
   "source": [
    "lic_obras_RP['TAG'].value_counts()"
   ]
  },
  {
   "cell_type": "code",
   "execution_count": 29,
   "id": "cf5d177b",
   "metadata": {},
   "outputs": [
    {
     "name": "stdout",
     "output_type": "stream",
     "text": [
      "Obras: 0.10674157303370786 Compras: 0.0612509732675837\n"
     ]
    }
   ],
   "source": [
    "print('Obras:',19/(159+19),\"Compras:\",236/(3617+236))"
   ]
  },
  {
   "cell_type": "code",
   "execution_count": 31,
   "id": "cb731d42",
   "metadata": {
    "scrolled": true
   },
   "outputs": [
    {
     "data": {
      "text/plain": [
       "0    1042\n",
       "1      43\n",
       "Name: TAG, dtype: int64"
      ]
     },
     "execution_count": 31,
     "metadata": {},
     "output_type": "execute_result"
    }
   ],
   "source": [
    "lic_compras_RP['TAG'].value_counts()"
   ]
  },
  {
   "cell_type": "markdown",
   "id": "1d8adac8",
   "metadata": {},
   "source": [
    "#### Verificações dos resultados - Obras"
   ]
  },
  {
   "cell_type": "code",
   "execution_count": 32,
   "id": "dfcf3acd",
   "metadata": {},
   "outputs": [],
   "source": [
    "pd.set_option('display.float_format', lambda x: '%.5f' % x)"
   ]
  },
  {
   "cell_type": "code",
   "execution_count": 33,
   "id": "1720c1cf",
   "metadata": {},
   "outputs": [
    {
     "data": {
      "text/plain": [
       "<AxesSubplot:>"
      ]
     },
     "execution_count": 33,
     "metadata": {},
     "output_type": "execute_result"
    },
    {
     "data": {
      "image/png": "[encoded data removed]",
      "text/plain": [
       "<Figure size 432x288 with 1 Axes>"
      ]
     },
     "metadata": {
      "needs_background": "light"
     },
     "output_type": "display_data"
    }
   ],
   "source": [
    "lic_obras_RP['total'].plot.box()"
   ]
  },
  {
   "cell_type": "code",
   "execution_count": 34,
   "id": "03d3ea78",
   "metadata": {
    "scrolled": true
   },
   "outputs": [
    {
     "data": {
      "text/plain": [
       "count         30.00000\n",
       "mean     1641781.52067\n",
       "std      3980222.77667\n",
       "min            0.00000\n",
       "25%        13039.06000\n",
       "50%        84620.00000\n",
       "75%       739702.70000\n",
       "max     18572400.00000\n",
       "Name: total, dtype: float64"
      ]
     },
     "execution_count": 34,
     "metadata": {},
     "output_type": "execute_result"
    }
   ],
   "source": [
    "lic_obras_RP['total'].describe()"
   ]
  },
  {
   "cell_type": "markdown",
   "id": "37bd33a2",
   "metadata": {},
   "source": [
    "### Pregão"
   ]
  },
  {
   "cell_type": "code",
   "execution_count": 35,
   "id": "641df055",
   "metadata": {},
   "outputs": [
    {
     "data": {
      "text/plain": [
       "COMPRA/SERVIÇOS    789\n",
       "OBRAS              103\n",
       "Name: col1, dtype: int64"
      ]
     },
     "execution_count": 35,
     "metadata": {},
     "output_type": "execute_result"
    }
   ],
   "source": [
    "abc2=pd.DataFrame(separaObra(lic_Pregao))\n",
    "abc2.rename(columns={0:'col1'},inplace=True)\n",
    "abc2['col1'].value_counts()"
   ]
  },
  {
   "cell_type": "code",
   "execution_count": 36,
   "id": "54f29dfd",
   "metadata": {},
   "outputs": [],
   "source": [
    "lic_Pregao.reset_index(drop=True, inplace=True)"
   ]
  },
  {
   "cell_type": "code",
   "execution_count": 37,
   "id": "375c2510",
   "metadata": {
    "scrolled": true
   },
   "outputs": [
    {
     "name": "stderr",
     "output_type": "stream",
     "text": [
      "C:\\Users\\efvs\\AppData\\Local\\Temp/ipykernel_15132/3325080535.py:1: SettingWithCopyWarning: \n",
      "A value is trying to be set on a copy of a slice from a DataFrame.\n",
      "Try using .loc[row_indexer,col_indexer] = value instead\n",
      "\n",
      "See the caveats in the documentation: https://pandas.pydata.org/pandas-docs/stable/user_guide/indexing.html#returning-a-view-versus-a-copy\n",
      "  lic_Pregao['tipo']=abc2\n"
     ]
    }
   ],
   "source": [
    "lic_Pregao['tipo']=abc2"
   ]
  },
  {
   "cell_type": "code",
   "execution_count": 38,
   "id": "36845602",
   "metadata": {},
   "outputs": [
    {
     "name": "stderr",
     "output_type": "stream",
     "text": [
      "C:\\Users\\efvs\\AppData\\Local\\Temp/ipykernel_15132/3334773092.py:6: SettingWithCopyWarning: \n",
      "A value is trying to be set on a copy of a slice from a DataFrame.\n",
      "Try using .loc[row_indexer,col_indexer] = value instead\n",
      "\n",
      "See the caveats in the documentation: https://pandas.pydata.org/pandas-docs/stable/user_guide/indexing.html#returning-a-view-versus-a-copy\n",
      "  lic_obras_Pregao['TAG']=1\n",
      "C:\\Users\\efvs\\AppData\\Local\\Temp/ipykernel_15132/3334773092.py:7: SettingWithCopyWarning: \n",
      "A value is trying to be set on a copy of a slice from a DataFrame.\n",
      "Try using .loc[row_indexer,col_indexer] = value instead\n",
      "\n",
      "See the caveats in the documentation: https://pandas.pydata.org/pandas-docs/stable/user_guide/indexing.html#returning-a-view-versus-a-copy\n",
      "  lic_compras_Pregao['TAG']=1\n"
     ]
    }
   ],
   "source": [
    "## \n",
    "lic_obras_Pregao=lic_Pregao[lic_Pregao['tipo']=='OBRAS']\n",
    "lic_compras_Pregao=lic_Pregao[lic_Pregao['tipo']!='OBRAS']\n",
    "####\n",
    "# Não será feito mudança na tag de legalidade por valor, pois não existe teto para pregões\n",
    "lic_obras_Pregao['TAG']=1\n",
    "lic_compras_Pregao['TAG']=1\n",
    "####"
   ]
  },
  {
   "cell_type": "markdown",
   "id": "7319cecb",
   "metadata": {},
   "source": [
    "#### Tag'ando como legal ou ilegal\n",
    "######  0: ilegal\n",
    "######  1: legal"
   ]
  },
  {
   "cell_type": "code",
   "execution_count": 39,
   "id": "561321fa",
   "metadata": {},
   "outputs": [
    {
     "data": {
      "text/plain": [
       "OBRAS    103\n",
       "Name: tipo, dtype: int64"
      ]
     },
     "execution_count": 39,
     "metadata": {},
     "output_type": "execute_result"
    }
   ],
   "source": [
    "lic_obras_Pregao['tipo'].value_counts()"
   ]
  },
  {
   "cell_type": "markdown",
   "id": "a4609f6d",
   "metadata": {},
   "source": [
    "### Dispensa de Licitação"
   ]
  },
  {
   "cell_type": "code",
   "execution_count": 40,
   "id": "91524177",
   "metadata": {},
   "outputs": [
    {
     "data": {
      "text/plain": [
       "COMPRA/SERVIÇOS    1337\n",
       "OBRAS                35\n",
       "Name: col1, dtype: int64"
      ]
     },
     "execution_count": 40,
     "metadata": {},
     "output_type": "execute_result"
    }
   ],
   "source": [
    "abc3=pd.DataFrame(separaObra(lic_Dispensa))\n",
    "abc3.rename(columns={0:'col1'},inplace=True)\n",
    "abc3['col1'].value_counts()"
   ]
  },
  {
   "cell_type": "code",
   "execution_count": 41,
   "id": "3a4e8ec3",
   "metadata": {},
   "outputs": [],
   "source": [
    "lic_Dispensa.reset_index(drop=True, inplace=True)"
   ]
  },
  {
   "cell_type": "code",
   "execution_count": 42,
   "id": "ca60817b",
   "metadata": {
    "scrolled": false
   },
   "outputs": [
    {
     "name": "stderr",
     "output_type": "stream",
     "text": [
      "C:\\Users\\efvs\\AppData\\Local\\Temp/ipykernel_15132/2893327175.py:1: SettingWithCopyWarning: \n",
      "A value is trying to be set on a copy of a slice from a DataFrame.\n",
      "Try using .loc[row_indexer,col_indexer] = value instead\n",
      "\n",
      "See the caveats in the documentation: https://pandas.pydata.org/pandas-docs/stable/user_guide/indexing.html#returning-a-view-versus-a-copy\n",
      "  lic_Dispensa['tipo']=abc3\n"
     ]
    }
   ],
   "source": [
    "lic_Dispensa['tipo']=abc3\n",
    "lic_obras_Dispensa=lic_Dispensa[lic_Dispensa['tipo']=='OBRAS']\n",
    "lic_compras_Dispensa=lic_Dispensa[lic_Dispensa['tipo']!='OBRAS']"
   ]
  },
  {
   "cell_type": "code",
   "execution_count": 43,
   "id": "79003fa9",
   "metadata": {},
   "outputs": [
    {
     "name": "stderr",
     "output_type": "stream",
     "text": [
      "C:\\Users\\efvs\\AppData\\Local\\Temp/ipykernel_15132/2922871925.py:1: SettingWithCopyWarning: \n",
      "A value is trying to be set on a copy of a slice from a DataFrame.\n",
      "Try using .loc[row_indexer,col_indexer] = value instead\n",
      "\n",
      "See the caveats in the documentation: https://pandas.pydata.org/pandas-docs/stable/user_guide/indexing.html#returning-a-view-versus-a-copy\n",
      "  lic_obras_Dispensa['TAG']=0\n",
      "C:\\Users\\efvs\\AppData\\Local\\Temp/ipykernel_15132/2922871925.py:2: SettingWithCopyWarning: \n",
      "A value is trying to be set on a copy of a slice from a DataFrame.\n",
      "Try using .loc[row_indexer,col_indexer] = value instead\n",
      "\n",
      "See the caveats in the documentation: https://pandas.pydata.org/pandas-docs/stable/user_guide/indexing.html#returning-a-view-versus-a-copy\n",
      "  lic_compras_Dispensa['TAG']=0\n"
     ]
    }
   ],
   "source": [
    "lic_obras_Dispensa['TAG']=0\n",
    "lic_compras_Dispensa['TAG']=0"
   ]
  },
  {
   "cell_type": "code",
   "execution_count": 44,
   "id": "331b76ce",
   "metadata": {},
   "outputs": [
    {
     "name": "stderr",
     "output_type": "stream",
     "text": [
      "C:\\Users\\efvs\\miniconda3\\envs\\rsd\\lib\\site-packages\\pandas\\core\\indexing.py:1817: SettingWithCopyWarning: \n",
      "A value is trying to be set on a copy of a slice from a DataFrame.\n",
      "Try using .loc[row_indexer,col_indexer] = value instead\n",
      "\n",
      "See the caveats in the documentation: https://pandas.pydata.org/pandas-docs/stable/user_guide/indexing.html#returning-a-view-versus-a-copy\n",
      "  self._setitem_single_column(loc, value, pi)\n"
     ]
    }
   ],
   "source": [
    "lic_obras_Dispensa.loc[lic_obras_Dispensa['total']<=33000, 'TAG'] = 1\n",
    "lic_compras_Dispensa.loc[lic_compras_Dispensa['total']<=17600, 'TAG'] = 1"
   ]
  },
  {
   "cell_type": "markdown",
   "id": "6e9df432",
   "metadata": {},
   "source": [
    "#### Verificações dos resultados - Obras"
   ]
  },
  {
   "cell_type": "code",
   "execution_count": 45,
   "id": "e515eb7f",
   "metadata": {},
   "outputs": [
    {
     "data": {
      "text/plain": [
       "1    22\n",
       "0    13\n",
       "Name: TAG, dtype: int64"
      ]
     },
     "execution_count": 45,
     "metadata": {},
     "output_type": "execute_result"
    }
   ],
   "source": [
    "lic_obras_Dispensa['TAG'].value_counts()"
   ]
  },
  {
   "cell_type": "code",
   "execution_count": 46,
   "id": "d660faa9",
   "metadata": {
    "scrolled": true
   },
   "outputs": [
    {
     "data": {
      "text/plain": [
       "count        35.00000\n",
       "mean     142663.93686\n",
       "std      343396.01678\n",
       "min         419.00000\n",
       "25%        5394.00000\n",
       "50%       17550.00000\n",
       "75%      131207.34000\n",
       "max     1866931.50000\n",
       "Name: total, dtype: float64"
      ]
     },
     "execution_count": 46,
     "metadata": {},
     "output_type": "execute_result"
    }
   ],
   "source": [
    "lic_obras_Dispensa['total'].describe()"
   ]
  },
  {
   "cell_type": "markdown",
   "id": "aeebb527",
   "metadata": {},
   "source": [
    "#### Verificações dos resultados - Compras"
   ]
  },
  {
   "cell_type": "code",
   "execution_count": 47,
   "id": "74a0bbf8",
   "metadata": {},
   "outputs": [
    {
     "data": {
      "text/plain": [
       "1    1006\n",
       "0     331\n",
       "Name: TAG, dtype: int64"
      ]
     },
     "execution_count": 47,
     "metadata": {},
     "output_type": "execute_result"
    }
   ],
   "source": [
    "# 44pct legais\n",
    "lic_compras_Dispensa['TAG'].value_counts()"
   ]
  },
  {
   "cell_type": "code",
   "execution_count": 48,
   "id": "9b5a214d",
   "metadata": {},
   "outputs": [
    {
     "data": {
      "text/plain": [
       "count       1337.00000\n",
       "mean      262694.07333\n",
       "std      2450155.58086\n",
       "min            0.00000\n",
       "25%         1694.90000\n",
       "50%         5750.00000\n",
       "75%        17600.00000\n",
       "max     57226785.00000\n",
       "Name: total, dtype: float64"
      ]
     },
     "execution_count": 48,
     "metadata": {},
     "output_type": "execute_result"
    }
   ],
   "source": [
    "lic_compras_Dispensa['total'].describe()"
   ]
  },
  {
   "cell_type": "code",
   "execution_count": 49,
   "id": "dc343cba",
   "metadata": {
    "scrolled": true
   },
   "outputs": [
    {
     "data": {
      "text/html": [
       "<div>\n",
       "<style scoped>\n",
       "    .dataframe tbody tr th:only-of-type {\n",
       "        vertical-align: middle;\n",
       "    }\n",
       "\n",
       "    .dataframe tbody tr th {\n",
       "        vertical-align: top;\n",
       "    }\n",
       "\n",
       "    .dataframe thead th {\n",
       "        text-align: right;\n",
       "    }\n",
       "</style>\n",
       "<table border=\"1\" class=\"dataframe\">\n",
       "  <thead>\n",
       "    <tr style=\"text-align: right;\">\n",
       "      <th></th>\n",
       "      <th>Número Licitação</th>\n",
       "      <th>Código UG</th>\n",
       "      <th>Nome UG</th>\n",
       "      <th>Código Modalidade Compra</th>\n",
       "      <th>Modalidade Compra</th>\n",
       "      <th>Número Processo</th>\n",
       "      <th>Objeto</th>\n",
       "      <th>Situação Licitação</th>\n",
       "      <th>Código Órgão Superior</th>\n",
       "      <th>Nome Órgão Superior</th>\n",
       "      <th>Código Órgão</th>\n",
       "      <th>Nome Órgão</th>\n",
       "      <th>Município</th>\n",
       "      <th>Data Resultado Compra</th>\n",
       "      <th>Data Abertura</th>\n",
       "      <th>total</th>\n",
       "      <th>tipo</th>\n",
       "      <th>TAG</th>\n",
       "    </tr>\n",
       "  </thead>\n",
       "  <tbody>\n",
       "    <tr>\n",
       "      <th>331</th>\n",
       "      <td>12021</td>\n",
       "      <td>254445</td>\n",
       "      <td>INSTITUTO DE TECNOLOGIA EM IMUNOBIOLOGICOS</td>\n",
       "      <td>6</td>\n",
       "      <td>Dispensa de Licitação</td>\n",
       "      <td>25386000016202107</td>\n",
       "      <td>Objeto: Aquisição, por importação, de vacina, chadox1 ncov-19;covid-19 (recombinante); liquida; perecível; frasco com 10 doses; covishield; Serum Institute of India</td>\n",
       "      <td>Encerrado</td>\n",
       "      <td>36000</td>\n",
       "      <td>Ministério da Saúde</td>\n",
       "      <td>36201</td>\n",
       "      <td>Fundação Oswaldo Cruz</td>\n",
       "      <td>RIO DE JANEIRO</td>\n",
       "      <td>08/01/2021</td>\n",
       "      <td>NaN</td>\n",
       "      <td>57226785.00000</td>\n",
       "      <td>COMPRA/SERVIÇOS</td>\n",
       "      <td>0</td>\n",
       "    </tr>\n",
       "  </tbody>\n",
       "</table>\n",
       "</div>"
      ],
      "text/plain": [
       "     Número Licitação  Código UG                                     Nome UG  \\\n",
       "331             12021     254445  INSTITUTO DE TECNOLOGIA EM IMUNOBIOLOGICOS   \n",
       "\n",
       "     Código Modalidade Compra      Modalidade Compra    Número Processo  \\\n",
       "331                         6  Dispensa de Licitação  25386000016202107   \n",
       "\n",
       "                                                                                                                                                                   Objeto  \\\n",
       "331  Objeto: Aquisição, por importação, de vacina, chadox1 ncov-19;covid-19 (recombinante); liquida; perecível; frasco com 10 doses; covishield; Serum Institute of India   \n",
       "\n",
       "    Situação Licitação  Código Órgão Superior  Nome Órgão Superior  \\\n",
       "331          Encerrado                  36000  Ministério da Saúde   \n",
       "\n",
       "     Código Órgão             Nome Órgão       Município  \\\n",
       "331         36201  Fundação Oswaldo Cruz  RIO DE JANEIRO   \n",
       "\n",
       "    Data Resultado Compra Data Abertura          total             tipo  TAG  \n",
       "331            08/01/2021           NaN 57226785.00000  COMPRA/SERVIÇOS    0  "
      ]
     },
     "execution_count": 49,
     "metadata": {},
     "output_type": "execute_result"
    }
   ],
   "source": [
    "lic_compras_Dispensa[lic_compras_Dispensa['total']==57226785.00000]"
   ]
  },
  {
   "cell_type": "code",
   "execution_count": 50,
   "id": "15d03bc0",
   "metadata": {},
   "outputs": [
    {
     "data": {
      "text/plain": [
       "<AxesSubplot:>"
      ]
     },
     "execution_count": 50,
     "metadata": {},
     "output_type": "execute_result"
    },
    {
     "data": {
      "image/png": "[encoded data removed]",
      "text/plain": [
       "<Figure size 432x288 with 1 Axes>"
      ]
     },
     "metadata": {
      "needs_background": "light"
     },
     "output_type": "display_data"
    }
   ],
   "source": [
    "lic_compras_Dispensa['total'].plot.box()"
   ]
  },
  {
   "cell_type": "markdown",
   "id": "9b22cefc",
   "metadata": {},
   "source": [
    "## INEXIBILIDADE DE LICITAÇÃO"
   ]
  },
  {
   "cell_type": "code",
   "execution_count": 51,
   "id": "13dfebac",
   "metadata": {},
   "outputs": [
    {
     "data": {
      "text/plain": [
       "COMPRA/SERVIÇOS    630\n",
       "OBRAS                5\n",
       "Name: col1, dtype: int64"
      ]
     },
     "execution_count": 51,
     "metadata": {},
     "output_type": "execute_result"
    }
   ],
   "source": [
    "abc3=pd.DataFrame(separaObra(lic_INEX))\n",
    "abc3.rename(columns={0:'col1'},inplace=True)\n",
    "abc3['col1'].value_counts()"
   ]
  },
  {
   "cell_type": "code",
   "execution_count": 52,
   "id": "49bf5dd8",
   "metadata": {},
   "outputs": [],
   "source": [
    "lic_INEX.reset_index(drop=True, inplace=True)"
   ]
  },
  {
   "cell_type": "code",
   "execution_count": 53,
   "id": "27454ee4",
   "metadata": {},
   "outputs": [
    {
     "name": "stderr",
     "output_type": "stream",
     "text": [
      "C:\\Users\\efvs\\AppData\\Local\\Temp/ipykernel_15132/1984443527.py:1: SettingWithCopyWarning: \n",
      "A value is trying to be set on a copy of a slice from a DataFrame.\n",
      "Try using .loc[row_indexer,col_indexer] = value instead\n",
      "\n",
      "See the caveats in the documentation: https://pandas.pydata.org/pandas-docs/stable/user_guide/indexing.html#returning-a-view-versus-a-copy\n",
      "  lic_INEX['tipo']=abc3\n"
     ]
    }
   ],
   "source": [
    "lic_INEX['tipo']=abc3\n",
    "lic_obras_INEX=lic_INEX[lic_INEX['tipo']=='OBRAS']\n",
    "lic_compras_INEX=lic_INEX[lic_INEX['tipo']!='OBRAS']"
   ]
  },
  {
   "cell_type": "code",
   "execution_count": 54,
   "id": "6b23a7cf",
   "metadata": {
    "scrolled": true
   },
   "outputs": [
    {
     "name": "stderr",
     "output_type": "stream",
     "text": [
      "C:\\Users\\efvs\\AppData\\Local\\Temp/ipykernel_15132/1557630053.py:1: SettingWithCopyWarning: \n",
      "A value is trying to be set on a copy of a slice from a DataFrame.\n",
      "Try using .loc[row_indexer,col_indexer] = value instead\n",
      "\n",
      "See the caveats in the documentation: https://pandas.pydata.org/pandas-docs/stable/user_guide/indexing.html#returning-a-view-versus-a-copy\n",
      "  lic_obras_INEX['TAG']= 1\n",
      "C:\\Users\\efvs\\AppData\\Local\\Temp/ipykernel_15132/1557630053.py:2: SettingWithCopyWarning: \n",
      "A value is trying to be set on a copy of a slice from a DataFrame.\n",
      "Try using .loc[row_indexer,col_indexer] = value instead\n",
      "\n",
      "See the caveats in the documentation: https://pandas.pydata.org/pandas-docs/stable/user_guide/indexing.html#returning-a-view-versus-a-copy\n",
      "  lic_compras_INEX['TAG']= 1\n"
     ]
    }
   ],
   "source": [
    "lic_obras_INEX['TAG']= 1\n",
    "lic_compras_INEX['TAG']= 1"
   ]
  },
  {
   "cell_type": "code",
   "execution_count": 55,
   "id": "68c5e582",
   "metadata": {},
   "outputs": [],
   "source": [
    "pd.options.display.max_colwidth = 1000"
   ]
  },
  {
   "cell_type": "markdown",
   "id": "26366dd9",
   "metadata": {},
   "source": [
    "# Criação de TAG's\n",
    "\n",
    "### <i> Passado esse primeiro momento, conseguimos dividir as licitações em dois grupos, tomando por referência uma regra bem definida, baseada nos limites de valores regidos por lei. De agora em diante, buscaremos dividir em outras categorias as licitações, afim de identificar demais possiveis irregularidades (riscos)"
   ]
  },
  {
   "cell_type": "markdown",
   "id": "f48d8d43",
   "metadata": {},
   "source": [
    "#### TAG's para Dispensa/Concorrência [ILEGAIS]"
   ]
  },
  {
   "cell_type": "code",
   "execution_count": 134,
   "id": "9dfc333c",
   "metadata": {},
   "outputs": [],
   "source": [
    "#df = lic_item.head()"
   ]
  },
  {
   "cell_type": "code",
   "execution_count": 135,
   "id": "620c4a50",
   "metadata": {},
   "outputs": [],
   "source": [
    "# lic_obras_RP\n",
    "# lic_compras_RP\n",
    "# lic_obras_Pregao\n",
    "# lic_compras_Pregao\n",
    "# lic_obras_Dispensa\n",
    "# lic_compras_Dispensa\n",
    "# lic_obras_INEX\n",
    "# lic_compras_INEX"
   ]
  },
  {
   "cell_type": "code",
   "execution_count": 136,
   "id": "a95dc43f",
   "metadata": {},
   "outputs": [
    {
     "data": {
      "text/plain": [
       "\"'def categorizeDispensa(x):\\n    y=[]\\n    if x[-1][0]=='OBRAS'\\n        if x/33000 >= 1.5 and x/33000 < 2:\\n            y='0.5x maior que o teto'\\n        elif x/33000 >= 2 and x/33000 < 3:\\n            y='2x maior que o teto'\\n    else:\\n        \\n\\n    return(y)\""
      ]
     },
     "execution_count": 136,
     "metadata": {},
     "output_type": "execute_result"
    }
   ],
   "source": [
    "# Modificar essa regra, para que seja baseada em algo já citado na literatura\n",
    "\n",
    "''''def categorizeDispensa(x):\n",
    "    y=[]\n",
    "    if x[-1][0]=='OBRAS'\n",
    "        if x/33000 >= 1.5 and x/33000 < 2:\n",
    "            y='0.5x maior que o teto'\n",
    "        elif x/33000 >= 2 and x/33000 < 3:\n",
    "            y='2x maior que o teto'\n",
    "    else:\n",
    "        \n",
    "\n",
    "    return(y)'''"
   ]
  },
  {
   "cell_type": "markdown",
   "id": "3d46dddf",
   "metadata": {},
   "source": [
    "###### RP \n",
    "##### Quantas vezes é MENOR que a regra? = MAIOR/MENOR"
   ]
  },
  {
   "cell_type": "code",
   "execution_count": 138,
   "id": "3a56c70c",
   "metadata": {
    "scrolled": false
   },
   "outputs": [
    {
     "name": "stderr",
     "output_type": "stream",
     "text": [
      "C:\\Users\\efvs\\AppData\\Local\\Temp/ipykernel_8684/2795586922.py:1: SettingWithCopyWarning: \n",
      "A value is trying to be set on a copy of a slice from a DataFrame.\n",
      "Try using .loc[row_indexer,col_indexer] = value instead\n",
      "\n",
      "See the caveats in the documentation: https://pandas.pydata.org/pandas-docs/stable/user_guide/indexing.html#returning-a-view-versus-a-copy\n",
      "  lic_obras_RP['div_por_teto'] = lic_obras_RP['total']/3300000\n",
      "C:\\Users\\efvs\\AppData\\Local\\Temp/ipykernel_8684/2795586922.py:2: SettingWithCopyWarning: \n",
      "A value is trying to be set on a copy of a slice from a DataFrame.\n",
      "Try using .loc[row_indexer,col_indexer] = value instead\n",
      "\n",
      "See the caveats in the documentation: https://pandas.pydata.org/pandas-docs/stable/user_guide/indexing.html#returning-a-view-versus-a-copy\n",
      "  lic_compras_RP['div_por_teto'] = lic_obras_RP['total']/1400000\n"
     ]
    }
   ],
   "source": [
    "'''lic_obras_RP['div_por_teto'] = lic_obras_RP['total']/3300000\n",
    "lic_compras_RP['div_por_teto'] = lic_obras_RP['total']/1400000'''"
   ]
  },
  {
   "cell_type": "code",
   "execution_count": 139,
   "id": "7694d181",
   "metadata": {},
   "outputs": [],
   "source": [
    "'''def itertuples_impl(df2):\n",
    "    return pd.Series(categorize(row.total)\n",
    "        for row in df2.itertuples()\n",
    "  )'''"
   ]
  },
  {
   "cell_type": "code",
   "execution_count": 140,
   "id": "2d4a8525",
   "metadata": {},
   "outputs": [],
   "source": [
    "#itertuples_impl(lic_item)"
   ]
  },
  {
   "cell_type": "code",
   "execution_count": 56,
   "id": "dc5f27ae",
   "metadata": {},
   "outputs": [],
   "source": [
    "lic2=pd.concat([lic_obras_RP,lic_compras_RP,lic_obras_Pregao,lic_compras_Pregao,lic_obras_Dispensa,lic_compras_Dispensa,lic_obras_INEX,lic_compras_INEX])"
   ]
  },
  {
   "cell_type": "code",
   "execution_count": 57,
   "id": "ccf15bf4",
   "metadata": {},
   "outputs": [],
   "source": [
    "lic2.to_csv('lic2.csv')"
   ]
  },
  {
   "cell_type": "code",
   "execution_count": 58,
   "id": "3fc5c4e9",
   "metadata": {},
   "outputs": [
    {
     "data": {
      "text/plain": [
       "1    2603\n",
       "0    1411\n",
       "Name: TAG, dtype: int64"
      ]
     },
     "execution_count": 58,
     "metadata": {},
     "output_type": "execute_result"
    }
   ],
   "source": [
    "lic2['TAG'].value_counts()"
   ]
  },
  {
   "cell_type": "code",
   "execution_count": 59,
   "id": "92e2ace5",
   "metadata": {},
   "outputs": [
    {
     "data": {
      "text/html": [
       "<div>\n",
       "<style scoped>\n",
       "    .dataframe tbody tr th:only-of-type {\n",
       "        vertical-align: middle;\n",
       "    }\n",
       "\n",
       "    .dataframe tbody tr th {\n",
       "        vertical-align: top;\n",
       "    }\n",
       "\n",
       "    .dataframe thead tr th {\n",
       "        text-align: left;\n",
       "    }\n",
       "\n",
       "    .dataframe thead tr:last-of-type th {\n",
       "        text-align: right;\n",
       "    }\n",
       "</style>\n",
       "<table border=\"1\" class=\"dataframe\">\n",
       "  <thead>\n",
       "    <tr>\n",
       "      <th></th>\n",
       "      <th></th>\n",
       "      <th colspan=\"8\" halign=\"left\">Número Licitação</th>\n",
       "      <th colspan=\"2\" halign=\"left\">Código UG</th>\n",
       "      <th>...</th>\n",
       "      <th colspan=\"2\" halign=\"left\">Código Órgão</th>\n",
       "      <th colspan=\"8\" halign=\"left\">total</th>\n",
       "    </tr>\n",
       "    <tr>\n",
       "      <th></th>\n",
       "      <th></th>\n",
       "      <th>count</th>\n",
       "      <th>mean</th>\n",
       "      <th>std</th>\n",
       "      <th>min</th>\n",
       "      <th>25%</th>\n",
       "      <th>50%</th>\n",
       "      <th>75%</th>\n",
       "      <th>max</th>\n",
       "      <th>count</th>\n",
       "      <th>mean</th>\n",
       "      <th>...</th>\n",
       "      <th>75%</th>\n",
       "      <th>max</th>\n",
       "      <th>count</th>\n",
       "      <th>mean</th>\n",
       "      <th>std</th>\n",
       "      <th>min</th>\n",
       "      <th>25%</th>\n",
       "      <th>50%</th>\n",
       "      <th>75%</th>\n",
       "      <th>max</th>\n",
       "    </tr>\n",
       "    <tr>\n",
       "      <th>Modalidade Compra</th>\n",
       "      <th>TAG</th>\n",
       "      <th></th>\n",
       "      <th></th>\n",
       "      <th></th>\n",
       "      <th></th>\n",
       "      <th></th>\n",
       "      <th></th>\n",
       "      <th></th>\n",
       "      <th></th>\n",
       "      <th></th>\n",
       "      <th></th>\n",
       "      <th></th>\n",
       "      <th></th>\n",
       "      <th></th>\n",
       "      <th></th>\n",
       "      <th></th>\n",
       "      <th></th>\n",
       "      <th></th>\n",
       "      <th></th>\n",
       "      <th></th>\n",
       "      <th></th>\n",
       "      <th></th>\n",
       "    </tr>\n",
       "  </thead>\n",
       "  <tbody>\n",
       "    <tr>\n",
       "      <th rowspan=\"2\" valign=\"top\">Dispensa de Licitação</th>\n",
       "      <th>0</th>\n",
       "      <td>344.00000</td>\n",
       "      <td>4737108.05233</td>\n",
       "      <td>37540464.43655</td>\n",
       "      <td>12021.00000</td>\n",
       "      <td>12021.00000</td>\n",
       "      <td>42021.00000</td>\n",
       "      <td>164521.00000</td>\n",
       "      <td>600012021.00000</td>\n",
       "      <td>344.00000</td>\n",
       "      <td>209859.68314</td>\n",
       "      <td>...</td>\n",
       "      <td>32314.00000</td>\n",
       "      <td>95320.00000</td>\n",
       "      <td>344.00000</td>\n",
       "      <td>1020381.12881</td>\n",
       "      <td>4756192.02706</td>\n",
       "      <td>17900.00000</td>\n",
       "      <td>35750.00000</td>\n",
       "      <td>95963.44500</td>\n",
       "      <td>405966.92000</td>\n",
       "      <td>57226785.00000</td>\n",
       "    </tr>\n",
       "    <tr>\n",
       "      <th>1</th>\n",
       "      <td>1028.00000</td>\n",
       "      <td>9315863.26362</td>\n",
       "      <td>61704466.04672</td>\n",
       "      <td>12020.00000</td>\n",
       "      <td>12021.00000</td>\n",
       "      <td>32021.00000</td>\n",
       "      <td>112021.00000</td>\n",
       "      <td>720202020.00000</td>\n",
       "      <td>1028.00000</td>\n",
       "      <td>256836.85117</td>\n",
       "      <td>...</td>\n",
       "      <td>52121.00000</td>\n",
       "      <td>97400.00000</td>\n",
       "      <td>1028.00000</td>\n",
       "      <td>5062.35946</td>\n",
       "      <td>4962.78469</td>\n",
       "      <td>0.00000</td>\n",
       "      <td>1111.81500</td>\n",
       "      <td>3140.00000</td>\n",
       "      <td>7759.99750</td>\n",
       "      <td>31000.00000</td>\n",
       "    </tr>\n",
       "    <tr>\n",
       "      <th>Inexigibilidade de Licitação</th>\n",
       "      <th>1</th>\n",
       "      <td>635.00000</td>\n",
       "      <td>10111973.60157</td>\n",
       "      <td>71123646.98234</td>\n",
       "      <td>12020.00000</td>\n",
       "      <td>12021.00000</td>\n",
       "      <td>32021.00000</td>\n",
       "      <td>102021.00000</td>\n",
       "      <td>607022020.00000</td>\n",
       "      <td>635.00000</td>\n",
       "      <td>272898.08661</td>\n",
       "      <td>...</td>\n",
       "      <td>52121.00000</td>\n",
       "      <td>97400.00000</td>\n",
       "      <td>635.00000</td>\n",
       "      <td>1364805.37022</td>\n",
       "      <td>14203743.23438</td>\n",
       "      <td>0.01000</td>\n",
       "      <td>4650.00000</td>\n",
       "      <td>25618.20000</td>\n",
       "      <td>150000.00000</td>\n",
       "      <td>341871720.35000</td>\n",
       "    </tr>\n",
       "    <tr>\n",
       "      <th>Pregão</th>\n",
       "      <th>1</th>\n",
       "      <td>892.00000</td>\n",
       "      <td>7108993.18610</td>\n",
       "      <td>44026394.76002</td>\n",
       "      <td>12020.00000</td>\n",
       "      <td>132020.00000</td>\n",
       "      <td>377020.00000</td>\n",
       "      <td>1152020.00000</td>\n",
       "      <td>731372020.00000</td>\n",
       "      <td>892.00000</td>\n",
       "      <td>602142.85987</td>\n",
       "      <td>...</td>\n",
       "      <td>94420.00000</td>\n",
       "      <td>97400.00000</td>\n",
       "      <td>892.00000</td>\n",
       "      <td>1556603.38102</td>\n",
       "      <td>6379831.69188</td>\n",
       "      <td>0.00000</td>\n",
       "      <td>19447.50000</td>\n",
       "      <td>128650.00000</td>\n",
       "      <td>669422.59750</td>\n",
       "      <td>117008222.12000</td>\n",
       "    </tr>\n",
       "    <tr>\n",
       "      <th rowspan=\"2\" valign=\"top\">Pregão - Registro de Preço</th>\n",
       "      <th>0</th>\n",
       "      <td>1067.00000</td>\n",
       "      <td>11377193.42455</td>\n",
       "      <td>88938115.42762</td>\n",
       "      <td>12020.00000</td>\n",
       "      <td>152020.00000</td>\n",
       "      <td>452020.00000</td>\n",
       "      <td>1107020.00000</td>\n",
       "      <td>990822020.00000</td>\n",
       "      <td>1067.00000</td>\n",
       "      <td>441117.72259</td>\n",
       "      <td>...</td>\n",
       "      <td>93420.00000</td>\n",
       "      <td>97400.00000</td>\n",
       "      <td>1067.00000</td>\n",
       "      <td>78959.93692</td>\n",
       "      <td>202229.98699</td>\n",
       "      <td>0.00000</td>\n",
       "      <td>0.00000</td>\n",
       "      <td>5561.60000</td>\n",
       "      <td>45616.50000</td>\n",
       "      <td>1353600.00000</td>\n",
       "    </tr>\n",
       "    <tr>\n",
       "      <th>1</th>\n",
       "      <td>48.00000</td>\n",
       "      <td>5976186.68750</td>\n",
       "      <td>34713383.32541</td>\n",
       "      <td>12021.00000</td>\n",
       "      <td>197020.00000</td>\n",
       "      <td>447020.00000</td>\n",
       "      <td>899520.00000</td>\n",
       "      <td>241142020.00000</td>\n",
       "      <td>48.00000</td>\n",
       "      <td>503241.06250</td>\n",
       "      <td>...</td>\n",
       "      <td>94120.00000</td>\n",
       "      <td>97400.00000</td>\n",
       "      <td>48.00000</td>\n",
       "      <td>8374392.88604</td>\n",
       "      <td>17172627.04861</td>\n",
       "      <td>1447000.00000</td>\n",
       "      <td>2100000.00000</td>\n",
       "      <td>3775325.36000</td>\n",
       "      <td>7496748.95000</td>\n",
       "      <td>117538143.00000</td>\n",
       "    </tr>\n",
       "  </tbody>\n",
       "</table>\n",
       "<p>6 rows × 48 columns</p>\n",
       "</div>"
      ],
      "text/plain": [
       "                                 Número Licitação                 \\\n",
       "                                            count           mean   \n",
       "Modalidade Compra            TAG                                   \n",
       "Dispensa de Licitação        0          344.00000  4737108.05233   \n",
       "                             1         1028.00000  9315863.26362   \n",
       "Inexigibilidade de Licitação 1          635.00000 10111973.60157   \n",
       "Pregão                       1          892.00000  7108993.18610   \n",
       "Pregão - Registro de Preço   0         1067.00000 11377193.42455   \n",
       "                             1           48.00000  5976186.68750   \n",
       "\n",
       "                                                                          \\\n",
       "                                            std         min          25%   \n",
       "Modalidade Compra            TAG                                           \n",
       "Dispensa de Licitação        0   37540464.43655 12021.00000  12021.00000   \n",
       "                             1   61704466.04672 12020.00000  12021.00000   \n",
       "Inexigibilidade de Licitação 1   71123646.98234 12020.00000  12021.00000   \n",
       "Pregão                       1   44026394.76002 12020.00000 132020.00000   \n",
       "Pregão - Registro de Preço   0   88938115.42762 12020.00000 152020.00000   \n",
       "                             1   34713383.32541 12021.00000 197020.00000   \n",
       "\n",
       "                                                                             \\\n",
       "                                          50%           75%             max   \n",
       "Modalidade Compra            TAG                                              \n",
       "Dispensa de Licitação        0    42021.00000  164521.00000 600012021.00000   \n",
       "                             1    32021.00000  112021.00000 720202020.00000   \n",
       "Inexigibilidade de Licitação 1    32021.00000  102021.00000 607022020.00000   \n",
       "Pregão                       1   377020.00000 1152020.00000 731372020.00000   \n",
       "Pregão - Registro de Preço   0   452020.00000 1107020.00000 990822020.00000   \n",
       "                             1   447020.00000  899520.00000 241142020.00000   \n",
       "\n",
       "                                  Código UG               ... Código Órgão  \\\n",
       "                                      count         mean  ...          75%   \n",
       "Modalidade Compra            TAG                          ...                \n",
       "Dispensa de Licitação        0    344.00000 209859.68314  ...  32314.00000   \n",
       "                             1   1028.00000 256836.85117  ...  52121.00000   \n",
       "Inexigibilidade de Licitação 1    635.00000 272898.08661  ...  52121.00000   \n",
       "Pregão                       1    892.00000 602142.85987  ...  94420.00000   \n",
       "Pregão - Registro de Preço   0   1067.00000 441117.72259  ...  93420.00000   \n",
       "                             1     48.00000 503241.06250  ...  94120.00000   \n",
       "\n",
       "                                                  total                \\\n",
       "                                         max      count          mean   \n",
       "Modalidade Compra            TAG                                        \n",
       "Dispensa de Licitação        0   95320.00000  344.00000 1020381.12881   \n",
       "                             1   97400.00000 1028.00000    5062.35946   \n",
       "Inexigibilidade de Licitação 1   97400.00000  635.00000 1364805.37022   \n",
       "Pregão                       1   97400.00000  892.00000 1556603.38102   \n",
       "Pregão - Registro de Preço   0   97400.00000 1067.00000   78959.93692   \n",
       "                             1   97400.00000   48.00000 8374392.88604   \n",
       "\n",
       "                                                                             \\\n",
       "                                            std           min           25%   \n",
       "Modalidade Compra            TAG                                              \n",
       "Dispensa de Licitação        0    4756192.02706   17900.00000   35750.00000   \n",
       "                             1       4962.78469       0.00000    1111.81500   \n",
       "Inexigibilidade de Licitação 1   14203743.23438       0.01000    4650.00000   \n",
       "Pregão                       1    6379831.69188       0.00000   19447.50000   \n",
       "Pregão - Registro de Preço   0     202229.98699       0.00000       0.00000   \n",
       "                             1   17172627.04861 1447000.00000 2100000.00000   \n",
       "\n",
       "                                                                              \n",
       "                                           50%           75%             max  \n",
       "Modalidade Compra            TAG                                              \n",
       "Dispensa de Licitação        0     95963.44500  405966.92000  57226785.00000  \n",
       "                             1      3140.00000    7759.99750     31000.00000  \n",
       "Inexigibilidade de Licitação 1     25618.20000  150000.00000 341871720.35000  \n",
       "Pregão                       1    128650.00000  669422.59750 117008222.12000  \n",
       "Pregão - Registro de Preço   0      5561.60000   45616.50000   1353600.00000  \n",
       "                             1   3775325.36000 7496748.95000 117538143.00000  \n",
       "\n",
       "[6 rows x 48 columns]"
      ]
     },
     "execution_count": 59,
     "metadata": {},
     "output_type": "execute_result"
    }
   ],
   "source": [
    "lic2.groupby(['Modalidade Compra','TAG']).describe()"
   ]
  },
  {
   "cell_type": "code",
   "execution_count": null,
   "id": "1d5180c8",
   "metadata": {},
   "outputs": [],
   "source": []
  }
 ],
 "metadata": {
  "kernelspec": {
   "display_name": "Python 3 (ipykernel)",
   "language": "python",
   "name": "python3"
  },
  "language_info": {
   "codemirror_mode": {
    "name": "ipython",
    "version": 3
   },
   "file_extension": ".py",
   "mimetype": "text/x-python",
   "name": "python",
   "nbconvert_exporter": "python",
   "pygments_lexer": "ipython3",
   "version": "3.9.7"
  }
 },
 "nbformat": 4,
 "nbformat_minor": 5
}
