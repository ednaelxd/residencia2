{
 "cells": [
  {
   "cell_type": "code",
   "execution_count": 1,
   "id": "a45fdbdf",
   "metadata": {},
   "outputs": [],
   "source": [
    "import pandas as pd\n",
    "import numpy as np \n",
    "import glob"
   ]
  },
  {
   "cell_type": "markdown",
   "id": "6c293ef9",
   "metadata": {},
   "source": [
    "## Definindo Funções "
   ]
  },
  {
   "cell_type": "code",
   "execution_count": 2,
   "id": "7d8ef887",
   "metadata": {},
   "outputs": [],
   "source": [
    "def concatenador(path):\n",
    "    path = path\n",
    "    filenames = glob.glob(path + \"/*.csv\")\n",
    "\n",
    "    li= []\n",
    "\n",
    "    for filename in filenames:\n",
    "        df = pd.read_csv(filename, index_col=None, header=0, encoding='latin-1',sep=';',decimal=',')\n",
    "        li.append(df)\n",
    "\n",
    "    df2 = pd.concat(li, axis=0, ignore_index=True)\n",
    "    \n",
    "    return (df2)"
   ]
  },
  {
   "cell_type": "markdown",
   "id": "e7dbb2a0",
   "metadata": {},
   "source": [
    "### Concatenando os datasets dos participantes e ajustando as features"
   ]
  },
  {
   "cell_type": "code",
   "execution_count": 3,
   "id": "4cc8dff0",
   "metadata": {},
   "outputs": [],
   "source": [
    "path = r'C:\\Users\\gabri\\Desktop\\Data\\Participantes'"
   ]
  },
  {
   "cell_type": "code",
   "execution_count": 4,
   "id": "ed31c3e6",
   "metadata": {
    "scrolled": true
   },
   "outputs": [
    {
     "name": "stderr",
     "output_type": "stream",
     "text": [
      "C:\\Users\\gabri\\anaconda3\\lib\\site-packages\\IPython\\core\\interactiveshell.py:3357: DtypeWarning: Columns (10) have mixed types.Specify dtype option on import or set low_memory=False.\n",
      "  if (await self.run_code(code, result,  async_=asy)):\n"
     ]
    }
   ],
   "source": [
    "df = concatenador(path)"
   ]
  },
  {
   "cell_type": "code",
   "execution_count": 5,
   "id": "492541b4",
   "metadata": {},
   "outputs": [],
   "source": [
    "#df.to_csv('dados_participantes.csv')"
   ]
  },
  {
   "cell_type": "code",
   "execution_count": 5,
   "id": "16e11ae2",
   "metadata": {},
   "outputs": [],
   "source": [
    "df.drop(columns=['Nome UG', 'Modalidade Compra','Nome Órgão','Código Item Compra','Código UG', 'Código Modalidade Compra', 'Código Órgão'], axis=1, inplace=True)"
   ]
  },
  {
   "cell_type": "code",
   "execution_count": 6,
   "id": "eb54a501",
   "metadata": {
    "scrolled": true
   },
   "outputs": [
    {
     "data": {
      "text/html": [
       "<div>\n",
       "<style scoped>\n",
       "    .dataframe tbody tr th:only-of-type {\n",
       "        vertical-align: middle;\n",
       "    }\n",
       "\n",
       "    .dataframe tbody tr th {\n",
       "        vertical-align: top;\n",
       "    }\n",
       "\n",
       "    .dataframe thead th {\n",
       "        text-align: right;\n",
       "    }\n",
       "</style>\n",
       "<table border=\"1\" class=\"dataframe\">\n",
       "  <thead>\n",
       "    <tr style=\"text-align: right;\">\n",
       "      <th></th>\n",
       "      <th>Número Licitação</th>\n",
       "      <th>Número Processo</th>\n",
       "      <th>Descrição Item Compra</th>\n",
       "      <th>CNPJ Participante</th>\n",
       "      <th>Nome Participante</th>\n",
       "      <th>Flag Vencedor</th>\n",
       "    </tr>\n",
       "  </thead>\n",
       "  <tbody>\n",
       "    <tr>\n",
       "      <th>0</th>\n",
       "      <td>12016</td>\n",
       "      <td>63000003136201667</td>\n",
       "      <td>EMBALAGEM / ETIQUETAGEM / POSTAGEM - ENCOMENDA</td>\n",
       "      <td>34028316000707</td>\n",
       "      <td>EMPRESA BRASILEIRA DE CORREIOS E TELEGRAFOS</td>\n",
       "      <td>SIM</td>\n",
       "    </tr>\n",
       "    <tr>\n",
       "      <th>1</th>\n",
       "      <td>12017</td>\n",
       "      <td>12017</td>\n",
       "      <td>SERVICOS DE GERENCIAMENTO DE SISTEMAS COMPUTAC...</td>\n",
       "      <td>18114016000190</td>\n",
       "      <td>REAL DIGITAL SERVICOS E SOLUCOES EM TECNOLOGIA...</td>\n",
       "      <td>NÃO</td>\n",
       "    </tr>\n",
       "    <tr>\n",
       "      <th>2</th>\n",
       "      <td>12017</td>\n",
       "      <td>12017</td>\n",
       "      <td>SERVICOS DE GERENCIAMENTO DE SISTEMAS COMPUTAC...</td>\n",
       "      <td>21046631000111</td>\n",
       "      <td>BYTE SERVICOS DE INFORMATICA LTDA</td>\n",
       "      <td>NÃO</td>\n",
       "    </tr>\n",
       "    <tr>\n",
       "      <th>3</th>\n",
       "      <td>12017</td>\n",
       "      <td>12017</td>\n",
       "      <td>SERVICOS DE GERENCIAMENTO DE SISTEMAS COMPUTAC...</td>\n",
       "      <td>23706503000182</td>\n",
       "      <td>BRC SOLUCOES EM GESTAO E TECNOLOGIA DA INFORMA...</td>\n",
       "      <td>NÃO</td>\n",
       "    </tr>\n",
       "    <tr>\n",
       "      <th>4</th>\n",
       "      <td>12017</td>\n",
       "      <td>12017</td>\n",
       "      <td>SERVICOS DE GERENCIAMENTO DE SISTEMAS COMPUTAC...</td>\n",
       "      <td>37994043000140</td>\n",
       "      <td>IMPLANTA INFORMATICA LTDA</td>\n",
       "      <td>SIM</td>\n",
       "    </tr>\n",
       "  </tbody>\n",
       "</table>\n",
       "</div>"
      ],
      "text/plain": [
       "   Número Licitação    Número Processo  \\\n",
       "0             12016  63000003136201667   \n",
       "1             12017              12017   \n",
       "2             12017              12017   \n",
       "3             12017              12017   \n",
       "4             12017              12017   \n",
       "\n",
       "                               Descrição Item Compra CNPJ Participante  \\\n",
       "0     EMBALAGEM / ETIQUETAGEM / POSTAGEM - ENCOMENDA    34028316000707   \n",
       "1  SERVICOS DE GERENCIAMENTO DE SISTEMAS COMPUTAC...    18114016000190   \n",
       "2  SERVICOS DE GERENCIAMENTO DE SISTEMAS COMPUTAC...    21046631000111   \n",
       "3  SERVICOS DE GERENCIAMENTO DE SISTEMAS COMPUTAC...    23706503000182   \n",
       "4  SERVICOS DE GERENCIAMENTO DE SISTEMAS COMPUTAC...    37994043000140   \n",
       "\n",
       "                                   Nome Participante Flag Vencedor  \n",
       "0        EMPRESA BRASILEIRA DE CORREIOS E TELEGRAFOS           SIM  \n",
       "1  REAL DIGITAL SERVICOS E SOLUCOES EM TECNOLOGIA...           NÃO  \n",
       "2                  BYTE SERVICOS DE INFORMATICA LTDA           NÃO  \n",
       "3  BRC SOLUCOES EM GESTAO E TECNOLOGIA DA INFORMA...           NÃO  \n",
       "4                          IMPLANTA INFORMATICA LTDA           SIM  "
      ]
     },
     "execution_count": 6,
     "metadata": {},
     "output_type": "execute_result"
    }
   ],
   "source": [
    "df.head()"
   ]
  },
  {
   "cell_type": "markdown",
   "id": "206877b0",
   "metadata": {},
   "source": [
    "#### Número de Participações em processos licitatórios"
   ]
  },
  {
   "cell_type": "code",
   "execution_count": 19,
   "id": "a462353f",
   "metadata": {},
   "outputs": [
    {
     "data": {
      "text/plain": [
       "22402368"
      ]
     },
     "execution_count": 19,
     "metadata": {},
     "output_type": "execute_result"
    }
   ],
   "source": [
    "len(df)"
   ]
  },
  {
   "cell_type": "markdown",
   "id": "c638b254",
   "metadata": {},
   "source": [
    "#### Número de Licitações"
   ]
  },
  {
   "cell_type": "code",
   "execution_count": 35,
   "id": "1286aa86",
   "metadata": {},
   "outputs": [
    {
     "data": {
      "text/plain": [
       "25410"
      ]
     },
     "execution_count": 35,
     "metadata": {},
     "output_type": "execute_result"
    }
   ],
   "source": [
    "len(df['Número Licitação'].unique())"
   ]
  },
  {
   "cell_type": "markdown",
   "id": "c52b7483",
   "metadata": {},
   "source": [
    "### Lendo os Dados Taguiados e ajustando as features."
   ]
  },
  {
   "cell_type": "code",
   "execution_count": 10,
   "id": "defd46f6",
   "metadata": {},
   "outputs": [],
   "source": [
    "df_tag = pd.read_csv(r'C:\\Users\\gabri\\residencia2\\data\\dados_taguiados.csv')"
   ]
  },
  {
   "cell_type": "code",
   "execution_count": 11,
   "id": "0d00502f",
   "metadata": {
    "scrolled": true
   },
   "outputs": [],
   "source": [
    "df_tag.drop(columns=['Unnamed: 0','Nome UG','Modalidade Compra','Objeto','Situação Licitação','Código Órgão Superior','Nome Órgão Superior','Código Órgão','Município','data','Data Abertura','Total','Tipo','Código Modalidade Compra','Código UG'], axis=1, inplace=True)"
   ]
  },
  {
   "cell_type": "code",
   "execution_count": 12,
   "id": "063854ae",
   "metadata": {
    "scrolled": true
   },
   "outputs": [
    {
     "data": {
      "text/html": [
       "<div>\n",
       "<style scoped>\n",
       "    .dataframe tbody tr th:only-of-type {\n",
       "        vertical-align: middle;\n",
       "    }\n",
       "\n",
       "    .dataframe tbody tr th {\n",
       "        vertical-align: top;\n",
       "    }\n",
       "\n",
       "    .dataframe thead th {\n",
       "        text-align: right;\n",
       "    }\n",
       "</style>\n",
       "<table border=\"1\" class=\"dataframe\">\n",
       "  <thead>\n",
       "    <tr style=\"text-align: right;\">\n",
       "      <th></th>\n",
       "      <th>Número Licitação</th>\n",
       "      <th>Número Processo</th>\n",
       "      <th>Nome Órgão</th>\n",
       "      <th>Tag</th>\n",
       "    </tr>\n",
       "  </thead>\n",
       "  <tbody>\n",
       "    <tr>\n",
       "      <th>0</th>\n",
       "      <td>12018</td>\n",
       "      <td>67290015424201435</td>\n",
       "      <td>Comando da Aeronáutica</td>\n",
       "      <td>0</td>\n",
       "    </tr>\n",
       "    <tr>\n",
       "      <th>1</th>\n",
       "      <td>12018</td>\n",
       "      <td>23062002056/18-26</td>\n",
       "      <td>Centro Federal de Educação Tecnológica de Min</td>\n",
       "      <td>0</td>\n",
       "    </tr>\n",
       "    <tr>\n",
       "      <th>2</th>\n",
       "      <td>12018</td>\n",
       "      <td>23086000649201861</td>\n",
       "      <td>Universidade Federal dos Vales do Jequitinhon</td>\n",
       "      <td>0</td>\n",
       "    </tr>\n",
       "    <tr>\n",
       "      <th>3</th>\n",
       "      <td>12018</td>\n",
       "      <td>65328001557201858</td>\n",
       "      <td>Comando do Exército</td>\n",
       "      <td>0</td>\n",
       "    </tr>\n",
       "    <tr>\n",
       "      <th>4</th>\n",
       "      <td>12018</td>\n",
       "      <td>08672001011/2017-</td>\n",
       "      <td>Departamento de Polícia Rodoviária Federal</td>\n",
       "      <td>0</td>\n",
       "    </tr>\n",
       "  </tbody>\n",
       "</table>\n",
       "</div>"
      ],
      "text/plain": [
       "   Número Licitação    Número Processo  \\\n",
       "0             12018  67290015424201435   \n",
       "1             12018  23062002056/18-26   \n",
       "2             12018  23086000649201861   \n",
       "3             12018  65328001557201858   \n",
       "4             12018  08672001011/2017-   \n",
       "\n",
       "                                      Nome Órgão  Tag  \n",
       "0                         Comando da Aeronáutica    0  \n",
       "1  Centro Federal de Educação Tecnológica de Min    0  \n",
       "2  Universidade Federal dos Vales do Jequitinhon    0  \n",
       "3                            Comando do Exército    0  \n",
       "4     Departamento de Polícia Rodoviária Federal    0  "
      ]
     },
     "execution_count": 12,
     "metadata": {},
     "output_type": "execute_result"
    }
   ],
   "source": [
    "df_tag.head()"
   ]
  },
  {
   "cell_type": "markdown",
   "id": "37546aee",
   "metadata": {},
   "source": [
    "#### Número de Licitações"
   ]
  },
  {
   "cell_type": "code",
   "execution_count": 36,
   "id": "5a038ee4",
   "metadata": {},
   "outputs": [
    {
     "data": {
      "text/plain": [
       "25491"
      ]
     },
     "execution_count": 36,
     "metadata": {},
     "output_type": "execute_result"
    }
   ],
   "source": [
    "len(df_tag['Número Licitação'].unique())"
   ]
  },
  {
   "cell_type": "markdown",
   "id": "389a85b7",
   "metadata": {},
   "source": [
    "Apresenta algumas licitações a mais que o dataframe de Participantes disponibilizado no Portal da transparencia"
   ]
  },
  {
   "cell_type": "markdown",
   "id": "bd8c84d5",
   "metadata": {},
   "source": [
    "#### Número de processos licitatórios fraudulentos "
   ]
  },
  {
   "cell_type": "code",
   "execution_count": 34,
   "id": "0ca142e5",
   "metadata": {
    "scrolled": true
   },
   "outputs": [
    {
     "data": {
      "text/plain": [
       "87958"
      ]
     },
     "execution_count": 34,
     "metadata": {},
     "output_type": "execute_result"
    }
   ],
   "source": [
    "len(df_tag[df_tag[\"Tag\"]==0][\"Número Processo\"].unique())"
   ]
  },
  {
   "cell_type": "markdown",
   "id": "3a7a6840",
   "metadata": {},
   "source": [
    "#### Número de Licirações fraudulentas"
   ]
  },
  {
   "cell_type": "code",
   "execution_count": 33,
   "id": "aa4c6038",
   "metadata": {},
   "outputs": [
    {
     "data": {
      "text/plain": [
       "5835"
      ]
     },
     "execution_count": 33,
     "metadata": {},
     "output_type": "execute_result"
    }
   ],
   "source": [
    "len(df_tag[df_tag[\"Tag\"]==0][\"Número Licitação\"].unique())"
   ]
  },
  {
   "cell_type": "markdown",
   "id": "69b6a80d",
   "metadata": {},
   "source": [
    "### Aplicando o Merge para os dois dataframes"
   ]
  },
  {
   "cell_type": "code",
   "execution_count": 15,
   "id": "cfb238b6",
   "metadata": {},
   "outputs": [],
   "source": [
    "m = pd.merge(df_tag, df, how = 'inner', on = ('Número Processo','Número Licitação')) "
   ]
  },
  {
   "cell_type": "code",
   "execution_count": 16,
   "id": "3b1a284b",
   "metadata": {},
   "outputs": [
    {
     "data": {
      "text/html": [
       "<div>\n",
       "<style scoped>\n",
       "    .dataframe tbody tr th:only-of-type {\n",
       "        vertical-align: middle;\n",
       "    }\n",
       "\n",
       "    .dataframe tbody tr th {\n",
       "        vertical-align: top;\n",
       "    }\n",
       "\n",
       "    .dataframe thead th {\n",
       "        text-align: right;\n",
       "    }\n",
       "</style>\n",
       "<table border=\"1\" class=\"dataframe\">\n",
       "  <thead>\n",
       "    <tr style=\"text-align: right;\">\n",
       "      <th></th>\n",
       "      <th>Número Licitação</th>\n",
       "      <th>Número Processo</th>\n",
       "      <th>Nome Órgão</th>\n",
       "      <th>Tag</th>\n",
       "      <th>Descrição Item Compra</th>\n",
       "      <th>CNPJ Participante</th>\n",
       "      <th>Nome Participante</th>\n",
       "      <th>Flag Vencedor</th>\n",
       "    </tr>\n",
       "  </thead>\n",
       "  <tbody>\n",
       "    <tr>\n",
       "      <th>0</th>\n",
       "      <td>12018</td>\n",
       "      <td>67290015424201435</td>\n",
       "      <td>Comando da Aeronáutica</td>\n",
       "      <td>0</td>\n",
       "      <td>INSTALACAO / MANUTENCAO - ELEVADORES, ESCADAS ...</td>\n",
       "      <td>17166231000172</td>\n",
       "      <td>PORTO SERVICO DE MANUTENCAO EM ELEVADORES LTDA</td>\n",
       "      <td>SIM</td>\n",
       "    </tr>\n",
       "    <tr>\n",
       "      <th>1</th>\n",
       "      <td>12018</td>\n",
       "      <td>23062002056/18-26</td>\n",
       "      <td>Centro Federal de Educação Tecnológica de Min</td>\n",
       "      <td>0</td>\n",
       "      <td>OBRAS CIVIS DE EDIFICACOES PREDIAIS</td>\n",
       "      <td>02965236000198</td>\n",
       "      <td>CONSTRUTORA J M GOMES LTDA</td>\n",
       "      <td>SIM</td>\n",
       "    </tr>\n",
       "    <tr>\n",
       "      <th>2</th>\n",
       "      <td>12018</td>\n",
       "      <td>23086000649201861</td>\n",
       "      <td>Universidade Federal dos Vales do Jequitinhon</td>\n",
       "      <td>0</td>\n",
       "      <td>MANUTENCAO / INSTALACOES PREDIAIS ELETRONICAS</td>\n",
       "      <td>05202938000108</td>\n",
       "      <td>HC COMUNICACAO DE DADOS LTDA</td>\n",
       "      <td>NÃO</td>\n",
       "    </tr>\n",
       "    <tr>\n",
       "      <th>3</th>\n",
       "      <td>12018</td>\n",
       "      <td>23086000649201861</td>\n",
       "      <td>Universidade Federal dos Vales do Jequitinhon</td>\n",
       "      <td>0</td>\n",
       "      <td>MANUTENCAO / INSTALACOES PREDIAIS ELETRONICAS</td>\n",
       "      <td>04503070000113</td>\n",
       "      <td>DINIZ TECNOLOGIA E SOLUCOES EIRELI</td>\n",
       "      <td>NÃO</td>\n",
       "    </tr>\n",
       "    <tr>\n",
       "      <th>4</th>\n",
       "      <td>12018</td>\n",
       "      <td>23086000649201861</td>\n",
       "      <td>Universidade Federal dos Vales do Jequitinhon</td>\n",
       "      <td>0</td>\n",
       "      <td>MANUTENCAO / INSTALACOES PREDIAIS ELETRONICAS</td>\n",
       "      <td>00960027000126</td>\n",
       "      <td>BLINK TECNOLOGIA SOB MEDIDA LTDA</td>\n",
       "      <td>NÃO</td>\n",
       "    </tr>\n",
       "  </tbody>\n",
       "</table>\n",
       "</div>"
      ],
      "text/plain": [
       "   Número Licitação    Número Processo  \\\n",
       "0             12018  67290015424201435   \n",
       "1             12018  23062002056/18-26   \n",
       "2             12018  23086000649201861   \n",
       "3             12018  23086000649201861   \n",
       "4             12018  23086000649201861   \n",
       "\n",
       "                                      Nome Órgão  Tag  \\\n",
       "0                         Comando da Aeronáutica    0   \n",
       "1  Centro Federal de Educação Tecnológica de Min    0   \n",
       "2  Universidade Federal dos Vales do Jequitinhon    0   \n",
       "3  Universidade Federal dos Vales do Jequitinhon    0   \n",
       "4  Universidade Federal dos Vales do Jequitinhon    0   \n",
       "\n",
       "                               Descrição Item Compra CNPJ Participante  \\\n",
       "0  INSTALACAO / MANUTENCAO - ELEVADORES, ESCADAS ...    17166231000172   \n",
       "1                OBRAS CIVIS DE EDIFICACOES PREDIAIS    02965236000198   \n",
       "2      MANUTENCAO / INSTALACOES PREDIAIS ELETRONICAS    05202938000108   \n",
       "3      MANUTENCAO / INSTALACOES PREDIAIS ELETRONICAS    04503070000113   \n",
       "4      MANUTENCAO / INSTALACOES PREDIAIS ELETRONICAS    00960027000126   \n",
       "\n",
       "                                Nome Participante Flag Vencedor  \n",
       "0  PORTO SERVICO DE MANUTENCAO EM ELEVADORES LTDA           SIM  \n",
       "1                      CONSTRUTORA J M GOMES LTDA           SIM  \n",
       "2                    HC COMUNICACAO DE DADOS LTDA           NÃO  \n",
       "3              DINIZ TECNOLOGIA E SOLUCOES EIRELI           NÃO  \n",
       "4                BLINK TECNOLOGIA SOB MEDIDA LTDA           NÃO  "
      ]
     },
     "execution_count": 16,
     "metadata": {},
     "output_type": "execute_result"
    }
   ],
   "source": [
    "m.head()"
   ]
  },
  {
   "cell_type": "code",
   "execution_count": 17,
   "id": "fb1e1e0e",
   "metadata": {},
   "outputs": [
    {
     "data": {
      "text/plain": [
       "24381665"
      ]
     },
     "execution_count": 17,
     "metadata": {},
     "output_type": "execute_result"
    }
   ],
   "source": [
    "len(m)"
   ]
  },
  {
   "cell_type": "markdown",
   "id": "a627689a",
   "metadata": {},
   "source": [
    "#### Retirando dados Nulos"
   ]
  },
  {
   "cell_type": "code",
   "execution_count": 20,
   "id": "1ee5ebbb",
   "metadata": {},
   "outputs": [],
   "source": [
    "m = m.dropna()"
   ]
  },
  {
   "cell_type": "code",
   "execution_count": 21,
   "id": "9c553209",
   "metadata": {},
   "outputs": [
    {
     "data": {
      "text/plain": [
       "24381614"
      ]
     },
     "execution_count": 21,
     "metadata": {},
     "output_type": "execute_result"
    }
   ],
   "source": [
    "len(m)"
   ]
  },
  {
   "cell_type": "markdown",
   "id": "88418bf8",
   "metadata": {},
   "source": [
    "### Criando um dataframe apenas com as licitações fraudulentas."
   ]
  },
  {
   "cell_type": "code",
   "execution_count": 22,
   "id": "138d34af",
   "metadata": {},
   "outputs": [],
   "source": [
    "df_0 = m[m[\"Tag\"]==0] "
   ]
  },
  {
   "cell_type": "code",
   "execution_count": 23,
   "id": "8dca260d",
   "metadata": {},
   "outputs": [
    {
     "data": {
      "text/html": [
       "<div>\n",
       "<style scoped>\n",
       "    .dataframe tbody tr th:only-of-type {\n",
       "        vertical-align: middle;\n",
       "    }\n",
       "\n",
       "    .dataframe tbody tr th {\n",
       "        vertical-align: top;\n",
       "    }\n",
       "\n",
       "    .dataframe thead th {\n",
       "        text-align: right;\n",
       "    }\n",
       "</style>\n",
       "<table border=\"1\" class=\"dataframe\">\n",
       "  <thead>\n",
       "    <tr style=\"text-align: right;\">\n",
       "      <th></th>\n",
       "      <th>Número Licitação</th>\n",
       "      <th>Número Processo</th>\n",
       "      <th>Nome Órgão</th>\n",
       "      <th>Tag</th>\n",
       "      <th>Descrição Item Compra</th>\n",
       "      <th>CNPJ Participante</th>\n",
       "      <th>Nome Participante</th>\n",
       "      <th>Flag Vencedor</th>\n",
       "    </tr>\n",
       "  </thead>\n",
       "  <tbody>\n",
       "    <tr>\n",
       "      <th>0</th>\n",
       "      <td>12018</td>\n",
       "      <td>67290015424201435</td>\n",
       "      <td>Comando da Aeronáutica</td>\n",
       "      <td>0</td>\n",
       "      <td>INSTALACAO / MANUTENCAO - ELEVADORES, ESCADAS ...</td>\n",
       "      <td>17166231000172</td>\n",
       "      <td>PORTO SERVICO DE MANUTENCAO EM ELEVADORES LTDA</td>\n",
       "      <td>SIM</td>\n",
       "    </tr>\n",
       "    <tr>\n",
       "      <th>1</th>\n",
       "      <td>12018</td>\n",
       "      <td>23062002056/18-26</td>\n",
       "      <td>Centro Federal de Educação Tecnológica de Min</td>\n",
       "      <td>0</td>\n",
       "      <td>OBRAS CIVIS DE EDIFICACOES PREDIAIS</td>\n",
       "      <td>02965236000198</td>\n",
       "      <td>CONSTRUTORA J M GOMES LTDA</td>\n",
       "      <td>SIM</td>\n",
       "    </tr>\n",
       "    <tr>\n",
       "      <th>2</th>\n",
       "      <td>12018</td>\n",
       "      <td>23086000649201861</td>\n",
       "      <td>Universidade Federal dos Vales do Jequitinhon</td>\n",
       "      <td>0</td>\n",
       "      <td>MANUTENCAO / INSTALACOES PREDIAIS ELETRONICAS</td>\n",
       "      <td>05202938000108</td>\n",
       "      <td>HC COMUNICACAO DE DADOS LTDA</td>\n",
       "      <td>NÃO</td>\n",
       "    </tr>\n",
       "    <tr>\n",
       "      <th>3</th>\n",
       "      <td>12018</td>\n",
       "      <td>23086000649201861</td>\n",
       "      <td>Universidade Federal dos Vales do Jequitinhon</td>\n",
       "      <td>0</td>\n",
       "      <td>MANUTENCAO / INSTALACOES PREDIAIS ELETRONICAS</td>\n",
       "      <td>04503070000113</td>\n",
       "      <td>DINIZ TECNOLOGIA E SOLUCOES EIRELI</td>\n",
       "      <td>NÃO</td>\n",
       "    </tr>\n",
       "    <tr>\n",
       "      <th>4</th>\n",
       "      <td>12018</td>\n",
       "      <td>23086000649201861</td>\n",
       "      <td>Universidade Federal dos Vales do Jequitinhon</td>\n",
       "      <td>0</td>\n",
       "      <td>MANUTENCAO / INSTALACOES PREDIAIS ELETRONICAS</td>\n",
       "      <td>00960027000126</td>\n",
       "      <td>BLINK TECNOLOGIA SOB MEDIDA LTDA</td>\n",
       "      <td>NÃO</td>\n",
       "    </tr>\n",
       "  </tbody>\n",
       "</table>\n",
       "</div>"
      ],
      "text/plain": [
       "   Número Licitação    Número Processo  \\\n",
       "0             12018  67290015424201435   \n",
       "1             12018  23062002056/18-26   \n",
       "2             12018  23086000649201861   \n",
       "3             12018  23086000649201861   \n",
       "4             12018  23086000649201861   \n",
       "\n",
       "                                      Nome Órgão  Tag  \\\n",
       "0                         Comando da Aeronáutica    0   \n",
       "1  Centro Federal de Educação Tecnológica de Min    0   \n",
       "2  Universidade Federal dos Vales do Jequitinhon    0   \n",
       "3  Universidade Federal dos Vales do Jequitinhon    0   \n",
       "4  Universidade Federal dos Vales do Jequitinhon    0   \n",
       "\n",
       "                               Descrição Item Compra CNPJ Participante  \\\n",
       "0  INSTALACAO / MANUTENCAO - ELEVADORES, ESCADAS ...    17166231000172   \n",
       "1                OBRAS CIVIS DE EDIFICACOES PREDIAIS    02965236000198   \n",
       "2      MANUTENCAO / INSTALACOES PREDIAIS ELETRONICAS    05202938000108   \n",
       "3      MANUTENCAO / INSTALACOES PREDIAIS ELETRONICAS    04503070000113   \n",
       "4      MANUTENCAO / INSTALACOES PREDIAIS ELETRONICAS    00960027000126   \n",
       "\n",
       "                                Nome Participante Flag Vencedor  \n",
       "0  PORTO SERVICO DE MANUTENCAO EM ELEVADORES LTDA           SIM  \n",
       "1                      CONSTRUTORA J M GOMES LTDA           SIM  \n",
       "2                    HC COMUNICACAO DE DADOS LTDA           NÃO  \n",
       "3              DINIZ TECNOLOGIA E SOLUCOES EIRELI           NÃO  \n",
       "4                BLINK TECNOLOGIA SOB MEDIDA LTDA           NÃO  "
      ]
     },
     "execution_count": 23,
     "metadata": {},
     "output_type": "execute_result"
    }
   ],
   "source": [
    "df_0.head()"
   ]
  },
  {
   "cell_type": "markdown",
   "id": "d3c4e5f6",
   "metadata": {},
   "source": [
    "### Criando CSV com Tag e flag apenas das licitações fraudulentas."
   ]
  },
  {
   "cell_type": "code",
   "execution_count": 24,
   "id": "933a29e3",
   "metadata": {
    "scrolled": true
   },
   "outputs": [],
   "source": [
    "df_0.to_csv('../data/dados_tag_com_flag_Vencedor.csv')"
   ]
  },
  {
   "cell_type": "code",
   "execution_count": null,
   "id": "e6accfac",
   "metadata": {},
   "outputs": [],
   "source": [
    "#df_0 = pd.read_csv(r\"C:\\Users\\gabri\\residencia2\\data\\dados_tag_com_flag_Vencedor.csv\")"
   ]
  },
  {
   "cell_type": "markdown",
   "id": "051f57c5",
   "metadata": {},
   "source": [
    "Lendo o arquvio csv do df_0 (caso não tenha o arquivo pronto rodar celulas acima)"
   ]
  },
  {
   "cell_type": "markdown",
   "id": "7df518dd",
   "metadata": {},
   "source": [
    "### Análise exploratória dos dados de licitações fraudulentas"
   ]
  },
  {
   "cell_type": "code",
   "execution_count": 25,
   "id": "7c3e67e5",
   "metadata": {
    "scrolled": false
   },
   "outputs": [
    {
     "name": "stdout",
     "output_type": "stream",
     "text": [
      "<class 'pandas.core.frame.DataFrame'>\n",
      "Int64Index: 17165188 entries, 0 to 23993969\n",
      "Data columns (total 8 columns):\n",
      " #   Column                 Dtype \n",
      "---  ------                 ----- \n",
      " 0   Número Licitação       int64 \n",
      " 1   Número Processo        object\n",
      " 2   Nome Órgão             object\n",
      " 3   Tag                    int64 \n",
      " 4   Descrição Item Compra  object\n",
      " 5   CNPJ Participante      object\n",
      " 6   Nome Participante      object\n",
      " 7   Flag Vencedor          object\n",
      "dtypes: int64(2), object(6)\n",
      "memory usage: 1.2+ GB\n"
     ]
    }
   ],
   "source": [
    "df_0.info()"
   ]
  },
  {
   "cell_type": "markdown",
   "id": "28a8d809",
   "metadata": {},
   "source": [
    "#### Número de participações em processos fraudulentos"
   ]
  },
  {
   "cell_type": "code",
   "execution_count": 26,
   "id": "345502d9",
   "metadata": {
    "scrolled": true
   },
   "outputs": [
    {
     "data": {
      "text/plain": [
       "17165188"
      ]
     },
     "execution_count": 26,
     "metadata": {},
     "output_type": "execute_result"
    }
   ],
   "source": [
    "len(df_0)"
   ]
  },
  {
   "cell_type": "markdown",
   "id": "d61e3da2",
   "metadata": {},
   "source": [
    "#### Porcentagem de participação em processos fraudulentos"
   ]
  },
  {
   "cell_type": "code",
   "execution_count": 27,
   "id": "c9f586b6",
   "metadata": {},
   "outputs": [
    {
     "data": {
      "text/plain": [
       "76.62220350991467"
      ]
     },
     "execution_count": 27,
     "metadata": {},
     "output_type": "execute_result"
    }
   ],
   "source": [
    "(len(df_0)/len(df))*100"
   ]
  },
  {
   "cell_type": "code",
   "execution_count": 1,
   "id": "3491b00a",
   "metadata": {},
   "outputs": [
    {
     "ename": "NameError",
     "evalue": "name 'df' is not defined",
     "output_type": "error",
     "traceback": [
      "\u001b[1;31m---------------------------------------------------------------------------\u001b[0m",
      "\u001b[1;31mNameError\u001b[0m                                 Traceback (most recent call last)",
      "\u001b[1;32m<ipython-input-1-b1840981c585>\u001b[0m in \u001b[0;36m<module>\u001b[1;34m\u001b[0m\n\u001b[1;32m----> 1\u001b[1;33m \u001b[0mdf\u001b[0m\u001b[1;33m[\u001b[0m\u001b[1;34m\"Tag\"\u001b[0m\u001b[1;33m]\u001b[0m\u001b[1;33m.\u001b[0m\u001b[0mvalue_counts\u001b[0m\u001b[1;33m(\u001b[0m\u001b[1;33m)\u001b[0m\u001b[1;33m\u001b[0m\u001b[1;33m\u001b[0m\u001b[0m\n\u001b[0m",
      "\u001b[1;31mNameError\u001b[0m: name 'df' is not defined"
     ]
    }
   ],
   "source": [
    "df[\"Tag\"].value_counts()"
   ]
  },
  {
   "cell_type": "markdown",
   "id": "ad24a9db",
   "metadata": {},
   "source": [
    "Muito mais participações quando o processo é considerado fraudulento!"
   ]
  },
  {
   "cell_type": "markdown",
   "id": "e7bbd184",
   "metadata": {},
   "source": [
    "#### Número de processos fraduletos"
   ]
  },
  {
   "cell_type": "code",
   "execution_count": 32,
   "id": "3072d9ee",
   "metadata": {
    "scrolled": true
   },
   "outputs": [
    {
     "data": {
      "text/plain": [
       "85655"
      ]
     },
     "execution_count": 32,
     "metadata": {},
     "output_type": "execute_result"
    }
   ],
   "source": [
    "len(df_0[\"Número Processo\"].unique())"
   ]
  },
  {
   "cell_type": "markdown",
   "id": "61ba2ff7",
   "metadata": {},
   "source": [
    "#### Número de Licitações fraudulentas"
   ]
  },
  {
   "cell_type": "code",
   "execution_count": 31,
   "id": "b03b6597",
   "metadata": {},
   "outputs": [
    {
     "data": {
      "text/plain": [
       "5697"
      ]
     },
     "execution_count": 31,
     "metadata": {},
     "output_type": "execute_result"
    }
   ],
   "source": [
    "len(df_0[\"Número Licitação\"].unique())"
   ]
  },
  {
   "cell_type": "markdown",
   "id": "a8aae9a6",
   "metadata": {},
   "source": [
    "Observei que há uma divergencia no número de licitações e processos fraulentos quando comparado o dataframe taguiado com o dataframe do merge. Algumas licitações não estão presentes no df dos participantes. "
   ]
  },
  {
   "cell_type": "code",
   "execution_count": 37,
   "id": "95dac54f",
   "metadata": {},
   "outputs": [
    {
     "data": {
      "text/plain": [
       "NÃO    14469446\n",
       "SIM     2695742\n",
       "Name: Flag Vencedor, dtype: int64"
      ]
     },
     "execution_count": 37,
     "metadata": {},
     "output_type": "execute_result"
    }
   ],
   "source": [
    "df_0[\"Flag Vencedor\"].value_counts()"
   ]
  },
  {
   "cell_type": "markdown",
   "id": "e0668f17",
   "metadata": {},
   "source": [
    "#### Número de empresas participantes em processos fraudulentas"
   ]
  },
  {
   "cell_type": "code",
   "execution_count": 38,
   "id": "3dc3fffc",
   "metadata": {},
   "outputs": [
    {
     "data": {
      "text/plain": [
       "76365"
      ]
     },
     "execution_count": 38,
     "metadata": {},
     "output_type": "execute_result"
    }
   ],
   "source": [
    "len(df_0[\"CNPJ Participante\"].unique())"
   ]
  },
  {
   "cell_type": "markdown",
   "id": "c676c5cd",
   "metadata": {},
   "source": [
    "#### Número de empresas vencedoras de processos fraudulentas"
   ]
  },
  {
   "cell_type": "code",
   "execution_count": 39,
   "id": "666c3e28",
   "metadata": {},
   "outputs": [
    {
     "data": {
      "text/plain": [
       "49020"
      ]
     },
     "execution_count": 39,
     "metadata": {},
     "output_type": "execute_result"
    }
   ],
   "source": [
    "len(df_0[df_0[\"Flag Vencedor\"]== \"SIM\"][\"CNPJ Participante\"].unique())"
   ]
  },
  {
   "cell_type": "markdown",
   "id": "876cc2c9",
   "metadata": {},
   "source": [
    "Cada processo tem um vencedor e uma licitação pode ter mais de um processo."
   ]
  },
  {
   "cell_type": "markdown",
   "id": "fd8b6d20",
   "metadata": {},
   "source": [
    "## Verificação dos Participantes em Licitações Fraudulentas"
   ]
  },
  {
   "cell_type": "markdown",
   "id": "9ac54006",
   "metadata": {},
   "source": [
    "### Participantes com maior número de participações em licitações fraudulentas"
   ]
  },
  {
   "cell_type": "code",
   "execution_count": 40,
   "id": "fc931327",
   "metadata": {
    "scrolled": false
   },
   "outputs": [
    {
     "data": {
      "text/plain": [
       "CNPJ Participante  Nome Participante                                              \n",
       "26469541000157     SUL.COM ATACADO E VAREJO LTDA                                      78084\n",
       "-11                Sigiloso                                                           59908\n",
       "08658622000113     J. J. VITALLI                                                      57998\n",
       "26240632000116     DENTAL HIGIX PRODUTOS ODONTOLOGICOS MEDICOS HOSPITALARES EIRELI    54885\n",
       "33658130000175     FIEL COMERCIAL E SERVICOS EIRELI                                   52710\n",
       "32796968000162     ATAIAS SERVICOS E AUTO PECAS LTDA                                  47255\n",
       "24845457000165     ITACA LTDA                                                         45431\n",
       "28288798000138     J. ALFANO COMERCIAL E SERVICOS EIRELI                              44709\n",
       "20784313000195     RM COMERCIO DE MERCADORIAS E MATERIAIS LTDA                        39000\n",
       "05075962000123     MAXIM QUALITTA COMERCIO LTDA                                       36762\n",
       "27204689000122     ARIADNER DA SILVA MESSIAS                                          32868\n",
       "07245458000150     DAGEAL - COMERCIO DE MATERIAL DE ESCRITORIO LTDA                   32300\n",
       "18707234000139     CLENEX COMERCIO E SERVICOS EIRELI                                  31776\n",
       "67403154000103     A. M. MOLITERNO EIRELI                                             31292\n",
       "16553940000148     MEDMAX COMERCIO DE MEDICAMENTOS LTDA                               30418\n",
       "29928575000150     A FERRAGISTA COMERCIO DE MAQUINAS E FERRAMENTAS EIRELI             28182\n",
       "20483193000196     BRASIDAS EIRELI                                                    28173\n",
       "14756414000150     S N A - COMERCIO DE FERRAMENTAS LTDA                               28152\n",
       "62492798000193     HELIO MASASHI SAITO & CIA LTDA                                     27752\n",
       "32743169000128     CEFAS SERVICOS E CONSTRUCOES EIRELI                                26221\n",
       "dtype: int64"
      ]
     },
     "execution_count": 40,
     "metadata": {},
     "output_type": "execute_result"
    }
   ],
   "source": [
    "df_0.loc[:,[\"CNPJ Participante\" , \"Nome Participante\"]].value_counts().head(20)"
   ]
  },
  {
   "cell_type": "markdown",
   "id": "15a4d563",
   "metadata": {},
   "source": [
    "### Participantes com maior número de vitórias em licitações fraudulentas"
   ]
  },
  {
   "cell_type": "code",
   "execution_count": 42,
   "id": "b376b896",
   "metadata": {
    "scrolled": true
   },
   "outputs": [
    {
     "data": {
      "text/plain": [
       "CNPJ Participante  Nome Participante                                                                \n",
       "26469541000157     SUL.COM ATACADO E VAREJO LTDA                                                        18004\n",
       "08658622000113     J. J. VITALLI                                                                        13686\n",
       "11301724000191     QUALY COMERCIAL EIRELI                                                               11493\n",
       "44734671000151     CRISTALIA PRODUTOS QUIMICOS FARMACEUTICOS LTDA                                        9888\n",
       "-11                Sigiloso                                                                              9734\n",
       "67403154000103     A. M. MOLITERNO EIRELI                                                                9688\n",
       "30082076000174     ABSOLUTA SAUDE IMP. EXP. E COMERCIO DE PRODUTOS PARA SAUDE EIRELI                     8473\n",
       "24845457000165     ITACA LTDA                                                                            8401\n",
       "05075962000123     MAXIM QUALITTA COMERCIO LTDA                                                          8126\n",
       "28820255000110     SUPREMA DENTAL IMPORTACAO, EXPORTACAO E COMERCIO DE PRODUTOS ODONTOLOGICOS EIRELI     7542\n",
       "dtype: int64"
      ]
     },
     "execution_count": 42,
     "metadata": {},
     "output_type": "execute_result"
    }
   ],
   "source": [
    "df_0[df_0[\"Flag Vencedor\"]== 'SIM'].loc[:,[\"CNPJ Participante\" , \"Nome Participante\"]].value_counts().head(10)"
   ]
  },
  {
   "cell_type": "markdown",
   "id": "476320e1",
   "metadata": {},
   "source": [
    "### Itens com maior número de aparições em licitações fraudulentas"
   ]
  },
  {
   "cell_type": "markdown",
   "id": "815acc0d",
   "metadata": {},
   "source": [
    "Apenas foi utilizado os itens com a flag de vencedor pois se repetem para todos os participantes de uma mesma licitação."
   ]
  },
  {
   "cell_type": "code",
   "execution_count": 43,
   "id": "388a07c8",
   "metadata": {},
   "outputs": [
    {
     "data": {
      "text/plain": [
       "Descrição Item Compra                           \n",
       "MANUTENCAO / REFORMA PREDIAL                        46963\n",
       "CONEXÃO HIDRÁULICA                                  29671\n",
       "SERVICO ENGENHARIA                                  28399\n",
       "FIO DE SUTURA                                       17358\n",
       "CESTA BÁSICA - GÊNEROS ALIMENTÍCIOS                 16379\n",
       "PEÇA MECÂNICA/ELÉTRICA - VEÍCULO AUTOMOTIVO         16215\n",
       "FRUTA IN NATURA                                     16010\n",
       "LEGUME IN NATURA                                    14989\n",
       "REAGENTE PARA DIAGNÓSTICO CLÍNICO 5                 14573\n",
       "ACESSÓRIOS PARA ESTUDO/TREINAMENTO                  14437\n",
       "MANUTENCAO DE EQUIPAMENTOS DE COZINHA INDUSTRIAL    13562\n",
       "FRUTA                                               12962\n",
       "VERDURA IN NATURA*                                  12727\n",
       "LEGUME IN NATURA*                                   12181\n",
       "COMPONENTES DIVERSOS PARA VEÍCULOS                  11525\n",
       "MANUTENCAO DE VEICULOS LEVES / PESADOS              11085\n",
       "CABO ELÉTRICO FLEXÍVEL                              10883\n",
       "SUCO                                                10605\n",
       "'LIVRO'                                             10417\n",
       "PASTA ARQUIVO                                       10325\n",
       "dtype: int64"
      ]
     },
     "execution_count": 43,
     "metadata": {},
     "output_type": "execute_result"
    }
   ],
   "source": [
    "df_0[df_0[\"Flag Vencedor\"]== 'SIM'].loc[:,[\"Descrição Item Compra\"]].value_counts().head(20)"
   ]
  },
  {
   "cell_type": "markdown",
   "id": "da6f3586",
   "metadata": {},
   "source": [
    "### Orgão com maior número de processos fraudulentos"
   ]
  },
  {
   "cell_type": "code",
   "execution_count": 52,
   "id": "da9b73c5",
   "metadata": {},
   "outputs": [
    {
     "data": {
      "text/plain": [
       "Nome Órgão                                   \n",
       "Comando do Exército                              905871\n",
       "Comando da Aeronáutica                           274880\n",
       "Comando da Marinha                               186019\n",
       "Empresa Brasileira de Serviços Hospitalares      152059\n",
       "Ministério da Saúde - Unidades com vínculo di     53363\n",
       "Empresa Brasileira de Pesquisa Agropecuária       44159\n",
       "Universidade Federal de Santa Maria               36278\n",
       "Fundação Oswaldo Cruz                             35363\n",
       "ESTADO DO PARA                                    29136\n",
       "Universidade Federal de Santa Catarina            24400\n",
       "dtype: int64"
      ]
     },
     "execution_count": 52,
     "metadata": {},
     "output_type": "execute_result"
    }
   ],
   "source": [
    "df_0[df_0[\"Flag Vencedor\"]== 'SIM'].loc[:,[\"Nome Órgão\"]].value_counts().head(10)"
   ]
  },
  {
   "cell_type": "code",
   "execution_count": 47,
   "id": "b1602dcd",
   "metadata": {},
   "outputs": [
    {
     "data": {
      "text/plain": [
       "318"
      ]
     },
     "execution_count": 47,
     "metadata": {},
     "output_type": "execute_result"
    }
   ],
   "source": [
    "# Número de órgãos que tiveram licitações fraudulentas.\n",
    "len(df_0[\"Nome Órgão\"].unique())"
   ]
  }
 ],
 "metadata": {
  "kernelspec": {
   "display_name": "Python 3",
   "language": "python",
   "name": "python3"
  },
  "language_info": {
   "codemirror_mode": {
    "name": "ipython",
    "version": 3
   },
   "file_extension": ".py",
   "mimetype": "text/x-python",
   "name": "python",
   "nbconvert_exporter": "python",
   "pygments_lexer": "ipython3",
   "version": "3.8.8"
  }
 },
 "nbformat": 4,
 "nbformat_minor": 5
}
