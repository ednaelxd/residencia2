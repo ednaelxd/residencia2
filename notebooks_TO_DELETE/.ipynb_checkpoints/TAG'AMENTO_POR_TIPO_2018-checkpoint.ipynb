{
 "cells": [
  {
   "cell_type": "markdown",
   "id": "fa466ffd",
   "metadata": {},
   "source": [
    "## Neste documento, adicionaremos a tag legal/ilegal nos dados\n",
    "- Importação dos dados\n",
    "- Divisão por grupo de tipo de licitação\n",
    "- Criação do algorítmo de classificação\n",
    "- Implementação nas bases divididas por modalidade de licitação"
   ]
  },
  {
   "cell_type": "code",
   "execution_count": 119,
   "id": "d4318096",
   "metadata": {},
   "outputs": [],
   "source": [
    "import pandas as pd\n",
    "import glob"
   ]
  },
  {
   "cell_type": "code",
   "execution_count": 120,
   "id": "4defb4fa",
   "metadata": {},
   "outputs": [
    {
     "name": "stdout",
     "output_type": "stream",
     "text": [
      "Wall time: 0 ns\n"
     ]
    }
   ],
   "source": [
    "%time\n",
    "path = r'C:\\liciatacao_07_12_2018'\n",
    "filenames = glob.glob(path + \"/*.csv\")\n",
    "\n",
    "li= []\n",
    "\n",
    "for filename in filenames:\n",
    "    df = pd.read_csv(filename, index_col=None, header=0, decimal=',',sep=';',encoding='latin1')\n",
    "    li.append(df)\n",
    "\n",
    "df_lic_2018 = pd.concat(li, axis=0, ignore_index=True)"
   ]
  },
  {
   "cell_type": "code",
   "execution_count": 121,
   "id": "27a67660",
   "metadata": {},
   "outputs": [],
   "source": [
    "pd.options.display.max_colwidth = 1000"
   ]
  },
  {
   "cell_type": "code",
   "execution_count": 122,
   "id": "7a7c3db9",
   "metadata": {},
   "outputs": [
    {
     "data": {
      "text/plain": [
       "(112936, 16)"
      ]
     },
     "execution_count": 122,
     "metadata": {},
     "output_type": "execute_result"
    }
   ],
   "source": [
    "df_lic_2018.shape"
   ]
  },
  {
   "cell_type": "code",
   "execution_count": 123,
   "id": "14c347ee",
   "metadata": {},
   "outputs": [],
   "source": [
    "df_lic_2018.rename(columns={\"Valor Licitação\": \"Total\"},inplace=True)"
   ]
  },
  {
   "cell_type": "code",
   "execution_count": 124,
   "id": "3b7c8951",
   "metadata": {},
   "outputs": [
    {
     "data": {
      "text/plain": [
       "Dispensa de Licitação               73521\n",
       "Inexigibilidade de Licitação        14486\n",
       "Pregão - Registro de Preço          12436\n",
       "Pregão                              11609\n",
       "Tomada de Preços                      529\n",
       "Concorrência                          225\n",
       "Convite                                96\n",
       "Concurso                               18\n",
       "Concorrência Internacional             11\n",
       "Concorrência - Registro de Preço        5\n",
       "Name: Modalidade Compra, dtype: int64"
      ]
     },
     "execution_count": 124,
     "metadata": {},
     "output_type": "execute_result"
    }
   ],
   "source": [
    "df_lic_2018['Modalidade Compra'].value_counts()"
   ]
  },
  {
   "cell_type": "markdown",
   "id": "d75b1db9",
   "metadata": {},
   "source": [
    "# Separar por tipo de Modalidade"
   ]
  },
  {
   "cell_type": "markdown",
   "id": "d973d9ab",
   "metadata": {},
   "source": [
    "## Registro de Preço"
   ]
  },
  {
   "cell_type": "code",
   "execution_count": 125,
   "id": "cc898712",
   "metadata": {},
   "outputs": [],
   "source": [
    "df_lic_2018_RP = df_lic_2018[df_lic_2018['Modalidade Compra']  == 'Pregão - Registro de Preço']"
   ]
  },
  {
   "cell_type": "code",
   "execution_count": 126,
   "id": "81d1ae53",
   "metadata": {},
   "outputs": [
    {
     "data": {
      "text/plain": [
       "Pregão - Registro de Preço    12436\n",
       "Name: Modalidade Compra, dtype: int64"
      ]
     },
     "execution_count": 126,
     "metadata": {},
     "output_type": "execute_result"
    }
   ],
   "source": [
    "df_lic_2018_RP['Modalidade Compra'].value_counts()"
   ]
  },
  {
   "cell_type": "markdown",
   "id": "f137ebc4",
   "metadata": {},
   "source": [
    "## Pregão"
   ]
  },
  {
   "cell_type": "code",
   "execution_count": 127,
   "id": "e760f35e",
   "metadata": {},
   "outputs": [],
   "source": [
    "df_lic_2018_Pregao = df_lic_2018[df_lic_2018['Modalidade Compra'] == 'Pregão']"
   ]
  },
  {
   "cell_type": "code",
   "execution_count": 128,
   "id": "bca4a79b",
   "metadata": {},
   "outputs": [
    {
     "data": {
      "text/plain": [
       "Pregão    11609\n",
       "Name: Modalidade Compra, dtype: int64"
      ]
     },
     "execution_count": 128,
     "metadata": {},
     "output_type": "execute_result"
    }
   ],
   "source": [
    "df_lic_2018_Pregao['Modalidade Compra'].value_counts()"
   ]
  },
  {
   "cell_type": "markdown",
   "id": "3beba261",
   "metadata": {},
   "source": [
    "## Dispensa de Licitação"
   ]
  },
  {
   "cell_type": "code",
   "execution_count": 129,
   "id": "1417effc",
   "metadata": {},
   "outputs": [],
   "source": [
    "df_lic_2018_Dispensa = df_lic_2018[df_lic_2018['Modalidade Compra'] == 'Dispensa de Licitação']"
   ]
  },
  {
   "cell_type": "code",
   "execution_count": 130,
   "id": "e06a1757",
   "metadata": {},
   "outputs": [
    {
     "data": {
      "text/plain": [
       "Dispensa de Licitação    73521\n",
       "Name: Modalidade Compra, dtype: int64"
      ]
     },
     "execution_count": 130,
     "metadata": {},
     "output_type": "execute_result"
    }
   ],
   "source": [
    "df_lic_2018_Dispensa['Modalidade Compra'].value_counts()"
   ]
  },
  {
   "cell_type": "markdown",
   "id": "37ebfe7a",
   "metadata": {},
   "source": [
    "# Inexigibilidade de Licitação "
   ]
  },
  {
   "cell_type": "code",
   "execution_count": 131,
   "id": "26b50f39",
   "metadata": {},
   "outputs": [],
   "source": [
    "df_lic_2018_INEX = df_lic_2018[df_lic_2018['Modalidade Compra'] == 'Inexigibilidade de Licitação']"
   ]
  },
  {
   "cell_type": "code",
   "execution_count": 132,
   "id": "3c6579f5",
   "metadata": {},
   "outputs": [
    {
     "data": {
      "text/plain": [
       "Inexigibilidade de Licitação    14486\n",
       "Name: Modalidade Compra, dtype: int64"
      ]
     },
     "execution_count": 132,
     "metadata": {},
     "output_type": "execute_result"
    }
   ],
   "source": [
    "df_lic_2018_INEX['Modalidade Compra'].value_counts()"
   ]
  },
  {
   "cell_type": "markdown",
   "id": "754eb304",
   "metadata": {},
   "source": [
    "### É obra?"
   ]
  },
  {
   "cell_type": "code",
   "execution_count": 133,
   "id": "7ce3c6c7",
   "metadata": {},
   "outputs": [],
   "source": [
    "#varre todos o objetos e identifica se possui relação com obras\n",
    "#caso sim, nomeia\n",
    "def eh_obra(x):\n",
    "    y=[]\n",
    "    if ('OBRAS' in x) or ('OBRA' in x) or ('ENGENHARIA' in x) or ('engenharia' in x) or ('obras' in x) or ('obra' in x) or ('CONTRU-CAO' in x) or ('constru-cao' in x):\n",
    "        y.append('OBRAS')\n",
    "    else:\n",
    "        y.append('COMPRA/SERVIÇOS')\n",
    "    y=y.pop(0)\n",
    "    return(y)"
   ]
  },
  {
   "cell_type": "code",
   "execution_count": 134,
   "id": "cd24d836",
   "metadata": {},
   "outputs": [],
   "source": [
    "#aplica a função de descobrimento de obras de forma mais rápida no dataframe\n",
    "def separaObra(df2):\n",
    "    return pd.Series(eh_obra(row.Objeto)\n",
    "        for row in df2.itertuples()\n",
    "  )"
   ]
  },
  {
   "cell_type": "markdown",
   "id": "e3e44922",
   "metadata": {},
   "source": [
    "#### REGISTRO DE PREÇO"
   ]
  },
  {
   "cell_type": "code",
   "execution_count": 135,
   "id": "219d208b",
   "metadata": {
    "scrolled": true
   },
   "outputs": [
    {
     "ename": "TypeError",
     "evalue": "argument of type 'float' is not iterable",
     "output_type": "error",
     "traceback": [
      "\u001b[1;31m---------------------------------------------------------------------------\u001b[0m",
      "\u001b[1;31mTypeError\u001b[0m                                 Traceback (most recent call last)",
      "\u001b[1;32m~\\AppData\\Local\\Temp/ipykernel_17772/4230280379.py\u001b[0m in \u001b[0;36m<module>\u001b[1;34m\u001b[0m\n\u001b[1;32m----> 1\u001b[1;33m \u001b[0mabc\u001b[0m \u001b[1;33m=\u001b[0m \u001b[0mpd\u001b[0m\u001b[1;33m.\u001b[0m\u001b[0mDataFrame\u001b[0m\u001b[1;33m(\u001b[0m\u001b[0mseparaObra\u001b[0m\u001b[1;33m(\u001b[0m\u001b[0mdf_lic_2018_RP\u001b[0m\u001b[1;33m)\u001b[0m\u001b[1;33m)\u001b[0m \u001b[1;31m#Apresentando errooooo\u001b[0m\u001b[1;33m\u001b[0m\u001b[1;33m\u001b[0m\u001b[0m\n\u001b[0m",
      "\u001b[1;32m~\\AppData\\Local\\Temp/ipykernel_17772/1054457497.py\u001b[0m in \u001b[0;36mseparaObra\u001b[1;34m(df2)\u001b[0m\n\u001b[0;32m      1\u001b[0m \u001b[1;31m#aplica a função de descobrimento de obras de forma mais rápida no dataframe\u001b[0m\u001b[1;33m\u001b[0m\u001b[1;33m\u001b[0m\u001b[0m\n\u001b[0;32m      2\u001b[0m \u001b[1;32mdef\u001b[0m \u001b[0mseparaObra\u001b[0m\u001b[1;33m(\u001b[0m\u001b[0mdf2\u001b[0m\u001b[1;33m)\u001b[0m\u001b[1;33m:\u001b[0m\u001b[1;33m\u001b[0m\u001b[1;33m\u001b[0m\u001b[0m\n\u001b[1;32m----> 3\u001b[1;33m     return pd.Series(eh_obra(row.Objeto)\n\u001b[0m\u001b[0;32m      4\u001b[0m         \u001b[1;32mfor\u001b[0m \u001b[0mrow\u001b[0m \u001b[1;32min\u001b[0m \u001b[0mdf2\u001b[0m\u001b[1;33m.\u001b[0m\u001b[0mitertuples\u001b[0m\u001b[1;33m(\u001b[0m\u001b[1;33m)\u001b[0m\u001b[1;33m\u001b[0m\u001b[1;33m\u001b[0m\u001b[0m\n\u001b[0;32m      5\u001b[0m   )\n",
      "\u001b[1;32m~\\anaconda3\\lib\\site-packages\\pandas\\core\\series.py\u001b[0m in \u001b[0;36m__init__\u001b[1;34m(self, data, index, dtype, name, copy, fastpath)\u001b[0m\n\u001b[0;32m    421\u001b[0m                 \u001b[1;32mpass\u001b[0m\u001b[1;33m\u001b[0m\u001b[1;33m\u001b[0m\u001b[0m\n\u001b[0;32m    422\u001b[0m             \u001b[1;32melse\u001b[0m\u001b[1;33m:\u001b[0m\u001b[1;33m\u001b[0m\u001b[1;33m\u001b[0m\u001b[0m\n\u001b[1;32m--> 423\u001b[1;33m                 \u001b[0mdata\u001b[0m \u001b[1;33m=\u001b[0m \u001b[0mcom\u001b[0m\u001b[1;33m.\u001b[0m\u001b[0mmaybe_iterable_to_list\u001b[0m\u001b[1;33m(\u001b[0m\u001b[0mdata\u001b[0m\u001b[1;33m)\u001b[0m\u001b[1;33m\u001b[0m\u001b[1;33m\u001b[0m\u001b[0m\n\u001b[0m\u001b[0;32m    424\u001b[0m \u001b[1;33m\u001b[0m\u001b[0m\n\u001b[0;32m    425\u001b[0m             \u001b[1;32mif\u001b[0m \u001b[0mindex\u001b[0m \u001b[1;32mis\u001b[0m \u001b[1;32mNone\u001b[0m\u001b[1;33m:\u001b[0m\u001b[1;33m\u001b[0m\u001b[1;33m\u001b[0m\u001b[0m\n",
      "\u001b[1;32m~\\anaconda3\\lib\\site-packages\\pandas\\core\\common.py\u001b[0m in \u001b[0;36mmaybe_iterable_to_list\u001b[1;34m(obj)\u001b[0m\n\u001b[0;32m    290\u001b[0m     \"\"\"\n\u001b[0;32m    291\u001b[0m     \u001b[1;32mif\u001b[0m \u001b[0misinstance\u001b[0m\u001b[1;33m(\u001b[0m\u001b[0mobj\u001b[0m\u001b[1;33m,\u001b[0m \u001b[0mabc\u001b[0m\u001b[1;33m.\u001b[0m\u001b[0mIterable\u001b[0m\u001b[1;33m)\u001b[0m \u001b[1;32mand\u001b[0m \u001b[1;32mnot\u001b[0m \u001b[0misinstance\u001b[0m\u001b[1;33m(\u001b[0m\u001b[0mobj\u001b[0m\u001b[1;33m,\u001b[0m \u001b[0mabc\u001b[0m\u001b[1;33m.\u001b[0m\u001b[0mSized\u001b[0m\u001b[1;33m)\u001b[0m\u001b[1;33m:\u001b[0m\u001b[1;33m\u001b[0m\u001b[1;33m\u001b[0m\u001b[0m\n\u001b[1;32m--> 292\u001b[1;33m         \u001b[1;32mreturn\u001b[0m \u001b[0mlist\u001b[0m\u001b[1;33m(\u001b[0m\u001b[0mobj\u001b[0m\u001b[1;33m)\u001b[0m\u001b[1;33m\u001b[0m\u001b[1;33m\u001b[0m\u001b[0m\n\u001b[0m\u001b[0;32m    293\u001b[0m     \u001b[0mobj\u001b[0m \u001b[1;33m=\u001b[0m \u001b[0mcast\u001b[0m\u001b[1;33m(\u001b[0m\u001b[0mCollection\u001b[0m\u001b[1;33m,\u001b[0m \u001b[0mobj\u001b[0m\u001b[1;33m)\u001b[0m\u001b[1;33m\u001b[0m\u001b[1;33m\u001b[0m\u001b[0m\n\u001b[0;32m    294\u001b[0m     \u001b[1;32mreturn\u001b[0m \u001b[0mobj\u001b[0m\u001b[1;33m\u001b[0m\u001b[1;33m\u001b[0m\u001b[0m\n",
      "\u001b[1;32m~\\AppData\\Local\\Temp/ipykernel_17772/1054457497.py\u001b[0m in \u001b[0;36m<genexpr>\u001b[1;34m(.0)\u001b[0m\n\u001b[0;32m      1\u001b[0m \u001b[1;31m#aplica a função de descobrimento de obras de forma mais rápida no dataframe\u001b[0m\u001b[1;33m\u001b[0m\u001b[1;33m\u001b[0m\u001b[0m\n\u001b[0;32m      2\u001b[0m \u001b[1;32mdef\u001b[0m \u001b[0mseparaObra\u001b[0m\u001b[1;33m(\u001b[0m\u001b[0mdf2\u001b[0m\u001b[1;33m)\u001b[0m\u001b[1;33m:\u001b[0m\u001b[1;33m\u001b[0m\u001b[1;33m\u001b[0m\u001b[0m\n\u001b[1;32m----> 3\u001b[1;33m     return pd.Series(eh_obra(row.Objeto)\n\u001b[0m\u001b[0;32m      4\u001b[0m         \u001b[1;32mfor\u001b[0m \u001b[0mrow\u001b[0m \u001b[1;32min\u001b[0m \u001b[0mdf2\u001b[0m\u001b[1;33m.\u001b[0m\u001b[0mitertuples\u001b[0m\u001b[1;33m(\u001b[0m\u001b[1;33m)\u001b[0m\u001b[1;33m\u001b[0m\u001b[1;33m\u001b[0m\u001b[0m\n\u001b[0;32m      5\u001b[0m   )\n",
      "\u001b[1;32m~\\AppData\\Local\\Temp/ipykernel_17772/1332152166.py\u001b[0m in \u001b[0;36meh_obra\u001b[1;34m(x)\u001b[0m\n\u001b[0;32m      3\u001b[0m \u001b[1;32mdef\u001b[0m \u001b[0meh_obra\u001b[0m\u001b[1;33m(\u001b[0m\u001b[0mx\u001b[0m\u001b[1;33m)\u001b[0m\u001b[1;33m:\u001b[0m\u001b[1;33m\u001b[0m\u001b[1;33m\u001b[0m\u001b[0m\n\u001b[0;32m      4\u001b[0m     \u001b[0my\u001b[0m\u001b[1;33m=\u001b[0m\u001b[1;33m[\u001b[0m\u001b[1;33m]\u001b[0m\u001b[1;33m\u001b[0m\u001b[1;33m\u001b[0m\u001b[0m\n\u001b[1;32m----> 5\u001b[1;33m     \u001b[1;32mif\u001b[0m \u001b[1;33m(\u001b[0m\u001b[1;34m'OBRAS'\u001b[0m \u001b[1;32min\u001b[0m \u001b[0mx\u001b[0m\u001b[1;33m)\u001b[0m \u001b[1;32mor\u001b[0m \u001b[1;33m(\u001b[0m\u001b[1;34m'OBRA'\u001b[0m \u001b[1;32min\u001b[0m \u001b[0mx\u001b[0m\u001b[1;33m)\u001b[0m \u001b[1;32mor\u001b[0m \u001b[1;33m(\u001b[0m\u001b[1;34m'ENGENHARIA'\u001b[0m \u001b[1;32min\u001b[0m \u001b[0mx\u001b[0m\u001b[1;33m)\u001b[0m \u001b[1;32mor\u001b[0m \u001b[1;33m(\u001b[0m\u001b[1;34m'engenharia'\u001b[0m \u001b[1;32min\u001b[0m \u001b[0mx\u001b[0m\u001b[1;33m)\u001b[0m \u001b[1;32mor\u001b[0m \u001b[1;33m(\u001b[0m\u001b[1;34m'obras'\u001b[0m \u001b[1;32min\u001b[0m \u001b[0mx\u001b[0m\u001b[1;33m)\u001b[0m \u001b[1;32mor\u001b[0m \u001b[1;33m(\u001b[0m\u001b[1;34m'obra'\u001b[0m \u001b[1;32min\u001b[0m \u001b[0mx\u001b[0m\u001b[1;33m)\u001b[0m \u001b[1;32mor\u001b[0m \u001b[1;33m(\u001b[0m\u001b[1;34m'CONTRU-CAO'\u001b[0m \u001b[1;32min\u001b[0m \u001b[0mx\u001b[0m\u001b[1;33m)\u001b[0m \u001b[1;32mor\u001b[0m \u001b[1;33m(\u001b[0m\u001b[1;34m'constru-cao'\u001b[0m \u001b[1;32min\u001b[0m \u001b[0mx\u001b[0m\u001b[1;33m)\u001b[0m\u001b[1;33m:\u001b[0m\u001b[1;33m\u001b[0m\u001b[1;33m\u001b[0m\u001b[0m\n\u001b[0m\u001b[0;32m      6\u001b[0m         \u001b[0my\u001b[0m\u001b[1;33m.\u001b[0m\u001b[0mappend\u001b[0m\u001b[1;33m(\u001b[0m\u001b[1;34m'OBRAS'\u001b[0m\u001b[1;33m)\u001b[0m\u001b[1;33m\u001b[0m\u001b[1;33m\u001b[0m\u001b[0m\n\u001b[0;32m      7\u001b[0m     \u001b[1;32melse\u001b[0m\u001b[1;33m:\u001b[0m\u001b[1;33m\u001b[0m\u001b[1;33m\u001b[0m\u001b[0m\n",
      "\u001b[1;31mTypeError\u001b[0m: argument of type 'float' is not iterable"
     ]
    }
   ],
   "source": [
    "abc = pd.DataFrame(separaObra(df_lic_2018_RP)) #Apresentando errooooo"
   ]
  },
  {
   "cell_type": "code",
   "execution_count": 40,
   "id": "2f3e823f",
   "metadata": {},
   "outputs": [
    {
     "ename": "NameError",
     "evalue": "name 'abc' is not defined",
     "output_type": "error",
     "traceback": [
      "\u001b[1;31m---------------------------------------------------------------------------\u001b[0m",
      "\u001b[1;31mNameError\u001b[0m                                 Traceback (most recent call last)",
      "\u001b[1;32m~\\AppData\\Local\\Temp/ipykernel_17772/792374747.py\u001b[0m in \u001b[0;36m<module>\u001b[1;34m\u001b[0m\n\u001b[1;32m----> 1\u001b[1;33m \u001b[0mabc\u001b[0m\u001b[1;33m.\u001b[0m\u001b[0mrename\u001b[0m\u001b[1;33m(\u001b[0m\u001b[0mcolumns\u001b[0m\u001b[1;33m=\u001b[0m\u001b[1;33m{\u001b[0m\u001b[1;36m0\u001b[0m\u001b[1;33m:\u001b[0m\u001b[1;34m'col1'\u001b[0m\u001b[1;33m}\u001b[0m\u001b[1;33m,\u001b[0m\u001b[0minplace\u001b[0m\u001b[1;33m=\u001b[0m\u001b[1;32mTrue\u001b[0m\u001b[1;33m)\u001b[0m\u001b[1;33m\u001b[0m\u001b[1;33m\u001b[0m\u001b[0m\n\u001b[0m",
      "\u001b[1;31mNameError\u001b[0m: name 'abc' is not defined"
     ]
    }
   ],
   "source": [
    "abc.rename(columns={0:'col1'},inplace=True)"
   ]
  },
  {
   "cell_type": "code",
   "execution_count": 20,
   "id": "4bc0ded8",
   "metadata": {
    "scrolled": true
   },
   "outputs": [
    {
     "data": {
      "text/plain": [
       "COMPRA/SERVIÇOS    1085\n",
       "OBRAS                30\n",
       "Name: col1, dtype: int64"
      ]
     },
     "execution_count": 20,
     "metadata": {},
     "output_type": "execute_result"
    }
   ],
   "source": [
    "abc['col1'].value_counts()"
   ]
  },
  {
   "cell_type": "code",
   "execution_count": 21,
   "id": "bd795ae9",
   "metadata": {},
   "outputs": [],
   "source": [
    "abc.reset_index(drop=True, inplace=True)"
   ]
  },
  {
   "cell_type": "code",
   "execution_count": 22,
   "id": "61caf897",
   "metadata": {},
   "outputs": [],
   "source": [
    "lic_RP.reset_index(drop=True, inplace=True)"
   ]
  },
  {
   "cell_type": "code",
   "execution_count": 23,
   "id": "e6045000",
   "metadata": {
    "scrolled": false
   },
   "outputs": [
    {
     "name": "stderr",
     "output_type": "stream",
     "text": [
      "C:\\Users\\efvs\\AppData\\Local\\Temp/ipykernel_15132/3902945742.py:1: SettingWithCopyWarning: \n",
      "A value is trying to be set on a copy of a slice from a DataFrame.\n",
      "Try using .loc[row_indexer,col_indexer] = value instead\n",
      "\n",
      "See the caveats in the documentation: https://pandas.pydata.org/pandas-docs/stable/user_guide/indexing.html#returning-a-view-versus-a-copy\n",
      "  lic_RP['tipo']=abc['col1']\n"
     ]
    }
   ],
   "source": [
    "lic_RP['tipo']=abc['col1']"
   ]
  },
  {
   "cell_type": "code",
   "execution_count": 24,
   "id": "6ae69280",
   "metadata": {},
   "outputs": [],
   "source": [
    "lic_obras_RP = lic_RP[lic_RP['tipo'] == 'OBRAS']\n",
    "lic_compras_RP = lic_RP[lic_RP['tipo'] != 'OBRAS']"
   ]
  },
  {
   "cell_type": "code",
   "execution_count": 25,
   "id": "ef3ae747",
   "metadata": {},
   "outputs": [
    {
     "data": {
      "text/plain": [
       "OBRAS    30\n",
       "Name: tipo, dtype: int64"
      ]
     },
     "execution_count": 25,
     "metadata": {},
     "output_type": "execute_result"
    }
   ],
   "source": [
    "lic_obras_RP['tipo'].value_counts()"
   ]
  },
  {
   "cell_type": "markdown",
   "id": "ec913c69",
   "metadata": {},
   "source": [
    "## Tag'ando como legal ou ilegal\n",
    "##### 0: ilegal\n",
    "##### 1: legal"
   ]
  },
  {
   "cell_type": "code",
   "execution_count": 26,
   "id": "ebfefa64",
   "metadata": {
    "scrolled": false
   },
   "outputs": [
    {
     "name": "stderr",
     "output_type": "stream",
     "text": [
      "C:\\Users\\efvs\\AppData\\Local\\Temp/ipykernel_15132/3604007373.py:1: SettingWithCopyWarning: \n",
      "A value is trying to be set on a copy of a slice from a DataFrame.\n",
      "Try using .loc[row_indexer,col_indexer] = value instead\n",
      "\n",
      "See the caveats in the documentation: https://pandas.pydata.org/pandas-docs/stable/user_guide/indexing.html#returning-a-view-versus-a-copy\n",
      "  lic_obras_RP['TAG']=0\n",
      "C:\\Users\\efvs\\AppData\\Local\\Temp/ipykernel_15132/3604007373.py:2: SettingWithCopyWarning: \n",
      "A value is trying to be set on a copy of a slice from a DataFrame.\n",
      "Try using .loc[row_indexer,col_indexer] = value instead\n",
      "\n",
      "See the caveats in the documentation: https://pandas.pydata.org/pandas-docs/stable/user_guide/indexing.html#returning-a-view-versus-a-copy\n",
      "  lic_compras_RP['TAG']=0\n"
     ]
    }
   ],
   "source": [
    "lic_obras_RP['TAG'] = 0\n",
    "lic_compras_RP['TAG'] = 0"
   ]
  },
  {
   "cell_type": "code",
   "execution_count": 27,
   "id": "dec5ad36",
   "metadata": {
    "scrolled": true
   },
   "outputs": [
    {
     "name": "stderr",
     "output_type": "stream",
     "text": [
      "C:\\Users\\efvs\\miniconda3\\envs\\rsd\\lib\\site-packages\\pandas\\core\\indexing.py:1817: SettingWithCopyWarning: \n",
      "A value is trying to be set on a copy of a slice from a DataFrame.\n",
      "Try using .loc[row_indexer,col_indexer] = value instead\n",
      "\n",
      "See the caveats in the documentation: https://pandas.pydata.org/pandas-docs/stable/user_guide/indexing.html#returning-a-view-versus-a-copy\n",
      "  self._setitem_single_column(loc, value, pi)\n"
     ]
    }
   ],
   "source": [
    "#regra de limite de valor\n",
    "#Considerando REGISTRO DE PREÇO como CONCORRENCIA\n",
    "lic_obras_RP.loc[lic_obras_RP['total'] > 3300000, 'TAG'] = 1\n",
    "lic_compras_RP.loc[lic_compras_RP['total'] > 1430000, 'TAG'] = 1"
   ]
  },
  {
   "cell_type": "code",
   "execution_count": 28,
   "id": "716853f4",
   "metadata": {},
   "outputs": [
    {
     "data": {
      "text/plain": [
       "0    25\n",
       "1     5\n",
       "Name: TAG, dtype: int64"
      ]
     },
     "execution_count": 28,
     "metadata": {},
     "output_type": "execute_result"
    }
   ],
   "source": [
    "lic_obras_RP['TAG'].value_counts()"
   ]
  },
  {
   "cell_type": "code",
   "execution_count": 29,
   "id": "cf5d177b",
   "metadata": {},
   "outputs": [
    {
     "name": "stdout",
     "output_type": "stream",
     "text": [
      "Obras: 0.10674157303370786 Compras: 0.0612509732675837\n"
     ]
    }
   ],
   "source": [
    "print('Obras:',19/(159+19),\"Compras:\",236/(3617+236))"
   ]
  },
  {
   "cell_type": "code",
   "execution_count": 31,
   "id": "cb731d42",
   "metadata": {
    "scrolled": true
   },
   "outputs": [
    {
     "data": {
      "text/plain": [
       "0    1042\n",
       "1      43\n",
       "Name: TAG, dtype: int64"
      ]
     },
     "execution_count": 31,
     "metadata": {},
     "output_type": "execute_result"
    }
   ],
   "source": [
    "lic_compras_RP['TAG'].value_counts()"
   ]
  },
  {
   "cell_type": "markdown",
   "id": "1d8adac8",
   "metadata": {},
   "source": [
    "#### Verificações dos resultados - Obras"
   ]
  },
  {
   "cell_type": "code",
   "execution_count": 32,
   "id": "dfcf3acd",
   "metadata": {},
   "outputs": [],
   "source": [
    "pd.set_option('display.float_format', lambda x: '%.5f' % x)"
   ]
  },
  {
   "cell_type": "code",
   "execution_count": 33,
   "id": "1720c1cf",
   "metadata": {},
   "outputs": [
    {
     "data": {
      "text/plain": [
       "<AxesSubplot:>"
      ]
     },
     "execution_count": 33,
     "metadata": {},
     "output_type": "execute_result"
    },
    {
     "data": {
      "image/png": "[encoded data removed]",
      "text/plain": [
       "<Figure size 432x288 with 1 Axes>"
      ]
     },
     "metadata": {
      "needs_background": "light"
     },
     "output_type": "display_data"
    }
   ],
   "source": [
    "lic_obras_RP['total'].plot.box()"
   ]
  },
  {
   "cell_type": "code",
   "execution_count": 34,
   "id": "03d3ea78",
   "metadata": {
    "scrolled": true
   },
   "outputs": [
    {
     "data": {
      "text/plain": [
       "count         30.00000\n",
       "mean     1641781.52067\n",
       "std      3980222.77667\n",
       "min            0.00000\n",
       "25%        13039.06000\n",
       "50%        84620.00000\n",
       "75%       739702.70000\n",
       "max     18572400.00000\n",
       "Name: total, dtype: float64"
      ]
     },
     "execution_count": 34,
     "metadata": {},
     "output_type": "execute_result"
    }
   ],
   "source": [
    "lic_obras_RP['total'].describe()"
   ]
  },
  {
   "cell_type": "markdown",
   "id": "37bd33a2",
   "metadata": {},
   "source": [
    "### Pregão"
   ]
  },
  {
   "cell_type": "code",
   "execution_count": 138,
   "id": "641df055",
   "metadata": {},
   "outputs": [
    {
     "data": {
      "text/plain": [
       "COMPRA/SERVIÇOS    10575\n",
       "OBRAS               1034\n",
       "Name: col1, dtype: int64"
      ]
     },
     "execution_count": 138,
     "metadata": {},
     "output_type": "execute_result"
    }
   ],
   "source": [
    "abc2 = pd.DataFrame(separaObra(df_lic_2018_Pregao))\n",
    "abc2.rename(columns={0:'col1'},inplace=True)\n",
    "abc2['col1'].value_counts()"
   ]
  },
  {
   "cell_type": "code",
   "execution_count": 139,
   "id": "54f29dfd",
   "metadata": {},
   "outputs": [],
   "source": [
    "df_lic_2018_Pregao.reset_index(drop=True, inplace=True)"
   ]
  },
  {
   "cell_type": "code",
   "execution_count": 140,
   "id": "375c2510",
   "metadata": {
    "scrolled": true
   },
   "outputs": [
    {
     "name": "stderr",
     "output_type": "stream",
     "text": [
      "C:\\Users\\lrr\\AppData\\Local\\Temp/ipykernel_17772/982143923.py:1: SettingWithCopyWarning: \n",
      "A value is trying to be set on a copy of a slice from a DataFrame.\n",
      "Try using .loc[row_indexer,col_indexer] = value instead\n",
      "\n",
      "See the caveats in the documentation: https://pandas.pydata.org/pandas-docs/stable/user_guide/indexing.html#returning-a-view-versus-a-copy\n",
      "  df_lic_2018_Pregao['tipo'] = abc2\n"
     ]
    }
   ],
   "source": [
    "df_lic_2018_Pregao['tipo'] = abc2"
   ]
  },
  {
   "cell_type": "markdown",
   "id": "bdcdc695",
   "metadata": {},
   "source": [
    "## Tag'ando como legal ou ilegal\n",
    "#### 0: ilegal\n",
    "#### 1: legal"
   ]
  },
  {
   "cell_type": "markdown",
   "id": "f37d230f",
   "metadata": {},
   "source": [
    "### Não será feito mudança na tag de legalidade por valor para a modalidade Pregão, pois não existe teto para esta modalidade."
   ]
  },
  {
   "cell_type": "code",
   "execution_count": 141,
   "id": "36845602",
   "metadata": {},
   "outputs": [
    {
     "name": "stderr",
     "output_type": "stream",
     "text": [
      "C:\\Users\\lrr\\AppData\\Local\\Temp/ipykernel_17772/2772782409.py:6: SettingWithCopyWarning: \n",
      "A value is trying to be set on a copy of a slice from a DataFrame.\n",
      "Try using .loc[row_indexer,col_indexer] = value instead\n",
      "\n",
      "See the caveats in the documentation: https://pandas.pydata.org/pandas-docs/stable/user_guide/indexing.html#returning-a-view-versus-a-copy\n",
      "  lic_obras_Pregao['TAG'] = 1\n",
      "C:\\Users\\lrr\\AppData\\Local\\Temp/ipykernel_17772/2772782409.py:7: SettingWithCopyWarning: \n",
      "A value is trying to be set on a copy of a slice from a DataFrame.\n",
      "Try using .loc[row_indexer,col_indexer] = value instead\n",
      "\n",
      "See the caveats in the documentation: https://pandas.pydata.org/pandas-docs/stable/user_guide/indexing.html#returning-a-view-versus-a-copy\n",
      "  lic_compras_Pregao['TAG'] = 1\n"
     ]
    }
   ],
   "source": [
    "## \n",
    "lic_obras_Pregao = df_lic_2018_Pregao[df_lic_2018_Pregao['tipo'] == 'OBRAS']\n",
    "lic_compras_Pregao = df_lic_2018_Pregao[df_lic_2018_Pregao['tipo'] != 'OBRAS']\n",
    "####\n",
    "# Não será feito mudança na tag de legalidade por valor, pois não existe teto para pregões\n",
    "lic_obras_Pregao['TAG'] = 1\n",
    "lic_compras_Pregao['TAG'] = 1\n",
    "####"
   ]
  },
  {
   "cell_type": "code",
   "execution_count": 142,
   "id": "34c3103b",
   "metadata": {},
   "outputs": [
    {
     "data": {
      "text/plain": [
       "1    10575\n",
       "Name: TAG, dtype: int64"
      ]
     },
     "execution_count": 142,
     "metadata": {},
     "output_type": "execute_result"
    }
   ],
   "source": [
    "lic_compras_Pregao['TAG'].value_counts()"
   ]
  },
  {
   "cell_type": "code",
   "execution_count": 143,
   "id": "7025b5d9",
   "metadata": {},
   "outputs": [
    {
     "data": {
      "text/plain": [
       "1    1034\n",
       "Name: TAG, dtype: int64"
      ]
     },
     "execution_count": 143,
     "metadata": {},
     "output_type": "execute_result"
    }
   ],
   "source": [
    "lic_obras_Pregao['TAG'].value_counts()"
   ]
  },
  {
   "cell_type": "markdown",
   "id": "a4609f6d",
   "metadata": {},
   "source": [
    "## Dispensa de Licitação"
   ]
  },
  {
   "cell_type": "code",
   "execution_count": 144,
   "id": "91524177",
   "metadata": {},
   "outputs": [
    {
     "data": {
      "text/plain": [
       "COMPRA/SERVIÇOS    72157\n",
       "OBRAS               1364\n",
       "Name: col1, dtype: int64"
      ]
     },
     "execution_count": 144,
     "metadata": {},
     "output_type": "execute_result"
    }
   ],
   "source": [
    "abc3 = pd.DataFrame(separaObra(df_lic_2018_Dispensa))\n",
    "abc3.rename(columns={0:'col1'},inplace=True)\n",
    "abc3['col1'].value_counts()"
   ]
  },
  {
   "cell_type": "code",
   "execution_count": 145,
   "id": "3a4e8ec3",
   "metadata": {},
   "outputs": [],
   "source": [
    "df_lic_2018_Dispensa.reset_index(drop=True, inplace=True)"
   ]
  },
  {
   "cell_type": "code",
   "execution_count": 146,
   "id": "ca60817b",
   "metadata": {
    "scrolled": false
   },
   "outputs": [
    {
     "name": "stderr",
     "output_type": "stream",
     "text": [
      "C:\\Users\\lrr\\AppData\\Local\\Temp/ipykernel_17772/4062506864.py:1: SettingWithCopyWarning: \n",
      "A value is trying to be set on a copy of a slice from a DataFrame.\n",
      "Try using .loc[row_indexer,col_indexer] = value instead\n",
      "\n",
      "See the caveats in the documentation: https://pandas.pydata.org/pandas-docs/stable/user_guide/indexing.html#returning-a-view-versus-a-copy\n",
      "  df_lic_2018_Dispensa['tipo'] = abc3\n"
     ]
    }
   ],
   "source": [
    "df_lic_2018_Dispensa['tipo'] = abc3\n",
    "lic_obras_Dispensa = df_lic_2018_Dispensa[df_lic_2018_Dispensa['tipo'] == 'OBRAS']\n",
    "lic_compras_Dispensa= df_lic_2018_Dispensa[df_lic_2018_Dispensa['tipo'] != 'OBRAS']"
   ]
  },
  {
   "cell_type": "markdown",
   "id": "04d930b8",
   "metadata": {},
   "source": [
    "## Tag'ando como legal ou ilegal\n",
    "#### 0: ilegal\n",
    "#### 1: legal"
   ]
  },
  {
   "cell_type": "code",
   "execution_count": 147,
   "id": "79003fa9",
   "metadata": {},
   "outputs": [
    {
     "name": "stderr",
     "output_type": "stream",
     "text": [
      "C:\\Users\\lrr\\AppData\\Local\\Temp/ipykernel_17772/643279990.py:1: SettingWithCopyWarning: \n",
      "A value is trying to be set on a copy of a slice from a DataFrame.\n",
      "Try using .loc[row_indexer,col_indexer] = value instead\n",
      "\n",
      "See the caveats in the documentation: https://pandas.pydata.org/pandas-docs/stable/user_guide/indexing.html#returning-a-view-versus-a-copy\n",
      "  lic_obras_Dispensa['TAG'] = 0\n",
      "C:\\Users\\lrr\\AppData\\Local\\Temp/ipykernel_17772/643279990.py:2: SettingWithCopyWarning: \n",
      "A value is trying to be set on a copy of a slice from a DataFrame.\n",
      "Try using .loc[row_indexer,col_indexer] = value instead\n",
      "\n",
      "See the caveats in the documentation: https://pandas.pydata.org/pandas-docs/stable/user_guide/indexing.html#returning-a-view-versus-a-copy\n",
      "  lic_compras_Dispensa['TAG'] = 0\n"
     ]
    }
   ],
   "source": [
    "lic_obras_Dispensa['TAG'] = 0\n",
    "lic_compras_Dispensa['TAG'] = 0"
   ]
  },
  {
   "cell_type": "code",
   "execution_count": 150,
   "id": "331b76ce",
   "metadata": {},
   "outputs": [
    {
     "name": "stderr",
     "output_type": "stream",
     "text": [
      "C:\\Users\\lrr\\anaconda3\\lib\\site-packages\\pandas\\core\\indexing.py:1817: SettingWithCopyWarning: \n",
      "A value is trying to be set on a copy of a slice from a DataFrame.\n",
      "Try using .loc[row_indexer,col_indexer] = value instead\n",
      "\n",
      "See the caveats in the documentation: https://pandas.pydata.org/pandas-docs/stable/user_guide/indexing.html#returning-a-view-versus-a-copy\n",
      "  self._setitem_single_column(loc, value, pi)\n"
     ]
    }
   ],
   "source": [
    "lic_obras_Dispensa.loc[lic_obras_Dispensa['Total'] <= 33000, 'TAG'] = 1\n",
    "lic_compras_Dispensa.loc[lic_compras_Dispensa['Total'] <= 17600, 'TAG'] = 1"
   ]
  },
  {
   "cell_type": "markdown",
   "id": "6e9df432",
   "metadata": {},
   "source": [
    "#### Verificações dos resultados - Obras"
   ]
  },
  {
   "cell_type": "code",
   "execution_count": 162,
   "id": "e515eb7f",
   "metadata": {},
   "outputs": [
    {
     "data": {
      "text/plain": [
       "1    1249\n",
       "0     115\n",
       "Name: TAG, dtype: int64"
      ]
     },
     "execution_count": 162,
     "metadata": {},
     "output_type": "execute_result"
    }
   ],
   "source": [
    "lic_obras_Dispensa['TAG'].value_counts()"
   ]
  },
  {
   "cell_type": "markdown",
   "id": "af03b2c2",
   "metadata": {},
   "source": [
    "### Analise Estatística"
   ]
  },
  {
   "cell_type": "markdown",
   "id": "d6363f8d",
   "metadata": {},
   "source": [
    "### Legal"
   ]
  },
  {
   "cell_type": "code",
   "execution_count": 167,
   "id": "cbce4a66",
   "metadata": {},
   "outputs": [
    {
     "data": {
      "text/plain": [
       "count     1249.000000\n",
       "mean      8238.650376\n",
       "std       8550.423777\n",
       "min          0.010000\n",
       "25%       1705.600000\n",
       "50%       5000.000000\n",
       "75%      12500.000000\n",
       "max      33000.000000\n",
       "Name: Total, dtype: float64"
      ]
     },
     "execution_count": 167,
     "metadata": {},
     "output_type": "execute_result"
    }
   ],
   "source": [
    "lic_obras_Dispensa[lic_obras_Dispensa['TAG'] == 1]['Total'].describe()"
   ]
  },
  {
   "cell_type": "code",
   "execution_count": 178,
   "id": "4d237004",
   "metadata": {},
   "outputs": [
    {
     "data": {
      "text/plain": [
       "<AxesSubplot:>"
      ]
     },
     "execution_count": 178,
     "metadata": {},
     "output_type": "execute_result"
    },
    {
     "data": {
      "image/png": "[encoded data removed]",
      "text/plain": [
       "<Figure size 432x288 with 1 Axes>"
      ]
     },
     "metadata": {
      "needs_background": "light"
     },
     "output_type": "display_data"
    }
   ],
   "source": [
    "lic_obras_Dispensa[lic_obras_Dispensa['TAG'] == 1]['Total'].plot.box()"
   ]
  },
  {
   "cell_type": "markdown",
   "id": "19ff8f8a",
   "metadata": {},
   "source": [
    "### Ilegal"
   ]
  },
  {
   "cell_type": "code",
   "execution_count": 166,
   "id": "d660faa9",
   "metadata": {},
   "outputs": [
    {
     "data": {
      "text/plain": [
       "count    1.150000e+02\n",
       "mean     3.321567e+06\n",
       "std      1.081473e+07\n",
       "min      3.389529e+04\n",
       "25%      8.766349e+04\n",
       "50%      3.619920e+05\n",
       "75%      1.868894e+06\n",
       "max      8.794440e+07\n",
       "Name: Total, dtype: float64"
      ]
     },
     "execution_count": 166,
     "metadata": {},
     "output_type": "execute_result"
    }
   ],
   "source": [
    "lic_obras_Dispensa[lic_obras_Dispensa['TAG'] == 0]['Total'].describe()"
   ]
  },
  {
   "cell_type": "code",
   "execution_count": 179,
   "id": "162e1058",
   "metadata": {},
   "outputs": [
    {
     "data": {
      "text/plain": [
       "<AxesSubplot:>"
      ]
     },
     "execution_count": 179,
     "metadata": {},
     "output_type": "execute_result"
    },
    {
     "data": {
      "image/png": "[encoded data removed]",
      "text/plain": [
       "<Figure size 432x288 with 1 Axes>"
      ]
     },
     "metadata": {
      "needs_background": "light"
     },
     "output_type": "display_data"
    }
   ],
   "source": [
    "lic_obras_Dispensa[lic_obras_Dispensa['TAG'] == 0]['Total'].plot.box()"
   ]
  },
  {
   "cell_type": "markdown",
   "id": "aeebb527",
   "metadata": {},
   "source": [
    "#### Verificações dos resultados - Compras"
   ]
  },
  {
   "cell_type": "code",
   "execution_count": 168,
   "id": "a0c55a18",
   "metadata": {},
   "outputs": [
    {
     "data": {
      "text/plain": [
       "1    67597\n",
       "0     4560\n",
       "Name: TAG, dtype: int64"
      ]
     },
     "execution_count": 168,
     "metadata": {},
     "output_type": "execute_result"
    }
   ],
   "source": [
    "lic_compras_Dispensa['TAG'].value_counts()"
   ]
  },
  {
   "cell_type": "markdown",
   "id": "12fcb3dc",
   "metadata": {},
   "source": [
    "### Analise Estatística"
   ]
  },
  {
   "cell_type": "markdown",
   "id": "42293977",
   "metadata": {},
   "source": [
    "### Legal"
   ]
  },
  {
   "cell_type": "code",
   "execution_count": 173,
   "id": "74a0bbf8",
   "metadata": {},
   "outputs": [
    {
     "data": {
      "text/plain": [
       "count    67597.000000\n",
       "mean      4188.949777\n",
       "std       4357.383015\n",
       "min          0.000000\n",
       "25%        938.300000\n",
       "50%       2500.000000\n",
       "75%       6037.000000\n",
       "max      17600.000000\n",
       "Name: Total, dtype: float64"
      ]
     },
     "execution_count": 173,
     "metadata": {},
     "output_type": "execute_result"
    }
   ],
   "source": [
    "lic_compras_Dispensa[lic_compras_Dispensa['TAG'] == 1]['Total'].describe()"
   ]
  },
  {
   "cell_type": "code",
   "execution_count": 176,
   "id": "43ef36af",
   "metadata": {},
   "outputs": [
    {
     "data": {
      "text/plain": [
       "<AxesSubplot:>"
      ]
     },
     "execution_count": 176,
     "metadata": {},
     "output_type": "execute_result"
    },
    {
     "data": {
      "image/png": "[encoded data removed]",
      "text/plain": [
       "<Figure size 432x288 with 1 Axes>"
      ]
     },
     "metadata": {
      "needs_background": "light"
     },
     "output_type": "display_data"
    }
   ],
   "source": [
    "lic_compras_Dispensa[lic_compras_Dispensa['TAG'] == 1]['Total'].plot.box()"
   ]
  },
  {
   "cell_type": "markdown",
   "id": "cf719023",
   "metadata": {},
   "source": [
    "### Ilegal"
   ]
  },
  {
   "cell_type": "code",
   "execution_count": 174,
   "id": "0e71c431",
   "metadata": {},
   "outputs": [
    {
     "data": {
      "text/plain": [
       "count    4.560000e+03\n",
       "mean     2.480859e+06\n",
       "std      3.401670e+07\n",
       "min      1.761433e+04\n",
       "25%      3.186395e+04\n",
       "50%      8.358712e+04\n",
       "75%      4.000000e+05\n",
       "max      1.549004e+09\n",
       "Name: Total, dtype: float64"
      ]
     },
     "execution_count": 174,
     "metadata": {},
     "output_type": "execute_result"
    }
   ],
   "source": [
    "lic_compras_Dispensa[lic_compras_Dispensa['TAG'] == 0]['Total'].describe()"
   ]
  },
  {
   "cell_type": "code",
   "execution_count": 175,
   "id": "15d03bc0",
   "metadata": {},
   "outputs": [
    {
     "data": {
      "text/plain": [
       "<AxesSubplot:>"
      ]
     },
     "execution_count": 175,
     "metadata": {},
     "output_type": "execute_result"
    },
    {
     "data": {
      "image/png": "[encoded data removed]",
      "text/plain": [
       "<Figure size 432x288 with 1 Axes>"
      ]
     },
     "metadata": {
      "needs_background": "light"
     },
     "output_type": "display_data"
    }
   ],
   "source": [
    "lic_compras_Dispensa[lic_compras_Dispensa['TAG'] == 0]['Total'].plot.box()"
   ]
  },
  {
   "cell_type": "markdown",
   "id": "9b22cefc",
   "metadata": {},
   "source": [
    "## INEXIBILIDADE DE LICITAÇÃO"
   ]
  },
  {
   "cell_type": "code",
   "execution_count": 180,
   "id": "13dfebac",
   "metadata": {},
   "outputs": [
    {
     "data": {
      "text/plain": [
       "COMPRA/SERVIÇOS    72157\n",
       "OBRAS               1364\n",
       "Name: col1, dtype: int64"
      ]
     },
     "execution_count": 180,
     "metadata": {},
     "output_type": "execute_result"
    }
   ],
   "source": [
    "abc4 = pd.DataFrame(separaObra(df_lic_2018_INEX))\n",
    "abc4.rename(columns={0:'col1'},inplace=True)\n",
    "abc3['col1'].value_counts()"
   ]
  },
  {
   "cell_type": "code",
   "execution_count": 181,
   "id": "49bf5dd8",
   "metadata": {},
   "outputs": [],
   "source": [
    "df_lic_2018_INEX.reset_index(drop=True, inplace=True)"
   ]
  },
  {
   "cell_type": "code",
   "execution_count": 182,
   "id": "27454ee4",
   "metadata": {},
   "outputs": [
    {
     "name": "stderr",
     "output_type": "stream",
     "text": [
      "C:\\Users\\lrr\\AppData\\Local\\Temp/ipykernel_17772/1345811239.py:1: SettingWithCopyWarning: \n",
      "A value is trying to be set on a copy of a slice from a DataFrame.\n",
      "Try using .loc[row_indexer,col_indexer] = value instead\n",
      "\n",
      "See the caveats in the documentation: https://pandas.pydata.org/pandas-docs/stable/user_guide/indexing.html#returning-a-view-versus-a-copy\n",
      "  df_lic_2018_INEX['tipo'] = abc4\n"
     ]
    }
   ],
   "source": [
    "df_lic_2018_INEX['tipo'] = abc4\n",
    "lic_obras_INEX = df_lic_2018_INEX[df_lic_2018_INEX['tipo'] == 'OBRAS']\n",
    "lic_compras_INEX = df_lic_2018_INEX[df_lic_2018_INEX['tipo'] != 'OBRAS']"
   ]
  },
  {
   "cell_type": "code",
   "execution_count": 183,
   "id": "6b23a7cf",
   "metadata": {
    "scrolled": true
   },
   "outputs": [
    {
     "name": "stderr",
     "output_type": "stream",
     "text": [
      "C:\\Users\\lrr\\AppData\\Local\\Temp/ipykernel_17772/2841835399.py:1: SettingWithCopyWarning: \n",
      "A value is trying to be set on a copy of a slice from a DataFrame.\n",
      "Try using .loc[row_indexer,col_indexer] = value instead\n",
      "\n",
      "See the caveats in the documentation: https://pandas.pydata.org/pandas-docs/stable/user_guide/indexing.html#returning-a-view-versus-a-copy\n",
      "  lic_obras_INEX['TAG'] =  1\n",
      "C:\\Users\\lrr\\AppData\\Local\\Temp/ipykernel_17772/2841835399.py:2: SettingWithCopyWarning: \n",
      "A value is trying to be set on a copy of a slice from a DataFrame.\n",
      "Try using .loc[row_indexer,col_indexer] = value instead\n",
      "\n",
      "See the caveats in the documentation: https://pandas.pydata.org/pandas-docs/stable/user_guide/indexing.html#returning-a-view-versus-a-copy\n",
      "  lic_compras_INEX['TAG'] = 1\n"
     ]
    }
   ],
   "source": [
    "lic_obras_INEX['TAG'] =  1\n",
    "lic_compras_INEX['TAG'] = 1"
   ]
  },
  {
   "cell_type": "code",
   "execution_count": 184,
   "id": "68c5e582",
   "metadata": {},
   "outputs": [],
   "source": [
    "pd.options.display.max_colwidth = 1000"
   ]
  },
  {
   "cell_type": "code",
   "execution_count": 185,
   "id": "be7c83c8",
   "metadata": {},
   "outputs": [
    {
     "data": {
      "text/plain": [
       "1    325\n",
       "Name: TAG, dtype: int64"
      ]
     },
     "execution_count": 185,
     "metadata": {},
     "output_type": "execute_result"
    }
   ],
   "source": [
    "lic_obras_INEX['TAG'].value_counts()"
   ]
  },
  {
   "cell_type": "code",
   "execution_count": 189,
   "id": "4233baf4",
   "metadata": {},
   "outputs": [
    {
     "data": {
      "text/plain": [
       "count    3.250000e+02\n",
       "mean     6.565760e+05\n",
       "std      1.050316e+06\n",
       "min      1.000000e-02\n",
       "25%      4.000000e+03\n",
       "50%      2.152793e+05\n",
       "75%      1.077328e+06\n",
       "max      1.050000e+07\n",
       "Name: Total, dtype: float64"
      ]
     },
     "execution_count": 189,
     "metadata": {},
     "output_type": "execute_result"
    }
   ],
   "source": [
    "lic_obras_INEX[lic_obras_INEX['TAG'] == 1]['Total'].describe()"
   ]
  },
  {
   "cell_type": "code",
   "execution_count": 190,
   "id": "3e0a4a72",
   "metadata": {},
   "outputs": [
    {
     "data": {
      "text/plain": [
       "<AxesSubplot:>"
      ]
     },
     "execution_count": 190,
     "metadata": {},
     "output_type": "execute_result"
    },
    {
     "data": {
      "image/png": "[encoded data removed]",
      "text/plain": [
       "<Figure size 432x288 with 1 Axes>"
      ]
     },
     "metadata": {
      "needs_background": "light"
     },
     "output_type": "display_data"
    }
   ],
   "source": [
    "lic_obras_INEX[lic_obras_INEX['TAG'] == 1]['Total'].describe()"
   ]
  },
  {
   "cell_type": "code",
   "execution_count": 191,
   "id": "dc5f27ae",
   "metadata": {},
   "outputs": [],
   "source": [
    "lic_2018 = pd.concat([lic_obras_Pregao, lic_compras_Pregao, lic_obras_Dispensa, lic_compras_Dispensa, lic_obras_INEX, lic_compras_INEX])"
   ]
  },
  {
   "cell_type": "code",
   "execution_count": 192,
   "id": "ccf15bf4",
   "metadata": {},
   "outputs": [],
   "source": [
    "lic_2018.to_csv('lic_2018.csv')"
   ]
  },
  {
   "cell_type": "code",
   "execution_count": 194,
   "id": "3fc5c4e9",
   "metadata": {},
   "outputs": [
    {
     "data": {
      "text/plain": [
       "1    94941\n",
       "0     4675\n",
       "Name: TAG, dtype: int64"
      ]
     },
     "execution_count": 194,
     "metadata": {},
     "output_type": "execute_result"
    }
   ],
   "source": [
    "lic_2018['TAG'].value_counts()"
   ]
  },
  {
   "cell_type": "code",
   "execution_count": 195,
   "id": "92e2ace5",
   "metadata": {},
   "outputs": [
    {
     "data": {
      "text/html": [
       "<div>\n",
       "<style scoped>\n",
       "    .dataframe tbody tr th:only-of-type {\n",
       "        vertical-align: middle;\n",
       "    }\n",
       "\n",
       "    .dataframe tbody tr th {\n",
       "        vertical-align: top;\n",
       "    }\n",
       "\n",
       "    .dataframe thead tr th {\n",
       "        text-align: left;\n",
       "    }\n",
       "\n",
       "    .dataframe thead tr:last-of-type th {\n",
       "        text-align: right;\n",
       "    }\n",
       "</style>\n",
       "<table border=\"1\" class=\"dataframe\">\n",
       "  <thead>\n",
       "    <tr>\n",
       "      <th></th>\n",
       "      <th></th>\n",
       "      <th colspan=\"8\" halign=\"left\">Número Licitação</th>\n",
       "      <th colspan=\"2\" halign=\"left\">Código UG</th>\n",
       "      <th>...</th>\n",
       "      <th colspan=\"2\" halign=\"left\">Código Órgão</th>\n",
       "      <th colspan=\"8\" halign=\"left\">Total</th>\n",
       "    </tr>\n",
       "    <tr>\n",
       "      <th></th>\n",
       "      <th></th>\n",
       "      <th>count</th>\n",
       "      <th>mean</th>\n",
       "      <th>std</th>\n",
       "      <th>min</th>\n",
       "      <th>25%</th>\n",
       "      <th>50%</th>\n",
       "      <th>75%</th>\n",
       "      <th>max</th>\n",
       "      <th>count</th>\n",
       "      <th>mean</th>\n",
       "      <th>...</th>\n",
       "      <th>75%</th>\n",
       "      <th>max</th>\n",
       "      <th>count</th>\n",
       "      <th>mean</th>\n",
       "      <th>std</th>\n",
       "      <th>min</th>\n",
       "      <th>25%</th>\n",
       "      <th>50%</th>\n",
       "      <th>75%</th>\n",
       "      <th>max</th>\n",
       "    </tr>\n",
       "    <tr>\n",
       "      <th>Modalidade Compra</th>\n",
       "      <th>TAG</th>\n",
       "      <th></th>\n",
       "      <th></th>\n",
       "      <th></th>\n",
       "      <th></th>\n",
       "      <th></th>\n",
       "      <th></th>\n",
       "      <th></th>\n",
       "      <th></th>\n",
       "      <th></th>\n",
       "      <th></th>\n",
       "      <th></th>\n",
       "      <th></th>\n",
       "      <th></th>\n",
       "      <th></th>\n",
       "      <th></th>\n",
       "      <th></th>\n",
       "      <th></th>\n",
       "      <th></th>\n",
       "      <th></th>\n",
       "      <th></th>\n",
       "      <th></th>\n",
       "    </tr>\n",
       "  </thead>\n",
       "  <tbody>\n",
       "    <tr>\n",
       "      <th rowspan=\"2\" valign=\"top\">Dispensa de Licitação</th>\n",
       "      <th>0</th>\n",
       "      <td>4675.0</td>\n",
       "      <td>2.102356e+07</td>\n",
       "      <td>1.012548e+08</td>\n",
       "      <td>12017.0</td>\n",
       "      <td>312018.0</td>\n",
       "      <td>882018.0</td>\n",
       "      <td>3177018.0</td>\n",
       "      <td>952682018.0</td>\n",
       "      <td>4675.0</td>\n",
       "      <td>211707.753797</td>\n",
       "      <td>...</td>\n",
       "      <td>36000.0</td>\n",
       "      <td>97400.0</td>\n",
       "      <td>4675.0</td>\n",
       "      <td>2.501539e+06</td>\n",
       "      <td>3.363830e+07</td>\n",
       "      <td>17614.33</td>\n",
       "      <td>32268.665</td>\n",
       "      <td>87137.000</td>\n",
       "      <td>407110.3900</td>\n",
       "      <td>1.549004e+09</td>\n",
       "    </tr>\n",
       "    <tr>\n",
       "      <th>1</th>\n",
       "      <td>68846.0</td>\n",
       "      <td>2.045344e+07</td>\n",
       "      <td>1.014599e+08</td>\n",
       "      <td>12018.0</td>\n",
       "      <td>352018.0</td>\n",
       "      <td>742018.0</td>\n",
       "      <td>1682018.0</td>\n",
       "      <td>999992018.0</td>\n",
       "      <td>68846.0</td>\n",
       "      <td>215992.046495</td>\n",
       "      <td>...</td>\n",
       "      <td>52121.0</td>\n",
       "      <td>97400.0</td>\n",
       "      <td>68846.0</td>\n",
       "      <td>4.262419e+03</td>\n",
       "      <td>4.501085e+03</td>\n",
       "      <td>0.00</td>\n",
       "      <td>948.000</td>\n",
       "      <td>2540.165</td>\n",
       "      <td>6146.2600</td>\n",
       "      <td>3.300000e+04</td>\n",
       "    </tr>\n",
       "    <tr>\n",
       "      <th>Inexigibilidade de Licitação</th>\n",
       "      <th>1</th>\n",
       "      <td>14486.0</td>\n",
       "      <td>1.109816e+07</td>\n",
       "      <td>7.113205e+07</td>\n",
       "      <td>12016.0</td>\n",
       "      <td>122018.0</td>\n",
       "      <td>362018.0</td>\n",
       "      <td>1182018.0</td>\n",
       "      <td>999022018.0</td>\n",
       "      <td>14486.0</td>\n",
       "      <td>202947.451539</td>\n",
       "      <td>...</td>\n",
       "      <td>36201.0</td>\n",
       "      <td>95320.0</td>\n",
       "      <td>14486.0</td>\n",
       "      <td>5.384851e+05</td>\n",
       "      <td>8.488659e+06</td>\n",
       "      <td>0.01</td>\n",
       "      <td>1450.000</td>\n",
       "      <td>5000.000</td>\n",
       "      <td>29541.6075</td>\n",
       "      <td>5.987247e+08</td>\n",
       "    </tr>\n",
       "    <tr>\n",
       "      <th>Pregão</th>\n",
       "      <th>1</th>\n",
       "      <td>11609.0</td>\n",
       "      <td>7.732634e+06</td>\n",
       "      <td>4.603452e+07</td>\n",
       "      <td>12017.0</td>\n",
       "      <td>102018.0</td>\n",
       "      <td>272018.0</td>\n",
       "      <td>762018.0</td>\n",
       "      <td>900382018.0</td>\n",
       "      <td>11609.0</td>\n",
       "      <td>418747.893703</td>\n",
       "      <td>...</td>\n",
       "      <td>91081.0</td>\n",
       "      <td>97400.0</td>\n",
       "      <td>11609.0</td>\n",
       "      <td>7.773852e+05</td>\n",
       "      <td>5.966251e+06</td>\n",
       "      <td>0.00</td>\n",
       "      <td>13641.660</td>\n",
       "      <td>53030.940</td>\n",
       "      <td>224397.6000</td>\n",
       "      <td>2.793588e+08</td>\n",
       "    </tr>\n",
       "  </tbody>\n",
       "</table>\n",
       "<p>4 rows × 48 columns</p>\n",
       "</div>"
      ],
      "text/plain": [
       "                                 Número Licitação                              \\\n",
       "                                            count          mean           std   \n",
       "Modalidade Compra            TAG                                                \n",
       "Dispensa de Licitação        0             4675.0  2.102356e+07  1.012548e+08   \n",
       "                             1            68846.0  2.045344e+07  1.014599e+08   \n",
       "Inexigibilidade de Licitação 1            14486.0  1.109816e+07  7.113205e+07   \n",
       "Pregão                       1            11609.0  7.732634e+06  4.603452e+07   \n",
       "\n",
       "                                                                          \\\n",
       "                                      min       25%       50%        75%   \n",
       "Modalidade Compra            TAG                                           \n",
       "Dispensa de Licitação        0    12017.0  312018.0  882018.0  3177018.0   \n",
       "                             1    12018.0  352018.0  742018.0  1682018.0   \n",
       "Inexigibilidade de Licitação 1    12016.0  122018.0  362018.0  1182018.0   \n",
       "Pregão                       1    12017.0  102018.0  272018.0   762018.0   \n",
       "\n",
       "                                              Código UG                 ...  \\\n",
       "                                          max     count           mean  ...   \n",
       "Modalidade Compra            TAG                                        ...   \n",
       "Dispensa de Licitação        0    952682018.0    4675.0  211707.753797  ...   \n",
       "                             1    999992018.0   68846.0  215992.046495  ...   \n",
       "Inexigibilidade de Licitação 1    999022018.0   14486.0  202947.451539  ...   \n",
       "Pregão                       1    900382018.0   11609.0  418747.893703  ...   \n",
       "\n",
       "                                 Código Órgão             Total                \\\n",
       "                                          75%      max    count          mean   \n",
       "Modalidade Compra            TAG                                                \n",
       "Dispensa de Licitação        0        36000.0  97400.0   4675.0  2.501539e+06   \n",
       "                             1        52121.0  97400.0  68846.0  4.262419e+03   \n",
       "Inexigibilidade de Licitação 1        36201.0  95320.0  14486.0  5.384851e+05   \n",
       "Pregão                       1        91081.0  97400.0  11609.0  7.773852e+05   \n",
       "\n",
       "                                                                     \\\n",
       "                                           std       min        25%   \n",
       "Modalidade Compra            TAG                                      \n",
       "Dispensa de Licitação        0    3.363830e+07  17614.33  32268.665   \n",
       "                             1    4.501085e+03      0.00    948.000   \n",
       "Inexigibilidade de Licitação 1    8.488659e+06      0.01   1450.000   \n",
       "Pregão                       1    5.966251e+06      0.00  13641.660   \n",
       "\n",
       "                                                                        \n",
       "                                        50%          75%           max  \n",
       "Modalidade Compra            TAG                                        \n",
       "Dispensa de Licitação        0    87137.000  407110.3900  1.549004e+09  \n",
       "                             1     2540.165    6146.2600  3.300000e+04  \n",
       "Inexigibilidade de Licitação 1     5000.000   29541.6075  5.987247e+08  \n",
       "Pregão                       1    53030.940  224397.6000  2.793588e+08  \n",
       "\n",
       "[4 rows x 48 columns]"
      ]
     },
     "execution_count": 195,
     "metadata": {},
     "output_type": "execute_result"
    }
   ],
   "source": [
    "lic_2018.groupby(['Modalidade Compra','TAG']).describe()"
   ]
  },
  {
   "cell_type": "code",
   "execution_count": null,
   "id": "1d5180c8",
   "metadata": {},
   "outputs": [],
   "source": []
  }
 ],
 "metadata": {
  "kernelspec": {
   "display_name": "Python 3 (ipykernel)",
   "language": "python",
   "name": "python3"
  },
  "language_info": {
   "codemirror_mode": {
    "name": "ipython",
    "version": 3
   },
   "file_extension": ".py",
   "mimetype": "text/x-python",
   "name": "python",
   "nbconvert_exporter": "python",
   "pygments_lexer": "ipython3",
   "version": "3.9.7"
  }
 },
 "nbformat": 4,
 "nbformat_minor": 5
}
