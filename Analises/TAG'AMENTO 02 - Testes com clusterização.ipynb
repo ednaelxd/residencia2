{
 "cells": [
  {
   "cell_type": "code",
   "execution_count": 22,
   "id": "9f3451a5",
   "metadata": {},
   "outputs": [],
   "source": [
    "import pandas as pd\n",
    "import numpy as np"
   ]
  },
  {
   "cell_type": "markdown",
   "id": "5457ffa0",
   "metadata": {},
   "source": [
    "### Importação dos dados - Base de licitações gerada no arquivo anterior"
   ]
  },
  {
   "cell_type": "code",
   "execution_count": 23,
   "id": "2092bf42",
   "metadata": {},
   "outputs": [],
   "source": [
    "lic = pd.read_csv(r\"C:\\Users\\efvs\\Documents\\Residencia Ednael\\Repositórios\\residencia2\\Analises\\lic2.csv\")"
   ]
  },
  {
   "cell_type": "code",
   "execution_count": 24,
   "id": "1029e5a3",
   "metadata": {},
   "outputs": [
    {
     "data": {
      "text/html": [
       "<div>\n",
       "<style scoped>\n",
       "    .dataframe tbody tr th:only-of-type {\n",
       "        vertical-align: middle;\n",
       "    }\n",
       "\n",
       "    .dataframe tbody tr th {\n",
       "        vertical-align: top;\n",
       "    }\n",
       "\n",
       "    .dataframe thead th {\n",
       "        text-align: right;\n",
       "    }\n",
       "</style>\n",
       "<table border=\"1\" class=\"dataframe\">\n",
       "  <thead>\n",
       "    <tr style=\"text-align: right;\">\n",
       "      <th></th>\n",
       "      <th>Unnamed: 0</th>\n",
       "      <th>Número Licitação</th>\n",
       "      <th>Código UG</th>\n",
       "      <th>Nome UG</th>\n",
       "      <th>Código Modalidade Compra</th>\n",
       "      <th>Modalidade Compra</th>\n",
       "      <th>Número Processo</th>\n",
       "      <th>Objeto</th>\n",
       "      <th>Situação Licitação</th>\n",
       "      <th>Código Órgão Superior</th>\n",
       "      <th>Nome Órgão Superior</th>\n",
       "      <th>Código Órgão</th>\n",
       "      <th>Nome Órgão</th>\n",
       "      <th>Município</th>\n",
       "      <th>Data Resultado Compra</th>\n",
       "      <th>Data Abertura</th>\n",
       "      <th>total</th>\n",
       "      <th>tipo</th>\n",
       "      <th>TAG</th>\n",
       "    </tr>\n",
       "  </thead>\n",
       "  <tbody>\n",
       "    <tr>\n",
       "      <th>0</th>\n",
       "      <td>1</td>\n",
       "      <td>12020</td>\n",
       "      <td>154699</td>\n",
       "      <td>INST. ...</td>\n",
       "      <td>-99</td>\n",
       "      <td>Pregão...</td>\n",
       "      <td>234110...</td>\n",
       "      <td>Objeto...</td>\n",
       "      <td>Evento...</td>\n",
       "      <td>26000</td>\n",
       "      <td>Minist...</td>\n",
       "      <td>26432</td>\n",
       "      <td>Instit...</td>\n",
       "      <td>LONDRINA</td>\n",
       "      <td>22/01/...</td>\n",
       "      <td>14/12/...</td>\n",
       "      <td>41998.0...</td>\n",
       "      <td>OBRAS</td>\n",
       "      <td>0</td>\n",
       "    </tr>\n",
       "    <tr>\n",
       "      <th>1</th>\n",
       "      <td>103</td>\n",
       "      <td>52020</td>\n",
       "      <td>155821</td>\n",
       "      <td>INST.F...</td>\n",
       "      <td>-99</td>\n",
       "      <td>Pregão...</td>\n",
       "      <td>237902...</td>\n",
       "      <td>Objeto...</td>\n",
       "      <td>Evento...</td>\n",
       "      <td>26000</td>\n",
       "      <td>Minist...</td>\n",
       "      <td>26404</td>\n",
       "      <td>Instit...</td>\n",
       "      <td>SERRINHA</td>\n",
       "      <td>15/01/...</td>\n",
       "      <td>05/01/...</td>\n",
       "      <td>7969.80000</td>\n",
       "      <td>OBRAS</td>\n",
       "      <td>0</td>\n",
       "    </tr>\n",
       "    <tr>\n",
       "      <th>2</th>\n",
       "      <td>108</td>\n",
       "      <td>52020</td>\n",
       "      <td>160148</td>\n",
       "      <td>BASE D...</td>\n",
       "      <td>-99</td>\n",
       "      <td>Pregão...</td>\n",
       "      <td>652630...</td>\n",
       "      <td>Objeto...</td>\n",
       "      <td>Evento...</td>\n",
       "      <td>52000</td>\n",
       "      <td>Minist...</td>\n",
       "      <td>52121</td>\n",
       "      <td>Comand...</td>\n",
       "      <td>BRASILIA</td>\n",
       "      <td>15/01/...</td>\n",
       "      <td>11/01/...</td>\n",
       "      <td>53640.9...</td>\n",
       "      <td>OBRAS</td>\n",
       "      <td>0</td>\n",
       "    </tr>\n",
       "    <tr>\n",
       "      <th>3</th>\n",
       "      <td>109</td>\n",
       "      <td>52020</td>\n",
       "      <td>160199</td>\n",
       "      <td>HOSPIT...</td>\n",
       "      <td>-99</td>\n",
       "      <td>Pregão...</td>\n",
       "      <td>645830...</td>\n",
       "      <td>Objeto...</td>\n",
       "      <td>Evento...</td>\n",
       "      <td>52000</td>\n",
       "      <td>Minist...</td>\n",
       "      <td>52121</td>\n",
       "      <td>Comand...</td>\n",
       "      <td>RECIFE</td>\n",
       "      <td>25/01/...</td>\n",
       "      <td>13/10/...</td>\n",
       "      <td>13490.0...</td>\n",
       "      <td>OBRAS</td>\n",
       "      <td>0</td>\n",
       "    </tr>\n",
       "    <tr>\n",
       "      <th>4</th>\n",
       "      <td>128</td>\n",
       "      <td>62020</td>\n",
       "      <td>160082</td>\n",
       "      <td>PREFEI...</td>\n",
       "      <td>-99</td>\n",
       "      <td>Pregão...</td>\n",
       "      <td>644820...</td>\n",
       "      <td>Objeto...</td>\n",
       "      <td>Evento...</td>\n",
       "      <td>52000</td>\n",
       "      <td>Minist...</td>\n",
       "      <td>52121</td>\n",
       "      <td>Comand...</td>\n",
       "      <td>BRASILIA</td>\n",
       "      <td>13/01/...</td>\n",
       "      <td>05/01/...</td>\n",
       "      <td>803000....</td>\n",
       "      <td>OBRAS</td>\n",
       "      <td>0</td>\n",
       "    </tr>\n",
       "    <tr>\n",
       "      <th>...</th>\n",
       "      <td>...</td>\n",
       "      <td>...</td>\n",
       "      <td>...</td>\n",
       "      <td>...</td>\n",
       "      <td>...</td>\n",
       "      <td>...</td>\n",
       "      <td>...</td>\n",
       "      <td>...</td>\n",
       "      <td>...</td>\n",
       "      <td>...</td>\n",
       "      <td>...</td>\n",
       "      <td>...</td>\n",
       "      <td>...</td>\n",
       "      <td>...</td>\n",
       "      <td>...</td>\n",
       "      <td>...</td>\n",
       "      <td>...</td>\n",
       "      <td>...</td>\n",
       "      <td>...</td>\n",
       "    </tr>\n",
       "    <tr>\n",
       "      <th>4009</th>\n",
       "      <td>630</td>\n",
       "      <td>604322020</td>\n",
       "      <td>120628</td>\n",
       "      <td>BASE A...</td>\n",
       "      <td>7</td>\n",
       "      <td>Inexig...</td>\n",
       "      <td>672150...</td>\n",
       "      <td>Objeto...</td>\n",
       "      <td>Publicado</td>\n",
       "      <td>52000</td>\n",
       "      <td>Minist...</td>\n",
       "      <td>52111</td>\n",
       "      <td>Comand...</td>\n",
       "      <td>BELEM</td>\n",
       "      <td>28/01/...</td>\n",
       "      <td>NaN</td>\n",
       "      <td>100000....</td>\n",
       "      <td>COMPRA...</td>\n",
       "      <td>1</td>\n",
       "    </tr>\n",
       "    <tr>\n",
       "      <th>4010</th>\n",
       "      <td>631</td>\n",
       "      <td>604722020</td>\n",
       "      <td>120628</td>\n",
       "      <td>BASE A...</td>\n",
       "      <td>7</td>\n",
       "      <td>Inexig...</td>\n",
       "      <td>672150...</td>\n",
       "      <td>Objeto...</td>\n",
       "      <td>Publicado</td>\n",
       "      <td>52000</td>\n",
       "      <td>Minist...</td>\n",
       "      <td>52111</td>\n",
       "      <td>Comand...</td>\n",
       "      <td>BELEM</td>\n",
       "      <td>28/01/...</td>\n",
       "      <td>NaN</td>\n",
       "      <td>90000.0...</td>\n",
       "      <td>COMPRA...</td>\n",
       "      <td>1</td>\n",
       "    </tr>\n",
       "    <tr>\n",
       "      <th>4011</th>\n",
       "      <td>632</td>\n",
       "      <td>605222020</td>\n",
       "      <td>120628</td>\n",
       "      <td>BASE A...</td>\n",
       "      <td>7</td>\n",
       "      <td>Inexig...</td>\n",
       "      <td>672150...</td>\n",
       "      <td>Objeto...</td>\n",
       "      <td>Publicado</td>\n",
       "      <td>52000</td>\n",
       "      <td>Minist...</td>\n",
       "      <td>52111</td>\n",
       "      <td>Comand...</td>\n",
       "      <td>BELEM</td>\n",
       "      <td>28/01/...</td>\n",
       "      <td>NaN</td>\n",
       "      <td>200000....</td>\n",
       "      <td>COMPRA...</td>\n",
       "      <td>1</td>\n",
       "    </tr>\n",
       "    <tr>\n",
       "      <th>4012</th>\n",
       "      <td>633</td>\n",
       "      <td>605422020</td>\n",
       "      <td>120628</td>\n",
       "      <td>BASE A...</td>\n",
       "      <td>7</td>\n",
       "      <td>Inexig...</td>\n",
       "      <td>672150...</td>\n",
       "      <td>Objeto...</td>\n",
       "      <td>Publicado</td>\n",
       "      <td>52000</td>\n",
       "      <td>Minist...</td>\n",
       "      <td>52111</td>\n",
       "      <td>Comand...</td>\n",
       "      <td>BELEM</td>\n",
       "      <td>28/01/...</td>\n",
       "      <td>NaN</td>\n",
       "      <td>400000....</td>\n",
       "      <td>COMPRA...</td>\n",
       "      <td>1</td>\n",
       "    </tr>\n",
       "    <tr>\n",
       "      <th>4013</th>\n",
       "      <td>634</td>\n",
       "      <td>607022020</td>\n",
       "      <td>120628</td>\n",
       "      <td>BASE A...</td>\n",
       "      <td>7</td>\n",
       "      <td>Inexig...</td>\n",
       "      <td>672150...</td>\n",
       "      <td>Objeto...</td>\n",
       "      <td>Publicado</td>\n",
       "      <td>52000</td>\n",
       "      <td>Minist...</td>\n",
       "      <td>52111</td>\n",
       "      <td>Comand...</td>\n",
       "      <td>BELEM</td>\n",
       "      <td>28/01/...</td>\n",
       "      <td>NaN</td>\n",
       "      <td>100000....</td>\n",
       "      <td>COMPRA...</td>\n",
       "      <td>1</td>\n",
       "    </tr>\n",
       "  </tbody>\n",
       "</table>\n",
       "<p>4014 rows × 19 columns</p>\n",
       "</div>"
      ],
      "text/plain": [
       "      Unnamed: 0  Número Licitação  Código UG    Nome UG  \\\n",
       "0             1       12020            154699  INST. ...   \n",
       "1           103       52020            155821  INST.F...   \n",
       "2           108       52020            160148  BASE D...   \n",
       "3           109       52020            160199  HOSPIT...   \n",
       "4           128       62020            160082  PREFEI...   \n",
       "...         ...         ...               ...        ...   \n",
       "4009        630   604322020            120628  BASE A...   \n",
       "4010        631   604722020            120628  BASE A...   \n",
       "4011        632   605222020            120628  BASE A...   \n",
       "4012        633   605422020            120628  BASE A...   \n",
       "4013        634   607022020            120628  BASE A...   \n",
       "\n",
       "      Código Modalidade Compra Modalidade Compra Número Processo     Objeto  \\\n",
       "0           -99                 Pregão...         234110...       Objeto...   \n",
       "1           -99                 Pregão...         237902...       Objeto...   \n",
       "2           -99                 Pregão...         652630...       Objeto...   \n",
       "3           -99                 Pregão...         645830...       Objeto...   \n",
       "4           -99                 Pregão...         644820...       Objeto...   \n",
       "...         ...                       ...               ...             ...   \n",
       "4009          7                 Inexig...         672150...       Objeto...   \n",
       "4010          7                 Inexig...         672150...       Objeto...   \n",
       "4011          7                 Inexig...         672150...       Objeto...   \n",
       "4012          7                 Inexig...         672150...       Objeto...   \n",
       "4013          7                 Inexig...         672150...       Objeto...   \n",
       "\n",
       "     Situação Licitação  Código Órgão Superior Nome Órgão Superior  \\\n",
       "0     Evento...              26000              Minist...            \n",
       "1     Evento...              26000              Minist...            \n",
       "2     Evento...              52000              Minist...            \n",
       "3     Evento...              52000              Minist...            \n",
       "4     Evento...              52000              Minist...            \n",
       "...         ...                ...                    ...            \n",
       "4009  Publicado              52000              Minist...            \n",
       "4010  Publicado              52000              Minist...            \n",
       "4011  Publicado              52000              Minist...            \n",
       "4012  Publicado              52000              Minist...            \n",
       "4013  Publicado              52000              Minist...            \n",
       "\n",
       "      Código Órgão Nome Órgão Município Data Resultado Compra Data Abertura  \\\n",
       "0         26432     Instit...  LONDRINA  22/01/...             14/12/...      \n",
       "1         26404     Instit...  SERRINHA  15/01/...             05/01/...      \n",
       "2         52121     Comand...  BRASILIA  15/01/...             11/01/...      \n",
       "3         52121     Comand...    RECIFE  25/01/...             13/10/...      \n",
       "4         52121     Comand...  BRASILIA  13/01/...             05/01/...      \n",
       "...         ...           ...       ...        ...                   ...      \n",
       "4009      52111     Comand...     BELEM  28/01/...                   NaN      \n",
       "4010      52111     Comand...     BELEM  28/01/...                   NaN      \n",
       "4011      52111     Comand...     BELEM  28/01/...                   NaN      \n",
       "4012      52111     Comand...     BELEM  28/01/...                   NaN      \n",
       "4013      52111     Comand...     BELEM  28/01/...                   NaN      \n",
       "\n",
       "          total       tipo  TAG  \n",
       "0    41998.0...      OBRAS    0  \n",
       "1    7969.80000      OBRAS    0  \n",
       "2    53640.9...      OBRAS    0  \n",
       "3    13490.0...      OBRAS    0  \n",
       "4    803000....      OBRAS    0  \n",
       "...         ...        ...  ...  \n",
       "4009 100000....  COMPRA...    1  \n",
       "4010 90000.0...  COMPRA...    1  \n",
       "4011 200000....  COMPRA...    1  \n",
       "4012 400000....  COMPRA...    1  \n",
       "4013 100000....  COMPRA...    1  \n",
       "\n",
       "[4014 rows x 19 columns]"
      ]
     },
     "execution_count": 24,
     "metadata": {},
     "output_type": "execute_result"
    }
   ],
   "source": [
    "lic"
   ]
  },
  {
   "cell_type": "code",
   "execution_count": 25,
   "id": "4834fc10",
   "metadata": {},
   "outputs": [],
   "source": [
    "pd.options.display.max_colwidth = 10"
   ]
  },
  {
   "cell_type": "code",
   "execution_count": 26,
   "id": "91fb0c02",
   "metadata": {},
   "outputs": [],
   "source": [
    "pd.set_option('display.float_format', lambda x: '%.5f' % x)"
   ]
  },
  {
   "cell_type": "code",
   "execution_count": 27,
   "id": "0c06fefe",
   "metadata": {},
   "outputs": [
    {
     "data": {
      "text/html": [
       "<div>\n",
       "<style scoped>\n",
       "    .dataframe tbody tr th:only-of-type {\n",
       "        vertical-align: middle;\n",
       "    }\n",
       "\n",
       "    .dataframe tbody tr th {\n",
       "        vertical-align: top;\n",
       "    }\n",
       "\n",
       "    .dataframe thead tr th {\n",
       "        text-align: left;\n",
       "    }\n",
       "\n",
       "    .dataframe thead tr:last-of-type th {\n",
       "        text-align: right;\n",
       "    }\n",
       "</style>\n",
       "<table border=\"1\" class=\"dataframe\">\n",
       "  <thead>\n",
       "    <tr>\n",
       "      <th></th>\n",
       "      <th colspan=\"4\" halign=\"left\">total</th>\n",
       "    </tr>\n",
       "    <tr>\n",
       "      <th></th>\n",
       "      <th>mean</th>\n",
       "      <th>min</th>\n",
       "      <th>max</th>\n",
       "      <th>std</th>\n",
       "    </tr>\n",
       "    <tr>\n",
       "      <th>Modalidade Compra</th>\n",
       "      <th></th>\n",
       "      <th></th>\n",
       "      <th></th>\n",
       "      <th></th>\n",
       "    </tr>\n",
       "  </thead>\n",
       "  <tbody>\n",
       "    <tr>\n",
       "      <th>Dispensa de Licitação</th>\n",
       "      <td>259632....</td>\n",
       "      <td>0.00000</td>\n",
       "      <td>5722678...</td>\n",
       "      <td>2419357...</td>\n",
       "    </tr>\n",
       "    <tr>\n",
       "      <th>Inexigibilidade de Licitação</th>\n",
       "      <td>1364805...</td>\n",
       "      <td>0.01000</td>\n",
       "      <td>3418717...</td>\n",
       "      <td>1420374...</td>\n",
       "    </tr>\n",
       "    <tr>\n",
       "      <th>Pregão</th>\n",
       "      <td>1556603...</td>\n",
       "      <td>0.00000</td>\n",
       "      <td>1170082...</td>\n",
       "      <td>6379831...</td>\n",
       "    </tr>\n",
       "    <tr>\n",
       "      <th>Pregão - Registro de Preço</th>\n",
       "      <td>436072....</td>\n",
       "      <td>0.00000</td>\n",
       "      <td>1175381...</td>\n",
       "      <td>3913877...</td>\n",
       "    </tr>\n",
       "  </tbody>\n",
       "</table>\n",
       "</div>"
      ],
      "text/plain": [
       "                total                              \n",
       "                 mean     min        max        std\n",
       "Modalid...                                         \n",
       "Dispens... 259632.... 0.00000 5722678... 2419357...\n",
       "Inexigi... 1364805... 0.01000 3418717... 1420374...\n",
       "Pregão     1556603... 0.00000 1170082... 6379831...\n",
       "Pregão ... 436072.... 0.00000 1175381... 3913877..."
      ]
     },
     "execution_count": 27,
     "metadata": {},
     "output_type": "execute_result"
    }
   ],
   "source": [
    "lic.groupby(['Modalidade Compra']).agg({'total':['mean','min','max','std']})"
   ]
  },
  {
   "cell_type": "code",
   "execution_count": 28,
   "id": "8980319c",
   "metadata": {},
   "outputs": [
    {
     "data": {
      "text/plain": [
       "Dispensa de Licitação           1372\n",
       "Pregão - Registro de Preço      1115\n",
       "Pregão                           892\n",
       "Inexigibilidade de Licitação     635\n",
       "Name: Modalidade Compra, dtype: int64"
      ]
     },
     "execution_count": 28,
     "metadata": {},
     "output_type": "execute_result"
    }
   ],
   "source": [
    "lic.iloc[:,5].value_counts()"
   ]
  },
  {
   "cell_type": "code",
   "execution_count": 29,
   "id": "d02265c0",
   "metadata": {},
   "outputs": [],
   "source": [
    "# framework baseado em regras (alterável)\n",
    "# yml = json melhorado (pyyml)\n",
    "\n",
    "# Produzir ao fim uma TAG de suspeitos de desvio em licitações\n",
    "# detecção de anomalias ao longo do tempo\n",
    "\n",
    "# Modificar essa regra, para que seja baseada em algo já citado na literatura\n",
    "\n",
    "def categorizeDispensa(x):\n",
    "    #Inicialização das variáveis ------------------------------------\n",
    "    classif=[] #Variável que salva a classificação da divisão\n",
    "    div=[] #variável que salva o valor bruto da divisão pelos limites\n",
    "    #\n",
    "    teto_disp_o = 33000\n",
    "    teto_RP_o = 3300000\n",
    "    teto_Preg_o = 1\n",
    "    teto_INEX_o = 1\n",
    "    #\n",
    "    teto_disp_c = 17600\n",
    "    teto_RP_c = 1\n",
    "    teto_Preg_c = 1\n",
    "    teto_INEX_c = 1\n",
    "    #----------------------------------------------------------------\n",
    "    #Regras para licitações de obras\n",
    "    if x.iloc[0,-2]=='OBRAS':\n",
    "\n",
    "        '''if x.iloc[0,5]=='Dispensa de Licitação':\n",
    "            div = teto_disp_o/x.iloc[0,-3]\n",
    "            classif = ('O valor é {}% do teto'.format(div))'''\n",
    "            \n",
    "        if x.iloc[0,5]=='Pregão - Registro de Preço':\n",
    "            div = x.iloc[0,-3]/teto_RP_o\n",
    "            classif = ('O valor é {}% do teto ENTROU AQUI'.format(div))\n",
    "            \n",
    "        if x.iloc[0,5]=='Pregão':\n",
    "            div = x.iloc[0,-3]/1\n",
    "            classif = ('O valor é {}% do teto'.format(div))\n",
    "            \n",
    "        if x.iloc[0,5]=='Inexigibilidade de Licitação':\n",
    "            div = x.iloc[0,-3]/1\n",
    "            classif = ('O valor é {}% do teto'.format(div))\n",
    "            \n",
    "    #Regras para licitações de compras e serviços\n",
    "    else:\n",
    "\n",
    "        if x.iloc[0,5]=='Dispensa de Licitação':\n",
    "            div = x.iloc[0,-3]/teto_disp_c\n",
    "            classif = ('O valor é {}% do teto'.format(div))\n",
    "            \n",
    "        if x.iloc[0,5]=='Pregão - Registro de Preço':\n",
    "            div = x.iloc[0,-3]/1\n",
    "            classif = ('O valor é {}% do teto'.format(div))\n",
    "            \n",
    "        if x.iloc[0,5]=='Pregão':\n",
    "            div = x.iloc[0,-3]/1\n",
    "            classif = ('O valor é {}% do teto'.format(div))\n",
    "            \n",
    "        if x.iloc[0,5]=='Inexigibilidade de Licitação':\n",
    "            div = x.iloc[0,-3]/1\n",
    "            classif = ('O valor é {}% do teto'.format(div))\n",
    "            \n",
    "    return([div,classif])"
   ]
  },
  {
   "cell_type": "markdown",
   "id": "7727eee5",
   "metadata": {},
   "source": [
    "# Teste de Modelos\n",
    "\n",
    "- Categorização por diferença percentual do teto da classe"
   ]
  },
  {
   "cell_type": "code",
   "execution_count": 32,
   "id": "c68ae565",
   "metadata": {},
   "outputs": [],
   "source": [
    "lic['div_piso'] = 0"
   ]
  },
  {
   "cell_type": "code",
   "execution_count": 33,
   "id": "52250cbb",
   "metadata": {},
   "outputs": [
    {
     "name": "stderr",
     "output_type": "stream",
     "text": [
      "C:\\Users\\efvs\\AppData\\Local\\Temp/ipykernel_18204/2704201114.py:7: SettingWithCopyWarning: \n",
      "A value is trying to be set on a copy of a slice from a DataFrame\n",
      "\n",
      "See the caveats in the documentation: https://pandas.pydata.org/pandas-docs/stable/user_guide/indexing.html#returning-a-view-versus-a-copy\n",
      "  lic['div_piso'][linha]='n_se_aplica'\n",
      "C:\\Users\\efvs\\miniconda3\\envs\\rsd\\lib\\site-packages\\pandas\\core\\indexing.py:1732: SettingWithCopyWarning: \n",
      "A value is trying to be set on a copy of a slice from a DataFrame\n",
      "\n",
      "See the caveats in the documentation: https://pandas.pydata.org/pandas-docs/stable/user_guide/indexing.html#returning-a-view-versus-a-copy\n",
      "  self._setitem_single_block(indexer, value, name)\n"
     ]
    }
   ],
   "source": [
    "#criar função disso, para jogar num framework só\n",
    "for linha in range(len(lic['Modalidade Compra'])):\n",
    "    if lic['TAG'][linha]==1:\n",
    "        if (lic['Modalidade Compra'][linha] == 'Pregão - Registro de Preço'):\n",
    "            lic['div_piso'][linha]=lic['total'][linha]/3300000\n",
    "    else:\n",
    "        lic['div_piso'][linha]='n_se_aplica'"
   ]
  },
  {
   "cell_type": "code",
   "execution_count": 34,
   "id": "a5b48ff4",
   "metadata": {
    "scrolled": true
   },
   "outputs": [
    {
     "data": {
      "text/html": [
       "<div>\n",
       "<style scoped>\n",
       "    .dataframe tbody tr th:only-of-type {\n",
       "        vertical-align: middle;\n",
       "    }\n",
       "\n",
       "    .dataframe tbody tr th {\n",
       "        vertical-align: top;\n",
       "    }\n",
       "\n",
       "    .dataframe thead th {\n",
       "        text-align: right;\n",
       "    }\n",
       "</style>\n",
       "<table border=\"1\" class=\"dataframe\">\n",
       "  <thead>\n",
       "    <tr style=\"text-align: right;\">\n",
       "      <th></th>\n",
       "      <th>Unnamed: 0</th>\n",
       "      <th>Número Licitação</th>\n",
       "      <th>Código UG</th>\n",
       "      <th>Nome UG</th>\n",
       "      <th>Código Modalidade Compra</th>\n",
       "      <th>Modalidade Compra</th>\n",
       "      <th>Número Processo</th>\n",
       "      <th>Objeto</th>\n",
       "      <th>Situação Licitação</th>\n",
       "      <th>Código Órgão Superior</th>\n",
       "      <th>Nome Órgão Superior</th>\n",
       "      <th>Código Órgão</th>\n",
       "      <th>Nome Órgão</th>\n",
       "      <th>Município</th>\n",
       "      <th>Data Resultado Compra</th>\n",
       "      <th>Data Abertura</th>\n",
       "      <th>total</th>\n",
       "      <th>tipo</th>\n",
       "      <th>TAG</th>\n",
       "      <th>div_piso</th>\n",
       "    </tr>\n",
       "  </thead>\n",
       "  <tbody>\n",
       "    <tr>\n",
       "      <th>0</th>\n",
       "      <td>1</td>\n",
       "      <td>12020</td>\n",
       "      <td>154699</td>\n",
       "      <td>INST. ...</td>\n",
       "      <td>-99</td>\n",
       "      <td>Pregão...</td>\n",
       "      <td>234110...</td>\n",
       "      <td>Objeto...</td>\n",
       "      <td>Evento...</td>\n",
       "      <td>26000</td>\n",
       "      <td>Minist...</td>\n",
       "      <td>26432</td>\n",
       "      <td>Instit...</td>\n",
       "      <td>LONDRINA</td>\n",
       "      <td>22/01/...</td>\n",
       "      <td>14/12/...</td>\n",
       "      <td>41998.0...</td>\n",
       "      <td>OBRAS</td>\n",
       "      <td>0</td>\n",
       "      <td>n_se_a...</td>\n",
       "    </tr>\n",
       "    <tr>\n",
       "      <th>1</th>\n",
       "      <td>103</td>\n",
       "      <td>52020</td>\n",
       "      <td>155821</td>\n",
       "      <td>INST.F...</td>\n",
       "      <td>-99</td>\n",
       "      <td>Pregão...</td>\n",
       "      <td>237902...</td>\n",
       "      <td>Objeto...</td>\n",
       "      <td>Evento...</td>\n",
       "      <td>26000</td>\n",
       "      <td>Minist...</td>\n",
       "      <td>26404</td>\n",
       "      <td>Instit...</td>\n",
       "      <td>SERRINHA</td>\n",
       "      <td>15/01/...</td>\n",
       "      <td>05/01/...</td>\n",
       "      <td>7969.80000</td>\n",
       "      <td>OBRAS</td>\n",
       "      <td>0</td>\n",
       "      <td>n_se_a...</td>\n",
       "    </tr>\n",
       "    <tr>\n",
       "      <th>2</th>\n",
       "      <td>108</td>\n",
       "      <td>52020</td>\n",
       "      <td>160148</td>\n",
       "      <td>BASE D...</td>\n",
       "      <td>-99</td>\n",
       "      <td>Pregão...</td>\n",
       "      <td>652630...</td>\n",
       "      <td>Objeto...</td>\n",
       "      <td>Evento...</td>\n",
       "      <td>52000</td>\n",
       "      <td>Minist...</td>\n",
       "      <td>52121</td>\n",
       "      <td>Comand...</td>\n",
       "      <td>BRASILIA</td>\n",
       "      <td>15/01/...</td>\n",
       "      <td>11/01/...</td>\n",
       "      <td>53640.9...</td>\n",
       "      <td>OBRAS</td>\n",
       "      <td>0</td>\n",
       "      <td>n_se_a...</td>\n",
       "    </tr>\n",
       "    <tr>\n",
       "      <th>3</th>\n",
       "      <td>109</td>\n",
       "      <td>52020</td>\n",
       "      <td>160199</td>\n",
       "      <td>HOSPIT...</td>\n",
       "      <td>-99</td>\n",
       "      <td>Pregão...</td>\n",
       "      <td>645830...</td>\n",
       "      <td>Objeto...</td>\n",
       "      <td>Evento...</td>\n",
       "      <td>52000</td>\n",
       "      <td>Minist...</td>\n",
       "      <td>52121</td>\n",
       "      <td>Comand...</td>\n",
       "      <td>RECIFE</td>\n",
       "      <td>25/01/...</td>\n",
       "      <td>13/10/...</td>\n",
       "      <td>13490.0...</td>\n",
       "      <td>OBRAS</td>\n",
       "      <td>0</td>\n",
       "      <td>n_se_a...</td>\n",
       "    </tr>\n",
       "    <tr>\n",
       "      <th>4</th>\n",
       "      <td>128</td>\n",
       "      <td>62020</td>\n",
       "      <td>160082</td>\n",
       "      <td>PREFEI...</td>\n",
       "      <td>-99</td>\n",
       "      <td>Pregão...</td>\n",
       "      <td>644820...</td>\n",
       "      <td>Objeto...</td>\n",
       "      <td>Evento...</td>\n",
       "      <td>52000</td>\n",
       "      <td>Minist...</td>\n",
       "      <td>52121</td>\n",
       "      <td>Comand...</td>\n",
       "      <td>BRASILIA</td>\n",
       "      <td>13/01/...</td>\n",
       "      <td>05/01/...</td>\n",
       "      <td>803000....</td>\n",
       "      <td>OBRAS</td>\n",
       "      <td>0</td>\n",
       "      <td>n_se_a...</td>\n",
       "    </tr>\n",
       "  </tbody>\n",
       "</table>\n",
       "</div>"
      ],
      "text/plain": [
       "   Unnamed: 0  Número Licitação  Código UG    Nome UG  \\\n",
       "0          1       12020            154699  INST. ...   \n",
       "1        103       52020            155821  INST.F...   \n",
       "2        108       52020            160148  BASE D...   \n",
       "3        109       52020            160199  HOSPIT...   \n",
       "4        128       62020            160082  PREFEI...   \n",
       "\n",
       "   Código Modalidade Compra Modalidade Compra Número Processo     Objeto  \\\n",
       "0        -99                 Pregão...         234110...       Objeto...   \n",
       "1        -99                 Pregão...         237902...       Objeto...   \n",
       "2        -99                 Pregão...         652630...       Objeto...   \n",
       "3        -99                 Pregão...         645830...       Objeto...   \n",
       "4        -99                 Pregão...         644820...       Objeto...   \n",
       "\n",
       "  Situação Licitação  Código Órgão Superior Nome Órgão Superior  Código Órgão  \\\n",
       "0  Evento...              26000              Minist...               26432      \n",
       "1  Evento...              26000              Minist...               26404      \n",
       "2  Evento...              52000              Minist...               52121      \n",
       "3  Evento...              52000              Minist...               52121      \n",
       "4  Evento...              52000              Minist...               52121      \n",
       "\n",
       "  Nome Órgão Município Data Resultado Compra Data Abertura      total   tipo  \\\n",
       "0  Instit...  LONDRINA  22/01/...             14/12/...    41998.0...  OBRAS   \n",
       "1  Instit...  SERRINHA  15/01/...             05/01/...    7969.80000  OBRAS   \n",
       "2  Comand...  BRASILIA  15/01/...             11/01/...    53640.9...  OBRAS   \n",
       "3  Comand...    RECIFE  25/01/...             13/10/...    13490.0...  OBRAS   \n",
       "4  Comand...  BRASILIA  13/01/...             05/01/...    803000....  OBRAS   \n",
       "\n",
       "   TAG   div_piso  \n",
       "0    0  n_se_a...  \n",
       "1    0  n_se_a...  \n",
       "2    0  n_se_a...  \n",
       "3    0  n_se_a...  \n",
       "4    0  n_se_a...  "
      ]
     },
     "execution_count": 34,
     "metadata": {},
     "output_type": "execute_result"
    }
   ],
   "source": [
    "lic.head()"
   ]
  },
  {
   "cell_type": "markdown",
   "id": "7b91eadf",
   "metadata": {},
   "source": [
    "### Testes com clusterização\n",
    "- Divisão dos dados"
   ]
  },
  {
   "cell_type": "code",
   "execution_count": 35,
   "id": "26cd94d0",
   "metadata": {},
   "outputs": [],
   "source": [
    "#Ajuste da das datas pro formato correto\n",
    "lic['Data Resultado Compra']=pd.to_datetime(lic['Data Resultado Compra'],format='%d/%m/%Y')"
   ]
  },
  {
   "cell_type": "code",
   "execution_count": 36,
   "id": "c99b4184",
   "metadata": {},
   "outputs": [],
   "source": [
    "#Extração das datas\n",
    "data=lic[lic['Modalidade Compra']!='Pregão - Registro de Preço']['Data Resultado Compra']"
   ]
  },
  {
   "cell_type": "code",
   "execution_count": 76,
   "id": "28cf7451",
   "metadata": {},
   "outputs": [],
   "source": [
    "#Extração dos valores\n",
    "X=lic[lic['Modalidade Compra']!='Pregão - Registro de Preço']['total']"
   ]
  },
  {
   "cell_type": "code",
   "execution_count": 92,
   "id": "3a963e49",
   "metadata": {},
   "outputs": [],
   "source": [
    "#Normalização pelo valor máximo\n",
    "X=X/max(X)\n",
    "X=X.round(4)"
   ]
  },
  {
   "cell_type": "code",
   "execution_count": 94,
   "id": "2321f2b3",
   "metadata": {},
   "outputs": [],
   "source": [
    "X.reset_index(drop=True,inplace=True)"
   ]
  },
  {
   "cell_type": "code",
   "execution_count": 95,
   "id": "fa4b5d44",
   "metadata": {},
   "outputs": [],
   "source": [
    "data.reset_index(drop=True,inplace=True)"
   ]
  },
  {
   "cell_type": "code",
   "execution_count": 66,
   "id": "32e86d41",
   "metadata": {},
   "outputs": [],
   "source": [
    "data=np.array(data)\n",
    "data=data.reshape(-1,1)"
   ]
  },
  {
   "cell_type": "code",
   "execution_count": null,
   "id": "0b6c9049",
   "metadata": {},
   "outputs": [],
   "source": [
    "serie_totais=pd.concat([X,data],axis=1)\n",
    "serie_totais.reset_index(inplace=True)\n",
    "serie_totais.set_index('Data Resultado Compra',inplace=True)\n",
    "del(serie_totais['index'])"
   ]
  },
  {
   "cell_type": "markdown",
   "id": "95d52c66",
   "metadata": {},
   "source": [
    "## KMEANS PARA TIMESERIES"
   ]
  },
  {
   "cell_type": "code",
   "execution_count": 53,
   "id": "4a47267c",
   "metadata": {},
   "outputs": [
    {
     "name": "stdout",
     "output_type": "stream",
     "text": [
      "Requirement already satisfied: tslearn in c:\\users\\efvs\\miniconda3\\envs\\rsd\\lib\\site-packages (0.5.2)\n",
      "Requirement already satisfied: scipy in c:\\users\\efvs\\miniconda3\\envs\\rsd\\lib\\site-packages (from tslearn) (1.7.1)\n",
      "Requirement already satisfied: numba in c:\\users\\efvs\\miniconda3\\envs\\rsd\\lib\\site-packages (from tslearn) (0.54.1)\n",
      "Requirement already satisfied: scikit-learn in c:\\users\\efvs\\miniconda3\\envs\\rsd\\lib\\site-packages (from tslearn) (1.0.1)\n",
      "Requirement already satisfied: joblib in c:\\users\\efvs\\miniconda3\\envs\\rsd\\lib\\site-packages (from tslearn) (1.1.0)\n",
      "Requirement already satisfied: numpy in c:\\users\\efvs\\miniconda3\\envs\\rsd\\lib\\site-packages (from tslearn) (1.20.3)\n",
      "Requirement already satisfied: Cython in c:\\users\\efvs\\miniconda3\\envs\\rsd\\lib\\site-packages (from tslearn) (0.29.26)\n",
      "Requirement already satisfied: llvmlite<0.38,>=0.37.0rc1 in c:\\users\\efvs\\miniconda3\\envs\\rsd\\lib\\site-packages (from numba->tslearn) (0.37.0)\n",
      "Requirement already satisfied: setuptools in c:\\users\\efvs\\miniconda3\\envs\\rsd\\lib\\site-packages (from numba->tslearn) (58.0.4)\n",
      "Requirement already satisfied: threadpoolctl>=2.0.0 in c:\\users\\efvs\\miniconda3\\envs\\rsd\\lib\\site-packages (from scikit-learn->tslearn) (2.2.0)\n"
     ]
    }
   ],
   "source": [
    "!pip install tslearn"
   ]
  },
  {
   "cell_type": "code",
   "execution_count": 110,
   "id": "b10b8e81",
   "metadata": {},
   "outputs": [],
   "source": [
    "from tslearn.clustering import TimeSeriesKMeans\n",
    "model = TimeSeriesKMeans(n_clusters=4, metric=\"dtw\", max_iter=10)"
   ]
  },
  {
   "cell_type": "code",
   "execution_count": 111,
   "id": "2f6aefef",
   "metadata": {},
   "outputs": [
    {
     "data": {
      "text/plain": [
       "TimeSeriesKMeans(max_iter=10, metric='dtw', n_clusters=4)"
      ]
     },
     "execution_count": 111,
     "metadata": {},
     "output_type": "execute_result"
    }
   ],
   "source": [
    "model.fit(serie_totais)"
   ]
  },
  {
   "cell_type": "code",
   "execution_count": 112,
   "id": "2f990df0",
   "metadata": {},
   "outputs": [
    {
     "data": {
      "text/plain": [
       "array([[[7.85002710e-04]],\n",
       "\n",
       "       [[1.00000000e+00]],\n",
       "\n",
       "       [[1.33792798e-01]],\n",
       "\n",
       "       [[3.90417824e-02]]])"
      ]
     },
     "execution_count": 112,
     "metadata": {},
     "output_type": "execute_result"
    }
   ],
   "source": [
    "model.cluster_centers_"
   ]
  },
  {
   "cell_type": "code",
   "execution_count": 113,
   "id": "8ee30c2c",
   "metadata": {},
   "outputs": [
    {
     "name": "stderr",
     "output_type": "stream",
     "text": [
      "C:\\Users\\efvs\\miniconda3\\envs\\rsd\\lib\\site-packages\\tslearn\\utils\\utils.py:88: UserWarning: 2-Dimensional data passed. Assuming these are 2899 1-dimensional timeseries\n",
      "  warnings.warn('2-Dimensional data passed. Assuming these are '\n"
     ]
    }
   ],
   "source": [
    "predictions = model.predict(serie_totais)\n",
    "centers=model.cluster_centers_"
   ]
  },
  {
   "cell_type": "code",
   "execution_count": 114,
   "id": "d251624c",
   "metadata": {},
   "outputs": [
    {
     "data": {
      "text/plain": [
       "array([0, 0, 0, ..., 0, 0, 0], dtype=int64)"
      ]
     },
     "execution_count": 114,
     "metadata": {},
     "output_type": "execute_result"
    }
   ],
   "source": [
    "predictions"
   ]
  },
  {
   "cell_type": "code",
   "execution_count": 116,
   "id": "3a65ba2f",
   "metadata": {},
   "outputs": [
    {
     "data": {
      "text/plain": [
       "<matplotlib.collections.PathCollection at 0x1146f4869a0>"
      ]
     },
     "execution_count": 116,
     "metadata": {},
     "output_type": "execute_result"
    },
    {
     "data": {
      "image/png": "[encoded data removed]",
      "text/plain": [
       "<Figure size 720x504 with 1 Axes>"
      ]
     },
     "metadata": {
      "needs_background": "light"
     },
     "output_type": "display_data"
    }
   ],
   "source": [
    "from matplotlib import pyplot as plt\n",
    "plt.figure(figsize=(10,7))\n",
    "plt.scatter(serie_totais.index,serie_totais.iloc[:,0],c=predictions, s=30, cmap='tab10')\n",
    "#plt.scatter(centers[:, 0], centers[:, 1], c='blue', s=200, alpha=0.6)"
   ]
  },
  {
   "cell_type": "markdown",
   "id": "bd883ea0",
   "metadata": {},
   "source": [
    "## KMEANS NORMAL"
   ]
  },
  {
   "cell_type": "code",
   "execution_count": 158,
   "id": "a9d39373",
   "metadata": {
    "scrolled": true
   },
   "outputs": [
    {
     "data": {
      "text/plain": [
       "KMeans(n_clusters=4, random_state=0)"
      ]
     },
     "execution_count": 158,
     "metadata": {},
     "output_type": "execute_result"
    }
   ],
   "source": [
    "from sklearn.cluster import KMeans\n",
    "kmeans = KMeans(n_clusters=4, random_state=0).fit(serie_totais)\n",
    "kmeans.labels_\n",
    "kmeans.fit(serie_totais)"
   ]
  },
  {
   "cell_type": "code",
   "execution_count": 159,
   "id": "ee16b785",
   "metadata": {},
   "outputs": [],
   "source": [
    "predictions = kmeans.predict(serie_totais)\n",
    "centers=kmeans.cluster_centers_"
   ]
  },
  {
   "cell_type": "code",
   "execution_count": 160,
   "id": "2b43fc49",
   "metadata": {},
   "outputs": [
    {
     "data": {
      "text/plain": [
       "array([[7.11594745e-04],\n",
       "       [1.00000000e+00],\n",
       "       [1.26853885e-01],\n",
       "       [3.23094792e-02]])"
      ]
     },
     "execution_count": 160,
     "metadata": {},
     "output_type": "execute_result"
    }
   ],
   "source": [
    "kmeans.cluster_centers_"
   ]
  },
  {
   "cell_type": "code",
   "execution_count": 161,
   "id": "aa9d5060",
   "metadata": {},
   "outputs": [
    {
     "data": {
      "text/plain": [
       "(array([18628., 18632., 18636., 18640., 18644., 18648., 18652., 18656.,\n",
       "        18659.]),\n",
       " [Text(0, 0, ''),\n",
       "  Text(0, 0, ''),\n",
       "  Text(0, 0, ''),\n",
       "  Text(0, 0, ''),\n",
       "  Text(0, 0, ''),\n",
       "  Text(0, 0, ''),\n",
       "  Text(0, 0, ''),\n",
       "  Text(0, 0, ''),\n",
       "  Text(0, 0, '')])"
      ]
     },
     "execution_count": 161,
     "metadata": {},
     "output_type": "execute_result"
    },
    {
     "data": {
      "image/png": "[encoded data removed]",
      "text/plain": [
       "<Figure size 720x504 with 1 Axes>"
      ]
     },
     "metadata": {
      "needs_background": "light"
     },
     "output_type": "display_data"
    }
   ],
   "source": [
    "# avaliar a variação do cluster mes a mes\n",
    "# Extrair as bordas de decisão\n",
    "#como interpretar o Kmeans\n",
    "\n",
    "from matplotlib import pyplot as plt\n",
    "plt.figure(figsize=(10,7))\n",
    "plt.scatter(serie_totais.index,serie_totais.iloc[:,0],c=predictions, s=30, cmap='tab10')\n",
    "plt.xticks(rotation=45,ha='right')\n",
    "#plt.scatter(centers[:, 0], centers[:, 1], c='blue', s=200, alpha=0.6)"
   ]
  },
  {
   "cell_type": "code",
   "execution_count": 123,
   "id": "c9800552",
   "metadata": {},
   "outputs": [],
   "source": [
    "from time import time\n",
    "from sklearn import metrics\n",
    "from sklearn.pipeline import make_pipeline\n",
    "from sklearn.preprocessing import StandardScaler\n",
    "\n",
    "\n",
    "def bench_k_means(kmeans, name, data, labels):\n",
    "    \"\"\"Benchmark to evaluate the KMeans initialization methods.\n",
    "\n",
    "    Parameters\n",
    "    ----------\n",
    "    kmeans : KMeans instance\n",
    "        A :class:`~sklearn.cluster.KMeans` instance with the initialization\n",
    "        already set.\n",
    "    name : str\n",
    "        Name given to the strategy. It will be used to show the results in a\n",
    "        table.\n",
    "    data : ndarray of shape (n_samples, n_features)\n",
    "        The data to cluster.\n",
    "    labels : ndarray of shape (n_samples,)\n",
    "        The labels used to compute the clustering metrics which requires some\n",
    "        supervision.\n",
    "    \"\"\"\n",
    "    t0 = time()\n",
    "    estimator = make_pipeline(StandardScaler(), kmeans).fit(data)\n",
    "    fit_time = time() - t0\n",
    "    results = [name, fit_time, estimator[-1].inertia_]\n",
    "\n",
    "    # Define the metrics which require only the true labels and estimator\n",
    "    # labels\n",
    "    clustering_metrics = [\n",
    "        metrics.homogeneity_score,\n",
    "        metrics.completeness_score,\n",
    "        metrics.v_measure_score,\n",
    "        metrics.adjusted_rand_score,\n",
    "        metrics.adjusted_mutual_info_score,\n",
    "    ]\n",
    "    results += [m(labels, estimator[-1].labels_) for m in clustering_metrics]\n",
    "\n",
    "    # The silhouette score requires the full dataset\n",
    "    results += [\n",
    "        metrics.silhouette_score(\n",
    "            data,\n",
    "            estimator[-1].labels_,\n",
    "            metric=\"euclidean\",\n",
    "            sample_size=300,\n",
    "        )\n",
    "    ]\n",
    "\n",
    "    # Show the results\n",
    "    formatter_result = (\n",
    "        \"{:9s}\\t{:.3f}s\\t{:.0f}\\t{:.3f}\\t{:.3f}\\t{:.3f}\\t{:.3f}\\t{:.3f}\\t{:.3f}\"\n",
    "    )\n",
    "    print(formatter_result.format(*results))"
   ]
  },
  {
   "cell_type": "code",
   "execution_count": 141,
   "id": "a97f476d",
   "metadata": {},
   "outputs": [
    {
     "data": {
      "text/plain": [
       "Index(['total'], dtype='object')"
      ]
     },
     "execution_count": 141,
     "metadata": {},
     "output_type": "execute_result"
    }
   ],
   "source": [
    "serie_totais.columns"
   ]
  },
  {
   "cell_type": "code",
   "execution_count": 142,
   "id": "7df2a2a0",
   "metadata": {},
   "outputs": [],
   "source": [
    "labels=serie_totais.columns"
   ]
  },
  {
   "cell_type": "code",
   "execution_count": 202,
   "id": "39926247",
   "metadata": {},
   "outputs": [
    {
     "name": "stdout",
     "output_type": "stream",
     "text": [
      "# digits: 10; # samples: 1797; # features 64\n"
     ]
    }
   ],
   "source": [
    "import numpy as np\n",
    "from sklearn.datasets import load_digits\n",
    "\n",
    "serie_totais, labels = load_digits(return_X_y=True)\n",
    "(n_samples, n_features), n_digits = serie_totais.shape, np.unique(labels).size\n",
    "\n",
    "print(f\"# digits: {n_digits}; # samples: {n_samples}; # features {n_features}\")"
   ]
  },
  {
   "cell_type": "code",
   "execution_count": 203,
   "id": "69a0ca0d",
   "metadata": {
    "scrolled": true
   },
   "outputs": [
    {
     "name": "stdout",
     "output_type": "stream",
     "text": [
      "__________________________________________________________________________________\n",
      "init\t\ttime\tinertia\thomo\tcompl\tv-meas\tARI\tAMI\tsilhouette\n",
      "k-meansTS\t55.696s\t19\t0.057\t0.203\t0.089\t0.013\t0.084\t0.028\n",
      "k-means++\t0.107s\t69662\t0.680\t0.719\t0.699\t0.570\t0.695\t0.170\n",
      "random   \t0.212s\t89120\t0.364\t0.609\t0.456\t0.286\t0.454\t0.134\n",
      "k-means  \t0.208s\t89120\t0.364\t0.609\t0.456\t0.286\t0.454\t0.124\n",
      "PCA-based\t0.034s\t72686\t0.636\t0.658\t0.647\t0.521\t0.643\t0.148\n",
      "__________________________________________________________________________________\n"
     ]
    }
   ],
   "source": [
    "from sklearn.cluster import KMeans\n",
    "from sklearn.decomposition import PCA\n",
    "\n",
    "print(82 * \"_\")\n",
    "print(\"init\\t\\ttime\\tinertia\\thomo\\tcompl\\tv-meas\\tARI\\tAMI\\tsilhouette\")\n",
    "\n",
    "bench_k_means(kmeans=model, name=\"k-meansTS\", data=serie_totais, labels=labels)\n",
    "################\n",
    "kmeansMM = KMeans(init=\"k-means++\", n_clusters=n_digits, n_init=4, random_state=0)\n",
    "bench_k_means(kmeans=kmeansMM, name=\"k-means++\", data=serie_totais, labels=labels)\n",
    "\n",
    "kmeansRANDOM = KMeans(init=\"random\", n_clusters=n_digits, n_init=4, random_state=0)\n",
    "bench_k_means(kmeans=kmeans, name=\"random\", data=serie_totais, labels=labels)\n",
    "################\n",
    "bench_k_means(kmeans=kmeans, name=\"k-means\", data=serie_totais, labels=labels)\n",
    "\n",
    "pca = PCA(n_components=n_digits).fit(serie_totais)\n",
    "kmeanspca = KMeans(init=pca.components_, n_clusters=n_digits, n_init=1)\n",
    "bench_k_means(kmeans=kmeanspca, name=\"PCA-based\", data=serie_totais, labels=labels)\n",
    "\n",
    "\n",
    "print(82 * \"_\")"
   ]
  },
  {
   "cell_type": "markdown",
   "id": "0d93e4ba",
   "metadata": {},
   "source": [
    "### Tentar definir uma separação mais geral, que não dependa tanto da variação dos dados"
   ]
  },
  {
   "cell_type": "code",
   "execution_count": 184,
   "id": "94cffc59",
   "metadata": {},
   "outputs": [
    {
     "data": {
      "text/plain": [
       "Data Resultado Compra\n",
       "2021-01-29   0.00076\n",
       "2021-01-07   0.00000\n",
       "2021-01-28   0.00011\n",
       "2021-01-29   0.00050\n",
       "2021-01-27   0.00526\n",
       "               ...  \n",
       "2021-01-28   0.00029\n",
       "2021-01-28   0.00026\n",
       "2021-01-28   0.00059\n",
       "2021-01-28   0.00117\n",
       "2021-01-28   0.00029\n",
       "Name: total, Length: 2899, dtype: float64"
      ]
     },
     "execution_count": 184,
     "metadata": {},
     "output_type": "execute_result"
    }
   ],
   "source": [
    "serie_totais.iloc[:,0]"
   ]
  },
  {
   "cell_type": "code",
   "execution_count": 185,
   "id": "1c0ff9c7",
   "metadata": {},
   "outputs": [
    {
     "data": {
      "text/plain": [
       "DatetimeIndex(['2021-01-29', '2021-01-07', '2021-01-28', '2021-01-29',\n",
       "               '2021-01-27', '2021-01-29', '2021-01-15', '2021-01-27',\n",
       "               '2021-01-20', '2021-01-29',\n",
       "               ...\n",
       "               '2021-01-26', '2021-01-26', '2021-01-28', '2021-01-28',\n",
       "               '2021-01-28', '2021-01-28', '2021-01-28', '2021-01-28',\n",
       "               '2021-01-28', '2021-01-28'],\n",
       "              dtype='datetime64[ns]', name='Data Resultado Compra', length=2899, freq=None)"
      ]
     },
     "execution_count": 185,
     "metadata": {},
     "output_type": "execute_result"
    }
   ],
   "source": [
    "serie_totais.index"
   ]
  },
  {
   "cell_type": "code",
   "execution_count": null,
   "id": "f4d0e132",
   "metadata": {},
   "outputs": [],
   "source": [
    "lic['Modalidade Compra'].value_counts()"
   ]
  },
  {
   "cell_type": "markdown",
   "id": "a00501cb",
   "metadata": {},
   "source": [
    "## APLICANDO PARA INEXIBILIDADE - LEGAIS"
   ]
  },
  {
   "cell_type": "code",
   "execution_count": null,
   "id": "2aa028fe",
   "metadata": {},
   "outputs": [],
   "source": [
    "inex_datas=lic[(lic['Modalidade Compra']=='Inexigibilidade de Licitação') & (lic['TAG']==1)]['Data Resultado Compra']\n",
    "inex_totais=lic[(lic['Modalidade Compra']=='Inexigibilidade de Licitação') & (lic['TAG']==1)]['total']"
   ]
  },
  {
   "cell_type": "code",
   "execution_count": null,
   "id": "54030a7b",
   "metadata": {},
   "outputs": [],
   "source": [
    "inex_totais=inex_totais/max(inex_totais)"
   ]
  },
  {
   "cell_type": "code",
   "execution_count": null,
   "id": "6c77713c",
   "metadata": {},
   "outputs": [],
   "source": [
    "serie_totais_inex=pd.concat([inex_datas,inex_totais],axis=1)"
   ]
  },
  {
   "cell_type": "code",
   "execution_count": null,
   "id": "c36f83f9",
   "metadata": {},
   "outputs": [],
   "source": [
    "serie_totais_inex.set_index('Data Resultado Compra',inplace=True)"
   ]
  },
  {
   "cell_type": "code",
   "execution_count": null,
   "id": "94ec15a1",
   "metadata": {},
   "outputs": [],
   "source": [
    "from sklearn.cluster import KMeans\n",
    "kmeans = KMeans(n_clusters=4, random_state=0).fit(serie_totais_inex)\n",
    "kmeans.labels_\n",
    "kmeans.fit(serie_totais_inex)\n",
    "\n",
    "predictions = kmeans.predict(serie_totais_inex)\n",
    "centers=kmeans.cluster_centers_\n",
    "\n",
    "kmeans.cluster_centers_\n",
    "\n",
    "from matplotlib import pyplot as plt\n",
    "plt.figure(figsize=(10,7))\n",
    "plt.scatter(serie_totais_inex.index,serie_totais_inex.iloc[:,0],c=predictions, s=30, cmap='tab10')\n",
    "plt.xticks(rotation=45,ha='right')"
   ]
  },
  {
   "cell_type": "markdown",
   "id": "c9ec20b0",
   "metadata": {},
   "source": [
    "## APLICANDO PARA PREGÃO - LEGAIS"
   ]
  },
  {
   "cell_type": "code",
   "execution_count": null,
   "id": "d7aacb74",
   "metadata": {},
   "outputs": [],
   "source": [
    "preg_datas=lic[(lic['Modalidade Compra']=='Pregão') & (lic['TAG']==1)]['Data Resultado Compra']\n",
    "preg_totais=lic[(lic['Modalidade Compra']=='Pregão') & (lic['TAG']==1)]['total']"
   ]
  },
  {
   "cell_type": "code",
   "execution_count": null,
   "id": "ed9a75cd",
   "metadata": {},
   "outputs": [],
   "source": [
    "preg_totais=preg_totais/max(inex_totais)"
   ]
  },
  {
   "cell_type": "code",
   "execution_count": null,
   "id": "70e3d88a",
   "metadata": {},
   "outputs": [],
   "source": [
    "serie_totais_preg=pd.concat([preg_datas,preg_totais],axis=1)"
   ]
  },
  {
   "cell_type": "code",
   "execution_count": null,
   "id": "94b9f6cb",
   "metadata": {},
   "outputs": [],
   "source": [
    "serie_totais_preg.set_index('Data Resultado Compra',inplace=True)"
   ]
  },
  {
   "cell_type": "code",
   "execution_count": null,
   "id": "f64c74f8",
   "metadata": {},
   "outputs": [],
   "source": [
    "from sklearn.cluster import KMeans\n",
    "kmeans = KMeans(n_clusters=4, random_state=0).fit(serie_totais_preg)\n",
    "kmeans.labels_\n",
    "kmeans.fit(serie_totais_preg)\n",
    "\n",
    "predictions = kmeans.predict(serie_totais_preg)\n",
    "centers=kmeans.cluster_centers_\n",
    "\n",
    "kmeans.cluster_centers_\n",
    "\n",
    "from matplotlib import pyplot as plt\n",
    "plt.figure(figsize=(10,7))\n",
    "plt.scatter(serie_totais_preg.index,serie_totais_preg.iloc[:,0],c=predictions, s=30, cmap='tab10')\n",
    "plt.xticks(rotation=45,ha='right')"
   ]
  },
  {
   "cell_type": "code",
   "execution_count": null,
   "id": "3136dbde",
   "metadata": {},
   "outputs": [],
   "source": []
  },
  {
   "cell_type": "code",
   "execution_count": null,
   "id": "3ae1d8e0",
   "metadata": {},
   "outputs": [],
   "source": []
  },
  {
   "cell_type": "code",
   "execution_count": null,
   "id": "108b39f5",
   "metadata": {},
   "outputs": [],
   "source": []
  }
 ],
 "metadata": {
  "kernelspec": {
   "display_name": "Python 3 (ipykernel)",
   "language": "python",
   "name": "python3"
  },
  "language_info": {
   "codemirror_mode": {
    "name": "ipython",
    "version": 3
   },
   "file_extension": ".py",
   "mimetype": "text/x-python",
   "name": "python",
   "nbconvert_exporter": "python",
   "pygments_lexer": "ipython3",
   "version": "3.9.7"
  }
 },
 "nbformat": 4,
 "nbformat_minor": 5
}
