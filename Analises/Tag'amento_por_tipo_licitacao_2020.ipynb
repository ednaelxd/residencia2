{
 "cells": [
  {
   "cell_type": "markdown",
   "id": "fa466ffd",
   "metadata": {},
   "source": [
    "## Neste documento, adicionaremos a tag legal/ilegal nos dados\n",
    "- Importação dos dados\n",
    "- Divisão por grupo de tipo de licitação\n",
    "- Criação do algorítmo de classificação\n",
    "- Implementação nas bases divididas por modalidade de licitação"
   ]
  },
  {
   "cell_type": "code",
   "execution_count": 1,
   "id": "d4318096",
   "metadata": {},
   "outputs": [],
   "source": [
    "import pandas as pd\n",
    "import glob\n",
    "import numpy as np\n",
    "import matplotlib.pyplot as plt"
   ]
  },
  {
   "cell_type": "code",
   "execution_count": 2,
   "id": "4defb4fa",
   "metadata": {},
   "outputs": [
    {
     "name": "stdout",
     "output_type": "stream",
     "text": [
      "Wall time: 0 ns\n"
     ]
    }
   ],
   "source": [
    "%time\n",
    "path = r'C:\\licitacoes_2020'\n",
    "filenames = glob.glob(path + \"/*.csv\")\n",
    "\n",
    "li= []\n",
    "\n",
    "for filename in filenames:\n",
    "    df = pd.read_csv(filename, index_col=None, header=0, decimal=',',sep=';',encoding='latin1')\n",
    "    li.append(df)\n",
    "\n",
    "df_lic_2020 = pd.concat(li, axis=0, ignore_index=True)"
   ]
  },
  {
   "cell_type": "code",
   "execution_count": 3,
   "id": "27a67660",
   "metadata": {},
   "outputs": [],
   "source": [
    "pd.options.display.max_colwidth = 1000"
   ]
  },
  {
   "cell_type": "code",
   "execution_count": 4,
   "id": "4bcdd0ed",
   "metadata": {},
   "outputs": [
    {
     "data": {
      "text/html": [
       "<div>\n",
       "<style scoped>\n",
       "    .dataframe tbody tr th:only-of-type {\n",
       "        vertical-align: middle;\n",
       "    }\n",
       "\n",
       "    .dataframe tbody tr th {\n",
       "        vertical-align: top;\n",
       "    }\n",
       "\n",
       "    .dataframe thead th {\n",
       "        text-align: right;\n",
       "    }\n",
       "</style>\n",
       "<table border=\"1\" class=\"dataframe\">\n",
       "  <thead>\n",
       "    <tr style=\"text-align: right;\">\n",
       "      <th></th>\n",
       "      <th>Número Licitação</th>\n",
       "      <th>Código UG</th>\n",
       "      <th>Nome UG</th>\n",
       "      <th>Código Modalidade Compra</th>\n",
       "      <th>Modalidade Compra</th>\n",
       "      <th>Número Processo</th>\n",
       "      <th>Objeto</th>\n",
       "      <th>Situação Licitação</th>\n",
       "      <th>Código Órgão Superior</th>\n",
       "      <th>Nome Órgão Superior</th>\n",
       "      <th>Código Órgão</th>\n",
       "      <th>Nome Órgão</th>\n",
       "      <th>Município</th>\n",
       "      <th>Data Resultado Compra</th>\n",
       "      <th>Data Abertura</th>\n",
       "      <th>Valor Licitação</th>\n",
       "    </tr>\n",
       "  </thead>\n",
       "  <tbody>\n",
       "    <tr>\n",
       "      <th>0</th>\n",
       "      <td>12018</td>\n",
       "      <td>925206</td>\n",
       "      <td>PMSP - DIR. REG. EDUC. - SÃO MATEUS</td>\n",
       "      <td>5</td>\n",
       "      <td>Pregão</td>\n",
       "      <td>6016201800295980</td>\n",
       "      <td>Objeto: Pregão Eletrônico -  Contratação de empresa especializada na prestação de serviço de limpeza, conservação, desinsetização, desratização, limpeza das caixas d água e copeiragem com o fornecimento de mão-de-obra, saneantes domissanitários, incluindo o fornecimento de materiais e equipamentos segundo Anexo I, para a sede da Diretoria Regional de Educação São Mateus   Av. Ragueb Chohfi, 1550   Jd. Três Marias   São Paulo - SP.</td>\n",
       "      <td>Divulgado</td>\n",
       "      <td>99900</td>\n",
       "      <td>REPUBLICA FEDERATIVA DO BRASIL</td>\n",
       "      <td>95420</td>\n",
       "      <td>ESTADO DE SAO PAULO</td>\n",
       "      <td>Inválido</td>\n",
       "      <td>21/01/2020</td>\n",
       "      <td>13/07/2018</td>\n",
       "      <td>448622.52</td>\n",
       "    </tr>\n",
       "  </tbody>\n",
       "</table>\n",
       "</div>"
      ],
      "text/plain": [
       "   Número Licitação  Código UG                              Nome UG  \\\n",
       "0             12018     925206  PMSP - DIR. REG. EDUC. - SÃO MATEUS   \n",
       "\n",
       "   Código Modalidade Compra Modalidade Compra   Número Processo  \\\n",
       "0                         5            Pregão  6016201800295980   \n",
       "\n",
       "                                                                                                                                                                                                                                                                                                                                                                                                                                               Objeto  \\\n",
       "0  Objeto: Pregão Eletrônico -  Contratação de empresa especializada na prestação de serviço de limpeza, conservação, desinsetização, desratização, limpeza das caixas d água e copeiragem com o fornecimento de mão-de-obra, saneantes domissanitários, incluindo o fornecimento de materiais e equipamentos segundo Anexo I, para a sede da Diretoria Regional de Educação São Mateus   Av. Ragueb Chohfi, 1550   Jd. Três Marias   São Paulo - SP.   \n",
       "\n",
       "  Situação Licitação  Código Órgão Superior             Nome Órgão Superior  \\\n",
       "0          Divulgado                  99900  REPUBLICA FEDERATIVA DO BRASIL   \n",
       "\n",
       "   Código Órgão           Nome Órgão Município Data Resultado Compra  \\\n",
       "0         95420  ESTADO DE SAO PAULO  Inválido            21/01/2020   \n",
       "\n",
       "  Data Abertura  Valor Licitação  \n",
       "0    13/07/2018        448622.52  "
      ]
     },
     "execution_count": 4,
     "metadata": {},
     "output_type": "execute_result"
    }
   ],
   "source": [
    "df_lic_2020.head(1)"
   ]
  },
  {
   "cell_type": "code",
   "execution_count": 5,
   "id": "7420d3ea",
   "metadata": {},
   "outputs": [
    {
     "name": "stdout",
     "output_type": "stream",
     "text": [
      "<class 'pandas.core.frame.DataFrame'>\n",
      "RangeIndex: 157373 entries, 0 to 157372\n",
      "Data columns (total 16 columns):\n",
      " #   Column                    Non-Null Count   Dtype  \n",
      "---  ------                    --------------   -----  \n",
      " 0   Número Licitação          157373 non-null  int64  \n",
      " 1   Código UG                 157373 non-null  int64  \n",
      " 2   Nome UG                   157373 non-null  object \n",
      " 3   Código Modalidade Compra  157373 non-null  int64  \n",
      " 4   Modalidade Compra         157373 non-null  object \n",
      " 5   Número Processo           157373 non-null  object \n",
      " 6   Objeto                    157373 non-null  object \n",
      " 7   Situação Licitação        157373 non-null  object \n",
      " 8   Código Órgão Superior     157373 non-null  int64  \n",
      " 9   Nome Órgão Superior       157373 non-null  object \n",
      " 10  Código Órgão              157373 non-null  int64  \n",
      " 11  Nome Órgão                157373 non-null  object \n",
      " 12  Município                 157373 non-null  object \n",
      " 13  Data Resultado Compra     157373 non-null  object \n",
      " 14  Data Abertura             51098 non-null   object \n",
      " 15  Valor Licitação           157373 non-null  float64\n",
      "dtypes: float64(1), int64(5), object(10)\n",
      "memory usage: 19.2+ MB\n"
     ]
    }
   ],
   "source": [
    "df_lic_2020.info()"
   ]
  },
  {
   "cell_type": "code",
   "execution_count": 6,
   "id": "7a7c3db9",
   "metadata": {},
   "outputs": [
    {
     "data": {
      "text/plain": [
       "(157373, 16)"
      ]
     },
     "execution_count": 6,
     "metadata": {},
     "output_type": "execute_result"
    }
   ],
   "source": [
    "df_lic_2020.shape"
   ]
  },
  {
   "cell_type": "code",
   "execution_count": 7,
   "id": "14c347ee",
   "metadata": {},
   "outputs": [],
   "source": [
    "df_lic_2020.rename(columns={\"Valor Licitação\": \"Total\"},inplace=True)"
   ]
  },
  {
   "cell_type": "code",
   "execution_count": 8,
   "id": "3b7c8951",
   "metadata": {},
   "outputs": [
    {
     "data": {
      "text/plain": [
       "Dispensa de Licitação               102062\n",
       "Pregão - Registro de Preço           20084\n",
       "Inexigibilidade de Licitação         17393\n",
       "Pregão                               16905\n",
       "Tomada de Preços                       718\n",
       "Concorrência                           138\n",
       "Convite                                 60\n",
       "Concurso                                 8\n",
       "Concorrência - Registro de Preço         4\n",
       "Concorrência Internacional               1\n",
       "Name: Modalidade Compra, dtype: int64"
      ]
     },
     "execution_count": 8,
     "metadata": {},
     "output_type": "execute_result"
    }
   ],
   "source": [
    "df_lic_2020['Modalidade Compra'].value_counts()"
   ]
  },
  {
   "cell_type": "code",
   "execution_count": 9,
   "id": "aadef932",
   "metadata": {},
   "outputs": [],
   "source": [
    "a = df_lic_2020['Data Resultado Compra'].value_counts()"
   ]
  },
  {
   "cell_type": "markdown",
   "id": "7ffac887",
   "metadata": {},
   "source": [
    "## É Obra ?"
   ]
  },
  {
   "cell_type": "code",
   "execution_count": 10,
   "id": "5786a7aa",
   "metadata": {},
   "outputs": [],
   "source": [
    "df_lic_2020['Obras'] = df_lic_2020['Objeto'].str.contains(\"OBRAS|OBRA|obras|obra|ENGENHARIA|engenharia|CONSTRU-CAO|constru-cao\", na=False)"
   ]
  },
  {
   "cell_type": "code",
   "execution_count": 11,
   "id": "9178dc81",
   "metadata": {},
   "outputs": [
    {
     "data": {
      "text/plain": [
       "False    152218\n",
       "True       5155\n",
       "Name: Obras, dtype: int64"
      ]
     },
     "execution_count": 11,
     "metadata": {},
     "output_type": "execute_result"
    }
   ],
   "source": [
    "df_lic_2020['Obras'].value_counts()"
   ]
  },
  {
   "cell_type": "code",
   "execution_count": 12,
   "id": "0a17cbfc",
   "metadata": {},
   "outputs": [],
   "source": [
    "df_lic_2020['Tipo'] = 1"
   ]
  },
  {
   "cell_type": "code",
   "execution_count": 13,
   "id": "77c321ce",
   "metadata": {},
   "outputs": [],
   "source": [
    "df_lic_2020.loc[df_lic_2020['Obras'] == True, 'Tipo'] = 'Obras'\n",
    "df_lic_2020.loc[df_lic_2020['Obras'] == False, 'Tipo'] = 'Compras/Servicos'"
   ]
  },
  {
   "cell_type": "code",
   "execution_count": 14,
   "id": "d9fd7462",
   "metadata": {},
   "outputs": [
    {
     "data": {
      "text/plain": [
       "Compras/Servicos    152218\n",
       "Obras                 5155\n",
       "Name: Tipo, dtype: int64"
      ]
     },
     "execution_count": 14,
     "metadata": {},
     "output_type": "execute_result"
    }
   ],
   "source": [
    "df_lic_2020['Tipo'].value_counts()"
   ]
  },
  {
   "cell_type": "code",
   "execution_count": 15,
   "id": "15e15e06",
   "metadata": {},
   "outputs": [],
   "source": [
    "#Excluindo o atributo Obras que não será utilizado nas análises posteriores.\n",
    "df_lic_2020.drop(columns=['Obras'], axis=1, inplace=True)"
   ]
  },
  {
   "cell_type": "code",
   "execution_count": 16,
   "id": "dbbd8a88",
   "metadata": {},
   "outputs": [
    {
     "name": "stdout",
     "output_type": "stream",
     "text": [
      "<class 'pandas.core.frame.DataFrame'>\n",
      "RangeIndex: 157373 entries, 0 to 157372\n",
      "Data columns (total 17 columns):\n",
      " #   Column                    Non-Null Count   Dtype  \n",
      "---  ------                    --------------   -----  \n",
      " 0   Número Licitação          157373 non-null  int64  \n",
      " 1   Código UG                 157373 non-null  int64  \n",
      " 2   Nome UG                   157373 non-null  object \n",
      " 3   Código Modalidade Compra  157373 non-null  int64  \n",
      " 4   Modalidade Compra         157373 non-null  object \n",
      " 5   Número Processo           157373 non-null  object \n",
      " 6   Objeto                    157373 non-null  object \n",
      " 7   Situação Licitação        157373 non-null  object \n",
      " 8   Código Órgão Superior     157373 non-null  int64  \n",
      " 9   Nome Órgão Superior       157373 non-null  object \n",
      " 10  Código Órgão              157373 non-null  int64  \n",
      " 11  Nome Órgão                157373 non-null  object \n",
      " 12  Município                 157373 non-null  object \n",
      " 13  Data Resultado Compra     157373 non-null  object \n",
      " 14  Data Abertura             51098 non-null   object \n",
      " 15  Total                     157373 non-null  float64\n",
      " 16  Tipo                      157373 non-null  object \n",
      "dtypes: float64(1), int64(5), object(11)\n",
      "memory usage: 20.4+ MB\n"
     ]
    }
   ],
   "source": [
    "df_lic_2020.info()"
   ]
  },
  {
   "cell_type": "markdown",
   "id": "d75b1db9",
   "metadata": {},
   "source": [
    "# Separando as Licitações por Modalidade de Compra e aplicando as regras de acordo com os valores a partir do Decreto n. 9.412, de 18 de Junho de 2020."
   ]
  },
  {
   "cell_type": "markdown",
   "id": "d973d9ab",
   "metadata": {},
   "source": [
    "## Registro de Preço/ Concorrência/Concorrência - Registro de Preço"
   ]
  },
  {
   "cell_type": "code",
   "execution_count": 17,
   "id": "cc898712",
   "metadata": {},
   "outputs": [],
   "source": [
    "df_lic_2020_RP = df_lic_2020[(df_lic_2020['Modalidade Compra']  == 'Pregão - Registro de Preço') | (df_lic_2020['Modalidade Compra'] == 'Concorrência - Registro de Preço') | (df_lic_2020['Modalidade Compra'] == 'Concorrência')]"
   ]
  },
  {
   "cell_type": "code",
   "execution_count": 18,
   "id": "81d1ae53",
   "metadata": {},
   "outputs": [
    {
     "data": {
      "text/plain": [
       "Pregão - Registro de Preço          20084\n",
       "Concorrência                          138\n",
       "Concorrência - Registro de Preço        4\n",
       "Name: Modalidade Compra, dtype: int64"
      ]
     },
     "execution_count": 18,
     "metadata": {},
     "output_type": "execute_result"
    }
   ],
   "source": [
    "df_lic_2020_RP['Modalidade Compra'].value_counts()"
   ]
  },
  {
   "cell_type": "code",
   "execution_count": 19,
   "id": "5ac16e8d",
   "metadata": {},
   "outputs": [
    {
     "data": {
      "text/plain": [
       "Compras/Servicos    19686\n",
       "Obras                 540\n",
       "Name: Tipo, dtype: int64"
      ]
     },
     "execution_count": 19,
     "metadata": {},
     "output_type": "execute_result"
    }
   ],
   "source": [
    "df_lic_2020_RP['Tipo'].value_counts()"
   ]
  },
  {
   "cell_type": "code",
   "execution_count": 20,
   "id": "b36a707f",
   "metadata": {},
   "outputs": [],
   "source": [
    "# Separando a modalidade em Obras e Compras/Serviços\n",
    "lic_obras_RP_2020 = df_lic_2020_RP[df_lic_2020_RP['Tipo'] == 'Obras']\n",
    "lic_compras_RP_2020 = df_lic_2020_RP[df_lic_2020_RP['Tipo'] != 'Obras']"
   ]
  },
  {
   "cell_type": "markdown",
   "id": "0eb3ae8a",
   "metadata": {},
   "source": [
    "## Tag'ando como legal ou ilegal de acordo  com Decreto nº 9.412, de 18 de Junho de 2020"
   ]
  },
  {
   "cell_type": "markdown",
   "id": "eb7ae123",
   "metadata": {},
   "source": [
    "#### 0: ilegal\n",
    "#### 1: legal"
   ]
  },
  {
   "cell_type": "code",
   "execution_count": 21,
   "id": "a53dc491",
   "metadata": {},
   "outputs": [
    {
     "name": "stderr",
     "output_type": "stream",
     "text": [
      "C:\\Users\\lrr\\AppData\\Local\\Temp/ipykernel_23052/3692778047.py:1: SettingWithCopyWarning: \n",
      "A value is trying to be set on a copy of a slice from a DataFrame.\n",
      "Try using .loc[row_indexer,col_indexer] = value instead\n",
      "\n",
      "See the caveats in the documentation: https://pandas.pydata.org/pandas-docs/stable/user_guide/indexing.html#returning-a-view-versus-a-copy\n",
      "  lic_obras_RP_2020['Tag'] = 0\n",
      "C:\\Users\\lrr\\AppData\\Local\\Temp/ipykernel_23052/3692778047.py:2: SettingWithCopyWarning: \n",
      "A value is trying to be set on a copy of a slice from a DataFrame.\n",
      "Try using .loc[row_indexer,col_indexer] = value instead\n",
      "\n",
      "See the caveats in the documentation: https://pandas.pydata.org/pandas-docs/stable/user_guide/indexing.html#returning-a-view-versus-a-copy\n",
      "  lic_compras_RP_2020['Tag'] = 0\n"
     ]
    }
   ],
   "source": [
    "lic_obras_RP_2020['Tag'] = 0\n",
    "lic_compras_RP_2020['Tag'] = 0"
   ]
  },
  {
   "cell_type": "code",
   "execution_count": 22,
   "id": "2480e499",
   "metadata": {},
   "outputs": [
    {
     "name": "stderr",
     "output_type": "stream",
     "text": [
      "C:\\Users\\lrr\\anaconda3\\lib\\site-packages\\pandas\\core\\indexing.py:1817: SettingWithCopyWarning: \n",
      "A value is trying to be set on a copy of a slice from a DataFrame.\n",
      "Try using .loc[row_indexer,col_indexer] = value instead\n",
      "\n",
      "See the caveats in the documentation: https://pandas.pydata.org/pandas-docs/stable/user_guide/indexing.html#returning-a-view-versus-a-copy\n",
      "  self._setitem_single_column(loc, value, pi)\n"
     ]
    }
   ],
   "source": [
    "#regra de limite de valor\n",
    "#Considerando REGISTRO DE PREÇO como CONCORRENCIA e CONCORRENCIA - REGISTRO DE PREÇO\n",
    "lic_obras_RP_2020.loc[lic_obras_RP_2020['Total'] > 3300000, 'Tag'] = 1\n",
    "lic_compras_RP_2020.loc[lic_compras_RP_2020['Total'] > 1430000, 'Tag'] = 1"
   ]
  },
  {
   "cell_type": "code",
   "execution_count": 23,
   "id": "a5364635",
   "metadata": {},
   "outputs": [
    {
     "data": {
      "text/plain": [
       "0    485\n",
       "1     55\n",
       "Name: Tag, dtype: int64"
      ]
     },
     "execution_count": 23,
     "metadata": {},
     "output_type": "execute_result"
    }
   ],
   "source": [
    "lic_obras_RP_2020['Tag'].value_counts()"
   ]
  },
  {
   "cell_type": "code",
   "execution_count": 24,
   "id": "d3d600e5",
   "metadata": {},
   "outputs": [
    {
     "data": {
      "image/png": "[encoded data removed]",
      "text/plain": [
       "<Figure size 432x288 with 1 Axes>"
      ]
     },
     "metadata": {
      "needs_background": "light"
     },
     "output_type": "display_data"
    }
   ],
   "source": [
    "# Análise visual das licitações Ilegais para esta modalidade\n",
    "lic_obras_RP_2020[lic_obras_RP_2020['Tag'] == 0]['Total'].plot.box()\n",
    "plt.show()"
   ]
  },
  {
   "cell_type": "code",
   "execution_count": 25,
   "id": "c4df5a34",
   "metadata": {},
   "outputs": [
    {
     "data": {
      "text/plain": [
       "count    4.850000e+02\n",
       "mean     2.341066e+05\n",
       "std      5.355718e+05\n",
       "min      0.000000e+00\n",
       "25%      1.875200e+03\n",
       "50%      2.720000e+04\n",
       "75%      1.514133e+05\n",
       "max      3.151678e+06\n",
       "Name: Total, dtype: float64"
      ]
     },
     "execution_count": 25,
     "metadata": {},
     "output_type": "execute_result"
    }
   ],
   "source": [
    "lic_obras_RP_2020[lic_obras_RP_2020['Tag'] == 0]['Total'].describe()"
   ]
  },
  {
   "cell_type": "code",
   "execution_count": 26,
   "id": "b92fdf13",
   "metadata": {},
   "outputs": [
    {
     "data": {
      "text/plain": [
       "<AxesSubplot:>"
      ]
     },
     "execution_count": 26,
     "metadata": {},
     "output_type": "execute_result"
    },
    {
     "data": {
      "image/png": "[encoded data removed]",
      "text/plain": [
       "<Figure size 432x288 with 1 Axes>"
      ]
     },
     "metadata": {
      "needs_background": "light"
     },
     "output_type": "display_data"
    }
   ],
   "source": [
    "lic_obras_RP_2020[lic_obras_RP_2020['Tag'] == 1]['Total'].plot.box()"
   ]
  },
  {
   "cell_type": "code",
   "execution_count": 27,
   "id": "9b84db06",
   "metadata": {},
   "outputs": [
    {
     "data": {
      "text/plain": [
       "0    19179\n",
       "1      507\n",
       "Name: Tag, dtype: int64"
      ]
     },
     "execution_count": 27,
     "metadata": {},
     "output_type": "execute_result"
    }
   ],
   "source": [
    "lic_compras_RP_2020['Tag'].value_counts()"
   ]
  },
  {
   "cell_type": "code",
   "execution_count": 28,
   "id": "bf4096fe",
   "metadata": {},
   "outputs": [
    {
     "data": {
      "text/plain": [
       "<AxesSubplot:>"
      ]
     },
     "execution_count": 28,
     "metadata": {},
     "output_type": "execute_result"
    },
    {
     "data": {
      "image/png": "[encoded data removed]",
      "text/plain": [
       "<Figure size 432x288 with 1 Axes>"
      ]
     },
     "metadata": {
      "needs_background": "light"
     },
     "output_type": "display_data"
    }
   ],
   "source": [
    "# Visualizando as licitações do tipo Registro de Preço que foram Ilegais\n",
    "lic_compras_RP_2020[lic_compras_RP_2020['Tag'] == 0]['Total'].plot.box()"
   ]
  },
  {
   "cell_type": "code",
   "execution_count": 29,
   "id": "c607d662",
   "metadata": {},
   "outputs": [
    {
     "data": {
      "text/plain": [
       "count    1.917900e+04\n",
       "mean     5.648963e+04\n",
       "std      1.584360e+05\n",
       "min      0.000000e+00\n",
       "25%      1.223750e+02\n",
       "50%      4.860000e+03\n",
       "75%      3.170250e+04\n",
       "max      1.425600e+06\n",
       "Name: Total, dtype: float64"
      ]
     },
     "execution_count": 29,
     "metadata": {},
     "output_type": "execute_result"
    }
   ],
   "source": [
    "lic_compras_RP_2020[lic_compras_RP_2020['Tag'] == 0]['Total'].describe()"
   ]
  },
  {
   "cell_type": "code",
   "execution_count": 30,
   "id": "b261e2d7",
   "metadata": {},
   "outputs": [
    {
     "data": {
      "text/plain": [
       "<AxesSubplot:>"
      ]
     },
     "execution_count": 30,
     "metadata": {},
     "output_type": "execute_result"
    },
    {
     "data": {
      "image/png": "[encoded data removed]",
      "text/plain": [
       "<Figure size 432x288 with 1 Axes>"
      ]
     },
     "metadata": {
      "needs_background": "light"
     },
     "output_type": "display_data"
    }
   ],
   "source": [
    "# Visualizando as licitações do tipo Registro de Preço que foram Legais\n",
    "lic_compras_RP_2020[lic_compras_RP_2020['Tag'] == 1]['Total'].plot.box()"
   ]
  },
  {
   "cell_type": "code",
   "execution_count": 31,
   "id": "b52ec2c7",
   "metadata": {},
   "outputs": [
    {
     "data": {
      "text/plain": [
       "count    5.070000e+02\n",
       "mean     4.813290e+09\n",
       "std      1.081114e+11\n",
       "min      1.432000e+06\n",
       "25%      2.131722e+06\n",
       "50%      4.128000e+06\n",
       "75%      8.399413e+06\n",
       "max      2.434320e+12\n",
       "Name: Total, dtype: float64"
      ]
     },
     "execution_count": 31,
     "metadata": {},
     "output_type": "execute_result"
    }
   ],
   "source": [
    "lic_compras_RP_2020[lic_compras_RP_2020['Tag'] == 1]['Total'].describe()"
   ]
  },
  {
   "cell_type": "markdown",
   "id": "3beba261",
   "metadata": {},
   "source": [
    "## Dispensa de Licitação"
   ]
  },
  {
   "cell_type": "code",
   "execution_count": 32,
   "id": "1417effc",
   "metadata": {},
   "outputs": [],
   "source": [
    "df_lic_2020_Dispensa = df_lic_2020[df_lic_2020['Modalidade Compra'] == 'Dispensa de Licitação']"
   ]
  },
  {
   "cell_type": "code",
   "execution_count": 33,
   "id": "e06a1757",
   "metadata": {},
   "outputs": [
    {
     "data": {
      "text/plain": [
       "Dispensa de Licitação    102062\n",
       "Name: Modalidade Compra, dtype: int64"
      ]
     },
     "execution_count": 33,
     "metadata": {},
     "output_type": "execute_result"
    }
   ],
   "source": [
    "df_lic_2020_Dispensa['Modalidade Compra'].value_counts()"
   ]
  },
  {
   "cell_type": "code",
   "execution_count": 34,
   "id": "4584d7dc",
   "metadata": {},
   "outputs": [
    {
     "data": {
      "text/plain": [
       "Compras/Servicos    100000\n",
       "Obras                 2062\n",
       "Name: Tipo, dtype: int64"
      ]
     },
     "execution_count": 34,
     "metadata": {},
     "output_type": "execute_result"
    }
   ],
   "source": [
    "df_lic_2020_Dispensa['Tipo'].value_counts()"
   ]
  },
  {
   "cell_type": "code",
   "execution_count": 35,
   "id": "4dd345bf",
   "metadata": {},
   "outputs": [],
   "source": [
    "lic_obras_Dispensa_2020 = df_lic_2020_Dispensa[df_lic_2020_Dispensa['Tipo'] == 'Obras']\n",
    "lic_compras_Dispensa_2020 = df_lic_2020_Dispensa[df_lic_2020_Dispensa['Tipo'] != 'Obras']"
   ]
  },
  {
   "cell_type": "code",
   "execution_count": 36,
   "id": "0b03f2b5",
   "metadata": {},
   "outputs": [
    {
     "data": {
      "text/plain": [
       "Obras    2062\n",
       "Name: Tipo, dtype: int64"
      ]
     },
     "execution_count": 36,
     "metadata": {},
     "output_type": "execute_result"
    }
   ],
   "source": [
    "lic_obras_Dispensa_2020['Tipo'].value_counts()"
   ]
  },
  {
   "cell_type": "code",
   "execution_count": 37,
   "id": "5da097b1",
   "metadata": {},
   "outputs": [
    {
     "data": {
      "text/plain": [
       "Compras/Servicos    100000\n",
       "Name: Tipo, dtype: int64"
      ]
     },
     "execution_count": 37,
     "metadata": {},
     "output_type": "execute_result"
    }
   ],
   "source": [
    "lic_compras_Dispensa_2020['Tipo'].value_counts()"
   ]
  },
  {
   "cell_type": "markdown",
   "id": "1ab70b41",
   "metadata": {},
   "source": [
    "## Tag'ando como legal ou ilegal de acordo com Decreto nº 9.412, de 18 de Junho de 2020\n",
    "\n",
    "#### 0: ilegal\n",
    "#### 1: legal"
   ]
  },
  {
   "cell_type": "code",
   "execution_count": 38,
   "id": "33ea8c83",
   "metadata": {},
   "outputs": [
    {
     "name": "stderr",
     "output_type": "stream",
     "text": [
      "C:\\Users\\lrr\\AppData\\Local\\Temp/ipykernel_23052/2119701332.py:1: SettingWithCopyWarning: \n",
      "A value is trying to be set on a copy of a slice from a DataFrame.\n",
      "Try using .loc[row_indexer,col_indexer] = value instead\n",
      "\n",
      "See the caveats in the documentation: https://pandas.pydata.org/pandas-docs/stable/user_guide/indexing.html#returning-a-view-versus-a-copy\n",
      "  lic_obras_Dispensa_2020['Tag'] = 0\n",
      "C:\\Users\\lrr\\AppData\\Local\\Temp/ipykernel_23052/2119701332.py:2: SettingWithCopyWarning: \n",
      "A value is trying to be set on a copy of a slice from a DataFrame.\n",
      "Try using .loc[row_indexer,col_indexer] = value instead\n",
      "\n",
      "See the caveats in the documentation: https://pandas.pydata.org/pandas-docs/stable/user_guide/indexing.html#returning-a-view-versus-a-copy\n",
      "  lic_compras_Dispensa_2020['Tag'] = 0\n"
     ]
    }
   ],
   "source": [
    "lic_obras_Dispensa_2020['Tag'] = 0\n",
    "lic_compras_Dispensa_2020['Tag'] = 0"
   ]
  },
  {
   "cell_type": "code",
   "execution_count": 39,
   "id": "d52917c7",
   "metadata": {},
   "outputs": [
    {
     "name": "stderr",
     "output_type": "stream",
     "text": [
      "C:\\Users\\lrr\\anaconda3\\lib\\site-packages\\pandas\\core\\indexing.py:1817: SettingWithCopyWarning: \n",
      "A value is trying to be set on a copy of a slice from a DataFrame.\n",
      "Try using .loc[row_indexer,col_indexer] = value instead\n",
      "\n",
      "See the caveats in the documentation: https://pandas.pydata.org/pandas-docs/stable/user_guide/indexing.html#returning-a-view-versus-a-copy\n",
      "  self._setitem_single_column(loc, value, pi)\n"
     ]
    }
   ],
   "source": [
    "#regra de limite de valor\n",
    "lic_obras_Dispensa_2020.loc[lic_obras_Dispensa_2020['Total'] <= 33000 , 'Tag'] = 1\n",
    "lic_compras_Dispensa_2020.loc[lic_compras_Dispensa_2020['Total'] <= 17600, 'Tag'] = 1"
   ]
  },
  {
   "cell_type": "code",
   "execution_count": 40,
   "id": "7c43bf62",
   "metadata": {},
   "outputs": [
    {
     "data": {
      "text/plain": [
       "1    1596\n",
       "0     466\n",
       "Name: Tag, dtype: int64"
      ]
     },
     "execution_count": 40,
     "metadata": {},
     "output_type": "execute_result"
    }
   ],
   "source": [
    "lic_obras_Dispensa_2020['Tag'].value_counts()"
   ]
  },
  {
   "cell_type": "code",
   "execution_count": 41,
   "id": "71a9884c",
   "metadata": {},
   "outputs": [
    {
     "data": {
      "image/png": "[encoded data removed]",
      "text/plain": [
       "<Figure size 432x288 with 1 Axes>"
      ]
     },
     "metadata": {
      "needs_background": "light"
     },
     "output_type": "display_data"
    }
   ],
   "source": [
    "lic_obras_Dispensa_2020[lic_obras_Dispensa_2020['Tag'] == 1]['Total'].plot.box()\n",
    "plt.show()"
   ]
  },
  {
   "cell_type": "code",
   "execution_count": 42,
   "id": "4fd077bb",
   "metadata": {},
   "outputs": [
    {
     "data": {
      "text/plain": [
       "count     1596.000000\n",
       "mean      9189.964505\n",
       "std       9031.600611\n",
       "min          0.000000\n",
       "25%       1980.750000\n",
       "50%       5667.000000\n",
       "75%      14197.500000\n",
       "max      33000.000000\n",
       "Name: Total, dtype: float64"
      ]
     },
     "execution_count": 42,
     "metadata": {},
     "output_type": "execute_result"
    }
   ],
   "source": [
    "lic_obras_Dispensa_2020[lic_obras_Dispensa_2020['Tag'] == 1]['Total'].describe()"
   ]
  },
  {
   "cell_type": "code",
   "execution_count": 43,
   "id": "a72ea562",
   "metadata": {},
   "outputs": [
    {
     "data": {
      "image/png": "[encoded data removed]",
      "text/plain": [
       "<Figure size 432x288 with 1 Axes>"
      ]
     },
     "metadata": {
      "needs_background": "light"
     },
     "output_type": "display_data"
    }
   ],
   "source": [
    "lic_obras_Dispensa_2020[lic_obras_Dispensa_2020['Tag'] == 0]['Total'].plot.box()\n",
    "plt.show()"
   ]
  },
  {
   "cell_type": "code",
   "execution_count": 44,
   "id": "555438f8",
   "metadata": {},
   "outputs": [
    {
     "data": {
      "text/plain": [
       "count    4.660000e+02\n",
       "mean     9.465799e+05\n",
       "std      3.674913e+06\n",
       "min      3.321000e+04\n",
       "25%      5.103015e+04\n",
       "50%      9.917494e+04\n",
       "75%      4.239157e+05\n",
       "max      5.683217e+07\n",
       "Name: Total, dtype: float64"
      ]
     },
     "execution_count": 44,
     "metadata": {},
     "output_type": "execute_result"
    }
   ],
   "source": [
    "lic_obras_Dispensa_2020[lic_obras_Dispensa_2020['Tag'] == 0]['Total'].describe()"
   ]
  },
  {
   "cell_type": "code",
   "execution_count": 45,
   "id": "43349d12",
   "metadata": {},
   "outputs": [
    {
     "data": {
      "text/plain": [
       "1    85462\n",
       "0    14538\n",
       "Name: Tag, dtype: int64"
      ]
     },
     "execution_count": 45,
     "metadata": {},
     "output_type": "execute_result"
    }
   ],
   "source": [
    "lic_compras_Dispensa_2020['Tag'].value_counts()"
   ]
  },
  {
   "cell_type": "code",
   "execution_count": 46,
   "id": "8469acf4",
   "metadata": {},
   "outputs": [
    {
     "data": {
      "image/png": "[encoded data removed]",
      "text/plain": [
       "<Figure size 432x288 with 1 Axes>"
      ]
     },
     "metadata": {
      "needs_background": "light"
     },
     "output_type": "display_data"
    }
   ],
   "source": [
    "lic_compras_Dispensa_2020[lic_compras_Dispensa_2020['Tag'] == 1]['Total'].plot.box()\n",
    "plt.show()"
   ]
  },
  {
   "cell_type": "code",
   "execution_count": 47,
   "id": "4ea1aab7",
   "metadata": {},
   "outputs": [
    {
     "data": {
      "text/plain": [
       "count    85462.000000\n",
       "mean      4337.759326\n",
       "std       4511.700014\n",
       "min          0.000000\n",
       "25%        966.000000\n",
       "50%       2537.335000\n",
       "75%       6264.705000\n",
       "max      17600.000000\n",
       "Name: Total, dtype: float64"
      ]
     },
     "execution_count": 47,
     "metadata": {},
     "output_type": "execute_result"
    }
   ],
   "source": [
    "lic_compras_Dispensa_2020[lic_compras_Dispensa_2020['Tag'] == 1]['Total'].describe()"
   ]
  },
  {
   "cell_type": "code",
   "execution_count": 48,
   "id": "eb1b0438",
   "metadata": {},
   "outputs": [
    {
     "data": {
      "image/png": "[encoded data removed]",
      "text/plain": [
       "<Figure size 432x288 with 1 Axes>"
      ]
     },
     "metadata": {
      "needs_background": "light"
     },
     "output_type": "display_data"
    }
   ],
   "source": [
    "lic_compras_Dispensa_2020[lic_compras_Dispensa_2020['Tag'] == 0]['Total'].plot.box()\n",
    "plt.show()"
   ]
  },
  {
   "cell_type": "code",
   "execution_count": 49,
   "id": "7869a53a",
   "metadata": {},
   "outputs": [
    {
     "data": {
      "text/plain": [
       "count    1.453800e+04\n",
       "mean     1.246876e+06\n",
       "std      1.982053e+07\n",
       "min      1.760125e+04\n",
       "25%      2.699964e+04\n",
       "50%      4.624500e+04\n",
       "75%      1.638636e+05\n",
       "max      1.353826e+09\n",
       "Name: Total, dtype: float64"
      ]
     },
     "execution_count": 49,
     "metadata": {},
     "output_type": "execute_result"
    }
   ],
   "source": [
    "lic_compras_Dispensa_2020[lic_compras_Dispensa_2020['Tag'] == 0]['Total'].describe()"
   ]
  },
  {
   "cell_type": "markdown",
   "id": "a33dc1f7",
   "metadata": {},
   "source": [
    "## Tomada de Preço"
   ]
  },
  {
   "cell_type": "code",
   "execution_count": 50,
   "id": "aa38f8c9",
   "metadata": {},
   "outputs": [],
   "source": [
    "df_lic_2020_tomada_de_preco = df_lic_2020[df_lic_2020['Modalidade Compra'] == 'Tomada de Preços']"
   ]
  },
  {
   "cell_type": "code",
   "execution_count": 51,
   "id": "88c845c8",
   "metadata": {},
   "outputs": [
    {
     "data": {
      "text/plain": [
       "Tomada de Preços    718\n",
       "Name: Modalidade Compra, dtype: int64"
      ]
     },
     "execution_count": 51,
     "metadata": {},
     "output_type": "execute_result"
    }
   ],
   "source": [
    "df_lic_2020_tomada_de_preco['Modalidade Compra'].value_counts()"
   ]
  },
  {
   "cell_type": "code",
   "execution_count": 52,
   "id": "b719bb05",
   "metadata": {},
   "outputs": [
    {
     "data": {
      "text/plain": [
       "Compras/Servicos    435\n",
       "Obras               283\n",
       "Name: Tipo, dtype: int64"
      ]
     },
     "execution_count": 52,
     "metadata": {},
     "output_type": "execute_result"
    }
   ],
   "source": [
    "df_lic_2020_tomada_de_preco['Tipo'].value_counts()"
   ]
  },
  {
   "cell_type": "code",
   "execution_count": 53,
   "id": "abb02694",
   "metadata": {},
   "outputs": [],
   "source": [
    "lic_obras_tomada_de_preco_2020 = df_lic_2020_tomada_de_preco[df_lic_2020_tomada_de_preco['Tipo'] == 'Obras']\n",
    "lic_compras_tomada_de_preco_2020 = df_lic_2020_tomada_de_preco[df_lic_2020_tomada_de_preco['Tipo'] != 'Obras']"
   ]
  },
  {
   "cell_type": "code",
   "execution_count": 54,
   "id": "f16edbb3",
   "metadata": {},
   "outputs": [
    {
     "data": {
      "text/plain": [
       "Obras    283\n",
       "Name: Tipo, dtype: int64"
      ]
     },
     "execution_count": 54,
     "metadata": {},
     "output_type": "execute_result"
    }
   ],
   "source": [
    "lic_obras_tomada_de_preco_2020['Tipo'].value_counts()"
   ]
  },
  {
   "cell_type": "code",
   "execution_count": 55,
   "id": "c2b5b125",
   "metadata": {},
   "outputs": [
    {
     "data": {
      "text/plain": [
       "Compras/Servicos    435\n",
       "Name: Tipo, dtype: int64"
      ]
     },
     "execution_count": 55,
     "metadata": {},
     "output_type": "execute_result"
    }
   ],
   "source": [
    "lic_compras_tomada_de_preco_2020['Tipo'].value_counts()"
   ]
  },
  {
   "cell_type": "code",
   "execution_count": 56,
   "id": "06769485",
   "metadata": {},
   "outputs": [
    {
     "name": "stderr",
     "output_type": "stream",
     "text": [
      "C:\\Users\\lrr\\AppData\\Local\\Temp/ipykernel_23052/1576999121.py:6: SettingWithCopyWarning: \n",
      "A value is trying to be set on a copy of a slice from a DataFrame.\n",
      "Try using .loc[row_indexer,col_indexer] = value instead\n",
      "\n",
      "See the caveats in the documentation: https://pandas.pydata.org/pandas-docs/stable/user_guide/indexing.html#returning-a-view-versus-a-copy\n",
      "  lic_obras_tomada_de_preco_2020['Tag'] = 0\n",
      "C:\\Users\\lrr\\AppData\\Local\\Temp/ipykernel_23052/1576999121.py:7: SettingWithCopyWarning: \n",
      "A value is trying to be set on a copy of a slice from a DataFrame.\n",
      "Try using .loc[row_indexer,col_indexer] = value instead\n",
      "\n",
      "See the caveats in the documentation: https://pandas.pydata.org/pandas-docs/stable/user_guide/indexing.html#returning-a-view-versus-a-copy\n",
      "  lic_compras_tomada_de_preco_2020['Tag'] = 0\n",
      "C:\\Users\\lrr\\anaconda3\\lib\\site-packages\\pandas\\core\\indexing.py:1817: SettingWithCopyWarning: \n",
      "A value is trying to be set on a copy of a slice from a DataFrame.\n",
      "Try using .loc[row_indexer,col_indexer] = value instead\n",
      "\n",
      "See the caveats in the documentation: https://pandas.pydata.org/pandas-docs/stable/user_guide/indexing.html#returning-a-view-versus-a-copy\n",
      "  self._setitem_single_column(loc, value, pi)\n"
     ]
    }
   ],
   "source": [
    "## Tag'ando como legal ou ilegal de acordo com Decreto nº 9.412, de 18 de Junho de 2020\n",
    "\n",
    "#### 0: ilegal\n",
    "#### 1: legal\n",
    "\n",
    "lic_obras_tomada_de_preco_2020['Tag'] = 0\n",
    "lic_compras_tomada_de_preco_2020['Tag'] = 0\n",
    "\n",
    "#regra de limite de valor\n",
    "lic_obras_tomada_de_preco_2020.loc[(lic_obras_tomada_de_preco_2020['Total'] >  330000) & (lic_obras_tomada_de_preco_2020['Total'] <=   3300000) , 'Tag'] = 1\n",
    "lic_compras_tomada_de_preco_2020.loc[(lic_compras_tomada_de_preco_2020['Total'] >  176000) & (lic_compras_tomada_de_preco_2020['Total'] <=  1400000), 'Tag'] = 1"
   ]
  },
  {
   "cell_type": "code",
   "execution_count": 57,
   "id": "e0ea498c",
   "metadata": {},
   "outputs": [
    {
     "data": {
      "text/plain": [
       "1    156\n",
       "0    127\n",
       "Name: Tag, dtype: int64"
      ]
     },
     "execution_count": 57,
     "metadata": {},
     "output_type": "execute_result"
    }
   ],
   "source": [
    "lic_obras_tomada_de_preco_2020['Tag'].value_counts()"
   ]
  },
  {
   "cell_type": "code",
   "execution_count": 58,
   "id": "58dcba1f",
   "metadata": {},
   "outputs": [
    {
     "data": {
      "image/png": "[encoded data removed]",
      "text/plain": [
       "<Figure size 432x288 with 1 Axes>"
      ]
     },
     "metadata": {
      "needs_background": "light"
     },
     "output_type": "display_data"
    }
   ],
   "source": [
    "lic_obras_tomada_de_preco_2020[lic_obras_tomada_de_preco_2020['Tag'] == 1]['Total'].plot.box()\n",
    "plt.show()"
   ]
  },
  {
   "cell_type": "code",
   "execution_count": 59,
   "id": "0e2a8ff8",
   "metadata": {},
   "outputs": [
    {
     "data": {
      "text/plain": [
       "count    1.560000e+02\n",
       "mean     9.538511e+05\n",
       "std      6.515488e+05\n",
       "min      3.324993e+05\n",
       "25%      4.659162e+05\n",
       "50%      6.817872e+05\n",
       "75%      1.225781e+06\n",
       "max      3.159088e+06\n",
       "Name: Total, dtype: float64"
      ]
     },
     "execution_count": 59,
     "metadata": {},
     "output_type": "execute_result"
    }
   ],
   "source": [
    "lic_obras_tomada_de_preco_2020[lic_obras_tomada_de_preco_2020['Tag'] == 1]['Total'].describe()"
   ]
  },
  {
   "cell_type": "code",
   "execution_count": 60,
   "id": "e7af3874",
   "metadata": {},
   "outputs": [
    {
     "data": {
      "image/png": "[encoded data removed]",
      "text/plain": [
       "<Figure size 432x288 with 1 Axes>"
      ]
     },
     "metadata": {
      "needs_background": "light"
     },
     "output_type": "display_data"
    }
   ],
   "source": [
    "lic_obras_tomada_de_preco_2020[lic_obras_tomada_de_preco_2020['Tag'] == 0]['Total'].plot.box()\n",
    "plt.show()"
   ]
  },
  {
   "cell_type": "code",
   "execution_count": 61,
   "id": "2d79e582",
   "metadata": {},
   "outputs": [
    {
     "data": {
      "text/plain": [
       "1    283\n",
       "0    152\n",
       "Name: Tag, dtype: int64"
      ]
     },
     "execution_count": 61,
     "metadata": {},
     "output_type": "execute_result"
    }
   ],
   "source": [
    "lic_compras_tomada_de_preco_2020['Tag'].value_counts()"
   ]
  },
  {
   "cell_type": "code",
   "execution_count": 62,
   "id": "f4283f09",
   "metadata": {},
   "outputs": [
    {
     "data": {
      "text/plain": [
       "count    2.830000e+02\n",
       "mean     5.515468e+05\n",
       "std      3.217225e+05\n",
       "min      1.766777e+05\n",
       "25%      3.004545e+05\n",
       "50%      4.445765e+05\n",
       "75%      7.376809e+05\n",
       "max      1.396531e+06\n",
       "Name: Total, dtype: float64"
      ]
     },
     "execution_count": 62,
     "metadata": {},
     "output_type": "execute_result"
    }
   ],
   "source": [
    "# Licitaçoes Legais\n",
    "lic_compras_tomada_de_preco_2020[lic_compras_tomada_de_preco_2020['Tag'] == 1]['Total'].describe()"
   ]
  },
  {
   "cell_type": "code",
   "execution_count": 63,
   "id": "258ae46a",
   "metadata": {},
   "outputs": [
    {
     "data": {
      "text/plain": [
       "count    2.830000e+02\n",
       "mean     5.515468e+05\n",
       "std      3.217225e+05\n",
       "min      1.766777e+05\n",
       "25%      3.004545e+05\n",
       "50%      4.445765e+05\n",
       "75%      7.376809e+05\n",
       "max      1.396531e+06\n",
       "Name: Total, dtype: float64"
      ]
     },
     "execution_count": 63,
     "metadata": {},
     "output_type": "execute_result"
    }
   ],
   "source": [
    "lic_compras_tomada_de_preco_2020[lic_compras_tomada_de_preco_2020['Tag'] == 1]['Total'].describe()"
   ]
  },
  {
   "cell_type": "code",
   "execution_count": 64,
   "id": "a90132c0",
   "metadata": {},
   "outputs": [
    {
     "data": {
      "image/png": "[encoded data removed]",
      "text/plain": [
       "<Figure size 432x288 with 1 Axes>"
      ]
     },
     "metadata": {
      "needs_background": "light"
     },
     "output_type": "display_data"
    }
   ],
   "source": [
    "# Licitações Ilegais\n",
    "lic_compras_tomada_de_preco_2020[lic_compras_tomada_de_preco_2020['Tag'] == 0]['Total'].plot.box()\n",
    "plt.show()"
   ]
  },
  {
   "cell_type": "code",
   "execution_count": 65,
   "id": "5c112e1d",
   "metadata": {},
   "outputs": [
    {
     "data": {
      "text/plain": [
       "count    1.520000e+02\n",
       "mean     6.928322e+05\n",
       "std      9.267593e+05\n",
       "min      0.000000e+00\n",
       "25%      6.368863e+04\n",
       "50%      1.197264e+05\n",
       "75%      1.629016e+06\n",
       "max      3.048457e+06\n",
       "Name: Total, dtype: float64"
      ]
     },
     "execution_count": 65,
     "metadata": {},
     "output_type": "execute_result"
    }
   ],
   "source": [
    "lic_compras_tomada_de_preco_2020[lic_compras_tomada_de_preco_2020['Tag'] == 0]['Total'].describe()"
   ]
  },
  {
   "cell_type": "markdown",
   "id": "2f751147",
   "metadata": {},
   "source": [
    "## Convite"
   ]
  },
  {
   "cell_type": "code",
   "execution_count": 66,
   "id": "2c6e1364",
   "metadata": {},
   "outputs": [],
   "source": [
    "df_lic_2020_convite = df_lic_2020[df_lic_2020['Modalidade Compra'] == 'Convite']"
   ]
  },
  {
   "cell_type": "code",
   "execution_count": 67,
   "id": "7bec1082",
   "metadata": {},
   "outputs": [
    {
     "data": {
      "text/plain": [
       "Convite    60\n",
       "Name: Modalidade Compra, dtype: int64"
      ]
     },
     "execution_count": 67,
     "metadata": {},
     "output_type": "execute_result"
    }
   ],
   "source": [
    "df_lic_2020_convite['Modalidade Compra'].value_counts()"
   ]
  },
  {
   "cell_type": "code",
   "execution_count": 68,
   "id": "038bd8e1",
   "metadata": {},
   "outputs": [
    {
     "data": {
      "text/plain": [
       "Compras/Servicos    33\n",
       "Obras               27\n",
       "Name: Tipo, dtype: int64"
      ]
     },
     "execution_count": 68,
     "metadata": {},
     "output_type": "execute_result"
    }
   ],
   "source": [
    "df_lic_2020_convite['Tipo'].value_counts()"
   ]
  },
  {
   "cell_type": "code",
   "execution_count": 69,
   "id": "322cc1b8",
   "metadata": {},
   "outputs": [],
   "source": [
    "lic_compras_convite_2020 = df_lic_2020_convite[df_lic_2020_convite['Tipo'] != 'Obras']\n",
    "lic_obras_convite_2020 = df_lic_2020_convite[df_lic_2020_convite['Tipo'] == 'Obras']"
   ]
  },
  {
   "cell_type": "code",
   "execution_count": 70,
   "id": "5d8d74c0",
   "metadata": {},
   "outputs": [
    {
     "data": {
      "text/plain": [
       "Compras/Servicos    33\n",
       "Name: Tipo, dtype: int64"
      ]
     },
     "execution_count": 70,
     "metadata": {},
     "output_type": "execute_result"
    }
   ],
   "source": [
    "lic_compras_convite_2020['Tipo'].value_counts()"
   ]
  },
  {
   "cell_type": "code",
   "execution_count": 71,
   "id": "8b864ccc",
   "metadata": {},
   "outputs": [
    {
     "data": {
      "text/plain": [
       "Obras    27\n",
       "Name: Tipo, dtype: int64"
      ]
     },
     "execution_count": 71,
     "metadata": {},
     "output_type": "execute_result"
    }
   ],
   "source": [
    "lic_obras_convite_2020['Tipo'].value_counts()"
   ]
  },
  {
   "cell_type": "code",
   "execution_count": 72,
   "id": "8f93edd0",
   "metadata": {},
   "outputs": [
    {
     "name": "stderr",
     "output_type": "stream",
     "text": [
      "C:\\Users\\lrr\\AppData\\Local\\Temp/ipykernel_23052/4180678550.py:6: SettingWithCopyWarning: \n",
      "A value is trying to be set on a copy of a slice from a DataFrame.\n",
      "Try using .loc[row_indexer,col_indexer] = value instead\n",
      "\n",
      "See the caveats in the documentation: https://pandas.pydata.org/pandas-docs/stable/user_guide/indexing.html#returning-a-view-versus-a-copy\n",
      "  lic_compras_convite_2020['Tag'] = 0\n",
      "C:\\Users\\lrr\\AppData\\Local\\Temp/ipykernel_23052/4180678550.py:7: SettingWithCopyWarning: \n",
      "A value is trying to be set on a copy of a slice from a DataFrame.\n",
      "Try using .loc[row_indexer,col_indexer] = value instead\n",
      "\n",
      "See the caveats in the documentation: https://pandas.pydata.org/pandas-docs/stable/user_guide/indexing.html#returning-a-view-versus-a-copy\n",
      "  lic_obras_convite_2020['Tag'] = 0\n",
      "C:\\Users\\lrr\\anaconda3\\lib\\site-packages\\pandas\\core\\indexing.py:1817: SettingWithCopyWarning: \n",
      "A value is trying to be set on a copy of a slice from a DataFrame.\n",
      "Try using .loc[row_indexer,col_indexer] = value instead\n",
      "\n",
      "See the caveats in the documentation: https://pandas.pydata.org/pandas-docs/stable/user_guide/indexing.html#returning-a-view-versus-a-copy\n",
      "  self._setitem_single_column(loc, value, pi)\n"
     ]
    }
   ],
   "source": [
    "## Tag'ando como legal ou ilegal de acordo com Decreto nº 9.412, de 18 de Junho de 2020\n",
    "\n",
    "#### 0: ilegal\n",
    "#### 1: legal\n",
    "\n",
    "lic_compras_convite_2020['Tag'] = 0\n",
    "lic_obras_convite_2020['Tag'] = 0\n",
    "\n",
    "#regra de limite de valor\n",
    "lic_compras_convite_2020.loc[(lic_compras_convite_2020['Total'] >  17600) & (lic_compras_convite_2020['Total'] <=   176000) , 'Tag'] = 1\n",
    "lic_obras_convite_2020.loc[(lic_obras_convite_2020['Total'] >  33000) & (lic_obras_convite_2020['Total'] <=   330000), 'Tag'] = 1\n"
   ]
  },
  {
   "cell_type": "code",
   "execution_count": 73,
   "id": "b5b17127",
   "metadata": {},
   "outputs": [
    {
     "data": {
      "text/plain": [
       "1    22\n",
       "0    11\n",
       "Name: Tag, dtype: int64"
      ]
     },
     "execution_count": 73,
     "metadata": {},
     "output_type": "execute_result"
    }
   ],
   "source": [
    "lic_compras_convite_2020['Tag'].value_counts()"
   ]
  },
  {
   "cell_type": "code",
   "execution_count": 74,
   "id": "851fabda",
   "metadata": {},
   "outputs": [
    {
     "data": {
      "image/png": "[encoded data removed]",
      "text/plain": [
       "<Figure size 432x288 with 1 Axes>"
      ]
     },
     "metadata": {
      "needs_background": "light"
     },
     "output_type": "display_data"
    }
   ],
   "source": [
    "lic_compras_convite_2020[lic_compras_convite_2020['Tag'] == 1]['Total'].plot.box()\n",
    "plt.show()"
   ]
  },
  {
   "cell_type": "code",
   "execution_count": 75,
   "id": "28c5ee7c",
   "metadata": {},
   "outputs": [
    {
     "data": {
      "text/plain": [
       "count        22.000000\n",
       "mean     117724.997727\n",
       "std       39179.390574\n",
       "min       38496.670000\n",
       "25%       94036.072500\n",
       "50%      116743.980000\n",
       "75%      156978.020000\n",
       "max      167398.000000\n",
       "Name: Total, dtype: float64"
      ]
     },
     "execution_count": 75,
     "metadata": {},
     "output_type": "execute_result"
    }
   ],
   "source": [
    "lic_compras_convite_2020[lic_compras_convite_2020['Tag'] == 1]['Total'].describe()"
   ]
  },
  {
   "cell_type": "code",
   "execution_count": 76,
   "id": "d3ec16cb",
   "metadata": {},
   "outputs": [
    {
     "data": {
      "image/png": "[encoded data removed]",
      "text/plain": [
       "<Figure size 432x288 with 1 Axes>"
      ]
     },
     "metadata": {
      "needs_background": "light"
     },
     "output_type": "display_data"
    }
   ],
   "source": [
    "lic_compras_convite_2020[lic_compras_convite_2020['Tag'] == 0]['Total'].plot.box()\n",
    "plt.show()"
   ]
  },
  {
   "cell_type": "code",
   "execution_count": 77,
   "id": "661a50d1",
   "metadata": {},
   "outputs": [
    {
     "data": {
      "text/plain": [
       "count        11.000000\n",
       "mean     213649.590000\n",
       "std       81168.597312\n",
       "min           0.000000\n",
       "25%      201134.765000\n",
       "50%      219163.530000\n",
       "75%      251092.780000\n",
       "max      316342.460000\n",
       "Name: Total, dtype: float64"
      ]
     },
     "execution_count": 77,
     "metadata": {},
     "output_type": "execute_result"
    }
   ],
   "source": [
    "lic_compras_convite_2020[lic_compras_convite_2020['Tag'] == 0]['Total'].describe()"
   ]
  },
  {
   "cell_type": "code",
   "execution_count": 78,
   "id": "e6e82815",
   "metadata": {},
   "outputs": [
    {
     "data": {
      "text/plain": [
       "1    25\n",
       "0     2\n",
       "Name: Tag, dtype: int64"
      ]
     },
     "execution_count": 78,
     "metadata": {},
     "output_type": "execute_result"
    }
   ],
   "source": [
    "lic_obras_convite_2020['Tag'].value_counts()"
   ]
  },
  {
   "cell_type": "code",
   "execution_count": 79,
   "id": "e27eaeff",
   "metadata": {},
   "outputs": [
    {
     "data": {
      "image/png": "[encoded data removed]",
      "text/plain": [
       "<Figure size 432x288 with 1 Axes>"
      ]
     },
     "metadata": {
      "needs_background": "light"
     },
     "output_type": "display_data"
    }
   ],
   "source": [
    "lic_obras_convite_2020[lic_obras_convite_2020['Tag'] == 1]['Total'].plot.box()\n",
    "plt.show()"
   ]
  },
  {
   "cell_type": "code",
   "execution_count": 80,
   "id": "71098714",
   "metadata": {},
   "outputs": [
    {
     "data": {
      "text/plain": [
       "count        25.000000\n",
       "mean     131794.173600\n",
       "std       61060.837994\n",
       "min       40653.950000\n",
       "25%       82823.570000\n",
       "50%      120680.260000\n",
       "75%      187929.970000\n",
       "max      249576.390000\n",
       "Name: Total, dtype: float64"
      ]
     },
     "execution_count": 80,
     "metadata": {},
     "output_type": "execute_result"
    }
   ],
   "source": [
    "lic_obras_convite_2020[lic_obras_convite_2020['Tag'] == 1]['Total'].describe()"
   ]
  },
  {
   "cell_type": "code",
   "execution_count": 81,
   "id": "d5ae81df",
   "metadata": {},
   "outputs": [
    {
     "data": {
      "image/png": "[encoded data removed]",
      "text/plain": [
       "<Figure size 432x288 with 1 Axes>"
      ]
     },
     "metadata": {
      "needs_background": "light"
     },
     "output_type": "display_data"
    }
   ],
   "source": [
    "lic_obras_convite_2020[lic_obras_convite_2020['Tag'] == 0]['Total'].plot.box()\n",
    "plt.show()"
   ]
  },
  {
   "cell_type": "code",
   "execution_count": 82,
   "id": "c58f4bae",
   "metadata": {},
   "outputs": [
    {
     "data": {
      "text/plain": [
       "count        2.000000\n",
       "mean     10846.645000\n",
       "std      15339.472465\n",
       "min          0.000000\n",
       "25%       5423.322500\n",
       "50%      10846.645000\n",
       "75%      16269.967500\n",
       "max      21693.290000\n",
       "Name: Total, dtype: float64"
      ]
     },
     "execution_count": 82,
     "metadata": {},
     "output_type": "execute_result"
    }
   ],
   "source": [
    "lic_obras_convite_2020[lic_obras_convite_2020['Tag'] == 0]['Total'].describe()"
   ]
  },
  {
   "cell_type": "markdown",
   "id": "2faf049e",
   "metadata": {},
   "source": [
    "### As modalidades abaixo não possuem uma regra bem definida para os valores de Licitação. Dessa forma, será atribuido a tag legal como padrão."
   ]
  },
  {
   "cell_type": "markdown",
   "id": "f137ebc4",
   "metadata": {},
   "source": [
    "## Pregão"
   ]
  },
  {
   "cell_type": "code",
   "execution_count": 83,
   "id": "e760f35e",
   "metadata": {},
   "outputs": [],
   "source": [
    "df_lic_2020_Pregao = df_lic_2020[df_lic_2020['Modalidade Compra'] == 'Pregão']"
   ]
  },
  {
   "cell_type": "code",
   "execution_count": 84,
   "id": "bca4a79b",
   "metadata": {},
   "outputs": [
    {
     "data": {
      "text/plain": [
       "Pregão    16905\n",
       "Name: Modalidade Compra, dtype: int64"
      ]
     },
     "execution_count": 84,
     "metadata": {},
     "output_type": "execute_result"
    }
   ],
   "source": [
    "df_lic_2020_Pregao['Modalidade Compra'].value_counts()"
   ]
  },
  {
   "cell_type": "code",
   "execution_count": 85,
   "id": "f49479ba",
   "metadata": {},
   "outputs": [
    {
     "data": {
      "text/plain": [
       "Compras/Servicos    15167\n",
       "Obras                1738\n",
       "Name: Tipo, dtype: int64"
      ]
     },
     "execution_count": 85,
     "metadata": {},
     "output_type": "execute_result"
    }
   ],
   "source": [
    "df_lic_2020_Pregao['Tipo'].value_counts()"
   ]
  },
  {
   "cell_type": "code",
   "execution_count": 86,
   "id": "5f01cb2f",
   "metadata": {},
   "outputs": [],
   "source": [
    "# Separando a modalidade em Obras e Compras/Serviços\n",
    "lic_obras_Pregao_2020 = df_lic_2020_Pregao[df_lic_2020_Pregao['Tipo'] == 'Obras']\n",
    "lic_compras_Pregao_2020 = df_lic_2020_Pregao[df_lic_2020_Pregao['Tipo'] != 'Obras']"
   ]
  },
  {
   "cell_type": "code",
   "execution_count": 87,
   "id": "0e7f3414",
   "metadata": {},
   "outputs": [
    {
     "data": {
      "text/plain": [
       "Obras    1738\n",
       "Name: Tipo, dtype: int64"
      ]
     },
     "execution_count": 87,
     "metadata": {},
     "output_type": "execute_result"
    }
   ],
   "source": [
    "lic_obras_Pregao_2020['Tipo'].value_counts()"
   ]
  },
  {
   "cell_type": "code",
   "execution_count": 88,
   "id": "fab090d4",
   "metadata": {},
   "outputs": [
    {
     "data": {
      "image/png": "[encoded data removed]",
      "text/plain": [
       "<Figure size 432x288 with 1 Axes>"
      ]
     },
     "metadata": {
      "needs_background": "light"
     },
     "output_type": "display_data"
    }
   ],
   "source": [
    "lic_obras_Pregao_2020['Total'].plot.box()\n",
    "plt.show()"
   ]
  },
  {
   "cell_type": "code",
   "execution_count": 89,
   "id": "014aae4e",
   "metadata": {},
   "outputs": [
    {
     "data": {
      "text/plain": [
       "count    1.738000e+03\n",
       "mean     1.306782e+06\n",
       "std      5.428531e+06\n",
       "min      0.000000e+00\n",
       "25%      6.059567e+04\n",
       "50%      2.194603e+05\n",
       "75%      7.291299e+05\n",
       "max      1.079070e+08\n",
       "Name: Total, dtype: float64"
      ]
     },
     "execution_count": 89,
     "metadata": {},
     "output_type": "execute_result"
    }
   ],
   "source": [
    "lic_obras_Pregao_2020['Total'].describe()"
   ]
  },
  {
   "cell_type": "code",
   "execution_count": 90,
   "id": "2e676375",
   "metadata": {},
   "outputs": [
    {
     "data": {
      "text/plain": [
       "Compras/Servicos    15167\n",
       "Name: Tipo, dtype: int64"
      ]
     },
     "execution_count": 90,
     "metadata": {},
     "output_type": "execute_result"
    }
   ],
   "source": [
    "lic_compras_Pregao_2020['Tipo'].value_counts()"
   ]
  },
  {
   "cell_type": "code",
   "execution_count": 91,
   "id": "b685131a",
   "metadata": {},
   "outputs": [
    {
     "data": {
      "text/plain": [
       "<AxesSubplot:>"
      ]
     },
     "execution_count": 91,
     "metadata": {},
     "output_type": "execute_result"
    },
    {
     "data": {
      "image/png": "[encoded data removed]",
      "text/plain": [
       "<Figure size 432x288 with 1 Axes>"
      ]
     },
     "metadata": {
      "needs_background": "light"
     },
     "output_type": "display_data"
    }
   ],
   "source": [
    "lic_compras_Pregao_2020['Total'].plot.box()"
   ]
  },
  {
   "cell_type": "code",
   "execution_count": 92,
   "id": "9516995e",
   "metadata": {},
   "outputs": [
    {
     "data": {
      "text/plain": [
       "count    1.516700e+04\n",
       "mean     1.031128e+06\n",
       "std      5.692679e+06\n",
       "min      0.000000e+00\n",
       "25%      1.400000e+04\n",
       "50%      6.755400e+04\n",
       "75%      3.085507e+05\n",
       "max      2.747000e+08\n",
       "Name: Total, dtype: float64"
      ]
     },
     "execution_count": 92,
     "metadata": {},
     "output_type": "execute_result"
    }
   ],
   "source": [
    "lic_compras_Pregao_2020['Total'].describe()"
   ]
  },
  {
   "cell_type": "code",
   "execution_count": 93,
   "id": "93e7c265",
   "metadata": {},
   "outputs": [
    {
     "name": "stderr",
     "output_type": "stream",
     "text": [
      "C:\\Users\\lrr\\AppData\\Local\\Temp/ipykernel_23052/3164905057.py:5: SettingWithCopyWarning: \n",
      "A value is trying to be set on a copy of a slice from a DataFrame.\n",
      "Try using .loc[row_indexer,col_indexer] = value instead\n",
      "\n",
      "See the caveats in the documentation: https://pandas.pydata.org/pandas-docs/stable/user_guide/indexing.html#returning-a-view-versus-a-copy\n",
      "  lic_obras_Pregao_2020['Tag'] = 1\n",
      "C:\\Users\\lrr\\AppData\\Local\\Temp/ipykernel_23052/3164905057.py:6: SettingWithCopyWarning: \n",
      "A value is trying to be set on a copy of a slice from a DataFrame.\n",
      "Try using .loc[row_indexer,col_indexer] = value instead\n",
      "\n",
      "See the caveats in the documentation: https://pandas.pydata.org/pandas-docs/stable/user_guide/indexing.html#returning-a-view-versus-a-copy\n",
      "  lic_compras_Pregao_2020['Tag'] = 1\n"
     ]
    }
   ],
   "source": [
    "## Tag'ando como legal já que não existe uma regra bem definida para a modalidade Pregão\n",
    "\n",
    "#### 0: ilegal\n",
    "#### 1: legal\n",
    "lic_obras_Pregao_2020['Tag'] = 1\n",
    "lic_compras_Pregao_2020['Tag'] = 1"
   ]
  },
  {
   "cell_type": "code",
   "execution_count": 94,
   "id": "178a18cc",
   "metadata": {},
   "outputs": [
    {
     "data": {
      "text/plain": [
       "1    1738\n",
       "Name: Tag, dtype: int64"
      ]
     },
     "execution_count": 94,
     "metadata": {},
     "output_type": "execute_result"
    }
   ],
   "source": [
    "lic_obras_Pregao_2020['Tag'].value_counts()"
   ]
  },
  {
   "cell_type": "code",
   "execution_count": 95,
   "id": "f9545ad8",
   "metadata": {},
   "outputs": [
    {
     "data": {
      "text/plain": [
       "1    15167\n",
       "Name: Tag, dtype: int64"
      ]
     },
     "execution_count": 95,
     "metadata": {},
     "output_type": "execute_result"
    }
   ],
   "source": [
    "lic_compras_Pregao_2020['Tag'].value_counts()"
   ]
  },
  {
   "cell_type": "markdown",
   "id": "37ebfe7a",
   "metadata": {},
   "source": [
    "## Inexigibilidade de Licitação "
   ]
  },
  {
   "cell_type": "code",
   "execution_count": 96,
   "id": "b931a3c4",
   "metadata": {},
   "outputs": [],
   "source": [
    "df_lic_2020_Inex_2020 = df_lic_2020[df_lic_2020['Modalidade Compra'] == 'Inexigibilidade de Licitação']"
   ]
  },
  {
   "cell_type": "code",
   "execution_count": 97,
   "id": "111a7583",
   "metadata": {},
   "outputs": [
    {
     "data": {
      "text/plain": [
       "Inexigibilidade de Licitação    17393\n",
       "Name: Modalidade Compra, dtype: int64"
      ]
     },
     "execution_count": 97,
     "metadata": {},
     "output_type": "execute_result"
    }
   ],
   "source": [
    "df_lic_2020_Inex_2020['Modalidade Compra'].value_counts()"
   ]
  },
  {
   "cell_type": "code",
   "execution_count": 98,
   "id": "3739094f",
   "metadata": {},
   "outputs": [
    {
     "data": {
      "text/plain": [
       "Compras/Servicos    16889\n",
       "Obras                 504\n",
       "Name: Tipo, dtype: int64"
      ]
     },
     "execution_count": 98,
     "metadata": {},
     "output_type": "execute_result"
    }
   ],
   "source": [
    "df_lic_2020_Inex_2020['Tipo'].value_counts()"
   ]
  },
  {
   "cell_type": "code",
   "execution_count": 99,
   "id": "8ab839e6",
   "metadata": {},
   "outputs": [],
   "source": [
    "# Separando a modalidade em Obras e Compras/Serviços\n",
    "lic_obras_Inex_2020 = df_lic_2020_Inex_2020[df_lic_2020_Inex_2020['Tipo'] == 'Obras']\n",
    "lic_compras_Inex_2020 = df_lic_2020_Inex_2020[df_lic_2020_Inex_2020['Tipo'] != 'Obras']"
   ]
  },
  {
   "cell_type": "code",
   "execution_count": 100,
   "id": "96e81299",
   "metadata": {},
   "outputs": [
    {
     "data": {
      "text/plain": [
       "Obras    504\n",
       "Name: Tipo, dtype: int64"
      ]
     },
     "execution_count": 100,
     "metadata": {},
     "output_type": "execute_result"
    }
   ],
   "source": [
    "lic_obras_Inex_2020['Tipo'].value_counts()"
   ]
  },
  {
   "cell_type": "code",
   "execution_count": 101,
   "id": "8e398292",
   "metadata": {},
   "outputs": [
    {
     "data": {
      "image/png": "[encoded data removed]",
      "text/plain": [
       "<Figure size 432x288 with 1 Axes>"
      ]
     },
     "metadata": {
      "needs_background": "light"
     },
     "output_type": "display_data"
    }
   ],
   "source": [
    "lic_obras_Inex_2020['Total'].plot.box()\n",
    "plt.show()"
   ]
  },
  {
   "cell_type": "code",
   "execution_count": 102,
   "id": "8ffc2980",
   "metadata": {},
   "outputs": [
    {
     "data": {
      "text/plain": [
       "count    5.040000e+02\n",
       "mean     7.957303e+05\n",
       "std      5.746385e+06\n",
       "min      1.000000e-02\n",
       "25%      4.192275e+03\n",
       "50%      6.586329e+04\n",
       "75%      5.735850e+05\n",
       "max      1.253688e+08\n",
       "Name: Total, dtype: float64"
      ]
     },
     "execution_count": 102,
     "metadata": {},
     "output_type": "execute_result"
    }
   ],
   "source": [
    "lic_obras_Inex_2020['Total'].describe()"
   ]
  },
  {
   "cell_type": "code",
   "execution_count": 103,
   "id": "96cc04c9",
   "metadata": {},
   "outputs": [
    {
     "data": {
      "text/plain": [
       "Compras/Servicos    16889\n",
       "Name: Tipo, dtype: int64"
      ]
     },
     "execution_count": 103,
     "metadata": {},
     "output_type": "execute_result"
    }
   ],
   "source": [
    "lic_compras_Inex_2020['Tipo'].value_counts()"
   ]
  },
  {
   "cell_type": "code",
   "execution_count": 104,
   "id": "a03e251f",
   "metadata": {},
   "outputs": [
    {
     "data": {
      "text/plain": [
       "<AxesSubplot:>"
      ]
     },
     "execution_count": 104,
     "metadata": {},
     "output_type": "execute_result"
    },
    {
     "data": {
      "image/png": "[encoded data removed]",
      "text/plain": [
       "<Figure size 432x288 with 1 Axes>"
      ]
     },
     "metadata": {
      "needs_background": "light"
     },
     "output_type": "display_data"
    }
   ],
   "source": [
    "lic_compras_Inex_2020['Total'].plot.box()"
   ]
  },
  {
   "cell_type": "code",
   "execution_count": 105,
   "id": "d1743a0b",
   "metadata": {},
   "outputs": [
    {
     "data": {
      "text/plain": [
       "count    1.688900e+04\n",
       "mean     8.258457e+05\n",
       "std      1.071186e+07\n",
       "min      1.000000e-02\n",
       "25%      1.785720e+03\n",
       "50%      9.027000e+03\n",
       "75%      6.420567e+04\n",
       "max      8.447837e+08\n",
       "Name: Total, dtype: float64"
      ]
     },
     "execution_count": 105,
     "metadata": {},
     "output_type": "execute_result"
    }
   ],
   "source": [
    "lic_compras_Inex_2020['Total'].describe()"
   ]
  },
  {
   "cell_type": "code",
   "execution_count": 106,
   "id": "91ba7d11",
   "metadata": {},
   "outputs": [
    {
     "name": "stderr",
     "output_type": "stream",
     "text": [
      "C:\\Users\\lrr\\AppData\\Local\\Temp/ipykernel_23052/1596747229.py:5: SettingWithCopyWarning: \n",
      "A value is trying to be set on a copy of a slice from a DataFrame.\n",
      "Try using .loc[row_indexer,col_indexer] = value instead\n",
      "\n",
      "See the caveats in the documentation: https://pandas.pydata.org/pandas-docs/stable/user_guide/indexing.html#returning-a-view-versus-a-copy\n",
      "  lic_obras_Inex_2020['Tag'] = 1\n",
      "C:\\Users\\lrr\\AppData\\Local\\Temp/ipykernel_23052/1596747229.py:6: SettingWithCopyWarning: \n",
      "A value is trying to be set on a copy of a slice from a DataFrame.\n",
      "Try using .loc[row_indexer,col_indexer] = value instead\n",
      "\n",
      "See the caveats in the documentation: https://pandas.pydata.org/pandas-docs/stable/user_guide/indexing.html#returning-a-view-versus-a-copy\n",
      "  lic_compras_Inex_2020['Tag'] = 1\n"
     ]
    }
   ],
   "source": [
    "## Tag'ando como legal já que não existe uma regra bem definida para esta modalidade\n",
    "\n",
    "#### 0: ilegal\n",
    "#### 1: legal\n",
    "lic_obras_Inex_2020['Tag'] = 1\n",
    "lic_compras_Inex_2020['Tag'] = 1"
   ]
  },
  {
   "cell_type": "code",
   "execution_count": 107,
   "id": "26b50f39",
   "metadata": {},
   "outputs": [
    {
     "data": {
      "text/plain": [
       "1    504\n",
       "Name: Tag, dtype: int64"
      ]
     },
     "execution_count": 107,
     "metadata": {},
     "output_type": "execute_result"
    }
   ],
   "source": [
    "lic_obras_Inex_2020['Tag'].value_counts()"
   ]
  },
  {
   "cell_type": "code",
   "execution_count": 108,
   "id": "426d6020",
   "metadata": {},
   "outputs": [
    {
     "data": {
      "text/plain": [
       "1    16889\n",
       "Name: Tag, dtype: int64"
      ]
     },
     "execution_count": 108,
     "metadata": {},
     "output_type": "execute_result"
    }
   ],
   "source": [
    "lic_compras_Inex_2020['Tag'].value_counts()"
   ]
  },
  {
   "cell_type": "markdown",
   "id": "c6a5eee4",
   "metadata": {},
   "source": [
    "## Concurso"
   ]
  },
  {
   "cell_type": "code",
   "execution_count": 109,
   "id": "82b03c50",
   "metadata": {},
   "outputs": [],
   "source": [
    "df_lic_2020_concurso = df_lic_2020[df_lic_2020['Modalidade Compra'] == 'Concurso']"
   ]
  },
  {
   "cell_type": "code",
   "execution_count": 110,
   "id": "2a6b093d",
   "metadata": {},
   "outputs": [
    {
     "data": {
      "text/plain": [
       "Concurso    8\n",
       "Name: Modalidade Compra, dtype: int64"
      ]
     },
     "execution_count": 110,
     "metadata": {},
     "output_type": "execute_result"
    }
   ],
   "source": [
    "df_lic_2020_concurso['Modalidade Compra'].value_counts()"
   ]
  },
  {
   "cell_type": "code",
   "execution_count": 111,
   "id": "41e71311",
   "metadata": {},
   "outputs": [
    {
     "data": {
      "text/plain": [
       "Compras/Servicos    7\n",
       "Obras               1\n",
       "Name: Tipo, dtype: int64"
      ]
     },
     "execution_count": 111,
     "metadata": {},
     "output_type": "execute_result"
    }
   ],
   "source": [
    "df_lic_2020_concurso['Tipo'].value_counts()"
   ]
  },
  {
   "cell_type": "code",
   "execution_count": 112,
   "id": "dbdec176",
   "metadata": {},
   "outputs": [],
   "source": [
    "# Separando a modalidade em Obras e Compras/Serviços\n",
    "lic_obras_concurso_2020 = df_lic_2020_concurso[df_lic_2020_concurso['Tipo'] == 'Obras']\n",
    "lic_compras_concurso_2020 = df_lic_2020_concurso[df_lic_2020_concurso['Tipo'] != 'Obras']"
   ]
  },
  {
   "cell_type": "code",
   "execution_count": 113,
   "id": "734a295a",
   "metadata": {},
   "outputs": [
    {
     "data": {
      "text/plain": [
       "Obras    1\n",
       "Name: Tipo, dtype: int64"
      ]
     },
     "execution_count": 113,
     "metadata": {},
     "output_type": "execute_result"
    }
   ],
   "source": [
    "lic_obras_concurso_2020['Tipo'].value_counts()"
   ]
  },
  {
   "cell_type": "code",
   "execution_count": 114,
   "id": "c3b6050b",
   "metadata": {},
   "outputs": [
    {
     "data": {
      "image/png": "[encoded data removed]",
      "text/plain": [
       "<Figure size 432x288 with 1 Axes>"
      ]
     },
     "metadata": {
      "needs_background": "light"
     },
     "output_type": "display_data"
    }
   ],
   "source": [
    "lic_obras_concurso_2020['Total'].plot.box()\n",
    "plt.show()"
   ]
  },
  {
   "cell_type": "code",
   "execution_count": 115,
   "id": "7ad05514",
   "metadata": {},
   "outputs": [
    {
     "data": {
      "text/plain": [
       "<AxesSubplot:>"
      ]
     },
     "execution_count": 115,
     "metadata": {},
     "output_type": "execute_result"
    },
    {
     "data": {
      "image/png": "[encoded data removed]",
      "text/plain": [
       "<Figure size 432x288 with 1 Axes>"
      ]
     },
     "metadata": {
      "needs_background": "light"
     },
     "output_type": "display_data"
    }
   ],
   "source": [
    "lic_compras_concurso_2020['Total'].plot.box()"
   ]
  },
  {
   "cell_type": "code",
   "execution_count": 116,
   "id": "1bae18e3",
   "metadata": {},
   "outputs": [
    {
     "data": {
      "text/plain": [
       "count         7.000000\n",
       "mean     171471.428571\n",
       "std      332638.150319\n",
       "min           0.000000\n",
       "25%        4400.000000\n",
       "50%        6500.000000\n",
       "75%      142500.000000\n",
       "max      900000.000000\n",
       "Name: Total, dtype: float64"
      ]
     },
     "execution_count": 116,
     "metadata": {},
     "output_type": "execute_result"
    }
   ],
   "source": [
    "lic_compras_concurso_2020['Total'].describe()"
   ]
  },
  {
   "cell_type": "code",
   "execution_count": 117,
   "id": "3d16fc46",
   "metadata": {},
   "outputs": [
    {
     "name": "stderr",
     "output_type": "stream",
     "text": [
      "C:\\Users\\lrr\\AppData\\Local\\Temp/ipykernel_23052/2511420479.py:5: SettingWithCopyWarning: \n",
      "A value is trying to be set on a copy of a slice from a DataFrame.\n",
      "Try using .loc[row_indexer,col_indexer] = value instead\n",
      "\n",
      "See the caveats in the documentation: https://pandas.pydata.org/pandas-docs/stable/user_guide/indexing.html#returning-a-view-versus-a-copy\n",
      "  lic_obras_concurso_2020['Tag'] = 1\n",
      "C:\\Users\\lrr\\AppData\\Local\\Temp/ipykernel_23052/2511420479.py:6: SettingWithCopyWarning: \n",
      "A value is trying to be set on a copy of a slice from a DataFrame.\n",
      "Try using .loc[row_indexer,col_indexer] = value instead\n",
      "\n",
      "See the caveats in the documentation: https://pandas.pydata.org/pandas-docs/stable/user_guide/indexing.html#returning-a-view-versus-a-copy\n",
      "  lic_compras_concurso_2020['Tag'] = 1\n"
     ]
    }
   ],
   "source": [
    "## Tag'ando como legal já que não existe uma regra bem definida para esta modalidade\n",
    "\n",
    "#### 0: ilegal\n",
    "#### 1: legal\n",
    "lic_obras_concurso_2020['Tag'] = 1\n",
    "lic_compras_concurso_2020['Tag'] = 1"
   ]
  },
  {
   "cell_type": "code",
   "execution_count": 118,
   "id": "01a95ae0",
   "metadata": {},
   "outputs": [
    {
     "data": {
      "text/plain": [
       "1    1\n",
       "Name: Tag, dtype: int64"
      ]
     },
     "execution_count": 118,
     "metadata": {},
     "output_type": "execute_result"
    }
   ],
   "source": [
    "lic_obras_concurso_2020['Tag'].value_counts()"
   ]
  },
  {
   "cell_type": "code",
   "execution_count": 119,
   "id": "c0bc6594",
   "metadata": {},
   "outputs": [
    {
     "data": {
      "text/plain": [
       "1    7\n",
       "Name: Tag, dtype: int64"
      ]
     },
     "execution_count": 119,
     "metadata": {},
     "output_type": "execute_result"
    }
   ],
   "source": [
    "lic_compras_concurso_2020['Tag'].value_counts()"
   ]
  },
  {
   "cell_type": "markdown",
   "id": "f36aa7f8",
   "metadata": {},
   "source": [
    "### Concorrência Internacional"
   ]
  },
  {
   "cell_type": "code",
   "execution_count": 120,
   "id": "7b2fea0a",
   "metadata": {},
   "outputs": [],
   "source": [
    "df_lic_2020_concorrencia_internacional = df_lic_2020[df_lic_2020['Modalidade Compra'] == 'Concorrência Internacional']"
   ]
  },
  {
   "cell_type": "code",
   "execution_count": 121,
   "id": "28d38193",
   "metadata": {},
   "outputs": [
    {
     "data": {
      "text/plain": [
       "Concorrência Internacional    1\n",
       "Name: Modalidade Compra, dtype: int64"
      ]
     },
     "execution_count": 121,
     "metadata": {},
     "output_type": "execute_result"
    }
   ],
   "source": [
    "df_lic_2020_concorrencia_internacional['Modalidade Compra'].value_counts()"
   ]
  },
  {
   "cell_type": "code",
   "execution_count": 122,
   "id": "6b11beb9",
   "metadata": {},
   "outputs": [],
   "source": [
    "# Separando a modalidade em Obras e Compras/Serviços\n",
    "lic_obras_concorrencia_internacional_2020 = df_lic_2020_concorrencia_internacional[df_lic_2020_concorrencia_internacional['Tipo'] == 'Obras']\n",
    "lic_compras_concorrencia_internacional_2020 = df_lic_2020_concorrencia_internacional[df_lic_2020_concorrencia_internacional['Tipo'] != 'Obras']"
   ]
  },
  {
   "cell_type": "code",
   "execution_count": 123,
   "id": "7f259ad7",
   "metadata": {},
   "outputs": [
    {
     "data": {
      "text/plain": [
       "Series([], Name: Tipo, dtype: int64)"
      ]
     },
     "execution_count": 123,
     "metadata": {},
     "output_type": "execute_result"
    }
   ],
   "source": [
    "lic_obras_concorrencia_internacional_2020['Tipo'].value_counts()"
   ]
  },
  {
   "cell_type": "code",
   "execution_count": 124,
   "id": "08b20345",
   "metadata": {},
   "outputs": [
    {
     "data": {
      "text/plain": [
       "Compras/Servicos    1\n",
       "Name: Tipo, dtype: int64"
      ]
     },
     "execution_count": 124,
     "metadata": {},
     "output_type": "execute_result"
    }
   ],
   "source": [
    "lic_compras_concorrencia_internacional_2020['Tipo'].value_counts()"
   ]
  },
  {
   "cell_type": "code",
   "execution_count": 125,
   "id": "f92d3ab6",
   "metadata": {},
   "outputs": [
    {
     "data": {
      "text/plain": [
       "<AxesSubplot:>"
      ]
     },
     "execution_count": 125,
     "metadata": {},
     "output_type": "execute_result"
    },
    {
     "data": {
      "image/png": "[encoded data removed]",
      "text/plain": [
       "<Figure size 432x288 with 1 Axes>"
      ]
     },
     "metadata": {
      "needs_background": "light"
     },
     "output_type": "display_data"
    }
   ],
   "source": [
    "lic_compras_concorrencia_internacional_2020['Total'].plot.box()"
   ]
  },
  {
   "cell_type": "code",
   "execution_count": 126,
   "id": "81915b26",
   "metadata": {},
   "outputs": [
    {
     "data": {
      "text/plain": [
       "count         1.0\n",
       "mean     611926.7\n",
       "std           NaN\n",
       "min      611926.7\n",
       "25%      611926.7\n",
       "50%      611926.7\n",
       "75%      611926.7\n",
       "max      611926.7\n",
       "Name: Total, dtype: float64"
      ]
     },
     "execution_count": 126,
     "metadata": {},
     "output_type": "execute_result"
    }
   ],
   "source": [
    "lic_compras_concorrencia_internacional_2020['Total'].describe()"
   ]
  },
  {
   "cell_type": "code",
   "execution_count": 127,
   "id": "5c5a88c8",
   "metadata": {},
   "outputs": [],
   "source": [
    "## Tag'ando como legal já que não existe uma regra bem definida para esta modalidade\n",
    "\n",
    "#### 0: ilegal\n",
    "#### 1: legal\n",
    "lic_obras_concorrencia_internacional_2020['Tag'] = 1\n",
    "lic_compras_concorrencia_internacional_2020['Tag'] = 1"
   ]
  },
  {
   "cell_type": "code",
   "execution_count": 128,
   "id": "d4cbacb7",
   "metadata": {},
   "outputs": [
    {
     "data": {
      "text/plain": [
       "Series([], Name: Tag, dtype: int64)"
      ]
     },
     "execution_count": 128,
     "metadata": {},
     "output_type": "execute_result"
    }
   ],
   "source": [
    "lic_obras_concorrencia_internacional_2020['Tag'].value_counts()"
   ]
  },
  {
   "cell_type": "code",
   "execution_count": 129,
   "id": "2845caba",
   "metadata": {},
   "outputs": [
    {
     "data": {
      "text/plain": [
       "1    1\n",
       "Name: Tag, dtype: int64"
      ]
     },
     "execution_count": 129,
     "metadata": {},
     "output_type": "execute_result"
    }
   ],
   "source": [
    "lic_compras_concorrencia_internacional_2020['Tag'].value_counts()"
   ]
  },
  {
   "cell_type": "markdown",
   "id": "a852f9af",
   "metadata": {},
   "source": [
    "### Salvando todas as analises em uma única base de dados."
   ]
  },
  {
   "cell_type": "code",
   "execution_count": 130,
   "id": "dc5f27ae",
   "metadata": {},
   "outputs": [],
   "source": [
    "lic_2020_com_tag = pd.concat([lic_obras_RP_2020, lic_compras_RP_2020, lic_obras_Dispensa_2020, lic_compras_Dispensa_2020, lic_obras_tomada_de_preco_2020, lic_compras_tomada_de_preco_2020, lic_compras_convite_2020, lic_obras_convite_2020, lic_obras_Pregao_2020, lic_compras_Pregao_2020, lic_obras_Inex_2020, lic_compras_Inex_2020, lic_obras_concurso_2020, lic_compras_concurso_2020, lic_obras_concorrencia_internacional_2020, lic_compras_concorrencia_internacional_2020])"
   ]
  },
  {
   "cell_type": "code",
   "execution_count": 131,
   "id": "ccf15bf4",
   "metadata": {},
   "outputs": [],
   "source": [
    "lic_2020_com_tag.to_csv('lic_2020_com_tag.csv')"
   ]
  },
  {
   "cell_type": "code",
   "execution_count": 132,
   "id": "3fc5c4e9",
   "metadata": {},
   "outputs": [
    {
     "data": {
      "text/plain": [
       "1    122413\n",
       "0     34960\n",
       "Name: Tag, dtype: int64"
      ]
     },
     "execution_count": 132,
     "metadata": {},
     "output_type": "execute_result"
    }
   ],
   "source": [
    "lic_2020_com_tag['Tag'].value_counts()"
   ]
  },
  {
   "cell_type": "code",
   "execution_count": 133,
   "id": "92e2ace5",
   "metadata": {},
   "outputs": [
    {
     "data": {
      "text/html": [
       "<div>\n",
       "<style scoped>\n",
       "    .dataframe tbody tr th:only-of-type {\n",
       "        vertical-align: middle;\n",
       "    }\n",
       "\n",
       "    .dataframe tbody tr th {\n",
       "        vertical-align: top;\n",
       "    }\n",
       "\n",
       "    .dataframe thead tr th {\n",
       "        text-align: left;\n",
       "    }\n",
       "\n",
       "    .dataframe thead tr:last-of-type th {\n",
       "        text-align: right;\n",
       "    }\n",
       "</style>\n",
       "<table border=\"1\" class=\"dataframe\">\n",
       "  <thead>\n",
       "    <tr>\n",
       "      <th></th>\n",
       "      <th></th>\n",
       "      <th></th>\n",
       "      <th colspan=\"8\" halign=\"left\">Número Licitação</th>\n",
       "      <th colspan=\"2\" halign=\"left\">Código UG</th>\n",
       "      <th>...</th>\n",
       "      <th colspan=\"2\" halign=\"left\">Código Órgão</th>\n",
       "      <th colspan=\"8\" halign=\"left\">Total</th>\n",
       "    </tr>\n",
       "    <tr>\n",
       "      <th></th>\n",
       "      <th></th>\n",
       "      <th></th>\n",
       "      <th>count</th>\n",
       "      <th>mean</th>\n",
       "      <th>std</th>\n",
       "      <th>min</th>\n",
       "      <th>25%</th>\n",
       "      <th>50%</th>\n",
       "      <th>75%</th>\n",
       "      <th>max</th>\n",
       "      <th>count</th>\n",
       "      <th>mean</th>\n",
       "      <th>...</th>\n",
       "      <th>75%</th>\n",
       "      <th>max</th>\n",
       "      <th>count</th>\n",
       "      <th>mean</th>\n",
       "      <th>std</th>\n",
       "      <th>min</th>\n",
       "      <th>25%</th>\n",
       "      <th>50%</th>\n",
       "      <th>75%</th>\n",
       "      <th>max</th>\n",
       "    </tr>\n",
       "    <tr>\n",
       "      <th>Modalidade Compra</th>\n",
       "      <th>Tag</th>\n",
       "      <th>Tipo</th>\n",
       "      <th></th>\n",
       "      <th></th>\n",
       "      <th></th>\n",
       "      <th></th>\n",
       "      <th></th>\n",
       "      <th></th>\n",
       "      <th></th>\n",
       "      <th></th>\n",
       "      <th></th>\n",
       "      <th></th>\n",
       "      <th></th>\n",
       "      <th></th>\n",
       "      <th></th>\n",
       "      <th></th>\n",
       "      <th></th>\n",
       "      <th></th>\n",
       "      <th></th>\n",
       "      <th></th>\n",
       "      <th></th>\n",
       "      <th></th>\n",
       "      <th></th>\n",
       "    </tr>\n",
       "  </thead>\n",
       "  <tbody>\n",
       "    <tr>\n",
       "      <th rowspan=\"4\" valign=\"top\">Concorrência</th>\n",
       "      <th rowspan=\"2\" valign=\"top\">0</th>\n",
       "      <th>Compras/Servicos</th>\n",
       "      <td>22.0</td>\n",
       "      <td>4.611077e+04</td>\n",
       "      <td>3.333221e+04</td>\n",
       "      <td>12019.0</td>\n",
       "      <td>14520.00</td>\n",
       "      <td>42020.0</td>\n",
       "      <td>69520.00</td>\n",
       "      <td>112020.0</td>\n",
       "      <td>22.0</td>\n",
       "      <td>168201.636364</td>\n",
       "      <td>...</td>\n",
       "      <td>46610.25</td>\n",
       "      <td>52121.0</td>\n",
       "      <td>22.0</td>\n",
       "      <td>4.014586e+05</td>\n",
       "      <td>4.207592e+05</td>\n",
       "      <td>0.00</td>\n",
       "      <td>2.498220e+04</td>\n",
       "      <td>347855.025</td>\n",
       "      <td>5.546784e+05</td>\n",
       "      <td>1.289863e+06</td>\n",
       "    </tr>\n",
       "    <tr>\n",
       "      <th>Obras</th>\n",
       "      <td>20.0</td>\n",
       "      <td>3.251980e+04</td>\n",
       "      <td>2.584859e+04</td>\n",
       "      <td>12019.0</td>\n",
       "      <td>12020.00</td>\n",
       "      <td>27020.0</td>\n",
       "      <td>34520.00</td>\n",
       "      <td>122019.0</td>\n",
       "      <td>20.0</td>\n",
       "      <td>228815.450000</td>\n",
       "      <td>...</td>\n",
       "      <td>52111.00</td>\n",
       "      <td>52131.0</td>\n",
       "      <td>20.0</td>\n",
       "      <td>1.279046e+06</td>\n",
       "      <td>9.453980e+05</td>\n",
       "      <td>0.00</td>\n",
       "      <td>4.050749e+05</td>\n",
       "      <td>1234206.190</td>\n",
       "      <td>2.090708e+06</td>\n",
       "      <td>2.712530e+06</td>\n",
       "    </tr>\n",
       "    <tr>\n",
       "      <th rowspan=\"2\" valign=\"top\">1</th>\n",
       "      <th>Compras/Servicos</th>\n",
       "      <td>66.0</td>\n",
       "      <td>1.310201e+06</td>\n",
       "      <td>7.134214e+06</td>\n",
       "      <td>12017.0</td>\n",
       "      <td>12020.00</td>\n",
       "      <td>22020.0</td>\n",
       "      <td>52020.00</td>\n",
       "      <td>41392019.0</td>\n",
       "      <td>66.0</td>\n",
       "      <td>188478.666667</td>\n",
       "      <td>...</td>\n",
       "      <td>52121.00</td>\n",
       "      <td>52131.0</td>\n",
       "      <td>66.0</td>\n",
       "      <td>6.693961e+06</td>\n",
       "      <td>7.268915e+06</td>\n",
       "      <td>1619735.63</td>\n",
       "      <td>3.077781e+06</td>\n",
       "      <td>4662124.510</td>\n",
       "      <td>6.971895e+06</td>\n",
       "      <td>4.864903e+07</td>\n",
       "    </tr>\n",
       "    <tr>\n",
       "      <th>Obras</th>\n",
       "      <td>30.0</td>\n",
       "      <td>5.868637e+04</td>\n",
       "      <td>1.359851e+05</td>\n",
       "      <td>12019.0</td>\n",
       "      <td>12020.00</td>\n",
       "      <td>22019.0</td>\n",
       "      <td>39520.00</td>\n",
       "      <td>742020.0</td>\n",
       "      <td>30.0</td>\n",
       "      <td>227282.733333</td>\n",
       "      <td>...</td>\n",
       "      <td>52121.00</td>\n",
       "      <td>52131.0</td>\n",
       "      <td>30.0</td>\n",
       "      <td>1.344329e+07</td>\n",
       "      <td>2.284448e+07</td>\n",
       "      <td>3389075.61</td>\n",
       "      <td>3.824811e+06</td>\n",
       "      <td>5000954.000</td>\n",
       "      <td>7.601931e+06</td>\n",
       "      <td>1.117631e+08</td>\n",
       "    </tr>\n",
       "    <tr>\n",
       "      <th rowspan=\"2\" valign=\"top\">Concorrência - Registro de Preço</th>\n",
       "      <th rowspan=\"2\" valign=\"top\">0</th>\n",
       "      <th>Compras/Servicos</th>\n",
       "      <td>3.0</td>\n",
       "      <td>8.202000e+04</td>\n",
       "      <td>4.000000e+04</td>\n",
       "      <td>42020.0</td>\n",
       "      <td>62020.00</td>\n",
       "      <td>82020.0</td>\n",
       "      <td>102020.00</td>\n",
       "      <td>122020.0</td>\n",
       "      <td>3.0</td>\n",
       "      <td>145477.000000</td>\n",
       "      <td>...</td>\n",
       "      <td>26247.00</td>\n",
       "      <td>26247.0</td>\n",
       "      <td>3.0</td>\n",
       "      <td>0.000000e+00</td>\n",
       "      <td>0.000000e+00</td>\n",
       "      <td>0.00</td>\n",
       "      <td>0.000000e+00</td>\n",
       "      <td>0.000</td>\n",
       "      <td>0.000000e+00</td>\n",
       "      <td>0.000000e+00</td>\n",
       "    </tr>\n",
       "    <tr>\n",
       "      <th>Obras</th>\n",
       "      <td>1.0</td>\n",
       "      <td>8.201800e+04</td>\n",
       "      <td>NaN</td>\n",
       "      <td>82018.0</td>\n",
       "      <td>82018.00</td>\n",
       "      <td>82018.0</td>\n",
       "      <td>82018.00</td>\n",
       "      <td>82018.0</td>\n",
       "      <td>1.0</td>\n",
       "      <td>153046.000000</td>\n",
       "      <td>...</td>\n",
       "      <td>26234.00</td>\n",
       "      <td>26234.0</td>\n",
       "      <td>1.0</td>\n",
       "      <td>0.000000e+00</td>\n",
       "      <td>NaN</td>\n",
       "      <td>0.00</td>\n",
       "      <td>0.000000e+00</td>\n",
       "      <td>0.000</td>\n",
       "      <td>0.000000e+00</td>\n",
       "      <td>0.000000e+00</td>\n",
       "    </tr>\n",
       "    <tr>\n",
       "      <th>Concorrência Internacional</th>\n",
       "      <th>1</th>\n",
       "      <th>Compras/Servicos</th>\n",
       "      <td>1.0</td>\n",
       "      <td>9.420200e+05</td>\n",
       "      <td>NaN</td>\n",
       "      <td>942020.0</td>\n",
       "      <td>942020.00</td>\n",
       "      <td>942020.0</td>\n",
       "      <td>942020.00</td>\n",
       "      <td>942020.0</td>\n",
       "      <td>1.0</td>\n",
       "      <td>240106.000000</td>\n",
       "      <td>...</td>\n",
       "      <td>24000.00</td>\n",
       "      <td>24000.0</td>\n",
       "      <td>1.0</td>\n",
       "      <td>6.119267e+05</td>\n",
       "      <td>NaN</td>\n",
       "      <td>611926.70</td>\n",
       "      <td>6.119267e+05</td>\n",
       "      <td>611926.700</td>\n",
       "      <td>6.119267e+05</td>\n",
       "      <td>6.119267e+05</td>\n",
       "    </tr>\n",
       "    <tr>\n",
       "      <th rowspan=\"2\" valign=\"top\">Concurso</th>\n",
       "      <th rowspan=\"2\" valign=\"top\">1</th>\n",
       "      <th>Compras/Servicos</th>\n",
       "      <td>7.0</td>\n",
       "      <td>2.059129e+04</td>\n",
       "      <td>1.463814e+04</td>\n",
       "      <td>12020.0</td>\n",
       "      <td>12020.00</td>\n",
       "      <td>12020.0</td>\n",
       "      <td>22020.00</td>\n",
       "      <td>52019.0</td>\n",
       "      <td>7.0</td>\n",
       "      <td>325712.571429</td>\n",
       "      <td>...</td>\n",
       "      <td>26321.00</td>\n",
       "      <td>52131.0</td>\n",
       "      <td>7.0</td>\n",
       "      <td>1.714714e+05</td>\n",
       "      <td>3.326382e+05</td>\n",
       "      <td>0.00</td>\n",
       "      <td>4.400000e+03</td>\n",
       "      <td>6500.000</td>\n",
       "      <td>1.425000e+05</td>\n",
       "      <td>9.000000e+05</td>\n",
       "    </tr>\n",
       "    <tr>\n",
       "      <th>Obras</th>\n",
       "      <td>1.0</td>\n",
       "      <td>2.201900e+04</td>\n",
       "      <td>NaN</td>\n",
       "      <td>22019.0</td>\n",
       "      <td>22019.00</td>\n",
       "      <td>22019.0</td>\n",
       "      <td>22019.00</td>\n",
       "      <td>22019.0</td>\n",
       "      <td>1.0</td>\n",
       "      <td>344002.000000</td>\n",
       "      <td>...</td>\n",
       "      <td>26292.00</td>\n",
       "      <td>26292.0</td>\n",
       "      <td>1.0</td>\n",
       "      <td>1.600000e+05</td>\n",
       "      <td>NaN</td>\n",
       "      <td>160000.00</td>\n",
       "      <td>1.600000e+05</td>\n",
       "      <td>160000.000</td>\n",
       "      <td>1.600000e+05</td>\n",
       "      <td>1.600000e+05</td>\n",
       "    </tr>\n",
       "    <tr>\n",
       "      <th rowspan=\"4\" valign=\"top\">Convite</th>\n",
       "      <th rowspan=\"2\" valign=\"top\">0</th>\n",
       "      <th>Compras/Servicos</th>\n",
       "      <td>11.0</td>\n",
       "      <td>1.838364e+04</td>\n",
       "      <td>9.244163e+03</td>\n",
       "      <td>12020.0</td>\n",
       "      <td>12020.00</td>\n",
       "      <td>12020.0</td>\n",
       "      <td>27020.00</td>\n",
       "      <td>32020.0</td>\n",
       "      <td>11.0</td>\n",
       "      <td>177296.000000</td>\n",
       "      <td>...</td>\n",
       "      <td>52121.00</td>\n",
       "      <td>52121.0</td>\n",
       "      <td>11.0</td>\n",
       "      <td>2.136496e+05</td>\n",
       "      <td>8.116860e+04</td>\n",
       "      <td>0.00</td>\n",
       "      <td>2.011348e+05</td>\n",
       "      <td>219163.530</td>\n",
       "      <td>2.510928e+05</td>\n",
       "      <td>3.163425e+05</td>\n",
       "    </tr>\n",
       "    <tr>\n",
       "      <th>Obras</th>\n",
       "      <td>2.0</td>\n",
       "      <td>1.202000e+04</td>\n",
       "      <td>0.000000e+00</td>\n",
       "      <td>12020.0</td>\n",
       "      <td>12020.00</td>\n",
       "      <td>12020.0</td>\n",
       "      <td>12020.00</td>\n",
       "      <td>12020.0</td>\n",
       "      <td>2.0</td>\n",
       "      <td>334517.500000</td>\n",
       "      <td>...</td>\n",
       "      <td>34510.75</td>\n",
       "      <td>37202.0</td>\n",
       "      <td>2.0</td>\n",
       "      <td>1.084665e+04</td>\n",
       "      <td>1.533947e+04</td>\n",
       "      <td>0.00</td>\n",
       "      <td>5.423323e+03</td>\n",
       "      <td>10846.645</td>\n",
       "      <td>1.626997e+04</td>\n",
       "      <td>2.169329e+04</td>\n",
       "    </tr>\n",
       "    <tr>\n",
       "      <th rowspan=\"2\" valign=\"top\">1</th>\n",
       "      <th>Compras/Servicos</th>\n",
       "      <td>22.0</td>\n",
       "      <td>3.701982e+04</td>\n",
       "      <td>4.718243e+04</td>\n",
       "      <td>12019.0</td>\n",
       "      <td>12020.00</td>\n",
       "      <td>22020.0</td>\n",
       "      <td>42019.75</td>\n",
       "      <td>182020.0</td>\n",
       "      <td>22.0</td>\n",
       "      <td>278613.181818</td>\n",
       "      <td>...</td>\n",
       "      <td>52121.00</td>\n",
       "      <td>52131.0</td>\n",
       "      <td>22.0</td>\n",
       "      <td>1.177250e+05</td>\n",
       "      <td>3.917939e+04</td>\n",
       "      <td>38496.67</td>\n",
       "      <td>9.403607e+04</td>\n",
       "      <td>116743.980</td>\n",
       "      <td>1.569780e+05</td>\n",
       "      <td>1.673980e+05</td>\n",
       "    </tr>\n",
       "    <tr>\n",
       "      <th>Obras</th>\n",
       "      <td>25.0</td>\n",
       "      <td>3.241992e+04</td>\n",
       "      <td>3.272087e+04</td>\n",
       "      <td>12020.0</td>\n",
       "      <td>12020.00</td>\n",
       "      <td>22020.0</td>\n",
       "      <td>42019.00</td>\n",
       "      <td>162019.0</td>\n",
       "      <td>25.0</td>\n",
       "      <td>303265.480000</td>\n",
       "      <td>...</td>\n",
       "      <td>52121.00</td>\n",
       "      <td>52131.0</td>\n",
       "      <td>25.0</td>\n",
       "      <td>1.317942e+05</td>\n",
       "      <td>6.106084e+04</td>\n",
       "      <td>40653.95</td>\n",
       "      <td>8.282357e+04</td>\n",
       "      <td>120680.260</td>\n",
       "      <td>1.879300e+05</td>\n",
       "      <td>2.495764e+05</td>\n",
       "    </tr>\n",
       "    <tr>\n",
       "      <th rowspan=\"4\" valign=\"top\">Dispensa de Licitação</th>\n",
       "      <th rowspan=\"2\" valign=\"top\">0</th>\n",
       "      <th>Compras/Servicos</th>\n",
       "      <td>14538.0</td>\n",
       "      <td>1.319300e+07</td>\n",
       "      <td>8.187443e+07</td>\n",
       "      <td>12020.0</td>\n",
       "      <td>182020.00</td>\n",
       "      <td>522020.0</td>\n",
       "      <td>1509520.00</td>\n",
       "      <td>900032020.0</td>\n",
       "      <td>14538.0</td>\n",
       "      <td>219708.648232</td>\n",
       "      <td>...</td>\n",
       "      <td>52111.00</td>\n",
       "      <td>97400.0</td>\n",
       "      <td>14538.0</td>\n",
       "      <td>1.246876e+06</td>\n",
       "      <td>1.982053e+07</td>\n",
       "      <td>17601.25</td>\n",
       "      <td>2.699964e+04</td>\n",
       "      <td>46245.000</td>\n",
       "      <td>1.638636e+05</td>\n",
       "      <td>1.353826e+09</td>\n",
       "    </tr>\n",
       "    <tr>\n",
       "      <th>Obras</th>\n",
       "      <td>466.0</td>\n",
       "      <td>9.415003e+06</td>\n",
       "      <td>6.871594e+07</td>\n",
       "      <td>12020.0</td>\n",
       "      <td>112020.00</td>\n",
       "      <td>272020.0</td>\n",
       "      <td>702020.00</td>\n",
       "      <td>634542020.0</td>\n",
       "      <td>466.0</td>\n",
       "      <td>225793.639485</td>\n",
       "      <td>...</td>\n",
       "      <td>36201.00</td>\n",
       "      <td>96220.0</td>\n",
       "      <td>466.0</td>\n",
       "      <td>9.465799e+05</td>\n",
       "      <td>3.674913e+06</td>\n",
       "      <td>33210.00</td>\n",
       "      <td>5.103015e+04</td>\n",
       "      <td>99174.940</td>\n",
       "      <td>4.239157e+05</td>\n",
       "      <td>5.683217e+07</td>\n",
       "    </tr>\n",
       "    <tr>\n",
       "      <th rowspan=\"2\" valign=\"top\">1</th>\n",
       "      <th>Compras/Servicos</th>\n",
       "      <td>85462.0</td>\n",
       "      <td>1.195931e+07</td>\n",
       "      <td>7.762541e+07</td>\n",
       "      <td>12019.0</td>\n",
       "      <td>192020.00</td>\n",
       "      <td>582020.0</td>\n",
       "      <td>1482020.00</td>\n",
       "      <td>999732020.0</td>\n",
       "      <td>85462.0</td>\n",
       "      <td>252822.261063</td>\n",
       "      <td>...</td>\n",
       "      <td>52121.00</td>\n",
       "      <td>97400.0</td>\n",
       "      <td>85462.0</td>\n",
       "      <td>4.337759e+03</td>\n",
       "      <td>4.511700e+03</td>\n",
       "      <td>0.00</td>\n",
       "      <td>9.660000e+02</td>\n",
       "      <td>2537.335</td>\n",
       "      <td>6.264705e+03</td>\n",
       "      <td>1.760000e+04</td>\n",
       "    </tr>\n",
       "    <tr>\n",
       "      <th>Obras</th>\n",
       "      <td>1596.0</td>\n",
       "      <td>3.580861e+06</td>\n",
       "      <td>3.130395e+07</td>\n",
       "      <td>12020.0</td>\n",
       "      <td>122020.00</td>\n",
       "      <td>342020.0</td>\n",
       "      <td>972020.00</td>\n",
       "      <td>591082020.0</td>\n",
       "      <td>1596.0</td>\n",
       "      <td>233970.317669</td>\n",
       "      <td>...</td>\n",
       "      <td>52121.00</td>\n",
       "      <td>97400.0</td>\n",
       "      <td>1596.0</td>\n",
       "      <td>9.189965e+03</td>\n",
       "      <td>9.031601e+03</td>\n",
       "      <td>0.00</td>\n",
       "      <td>1.980750e+03</td>\n",
       "      <td>5667.000</td>\n",
       "      <td>1.419750e+04</td>\n",
       "      <td>3.300000e+04</td>\n",
       "    </tr>\n",
       "    <tr>\n",
       "      <th rowspan=\"2\" valign=\"top\">Inexigibilidade de Licitação</th>\n",
       "      <th rowspan=\"2\" valign=\"top\">1</th>\n",
       "      <th>Compras/Servicos</th>\n",
       "      <td>16889.0</td>\n",
       "      <td>2.400966e+07</td>\n",
       "      <td>1.172267e+08</td>\n",
       "      <td>12017.0</td>\n",
       "      <td>52020.00</td>\n",
       "      <td>202020.0</td>\n",
       "      <td>822020.00</td>\n",
       "      <td>999122020.0</td>\n",
       "      <td>16889.0</td>\n",
       "      <td>241268.383208</td>\n",
       "      <td>...</td>\n",
       "      <td>52121.00</td>\n",
       "      <td>97120.0</td>\n",
       "      <td>16889.0</td>\n",
       "      <td>8.258457e+05</td>\n",
       "      <td>1.071186e+07</td>\n",
       "      <td>0.01</td>\n",
       "      <td>1.785720e+03</td>\n",
       "      <td>9027.000</td>\n",
       "      <td>6.420567e+04</td>\n",
       "      <td>8.447837e+08</td>\n",
       "    </tr>\n",
       "    <tr>\n",
       "      <th>Obras</th>\n",
       "      <td>504.0</td>\n",
       "      <td>3.542020e+06</td>\n",
       "      <td>3.257573e+07</td>\n",
       "      <td>12020.0</td>\n",
       "      <td>82020.00</td>\n",
       "      <td>527020.0</td>\n",
       "      <td>1784520.00</td>\n",
       "      <td>701572019.0</td>\n",
       "      <td>504.0</td>\n",
       "      <td>176458.107143</td>\n",
       "      <td>...</td>\n",
       "      <td>26418.50</td>\n",
       "      <td>63000.0</td>\n",
       "      <td>504.0</td>\n",
       "      <td>7.957303e+05</td>\n",
       "      <td>5.746385e+06</td>\n",
       "      <td>0.01</td>\n",
       "      <td>4.192275e+03</td>\n",
       "      <td>65863.285</td>\n",
       "      <td>5.735850e+05</td>\n",
       "      <td>1.253688e+08</td>\n",
       "    </tr>\n",
       "    <tr>\n",
       "      <th rowspan=\"2\" valign=\"top\">Pregão</th>\n",
       "      <th rowspan=\"2\" valign=\"top\">1</th>\n",
       "      <th>Compras/Servicos</th>\n",
       "      <td>15167.0</td>\n",
       "      <td>7.375849e+06</td>\n",
       "      <td>5.249090e+07</td>\n",
       "      <td>12019.0</td>\n",
       "      <td>72020.00</td>\n",
       "      <td>222020.0</td>\n",
       "      <td>732020.00</td>\n",
       "      <td>993512019.0</td>\n",
       "      <td>15167.0</td>\n",
       "      <td>525768.266104</td>\n",
       "      <td>...</td>\n",
       "      <td>93520.00</td>\n",
       "      <td>97400.0</td>\n",
       "      <td>15167.0</td>\n",
       "      <td>1.031128e+06</td>\n",
       "      <td>5.692679e+06</td>\n",
       "      <td>0.00</td>\n",
       "      <td>1.400000e+04</td>\n",
       "      <td>67554.000</td>\n",
       "      <td>3.085507e+05</td>\n",
       "      <td>2.747000e+08</td>\n",
       "    </tr>\n",
       "    <tr>\n",
       "      <th>Obras</th>\n",
       "      <td>1738.0</td>\n",
       "      <td>5.924586e+06</td>\n",
       "      <td>4.262725e+07</td>\n",
       "      <td>12018.0</td>\n",
       "      <td>42020.00</td>\n",
       "      <td>142019.0</td>\n",
       "      <td>472020.00</td>\n",
       "      <td>730982020.0</td>\n",
       "      <td>1738.0</td>\n",
       "      <td>357084.861910</td>\n",
       "      <td>...</td>\n",
       "      <td>52111.00</td>\n",
       "      <td>97400.0</td>\n",
       "      <td>1738.0</td>\n",
       "      <td>1.306782e+06</td>\n",
       "      <td>5.428531e+06</td>\n",
       "      <td>0.00</td>\n",
       "      <td>6.059567e+04</td>\n",
       "      <td>219460.300</td>\n",
       "      <td>7.291299e+05</td>\n",
       "      <td>1.079070e+08</td>\n",
       "    </tr>\n",
       "    <tr>\n",
       "      <th rowspan=\"4\" valign=\"top\">Pregão - Registro de Preço</th>\n",
       "      <th rowspan=\"2\" valign=\"top\">0</th>\n",
       "      <th>Compras/Servicos</th>\n",
       "      <td>19154.0</td>\n",
       "      <td>5.313580e+06</td>\n",
       "      <td>5.544667e+07</td>\n",
       "      <td>12018.0</td>\n",
       "      <td>82019.00</td>\n",
       "      <td>212020.0</td>\n",
       "      <td>562020.00</td>\n",
       "      <td>990782020.0</td>\n",
       "      <td>19154.0</td>\n",
       "      <td>361517.238018</td>\n",
       "      <td>...</td>\n",
       "      <td>52131.00</td>\n",
       "      <td>97400.0</td>\n",
       "      <td>19154.0</td>\n",
       "      <td>5.610226e+04</td>\n",
       "      <td>1.574906e+05</td>\n",
       "      <td>0.00</td>\n",
       "      <td>1.225625e+02</td>\n",
       "      <td>4842.500</td>\n",
       "      <td>3.159875e+04</td>\n",
       "      <td>1.425600e+06</td>\n",
       "    </tr>\n",
       "    <tr>\n",
       "      <th>Obras</th>\n",
       "      <td>464.0</td>\n",
       "      <td>3.510447e+06</td>\n",
       "      <td>4.512268e+07</td>\n",
       "      <td>12020.0</td>\n",
       "      <td>52019.75</td>\n",
       "      <td>122020.0</td>\n",
       "      <td>342020.00</td>\n",
       "      <td>920202020.0</td>\n",
       "      <td>464.0</td>\n",
       "      <td>297175.318966</td>\n",
       "      <td>...</td>\n",
       "      <td>52121.00</td>\n",
       "      <td>97400.0</td>\n",
       "      <td>464.0</td>\n",
       "      <td>1.895707e+05</td>\n",
       "      <td>4.624900e+05</td>\n",
       "      <td>0.00</td>\n",
       "      <td>1.603200e+03</td>\n",
       "      <td>24000.000</td>\n",
       "      <td>1.234500e+05</td>\n",
       "      <td>3.151678e+06</td>\n",
       "    </tr>\n",
       "    <tr>\n",
       "      <th rowspan=\"2\" valign=\"top\">1</th>\n",
       "      <th>Compras/Servicos</th>\n",
       "      <td>441.0</td>\n",
       "      <td>3.491408e+06</td>\n",
       "      <td>3.753888e+07</td>\n",
       "      <td>12020.0</td>\n",
       "      <td>102020.00</td>\n",
       "      <td>262020.0</td>\n",
       "      <td>702020.00</td>\n",
       "      <td>730892020.0</td>\n",
       "      <td>441.0</td>\n",
       "      <td>395971.190476</td>\n",
       "      <td>...</td>\n",
       "      <td>52131.00</td>\n",
       "      <td>97400.0</td>\n",
       "      <td>441.0</td>\n",
       "      <td>5.532644e+09</td>\n",
       "      <td>1.159194e+11</td>\n",
       "      <td>1432000.00</td>\n",
       "      <td>1.999830e+06</td>\n",
       "      <td>3861200.000</td>\n",
       "      <td>8.608380e+06</td>\n",
       "      <td>2.434320e+12</td>\n",
       "    </tr>\n",
       "    <tr>\n",
       "      <th>Obras</th>\n",
       "      <td>25.0</td>\n",
       "      <td>2.468200e+05</td>\n",
       "      <td>2.013935e+05</td>\n",
       "      <td>12020.0</td>\n",
       "      <td>122020.00</td>\n",
       "      <td>232020.0</td>\n",
       "      <td>302020.00</td>\n",
       "      <td>982020.0</td>\n",
       "      <td>25.0</td>\n",
       "      <td>404672.000000</td>\n",
       "      <td>...</td>\n",
       "      <td>52131.00</td>\n",
       "      <td>95120.0</td>\n",
       "      <td>25.0</td>\n",
       "      <td>1.039058e+07</td>\n",
       "      <td>8.000605e+06</td>\n",
       "      <td>3717183.36</td>\n",
       "      <td>5.000000e+06</td>\n",
       "      <td>6999990.000</td>\n",
       "      <td>1.135000e+07</td>\n",
       "      <td>2.760000e+07</td>\n",
       "    </tr>\n",
       "    <tr>\n",
       "      <th rowspan=\"4\" valign=\"top\">Tomada de Preços</th>\n",
       "      <th rowspan=\"2\" valign=\"top\">0</th>\n",
       "      <th>Compras/Servicos</th>\n",
       "      <td>152.0</td>\n",
       "      <td>9.458569e+04</td>\n",
       "      <td>2.018605e+05</td>\n",
       "      <td>12019.0</td>\n",
       "      <td>22020.00</td>\n",
       "      <td>32020.0</td>\n",
       "      <td>92020.00</td>\n",
       "      <td>1742020.0</td>\n",
       "      <td>152.0</td>\n",
       "      <td>213495.881579</td>\n",
       "      <td>...</td>\n",
       "      <td>52121.00</td>\n",
       "      <td>97120.0</td>\n",
       "      <td>152.0</td>\n",
       "      <td>6.928322e+05</td>\n",
       "      <td>9.267593e+05</td>\n",
       "      <td>0.00</td>\n",
       "      <td>6.368863e+04</td>\n",
       "      <td>119726.405</td>\n",
       "      <td>1.629016e+06</td>\n",
       "      <td>3.048457e+06</td>\n",
       "    </tr>\n",
       "    <tr>\n",
       "      <th>Obras</th>\n",
       "      <td>127.0</td>\n",
       "      <td>3.472954e+05</td>\n",
       "      <td>2.047815e+06</td>\n",
       "      <td>12019.0</td>\n",
       "      <td>12020.00</td>\n",
       "      <td>32020.0</td>\n",
       "      <td>92020.00</td>\n",
       "      <td>18172019.0</td>\n",
       "      <td>127.0</td>\n",
       "      <td>244423.259843</td>\n",
       "      <td>...</td>\n",
       "      <td>52111.00</td>\n",
       "      <td>52131.0</td>\n",
       "      <td>127.0</td>\n",
       "      <td>1.667532e+05</td>\n",
       "      <td>9.369101e+04</td>\n",
       "      <td>0.00</td>\n",
       "      <td>8.806685e+04</td>\n",
       "      <td>168692.860</td>\n",
       "      <td>2.476066e+05</td>\n",
       "      <td>3.267569e+05</td>\n",
       "    </tr>\n",
       "    <tr>\n",
       "      <th rowspan=\"2\" valign=\"top\">1</th>\n",
       "      <th>Compras/Servicos</th>\n",
       "      <td>283.0</td>\n",
       "      <td>8.544746e+04</td>\n",
       "      <td>1.859686e+05</td>\n",
       "      <td>12019.0</td>\n",
       "      <td>12020.00</td>\n",
       "      <td>32020.0</td>\n",
       "      <td>82020.00</td>\n",
       "      <td>2052020.0</td>\n",
       "      <td>283.0</td>\n",
       "      <td>198599.296820</td>\n",
       "      <td>...</td>\n",
       "      <td>52121.00</td>\n",
       "      <td>94420.0</td>\n",
       "      <td>283.0</td>\n",
       "      <td>5.515468e+05</td>\n",
       "      <td>3.217225e+05</td>\n",
       "      <td>176677.70</td>\n",
       "      <td>3.004545e+05</td>\n",
       "      <td>444576.530</td>\n",
       "      <td>7.376809e+05</td>\n",
       "      <td>1.396531e+06</td>\n",
       "    </tr>\n",
       "    <tr>\n",
       "      <th>Obras</th>\n",
       "      <td>156.0</td>\n",
       "      <td>1.159942e+05</td>\n",
       "      <td>4.409589e+05</td>\n",
       "      <td>12019.0</td>\n",
       "      <td>12020.00</td>\n",
       "      <td>22020.0</td>\n",
       "      <td>84519.75</td>\n",
       "      <td>5212020.0</td>\n",
       "      <td>156.0</td>\n",
       "      <td>212481.275641</td>\n",
       "      <td>...</td>\n",
       "      <td>52111.00</td>\n",
       "      <td>52131.0</td>\n",
       "      <td>156.0</td>\n",
       "      <td>9.538511e+05</td>\n",
       "      <td>6.515488e+05</td>\n",
       "      <td>332499.32</td>\n",
       "      <td>4.659162e+05</td>\n",
       "      <td>681787.215</td>\n",
       "      <td>1.225781e+06</td>\n",
       "      <td>3.159088e+06</td>\n",
       "    </tr>\n",
       "  </tbody>\n",
       "</table>\n",
       "<p>29 rows × 48 columns</p>\n",
       "</div>"
      ],
      "text/plain": [
       "                                                      Número Licitação  \\\n",
       "                                                                 count   \n",
       "Modalidade Compra                Tag Tipo                                \n",
       "Concorrência                     0   Compras/Servicos             22.0   \n",
       "                                     Obras                        20.0   \n",
       "                                 1   Compras/Servicos             66.0   \n",
       "                                     Obras                        30.0   \n",
       "Concorrência - Registro de Preço 0   Compras/Servicos              3.0   \n",
       "                                     Obras                         1.0   \n",
       "Concorrência Internacional       1   Compras/Servicos              1.0   \n",
       "Concurso                         1   Compras/Servicos              7.0   \n",
       "                                     Obras                         1.0   \n",
       "Convite                          0   Compras/Servicos             11.0   \n",
       "                                     Obras                         2.0   \n",
       "                                 1   Compras/Servicos             22.0   \n",
       "                                     Obras                        25.0   \n",
       "Dispensa de Licitação            0   Compras/Servicos          14538.0   \n",
       "                                     Obras                       466.0   \n",
       "                                 1   Compras/Servicos          85462.0   \n",
       "                                     Obras                      1596.0   \n",
       "Inexigibilidade de Licitação     1   Compras/Servicos          16889.0   \n",
       "                                     Obras                       504.0   \n",
       "Pregão                           1   Compras/Servicos          15167.0   \n",
       "                                     Obras                      1738.0   \n",
       "Pregão - Registro de Preço       0   Compras/Servicos          19154.0   \n",
       "                                     Obras                       464.0   \n",
       "                                 1   Compras/Servicos            441.0   \n",
       "                                     Obras                        25.0   \n",
       "Tomada de Preços                 0   Compras/Servicos            152.0   \n",
       "                                     Obras                       127.0   \n",
       "                                 1   Compras/Servicos            283.0   \n",
       "                                     Obras                       156.0   \n",
       "\n",
       "                                                                     \\\n",
       "                                                               mean   \n",
       "Modalidade Compra                Tag Tipo                             \n",
       "Concorrência                     0   Compras/Servicos  4.611077e+04   \n",
       "                                     Obras             3.251980e+04   \n",
       "                                 1   Compras/Servicos  1.310201e+06   \n",
       "                                     Obras             5.868637e+04   \n",
       "Concorrência - Registro de Preço 0   Compras/Servicos  8.202000e+04   \n",
       "                                     Obras             8.201800e+04   \n",
       "Concorrência Internacional       1   Compras/Servicos  9.420200e+05   \n",
       "Concurso                         1   Compras/Servicos  2.059129e+04   \n",
       "                                     Obras             2.201900e+04   \n",
       "Convite                          0   Compras/Servicos  1.838364e+04   \n",
       "                                     Obras             1.202000e+04   \n",
       "                                 1   Compras/Servicos  3.701982e+04   \n",
       "                                     Obras             3.241992e+04   \n",
       "Dispensa de Licitação            0   Compras/Servicos  1.319300e+07   \n",
       "                                     Obras             9.415003e+06   \n",
       "                                 1   Compras/Servicos  1.195931e+07   \n",
       "                                     Obras             3.580861e+06   \n",
       "Inexigibilidade de Licitação     1   Compras/Servicos  2.400966e+07   \n",
       "                                     Obras             3.542020e+06   \n",
       "Pregão                           1   Compras/Servicos  7.375849e+06   \n",
       "                                     Obras             5.924586e+06   \n",
       "Pregão - Registro de Preço       0   Compras/Servicos  5.313580e+06   \n",
       "                                     Obras             3.510447e+06   \n",
       "                                 1   Compras/Servicos  3.491408e+06   \n",
       "                                     Obras             2.468200e+05   \n",
       "Tomada de Preços                 0   Compras/Servicos  9.458569e+04   \n",
       "                                     Obras             3.472954e+05   \n",
       "                                 1   Compras/Servicos  8.544746e+04   \n",
       "                                     Obras             1.159942e+05   \n",
       "\n",
       "                                                                               \\\n",
       "                                                                std       min   \n",
       "Modalidade Compra                Tag Tipo                                       \n",
       "Concorrência                     0   Compras/Servicos  3.333221e+04   12019.0   \n",
       "                                     Obras             2.584859e+04   12019.0   \n",
       "                                 1   Compras/Servicos  7.134214e+06   12017.0   \n",
       "                                     Obras             1.359851e+05   12019.0   \n",
       "Concorrência - Registro de Preço 0   Compras/Servicos  4.000000e+04   42020.0   \n",
       "                                     Obras                      NaN   82018.0   \n",
       "Concorrência Internacional       1   Compras/Servicos           NaN  942020.0   \n",
       "Concurso                         1   Compras/Servicos  1.463814e+04   12020.0   \n",
       "                                     Obras                      NaN   22019.0   \n",
       "Convite                          0   Compras/Servicos  9.244163e+03   12020.0   \n",
       "                                     Obras             0.000000e+00   12020.0   \n",
       "                                 1   Compras/Servicos  4.718243e+04   12019.0   \n",
       "                                     Obras             3.272087e+04   12020.0   \n",
       "Dispensa de Licitação            0   Compras/Servicos  8.187443e+07   12020.0   \n",
       "                                     Obras             6.871594e+07   12020.0   \n",
       "                                 1   Compras/Servicos  7.762541e+07   12019.0   \n",
       "                                     Obras             3.130395e+07   12020.0   \n",
       "Inexigibilidade de Licitação     1   Compras/Servicos  1.172267e+08   12017.0   \n",
       "                                     Obras             3.257573e+07   12020.0   \n",
       "Pregão                           1   Compras/Servicos  5.249090e+07   12019.0   \n",
       "                                     Obras             4.262725e+07   12018.0   \n",
       "Pregão - Registro de Preço       0   Compras/Servicos  5.544667e+07   12018.0   \n",
       "                                     Obras             4.512268e+07   12020.0   \n",
       "                                 1   Compras/Servicos  3.753888e+07   12020.0   \n",
       "                                     Obras             2.013935e+05   12020.0   \n",
       "Tomada de Preços                 0   Compras/Servicos  2.018605e+05   12019.0   \n",
       "                                     Obras             2.047815e+06   12019.0   \n",
       "                                 1   Compras/Servicos  1.859686e+05   12019.0   \n",
       "                                     Obras             4.409589e+05   12019.0   \n",
       "\n",
       "                                                                            \\\n",
       "                                                             25%       50%   \n",
       "Modalidade Compra                Tag Tipo                                    \n",
       "Concorrência                     0   Compras/Servicos   14520.00   42020.0   \n",
       "                                     Obras              12020.00   27020.0   \n",
       "                                 1   Compras/Servicos   12020.00   22020.0   \n",
       "                                     Obras              12020.00   22019.0   \n",
       "Concorrência - Registro de Preço 0   Compras/Servicos   62020.00   82020.0   \n",
       "                                     Obras              82018.00   82018.0   \n",
       "Concorrência Internacional       1   Compras/Servicos  942020.00  942020.0   \n",
       "Concurso                         1   Compras/Servicos   12020.00   12020.0   \n",
       "                                     Obras              22019.00   22019.0   \n",
       "Convite                          0   Compras/Servicos   12020.00   12020.0   \n",
       "                                     Obras              12020.00   12020.0   \n",
       "                                 1   Compras/Servicos   12020.00   22020.0   \n",
       "                                     Obras              12020.00   22020.0   \n",
       "Dispensa de Licitação            0   Compras/Servicos  182020.00  522020.0   \n",
       "                                     Obras             112020.00  272020.0   \n",
       "                                 1   Compras/Servicos  192020.00  582020.0   \n",
       "                                     Obras             122020.00  342020.0   \n",
       "Inexigibilidade de Licitação     1   Compras/Servicos   52020.00  202020.0   \n",
       "                                     Obras              82020.00  527020.0   \n",
       "Pregão                           1   Compras/Servicos   72020.00  222020.0   \n",
       "                                     Obras              42020.00  142019.0   \n",
       "Pregão - Registro de Preço       0   Compras/Servicos   82019.00  212020.0   \n",
       "                                     Obras              52019.75  122020.0   \n",
       "                                 1   Compras/Servicos  102020.00  262020.0   \n",
       "                                     Obras             122020.00  232020.0   \n",
       "Tomada de Preços                 0   Compras/Servicos   22020.00   32020.0   \n",
       "                                     Obras              12020.00   32020.0   \n",
       "                                 1   Compras/Servicos   12020.00   32020.0   \n",
       "                                     Obras              12020.00   22020.0   \n",
       "\n",
       "                                                                   \\\n",
       "                                                              75%   \n",
       "Modalidade Compra                Tag Tipo                           \n",
       "Concorrência                     0   Compras/Servicos    69520.00   \n",
       "                                     Obras               34520.00   \n",
       "                                 1   Compras/Servicos    52020.00   \n",
       "                                     Obras               39520.00   \n",
       "Concorrência - Registro de Preço 0   Compras/Servicos   102020.00   \n",
       "                                     Obras               82018.00   \n",
       "Concorrência Internacional       1   Compras/Servicos   942020.00   \n",
       "Concurso                         1   Compras/Servicos    22020.00   \n",
       "                                     Obras               22019.00   \n",
       "Convite                          0   Compras/Servicos    27020.00   \n",
       "                                     Obras               12020.00   \n",
       "                                 1   Compras/Servicos    42019.75   \n",
       "                                     Obras               42019.00   \n",
       "Dispensa de Licitação            0   Compras/Servicos  1509520.00   \n",
       "                                     Obras              702020.00   \n",
       "                                 1   Compras/Servicos  1482020.00   \n",
       "                                     Obras              972020.00   \n",
       "Inexigibilidade de Licitação     1   Compras/Servicos   822020.00   \n",
       "                                     Obras             1784520.00   \n",
       "Pregão                           1   Compras/Servicos   732020.00   \n",
       "                                     Obras              472020.00   \n",
       "Pregão - Registro de Preço       0   Compras/Servicos   562020.00   \n",
       "                                     Obras              342020.00   \n",
       "                                 1   Compras/Servicos   702020.00   \n",
       "                                     Obras              302020.00   \n",
       "Tomada de Preços                 0   Compras/Servicos    92020.00   \n",
       "                                     Obras               92020.00   \n",
       "                                 1   Compras/Servicos    82020.00   \n",
       "                                     Obras               84519.75   \n",
       "\n",
       "                                                                   Código UG  \\\n",
       "                                                               max     count   \n",
       "Modalidade Compra                Tag Tipo                                      \n",
       "Concorrência                     0   Compras/Servicos     112020.0      22.0   \n",
       "                                     Obras                122019.0      20.0   \n",
       "                                 1   Compras/Servicos   41392019.0      66.0   \n",
       "                                     Obras                742020.0      30.0   \n",
       "Concorrência - Registro de Preço 0   Compras/Servicos     122020.0       3.0   \n",
       "                                     Obras                 82018.0       1.0   \n",
       "Concorrência Internacional       1   Compras/Servicos     942020.0       1.0   \n",
       "Concurso                         1   Compras/Servicos      52019.0       7.0   \n",
       "                                     Obras                 22019.0       1.0   \n",
       "Convite                          0   Compras/Servicos      32020.0      11.0   \n",
       "                                     Obras                 12020.0       2.0   \n",
       "                                 1   Compras/Servicos     182020.0      22.0   \n",
       "                                     Obras                162019.0      25.0   \n",
       "Dispensa de Licitação            0   Compras/Servicos  900032020.0   14538.0   \n",
       "                                     Obras             634542020.0     466.0   \n",
       "                                 1   Compras/Servicos  999732020.0   85462.0   \n",
       "                                     Obras             591082020.0    1596.0   \n",
       "Inexigibilidade de Licitação     1   Compras/Servicos  999122020.0   16889.0   \n",
       "                                     Obras             701572019.0     504.0   \n",
       "Pregão                           1   Compras/Servicos  993512019.0   15167.0   \n",
       "                                     Obras             730982020.0    1738.0   \n",
       "Pregão - Registro de Preço       0   Compras/Servicos  990782020.0   19154.0   \n",
       "                                     Obras             920202020.0     464.0   \n",
       "                                 1   Compras/Servicos  730892020.0     441.0   \n",
       "                                     Obras                982020.0      25.0   \n",
       "Tomada de Preços                 0   Compras/Servicos    1742020.0     152.0   \n",
       "                                     Obras              18172019.0     127.0   \n",
       "                                 1   Compras/Servicos    2052020.0     283.0   \n",
       "                                     Obras               5212020.0     156.0   \n",
       "\n",
       "                                                                      ...  \\\n",
       "                                                                mean  ...   \n",
       "Modalidade Compra                Tag Tipo                             ...   \n",
       "Concorrência                     0   Compras/Servicos  168201.636364  ...   \n",
       "                                     Obras             228815.450000  ...   \n",
       "                                 1   Compras/Servicos  188478.666667  ...   \n",
       "                                     Obras             227282.733333  ...   \n",
       "Concorrência - Registro de Preço 0   Compras/Servicos  145477.000000  ...   \n",
       "                                     Obras             153046.000000  ...   \n",
       "Concorrência Internacional       1   Compras/Servicos  240106.000000  ...   \n",
       "Concurso                         1   Compras/Servicos  325712.571429  ...   \n",
       "                                     Obras             344002.000000  ...   \n",
       "Convite                          0   Compras/Servicos  177296.000000  ...   \n",
       "                                     Obras             334517.500000  ...   \n",
       "                                 1   Compras/Servicos  278613.181818  ...   \n",
       "                                     Obras             303265.480000  ...   \n",
       "Dispensa de Licitação            0   Compras/Servicos  219708.648232  ...   \n",
       "                                     Obras             225793.639485  ...   \n",
       "                                 1   Compras/Servicos  252822.261063  ...   \n",
       "                                     Obras             233970.317669  ...   \n",
       "Inexigibilidade de Licitação     1   Compras/Servicos  241268.383208  ...   \n",
       "                                     Obras             176458.107143  ...   \n",
       "Pregão                           1   Compras/Servicos  525768.266104  ...   \n",
       "                                     Obras             357084.861910  ...   \n",
       "Pregão - Registro de Preço       0   Compras/Servicos  361517.238018  ...   \n",
       "                                     Obras             297175.318966  ...   \n",
       "                                 1   Compras/Servicos  395971.190476  ...   \n",
       "                                     Obras             404672.000000  ...   \n",
       "Tomada de Preços                 0   Compras/Servicos  213495.881579  ...   \n",
       "                                     Obras             244423.259843  ...   \n",
       "                                 1   Compras/Servicos  198599.296820  ...   \n",
       "                                     Obras             212481.275641  ...   \n",
       "\n",
       "                                                      Código Órgão           \\\n",
       "                                                               75%      max   \n",
       "Modalidade Compra                Tag Tipo                                     \n",
       "Concorrência                     0   Compras/Servicos     46610.25  52121.0   \n",
       "                                     Obras                52111.00  52131.0   \n",
       "                                 1   Compras/Servicos     52121.00  52131.0   \n",
       "                                     Obras                52121.00  52131.0   \n",
       "Concorrência - Registro de Preço 0   Compras/Servicos     26247.00  26247.0   \n",
       "                                     Obras                26234.00  26234.0   \n",
       "Concorrência Internacional       1   Compras/Servicos     24000.00  24000.0   \n",
       "Concurso                         1   Compras/Servicos     26321.00  52131.0   \n",
       "                                     Obras                26292.00  26292.0   \n",
       "Convite                          0   Compras/Servicos     52121.00  52121.0   \n",
       "                                     Obras                34510.75  37202.0   \n",
       "                                 1   Compras/Servicos     52121.00  52131.0   \n",
       "                                     Obras                52121.00  52131.0   \n",
       "Dispensa de Licitação            0   Compras/Servicos     52111.00  97400.0   \n",
       "                                     Obras                36201.00  96220.0   \n",
       "                                 1   Compras/Servicos     52121.00  97400.0   \n",
       "                                     Obras                52121.00  97400.0   \n",
       "Inexigibilidade de Licitação     1   Compras/Servicos     52121.00  97120.0   \n",
       "                                     Obras                26418.50  63000.0   \n",
       "Pregão                           1   Compras/Servicos     93520.00  97400.0   \n",
       "                                     Obras                52111.00  97400.0   \n",
       "Pregão - Registro de Preço       0   Compras/Servicos     52131.00  97400.0   \n",
       "                                     Obras                52121.00  97400.0   \n",
       "                                 1   Compras/Servicos     52131.00  97400.0   \n",
       "                                     Obras                52131.00  95120.0   \n",
       "Tomada de Preços                 0   Compras/Servicos     52121.00  97120.0   \n",
       "                                     Obras                52111.00  52131.0   \n",
       "                                 1   Compras/Servicos     52121.00  94420.0   \n",
       "                                     Obras                52111.00  52131.0   \n",
       "\n",
       "                                                         Total                \\\n",
       "                                                         count          mean   \n",
       "Modalidade Compra                Tag Tipo                                      \n",
       "Concorrência                     0   Compras/Servicos     22.0  4.014586e+05   \n",
       "                                     Obras                20.0  1.279046e+06   \n",
       "                                 1   Compras/Servicos     66.0  6.693961e+06   \n",
       "                                     Obras                30.0  1.344329e+07   \n",
       "Concorrência - Registro de Preço 0   Compras/Servicos      3.0  0.000000e+00   \n",
       "                                     Obras                 1.0  0.000000e+00   \n",
       "Concorrência Internacional       1   Compras/Servicos      1.0  6.119267e+05   \n",
       "Concurso                         1   Compras/Servicos      7.0  1.714714e+05   \n",
       "                                     Obras                 1.0  1.600000e+05   \n",
       "Convite                          0   Compras/Servicos     11.0  2.136496e+05   \n",
       "                                     Obras                 2.0  1.084665e+04   \n",
       "                                 1   Compras/Servicos     22.0  1.177250e+05   \n",
       "                                     Obras                25.0  1.317942e+05   \n",
       "Dispensa de Licitação            0   Compras/Servicos  14538.0  1.246876e+06   \n",
       "                                     Obras               466.0  9.465799e+05   \n",
       "                                 1   Compras/Servicos  85462.0  4.337759e+03   \n",
       "                                     Obras              1596.0  9.189965e+03   \n",
       "Inexigibilidade de Licitação     1   Compras/Servicos  16889.0  8.258457e+05   \n",
       "                                     Obras               504.0  7.957303e+05   \n",
       "Pregão                           1   Compras/Servicos  15167.0  1.031128e+06   \n",
       "                                     Obras              1738.0  1.306782e+06   \n",
       "Pregão - Registro de Preço       0   Compras/Servicos  19154.0  5.610226e+04   \n",
       "                                     Obras               464.0  1.895707e+05   \n",
       "                                 1   Compras/Servicos    441.0  5.532644e+09   \n",
       "                                     Obras                25.0  1.039058e+07   \n",
       "Tomada de Preços                 0   Compras/Servicos    152.0  6.928322e+05   \n",
       "                                     Obras               127.0  1.667532e+05   \n",
       "                                 1   Compras/Servicos    283.0  5.515468e+05   \n",
       "                                     Obras               156.0  9.538511e+05   \n",
       "\n",
       "                                                                     \\\n",
       "                                                                std   \n",
       "Modalidade Compra                Tag Tipo                             \n",
       "Concorrência                     0   Compras/Servicos  4.207592e+05   \n",
       "                                     Obras             9.453980e+05   \n",
       "                                 1   Compras/Servicos  7.268915e+06   \n",
       "                                     Obras             2.284448e+07   \n",
       "Concorrência - Registro de Preço 0   Compras/Servicos  0.000000e+00   \n",
       "                                     Obras                      NaN   \n",
       "Concorrência Internacional       1   Compras/Servicos           NaN   \n",
       "Concurso                         1   Compras/Servicos  3.326382e+05   \n",
       "                                     Obras                      NaN   \n",
       "Convite                          0   Compras/Servicos  8.116860e+04   \n",
       "                                     Obras             1.533947e+04   \n",
       "                                 1   Compras/Servicos  3.917939e+04   \n",
       "                                     Obras             6.106084e+04   \n",
       "Dispensa de Licitação            0   Compras/Servicos  1.982053e+07   \n",
       "                                     Obras             3.674913e+06   \n",
       "                                 1   Compras/Servicos  4.511700e+03   \n",
       "                                     Obras             9.031601e+03   \n",
       "Inexigibilidade de Licitação     1   Compras/Servicos  1.071186e+07   \n",
       "                                     Obras             5.746385e+06   \n",
       "Pregão                           1   Compras/Servicos  5.692679e+06   \n",
       "                                     Obras             5.428531e+06   \n",
       "Pregão - Registro de Preço       0   Compras/Servicos  1.574906e+05   \n",
       "                                     Obras             4.624900e+05   \n",
       "                                 1   Compras/Servicos  1.159194e+11   \n",
       "                                     Obras             8.000605e+06   \n",
       "Tomada de Preços                 0   Compras/Servicos  9.267593e+05   \n",
       "                                     Obras             9.369101e+04   \n",
       "                                 1   Compras/Servicos  3.217225e+05   \n",
       "                                     Obras             6.515488e+05   \n",
       "\n",
       "                                                                   \\\n",
       "                                                              min   \n",
       "Modalidade Compra                Tag Tipo                           \n",
       "Concorrência                     0   Compras/Servicos        0.00   \n",
       "                                     Obras                   0.00   \n",
       "                                 1   Compras/Servicos  1619735.63   \n",
       "                                     Obras             3389075.61   \n",
       "Concorrência - Registro de Preço 0   Compras/Servicos        0.00   \n",
       "                                     Obras                   0.00   \n",
       "Concorrência Internacional       1   Compras/Servicos   611926.70   \n",
       "Concurso                         1   Compras/Servicos        0.00   \n",
       "                                     Obras              160000.00   \n",
       "Convite                          0   Compras/Servicos        0.00   \n",
       "                                     Obras                   0.00   \n",
       "                                 1   Compras/Servicos    38496.67   \n",
       "                                     Obras               40653.95   \n",
       "Dispensa de Licitação            0   Compras/Servicos    17601.25   \n",
       "                                     Obras               33210.00   \n",
       "                                 1   Compras/Servicos        0.00   \n",
       "                                     Obras                   0.00   \n",
       "Inexigibilidade de Licitação     1   Compras/Servicos        0.01   \n",
       "                                     Obras                   0.01   \n",
       "Pregão                           1   Compras/Servicos        0.00   \n",
       "                                     Obras                   0.00   \n",
       "Pregão - Registro de Preço       0   Compras/Servicos        0.00   \n",
       "                                     Obras                   0.00   \n",
       "                                 1   Compras/Servicos  1432000.00   \n",
       "                                     Obras             3717183.36   \n",
       "Tomada de Preços                 0   Compras/Servicos        0.00   \n",
       "                                     Obras                   0.00   \n",
       "                                 1   Compras/Servicos   176677.70   \n",
       "                                     Obras              332499.32   \n",
       "\n",
       "                                                                     \\\n",
       "                                                                25%   \n",
       "Modalidade Compra                Tag Tipo                             \n",
       "Concorrência                     0   Compras/Servicos  2.498220e+04   \n",
       "                                     Obras             4.050749e+05   \n",
       "                                 1   Compras/Servicos  3.077781e+06   \n",
       "                                     Obras             3.824811e+06   \n",
       "Concorrência - Registro de Preço 0   Compras/Servicos  0.000000e+00   \n",
       "                                     Obras             0.000000e+00   \n",
       "Concorrência Internacional       1   Compras/Servicos  6.119267e+05   \n",
       "Concurso                         1   Compras/Servicos  4.400000e+03   \n",
       "                                     Obras             1.600000e+05   \n",
       "Convite                          0   Compras/Servicos  2.011348e+05   \n",
       "                                     Obras             5.423323e+03   \n",
       "                                 1   Compras/Servicos  9.403607e+04   \n",
       "                                     Obras             8.282357e+04   \n",
       "Dispensa de Licitação            0   Compras/Servicos  2.699964e+04   \n",
       "                                     Obras             5.103015e+04   \n",
       "                                 1   Compras/Servicos  9.660000e+02   \n",
       "                                     Obras             1.980750e+03   \n",
       "Inexigibilidade de Licitação     1   Compras/Servicos  1.785720e+03   \n",
       "                                     Obras             4.192275e+03   \n",
       "Pregão                           1   Compras/Servicos  1.400000e+04   \n",
       "                                     Obras             6.059567e+04   \n",
       "Pregão - Registro de Preço       0   Compras/Servicos  1.225625e+02   \n",
       "                                     Obras             1.603200e+03   \n",
       "                                 1   Compras/Servicos  1.999830e+06   \n",
       "                                     Obras             5.000000e+06   \n",
       "Tomada de Preços                 0   Compras/Servicos  6.368863e+04   \n",
       "                                     Obras             8.806685e+04   \n",
       "                                 1   Compras/Servicos  3.004545e+05   \n",
       "                                     Obras             4.659162e+05   \n",
       "\n",
       "                                                                    \\\n",
       "                                                               50%   \n",
       "Modalidade Compra                Tag Tipo                            \n",
       "Concorrência                     0   Compras/Servicos   347855.025   \n",
       "                                     Obras             1234206.190   \n",
       "                                 1   Compras/Servicos  4662124.510   \n",
       "                                     Obras             5000954.000   \n",
       "Concorrência - Registro de Preço 0   Compras/Servicos        0.000   \n",
       "                                     Obras                   0.000   \n",
       "Concorrência Internacional       1   Compras/Servicos   611926.700   \n",
       "Concurso                         1   Compras/Servicos     6500.000   \n",
       "                                     Obras              160000.000   \n",
       "Convite                          0   Compras/Servicos   219163.530   \n",
       "                                     Obras               10846.645   \n",
       "                                 1   Compras/Servicos   116743.980   \n",
       "                                     Obras              120680.260   \n",
       "Dispensa de Licitação            0   Compras/Servicos    46245.000   \n",
       "                                     Obras               99174.940   \n",
       "                                 1   Compras/Servicos     2537.335   \n",
       "                                     Obras                5667.000   \n",
       "Inexigibilidade de Licitação     1   Compras/Servicos     9027.000   \n",
       "                                     Obras               65863.285   \n",
       "Pregão                           1   Compras/Servicos    67554.000   \n",
       "                                     Obras              219460.300   \n",
       "Pregão - Registro de Preço       0   Compras/Servicos     4842.500   \n",
       "                                     Obras               24000.000   \n",
       "                                 1   Compras/Servicos  3861200.000   \n",
       "                                     Obras             6999990.000   \n",
       "Tomada de Preços                 0   Compras/Servicos   119726.405   \n",
       "                                     Obras              168692.860   \n",
       "                                 1   Compras/Servicos   444576.530   \n",
       "                                     Obras              681787.215   \n",
       "\n",
       "                                                                     \\\n",
       "                                                                75%   \n",
       "Modalidade Compra                Tag Tipo                             \n",
       "Concorrência                     0   Compras/Servicos  5.546784e+05   \n",
       "                                     Obras             2.090708e+06   \n",
       "                                 1   Compras/Servicos  6.971895e+06   \n",
       "                                     Obras             7.601931e+06   \n",
       "Concorrência - Registro de Preço 0   Compras/Servicos  0.000000e+00   \n",
       "                                     Obras             0.000000e+00   \n",
       "Concorrência Internacional       1   Compras/Servicos  6.119267e+05   \n",
       "Concurso                         1   Compras/Servicos  1.425000e+05   \n",
       "                                     Obras             1.600000e+05   \n",
       "Convite                          0   Compras/Servicos  2.510928e+05   \n",
       "                                     Obras             1.626997e+04   \n",
       "                                 1   Compras/Servicos  1.569780e+05   \n",
       "                                     Obras             1.879300e+05   \n",
       "Dispensa de Licitação            0   Compras/Servicos  1.638636e+05   \n",
       "                                     Obras             4.239157e+05   \n",
       "                                 1   Compras/Servicos  6.264705e+03   \n",
       "                                     Obras             1.419750e+04   \n",
       "Inexigibilidade de Licitação     1   Compras/Servicos  6.420567e+04   \n",
       "                                     Obras             5.735850e+05   \n",
       "Pregão                           1   Compras/Servicos  3.085507e+05   \n",
       "                                     Obras             7.291299e+05   \n",
       "Pregão - Registro de Preço       0   Compras/Servicos  3.159875e+04   \n",
       "                                     Obras             1.234500e+05   \n",
       "                                 1   Compras/Servicos  8.608380e+06   \n",
       "                                     Obras             1.135000e+07   \n",
       "Tomada de Preços                 0   Compras/Servicos  1.629016e+06   \n",
       "                                     Obras             2.476066e+05   \n",
       "                                 1   Compras/Servicos  7.376809e+05   \n",
       "                                     Obras             1.225781e+06   \n",
       "\n",
       "                                                                     \n",
       "                                                                max  \n",
       "Modalidade Compra                Tag Tipo                            \n",
       "Concorrência                     0   Compras/Servicos  1.289863e+06  \n",
       "                                     Obras             2.712530e+06  \n",
       "                                 1   Compras/Servicos  4.864903e+07  \n",
       "                                     Obras             1.117631e+08  \n",
       "Concorrência - Registro de Preço 0   Compras/Servicos  0.000000e+00  \n",
       "                                     Obras             0.000000e+00  \n",
       "Concorrência Internacional       1   Compras/Servicos  6.119267e+05  \n",
       "Concurso                         1   Compras/Servicos  9.000000e+05  \n",
       "                                     Obras             1.600000e+05  \n",
       "Convite                          0   Compras/Servicos  3.163425e+05  \n",
       "                                     Obras             2.169329e+04  \n",
       "                                 1   Compras/Servicos  1.673980e+05  \n",
       "                                     Obras             2.495764e+05  \n",
       "Dispensa de Licitação            0   Compras/Servicos  1.353826e+09  \n",
       "                                     Obras             5.683217e+07  \n",
       "                                 1   Compras/Servicos  1.760000e+04  \n",
       "                                     Obras             3.300000e+04  \n",
       "Inexigibilidade de Licitação     1   Compras/Servicos  8.447837e+08  \n",
       "                                     Obras             1.253688e+08  \n",
       "Pregão                           1   Compras/Servicos  2.747000e+08  \n",
       "                                     Obras             1.079070e+08  \n",
       "Pregão - Registro de Preço       0   Compras/Servicos  1.425600e+06  \n",
       "                                     Obras             3.151678e+06  \n",
       "                                 1   Compras/Servicos  2.434320e+12  \n",
       "                                     Obras             2.760000e+07  \n",
       "Tomada de Preços                 0   Compras/Servicos  3.048457e+06  \n",
       "                                     Obras             3.267569e+05  \n",
       "                                 1   Compras/Servicos  1.396531e+06  \n",
       "                                     Obras             3.159088e+06  \n",
       "\n",
       "[29 rows x 48 columns]"
      ]
     },
     "execution_count": 133,
     "metadata": {},
     "output_type": "execute_result"
    }
   ],
   "source": [
    "lic_2020_com_tag.groupby(['Modalidade Compra','Tag', 'Tipo']).describe()"
   ]
  },
  {
   "cell_type": "code",
   "execution_count": 134,
   "id": "1d5180c8",
   "metadata": {},
   "outputs": [],
   "source": [
    "import numpy as np\n",
    "%matplotlib inline"
   ]
  },
  {
   "cell_type": "code",
   "execution_count": 135,
   "id": "5f4a5c19",
   "metadata": {},
   "outputs": [
    {
     "name": "stdout",
     "output_type": "stream",
     "text": [
      "<class 'pandas.core.frame.DataFrame'>\n",
      "Int64Index: 157373 entries, 1072 to 126821\n",
      "Data columns (total 18 columns):\n",
      " #   Column                    Non-Null Count   Dtype  \n",
      "---  ------                    --------------   -----  \n",
      " 0   Número Licitação          157373 non-null  int64  \n",
      " 1   Código UG                 157373 non-null  int64  \n",
      " 2   Nome UG                   157373 non-null  object \n",
      " 3   Código Modalidade Compra  157373 non-null  int64  \n",
      " 4   Modalidade Compra         157373 non-null  object \n",
      " 5   Número Processo           157373 non-null  object \n",
      " 6   Objeto                    157373 non-null  object \n",
      " 7   Situação Licitação        157373 non-null  object \n",
      " 8   Código Órgão Superior     157373 non-null  int64  \n",
      " 9   Nome Órgão Superior       157373 non-null  object \n",
      " 10  Código Órgão              157373 non-null  int64  \n",
      " 11  Nome Órgão                157373 non-null  object \n",
      " 12  Município                 157373 non-null  object \n",
      " 13  Data Resultado Compra     157373 non-null  object \n",
      " 14  Data Abertura             51098 non-null   object \n",
      " 15  Total                     157373 non-null  float64\n",
      " 16  Tipo                      157373 non-null  object \n",
      " 17  Tag                       157373 non-null  int64  \n",
      "dtypes: float64(1), int64(6), object(11)\n",
      "memory usage: 22.8+ MB\n"
     ]
    }
   ],
   "source": [
    "lic_2020_com_tag.info()"
   ]
  },
  {
   "cell_type": "code",
   "execution_count": 136,
   "id": "3980ebb5",
   "metadata": {},
   "outputs": [
    {
     "data": {
      "text/plain": [
       "25/11/2020    340\n",
       "24/11/2020    332\n",
       "29/10/2020    331\n",
       "17/11/2020    320\n",
       "27/10/2020    305\n",
       "             ... \n",
       "18/04/2018      1\n",
       "23/03/2018      1\n",
       "25/01/2020      1\n",
       "18/03/2019      1\n",
       "12/12/2018      1\n",
       "Name: Data Abertura, Length: 571, dtype: int64"
      ]
     },
     "execution_count": 136,
     "metadata": {},
     "output_type": "execute_result"
    }
   ],
   "source": [
    "lic_2020_com_tag['Data Abertura'].value_counts()"
   ]
  },
  {
   "cell_type": "code",
   "execution_count": null,
   "id": "fe4f506a",
   "metadata": {},
   "outputs": [],
   "source": []
  }
 ],
 "metadata": {
  "kernelspec": {
   "display_name": "Python 3 (ipykernel)",
   "language": "python",
   "name": "python3"
  },
  "language_info": {
   "codemirror_mode": {
    "name": "ipython",
    "version": 3
   },
   "file_extension": ".py",
   "mimetype": "text/x-python",
   "name": "python",
   "nbconvert_exporter": "python",
   "pygments_lexer": "ipython3",
   "version": "3.9.7"
  }
 },
 "nbformat": 4,
 "nbformat_minor": 5
}
