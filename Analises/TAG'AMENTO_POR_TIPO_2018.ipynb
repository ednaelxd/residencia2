{
 "cells": [
  {
   "cell_type": "markdown",
   "id": "fa466ffd",
   "metadata": {},
   "source": [
    "## Neste documento, adicionaremos a tag legal/ilegal nos dados\n",
    "- Importação dos dados\n",
    "- Divisão por grupo de tipo de licitação\n",
    "- Criação do algorítmo de classificação\n",
    "- Implementação nas bases divididas por modalidade de licitação"
   ]
  },
  {
   "cell_type": "code",
   "execution_count": 1,
   "id": "d4318096",
   "metadata": {},
   "outputs": [],
   "source": [
    "import pandas as pd\n",
    "import glob"
   ]
  },
  {
   "cell_type": "code",
   "execution_count": 2,
   "id": "4defb4fa",
   "metadata": {},
   "outputs": [
    {
     "name": "stdout",
     "output_type": "stream",
     "text": [
      "Wall time: 0 ns\n"
     ]
    }
   ],
   "source": [
    "%time\n",
    "path = r'C:\\liciatacao_07_12_2018'\n",
    "filenames = glob.glob(path + \"/*.csv\")\n",
    "\n",
    "li= []\n",
    "\n",
    "for filename in filenames:\n",
    "    df = pd.read_csv(filename, index_col=None, header=0, decimal=',',sep=';',encoding='latin1')\n",
    "    li.append(df)\n",
    "\n",
    "df_lic_2018 = pd.concat(li, axis=0, ignore_index=True)"
   ]
  },
  {
   "cell_type": "code",
   "execution_count": 3,
   "id": "27a67660",
   "metadata": {},
   "outputs": [],
   "source": [
    "pd.options.display.max_colwidth = 1000"
   ]
  },
  {
   "cell_type": "code",
   "execution_count": 4,
   "id": "4bcdd0ed",
   "metadata": {},
   "outputs": [
    {
     "data": {
      "text/html": [
       "<div>\n",
       "<style scoped>\n",
       "    .dataframe tbody tr th:only-of-type {\n",
       "        vertical-align: middle;\n",
       "    }\n",
       "\n",
       "    .dataframe tbody tr th {\n",
       "        vertical-align: top;\n",
       "    }\n",
       "\n",
       "    .dataframe thead th {\n",
       "        text-align: right;\n",
       "    }\n",
       "</style>\n",
       "<table border=\"1\" class=\"dataframe\">\n",
       "  <thead>\n",
       "    <tr style=\"text-align: right;\">\n",
       "      <th></th>\n",
       "      <th>Número Licitação</th>\n",
       "      <th>Código UG</th>\n",
       "      <th>Nome UG</th>\n",
       "      <th>Código Modalidade Compra</th>\n",
       "      <th>Modalidade Compra</th>\n",
       "      <th>Número Processo</th>\n",
       "      <th>Objeto</th>\n",
       "      <th>Situação Licitação</th>\n",
       "      <th>Código Órgão Superior</th>\n",
       "      <th>Nome Órgão Superior</th>\n",
       "      <th>Código Órgão</th>\n",
       "      <th>Nome Órgão</th>\n",
       "      <th>Município</th>\n",
       "      <th>Data Resultado Compra</th>\n",
       "      <th>Data Abertura</th>\n",
       "      <th>Valor Licitação</th>\n",
       "    </tr>\n",
       "  </thead>\n",
       "  <tbody>\n",
       "    <tr>\n",
       "      <th>0</th>\n",
       "      <td>12016</td>\n",
       "      <td>763000</td>\n",
       "      <td>DIRETORIA DO PESSOAL CIVIL DA MARINHA</td>\n",
       "      <td>7</td>\n",
       "      <td>Inexigibilidade de Licitação</td>\n",
       "      <td>63000003136201667</td>\n",
       "      <td>Objeto: Prestação de serviços e venda de produtos postais, em âmbito nacional e internacional. Referente ao TJIL 1/2016, desta UASG. Assinado em 11/11/2016. Publicado, originalmente, no D.O.U em 07/12/2016.</td>\n",
       "      <td>Publicado</td>\n",
       "      <td>52000</td>\n",
       "      <td>Ministério da Defesa</td>\n",
       "      <td>52131</td>\n",
       "      <td>Comando da Marinha</td>\n",
       "      <td>BRASILIA</td>\n",
       "      <td>30/07/2018</td>\n",
       "      <td>NaN</td>\n",
       "      <td>227500.0</td>\n",
       "    </tr>\n",
       "  </tbody>\n",
       "</table>\n",
       "</div>"
      ],
      "text/plain": [
       "   Número Licitação  Código UG                                Nome UG  \\\n",
       "0             12016     763000  DIRETORIA DO PESSOAL CIVIL DA MARINHA   \n",
       "\n",
       "   Código Modalidade Compra             Modalidade Compra    Número Processo  \\\n",
       "0                         7  Inexigibilidade de Licitação  63000003136201667   \n",
       "\n",
       "                                                                                                                                                                                                           Objeto  \\\n",
       "0  Objeto: Prestação de serviços e venda de produtos postais, em âmbito nacional e internacional. Referente ao TJIL 1/2016, desta UASG. Assinado em 11/11/2016. Publicado, originalmente, no D.O.U em 07/12/2016.   \n",
       "\n",
       "  Situação Licitação  Código Órgão Superior   Nome Órgão Superior  \\\n",
       "0          Publicado                  52000  Ministério da Defesa   \n",
       "\n",
       "   Código Órgão          Nome Órgão Município Data Resultado Compra  \\\n",
       "0         52131  Comando da Marinha  BRASILIA            30/07/2018   \n",
       "\n",
       "  Data Abertura  Valor Licitação  \n",
       "0           NaN         227500.0  "
      ]
     },
     "execution_count": 4,
     "metadata": {},
     "output_type": "execute_result"
    }
   ],
   "source": [
    "df_lic_2018.head(1)"
   ]
  },
  {
   "cell_type": "code",
   "execution_count": 5,
   "id": "7420d3ea",
   "metadata": {},
   "outputs": [
    {
     "name": "stdout",
     "output_type": "stream",
     "text": [
      "<class 'pandas.core.frame.DataFrame'>\n",
      "RangeIndex: 112936 entries, 0 to 112935\n",
      "Data columns (total 16 columns):\n",
      " #   Column                    Non-Null Count   Dtype  \n",
      "---  ------                    --------------   -----  \n",
      " 0   Número Licitação          112936 non-null  int64  \n",
      " 1   Código UG                 112936 non-null  int64  \n",
      " 2   Nome UG                   112936 non-null  object \n",
      " 3   Código Modalidade Compra  112936 non-null  int64  \n",
      " 4   Modalidade Compra         112936 non-null  object \n",
      " 5   Número Processo           112934 non-null  object \n",
      " 6   Objeto                    112934 non-null  object \n",
      " 7   Situação Licitação        112936 non-null  object \n",
      " 8   Código Órgão Superior     112936 non-null  int64  \n",
      " 9   Nome Órgão Superior       112936 non-null  object \n",
      " 10  Código Órgão              112936 non-null  int64  \n",
      " 11  Nome Órgão                112936 non-null  object \n",
      " 12  Município                 112936 non-null  object \n",
      " 13  Data Resultado Compra     112936 non-null  object \n",
      " 14  Data Abertura             31022 non-null   object \n",
      " 15  Valor Licitação           112936 non-null  float64\n",
      "dtypes: float64(1), int64(5), object(10)\n",
      "memory usage: 13.8+ MB\n"
     ]
    }
   ],
   "source": [
    "df_lic_2018.info()"
   ]
  },
  {
   "cell_type": "code",
   "execution_count": 6,
   "id": "7a7c3db9",
   "metadata": {},
   "outputs": [
    {
     "data": {
      "text/plain": [
       "(112936, 16)"
      ]
     },
     "execution_count": 6,
     "metadata": {},
     "output_type": "execute_result"
    }
   ],
   "source": [
    "df_lic_2018.shape"
   ]
  },
  {
   "cell_type": "code",
   "execution_count": 7,
   "id": "14c347ee",
   "metadata": {},
   "outputs": [],
   "source": [
    "df_lic_2018.rename(columns={\"Valor Licitação\": \"Total\"},inplace=True)"
   ]
  },
  {
   "cell_type": "code",
   "execution_count": 8,
   "id": "3b7c8951",
   "metadata": {},
   "outputs": [
    {
     "data": {
      "text/plain": [
       "Dispensa de Licitação               73521\n",
       "Inexigibilidade de Licitação        14486\n",
       "Pregão - Registro de Preço          12436\n",
       "Pregão                              11609\n",
       "Tomada de Preços                      529\n",
       "Concorrência                          225\n",
       "Convite                                96\n",
       "Concurso                               18\n",
       "Concorrência Internacional             11\n",
       "Concorrência - Registro de Preço        5\n",
       "Name: Modalidade Compra, dtype: int64"
      ]
     },
     "execution_count": 8,
     "metadata": {},
     "output_type": "execute_result"
    }
   ],
   "source": [
    "df_lic_2018['Modalidade Compra'].value_counts()"
   ]
  },
  {
   "cell_type": "markdown",
   "id": "d75b1db9",
   "metadata": {},
   "source": [
    "# Separar por tipo de Modalidade"
   ]
  },
  {
   "cell_type": "markdown",
   "id": "d973d9ab",
   "metadata": {},
   "source": [
    "## Registro de Preço"
   ]
  },
  {
   "cell_type": "code",
   "execution_count": 9,
   "id": "cc898712",
   "metadata": {},
   "outputs": [],
   "source": [
    "df_lic_2018_RP = df_lic_2018[df_lic_2018['Modalidade Compra']  == 'Pregão - Registro de Preço']"
   ]
  },
  {
   "cell_type": "code",
   "execution_count": 10,
   "id": "81d1ae53",
   "metadata": {},
   "outputs": [
    {
     "data": {
      "text/plain": [
       "Pregão - Registro de Preço    12436\n",
       "Name: Modalidade Compra, dtype: int64"
      ]
     },
     "execution_count": 10,
     "metadata": {},
     "output_type": "execute_result"
    }
   ],
   "source": [
    "df_lic_2018_RP['Modalidade Compra'].value_counts()"
   ]
  },
  {
   "cell_type": "code",
   "execution_count": 11,
   "id": "d586e610",
   "metadata": {},
   "outputs": [
    {
     "name": "stdout",
     "output_type": "stream",
     "text": [
      "<class 'pandas.core.frame.DataFrame'>\n",
      "Int64Index: 12436 entries, 1 to 112931\n",
      "Data columns (total 16 columns):\n",
      " #   Column                    Non-Null Count  Dtype  \n",
      "---  ------                    --------------  -----  \n",
      " 0   Número Licitação          12436 non-null  int64  \n",
      " 1   Código UG                 12436 non-null  int64  \n",
      " 2   Nome UG                   12436 non-null  object \n",
      " 3   Código Modalidade Compra  12436 non-null  int64  \n",
      " 4   Modalidade Compra         12436 non-null  object \n",
      " 5   Número Processo           12434 non-null  object \n",
      " 6   Objeto                    12434 non-null  object \n",
      " 7   Situação Licitação        12436 non-null  object \n",
      " 8   Código Órgão Superior     12436 non-null  int64  \n",
      " 9   Nome Órgão Superior       12436 non-null  object \n",
      " 10  Código Órgão              12436 non-null  int64  \n",
      " 11  Nome Órgão                12436 non-null  object \n",
      " 12  Município                 12436 non-null  object \n",
      " 13  Data Resultado Compra     12436 non-null  object \n",
      " 14  Data Abertura             12434 non-null  object \n",
      " 15  Total                     12436 non-null  float64\n",
      "dtypes: float64(1), int64(5), object(10)\n",
      "memory usage: 1.6+ MB\n"
     ]
    }
   ],
   "source": [
    "df_lic_2018_RP.info()"
   ]
  },
  {
   "cell_type": "markdown",
   "id": "f137ebc4",
   "metadata": {},
   "source": [
    "## Pregão"
   ]
  },
  {
   "cell_type": "code",
   "execution_count": 12,
   "id": "e760f35e",
   "metadata": {},
   "outputs": [],
   "source": [
    "df_lic_2018_Pregao = df_lic_2018[df_lic_2018['Modalidade Compra'] == 'Pregão']"
   ]
  },
  {
   "cell_type": "code",
   "execution_count": 13,
   "id": "bca4a79b",
   "metadata": {},
   "outputs": [
    {
     "data": {
      "text/plain": [
       "Pregão    11609\n",
       "Name: Modalidade Compra, dtype: int64"
      ]
     },
     "execution_count": 13,
     "metadata": {},
     "output_type": "execute_result"
    }
   ],
   "source": [
    "df_lic_2018_Pregao['Modalidade Compra'].value_counts()"
   ]
  },
  {
   "cell_type": "code",
   "execution_count": 14,
   "id": "b34090ce",
   "metadata": {},
   "outputs": [
    {
     "name": "stdout",
     "output_type": "stream",
     "text": [
      "<class 'pandas.core.frame.DataFrame'>\n",
      "Int64Index: 11609 entries, 6 to 112911\n",
      "Data columns (total 16 columns):\n",
      " #   Column                    Non-Null Count  Dtype  \n",
      "---  ------                    --------------  -----  \n",
      " 0   Número Licitação          11609 non-null  int64  \n",
      " 1   Código UG                 11609 non-null  int64  \n",
      " 2   Nome UG                   11609 non-null  object \n",
      " 3   Código Modalidade Compra  11609 non-null  int64  \n",
      " 4   Modalidade Compra         11609 non-null  object \n",
      " 5   Número Processo           11609 non-null  object \n",
      " 6   Objeto                    11609 non-null  object \n",
      " 7   Situação Licitação        11609 non-null  object \n",
      " 8   Código Órgão Superior     11609 non-null  int64  \n",
      " 9   Nome Órgão Superior       11609 non-null  object \n",
      " 10  Código Órgão              11609 non-null  int64  \n",
      " 11  Nome Órgão                11609 non-null  object \n",
      " 12  Município                 11609 non-null  object \n",
      " 13  Data Resultado Compra     11609 non-null  object \n",
      " 14  Data Abertura             11609 non-null  object \n",
      " 15  Total                     11609 non-null  float64\n",
      "dtypes: float64(1), int64(5), object(10)\n",
      "memory usage: 1.5+ MB\n"
     ]
    }
   ],
   "source": [
    "df_lic_2018_Pregao.info()"
   ]
  },
  {
   "cell_type": "markdown",
   "id": "3beba261",
   "metadata": {},
   "source": [
    "## Dispensa de Licitação"
   ]
  },
  {
   "cell_type": "code",
   "execution_count": 15,
   "id": "1417effc",
   "metadata": {},
   "outputs": [],
   "source": [
    "df_lic_2018_Dispensa = df_lic_2018[df_lic_2018['Modalidade Compra'] == 'Dispensa de Licitação']"
   ]
  },
  {
   "cell_type": "code",
   "execution_count": 16,
   "id": "e06a1757",
   "metadata": {},
   "outputs": [
    {
     "data": {
      "text/plain": [
       "Dispensa de Licitação    73521\n",
       "Name: Modalidade Compra, dtype: int64"
      ]
     },
     "execution_count": 16,
     "metadata": {},
     "output_type": "execute_result"
    }
   ],
   "source": [
    "df_lic_2018_Dispensa['Modalidade Compra'].value_counts()"
   ]
  },
  {
   "cell_type": "markdown",
   "id": "37ebfe7a",
   "metadata": {},
   "source": [
    "# Inexigibilidade de Licitação "
   ]
  },
  {
   "cell_type": "code",
   "execution_count": 17,
   "id": "26b50f39",
   "metadata": {},
   "outputs": [],
   "source": [
    "df_lic_2018_INEX = df_lic_2018[df_lic_2018['Modalidade Compra'] == 'Inexigibilidade de Licitação']"
   ]
  },
  {
   "cell_type": "code",
   "execution_count": 18,
   "id": "3c6579f5",
   "metadata": {},
   "outputs": [
    {
     "data": {
      "text/plain": [
       "Inexigibilidade de Licitação    14486\n",
       "Name: Modalidade Compra, dtype: int64"
      ]
     },
     "execution_count": 18,
     "metadata": {},
     "output_type": "execute_result"
    }
   ],
   "source": [
    "df_lic_2018_INEX['Modalidade Compra'].value_counts()"
   ]
  },
  {
   "cell_type": "markdown",
   "id": "754eb304",
   "metadata": {},
   "source": [
    "### É obra?"
   ]
  },
  {
   "cell_type": "code",
   "execution_count": 19,
   "id": "7ce3c6c7",
   "metadata": {},
   "outputs": [],
   "source": [
    "#varre todos o objetos e identifica se possui relação com obras\n",
    "#caso sim, nomeia\n",
    "def eh_obra(x):\n",
    "    y=[]\n",
    "    if ('OBRAS' in x) or ('OBRA' in x) or ('ENGENHARIA' in x) or ('engenharia' in x) or ('obras' in x) or ('obra' in x) or ('CONTRU-CAO' in x) or ('constru-cao' in x):\n",
    "        y.append('OBRAS')\n",
    "    else:\n",
    "        y.append('COMPRA/SERVIÇOS')\n",
    "    y=y.pop(0)\n",
    "    return(y)"
   ]
  },
  {
   "cell_type": "code",
   "execution_count": 20,
   "id": "cd24d836",
   "metadata": {},
   "outputs": [],
   "source": [
    "#aplica a função de descobrimento de obras de forma mais rápida no dataframe\n",
    "def separaObra(df2):\n",
    "    return pd.Series(eh_obra(row.Objeto)\n",
    "        for row in df2.itertuples()\n",
    "  )"
   ]
  },
  {
   "cell_type": "markdown",
   "id": "e3e44922",
   "metadata": {},
   "source": [
    "#### REGISTRO DE PREÇO"
   ]
  },
  {
   "cell_type": "code",
   "execution_count": 21,
   "id": "219d208b",
   "metadata": {
    "scrolled": true
   },
   "outputs": [
    {
     "ename": "TypeError",
     "evalue": "argument of type 'float' is not iterable",
     "output_type": "error",
     "traceback": [
      "\u001b[1;31m---------------------------------------------------------------------------\u001b[0m",
      "\u001b[1;31mTypeError\u001b[0m                                 Traceback (most recent call last)",
      "\u001b[1;32m~\\AppData\\Local\\Temp/ipykernel_11536/2392970114.py\u001b[0m in \u001b[0;36m<module>\u001b[1;34m\u001b[0m\n\u001b[1;32m----> 1\u001b[1;33m \u001b[0mabc\u001b[0m \u001b[1;33m=\u001b[0m \u001b[0mpd\u001b[0m\u001b[1;33m.\u001b[0m\u001b[0mDataFrame\u001b[0m\u001b[1;33m(\u001b[0m\u001b[0mseparaObra\u001b[0m\u001b[1;33m(\u001b[0m\u001b[0mdf_lic_2018_RP\u001b[0m\u001b[1;33m)\u001b[0m\u001b[1;33m)\u001b[0m\u001b[1;33m\u001b[0m\u001b[1;33m\u001b[0m\u001b[0m\n\u001b[0m\u001b[0;32m      2\u001b[0m \u001b[0mabc\u001b[0m\u001b[1;33m.\u001b[0m\u001b[0mrename\u001b[0m\u001b[1;33m(\u001b[0m\u001b[0mcolumns\u001b[0m\u001b[1;33m=\u001b[0m\u001b[1;33m{\u001b[0m\u001b[1;36m0\u001b[0m\u001b[1;33m:\u001b[0m\u001b[1;34m'col1'\u001b[0m\u001b[1;33m}\u001b[0m\u001b[1;33m,\u001b[0m\u001b[0minplace\u001b[0m\u001b[1;33m=\u001b[0m\u001b[1;32mTrue\u001b[0m\u001b[1;33m)\u001b[0m\u001b[1;33m\u001b[0m\u001b[1;33m\u001b[0m\u001b[0m\n\u001b[0;32m      3\u001b[0m \u001b[0mabc\u001b[0m\u001b[1;33m[\u001b[0m\u001b[1;34m'col1'\u001b[0m\u001b[1;33m]\u001b[0m\u001b[1;33m.\u001b[0m\u001b[0mvalue_counts\u001b[0m\u001b[1;33m(\u001b[0m\u001b[1;33m)\u001b[0m\u001b[1;33m\u001b[0m\u001b[1;33m\u001b[0m\u001b[0m\n",
      "\u001b[1;32m~\\AppData\\Local\\Temp/ipykernel_11536/1054457497.py\u001b[0m in \u001b[0;36mseparaObra\u001b[1;34m(df2)\u001b[0m\n\u001b[0;32m      1\u001b[0m \u001b[1;31m#aplica a função de descobrimento de obras de forma mais rápida no dataframe\u001b[0m\u001b[1;33m\u001b[0m\u001b[1;33m\u001b[0m\u001b[0m\n\u001b[0;32m      2\u001b[0m \u001b[1;32mdef\u001b[0m \u001b[0mseparaObra\u001b[0m\u001b[1;33m(\u001b[0m\u001b[0mdf2\u001b[0m\u001b[1;33m)\u001b[0m\u001b[1;33m:\u001b[0m\u001b[1;33m\u001b[0m\u001b[1;33m\u001b[0m\u001b[0m\n\u001b[1;32m----> 3\u001b[1;33m     return pd.Series(eh_obra(row.Objeto)\n\u001b[0m\u001b[0;32m      4\u001b[0m         \u001b[1;32mfor\u001b[0m \u001b[0mrow\u001b[0m \u001b[1;32min\u001b[0m \u001b[0mdf2\u001b[0m\u001b[1;33m.\u001b[0m\u001b[0mitertuples\u001b[0m\u001b[1;33m(\u001b[0m\u001b[1;33m)\u001b[0m\u001b[1;33m\u001b[0m\u001b[1;33m\u001b[0m\u001b[0m\n\u001b[0;32m      5\u001b[0m   )\n",
      "\u001b[1;32m~\\anaconda3\\lib\\site-packages\\pandas\\core\\series.py\u001b[0m in \u001b[0;36m__init__\u001b[1;34m(self, data, index, dtype, name, copy, fastpath)\u001b[0m\n\u001b[0;32m    421\u001b[0m                 \u001b[1;32mpass\u001b[0m\u001b[1;33m\u001b[0m\u001b[1;33m\u001b[0m\u001b[0m\n\u001b[0;32m    422\u001b[0m             \u001b[1;32melse\u001b[0m\u001b[1;33m:\u001b[0m\u001b[1;33m\u001b[0m\u001b[1;33m\u001b[0m\u001b[0m\n\u001b[1;32m--> 423\u001b[1;33m                 \u001b[0mdata\u001b[0m \u001b[1;33m=\u001b[0m \u001b[0mcom\u001b[0m\u001b[1;33m.\u001b[0m\u001b[0mmaybe_iterable_to_list\u001b[0m\u001b[1;33m(\u001b[0m\u001b[0mdata\u001b[0m\u001b[1;33m)\u001b[0m\u001b[1;33m\u001b[0m\u001b[1;33m\u001b[0m\u001b[0m\n\u001b[0m\u001b[0;32m    424\u001b[0m \u001b[1;33m\u001b[0m\u001b[0m\n\u001b[0;32m    425\u001b[0m             \u001b[1;32mif\u001b[0m \u001b[0mindex\u001b[0m \u001b[1;32mis\u001b[0m \u001b[1;32mNone\u001b[0m\u001b[1;33m:\u001b[0m\u001b[1;33m\u001b[0m\u001b[1;33m\u001b[0m\u001b[0m\n",
      "\u001b[1;32m~\\anaconda3\\lib\\site-packages\\pandas\\core\\common.py\u001b[0m in \u001b[0;36mmaybe_iterable_to_list\u001b[1;34m(obj)\u001b[0m\n\u001b[0;32m    290\u001b[0m     \"\"\"\n\u001b[0;32m    291\u001b[0m     \u001b[1;32mif\u001b[0m \u001b[0misinstance\u001b[0m\u001b[1;33m(\u001b[0m\u001b[0mobj\u001b[0m\u001b[1;33m,\u001b[0m \u001b[0mabc\u001b[0m\u001b[1;33m.\u001b[0m\u001b[0mIterable\u001b[0m\u001b[1;33m)\u001b[0m \u001b[1;32mand\u001b[0m \u001b[1;32mnot\u001b[0m \u001b[0misinstance\u001b[0m\u001b[1;33m(\u001b[0m\u001b[0mobj\u001b[0m\u001b[1;33m,\u001b[0m \u001b[0mabc\u001b[0m\u001b[1;33m.\u001b[0m\u001b[0mSized\u001b[0m\u001b[1;33m)\u001b[0m\u001b[1;33m:\u001b[0m\u001b[1;33m\u001b[0m\u001b[1;33m\u001b[0m\u001b[0m\n\u001b[1;32m--> 292\u001b[1;33m         \u001b[1;32mreturn\u001b[0m \u001b[0mlist\u001b[0m\u001b[1;33m(\u001b[0m\u001b[0mobj\u001b[0m\u001b[1;33m)\u001b[0m\u001b[1;33m\u001b[0m\u001b[1;33m\u001b[0m\u001b[0m\n\u001b[0m\u001b[0;32m    293\u001b[0m     \u001b[0mobj\u001b[0m \u001b[1;33m=\u001b[0m \u001b[0mcast\u001b[0m\u001b[1;33m(\u001b[0m\u001b[0mCollection\u001b[0m\u001b[1;33m,\u001b[0m \u001b[0mobj\u001b[0m\u001b[1;33m)\u001b[0m\u001b[1;33m\u001b[0m\u001b[1;33m\u001b[0m\u001b[0m\n\u001b[0;32m    294\u001b[0m     \u001b[1;32mreturn\u001b[0m \u001b[0mobj\u001b[0m\u001b[1;33m\u001b[0m\u001b[1;33m\u001b[0m\u001b[0m\n",
      "\u001b[1;32m~\\AppData\\Local\\Temp/ipykernel_11536/1054457497.py\u001b[0m in \u001b[0;36m<genexpr>\u001b[1;34m(.0)\u001b[0m\n\u001b[0;32m      1\u001b[0m \u001b[1;31m#aplica a função de descobrimento de obras de forma mais rápida no dataframe\u001b[0m\u001b[1;33m\u001b[0m\u001b[1;33m\u001b[0m\u001b[0m\n\u001b[0;32m      2\u001b[0m \u001b[1;32mdef\u001b[0m \u001b[0mseparaObra\u001b[0m\u001b[1;33m(\u001b[0m\u001b[0mdf2\u001b[0m\u001b[1;33m)\u001b[0m\u001b[1;33m:\u001b[0m\u001b[1;33m\u001b[0m\u001b[1;33m\u001b[0m\u001b[0m\n\u001b[1;32m----> 3\u001b[1;33m     return pd.Series(eh_obra(row.Objeto)\n\u001b[0m\u001b[0;32m      4\u001b[0m         \u001b[1;32mfor\u001b[0m \u001b[0mrow\u001b[0m \u001b[1;32min\u001b[0m \u001b[0mdf2\u001b[0m\u001b[1;33m.\u001b[0m\u001b[0mitertuples\u001b[0m\u001b[1;33m(\u001b[0m\u001b[1;33m)\u001b[0m\u001b[1;33m\u001b[0m\u001b[1;33m\u001b[0m\u001b[0m\n\u001b[0;32m      5\u001b[0m   )\n",
      "\u001b[1;32m~\\AppData\\Local\\Temp/ipykernel_11536/1332152166.py\u001b[0m in \u001b[0;36meh_obra\u001b[1;34m(x)\u001b[0m\n\u001b[0;32m      3\u001b[0m \u001b[1;32mdef\u001b[0m \u001b[0meh_obra\u001b[0m\u001b[1;33m(\u001b[0m\u001b[0mx\u001b[0m\u001b[1;33m)\u001b[0m\u001b[1;33m:\u001b[0m\u001b[1;33m\u001b[0m\u001b[1;33m\u001b[0m\u001b[0m\n\u001b[0;32m      4\u001b[0m     \u001b[0my\u001b[0m\u001b[1;33m=\u001b[0m\u001b[1;33m[\u001b[0m\u001b[1;33m]\u001b[0m\u001b[1;33m\u001b[0m\u001b[1;33m\u001b[0m\u001b[0m\n\u001b[1;32m----> 5\u001b[1;33m     \u001b[1;32mif\u001b[0m \u001b[1;33m(\u001b[0m\u001b[1;34m'OBRAS'\u001b[0m \u001b[1;32min\u001b[0m \u001b[0mx\u001b[0m\u001b[1;33m)\u001b[0m \u001b[1;32mor\u001b[0m \u001b[1;33m(\u001b[0m\u001b[1;34m'OBRA'\u001b[0m \u001b[1;32min\u001b[0m \u001b[0mx\u001b[0m\u001b[1;33m)\u001b[0m \u001b[1;32mor\u001b[0m \u001b[1;33m(\u001b[0m\u001b[1;34m'ENGENHARIA'\u001b[0m \u001b[1;32min\u001b[0m \u001b[0mx\u001b[0m\u001b[1;33m)\u001b[0m \u001b[1;32mor\u001b[0m \u001b[1;33m(\u001b[0m\u001b[1;34m'engenharia'\u001b[0m \u001b[1;32min\u001b[0m \u001b[0mx\u001b[0m\u001b[1;33m)\u001b[0m \u001b[1;32mor\u001b[0m \u001b[1;33m(\u001b[0m\u001b[1;34m'obras'\u001b[0m \u001b[1;32min\u001b[0m \u001b[0mx\u001b[0m\u001b[1;33m)\u001b[0m \u001b[1;32mor\u001b[0m \u001b[1;33m(\u001b[0m\u001b[1;34m'obra'\u001b[0m \u001b[1;32min\u001b[0m \u001b[0mx\u001b[0m\u001b[1;33m)\u001b[0m \u001b[1;32mor\u001b[0m \u001b[1;33m(\u001b[0m\u001b[1;34m'CONTRU-CAO'\u001b[0m \u001b[1;32min\u001b[0m \u001b[0mx\u001b[0m\u001b[1;33m)\u001b[0m \u001b[1;32mor\u001b[0m \u001b[1;33m(\u001b[0m\u001b[1;34m'constru-cao'\u001b[0m \u001b[1;32min\u001b[0m \u001b[0mx\u001b[0m\u001b[1;33m)\u001b[0m\u001b[1;33m:\u001b[0m\u001b[1;33m\u001b[0m\u001b[1;33m\u001b[0m\u001b[0m\n\u001b[0m\u001b[0;32m      6\u001b[0m         \u001b[0my\u001b[0m\u001b[1;33m.\u001b[0m\u001b[0mappend\u001b[0m\u001b[1;33m(\u001b[0m\u001b[1;34m'OBRAS'\u001b[0m\u001b[1;33m)\u001b[0m\u001b[1;33m\u001b[0m\u001b[1;33m\u001b[0m\u001b[0m\n\u001b[0;32m      7\u001b[0m     \u001b[1;32melse\u001b[0m\u001b[1;33m:\u001b[0m\u001b[1;33m\u001b[0m\u001b[1;33m\u001b[0m\u001b[0m\n",
      "\u001b[1;31mTypeError\u001b[0m: argument of type 'float' is not iterable"
     ]
    }
   ],
   "source": [
    "abc = pd.DataFrame(separaObra(df_lic_2018_RP))\n",
    "abc.rename(columns={0:'col1'},inplace=True)\n",
    "abc['col1'].value_counts()"
   ]
  },
  {
   "cell_type": "code",
   "execution_count": null,
   "id": "6c791868",
   "metadata": {},
   "outputs": [],
   "source": [
    "abc"
   ]
  },
  {
   "cell_type": "code",
   "execution_count": null,
   "id": "4bc0ded8",
   "metadata": {
    "scrolled": true
   },
   "outputs": [],
   "source": []
  },
  {
   "cell_type": "code",
   "execution_count": null,
   "id": "bd795ae9",
   "metadata": {},
   "outputs": [],
   "source": [
    "abc.reset_index(drop=True, inplace=True)"
   ]
  },
  {
   "cell_type": "code",
   "execution_count": null,
   "id": "61caf897",
   "metadata": {},
   "outputs": [],
   "source": [
    "lic_RP.reset_index(drop=True, inplace=True)"
   ]
  },
  {
   "cell_type": "code",
   "execution_count": null,
   "id": "e6045000",
   "metadata": {
    "scrolled": false
   },
   "outputs": [],
   "source": [
    "lic_RP['tipo']=abc['col1']"
   ]
  },
  {
   "cell_type": "code",
   "execution_count": null,
   "id": "6ae69280",
   "metadata": {},
   "outputs": [],
   "source": [
    "lic_obras_RP = lic_RP[lic_RP['tipo'] == 'OBRAS']\n",
    "lic_compras_RP = lic_RP[lic_RP['tipo'] != 'OBRAS']"
   ]
  },
  {
   "cell_type": "code",
   "execution_count": null,
   "id": "ef3ae747",
   "metadata": {},
   "outputs": [],
   "source": [
    "lic_obras_RP['tipo'].value_counts()"
   ]
  },
  {
   "cell_type": "markdown",
   "id": "ec913c69",
   "metadata": {},
   "source": [
    "## Tag'ando como legal ou ilegal\n",
    "##### 0: ilegal\n",
    "##### 1: legal"
   ]
  },
  {
   "cell_type": "code",
   "execution_count": null,
   "id": "ebfefa64",
   "metadata": {
    "scrolled": false
   },
   "outputs": [],
   "source": [
    "lic_obras_RP['TAG'] = 0\n",
    "lic_compras_RP['TAG'] = 0"
   ]
  },
  {
   "cell_type": "code",
   "execution_count": null,
   "id": "dec5ad36",
   "metadata": {
    "scrolled": true
   },
   "outputs": [],
   "source": [
    "#regra de limite de valor\n",
    "#Considerando REGISTRO DE PREÇO como CONCORRENCIA\n",
    "lic_obras_RP.loc[lic_obras_RP['total'] > 3300000, 'TAG'] = 1\n",
    "lic_compras_RP.loc[lic_compras_RP['total'] > 1430000, 'TAG'] = 1"
   ]
  },
  {
   "cell_type": "code",
   "execution_count": null,
   "id": "716853f4",
   "metadata": {},
   "outputs": [],
   "source": [
    "lic_obras_RP['TAG'].value_counts()"
   ]
  },
  {
   "cell_type": "code",
   "execution_count": null,
   "id": "cf5d177b",
   "metadata": {},
   "outputs": [],
   "source": [
    "print('Obras:',19/(159+19),\"Compras:\",236/(3617+236))"
   ]
  },
  {
   "cell_type": "code",
   "execution_count": null,
   "id": "cb731d42",
   "metadata": {
    "scrolled": true
   },
   "outputs": [],
   "source": [
    "lic_compras_RP['TAG'].value_counts()"
   ]
  },
  {
   "cell_type": "markdown",
   "id": "1d8adac8",
   "metadata": {},
   "source": [
    "#### Verificações dos resultados - Obras"
   ]
  },
  {
   "cell_type": "code",
   "execution_count": null,
   "id": "dfcf3acd",
   "metadata": {},
   "outputs": [],
   "source": [
    "pd.set_option('display.float_format', lambda x: '%.5f' % x)"
   ]
  },
  {
   "cell_type": "code",
   "execution_count": null,
   "id": "1720c1cf",
   "metadata": {},
   "outputs": [],
   "source": [
    "lic_obras_RP['total'].plot.box()"
   ]
  },
  {
   "cell_type": "code",
   "execution_count": null,
   "id": "03d3ea78",
   "metadata": {
    "scrolled": true
   },
   "outputs": [],
   "source": [
    "lic_obras_RP['total'].describe()"
   ]
  },
  {
   "cell_type": "markdown",
   "id": "37bd33a2",
   "metadata": {},
   "source": [
    "### Pregão"
   ]
  },
  {
   "cell_type": "code",
   "execution_count": 22,
   "id": "641df055",
   "metadata": {},
   "outputs": [
    {
     "data": {
      "text/plain": [
       "COMPRA/SERVIÇOS    10575\n",
       "OBRAS               1034\n",
       "Name: col1, dtype: int64"
      ]
     },
     "execution_count": 22,
     "metadata": {},
     "output_type": "execute_result"
    }
   ],
   "source": [
    "abc2 = pd.DataFrame(separaObra(df_lic_2018_Pregao))\n",
    "abc2.rename(columns={0:'col1'},inplace=True)\n",
    "abc2['col1'].value_counts()"
   ]
  },
  {
   "cell_type": "code",
   "execution_count": 23,
   "id": "54f29dfd",
   "metadata": {},
   "outputs": [],
   "source": [
    "df_lic_2018_Pregao.reset_index(drop=True, inplace=True)"
   ]
  },
  {
   "cell_type": "code",
   "execution_count": 24,
   "id": "375c2510",
   "metadata": {
    "scrolled": true
   },
   "outputs": [
    {
     "name": "stderr",
     "output_type": "stream",
     "text": [
      "C:\\Users\\lrr\\AppData\\Local\\Temp/ipykernel_11536/982143923.py:1: SettingWithCopyWarning: \n",
      "A value is trying to be set on a copy of a slice from a DataFrame.\n",
      "Try using .loc[row_indexer,col_indexer] = value instead\n",
      "\n",
      "See the caveats in the documentation: https://pandas.pydata.org/pandas-docs/stable/user_guide/indexing.html#returning-a-view-versus-a-copy\n",
      "  df_lic_2018_Pregao['tipo'] = abc2\n"
     ]
    }
   ],
   "source": [
    "df_lic_2018_Pregao['tipo'] = abc2"
   ]
  },
  {
   "cell_type": "markdown",
   "id": "bdcdc695",
   "metadata": {},
   "source": [
    "## Tag'ando como legal ou ilegal\n",
    "#### 0: ilegal\n",
    "#### 1: legal"
   ]
  },
  {
   "cell_type": "markdown",
   "id": "f37d230f",
   "metadata": {},
   "source": [
    "### Não será feito mudança na tag de legalidade por valor para a modalidade Pregão, pois não existe teto para esta modalidade."
   ]
  },
  {
   "cell_type": "code",
   "execution_count": 25,
   "id": "36845602",
   "metadata": {},
   "outputs": [
    {
     "name": "stderr",
     "output_type": "stream",
     "text": [
      "C:\\Users\\lrr\\AppData\\Local\\Temp/ipykernel_11536/2772782409.py:6: SettingWithCopyWarning: \n",
      "A value is trying to be set on a copy of a slice from a DataFrame.\n",
      "Try using .loc[row_indexer,col_indexer] = value instead\n",
      "\n",
      "See the caveats in the documentation: https://pandas.pydata.org/pandas-docs/stable/user_guide/indexing.html#returning-a-view-versus-a-copy\n",
      "  lic_obras_Pregao['TAG'] = 1\n",
      "C:\\Users\\lrr\\AppData\\Local\\Temp/ipykernel_11536/2772782409.py:7: SettingWithCopyWarning: \n",
      "A value is trying to be set on a copy of a slice from a DataFrame.\n",
      "Try using .loc[row_indexer,col_indexer] = value instead\n",
      "\n",
      "See the caveats in the documentation: https://pandas.pydata.org/pandas-docs/stable/user_guide/indexing.html#returning-a-view-versus-a-copy\n",
      "  lic_compras_Pregao['TAG'] = 1\n"
     ]
    }
   ],
   "source": [
    "## \n",
    "lic_obras_Pregao = df_lic_2018_Pregao[df_lic_2018_Pregao['tipo'] == 'OBRAS']\n",
    "lic_compras_Pregao = df_lic_2018_Pregao[df_lic_2018_Pregao['tipo'] != 'OBRAS']\n",
    "####\n",
    "# Não será feito mudança na tag de legalidade por valor, pois não existe teto para pregões\n",
    "lic_obras_Pregao['TAG'] = 1\n",
    "lic_compras_Pregao['TAG'] = 1\n",
    "####"
   ]
  },
  {
   "cell_type": "code",
   "execution_count": 26,
   "id": "34c3103b",
   "metadata": {},
   "outputs": [
    {
     "data": {
      "text/plain": [
       "1    10575\n",
       "Name: TAG, dtype: int64"
      ]
     },
     "execution_count": 26,
     "metadata": {},
     "output_type": "execute_result"
    }
   ],
   "source": [
    "lic_compras_Pregao['TAG'].value_counts()"
   ]
  },
  {
   "cell_type": "code",
   "execution_count": 27,
   "id": "7025b5d9",
   "metadata": {},
   "outputs": [
    {
     "data": {
      "text/plain": [
       "1    1034\n",
       "Name: TAG, dtype: int64"
      ]
     },
     "execution_count": 27,
     "metadata": {},
     "output_type": "execute_result"
    }
   ],
   "source": [
    "lic_obras_Pregao['TAG'].value_counts()"
   ]
  },
  {
   "cell_type": "markdown",
   "id": "a4609f6d",
   "metadata": {},
   "source": [
    "## Dispensa de Licitação"
   ]
  },
  {
   "cell_type": "code",
   "execution_count": null,
   "id": "91524177",
   "metadata": {},
   "outputs": [],
   "source": [
    "abc3 = pd.DataFrame(separaObra(df_lic_2018_Dispensa))\n",
    "abc3.rename(columns={0:'col1'},inplace=True)\n",
    "abc3['col1'].value_counts()"
   ]
  },
  {
   "cell_type": "code",
   "execution_count": null,
   "id": "3a4e8ec3",
   "metadata": {},
   "outputs": [],
   "source": [
    "df_lic_2018_Dispensa.reset_index(drop=True, inplace=True)"
   ]
  },
  {
   "cell_type": "code",
   "execution_count": null,
   "id": "ca60817b",
   "metadata": {
    "scrolled": false
   },
   "outputs": [],
   "source": [
    "df_lic_2018_Dispensa['tipo'] = abc3\n",
    "lic_obras_Dispensa = df_lic_2018_Dispensa[df_lic_2018_Dispensa['tipo'] == 'OBRAS']\n",
    "lic_compras_Dispensa= df_lic_2018_Dispensa[df_lic_2018_Dispensa['tipo'] != 'OBRAS']"
   ]
  },
  {
   "cell_type": "markdown",
   "id": "04d930b8",
   "metadata": {},
   "source": [
    "## Tag'ando como legal ou ilegal\n",
    "#### 0: ilegal\n",
    "#### 1: legal"
   ]
  },
  {
   "cell_type": "code",
   "execution_count": null,
   "id": "79003fa9",
   "metadata": {},
   "outputs": [],
   "source": [
    "lic_obras_Dispensa['TAG'] = 0\n",
    "lic_compras_Dispensa['TAG'] = 0"
   ]
  },
  {
   "cell_type": "code",
   "execution_count": null,
   "id": "331b76ce",
   "metadata": {},
   "outputs": [],
   "source": [
    "lic_obras_Dispensa.loc[lic_obras_Dispensa['Total'] <= 33000, 'TAG'] = 1\n",
    "lic_compras_Dispensa.loc[lic_compras_Dispensa['Total'] <= 17600, 'TAG'] = 1"
   ]
  },
  {
   "cell_type": "markdown",
   "id": "6e9df432",
   "metadata": {},
   "source": [
    "#### Verificações dos resultados - Obras"
   ]
  },
  {
   "cell_type": "code",
   "execution_count": null,
   "id": "e515eb7f",
   "metadata": {},
   "outputs": [],
   "source": [
    "lic_obras_Dispensa['TAG'].value_counts()"
   ]
  },
  {
   "cell_type": "markdown",
   "id": "af03b2c2",
   "metadata": {},
   "source": [
    "### Analise Estatística"
   ]
  },
  {
   "cell_type": "markdown",
   "id": "d6363f8d",
   "metadata": {},
   "source": [
    "### Legal"
   ]
  },
  {
   "cell_type": "code",
   "execution_count": null,
   "id": "cbce4a66",
   "metadata": {},
   "outputs": [],
   "source": [
    "lic_obras_Dispensa[lic_obras_Dispensa['TAG'] == 1]['Total'].describe()"
   ]
  },
  {
   "cell_type": "code",
   "execution_count": null,
   "id": "4d237004",
   "metadata": {},
   "outputs": [],
   "source": [
    "lic_obras_Dispensa[lic_obras_Dispensa['TAG'] == 1]['Total'].plot.box()"
   ]
  },
  {
   "cell_type": "markdown",
   "id": "19ff8f8a",
   "metadata": {},
   "source": [
    "### Ilegal"
   ]
  },
  {
   "cell_type": "code",
   "execution_count": null,
   "id": "d660faa9",
   "metadata": {},
   "outputs": [],
   "source": [
    "lic_obras_Dispensa[lic_obras_Dispensa['TAG'] == 0]['Total'].describe()"
   ]
  },
  {
   "cell_type": "code",
   "execution_count": null,
   "id": "162e1058",
   "metadata": {},
   "outputs": [],
   "source": [
    "lic_obras_Dispensa[lic_obras_Dispensa['TAG'] == 0]['Total'].plot.box()"
   ]
  },
  {
   "cell_type": "markdown",
   "id": "aeebb527",
   "metadata": {},
   "source": [
    "#### Verificações dos resultados - Compras"
   ]
  },
  {
   "cell_type": "code",
   "execution_count": null,
   "id": "a0c55a18",
   "metadata": {},
   "outputs": [],
   "source": [
    "lic_compras_Dispensa['TAG'].value_counts()"
   ]
  },
  {
   "cell_type": "markdown",
   "id": "12fcb3dc",
   "metadata": {},
   "source": [
    "### Analise Estatística"
   ]
  },
  {
   "cell_type": "markdown",
   "id": "42293977",
   "metadata": {},
   "source": [
    "### Legal"
   ]
  },
  {
   "cell_type": "code",
   "execution_count": null,
   "id": "74a0bbf8",
   "metadata": {},
   "outputs": [],
   "source": [
    "lic_compras_Dispensa[lic_compras_Dispensa['TAG'] == 1]['Total'].describe()"
   ]
  },
  {
   "cell_type": "code",
   "execution_count": null,
   "id": "43ef36af",
   "metadata": {},
   "outputs": [],
   "source": [
    "lic_compras_Dispensa[lic_compras_Dispensa['TAG'] == 1]['Total'].plot.box()"
   ]
  },
  {
   "cell_type": "markdown",
   "id": "cf719023",
   "metadata": {},
   "source": [
    "### Ilegal"
   ]
  },
  {
   "cell_type": "code",
   "execution_count": null,
   "id": "0e71c431",
   "metadata": {},
   "outputs": [],
   "source": [
    "lic_compras_Dispensa[lic_compras_Dispensa['TAG'] == 0]['Total'].describe()"
   ]
  },
  {
   "cell_type": "code",
   "execution_count": null,
   "id": "15d03bc0",
   "metadata": {},
   "outputs": [],
   "source": [
    "lic_compras_Dispensa[lic_compras_Dispensa['TAG'] == 0]['Total'].plot.box()"
   ]
  },
  {
   "cell_type": "markdown",
   "id": "9b22cefc",
   "metadata": {},
   "source": [
    "## INEXIBILIDADE DE LICITAÇÃO"
   ]
  },
  {
   "cell_type": "code",
   "execution_count": null,
   "id": "13dfebac",
   "metadata": {},
   "outputs": [],
   "source": [
    "abc4 = pd.DataFrame(separaObra(df_lic_2018_INEX))\n",
    "abc4.rename(columns={0:'col1'},inplace=True)\n",
    "abc3['col1'].value_counts()"
   ]
  },
  {
   "cell_type": "code",
   "execution_count": null,
   "id": "49bf5dd8",
   "metadata": {},
   "outputs": [],
   "source": [
    "df_lic_2018_INEX.reset_index(drop=True, inplace=True)"
   ]
  },
  {
   "cell_type": "code",
   "execution_count": null,
   "id": "27454ee4",
   "metadata": {},
   "outputs": [],
   "source": [
    "df_lic_2018_INEX['tipo'] = abc4\n",
    "lic_obras_INEX = df_lic_2018_INEX[df_lic_2018_INEX['tipo'] == 'OBRAS']\n",
    "lic_compras_INEX = df_lic_2018_INEX[df_lic_2018_INEX['tipo'] != 'OBRAS']"
   ]
  },
  {
   "cell_type": "code",
   "execution_count": null,
   "id": "6b23a7cf",
   "metadata": {
    "scrolled": true
   },
   "outputs": [],
   "source": [
    "lic_obras_INEX['TAG'] =  1\n",
    "lic_compras_INEX['TAG'] = 1"
   ]
  },
  {
   "cell_type": "code",
   "execution_count": null,
   "id": "68c5e582",
   "metadata": {},
   "outputs": [],
   "source": [
    "pd.options.display.max_colwidth = 1000"
   ]
  },
  {
   "cell_type": "code",
   "execution_count": null,
   "id": "be7c83c8",
   "metadata": {},
   "outputs": [],
   "source": [
    "lic_obras_INEX['TAG'].value_counts()"
   ]
  },
  {
   "cell_type": "code",
   "execution_count": null,
   "id": "4233baf4",
   "metadata": {},
   "outputs": [],
   "source": [
    "lic_obras_INEX[lic_obras_INEX['TAG'] == 1]['Total'].describe()"
   ]
  },
  {
   "cell_type": "code",
   "execution_count": null,
   "id": "3e0a4a72",
   "metadata": {},
   "outputs": [],
   "source": [
    "lic_obras_INEX[lic_obras_INEX['TAG'] == 1]['Total'].describe()"
   ]
  },
  {
   "cell_type": "code",
   "execution_count": null,
   "id": "dc5f27ae",
   "metadata": {},
   "outputs": [],
   "source": [
    "lic_2018 = pd.concat([lic_obras_Pregao, lic_compras_Pregao, lic_obras_Dispensa, lic_compras_Dispensa, lic_obras_INEX, lic_compras_INEX])"
   ]
  },
  {
   "cell_type": "code",
   "execution_count": null,
   "id": "ccf15bf4",
   "metadata": {},
   "outputs": [],
   "source": [
    "lic_2018.to_csv('lic_2018.csv')"
   ]
  },
  {
   "cell_type": "code",
   "execution_count": null,
   "id": "3fc5c4e9",
   "metadata": {},
   "outputs": [],
   "source": [
    "lic_2018['TAG'].value_counts()"
   ]
  },
  {
   "cell_type": "code",
   "execution_count": null,
   "id": "92e2ace5",
   "metadata": {},
   "outputs": [],
   "source": [
    "lic_2018.groupby(['Modalidade Compra','TAG']).describe()"
   ]
  },
  {
   "cell_type": "code",
   "execution_count": null,
   "id": "1d5180c8",
   "metadata": {},
   "outputs": [],
   "source": []
  }
 ],
 "metadata": {
  "kernelspec": {
   "display_name": "Python 3 (ipykernel)",
   "language": "python",
   "name": "python3"
  },
  "language_info": {
   "codemirror_mode": {
    "name": "ipython",
    "version": 3
   },
   "file_extension": ".py",
   "mimetype": "text/x-python",
   "name": "python",
   "nbconvert_exporter": "python",
   "pygments_lexer": "ipython3",
   "version": "3.9.7"
  }
 },
 "nbformat": 4,
 "nbformat_minor": 5
}
