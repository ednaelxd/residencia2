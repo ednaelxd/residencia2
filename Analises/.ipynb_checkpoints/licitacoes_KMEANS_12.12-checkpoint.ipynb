{
 "cells": [
  {
   "cell_type": "code",
   "execution_count": 1,
   "id": "b1e48871",
   "metadata": {},
   "outputs": [],
   "source": [
    "import pandas as pd"
   ]
  },
  {
   "cell_type": "code",
   "execution_count": 2,
   "id": "ed8e4a80",
   "metadata": {},
   "outputs": [],
   "source": [
    "df_lic=pd.read_csv(r\"C:\\Users\\efvs\\Documents\\Residencia Ednael\\Dados licitações\\202101_Licitação.csv\", encoding='latin-1',sep=';',decimal=',')"
   ]
  },
  {
   "cell_type": "code",
   "execution_count": 3,
   "id": "02bb2cde",
   "metadata": {},
   "outputs": [
    {
     "name": "stdout",
     "output_type": "stream",
     "text": [
      "(4031, 16)\n"
     ]
    }
   ],
   "source": [
    "print(df_lic.shape)"
   ]
  },
  {
   "cell_type": "code",
   "execution_count": 4,
   "id": "36729582",
   "metadata": {},
   "outputs": [
    {
     "data": {
      "text/html": [
       "<div>\n",
       "<style scoped>\n",
       "    .dataframe tbody tr th:only-of-type {\n",
       "        vertical-align: middle;\n",
       "    }\n",
       "\n",
       "    .dataframe tbody tr th {\n",
       "        vertical-align: top;\n",
       "    }\n",
       "\n",
       "    .dataframe thead th {\n",
       "        text-align: right;\n",
       "    }\n",
       "</style>\n",
       "<table border=\"1\" class=\"dataframe\">\n",
       "  <thead>\n",
       "    <tr style=\"text-align: right;\">\n",
       "      <th></th>\n",
       "      <th>Número Licitação</th>\n",
       "      <th>Código UG</th>\n",
       "      <th>Nome UG</th>\n",
       "      <th>Código Modalidade Compra</th>\n",
       "      <th>Modalidade Compra</th>\n",
       "      <th>Número Processo</th>\n",
       "      <th>Objeto</th>\n",
       "      <th>Situação Licitação</th>\n",
       "      <th>Código Órgão Superior</th>\n",
       "      <th>Nome Órgão Superior</th>\n",
       "      <th>Código Órgão</th>\n",
       "      <th>Nome Órgão</th>\n",
       "      <th>Município</th>\n",
       "      <th>Data Resultado Compra</th>\n",
       "      <th>Data Abertura</th>\n",
       "      <th>Valor Licitação</th>\n",
       "    </tr>\n",
       "  </thead>\n",
       "  <tbody>\n",
       "    <tr>\n",
       "      <th>0</th>\n",
       "      <td>12019</td>\n",
       "      <td>154628</td>\n",
       "      <td>INST.FEDERAL FARROUPILHA CAMPUS JAGUARI</td>\n",
       "      <td>2</td>\n",
       "      <td>Tomada de Preços</td>\n",
       "      <td>26420000767201908</td>\n",
       "      <td>Objeto: Contratação de pessoa jurídica especia...</td>\n",
       "      <td>Evento de Resultado de Julgame</td>\n",
       "      <td>26000</td>\n",
       "      <td>Ministério da Educação</td>\n",
       "      <td>26420</td>\n",
       "      <td>Instituto Federal Farroupilha</td>\n",
       "      <td>JAGUARI</td>\n",
       "      <td>28/01/2021</td>\n",
       "      <td>NaN</td>\n",
       "      <td>14784.85</td>\n",
       "    </tr>\n",
       "    <tr>\n",
       "      <th>1</th>\n",
       "      <td>12020</td>\n",
       "      <td>927843</td>\n",
       "      <td>SECRETARIA DE EST.DE PLANEJ.E ADMINISTRAÇÃO</td>\n",
       "      <td>-99</td>\n",
       "      <td>Pregão - Registro de Preço</td>\n",
       "      <td>2019/204734</td>\n",
       "      <td>Objeto: Pregão Eletrônico -  MATERIAL DE EXPED...</td>\n",
       "      <td>Divulgado</td>\n",
       "      <td>99900</td>\n",
       "      <td>REPUBLICA FEDERATIVA DO BRASIL</td>\n",
       "      <td>93420</td>\n",
       "      <td>ESTADO DO PARA</td>\n",
       "      <td>Inválido</td>\n",
       "      <td>07/01/2021</td>\n",
       "      <td>25/03/2020</td>\n",
       "      <td>13410.00</td>\n",
       "    </tr>\n",
       "    <tr>\n",
       "      <th>2</th>\n",
       "      <td>12020</td>\n",
       "      <td>925538</td>\n",
       "      <td>SECRETARIA DE ESTADO DA ADMINSTRAÇÃO</td>\n",
       "      <td>5</td>\n",
       "      <td>Pregão</td>\n",
       "      <td>00230040002019-37</td>\n",
       "      <td>Objeto: Pregão Eletrônico -  Aquisição de bens...</td>\n",
       "      <td>Divulgado</td>\n",
       "      <td>99900</td>\n",
       "      <td>REPUBLICA FEDERATIVA DO BRASIL</td>\n",
       "      <td>94420</td>\n",
       "      <td>ESTADO DO RIO GRANDE DO NORTE</td>\n",
       "      <td>Inválido</td>\n",
       "      <td>28/01/2021</td>\n",
       "      <td>22/05/2020</td>\n",
       "      <td>54359860.55</td>\n",
       "    </tr>\n",
       "    <tr>\n",
       "      <th>3</th>\n",
       "      <td>12020</td>\n",
       "      <td>925445</td>\n",
       "      <td>COMPANHIA DE HABITAÇÃO DO ESTADO DO PARÁ</td>\n",
       "      <td>5</td>\n",
       "      <td>Pregão</td>\n",
       "      <td>2020/348464</td>\n",
       "      <td>Objeto: Pregão Eletrônico -  Contratação de ag...</td>\n",
       "      <td>Divulgado</td>\n",
       "      <td>99900</td>\n",
       "      <td>REPUBLICA FEDERATIVA DO BRASIL</td>\n",
       "      <td>93420</td>\n",
       "      <td>ESTADO DO PARA</td>\n",
       "      <td>Inválido</td>\n",
       "      <td>07/01/2021</td>\n",
       "      <td>22/12/2020</td>\n",
       "      <td>13500.00</td>\n",
       "    </tr>\n",
       "    <tr>\n",
       "      <th>4</th>\n",
       "      <td>12020</td>\n",
       "      <td>926418</td>\n",
       "      <td>COMPANHIA DE SERVIÇOS URBANOS DE NATAL</td>\n",
       "      <td>5</td>\n",
       "      <td>Pregão</td>\n",
       "      <td>20200215742</td>\n",
       "      <td>Objeto: Pregão Eletrônico -  Contratação de em...</td>\n",
       "      <td>Divulgado</td>\n",
       "      <td>99900</td>\n",
       "      <td>REPUBLICA FEDERATIVA DO BRASIL</td>\n",
       "      <td>94420</td>\n",
       "      <td>ESTADO DO RIO GRANDE DO NORTE</td>\n",
       "      <td>Inválido</td>\n",
       "      <td>07/01/2021</td>\n",
       "      <td>17/12/2020</td>\n",
       "      <td>259773.00</td>\n",
       "    </tr>\n",
       "    <tr>\n",
       "      <th>...</th>\n",
       "      <td>...</td>\n",
       "      <td>...</td>\n",
       "      <td>...</td>\n",
       "      <td>...</td>\n",
       "      <td>...</td>\n",
       "      <td>...</td>\n",
       "      <td>...</td>\n",
       "      <td>...</td>\n",
       "      <td>...</td>\n",
       "      <td>...</td>\n",
       "      <td>...</td>\n",
       "      <td>...</td>\n",
       "      <td>...</td>\n",
       "      <td>...</td>\n",
       "      <td>...</td>\n",
       "      <td>...</td>\n",
       "    </tr>\n",
       "    <tr>\n",
       "      <th>4026</th>\n",
       "      <td>901662020</td>\n",
       "      <td>925302</td>\n",
       "      <td>SECRETARIA DE ESTADO DA ADMINISTRAÇÃO PARAIBA</td>\n",
       "      <td>-99</td>\n",
       "      <td>Pregão - Registro de Preço</td>\n",
       "      <td>190000015172020</td>\n",
       "      <td>Objeto: Pregão Eletrônico -  Registro de preço...</td>\n",
       "      <td>Divulgado</td>\n",
       "      <td>99900</td>\n",
       "      <td>REPUBLICA FEDERATIVA DO BRASIL</td>\n",
       "      <td>94520</td>\n",
       "      <td>ESTADO DA PARAIBA</td>\n",
       "      <td>Inválido</td>\n",
       "      <td>08/01/2021</td>\n",
       "      <td>15/12/2020</td>\n",
       "      <td>0.00</td>\n",
       "    </tr>\n",
       "    <tr>\n",
       "      <th>4027</th>\n",
       "      <td>903562019</td>\n",
       "      <td>925302</td>\n",
       "      <td>SECRETARIA DE ESTADO DA ADMINISTRAÇÃO PARAIBA</td>\n",
       "      <td>-99</td>\n",
       "      <td>Pregão - Registro de Preço</td>\n",
       "      <td>190000318072019</td>\n",
       "      <td>Objeto: Pregão Eletrônico -  Registro de preço...</td>\n",
       "      <td>Divulgado</td>\n",
       "      <td>99900</td>\n",
       "      <td>REPUBLICA FEDERATIVA DO BRASIL</td>\n",
       "      <td>94520</td>\n",
       "      <td>ESTADO DA PARAIBA</td>\n",
       "      <td>Inválido</td>\n",
       "      <td>27/01/2021</td>\n",
       "      <td>21/01/2021</td>\n",
       "      <td>0.00</td>\n",
       "    </tr>\n",
       "    <tr>\n",
       "      <th>4028</th>\n",
       "      <td>903682019</td>\n",
       "      <td>925302</td>\n",
       "      <td>SECRETARIA DE ESTADO DA ADMINISTRAÇÃO PARAIBA</td>\n",
       "      <td>-99</td>\n",
       "      <td>Pregão - Registro de Preço</td>\n",
       "      <td>190000305972019</td>\n",
       "      <td>Objeto: Pregão Eletrônico -  Registro de preço...</td>\n",
       "      <td>Evento de Alteração Divulgado</td>\n",
       "      <td>99900</td>\n",
       "      <td>REPUBLICA FEDERATIVA DO BRASIL</td>\n",
       "      <td>94520</td>\n",
       "      <td>ESTADO DA PARAIBA</td>\n",
       "      <td>Inválido</td>\n",
       "      <td>26/01/2021</td>\n",
       "      <td>22/01/2021</td>\n",
       "      <td>0.00</td>\n",
       "    </tr>\n",
       "    <tr>\n",
       "      <th>4029</th>\n",
       "      <td>990342020</td>\n",
       "      <td>925302</td>\n",
       "      <td>SECRETARIA DE ESTADO DA ADMINISTRAÇÃO PARAIBA</td>\n",
       "      <td>-99</td>\n",
       "      <td>Pregão - Registro de Preço</td>\n",
       "      <td>19000.041185.2019</td>\n",
       "      <td>Objeto: Pregão Eletrônico -  Registro de preço...</td>\n",
       "      <td>Divulgado</td>\n",
       "      <td>99900</td>\n",
       "      <td>REPUBLICA FEDERATIVA DO BRASIL</td>\n",
       "      <td>94520</td>\n",
       "      <td>ESTADO DA PARAIBA</td>\n",
       "      <td>Inválido</td>\n",
       "      <td>08/01/2021</td>\n",
       "      <td>06/01/2021</td>\n",
       "      <td>0.00</td>\n",
       "    </tr>\n",
       "    <tr>\n",
       "      <th>4030</th>\n",
       "      <td>990822020</td>\n",
       "      <td>925302</td>\n",
       "      <td>SECRETARIA DE ESTADO DA ADMINISTRAÇÃO PARAIBA</td>\n",
       "      <td>-99</td>\n",
       "      <td>Pregão - Registro de Preço</td>\n",
       "      <td>19.000004490.2020</td>\n",
       "      <td>Objeto: Pregão Eletrônico -  Registro de preço...</td>\n",
       "      <td>Divulgado</td>\n",
       "      <td>99900</td>\n",
       "      <td>REPUBLICA FEDERATIVA DO BRASIL</td>\n",
       "      <td>94520</td>\n",
       "      <td>ESTADO DA PARAIBA</td>\n",
       "      <td>Inválido</td>\n",
       "      <td>13/01/2021</td>\n",
       "      <td>09/12/2020</td>\n",
       "      <td>5260.00</td>\n",
       "    </tr>\n",
       "  </tbody>\n",
       "</table>\n",
       "<p>4031 rows × 16 columns</p>\n",
       "</div>"
      ],
      "text/plain": [
       "      Número Licitação  Código UG  \\\n",
       "0                12019     154628   \n",
       "1                12020     927843   \n",
       "2                12020     925538   \n",
       "3                12020     925445   \n",
       "4                12020     926418   \n",
       "...                ...        ...   \n",
       "4026         901662020     925302   \n",
       "4027         903562019     925302   \n",
       "4028         903682019     925302   \n",
       "4029         990342020     925302   \n",
       "4030         990822020     925302   \n",
       "\n",
       "                                            Nome UG  Código Modalidade Compra  \\\n",
       "0           INST.FEDERAL FARROUPILHA CAMPUS JAGUARI                         2   \n",
       "1       SECRETARIA DE EST.DE PLANEJ.E ADMINISTRAÇÃO                       -99   \n",
       "2              SECRETARIA DE ESTADO DA ADMINSTRAÇÃO                         5   \n",
       "3          COMPANHIA DE HABITAÇÃO DO ESTADO DO PARÁ                         5   \n",
       "4            COMPANHIA DE SERVIÇOS URBANOS DE NATAL                         5   \n",
       "...                                             ...                       ...   \n",
       "4026  SECRETARIA DE ESTADO DA ADMINISTRAÇÃO PARAIBA                       -99   \n",
       "4027  SECRETARIA DE ESTADO DA ADMINISTRAÇÃO PARAIBA                       -99   \n",
       "4028  SECRETARIA DE ESTADO DA ADMINISTRAÇÃO PARAIBA                       -99   \n",
       "4029  SECRETARIA DE ESTADO DA ADMINISTRAÇÃO PARAIBA                       -99   \n",
       "4030  SECRETARIA DE ESTADO DA ADMINISTRAÇÃO PARAIBA                       -99   \n",
       "\n",
       "               Modalidade Compra    Número Processo  \\\n",
       "0               Tomada de Preços  26420000767201908   \n",
       "1     Pregão - Registro de Preço        2019/204734   \n",
       "2                         Pregão  00230040002019-37   \n",
       "3                         Pregão        2020/348464   \n",
       "4                         Pregão        20200215742   \n",
       "...                          ...                ...   \n",
       "4026  Pregão - Registro de Preço    190000015172020   \n",
       "4027  Pregão - Registro de Preço    190000318072019   \n",
       "4028  Pregão - Registro de Preço    190000305972019   \n",
       "4029  Pregão - Registro de Preço  19000.041185.2019   \n",
       "4030  Pregão - Registro de Preço  19.000004490.2020   \n",
       "\n",
       "                                                 Objeto  \\\n",
       "0     Objeto: Contratação de pessoa jurídica especia...   \n",
       "1     Objeto: Pregão Eletrônico -  MATERIAL DE EXPED...   \n",
       "2     Objeto: Pregão Eletrônico -  Aquisição de bens...   \n",
       "3     Objeto: Pregão Eletrônico -  Contratação de ag...   \n",
       "4     Objeto: Pregão Eletrônico -  Contratação de em...   \n",
       "...                                                 ...   \n",
       "4026  Objeto: Pregão Eletrônico -  Registro de preço...   \n",
       "4027  Objeto: Pregão Eletrônico -  Registro de preço...   \n",
       "4028  Objeto: Pregão Eletrônico -  Registro de preço...   \n",
       "4029  Objeto: Pregão Eletrônico -  Registro de preço...   \n",
       "4030  Objeto: Pregão Eletrônico -  Registro de preço...   \n",
       "\n",
       "                  Situação Licitação  Código Órgão Superior  \\\n",
       "0     Evento de Resultado de Julgame                  26000   \n",
       "1                          Divulgado                  99900   \n",
       "2                          Divulgado                  99900   \n",
       "3                          Divulgado                  99900   \n",
       "4                          Divulgado                  99900   \n",
       "...                              ...                    ...   \n",
       "4026                       Divulgado                  99900   \n",
       "4027                       Divulgado                  99900   \n",
       "4028   Evento de Alteração Divulgado                  99900   \n",
       "4029                       Divulgado                  99900   \n",
       "4030                       Divulgado                  99900   \n",
       "\n",
       "                 Nome Órgão Superior  Código Órgão  \\\n",
       "0             Ministério da Educação         26420   \n",
       "1     REPUBLICA FEDERATIVA DO BRASIL         93420   \n",
       "2     REPUBLICA FEDERATIVA DO BRASIL         94420   \n",
       "3     REPUBLICA FEDERATIVA DO BRASIL         93420   \n",
       "4     REPUBLICA FEDERATIVA DO BRASIL         94420   \n",
       "...                              ...           ...   \n",
       "4026  REPUBLICA FEDERATIVA DO BRASIL         94520   \n",
       "4027  REPUBLICA FEDERATIVA DO BRASIL         94520   \n",
       "4028  REPUBLICA FEDERATIVA DO BRASIL         94520   \n",
       "4029  REPUBLICA FEDERATIVA DO BRASIL         94520   \n",
       "4030  REPUBLICA FEDERATIVA DO BRASIL         94520   \n",
       "\n",
       "                         Nome Órgão Município Data Resultado Compra  \\\n",
       "0     Instituto Federal Farroupilha   JAGUARI            28/01/2021   \n",
       "1                    ESTADO DO PARA  Inválido            07/01/2021   \n",
       "2     ESTADO DO RIO GRANDE DO NORTE  Inválido            28/01/2021   \n",
       "3                    ESTADO DO PARA  Inválido            07/01/2021   \n",
       "4     ESTADO DO RIO GRANDE DO NORTE  Inválido            07/01/2021   \n",
       "...                             ...       ...                   ...   \n",
       "4026              ESTADO DA PARAIBA  Inválido            08/01/2021   \n",
       "4027              ESTADO DA PARAIBA  Inválido            27/01/2021   \n",
       "4028              ESTADO DA PARAIBA  Inválido            26/01/2021   \n",
       "4029              ESTADO DA PARAIBA  Inválido            08/01/2021   \n",
       "4030              ESTADO DA PARAIBA  Inválido            13/01/2021   \n",
       "\n",
       "     Data Abertura  Valor Licitação  \n",
       "0              NaN         14784.85  \n",
       "1       25/03/2020         13410.00  \n",
       "2       22/05/2020      54359860.55  \n",
       "3       22/12/2020         13500.00  \n",
       "4       17/12/2020        259773.00  \n",
       "...            ...              ...  \n",
       "4026    15/12/2020             0.00  \n",
       "4027    21/01/2021             0.00  \n",
       "4028    22/01/2021             0.00  \n",
       "4029    06/01/2021             0.00  \n",
       "4030    09/12/2020          5260.00  \n",
       "\n",
       "[4031 rows x 16 columns]"
      ]
     },
     "execution_count": 4,
     "metadata": {},
     "output_type": "execute_result"
    }
   ],
   "source": [
    "df_lic"
   ]
  },
  {
   "cell_type": "code",
   "execution_count": 10,
   "id": "115244d5",
   "metadata": {},
   "outputs": [],
   "source": [
    "pd.set_option('display.float_format', lambda x: '%.5f' % x)"
   ]
  },
  {
   "cell_type": "code",
   "execution_count": 17,
   "id": "09605730",
   "metadata": {},
   "outputs": [],
   "source": [
    "from sklearn.cluster import KMeans\n",
    "kmeans = KMeans(n_clusters=4)"
   ]
  },
  {
   "cell_type": "code",
   "execution_count": 85,
   "id": "0010a802",
   "metadata": {},
   "outputs": [],
   "source": [
    "df_lic['Valor Licitação']=df_lic['Valor Licitação']/(df_lic['Valor Licitação'].max())"
   ]
  },
  {
   "cell_type": "code",
   "execution_count": 86,
   "id": "80cc4a53",
   "metadata": {},
   "outputs": [],
   "source": [
    "X=df_lic"
   ]
  },
  {
   "cell_type": "code",
   "execution_count": 65,
   "id": "52f7ffba",
   "metadata": {},
   "outputs": [
    {
     "data": {
      "text/plain": [
       "array([1.47848500e+04, 1.34100000e+04, 5.43598605e+07, ...,\n",
       "       0.00000000e+00, 0.00000000e+00, 5.26000000e+03])"
      ]
     },
     "execution_count": 65,
     "metadata": {},
     "output_type": "execute_result"
    }
   ],
   "source": [
    "X"
   ]
  },
  {
   "cell_type": "code",
   "execution_count": 35,
   "id": "133c4e76",
   "metadata": {},
   "outputs": [
    {
     "data": {
      "text/plain": [
       "array([[9029023.67849173,  774757.19106921]])"
      ]
     },
     "execution_count": 35,
     "metadata": {},
     "output_type": "execute_result"
    }
   ],
   "source": [
    "kmeans.cluster_centers_"
   ]
  },
  {
   "cell_type": "code",
   "execution_count": 36,
   "id": "1ca6a475",
   "metadata": {},
   "outputs": [
    {
     "data": {
      "text/plain": [
       "1.8025300797986775e+19"
      ]
     },
     "execution_count": 36,
     "metadata": {},
     "output_type": "execute_result"
    }
   ],
   "source": [
    "kmeans.inertia_"
   ]
  },
  {
   "cell_type": "code",
   "execution_count": 50,
   "id": "20034393",
   "metadata": {},
   "outputs": [],
   "source": [
    "sse = []\n",
    "for k in range(1, 13):\n",
    "    kmeans = KMeans(n_clusters=k)\n",
    "    kmeans.fit(X)\n",
    "    sse.append(kmeans.inertia_)"
   ]
  },
  {
   "cell_type": "code",
   "execution_count": 51,
   "id": "5235186f",
   "metadata": {},
   "outputs": [
    {
     "data": {
      "text/html": [
       "<div>\n",
       "<style scoped>\n",
       "    .dataframe tbody tr th:only-of-type {\n",
       "        vertical-align: middle;\n",
       "    }\n",
       "\n",
       "    .dataframe tbody tr th {\n",
       "        vertical-align: top;\n",
       "    }\n",
       "\n",
       "    .dataframe thead th {\n",
       "        text-align: right;\n",
       "    }\n",
       "</style>\n",
       "<table border=\"1\" class=\"dataframe\">\n",
       "  <thead>\n",
       "    <tr style=\"text-align: right;\">\n",
       "      <th></th>\n",
       "      <th>Cluster</th>\n",
       "      <th>sse</th>\n",
       "    </tr>\n",
       "  </thead>\n",
       "  <tbody>\n",
       "    <tr>\n",
       "      <th>0</th>\n",
       "      <td>1</td>\n",
       "      <td>18025300797986775040.00000</td>\n",
       "    </tr>\n",
       "    <tr>\n",
       "      <th>1</th>\n",
       "      <td>2</td>\n",
       "      <td>3420536937261535232.00000</td>\n",
       "    </tr>\n",
       "    <tr>\n",
       "      <th>2</th>\n",
       "      <td>3</td>\n",
       "      <td>1371716171172876800.00000</td>\n",
       "    </tr>\n",
       "    <tr>\n",
       "      <th>3</th>\n",
       "      <td>4</td>\n",
       "      <td>754503225598897920.00000</td>\n",
       "    </tr>\n",
       "    <tr>\n",
       "      <th>4</th>\n",
       "      <td>5</td>\n",
       "      <td>484745579988593664.00000</td>\n",
       "    </tr>\n",
       "  </tbody>\n",
       "</table>\n",
       "</div>"
      ],
      "text/plain": [
       "   Cluster                        sse\n",
       "0        1 18025300797986775040.00000\n",
       "1        2  3420536937261535232.00000\n",
       "2        3  1371716171172876800.00000\n",
       "3        4   754503225598897920.00000\n",
       "4        5   484745579988593664.00000"
      ]
     },
     "execution_count": 51,
     "metadata": {},
     "output_type": "execute_result"
    }
   ],
   "source": [
    "cluster_df = pd.DataFrame({'Cluster':range(1,13), 'sse':sse})\n",
    "cluster_df.head()"
   ]
  },
  {
   "cell_type": "code",
   "execution_count": 52,
   "id": "c88db51a",
   "metadata": {},
   "outputs": [],
   "source": [
    "#SSE = SUM(VALOR CORRETO - VALOR ERRADO)²"
   ]
  },
  {
   "cell_type": "code",
   "execution_count": 41,
   "id": "93ab83cc",
   "metadata": {},
   "outputs": [
    {
     "data": {
      "text/plain": [
       "Text(0, 0.5, 'Inertia')"
      ]
     },
     "execution_count": 41,
     "metadata": {},
     "output_type": "execute_result"
    },
    {
     "data": {
      "image/png": "[encoded data removed]",
      "text/plain": [
       "<Figure size 864x432 with 1 Axes>"
      ]
     },
     "metadata": {
      "needs_background": "light"
     },
     "output_type": "display_data"
    }
   ],
   "source": [
    "from matplotlib import pyplot as plt\n",
    "plt.figure(figsize=(12,6))\n",
    "plt.plot(cluster_df['Cluster'], cluster_df['sse'])\n",
    "plt.xlabel('Number of clusters')\n",
    "plt.ylabel('Inertia')"
   ]
  },
  {
   "cell_type": "code",
   "execution_count": 45,
   "id": "0a539f1c",
   "metadata": {},
   "outputs": [
    {
     "name": "stdout",
     "output_type": "stream",
     "text": [
      "Collecting kneed\n",
      "  Downloading kneed-0.7.0-py2.py3-none-any.whl (9.4 kB)\n",
      "Requirement already satisfied: matplotlib in c:\\users\\efvs\\miniconda3\\envs\\rsd\\lib\\site-packages (from kneed) (3.5.0)\n",
      "Requirement already satisfied: scipy in c:\\users\\efvs\\miniconda3\\envs\\rsd\\lib\\site-packages (from kneed) (1.7.1)\n",
      "Requirement already satisfied: numpy>=1.14.2 in c:\\users\\efvs\\miniconda3\\envs\\rsd\\lib\\site-packages (from kneed) (1.21.2)\n",
      "Requirement already satisfied: packaging>=20.0 in c:\\users\\efvs\\miniconda3\\envs\\rsd\\lib\\site-packages (from matplotlib->kneed) (21.3)\n",
      "Requirement already satisfied: pillow>=6.2.0 in c:\\users\\efvs\\miniconda3\\envs\\rsd\\lib\\site-packages (from matplotlib->kneed) (8.4.0)\n",
      "Requirement already satisfied: kiwisolver>=1.0.1 in c:\\users\\efvs\\miniconda3\\envs\\rsd\\lib\\site-packages (from matplotlib->kneed) (1.3.1)\n",
      "Requirement already satisfied: pyparsing>=2.2.1 in c:\\users\\efvs\\miniconda3\\envs\\rsd\\lib\\site-packages (from matplotlib->kneed) (3.0.4)\n",
      "Requirement already satisfied: fonttools>=4.22.0 in c:\\users\\efvs\\miniconda3\\envs\\rsd\\lib\\site-packages (from matplotlib->kneed) (4.25.0)\n",
      "Requirement already satisfied: python-dateutil>=2.7 in c:\\users\\efvs\\miniconda3\\envs\\rsd\\lib\\site-packages (from matplotlib->kneed) (2.8.2)\n",
      "Requirement already satisfied: cycler>=0.10 in c:\\users\\efvs\\miniconda3\\envs\\rsd\\lib\\site-packages (from matplotlib->kneed) (0.11.0)\n",
      "Requirement already satisfied: six>=1.5 in c:\\users\\efvs\\miniconda3\\envs\\rsd\\lib\\site-packages (from python-dateutil>=2.7->matplotlib->kneed) (1.15.0)\n",
      "Installing collected packages: kneed\n",
      "Successfully installed kneed-0.7.0\n"
     ]
    }
   ],
   "source": [
    "!pip install kneed\n",
    "from kneed import KneeLocator\n",
    "kl = KneeLocator(range(1, 13), sse, curve=\"convex\", direction=\"decreasing\" )"
   ]
  },
  {
   "cell_type": "code",
   "execution_count": 47,
   "id": "46eeb79b",
   "metadata": {},
   "outputs": [
    {
     "data": {
      "text/plain": [
       "3"
      ]
     },
     "execution_count": 47,
     "metadata": {},
     "output_type": "execute_result"
    }
   ],
   "source": [
    "kl.elbow"
   ]
  },
  {
   "cell_type": "code",
   "execution_count": 53,
   "id": "4abb4ebc",
   "metadata": {},
   "outputs": [],
   "source": [
    "kmeans = KMeans(kl.elbow)\n",
    "kmeans.fit(X)\n",
    "predictions = kmeans.predict(X)"
   ]
  },
  {
   "cell_type": "code",
   "execution_count": null,
   "id": "b0d37382",
   "metadata": {},
   "outputs": [],
   "source": [
    "centers=kmeans.cluster_centers_"
   ]
  },
  {
   "cell_type": "code",
   "execution_count": 60,
   "id": "2d2e5726",
   "metadata": {},
   "outputs": [
    {
     "data": {
      "text/plain": [
       "<matplotlib.collections.PathCollection at 0x1fe816a7700>"
      ]
     },
     "execution_count": 60,
     "metadata": {},
     "output_type": "execute_result"
    },
    {
     "data": {
      "image/png": "[encoded data removed]",
      "text/plain": [
       "<Figure size 720x504 with 1 Axes>"
      ]
     },
     "metadata": {
      "needs_background": "light"
     },
     "output_type": "display_data"
    }
   ],
   "source": [
    "plt.figure(figsize=(10,7))\n",
    "plt.scatter(X[:, 0], X[:, 1], c=predictions, s=30, cmap='cividis')\n",
    "plt.scatter(centers[:, 0], centers[:, 1], c='blue', s=200, alpha=0.6)"
   ]
  },
  {
   "cell_type": "code",
   "execution_count": null,
   "id": "ee96782d",
   "metadata": {},
   "outputs": [],
   "source": []
  }
 ],
 "metadata": {
  "kernelspec": {
   "display_name": "Python 3 (ipykernel)",
   "language": "python",
   "name": "python3"
  },
  "language_info": {
   "codemirror_mode": {
    "name": "ipython",
    "version": 3
   },
   "file_extension": ".py",
   "mimetype": "text/x-python",
   "name": "python",
   "nbconvert_exporter": "python",
   "pygments_lexer": "ipython3",
   "version": "3.9.7"
  }
 },
 "nbformat": 4,
 "nbformat_minor": 5
}
