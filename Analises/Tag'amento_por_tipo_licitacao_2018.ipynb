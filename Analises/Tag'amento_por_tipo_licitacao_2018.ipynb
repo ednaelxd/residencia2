{
 "cells": [
  {
   "cell_type": "markdown",
   "id": "fa466ffd",
   "metadata": {},
   "source": [
    "## Neste documento, adicionaremos a tag legal/ilegal nos dados\n",
    "- Importação dos dados\n",
    "- Divisão por grupo de tipo de licitação\n",
    "- Criação do algorítmo de classificação\n",
    "- Implementação nas bases divididas por modalidade de licitação"
   ]
  },
  {
   "cell_type": "code",
   "execution_count": 1,
   "id": "d4318096",
   "metadata": {},
   "outputs": [],
   "source": [
    "import pandas as pd\n",
    "import glob\n",
    "import numpy as np\n",
    "import matplotlib.pyplot as plt"
   ]
  },
  {
   "cell_type": "code",
   "execution_count": 2,
   "id": "4defb4fa",
   "metadata": {},
   "outputs": [
    {
     "name": "stdout",
     "output_type": "stream",
     "text": [
      "Wall time: 0 ns\n"
     ]
    }
   ],
   "source": [
    "%time\n",
    "path = r'C:\\licitacoes_07_a_12_2018'\n",
    "filenames = glob.glob(path + \"/*.csv\")\n",
    "\n",
    "li= []\n",
    "\n",
    "for filename in filenames:\n",
    "    df = pd.read_csv(filename, index_col=None, header=0, decimal=',',sep=';',encoding='latin1')\n",
    "    li.append(df)\n",
    "\n",
    "df_lic_2018 = pd.concat(li, axis=0, ignore_index=True)"
   ]
  },
  {
   "cell_type": "code",
   "execution_count": 3,
   "id": "27a67660",
   "metadata": {},
   "outputs": [],
   "source": [
    "pd.options.display.max_colwidth = 1000"
   ]
  },
  {
   "cell_type": "code",
   "execution_count": 4,
   "id": "4bcdd0ed",
   "metadata": {},
   "outputs": [
    {
     "data": {
      "text/html": [
       "<div>\n",
       "<style scoped>\n",
       "    .dataframe tbody tr th:only-of-type {\n",
       "        vertical-align: middle;\n",
       "    }\n",
       "\n",
       "    .dataframe tbody tr th {\n",
       "        vertical-align: top;\n",
       "    }\n",
       "\n",
       "    .dataframe thead th {\n",
       "        text-align: right;\n",
       "    }\n",
       "</style>\n",
       "<table border=\"1\" class=\"dataframe\">\n",
       "  <thead>\n",
       "    <tr style=\"text-align: right;\">\n",
       "      <th></th>\n",
       "      <th>Número Licitação</th>\n",
       "      <th>Código UG</th>\n",
       "      <th>Nome UG</th>\n",
       "      <th>Código Modalidade Compra</th>\n",
       "      <th>Modalidade Compra</th>\n",
       "      <th>Número Processo</th>\n",
       "      <th>Objeto</th>\n",
       "      <th>Situação Licitação</th>\n",
       "      <th>Código Órgão Superior</th>\n",
       "      <th>Nome Órgão Superior</th>\n",
       "      <th>Código Órgão</th>\n",
       "      <th>Nome Órgão</th>\n",
       "      <th>Município</th>\n",
       "      <th>Data Resultado Compra</th>\n",
       "      <th>Data Abertura</th>\n",
       "      <th>Valor Licitação</th>\n",
       "    </tr>\n",
       "  </thead>\n",
       "  <tbody>\n",
       "    <tr>\n",
       "      <th>0</th>\n",
       "      <td>12016</td>\n",
       "      <td>763000</td>\n",
       "      <td>DIRETORIA DO PESSOAL CIVIL DA MARINHA</td>\n",
       "      <td>7</td>\n",
       "      <td>Inexigibilidade de Licitação</td>\n",
       "      <td>63000003136201667</td>\n",
       "      <td>Objeto: Prestação de serviços e venda de produtos postais, em âmbito nacional e internacional. Referente ao TJIL 1/2016, desta UASG. Assinado em 11/11/2016. Publicado, originalmente, no D.O.U em 07/12/2016.</td>\n",
       "      <td>Publicado</td>\n",
       "      <td>52000</td>\n",
       "      <td>Ministério da Defesa</td>\n",
       "      <td>52131</td>\n",
       "      <td>Comando da Marinha</td>\n",
       "      <td>BRASILIA</td>\n",
       "      <td>30/07/2018</td>\n",
       "      <td>NaN</td>\n",
       "      <td>227500.0</td>\n",
       "    </tr>\n",
       "  </tbody>\n",
       "</table>\n",
       "</div>"
      ],
      "text/plain": [
       "   Número Licitação  Código UG                                Nome UG  \\\n",
       "0             12016     763000  DIRETORIA DO PESSOAL CIVIL DA MARINHA   \n",
       "\n",
       "   Código Modalidade Compra             Modalidade Compra    Número Processo  \\\n",
       "0                         7  Inexigibilidade de Licitação  63000003136201667   \n",
       "\n",
       "                                                                                                                                                                                                           Objeto  \\\n",
       "0  Objeto: Prestação de serviços e venda de produtos postais, em âmbito nacional e internacional. Referente ao TJIL 1/2016, desta UASG. Assinado em 11/11/2016. Publicado, originalmente, no D.O.U em 07/12/2016.   \n",
       "\n",
       "  Situação Licitação  Código Órgão Superior   Nome Órgão Superior  \\\n",
       "0          Publicado                  52000  Ministério da Defesa   \n",
       "\n",
       "   Código Órgão          Nome Órgão Município Data Resultado Compra  \\\n",
       "0         52131  Comando da Marinha  BRASILIA            30/07/2018   \n",
       "\n",
       "  Data Abertura  Valor Licitação  \n",
       "0           NaN         227500.0  "
      ]
     },
     "execution_count": 4,
     "metadata": {},
     "output_type": "execute_result"
    }
   ],
   "source": [
    "df_lic_2018.head(1)"
   ]
  },
  {
   "cell_type": "code",
   "execution_count": 5,
   "id": "7420d3ea",
   "metadata": {},
   "outputs": [
    {
     "name": "stdout",
     "output_type": "stream",
     "text": [
      "<class 'pandas.core.frame.DataFrame'>\n",
      "RangeIndex: 112936 entries, 0 to 112935\n",
      "Data columns (total 16 columns):\n",
      " #   Column                    Non-Null Count   Dtype  \n",
      "---  ------                    --------------   -----  \n",
      " 0   Número Licitação          112936 non-null  int64  \n",
      " 1   Código UG                 112936 non-null  int64  \n",
      " 2   Nome UG                   112936 non-null  object \n",
      " 3   Código Modalidade Compra  112936 non-null  int64  \n",
      " 4   Modalidade Compra         112936 non-null  object \n",
      " 5   Número Processo           112934 non-null  object \n",
      " 6   Objeto                    112934 non-null  object \n",
      " 7   Situação Licitação        112936 non-null  object \n",
      " 8   Código Órgão Superior     112936 non-null  int64  \n",
      " 9   Nome Órgão Superior       112936 non-null  object \n",
      " 10  Código Órgão              112936 non-null  int64  \n",
      " 11  Nome Órgão                112936 non-null  object \n",
      " 12  Município                 112936 non-null  object \n",
      " 13  Data Resultado Compra     112936 non-null  object \n",
      " 14  Data Abertura             31022 non-null   object \n",
      " 15  Valor Licitação           112936 non-null  float64\n",
      "dtypes: float64(1), int64(5), object(10)\n",
      "memory usage: 13.8+ MB\n"
     ]
    }
   ],
   "source": [
    "df_lic_2018.info()"
   ]
  },
  {
   "cell_type": "code",
   "execution_count": 6,
   "id": "7a7c3db9",
   "metadata": {},
   "outputs": [
    {
     "data": {
      "text/plain": [
       "(112936, 16)"
      ]
     },
     "execution_count": 6,
     "metadata": {},
     "output_type": "execute_result"
    }
   ],
   "source": [
    "df_lic_2018.shape"
   ]
  },
  {
   "cell_type": "code",
   "execution_count": 7,
   "id": "14c347ee",
   "metadata": {},
   "outputs": [],
   "source": [
    "df_lic_2018.rename(columns={\"Valor Licitação\": \"Total\"},inplace=True)"
   ]
  },
  {
   "cell_type": "code",
   "execution_count": 8,
   "id": "3b7c8951",
   "metadata": {},
   "outputs": [
    {
     "data": {
      "text/plain": [
       "Dispensa de Licitação               73521\n",
       "Inexigibilidade de Licitação        14486\n",
       "Pregão - Registro de Preço          12436\n",
       "Pregão                              11609\n",
       "Tomada de Preços                      529\n",
       "Concorrência                          225\n",
       "Convite                                96\n",
       "Concurso                               18\n",
       "Concorrência Internacional             11\n",
       "Concorrência - Registro de Preço        5\n",
       "Name: Modalidade Compra, dtype: int64"
      ]
     },
     "execution_count": 8,
     "metadata": {},
     "output_type": "execute_result"
    }
   ],
   "source": [
    "df_lic_2018['Modalidade Compra'].value_counts()"
   ]
  },
  {
   "cell_type": "markdown",
   "id": "7ffac887",
   "metadata": {},
   "source": [
    "## É Obra ?"
   ]
  },
  {
   "cell_type": "code",
   "execution_count": 9,
   "id": "5786a7aa",
   "metadata": {},
   "outputs": [],
   "source": [
    "df_lic_2018['Obras'] = df_lic_2018['Objeto'].str.contains(\"OBRAS|OBRA|obras|obra|ENGENHARIA|engenharia|CONSTRU-CAO|constru-cao\", na=False)"
   ]
  },
  {
   "cell_type": "code",
   "execution_count": 10,
   "id": "9178dc81",
   "metadata": {},
   "outputs": [
    {
     "data": {
      "text/plain": [
       "False    109647\n",
       "True       3289\n",
       "Name: Obras, dtype: int64"
      ]
     },
     "execution_count": 10,
     "metadata": {},
     "output_type": "execute_result"
    }
   ],
   "source": [
    "df_lic_2018['Obras'].value_counts()"
   ]
  },
  {
   "cell_type": "code",
   "execution_count": 11,
   "id": "0a17cbfc",
   "metadata": {},
   "outputs": [],
   "source": [
    "df_lic_2018['Tipo'] = 1"
   ]
  },
  {
   "cell_type": "code",
   "execution_count": 12,
   "id": "77c321ce",
   "metadata": {},
   "outputs": [],
   "source": [
    "df_lic_2018.loc[df_lic_2018['Obras'] == True, 'Tipo'] = 'Obras'\n",
    "df_lic_2018.loc[df_lic_2018['Obras'] == False, 'Tipo'] = 'Compras/Servicos'"
   ]
  },
  {
   "cell_type": "code",
   "execution_count": 13,
   "id": "d9fd7462",
   "metadata": {},
   "outputs": [
    {
     "data": {
      "text/plain": [
       "Compras/Servicos    109647\n",
       "Obras                 3289\n",
       "Name: Tipo, dtype: int64"
      ]
     },
     "execution_count": 13,
     "metadata": {},
     "output_type": "execute_result"
    }
   ],
   "source": [
    "df_lic_2018['Tipo'].value_counts()"
   ]
  },
  {
   "cell_type": "code",
   "execution_count": 14,
   "id": "15e15e06",
   "metadata": {},
   "outputs": [],
   "source": [
    "#Excluindo o atributo Obras que não será utilizado nas análises posteriores.\n",
    "df_lic_2018.drop(columns=['Obras'], axis=1, inplace=True)"
   ]
  },
  {
   "cell_type": "code",
   "execution_count": 15,
   "id": "dbbd8a88",
   "metadata": {},
   "outputs": [
    {
     "name": "stdout",
     "output_type": "stream",
     "text": [
      "<class 'pandas.core.frame.DataFrame'>\n",
      "RangeIndex: 112936 entries, 0 to 112935\n",
      "Data columns (total 17 columns):\n",
      " #   Column                    Non-Null Count   Dtype  \n",
      "---  ------                    --------------   -----  \n",
      " 0   Número Licitação          112936 non-null  int64  \n",
      " 1   Código UG                 112936 non-null  int64  \n",
      " 2   Nome UG                   112936 non-null  object \n",
      " 3   Código Modalidade Compra  112936 non-null  int64  \n",
      " 4   Modalidade Compra         112936 non-null  object \n",
      " 5   Número Processo           112934 non-null  object \n",
      " 6   Objeto                    112934 non-null  object \n",
      " 7   Situação Licitação        112936 non-null  object \n",
      " 8   Código Órgão Superior     112936 non-null  int64  \n",
      " 9   Nome Órgão Superior       112936 non-null  object \n",
      " 10  Código Órgão              112936 non-null  int64  \n",
      " 11  Nome Órgão                112936 non-null  object \n",
      " 12  Município                 112936 non-null  object \n",
      " 13  Data Resultado Compra     112936 non-null  object \n",
      " 14  Data Abertura             31022 non-null   object \n",
      " 15  Total                     112936 non-null  float64\n",
      " 16  Tipo                      112936 non-null  object \n",
      "dtypes: float64(1), int64(5), object(11)\n",
      "memory usage: 14.6+ MB\n"
     ]
    }
   ],
   "source": [
    "df_lic_2018.info()"
   ]
  },
  {
   "cell_type": "markdown",
   "id": "d75b1db9",
   "metadata": {},
   "source": [
    "# Separando as Licitações por Modalidade de Compra e aplicando as regras de acordo com os valores a partir do Decreto n. 9.412, de 18 de Junho de 2018."
   ]
  },
  {
   "cell_type": "markdown",
   "id": "d973d9ab",
   "metadata": {},
   "source": [
    "## Registro de Preço/ Concorrência/Concorrência - Registro de Preço\n",
    "- As modalidades abaixo serão unidas em um único objeto por serem equivalentes."
   ]
  },
  {
   "cell_type": "code",
   "execution_count": 16,
   "id": "cc898712",
   "metadata": {},
   "outputs": [],
   "source": [
    "df_lic_2018_RP = df_lic_2018[(df_lic_2018['Modalidade Compra']  == 'Pregão - Registro de Preço') | (df_lic_2018['Modalidade Compra'] == 'Concorrência - Registro de Preço') | (df_lic_2018['Modalidade Compra'] == 'Concorrência')]"
   ]
  },
  {
   "cell_type": "code",
   "execution_count": 17,
   "id": "81d1ae53",
   "metadata": {},
   "outputs": [
    {
     "data": {
      "text/plain": [
       "Pregão - Registro de Preço          12436\n",
       "Concorrência                          225\n",
       "Concorrência - Registro de Preço        5\n",
       "Name: Modalidade Compra, dtype: int64"
      ]
     },
     "execution_count": 17,
     "metadata": {},
     "output_type": "execute_result"
    }
   ],
   "source": [
    "df_lic_2018_RP['Modalidade Compra'].value_counts()"
   ]
  },
  {
   "cell_type": "code",
   "execution_count": 18,
   "id": "5ac16e8d",
   "metadata": {},
   "outputs": [
    {
     "data": {
      "text/plain": [
       "Compras/Servicos    12335\n",
       "Obras                 331\n",
       "Name: Tipo, dtype: int64"
      ]
     },
     "execution_count": 18,
     "metadata": {},
     "output_type": "execute_result"
    }
   ],
   "source": [
    "df_lic_2018_RP['Tipo'].value_counts()"
   ]
  },
  {
   "cell_type": "code",
   "execution_count": 19,
   "id": "b36a707f",
   "metadata": {},
   "outputs": [],
   "source": [
    "# Separando a modalidade em Obras e Compras/Serviços\n",
    "lic_obras_RP_2018 = df_lic_2018_RP[df_lic_2018_RP['Tipo'] == 'Obras']\n",
    "lic_compras_RP_2018 = df_lic_2018_RP[df_lic_2018_RP['Tipo'] != 'Obras']"
   ]
  },
  {
   "cell_type": "markdown",
   "id": "0eb3ae8a",
   "metadata": {},
   "source": [
    "## Tag'ando como legal ou ilegal de acordo  com Decreto nº 9.412, de 18 de Junho de 2018"
   ]
  },
  {
   "cell_type": "markdown",
   "id": "eb7ae123",
   "metadata": {},
   "source": [
    "#### 0: ilegal\n",
    "#### 1: legal"
   ]
  },
  {
   "cell_type": "code",
   "execution_count": 20,
   "id": "a53dc491",
   "metadata": {},
   "outputs": [
    {
     "name": "stderr",
     "output_type": "stream",
     "text": [
      "C:\\Users\\lrr\\AppData\\Local\\Temp/ipykernel_13072/504329317.py:1: SettingWithCopyWarning: \n",
      "A value is trying to be set on a copy of a slice from a DataFrame.\n",
      "Try using .loc[row_indexer,col_indexer] = value instead\n",
      "\n",
      "See the caveats in the documentation: https://pandas.pydata.org/pandas-docs/stable/user_guide/indexing.html#returning-a-view-versus-a-copy\n",
      "  lic_obras_RP_2018['Tag'] = 0\n",
      "C:\\Users\\lrr\\AppData\\Local\\Temp/ipykernel_13072/504329317.py:2: SettingWithCopyWarning: \n",
      "A value is trying to be set on a copy of a slice from a DataFrame.\n",
      "Try using .loc[row_indexer,col_indexer] = value instead\n",
      "\n",
      "See the caveats in the documentation: https://pandas.pydata.org/pandas-docs/stable/user_guide/indexing.html#returning-a-view-versus-a-copy\n",
      "  lic_compras_RP_2018['Tag'] = 0\n"
     ]
    }
   ],
   "source": [
    "lic_obras_RP_2018['Tag'] = 0\n",
    "lic_compras_RP_2018['Tag'] = 0"
   ]
  },
  {
   "cell_type": "code",
   "execution_count": 21,
   "id": "2480e499",
   "metadata": {},
   "outputs": [
    {
     "name": "stderr",
     "output_type": "stream",
     "text": [
      "C:\\Users\\lrr\\anaconda3\\lib\\site-packages\\pandas\\core\\indexing.py:1817: SettingWithCopyWarning: \n",
      "A value is trying to be set on a copy of a slice from a DataFrame.\n",
      "Try using .loc[row_indexer,col_indexer] = value instead\n",
      "\n",
      "See the caveats in the documentation: https://pandas.pydata.org/pandas-docs/stable/user_guide/indexing.html#returning-a-view-versus-a-copy\n",
      "  self._setitem_single_column(loc, value, pi)\n"
     ]
    }
   ],
   "source": [
    "#regra de limite de valor\n",
    "#Considerando REGISTRO DE PREÇO como CONCORRENCIA e CONCORRENCIA - REGISTRO DE PREÇO\n",
    "lic_obras_RP_2018.loc[lic_obras_RP_2018['Total'] > 3300000, 'Tag'] = 1\n",
    "lic_compras_RP_2018.loc[lic_compras_RP_2018['Total'] > 1430000, 'Tag'] = 1"
   ]
  },
  {
   "cell_type": "code",
   "execution_count": 22,
   "id": "a5364635",
   "metadata": {},
   "outputs": [
    {
     "data": {
      "text/plain": [
       "0    290\n",
       "1     41\n",
       "Name: Tag, dtype: int64"
      ]
     },
     "execution_count": 22,
     "metadata": {},
     "output_type": "execute_result"
    }
   ],
   "source": [
    "lic_obras_RP_2018['Tag'].value_counts()"
   ]
  },
  {
   "cell_type": "code",
   "execution_count": 23,
   "id": "d3d600e5",
   "metadata": {},
   "outputs": [
    {
     "data": {
      "image/png": "[encoded data removed]",
      "text/plain": [
       "<Figure size 432x288 with 1 Axes>"
      ]
     },
     "metadata": {
      "needs_background": "light"
     },
     "output_type": "display_data"
    }
   ],
   "source": [
    "# Análise visual das licitações Ilegais para esta modalidade\n",
    "lic_obras_RP_2018[lic_obras_RP_2018['Tag'] == 0]['Total'].plot.box()\n",
    "plt.show()"
   ]
  },
  {
   "cell_type": "code",
   "execution_count": 24,
   "id": "c4df5a34",
   "metadata": {},
   "outputs": [
    {
     "data": {
      "text/plain": [
       "count    2.900000e+02\n",
       "mean     5.059668e+05\n",
       "std      8.412065e+05\n",
       "min      0.000000e+00\n",
       "25%      5.924750e+03\n",
       "50%      5.425898e+04\n",
       "75%      5.489886e+05\n",
       "max      3.278397e+06\n",
       "Name: Total, dtype: float64"
      ]
     },
     "execution_count": 24,
     "metadata": {},
     "output_type": "execute_result"
    }
   ],
   "source": [
    "lic_obras_RP_2018[lic_obras_RP_2018['Tag'] == 0]['Total'].describe()"
   ]
  },
  {
   "cell_type": "code",
   "execution_count": 25,
   "id": "b92fdf13",
   "metadata": {},
   "outputs": [
    {
     "data": {
      "text/plain": [
       "<AxesSubplot:>"
      ]
     },
     "execution_count": 25,
     "metadata": {},
     "output_type": "execute_result"
    },
    {
     "data": {
      "image/png": "[encoded data removed]",
      "text/plain": [
       "<Figure size 432x288 with 1 Axes>"
      ]
     },
     "metadata": {
      "needs_background": "light"
     },
     "output_type": "display_data"
    }
   ],
   "source": [
    "lic_obras_RP_2018[lic_obras_RP_2018['Tag'] == 1]['Total'].plot.box()"
   ]
  },
  {
   "cell_type": "code",
   "execution_count": 26,
   "id": "9b84db06",
   "metadata": {},
   "outputs": [
    {
     "data": {
      "text/plain": [
       "0    12079\n",
       "1      256\n",
       "Name: Tag, dtype: int64"
      ]
     },
     "execution_count": 26,
     "metadata": {},
     "output_type": "execute_result"
    }
   ],
   "source": [
    "lic_compras_RP_2018['Tag'].value_counts()"
   ]
  },
  {
   "cell_type": "code",
   "execution_count": 27,
   "id": "bf4096fe",
   "metadata": {},
   "outputs": [
    {
     "data": {
      "text/plain": [
       "<AxesSubplot:>"
      ]
     },
     "execution_count": 27,
     "metadata": {},
     "output_type": "execute_result"
    },
    {
     "data": {
      "image/png": "[encoded data removed]",
      "text/plain": [
       "<Figure size 432x288 with 1 Axes>"
      ]
     },
     "metadata": {
      "needs_background": "light"
     },
     "output_type": "display_data"
    }
   ],
   "source": [
    "# Visualizando as licitações do tipo Registro de Preço que foram Ilegais\n",
    "lic_compras_RP_2018[lic_compras_RP_2018['Tag'] == 0]['Total'].plot.box()"
   ]
  },
  {
   "cell_type": "code",
   "execution_count": 28,
   "id": "c607d662",
   "metadata": {},
   "outputs": [
    {
     "data": {
      "text/plain": [
       "count    1.207900e+04\n",
       "mean     5.315086e+04\n",
       "std      1.506793e+05\n",
       "min      0.000000e+00\n",
       "25%      2.017800e+02\n",
       "50%      4.312000e+03\n",
       "75%      3.024000e+04\n",
       "max      1.429900e+06\n",
       "Name: Total, dtype: float64"
      ]
     },
     "execution_count": 28,
     "metadata": {},
     "output_type": "execute_result"
    }
   ],
   "source": [
    "lic_compras_RP_2018[lic_compras_RP_2018['Tag'] == 0]['Total'].describe()"
   ]
  },
  {
   "cell_type": "code",
   "execution_count": 29,
   "id": "b261e2d7",
   "metadata": {},
   "outputs": [
    {
     "data": {
      "text/plain": [
       "<AxesSubplot:>"
      ]
     },
     "execution_count": 29,
     "metadata": {},
     "output_type": "execute_result"
    },
    {
     "data": {
      "image/png": "[encoded data removed]",
      "text/plain": [
       "<Figure size 432x288 with 1 Axes>"
      ]
     },
     "metadata": {
      "needs_background": "light"
     },
     "output_type": "display_data"
    }
   ],
   "source": [
    "# Visualizando as licitações do tipo Registro de Preço que foram Legais\n",
    "lic_compras_RP_2018[lic_compras_RP_2018['Tag'] == 1]['Total'].plot.box()"
   ]
  },
  {
   "cell_type": "code",
   "execution_count": 30,
   "id": "b52ec2c7",
   "metadata": {},
   "outputs": [
    {
     "data": {
      "text/plain": [
       "count    2.560000e+02\n",
       "mean     8.514725e+06\n",
       "std      2.256791e+07\n",
       "min      1.433940e+06\n",
       "25%      2.100683e+06\n",
       "50%      3.228975e+06\n",
       "75%      6.024452e+06\n",
       "max      2.590500e+08\n",
       "Name: Total, dtype: float64"
      ]
     },
     "execution_count": 30,
     "metadata": {},
     "output_type": "execute_result"
    }
   ],
   "source": [
    "lic_compras_RP_2018[lic_compras_RP_2018['Tag'] == 1]['Total'].describe()"
   ]
  },
  {
   "cell_type": "markdown",
   "id": "3beba261",
   "metadata": {},
   "source": [
    "## Dispensa de Licitação"
   ]
  },
  {
   "cell_type": "code",
   "execution_count": 31,
   "id": "1417effc",
   "metadata": {},
   "outputs": [],
   "source": [
    "df_lic_2018_Dispensa = df_lic_2018[df_lic_2018['Modalidade Compra'] == 'Dispensa de Licitação']"
   ]
  },
  {
   "cell_type": "code",
   "execution_count": 32,
   "id": "e06a1757",
   "metadata": {},
   "outputs": [
    {
     "data": {
      "text/plain": [
       "Dispensa de Licitação    73521\n",
       "Name: Modalidade Compra, dtype: int64"
      ]
     },
     "execution_count": 32,
     "metadata": {},
     "output_type": "execute_result"
    }
   ],
   "source": [
    "df_lic_2018_Dispensa['Modalidade Compra'].value_counts()"
   ]
  },
  {
   "cell_type": "code",
   "execution_count": 33,
   "id": "be325417",
   "metadata": {},
   "outputs": [
    {
     "data": {
      "text/plain": [
       "Compras/Servicos    72157\n",
       "Obras                1364\n",
       "Name: Tipo, dtype: int64"
      ]
     },
     "execution_count": 33,
     "metadata": {},
     "output_type": "execute_result"
    }
   ],
   "source": [
    "df_lic_2018_Dispensa['Tipo'].value_counts()"
   ]
  },
  {
   "cell_type": "code",
   "execution_count": 34,
   "id": "31678f32",
   "metadata": {},
   "outputs": [],
   "source": [
    "lic_obras_Dispensa_2018 = df_lic_2018_Dispensa[df_lic_2018_Dispensa['Tipo'] == 'Obras']\n",
    "lic_compras_Dispensa_2018 = df_lic_2018_Dispensa[df_lic_2018_Dispensa['Tipo'] != 'Obras']"
   ]
  },
  {
   "cell_type": "code",
   "execution_count": 35,
   "id": "b09c4fa4",
   "metadata": {},
   "outputs": [
    {
     "data": {
      "text/plain": [
       "Obras    1364\n",
       "Name: Tipo, dtype: int64"
      ]
     },
     "execution_count": 35,
     "metadata": {},
     "output_type": "execute_result"
    }
   ],
   "source": [
    "lic_obras_Dispensa_2018['Tipo'].value_counts()"
   ]
  },
  {
   "cell_type": "code",
   "execution_count": 36,
   "id": "07b2793f",
   "metadata": {},
   "outputs": [
    {
     "data": {
      "text/plain": [
       "Compras/Servicos    72157\n",
       "Name: Tipo, dtype: int64"
      ]
     },
     "execution_count": 36,
     "metadata": {},
     "output_type": "execute_result"
    }
   ],
   "source": [
    "lic_compras_Dispensa_2018['Tipo'].value_counts()"
   ]
  },
  {
   "cell_type": "markdown",
   "id": "f12ef13f",
   "metadata": {},
   "source": [
    "## Tag'ando como legal ou ilegal de acordo com Decreto nº 9.412, de 18 de Junho de 2018\n",
    "\n",
    "#### 0: ilegal\n",
    "#### 1: legal"
   ]
  },
  {
   "cell_type": "code",
   "execution_count": 37,
   "id": "34afe2aa",
   "metadata": {},
   "outputs": [
    {
     "name": "stderr",
     "output_type": "stream",
     "text": [
      "C:\\Users\\lrr\\AppData\\Local\\Temp/ipykernel_13072/474087674.py:1: SettingWithCopyWarning: \n",
      "A value is trying to be set on a copy of a slice from a DataFrame.\n",
      "Try using .loc[row_indexer,col_indexer] = value instead\n",
      "\n",
      "See the caveats in the documentation: https://pandas.pydata.org/pandas-docs/stable/user_guide/indexing.html#returning-a-view-versus-a-copy\n",
      "  lic_obras_Dispensa_2018['Tag'] = 0\n",
      "C:\\Users\\lrr\\AppData\\Local\\Temp/ipykernel_13072/474087674.py:2: SettingWithCopyWarning: \n",
      "A value is trying to be set on a copy of a slice from a DataFrame.\n",
      "Try using .loc[row_indexer,col_indexer] = value instead\n",
      "\n",
      "See the caveats in the documentation: https://pandas.pydata.org/pandas-docs/stable/user_guide/indexing.html#returning-a-view-versus-a-copy\n",
      "  lic_compras_Dispensa_2018['Tag'] = 0\n"
     ]
    }
   ],
   "source": [
    "lic_obras_Dispensa_2018['Tag'] = 0\n",
    "lic_compras_Dispensa_2018['Tag'] = 0"
   ]
  },
  {
   "cell_type": "code",
   "execution_count": 38,
   "id": "b509ec90",
   "metadata": {},
   "outputs": [
    {
     "name": "stderr",
     "output_type": "stream",
     "text": [
      "C:\\Users\\lrr\\anaconda3\\lib\\site-packages\\pandas\\core\\indexing.py:1817: SettingWithCopyWarning: \n",
      "A value is trying to be set on a copy of a slice from a DataFrame.\n",
      "Try using .loc[row_indexer,col_indexer] = value instead\n",
      "\n",
      "See the caveats in the documentation: https://pandas.pydata.org/pandas-docs/stable/user_guide/indexing.html#returning-a-view-versus-a-copy\n",
      "  self._setitem_single_column(loc, value, pi)\n"
     ]
    }
   ],
   "source": [
    "#regra de limite de valor\n",
    "lic_obras_Dispensa_2018.loc[lic_obras_Dispensa_2018['Total'] <= 33000 , 'Tag'] = 1\n",
    "lic_compras_Dispensa_2018.loc[lic_compras_Dispensa_2018['Total'] <= 17600, 'Tag'] = 1"
   ]
  },
  {
   "cell_type": "code",
   "execution_count": 39,
   "id": "98474f28",
   "metadata": {},
   "outputs": [
    {
     "data": {
      "text/plain": [
       "1    1249\n",
       "0     115\n",
       "Name: Tag, dtype: int64"
      ]
     },
     "execution_count": 39,
     "metadata": {},
     "output_type": "execute_result"
    }
   ],
   "source": [
    "lic_obras_Dispensa_2018['Tag'].value_counts()"
   ]
  },
  {
   "cell_type": "code",
   "execution_count": 40,
   "id": "a3b9fe2c",
   "metadata": {},
   "outputs": [
    {
     "data": {
      "image/png": "[encoded data removed]",
      "text/plain": [
       "<Figure size 432x288 with 1 Axes>"
      ]
     },
     "metadata": {
      "needs_background": "light"
     },
     "output_type": "display_data"
    }
   ],
   "source": [
    "lic_obras_Dispensa_2018[lic_obras_Dispensa_2018['Tag'] == 1]['Total'].plot.box()\n",
    "plt.show()"
   ]
  },
  {
   "cell_type": "code",
   "execution_count": 41,
   "id": "b0388642",
   "metadata": {},
   "outputs": [
    {
     "data": {
      "text/plain": [
       "count     1249.000000\n",
       "mean      8238.650376\n",
       "std       8550.423777\n",
       "min          0.010000\n",
       "25%       1705.600000\n",
       "50%       5000.000000\n",
       "75%      12500.000000\n",
       "max      33000.000000\n",
       "Name: Total, dtype: float64"
      ]
     },
     "execution_count": 41,
     "metadata": {},
     "output_type": "execute_result"
    }
   ],
   "source": [
    "lic_obras_Dispensa_2018[lic_obras_Dispensa_2018['Tag'] == 1]['Total'].describe()"
   ]
  },
  {
   "cell_type": "code",
   "execution_count": 42,
   "id": "7ed02631",
   "metadata": {},
   "outputs": [
    {
     "data": {
      "image/png": "[encoded data removed]",
      "text/plain": [
       "<Figure size 432x288 with 1 Axes>"
      ]
     },
     "metadata": {
      "needs_background": "light"
     },
     "output_type": "display_data"
    }
   ],
   "source": [
    "lic_obras_Dispensa_2018[lic_obras_Dispensa_2018['Tag'] == 0]['Total'].plot.box()\n",
    "plt.show()"
   ]
  },
  {
   "cell_type": "code",
   "execution_count": 43,
   "id": "4ea6f336",
   "metadata": {},
   "outputs": [
    {
     "data": {
      "text/plain": [
       "count    1.150000e+02\n",
       "mean     3.321567e+06\n",
       "std      1.081473e+07\n",
       "min      3.389529e+04\n",
       "25%      8.766349e+04\n",
       "50%      3.619920e+05\n",
       "75%      1.868894e+06\n",
       "max      8.794440e+07\n",
       "Name: Total, dtype: float64"
      ]
     },
     "execution_count": 43,
     "metadata": {},
     "output_type": "execute_result"
    }
   ],
   "source": [
    "lic_obras_Dispensa_2018[lic_obras_Dispensa_2018['Tag'] == 0]['Total'].describe()"
   ]
  },
  {
   "cell_type": "code",
   "execution_count": 44,
   "id": "7b98a4aa",
   "metadata": {},
   "outputs": [
    {
     "data": {
      "text/plain": [
       "1    67597\n",
       "0     4560\n",
       "Name: Tag, dtype: int64"
      ]
     },
     "execution_count": 44,
     "metadata": {},
     "output_type": "execute_result"
    }
   ],
   "source": [
    "lic_compras_Dispensa_2018['Tag'].value_counts()"
   ]
  },
  {
   "cell_type": "code",
   "execution_count": 45,
   "id": "18b178fe",
   "metadata": {},
   "outputs": [
    {
     "data": {
      "image/png": "[encoded data removed]",
      "text/plain": [
       "<Figure size 432x288 with 1 Axes>"
      ]
     },
     "metadata": {
      "needs_background": "light"
     },
     "output_type": "display_data"
    }
   ],
   "source": [
    "lic_compras_Dispensa_2018[lic_compras_Dispensa_2018['Tag'] == 1]['Total'].plot.box()\n",
    "plt.show()"
   ]
  },
  {
   "cell_type": "code",
   "execution_count": 46,
   "id": "e7f43e67",
   "metadata": {},
   "outputs": [
    {
     "data": {
      "text/plain": [
       "count    67597.000000\n",
       "mean      4188.949777\n",
       "std       4357.383015\n",
       "min          0.000000\n",
       "25%        938.300000\n",
       "50%       2500.000000\n",
       "75%       6037.000000\n",
       "max      17600.000000\n",
       "Name: Total, dtype: float64"
      ]
     },
     "execution_count": 46,
     "metadata": {},
     "output_type": "execute_result"
    }
   ],
   "source": [
    "lic_compras_Dispensa_2018[lic_compras_Dispensa_2018['Tag'] == 1]['Total'].describe()"
   ]
  },
  {
   "cell_type": "code",
   "execution_count": 47,
   "id": "7314c635",
   "metadata": {},
   "outputs": [
    {
     "data": {
      "image/png": "[encoded data removed]",
      "text/plain": [
       "<Figure size 432x288 with 1 Axes>"
      ]
     },
     "metadata": {
      "needs_background": "light"
     },
     "output_type": "display_data"
    }
   ],
   "source": [
    "lic_compras_Dispensa_2018[lic_compras_Dispensa_2018['Tag'] == 0]['Total'].plot.box()\n",
    "plt.show()"
   ]
  },
  {
   "cell_type": "code",
   "execution_count": 48,
   "id": "b1557b27",
   "metadata": {},
   "outputs": [
    {
     "data": {
      "text/plain": [
       "count    4.560000e+03\n",
       "mean     2.480859e+06\n",
       "std      3.401670e+07\n",
       "min      1.761433e+04\n",
       "25%      3.186395e+04\n",
       "50%      8.358712e+04\n",
       "75%      4.000000e+05\n",
       "max      1.549004e+09\n",
       "Name: Total, dtype: float64"
      ]
     },
     "execution_count": 48,
     "metadata": {},
     "output_type": "execute_result"
    }
   ],
   "source": [
    "lic_compras_Dispensa_2018[lic_compras_Dispensa_2018['Tag'] == 0]['Total'].describe()"
   ]
  },
  {
   "cell_type": "markdown",
   "id": "fb0d779d",
   "metadata": {},
   "source": [
    "## Tomada de Preço"
   ]
  },
  {
   "cell_type": "code",
   "execution_count": 49,
   "id": "619e9af2",
   "metadata": {},
   "outputs": [],
   "source": [
    "df_lic_2018_tomada_de_preco = df_lic_2018[df_lic_2018['Modalidade Compra'] == 'Tomada de Preços']"
   ]
  },
  {
   "cell_type": "code",
   "execution_count": 50,
   "id": "0b56010c",
   "metadata": {},
   "outputs": [
    {
     "data": {
      "text/plain": [
       "Tomada de Preços    529\n",
       "Name: Modalidade Compra, dtype: int64"
      ]
     },
     "execution_count": 50,
     "metadata": {},
     "output_type": "execute_result"
    }
   ],
   "source": [
    "df_lic_2018_tomada_de_preco['Modalidade Compra'].value_counts()"
   ]
  },
  {
   "cell_type": "code",
   "execution_count": 51,
   "id": "bbd9ff8b",
   "metadata": {},
   "outputs": [
    {
     "data": {
      "text/plain": [
       "Compras/Servicos    330\n",
       "Obras               199\n",
       "Name: Tipo, dtype: int64"
      ]
     },
     "execution_count": 51,
     "metadata": {},
     "output_type": "execute_result"
    }
   ],
   "source": [
    "df_lic_2018_tomada_de_preco['Tipo'].value_counts()"
   ]
  },
  {
   "cell_type": "code",
   "execution_count": 52,
   "id": "f37a5595",
   "metadata": {},
   "outputs": [],
   "source": [
    "lic_obras_tomada_de_preco_2018 = df_lic_2018_tomada_de_preco[df_lic_2018_tomada_de_preco['Tipo'] == 'Obras']\n",
    "lic_compras_tomada_de_preco_2018 = df_lic_2018_tomada_de_preco[df_lic_2018_tomada_de_preco['Tipo'] != 'Obras']"
   ]
  },
  {
   "cell_type": "code",
   "execution_count": 53,
   "id": "4940e973",
   "metadata": {},
   "outputs": [
    {
     "data": {
      "text/plain": [
       "Obras    199\n",
       "Name: Tipo, dtype: int64"
      ]
     },
     "execution_count": 53,
     "metadata": {},
     "output_type": "execute_result"
    }
   ],
   "source": [
    "lic_obras_tomada_de_preco_2018['Tipo'].value_counts()"
   ]
  },
  {
   "cell_type": "code",
   "execution_count": 54,
   "id": "80a31b2e",
   "metadata": {},
   "outputs": [
    {
     "data": {
      "text/plain": [
       "Compras/Servicos    330\n",
       "Name: Tipo, dtype: int64"
      ]
     },
     "execution_count": 54,
     "metadata": {},
     "output_type": "execute_result"
    }
   ],
   "source": [
    "lic_compras_tomada_de_preco_2018['Tipo'].value_counts()"
   ]
  },
  {
   "cell_type": "code",
   "execution_count": 55,
   "id": "23ee7db8",
   "metadata": {},
   "outputs": [
    {
     "name": "stderr",
     "output_type": "stream",
     "text": [
      "C:\\Users\\lrr\\AppData\\Local\\Temp/ipykernel_13072/4286322562.py:6: SettingWithCopyWarning: \n",
      "A value is trying to be set on a copy of a slice from a DataFrame.\n",
      "Try using .loc[row_indexer,col_indexer] = value instead\n",
      "\n",
      "See the caveats in the documentation: https://pandas.pydata.org/pandas-docs/stable/user_guide/indexing.html#returning-a-view-versus-a-copy\n",
      "  lic_obras_tomada_de_preco_2018['Tag'] = 0\n",
      "C:\\Users\\lrr\\AppData\\Local\\Temp/ipykernel_13072/4286322562.py:7: SettingWithCopyWarning: \n",
      "A value is trying to be set on a copy of a slice from a DataFrame.\n",
      "Try using .loc[row_indexer,col_indexer] = value instead\n",
      "\n",
      "See the caveats in the documentation: https://pandas.pydata.org/pandas-docs/stable/user_guide/indexing.html#returning-a-view-versus-a-copy\n",
      "  lic_compras_tomada_de_preco_2018['Tag'] = 0\n",
      "C:\\Users\\lrr\\anaconda3\\lib\\site-packages\\pandas\\core\\indexing.py:1817: SettingWithCopyWarning: \n",
      "A value is trying to be set on a copy of a slice from a DataFrame.\n",
      "Try using .loc[row_indexer,col_indexer] = value instead\n",
      "\n",
      "See the caveats in the documentation: https://pandas.pydata.org/pandas-docs/stable/user_guide/indexing.html#returning-a-view-versus-a-copy\n",
      "  self._setitem_single_column(loc, value, pi)\n"
     ]
    }
   ],
   "source": [
    "## Tag'ando como legal ou ilegal de acordo com Decreto nº 9.412, de 18 de Junho de 2018\n",
    "\n",
    "#### 0: ilegal\n",
    "#### 1: legal\n",
    "\n",
    "lic_obras_tomada_de_preco_2018['Tag'] = 0\n",
    "lic_compras_tomada_de_preco_2018['Tag'] = 0\n",
    "\n",
    "#regra de limite de valor\n",
    "lic_obras_tomada_de_preco_2018.loc[(lic_obras_tomada_de_preco_2018['Total'] >  330000) & (lic_obras_tomada_de_preco_2018['Total'] <=   3300000) , 'Tag'] = 1\n",
    "lic_compras_tomada_de_preco_2018.loc[(lic_compras_tomada_de_preco_2018['Total'] >  176000) & (lic_compras_tomada_de_preco_2018['Total'] <=  1400000), 'Tag'] = 1"
   ]
  },
  {
   "cell_type": "code",
   "execution_count": 56,
   "id": "b7f0c500",
   "metadata": {},
   "outputs": [
    {
     "data": {
      "text/plain": [
       "1    103\n",
       "0     96\n",
       "Name: Tag, dtype: int64"
      ]
     },
     "execution_count": 56,
     "metadata": {},
     "output_type": "execute_result"
    }
   ],
   "source": [
    "lic_obras_tomada_de_preco_2018['Tag'].value_counts()"
   ]
  },
  {
   "cell_type": "code",
   "execution_count": 57,
   "id": "57dd025c",
   "metadata": {},
   "outputs": [
    {
     "data": {
      "image/png": "[encoded data removed]",
      "text/plain": [
       "<Figure size 432x288 with 1 Axes>"
      ]
     },
     "metadata": {
      "needs_background": "light"
     },
     "output_type": "display_data"
    }
   ],
   "source": [
    "lic_obras_tomada_de_preco_2018[lic_obras_tomada_de_preco_2018['Tag'] == 1]['Total'].plot.box()\n",
    "plt.show()"
   ]
  },
  {
   "cell_type": "code",
   "execution_count": 58,
   "id": "eec8a10d",
   "metadata": {},
   "outputs": [
    {
     "data": {
      "text/plain": [
       "count    1.030000e+02\n",
       "mean     8.388796e+05\n",
       "std      5.172125e+05\n",
       "min      3.303021e+05\n",
       "25%      4.749311e+05\n",
       "50%      6.453852e+05\n",
       "75%      1.068229e+06\n",
       "max      3.056225e+06\n",
       "Name: Total, dtype: float64"
      ]
     },
     "execution_count": 58,
     "metadata": {},
     "output_type": "execute_result"
    }
   ],
   "source": [
    "lic_obras_tomada_de_preco_2018[lic_obras_tomada_de_preco_2018['Tag'] == 1]['Total'].describe()"
   ]
  },
  {
   "cell_type": "code",
   "execution_count": 59,
   "id": "1f687ee8",
   "metadata": {},
   "outputs": [
    {
     "data": {
      "image/png": "[encoded data removed]",
      "text/plain": [
       "<Figure size 432x288 with 1 Axes>"
      ]
     },
     "metadata": {
      "needs_background": "light"
     },
     "output_type": "display_data"
    }
   ],
   "source": [
    "lic_obras_tomada_de_preco_2018[lic_obras_tomada_de_preco_2018['Tag'] == 0]['Total'].plot.box()\n",
    "plt.show()"
   ]
  },
  {
   "cell_type": "code",
   "execution_count": 60,
   "id": "ae6136a7",
   "metadata": {},
   "outputs": [
    {
     "data": {
      "text/plain": [
       "1    206\n",
       "0    124\n",
       "Name: Tag, dtype: int64"
      ]
     },
     "execution_count": 60,
     "metadata": {},
     "output_type": "execute_result"
    }
   ],
   "source": [
    "lic_compras_tomada_de_preco_2018['Tag'].value_counts()"
   ]
  },
  {
   "cell_type": "code",
   "execution_count": 61,
   "id": "24f3fab4",
   "metadata": {},
   "outputs": [
    {
     "data": {
      "text/plain": [
       "count    2.060000e+02\n",
       "mean     5.268494e+05\n",
       "std      2.985093e+05\n",
       "min      1.774304e+05\n",
       "25%      2.859337e+05\n",
       "50%      4.371683e+05\n",
       "75%      7.249722e+05\n",
       "max      1.339413e+06\n",
       "Name: Total, dtype: float64"
      ]
     },
     "execution_count": 61,
     "metadata": {},
     "output_type": "execute_result"
    }
   ],
   "source": [
    "# Licitaçoes Legais\n",
    "lic_compras_tomada_de_preco_2018[lic_compras_tomada_de_preco_2018['Tag'] == 1]['Total'].describe()"
   ]
  },
  {
   "cell_type": "code",
   "execution_count": 62,
   "id": "629b229e",
   "metadata": {},
   "outputs": [
    {
     "data": {
      "text/plain": [
       "count    2.060000e+02\n",
       "mean     5.268494e+05\n",
       "std      2.985093e+05\n",
       "min      1.774304e+05\n",
       "25%      2.859337e+05\n",
       "50%      4.371683e+05\n",
       "75%      7.249722e+05\n",
       "max      1.339413e+06\n",
       "Name: Total, dtype: float64"
      ]
     },
     "execution_count": 62,
     "metadata": {},
     "output_type": "execute_result"
    }
   ],
   "source": [
    "lic_compras_tomada_de_preco_2018[lic_compras_tomada_de_preco_2018['Tag'] == 1]['Total'].describe()"
   ]
  },
  {
   "cell_type": "code",
   "execution_count": 63,
   "id": "47815015",
   "metadata": {},
   "outputs": [
    {
     "data": {
      "image/png": "[encoded data removed]",
      "text/plain": [
       "<Figure size 432x288 with 1 Axes>"
      ]
     },
     "metadata": {
      "needs_background": "light"
     },
     "output_type": "display_data"
    }
   ],
   "source": [
    "# Licitações Ilegais\n",
    "lic_compras_tomada_de_preco_2018[lic_compras_tomada_de_preco_2018['Tag'] == 0]['Total'].plot.box()\n",
    "plt.show()"
   ]
  },
  {
   "cell_type": "code",
   "execution_count": 64,
   "id": "fc578728",
   "metadata": {},
   "outputs": [
    {
     "data": {
      "text/plain": [
       "count    1.240000e+02\n",
       "mean     5.401918e+05\n",
       "std      8.263586e+05\n",
       "min      0.000000e+00\n",
       "25%      5.674750e+04\n",
       "50%      1.187668e+05\n",
       "75%      1.725145e+05\n",
       "max      2.617185e+06\n",
       "Name: Total, dtype: float64"
      ]
     },
     "execution_count": 64,
     "metadata": {},
     "output_type": "execute_result"
    }
   ],
   "source": [
    "lic_compras_tomada_de_preco_2018[lic_compras_tomada_de_preco_2018['Tag'] == 0]['Total'].describe()"
   ]
  },
  {
   "cell_type": "markdown",
   "id": "66c93fb9",
   "metadata": {},
   "source": [
    "## Convite"
   ]
  },
  {
   "cell_type": "code",
   "execution_count": 65,
   "id": "7ece623e",
   "metadata": {},
   "outputs": [],
   "source": [
    "df_lic_2018_convite = df_lic_2018[df_lic_2018['Modalidade Compra'] == 'Convite']"
   ]
  },
  {
   "cell_type": "code",
   "execution_count": 66,
   "id": "ea4f48e5",
   "metadata": {},
   "outputs": [
    {
     "data": {
      "text/plain": [
       "Convite    96\n",
       "Name: Modalidade Compra, dtype: int64"
      ]
     },
     "execution_count": 66,
     "metadata": {},
     "output_type": "execute_result"
    }
   ],
   "source": [
    "df_lic_2018_convite['Modalidade Compra'].value_counts()"
   ]
  },
  {
   "cell_type": "code",
   "execution_count": 67,
   "id": "04da289e",
   "metadata": {},
   "outputs": [
    {
     "data": {
      "text/plain": [
       "Compras/Servicos    61\n",
       "Obras               35\n",
       "Name: Tipo, dtype: int64"
      ]
     },
     "execution_count": 67,
     "metadata": {},
     "output_type": "execute_result"
    }
   ],
   "source": [
    "df_lic_2018_convite['Tipo'].value_counts()"
   ]
  },
  {
   "cell_type": "code",
   "execution_count": 68,
   "id": "abe7ad91",
   "metadata": {},
   "outputs": [],
   "source": [
    "lic_compras_convite_2018 = df_lic_2018_convite[df_lic_2018_convite['Tipo'] != 'Obras']\n",
    "lic_obras_convite_2018 = df_lic_2018_convite[df_lic_2018_convite['Tipo'] == 'Obras']"
   ]
  },
  {
   "cell_type": "code",
   "execution_count": 69,
   "id": "fe059402",
   "metadata": {},
   "outputs": [
    {
     "data": {
      "text/plain": [
       "Compras/Servicos    61\n",
       "Name: Tipo, dtype: int64"
      ]
     },
     "execution_count": 69,
     "metadata": {},
     "output_type": "execute_result"
    }
   ],
   "source": [
    "lic_compras_convite_2018['Tipo'].value_counts()"
   ]
  },
  {
   "cell_type": "code",
   "execution_count": 70,
   "id": "fd942af3",
   "metadata": {},
   "outputs": [
    {
     "data": {
      "text/plain": [
       "Obras    35\n",
       "Name: Tipo, dtype: int64"
      ]
     },
     "execution_count": 70,
     "metadata": {},
     "output_type": "execute_result"
    }
   ],
   "source": [
    "lic_obras_convite_2018['Tipo'].value_counts()"
   ]
  },
  {
   "cell_type": "code",
   "execution_count": 71,
   "id": "760cbc94",
   "metadata": {},
   "outputs": [
    {
     "name": "stderr",
     "output_type": "stream",
     "text": [
      "C:\\Users\\lrr\\AppData\\Local\\Temp/ipykernel_13072/4235792873.py:6: SettingWithCopyWarning: \n",
      "A value is trying to be set on a copy of a slice from a DataFrame.\n",
      "Try using .loc[row_indexer,col_indexer] = value instead\n",
      "\n",
      "See the caveats in the documentation: https://pandas.pydata.org/pandas-docs/stable/user_guide/indexing.html#returning-a-view-versus-a-copy\n",
      "  lic_compras_convite_2018['Tag'] = 0\n",
      "C:\\Users\\lrr\\AppData\\Local\\Temp/ipykernel_13072/4235792873.py:7: SettingWithCopyWarning: \n",
      "A value is trying to be set on a copy of a slice from a DataFrame.\n",
      "Try using .loc[row_indexer,col_indexer] = value instead\n",
      "\n",
      "See the caveats in the documentation: https://pandas.pydata.org/pandas-docs/stable/user_guide/indexing.html#returning-a-view-versus-a-copy\n",
      "  lic_obras_convite_2018['Tag'] = 0\n",
      "C:\\Users\\lrr\\anaconda3\\lib\\site-packages\\pandas\\core\\indexing.py:1817: SettingWithCopyWarning: \n",
      "A value is trying to be set on a copy of a slice from a DataFrame.\n",
      "Try using .loc[row_indexer,col_indexer] = value instead\n",
      "\n",
      "See the caveats in the documentation: https://pandas.pydata.org/pandas-docs/stable/user_guide/indexing.html#returning-a-view-versus-a-copy\n",
      "  self._setitem_single_column(loc, value, pi)\n"
     ]
    }
   ],
   "source": [
    "## Tag'ando como legal ou ilegal de acordo com Decreto nº 9.412, de 18 de Junho de 2018\n",
    "\n",
    "#### 0: ilegal\n",
    "#### 1: legal\n",
    "\n",
    "lic_compras_convite_2018['Tag'] = 0\n",
    "lic_obras_convite_2018['Tag'] = 0\n",
    "\n",
    "#regra de limite de valor\n",
    "lic_compras_convite_2018.loc[(lic_compras_convite_2018['Total'] >  17600) & (lic_compras_convite_2018['Total'] <=   176000) , 'Tag'] = 1\n",
    "lic_obras_convite_2018.loc[(lic_obras_convite_2018['Total'] >  33000) & (lic_obras_convite_2018['Total'] <=   330000), 'Tag'] = 1\n"
   ]
  },
  {
   "cell_type": "code",
   "execution_count": 72,
   "id": "62136ea9",
   "metadata": {},
   "outputs": [
    {
     "data": {
      "text/plain": [
       "1    48\n",
       "0    13\n",
       "Name: Tag, dtype: int64"
      ]
     },
     "execution_count": 72,
     "metadata": {},
     "output_type": "execute_result"
    }
   ],
   "source": [
    "lic_compras_convite_2018['Tag'].value_counts()"
   ]
  },
  {
   "cell_type": "code",
   "execution_count": 73,
   "id": "e4b9004c",
   "metadata": {},
   "outputs": [
    {
     "data": {
      "image/png": "[encoded data removed]",
      "text/plain": [
       "<Figure size 432x288 with 1 Axes>"
      ]
     },
     "metadata": {
      "needs_background": "light"
     },
     "output_type": "display_data"
    }
   ],
   "source": [
    "lic_compras_convite_2018[lic_compras_convite_2018['Tag'] == 1]['Total'].plot.box()\n",
    "plt.show()"
   ]
  },
  {
   "cell_type": "code",
   "execution_count": 74,
   "id": "afdbe65c",
   "metadata": {},
   "outputs": [
    {
     "data": {
      "text/plain": [
       "count        48.000000\n",
       "mean      83455.686458\n",
       "std       41452.060278\n",
       "min       18999.000000\n",
       "25%       42039.625000\n",
       "50%       79978.515000\n",
       "75%      116000.870000\n",
       "max      172441.540000\n",
       "Name: Total, dtype: float64"
      ]
     },
     "execution_count": 74,
     "metadata": {},
     "output_type": "execute_result"
    }
   ],
   "source": [
    "lic_compras_convite_2018[lic_compras_convite_2018['Tag'] == 1]['Total'].describe()"
   ]
  },
  {
   "cell_type": "code",
   "execution_count": 75,
   "id": "96f71179",
   "metadata": {},
   "outputs": [
    {
     "data": {
      "image/png": "[encoded data removed]",
      "text/plain": [
       "<Figure size 432x288 with 1 Axes>"
      ]
     },
     "metadata": {
      "needs_background": "light"
     },
     "output_type": "display_data"
    }
   ],
   "source": [
    "lic_compras_convite_2018[lic_compras_convite_2018['Tag'] == 0]['Total'].plot.box()\n",
    "plt.show()"
   ]
  },
  {
   "cell_type": "code",
   "execution_count": 76,
   "id": "4ada8790",
   "metadata": {},
   "outputs": [
    {
     "data": {
      "text/plain": [
       "count        13.000000\n",
       "mean     153774.155385\n",
       "std      102730.401805\n",
       "min          83.050000\n",
       "25%       16598.220000\n",
       "50%      194247.890000\n",
       "75%      235309.290000\n",
       "max      259768.320000\n",
       "Name: Total, dtype: float64"
      ]
     },
     "execution_count": 76,
     "metadata": {},
     "output_type": "execute_result"
    }
   ],
   "source": [
    "lic_compras_convite_2018[lic_compras_convite_2018['Tag'] == 0]['Total'].describe()"
   ]
  },
  {
   "cell_type": "code",
   "execution_count": 77,
   "id": "b0a8fd2f",
   "metadata": {},
   "outputs": [
    {
     "data": {
      "text/plain": [
       "1    28\n",
       "0     7\n",
       "Name: Tag, dtype: int64"
      ]
     },
     "execution_count": 77,
     "metadata": {},
     "output_type": "execute_result"
    }
   ],
   "source": [
    "lic_obras_convite_2018['Tag'].value_counts()"
   ]
  },
  {
   "cell_type": "code",
   "execution_count": 78,
   "id": "9bb2c449",
   "metadata": {},
   "outputs": [
    {
     "data": {
      "image/png": "[encoded data removed]",
      "text/plain": [
       "<Figure size 432x288 with 1 Axes>"
      ]
     },
     "metadata": {
      "needs_background": "light"
     },
     "output_type": "display_data"
    }
   ],
   "source": [
    "lic_obras_convite_2018[lic_obras_convite_2018['Tag'] == 1]['Total'].plot.box()\n",
    "plt.show()"
   ]
  },
  {
   "cell_type": "code",
   "execution_count": 79,
   "id": "51ab466c",
   "metadata": {},
   "outputs": [
    {
     "data": {
      "text/plain": [
       "count        28.000000\n",
       "mean     131196.727143\n",
       "std       66763.710899\n",
       "min       40088.130000\n",
       "25%       69023.397500\n",
       "50%      126214.060000\n",
       "75%      172744.262500\n",
       "max      257141.800000\n",
       "Name: Total, dtype: float64"
      ]
     },
     "execution_count": 79,
     "metadata": {},
     "output_type": "execute_result"
    }
   ],
   "source": [
    "lic_obras_convite_2018[lic_obras_convite_2018['Tag'] == 1]['Total'].describe()"
   ]
  },
  {
   "cell_type": "code",
   "execution_count": 80,
   "id": "e2ed3d7d",
   "metadata": {},
   "outputs": [
    {
     "data": {
      "image/png": "[encoded data removed]",
      "text/plain": [
       "<Figure size 432x288 with 1 Axes>"
      ]
     },
     "metadata": {
      "needs_background": "light"
     },
     "output_type": "display_data"
    }
   ],
   "source": [
    "lic_obras_convite_2018[lic_obras_convite_2018['Tag'] == 0]['Total'].plot.box()\n",
    "plt.show()"
   ]
  },
  {
   "cell_type": "code",
   "execution_count": 81,
   "id": "b118cbae",
   "metadata": {},
   "outputs": [
    {
     "data": {
      "text/plain": [
       "count        7.000000\n",
       "mean     21845.615714\n",
       "std       7246.367196\n",
       "min      14053.430000\n",
       "25%      16276.825000\n",
       "50%      20230.120000\n",
       "75%      26588.335000\n",
       "max      32905.440000\n",
       "Name: Total, dtype: float64"
      ]
     },
     "execution_count": 81,
     "metadata": {},
     "output_type": "execute_result"
    }
   ],
   "source": [
    "lic_obras_convite_2018[lic_obras_convite_2018['Tag'] == 0]['Total'].describe()"
   ]
  },
  {
   "cell_type": "markdown",
   "id": "13b0dd5c",
   "metadata": {},
   "source": [
    "### As modalidades abaixo não possuem uma regra bem definida para os valores de Licitação. Dessa forma, será atribuido a tag legal como padrão."
   ]
  },
  {
   "cell_type": "markdown",
   "id": "f137ebc4",
   "metadata": {},
   "source": [
    "## Pregão"
   ]
  },
  {
   "cell_type": "code",
   "execution_count": 82,
   "id": "e760f35e",
   "metadata": {},
   "outputs": [],
   "source": [
    "df_lic_2018_Pregao = df_lic_2018[df_lic_2018['Modalidade Compra'] == 'Pregão']"
   ]
  },
  {
   "cell_type": "code",
   "execution_count": 83,
   "id": "bca4a79b",
   "metadata": {},
   "outputs": [
    {
     "data": {
      "text/plain": [
       "Pregão    11609\n",
       "Name: Modalidade Compra, dtype: int64"
      ]
     },
     "execution_count": 83,
     "metadata": {},
     "output_type": "execute_result"
    }
   ],
   "source": [
    "df_lic_2018_Pregao['Modalidade Compra'].value_counts()"
   ]
  },
  {
   "cell_type": "code",
   "execution_count": 84,
   "id": "f49479ba",
   "metadata": {},
   "outputs": [
    {
     "data": {
      "text/plain": [
       "Compras/Servicos    10575\n",
       "Obras                1034\n",
       "Name: Tipo, dtype: int64"
      ]
     },
     "execution_count": 84,
     "metadata": {},
     "output_type": "execute_result"
    }
   ],
   "source": [
    "df_lic_2018_Pregao['Tipo'].value_counts()"
   ]
  },
  {
   "cell_type": "code",
   "execution_count": 85,
   "id": "5f01cb2f",
   "metadata": {},
   "outputs": [],
   "source": [
    "# Separando a modalidade em Obras e Compras/Serviços\n",
    "lic_obras_Pregao_2018 = df_lic_2018_Pregao[df_lic_2018_Pregao['Tipo'] == 'Obras']\n",
    "lic_compras_Pregao_2018 = df_lic_2018_Pregao[df_lic_2018_Pregao['Tipo'] != 'Obras']"
   ]
  },
  {
   "cell_type": "code",
   "execution_count": 86,
   "id": "0e7f3414",
   "metadata": {},
   "outputs": [
    {
     "data": {
      "text/plain": [
       "Obras    1034\n",
       "Name: Tipo, dtype: int64"
      ]
     },
     "execution_count": 86,
     "metadata": {},
     "output_type": "execute_result"
    }
   ],
   "source": [
    "lic_obras_Pregao_2018['Tipo'].value_counts()"
   ]
  },
  {
   "cell_type": "code",
   "execution_count": 87,
   "id": "3a54fa3d",
   "metadata": {},
   "outputs": [
    {
     "data": {
      "image/png": "[encoded data removed]",
      "text/plain": [
       "<Figure size 432x288 with 1 Axes>"
      ]
     },
     "metadata": {
      "needs_background": "light"
     },
     "output_type": "display_data"
    }
   ],
   "source": [
    "lic_obras_Pregao_2018['Total'].plot.box()\n",
    "plt.show()"
   ]
  },
  {
   "cell_type": "code",
   "execution_count": 88,
   "id": "983b3606",
   "metadata": {},
   "outputs": [
    {
     "data": {
      "text/plain": [
       "count    1.034000e+03\n",
       "mean     9.362342e+05\n",
       "std      3.897006e+06\n",
       "min      0.000000e+00\n",
       "25%      4.602500e+04\n",
       "50%      1.499049e+05\n",
       "75%      5.225229e+05\n",
       "max      6.196085e+07\n",
       "Name: Total, dtype: float64"
      ]
     },
     "execution_count": 88,
     "metadata": {},
     "output_type": "execute_result"
    }
   ],
   "source": [
    "lic_obras_Pregao_2018['Total'].describe()"
   ]
  },
  {
   "cell_type": "code",
   "execution_count": 89,
   "id": "bd175aac",
   "metadata": {},
   "outputs": [
    {
     "data": {
      "text/plain": [
       "Compras/Servicos    10575\n",
       "Name: Tipo, dtype: int64"
      ]
     },
     "execution_count": 89,
     "metadata": {},
     "output_type": "execute_result"
    }
   ],
   "source": [
    "lic_compras_Pregao_2018['Tipo'].value_counts()"
   ]
  },
  {
   "cell_type": "code",
   "execution_count": 90,
   "id": "1c1cdb64",
   "metadata": {},
   "outputs": [
    {
     "data": {
      "text/plain": [
       "<AxesSubplot:>"
      ]
     },
     "execution_count": 90,
     "metadata": {},
     "output_type": "execute_result"
    },
    {
     "data": {
      "image/png": "[encoded data removed]",
      "text/plain": [
       "<Figure size 432x288 with 1 Axes>"
      ]
     },
     "metadata": {
      "needs_background": "light"
     },
     "output_type": "display_data"
    }
   ],
   "source": [
    "lic_compras_Pregao_2018['Total'].plot.box()"
   ]
  },
  {
   "cell_type": "code",
   "execution_count": 91,
   "id": "f451a49d",
   "metadata": {},
   "outputs": [
    {
     "data": {
      "text/plain": [
       "count    1.057500e+04\n",
       "mean     7.618533e+05\n",
       "std      6.131122e+06\n",
       "min      0.000000e+00\n",
       "25%      1.260000e+04\n",
       "50%      4.783383e+04\n",
       "75%      1.999200e+05\n",
       "max      2.793588e+08\n",
       "Name: Total, dtype: float64"
      ]
     },
     "execution_count": 91,
     "metadata": {},
     "output_type": "execute_result"
    }
   ],
   "source": [
    "lic_compras_Pregao_2018['Total'].describe()"
   ]
  },
  {
   "cell_type": "code",
   "execution_count": 92,
   "id": "809f9d85",
   "metadata": {},
   "outputs": [
    {
     "name": "stderr",
     "output_type": "stream",
     "text": [
      "C:\\Users\\lrr\\AppData\\Local\\Temp/ipykernel_13072/3567924210.py:5: SettingWithCopyWarning: \n",
      "A value is trying to be set on a copy of a slice from a DataFrame.\n",
      "Try using .loc[row_indexer,col_indexer] = value instead\n",
      "\n",
      "See the caveats in the documentation: https://pandas.pydata.org/pandas-docs/stable/user_guide/indexing.html#returning-a-view-versus-a-copy\n",
      "  lic_obras_Pregao_2018['Tag'] = 1\n",
      "C:\\Users\\lrr\\AppData\\Local\\Temp/ipykernel_13072/3567924210.py:6: SettingWithCopyWarning: \n",
      "A value is trying to be set on a copy of a slice from a DataFrame.\n",
      "Try using .loc[row_indexer,col_indexer] = value instead\n",
      "\n",
      "See the caveats in the documentation: https://pandas.pydata.org/pandas-docs/stable/user_guide/indexing.html#returning-a-view-versus-a-copy\n",
      "  lic_compras_Pregao_2018['Tag'] = 1\n"
     ]
    }
   ],
   "source": [
    "## Tag'ando como legal já que não existe uma regra bem definida para a modalidade Pregão\n",
    "\n",
    "#### 0: ilegal\n",
    "#### 1: legal\n",
    "lic_obras_Pregao_2018['Tag'] = 1\n",
    "lic_compras_Pregao_2018['Tag'] = 1"
   ]
  },
  {
   "cell_type": "code",
   "execution_count": 93,
   "id": "a4035f04",
   "metadata": {},
   "outputs": [
    {
     "data": {
      "text/plain": [
       "1    1034\n",
       "Name: Tag, dtype: int64"
      ]
     },
     "execution_count": 93,
     "metadata": {},
     "output_type": "execute_result"
    }
   ],
   "source": [
    "lic_obras_Pregao_2018['Tag'].value_counts()"
   ]
  },
  {
   "cell_type": "code",
   "execution_count": 94,
   "id": "537c197b",
   "metadata": {},
   "outputs": [
    {
     "data": {
      "text/plain": [
       "1    10575\n",
       "Name: Tag, dtype: int64"
      ]
     },
     "execution_count": 94,
     "metadata": {},
     "output_type": "execute_result"
    }
   ],
   "source": [
    "lic_compras_Pregao_2018['Tag'].value_counts()"
   ]
  },
  {
   "cell_type": "markdown",
   "id": "37ebfe7a",
   "metadata": {},
   "source": [
    "## Inexigibilidade de Licitação "
   ]
  },
  {
   "cell_type": "code",
   "execution_count": 95,
   "id": "7bd217bf",
   "metadata": {},
   "outputs": [],
   "source": [
    "df_lic_2018_Inex_2018 = df_lic_2018[df_lic_2018['Modalidade Compra'] == 'Inexigibilidade de Licitação']"
   ]
  },
  {
   "cell_type": "code",
   "execution_count": 96,
   "id": "8787a740",
   "metadata": {},
   "outputs": [
    {
     "data": {
      "text/plain": [
       "Inexigibilidade de Licitação    14486\n",
       "Name: Modalidade Compra, dtype: int64"
      ]
     },
     "execution_count": 96,
     "metadata": {},
     "output_type": "execute_result"
    }
   ],
   "source": [
    "df_lic_2018_Inex_2018['Modalidade Compra'].value_counts()"
   ]
  },
  {
   "cell_type": "code",
   "execution_count": 97,
   "id": "350ed2b2",
   "metadata": {},
   "outputs": [
    {
     "data": {
      "text/plain": [
       "Compras/Servicos    14161\n",
       "Obras                 325\n",
       "Name: Tipo, dtype: int64"
      ]
     },
     "execution_count": 97,
     "metadata": {},
     "output_type": "execute_result"
    }
   ],
   "source": [
    "df_lic_2018_Inex_2018['Tipo'].value_counts()"
   ]
  },
  {
   "cell_type": "code",
   "execution_count": 98,
   "id": "b8fb7e78",
   "metadata": {},
   "outputs": [],
   "source": [
    "# Separando a modalidade em Obras e Compras/Serviços\n",
    "lic_obras_Inex_2018 = df_lic_2018_Inex_2018[df_lic_2018_Inex_2018['Tipo'] == 'Obras']\n",
    "lic_compras_Inex_2018 = df_lic_2018_Inex_2018[df_lic_2018_Inex_2018['Tipo'] != 'Obras']"
   ]
  },
  {
   "cell_type": "code",
   "execution_count": 99,
   "id": "7800f0eb",
   "metadata": {},
   "outputs": [
    {
     "data": {
      "text/plain": [
       "Obras    325\n",
       "Name: Tipo, dtype: int64"
      ]
     },
     "execution_count": 99,
     "metadata": {},
     "output_type": "execute_result"
    }
   ],
   "source": [
    "lic_obras_Inex_2018['Tipo'].value_counts()"
   ]
  },
  {
   "cell_type": "code",
   "execution_count": 100,
   "id": "1261d813",
   "metadata": {},
   "outputs": [
    {
     "data": {
      "image/png": "[encoded data removed]",
      "text/plain": [
       "<Figure size 432x288 with 1 Axes>"
      ]
     },
     "metadata": {
      "needs_background": "light"
     },
     "output_type": "display_data"
    }
   ],
   "source": [
    "lic_obras_Inex_2018['Total'].plot.box()\n",
    "plt.show()"
   ]
  },
  {
   "cell_type": "code",
   "execution_count": 101,
   "id": "0f4bc27b",
   "metadata": {},
   "outputs": [
    {
     "data": {
      "text/plain": [
       "count    3.250000e+02\n",
       "mean     6.565760e+05\n",
       "std      1.050316e+06\n",
       "min      1.000000e-02\n",
       "25%      4.000000e+03\n",
       "50%      2.152793e+05\n",
       "75%      1.077328e+06\n",
       "max      1.050000e+07\n",
       "Name: Total, dtype: float64"
      ]
     },
     "execution_count": 101,
     "metadata": {},
     "output_type": "execute_result"
    }
   ],
   "source": [
    "lic_obras_Inex_2018['Total'].describe()"
   ]
  },
  {
   "cell_type": "code",
   "execution_count": 102,
   "id": "b0a1cbda",
   "metadata": {},
   "outputs": [
    {
     "data": {
      "text/plain": [
       "Compras/Servicos    14161\n",
       "Name: Tipo, dtype: int64"
      ]
     },
     "execution_count": 102,
     "metadata": {},
     "output_type": "execute_result"
    }
   ],
   "source": [
    "lic_compras_Inex_2018['Tipo'].value_counts()"
   ]
  },
  {
   "cell_type": "code",
   "execution_count": 103,
   "id": "2a10f783",
   "metadata": {},
   "outputs": [
    {
     "data": {
      "text/plain": [
       "<AxesSubplot:>"
      ]
     },
     "execution_count": 103,
     "metadata": {},
     "output_type": "execute_result"
    },
    {
     "data": {
      "image/png": "[encoded data removed]",
      "text/plain": [
       "<Figure size 432x288 with 1 Axes>"
      ]
     },
     "metadata": {
      "needs_background": "light"
     },
     "output_type": "display_data"
    }
   ],
   "source": [
    "lic_compras_Inex_2018['Total'].plot.box()"
   ]
  },
  {
   "cell_type": "code",
   "execution_count": 104,
   "id": "dec5443e",
   "metadata": {},
   "outputs": [
    {
     "data": {
      "text/plain": [
       "count    1.416100e+04\n",
       "mean     5.357749e+05\n",
       "std      8.584033e+06\n",
       "min      1.000000e-02\n",
       "25%      1.428000e+03\n",
       "50%      5.000000e+03\n",
       "75%      2.676932e+04\n",
       "max      5.987247e+08\n",
       "Name: Total, dtype: float64"
      ]
     },
     "execution_count": 104,
     "metadata": {},
     "output_type": "execute_result"
    }
   ],
   "source": [
    "lic_compras_Inex_2018['Total'].describe()"
   ]
  },
  {
   "cell_type": "code",
   "execution_count": 105,
   "id": "f9069dd7",
   "metadata": {},
   "outputs": [
    {
     "name": "stderr",
     "output_type": "stream",
     "text": [
      "C:\\Users\\lrr\\AppData\\Local\\Temp/ipykernel_13072/1411772937.py:5: SettingWithCopyWarning: \n",
      "A value is trying to be set on a copy of a slice from a DataFrame.\n",
      "Try using .loc[row_indexer,col_indexer] = value instead\n",
      "\n",
      "See the caveats in the documentation: https://pandas.pydata.org/pandas-docs/stable/user_guide/indexing.html#returning-a-view-versus-a-copy\n",
      "  lic_obras_Inex_2018['Tag'] = 1\n",
      "C:\\Users\\lrr\\AppData\\Local\\Temp/ipykernel_13072/1411772937.py:6: SettingWithCopyWarning: \n",
      "A value is trying to be set on a copy of a slice from a DataFrame.\n",
      "Try using .loc[row_indexer,col_indexer] = value instead\n",
      "\n",
      "See the caveats in the documentation: https://pandas.pydata.org/pandas-docs/stable/user_guide/indexing.html#returning-a-view-versus-a-copy\n",
      "  lic_compras_Inex_2018['Tag'] = 1\n"
     ]
    }
   ],
   "source": [
    "## Tag'ando como legal já que não existe uma regra bem definida para esta modalidade\n",
    "\n",
    "#### 0: ilegal\n",
    "#### 1: legal\n",
    "lic_obras_Inex_2018['Tag'] = 1\n",
    "lic_compras_Inex_2018['Tag'] = 1"
   ]
  },
  {
   "cell_type": "code",
   "execution_count": 106,
   "id": "26b50f39",
   "metadata": {},
   "outputs": [
    {
     "data": {
      "text/plain": [
       "1    325\n",
       "Name: Tag, dtype: int64"
      ]
     },
     "execution_count": 106,
     "metadata": {},
     "output_type": "execute_result"
    }
   ],
   "source": [
    "lic_obras_Inex_2018['Tag'].value_counts()"
   ]
  },
  {
   "cell_type": "code",
   "execution_count": 107,
   "id": "6d75d21b",
   "metadata": {},
   "outputs": [
    {
     "data": {
      "text/plain": [
       "1    14161\n",
       "Name: Tag, dtype: int64"
      ]
     },
     "execution_count": 107,
     "metadata": {},
     "output_type": "execute_result"
    }
   ],
   "source": [
    "lic_compras_Inex_2018['Tag'].value_counts()"
   ]
  },
  {
   "cell_type": "markdown",
   "id": "f05a0258",
   "metadata": {},
   "source": [
    "## Concurso"
   ]
  },
  {
   "cell_type": "code",
   "execution_count": 108,
   "id": "3007b86e",
   "metadata": {},
   "outputs": [],
   "source": [
    "df_lic_2018_concurso = df_lic_2018[df_lic_2018['Modalidade Compra'] == 'Concurso']"
   ]
  },
  {
   "cell_type": "code",
   "execution_count": 109,
   "id": "fc504d0a",
   "metadata": {},
   "outputs": [
    {
     "data": {
      "text/plain": [
       "Concurso    18\n",
       "Name: Modalidade Compra, dtype: int64"
      ]
     },
     "execution_count": 109,
     "metadata": {},
     "output_type": "execute_result"
    }
   ],
   "source": [
    "df_lic_2018_concurso['Modalidade Compra'].value_counts()"
   ]
  },
  {
   "cell_type": "code",
   "execution_count": 110,
   "id": "069f994f",
   "metadata": {},
   "outputs": [
    {
     "data": {
      "text/plain": [
       "Compras/Servicos    17\n",
       "Obras                1\n",
       "Name: Tipo, dtype: int64"
      ]
     },
     "execution_count": 110,
     "metadata": {},
     "output_type": "execute_result"
    }
   ],
   "source": [
    "df_lic_2018_concurso['Tipo'].value_counts()"
   ]
  },
  {
   "cell_type": "code",
   "execution_count": 111,
   "id": "6619003c",
   "metadata": {},
   "outputs": [],
   "source": [
    "# Separando a modalidade em Obras e Compras/Serviços\n",
    "lic_obras_concurso_2018 = df_lic_2018_concurso[df_lic_2018_concurso['Tipo'] == 'Obras']\n",
    "lic_compras_concurso_2018 = df_lic_2018_concurso[df_lic_2018_concurso['Tipo'] != 'Obras']"
   ]
  },
  {
   "cell_type": "code",
   "execution_count": 112,
   "id": "34019b42",
   "metadata": {},
   "outputs": [
    {
     "data": {
      "text/plain": [
       "Obras    1\n",
       "Name: Tipo, dtype: int64"
      ]
     },
     "execution_count": 112,
     "metadata": {},
     "output_type": "execute_result"
    }
   ],
   "source": [
    "lic_obras_concurso_2018['Tipo'].value_counts()"
   ]
  },
  {
   "cell_type": "code",
   "execution_count": 113,
   "id": "ec43ebd2",
   "metadata": {},
   "outputs": [
    {
     "data": {
      "image/png": "[encoded data removed]",
      "text/plain": [
       "<Figure size 432x288 with 1 Axes>"
      ]
     },
     "metadata": {
      "needs_background": "light"
     },
     "output_type": "display_data"
    }
   ],
   "source": [
    "lic_obras_concurso_2018['Total'].plot.box()\n",
    "plt.show()"
   ]
  },
  {
   "cell_type": "code",
   "execution_count": 114,
   "id": "b688f5aa",
   "metadata": {},
   "outputs": [
    {
     "data": {
      "text/plain": [
       "<AxesSubplot:>"
      ]
     },
     "execution_count": 114,
     "metadata": {},
     "output_type": "execute_result"
    },
    {
     "data": {
      "image/png": "[encoded data removed]",
      "text/plain": [
       "<Figure size 432x288 with 1 Axes>"
      ]
     },
     "metadata": {
      "needs_background": "light"
     },
     "output_type": "display_data"
    }
   ],
   "source": [
    "lic_compras_concurso_2018['Total'].plot.box()"
   ]
  },
  {
   "cell_type": "code",
   "execution_count": 115,
   "id": "7c51f519",
   "metadata": {},
   "outputs": [
    {
     "data": {
      "text/plain": [
       "count        17.000000\n",
       "mean      39690.588235\n",
       "std       58088.484279\n",
       "min        3000.000000\n",
       "25%        8000.000000\n",
       "50%       18000.000000\n",
       "75%       45000.000000\n",
       "max      240000.000000\n",
       "Name: Total, dtype: float64"
      ]
     },
     "execution_count": 115,
     "metadata": {},
     "output_type": "execute_result"
    }
   ],
   "source": [
    "lic_compras_concurso_2018['Total'].describe()"
   ]
  },
  {
   "cell_type": "code",
   "execution_count": 116,
   "id": "6f68e679",
   "metadata": {},
   "outputs": [
    {
     "name": "stderr",
     "output_type": "stream",
     "text": [
      "C:\\Users\\lrr\\AppData\\Local\\Temp/ipykernel_13072/3505025051.py:5: SettingWithCopyWarning: \n",
      "A value is trying to be set on a copy of a slice from a DataFrame.\n",
      "Try using .loc[row_indexer,col_indexer] = value instead\n",
      "\n",
      "See the caveats in the documentation: https://pandas.pydata.org/pandas-docs/stable/user_guide/indexing.html#returning-a-view-versus-a-copy\n",
      "  lic_obras_concurso_2018['Tag'] = 1\n",
      "C:\\Users\\lrr\\AppData\\Local\\Temp/ipykernel_13072/3505025051.py:6: SettingWithCopyWarning: \n",
      "A value is trying to be set on a copy of a slice from a DataFrame.\n",
      "Try using .loc[row_indexer,col_indexer] = value instead\n",
      "\n",
      "See the caveats in the documentation: https://pandas.pydata.org/pandas-docs/stable/user_guide/indexing.html#returning-a-view-versus-a-copy\n",
      "  lic_compras_concurso_2018['Tag'] = 1\n"
     ]
    }
   ],
   "source": [
    "## Tag'ando como legal já que não existe uma regra bem definida para esta modalidade\n",
    "\n",
    "#### 0: ilegal\n",
    "#### 1: legal\n",
    "lic_obras_concurso_2018['Tag'] = 1\n",
    "lic_compras_concurso_2018['Tag'] = 1"
   ]
  },
  {
   "cell_type": "code",
   "execution_count": 117,
   "id": "dbaae94c",
   "metadata": {},
   "outputs": [
    {
     "data": {
      "text/plain": [
       "1    1\n",
       "Name: Tag, dtype: int64"
      ]
     },
     "execution_count": 117,
     "metadata": {},
     "output_type": "execute_result"
    }
   ],
   "source": [
    "lic_obras_concurso_2018['Tag'].value_counts()"
   ]
  },
  {
   "cell_type": "code",
   "execution_count": 118,
   "id": "81922143",
   "metadata": {},
   "outputs": [
    {
     "data": {
      "text/plain": [
       "1    17\n",
       "Name: Tag, dtype: int64"
      ]
     },
     "execution_count": 118,
     "metadata": {},
     "output_type": "execute_result"
    }
   ],
   "source": [
    "lic_compras_concurso_2018['Tag'].value_counts()"
   ]
  },
  {
   "cell_type": "markdown",
   "id": "9545a3be",
   "metadata": {},
   "source": [
    "### Concorrência Internacional"
   ]
  },
  {
   "cell_type": "code",
   "execution_count": 119,
   "id": "81c08496",
   "metadata": {},
   "outputs": [],
   "source": [
    "df_lic_2018_concorrencia_internacional = df_lic_2018[df_lic_2018['Modalidade Compra'] == 'Concorrência Internacional']"
   ]
  },
  {
   "cell_type": "code",
   "execution_count": 120,
   "id": "c266857f",
   "metadata": {},
   "outputs": [
    {
     "data": {
      "text/plain": [
       "Concorrência Internacional    11\n",
       "Name: Modalidade Compra, dtype: int64"
      ]
     },
     "execution_count": 120,
     "metadata": {},
     "output_type": "execute_result"
    }
   ],
   "source": [
    "df_lic_2018_concorrencia_internacional['Modalidade Compra'].value_counts()"
   ]
  },
  {
   "cell_type": "code",
   "execution_count": 121,
   "id": "0c5fb9c1",
   "metadata": {},
   "outputs": [],
   "source": [
    "# Separando a modalidade em Obras e Compras/Serviços\n",
    "lic_obras_concorrencia_internacional_2018 = df_lic_2018_concorrencia_internacional[df_lic_2018_concorrencia_internacional['Tipo'] == 'Obras']\n",
    "lic_compras_concorrencia_internacional_2018 = df_lic_2018_concorrencia_internacional[df_lic_2018_concorrencia_internacional['Tipo'] != 'Obras']"
   ]
  },
  {
   "cell_type": "code",
   "execution_count": 122,
   "id": "ca6da517",
   "metadata": {},
   "outputs": [
    {
     "data": {
      "text/plain": [
       "Series([], Name: Tipo, dtype: int64)"
      ]
     },
     "execution_count": 122,
     "metadata": {},
     "output_type": "execute_result"
    }
   ],
   "source": [
    "lic_obras_concorrencia_internacional_2018['Tipo'].value_counts()"
   ]
  },
  {
   "cell_type": "code",
   "execution_count": 123,
   "id": "b5bf386b",
   "metadata": {},
   "outputs": [
    {
     "data": {
      "text/plain": [
       "Compras/Servicos    11\n",
       "Name: Tipo, dtype: int64"
      ]
     },
     "execution_count": 123,
     "metadata": {},
     "output_type": "execute_result"
    }
   ],
   "source": [
    "lic_compras_concorrencia_internacional_2018['Tipo'].value_counts()"
   ]
  },
  {
   "cell_type": "code",
   "execution_count": 124,
   "id": "c59aeead",
   "metadata": {},
   "outputs": [
    {
     "data": {
      "text/plain": [
       "<AxesSubplot:>"
      ]
     },
     "execution_count": 124,
     "metadata": {},
     "output_type": "execute_result"
    },
    {
     "data": {
      "image/png": "[encoded data removed]",
      "text/plain": [
       "<Figure size 432x288 with 1 Axes>"
      ]
     },
     "metadata": {
      "needs_background": "light"
     },
     "output_type": "display_data"
    }
   ],
   "source": [
    "lic_compras_concorrencia_internacional_2018['Total'].plot.box()"
   ]
  },
  {
   "cell_type": "code",
   "execution_count": 125,
   "id": "7ab70fbd",
   "metadata": {},
   "outputs": [
    {
     "data": {
      "text/plain": [
       "count    1.100000e+01\n",
       "mean     1.733756e+07\n",
       "std      3.722459e+07\n",
       "min      6.688142e+04\n",
       "25%      1.440911e+05\n",
       "50%      8.882944e+05\n",
       "75%      1.442972e+06\n",
       "max      9.574421e+07\n",
       "Name: Total, dtype: float64"
      ]
     },
     "execution_count": 125,
     "metadata": {},
     "output_type": "execute_result"
    }
   ],
   "source": [
    "lic_compras_concorrencia_internacional_2018['Total'].describe()"
   ]
  },
  {
   "cell_type": "code",
   "execution_count": 126,
   "id": "83a96be1",
   "metadata": {},
   "outputs": [],
   "source": [
    "## Tag'ando como legal já que não existe uma regra bem definida para esta modalidade\n",
    "\n",
    "#### 0: ilegal\n",
    "#### 1: legal\n",
    "lic_obras_concorrencia_internacional_2018['Tag'] = 1\n",
    "lic_compras_concorrencia_internacional_2018['Tag'] = 1"
   ]
  },
  {
   "cell_type": "code",
   "execution_count": 127,
   "id": "492ca6dc",
   "metadata": {},
   "outputs": [
    {
     "data": {
      "text/plain": [
       "Series([], Name: Tag, dtype: int64)"
      ]
     },
     "execution_count": 127,
     "metadata": {},
     "output_type": "execute_result"
    }
   ],
   "source": [
    "lic_obras_concorrencia_internacional_2018['Tag'].value_counts()"
   ]
  },
  {
   "cell_type": "code",
   "execution_count": 128,
   "id": "691ad0e7",
   "metadata": {},
   "outputs": [
    {
     "data": {
      "text/plain": [
       "1    11\n",
       "Name: Tag, dtype: int64"
      ]
     },
     "execution_count": 128,
     "metadata": {},
     "output_type": "execute_result"
    }
   ],
   "source": [
    "lic_compras_concorrencia_internacional_2018['Tag'].value_counts()"
   ]
  },
  {
   "cell_type": "markdown",
   "id": "53945c4e",
   "metadata": {},
   "source": [
    "### Salvando todas as analises em uma única base de dados."
   ]
  },
  {
   "cell_type": "code",
   "execution_count": 129,
   "id": "dc5f27ae",
   "metadata": {},
   "outputs": [],
   "source": [
    "lic_2018_com_tag = pd.concat([lic_obras_RP_2018, lic_compras_RP_2018, lic_obras_Dispensa_2018, lic_compras_Dispensa_2018, lic_obras_tomada_de_preco_2018, lic_compras_tomada_de_preco_2018, lic_compras_convite_2018, lic_obras_convite_2018, lic_obras_Pregao_2018, lic_compras_Pregao_2018, lic_obras_Inex_2018, lic_compras_Inex_2018, lic_obras_concurso_2018, lic_compras_concurso_2018, lic_obras_concorrencia_internacional_2018, lic_compras_concorrencia_internacional_2018])"
   ]
  },
  {
   "cell_type": "code",
   "execution_count": 131,
   "id": "ccf15bf4",
   "metadata": {},
   "outputs": [],
   "source": [
    "lic_2018_com_tag.to_csv('lic_2018_com_tag.csv')"
   ]
  },
  {
   "cell_type": "code",
   "execution_count": 132,
   "id": "3fc5c4e9",
   "metadata": {},
   "outputs": [
    {
     "data": {
      "text/plain": [
       "1    95652\n",
       "0    17284\n",
       "Name: Tag, dtype: int64"
      ]
     },
     "execution_count": 132,
     "metadata": {},
     "output_type": "execute_result"
    }
   ],
   "source": [
    "lic_2018_com_tag['Tag'].value_counts()"
   ]
  },
  {
   "cell_type": "code",
   "execution_count": 133,
   "id": "92e2ace5",
   "metadata": {},
   "outputs": [
    {
     "data": {
      "text/html": [
       "<div>\n",
       "<style scoped>\n",
       "    .dataframe tbody tr th:only-of-type {\n",
       "        vertical-align: middle;\n",
       "    }\n",
       "\n",
       "    .dataframe tbody tr th {\n",
       "        vertical-align: top;\n",
       "    }\n",
       "\n",
       "    .dataframe thead tr th {\n",
       "        text-align: left;\n",
       "    }\n",
       "\n",
       "    .dataframe thead tr:last-of-type th {\n",
       "        text-align: right;\n",
       "    }\n",
       "</style>\n",
       "<table border=\"1\" class=\"dataframe\">\n",
       "  <thead>\n",
       "    <tr>\n",
       "      <th></th>\n",
       "      <th></th>\n",
       "      <th></th>\n",
       "      <th colspan=\"8\" halign=\"left\">Número Licitação</th>\n",
       "      <th colspan=\"2\" halign=\"left\">Código UG</th>\n",
       "      <th>...</th>\n",
       "      <th colspan=\"2\" halign=\"left\">Código Órgão</th>\n",
       "      <th colspan=\"8\" halign=\"left\">Total</th>\n",
       "    </tr>\n",
       "    <tr>\n",
       "      <th></th>\n",
       "      <th></th>\n",
       "      <th></th>\n",
       "      <th>count</th>\n",
       "      <th>mean</th>\n",
       "      <th>std</th>\n",
       "      <th>min</th>\n",
       "      <th>25%</th>\n",
       "      <th>50%</th>\n",
       "      <th>75%</th>\n",
       "      <th>max</th>\n",
       "      <th>count</th>\n",
       "      <th>mean</th>\n",
       "      <th>...</th>\n",
       "      <th>75%</th>\n",
       "      <th>max</th>\n",
       "      <th>count</th>\n",
       "      <th>mean</th>\n",
       "      <th>std</th>\n",
       "      <th>min</th>\n",
       "      <th>25%</th>\n",
       "      <th>50%</th>\n",
       "      <th>75%</th>\n",
       "      <th>max</th>\n",
       "    </tr>\n",
       "    <tr>\n",
       "      <th>Modalidade Compra</th>\n",
       "      <th>Tag</th>\n",
       "      <th>Tipo</th>\n",
       "      <th></th>\n",
       "      <th></th>\n",
       "      <th></th>\n",
       "      <th></th>\n",
       "      <th></th>\n",
       "      <th></th>\n",
       "      <th></th>\n",
       "      <th></th>\n",
       "      <th></th>\n",
       "      <th></th>\n",
       "      <th></th>\n",
       "      <th></th>\n",
       "      <th></th>\n",
       "      <th></th>\n",
       "      <th></th>\n",
       "      <th></th>\n",
       "      <th></th>\n",
       "      <th></th>\n",
       "      <th></th>\n",
       "      <th></th>\n",
       "      <th></th>\n",
       "    </tr>\n",
       "  </thead>\n",
       "  <tbody>\n",
       "    <tr>\n",
       "      <th rowspan=\"4\" valign=\"top\">Concorrência</th>\n",
       "      <th rowspan=\"2\" valign=\"top\">0</th>\n",
       "      <th>Compras/Servicos</th>\n",
       "      <td>60.0</td>\n",
       "      <td>1.931845e+05</td>\n",
       "      <td>6.702492e+05</td>\n",
       "      <td>12017.0</td>\n",
       "      <td>19517.25</td>\n",
       "      <td>32018.0</td>\n",
       "      <td>52018.00</td>\n",
       "      <td>3602017.0</td>\n",
       "      <td>60.0</td>\n",
       "      <td>190197.766667</td>\n",
       "      <td>...</td>\n",
       "      <td>28824.00</td>\n",
       "      <td>52131.0</td>\n",
       "      <td>60.0</td>\n",
       "      <td>5.455414e+05</td>\n",
       "      <td>4.533072e+05</td>\n",
       "      <td>0.00</td>\n",
       "      <td>1.052244e+05</td>\n",
       "      <td>466933.270</td>\n",
       "      <td>9.551702e+05</td>\n",
       "      <td>1.379104e+06</td>\n",
       "    </tr>\n",
       "    <tr>\n",
       "      <th>Obras</th>\n",
       "      <td>76.0</td>\n",
       "      <td>5.517587e+04</td>\n",
       "      <td>6.558882e+04</td>\n",
       "      <td>12018.0</td>\n",
       "      <td>12018.00</td>\n",
       "      <td>22018.0</td>\n",
       "      <td>72018.00</td>\n",
       "      <td>352018.0</td>\n",
       "      <td>76.0</td>\n",
       "      <td>220872.052632</td>\n",
       "      <td>...</td>\n",
       "      <td>26434.00</td>\n",
       "      <td>52131.0</td>\n",
       "      <td>76.0</td>\n",
       "      <td>1.358863e+06</td>\n",
       "      <td>1.014003e+06</td>\n",
       "      <td>32440.50</td>\n",
       "      <td>3.581441e+05</td>\n",
       "      <td>1287333.590</td>\n",
       "      <td>2.043738e+06</td>\n",
       "      <td>3.278397e+06</td>\n",
       "    </tr>\n",
       "    <tr>\n",
       "      <th rowspan=\"2\" valign=\"top\">1</th>\n",
       "      <th>Compras/Servicos</th>\n",
       "      <td>60.0</td>\n",
       "      <td>7.603851e+06</td>\n",
       "      <td>5.182695e+07</td>\n",
       "      <td>12018.0</td>\n",
       "      <td>12018.00</td>\n",
       "      <td>22018.0</td>\n",
       "      <td>57017.75</td>\n",
       "      <td>400202015.0</td>\n",
       "      <td>60.0</td>\n",
       "      <td>239880.883333</td>\n",
       "      <td>...</td>\n",
       "      <td>52121.00</td>\n",
       "      <td>52131.0</td>\n",
       "      <td>60.0</td>\n",
       "      <td>5.333227e+06</td>\n",
       "      <td>6.172871e+06</td>\n",
       "      <td>1570000.00</td>\n",
       "      <td>2.275523e+06</td>\n",
       "      <td>3552525.795</td>\n",
       "      <td>5.688618e+06</td>\n",
       "      <td>4.314288e+07</td>\n",
       "    </tr>\n",
       "    <tr>\n",
       "      <th>Obras</th>\n",
       "      <td>29.0</td>\n",
       "      <td>3.339714e+04</td>\n",
       "      <td>2.960696e+04</td>\n",
       "      <td>12018.0</td>\n",
       "      <td>12018.00</td>\n",
       "      <td>22018.0</td>\n",
       "      <td>42018.00</td>\n",
       "      <td>122014.0</td>\n",
       "      <td>29.0</td>\n",
       "      <td>237043.862069</td>\n",
       "      <td>...</td>\n",
       "      <td>52111.00</td>\n",
       "      <td>52131.0</td>\n",
       "      <td>29.0</td>\n",
       "      <td>8.082590e+06</td>\n",
       "      <td>6.096149e+06</td>\n",
       "      <td>3409023.96</td>\n",
       "      <td>4.071337e+06</td>\n",
       "      <td>6044632.750</td>\n",
       "      <td>8.523522e+06</td>\n",
       "      <td>2.723403e+07</td>\n",
       "    </tr>\n",
       "    <tr>\n",
       "      <th>Concorrência - Registro de Preço</th>\n",
       "      <th>0</th>\n",
       "      <th>Compras/Servicos</th>\n",
       "      <td>5.0</td>\n",
       "      <td>6.601800e+04</td>\n",
       "      <td>4.560702e+04</td>\n",
       "      <td>12018.0</td>\n",
       "      <td>22018.00</td>\n",
       "      <td>92018.0</td>\n",
       "      <td>92018.00</td>\n",
       "      <td>112018.0</td>\n",
       "      <td>5.0</td>\n",
       "      <td>172301.000000</td>\n",
       "      <td>...</td>\n",
       "      <td>26413.00</td>\n",
       "      <td>52121.0</td>\n",
       "      <td>5.0</td>\n",
       "      <td>5.389143e+04</td>\n",
       "      <td>1.205049e+05</td>\n",
       "      <td>0.00</td>\n",
       "      <td>0.000000e+00</td>\n",
       "      <td>0.000</td>\n",
       "      <td>0.000000e+00</td>\n",
       "      <td>2.694572e+05</td>\n",
       "    </tr>\n",
       "    <tr>\n",
       "      <th>Concorrência Internacional</th>\n",
       "      <th>1</th>\n",
       "      <th>Compras/Servicos</th>\n",
       "      <td>11.0</td>\n",
       "      <td>1.857472e+06</td>\n",
       "      <td>1.165884e+06</td>\n",
       "      <td>82018.0</td>\n",
       "      <td>1137018.00</td>\n",
       "      <td>2082017.0</td>\n",
       "      <td>2792017.00</td>\n",
       "      <td>3372017.0</td>\n",
       "      <td>11.0</td>\n",
       "      <td>218304.000000</td>\n",
       "      <td>...</td>\n",
       "      <td>24000.00</td>\n",
       "      <td>52111.0</td>\n",
       "      <td>11.0</td>\n",
       "      <td>1.733756e+07</td>\n",
       "      <td>3.722459e+07</td>\n",
       "      <td>66881.42</td>\n",
       "      <td>1.440911e+05</td>\n",
       "      <td>888294.450</td>\n",
       "      <td>1.442972e+06</td>\n",
       "      <td>9.574421e+07</td>\n",
       "    </tr>\n",
       "    <tr>\n",
       "      <th rowspan=\"2\" valign=\"top\">Concurso</th>\n",
       "      <th rowspan=\"2\" valign=\"top\">1</th>\n",
       "      <th>Compras/Servicos</th>\n",
       "      <td>17.0</td>\n",
       "      <td>2.731206e+04</td>\n",
       "      <td>1.940287e+04</td>\n",
       "      <td>12018.0</td>\n",
       "      <td>12018.00</td>\n",
       "      <td>22018.0</td>\n",
       "      <td>42018.00</td>\n",
       "      <td>72018.0</td>\n",
       "      <td>17.0</td>\n",
       "      <td>243182.294118</td>\n",
       "      <td>...</td>\n",
       "      <td>26292.00</td>\n",
       "      <td>26350.0</td>\n",
       "      <td>17.0</td>\n",
       "      <td>3.969059e+04</td>\n",
       "      <td>5.808848e+04</td>\n",
       "      <td>3000.00</td>\n",
       "      <td>8.000000e+03</td>\n",
       "      <td>18000.000</td>\n",
       "      <td>4.500000e+04</td>\n",
       "      <td>2.400000e+05</td>\n",
       "    </tr>\n",
       "    <tr>\n",
       "      <th>Obras</th>\n",
       "      <td>1.0</td>\n",
       "      <td>3.201700e+04</td>\n",
       "      <td>NaN</td>\n",
       "      <td>32017.0</td>\n",
       "      <td>32017.00</td>\n",
       "      <td>32017.0</td>\n",
       "      <td>32017.00</td>\n",
       "      <td>32017.0</td>\n",
       "      <td>1.0</td>\n",
       "      <td>344002.000000</td>\n",
       "      <td>...</td>\n",
       "      <td>26292.00</td>\n",
       "      <td>26292.0</td>\n",
       "      <td>1.0</td>\n",
       "      <td>1.600000e+05</td>\n",
       "      <td>NaN</td>\n",
       "      <td>160000.00</td>\n",
       "      <td>1.600000e+05</td>\n",
       "      <td>160000.000</td>\n",
       "      <td>1.600000e+05</td>\n",
       "      <td>1.600000e+05</td>\n",
       "    </tr>\n",
       "    <tr>\n",
       "      <th rowspan=\"4\" valign=\"top\">Convite</th>\n",
       "      <th rowspan=\"2\" valign=\"top\">0</th>\n",
       "      <th>Compras/Servicos</th>\n",
       "      <td>13.0</td>\n",
       "      <td>1.552018e+06</td>\n",
       "      <td>5.543538e+06</td>\n",
       "      <td>12017.0</td>\n",
       "      <td>12018.00</td>\n",
       "      <td>12018.0</td>\n",
       "      <td>12018.00</td>\n",
       "      <td>20002018.0</td>\n",
       "      <td>13.0</td>\n",
       "      <td>212945.923077</td>\n",
       "      <td>...</td>\n",
       "      <td>26436.00</td>\n",
       "      <td>52131.0</td>\n",
       "      <td>13.0</td>\n",
       "      <td>1.537742e+05</td>\n",
       "      <td>1.027304e+05</td>\n",
       "      <td>83.05</td>\n",
       "      <td>1.659822e+04</td>\n",
       "      <td>194247.890</td>\n",
       "      <td>2.353093e+05</td>\n",
       "      <td>2.597683e+05</td>\n",
       "    </tr>\n",
       "    <tr>\n",
       "      <th>Obras</th>\n",
       "      <td>7.0</td>\n",
       "      <td>2.773229e+04</td>\n",
       "      <td>1.902379e+04</td>\n",
       "      <td>12018.0</td>\n",
       "      <td>12018.00</td>\n",
       "      <td>22018.0</td>\n",
       "      <td>37018.00</td>\n",
       "      <td>62018.0</td>\n",
       "      <td>7.0</td>\n",
       "      <td>235410.714286</td>\n",
       "      <td>...</td>\n",
       "      <td>44661.50</td>\n",
       "      <td>52121.0</td>\n",
       "      <td>7.0</td>\n",
       "      <td>2.184562e+04</td>\n",
       "      <td>7.246367e+03</td>\n",
       "      <td>14053.43</td>\n",
       "      <td>1.627683e+04</td>\n",
       "      <td>20230.120</td>\n",
       "      <td>2.658833e+04</td>\n",
       "      <td>3.290544e+04</td>\n",
       "    </tr>\n",
       "    <tr>\n",
       "      <th rowspan=\"2\" valign=\"top\">1</th>\n",
       "      <th>Compras/Servicos</th>\n",
       "      <td>48.0</td>\n",
       "      <td>3.659763e+05</td>\n",
       "      <td>1.157581e+06</td>\n",
       "      <td>12018.0</td>\n",
       "      <td>19518.00</td>\n",
       "      <td>22018.0</td>\n",
       "      <td>44518.00</td>\n",
       "      <td>5662018.0</td>\n",
       "      <td>48.0</td>\n",
       "      <td>266856.604167</td>\n",
       "      <td>...</td>\n",
       "      <td>52121.00</td>\n",
       "      <td>52221.0</td>\n",
       "      <td>48.0</td>\n",
       "      <td>8.345569e+04</td>\n",
       "      <td>4.145206e+04</td>\n",
       "      <td>18999.00</td>\n",
       "      <td>4.203962e+04</td>\n",
       "      <td>79978.515</td>\n",
       "      <td>1.160009e+05</td>\n",
       "      <td>1.724415e+05</td>\n",
       "    </tr>\n",
       "    <tr>\n",
       "      <th>Obras</th>\n",
       "      <td>28.0</td>\n",
       "      <td>1.638037e+05</td>\n",
       "      <td>5.095608e+05</td>\n",
       "      <td>12018.0</td>\n",
       "      <td>12018.00</td>\n",
       "      <td>22018.0</td>\n",
       "      <td>34518.00</td>\n",
       "      <td>1972018.0</td>\n",
       "      <td>28.0</td>\n",
       "      <td>236252.821429</td>\n",
       "      <td>...</td>\n",
       "      <td>40931.75</td>\n",
       "      <td>52131.0</td>\n",
       "      <td>28.0</td>\n",
       "      <td>1.311967e+05</td>\n",
       "      <td>6.676371e+04</td>\n",
       "      <td>40088.13</td>\n",
       "      <td>6.902340e+04</td>\n",
       "      <td>126214.060</td>\n",
       "      <td>1.727443e+05</td>\n",
       "      <td>2.571418e+05</td>\n",
       "    </tr>\n",
       "    <tr>\n",
       "      <th rowspan=\"4\" valign=\"top\">Dispensa de Licitação</th>\n",
       "      <th rowspan=\"2\" valign=\"top\">0</th>\n",
       "      <th>Compras/Servicos</th>\n",
       "      <td>4560.0</td>\n",
       "      <td>2.118900e+07</td>\n",
       "      <td>1.012215e+08</td>\n",
       "      <td>12017.0</td>\n",
       "      <td>322018.00</td>\n",
       "      <td>892018.0</td>\n",
       "      <td>3234518.00</td>\n",
       "      <td>952682018.0</td>\n",
       "      <td>4560.0</td>\n",
       "      <td>211680.318202</td>\n",
       "      <td>...</td>\n",
       "      <td>36000.00</td>\n",
       "      <td>97400.0</td>\n",
       "      <td>4560.0</td>\n",
       "      <td>2.480859e+06</td>\n",
       "      <td>3.401670e+07</td>\n",
       "      <td>17614.33</td>\n",
       "      <td>3.186395e+04</td>\n",
       "      <td>83587.120</td>\n",
       "      <td>4.000000e+05</td>\n",
       "      <td>1.549004e+09</td>\n",
       "    </tr>\n",
       "    <tr>\n",
       "      <th>Obras</th>\n",
       "      <td>115.0</td>\n",
       "      <td>1.446384e+07</td>\n",
       "      <td>1.027969e+08</td>\n",
       "      <td>12018.0</td>\n",
       "      <td>172018.00</td>\n",
       "      <td>322018.0</td>\n",
       "      <td>892018.00</td>\n",
       "      <td>900102018.0</td>\n",
       "      <td>115.0</td>\n",
       "      <td>212795.634783</td>\n",
       "      <td>...</td>\n",
       "      <td>36000.00</td>\n",
       "      <td>95320.0</td>\n",
       "      <td>115.0</td>\n",
       "      <td>3.321567e+06</td>\n",
       "      <td>1.081473e+07</td>\n",
       "      <td>33895.29</td>\n",
       "      <td>8.766349e+04</td>\n",
       "      <td>361991.990</td>\n",
       "      <td>1.868894e+06</td>\n",
       "      <td>8.794440e+07</td>\n",
       "    </tr>\n",
       "    <tr>\n",
       "      <th rowspan=\"2\" valign=\"top\">1</th>\n",
       "      <th>Compras/Servicos</th>\n",
       "      <td>67597.0</td>\n",
       "      <td>2.071706e+07</td>\n",
       "      <td>1.021765e+08</td>\n",
       "      <td>12018.0</td>\n",
       "      <td>352018.00</td>\n",
       "      <td>742018.0</td>\n",
       "      <td>1682018.00</td>\n",
       "      <td>999992018.0</td>\n",
       "      <td>67597.0</td>\n",
       "      <td>216046.467107</td>\n",
       "      <td>...</td>\n",
       "      <td>52121.00</td>\n",
       "      <td>97400.0</td>\n",
       "      <td>67597.0</td>\n",
       "      <td>4.188950e+03</td>\n",
       "      <td>4.357383e+03</td>\n",
       "      <td>0.00</td>\n",
       "      <td>9.383000e+02</td>\n",
       "      <td>2500.000</td>\n",
       "      <td>6.037000e+03</td>\n",
       "      <td>1.760000e+04</td>\n",
       "    </tr>\n",
       "    <tr>\n",
       "      <th>Obras</th>\n",
       "      <td>1249.0</td>\n",
       "      <td>6.186005e+06</td>\n",
       "      <td>4.680056e+07</td>\n",
       "      <td>12018.0</td>\n",
       "      <td>242018.00</td>\n",
       "      <td>572018.0</td>\n",
       "      <td>1482018.00</td>\n",
       "      <td>908292018.0</td>\n",
       "      <td>1249.0</td>\n",
       "      <td>213046.754203</td>\n",
       "      <td>...</td>\n",
       "      <td>52121.00</td>\n",
       "      <td>96220.0</td>\n",
       "      <td>1249.0</td>\n",
       "      <td>8.238650e+03</td>\n",
       "      <td>8.550424e+03</td>\n",
       "      <td>0.01</td>\n",
       "      <td>1.705600e+03</td>\n",
       "      <td>5000.000</td>\n",
       "      <td>1.250000e+04</td>\n",
       "      <td>3.300000e+04</td>\n",
       "    </tr>\n",
       "    <tr>\n",
       "      <th rowspan=\"2\" valign=\"top\">Inexigibilidade de Licitação</th>\n",
       "      <th rowspan=\"2\" valign=\"top\">1</th>\n",
       "      <th>Compras/Servicos</th>\n",
       "      <td>14161.0</td>\n",
       "      <td>1.126313e+07</td>\n",
       "      <td>7.188846e+07</td>\n",
       "      <td>12016.0</td>\n",
       "      <td>122018.00</td>\n",
       "      <td>362018.0</td>\n",
       "      <td>1132018.00</td>\n",
       "      <td>999022018.0</td>\n",
       "      <td>14161.0</td>\n",
       "      <td>203353.881152</td>\n",
       "      <td>...</td>\n",
       "      <td>36201.00</td>\n",
       "      <td>95320.0</td>\n",
       "      <td>14161.0</td>\n",
       "      <td>5.357749e+05</td>\n",
       "      <td>8.584033e+06</td>\n",
       "      <td>0.01</td>\n",
       "      <td>1.428000e+03</td>\n",
       "      <td>5000.000</td>\n",
       "      <td>2.676932e+04</td>\n",
       "      <td>5.987247e+08</td>\n",
       "    </tr>\n",
       "    <tr>\n",
       "      <th>Obras</th>\n",
       "      <td>325.0</td>\n",
       "      <td>3.910264e+06</td>\n",
       "      <td>1.715953e+07</td>\n",
       "      <td>12018.0</td>\n",
       "      <td>182018.00</td>\n",
       "      <td>1252018.0</td>\n",
       "      <td>2052018.00</td>\n",
       "      <td>244012018.0</td>\n",
       "      <td>325.0</td>\n",
       "      <td>185238.375385</td>\n",
       "      <td>...</td>\n",
       "      <td>26432.00</td>\n",
       "      <td>63000.0</td>\n",
       "      <td>325.0</td>\n",
       "      <td>6.565760e+05</td>\n",
       "      <td>1.050316e+06</td>\n",
       "      <td>0.01</td>\n",
       "      <td>4.000000e+03</td>\n",
       "      <td>215279.280</td>\n",
       "      <td>1.077328e+06</td>\n",
       "      <td>1.050000e+07</td>\n",
       "    </tr>\n",
       "    <tr>\n",
       "      <th rowspan=\"2\" valign=\"top\">Pregão</th>\n",
       "      <th rowspan=\"2\" valign=\"top\">1</th>\n",
       "      <th>Compras/Servicos</th>\n",
       "      <td>10575.0</td>\n",
       "      <td>7.938788e+06</td>\n",
       "      <td>4.748078e+07</td>\n",
       "      <td>12017.0</td>\n",
       "      <td>112018.00</td>\n",
       "      <td>282018.0</td>\n",
       "      <td>782018.00</td>\n",
       "      <td>900382018.0</td>\n",
       "      <td>10575.0</td>\n",
       "      <td>428453.345532</td>\n",
       "      <td>...</td>\n",
       "      <td>91081.00</td>\n",
       "      <td>97400.0</td>\n",
       "      <td>10575.0</td>\n",
       "      <td>7.618533e+05</td>\n",
       "      <td>6.131122e+06</td>\n",
       "      <td>0.00</td>\n",
       "      <td>1.260000e+04</td>\n",
       "      <td>47833.830</td>\n",
       "      <td>1.999200e+05</td>\n",
       "      <td>2.793588e+08</td>\n",
       "    </tr>\n",
       "    <tr>\n",
       "      <th>Obras</th>\n",
       "      <td>1034.0</td>\n",
       "      <td>5.624242e+06</td>\n",
       "      <td>2.705407e+07</td>\n",
       "      <td>12018.0</td>\n",
       "      <td>62018.00</td>\n",
       "      <td>162018.0</td>\n",
       "      <td>472018.00</td>\n",
       "      <td>240512018.0</td>\n",
       "      <td>1034.0</td>\n",
       "      <td>319487.590909</td>\n",
       "      <td>...</td>\n",
       "      <td>41963.00</td>\n",
       "      <td>97400.0</td>\n",
       "      <td>1034.0</td>\n",
       "      <td>9.362342e+05</td>\n",
       "      <td>3.897006e+06</td>\n",
       "      <td>0.00</td>\n",
       "      <td>4.602500e+04</td>\n",
       "      <td>149904.915</td>\n",
       "      <td>5.225229e+05</td>\n",
       "      <td>6.196085e+07</td>\n",
       "    </tr>\n",
       "    <tr>\n",
       "      <th rowspan=\"4\" valign=\"top\">Pregão - Registro de Preço</th>\n",
       "      <th rowspan=\"2\" valign=\"top\">0</th>\n",
       "      <th>Compras/Servicos</th>\n",
       "      <td>12014.0</td>\n",
       "      <td>1.831750e+06</td>\n",
       "      <td>1.895971e+07</td>\n",
       "      <td>12016.0</td>\n",
       "      <td>102018.00</td>\n",
       "      <td>272018.0</td>\n",
       "      <td>672018.00</td>\n",
       "      <td>820182018.0</td>\n",
       "      <td>12014.0</td>\n",
       "      <td>303267.184701</td>\n",
       "      <td>...</td>\n",
       "      <td>52121.00</td>\n",
       "      <td>97400.0</td>\n",
       "      <td>12014.0</td>\n",
       "      <td>5.069147e+04</td>\n",
       "      <td>1.435133e+05</td>\n",
       "      <td>0.00</td>\n",
       "      <td>2.000000e+02</td>\n",
       "      <td>4266.105</td>\n",
       "      <td>2.980000e+04</td>\n",
       "      <td>1.429900e+06</td>\n",
       "    </tr>\n",
       "    <tr>\n",
       "      <th>Obras</th>\n",
       "      <td>214.0</td>\n",
       "      <td>4.823139e+06</td>\n",
       "      <td>6.287604e+07</td>\n",
       "      <td>12018.0</td>\n",
       "      <td>82018.00</td>\n",
       "      <td>187018.0</td>\n",
       "      <td>459518.00</td>\n",
       "      <td>920182018.0</td>\n",
       "      <td>214.0</td>\n",
       "      <td>288140.182243</td>\n",
       "      <td>...</td>\n",
       "      <td>52121.00</td>\n",
       "      <td>97400.0</td>\n",
       "      <td>214.0</td>\n",
       "      <td>2.030688e+05</td>\n",
       "      <td>4.963273e+05</td>\n",
       "      <td>0.00</td>\n",
       "      <td>3.158000e+03</td>\n",
       "      <td>26821.875</td>\n",
       "      <td>9.667500e+04</td>\n",
       "      <td>3.000000e+06</td>\n",
       "    </tr>\n",
       "    <tr>\n",
       "      <th rowspan=\"2\" valign=\"top\">1</th>\n",
       "      <th>Compras/Servicos</th>\n",
       "      <td>196.0</td>\n",
       "      <td>1.430283e+06</td>\n",
       "      <td>1.081266e+07</td>\n",
       "      <td>12017.0</td>\n",
       "      <td>82018.00</td>\n",
       "      <td>252018.0</td>\n",
       "      <td>624517.25</td>\n",
       "      <td>151002018.0</td>\n",
       "      <td>196.0</td>\n",
       "      <td>373948.117347</td>\n",
       "      <td>...</td>\n",
       "      <td>52131.00</td>\n",
       "      <td>97400.0</td>\n",
       "      <td>196.0</td>\n",
       "      <td>9.488653e+06</td>\n",
       "      <td>2.550342e+07</td>\n",
       "      <td>1433939.80</td>\n",
       "      <td>2.063430e+06</td>\n",
       "      <td>3184278.000</td>\n",
       "      <td>6.100905e+06</td>\n",
       "      <td>2.590500e+08</td>\n",
       "    </tr>\n",
       "    <tr>\n",
       "      <th>Obras</th>\n",
       "      <td>12.0</td>\n",
       "      <td>7.036847e+05</td>\n",
       "      <td>1.174973e+06</td>\n",
       "      <td>22018.0</td>\n",
       "      <td>87018.00</td>\n",
       "      <td>242018.0</td>\n",
       "      <td>664518.00</td>\n",
       "      <td>4192018.0</td>\n",
       "      <td>12.0</td>\n",
       "      <td>350418.666667</td>\n",
       "      <td>...</td>\n",
       "      <td>52123.50</td>\n",
       "      <td>93420.0</td>\n",
       "      <td>12.0</td>\n",
       "      <td>1.088021e+07</td>\n",
       "      <td>8.640452e+06</td>\n",
       "      <td>4290000.00</td>\n",
       "      <td>6.255498e+06</td>\n",
       "      <td>8460432.065</td>\n",
       "      <td>1.288739e+07</td>\n",
       "      <td>3.588588e+07</td>\n",
       "    </tr>\n",
       "    <tr>\n",
       "      <th rowspan=\"4\" valign=\"top\">Tomada de Preços</th>\n",
       "      <th rowspan=\"2\" valign=\"top\">0</th>\n",
       "      <th>Compras/Servicos</th>\n",
       "      <td>124.0</td>\n",
       "      <td>6.992119e+04</td>\n",
       "      <td>1.140195e+05</td>\n",
       "      <td>12017.0</td>\n",
       "      <td>22018.00</td>\n",
       "      <td>32018.0</td>\n",
       "      <td>84518.00</td>\n",
       "      <td>1082018.0</td>\n",
       "      <td>124.0</td>\n",
       "      <td>205645.500000</td>\n",
       "      <td>...</td>\n",
       "      <td>52121.00</td>\n",
       "      <td>52221.0</td>\n",
       "      <td>124.0</td>\n",
       "      <td>5.401918e+05</td>\n",
       "      <td>8.263586e+05</td>\n",
       "      <td>0.00</td>\n",
       "      <td>5.674750e+04</td>\n",
       "      <td>118766.840</td>\n",
       "      <td>1.725145e+05</td>\n",
       "      <td>2.617185e+06</td>\n",
       "    </tr>\n",
       "    <tr>\n",
       "      <th>Obras</th>\n",
       "      <td>96.0</td>\n",
       "      <td>5.472629e+04</td>\n",
       "      <td>1.209913e+05</td>\n",
       "      <td>12017.0</td>\n",
       "      <td>12018.00</td>\n",
       "      <td>22018.0</td>\n",
       "      <td>52018.00</td>\n",
       "      <td>1122018.0</td>\n",
       "      <td>96.0</td>\n",
       "      <td>257235.312500</td>\n",
       "      <td>...</td>\n",
       "      <td>52111.00</td>\n",
       "      <td>52221.0</td>\n",
       "      <td>96.0</td>\n",
       "      <td>1.469280e+05</td>\n",
       "      <td>9.929621e+04</td>\n",
       "      <td>0.00</td>\n",
       "      <td>7.243461e+04</td>\n",
       "      <td>119803.255</td>\n",
       "      <td>2.464391e+05</td>\n",
       "      <td>3.253997e+05</td>\n",
       "    </tr>\n",
       "    <tr>\n",
       "      <th rowspan=\"2\" valign=\"top\">1</th>\n",
       "      <th>Compras/Servicos</th>\n",
       "      <td>206.0</td>\n",
       "      <td>6.716358e+04</td>\n",
       "      <td>1.818488e+05</td>\n",
       "      <td>12017.0</td>\n",
       "      <td>12018.00</td>\n",
       "      <td>32017.0</td>\n",
       "      <td>62018.00</td>\n",
       "      <td>1812018.0</td>\n",
       "      <td>206.0</td>\n",
       "      <td>189842.174757</td>\n",
       "      <td>...</td>\n",
       "      <td>52121.00</td>\n",
       "      <td>52131.0</td>\n",
       "      <td>206.0</td>\n",
       "      <td>5.268494e+05</td>\n",
       "      <td>2.985093e+05</td>\n",
       "      <td>177430.37</td>\n",
       "      <td>2.859337e+05</td>\n",
       "      <td>437168.280</td>\n",
       "      <td>7.249722e+05</td>\n",
       "      <td>1.339413e+06</td>\n",
       "    </tr>\n",
       "    <tr>\n",
       "      <th>Obras</th>\n",
       "      <td>103.0</td>\n",
       "      <td>4.172672e+04</td>\n",
       "      <td>4.138428e+04</td>\n",
       "      <td>12018.0</td>\n",
       "      <td>12018.00</td>\n",
       "      <td>22018.0</td>\n",
       "      <td>47018.00</td>\n",
       "      <td>182018.0</td>\n",
       "      <td>103.0</td>\n",
       "      <td>224547.844660</td>\n",
       "      <td>...</td>\n",
       "      <td>52111.00</td>\n",
       "      <td>97120.0</td>\n",
       "      <td>103.0</td>\n",
       "      <td>8.388796e+05</td>\n",
       "      <td>5.172125e+05</td>\n",
       "      <td>330302.12</td>\n",
       "      <td>4.749311e+05</td>\n",
       "      <td>645385.230</td>\n",
       "      <td>1.068229e+06</td>\n",
       "      <td>3.056225e+06</td>\n",
       "    </tr>\n",
       "  </tbody>\n",
       "</table>\n",
       "<p>28 rows × 48 columns</p>\n",
       "</div>"
      ],
      "text/plain": [
       "                                                      Número Licitação  \\\n",
       "                                                                 count   \n",
       "Modalidade Compra                Tag Tipo                                \n",
       "Concorrência                     0   Compras/Servicos             60.0   \n",
       "                                     Obras                        76.0   \n",
       "                                 1   Compras/Servicos             60.0   \n",
       "                                     Obras                        29.0   \n",
       "Concorrência - Registro de Preço 0   Compras/Servicos              5.0   \n",
       "Concorrência Internacional       1   Compras/Servicos             11.0   \n",
       "Concurso                         1   Compras/Servicos             17.0   \n",
       "                                     Obras                         1.0   \n",
       "Convite                          0   Compras/Servicos             13.0   \n",
       "                                     Obras                         7.0   \n",
       "                                 1   Compras/Servicos             48.0   \n",
       "                                     Obras                        28.0   \n",
       "Dispensa de Licitação            0   Compras/Servicos           4560.0   \n",
       "                                     Obras                       115.0   \n",
       "                                 1   Compras/Servicos          67597.0   \n",
       "                                     Obras                      1249.0   \n",
       "Inexigibilidade de Licitação     1   Compras/Servicos          14161.0   \n",
       "                                     Obras                       325.0   \n",
       "Pregão                           1   Compras/Servicos          10575.0   \n",
       "                                     Obras                      1034.0   \n",
       "Pregão - Registro de Preço       0   Compras/Servicos          12014.0   \n",
       "                                     Obras                       214.0   \n",
       "                                 1   Compras/Servicos            196.0   \n",
       "                                     Obras                        12.0   \n",
       "Tomada de Preços                 0   Compras/Servicos            124.0   \n",
       "                                     Obras                        96.0   \n",
       "                                 1   Compras/Servicos            206.0   \n",
       "                                     Obras                       103.0   \n",
       "\n",
       "                                                                     \\\n",
       "                                                               mean   \n",
       "Modalidade Compra                Tag Tipo                             \n",
       "Concorrência                     0   Compras/Servicos  1.931845e+05   \n",
       "                                     Obras             5.517587e+04   \n",
       "                                 1   Compras/Servicos  7.603851e+06   \n",
       "                                     Obras             3.339714e+04   \n",
       "Concorrência - Registro de Preço 0   Compras/Servicos  6.601800e+04   \n",
       "Concorrência Internacional       1   Compras/Servicos  1.857472e+06   \n",
       "Concurso                         1   Compras/Servicos  2.731206e+04   \n",
       "                                     Obras             3.201700e+04   \n",
       "Convite                          0   Compras/Servicos  1.552018e+06   \n",
       "                                     Obras             2.773229e+04   \n",
       "                                 1   Compras/Servicos  3.659763e+05   \n",
       "                                     Obras             1.638037e+05   \n",
       "Dispensa de Licitação            0   Compras/Servicos  2.118900e+07   \n",
       "                                     Obras             1.446384e+07   \n",
       "                                 1   Compras/Servicos  2.071706e+07   \n",
       "                                     Obras             6.186005e+06   \n",
       "Inexigibilidade de Licitação     1   Compras/Servicos  1.126313e+07   \n",
       "                                     Obras             3.910264e+06   \n",
       "Pregão                           1   Compras/Servicos  7.938788e+06   \n",
       "                                     Obras             5.624242e+06   \n",
       "Pregão - Registro de Preço       0   Compras/Servicos  1.831750e+06   \n",
       "                                     Obras             4.823139e+06   \n",
       "                                 1   Compras/Servicos  1.430283e+06   \n",
       "                                     Obras             7.036847e+05   \n",
       "Tomada de Preços                 0   Compras/Servicos  6.992119e+04   \n",
       "                                     Obras             5.472629e+04   \n",
       "                                 1   Compras/Servicos  6.716358e+04   \n",
       "                                     Obras             4.172672e+04   \n",
       "\n",
       "                                                                              \\\n",
       "                                                                std      min   \n",
       "Modalidade Compra                Tag Tipo                                      \n",
       "Concorrência                     0   Compras/Servicos  6.702492e+05  12017.0   \n",
       "                                     Obras             6.558882e+04  12018.0   \n",
       "                                 1   Compras/Servicos  5.182695e+07  12018.0   \n",
       "                                     Obras             2.960696e+04  12018.0   \n",
       "Concorrência - Registro de Preço 0   Compras/Servicos  4.560702e+04  12018.0   \n",
       "Concorrência Internacional       1   Compras/Servicos  1.165884e+06  82018.0   \n",
       "Concurso                         1   Compras/Servicos  1.940287e+04  12018.0   \n",
       "                                     Obras                      NaN  32017.0   \n",
       "Convite                          0   Compras/Servicos  5.543538e+06  12017.0   \n",
       "                                     Obras             1.902379e+04  12018.0   \n",
       "                                 1   Compras/Servicos  1.157581e+06  12018.0   \n",
       "                                     Obras             5.095608e+05  12018.0   \n",
       "Dispensa de Licitação            0   Compras/Servicos  1.012215e+08  12017.0   \n",
       "                                     Obras             1.027969e+08  12018.0   \n",
       "                                 1   Compras/Servicos  1.021765e+08  12018.0   \n",
       "                                     Obras             4.680056e+07  12018.0   \n",
       "Inexigibilidade de Licitação     1   Compras/Servicos  7.188846e+07  12016.0   \n",
       "                                     Obras             1.715953e+07  12018.0   \n",
       "Pregão                           1   Compras/Servicos  4.748078e+07  12017.0   \n",
       "                                     Obras             2.705407e+07  12018.0   \n",
       "Pregão - Registro de Preço       0   Compras/Servicos  1.895971e+07  12016.0   \n",
       "                                     Obras             6.287604e+07  12018.0   \n",
       "                                 1   Compras/Servicos  1.081266e+07  12017.0   \n",
       "                                     Obras             1.174973e+06  22018.0   \n",
       "Tomada de Preços                 0   Compras/Servicos  1.140195e+05  12017.0   \n",
       "                                     Obras             1.209913e+05  12017.0   \n",
       "                                 1   Compras/Servicos  1.818488e+05  12017.0   \n",
       "                                     Obras             4.138428e+04  12018.0   \n",
       "\n",
       "                                                                              \\\n",
       "                                                              25%        50%   \n",
       "Modalidade Compra                Tag Tipo                                      \n",
       "Concorrência                     0   Compras/Servicos    19517.25    32018.0   \n",
       "                                     Obras               12018.00    22018.0   \n",
       "                                 1   Compras/Servicos    12018.00    22018.0   \n",
       "                                     Obras               12018.00    22018.0   \n",
       "Concorrência - Registro de Preço 0   Compras/Servicos    22018.00    92018.0   \n",
       "Concorrência Internacional       1   Compras/Servicos  1137018.00  2082017.0   \n",
       "Concurso                         1   Compras/Servicos    12018.00    22018.0   \n",
       "                                     Obras               32017.00    32017.0   \n",
       "Convite                          0   Compras/Servicos    12018.00    12018.0   \n",
       "                                     Obras               12018.00    22018.0   \n",
       "                                 1   Compras/Servicos    19518.00    22018.0   \n",
       "                                     Obras               12018.00    22018.0   \n",
       "Dispensa de Licitação            0   Compras/Servicos   322018.00   892018.0   \n",
       "                                     Obras              172018.00   322018.0   \n",
       "                                 1   Compras/Servicos   352018.00   742018.0   \n",
       "                                     Obras              242018.00   572018.0   \n",
       "Inexigibilidade de Licitação     1   Compras/Servicos   122018.00   362018.0   \n",
       "                                     Obras              182018.00  1252018.0   \n",
       "Pregão                           1   Compras/Servicos   112018.00   282018.0   \n",
       "                                     Obras               62018.00   162018.0   \n",
       "Pregão - Registro de Preço       0   Compras/Servicos   102018.00   272018.0   \n",
       "                                     Obras               82018.00   187018.0   \n",
       "                                 1   Compras/Servicos    82018.00   252018.0   \n",
       "                                     Obras               87018.00   242018.0   \n",
       "Tomada de Preços                 0   Compras/Servicos    22018.00    32018.0   \n",
       "                                     Obras               12018.00    22018.0   \n",
       "                                 1   Compras/Servicos    12018.00    32017.0   \n",
       "                                     Obras               12018.00    22018.0   \n",
       "\n",
       "                                                                   \\\n",
       "                                                              75%   \n",
       "Modalidade Compra                Tag Tipo                           \n",
       "Concorrência                     0   Compras/Servicos    52018.00   \n",
       "                                     Obras               72018.00   \n",
       "                                 1   Compras/Servicos    57017.75   \n",
       "                                     Obras               42018.00   \n",
       "Concorrência - Registro de Preço 0   Compras/Servicos    92018.00   \n",
       "Concorrência Internacional       1   Compras/Servicos  2792017.00   \n",
       "Concurso                         1   Compras/Servicos    42018.00   \n",
       "                                     Obras               32017.00   \n",
       "Convite                          0   Compras/Servicos    12018.00   \n",
       "                                     Obras               37018.00   \n",
       "                                 1   Compras/Servicos    44518.00   \n",
       "                                     Obras               34518.00   \n",
       "Dispensa de Licitação            0   Compras/Servicos  3234518.00   \n",
       "                                     Obras              892018.00   \n",
       "                                 1   Compras/Servicos  1682018.00   \n",
       "                                     Obras             1482018.00   \n",
       "Inexigibilidade de Licitação     1   Compras/Servicos  1132018.00   \n",
       "                                     Obras             2052018.00   \n",
       "Pregão                           1   Compras/Servicos   782018.00   \n",
       "                                     Obras              472018.00   \n",
       "Pregão - Registro de Preço       0   Compras/Servicos   672018.00   \n",
       "                                     Obras              459518.00   \n",
       "                                 1   Compras/Servicos   624517.25   \n",
       "                                     Obras              664518.00   \n",
       "Tomada de Preços                 0   Compras/Servicos    84518.00   \n",
       "                                     Obras               52018.00   \n",
       "                                 1   Compras/Servicos    62018.00   \n",
       "                                     Obras               47018.00   \n",
       "\n",
       "                                                                   Código UG  \\\n",
       "                                                               max     count   \n",
       "Modalidade Compra                Tag Tipo                                      \n",
       "Concorrência                     0   Compras/Servicos    3602017.0      60.0   \n",
       "                                     Obras                352018.0      76.0   \n",
       "                                 1   Compras/Servicos  400202015.0      60.0   \n",
       "                                     Obras                122014.0      29.0   \n",
       "Concorrência - Registro de Preço 0   Compras/Servicos     112018.0       5.0   \n",
       "Concorrência Internacional       1   Compras/Servicos    3372017.0      11.0   \n",
       "Concurso                         1   Compras/Servicos      72018.0      17.0   \n",
       "                                     Obras                 32017.0       1.0   \n",
       "Convite                          0   Compras/Servicos   20002018.0      13.0   \n",
       "                                     Obras                 62018.0       7.0   \n",
       "                                 1   Compras/Servicos    5662018.0      48.0   \n",
       "                                     Obras               1972018.0      28.0   \n",
       "Dispensa de Licitação            0   Compras/Servicos  952682018.0    4560.0   \n",
       "                                     Obras             900102018.0     115.0   \n",
       "                                 1   Compras/Servicos  999992018.0   67597.0   \n",
       "                                     Obras             908292018.0    1249.0   \n",
       "Inexigibilidade de Licitação     1   Compras/Servicos  999022018.0   14161.0   \n",
       "                                     Obras             244012018.0     325.0   \n",
       "Pregão                           1   Compras/Servicos  900382018.0   10575.0   \n",
       "                                     Obras             240512018.0    1034.0   \n",
       "Pregão - Registro de Preço       0   Compras/Servicos  820182018.0   12014.0   \n",
       "                                     Obras             920182018.0     214.0   \n",
       "                                 1   Compras/Servicos  151002018.0     196.0   \n",
       "                                     Obras               4192018.0      12.0   \n",
       "Tomada de Preços                 0   Compras/Servicos    1082018.0     124.0   \n",
       "                                     Obras               1122018.0      96.0   \n",
       "                                 1   Compras/Servicos    1812018.0     206.0   \n",
       "                                     Obras                182018.0     103.0   \n",
       "\n",
       "                                                                      ...  \\\n",
       "                                                                mean  ...   \n",
       "Modalidade Compra                Tag Tipo                             ...   \n",
       "Concorrência                     0   Compras/Servicos  190197.766667  ...   \n",
       "                                     Obras             220872.052632  ...   \n",
       "                                 1   Compras/Servicos  239880.883333  ...   \n",
       "                                     Obras             237043.862069  ...   \n",
       "Concorrência - Registro de Preço 0   Compras/Servicos  172301.000000  ...   \n",
       "Concorrência Internacional       1   Compras/Servicos  218304.000000  ...   \n",
       "Concurso                         1   Compras/Servicos  243182.294118  ...   \n",
       "                                     Obras             344002.000000  ...   \n",
       "Convite                          0   Compras/Servicos  212945.923077  ...   \n",
       "                                     Obras             235410.714286  ...   \n",
       "                                 1   Compras/Servicos  266856.604167  ...   \n",
       "                                     Obras             236252.821429  ...   \n",
       "Dispensa de Licitação            0   Compras/Servicos  211680.318202  ...   \n",
       "                                     Obras             212795.634783  ...   \n",
       "                                 1   Compras/Servicos  216046.467107  ...   \n",
       "                                     Obras             213046.754203  ...   \n",
       "Inexigibilidade de Licitação     1   Compras/Servicos  203353.881152  ...   \n",
       "                                     Obras             185238.375385  ...   \n",
       "Pregão                           1   Compras/Servicos  428453.345532  ...   \n",
       "                                     Obras             319487.590909  ...   \n",
       "Pregão - Registro de Preço       0   Compras/Servicos  303267.184701  ...   \n",
       "                                     Obras             288140.182243  ...   \n",
       "                                 1   Compras/Servicos  373948.117347  ...   \n",
       "                                     Obras             350418.666667  ...   \n",
       "Tomada de Preços                 0   Compras/Servicos  205645.500000  ...   \n",
       "                                     Obras             257235.312500  ...   \n",
       "                                 1   Compras/Servicos  189842.174757  ...   \n",
       "                                     Obras             224547.844660  ...   \n",
       "\n",
       "                                                      Código Órgão           \\\n",
       "                                                               75%      max   \n",
       "Modalidade Compra                Tag Tipo                                     \n",
       "Concorrência                     0   Compras/Servicos     28824.00  52131.0   \n",
       "                                     Obras                26434.00  52131.0   \n",
       "                                 1   Compras/Servicos     52121.00  52131.0   \n",
       "                                     Obras                52111.00  52131.0   \n",
       "Concorrência - Registro de Preço 0   Compras/Servicos     26413.00  52121.0   \n",
       "Concorrência Internacional       1   Compras/Servicos     24000.00  52111.0   \n",
       "Concurso                         1   Compras/Servicos     26292.00  26350.0   \n",
       "                                     Obras                26292.00  26292.0   \n",
       "Convite                          0   Compras/Servicos     26436.00  52131.0   \n",
       "                                     Obras                44661.50  52121.0   \n",
       "                                 1   Compras/Servicos     52121.00  52221.0   \n",
       "                                     Obras                40931.75  52131.0   \n",
       "Dispensa de Licitação            0   Compras/Servicos     36000.00  97400.0   \n",
       "                                     Obras                36000.00  95320.0   \n",
       "                                 1   Compras/Servicos     52121.00  97400.0   \n",
       "                                     Obras                52121.00  96220.0   \n",
       "Inexigibilidade de Licitação     1   Compras/Servicos     36201.00  95320.0   \n",
       "                                     Obras                26432.00  63000.0   \n",
       "Pregão                           1   Compras/Servicos     91081.00  97400.0   \n",
       "                                     Obras                41963.00  97400.0   \n",
       "Pregão - Registro de Preço       0   Compras/Servicos     52121.00  97400.0   \n",
       "                                     Obras                52121.00  97400.0   \n",
       "                                 1   Compras/Servicos     52131.00  97400.0   \n",
       "                                     Obras                52123.50  93420.0   \n",
       "Tomada de Preços                 0   Compras/Servicos     52121.00  52221.0   \n",
       "                                     Obras                52111.00  52221.0   \n",
       "                                 1   Compras/Servicos     52121.00  52131.0   \n",
       "                                     Obras                52111.00  97120.0   \n",
       "\n",
       "                                                         Total                \\\n",
       "                                                         count          mean   \n",
       "Modalidade Compra                Tag Tipo                                      \n",
       "Concorrência                     0   Compras/Servicos     60.0  5.455414e+05   \n",
       "                                     Obras                76.0  1.358863e+06   \n",
       "                                 1   Compras/Servicos     60.0  5.333227e+06   \n",
       "                                     Obras                29.0  8.082590e+06   \n",
       "Concorrência - Registro de Preço 0   Compras/Servicos      5.0  5.389143e+04   \n",
       "Concorrência Internacional       1   Compras/Servicos     11.0  1.733756e+07   \n",
       "Concurso                         1   Compras/Servicos     17.0  3.969059e+04   \n",
       "                                     Obras                 1.0  1.600000e+05   \n",
       "Convite                          0   Compras/Servicos     13.0  1.537742e+05   \n",
       "                                     Obras                 7.0  2.184562e+04   \n",
       "                                 1   Compras/Servicos     48.0  8.345569e+04   \n",
       "                                     Obras                28.0  1.311967e+05   \n",
       "Dispensa de Licitação            0   Compras/Servicos   4560.0  2.480859e+06   \n",
       "                                     Obras               115.0  3.321567e+06   \n",
       "                                 1   Compras/Servicos  67597.0  4.188950e+03   \n",
       "                                     Obras              1249.0  8.238650e+03   \n",
       "Inexigibilidade de Licitação     1   Compras/Servicos  14161.0  5.357749e+05   \n",
       "                                     Obras               325.0  6.565760e+05   \n",
       "Pregão                           1   Compras/Servicos  10575.0  7.618533e+05   \n",
       "                                     Obras              1034.0  9.362342e+05   \n",
       "Pregão - Registro de Preço       0   Compras/Servicos  12014.0  5.069147e+04   \n",
       "                                     Obras               214.0  2.030688e+05   \n",
       "                                 1   Compras/Servicos    196.0  9.488653e+06   \n",
       "                                     Obras                12.0  1.088021e+07   \n",
       "Tomada de Preços                 0   Compras/Servicos    124.0  5.401918e+05   \n",
       "                                     Obras                96.0  1.469280e+05   \n",
       "                                 1   Compras/Servicos    206.0  5.268494e+05   \n",
       "                                     Obras               103.0  8.388796e+05   \n",
       "\n",
       "                                                                     \\\n",
       "                                                                std   \n",
       "Modalidade Compra                Tag Tipo                             \n",
       "Concorrência                     0   Compras/Servicos  4.533072e+05   \n",
       "                                     Obras             1.014003e+06   \n",
       "                                 1   Compras/Servicos  6.172871e+06   \n",
       "                                     Obras             6.096149e+06   \n",
       "Concorrência - Registro de Preço 0   Compras/Servicos  1.205049e+05   \n",
       "Concorrência Internacional       1   Compras/Servicos  3.722459e+07   \n",
       "Concurso                         1   Compras/Servicos  5.808848e+04   \n",
       "                                     Obras                      NaN   \n",
       "Convite                          0   Compras/Servicos  1.027304e+05   \n",
       "                                     Obras             7.246367e+03   \n",
       "                                 1   Compras/Servicos  4.145206e+04   \n",
       "                                     Obras             6.676371e+04   \n",
       "Dispensa de Licitação            0   Compras/Servicos  3.401670e+07   \n",
       "                                     Obras             1.081473e+07   \n",
       "                                 1   Compras/Servicos  4.357383e+03   \n",
       "                                     Obras             8.550424e+03   \n",
       "Inexigibilidade de Licitação     1   Compras/Servicos  8.584033e+06   \n",
       "                                     Obras             1.050316e+06   \n",
       "Pregão                           1   Compras/Servicos  6.131122e+06   \n",
       "                                     Obras             3.897006e+06   \n",
       "Pregão - Registro de Preço       0   Compras/Servicos  1.435133e+05   \n",
       "                                     Obras             4.963273e+05   \n",
       "                                 1   Compras/Servicos  2.550342e+07   \n",
       "                                     Obras             8.640452e+06   \n",
       "Tomada de Preços                 0   Compras/Servicos  8.263586e+05   \n",
       "                                     Obras             9.929621e+04   \n",
       "                                 1   Compras/Servicos  2.985093e+05   \n",
       "                                     Obras             5.172125e+05   \n",
       "\n",
       "                                                                   \\\n",
       "                                                              min   \n",
       "Modalidade Compra                Tag Tipo                           \n",
       "Concorrência                     0   Compras/Servicos        0.00   \n",
       "                                     Obras               32440.50   \n",
       "                                 1   Compras/Servicos  1570000.00   \n",
       "                                     Obras             3409023.96   \n",
       "Concorrência - Registro de Preço 0   Compras/Servicos        0.00   \n",
       "Concorrência Internacional       1   Compras/Servicos    66881.42   \n",
       "Concurso                         1   Compras/Servicos     3000.00   \n",
       "                                     Obras              160000.00   \n",
       "Convite                          0   Compras/Servicos       83.05   \n",
       "                                     Obras               14053.43   \n",
       "                                 1   Compras/Servicos    18999.00   \n",
       "                                     Obras               40088.13   \n",
       "Dispensa de Licitação            0   Compras/Servicos    17614.33   \n",
       "                                     Obras               33895.29   \n",
       "                                 1   Compras/Servicos        0.00   \n",
       "                                     Obras                   0.01   \n",
       "Inexigibilidade de Licitação     1   Compras/Servicos        0.01   \n",
       "                                     Obras                   0.01   \n",
       "Pregão                           1   Compras/Servicos        0.00   \n",
       "                                     Obras                   0.00   \n",
       "Pregão - Registro de Preço       0   Compras/Servicos        0.00   \n",
       "                                     Obras                   0.00   \n",
       "                                 1   Compras/Servicos  1433939.80   \n",
       "                                     Obras             4290000.00   \n",
       "Tomada de Preços                 0   Compras/Servicos        0.00   \n",
       "                                     Obras                   0.00   \n",
       "                                 1   Compras/Servicos   177430.37   \n",
       "                                     Obras              330302.12   \n",
       "\n",
       "                                                                     \\\n",
       "                                                                25%   \n",
       "Modalidade Compra                Tag Tipo                             \n",
       "Concorrência                     0   Compras/Servicos  1.052244e+05   \n",
       "                                     Obras             3.581441e+05   \n",
       "                                 1   Compras/Servicos  2.275523e+06   \n",
       "                                     Obras             4.071337e+06   \n",
       "Concorrência - Registro de Preço 0   Compras/Servicos  0.000000e+00   \n",
       "Concorrência Internacional       1   Compras/Servicos  1.440911e+05   \n",
       "Concurso                         1   Compras/Servicos  8.000000e+03   \n",
       "                                     Obras             1.600000e+05   \n",
       "Convite                          0   Compras/Servicos  1.659822e+04   \n",
       "                                     Obras             1.627683e+04   \n",
       "                                 1   Compras/Servicos  4.203962e+04   \n",
       "                                     Obras             6.902340e+04   \n",
       "Dispensa de Licitação            0   Compras/Servicos  3.186395e+04   \n",
       "                                     Obras             8.766349e+04   \n",
       "                                 1   Compras/Servicos  9.383000e+02   \n",
       "                                     Obras             1.705600e+03   \n",
       "Inexigibilidade de Licitação     1   Compras/Servicos  1.428000e+03   \n",
       "                                     Obras             4.000000e+03   \n",
       "Pregão                           1   Compras/Servicos  1.260000e+04   \n",
       "                                     Obras             4.602500e+04   \n",
       "Pregão - Registro de Preço       0   Compras/Servicos  2.000000e+02   \n",
       "                                     Obras             3.158000e+03   \n",
       "                                 1   Compras/Servicos  2.063430e+06   \n",
       "                                     Obras             6.255498e+06   \n",
       "Tomada de Preços                 0   Compras/Servicos  5.674750e+04   \n",
       "                                     Obras             7.243461e+04   \n",
       "                                 1   Compras/Servicos  2.859337e+05   \n",
       "                                     Obras             4.749311e+05   \n",
       "\n",
       "                                                                    \\\n",
       "                                                               50%   \n",
       "Modalidade Compra                Tag Tipo                            \n",
       "Concorrência                     0   Compras/Servicos   466933.270   \n",
       "                                     Obras             1287333.590   \n",
       "                                 1   Compras/Servicos  3552525.795   \n",
       "                                     Obras             6044632.750   \n",
       "Concorrência - Registro de Preço 0   Compras/Servicos        0.000   \n",
       "Concorrência Internacional       1   Compras/Servicos   888294.450   \n",
       "Concurso                         1   Compras/Servicos    18000.000   \n",
       "                                     Obras              160000.000   \n",
       "Convite                          0   Compras/Servicos   194247.890   \n",
       "                                     Obras               20230.120   \n",
       "                                 1   Compras/Servicos    79978.515   \n",
       "                                     Obras              126214.060   \n",
       "Dispensa de Licitação            0   Compras/Servicos    83587.120   \n",
       "                                     Obras              361991.990   \n",
       "                                 1   Compras/Servicos     2500.000   \n",
       "                                     Obras                5000.000   \n",
       "Inexigibilidade de Licitação     1   Compras/Servicos     5000.000   \n",
       "                                     Obras              215279.280   \n",
       "Pregão                           1   Compras/Servicos    47833.830   \n",
       "                                     Obras              149904.915   \n",
       "Pregão - Registro de Preço       0   Compras/Servicos     4266.105   \n",
       "                                     Obras               26821.875   \n",
       "                                 1   Compras/Servicos  3184278.000   \n",
       "                                     Obras             8460432.065   \n",
       "Tomada de Preços                 0   Compras/Servicos   118766.840   \n",
       "                                     Obras              119803.255   \n",
       "                                 1   Compras/Servicos   437168.280   \n",
       "                                     Obras              645385.230   \n",
       "\n",
       "                                                                     \\\n",
       "                                                                75%   \n",
       "Modalidade Compra                Tag Tipo                             \n",
       "Concorrência                     0   Compras/Servicos  9.551702e+05   \n",
       "                                     Obras             2.043738e+06   \n",
       "                                 1   Compras/Servicos  5.688618e+06   \n",
       "                                     Obras             8.523522e+06   \n",
       "Concorrência - Registro de Preço 0   Compras/Servicos  0.000000e+00   \n",
       "Concorrência Internacional       1   Compras/Servicos  1.442972e+06   \n",
       "Concurso                         1   Compras/Servicos  4.500000e+04   \n",
       "                                     Obras             1.600000e+05   \n",
       "Convite                          0   Compras/Servicos  2.353093e+05   \n",
       "                                     Obras             2.658833e+04   \n",
       "                                 1   Compras/Servicos  1.160009e+05   \n",
       "                                     Obras             1.727443e+05   \n",
       "Dispensa de Licitação            0   Compras/Servicos  4.000000e+05   \n",
       "                                     Obras             1.868894e+06   \n",
       "                                 1   Compras/Servicos  6.037000e+03   \n",
       "                                     Obras             1.250000e+04   \n",
       "Inexigibilidade de Licitação     1   Compras/Servicos  2.676932e+04   \n",
       "                                     Obras             1.077328e+06   \n",
       "Pregão                           1   Compras/Servicos  1.999200e+05   \n",
       "                                     Obras             5.225229e+05   \n",
       "Pregão - Registro de Preço       0   Compras/Servicos  2.980000e+04   \n",
       "                                     Obras             9.667500e+04   \n",
       "                                 1   Compras/Servicos  6.100905e+06   \n",
       "                                     Obras             1.288739e+07   \n",
       "Tomada de Preços                 0   Compras/Servicos  1.725145e+05   \n",
       "                                     Obras             2.464391e+05   \n",
       "                                 1   Compras/Servicos  7.249722e+05   \n",
       "                                     Obras             1.068229e+06   \n",
       "\n",
       "                                                                     \n",
       "                                                                max  \n",
       "Modalidade Compra                Tag Tipo                            \n",
       "Concorrência                     0   Compras/Servicos  1.379104e+06  \n",
       "                                     Obras             3.278397e+06  \n",
       "                                 1   Compras/Servicos  4.314288e+07  \n",
       "                                     Obras             2.723403e+07  \n",
       "Concorrência - Registro de Preço 0   Compras/Servicos  2.694572e+05  \n",
       "Concorrência Internacional       1   Compras/Servicos  9.574421e+07  \n",
       "Concurso                         1   Compras/Servicos  2.400000e+05  \n",
       "                                     Obras             1.600000e+05  \n",
       "Convite                          0   Compras/Servicos  2.597683e+05  \n",
       "                                     Obras             3.290544e+04  \n",
       "                                 1   Compras/Servicos  1.724415e+05  \n",
       "                                     Obras             2.571418e+05  \n",
       "Dispensa de Licitação            0   Compras/Servicos  1.549004e+09  \n",
       "                                     Obras             8.794440e+07  \n",
       "                                 1   Compras/Servicos  1.760000e+04  \n",
       "                                     Obras             3.300000e+04  \n",
       "Inexigibilidade de Licitação     1   Compras/Servicos  5.987247e+08  \n",
       "                                     Obras             1.050000e+07  \n",
       "Pregão                           1   Compras/Servicos  2.793588e+08  \n",
       "                                     Obras             6.196085e+07  \n",
       "Pregão - Registro de Preço       0   Compras/Servicos  1.429900e+06  \n",
       "                                     Obras             3.000000e+06  \n",
       "                                 1   Compras/Servicos  2.590500e+08  \n",
       "                                     Obras             3.588588e+07  \n",
       "Tomada de Preços                 0   Compras/Servicos  2.617185e+06  \n",
       "                                     Obras             3.253997e+05  \n",
       "                                 1   Compras/Servicos  1.339413e+06  \n",
       "                                     Obras             3.056225e+06  \n",
       "\n",
       "[28 rows x 48 columns]"
      ]
     },
     "execution_count": 133,
     "metadata": {},
     "output_type": "execute_result"
    }
   ],
   "source": [
    "lic_2018_com_tag.groupby(['Modalidade Compra','Tag', 'Tipo']).describe()"
   ]
  },
  {
   "cell_type": "code",
   "execution_count": null,
   "id": "bf817853",
   "metadata": {},
   "outputs": [],
   "source": []
  }
 ],
 "metadata": {
  "kernelspec": {
   "display_name": "Python 3 (ipykernel)",
   "language": "python",
   "name": "python3"
  },
  "language_info": {
   "codemirror_mode": {
    "name": "ipython",
    "version": 3
   },
   "file_extension": ".py",
   "mimetype": "text/x-python",
   "name": "python",
   "nbconvert_exporter": "python",
   "pygments_lexer": "ipython3",
   "version": "3.9.7"
  }
 },
 "nbformat": 4,
 "nbformat_minor": 5
}
