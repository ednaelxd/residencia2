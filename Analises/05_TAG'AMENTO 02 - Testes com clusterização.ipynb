{
 "cells": [
  {
   "cell_type": "code",
   "execution_count": 1,
   "id": "9f3451a5",
   "metadata": {},
   "outputs": [],
   "source": [
    "import pandas as pd\n",
    "import numpy as np"
   ]
  },
  {
   "cell_type": "markdown",
   "id": "5457ffa0",
   "metadata": {},
   "source": [
    "### Importação dos dados - Base de licitações gerada no arquivo anterior"
   ]
  },
  {
   "cell_type": "code",
   "execution_count": 2,
   "id": "2092bf42",
   "metadata": {},
   "outputs": [],
   "source": [
    "lic = pd.read_csv(r\"C:\\Users\\efvs\\Documents\\Residencia Ednael\\Repositórios\\residencia2\\Analises\\lic2.csv\")"
   ]
  },
  {
   "cell_type": "code",
   "execution_count": 3,
   "id": "4834fc10",
   "metadata": {},
   "outputs": [],
   "source": [
    "pd.options.display.max_colwidth = 30"
   ]
  },
  {
   "cell_type": "code",
   "execution_count": 4,
   "id": "e84aa927",
   "metadata": {},
   "outputs": [],
   "source": [
    "pd.options.display.max_rows = 1000"
   ]
  },
  {
   "cell_type": "code",
   "execution_count": 5,
   "id": "91fb0c02",
   "metadata": {},
   "outputs": [],
   "source": [
    "pd.set_option('display.float_format', lambda x: '%.5f' % x)"
   ]
  },
  {
   "cell_type": "code",
   "execution_count": 6,
   "id": "0c06fefe",
   "metadata": {},
   "outputs": [
    {
     "data": {
      "text/html": [
       "<div>\n",
       "<style scoped>\n",
       "    .dataframe tbody tr th:only-of-type {\n",
       "        vertical-align: middle;\n",
       "    }\n",
       "\n",
       "    .dataframe tbody tr th {\n",
       "        vertical-align: top;\n",
       "    }\n",
       "\n",
       "    .dataframe thead tr th {\n",
       "        text-align: left;\n",
       "    }\n",
       "\n",
       "    .dataframe thead tr:last-of-type th {\n",
       "        text-align: right;\n",
       "    }\n",
       "</style>\n",
       "<table border=\"1\" class=\"dataframe\">\n",
       "  <thead>\n",
       "    <tr>\n",
       "      <th></th>\n",
       "      <th colspan=\"4\" halign=\"left\">total</th>\n",
       "    </tr>\n",
       "    <tr>\n",
       "      <th></th>\n",
       "      <th>mean</th>\n",
       "      <th>min</th>\n",
       "      <th>max</th>\n",
       "      <th>std</th>\n",
       "    </tr>\n",
       "    <tr>\n",
       "      <th>Modalidade Compra</th>\n",
       "      <th></th>\n",
       "      <th></th>\n",
       "      <th></th>\n",
       "      <th></th>\n",
       "    </tr>\n",
       "  </thead>\n",
       "  <tbody>\n",
       "    <tr>\n",
       "      <th>Dispensa de Licitação</th>\n",
       "      <td>259632.08005</td>\n",
       "      <td>0.00000</td>\n",
       "      <td>57226785.00000</td>\n",
       "      <td>2419357.14685</td>\n",
       "    </tr>\n",
       "    <tr>\n",
       "      <th>Inexigibilidade de Licitação</th>\n",
       "      <td>1364805.37022</td>\n",
       "      <td>0.01000</td>\n",
       "      <td>341871720.35000</td>\n",
       "      <td>14203743.23438</td>\n",
       "    </tr>\n",
       "    <tr>\n",
       "      <th>Pregão</th>\n",
       "      <td>1556603.38102</td>\n",
       "      <td>0.00000</td>\n",
       "      <td>117008222.12000</td>\n",
       "      <td>6379831.69188</td>\n",
       "    </tr>\n",
       "    <tr>\n",
       "      <th>Pregão - Registro de Preço</th>\n",
       "      <td>436072.74549</td>\n",
       "      <td>0.00000</td>\n",
       "      <td>117538143.00000</td>\n",
       "      <td>3913877.77533</td>\n",
       "    </tr>\n",
       "  </tbody>\n",
       "</table>\n",
       "</div>"
      ],
      "text/plain": [
       "                                     total                          \\\n",
       "                                      mean     min             max   \n",
       "Modalidade Compra                                                    \n",
       "Dispensa de Licitação         259632.08005 0.00000  57226785.00000   \n",
       "Inexigibilidade de Licitação 1364805.37022 0.01000 341871720.35000   \n",
       "Pregão                       1556603.38102 0.00000 117008222.12000   \n",
       "Pregão - Registro de Preço    436072.74549 0.00000 117538143.00000   \n",
       "\n",
       "                                             \n",
       "                                        std  \n",
       "Modalidade Compra                            \n",
       "Dispensa de Licitação         2419357.14685  \n",
       "Inexigibilidade de Licitação 14203743.23438  \n",
       "Pregão                        6379831.69188  \n",
       "Pregão - Registro de Preço    3913877.77533  "
      ]
     },
     "execution_count": 6,
     "metadata": {},
     "output_type": "execute_result"
    }
   ],
   "source": [
    "lic.groupby(['Modalidade Compra']).agg({'total':['mean','min','max','std']})"
   ]
  },
  {
   "cell_type": "code",
   "execution_count": 7,
   "id": "8980319c",
   "metadata": {},
   "outputs": [
    {
     "data": {
      "text/plain": [
       "Dispensa de Licitação           1372\n",
       "Pregão - Registro de Preço      1115\n",
       "Pregão                           892\n",
       "Inexigibilidade de Licitação     635\n",
       "Name: Modalidade Compra, dtype: int64"
      ]
     },
     "execution_count": 7,
     "metadata": {},
     "output_type": "execute_result"
    }
   ],
   "source": [
    "lic.iloc[:,5].value_counts()"
   ]
  },
  {
   "cell_type": "code",
   "execution_count": 29,
   "id": "d02265c0",
   "metadata": {},
   "outputs": [],
   "source": [
    "# framework baseado em regras (alterável)\n",
    "# yml = json melhorado (pyyml)\n",
    "\n",
    "# Produzir ao fim uma TAG de suspeitos de desvio em licitações\n",
    "# detecção de anomalias ao longo do tempo\n",
    "\n",
    "# Modificar essa regra, para que seja baseada em algo já citado na literatura\n",
    "\n",
    "def categorizeDispensa(x):\n",
    "    #Inicialização das variáveis ------------------------------------\n",
    "    classif=[] #Variável que salva a classificação da divisão\n",
    "    div=[] #variável que salva o valor bruto da divisão pelos limites\n",
    "    #\n",
    "    teto_disp_o = 33000\n",
    "    teto_RP_o = 3300000\n",
    "    teto_Preg_o = 1\n",
    "    teto_INEX_o = 1\n",
    "    #\n",
    "    teto_disp_c = 17600\n",
    "    teto_RP_c = 1\n",
    "    teto_Preg_c = 1\n",
    "    teto_INEX_c = 1\n",
    "    #----------------------------------------------------------------\n",
    "    #Regras para licitações de obras\n",
    "    if x.iloc[0,-2]=='OBRAS':\n",
    "\n",
    "        '''if x.iloc[0,5]=='Dispensa de Licitação':\n",
    "            div = teto_disp_o/x.iloc[0,-3]\n",
    "            classif = ('O valor é {}% do teto'.format(div))'''\n",
    "            \n",
    "        if x.iloc[0,5]=='Pregão - Registro de Preço':\n",
    "            div = x.iloc[0,-3]/teto_RP_o\n",
    "            classif = ('O valor é {}% do teto ENTROU AQUI'.format(div))\n",
    "            \n",
    "        if x.iloc[0,5]=='Pregão':\n",
    "            div = x.iloc[0,-3]/1\n",
    "            classif = ('O valor é {}% do teto'.format(div))\n",
    "            \n",
    "        if x.iloc[0,5]=='Inexigibilidade de Licitação':\n",
    "            div = x.iloc[0,-3]/1\n",
    "            classif = ('O valor é {}% do teto'.format(div))\n",
    "            \n",
    "    #Regras para licitações de compras e serviços\n",
    "    else:\n",
    "\n",
    "        if x.iloc[0,5]=='Dispensa de Licitação':\n",
    "            div = x.iloc[0,-3]/teto_disp_c\n",
    "            classif = ('O valor é {}% do teto'.format(div))\n",
    "            \n",
    "        if x.iloc[0,5]=='Pregão - Registro de Preço':\n",
    "            div = x.iloc[0,-3]/1\n",
    "            classif = ('O valor é {}% do teto'.format(div))\n",
    "            \n",
    "        if x.iloc[0,5]=='Pregão':\n",
    "            div = x.iloc[0,-3]/1\n",
    "            classif = ('O valor é {}% do teto'.format(div))\n",
    "            \n",
    "        if x.iloc[0,5]=='Inexigibilidade de Licitação':\n",
    "            div = x.iloc[0,-3]/1\n",
    "            classif = ('O valor é {}% do teto'.format(div))\n",
    "            \n",
    "    return([div,classif])"
   ]
  },
  {
   "cell_type": "markdown",
   "id": "7727eee5",
   "metadata": {},
   "source": [
    "# Teste de Modelos\n",
    "\n",
    "- Categorização por diferença percentual do teto da classe"
   ]
  },
  {
   "cell_type": "code",
   "execution_count": 8,
   "id": "c68ae565",
   "metadata": {},
   "outputs": [],
   "source": [
    "lic['div_piso'] = 0"
   ]
  },
  {
   "cell_type": "code",
   "execution_count": 9,
   "id": "52250cbb",
   "metadata": {},
   "outputs": [
    {
     "name": "stderr",
     "output_type": "stream",
     "text": [
      "C:\\Users\\efvs\\AppData\\Local\\Temp/ipykernel_15164/2704201114.py:7: SettingWithCopyWarning: \n",
      "A value is trying to be set on a copy of a slice from a DataFrame\n",
      "\n",
      "See the caveats in the documentation: https://pandas.pydata.org/pandas-docs/stable/user_guide/indexing.html#returning-a-view-versus-a-copy\n",
      "  lic['div_piso'][linha]='n_se_aplica'\n",
      "C:\\Users\\efvs\\miniconda3\\envs\\rsd\\lib\\site-packages\\pandas\\core\\indexing.py:1732: SettingWithCopyWarning: \n",
      "A value is trying to be set on a copy of a slice from a DataFrame\n",
      "\n",
      "See the caveats in the documentation: https://pandas.pydata.org/pandas-docs/stable/user_guide/indexing.html#returning-a-view-versus-a-copy\n",
      "  self._setitem_single_block(indexer, value, name)\n"
     ]
    }
   ],
   "source": [
    "#criar função disso, para jogar num framework só\n",
    "for linha in range(len(lic['Modalidade Compra'])):\n",
    "    if lic['TAG'][linha]==1:\n",
    "        if (lic['Modalidade Compra'][linha] == 'Pregão - Registro de Preço'):\n",
    "            lic['div_piso'][linha]=lic['total'][linha]/3300000\n",
    "    else:\n",
    "        lic['div_piso'][linha]='n_se_aplica'"
   ]
  },
  {
   "cell_type": "code",
   "execution_count": 10,
   "id": "a5b48ff4",
   "metadata": {
    "scrolled": true
   },
   "outputs": [
    {
     "data": {
      "text/html": [
       "<div>\n",
       "<style scoped>\n",
       "    .dataframe tbody tr th:only-of-type {\n",
       "        vertical-align: middle;\n",
       "    }\n",
       "\n",
       "    .dataframe tbody tr th {\n",
       "        vertical-align: top;\n",
       "    }\n",
       "\n",
       "    .dataframe thead th {\n",
       "        text-align: right;\n",
       "    }\n",
       "</style>\n",
       "<table border=\"1\" class=\"dataframe\">\n",
       "  <thead>\n",
       "    <tr style=\"text-align: right;\">\n",
       "      <th></th>\n",
       "      <th>Unnamed: 0</th>\n",
       "      <th>Número Licitação</th>\n",
       "      <th>Código UG</th>\n",
       "      <th>Nome UG</th>\n",
       "      <th>Código Modalidade Compra</th>\n",
       "      <th>Modalidade Compra</th>\n",
       "      <th>Número Processo</th>\n",
       "      <th>Objeto</th>\n",
       "      <th>Situação Licitação</th>\n",
       "      <th>Código Órgão Superior</th>\n",
       "      <th>Nome Órgão Superior</th>\n",
       "      <th>Código Órgão</th>\n",
       "      <th>Nome Órgão</th>\n",
       "      <th>Município</th>\n",
       "      <th>Data Resultado Compra</th>\n",
       "      <th>Data Abertura</th>\n",
       "      <th>total</th>\n",
       "      <th>tipo</th>\n",
       "      <th>TAG</th>\n",
       "      <th>div_piso</th>\n",
       "    </tr>\n",
       "  </thead>\n",
       "  <tbody>\n",
       "    <tr>\n",
       "      <th>0</th>\n",
       "      <td>1</td>\n",
       "      <td>12020</td>\n",
       "      <td>154699</td>\n",
       "      <td>INST. FED. DO PARANA/CAMPU...</td>\n",
       "      <td>-99</td>\n",
       "      <td>Pregão - Registro de Preço</td>\n",
       "      <td>23411011872202019</td>\n",
       "      <td>Objeto: Pregão Eletrônico ...</td>\n",
       "      <td>Evento de Resultado de Jul...</td>\n",
       "      <td>26000</td>\n",
       "      <td>Ministério da Educação</td>\n",
       "      <td>26432</td>\n",
       "      <td>Instituto Federal do Paraná</td>\n",
       "      <td>LONDRINA</td>\n",
       "      <td>22/01/2021</td>\n",
       "      <td>14/12/2020</td>\n",
       "      <td>41998.08000</td>\n",
       "      <td>OBRAS</td>\n",
       "      <td>0</td>\n",
       "      <td>n_se_aplica</td>\n",
       "    </tr>\n",
       "    <tr>\n",
       "      <th>1</th>\n",
       "      <td>103</td>\n",
       "      <td>52020</td>\n",
       "      <td>155821</td>\n",
       "      <td>INST.FED.BAIANO / CAMPUS S...</td>\n",
       "      <td>-99</td>\n",
       "      <td>Pregão - Registro de Preço</td>\n",
       "      <td>23790251015202032</td>\n",
       "      <td>Objeto: Pregão Eletrônico ...</td>\n",
       "      <td>Evento de Suspensão Publicado</td>\n",
       "      <td>26000</td>\n",
       "      <td>Ministério da Educação</td>\n",
       "      <td>26404</td>\n",
       "      <td>Instituto Federal Baiano</td>\n",
       "      <td>SERRINHA</td>\n",
       "      <td>15/01/2021</td>\n",
       "      <td>05/01/2021</td>\n",
       "      <td>7969.80000</td>\n",
       "      <td>OBRAS</td>\n",
       "      <td>0</td>\n",
       "      <td>n_se_aplica</td>\n",
       "    </tr>\n",
       "    <tr>\n",
       "      <th>2</th>\n",
       "      <td>108</td>\n",
       "      <td>52020</td>\n",
       "      <td>160148</td>\n",
       "      <td>BASE DE ADMINISTRACAO E AP...</td>\n",
       "      <td>-99</td>\n",
       "      <td>Pregão - Registro de Preço</td>\n",
       "      <td>65263005692202099</td>\n",
       "      <td>Objeto: Pregão Eletrônico ...</td>\n",
       "      <td>Evento de Resultado de Jul...</td>\n",
       "      <td>52000</td>\n",
       "      <td>Ministério da Defesa</td>\n",
       "      <td>52121</td>\n",
       "      <td>Comando do Exército</td>\n",
       "      <td>BRASILIA</td>\n",
       "      <td>15/01/2021</td>\n",
       "      <td>11/01/2021</td>\n",
       "      <td>53640.96000</td>\n",
       "      <td>OBRAS</td>\n",
       "      <td>0</td>\n",
       "      <td>n_se_aplica</td>\n",
       "    </tr>\n",
       "    <tr>\n",
       "      <th>3</th>\n",
       "      <td>109</td>\n",
       "      <td>52020</td>\n",
       "      <td>160199</td>\n",
       "      <td>HOSPITAL MILITAR DE AREA D...</td>\n",
       "      <td>-99</td>\n",
       "      <td>Pregão - Registro de Preço</td>\n",
       "      <td>64583000150202016</td>\n",
       "      <td>Objeto: Pregão Eletrônico ...</td>\n",
       "      <td>Evento de Resultado de Jul...</td>\n",
       "      <td>52000</td>\n",
       "      <td>Ministério da Defesa</td>\n",
       "      <td>52121</td>\n",
       "      <td>Comando do Exército</td>\n",
       "      <td>RECIFE</td>\n",
       "      <td>25/01/2021</td>\n",
       "      <td>13/10/2020</td>\n",
       "      <td>13490.00000</td>\n",
       "      <td>OBRAS</td>\n",
       "      <td>0</td>\n",
       "      <td>n_se_aplica</td>\n",
       "    </tr>\n",
       "    <tr>\n",
       "      <th>4</th>\n",
       "      <td>128</td>\n",
       "      <td>62020</td>\n",
       "      <td>160082</td>\n",
       "      <td>PREFEITURA MILITAR DE BRAS...</td>\n",
       "      <td>-99</td>\n",
       "      <td>Pregão - Registro de Preço</td>\n",
       "      <td>64482011291202021</td>\n",
       "      <td>Objeto: Pregão Eletrônico ...</td>\n",
       "      <td>Evento de Resultado de Jul...</td>\n",
       "      <td>52000</td>\n",
       "      <td>Ministério da Defesa</td>\n",
       "      <td>52121</td>\n",
       "      <td>Comando do Exército</td>\n",
       "      <td>BRASILIA</td>\n",
       "      <td>13/01/2021</td>\n",
       "      <td>05/01/2021</td>\n",
       "      <td>803000.00000</td>\n",
       "      <td>OBRAS</td>\n",
       "      <td>0</td>\n",
       "      <td>n_se_aplica</td>\n",
       "    </tr>\n",
       "  </tbody>\n",
       "</table>\n",
       "</div>"
      ],
      "text/plain": [
       "   Unnamed: 0  Número Licitação  Código UG                        Nome UG  \\\n",
       "0           1             12020     154699  INST. FED. DO PARANA/CAMPU...   \n",
       "1         103             52020     155821  INST.FED.BAIANO / CAMPUS S...   \n",
       "2         108             52020     160148  BASE DE ADMINISTRACAO E AP...   \n",
       "3         109             52020     160199  HOSPITAL MILITAR DE AREA D...   \n",
       "4         128             62020     160082  PREFEITURA MILITAR DE BRAS...   \n",
       "\n",
       "   Código Modalidade Compra           Modalidade Compra    Número Processo  \\\n",
       "0                       -99  Pregão - Registro de Preço  23411011872202019   \n",
       "1                       -99  Pregão - Registro de Preço  23790251015202032   \n",
       "2                       -99  Pregão - Registro de Preço  65263005692202099   \n",
       "3                       -99  Pregão - Registro de Preço  64583000150202016   \n",
       "4                       -99  Pregão - Registro de Preço  64482011291202021   \n",
       "\n",
       "                          Objeto             Situação Licitação  \\\n",
       "0  Objeto: Pregão Eletrônico ...  Evento de Resultado de Jul...   \n",
       "1  Objeto: Pregão Eletrônico ...  Evento de Suspensão Publicado   \n",
       "2  Objeto: Pregão Eletrônico ...  Evento de Resultado de Jul...   \n",
       "3  Objeto: Pregão Eletrônico ...  Evento de Resultado de Jul...   \n",
       "4  Objeto: Pregão Eletrônico ...  Evento de Resultado de Jul...   \n",
       "\n",
       "   Código Órgão Superior     Nome Órgão Superior  Código Órgão  \\\n",
       "0                  26000  Ministério da Educação         26432   \n",
       "1                  26000  Ministério da Educação         26404   \n",
       "2                  52000    Ministério da Defesa         52121   \n",
       "3                  52000    Ministério da Defesa         52121   \n",
       "4                  52000    Ministério da Defesa         52121   \n",
       "\n",
       "                    Nome Órgão Município Data Resultado Compra Data Abertura  \\\n",
       "0  Instituto Federal do Paraná  LONDRINA            22/01/2021    14/12/2020   \n",
       "1     Instituto Federal Baiano  SERRINHA            15/01/2021    05/01/2021   \n",
       "2          Comando do Exército  BRASILIA            15/01/2021    11/01/2021   \n",
       "3          Comando do Exército    RECIFE            25/01/2021    13/10/2020   \n",
       "4          Comando do Exército  BRASILIA            13/01/2021    05/01/2021   \n",
       "\n",
       "         total   tipo  TAG     div_piso  \n",
       "0  41998.08000  OBRAS    0  n_se_aplica  \n",
       "1   7969.80000  OBRAS    0  n_se_aplica  \n",
       "2  53640.96000  OBRAS    0  n_se_aplica  \n",
       "3  13490.00000  OBRAS    0  n_se_aplica  \n",
       "4 803000.00000  OBRAS    0  n_se_aplica  "
      ]
     },
     "execution_count": 10,
     "metadata": {},
     "output_type": "execute_result"
    }
   ],
   "source": [
    "lic.head()"
   ]
  },
  {
   "cell_type": "markdown",
   "id": "7b91eadf",
   "metadata": {},
   "source": [
    "### Testes com clusterização\n",
    "- Divisão dos dados"
   ]
  },
  {
   "cell_type": "code",
   "execution_count": 11,
   "id": "26cd94d0",
   "metadata": {},
   "outputs": [],
   "source": [
    "#Ajuste da das datas pro formato correto\n",
    "lic['Data Resultado Compra']=pd.to_datetime(lic['Data Resultado Compra'],format='%d/%m/%Y')"
   ]
  },
  {
   "cell_type": "code",
   "execution_count": 12,
   "id": "c99b4184",
   "metadata": {},
   "outputs": [],
   "source": [
    "#Extração das datas\n",
    "data=lic[lic['Modalidade Compra']!='Pregão - Registro de Preço']['Data Resultado Compra']"
   ]
  },
  {
   "cell_type": "code",
   "execution_count": 13,
   "id": "28cf7451",
   "metadata": {},
   "outputs": [],
   "source": [
    "#Extração dos valores\n",
    "X=lic[lic['Modalidade Compra']!='Pregão - Registro de Preço']['total']"
   ]
  },
  {
   "cell_type": "code",
   "execution_count": 29,
   "id": "3a963e49",
   "metadata": {},
   "outputs": [],
   "source": [
    "#Normalização pelo valor máximo\n",
    "X=X/max(X)\n",
    "X=X.round(4)"
   ]
  },
  {
   "cell_type": "code",
   "execution_count": 30,
   "id": "2321f2b3",
   "metadata": {},
   "outputs": [],
   "source": [
    "X.reset_index(drop=True,inplace=True)"
   ]
  },
  {
   "cell_type": "code",
   "execution_count": 31,
   "id": "fa4b5d44",
   "metadata": {},
   "outputs": [],
   "source": [
    "data.reset_index(drop=True,inplace=True)"
   ]
  },
  {
   "cell_type": "code",
   "execution_count": 20,
   "id": "32e86d41",
   "metadata": {},
   "outputs": [],
   "source": [
    "data=np.array(data)\n",
    "data=data.reshape(-1,1)"
   ]
  },
  {
   "cell_type": "code",
   "execution_count": 32,
   "id": "0b6c9049",
   "metadata": {},
   "outputs": [],
   "source": [
    "serie_totais=pd.concat([X,data],axis=1)\n",
    "serie_totais.reset_index(inplace=True)\n",
    "serie_totais.set_index('Data Resultado Compra',inplace=True)\n",
    "del(serie_totais['index'])"
   ]
  },
  {
   "cell_type": "markdown",
   "id": "95d52c66",
   "metadata": {},
   "source": [
    "## KMEANS PARA TIMESERIES"
   ]
  },
  {
   "cell_type": "code",
   "execution_count": 27,
   "id": "7d9cb29d",
   "metadata": {},
   "outputs": [
    {
     "data": {
      "text/plain": [
       "<AxesSubplot:xlabel='Data Resultado Compra'>"
      ]
     },
     "execution_count": 27,
     "metadata": {},
     "output_type": "execute_result"
    },
    {
     "data": {
      "image/png": "[encoded data removed]",
      "text/plain": [
       "<Figure size 432x288 with 1 Axes>"
      ]
     },
     "metadata": {
      "needs_background": "light"
     },
     "output_type": "display_data"
    }
   ],
   "source": [
    "serie_totais.plot()"
   ]
  },
  {
   "cell_type": "code",
   "execution_count": 18,
   "id": "b10b8e81",
   "metadata": {},
   "outputs": [],
   "source": [
    "from tslearn.clustering import TimeSeriesKMeans\n",
    "model = TimeSeriesKMeans(n_clusters=4, metric=\"dtw\", max_iter=10)"
   ]
  },
  {
   "cell_type": "code",
   "execution_count": 19,
   "id": "2f6aefef",
   "metadata": {},
   "outputs": [
    {
     "data": {
      "text/plain": [
       "TimeSeriesKMeans(max_iter=10, metric='dtw', n_clusters=4)"
      ]
     },
     "execution_count": 19,
     "metadata": {},
     "output_type": "execute_result"
    }
   ],
   "source": [
    "model.fit(serie_totais)"
   ]
  },
  {
   "cell_type": "code",
   "execution_count": 20,
   "id": "2f990df0",
   "metadata": {},
   "outputs": [
    {
     "data": {
      "text/plain": [
       "array([[[0.00126906]],\n",
       "\n",
       "       [[1.        ]],\n",
       "\n",
       "       [[0.10994167]],\n",
       "\n",
       "       [[0.3423    ]]])"
      ]
     },
     "execution_count": 20,
     "metadata": {},
     "output_type": "execute_result"
    }
   ],
   "source": [
    "model.cluster_centers_"
   ]
  },
  {
   "cell_type": "code",
   "execution_count": 21,
   "id": "8ee30c2c",
   "metadata": {},
   "outputs": [
    {
     "name": "stderr",
     "output_type": "stream",
     "text": [
      "C:\\Users\\efvs\\miniconda3\\envs\\rsd\\lib\\site-packages\\tslearn\\utils\\utils.py:88: UserWarning: 2-Dimensional data passed. Assuming these are 2899 1-dimensional timeseries\n",
      "  warnings.warn('2-Dimensional data passed. Assuming these are '\n"
     ]
    }
   ],
   "source": [
    "predictions = model.predict(serie_totais)\n",
    "centers=model.cluster_centers_"
   ]
  },
  {
   "cell_type": "code",
   "execution_count": 24,
   "id": "d251624c",
   "metadata": {},
   "outputs": [
    {
     "data": {
      "text/plain": [
       "array([0, 0, 0, ..., 0, 0, 0], dtype=int64)"
      ]
     },
     "execution_count": 24,
     "metadata": {},
     "output_type": "execute_result"
    }
   ],
   "source": [
    "model."
   ]
  },
  {
   "cell_type": "code",
   "execution_count": 83,
   "id": "bd069bff",
   "metadata": {},
   "outputs": [
    {
     "data": {
      "text/html": [
       "<div>\n",
       "<style scoped>\n",
       "    .dataframe tbody tr th:only-of-type {\n",
       "        vertical-align: middle;\n",
       "    }\n",
       "\n",
       "    .dataframe tbody tr th {\n",
       "        vertical-align: top;\n",
       "    }\n",
       "\n",
       "    .dataframe thead th {\n",
       "        text-align: right;\n",
       "    }\n",
       "</style>\n",
       "<table border=\"1\" class=\"dataframe\">\n",
       "  <thead>\n",
       "    <tr style=\"text-align: right;\">\n",
       "      <th></th>\n",
       "      <th>Unnamed: 0</th>\n",
       "      <th>Número Licitação</th>\n",
       "      <th>Código UG</th>\n",
       "      <th>Nome UG</th>\n",
       "      <th>Código Modalidade Compra</th>\n",
       "      <th>Modalidade Compra</th>\n",
       "      <th>Número Processo</th>\n",
       "      <th>Objeto</th>\n",
       "      <th>Situação Licitação</th>\n",
       "      <th>Código Órgão Superior</th>\n",
       "      <th>Nome Órgão Superior</th>\n",
       "      <th>Código Órgão</th>\n",
       "      <th>Nome Órgão</th>\n",
       "      <th>Município</th>\n",
       "      <th>Data Resultado Compra</th>\n",
       "      <th>Data Abertura</th>\n",
       "      <th>total</th>\n",
       "      <th>tipo</th>\n",
       "      <th>TAG</th>\n",
       "    </tr>\n",
       "  </thead>\n",
       "  <tbody>\n",
       "    <tr>\n",
       "      <th>0</th>\n",
       "      <td>1</td>\n",
       "      <td>12020</td>\n",
       "      <td>154699</td>\n",
       "      <td>INST. FED. DO PARANA/CAMPU...</td>\n",
       "      <td>-99</td>\n",
       "      <td>Pregão - Registro de Preço</td>\n",
       "      <td>23411011872202019</td>\n",
       "      <td>Objeto: Pregão Eletrônico ...</td>\n",
       "      <td>Evento de Resultado de Jul...</td>\n",
       "      <td>26000</td>\n",
       "      <td>Ministério da Educação</td>\n",
       "      <td>26432</td>\n",
       "      <td>Instituto Federal do Paraná</td>\n",
       "      <td>LONDRINA</td>\n",
       "      <td>22/01/2021</td>\n",
       "      <td>14/12/2020</td>\n",
       "      <td>41998.08000</td>\n",
       "      <td>OBRAS</td>\n",
       "      <td>0</td>\n",
       "    </tr>\n",
       "    <tr>\n",
       "      <th>1</th>\n",
       "      <td>103</td>\n",
       "      <td>52020</td>\n",
       "      <td>155821</td>\n",
       "      <td>INST.FED.BAIANO / CAMPUS S...</td>\n",
       "      <td>-99</td>\n",
       "      <td>Pregão - Registro de Preço</td>\n",
       "      <td>23790251015202032</td>\n",
       "      <td>Objeto: Pregão Eletrônico ...</td>\n",
       "      <td>Evento de Suspensão Publicado</td>\n",
       "      <td>26000</td>\n",
       "      <td>Ministério da Educação</td>\n",
       "      <td>26404</td>\n",
       "      <td>Instituto Federal Baiano</td>\n",
       "      <td>SERRINHA</td>\n",
       "      <td>15/01/2021</td>\n",
       "      <td>05/01/2021</td>\n",
       "      <td>7969.80000</td>\n",
       "      <td>OBRAS</td>\n",
       "      <td>0</td>\n",
       "    </tr>\n",
       "    <tr>\n",
       "      <th>2</th>\n",
       "      <td>108</td>\n",
       "      <td>52020</td>\n",
       "      <td>160148</td>\n",
       "      <td>BASE DE ADMINISTRACAO E AP...</td>\n",
       "      <td>-99</td>\n",
       "      <td>Pregão - Registro de Preço</td>\n",
       "      <td>65263005692202099</td>\n",
       "      <td>Objeto: Pregão Eletrônico ...</td>\n",
       "      <td>Evento de Resultado de Jul...</td>\n",
       "      <td>52000</td>\n",
       "      <td>Ministério da Defesa</td>\n",
       "      <td>52121</td>\n",
       "      <td>Comando do Exército</td>\n",
       "      <td>BRASILIA</td>\n",
       "      <td>15/01/2021</td>\n",
       "      <td>11/01/2021</td>\n",
       "      <td>53640.96000</td>\n",
       "      <td>OBRAS</td>\n",
       "      <td>0</td>\n",
       "    </tr>\n",
       "    <tr>\n",
       "      <th>3</th>\n",
       "      <td>109</td>\n",
       "      <td>52020</td>\n",
       "      <td>160199</td>\n",
       "      <td>HOSPITAL MILITAR DE AREA D...</td>\n",
       "      <td>-99</td>\n",
       "      <td>Pregão - Registro de Preço</td>\n",
       "      <td>64583000150202016</td>\n",
       "      <td>Objeto: Pregão Eletrônico ...</td>\n",
       "      <td>Evento de Resultado de Jul...</td>\n",
       "      <td>52000</td>\n",
       "      <td>Ministério da Defesa</td>\n",
       "      <td>52121</td>\n",
       "      <td>Comando do Exército</td>\n",
       "      <td>RECIFE</td>\n",
       "      <td>25/01/2021</td>\n",
       "      <td>13/10/2020</td>\n",
       "      <td>13490.00000</td>\n",
       "      <td>OBRAS</td>\n",
       "      <td>0</td>\n",
       "    </tr>\n",
       "    <tr>\n",
       "      <th>4</th>\n",
       "      <td>128</td>\n",
       "      <td>62020</td>\n",
       "      <td>160082</td>\n",
       "      <td>PREFEITURA MILITAR DE BRAS...</td>\n",
       "      <td>-99</td>\n",
       "      <td>Pregão - Registro de Preço</td>\n",
       "      <td>64482011291202021</td>\n",
       "      <td>Objeto: Pregão Eletrônico ...</td>\n",
       "      <td>Evento de Resultado de Jul...</td>\n",
       "      <td>52000</td>\n",
       "      <td>Ministério da Defesa</td>\n",
       "      <td>52121</td>\n",
       "      <td>Comando do Exército</td>\n",
       "      <td>BRASILIA</td>\n",
       "      <td>13/01/2021</td>\n",
       "      <td>05/01/2021</td>\n",
       "      <td>803000.00000</td>\n",
       "      <td>OBRAS</td>\n",
       "      <td>0</td>\n",
       "    </tr>\n",
       "  </tbody>\n",
       "</table>\n",
       "</div>"
      ],
      "text/plain": [
       "   Unnamed: 0  Número Licitação  Código UG                        Nome UG  \\\n",
       "0           1             12020     154699  INST. FED. DO PARANA/CAMPU...   \n",
       "1         103             52020     155821  INST.FED.BAIANO / CAMPUS S...   \n",
       "2         108             52020     160148  BASE DE ADMINISTRACAO E AP...   \n",
       "3         109             52020     160199  HOSPITAL MILITAR DE AREA D...   \n",
       "4         128             62020     160082  PREFEITURA MILITAR DE BRAS...   \n",
       "\n",
       "   Código Modalidade Compra           Modalidade Compra    Número Processo  \\\n",
       "0                       -99  Pregão - Registro de Preço  23411011872202019   \n",
       "1                       -99  Pregão - Registro de Preço  23790251015202032   \n",
       "2                       -99  Pregão - Registro de Preço  65263005692202099   \n",
       "3                       -99  Pregão - Registro de Preço  64583000150202016   \n",
       "4                       -99  Pregão - Registro de Preço  64482011291202021   \n",
       "\n",
       "                          Objeto             Situação Licitação  \\\n",
       "0  Objeto: Pregão Eletrônico ...  Evento de Resultado de Jul...   \n",
       "1  Objeto: Pregão Eletrônico ...  Evento de Suspensão Publicado   \n",
       "2  Objeto: Pregão Eletrônico ...  Evento de Resultado de Jul...   \n",
       "3  Objeto: Pregão Eletrônico ...  Evento de Resultado de Jul...   \n",
       "4  Objeto: Pregão Eletrônico ...  Evento de Resultado de Jul...   \n",
       "\n",
       "   Código Órgão Superior     Nome Órgão Superior  Código Órgão  \\\n",
       "0                  26000  Ministério da Educação         26432   \n",
       "1                  26000  Ministério da Educação         26404   \n",
       "2                  52000    Ministério da Defesa         52121   \n",
       "3                  52000    Ministério da Defesa         52121   \n",
       "4                  52000    Ministério da Defesa         52121   \n",
       "\n",
       "                    Nome Órgão Município Data Resultado Compra Data Abertura  \\\n",
       "0  Instituto Federal do Paraná  LONDRINA            22/01/2021    14/12/2020   \n",
       "1     Instituto Federal Baiano  SERRINHA            15/01/2021    05/01/2021   \n",
       "2          Comando do Exército  BRASILIA            15/01/2021    11/01/2021   \n",
       "3          Comando do Exército    RECIFE            25/01/2021    13/10/2020   \n",
       "4          Comando do Exército  BRASILIA            13/01/2021    05/01/2021   \n",
       "\n",
       "         total   tipo  TAG  \n",
       "0  41998.08000  OBRAS    0  \n",
       "1   7969.80000  OBRAS    0  \n",
       "2  53640.96000  OBRAS    0  \n",
       "3  13490.00000  OBRAS    0  \n",
       "4 803000.00000  OBRAS    0  "
      ]
     },
     "execution_count": 83,
     "metadata": {},
     "output_type": "execute_result"
    }
   ],
   "source": [
    "lic.head()"
   ]
  },
  {
   "cell_type": "code",
   "execution_count": 35,
   "id": "3a65ba2f",
   "metadata": {},
   "outputs": [
    {
     "data": {
      "text/plain": [
       "<matplotlib.collections.PathCollection at 0x24fc19e9af0>"
      ]
     },
     "execution_count": 35,
     "metadata": {},
     "output_type": "execute_result"
    },
    {
     "data": {
      "image/png": "[encoded data removed]",
      "text/plain": [
       "<Figure size 720x504 with 1 Axes>"
      ]
     },
     "metadata": {
      "needs_background": "light"
     },
     "output_type": "display_data"
    }
   ],
   "source": [
    "from matplotlib import pyplot as plt\n",
    "plt.figure(figsize=(10,7))\n",
    "plt.scatter(serie_totais.index,serie_totais.iloc[:,0],c=predictions, s=30, cmap='tab10')\n",
    "#plt.scatter(centers[:, 0], centers[:, 1], c='blue', s=200, alpha=0.6)"
   ]
  },
  {
   "cell_type": "markdown",
   "id": "bd883ea0",
   "metadata": {},
   "source": [
    "## KMEANS NORMAL"
   ]
  },
  {
   "cell_type": "code",
   "execution_count": 19,
   "id": "a9d39373",
   "metadata": {
    "scrolled": true
   },
   "outputs": [
    {
     "data": {
      "text/plain": [
       "KMeans(n_clusters=4, random_state=0)"
      ]
     },
     "execution_count": 19,
     "metadata": {},
     "output_type": "execute_result"
    }
   ],
   "source": [
    "from sklearn.cluster import KMeans\n",
    "kmeans = KMeans(n_clusters=4, random_state=0).fit(serie_totais)\n",
    "kmeans.labels_\n",
    "kmeans.fit(serie_totais)"
   ]
  },
  {
   "cell_type": "code",
   "execution_count": 20,
   "id": "ee16b785",
   "metadata": {},
   "outputs": [],
   "source": [
    "predictions = kmeans.predict(serie_totais)\n",
    "centers=kmeans.cluster_centers_"
   ]
  },
  {
   "cell_type": "code",
   "execution_count": 21,
   "id": "2b43fc49",
   "metadata": {},
   "outputs": [
    {
     "data": {
      "text/plain": [
       "array([[7.94599365e-04],\n",
       "       [1.00000000e+00],\n",
       "       [1.33800000e-01],\n",
       "       [3.98608696e-02]])"
      ]
     },
     "execution_count": 21,
     "metadata": {},
     "output_type": "execute_result"
    }
   ],
   "source": [
    "kmeans.cluster_centers_"
   ]
  },
  {
   "cell_type": "code",
   "execution_count": 26,
   "id": "3f1ac262",
   "metadata": {},
   "outputs": [
    {
     "data": {
      "text/plain": [
       "0    2833\n",
       "3      46\n",
       "2      19\n",
       "1       1\n",
       "dtype: int64"
      ]
     },
     "execution_count": 26,
     "metadata": {},
     "output_type": "execute_result"
    }
   ],
   "source": [
    "pd.DataFrame(kmeans.labels_).value_counts()"
   ]
  },
  {
   "cell_type": "code",
   "execution_count": 27,
   "id": "a6084c9a",
   "metadata": {},
   "outputs": [],
   "source": [
    "lic['tags_02']=pd.DataFrame(kmeans.labels_)"
   ]
  },
  {
   "cell_type": "code",
   "execution_count": 33,
   "id": "18e51208",
   "metadata": {},
   "outputs": [],
   "source": [
    "serie_totais['tags_02']=pd.DataFrame(kmeans.labels_)"
   ]
  },
  {
   "cell_type": "code",
   "execution_count": 34,
   "id": "3bf9bc11",
   "metadata": {},
   "outputs": [
    {
     "data": {
      "text/html": [
       "<div>\n",
       "<style scoped>\n",
       "    .dataframe tbody tr th:only-of-type {\n",
       "        vertical-align: middle;\n",
       "    }\n",
       "\n",
       "    .dataframe tbody tr th {\n",
       "        vertical-align: top;\n",
       "    }\n",
       "\n",
       "    .dataframe thead tr th {\n",
       "        text-align: left;\n",
       "    }\n",
       "\n",
       "    .dataframe thead tr:last-of-type th {\n",
       "        text-align: right;\n",
       "    }\n",
       "</style>\n",
       "<table border=\"1\" class=\"dataframe\">\n",
       "  <thead>\n",
       "    <tr>\n",
       "      <th></th>\n",
       "      <th colspan=\"4\" halign=\"left\">total</th>\n",
       "    </tr>\n",
       "    <tr>\n",
       "      <th></th>\n",
       "      <th>mean</th>\n",
       "      <th>std</th>\n",
       "      <th>max</th>\n",
       "      <th>min</th>\n",
       "    </tr>\n",
       "    <tr>\n",
       "      <th>tags_02</th>\n",
       "      <th></th>\n",
       "      <th></th>\n",
       "      <th></th>\n",
       "      <th></th>\n",
       "    </tr>\n",
       "  </thead>\n",
       "  <tbody>\n",
       "  </tbody>\n",
       "</table>\n",
       "</div>"
      ],
      "text/plain": [
       "Empty DataFrame\n",
       "Columns: [(total, mean), (total, std), (total, max), (total, min)]\n",
       "Index: []"
      ]
     },
     "execution_count": 34,
     "metadata": {},
     "output_type": "execute_result"
    }
   ],
   "source": [
    "serie_totais.groupby(['tags_02']).agg({'total':['mean','std','max','min']})"
   ]
  },
  {
   "cell_type": "code",
   "execution_count": 22,
   "id": "aa9d5060",
   "metadata": {},
   "outputs": [
    {
     "data": {
      "text/plain": [
       "(array([18628., 18632., 18636., 18640., 18644., 18648., 18652., 18656.,\n",
       "        18659.]),\n",
       " [Text(0, 0, ''),\n",
       "  Text(0, 0, ''),\n",
       "  Text(0, 0, ''),\n",
       "  Text(0, 0, ''),\n",
       "  Text(0, 0, ''),\n",
       "  Text(0, 0, ''),\n",
       "  Text(0, 0, ''),\n",
       "  Text(0, 0, ''),\n",
       "  Text(0, 0, '')])"
      ]
     },
     "execution_count": 22,
     "metadata": {},
     "output_type": "execute_result"
    },
    {
     "data": {
      "image/png": "[encoded data removed]",
      "text/plain": [
       "<Figure size 720x504 with 1 Axes>"
      ]
     },
     "metadata": {
      "needs_background": "light"
     },
     "output_type": "display_data"
    }
   ],
   "source": [
    "# avaliar a variação do cluster mes a mes\n",
    "# Extrair as bordas de decisão\n",
    "#como interpretar o Kmeans\n",
    "\n",
    "from matplotlib import pyplot as plt\n",
    "plt.figure(figsize=(10,7))\n",
    "plt.scatter(serie_totais.index,serie_totais.iloc[:,0],c=predictions, s=30, cmap='tab10')\n",
    "plt.xticks(rotation=45,ha='right')\n",
    "#plt.scatter(centers[:, 0], centers[:, 1], c='blue', s=200, alpha=0.6)"
   ]
  },
  {
   "cell_type": "code",
   "execution_count": 41,
   "id": "a97f476d",
   "metadata": {},
   "outputs": [
    {
     "data": {
      "text/plain": [
       "Index(['total'], dtype='object')"
      ]
     },
     "execution_count": 41,
     "metadata": {},
     "output_type": "execute_result"
    }
   ],
   "source": [
    "serie_totais.columns"
   ]
  },
  {
   "cell_type": "code",
   "execution_count": 42,
   "id": "7df2a2a0",
   "metadata": {},
   "outputs": [],
   "source": [
    "labels=serie_totais.columns"
   ]
  },
  {
   "cell_type": "code",
   "execution_count": 43,
   "id": "39926247",
   "metadata": {},
   "outputs": [
    {
     "name": "stdout",
     "output_type": "stream",
     "text": [
      "# digits: 10; # samples: 1797; # features 64\n"
     ]
    }
   ],
   "source": [
    "import numpy as np\n",
    "from sklearn.datasets import load_digits\n",
    "\n",
    "serie_totais, labels = load_digits(return_X_y=True)\n",
    "(n_samples, n_features), n_digits = serie_totais.shape, np.unique(labels).size\n",
    "\n",
    "print(f\"# digits: {n_digits}; # samples: {n_samples}; # features {n_features}\")"
   ]
  },
  {
   "cell_type": "code",
   "execution_count": 44,
   "id": "69a0ca0d",
   "metadata": {
    "scrolled": false
   },
   "outputs": [
    {
     "name": "stdout",
     "output_type": "stream",
     "text": [
      "__________________________________________________________________________________\n",
      "init\t\ttime\tinertia\thomo\tcompl\tv-meas\tARI\tAMI\tsilhouette\n",
      "k-meansTS\t50.652s\t20\t0.123\t0.265\t0.168\t0.077\t0.164\t0.030\n",
      "k-means++\t0.076s\t69662\t0.680\t0.719\t0.699\t0.570\t0.695\t0.172\n",
      "random   \t0.139s\t89120\t0.364\t0.609\t0.456\t0.286\t0.454\t0.127\n",
      "k-means  \t0.141s\t89120\t0.364\t0.609\t0.456\t0.286\t0.454\t0.125\n",
      "PCA-based\t0.018s\t74152\t0.653\t0.683\t0.668\t0.539\t0.664\t0.125\n",
      "__________________________________________________________________________________\n"
     ]
    }
   ],
   "source": [
    "from sklearn.cluster import KMeans\n",
    "from sklearn.decomposition import PCA\n",
    "from functions import bench_k_means\n",
    "\n",
    "print(82 * \"_\")\n",
    "print(\"init\\t\\ttime\\tinertia\\thomo\\tcompl\\tv-meas\\tARI\\tAMI\\tsilhouette\")\n",
    "\n",
    "bench_k_means(kmeans=model, name=\"k-meansTS\", data=serie_totais, labels=labels)\n",
    "################\n",
    "kmeansMM = KMeans(init=\"k-means++\", n_clusters=n_digits, n_init=4, random_state=0)\n",
    "bench_k_means(kmeans=kmeansMM, name=\"k-means++\", data=serie_totais, labels=labels)\n",
    "\n",
    "kmeansRANDOM = KMeans(init=\"random\", n_clusters=n_digits, n_init=4, random_state=0)\n",
    "bench_k_means(kmeans=kmeans, name=\"random\", data=serie_totais, labels=labels)\n",
    "################\n",
    "bench_k_means(kmeans=kmeans, name=\"k-means\", data=serie_totais, labels=labels)\n",
    "\n",
    "pca = PCA(n_components=n_digits).fit(serie_totais)\n",
    "kmeanspca = KMeans(init=pca.components_, n_clusters=n_digits, n_init=1)\n",
    "bench_k_means(kmeans=kmeanspca, name=\"PCA-based\", data=serie_totais, labels=labels)\n",
    "\n",
    "\n",
    "print(82 * \"_\")"
   ]
  },
  {
   "cell_type": "code",
   "execution_count": 50,
   "id": "9217b1f5",
   "metadata": {
    "scrolled": true
   },
   "outputs": [
    {
     "data": {
      "text/plain": [
       "Dispensa de Licitação           1372\n",
       "Pregão - Registro de Preço      1115\n",
       "Pregão                           892\n",
       "Inexigibilidade de Licitação     635\n",
       "Name: Modalidade Compra, dtype: int64"
      ]
     },
     "execution_count": 50,
     "metadata": {},
     "output_type": "execute_result"
    }
   ],
   "source": [
    "lic['Modalidade Compra'].value_counts()"
   ]
  },
  {
   "cell_type": "code",
   "execution_count": 57,
   "id": "fc1a0e0f",
   "metadata": {},
   "outputs": [
    {
     "data": {
      "text/plain": [
       "<AxesSubplot:>"
      ]
     },
     "execution_count": 57,
     "metadata": {},
     "output_type": "execute_result"
    },
    {
     "data": {
      "image/png": "[encoded data removed]",
      "text/plain": [
       "<Figure size 432x288 with 1 Axes>"
      ]
     },
     "metadata": {
      "needs_background": "light"
     },
     "output_type": "display_data"
    }
   ],
   "source": [
    "lic[lic['Modalidade Compra']=='Dispensa de Licitação']['total'].plot.box()"
   ]
  },
  {
   "cell_type": "code",
   "execution_count": 58,
   "id": "73b1543e",
   "metadata": {},
   "outputs": [
    {
     "data": {
      "text/plain": [
       "<AxesSubplot:>"
      ]
     },
     "execution_count": 58,
     "metadata": {},
     "output_type": "execute_result"
    },
    {
     "data": {
      "image/png": "[encoded data removed]",
      "text/plain": [
       "<Figure size 432x288 with 1 Axes>"
      ]
     },
     "metadata": {
      "needs_background": "light"
     },
     "output_type": "display_data"
    }
   ],
   "source": [
    "lic[lic['Modalidade Compra']=='Pregão - Registro de Preço']['total'].plot.box()"
   ]
  },
  {
   "cell_type": "code",
   "execution_count": 61,
   "id": "b916daff",
   "metadata": {},
   "outputs": [
    {
     "data": {
      "text/plain": [
       "<AxesSubplot:>"
      ]
     },
     "execution_count": 61,
     "metadata": {},
     "output_type": "execute_result"
    },
    {
     "data": {
      "image/png": "[encoded data removed]",
      "text/plain": [
       "<Figure size 432x288 with 1 Axes>"
      ]
     },
     "metadata": {
      "needs_background": "light"
     },
     "output_type": "display_data"
    }
   ],
   "source": [
    "lic[lic['Modalidade Compra']=='Inexigibilidade de Licitação']['total'].plot.box()"
   ]
  },
  {
   "cell_type": "code",
   "execution_count": null,
   "id": "231db508",
   "metadata": {},
   "outputs": [],
   "source": []
  },
  {
   "cell_type": "code",
   "execution_count": 60,
   "id": "3755e27a",
   "metadata": {},
   "outputs": [
    {
     "data": {
      "text/plain": [
       "<AxesSubplot:>"
      ]
     },
     "execution_count": 60,
     "metadata": {},
     "output_type": "execute_result"
    },
    {
     "data": {
      "image/png": "[encoded data removed]",
      "text/plain": [
       "<Figure size 432x288 with 1 Axes>"
      ]
     },
     "metadata": {
      "needs_background": "light"
     },
     "output_type": "display_data"
    }
   ],
   "source": [
    "lic['total'].plot.box()"
   ]
  },
  {
   "cell_type": "markdown",
   "id": "0d93e4ba",
   "metadata": {},
   "source": [
    "### Testando para mais meses"
   ]
  },
  {
   "cell_type": "markdown",
   "id": "de237072",
   "metadata": {},
   "source": [
    "# FEV"
   ]
  },
  {
   "cell_type": "code",
   "execution_count": 66,
   "id": "c82310ca",
   "metadata": {},
   "outputs": [],
   "source": [
    "lic_fev = pd.read_csv(r\"C:\\Users\\efvs\\Documents\\Residencia Ednael\\Dados licitações\\Licitação\\202102_Licitaç¦o.csv\", encoding='latin-1',sep=';',decimal=',')\n",
    "lic_fev.rename(columns={\"Valor Licitação\": \"total\"},inplace=True)"
   ]
  },
  {
   "cell_type": "code",
   "execution_count": 69,
   "id": "8f3f694a",
   "metadata": {},
   "outputs": [],
   "source": [
    "lic_fev['Data Resultado Compra']=pd.to_datetime(lic_fev['Data Resultado Compra'],format='%d/%m/%Y')\n",
    "data=lic_fev[lic_fev['Modalidade Compra']!='Pregão - Registro de Preço']['Data Resultado Compra']\n",
    "X=lic_fev[lic_fev['Modalidade Compra']!='Pregão - Registro de Preço']['Valor Licitação']\n",
    "X=X/max(X)\n",
    "X=X.round(4)\n",
    "X.reset_index(drop=True,inplace=True)\n",
    "data.reset_index(drop=True,inplace=True)\n",
    "\n",
    "serie_totais=pd.concat([X,data],axis=1)\n",
    "serie_totais.reset_index(inplace=True)\n",
    "serie_totais.set_index('Data Resultado Compra',inplace=True)\n",
    "del(serie_totais['index'])"
   ]
  },
  {
   "cell_type": "code",
   "execution_count": 70,
   "id": "967d0a81",
   "metadata": {},
   "outputs": [
    {
     "data": {
      "text/plain": [
       "KMeans(n_clusters=4, random_state=0)"
      ]
     },
     "execution_count": 70,
     "metadata": {},
     "output_type": "execute_result"
    }
   ],
   "source": [
    "from sklearn.cluster import KMeans\n",
    "kmeans = KMeans(n_clusters=4, random_state=0).fit(serie_totais)\n",
    "kmeans.labels_\n",
    "kmeans.fit(serie_totais)"
   ]
  },
  {
   "cell_type": "code",
   "execution_count": 71,
   "id": "be681f99",
   "metadata": {},
   "outputs": [
    {
     "data": {
      "text/plain": [
       "TimeSeriesKMeans(max_iter=10, metric='dtw', n_clusters=4)"
      ]
     },
     "execution_count": 71,
     "metadata": {},
     "output_type": "execute_result"
    }
   ],
   "source": [
    "from tslearn.clustering import TimeSeriesKMeans\n",
    "model = TimeSeriesKMeans(n_clusters=4, metric=\"dtw\", max_iter=10)\n",
    "model.fit(serie_totais)"
   ]
  },
  {
   "cell_type": "code",
   "execution_count": 74,
   "id": "c94437a7",
   "metadata": {},
   "outputs": [
    {
     "name": "stdout",
     "output_type": "stream",
     "text": [
      "# digits: 10; # samples: 1797; # features 64\n"
     ]
    }
   ],
   "source": [
    "serie_totais, labels = load_digits(return_X_y=True)\n",
    "(n_samples, n_features), n_digits = serie_totais.shape, np.unique(labels).size\n",
    "\n",
    "print(f\"# digits: {n_digits}; # samples: {n_samples}; # features {n_features}\")"
   ]
  },
  {
   "cell_type": "code",
   "execution_count": 75,
   "id": "a8f06605",
   "metadata": {},
   "outputs": [
    {
     "name": "stdout",
     "output_type": "stream",
     "text": [
      "__________________________________________________________________________________\n",
      "init\t\ttime\tinertia\thomo\tcompl\tv-meas\tARI\tAMI\tsilhouette\n",
      "k-meansTS\t56.258s\t19\t0.096\t0.263\t0.141\t0.064\t0.136\t0.030\n",
      "k-means++\t0.073s\t69662\t0.680\t0.719\t0.699\t0.570\t0.695\t0.172\n",
      "random   \t0.137s\t89120\t0.364\t0.609\t0.456\t0.286\t0.454\t0.128\n",
      "k-means  \t0.142s\t89120\t0.364\t0.609\t0.456\t0.286\t0.454\t0.131\n",
      "PCA-based\t0.018s\t74152\t0.653\t0.683\t0.668\t0.539\t0.664\t0.135\n"
     ]
    }
   ],
   "source": [
    "from sklearn.cluster import KMeans\n",
    "from sklearn.decomposition import PCA\n",
    "\n",
    "print(82 * \"_\")\n",
    "print(\"init\\t\\ttime\\tinertia\\thomo\\tcompl\\tv-meas\\tARI\\tAMI\\tsilhouette\")\n",
    "\n",
    "bench_k_means(kmeans=model, name=\"k-meansTS\", data=serie_totais, labels=labels)\n",
    "################\n",
    "kmeansMM = KMeans(init=\"k-means++\", n_clusters=n_digits, n_init=4, random_state=0)\n",
    "bench_k_means(kmeans=kmeansMM, name=\"k-means++\", data=serie_totais, labels=labels)\n",
    "\n",
    "kmeansRANDOM = KMeans(init=\"random\", n_clusters=n_digits, n_init=4, random_state=0)\n",
    "bench_k_means(kmeans=kmeans, name=\"random\", data=serie_totais, labels=labels)\n",
    "################\n",
    "bench_k_means(kmeans=kmeans, name=\"k-means\", data=serie_totais, labels=labels)\n",
    "\n",
    "pca = PCA(n_components=n_digits).fit(serie_totais)\n",
    "kmeanspca = KMeans(init=pca.components_, n_clusters=n_digits, n_init=1)\n",
    "bench_k_means(kmeans=kmeanspca, name=\"PCA-based\", data=serie_totais, labels=labels)"
   ]
  },
  {
   "cell_type": "markdown",
   "id": "9d5cfacc",
   "metadata": {},
   "source": [
    "# MAR"
   ]
  },
  {
   "cell_type": "code",
   "execution_count": 67,
   "id": "886c1c34",
   "metadata": {},
   "outputs": [],
   "source": [
    "lic_mar = pd.read_csv(r\"C:\\Users\\efvs\\Documents\\Residencia Ednael\\Dados licitações\\Licitação\\202103_Licitaç¦o.csv\", encoding='latin-1',sep=';',decimal=',')\n",
    "lic_mar.rename(columns={\"Valor Licitação\": \"total\"},inplace=True)"
   ]
  },
  {
   "cell_type": "code",
   "execution_count": 79,
   "id": "a48a1af3",
   "metadata": {},
   "outputs": [],
   "source": [
    "lic_mar['Data Resultado Compra']=pd.to_datetime(lic_mar['Data Resultado Compra'],format='%d/%m/%Y')\n",
    "data=lic_mar[lic_mar['Modalidade Compra']!='Pregão - Registro de Preço']['Data Resultado Compra']\n",
    "X=lic_mar[lic_mar['Modalidade Compra']!='Pregão - Registro de Preço']['Valor Licitação']\n",
    "X=X/max(X)\n",
    "X=X.round(4)\n",
    "X.reset_index(drop=True,inplace=True)\n",
    "data.reset_index(drop=True,inplace=True)\n",
    "\n",
    "serie_totais=pd.concat([X,data],axis=1)\n",
    "serie_totais.reset_index(inplace=True)\n",
    "serie_totais.set_index('Data Resultado Compra',inplace=True)\n",
    "del(serie_totais['index'])"
   ]
  },
  {
   "cell_type": "code",
   "execution_count": 80,
   "id": "e703a726",
   "metadata": {},
   "outputs": [
    {
     "data": {
      "text/plain": [
       "KMeans(n_clusters=4, random_state=0)"
      ]
     },
     "execution_count": 80,
     "metadata": {},
     "output_type": "execute_result"
    }
   ],
   "source": [
    "kmeans = KMeans(n_clusters=4, random_state=0).fit(serie_totais)\n",
    "kmeans.labels_\n",
    "kmeans.fit(serie_totais)"
   ]
  },
  {
   "cell_type": "code",
   "execution_count": 81,
   "id": "2419d502",
   "metadata": {},
   "outputs": [
    {
     "data": {
      "text/plain": [
       "TimeSeriesKMeans(max_iter=10, metric='dtw', n_clusters=4)"
      ]
     },
     "execution_count": 81,
     "metadata": {},
     "output_type": "execute_result"
    }
   ],
   "source": [
    "model = TimeSeriesKMeans(n_clusters=4, metric=\"dtw\", max_iter=10)\n",
    "model.fit(serie_totais)"
   ]
  },
  {
   "cell_type": "code",
   "execution_count": 82,
   "id": "63c4fec5",
   "metadata": {},
   "outputs": [
    {
     "name": "stdout",
     "output_type": "stream",
     "text": [
      "# digits: 10; # samples: 1797; # features 64\n"
     ]
    }
   ],
   "source": [
    "serie_totais, labels = load_digits(return_X_y=True)\n",
    "(n_samples, n_features), n_digits = serie_totais.shape, np.unique(labels).size\n",
    "\n",
    "print(f\"# digits: {n_digits}; # samples: {n_samples}; # features {n_features}\")"
   ]
  },
  {
   "cell_type": "code",
   "execution_count": 83,
   "id": "501c2ab7",
   "metadata": {},
   "outputs": [
    {
     "name": "stdout",
     "output_type": "stream",
     "text": [
      "__________________________________________________________________________________\n",
      "init\t\ttime\tinertia\thomo\tcompl\tv-meas\tARI\tAMI\tsilhouette\n",
      "k-meansTS\t51.495s\t19\t0.093\t0.263\t0.138\t0.039\t0.133\t0.003\n",
      "k-means++\t0.079s\t69662\t0.680\t0.719\t0.699\t0.570\t0.695\t0.176\n",
      "random   \t0.165s\t89120\t0.364\t0.609\t0.456\t0.286\t0.454\t0.117\n",
      "k-means  \t0.169s\t89120\t0.364\t0.609\t0.456\t0.286\t0.454\t0.132\n",
      "PCA-based\t0.023s\t72686\t0.636\t0.658\t0.647\t0.521\t0.643\t0.129\n"
     ]
    }
   ],
   "source": [
    "print(82 * \"_\")\n",
    "print(\"init\\t\\ttime\\tinertia\\thomo\\tcompl\\tv-meas\\tARI\\tAMI\\tsilhouette\")\n",
    "\n",
    "bench_k_means(kmeans=model, name=\"k-meansTS\", data=serie_totais, labels=labels)\n",
    "################\n",
    "kmeansMM = KMeans(init=\"k-means++\", n_clusters=n_digits, n_init=4, random_state=0)\n",
    "bench_k_means(kmeans=kmeansMM, name=\"k-means++\", data=serie_totais, labels=labels)\n",
    "\n",
    "kmeansRANDOM = KMeans(init=\"random\", n_clusters=n_digits, n_init=4, random_state=0)\n",
    "bench_k_means(kmeans=kmeans, name=\"random\", data=serie_totais, labels=labels)\n",
    "################\n",
    "bench_k_means(kmeans=kmeans, name=\"k-means\", data=serie_totais, labels=labels)\n",
    "\n",
    "pca = PCA(n_components=n_digits).fit(serie_totais)\n",
    "kmeanspca = KMeans(init=pca.components_, n_clusters=n_digits, n_init=1)\n",
    "bench_k_means(kmeans=kmeanspca, name=\"PCA-based\", data=serie_totais, labels=labels)"
   ]
  },
  {
   "cell_type": "markdown",
   "id": "80c47927",
   "metadata": {},
   "source": [
    "## ABR"
   ]
  },
  {
   "cell_type": "code",
   "execution_count": 68,
   "id": "47fb183e",
   "metadata": {},
   "outputs": [],
   "source": [
    "lic_abr = pd.read_csv(r\"C:\\Users\\efvs\\Documents\\Residencia Ednael\\Dados licitações\\Licitação\\202104_Licitaç¦o.csv\", encoding='latin-1',sep=';',decimal=',')\n",
    "lic_abr.rename(columns={\"Valor Licitação\": \"total\"},inplace=True)"
   ]
  },
  {
   "cell_type": "code",
   "execution_count": 85,
   "id": "c0e9c907",
   "metadata": {},
   "outputs": [
    {
     "name": "stdout",
     "output_type": "stream",
     "text": [
      "# digits: 10; # samples: 1797; # features 64\n",
      "__________________________________________________________________________________\n",
      "init\t\ttime\tinertia\thomo\tcompl\tv-meas\tARI\tAMI\tsilhouette\n",
      "k-meansTS\t69.972s\t19\t0.144\t0.414\t0.214\t0.103\t0.210\t0.035\n",
      "k-means++\t0.072s\t69662\t0.680\t0.719\t0.699\t0.570\t0.695\t0.181\n",
      "random   \t0.137s\t89120\t0.364\t0.609\t0.456\t0.286\t0.454\t0.129\n",
      "k-means  \t0.140s\t89120\t0.364\t0.609\t0.456\t0.286\t0.454\t0.133\n",
      "PCA-based\t0.022s\t72686\t0.636\t0.658\t0.647\t0.521\t0.643\t0.142\n"
     ]
    }
   ],
   "source": [
    "lic_abr = pd.read_csv(r\"C:\\Users\\efvs\\Documents\\Residencia Ednael\\Dados licitações\\Licitação\\202104_Licitaç¦o.csv\", encoding='latin-1',sep=';',decimal=',')\n",
    "data=lic_abr[lic_abr['Modalidade Compra']!='Pregão - Registro de Preço']['Data Resultado Compra']\n",
    "X=lic_abr[lic_abr['Modalidade Compra']!='Pregão - Registro de Preço']['Valor Licitação']\n",
    "X=X/max(X)\n",
    "X=X.round(4)\n",
    "X.reset_index(drop=True,inplace=True)\n",
    "data.reset_index(drop=True,inplace=True)\n",
    "\n",
    "serie_totais=pd.concat([X,data],axis=1)\n",
    "serie_totais.reset_index(inplace=True)\n",
    "serie_totais.set_index('Data Resultado Compra',inplace=True)\n",
    "del(serie_totais['index'])\n",
    "\n",
    "kmeans = KMeans(n_clusters=4, random_state=0).fit(serie_totais)\n",
    "kmeans.labels_\n",
    "kmeans.fit(serie_totais)\n",
    "\n",
    "model = TimeSeriesKMeans(n_clusters=4, metric=\"dtw\", max_iter=10)\n",
    "model.fit(serie_totais)\n",
    "\n",
    "serie_totais, labels = load_digits(return_X_y=True)\n",
    "(n_samples, n_features), n_digits = serie_totais.shape, np.unique(labels).size\n",
    "\n",
    "print(f\"# digits: {n_digits}; # samples: {n_samples}; # features {n_features}\")\n",
    "\n",
    "print(82 * \"_\")\n",
    "print(\"init\\t\\ttime\\tinertia\\thomo\\tcompl\\tv-meas\\tARI\\tAMI\\tsilhouette\")\n",
    "\n",
    "bench_k_means(kmeans=model, name=\"k-meansTS\", data=serie_totais, labels=labels)\n",
    "################\n",
    "kmeansMM = KMeans(init=\"k-means++\", n_clusters=n_digits, n_init=4, random_state=0)\n",
    "bench_k_means(kmeans=kmeansMM, name=\"k-means++\", data=serie_totais, labels=labels)\n",
    "\n",
    "kmeansRANDOM = KMeans(init=\"random\", n_clusters=n_digits, n_init=4, random_state=0)\n",
    "bench_k_means(kmeans=kmeans, name=\"random\", data=serie_totais, labels=labels)\n",
    "################\n",
    "bench_k_means(kmeans=kmeans, name=\"k-means\", data=serie_totais, labels=labels)\n",
    "\n",
    "pca = PCA(n_components=n_digits).fit(serie_totais)\n",
    "kmeanspca = KMeans(init=pca.components_, n_clusters=n_digits, n_init=1)\n",
    "bench_k_means(kmeans=kmeanspca, name=\"PCA-based\", data=serie_totais, labels=labels)"
   ]
  },
  {
   "cell_type": "markdown",
   "id": "8b298261",
   "metadata": {},
   "source": [
    "## Analise conjunta"
   ]
  },
  {
   "cell_type": "code",
   "execution_count": 69,
   "id": "5ddd5bf7",
   "metadata": {},
   "outputs": [],
   "source": [
    "lic_all=pd.concat([lic,lic_fev,lic_mar,lic_abr])"
   ]
  },
  {
   "cell_type": "code",
   "execution_count": 70,
   "id": "b87fd17b",
   "metadata": {},
   "outputs": [
    {
     "data": {
      "text/plain": [
       "Index(['Unnamed: 0', 'Número Licitação', 'Código UG', 'Nome UG',\n",
       "       'Código Modalidade Compra', 'Modalidade Compra', 'Número Processo',\n",
       "       'Objeto', 'Situação Licitação', 'Código Órgão Superior',\n",
       "       'Nome Órgão Superior', 'Código Órgão', 'Nome Órgão', 'Município',\n",
       "       'Data Resultado Compra', 'Data Abertura', 'total', 'tipo', 'TAG'],\n",
       "      dtype='object')"
      ]
     },
     "execution_count": 70,
     "metadata": {},
     "output_type": "execute_result"
    }
   ],
   "source": [
    "lic_all.columns"
   ]
  },
  {
   "cell_type": "code",
   "execution_count": 71,
   "id": "8d88eead",
   "metadata": {
    "scrolled": true
   },
   "outputs": [
    {
     "data": {
      "text/plain": [
       "'kmeans = KMeans(n_clusters=4, random_state=0).fit(serie_totais)\\nkmeans.labels_\\nkmeans.fit(serie_totais)\\n\\nmodel = TimeSeriesKMeans(n_clusters=4, metric=\"dtw\", max_iter=10)\\nmodel.fit(serie_totais)\\n\\nserie_totais, labels = load_digits(return_X_y=True)\\n(n_samples, n_features), n_digits = serie_totais.shape, np.unique(labels).size\\n\\nprint(f\"# digits: {n_digits}; # samples: {n_samples}; # features {n_features}\")\\n\\nprint(82 * \"_\")\\nprint(\"init\\t\\ttime\\tinertia\\thomo\\tcompl\\tv-meas\\tARI\\tAMI\\tsilhouette\")\\n\\nbench_k_means(kmeans=model, name=\"k-meansTS\", data=serie_totais, labels=labels)\\n################\\nkmeansMM = KMeans(init=\"k-means++\", n_clusters=n_digits, n_init=4, random_state=0)\\nbench_k_means(kmeans=kmeansMM, name=\"k-means++\", data=serie_totais, labels=labels)\\n\\nkmeansRANDOM = KMeans(init=\"random\", n_clusters=n_digits, n_init=4, random_state=0)\\nbench_k_means(kmeans=kmeans, name=\"random\", data=serie_totais, labels=labels)\\n################\\nbench_k_means(kmeans=kmeans, name=\"k-means\", data=serie_totais, labels=labels)\\n\\npca = PCA(n_components=n_digits).fit(serie_totais)\\nkmeanspca = KMeans(init=pca.components_, n_clusters=n_digits, n_init=1)\\nbench_k_means(kmeans=kmeanspca, name=\"PCA-based\", data=serie_totais, labels=labels)'"
      ]
     },
     "execution_count": 71,
     "metadata": {},
     "output_type": "execute_result"
    }
   ],
   "source": [
    "data=lic_all[lic_all['Modalidade Compra']!='Pregão - Registro de Preço']['Data Resultado Compra']\n",
    "X=lic_all[lic_all['Modalidade Compra']!='Pregão - Registro de Preço']['total']\n",
    "X=X/max(X)\n",
    "X=X.round(4)\n",
    "X.reset_index(drop=True,inplace=True)\n",
    "data.reset_index(drop=True,inplace=True)\n",
    "\n",
    "serie_totais=pd.concat([X,data],axis=1)\n",
    "serie_totais.reset_index(inplace=True)\n",
    "serie_totais.set_index('Data Resultado Compra',inplace=True)\n",
    "del(serie_totais['index'])\n",
    "\n",
    "'''kmeans = KMeans(n_clusters=4, random_state=0).fit(serie_totais)\n",
    "kmeans.labels_\n",
    "kmeans.fit(serie_totais)\n",
    "\n",
    "model = TimeSeriesKMeans(n_clusters=4, metric=\"dtw\", max_iter=10)\n",
    "model.fit(serie_totais)\n",
    "\n",
    "serie_totais, labels = load_digits(return_X_y=True)\n",
    "(n_samples, n_features), n_digits = serie_totais.shape, np.unique(labels).size\n",
    "\n",
    "print(f\"# digits: {n_digits}; # samples: {n_samples}; # features {n_features}\")\n",
    "\n",
    "print(82 * \"_\")\n",
    "print(\"init\\t\\ttime\\tinertia\\thomo\\tcompl\\tv-meas\\tARI\\tAMI\\tsilhouette\")\n",
    "\n",
    "bench_k_means(kmeans=model, name=\"k-meansTS\", data=serie_totais, labels=labels)\n",
    "################\n",
    "kmeansMM = KMeans(init=\"k-means++\", n_clusters=n_digits, n_init=4, random_state=0)\n",
    "bench_k_means(kmeans=kmeansMM, name=\"k-means++\", data=serie_totais, labels=labels)\n",
    "\n",
    "kmeansRANDOM = KMeans(init=\"random\", n_clusters=n_digits, n_init=4, random_state=0)\n",
    "bench_k_means(kmeans=kmeans, name=\"random\", data=serie_totais, labels=labels)\n",
    "################\n",
    "bench_k_means(kmeans=kmeans, name=\"k-means\", data=serie_totais, labels=labels)\n",
    "\n",
    "pca = PCA(n_components=n_digits).fit(serie_totais)\n",
    "kmeanspca = KMeans(init=pca.components_, n_clusters=n_digits, n_init=1)\n",
    "bench_k_means(kmeans=kmeanspca, name=\"PCA-based\", data=serie_totais, labels=labels)'''"
   ]
  },
  {
   "cell_type": "code",
   "execution_count": 72,
   "id": "542c0a6d",
   "metadata": {},
   "outputs": [],
   "source": [
    "serie_totais=pd.concat([X,data],axis=1)\n",
    "serie_totais.reset_index(inplace=True)"
   ]
  },
  {
   "cell_type": "code",
   "execution_count": 73,
   "id": "535305d2",
   "metadata": {},
   "outputs": [
    {
     "data": {
      "text/plain": [
       "index                      int64\n",
       "total                    float64\n",
       "Data Resultado Compra     object\n",
       "dtype: object"
      ]
     },
     "execution_count": 73,
     "metadata": {},
     "output_type": "execute_result"
    }
   ],
   "source": [
    "serie_totais.dtypes"
   ]
  },
  {
   "cell_type": "code",
   "execution_count": 74,
   "id": "bd2cf392",
   "metadata": {},
   "outputs": [],
   "source": [
    "serie_totais['Data Resultado Compra'] = pd.to_datetime(serie_totais['Data Resultado Compra'],format='%d/%m/%Y')"
   ]
  },
  {
   "cell_type": "code",
   "execution_count": 75,
   "id": "4c185f67",
   "metadata": {},
   "outputs": [
    {
     "data": {
      "text/plain": [
       "index                             int64\n",
       "total                           float64\n",
       "Data Resultado Compra    datetime64[ns]\n",
       "dtype: object"
      ]
     },
     "execution_count": 75,
     "metadata": {},
     "output_type": "execute_result"
    }
   ],
   "source": [
    "serie_totais.dtypes"
   ]
  },
  {
   "cell_type": "code",
   "execution_count": 76,
   "id": "c3731664",
   "metadata": {},
   "outputs": [],
   "source": [
    "del(serie_totais['index'])"
   ]
  },
  {
   "cell_type": "code",
   "execution_count": 77,
   "id": "ab6cd2a6",
   "metadata": {},
   "outputs": [],
   "source": [
    "serie_totais2 = serie_totais"
   ]
  },
  {
   "cell_type": "code",
   "execution_count": 78,
   "id": "eadc8dd9",
   "metadata": {},
   "outputs": [],
   "source": [
    "serie_totais2.set_index('Data Resultado Compra', inplace = True)"
   ]
  },
  {
   "cell_type": "code",
   "execution_count": 79,
   "id": "d88d069d",
   "metadata": {},
   "outputs": [
    {
     "data": {
      "text/plain": [
       "<AxesSubplot:xlabel='Data Resultado Compra'>"
      ]
     },
     "execution_count": 79,
     "metadata": {},
     "output_type": "execute_result"
    },
    {
     "data": {
      "image/png": "[encoded data removed]",
      "text/plain": [
       "<Figure size 432x288 with 1 Axes>"
      ]
     },
     "metadata": {
      "needs_background": "light"
     },
     "output_type": "display_data"
    }
   ],
   "source": [
    "serie_totais2['total'].resample('D').mean().plot()"
   ]
  },
  {
   "cell_type": "code",
   "execution_count": 80,
   "id": "cf45887f",
   "metadata": {},
   "outputs": [],
   "source": [
    "serie_totais2.to_csv(\"../data/serie_test.csv\")"
   ]
  },
  {
   "cell_type": "code",
   "execution_count": 81,
   "id": "f32ffb23",
   "metadata": {},
   "outputs": [],
   "source": [
    "serie_totais2['total'].resample('D').mean().to_csv(\"../data/serie_test_agrupada.csv\")"
   ]
  },
  {
   "cell_type": "code",
   "execution_count": 82,
   "id": "013c1ddb",
   "metadata": {
    "scrolled": false
   },
   "outputs": [
    {
     "data": {
      "text/plain": [
       "<AxesSubplot:xlabel='Data Resultado Compra'>"
      ]
     },
     "execution_count": 82,
     "metadata": {},
     "output_type": "execute_result"
    },
    {
     "data": {
      "image/png": "[encoded data removed]",
      "text/plain": [
       "<Figure size 432x288 with 1 Axes>"
      ]
     },
     "metadata": {
      "needs_background": "light"
     },
     "output_type": "display_data"
    }
   ],
   "source": [
    "serie_totais.plot()"
   ]
  },
  {
   "cell_type": "markdown",
   "id": "05c110cd",
   "metadata": {},
   "source": [
    "FEVEREIRO\n",
    "__________________________________________________________________________________\n",
    "init\t\ttime\tinertia\thomo\tcompl\tv-meas\tARI\tAMI\tsilhouette\n",
    "k-meansTS\t56.258s\t19\t0.096\t0.263\t0.141\t0.064\t0.136\t0.030\n",
    "k-means++\t0.073s\t69662\t0.680\t0.719\t0.699\t0.570\t0.695\t0.172\n",
    "random   \t0.137s\t89120\t0.364\t0.609\t0.456\t0.286\t0.454\t0.128\n",
    "k-means  \t0.142s\t89120\t0.364\t0.609\t0.456\t0.286\t0.454\t0.131\n",
    "PCA-based\t0.018s\t74152\t0.653\t0.683\t0.668\t0.539\t0.664\t0.135"
   ]
  },
  {
   "cell_type": "code",
   "execution_count": 119,
   "id": "681acb58",
   "metadata": {},
   "outputs": [
    {
     "data": {
      "text/html": [
       "<div>\n",
       "<style scoped>\n",
       "    .dataframe tbody tr th:only-of-type {\n",
       "        vertical-align: middle;\n",
       "    }\n",
       "\n",
       "    .dataframe tbody tr th {\n",
       "        vertical-align: top;\n",
       "    }\n",
       "\n",
       "    .dataframe thead th {\n",
       "        text-align: right;\n",
       "    }\n",
       "</style>\n",
       "<table border=\"1\" class=\"dataframe\">\n",
       "  <thead>\n",
       "    <tr style=\"text-align: right;\">\n",
       "      <th></th>\n",
       "      <th>Número Licitação</th>\n",
       "      <th>Código UG</th>\n",
       "      <th>Nome UG</th>\n",
       "      <th>Código Modalidade Compra</th>\n",
       "      <th>Modalidade Compra</th>\n",
       "      <th>Número Processo</th>\n",
       "      <th>Objeto</th>\n",
       "      <th>Situação Licitação</th>\n",
       "      <th>Código Órgão Superior</th>\n",
       "      <th>Nome Órgão Superior</th>\n",
       "      <th>Código Órgão</th>\n",
       "      <th>Nome Órgão</th>\n",
       "      <th>Município</th>\n",
       "      <th>Data Resultado Compra</th>\n",
       "      <th>Data Abertura</th>\n",
       "      <th>total</th>\n",
       "    </tr>\n",
       "  </thead>\n",
       "  <tbody>\n",
       "    <tr>\n",
       "      <th>4062</th>\n",
       "      <td>222020</td>\n",
       "      <td>200331</td>\n",
       "      <td>FUNDO NACIONAL DE SEGURANC...</td>\n",
       "      <td>-99</td>\n",
       "      <td>Pregão - Registro de Preço</td>\n",
       "      <td>08020.008738/2019</td>\n",
       "      <td>Objeto: Pregão Eletrônico ...</td>\n",
       "      <td>Evento de Resultado de Jul...</td>\n",
       "      <td>30000</td>\n",
       "      <td>Ministério da Justiça e Se...</td>\n",
       "      <td>30911</td>\n",
       "      <td>Fundo Nacional de Seguranç...</td>\n",
       "      <td>BRASILIA</td>\n",
       "      <td>22/02/2021</td>\n",
       "      <td>16/10/2020</td>\n",
       "      <td>1162150270000.00000</td>\n",
       "    </tr>\n",
       "  </tbody>\n",
       "</table>\n",
       "</div>"
      ],
      "text/plain": [
       "      Número Licitação  Código UG                        Nome UG  \\\n",
       "4062            222020     200331  FUNDO NACIONAL DE SEGURANC...   \n",
       "\n",
       "      Código Modalidade Compra           Modalidade Compra    Número Processo  \\\n",
       "4062                       -99  Pregão - Registro de Preço  08020.008738/2019   \n",
       "\n",
       "                             Objeto             Situação Licitação  \\\n",
       "4062  Objeto: Pregão Eletrônico ...  Evento de Resultado de Jul...   \n",
       "\n",
       "      Código Órgão Superior            Nome Órgão Superior  Código Órgão  \\\n",
       "4062                  30000  Ministério da Justiça e Se...         30911   \n",
       "\n",
       "                         Nome Órgão Município Data Resultado Compra  \\\n",
       "4062  Fundo Nacional de Seguranç...  BRASILIA            22/02/2021   \n",
       "\n",
       "     Data Abertura               total  \n",
       "4062    16/10/2020 1162150270000.00000  "
      ]
     },
     "execution_count": 119,
     "metadata": {},
     "output_type": "execute_result"
    }
   ],
   "source": [
    "lic_fev[lic_fev['total']==1162150270000]"
   ]
  },
  {
   "cell_type": "code",
   "execution_count": 111,
   "id": "992b811e",
   "metadata": {
    "scrolled": true
   },
   "outputs": [
    {
     "data": {
      "text/plain": [
       "count            5619.00000\n",
       "mean        207464549.26781\n",
       "std       15503600847.26283\n",
       "min                 0.00000\n",
       "25%              1128.50000\n",
       "50%              5837.50000\n",
       "75%             41850.00000\n",
       "max     1162150270000.00000\n",
       "Name: total, dtype: float64"
      ]
     },
     "execution_count": 111,
     "metadata": {},
     "output_type": "execute_result"
    }
   ],
   "source": [
    "lic_fev['total'].describe()"
   ]
  },
  {
   "cell_type": "code",
   "execution_count": 107,
   "id": "53009489",
   "metadata": {},
   "outputs": [
    {
     "data": {
      "text/plain": [
       "<AxesSubplot:>"
      ]
     },
     "execution_count": 107,
     "metadata": {},
     "output_type": "execute_result"
    },
    {
     "data": {
      "image/png": "[encoded data removed]",
      "text/plain": [
       "<Figure size 432x288 with 1 Axes>"
      ]
     },
     "metadata": {
      "needs_background": "light"
     },
     "output_type": "display_data"
    }
   ],
   "source": [
    "lic_fev[lic_fev['total']!=0]['total'].plot.box()"
   ]
  },
  {
   "cell_type": "markdown",
   "id": "0e72e56f",
   "metadata": {},
   "source": [
    "MARÇO\n",
    "__________________________________________________________________________________\n",
    "init\t\ttime\tinertia\thomo\tcompl\tv-meas\tARI\tAMI\tsilhouette\n",
    "k-meansTS\t51.495s\t19\t0.093\t0.263\t0.138\t0.039\t0.133\t0.003\n",
    "k-means++\t0.079s\t69662\t0.680\t0.719\t0.699\t0.570\t0.695\t0.176\n",
    "random   \t0.165s\t89120\t0.364\t0.609\t0.456\t0.286\t0.454\t0.117\n",
    "k-means  \t0.169s\t89120\t0.364\t0.609\t0.456\t0.286\t0.454\t0.132\n",
    "PCA-based\t0.023s\t72686\t0.636\t0.658\t0.647\t0.521\t0.643\t0.129"
   ]
  },
  {
   "cell_type": "code",
   "execution_count": 99,
   "id": "d11dcf10",
   "metadata": {},
   "outputs": [
    {
     "data": {
      "text/plain": [
       "<AxesSubplot:>"
      ]
     },
     "execution_count": 99,
     "metadata": {},
     "output_type": "execute_result"
    },
    {
     "data": {
      "image/png": "[encoded data removed]",
      "text/plain": [
       "<Figure size 432x288 with 1 Axes>"
      ]
     },
     "metadata": {
      "needs_background": "light"
     },
     "output_type": "display_data"
    }
   ],
   "source": [
    "lic_mar['total'].plot.box()"
   ]
  },
  {
   "cell_type": "markdown",
   "id": "4e377537",
   "metadata": {},
   "source": [
    "ABRIL\n",
    "__________________________________________________________________________________\n",
    "init\t\ttime\tinertia\thomo\tcompl\tv-meas\tARI\tAMI\tsilhouette\n",
    "k-meansTS\t49.521s\t19\t0.140\t0.323\t0.196\t0.095\t0.192\t-0.008\n",
    "k-means++\t0.073s\t69662\t0.680\t0.719\t0.699\t0.570\t0.695\t0.183\n",
    "random   \t0.137s\t89120\t0.364\t0.609\t0.456\t0.286\t0.454\t0.132\n",
    "k-means  \t0.141s\t89120\t0.364\t0.609\t0.456\t0.286\t0.454\t0.126\n",
    "PCA-based\t0.021s\t72686\t0.636\t0.658\t0.647\t0.521\t0.643\t0.162"
   ]
  },
  {
   "cell_type": "code",
   "execution_count": 100,
   "id": "08fb0b33",
   "metadata": {},
   "outputs": [
    {
     "data": {
      "text/plain": [
       "<AxesSubplot:>"
      ]
     },
     "execution_count": 100,
     "metadata": {},
     "output_type": "execute_result"
    },
    {
     "data": {
      "image/png": "[encoded data removed]",
      "text/plain": [
       "<Figure size 432x288 with 1 Axes>"
      ]
     },
     "metadata": {
      "needs_background": "light"
     },
     "output_type": "display_data"
    }
   ],
   "source": [
    "lic_abr['total'].plot.box()"
   ]
  },
  {
   "cell_type": "markdown",
   "id": "a00501cb",
   "metadata": {},
   "source": [
    "## APLICANDO PARA INEXIBILIDADE - LEGAIS"
   ]
  },
  {
   "cell_type": "code",
   "execution_count": null,
   "id": "2aa028fe",
   "metadata": {},
   "outputs": [],
   "source": [
    "inex_datas=lic[(lic['Modalidade Compra']=='Inexigibilidade de Licitação') & (lic['TAG']==1)]['Data Resultado Compra']\n",
    "inex_totais=lic[(lic['Modalidade Compra']=='Inexigibilidade de Licitação') & (lic['TAG']==1)]['total']"
   ]
  },
  {
   "cell_type": "code",
   "execution_count": null,
   "id": "54030a7b",
   "metadata": {},
   "outputs": [],
   "source": [
    "inex_totais=inex_totais/max(inex_totais)"
   ]
  },
  {
   "cell_type": "code",
   "execution_count": null,
   "id": "6c77713c",
   "metadata": {},
   "outputs": [],
   "source": [
    "serie_totais_inex=pd.concat([inex_datas,inex_totais],axis=1)"
   ]
  },
  {
   "cell_type": "code",
   "execution_count": null,
   "id": "c36f83f9",
   "metadata": {},
   "outputs": [],
   "source": [
    "serie_totais_inex.set_index('Data Resultado Compra',inplace=True)"
   ]
  },
  {
   "cell_type": "code",
   "execution_count": null,
   "id": "94ec15a1",
   "metadata": {},
   "outputs": [],
   "source": [
    "from sklearn.cluster import KMeans\n",
    "kmeans = KMeans(n_clusters=4, random_state=0).fit(serie_totais_inex)\n",
    "kmeans.labels_\n",
    "kmeans.fit(serie_totais_inex)\n",
    "\n",
    "predictions = kmeans.predict(serie_totais_inex)\n",
    "centers=kmeans.cluster_centers_\n",
    "\n",
    "kmeans.cluster_centers_\n",
    "\n",
    "from matplotlib import pyplot as plt\n",
    "plt.figure(figsize=(10,7))\n",
    "plt.scatter(serie_totais_inex.index,serie_totais_inex.iloc[:,0],c=predictions, s=30, cmap='tab10')\n",
    "plt.xticks(rotation=45,ha='right')"
   ]
  },
  {
   "cell_type": "markdown",
   "id": "c9ec20b0",
   "metadata": {},
   "source": [
    "## APLICANDO PARA PREGÃO - LEGAIS"
   ]
  },
  {
   "cell_type": "code",
   "execution_count": null,
   "id": "d7aacb74",
   "metadata": {},
   "outputs": [],
   "source": [
    "preg_datas=lic[(lic['Modalidade Compra']=='Pregão') & (lic['TAG']==1)]['Data Resultado Compra']\n",
    "preg_totais=lic[(lic['Modalidade Compra']=='Pregão') & (lic['TAG']==1)]['total']"
   ]
  },
  {
   "cell_type": "code",
   "execution_count": null,
   "id": "ed9a75cd",
   "metadata": {},
   "outputs": [],
   "source": [
    "preg_totais=preg_totais/max(inex_totais)"
   ]
  },
  {
   "cell_type": "code",
   "execution_count": null,
   "id": "70e3d88a",
   "metadata": {},
   "outputs": [],
   "source": [
    "serie_totais_preg=pd.concat([preg_datas,preg_totais],axis=1)"
   ]
  },
  {
   "cell_type": "code",
   "execution_count": null,
   "id": "94b9f6cb",
   "metadata": {},
   "outputs": [],
   "source": [
    "serie_totais_preg.set_index('Data Resultado Compra',inplace=True)"
   ]
  },
  {
   "cell_type": "code",
   "execution_count": null,
   "id": "f64c74f8",
   "metadata": {},
   "outputs": [],
   "source": [
    "from sklearn.cluster import KMeans\n",
    "kmeans = KMeans(n_clusters=4, random_state=0).fit(serie_totais_preg)\n",
    "kmeans.labels_\n",
    "kmeans.fit(serie_totais_preg)\n",
    "\n",
    "predictions = kmeans.predict(serie_totais_preg)\n",
    "centers=kmeans.cluster_centers_\n",
    "\n",
    "kmeans.cluster_centers_\n",
    "\n",
    "from matplotlib import pyplot as plt\n",
    "plt.figure(figsize=(10,7))\n",
    "plt.scatter(serie_totais_preg.index,serie_totais_preg.iloc[:,0],c=predictions, s=30, cmap='tab10')\n",
    "plt.xticks(rotation=45,ha='right')"
   ]
  },
  {
   "cell_type": "markdown",
   "id": "d32198e0",
   "metadata": {},
   "source": []
  },
  {
   "cell_type": "code",
   "execution_count": null,
   "id": "3ae1d8e0",
   "metadata": {},
   "outputs": [],
   "source": []
  },
  {
   "cell_type": "code",
   "execution_count": null,
   "id": "108b39f5",
   "metadata": {},
   "outputs": [],
   "source": []
  }
 ],
 "metadata": {
  "kernelspec": {
   "display_name": "Python 3 (ipykernel)",
   "language": "python",
   "name": "python3"
  },
  "language_info": {
   "codemirror_mode": {
    "name": "ipython",
    "version": 3
   },
   "file_extension": ".py",
   "mimetype": "text/x-python",
   "name": "python",
   "nbconvert_exporter": "python",
   "pygments_lexer": "ipython3",
   "version": "3.9.7"
  }
 },
 "nbformat": 4,
 "nbformat_minor": 5
}
