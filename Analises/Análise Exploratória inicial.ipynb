{
 "cells": [
  {
   "cell_type": "code",
   "execution_count": 131,
   "id": "3e72e3a8",
   "metadata": {},
   "outputs": [],
   "source": [
    "import pandas as pd\n",
    "import numpy as np\n",
    "import matplotlib.pyplot as plt"
   ]
  },
  {
   "cell_type": "code",
   "execution_count": 132,
   "id": "1878a5c5",
   "metadata": {},
   "outputs": [
    {
     "name": "stderr",
     "output_type": "stream",
     "text": [
      "C:\\Users\\gabri\\anaconda3\\lib\\site-packages\\IPython\\core\\interactiveshell.py:3165: DtypeWarning: Columns (15) have mixed types.Specify dtype option on import or set low_memory=False.\n",
      "  has_raised = await self.run_ast_nodes(code_ast.body, cell_name,\n"
     ]
    }
   ],
   "source": [
    "#Lendo os Arquivos \n",
    "lic_2018=pd.read_csv(\"lic_2018_com_tag.csv\")\n",
    "lic_2019=pd.read_csv(\"lic_2019_com_tag.csv\")\n",
    "lic_2020=pd.read_csv(\"lic_2020_com_tag.csv\")\n",
    "lic_2021=pd.read_csv(\"lic_2021_com_tag.csv\")"
   ]
  },
  {
   "cell_type": "code",
   "execution_count": 133,
   "id": "1d14013b",
   "metadata": {},
   "outputs": [],
   "source": [
    "li= []\n",
    "li.append(lic_2018)\n",
    "li.append(lic_2019)\n",
    "li.append(lic_2020)\n",
    "li.append(lic_2021)\n",
    "\n",
    "lic = pd.concat(li, axis=0, ignore_index=True)"
   ]
  },
  {
   "cell_type": "code",
   "execution_count": 134,
   "id": "25d5d2c2",
   "metadata": {},
   "outputs": [
    {
     "name": "stderr",
     "output_type": "stream",
     "text": [
      "<ipython-input-134-9e4cb7f97f4b>:1: SettingWithCopyWarning: \n",
      "A value is trying to be set on a copy of a slice from a DataFrame\n",
      "\n",
      "See the caveats in the documentation: https://pandas.pydata.org/pandas-docs/stable/user_guide/indexing.html#returning-a-view-versus-a-copy\n",
      "  lic[\"Modalidade Compra\"][(lic['Modalidade Compra']  == 'Pregão - Registro de Preço') | (lic['Modalidade Compra'] == 'Concorrência - Registro de Preço') | (lic['Modalidade Compra'] == 'Concorrência')] = \"Concorrência\"\n"
     ]
    }
   ],
   "source": [
    "lic[\"Modalidade Compra\"][(lic['Modalidade Compra']  == 'Pregão - Registro de Preço') | (lic['Modalidade Compra'] == 'Concorrência - Registro de Preço') | (lic['Modalidade Compra'] == 'Concorrência')] = \"Concorrência\""
   ]
  },
  {
   "cell_type": "code",
   "execution_count": 135,
   "id": "5ae66250",
   "metadata": {
    "scrolled": true
   },
   "outputs": [
    {
     "data": {
      "text/html": [
       "<div>\n",
       "<style scoped>\n",
       "    .dataframe tbody tr th:only-of-type {\n",
       "        vertical-align: middle;\n",
       "    }\n",
       "\n",
       "    .dataframe tbody tr th {\n",
       "        vertical-align: top;\n",
       "    }\n",
       "\n",
       "    .dataframe thead th {\n",
       "        text-align: right;\n",
       "    }\n",
       "</style>\n",
       "<table border=\"1\" class=\"dataframe\">\n",
       "  <thead>\n",
       "    <tr style=\"text-align: right;\">\n",
       "      <th></th>\n",
       "      <th>Unnamed: 0</th>\n",
       "      <th>Número Licitação</th>\n",
       "      <th>Código UG</th>\n",
       "      <th>Nome UG</th>\n",
       "      <th>Código Modalidade Compra</th>\n",
       "      <th>Modalidade Compra</th>\n",
       "      <th>Número Processo</th>\n",
       "      <th>Objeto</th>\n",
       "      <th>Situação Licitação</th>\n",
       "      <th>Código Órgão Superior</th>\n",
       "      <th>Nome Órgão Superior</th>\n",
       "      <th>Código Órgão</th>\n",
       "      <th>Nome Órgão</th>\n",
       "      <th>Município</th>\n",
       "      <th>Data Resultado Compra</th>\n",
       "      <th>Data Abertura</th>\n",
       "      <th>Total</th>\n",
       "      <th>Tipo</th>\n",
       "      <th>Tag</th>\n",
       "    </tr>\n",
       "  </thead>\n",
       "  <tbody>\n",
       "    <tr>\n",
       "      <th>0</th>\n",
       "      <td>18</td>\n",
       "      <td>12018</td>\n",
       "      <td>120630</td>\n",
       "      <td>BASE AEREA DE DE MANAUS</td>\n",
       "      <td>3</td>\n",
       "      <td>Concorrência</td>\n",
       "      <td>67290015424201435</td>\n",
       "      <td>Objeto: Contratação de empresa de engenharia e...</td>\n",
       "      <td>Evento de Resultado de Julgame</td>\n",
       "      <td>52000</td>\n",
       "      <td>Ministério da Defesa</td>\n",
       "      <td>52111</td>\n",
       "      <td>Comando da Aeronáutica</td>\n",
       "      <td>MANAUS</td>\n",
       "      <td>19/07/2018</td>\n",
       "      <td>NaN</td>\n",
       "      <td>1063307.91</td>\n",
       "      <td>Obras</td>\n",
       "      <td>0</td>\n",
       "    </tr>\n",
       "    <tr>\n",
       "      <th>1</th>\n",
       "      <td>38</td>\n",
       "      <td>12018</td>\n",
       "      <td>153015</td>\n",
       "      <td>CENTRO FEDERAL DE EDUCACAO TECNOLOGICA DE MG</td>\n",
       "      <td>3</td>\n",
       "      <td>Concorrência</td>\n",
       "      <td>23062002056/18-26</td>\n",
       "      <td>Objeto: A presente Licitação tem como objeto a...</td>\n",
       "      <td>Evento de Resultado de Julgame</td>\n",
       "      <td>26000</td>\n",
       "      <td>Ministério da Educação</td>\n",
       "      <td>26257</td>\n",
       "      <td>Centro Federal de Educação Tecnológica de Min</td>\n",
       "      <td>BELO HORIZONTE</td>\n",
       "      <td>19/07/2018</td>\n",
       "      <td>NaN</td>\n",
       "      <td>689750.64</td>\n",
       "      <td>Obras</td>\n",
       "      <td>0</td>\n",
       "    </tr>\n",
       "    <tr>\n",
       "      <th>2</th>\n",
       "      <td>41</td>\n",
       "      <td>12018</td>\n",
       "      <td>153036</td>\n",
       "      <td>UNIVERSIDADE FED.VALES JEQUITINHONHA E MUCURI</td>\n",
       "      <td>-99</td>\n",
       "      <td>Concorrência</td>\n",
       "      <td>23086000649201861</td>\n",
       "      <td>Objeto: Pregão Eletrônico -  Sistema de Regist...</td>\n",
       "      <td>Evento de Suspensão Publicado</td>\n",
       "      <td>26000</td>\n",
       "      <td>Ministério da Educação</td>\n",
       "      <td>26255</td>\n",
       "      <td>Universidade Federal dos Vales do Jequitinhon</td>\n",
       "      <td>DIAMANTINA</td>\n",
       "      <td>12/07/2018</td>\n",
       "      <td>19/06/2018</td>\n",
       "      <td>714.57</td>\n",
       "      <td>Obras</td>\n",
       "      <td>0</td>\n",
       "    </tr>\n",
       "    <tr>\n",
       "      <th>3</th>\n",
       "      <td>120</td>\n",
       "      <td>12018</td>\n",
       "      <td>160141</td>\n",
       "      <td>COMISSAO REGIONAL DE OBRAS DA 9ª RM</td>\n",
       "      <td>3</td>\n",
       "      <td>Concorrência</td>\n",
       "      <td>65328001557201858</td>\n",
       "      <td>Objeto: OBRA DE CONSTRUÇÃO DO PAVILHÃO COMPANH...</td>\n",
       "      <td>Evento de Resultado de Julgame</td>\n",
       "      <td>52000</td>\n",
       "      <td>Ministério da Defesa</td>\n",
       "      <td>52121</td>\n",
       "      <td>Comando do Exército</td>\n",
       "      <td>CAMPO GRANDE</td>\n",
       "      <td>23/07/2018</td>\n",
       "      <td>NaN</td>\n",
       "      <td>3241361.87</td>\n",
       "      <td>Obras</td>\n",
       "      <td>0</td>\n",
       "    </tr>\n",
       "    <tr>\n",
       "      <th>4</th>\n",
       "      <td>184</td>\n",
       "      <td>12018</td>\n",
       "      <td>200130</td>\n",
       "      <td>SUPERINTENDENCIA REG. POL. RODV. FEDERAL-SE</td>\n",
       "      <td>3</td>\n",
       "      <td>Concorrência</td>\n",
       "      <td>08672001011/2017-</td>\n",
       "      <td>Objeto: Contratação de empresa de engenharia p...</td>\n",
       "      <td>Evento de Alteração Publicado</td>\n",
       "      <td>30000</td>\n",
       "      <td>Ministério da Justiça e Segurança Pública</td>\n",
       "      <td>30802</td>\n",
       "      <td>Departamento de Polícia Rodoviária Federal</td>\n",
       "      <td>ARACAJU</td>\n",
       "      <td>18/07/2018</td>\n",
       "      <td>NaN</td>\n",
       "      <td>3222277.60</td>\n",
       "      <td>Obras</td>\n",
       "      <td>0</td>\n",
       "    </tr>\n",
       "  </tbody>\n",
       "</table>\n",
       "</div>"
      ],
      "text/plain": [
       "   Unnamed: 0  Número Licitação  Código UG  \\\n",
       "0          18             12018     120630   \n",
       "1          38             12018     153015   \n",
       "2          41             12018     153036   \n",
       "3         120             12018     160141   \n",
       "4         184             12018     200130   \n",
       "\n",
       "                                         Nome UG  Código Modalidade Compra  \\\n",
       "0                        BASE AEREA DE DE MANAUS                         3   \n",
       "1   CENTRO FEDERAL DE EDUCACAO TECNOLOGICA DE MG                         3   \n",
       "2  UNIVERSIDADE FED.VALES JEQUITINHONHA E MUCURI                       -99   \n",
       "3            COMISSAO REGIONAL DE OBRAS DA 9ª RM                         3   \n",
       "4    SUPERINTENDENCIA REG. POL. RODV. FEDERAL-SE                         3   \n",
       "\n",
       "  Modalidade Compra    Número Processo  \\\n",
       "0      Concorrência  67290015424201435   \n",
       "1      Concorrência  23062002056/18-26   \n",
       "2      Concorrência  23086000649201861   \n",
       "3      Concorrência  65328001557201858   \n",
       "4      Concorrência  08672001011/2017-   \n",
       "\n",
       "                                              Objeto  \\\n",
       "0  Objeto: Contratação de empresa de engenharia e...   \n",
       "1  Objeto: A presente Licitação tem como objeto a...   \n",
       "2  Objeto: Pregão Eletrônico -  Sistema de Regist...   \n",
       "3  Objeto: OBRA DE CONSTRUÇÃO DO PAVILHÃO COMPANH...   \n",
       "4  Objeto: Contratação de empresa de engenharia p...   \n",
       "\n",
       "               Situação Licitação  Código Órgão Superior  \\\n",
       "0  Evento de Resultado de Julgame                  52000   \n",
       "1  Evento de Resultado de Julgame                  26000   \n",
       "2   Evento de Suspensão Publicado                  26000   \n",
       "3  Evento de Resultado de Julgame                  52000   \n",
       "4   Evento de Alteração Publicado                  30000   \n",
       "\n",
       "                         Nome Órgão Superior  Código Órgão  \\\n",
       "0                       Ministério da Defesa         52111   \n",
       "1                     Ministério da Educação         26257   \n",
       "2                     Ministério da Educação         26255   \n",
       "3                       Ministério da Defesa         52121   \n",
       "4  Ministério da Justiça e Segurança Pública         30802   \n",
       "\n",
       "                                      Nome Órgão       Município  \\\n",
       "0                         Comando da Aeronáutica          MANAUS   \n",
       "1  Centro Federal de Educação Tecnológica de Min  BELO HORIZONTE   \n",
       "2  Universidade Federal dos Vales do Jequitinhon      DIAMANTINA   \n",
       "3                            Comando do Exército    CAMPO GRANDE   \n",
       "4     Departamento de Polícia Rodoviária Federal         ARACAJU   \n",
       "\n",
       "  Data Resultado Compra Data Abertura       Total   Tipo  Tag  \n",
       "0            19/07/2018           NaN  1063307.91  Obras    0  \n",
       "1            19/07/2018           NaN   689750.64  Obras    0  \n",
       "2            12/07/2018    19/06/2018      714.57  Obras    0  \n",
       "3            23/07/2018           NaN  3241361.87  Obras    0  \n",
       "4            18/07/2018           NaN  3222277.60  Obras    0  "
      ]
     },
     "execution_count": 135,
     "metadata": {},
     "output_type": "execute_result"
    }
   ],
   "source": [
    "lic.head()"
   ]
  },
  {
   "cell_type": "code",
   "execution_count": 155,
   "id": "20abecb1",
   "metadata": {},
   "outputs": [
    {
     "data": {
      "text/plain": [
       "Unnamed: 0                    int64\n",
       "Número Licitação              int64\n",
       "Código UG                     int64\n",
       "Nome UG                      object\n",
       "Código Modalidade Compra      int64\n",
       "Modalidade Compra            object\n",
       "Número Processo              object\n",
       "Objeto                       object\n",
       "Situação Licitação           object\n",
       "Código Órgão Superior         int64\n",
       "Nome Órgão Superior          object\n",
       "Código Órgão                  int64\n",
       "Nome Órgão                   object\n",
       "Município                    object\n",
       "Data Resultado Compra        object\n",
       "Data Abertura                object\n",
       "Total                       float64\n",
       "Tipo                         object\n",
       "Tag                           int64\n",
       "dtype: object"
      ]
     },
     "execution_count": 155,
     "metadata": {},
     "output_type": "execute_result"
    }
   ],
   "source": [
    "lic.dtypes"
   ]
  },
  {
   "cell_type": "code",
   "execution_count": 136,
   "id": "d815205f",
   "metadata": {},
   "outputs": [
    {
     "data": {
      "text/plain": [
       "(500206, 19)"
      ]
     },
     "execution_count": 136,
     "metadata": {},
     "output_type": "execute_result"
    }
   ],
   "source": [
    "lic.shape"
   ]
  },
  {
   "cell_type": "code",
   "execution_count": 137,
   "id": "25151afd",
   "metadata": {
    "scrolled": false
   },
   "outputs": [
    {
     "data": {
      "text/html": [
       "<div>\n",
       "<style scoped>\n",
       "    .dataframe tbody tr th:only-of-type {\n",
       "        vertical-align: middle;\n",
       "    }\n",
       "\n",
       "    .dataframe tbody tr th {\n",
       "        vertical-align: top;\n",
       "    }\n",
       "\n",
       "    .dataframe thead th {\n",
       "        text-align: right;\n",
       "    }\n",
       "</style>\n",
       "<table border=\"1\" class=\"dataframe\">\n",
       "  <thead>\n",
       "    <tr style=\"text-align: right;\">\n",
       "      <th></th>\n",
       "      <th>Unnamed: 0</th>\n",
       "      <th>Número Licitação</th>\n",
       "      <th>Código UG</th>\n",
       "      <th>Código Modalidade Compra</th>\n",
       "      <th>Código Órgão Superior</th>\n",
       "      <th>Código Órgão</th>\n",
       "      <th>Total</th>\n",
       "      <th>Tag</th>\n",
       "    </tr>\n",
       "  </thead>\n",
       "  <tbody>\n",
       "    <tr>\n",
       "      <th>count</th>\n",
       "      <td>500206.000000</td>\n",
       "      <td>5.002060e+05</td>\n",
       "      <td>500206.000000</td>\n",
       "      <td>500206.000000</td>\n",
       "      <td>500206.000000</td>\n",
       "      <td>500206.000000</td>\n",
       "      <td>5.002060e+05</td>\n",
       "      <td>500206.000000</td>\n",
       "    </tr>\n",
       "    <tr>\n",
       "      <th>mean</th>\n",
       "      <td>69846.899913</td>\n",
       "      <td>1.284118e+07</td>\n",
       "      <td>279385.727084</td>\n",
       "      <td>-7.458865</td>\n",
       "      <td>41135.645126</td>\n",
       "      <td>41351.140882</td>\n",
       "      <td>7.590683e+06</td>\n",
       "      <td>0.812465</td>\n",
       "    </tr>\n",
       "    <tr>\n",
       "      <th>std</th>\n",
       "      <td>45445.854933</td>\n",
       "      <td>7.973631e+07</td>\n",
       "      <td>249616.928027</td>\n",
       "      <td>35.095535</td>\n",
       "      <td>18751.855892</td>\n",
       "      <td>18814.904709</td>\n",
       "      <td>3.814194e+09</td>\n",
       "      <td>0.390341</td>\n",
       "    </tr>\n",
       "    <tr>\n",
       "      <th>min</th>\n",
       "      <td>0.000000</td>\n",
       "      <td>1.201300e+04</td>\n",
       "      <td>30100.000000</td>\n",
       "      <td>-99.000000</td>\n",
       "      <td>3000.000000</td>\n",
       "      <td>3000.000000</td>\n",
       "      <td>0.000000e+00</td>\n",
       "      <td>0.000000</td>\n",
       "    </tr>\n",
       "    <tr>\n",
       "      <th>25%</th>\n",
       "      <td>31262.250000</td>\n",
       "      <td>1.220210e+05</td>\n",
       "      <td>154043.000000</td>\n",
       "      <td>6.000000</td>\n",
       "      <td>26000.000000</td>\n",
       "      <td>26256.000000</td>\n",
       "      <td>1.088640e+03</td>\n",
       "      <td>1.000000</td>\n",
       "    </tr>\n",
       "    <tr>\n",
       "      <th>50%</th>\n",
       "      <td>63200.000000</td>\n",
       "      <td>4.020180e+05</td>\n",
       "      <td>160223.000000</td>\n",
       "      <td>6.000000</td>\n",
       "      <td>36000.000000</td>\n",
       "      <td>36201.000000</td>\n",
       "      <td>4.090000e+03</td>\n",
       "      <td>1.000000</td>\n",
       "    </tr>\n",
       "    <tr>\n",
       "      <th>75%</th>\n",
       "      <td>104884.000000</td>\n",
       "      <td>1.102019e+06</td>\n",
       "      <td>250022.000000</td>\n",
       "      <td>6.000000</td>\n",
       "      <td>52000.000000</td>\n",
       "      <td>52121.000000</td>\n",
       "      <td>1.650000e+04</td>\n",
       "      <td>1.000000</td>\n",
       "    </tr>\n",
       "    <tr>\n",
       "      <th>max</th>\n",
       "      <td>169395.000000</td>\n",
       "      <td>9.999920e+08</td>\n",
       "      <td>996612.000000</td>\n",
       "      <td>20.000000</td>\n",
       "      <td>99900.000000</td>\n",
       "      <td>97400.000000</td>\n",
       "      <td>2.434320e+12</td>\n",
       "      <td>1.000000</td>\n",
       "    </tr>\n",
       "  </tbody>\n",
       "</table>\n",
       "</div>"
      ],
      "text/plain": [
       "          Unnamed: 0  Número Licitação      Código UG  \\\n",
       "count  500206.000000      5.002060e+05  500206.000000   \n",
       "mean    69846.899913      1.284118e+07  279385.727084   \n",
       "std     45445.854933      7.973631e+07  249616.928027   \n",
       "min         0.000000      1.201300e+04   30100.000000   \n",
       "25%     31262.250000      1.220210e+05  154043.000000   \n",
       "50%     63200.000000      4.020180e+05  160223.000000   \n",
       "75%    104884.000000      1.102019e+06  250022.000000   \n",
       "max    169395.000000      9.999920e+08  996612.000000   \n",
       "\n",
       "       Código Modalidade Compra  Código Órgão Superior   Código Órgão  \\\n",
       "count             500206.000000          500206.000000  500206.000000   \n",
       "mean                  -7.458865           41135.645126   41351.140882   \n",
       "std                   35.095535           18751.855892   18814.904709   \n",
       "min                  -99.000000            3000.000000    3000.000000   \n",
       "25%                    6.000000           26000.000000   26256.000000   \n",
       "50%                    6.000000           36000.000000   36201.000000   \n",
       "75%                    6.000000           52000.000000   52121.000000   \n",
       "max                   20.000000           99900.000000   97400.000000   \n",
       "\n",
       "              Total            Tag  \n",
       "count  5.002060e+05  500206.000000  \n",
       "mean   7.590683e+06       0.812465  \n",
       "std    3.814194e+09       0.390341  \n",
       "min    0.000000e+00       0.000000  \n",
       "25%    1.088640e+03       1.000000  \n",
       "50%    4.090000e+03       1.000000  \n",
       "75%    1.650000e+04       1.000000  \n",
       "max    2.434320e+12       1.000000  "
      ]
     },
     "execution_count": 137,
     "metadata": {},
     "output_type": "execute_result"
    }
   ],
   "source": [
    "lic.describe()"
   ]
  },
  {
   "cell_type": "code",
   "execution_count": 138,
   "id": "5df7a670",
   "metadata": {},
   "outputs": [
    {
     "name": "stdout",
     "output_type": "stream",
     "text": [
      "Valor máximo:  2434320000000.0\n",
      "Valor médio:  7590682.805923869\n",
      "O valor máximo é  320698.42229479336  vezes maior que a média\n"
     ]
    }
   ],
   "source": [
    "print(\"Valor máximo: \",lic.Total.max())\n",
    "print(\"Valor médio: \",lic.Total.mean())\n",
    "x = lic.Total.max()/lic.Total.mean()\n",
    "print(\"O valor máximo é \",x,\" vezes maior que a média\")"
   ]
  },
  {
   "cell_type": "code",
   "execution_count": 139,
   "id": "0ce9af3d",
   "metadata": {},
   "outputs": [
    {
     "data": {
      "text/plain": [
       "Compras/Servicos    485014\n",
       "Obras                15192\n",
       "Name: Tipo, dtype: int64"
      ]
     },
     "execution_count": 139,
     "metadata": {},
     "output_type": "execute_result"
    }
   ],
   "source": [
    "lic['Tipo'].value_counts()"
   ]
  },
  {
   "cell_type": "code",
   "execution_count": 140,
   "id": "d76bd94d",
   "metadata": {},
   "outputs": [
    {
     "data": {
      "text/plain": [
       "1    406400\n",
       "0     93806\n",
       "Name: Tag, dtype: int64"
      ]
     },
     "execution_count": 140,
     "metadata": {},
     "output_type": "execute_result"
    }
   ],
   "source": [
    "lic['Tag'].value_counts()"
   ]
  },
  {
   "cell_type": "code",
   "execution_count": 172,
   "id": "b5ddf5cf",
   "metadata": {},
   "outputs": [
    {
     "data": {
      "text/plain": [
       "<AxesSubplot:>"
      ]
     },
     "execution_count": 172,
     "metadata": {},
     "output_type": "execute_result"
    },
    {
     "data": {
      "image/png": "[encoded data removed]",
      "text/plain": [
       "<Figure size 432x288 with 1 Axes>"
      ]
     },
     "metadata": {
      "needs_background": "light"
     },
     "output_type": "display_data"
    }
   ],
   "source": [
    "lic.Tag.hist()"
   ]
  },
  {
   "cell_type": "code",
   "execution_count": 141,
   "id": "d791490c",
   "metadata": {},
   "outputs": [
    {
     "data": {
      "text/html": [
       "<div>\n",
       "<style scoped>\n",
       "    .dataframe tbody tr th:only-of-type {\n",
       "        vertical-align: middle;\n",
       "    }\n",
       "\n",
       "    .dataframe tbody tr th {\n",
       "        vertical-align: top;\n",
       "    }\n",
       "\n",
       "    .dataframe thead th {\n",
       "        text-align: right;\n",
       "    }\n",
       "</style>\n",
       "<table border=\"1\" class=\"dataframe\">\n",
       "  <thead>\n",
       "    <tr style=\"text-align: right;\">\n",
       "      <th></th>\n",
       "      <th>Unnamed: 0</th>\n",
       "      <th>Número Licitação</th>\n",
       "      <th>Código UG</th>\n",
       "      <th>Nome UG</th>\n",
       "      <th>Código Modalidade Compra</th>\n",
       "      <th>Modalidade Compra</th>\n",
       "      <th>Número Processo</th>\n",
       "      <th>Objeto</th>\n",
       "      <th>Situação Licitação</th>\n",
       "      <th>Código Órgão Superior</th>\n",
       "      <th>Nome Órgão Superior</th>\n",
       "      <th>Código Órgão</th>\n",
       "      <th>Nome Órgão</th>\n",
       "      <th>Município</th>\n",
       "      <th>Data Resultado Compra</th>\n",
       "      <th>Data Abertura</th>\n",
       "      <th>Total</th>\n",
       "      <th>Tipo</th>\n",
       "      <th>Tag</th>\n",
       "    </tr>\n",
       "  </thead>\n",
       "  <tbody>\n",
       "    <tr>\n",
       "      <th>302054</th>\n",
       "      <td>148463</td>\n",
       "      <td>922020</td>\n",
       "      <td>113202</td>\n",
       "      <td>COMISSAO NACIONAL DE ENERGIA NUCLEAR-IPEN</td>\n",
       "      <td>-99</td>\n",
       "      <td>Concorrência</td>\n",
       "      <td>01342005212202027</td>\n",
       "      <td>Objeto: Pregão Eletrônico -  Eventual aquisiçã...</td>\n",
       "      <td>Publicado</td>\n",
       "      <td>24000</td>\n",
       "      <td>Ministério da Ciência, Tecnologia, Inovações</td>\n",
       "      <td>20301</td>\n",
       "      <td>Comissão Nacional de Energia Nuclear</td>\n",
       "      <td>SAO PAULO</td>\n",
       "      <td>28/12/2020</td>\n",
       "      <td>16/12/2020</td>\n",
       "      <td>2.434320e+12</td>\n",
       "      <td>Compras/Servicos</td>\n",
       "      <td>1</td>\n",
       "    </tr>\n",
       "    <tr>\n",
       "      <th>441663</th>\n",
       "      <td>8093</td>\n",
       "      <td>222020</td>\n",
       "      <td>200331</td>\n",
       "      <td>FUNDO NACIONAL DE SEGURANCA PUBLICA - FNSP</td>\n",
       "      <td>-99</td>\n",
       "      <td>Concorrência</td>\n",
       "      <td>08020.008738/2019</td>\n",
       "      <td>Objeto: Pregão Eletrônico -  Aquisição de Sist...</td>\n",
       "      <td>Evento de Resultado de Julgame</td>\n",
       "      <td>30000</td>\n",
       "      <td>Ministério da Justiça e Segurança Pública</td>\n",
       "      <td>30911</td>\n",
       "      <td>Fundo Nacional de Segurança Pública</td>\n",
       "      <td>BRASILIA</td>\n",
       "      <td>22/02/2021</td>\n",
       "      <td>16/10/2020</td>\n",
       "      <td>1.162150e+12</td>\n",
       "      <td>Compras/Servicos</td>\n",
       "      <td>1</td>\n",
       "    </tr>\n",
       "  </tbody>\n",
       "</table>\n",
       "</div>"
      ],
      "text/plain": [
       "        Unnamed: 0  Número Licitação  Código UG  \\\n",
       "302054      148463            922020     113202   \n",
       "441663        8093            222020     200331   \n",
       "\n",
       "                                           Nome UG  Código Modalidade Compra  \\\n",
       "302054   COMISSAO NACIONAL DE ENERGIA NUCLEAR-IPEN                       -99   \n",
       "441663  FUNDO NACIONAL DE SEGURANCA PUBLICA - FNSP                       -99   \n",
       "\n",
       "       Modalidade Compra    Número Processo  \\\n",
       "302054      Concorrência  01342005212202027   \n",
       "441663      Concorrência  08020.008738/2019   \n",
       "\n",
       "                                                   Objeto  \\\n",
       "302054  Objeto: Pregão Eletrônico -  Eventual aquisiçã...   \n",
       "441663  Objeto: Pregão Eletrônico -  Aquisição de Sist...   \n",
       "\n",
       "                    Situação Licitação  Código Órgão Superior  \\\n",
       "302054                       Publicado                  24000   \n",
       "441663  Evento de Resultado de Julgame                  30000   \n",
       "\n",
       "                                  Nome Órgão Superior  Código Órgão  \\\n",
       "302054  Ministério da Ciência, Tecnologia, Inovações          20301   \n",
       "441663      Ministério da Justiça e Segurança Pública         30911   \n",
       "\n",
       "                                  Nome Órgão  Município Data Resultado Compra  \\\n",
       "302054  Comissão Nacional de Energia Nuclear  SAO PAULO            28/12/2020   \n",
       "441663   Fundo Nacional de Segurança Pública   BRASILIA            22/02/2021   \n",
       "\n",
       "       Data Abertura         Total              Tipo  Tag  \n",
       "302054    16/12/2020  2.434320e+12  Compras/Servicos    1  \n",
       "441663    16/10/2020  1.162150e+12  Compras/Servicos    1  "
      ]
     },
     "execution_count": 141,
     "metadata": {},
     "output_type": "execute_result"
    }
   ],
   "source": [
    "#printando os maiores valores\n",
    "lic[lic.Total >= 0.1*lic.Total.max()]"
   ]
  },
  {
   "cell_type": "code",
   "execution_count": 142,
   "id": "e87b02ad",
   "metadata": {},
   "outputs": [
    {
     "data": {
      "text/plain": [
       "<AxesSubplot:>"
      ]
     },
     "execution_count": 142,
     "metadata": {},
     "output_type": "execute_result"
    },
    {
     "data": {
      "image/png": "[encoded data removed]",
      "text/plain": [
       "<Figure size 432x288 with 1 Axes>"
      ]
     },
     "metadata": {
      "needs_background": "light"
     },
     "output_type": "display_data"
    }
   ],
   "source": [
    "lic.boxplot(column=[\"Total\"])"
   ]
  },
  {
   "cell_type": "code",
   "execution_count": 170,
   "id": "c2912454",
   "metadata": {},
   "outputs": [
    {
     "data": {
      "text/plain": [
       "<AxesSubplot:>"
      ]
     },
     "execution_count": 170,
     "metadata": {},
     "output_type": "execute_result"
    },
    {
     "data": {
      "image/png": "[encoded data removed]",
      "text/plain": [
       "<Figure size 432x288 with 1 Axes>"
      ]
     },
     "metadata": {
      "needs_background": "light"
     },
     "output_type": "display_data"
    }
   ],
   "source": [
    "lic[\"Modalidade Compra\"].hist(xrot=45)"
   ]
  },
  {
   "cell_type": "code",
   "execution_count": 143,
   "id": "63c40079",
   "metadata": {},
   "outputs": [],
   "source": [
    "lic_1 = lic[lic.Tag == 1]\n",
    "lic_0 = lic[lic.Tag == 0]"
   ]
  },
  {
   "cell_type": "code",
   "execution_count": 173,
   "id": "7296bb00",
   "metadata": {},
   "outputs": [
    {
     "name": "stdout",
     "output_type": "stream",
     "text": [
      "Número total de processos licitaótios analisados 428814 \n",
      "\n",
      "Número de processos licitatórios ilegais 87763\n",
      "Representa  20.466449323016505 % do número total de processos\n"
     ]
    }
   ],
   "source": [
    "#número total de processos licitaótios analisados\n",
    "print(\"Número total de processos licitaótios analisados\", lic[\"Número Processo\"].nunique(),\"\\n\")\n",
    "\n",
    "x = (lic_0[\"Número Processo\"].nunique()/lic[\"Número Processo\"].nunique())*100\n",
    "\n",
    "#núemro de processos licitatórios ilegais\n",
    "print(\"Número de processos licitatórios ilegais\", lic_0[\"Número Processo\"].nunique())\n",
    "print(\"Representa \",x,\"% do número total de processos\")"
   ]
  },
  {
   "cell_type": "code",
   "execution_count": 145,
   "id": "48d4db4b",
   "metadata": {},
   "outputs": [
    {
     "name": "stdout",
     "output_type": "stream",
     "text": [
      "valor gasto em licitações ilegais 55533737743.61\n",
      "Represnta  1.4626053725489956 % do total gasto\n"
     ]
    }
   ],
   "source": [
    "#valor gasto em licitações ilegais\n",
    "print(\"valor gasto em licitações ilegais\", lic_0.Total.sum())\n",
    "x = (lic_0.Total.sum()/lic.Total.sum())*100\n",
    "print(\"Represnta \",x,\"% do total gasto\")"
   ]
  },
  {
   "cell_type": "code",
   "execution_count": 146,
   "id": "2de1341a",
   "metadata": {},
   "outputs": [
    {
     "data": {
      "text/html": [
       "<div>\n",
       "<style scoped>\n",
       "    .dataframe tbody tr th:only-of-type {\n",
       "        vertical-align: middle;\n",
       "    }\n",
       "\n",
       "    .dataframe tbody tr th {\n",
       "        vertical-align: top;\n",
       "    }\n",
       "\n",
       "    .dataframe thead th {\n",
       "        text-align: right;\n",
       "    }\n",
       "</style>\n",
       "<table border=\"1\" class=\"dataframe\">\n",
       "  <thead>\n",
       "    <tr style=\"text-align: right;\">\n",
       "      <th></th>\n",
       "      <th>Unnamed: 0</th>\n",
       "      <th>Número Licitação</th>\n",
       "      <th>Código UG</th>\n",
       "      <th>Código Modalidade Compra</th>\n",
       "      <th>Código Órgão Superior</th>\n",
       "      <th>Código Órgão</th>\n",
       "      <th>Total</th>\n",
       "      <th>Tag</th>\n",
       "    </tr>\n",
       "  </thead>\n",
       "  <tbody>\n",
       "    <tr>\n",
       "      <th>count</th>\n",
       "      <td>93806.000000</td>\n",
       "      <td>9.380600e+04</td>\n",
       "      <td>93806.000000</td>\n",
       "      <td>93806.000000</td>\n",
       "      <td>93806.000000</td>\n",
       "      <td>93806.000000</td>\n",
       "      <td>9.380600e+04</td>\n",
       "      <td>93806.0</td>\n",
       "    </tr>\n",
       "    <tr>\n",
       "      <th>mean</th>\n",
       "      <td>68228.302273</td>\n",
       "      <td>7.653077e+06</td>\n",
       "      <td>302383.893376</td>\n",
       "      <td>-64.269332</td>\n",
       "      <td>43183.122679</td>\n",
       "      <td>42943.731126</td>\n",
       "      <td>5.920062e+05</td>\n",
       "      <td>0.0</td>\n",
       "    </tr>\n",
       "    <tr>\n",
       "      <th>std</th>\n",
       "      <td>46481.824430</td>\n",
       "      <td>6.217457e+07</td>\n",
       "      <td>279446.545443</td>\n",
       "      <td>49.353960</td>\n",
       "      <td>23510.384418</td>\n",
       "      <td>22445.033180</td>\n",
       "      <td>1.367321e+07</td>\n",
       "      <td>0.0</td>\n",
       "    </tr>\n",
       "    <tr>\n",
       "      <th>min</th>\n",
       "      <td>0.000000</td>\n",
       "      <td>1.201600e+04</td>\n",
       "      <td>80019.000000</td>\n",
       "      <td>-99.000000</td>\n",
       "      <td>11111.000000</td>\n",
       "      <td>11111.000000</td>\n",
       "      <td>0.000000e+00</td>\n",
       "      <td>0.0</td>\n",
       "    </tr>\n",
       "    <tr>\n",
       "      <th>25%</th>\n",
       "      <td>28293.750000</td>\n",
       "      <td>9.201900e+04</td>\n",
       "      <td>154035.000000</td>\n",
       "      <td>-99.000000</td>\n",
       "      <td>26000.000000</td>\n",
       "      <td>26271.000000</td>\n",
       "      <td>1.417575e+03</td>\n",
       "      <td>0.0</td>\n",
       "    </tr>\n",
       "    <tr>\n",
       "      <th>50%</th>\n",
       "      <td>59087.000000</td>\n",
       "      <td>2.720180e+05</td>\n",
       "      <td>160062.000000</td>\n",
       "      <td>-99.000000</td>\n",
       "      <td>36000.000000</td>\n",
       "      <td>36000.000000</td>\n",
       "      <td>2.150000e+04</td>\n",
       "      <td>0.0</td>\n",
       "    </tr>\n",
       "    <tr>\n",
       "      <th>75%</th>\n",
       "      <td>104340.500000</td>\n",
       "      <td>7.620200e+05</td>\n",
       "      <td>254445.000000</td>\n",
       "      <td>6.000000</td>\n",
       "      <td>52000.000000</td>\n",
       "      <td>52121.000000</td>\n",
       "      <td>7.500000e+04</td>\n",
       "      <td>0.0</td>\n",
       "    </tr>\n",
       "    <tr>\n",
       "      <th>max</th>\n",
       "      <td>169390.000000</td>\n",
       "      <td>9.972420e+08</td>\n",
       "      <td>935100.000000</td>\n",
       "      <td>6.000000</td>\n",
       "      <td>99900.000000</td>\n",
       "      <td>97400.000000</td>\n",
       "      <td>1.549004e+09</td>\n",
       "      <td>0.0</td>\n",
       "    </tr>\n",
       "  </tbody>\n",
       "</table>\n",
       "</div>"
      ],
      "text/plain": [
       "          Unnamed: 0  Número Licitação      Código UG  \\\n",
       "count   93806.000000      9.380600e+04   93806.000000   \n",
       "mean    68228.302273      7.653077e+06  302383.893376   \n",
       "std     46481.824430      6.217457e+07  279446.545443   \n",
       "min         0.000000      1.201600e+04   80019.000000   \n",
       "25%     28293.750000      9.201900e+04  154035.000000   \n",
       "50%     59087.000000      2.720180e+05  160062.000000   \n",
       "75%    104340.500000      7.620200e+05  254445.000000   \n",
       "max    169390.000000      9.972420e+08  935100.000000   \n",
       "\n",
       "       Código Modalidade Compra  Código Órgão Superior  Código Órgão  \\\n",
       "count              93806.000000           93806.000000  93806.000000   \n",
       "mean                 -64.269332           43183.122679  42943.731126   \n",
       "std                   49.353960           23510.384418  22445.033180   \n",
       "min                  -99.000000           11111.000000  11111.000000   \n",
       "25%                  -99.000000           26000.000000  26271.000000   \n",
       "50%                  -99.000000           36000.000000  36000.000000   \n",
       "75%                    6.000000           52000.000000  52121.000000   \n",
       "max                    6.000000           99900.000000  97400.000000   \n",
       "\n",
       "              Total      Tag  \n",
       "count  9.380600e+04  93806.0  \n",
       "mean   5.920062e+05      0.0  \n",
       "std    1.367321e+07      0.0  \n",
       "min    0.000000e+00      0.0  \n",
       "25%    1.417575e+03      0.0  \n",
       "50%    2.150000e+04      0.0  \n",
       "75%    7.500000e+04      0.0  \n",
       "max    1.549004e+09      0.0  "
      ]
     },
     "execution_count": 146,
     "metadata": {},
     "output_type": "execute_result"
    }
   ],
   "source": [
    "lic_0.describe()"
   ]
  },
  {
   "cell_type": "code",
   "execution_count": 147,
   "id": "fbaecdf6",
   "metadata": {},
   "outputs": [
    {
     "name": "stdout",
     "output_type": "stream",
     "text": [
      "Número de licitações 25491\n",
      "Número de licitações ilegais 5827\n"
     ]
    }
   ],
   "source": [
    "print(\"Número de licitações\", lic[\"Número Licitação\"].nunique())\n",
    "print(\"Número de licitações ilegais\", lic_0[\"Número Licitação\"].nunique())"
   ]
  },
  {
   "cell_type": "code",
   "execution_count": 148,
   "id": "7a7f85af",
   "metadata": {},
   "outputs": [
    {
     "data": {
      "text/plain": [
       "Concorrência             63014\n",
       "Dispensa de Licitação    29932\n",
       "Tomada de Preços           795\n",
       "Convite                     65\n",
       "Name: Modalidade Compra, dtype: int64"
      ]
     },
     "execution_count": 148,
     "metadata": {},
     "output_type": "execute_result"
    }
   ],
   "source": [
    "#número de licitações ilegais por modalidade de compra\n",
    "lic_0['Modalidade Compra'].value_counts()"
   ]
  },
  {
   "cell_type": "code",
   "execution_count": 171,
   "id": "3d7cb825",
   "metadata": {},
   "outputs": [
    {
     "data": {
      "text/plain": [
       "<AxesSubplot:>"
      ]
     },
     "execution_count": 171,
     "metadata": {},
     "output_type": "execute_result"
    },
    {
     "data": {
      "image/png": "[encoded data removed]",
      "text/plain": [
       "<Figure size 432x288 with 1 Axes>"
      ]
     },
     "metadata": {
      "needs_background": "light"
     },
     "output_type": "display_data"
    }
   ],
   "source": [
    "lic_0[\"Modalidade Compra\"].hist(xrot=45)"
   ]
  },
  {
   "cell_type": "code",
   "execution_count": 149,
   "id": "a6d45fd6",
   "metadata": {},
   "outputs": [
    {
     "data": {
      "text/plain": [
       "Compras/Servicos    90950\n",
       "Obras                2856\n",
       "Name: Tipo, dtype: int64"
      ]
     },
     "execution_count": 149,
     "metadata": {},
     "output_type": "execute_result"
    }
   ],
   "source": [
    "lic_0['Tipo'].value_counts()"
   ]
  },
  {
   "cell_type": "code",
   "execution_count": 168,
   "id": "2ff4c8b2",
   "metadata": {},
   "outputs": [
    {
     "data": {
      "text/plain": [
       "<AxesSubplot:>"
      ]
     },
     "execution_count": 168,
     "metadata": {},
     "output_type": "execute_result"
    },
    {
     "data": {
      "image/png": "[encoded data removed]",
      "text/plain": [
       "<Figure size 432x288 with 1 Axes>"
      ]
     },
     "metadata": {
      "needs_background": "light"
     },
     "output_type": "display_data"
    }
   ],
   "source": [
    "lic_0.Tipo.hist()"
   ]
  },
  {
   "cell_type": "code",
   "execution_count": 150,
   "id": "40841fc3",
   "metadata": {},
   "outputs": [
    {
     "data": {
      "text/plain": [
       "82"
      ]
     },
     "execution_count": 150,
     "metadata": {},
     "output_type": "execute_result"
    }
   ],
   "source": [
    "lic_0['Nome Órgão Superior'].nunique()"
   ]
  },
  {
   "cell_type": "code",
   "execution_count": 163,
   "id": "275f138f",
   "metadata": {},
   "outputs": [
    {
     "data": {
      "text/plain": [
       "Compras/Servicos    485014\n",
       "Obras                15192\n",
       "Name: Tipo, dtype: int64"
      ]
     },
     "execution_count": 163,
     "metadata": {},
     "output_type": "execute_result"
    }
   ],
   "source": [
    "lic[\"Tipo\"].value_counts()"
   ]
  },
  {
   "cell_type": "code",
   "execution_count": 152,
   "id": "7af1f4f3",
   "metadata": {},
   "outputs": [],
   "source": [
    "lic.to_csv('lic_com_tag.csv')"
   ]
  }
 ],
 "metadata": {
  "kernelspec": {
   "display_name": "Python 3",
   "language": "python",
   "name": "python3"
  },
  "language_info": {
   "codemirror_mode": {
    "name": "ipython",
    "version": 3
   },
   "file_extension": ".py",
   "mimetype": "text/x-python",
   "name": "python",
   "nbconvert_exporter": "python",
   "pygments_lexer": "ipython3",
   "version": "3.8.8"
  }
 },
 "nbformat": 4,
 "nbformat_minor": 5
}
